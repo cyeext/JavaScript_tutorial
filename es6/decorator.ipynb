{
 "cells": [
  {
   "cell_type": "markdown",
   "id": "bf0e6b37",
   "metadata": {},
   "source": [
    "# 装饰器\n",
    "\n",
    "[说明] Decorator 提案经历了重大的语法变化，目前处于第三阶段，定案之前不知道是否还有变化。本章现在属于草稿阶段，凡是标注“新语法”的章节，都是基于当前的语法，不过没有详细整理，只是一些原始材料；未标注“新语法”的章节基于以前的语法，是过去遗留的稿子。之所以保留以前的内容，有两个原因，一是 TypeScript 装饰器会用到这些语法，二是里面包含不少有价值的内容。等到标准完全定案，本章将彻底重写：删去过时内容，补充材料，增加解释。（2022年6月）\n",
    "\n",
    "## 简介（新语法）\n",
    "\n",
    "装饰器（Decorator）用来增强 JavaScript 类（class）的功能，许多面向对象的语言都有这种语法，目前有一个[提案](https://github.com/tc39/proposal-decorators)将其引入了 ECMAScript。\n",
    "\n",
    "装饰器是一种函数，写成`@ + 函数名`，可以用来装饰四种类型的值。\n",
    "\n",
    "- 类\n",
    "- 类的属性\n",
    "- 类的方法\n",
    "- 属性存取器（accessor）\n",
    "\n",
    "下面的例子是装饰器放在类名和类方法名之前，大家可以感受一下写法。"
   ]
  },
  {
   "cell_type": "code",
   "execution_count": null,
   "id": "d0e4084c",
   "metadata": {
    "attributes": {
     "classes": [
      "javascript"
     ],
     "id": ""
    }
   },
   "outputs": [],
   "source": [
    "@frozen class Foo {\n",
    "  @configurable(false)\n",
    "  @enumerable(true)\n",
    "  method() {}\n",
    "\n",
    "  @throttle(500)\n",
    "  expensiveMethod() {}\n",
    "}"
   ]
  },
  {
   "cell_type": "markdown",
   "id": "74da812d",
   "metadata": {},
   "source": [
    "上面代码一共使用了四个装饰器，一个用在类本身（@frozen），另外三个用在类方法（@configurable()、@enumerable()、@throttle()）。它们不仅增加了代码的可读性，清晰地表达了意图，而且提供一种方便的手段，增加或修改类的功能。\n",
    "\n",
    "## 装饰器 API（新语法）\n",
    "\n",
    "装饰器是一个函数，API 的类型描述如下（TypeScript 写法）。"
   ]
  },
  {
   "cell_type": "code",
   "execution_count": null,
   "id": "86178c41",
   "metadata": {
    "attributes": {
     "classes": [
      "typescript"
     ],
     "id": ""
    }
   },
   "outputs": [],
   "source": [
    "type Decorator = (value: Input, context: {\n",
    "  kind: string;\n",
    "  name: string | symbol;\n",
    "  access: {\n",
    "    get?(): unknown;\n",
    "    set?(value: unknown): void;\n",
    "  };\n",
    "  private?: boolean;\n",
    "  static?: boolean;\n",
    "  addInitializer?(initializer: () => void): void;\n",
    "}) => Output | void;"
   ]
  },
  {
   "cell_type": "markdown",
   "id": "296f8d63",
   "metadata": {},
   "source": [
    "装饰器函数有两个参数。运行时，JavaScript 引擎会提供这两个参数。\n",
    "\n",
    "- `value`：所要装饰的值，某些情况下可能是`undefined`（装饰属性时）。\n",
    "- `context`：上下文信息对象。\n",
    "\n",
    "装饰器函数的返回值，是一个新版本的装饰对象，但也可以不返回任何值（void）。\n",
    "\n",
    "`context`对象有很多属性，其中`kind`属性表示属于哪一种装饰，其他属性的含义如下。\n",
    "\n",
    "- `kind`：字符串，表示装饰类型，可能的取值有`class`、`method`、`getter`、`setter`、`field`、`accessor`。\n",
    "- `name`：被装饰的值的名称: The name of the value, or in the case of private elements the description of it (e.g. the readable name).\n",
    "- `access`：对象，包含访问这个值的方法，即存值器和取值器。\n",
    "- `static`: 布尔值，该值是否为静态元素。\n",
    "- `private`：布尔值，该值是否为私有元素。\n",
    "- `addInitializer`：函数，允许用户增加初始化逻辑。\n",
    "\n",
    "装饰器的执行步骤如下。\n",
    "\n",
    "1. 计算各个装饰器的值，按照从左到右，从上到下的顺序。\n",
    "1. 调用方法装饰器。\n",
    "1. 调用类装饰器。\n",
    "\n",
    "## 类的装饰\n",
    "\n",
    "装饰器可以用来装饰整个类。"
   ]
  },
  {
   "cell_type": "code",
   "execution_count": null,
   "id": "79fc97ff",
   "metadata": {
    "attributes": {
     "classes": [
      "javascript"
     ],
     "id": ""
    }
   },
   "outputs": [],
   "source": [
    "@testable\n",
    "class MyTestableClass {\n",
    "  // ...\n",
    "}\n",
    "\n",
    "function testable(target) {\n",
    "  target.isTestable = true;\n",
    "}\n",
    "\n",
    "MyTestableClass.isTestable // true"
   ]
  },
  {
   "cell_type": "markdown",
   "id": "0e935191",
   "metadata": {},
   "source": [
    "上面代码中，`@testable`就是一个装饰器。它修改了`MyTestableClass`这个类的行为，为它加上了静态属性`isTestable`。`testable`函数的参数`target`是`MyTestableClass`类本身。\n",
    "\n",
    "基本上，装饰器的行为就是下面这样。"
   ]
  },
  {
   "cell_type": "code",
   "execution_count": null,
   "id": "30055f29",
   "metadata": {
    "attributes": {
     "classes": [
      "javascript"
     ],
     "id": ""
    }
   },
   "outputs": [],
   "source": [
    "@decorator\n",
    "class A {}\n",
    "\n",
    "// 等同于\n",
    "\n",
    "class A {}\n",
    "A = decorator(A) || A;"
   ]
  },
  {
   "cell_type": "markdown",
   "id": "8ab3a3e0",
   "metadata": {},
   "source": [
    "也就是说，装饰器是一个对类进行处理的函数。装饰器函数的第一个参数，就是所要装饰的目标类。"
   ]
  },
  {
   "cell_type": "code",
   "execution_count": null,
   "id": "43b7fb01",
   "metadata": {
    "attributes": {
     "classes": [
      "javascript"
     ],
     "id": ""
    }
   },
   "outputs": [],
   "source": [
    "function testable(target) {\n",
    "  // ...\n",
    "}"
   ]
  },
  {
   "cell_type": "markdown",
   "id": "65fdeda4",
   "metadata": {},
   "source": [
    "上面代码中，`testable`函数的参数`target`，就是会被装饰的类。\n",
    "\n",
    "如果觉得一个参数不够用，可以在装饰器外面再封装一层函数。"
   ]
  },
  {
   "cell_type": "code",
   "execution_count": null,
   "id": "d282ae1b",
   "metadata": {
    "attributes": {
     "classes": [
      "javascript"
     ],
     "id": ""
    }
   },
   "outputs": [],
   "source": [
    "function testable(isTestable) {\n",
    "  return function(target) {\n",
    "    target.isTestable = isTestable;\n",
    "  }\n",
    "}\n",
    "\n",
    "@testable(true)\n",
    "class MyTestableClass {}\n",
    "MyTestableClass.isTestable // true\n",
    "\n",
    "@testable(false)\n",
    "class MyClass {}\n",
    "MyClass.isTestable // false"
   ]
  },
  {
   "cell_type": "markdown",
   "id": "a841f90b",
   "metadata": {},
   "source": [
    "上面代码中，装饰器`testable`可以接受参数，这就等于可以修改装饰器的行为。\n",
    "\n",
    "注意，装饰器对类的行为的改变，是代码编译时发生的，而不是在运行时。这意味着，装饰器能在编译阶段运行代码。也就是说，装饰器本质就是编译时执行的函数。\n",
    "\n",
    "前面的例子是为类添加一个静态属性，如果想添加实例属性，可以通过目标类的`prototype`对象操作。"
   ]
  },
  {
   "cell_type": "code",
   "execution_count": null,
   "id": "3b0053a2",
   "metadata": {
    "attributes": {
     "classes": [
      "javascript"
     ],
     "id": ""
    }
   },
   "outputs": [],
   "source": [
    "function testable(target) {\n",
    "  target.prototype.isTestable = true;\n",
    "}\n",
    "\n",
    "@testable\n",
    "class MyTestableClass {}\n",
    "\n",
    "let obj = new MyTestableClass();\n",
    "obj.isTestable // true"
   ]
  },
  {
   "cell_type": "markdown",
   "id": "c8d8d3f3",
   "metadata": {},
   "source": [
    "上面代码中，装饰器函数`testable`是在目标类的`prototype`对象上添加属性，因此就可以在实例上调用。\n",
    "\n",
    "下面是另外一个例子。"
   ]
  },
  {
   "cell_type": "code",
   "execution_count": null,
   "id": "910fdc10",
   "metadata": {
    "attributes": {
     "classes": [
      "javascript"
     ],
     "id": ""
    }
   },
   "outputs": [],
   "source": [
    "// mixins.js\n",
    "export function mixins(...list) {\n",
    "  return function (target) {\n",
    "    Object.assign(target.prototype, ...list)\n",
    "  }\n",
    "}\n",
    "\n",
    "// main.js\n",
    "import { mixins } from './mixins.js'\n",
    "\n",
    "const Foo = {\n",
    "  foo() { console.log('foo') }\n",
    "};\n",
    "\n",
    "@mixins(Foo)\n",
    "class MyClass {}\n",
    "\n",
    "let obj = new MyClass();\n",
    "obj.foo() // 'foo'"
   ]
  },
  {
   "cell_type": "markdown",
   "id": "ed665ff6",
   "metadata": {},
   "source": [
    "上面代码通过装饰器`mixins`，把`Foo`对象的方法添加到了`MyClass`的实例上面。可以用`Object.assign()`模拟这个功能。"
   ]
  },
  {
   "cell_type": "code",
   "execution_count": null,
   "id": "e958f232",
   "metadata": {
    "attributes": {
     "classes": [
      "javascript"
     ],
     "id": ""
    }
   },
   "outputs": [],
   "source": [
    "const Foo = {\n",
    "  foo() { console.log('foo') }\n",
    "};\n",
    "\n",
    "class MyClass {}\n",
    "\n",
    "Object.assign(MyClass.prototype, Foo);\n",
    "\n",
    "let obj = new MyClass();\n",
    "obj.foo() // 'foo'"
   ]
  },
  {
   "cell_type": "markdown",
   "id": "be5ffdc6",
   "metadata": {},
   "source": [
    "实际开发中，React 与 Redux 库结合使用时，常常需要写成下面这样。"
   ]
  },
  {
   "cell_type": "code",
   "execution_count": null,
   "id": "4e5ab535",
   "metadata": {
    "attributes": {
     "classes": [
      "javascript"
     ],
     "id": ""
    }
   },
   "outputs": [],
   "source": [
    "class MyReactComponent extends React.Component {}\n",
    "\n",
    "export default connect(mapStateToProps, mapDispatchToProps)(MyReactComponent);"
   ]
  },
  {
   "cell_type": "markdown",
   "id": "26749684",
   "metadata": {},
   "source": [
    "有了装饰器，就可以改写上面的代码。"
   ]
  },
  {
   "cell_type": "code",
   "execution_count": null,
   "id": "dfab1627",
   "metadata": {
    "attributes": {
     "classes": [
      "javascript"
     ],
     "id": ""
    }
   },
   "outputs": [],
   "source": [
    "@connect(mapStateToProps, mapDispatchToProps)\n",
    "export default class MyReactComponent extends React.Component {}"
   ]
  },
  {
   "cell_type": "markdown",
   "id": "ae855273",
   "metadata": {},
   "source": [
    "相对来说，后一种写法看上去更容易理解。\n",
    "\n",
    "## 类装饰器（新语法）\n",
    "\n",
    "类装饰器的类型描述如下。"
   ]
  },
  {
   "cell_type": "code",
   "execution_count": null,
   "id": "1aface63",
   "metadata": {
    "attributes": {
     "classes": [
      "typescript"
     ],
     "id": ""
    }
   },
   "outputs": [],
   "source": [
    "type ClassDecorator = (value: Function, context: {\n",
    "  kind: \"class\";\n",
    "  name: string | undefined;\n",
    "  addInitializer(initializer: () => void): void;\n",
    "}) => Function | void;"
   ]
  },
  {
   "cell_type": "markdown",
   "id": "ac1c2cd4",
   "metadata": {},
   "source": [
    "类装饰器的第一个参数，就是被装饰的类。第二个参数是上下文对象，如果被装饰的类是一个匿名类，`name`属性就为`undefined`。\n",
    "\n",
    "类装饰器可以返回一个新的类，取代原来的类，也可以不返回任何值。如果返回的不是构造函数，就会报错。\n",
    "\n",
    "下面是一个例子。"
   ]
  },
  {
   "cell_type": "code",
   "execution_count": null,
   "id": "5498c9ee",
   "metadata": {
    "attributes": {
     "classes": [
      "javascript"
     ],
     "id": ""
    }
   },
   "outputs": [],
   "source": [
    "function logged(value, { kind, name }) {\n",
    "  if (kind === \"class\") {\n",
    "    return class extends value {\n",
    "      constructor(...args) {\n",
    "        super(...args);\n",
    "        console.log(`constructing an instance of ${name} with arguments ${args.join(\", \")}`);\n",
    "      }\n",
    "    }\n",
    "  }\n",
    "\n",
    "  // ...\n",
    "}\n",
    "\n",
    "@logged\n",
    "class C {}\n",
    "\n",
    "new C(1);\n",
    "// constructing an instance of C with arguments 1"
   ]
  },
  {
   "cell_type": "markdown",
   "id": "49d4e619",
   "metadata": {},
   "source": [
    "如果不使用装饰器，类装饰器实际上执行的是下面的语法。"
   ]
  },
  {
   "cell_type": "code",
   "execution_count": null,
   "id": "9c106067",
   "metadata": {
    "attributes": {
     "classes": [
      "javascript"
     ],
     "id": ""
    }
   },
   "outputs": [],
   "source": [
    "class C {}\n",
    "\n",
    "C = logged(C, {\n",
    "  kind: \"class\",\n",
    "  name: \"C\",\n",
    "}) ?? C;\n",
    "\n",
    "new C(1);"
   ]
  },
  {
   "cell_type": "markdown",
   "id": "beb462f0",
   "metadata": {},
   "source": [
    "## 方法装饰器（新语法）\n",
    "\n",
    "方法装饰器会修改类的方法。"
   ]
  },
  {
   "cell_type": "code",
   "execution_count": null,
   "id": "879fe9ab",
   "metadata": {
    "attributes": {
     "classes": [
      "javascript"
     ],
     "id": ""
    }
   },
   "outputs": [],
   "source": [
    "class C {\n",
    "  @trace\n",
    "  toString() {\n",
    "    return 'C';\n",
    "  }\n",
    "}\n",
    "\n",
    "// 相当于\n",
    "C.prototype.toString = trace(C.prototype.toString);"
   ]
  },
  {
   "cell_type": "markdown",
   "id": "a293065c",
   "metadata": {},
   "source": [
    "上面示例中，`@trace`装饰`toString()`方法，就相当于修改了该方法。\n",
    "\n",
    "方法装饰器使用 TypeScript 描述类型如下。"
   ]
  },
  {
   "cell_type": "code",
   "execution_count": null,
   "id": "0f7a5ec7",
   "metadata": {
    "attributes": {
     "classes": [
      "typescript"
     ],
     "id": ""
    }
   },
   "outputs": [],
   "source": [
    "type ClassMethodDecorator = (value: Function, context: {\n",
    "  kind: \"method\";\n",
    "  name: string | symbol;\n",
    "  access: { get(): unknown };\n",
    "  static: boolean;\n",
    "  private: boolean;\n",
    "  addInitializer(initializer: () => void): void;\n",
    "}) => Function | void;"
   ]
  },
  {
   "cell_type": "markdown",
   "id": "618cd296",
   "metadata": {},
   "source": [
    "方法装饰器的第一个参数`value`，就是所要装饰的方法。\n",
    "\n",
    "方法装饰器可以返回一个新函数，取代原来的方法，也可以不返回值，表示依然使用原来的方法。如果返回其他类型的值，就会报错。下面是一个例子。"
   ]
  },
  {
   "cell_type": "code",
   "execution_count": null,
   "id": "e8babf4c",
   "metadata": {
    "attributes": {
     "classes": [
      "javascript"
     ],
     "id": ""
    }
   },
   "outputs": [],
   "source": [
    "function replaceMethod() {\n",
    "  return function () {\n",
    "    return `How are you, ${this.name}?`;\n",
    "  }\n",
    "}\n",
    "\n",
    "class Person {\n",
    "  constructor(name) {\n",
    "    this.name = name;\n",
    "  }\n",
    "  @replaceMethod\n",
    "  hello() {\n",
    "    return `Hi ${this.name}!`;\n",
    "  }\n",
    "}\n",
    "\n",
    "const robin = new Person('Robin');\n",
    "\n",
    "robin.hello(), 'How are you, Robin?'"
   ]
  },
  {
   "cell_type": "markdown",
   "id": "23157d07",
   "metadata": {},
   "source": [
    "上面示例中，`@replaceMethod`返回了一个新函数，取代了原来的`hello()`方法。"
   ]
  },
  {
   "cell_type": "code",
   "execution_count": null,
   "id": "ab1a8e15",
   "metadata": {
    "attributes": {
     "classes": [
      "typescript"
     ],
     "id": ""
    }
   },
   "outputs": [],
   "source": [
    "function logged(value, { kind, name }) {\n",
    "  if (kind === \"method\") {\n",
    "    return function (...args) {\n",
    "      console.log(`starting ${name} with arguments ${args.join(\", \")}`);\n",
    "      const ret = value.call(this, ...args);\n",
    "      console.log(`ending ${name}`);\n",
    "      return ret;\n",
    "    };\n",
    "  }\n",
    "}\n",
    "\n",
    "class C {\n",
    "  @logged\n",
    "  m(arg) {}\n",
    "}\n",
    "\n",
    "new C().m(1);\n",
    "// starting m with arguments 1\n",
    "// ending m"
   ]
  },
  {
   "cell_type": "markdown",
   "id": "dca704fd",
   "metadata": {},
   "source": [
    "上面示例中，装饰器`@logged`返回一个函数，代替原来的`m()`方法。\n",
    "\n",
    "这里的装饰器实际上是一个语法糖，真正的操作是像下面这样，改掉原型链上面`m()`方法。"
   ]
  },
  {
   "cell_type": "code",
   "execution_count": null,
   "id": "6e69548c",
   "metadata": {
    "attributes": {
     "classes": [
      "javascript"
     ],
     "id": ""
    }
   },
   "outputs": [],
   "source": [
    "class C {\n",
    "  m(arg) {}\n",
    "}\n",
    "\n",
    "C.prototype.m = logged(C.prototype.m, {\n",
    "  kind: \"method\",\n",
    "  name: \"m\",\n",
    "  static: false,\n",
    "  private: false,\n",
    "}) ?? C.prototype.m;"
   ]
  },
  {
   "cell_type": "markdown",
   "id": "fc6803e8",
   "metadata": {},
   "source": [
    "## 方法的装饰\n",
    "\n",
    "装饰器不仅可以装饰类，还可以装饰类的属性。"
   ]
  },
  {
   "cell_type": "code",
   "execution_count": null,
   "id": "6938226d",
   "metadata": {
    "attributes": {
     "classes": [
      "javascript"
     ],
     "id": ""
    }
   },
   "outputs": [],
   "source": [
    "class Person {\n",
    "  @readonly\n",
    "  name() { return `${this.first} ${this.last}` }\n",
    "}"
   ]
  },
  {
   "cell_type": "markdown",
   "id": "3b1f6d4f",
   "metadata": {},
   "source": [
    "上面代码中，装饰器`readonly`用来装饰“类”的`name`方法。\n",
    "\n",
    "装饰器函数`readonly`一共可以接受三个参数。"
   ]
  },
  {
   "cell_type": "code",
   "execution_count": null,
   "id": "496ebc4d",
   "metadata": {
    "attributes": {
     "classes": [
      "javascript"
     ],
     "id": ""
    }
   },
   "outputs": [],
   "source": [
    "function readonly(target, name, descriptor){\n",
    "  // descriptor对象原来的值如下\n",
    "  // {\n",
    "  //   value: specifiedFunction,\n",
    "  //   enumerable: false,\n",
    "  //   configurable: true,\n",
    "  //   writable: true\n",
    "  // };\n",
    "  descriptor.writable = false;\n",
    "  return descriptor;\n",
    "}\n",
    "\n",
    "readonly(Person.prototype, 'name', descriptor);\n",
    "// 类似于\n",
    "Object.defineProperty(Person.prototype, 'name', descriptor);"
   ]
  },
  {
   "cell_type": "markdown",
   "id": "5208297f",
   "metadata": {},
   "source": [
    "装饰器第一个参数是类的原型对象，上例是`Person.prototype`，装饰器的本意是要“装饰”类的实例，但是这个时候实例还没生成，所以只能去装饰原型（这不同于类的装饰，那种情况时`target`参数指的是类本身）；第二个参数是所要装饰的属性名，第三个参数是该属性的描述对象。\n",
    "\n",
    "另外，上面代码说明，装饰器（readonly）会修改属性的描述对象（descriptor），然后被修改的描述对象再用来定义属性。\n",
    "\n",
    "下面是另一个例子，修改属性描述对象的`enumerable`属性，使得该属性不可遍历。"
   ]
  },
  {
   "cell_type": "code",
   "execution_count": null,
   "id": "0809898e",
   "metadata": {
    "attributes": {
     "classes": [
      "javascript"
     ],
     "id": ""
    }
   },
   "outputs": [],
   "source": [
    "class Person {\n",
    "  @nonenumerable\n",
    "  get kidCount() { return this.children.length; }\n",
    "}\n",
    "\n",
    "function nonenumerable(target, name, descriptor) {\n",
    "  descriptor.enumerable = false;\n",
    "  return descriptor;\n",
    "}"
   ]
  },
  {
   "cell_type": "markdown",
   "id": "5aa5fafb",
   "metadata": {},
   "source": [
    "下面的`@log`装饰器，可以起到输出日志的作用。"
   ]
  },
  {
   "cell_type": "code",
   "execution_count": null,
   "id": "0bdecda4",
   "metadata": {
    "attributes": {
     "classes": [
      "javascript"
     ],
     "id": ""
    }
   },
   "outputs": [],
   "source": [
    "class Math {\n",
    "  @log\n",
    "  add(a, b) {\n",
    "    return a + b;\n",
    "  }\n",
    "}\n",
    "\n",
    "function log(target, name, descriptor) {\n",
    "  var oldValue = descriptor.value;\n",
    "\n",
    "  descriptor.value = function() {\n",
    "    console.log(`Calling ${name} with`, arguments);\n",
    "    return oldValue.apply(this, arguments);\n",
    "  };\n",
    "\n",
    "  return descriptor;\n",
    "}\n",
    "\n",
    "const math = new Math();\n",
    "\n",
    "// passed parameters should get logged now\n",
    "math.add(2, 4);"
   ]
  },
  {
   "cell_type": "markdown",
   "id": "3057fa6e",
   "metadata": {},
   "source": [
    "上面代码中，`@log`装饰器的作用就是在执行原始的操作之前，执行一次`console.log`，从而达到输出日志的目的。\n",
    "\n",
    "装饰器有注释的作用。"
   ]
  },
  {
   "cell_type": "code",
   "execution_count": null,
   "id": "a859c675",
   "metadata": {
    "attributes": {
     "classes": [
      "javascript"
     ],
     "id": ""
    }
   },
   "outputs": [],
   "source": [
    "@testable\n",
    "class Person {\n",
    "  @readonly\n",
    "  @nonenumerable\n",
    "  name() { return `${this.first} ${this.last}` }\n",
    "}"
   ]
  },
  {
   "cell_type": "markdown",
   "id": "0525492a",
   "metadata": {},
   "source": [
    "从上面代码中，我们一眼就能看出，`Person`类是可测试的，而`name`方法是只读和不可枚举的。\n",
    "\n",
    "下面是使用 Decorator 写法的[组件](https://github.com/ionic-team/stencil)，看上去一目了然。"
   ]
  },
  {
   "cell_type": "code",
   "execution_count": null,
   "id": "1bf78af8",
   "metadata": {
    "attributes": {
     "classes": [
      "javascript"
     ],
     "id": ""
    }
   },
   "outputs": [],
   "source": [
    "@Component({\n",
    "  tag: 'my-component',\n",
    "  styleUrl: 'my-component.scss'\n",
    "})\n",
    "export class MyComponent {\n",
    "  @Prop() first: string;\n",
    "  @Prop() last: string;\n",
    "  @State() isVisible: boolean = true;\n",
    "\n",
    "  render() {\n",
    "    return (\n",
    "      <p>Hello, my name is {this.first} {this.last}</p>\n",
    "    );\n",
    "  }\n",
    "}"
   ]
  },
  {
   "cell_type": "markdown",
   "id": "24be8d96",
   "metadata": {},
   "source": [
    "如果同一个方法有多个装饰器，会像剥洋葱一样，先从外到内进入，然后由内向外执行。"
   ]
  },
  {
   "cell_type": "code",
   "execution_count": null,
   "id": "09c179eb",
   "metadata": {
    "attributes": {
     "classes": [
      "javascript"
     ],
     "id": ""
    }
   },
   "outputs": [],
   "source": [
    "function dec(id){\n",
    "  console.log('evaluated', id);\n",
    "  return (target, property, descriptor) => console.log('executed', id);\n",
    "}\n",
    "\n",
    "class Example {\n",
    "    @dec(1)\n",
    "    @dec(2)\n",
    "    method(){}\n",
    "}\n",
    "// evaluated 1\n",
    "// evaluated 2\n",
    "// executed 2\n",
    "// executed 1"
   ]
  },
  {
   "cell_type": "markdown",
   "id": "f4aa082d",
   "metadata": {},
   "source": [
    "上面代码中，外层装饰器`@dec(1)`先进入，但是内层装饰器`@dec(2)`先执行。\n",
    "\n",
    "除了注释，装饰器还能用来类型检查。所以，对于类来说，这项功能相当有用。从长期来看，它将是 JavaScript 代码静态分析的重要工具。\n",
    "\n",
    "## 为什么装饰器不能用于函数？\n",
    "\n",
    "装饰器只能用于类和类的方法，不能用于函数，因为存在函数提升。"
   ]
  },
  {
   "cell_type": "code",
   "execution_count": null,
   "id": "4346efc8",
   "metadata": {
    "attributes": {
     "classes": [
      "javascript"
     ],
     "id": ""
    }
   },
   "outputs": [],
   "source": [
    "var counter = 0;\n",
    "\n",
    "var add = function () {\n",
    "  counter++;\n",
    "};\n",
    "\n",
    "@add\n",
    "function foo() {\n",
    "}"
   ]
  },
  {
   "cell_type": "markdown",
   "id": "661d07e2",
   "metadata": {},
   "source": [
    "上面的代码，意图是执行后`counter`等于 1，但是实际上结果是`counter`等于 0。因为函数提升，使得实际执行的代码是下面这样。"
   ]
  },
  {
   "cell_type": "code",
   "execution_count": null,
   "id": "8a696060",
   "metadata": {
    "attributes": {
     "classes": [
      "javascript"
     ],
     "id": ""
    }
   },
   "outputs": [],
   "source": [
    "var counter;\n",
    "var add;\n",
    "\n",
    "@add\n",
    "function foo() {\n",
    "}\n",
    "\n",
    "counter = 0;\n",
    "\n",
    "add = function () {\n",
    "  counter++;\n",
    "};"
   ]
  },
  {
   "cell_type": "markdown",
   "id": "df03ef7c",
   "metadata": {},
   "source": [
    "下面是另一个例子。"
   ]
  },
  {
   "cell_type": "code",
   "execution_count": null,
   "id": "e2987f7a",
   "metadata": {
    "attributes": {
     "classes": [
      "javascript"
     ],
     "id": ""
    }
   },
   "outputs": [],
   "source": [
    "var readOnly = require(\"some-decorator\");\n",
    "\n",
    "@readOnly\n",
    "function foo() {\n",
    "}"
   ]
  },
  {
   "cell_type": "markdown",
   "id": "e177da2f",
   "metadata": {},
   "source": [
    "上面代码也有问题，因为实际执行是下面这样。"
   ]
  },
  {
   "cell_type": "code",
   "execution_count": null,
   "id": "857bcb5d",
   "metadata": {
    "attributes": {
     "classes": [
      "javascript"
     ],
     "id": ""
    }
   },
   "outputs": [],
   "source": [
    "var readOnly;\n",
    "\n",
    "@readOnly\n",
    "function foo() {\n",
    "}\n",
    "\n",
    "readOnly = require(\"some-decorator\");"
   ]
  },
  {
   "cell_type": "markdown",
   "id": "5559d4f3",
   "metadata": {},
   "source": [
    "总之，由于存在函数提升，使得装饰器不能用于函数。类是不会提升的，所以就没有这方面的问题。\n",
    "\n",
    "另一方面，如果一定要装饰函数，可以采用高阶函数的形式直接执行。"
   ]
  },
  {
   "cell_type": "code",
   "execution_count": null,
   "id": "6f290fa4",
   "metadata": {
    "attributes": {
     "classes": [
      "javascript"
     ],
     "id": ""
    }
   },
   "outputs": [],
   "source": [
    "function doSomething(name) {\n",
    "  console.log('Hello, ' + name);\n",
    "}\n",
    "\n",
    "function loggingDecorator(wrapped) {\n",
    "  return function() {\n",
    "    console.log('Starting');\n",
    "    const result = wrapped.apply(this, arguments);\n",
    "    console.log('Finished');\n",
    "    return result;\n",
    "  }\n",
    "}\n",
    "\n",
    "const wrapped = loggingDecorator(doSomething);"
   ]
  },
  {
   "cell_type": "markdown",
   "id": "6af15af5",
   "metadata": {},
   "source": [
    "## 存取器装饰器（新语法）\n",
    "\n",
    "存取器装饰器使用 TypeScript 描述的类型如下。"
   ]
  },
  {
   "cell_type": "code",
   "execution_count": null,
   "id": "f9f74cac",
   "metadata": {
    "attributes": {
     "classes": [
      "typescript"
     ],
     "id": ""
    }
   },
   "outputs": [],
   "source": [
    "type ClassGetterDecorator = (value: Function, context: {\n",
    "  kind: \"getter\";\n",
    "  name: string | symbol;\n",
    "  access: { get(): unknown };\n",
    "  static: boolean;\n",
    "  private: boolean;\n",
    "  addInitializer(initializer: () => void): void;\n",
    "}) => Function | void;\n",
    "\n",
    "type ClassSetterDecorator = (value: Function, context: {\n",
    "  kind: \"setter\";\n",
    "  name: string | symbol;\n",
    "  access: { set(value: unknown): void };\n",
    "  static: boolean;\n",
    "  private: boolean;\n",
    "  addInitializer(initializer: () => void): void;\n",
    "}) => Function | void;"
   ]
  },
  {
   "cell_type": "markdown",
   "id": "acfda452",
   "metadata": {},
   "source": [
    "存取器装饰器的第一个参数就是原始的存值器（setter）和取值器（getter）。\n",
    "\n",
    "存取器装饰器的返回值如果是一个函数，就会取代原来的存取器。本质上，就像方法装饰器一样，修改发生在类的原型对象上。它也可以不返回任何值，继续使用原来的存取器。如果返回其他类型的值，就会报错。\n",
    "\n",
    "存取器装饰器对存值器（setter）和取值器（getter）是分开作用的。下面的例子里面，`@foo`只装饰`get x()`，不装饰`set x()`。"
   ]
  },
  {
   "cell_type": "code",
   "execution_count": null,
   "id": "c0b9f717",
   "metadata": {
    "attributes": {
     "classes": [
      "javascript"
     ],
     "id": ""
    }
   },
   "outputs": [],
   "source": [
    "class C {\n",
    "  @foo\n",
    "  get x() {\n",
    "    // ...\n",
    "  }\n",
    "\n",
    "  set x(val) {\n",
    "    // ...\n",
    "  }\n",
    "}"
   ]
  },
  {
   "cell_type": "markdown",
   "id": "7d245be1",
   "metadata": {},
   "source": [
    "上一节的`@logged`装饰器稍加修改，就可以用在存取装饰器。"
   ]
  },
  {
   "cell_type": "code",
   "execution_count": null,
   "id": "e09e3ec1",
   "metadata": {
    "attributes": {
     "classes": [
      "javascript"
     ],
     "id": ""
    }
   },
   "outputs": [],
   "source": [
    "function logged(value, { kind, name }) {\n",
    "  if (kind === \"method\" || kind === \"getter\" || kind === \"setter\") {\n",
    "    return function (...args) {\n",
    "      console.log(`starting ${name} with arguments ${args.join(\", \")}`);\n",
    "      const ret = value.call(this, ...args);\n",
    "      console.log(`ending ${name}`);\n",
    "      return ret;\n",
    "    };\n",
    "  }\n",
    "}\n",
    "\n",
    "class C {\n",
    "  @logged\n",
    "  set x(arg) {}\n",
    "}\n",
    "\n",
    "new C().x = 1\n",
    "// starting x with arguments 1\n",
    "// ending x"
   ]
  },
  {
   "cell_type": "markdown",
   "id": "3ef53cf9",
   "metadata": {},
   "source": [
    "如果去掉语法糖，使用传统语法来写，就是改掉了类的原型链。"
   ]
  },
  {
   "cell_type": "code",
   "execution_count": null,
   "id": "3e216c85",
   "metadata": {
    "attributes": {
     "classes": [
      "javascript"
     ],
     "id": ""
    }
   },
   "outputs": [],
   "source": [
    "class C {\n",
    "  set x(arg) {}\n",
    "}\n",
    "\n",
    "let { set } = Object.getOwnPropertyDescriptor(C.prototype, \"x\");\n",
    "set = logged(set, {\n",
    "  kind: \"setter\",\n",
    "  name: \"x\",\n",
    "  static: false,\n",
    "  private: false,\n",
    "}) ?? set;\n",
    "\n",
    "Object.defineProperty(C.prototype, \"x\", { set });"
   ]
  },
  {
   "cell_type": "markdown",
   "id": "571d1a6b",
   "metadata": {},
   "source": [
    "## 属性装饰器（新语法）\n",
    "\n",
    "属性装饰器的类型描述如下。"
   ]
  },
  {
   "cell_type": "code",
   "execution_count": null,
   "id": "96a70a92",
   "metadata": {
    "attributes": {
     "classes": [
      "typescript"
     ],
     "id": ""
    }
   },
   "outputs": [],
   "source": [
    "type ClassFieldDecorator = (value: undefined, context: {\n",
    "  kind: \"field\";\n",
    "  name: string | symbol;\n",
    "  access: { get(): unknown, set(value: unknown): void };\n",
    "  static: boolean;\n",
    "  private: boolean;\n",
    "}) => (initialValue: unknown) => unknown | void;"
   ]
  },
  {
   "cell_type": "markdown",
   "id": "a1da611d",
   "metadata": {},
   "source": [
    "属性装饰器的第一个参数是`undefined`，即不输入值。用户可以选择让装饰器返回一个初始化函数，当该属性被赋值时，这个初始化函数会自动运行，它会收到属性的初始值，然后返回一个新的初始值。属性装饰器也可以不返回任何值。除了这两种情况，返回其他类型的值都会报错。\n",
    "\n",
    "下面是一个例子。"
   ]
  },
  {
   "cell_type": "code",
   "execution_count": null,
   "id": "3c491ed3",
   "metadata": {
    "attributes": {
     "classes": [
      "javascript"
     ],
     "id": ""
    }
   },
   "outputs": [],
   "source": [
    "function logged(value, { kind, name }) {\n",
    "  if (kind === \"field\") {\n",
    "    return function (initialValue) {\n",
    "      console.log(`initializing ${name} with value ${initialValue}`);\n",
    "      return initialValue;\n",
    "    };\n",
    "  }\n",
    "\n",
    "  // ...\n",
    "}\n",
    "\n",
    "class C {\n",
    "  @logged x = 1;\n",
    "}\n",
    "\n",
    "new C();\n",
    "// initializing x with value 1"
   ]
  },
  {
   "cell_type": "markdown",
   "id": "0aa862a3",
   "metadata": {},
   "source": [
    "如果不使用装饰器语法，属性装饰器的实际作用如下。"
   ]
  },
  {
   "cell_type": "code",
   "execution_count": null,
   "id": "a7ebb591",
   "metadata": {
    "attributes": {
     "classes": [
      "javascript"
     ],
     "id": ""
    }
   },
   "outputs": [],
   "source": [
    "let initializeX = logged(undefined, {\n",
    "  kind: \"field\",\n",
    "  name: \"x\",\n",
    "  static: false,\n",
    "  private: false,\n",
    "}) ?? (initialValue) => initialValue;\n",
    "\n",
    "class C {\n",
    "  x = initializeX.call(this, 1);\n",
    "}"
   ]
  },
  {
   "cell_type": "markdown",
   "id": "b19fa5fa",
   "metadata": {},
   "source": [
    "## accessor 命令（新语法）\n",
    "\n",
    "类装饰器引入了一个新命令`accessor`，用来属性的前缀。"
   ]
  },
  {
   "cell_type": "code",
   "execution_count": null,
   "id": "1227601f",
   "metadata": {
    "attributes": {
     "classes": [
      "javascript"
     ],
     "id": ""
    }
   },
   "outputs": [],
   "source": [
    "class C {\n",
    "  accessor x = 1;\n",
    "}"
   ]
  },
  {
   "cell_type": "markdown",
   "id": "f37b283b",
   "metadata": {},
   "source": [
    "它是一种简写形式，相当于声明属性`x`是私有属性`#x`的存取接口。上面的代码等同于下面的代码。"
   ]
  },
  {
   "cell_type": "code",
   "execution_count": null,
   "id": "ded52b62",
   "metadata": {
    "attributes": {
     "classes": [
      "javascript"
     ],
     "id": ""
    }
   },
   "outputs": [],
   "source": [
    "class C {\n",
    "  #x = 1;\n",
    "\n",
    "  get x() {\n",
    "    return this.#x;\n",
    "  }\n",
    "\n",
    "  set x(val) {\n",
    "    this.#x = val;\n",
    "  }\n",
    "}"
   ]
  },
  {
   "cell_type": "markdown",
   "id": "ff92ab8d",
   "metadata": {},
   "source": [
    "`accessor`命令前面，还可以加上`static`命令和`private`命令。"
   ]
  },
  {
   "cell_type": "code",
   "execution_count": null,
   "id": "d8b1ea44",
   "metadata": {
    "attributes": {
     "classes": [
      "javascript"
     ],
     "id": ""
    }
   },
   "outputs": [],
   "source": [
    "class C {\n",
    "  static accessor x = 1;\n",
    "  accessor #y = 2;\n",
    "}"
   ]
  },
  {
   "cell_type": "markdown",
   "id": "bb8ada21",
   "metadata": {},
   "source": [
    "`accessor`命令前面还可以接受属性装饰器。"
   ]
  },
  {
   "cell_type": "code",
   "execution_count": null,
   "id": "f33b6a20",
   "metadata": {
    "attributes": {
     "classes": [
      "javascript"
     ],
     "id": ""
    }
   },
   "outputs": [],
   "source": [
    "function logged(value, { kind, name }) {\n",
    "  if (kind === \"accessor\") {\n",
    "    let { get, set } = value;\n",
    "\n",
    "    return {\n",
    "      get() {\n",
    "        console.log(`getting ${name}`);\n",
    "\n",
    "        return get.call(this);\n",
    "      },\n",
    "\n",
    "      set(val) {\n",
    "        console.log(`setting ${name} to ${val}`);\n",
    "\n",
    "        return set.call(this, val);\n",
    "      },\n",
    "\n",
    "      init(initialValue) {\n",
    "        console.log(`initializing ${name} with value ${initialValue}`);\n",
    "        return initialValue;\n",
    "      }\n",
    "    };\n",
    "  }\n",
    "\n",
    "  // ...\n",
    "}\n",
    "\n",
    "class C {\n",
    "  @logged accessor x = 1;\n",
    "}\n",
    "\n",
    "let c = new C();\n",
    "// initializing x with value 1\n",
    "c.x;\n",
    "// getting x\n",
    "c.x = 123;\n",
    "// setting x to 123"
   ]
  },
  {
   "cell_type": "markdown",
   "id": "a4476a93",
   "metadata": {},
   "source": [
    "上面的示例等同于使用`@logged`装饰器，改写`accessor`属性的 getter 和 setter 方法。\n",
    "\n",
    "用于`accessor`的属性装饰器的类型描述如下。"
   ]
  },
  {
   "cell_type": "code",
   "execution_count": null,
   "id": "8641141f",
   "metadata": {
    "attributes": {
     "classes": [
      "typescript"
     ],
     "id": ""
    }
   },
   "outputs": [],
   "source": [
    "type ClassAutoAccessorDecorator = (\n",
    "  value: {\n",
    "    get: () => unknown;\n",
    "    set(value: unknown) => void;\n",
    "  },\n",
    "  context: {\n",
    "    kind: \"accessor\";\n",
    "    name: string | symbol;\n",
    "    access: { get(): unknown, set(value: unknown): void };\n",
    "    static: boolean;\n",
    "    private: boolean;\n",
    "    addInitializer(initializer: () => void): void;\n",
    "  }\n",
    ") => {\n",
    "  get?: () => unknown;\n",
    "  set?: (value: unknown) => void;\n",
    "  initialize?: (initialValue: unknown) => unknown;\n",
    "} | void;"
   ]
  },
  {
   "cell_type": "markdown",
   "id": "15e719cd",
   "metadata": {},
   "source": [
    "`accessor`命令的第一个参数接收到的是一个对象，包含了`accessor`命令定义的属性的存取器 get 和 set。属性装饰器可以返回一个新对象，其中包含了新的存取器，用来取代原来的，即相当于拦截了原来的存取器。此外，返回的对象还可以包括一个`initialize`函数，用来改变私有属性的初始值。装饰器也可以不返回值，如果返回的是其他类型的值，或者包含其他属性的对象，就会报错。\n",
    "\n",
    "## addInitializer() 方法（新语法）\n",
    "\n",
    "除了属性装饰器，其他装饰器的上下文对象还包括一个`addInitializer()`方法，用来完成初始化操作。\n",
    "\n",
    "它的运行时间如下。\n",
    "\n",
    "- 类装饰器：在类被完全定义之后。\n",
    "- 方法装饰器：在类构造期间运行，在属性初始化之前。\n",
    "- 静态方法装饰器：在类定义期间运行，早于静态属性定义，但晚于类方法的定义。\n",
    "\n",
    "下面是一个例子。"
   ]
  },
  {
   "cell_type": "code",
   "execution_count": null,
   "id": "fea0738d",
   "metadata": {
    "attributes": {
     "classes": [
      "javascript"
     ],
     "id": ""
    }
   },
   "outputs": [],
   "source": [
    "function customElement(name) {\n",
    "  return (value, { addInitializer }) => {\n",
    "    addInitializer(function() {\n",
    "      customElements.define(name, this);\n",
    "    });\n",
    "  }\n",
    "}\n",
    "\n",
    "@customElement('my-element')\n",
    "class MyElement extends HTMLElement {\n",
    "  static get observedAttributes() {\n",
    "    return ['some', 'attrs'];\n",
    "  }\n",
    "}"
   ]
  },
  {
   "cell_type": "markdown",
   "id": "15800f51",
   "metadata": {},
   "source": [
    "上面的代码等同于下面不使用装饰器的代码。"
   ]
  },
  {
   "cell_type": "code",
   "execution_count": null,
   "id": "93ca3450",
   "metadata": {
    "attributes": {
     "classes": [
      "javascript"
     ],
     "id": ""
    }
   },
   "outputs": [],
   "source": [
    "class MyElement {\n",
    "  static get observedAttributes() {\n",
    "    return ['some', 'attrs'];\n",
    "  }\n",
    "}\n",
    "\n",
    "let initializersForMyElement = [];\n",
    "\n",
    "MyElement = customElement('my-element')(MyElement, {\n",
    "  kind: \"class\",\n",
    "  name: \"MyElement\",\n",
    "  addInitializer(fn) {\n",
    "    initializersForMyElement.push(fn);\n",
    "  },\n",
    "}) ?? MyElement;\n",
    "\n",
    "for (let initializer of initializersForMyElement) {\n",
    "  initializer.call(MyElement);\n",
    "}"
   ]
  },
  {
   "cell_type": "markdown",
   "id": "5f6a8b00",
   "metadata": {},
   "source": [
    "下面是方法装饰器的例子。"
   ]
  },
  {
   "cell_type": "code",
   "execution_count": null,
   "id": "174dd46f",
   "metadata": {
    "attributes": {
     "classes": [
      "javascript"
     ],
     "id": ""
    }
   },
   "outputs": [],
   "source": [
    "function bound(value, { name, addInitializer }) {\n",
    "  addInitializer(function () {\n",
    "    this[name] = this[name].bind(this);\n",
    "  });\n",
    "}\n",
    "\n",
    "class C {\n",
    "  message = \"hello!\";\n",
    "\n",
    "  @bound\n",
    "  m() {\n",
    "    console.log(this.message);\n",
    "  }\n",
    "}\n",
    "\n",
    "let { m } = new C();\n",
    "\n",
    "m(); // hello!"
   ]
  },
  {
   "cell_type": "markdown",
   "id": "3589b1da",
   "metadata": {},
   "source": [
    "上面的代码等同于下面不使用装饰器的代码。"
   ]
  },
  {
   "cell_type": "code",
   "execution_count": null,
   "id": "45948689",
   "metadata": {
    "attributes": {
     "classes": [
      "javascript"
     ],
     "id": ""
    }
   },
   "outputs": [],
   "source": [
    "class C {\n",
    "  constructor() {\n",
    "    for (let initializer of initializersForM) {\n",
    "      initializer.call(this);\n",
    "    }\n",
    "\n",
    "    this.message = \"hello!\";\n",
    "  }\n",
    "\n",
    "  m() {}\n",
    "}\n",
    "\n",
    "let initializersForM = []\n",
    "\n",
    "C.prototype.m = bound(\n",
    "  C.prototype.m,\n",
    "  {\n",
    "    kind: \"method\",\n",
    "    name: \"m\",\n",
    "    static: false,\n",
    "    private: false,\n",
    "    addInitializer(fn) {\n",
    "      initializersForM.push(fn);\n",
    "    },\n",
    "  }\n",
    ") ?? C.prototype.m;"
   ]
  },
  {
   "cell_type": "markdown",
   "id": "413f371d",
   "metadata": {},
   "source": [
    "## core-decorators.js\n",
    "\n",
    "[core-decorators.js](https://github.com/jayphelps/core-decorators.js)是一个第三方模块，提供了几个常见的装饰器，通过它可以更好地理解装饰器。\n",
    "\n",
    "**（1）@autobind**\n",
    "\n",
    "`autobind`装饰器使得方法中的`this`对象，绑定原始对象。"
   ]
  },
  {
   "cell_type": "code",
   "execution_count": null,
   "id": "05ea6cc4",
   "metadata": {
    "attributes": {
     "classes": [
      "javascript"
     ],
     "id": ""
    }
   },
   "outputs": [],
   "source": [
    "import { autobind } from 'core-decorators';\n",
    "\n",
    "class Person {\n",
    "  @autobind\n",
    "  getPerson() {\n",
    "    return this;\n",
    "  }\n",
    "}\n",
    "\n",
    "let person = new Person();\n",
    "let getPerson = person.getPerson;\n",
    "\n",
    "getPerson() === person;\n",
    "// true"
   ]
  },
  {
   "cell_type": "markdown",
   "id": "23aee52c",
   "metadata": {},
   "source": [
    "**（2）@readonly**\n",
    "\n",
    "`readonly`装饰器使得属性或方法不可写。"
   ]
  },
  {
   "cell_type": "code",
   "execution_count": null,
   "id": "ee8acd72",
   "metadata": {
    "attributes": {
     "classes": [
      "javascript"
     ],
     "id": ""
    }
   },
   "outputs": [],
   "source": [
    "import { readonly } from 'core-decorators';\n",
    "\n",
    "class Meal {\n",
    "  @readonly\n",
    "  entree = 'steak';\n",
    "}\n",
    "\n",
    "var dinner = new Meal();\n",
    "dinner.entree = 'salmon';\n",
    "// Cannot assign to read only property 'entree' of [object Object]"
   ]
  },
  {
   "cell_type": "markdown",
   "id": "f93bff4e",
   "metadata": {},
   "source": [
    "**（3）@override**\n",
    "\n",
    "`override`装饰器检查子类的方法，是否正确覆盖了父类的同名方法，如果不正确会报错。"
   ]
  },
  {
   "cell_type": "code",
   "execution_count": null,
   "id": "a4dc6766",
   "metadata": {
    "attributes": {
     "classes": [
      "javascript"
     ],
     "id": ""
    }
   },
   "outputs": [],
   "source": [
    "import { override } from 'core-decorators';\n",
    "\n",
    "class Parent {\n",
    "  speak(first, second) {}\n",
    "}\n",
    "\n",
    "class Child extends Parent {\n",
    "  @override\n",
    "  speak() {}\n",
    "  // SyntaxError: Child#speak() does not properly override Parent#speak(first, second)\n",
    "}\n",
    "\n",
    "// or\n",
    "\n",
    "class Child extends Parent {\n",
    "  @override\n",
    "  speaks() {}\n",
    "  // SyntaxError: No descriptor matching Child#speaks() was found on the prototype chain.\n",
    "  //\n",
    "  //   Did you mean \"speak\"?\n",
    "}"
   ]
  },
  {
   "cell_type": "markdown",
   "id": "59f3cfbd",
   "metadata": {},
   "source": [
    "**（4）@deprecate (别名@deprecated)**\n",
    "\n",
    "`deprecate`或`deprecated`装饰器在控制台显示一条警告，表示该方法将废除。"
   ]
  },
  {
   "cell_type": "code",
   "execution_count": null,
   "id": "e53ca15f",
   "metadata": {
    "attributes": {
     "classes": [
      "javascript"
     ],
     "id": ""
    }
   },
   "outputs": [],
   "source": [
    "import { deprecate } from 'core-decorators';\n",
    "\n",
    "class Person {\n",
    "  @deprecate\n",
    "  facepalm() {}\n",
    "\n",
    "  @deprecate('We stopped facepalming')\n",
    "  facepalmHard() {}\n",
    "\n",
    "  @deprecate('We stopped facepalming', { url: 'http://knowyourmeme.com/memes/facepalm' })\n",
    "  facepalmHarder() {}\n",
    "}\n",
    "\n",
    "let person = new Person();\n",
    "\n",
    "person.facepalm();\n",
    "// DEPRECATION Person#facepalm: This function will be removed in future versions.\n",
    "\n",
    "person.facepalmHard();\n",
    "// DEPRECATION Person#facepalmHard: We stopped facepalming\n",
    "\n",
    "person.facepalmHarder();\n",
    "// DEPRECATION Person#facepalmHarder: We stopped facepalming\n",
    "//\n",
    "//     See http://knowyourmeme.com/memes/facepalm for more details.\n",
    "//"
   ]
  },
  {
   "cell_type": "markdown",
   "id": "bfc365d2",
   "metadata": {},
   "source": [
    "**（5）@suppressWarnings**\n",
    "\n",
    "`suppressWarnings`装饰器抑制`deprecated`装饰器导致的`console.warn()`调用。但是，异步代码发出的调用除外。"
   ]
  },
  {
   "cell_type": "code",
   "execution_count": null,
   "id": "c97b3a8e",
   "metadata": {
    "attributes": {
     "classes": [
      "javascript"
     ],
     "id": ""
    }
   },
   "outputs": [],
   "source": [
    "import { suppressWarnings } from 'core-decorators';\n",
    "\n",
    "class Person {\n",
    "  @deprecated\n",
    "  facepalm() {}\n",
    "\n",
    "  @suppressWarnings\n",
    "  facepalmWithoutWarning() {\n",
    "    this.facepalm();\n",
    "  }\n",
    "}\n",
    "\n",
    "let person = new Person();\n",
    "\n",
    "person.facepalmWithoutWarning();\n",
    "// no warning is logged"
   ]
  },
  {
   "cell_type": "markdown",
   "id": "91c42548",
   "metadata": {},
   "source": [
    "## 使用装饰器实现自动发布事件\n",
    "\n",
    "我们可以使用装饰器，使得对象的方法被调用时，自动发出一个事件。"
   ]
  },
  {
   "cell_type": "code",
   "execution_count": null,
   "id": "f9c49d35",
   "metadata": {
    "attributes": {
     "classes": [
      "javascript"
     ],
     "id": ""
    }
   },
   "outputs": [],
   "source": [
    "const postal = require(\"postal/lib/postal.lodash\");\n",
    "\n",
    "export default function publish(topic, channel) {\n",
    "  const channelName = channel || '/';\n",
    "  const msgChannel = postal.channel(channelName);\n",
    "  msgChannel.subscribe(topic, v => {\n",
    "    console.log('频道: ', channelName);\n",
    "    console.log('事件: ', topic);\n",
    "    console.log('数据: ', v);\n",
    "  });\n",
    "\n",
    "  return function(target, name, descriptor) {\n",
    "    const fn = descriptor.value;\n",
    "\n",
    "    descriptor.value = function() {\n",
    "      let value = fn.apply(this, arguments);\n",
    "      msgChannel.publish(topic, value);\n",
    "    };\n",
    "  };\n",
    "}"
   ]
  },
  {
   "cell_type": "markdown",
   "id": "3205ff1d",
   "metadata": {},
   "source": [
    "上面代码定义了一个名为`publish`的装饰器，它通过改写`descriptor.value`，使得原方法被调用时，会自动发出一个事件。它使用的事件“发布/订阅”库是[Postal.js](https://github.com/postaljs/postal.js)。\n",
    "\n",
    "它的用法如下。"
   ]
  },
  {
   "cell_type": "code",
   "execution_count": null,
   "id": "31bd4255",
   "metadata": {
    "attributes": {
     "classes": [
      "javascript"
     ],
     "id": ""
    }
   },
   "outputs": [],
   "source": [
    "// index.js\n",
    "import publish from './publish';\n",
    "\n",
    "class FooComponent {\n",
    "  @publish('foo.some.message', 'component')\n",
    "  someMethod() {\n",
    "    return { my: 'data' };\n",
    "  }\n",
    "  @publish('foo.some.other')\n",
    "  anotherMethod() {\n",
    "    // ...\n",
    "  }\n",
    "}\n",
    "\n",
    "let foo = new FooComponent();\n",
    "\n",
    "foo.someMethod();\n",
    "foo.anotherMethod();"
   ]
  },
  {
   "cell_type": "markdown",
   "id": "f1945773",
   "metadata": {},
   "source": [
    "以后，只要调用`someMethod`或者`anotherMethod`，就会自动发出一个事件。"
   ]
  },
  {
   "cell_type": "code",
   "execution_count": null,
   "id": "fc362916",
   "metadata": {},
   "outputs": [],
   "source": [
    "%%bash\n",
    "$ bash-node index.js\n",
    "频道:  component\n",
    "事件:  foo.some.message\n",
    "数据:  { my: 'data' }\n",
    "\n",
    "频道:  /\n",
    "事件:  foo.some.other\n",
    "数据:  undefined"
   ]
  },
  {
   "cell_type": "markdown",
   "id": "4f9fc5fe",
   "metadata": {},
   "source": [
    "## Mixin\n",
    "\n",
    "在装饰器的基础上，可以实现`Mixin`模式。所谓`Mixin`模式，就是对象继承的一种替代方案，中文译为“混入”（mix in），意为在一个对象之中混入另外一个对象的方法。\n",
    "\n",
    "请看下面的例子。"
   ]
  },
  {
   "cell_type": "code",
   "execution_count": null,
   "id": "779ff191",
   "metadata": {
    "attributes": {
     "classes": [
      "javascript"
     ],
     "id": ""
    }
   },
   "outputs": [],
   "source": [
    "const Foo = {\n",
    "  foo() { console.log('foo') }\n",
    "};\n",
    "\n",
    "class MyClass {}\n",
    "\n",
    "Object.assign(MyClass.prototype, Foo);\n",
    "\n",
    "let obj = new MyClass();\n",
    "obj.foo() // 'foo'"
   ]
  },
  {
   "cell_type": "markdown",
   "id": "60c04f0b",
   "metadata": {},
   "source": [
    "上面代码之中，对象`Foo`有一个`foo`方法，通过`Object.assign`方法，可以将`foo`方法“混入”`MyClass`类，导致`MyClass`的实例`obj`对象都具有`foo`方法。这就是“混入”模式的一个简单实现。\n",
    "\n",
    "下面，我们部署一个通用脚本`mixins.js`，将 Mixin 写成一个装饰器。"
   ]
  },
  {
   "cell_type": "code",
   "execution_count": null,
   "id": "9c784eb1",
   "metadata": {
    "attributes": {
     "classes": [
      "javascript"
     ],
     "id": ""
    }
   },
   "outputs": [],
   "source": [
    "export function mixins(...list) {\n",
    "  return function (target) {\n",
    "    Object.assign(target.prototype, ...list);\n",
    "  };\n",
    "}"
   ]
  },
  {
   "cell_type": "markdown",
   "id": "c36c76f3",
   "metadata": {},
   "source": [
    "然后，就可以使用上面这个装饰器，为类“混入”各种方法。"
   ]
  },
  {
   "cell_type": "code",
   "execution_count": null,
   "id": "34af8232",
   "metadata": {
    "attributes": {
     "classes": [
      "javascript"
     ],
     "id": ""
    }
   },
   "outputs": [],
   "source": [
    "import { mixins } from './mixins.js';\n",
    "\n",
    "const Foo = {\n",
    "  foo() { console.log('foo') }\n",
    "};\n",
    "\n",
    "@mixins(Foo)\n",
    "class MyClass {}\n",
    "\n",
    "let obj = new MyClass();\n",
    "obj.foo() // \"foo\""
   ]
  },
  {
   "cell_type": "markdown",
   "id": "f650d6e9",
   "metadata": {},
   "source": [
    "通过`mixins`这个装饰器，实现了在`MyClass`类上面“混入”`Foo`对象的`foo`方法。\n",
    "\n",
    "不过，上面的方法会改写`MyClass`类的`prototype`对象，如果不喜欢这一点，也可以通过类的继承实现 Mixin。"
   ]
  },
  {
   "cell_type": "code",
   "execution_count": null,
   "id": "5e8ae83f",
   "metadata": {
    "attributes": {
     "classes": [
      "javascript"
     ],
     "id": ""
    }
   },
   "outputs": [],
   "source": [
    "class MyClass extends MyBaseClass {\n",
    "  /* ... */\n",
    "}"
   ]
  },
  {
   "cell_type": "markdown",
   "id": "ded9c977",
   "metadata": {},
   "source": [
    "上面代码中，`MyClass`继承了`MyBaseClass`。如果我们想在`MyClass`里面“混入”一个`foo`方法，一个办法是在`MyClass`和`MyBaseClass`之间插入一个混入类，这个类具有`foo`方法，并且继承了`MyBaseClass`的所有方法，然后`MyClass`再继承这个类。"
   ]
  },
  {
   "cell_type": "code",
   "execution_count": null,
   "id": "c035fd8d",
   "metadata": {
    "attributes": {
     "classes": [
      "javascript"
     ],
     "id": ""
    }
   },
   "outputs": [],
   "source": [
    "let MyMixin = (superclass) => class extends superclass {\n",
    "  foo() {\n",
    "    console.log('foo from MyMixin');\n",
    "  }\n",
    "};"
   ]
  },
  {
   "cell_type": "markdown",
   "id": "c6231202",
   "metadata": {},
   "source": [
    "上面代码中，`MyMixin`是一个混入类生成器，接受`superclass`作为参数，然后返回一个继承`superclass`的子类，该子类包含一个`foo`方法。\n",
    "\n",
    "接着，目标类再去继承这个混入类，就达到了“混入”`foo`方法的目的。"
   ]
  },
  {
   "cell_type": "code",
   "execution_count": null,
   "id": "749aa580",
   "metadata": {
    "attributes": {
     "classes": [
      "javascript"
     ],
     "id": ""
    }
   },
   "outputs": [],
   "source": [
    "class MyClass extends MyMixin(MyBaseClass) {\n",
    "  /* ... */\n",
    "}\n",
    "\n",
    "let c = new MyClass();\n",
    "c.foo(); // \"foo from MyMixin\""
   ]
  },
  {
   "cell_type": "markdown",
   "id": "7cefdfa7",
   "metadata": {},
   "source": [
    "如果需要“混入”多个方法，就生成多个混入类。"
   ]
  },
  {
   "cell_type": "code",
   "execution_count": null,
   "id": "b18e4a95",
   "metadata": {
    "attributes": {
     "classes": [
      "javascript"
     ],
     "id": ""
    }
   },
   "outputs": [],
   "source": [
    "class MyClass extends Mixin1(Mixin2(MyBaseClass)) {\n",
    "  /* ... */\n",
    "}"
   ]
  },
  {
   "cell_type": "markdown",
   "id": "1c18c027",
   "metadata": {},
   "source": [
    "这种写法的一个好处，是可以调用`super`，因此可以避免在“混入”过程中覆盖父类的同名方法。"
   ]
  },
  {
   "cell_type": "code",
   "execution_count": null,
   "id": "9b3b0375",
   "metadata": {
    "attributes": {
     "classes": [
      "javascript"
     ],
     "id": ""
    }
   },
   "outputs": [],
   "source": [
    "let Mixin1 = (superclass) => class extends superclass {\n",
    "  foo() {\n",
    "    console.log('foo from Mixin1');\n",
    "    if (super.foo) super.foo();\n",
    "  }\n",
    "};\n",
    "\n",
    "let Mixin2 = (superclass) => class extends superclass {\n",
    "  foo() {\n",
    "    console.log('foo from Mixin2');\n",
    "    if (super.foo) super.foo();\n",
    "  }\n",
    "};\n",
    "\n",
    "class S {\n",
    "  foo() {\n",
    "    console.log('foo from S');\n",
    "  }\n",
    "}\n",
    "\n",
    "class C extends Mixin1(Mixin2(S)) {\n",
    "  foo() {\n",
    "    console.log('foo from C');\n",
    "    super.foo();\n",
    "  }\n",
    "}"
   ]
  },
  {
   "cell_type": "markdown",
   "id": "1e05929a",
   "metadata": {},
   "source": [
    "上面代码中，每一次`混入`发生时，都调用了父类的`super.foo`方法，导致父类的同名方法没有被覆盖，行为被保留了下来。"
   ]
  },
  {
   "cell_type": "code",
   "execution_count": null,
   "id": "37c63ac9",
   "metadata": {
    "attributes": {
     "classes": [
      "javascript"
     ],
     "id": ""
    }
   },
   "outputs": [],
   "source": [
    "new C().foo()\n",
    "// foo from C\n",
    "// foo from Mixin1\n",
    "// foo from Mixin2\n",
    "// foo from S"
   ]
  },
  {
   "cell_type": "markdown",
   "id": "1475f459",
   "metadata": {},
   "source": [
    "## Trait\n",
    "\n",
    "Trait 也是一种装饰器，效果与 Mixin 类似，但是提供更多功能，比如防止同名方法的冲突、排除混入某些方法、为混入的方法起别名等等。\n",
    "\n",
    "下面采用[traits-decorator](https://github.com/CocktailJS/traits-decorator)这个第三方模块作为例子。这个模块提供的`traits`装饰器，不仅可以接受对象，还可以接受 ES6 类作为参数。"
   ]
  },
  {
   "cell_type": "code",
   "execution_count": null,
   "id": "f99bd2bf",
   "metadata": {
    "attributes": {
     "classes": [
      "javascript"
     ],
     "id": ""
    }
   },
   "outputs": [],
   "source": [
    "import { traits } from 'traits-decorator';\n",
    "\n",
    "class TFoo {\n",
    "  foo() { console.log('foo') }\n",
    "}\n",
    "\n",
    "const TBar = {\n",
    "  bar() { console.log('bar') }\n",
    "};\n",
    "\n",
    "@traits(TFoo, TBar)\n",
    "class MyClass { }\n",
    "\n",
    "let obj = new MyClass();\n",
    "obj.foo() // foo\n",
    "obj.bar() // bar"
   ]
  },
  {
   "cell_type": "markdown",
   "id": "e1b67cd9",
   "metadata": {},
   "source": [
    "上面代码中，通过`traits`装饰器，在`MyClass`类上面“混入”了`TFoo`类的`foo`方法和`TBar`对象的`bar`方法。\n",
    "\n",
    "Trait 不允许“混入”同名方法。"
   ]
  },
  {
   "cell_type": "code",
   "execution_count": null,
   "id": "1d5ce033",
   "metadata": {
    "attributes": {
     "classes": [
      "javascript"
     ],
     "id": ""
    }
   },
   "outputs": [],
   "source": [
    "import { traits } from 'traits-decorator';\n",
    "\n",
    "class TFoo {\n",
    "  foo() { console.log('foo') }\n",
    "}\n",
    "\n",
    "const TBar = {\n",
    "  bar() { console.log('bar') },\n",
    "  foo() { console.log('foo') }\n",
    "};\n",
    "\n",
    "@traits(TFoo, TBar)\n",
    "class MyClass { }\n",
    "// 报错\n",
    "// throw new Error('Method named: ' + methodName + ' is defined twice.');\n",
    "//        ^\n",
    "// Error: Method named: foo is defined twice."
   ]
  },
  {
   "cell_type": "markdown",
   "id": "06393e3b",
   "metadata": {},
   "source": [
    "上面代码中，`TFoo`和`TBar`都有`foo`方法，结果`traits`装饰器报错。\n",
    "\n",
    "一种解决方法是排除`TBar`的`foo`方法。"
   ]
  },
  {
   "cell_type": "code",
   "execution_count": null,
   "id": "de24f809",
   "metadata": {
    "attributes": {
     "classes": [
      "javascript"
     ],
     "id": ""
    }
   },
   "outputs": [],
   "source": [
    "import { traits, excludes } from 'traits-decorator';\n",
    "\n",
    "class TFoo {\n",
    "  foo() { console.log('foo') }\n",
    "}\n",
    "\n",
    "const TBar = {\n",
    "  bar() { console.log('bar') },\n",
    "  foo() { console.log('foo') }\n",
    "};\n",
    "\n",
    "@traits(TFoo, TBar::excludes('foo'))\n",
    "class MyClass { }\n",
    "\n",
    "let obj = new MyClass();\n",
    "obj.foo() // foo\n",
    "obj.bar() // bar"
   ]
  },
  {
   "cell_type": "markdown",
   "id": "9dc27b06",
   "metadata": {},
   "source": [
    "上面代码使用绑定运算符（::）在`TBar`上排除`foo`方法，混入时就不会报错了。\n",
    "\n",
    "另一种方法是为`TBar`的`foo`方法起一个别名。"
   ]
  },
  {
   "cell_type": "code",
   "execution_count": null,
   "id": "4b92731f",
   "metadata": {
    "attributes": {
     "classes": [
      "javascript"
     ],
     "id": ""
    }
   },
   "outputs": [],
   "source": [
    "import { traits, alias } from 'traits-decorator';\n",
    "\n",
    "class TFoo {\n",
    "  foo() { console.log('foo') }\n",
    "}\n",
    "\n",
    "const TBar = {\n",
    "  bar() { console.log('bar') },\n",
    "  foo() { console.log('foo') }\n",
    "};\n",
    "\n",
    "@traits(TFoo, TBar::alias({foo: 'aliasFoo'}))\n",
    "class MyClass { }\n",
    "\n",
    "let obj = new MyClass();\n",
    "obj.foo() // foo\n",
    "obj.aliasFoo() // foo\n",
    "obj.bar() // bar"
   ]
  },
  {
   "cell_type": "markdown",
   "id": "d1969685",
   "metadata": {},
   "source": [
    "上面代码为`TBar`的`foo`方法起了别名`aliasFoo`，于是`MyClass`也可以混入`TBar`的`foo`方法了。\n",
    "\n",
    "`alias`和`excludes`方法，可以结合起来使用。"
   ]
  },
  {
   "cell_type": "code",
   "execution_count": null,
   "id": "a4b64f56",
   "metadata": {
    "attributes": {
     "classes": [
      "javascript"
     ],
     "id": ""
    }
   },
   "outputs": [],
   "source": [
    "@traits(TExample::excludes('foo','bar')::alias({baz:'exampleBaz'}))\n",
    "class MyClass {}"
   ]
  },
  {
   "cell_type": "markdown",
   "id": "8271dcb7",
   "metadata": {},
   "source": [
    "上面代码排除了`TExample`的`foo`方法和`bar`方法，为`baz`方法起了别名`exampleBaz`。\n",
    "\n",
    "`as`方法则为上面的代码提供了另一种写法。"
   ]
  },
  {
   "cell_type": "code",
   "execution_count": null,
   "id": "48e22cb4",
   "metadata": {
    "attributes": {
     "classes": [
      "javascript"
     ],
     "id": ""
    }
   },
   "outputs": [],
   "source": [
    "@traits(TExample::as({excludes:['foo', 'bar'], alias: {baz: 'exampleBaz'}}))\n",
    "class MyClass {}"
   ]
  }
 ],
 "metadata": {},
 "nbformat": 4,
 "nbformat_minor": 5
}

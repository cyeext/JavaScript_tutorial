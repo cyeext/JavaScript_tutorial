{
 "cells": [
  {
   "cell_type": "markdown",
   "id": "39f3168a",
   "metadata": {},
   "source": [
    "# Generator 函数的异步应用\n",
    "\n",
    "异步编程对 JavaScript 语言太重要。JavaScript 语言的执行环境是“单线程”的，如果没有异步编程，根本没法用，非卡死不可。本章主要介绍 Generator 函数如何完成异步操作。\n",
    "\n",
    "## 传统方法\n",
    "\n",
    "ES6 诞生以前，异步编程的方法，大概有下面四种。\n",
    "\n",
    "- 回调函数\n",
    "- 事件监听\n",
    "- 发布/订阅\n",
    "- Promise 对象\n",
    "\n",
    "Generator 函数将 JavaScript 异步编程带入了一个全新的阶段。\n",
    "\n",
    "## 基本概念\n",
    "\n",
    "### 异步\n",
    "\n",
    "所谓\"异步\"，简单说就是一个任务不是连续完成的，可以理解成该任务被人为分成两段，先执行第一段，然后转而执行其他任务，等做好了准备，再回过头执行第二段。\n",
    "\n",
    "比如，有一个任务是读取文件进行处理，任务的第一段是向操作系统发出请求，要求读取文件。然后，程序执行其他任务，等到操作系统返回文件，再接着执行任务的第二段（处理文件）。这种不连续的执行，就叫做异步。\n",
    "\n",
    "相应地，连续的执行就叫做同步。由于是连续执行，不能插入其他任务，所以操作系统从硬盘读取文件的这段时间，程序只能干等着。\n",
    "\n",
    "### 回调函数\n",
    "\n",
    "JavaScript 语言对异步编程的实现，就是回调函数。所谓回调函数，就是把任务的第二段单独写在一个函数里面，等到重新执行这个任务的时候，就直接调用这个函数。回调函数的英语名字`callback`，直译过来就是\"重新调用\"。\n",
    "\n",
    "读取文件进行处理，是这样写的。"
   ]
  },
  {
   "cell_type": "code",
   "execution_count": null,
   "id": "6f86b6ff",
   "metadata": {
    "attributes": {
     "classes": [
      "javascript"
     ],
     "id": ""
    }
   },
   "outputs": [],
   "source": [
    "fs.readFile('/etc/passwd', 'utf-8', function (err, data) {\n",
    "  if (err) throw err;\n",
    "  console.log(data);\n",
    "});"
   ]
  },
  {
   "cell_type": "markdown",
   "id": "4bd386c8",
   "metadata": {},
   "source": [
    "上面代码中，`readFile`函数的第三个参数，就是回调函数，也就是任务的第二段。等到操作系统返回了`/etc/passwd`这个文件以后，回调函数才会执行。\n",
    "\n",
    "一个有趣的问题是，为什么 Node 约定，回调函数的第一个参数，必须是错误对象`err`（如果没有错误，该参数就是`null`）？\n",
    "\n",
    "原因是执行分成两段，第一段执行完以后，任务所在的上下文环境就已经结束了。在这以后抛出的错误，原来的上下文环境已经无法捕捉，只能当作参数，传入第二段。\n",
    "\n",
    "### Promise\n",
    "\n",
    "回调函数本身并没有问题，它的问题出现在多个回调函数嵌套。假定读取`A`文件之后，再读取`B`文件，代码如下。"
   ]
  },
  {
   "cell_type": "code",
   "execution_count": null,
   "id": "dc254317",
   "metadata": {
    "attributes": {
     "classes": [
      "javascript"
     ],
     "id": ""
    }
   },
   "outputs": [],
   "source": [
    "fs.readFile(fileA, 'utf-8', function (err, data) {\n",
    "  fs.readFile(fileB, 'utf-8', function (err, data) {\n",
    "    // ...\n",
    "  });\n",
    "});"
   ]
  },
  {
   "cell_type": "markdown",
   "id": "06cb1013",
   "metadata": {},
   "source": [
    "不难想象，如果依次读取两个以上的文件，就会出现多重嵌套。代码不是纵向发展，而是横向发展，很快就会乱成一团，无法管理。因为多个异步操作形成了强耦合，只要有一个操作需要修改，它的上层回调函数和下层回调函数，可能都要跟着修改。这种情况就称为\"回调函数地狱\"（callback hell）。\n",
    "\n",
    "Promise 对象就是为了解决这个问题而提出的。它不是新的语法功能，而是一种新的写法，允许将回调函数的嵌套，改成链式调用。采用 Promise，连续读取多个文件，写法如下。"
   ]
  },
  {
   "cell_type": "code",
   "execution_count": null,
   "id": "cba55fa3",
   "metadata": {
    "attributes": {
     "classes": [
      "javascript"
     ],
     "id": ""
    }
   },
   "outputs": [],
   "source": [
    "var readFile = require('fs-readfile-promise');\n",
    "\n",
    "readFile(fileA)\n",
    ".then(function (data) {\n",
    "  console.log(data.toString());\n",
    "})\n",
    ".then(function () {\n",
    "  return readFile(fileB);\n",
    "})\n",
    ".then(function (data) {\n",
    "  console.log(data.toString());\n",
    "})\n",
    ".catch(function (err) {\n",
    "  console.log(err);\n",
    "});"
   ]
  },
  {
   "cell_type": "markdown",
   "id": "cdbde9ca",
   "metadata": {},
   "source": [
    "上面代码中，我使用了`fs-readfile-promise`模块，它的作用就是返回一个 Promise 版本的`readFile`函数。Promise 提供`then`方法加载回调函数，`catch`方法捕捉执行过程中抛出的错误。\n",
    "\n",
    "可以看到，Promise 的写法只是回调函数的改进，使用`then`方法以后，异步任务的两段执行看得更清楚了，除此以外，并无新意。\n",
    "\n",
    "Promise 的最大问题是代码冗余，原来的任务被 Promise 包装了一下，不管什么操作，一眼看去都是一堆`then`，原来的语义变得很不清楚。\n",
    "\n",
    "那么，有没有更好的写法呢？\n",
    "\n",
    "## Generator 函数\n",
    "\n",
    "### 协程\n",
    "\n",
    "传统的编程语言，早有异步编程的解决方案（其实是多任务的解决方案）。其中有一种叫做\"协程\"（coroutine），意思是多个线程互相协作，完成异步任务。\n",
    "\n",
    "协程有点像函数，又有点像线程。它的运行流程大致如下。\n",
    "\n",
    "- 第一步，协程`A`开始执行。\n",
    "- 第二步，协程`A`执行到一半，进入暂停，执行权转移到协程`B`。\n",
    "- 第三步，（一段时间后）协程`B`交还执行权。\n",
    "- 第四步，协程`A`恢复执行。\n",
    "\n",
    "上面流程的协程`A`，就是异步任务，因为它分成两段（或多段）执行。\n",
    "\n",
    "举例来说，读取文件的协程写法如下。"
   ]
  },
  {
   "cell_type": "code",
   "execution_count": null,
   "id": "14ce5c4b",
   "metadata": {
    "attributes": {
     "classes": [
      "javascript"
     ],
     "id": ""
    }
   },
   "outputs": [],
   "source": [
    "function* asyncJob() {\n",
    "  // ...其他代码\n",
    "  var f = yield readFile(fileA);\n",
    "  // ...其他代码\n",
    "}"
   ]
  },
  {
   "cell_type": "markdown",
   "id": "8af32224",
   "metadata": {},
   "source": [
    "上面代码的函数`asyncJob`是一个协程，它的奥妙就在其中的`yield`命令。它表示执行到此处，执行权将交给其他协程。也就是说，`yield`命令是异步两个阶段的分界线。\n",
    "\n",
    "协程遇到`yield`命令就暂停，等到执行权返回，再从暂停的地方继续往后执行。它的最大优点，就是代码的写法非常像同步操作，如果去除`yield`命令，简直一模一样。\n",
    "\n",
    "### 协程的 Generator 函数实现\n",
    "\n",
    "Generator 函数是协程在 ES6 的实现，最大特点就是可以交出函数的执行权（即暂停执行）。\n",
    "\n",
    "整个 Generator 函数就是一个封装的异步任务，或者说是异步任务的容器。异步操作需要暂停的地方，都用`yield`语句注明。Generator 函数的执行方法如下。"
   ]
  },
  {
   "cell_type": "code",
   "execution_count": null,
   "id": "c1f85c2c",
   "metadata": {
    "attributes": {
     "classes": [
      "javascript"
     ],
     "id": ""
    }
   },
   "outputs": [],
   "source": [
    "function* gen(x) {\n",
    "  var y = yield x + 2;\n",
    "  return y;\n",
    "}\n",
    "\n",
    "var g = gen(1);\n",
    "g.next() // { value: 3, done: false }\n",
    "g.next() // { value: undefined, done: true }"
   ]
  },
  {
   "cell_type": "markdown",
   "id": "b77a6d07",
   "metadata": {},
   "source": [
    "上面代码中，调用 Generator 函数，会返回一个内部指针（即遍历器）`g`。这是 Generator 函数不同于普通函数的另一个地方，即执行它不会返回结果，返回的是指针对象。调用指针`g`的`next`方法，会移动内部指针（即执行异步任务的第一段），指向第一个遇到的`yield`语句，上例是执行到`x + 2`为止。\n",
    "\n",
    "换言之，`next`方法的作用是分阶段执行`Generator`函数。每次调用`next`方法，会返回一个对象，表示当前阶段的信息（`value`属性和`done`属性）。`value`属性是`yield`语句后面表达式的值，表示当前阶段的值；`done`属性是一个布尔值，表示 Generator 函数是否执行完毕，即是否还有下一个阶段。\n",
    "\n",
    "### Generator 函数的数据交换和错误处理\n",
    "\n",
    "Generator 函数可以暂停执行和恢复执行，这是它能封装异步任务的根本原因。除此之外，它还有两个特性，使它可以作为异步编程的完整解决方案：函数体内外的数据交换和错误处理机制。\n",
    "\n",
    "`next`返回值的 value 属性，是 Generator 函数向外输出数据；`next`方法还可以接受参数，向 Generator 函数体内输入数据。"
   ]
  },
  {
   "cell_type": "code",
   "execution_count": null,
   "id": "cb62547b",
   "metadata": {
    "attributes": {
     "classes": [
      "javascript"
     ],
     "id": ""
    }
   },
   "outputs": [],
   "source": [
    "function* gen(x){\n",
    "  var y = yield x + 2;\n",
    "  return y;\n",
    "}\n",
    "\n",
    "var g = gen(1);\n",
    "g.next() // { value: 3, done: false }\n",
    "g.next(2) // { value: 2, done: true }"
   ]
  },
  {
   "cell_type": "markdown",
   "id": "6fb377b9",
   "metadata": {},
   "source": [
    "上面代码中，第一个`next`方法的`value`属性，返回表达式`x + 2`的值`3`。第二个`next`方法带有参数`2`，这个参数可以传入 Generator 函数，作为上个阶段异步任务的返回结果，被函数体内的变量`y`接收。因此，这一步的`value`属性，返回的就是`2`（变量`y`的值）。\n",
    "\n",
    "Generator 函数内部还可以部署错误处理代码，捕获函数体外抛出的错误。"
   ]
  },
  {
   "cell_type": "code",
   "execution_count": null,
   "id": "e6effcc0",
   "metadata": {
    "attributes": {
     "classes": [
      "javascript"
     ],
     "id": ""
    }
   },
   "outputs": [],
   "source": [
    "function* gen(x){\n",
    "  try {\n",
    "    var y = yield x + 2;\n",
    "  } catch (e){\n",
    "    console.log(e);\n",
    "  }\n",
    "  return y;\n",
    "}\n",
    "\n",
    "var g = gen(1);\n",
    "g.next();\n",
    "g.throw('出错了');\n",
    "// 出错了"
   ]
  },
  {
   "cell_type": "markdown",
   "id": "a419f084",
   "metadata": {},
   "source": [
    "上面代码的最后一行，Generator 函数体外，使用指针对象的`throw`方法抛出的错误，可以被函数体内的`try...catch`代码块捕获。这意味着，出错的代码与处理错误的代码，实现了时间和空间上的分离，这对于异步编程无疑是很重要的。\n",
    "\n",
    "### 异步任务的封装\n",
    "\n",
    "下面看看如何使用 Generator 函数，执行一个真实的异步任务。"
   ]
  },
  {
   "cell_type": "code",
   "execution_count": null,
   "id": "879b643a",
   "metadata": {
    "attributes": {
     "classes": [
      "javascript"
     ],
     "id": ""
    }
   },
   "outputs": [],
   "source": [
    "var fetch = require('node-fetch');\n",
    "\n",
    "function* gen(){\n",
    "  var url = 'https://api.github.com/users/github';\n",
    "  var result = yield fetch(url);\n",
    "  console.log(result.bio);\n",
    "}"
   ]
  },
  {
   "cell_type": "markdown",
   "id": "ef028565",
   "metadata": {},
   "source": [
    "上面代码中，Generator 函数封装了一个异步操作，该操作先读取一个远程接口，然后从 JSON 格式的数据解析信息。就像前面说过的，这段代码非常像同步操作，除了加上了`yield`命令。\n",
    "\n",
    "执行这段代码的方法如下。"
   ]
  },
  {
   "cell_type": "code",
   "execution_count": null,
   "id": "7a0ee564",
   "metadata": {
    "attributes": {
     "classes": [
      "javascript"
     ],
     "id": ""
    }
   },
   "outputs": [],
   "source": [
    "var g = gen();\n",
    "var result = g.next();\n",
    "\n",
    "result.value.then(function(data){\n",
    "  return data.json();\n",
    "}).then(function(data){\n",
    "  g.next(data);\n",
    "});"
   ]
  },
  {
   "cell_type": "markdown",
   "id": "196618ba",
   "metadata": {},
   "source": [
    "上面代码中，首先执行 Generator 函数，获取遍历器对象，然后使用`next`方法（第二行），执行异步任务的第一阶段。由于`Fetch`模块返回的是一个 Promise 对象，因此要用`then`方法调用下一个`next`方法。\n",
    "\n",
    "可以看到，虽然 Generator 函数将异步操作表示得很简洁，但是流程管理却不方便（即何时执行第一阶段、何时执行第二阶段）。\n",
    "\n",
    "## Thunk 函数\n",
    "\n",
    "Thunk 函数是自动执行 Generator 函数的一种方法。\n",
    "\n",
    "### 参数的求值策略\n",
    "\n",
    "Thunk 函数早在上个世纪 60 年代就诞生了。\n",
    "\n",
    "那时，编程语言刚刚起步，计算机学家还在研究，编译器怎么写比较好。一个争论的焦点是\"求值策略\"，即函数的参数到底应该何时求值。"
   ]
  },
  {
   "cell_type": "code",
   "execution_count": null,
   "id": "16fdef3e",
   "metadata": {
    "attributes": {
     "classes": [
      "javascript"
     ],
     "id": ""
    }
   },
   "outputs": [],
   "source": [
    "var x = 1;\n",
    "\n",
    "function f(m) {\n",
    "  return m * 2;\n",
    "}\n",
    "\n",
    "f(x + 5)"
   ]
  },
  {
   "cell_type": "markdown",
   "id": "b7f67b8e",
   "metadata": {},
   "source": [
    "上面代码先定义函数`f`，然后向它传入表达式`x + 5`。请问，这个表达式应该何时求值？\n",
    "\n",
    "一种意见是\"传值调用\"（call by value），即在进入函数体之前，就计算`x + 5`的值（等于 6），再将这个值传入函数`f`。C 语言就采用这种策略。"
   ]
  },
  {
   "cell_type": "code",
   "execution_count": null,
   "id": "0f51892a",
   "metadata": {
    "attributes": {
     "classes": [
      "javascript"
     ],
     "id": ""
    }
   },
   "outputs": [],
   "source": [
    "f(x + 5)\n",
    "// 传值调用时，等同于\n",
    "f(6)"
   ]
  },
  {
   "cell_type": "markdown",
   "id": "931719c0",
   "metadata": {},
   "source": [
    "另一种意见是“传名调用”（call by name），即直接将表达式`x + 5`传入函数体，只在用到它的时候求值。Haskell 语言采用这种策略。"
   ]
  },
  {
   "cell_type": "code",
   "execution_count": null,
   "id": "a14567d4",
   "metadata": {
    "attributes": {
     "classes": [
      "javascript"
     ],
     "id": ""
    }
   },
   "outputs": [],
   "source": [
    "f(x + 5)\n",
    "// 传名调用时，等同于\n",
    "(x + 5) * 2"
   ]
  },
  {
   "cell_type": "markdown",
   "id": "f706776b",
   "metadata": {},
   "source": [
    "传值调用和传名调用，哪一种比较好？\n",
    "\n",
    "回答是各有利弊。传值调用比较简单，但是对参数求值的时候，实际上还没用到这个参数，有可能造成性能损失。"
   ]
  },
  {
   "cell_type": "code",
   "execution_count": null,
   "id": "89690912",
   "metadata": {
    "attributes": {
     "classes": [
      "javascript"
     ],
     "id": ""
    }
   },
   "outputs": [],
   "source": [
    "function f(a, b){\n",
    "  return b;\n",
    "}\n",
    "\n",
    "f(3 * x * x - 2 * x - 1, x);"
   ]
  },
  {
   "cell_type": "markdown",
   "id": "b0a88b84",
   "metadata": {},
   "source": [
    "上面代码中，函数`f`的第一个参数是一个复杂的表达式，但是函数体内根本没用到。对这个参数求值，实际上是不必要的。因此，有一些计算机学家倾向于\"传名调用\"，即只在执行时求值。\n",
    "\n",
    "### Thunk 函数的含义\n",
    "\n",
    "编译器的“传名调用”实现，往往是将参数放到一个临时函数之中，再将这个临时函数传入函数体。这个临时函数就叫做 Thunk 函数。"
   ]
  },
  {
   "cell_type": "code",
   "execution_count": null,
   "id": "4ec64ea5",
   "metadata": {
    "attributes": {
     "classes": [
      "javascript"
     ],
     "id": ""
    }
   },
   "outputs": [],
   "source": [
    "function f(m) {\n",
    "  return m * 2;\n",
    "}\n",
    "\n",
    "f(x + 5);\n",
    "\n",
    "// 等同于\n",
    "\n",
    "var thunk = function () {\n",
    "  return x + 5;\n",
    "};\n",
    "\n",
    "function f(thunk) {\n",
    "  return thunk() * 2;\n",
    "}"
   ]
  },
  {
   "cell_type": "markdown",
   "id": "593a5d3a",
   "metadata": {},
   "source": [
    "上面代码中，函数 f 的参数`x + 5`被一个函数替换了。凡是用到原参数的地方，对`Thunk`函数求值即可。\n",
    "\n",
    "这就是 Thunk 函数的定义，它是“传名调用”的一种实现策略，用来替换某个表达式。\n",
    "\n",
    "### JavaScript 语言的 Thunk 函数\n",
    "\n",
    "JavaScript 语言是传值调用，它的 Thunk 函数含义有所不同。在 JavaScript 语言中，Thunk 函数替换的不是表达式，而是多参数函数，将其替换成一个只接受回调函数作为参数的单参数函数。"
   ]
  },
  {
   "cell_type": "code",
   "execution_count": null,
   "id": "21b99207",
   "metadata": {
    "attributes": {
     "classes": [
      "javascript"
     ],
     "id": ""
    }
   },
   "outputs": [],
   "source": [
    "// 正常版本的readFile（多参数版本）\n",
    "fs.readFile(fileName, callback);\n",
    "\n",
    "// Thunk版本的readFile（单参数版本）\n",
    "var Thunk = function (fileName) {\n",
    "  return function (callback) {\n",
    "    return fs.readFile(fileName, callback);\n",
    "  };\n",
    "};\n",
    "\n",
    "var readFileThunk = Thunk(fileName);\n",
    "readFileThunk(callback);"
   ]
  },
  {
   "cell_type": "markdown",
   "id": "41f0f253",
   "metadata": {},
   "source": [
    "上面代码中，`fs`模块的`readFile`方法是一个多参数函数，两个参数分别为文件名和回调函数。经过转换器处理，它变成了一个单参数函数，只接受回调函数作为参数。这个单参数版本，就叫做 Thunk 函数。\n",
    "\n",
    "任何函数，只要参数有回调函数，就能写成 Thunk 函数的形式。下面是一个简单的 Thunk 函数转换器。"
   ]
  },
  {
   "cell_type": "code",
   "execution_count": null,
   "id": "d9487461",
   "metadata": {
    "attributes": {
     "classes": [
      "javascript"
     ],
     "id": ""
    }
   },
   "outputs": [],
   "source": [
    "// ES5版本\n",
    "var Thunk = function(fn){\n",
    "  return function (){\n",
    "    var args = Array.prototype.slice.call(arguments);\n",
    "    return function (callback){\n",
    "      args.push(callback);\n",
    "      return fn.apply(this, args);\n",
    "    }\n",
    "  };\n",
    "};\n",
    "\n",
    "// ES6版本\n",
    "const Thunk = function(fn) {\n",
    "  return function (...args) {\n",
    "    return function (callback) {\n",
    "      return fn.call(this, ...args, callback);\n",
    "    }\n",
    "  };\n",
    "};"
   ]
  },
  {
   "cell_type": "markdown",
   "id": "24f34434",
   "metadata": {},
   "source": [
    "使用上面的转换器，生成`fs.readFile`的 Thunk 函数。"
   ]
  },
  {
   "cell_type": "code",
   "execution_count": null,
   "id": "cd3ea3fc",
   "metadata": {
    "attributes": {
     "classes": [
      "javascript"
     ],
     "id": ""
    }
   },
   "outputs": [],
   "source": [
    "var readFileThunk = Thunk(fs.readFile);\n",
    "readFileThunk(fileA)(callback);"
   ]
  },
  {
   "cell_type": "markdown",
   "id": "66616bda",
   "metadata": {},
   "source": [
    "下面是另一个完整的例子。"
   ]
  },
  {
   "cell_type": "code",
   "execution_count": null,
   "id": "6ba035aa",
   "metadata": {
    "attributes": {
     "classes": [
      "javascript"
     ],
     "id": ""
    }
   },
   "outputs": [],
   "source": [
    "function f(a, cb) {\n",
    "  cb(a);\n",
    "}\n",
    "const ft = Thunk(f);\n",
    "\n",
    "ft(1)(console.log) // 1"
   ]
  },
  {
   "cell_type": "markdown",
   "id": "21b216dc",
   "metadata": {},
   "source": [
    "### Thunkify 模块\n",
    "\n",
    "生产环境的转换器，建议使用 Thunkify 模块。\n",
    "\n",
    "首先是安装。"
   ]
  },
  {
   "cell_type": "code",
   "execution_count": null,
   "id": "c95b8199",
   "metadata": {},
   "outputs": [],
   "source": [
    "%%bash\n",
    "$ npm install thunkify"
   ]
  },
  {
   "cell_type": "markdown",
   "id": "85c5d963",
   "metadata": {},
   "source": [
    "使用方式如下。"
   ]
  },
  {
   "cell_type": "code",
   "execution_count": null,
   "id": "b6bc7a4b",
   "metadata": {
    "attributes": {
     "classes": [
      "javascript"
     ],
     "id": ""
    }
   },
   "outputs": [],
   "source": [
    "var thunkify = require('thunkify');\n",
    "var fs = require('fs');\n",
    "\n",
    "var read = thunkify(fs.readFile);\n",
    "read('package.json')(function(err, str){\n",
    "  // ...\n",
    "});"
   ]
  },
  {
   "cell_type": "markdown",
   "id": "6f8debcb",
   "metadata": {},
   "source": [
    "Thunkify 的源码与上一节那个简单的转换器非常像。"
   ]
  },
  {
   "cell_type": "code",
   "execution_count": null,
   "id": "0eccdc5f",
   "metadata": {
    "attributes": {
     "classes": [
      "javascript"
     ],
     "id": ""
    }
   },
   "outputs": [],
   "source": [
    "function thunkify(fn) {\n",
    "  return function() {\n",
    "    var args = new Array(arguments.length);\n",
    "    var ctx = this;\n",
    "\n",
    "    for (var i = 0; i < args.length; ++i) {\n",
    "      args[i] = arguments[i];\n",
    "    }\n",
    "\n",
    "    return function (done) {\n",
    "      var called;\n",
    "\n",
    "      args.push(function () {\n",
    "        if (called) return;\n",
    "        called = true;\n",
    "        done.apply(null, arguments);\n",
    "      });\n",
    "\n",
    "      try {\n",
    "        fn.apply(ctx, args);\n",
    "      } catch (err) {\n",
    "        done(err);\n",
    "      }\n",
    "    }\n",
    "  }\n",
    "};"
   ]
  },
  {
   "cell_type": "markdown",
   "id": "8269c709",
   "metadata": {},
   "source": [
    "它的源码主要多了一个检查机制，变量`called`确保回调函数只运行一次。这样的设计与下文的 Generator 函数相关。请看下面的例子。"
   ]
  },
  {
   "cell_type": "code",
   "execution_count": null,
   "id": "daaafb09",
   "metadata": {
    "attributes": {
     "classes": [
      "javascript"
     ],
     "id": ""
    }
   },
   "outputs": [],
   "source": [
    "function f(a, b, callback){\n",
    "  var sum = a + b;\n",
    "  callback(sum);\n",
    "  callback(sum);\n",
    "}\n",
    "\n",
    "var ft = thunkify(f);\n",
    "var print = console.log.bind(console);\n",
    "ft(1, 2)(print);\n",
    "// 3"
   ]
  },
  {
   "cell_type": "markdown",
   "id": "3d679654",
   "metadata": {},
   "source": [
    "上面代码中，由于`thunkify`只允许回调函数执行一次，所以只输出一行结果。\n",
    "\n",
    "### Generator 函数的流程管理\n",
    "\n",
    "你可能会问， Thunk 函数有什么用？回答是以前确实没什么用，但是 ES6 有了 Generator 函数，Thunk 函数现在可以用于 Generator 函数的自动流程管理。\n",
    "\n",
    "Generator 函数可以自动执行。"
   ]
  },
  {
   "cell_type": "code",
   "execution_count": null,
   "id": "a9b70d4b",
   "metadata": {
    "attributes": {
     "classes": [
      "javascript"
     ],
     "id": ""
    }
   },
   "outputs": [],
   "source": [
    "function* gen() {\n",
    "  // ...\n",
    "}\n",
    "\n",
    "var g = gen();\n",
    "var res = g.next();\n",
    "\n",
    "while(!res.done){\n",
    "  console.log(res.value);\n",
    "  res = g.next();\n",
    "}"
   ]
  },
  {
   "cell_type": "markdown",
   "id": "f5b45da2",
   "metadata": {},
   "source": [
    "上面代码中，Generator 函数`gen`会自动执行完所有步骤。\n",
    "\n",
    "但是，这不适合异步操作。如果必须保证前一步执行完，才能执行后一步，上面的自动执行就不可行。这时，Thunk 函数就能派上用处。以读取文件为例。下面的 Generator 函数封装了两个异步操作。"
   ]
  },
  {
   "cell_type": "code",
   "execution_count": null,
   "id": "382a38c7",
   "metadata": {
    "attributes": {
     "classes": [
      "javascript"
     ],
     "id": ""
    }
   },
   "outputs": [],
   "source": [
    "var fs = require('fs');\n",
    "var thunkify = require('thunkify');\n",
    "var readFileThunk = thunkify(fs.readFile);\n",
    "\n",
    "var gen = function* (){\n",
    "  var r1 = yield readFileThunk('/etc/fstab');\n",
    "  console.log(r1.toString());\n",
    "  var r2 = yield readFileThunk('/etc/shells');\n",
    "  console.log(r2.toString());\n",
    "};"
   ]
  },
  {
   "cell_type": "markdown",
   "id": "987c427b",
   "metadata": {},
   "source": [
    "上面代码中，`yield`命令用于将程序的执行权移出 Generator 函数，那么就需要一种方法，将执行权再交还给 Generator 函数。\n",
    "\n",
    "这种方法就是 Thunk 函数，因为它可以在回调函数里，将执行权交还给 Generator 函数。为了便于理解，我们先看如何手动执行上面这个 Generator 函数。"
   ]
  },
  {
   "cell_type": "code",
   "execution_count": null,
   "id": "1cad7976",
   "metadata": {
    "attributes": {
     "classes": [
      "javascript"
     ],
     "id": ""
    }
   },
   "outputs": [],
   "source": [
    "var g = gen();\n",
    "\n",
    "var r1 = g.next();\n",
    "r1.value(function (err, data) {\n",
    "  if (err) throw err;\n",
    "  var r2 = g.next(data);\n",
    "  r2.value(function (err, data) {\n",
    "    if (err) throw err;\n",
    "    g.next(data);\n",
    "  });\n",
    "});"
   ]
  },
  {
   "cell_type": "markdown",
   "id": "9e8c8587",
   "metadata": {},
   "source": [
    "上面代码中，变量`g`是 Generator 函数的内部指针，表示目前执行到哪一步。`next`方法负责将指针移动到下一步，并返回该步的信息（`value`属性和`done`属性）。\n",
    "\n",
    "仔细查看上面的代码，可以发现 Generator 函数的执行过程，其实是将同一个回调函数，反复传入`next`方法的`value`属性。这使得我们可以用递归来自动完成这个过程。\n",
    "\n",
    "### Thunk 函数的自动流程管理\n",
    "\n",
    "Thunk 函数真正的威力，在于可以自动执行 Generator 函数。下面就是一个基于 Thunk 函数的 Generator 执行器。"
   ]
  },
  {
   "cell_type": "code",
   "execution_count": null,
   "id": "be35802b",
   "metadata": {
    "attributes": {
     "classes": [
      "javascript"
     ],
     "id": ""
    }
   },
   "outputs": [],
   "source": [
    "function run(fn) {\n",
    "  var gen = fn();\n",
    "\n",
    "  function next(err, data) {\n",
    "    var result = gen.next(data);\n",
    "    if (result.done) return;\n",
    "    result.value(next);\n",
    "  }\n",
    "\n",
    "  next();\n",
    "}\n",
    "\n",
    "function* g() {\n",
    "  // ...\n",
    "}\n",
    "\n",
    "run(g);"
   ]
  },
  {
   "cell_type": "markdown",
   "id": "0de3d0e9",
   "metadata": {},
   "source": [
    "上面代码的`run`函数，就是一个 Generator 函数的自动执行器。内部的`next`函数就是 Thunk 的回调函数。`next`函数先将指针移到 Generator 函数的下一步（`gen.next`方法），然后判断 Generator 函数是否结束（`result.done`属性），如果没结束，就将`next`函数再传入 Thunk 函数（`result.value`属性），否则就直接退出。\n",
    "\n",
    "有了这个执行器，执行 Generator 函数方便多了。不管内部有多少个异步操作，直接把 Generator 函数传入`run`函数即可。当然，前提是每一个异步操作，都要是 Thunk 函数，也就是说，跟在`yield`命令后面的必须是 Thunk 函数。"
   ]
  },
  {
   "cell_type": "code",
   "execution_count": null,
   "id": "53ce9dac",
   "metadata": {
    "attributes": {
     "classes": [
      "javascript"
     ],
     "id": ""
    }
   },
   "outputs": [],
   "source": [
    "var g = function* (){\n",
    "  var f1 = yield readFileThunk('fileA');\n",
    "  var f2 = yield readFileThunk('fileB');\n",
    "  // ...\n",
    "  var fn = yield readFileThunk('fileN');\n",
    "};\n",
    "\n",
    "run(g);"
   ]
  },
  {
   "cell_type": "markdown",
   "id": "f6bd59f8",
   "metadata": {},
   "source": [
    "上面代码中，函数`g`封装了`n`个异步的读取文件操作，只要执行`run`函数，这些操作就会自动完成。这样一来，异步操作不仅可以写得像同步操作，而且一行代码就可以执行。\n",
    "\n",
    "Thunk 函数并不是 Generator 函数自动执行的唯一方案。因为自动执行的关键是，必须有一种机制，自动控制 Generator 函数的流程，接收和交还程序的执行权。回调函数可以做到这一点，Promise 对象也可以做到这一点。\n",
    "\n",
    "## co 模块\n",
    "\n",
    "### 基本用法\n",
    "\n",
    "[co 模块](https://github.com/tj/co)是著名程序员 TJ Holowaychuk 于 2013 年 6 月发布的一个小工具，用于 Generator 函数的自动执行。\n",
    "\n",
    "下面是一个 Generator 函数，用于依次读取两个文件。"
   ]
  },
  {
   "cell_type": "code",
   "execution_count": null,
   "id": "973943c5",
   "metadata": {
    "attributes": {
     "classes": [
      "javascript"
     ],
     "id": ""
    }
   },
   "outputs": [],
   "source": [
    "var gen = function* () {\n",
    "  var f1 = yield readFile('/etc/fstab');\n",
    "  var f2 = yield readFile('/etc/shells');\n",
    "  console.log(f1.toString());\n",
    "  console.log(f2.toString());\n",
    "};"
   ]
  },
  {
   "cell_type": "markdown",
   "id": "f74c5319",
   "metadata": {},
   "source": [
    "co 模块可以让你不用编写 Generator 函数的执行器。"
   ]
  },
  {
   "cell_type": "code",
   "execution_count": null,
   "id": "a30ab973",
   "metadata": {
    "attributes": {
     "classes": [
      "javascript"
     ],
     "id": ""
    }
   },
   "outputs": [],
   "source": [
    "var co = require('co');\n",
    "co(gen);"
   ]
  },
  {
   "cell_type": "markdown",
   "id": "13349394",
   "metadata": {},
   "source": [
    "上面代码中，Generator 函数只要传入`co`函数，就会自动执行。\n",
    "\n",
    "`co`函数返回一个`Promise`对象，因此可以用`then`方法添加回调函数。"
   ]
  },
  {
   "cell_type": "code",
   "execution_count": null,
   "id": "0782e123",
   "metadata": {
    "attributes": {
     "classes": [
      "javascript"
     ],
     "id": ""
    }
   },
   "outputs": [],
   "source": [
    "co(gen).then(function (){\n",
    "  console.log('Generator 函数执行完成');\n",
    "});"
   ]
  },
  {
   "cell_type": "markdown",
   "id": "38eb6bff",
   "metadata": {},
   "source": [
    "上面代码中，等到 Generator 函数执行结束，就会输出一行提示。\n",
    "\n",
    "### co 模块的原理\n",
    "\n",
    "为什么 co 可以自动执行 Generator 函数？\n",
    "\n",
    "前面说过，Generator 就是一个异步操作的容器。它的自动执行需要一种机制，当异步操作有了结果，能够自动交回执行权。\n",
    "\n",
    "两种方法可以做到这一点。\n",
    "\n",
    "（1）回调函数。将异步操作包装成 Thunk 函数，在回调函数里面交回执行权。\n",
    "\n",
    "（2）Promise 对象。将异步操作包装成 Promise 对象，用`then`方法交回执行权。\n",
    "\n",
    "co 模块其实就是将两种自动执行器（Thunk 函数和 Promise 对象），包装成一个模块。使用 co 的前提条件是，Generator 函数的`yield`命令后面，只能是 Thunk 函数或 Promise 对象。如果数组或对象的成员，全部都是 Promise 对象，也可以使用 co，详见后文的例子。\n",
    "\n",
    "上一节已经介绍了基于 Thunk 函数的自动执行器。下面来看，基于 Promise 对象的自动执行器。这是理解 co 模块必须的。\n",
    "\n",
    "### 基于 Promise 对象的自动执行\n",
    "\n",
    "还是沿用上面的例子。首先，把`fs`模块的`readFile`方法包装成一个 Promise 对象。"
   ]
  },
  {
   "cell_type": "code",
   "execution_count": null,
   "id": "5469dba1",
   "metadata": {
    "attributes": {
     "classes": [
      "javascript"
     ],
     "id": ""
    }
   },
   "outputs": [],
   "source": [
    "var fs = require('fs');\n",
    "\n",
    "var readFile = function (fileName){\n",
    "  return new Promise(function (resolve, reject){\n",
    "    fs.readFile(fileName, function(error, data){\n",
    "      if (error) return reject(error);\n",
    "      resolve(data);\n",
    "    });\n",
    "  });\n",
    "};\n",
    "\n",
    "var gen = function* (){\n",
    "  var f1 = yield readFile('/etc/fstab');\n",
    "  var f2 = yield readFile('/etc/shells');\n",
    "  console.log(f1.toString());\n",
    "  console.log(f2.toString());\n",
    "};"
   ]
  },
  {
   "cell_type": "markdown",
   "id": "4c897679",
   "metadata": {},
   "source": [
    "然后，手动执行上面的 Generator 函数。"
   ]
  },
  {
   "cell_type": "code",
   "execution_count": null,
   "id": "91eddd88",
   "metadata": {
    "attributes": {
     "classes": [
      "javascript"
     ],
     "id": ""
    }
   },
   "outputs": [],
   "source": [
    "var g = gen();\n",
    "\n",
    "g.next().value.then(function(data){\n",
    "  g.next(data).value.then(function(data){\n",
    "    g.next(data);\n",
    "  });\n",
    "});"
   ]
  },
  {
   "cell_type": "markdown",
   "id": "7c8266b9",
   "metadata": {},
   "source": [
    "手动执行其实就是用`then`方法，层层添加回调函数。理解了这一点，就可以写出一个自动执行器。"
   ]
  },
  {
   "cell_type": "code",
   "execution_count": null,
   "id": "2fbb846c",
   "metadata": {
    "attributes": {
     "classes": [
      "javascript"
     ],
     "id": ""
    }
   },
   "outputs": [],
   "source": [
    "function run(gen){\n",
    "  var g = gen();\n",
    "\n",
    "  function next(data){\n",
    "    var result = g.next(data);\n",
    "    if (result.done) return result.value;\n",
    "    result.value.then(function(data){\n",
    "      next(data);\n",
    "    });\n",
    "  }\n",
    "\n",
    "  next();\n",
    "}\n",
    "\n",
    "run(gen);"
   ]
  },
  {
   "cell_type": "markdown",
   "id": "31237969",
   "metadata": {},
   "source": [
    "上面代码中，只要 Generator 函数还没执行到最后一步，`next`函数就调用自身，以此实现自动执行。\n",
    "\n",
    "### co 模块的源码\n",
    "\n",
    "co 就是上面那个自动执行器的扩展，它的源码只有几十行，非常简单。\n",
    "\n",
    "首先，co 函数接受 Generator 函数作为参数，返回一个 Promise 对象。"
   ]
  },
  {
   "cell_type": "code",
   "execution_count": null,
   "id": "02d202cf",
   "metadata": {
    "attributes": {
     "classes": [
      "javascript"
     ],
     "id": ""
    }
   },
   "outputs": [],
   "source": [
    "function co(gen) {\n",
    "  var ctx = this;\n",
    "\n",
    "  return new Promise(function(resolve, reject) {\n",
    "  });\n",
    "}"
   ]
  },
  {
   "cell_type": "markdown",
   "id": "9c038803",
   "metadata": {},
   "source": [
    "在返回的 Promise 对象里面，co 先检查参数`gen`是否为 Generator 函数。如果是，就执行该函数，得到一个内部指针对象；如果不是就返回，并将 Promise 对象的状态改为`resolved`。"
   ]
  },
  {
   "cell_type": "code",
   "execution_count": null,
   "id": "b9016cf1",
   "metadata": {
    "attributes": {
     "classes": [
      "javascript"
     ],
     "id": ""
    }
   },
   "outputs": [],
   "source": [
    "function co(gen) {\n",
    "  var ctx = this;\n",
    "\n",
    "  return new Promise(function(resolve, reject) {\n",
    "    if (typeof gen === 'function') gen = gen.call(ctx);\n",
    "    if (!gen || typeof gen.next !== 'function') return resolve(gen);\n",
    "  });\n",
    "}"
   ]
  },
  {
   "cell_type": "markdown",
   "id": "9e048b77",
   "metadata": {},
   "source": [
    "接着，co 将 Generator 函数的内部指针对象的`next`方法，包装成`onFulfilled`函数。这主要是为了能够捕捉抛出的错误。"
   ]
  },
  {
   "cell_type": "code",
   "execution_count": null,
   "id": "931a0200",
   "metadata": {
    "attributes": {
     "classes": [
      "javascript"
     ],
     "id": ""
    }
   },
   "outputs": [],
   "source": [
    "function co(gen) {\n",
    "  var ctx = this;\n",
    "\n",
    "  return new Promise(function(resolve, reject) {\n",
    "    if (typeof gen === 'function') gen = gen.call(ctx);\n",
    "    if (!gen || typeof gen.next !== 'function') return resolve(gen);\n",
    "\n",
    "    onFulfilled();\n",
    "    function onFulfilled(res) {\n",
    "      var ret;\n",
    "      try {\n",
    "        ret = gen.next(res);\n",
    "      } catch (e) {\n",
    "        return reject(e);\n",
    "      }\n",
    "      next(ret);\n",
    "    }\n",
    "  });\n",
    "}"
   ]
  },
  {
   "cell_type": "markdown",
   "id": "1cc43cac",
   "metadata": {},
   "source": [
    "最后，就是关键的`next`函数，它会反复调用自身。"
   ]
  },
  {
   "cell_type": "code",
   "execution_count": null,
   "id": "7aa5a8e2",
   "metadata": {
    "attributes": {
     "classes": [
      "javascript"
     ],
     "id": ""
    }
   },
   "outputs": [],
   "source": [
    "function next(ret) {\n",
    "  if (ret.done) return resolve(ret.value);\n",
    "  var value = toPromise.call(ctx, ret.value);\n",
    "  if (value && isPromise(value)) return value.then(onFulfilled, onRejected);\n",
    "  return onRejected(\n",
    "    new TypeError(\n",
    "      'You may only yield a function, promise, generator, array, or object, '\n",
    "      + 'but the following object was passed: \"'\n",
    "      + String(ret.value)\n",
    "      + '\"'\n",
    "    )\n",
    "  );\n",
    "}"
   ]
  },
  {
   "cell_type": "markdown",
   "id": "03d86e66",
   "metadata": {},
   "source": [
    "上面代码中，`next`函数的内部代码，一共只有四行命令。\n",
    "\n",
    "第一行，检查当前是否为 Generator 函数的最后一步，如果是就返回。\n",
    "\n",
    "第二行，确保每一步的返回值，是 Promise 对象。\n",
    "\n",
    "第三行，使用`then`方法，为返回值加上回调函数，然后通过`onFulfilled`函数再次调用`next`函数。\n",
    "\n",
    "第四行，在参数不符合要求的情况下（参数非 Thunk 函数和 Promise 对象），将 Promise 对象的状态改为`rejected`，从而终止执行。\n",
    "\n",
    "### 处理并发的异步操作\n",
    "\n",
    "co 支持并发的异步操作，即允许某些操作同时进行，等到它们全部完成，才进行下一步。\n",
    "\n",
    "这时，要把并发的操作都放在数组或对象里面，跟在`yield`语句后面。"
   ]
  },
  {
   "cell_type": "code",
   "execution_count": null,
   "id": "639c9388",
   "metadata": {
    "attributes": {
     "classes": [
      "javascript"
     ],
     "id": ""
    }
   },
   "outputs": [],
   "source": [
    "// 数组的写法\n",
    "co(function* () {\n",
    "  var res = yield [\n",
    "    Promise.resolve(1),\n",
    "    Promise.resolve(2)\n",
    "  ];\n",
    "  console.log(res);\n",
    "}).catch(onerror);\n",
    "\n",
    "// 对象的写法\n",
    "co(function* () {\n",
    "  var res = yield {\n",
    "    1: Promise.resolve(1),\n",
    "    2: Promise.resolve(2),\n",
    "  };\n",
    "  console.log(res);\n",
    "}).catch(onerror);"
   ]
  },
  {
   "cell_type": "markdown",
   "id": "1858f22d",
   "metadata": {},
   "source": [
    "下面是另一个例子。"
   ]
  },
  {
   "cell_type": "code",
   "execution_count": null,
   "id": "5aa99c38",
   "metadata": {
    "attributes": {
     "classes": [
      "javascript"
     ],
     "id": ""
    }
   },
   "outputs": [],
   "source": [
    "co(function* () {\n",
    "  var values = [n1, n2, n3];\n",
    "  yield values.map(somethingAsync);\n",
    "});\n",
    "\n",
    "function* somethingAsync(x) {\n",
    "  // do something async\n",
    "  return y\n",
    "}"
   ]
  },
  {
   "cell_type": "markdown",
   "id": "b0fc4c4e",
   "metadata": {},
   "source": [
    "上面的代码允许并发三个`somethingAsync`异步操作，等到它们全部完成，才会进行下一步。\n",
    "\n",
    "### 实例：处理 Stream\n",
    "\n",
    "Node 提供 Stream 模式读写数据，特点是一次只处理数据的一部分，数据分成一块块依次处理，就好像“数据流”一样。这对于处理大规模数据非常有利。Stream 模式使用 EventEmitter API，会释放三个事件。\n",
    "\n",
    "- `data`事件：下一块数据块已经准备好了。\n",
    "- `end`事件：整个“数据流”处理完了。\n",
    "- `error`事件：发生错误。\n",
    "\n",
    "使用`Promise.race()`函数，可以判断这三个事件之中哪一个最先发生，只有当`data`事件最先发生时，才进入下一个数据块的处理。从而，我们可以通过一个`while`循环，完成所有数据的读取。"
   ]
  },
  {
   "cell_type": "code",
   "execution_count": null,
   "id": "5cc5a9fb",
   "metadata": {
    "attributes": {
     "classes": [
      "javascript"
     ],
     "id": ""
    }
   },
   "outputs": [],
   "source": [
    "const co = require('co');\n",
    "const fs = require('fs');\n",
    "\n",
    "const stream = fs.createReadStream('./les_miserables.txt');\n",
    "let valjeanCount = 0;\n",
    "\n",
    "co(function*() {\n",
    "  while(true) {\n",
    "    const res = yield Promise.race([\n",
    "      new Promise(resolve => stream.once('data', resolve)),\n",
    "      new Promise(resolve => stream.once('end', resolve)),\n",
    "      new Promise((resolve, reject) => stream.once('error', reject))\n",
    "    ]);\n",
    "    if (!res) {\n",
    "      break;\n",
    "    }\n",
    "    stream.removeAllListeners('data');\n",
    "    stream.removeAllListeners('end');\n",
    "    stream.removeAllListeners('error');\n",
    "    valjeanCount += (res.toString().match(/valjean/ig) || []).length;\n",
    "  }\n",
    "  console.log('count:', valjeanCount); // count: 1120\n",
    "});"
   ]
  },
  {
   "cell_type": "markdown",
   "id": "34155df4",
   "metadata": {},
   "source": [
    "上面代码采用 Stream 模式读取《悲惨世界》的文本文件，对于每个数据块都使用`stream.once`方法，在`data`、`end`、`error`三个事件上添加一次性回调函数。变量`res`只有在`data`事件发生时才有值，然后累加每个数据块之中`valjean`这个词出现的次数。"
   ]
  }
 ],
 "metadata": {},
 "nbformat": 4,
 "nbformat_minor": 5
}

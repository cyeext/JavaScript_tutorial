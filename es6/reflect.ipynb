{
 "cells": [
  {
   "cell_type": "markdown",
   "id": "28567ffc",
   "metadata": {},
   "source": [
    "# Reflect\n",
    "\n",
    "## 概述\n",
    "\n",
    "`Reflect`对象与`Proxy`对象一样，也是 ES6 为了操作对象而提供的新 API。`Reflect`对象的设计目的有这样几个。\n",
    "\n",
    "（1） 将`Object`对象的一些明显属于语言内部的方法（比如`Object.defineProperty`），放到`Reflect`对象上。现阶段，某些方法同时在`Object`和`Reflect`对象上部署，未来的新方法将只部署在`Reflect`对象上。也就是说，从`Reflect`对象上可以拿到语言内部的方法。\n",
    "\n",
    "（2） 修改某些`Object`方法的返回结果，让其变得更合理。比如，`Object.defineProperty(obj, name, desc)`在无法定义属性时，会抛出一个错误，而`Reflect.defineProperty(obj, name, desc)`则会返回`false`。"
   ]
  },
  {
   "cell_type": "code",
   "execution_count": null,
   "id": "3ccd37d0",
   "metadata": {
    "attributes": {
     "classes": [
      "javascript"
     ],
     "id": ""
    }
   },
   "outputs": [],
   "source": [
    "// 老写法\n",
    "try {\n",
    "  Object.defineProperty(target, property, attributes);\n",
    "  // success\n",
    "} catch (e) {\n",
    "  // failure\n",
    "}\n",
    "\n",
    "// 新写法\n",
    "if (Reflect.defineProperty(target, property, attributes)) {\n",
    "  // success\n",
    "} else {\n",
    "  // failure\n",
    "}"
   ]
  },
  {
   "cell_type": "markdown",
   "id": "ef3eeefe",
   "metadata": {},
   "source": [
    "（3） 让`Object`操作都变成函数行为。某些`Object`操作是命令式，比如`name in obj`和`delete obj[name]`，而`Reflect.has(obj, name)`和`Reflect.deleteProperty(obj, name)`让它们变成了函数行为。"
   ]
  },
  {
   "cell_type": "code",
   "execution_count": null,
   "id": "30a32c57",
   "metadata": {
    "attributes": {
     "classes": [
      "javascript"
     ],
     "id": ""
    }
   },
   "outputs": [],
   "source": [
    "// 老写法\n",
    "'assign' in Object // true\n",
    "\n",
    "// 新写法\n",
    "Reflect.has(Object, 'assign') // true"
   ]
  },
  {
   "cell_type": "markdown",
   "id": "d141fbad",
   "metadata": {},
   "source": [
    "（4）`Reflect`对象的方法与`Proxy`对象的方法一一对应，只要是`Proxy`对象的方法，就能在`Reflect`对象上找到对应的方法。这就让`Proxy`对象可以方便地调用对应的`Reflect`方法，完成默认行为，作为修改行为的基础。也就是说，不管`Proxy`怎么修改默认行为，你总可以在`Reflect`上获取默认行为。"
   ]
  },
  {
   "cell_type": "code",
   "execution_count": null,
   "id": "57df1108",
   "metadata": {
    "attributes": {
     "classes": [
      "javascript"
     ],
     "id": ""
    }
   },
   "outputs": [],
   "source": [
    "Proxy(target, {\n",
    "  set: function(target, name, value, receiver) {\n",
    "    var success = Reflect.set(target, name, value, receiver);\n",
    "    if (success) {\n",
    "      console.log('property ' + name + ' on ' + target + ' set to ' + value);\n",
    "    }\n",
    "    return success;\n",
    "  }\n",
    "});"
   ]
  },
  {
   "cell_type": "markdown",
   "id": "bd0eb3d9",
   "metadata": {},
   "source": [
    "上面代码中，`Proxy`方法拦截`target`对象的属性赋值行为。它采用`Reflect.set`方法将值赋值给对象的属性，确保完成原有的行为，然后再部署额外的功能。\n",
    "\n",
    "下面是另一个例子。"
   ]
  },
  {
   "cell_type": "code",
   "execution_count": null,
   "id": "c1e76404",
   "metadata": {
    "attributes": {
     "classes": [
      "javascript"
     ],
     "id": ""
    }
   },
   "outputs": [],
   "source": [
    "var loggedObj = new Proxy(obj, {\n",
    "  get(target, name) {\n",
    "    console.log('get', target, name);\n",
    "    return Reflect.get(target, name);\n",
    "  },\n",
    "  deleteProperty(target, name) {\n",
    "    console.log('delete' + name);\n",
    "    return Reflect.deleteProperty(target, name);\n",
    "  },\n",
    "  has(target, name) {\n",
    "    console.log('has' + name);\n",
    "    return Reflect.has(target, name);\n",
    "  }\n",
    "});"
   ]
  },
  {
   "cell_type": "markdown",
   "id": "0196314b",
   "metadata": {},
   "source": [
    "上面代码中，每一个`Proxy`对象的拦截操作（`get`、`delete`、`has`），内部都调用对应的`Reflect`方法，保证原生行为能够正常执行。添加的工作，就是将每一个操作输出一行日志。\n",
    "\n",
    "有了`Reflect`对象以后，很多操作会更易读。"
   ]
  },
  {
   "cell_type": "code",
   "execution_count": null,
   "id": "a42850de",
   "metadata": {
    "attributes": {
     "classes": [
      "javascript"
     ],
     "id": ""
    }
   },
   "outputs": [],
   "source": [
    "// 老写法\n",
    "Function.prototype.apply.call(Math.floor, undefined, [1.75]) // 1\n",
    "\n",
    "// 新写法\n",
    "Reflect.apply(Math.floor, undefined, [1.75]) // 1"
   ]
  },
  {
   "cell_type": "markdown",
   "id": "78c80de0",
   "metadata": {},
   "source": [
    "## 静态方法\n",
    "\n",
    "`Reflect`对象一共有 13 个静态方法。\n",
    "\n",
    "- Reflect.apply(target, thisArg, args)\n",
    "- Reflect.construct(target, args)\n",
    "- Reflect.get(target, name, receiver)\n",
    "- Reflect.set(target, name, value, receiver)\n",
    "- Reflect.defineProperty(target, name, desc)\n",
    "- Reflect.deleteProperty(target, name)\n",
    "- Reflect.has(target, name)\n",
    "- Reflect.ownKeys(target)\n",
    "- Reflect.isExtensible(target)\n",
    "- Reflect.preventExtensions(target)\n",
    "- Reflect.getOwnPropertyDescriptor(target, name)\n",
    "- Reflect.getPrototypeOf(target)\n",
    "- Reflect.setPrototypeOf(target, prototype)\n",
    "\n",
    "上面这些方法的作用，大部分与`Object`对象的同名方法的作用都是相同的，而且它与`Proxy`对象的方法是一一对应的。下面是对它们的解释。\n",
    "\n",
    "### Reflect.get(target, name, receiver)\n",
    "\n",
    "`Reflect.get`方法查找并返回`target`对象的`name`属性，如果没有该属性，则返回`undefined`。"
   ]
  },
  {
   "cell_type": "code",
   "execution_count": null,
   "id": "ea8d8a24",
   "metadata": {
    "attributes": {
     "classes": [
      "javascript"
     ],
     "id": ""
    }
   },
   "outputs": [],
   "source": [
    "var myObject = {\n",
    "  foo: 1,\n",
    "  bar: 2,\n",
    "  get baz() {\n",
    "    return this.foo + this.bar;\n",
    "  },\n",
    "}\n",
    "\n",
    "Reflect.get(myObject, 'foo') // 1\n",
    "Reflect.get(myObject, 'bar') // 2\n",
    "Reflect.get(myObject, 'baz') // 3"
   ]
  },
  {
   "cell_type": "markdown",
   "id": "068334a9",
   "metadata": {},
   "source": [
    "如果`name`属性部署了读取函数（getter），则读取函数的`this`绑定`receiver`。"
   ]
  },
  {
   "cell_type": "code",
   "execution_count": null,
   "id": "6ade8ff6",
   "metadata": {
    "attributes": {
     "classes": [
      "javascript"
     ],
     "id": ""
    }
   },
   "outputs": [],
   "source": [
    "var myObject = {\n",
    "  foo: 1,\n",
    "  bar: 2,\n",
    "  get baz() {\n",
    "    return this.foo + this.bar;\n",
    "  },\n",
    "};\n",
    "\n",
    "var myReceiverObject = {\n",
    "  foo: 4,\n",
    "  bar: 4,\n",
    "};\n",
    "\n",
    "Reflect.get(myObject, 'baz', myReceiverObject) // 8"
   ]
  },
  {
   "cell_type": "markdown",
   "id": "6f91a9c1",
   "metadata": {},
   "source": [
    "如果第一个参数不是对象，`Reflect.get`方法会报错。"
   ]
  },
  {
   "cell_type": "code",
   "execution_count": null,
   "id": "c767fe55",
   "metadata": {
    "attributes": {
     "classes": [
      "javascript"
     ],
     "id": ""
    }
   },
   "outputs": [],
   "source": [
    "Reflect.get(1, 'foo') // 报错\n",
    "Reflect.get(false, 'foo') // 报错"
   ]
  },
  {
   "cell_type": "markdown",
   "id": "52401709",
   "metadata": {},
   "source": [
    "### Reflect.set(target, name, value, receiver)\n",
    "\n",
    "`Reflect.set`方法设置`target`对象的`name`属性等于`value`。"
   ]
  },
  {
   "cell_type": "code",
   "execution_count": null,
   "id": "f72269a8",
   "metadata": {
    "attributes": {
     "classes": [
      "javascript"
     ],
     "id": ""
    }
   },
   "outputs": [],
   "source": [
    "var myObject = {\n",
    "  foo: 1,\n",
    "  set bar(value) {\n",
    "    return this.foo = value;\n",
    "  },\n",
    "}\n",
    "\n",
    "myObject.foo // 1\n",
    "\n",
    "Reflect.set(myObject, 'foo', 2);\n",
    "myObject.foo // 2\n",
    "\n",
    "Reflect.set(myObject, 'bar', 3)\n",
    "myObject.foo // 3"
   ]
  },
  {
   "cell_type": "markdown",
   "id": "f21cdedf",
   "metadata": {},
   "source": [
    "如果`name`属性设置了赋值函数，则赋值函数的`this`绑定`receiver`。"
   ]
  },
  {
   "cell_type": "code",
   "execution_count": null,
   "id": "2b9e51d9",
   "metadata": {
    "attributes": {
     "classes": [
      "javascript"
     ],
     "id": ""
    }
   },
   "outputs": [],
   "source": [
    "var myObject = {\n",
    "  foo: 4,\n",
    "  set bar(value) {\n",
    "    return this.foo = value;\n",
    "  },\n",
    "};\n",
    "\n",
    "var myReceiverObject = {\n",
    "  foo: 0,\n",
    "};\n",
    "\n",
    "Reflect.set(myObject, 'bar', 1, myReceiverObject);\n",
    "myObject.foo // 4\n",
    "myReceiverObject.foo // 1"
   ]
  },
  {
   "cell_type": "markdown",
   "id": "caca5a3f",
   "metadata": {},
   "source": [
    "注意，如果 `Proxy`对象和 `Reflect`对象联合使用，前者拦截赋值操作，后者完成赋值的默认行为，而且传入了`receiver`，那么`Reflect.set`会触发`Proxy.defineProperty`拦截。"
   ]
  },
  {
   "cell_type": "code",
   "execution_count": null,
   "id": "5eb0ce60",
   "metadata": {
    "attributes": {
     "classes": [
      "javascript"
     ],
     "id": ""
    }
   },
   "outputs": [],
   "source": [
    "let p = {\n",
    "  a: 'a'\n",
    "};\n",
    "\n",
    "let handler = {\n",
    "  set(target, key, value, receiver) {\n",
    "    console.log('set');\n",
    "    Reflect.set(target, key, value, receiver)\n",
    "  },\n",
    "  defineProperty(target, key, attribute) {\n",
    "    console.log('defineProperty');\n",
    "    Reflect.defineProperty(target, key, attribute);\n",
    "  }\n",
    "};\n",
    "\n",
    "let obj = new Proxy(p, handler);\n",
    "obj.a = 'A';\n",
    "// set\n",
    "// defineProperty"
   ]
  },
  {
   "cell_type": "markdown",
   "id": "34b4a8f1",
   "metadata": {},
   "source": [
    "上面代码中，`Proxy.set`拦截里面使用了`Reflect.set`，而且传入了`receiver`，导致触发`Proxy.defineProperty`拦截。这是因为`Proxy.set`的`receiver`参数总是指向当前的 `Proxy`实例（即上例的`obj`），而`Reflect.set`一旦传入`receiver`，就会将属性赋值到`receiver`上面（即`obj`），导致触发`defineProperty`拦截。如果`Reflect.set`没有传入`receiver`，那么就不会触发`defineProperty`拦截。"
   ]
  },
  {
   "cell_type": "code",
   "execution_count": null,
   "id": "fdc27e98",
   "metadata": {
    "attributes": {
     "classes": [
      "javascript"
     ],
     "id": ""
    }
   },
   "outputs": [],
   "source": [
    "let p = {\n",
    "  a: 'a'\n",
    "};\n",
    "\n",
    "let handler = {\n",
    "  set(target, key, value, receiver) {\n",
    "    console.log('set');\n",
    "    Reflect.set(target, key, value)\n",
    "  },\n",
    "  defineProperty(target, key, attribute) {\n",
    "    console.log('defineProperty');\n",
    "    Reflect.defineProperty(target, key, attribute);\n",
    "  }\n",
    "};\n",
    "\n",
    "let obj = new Proxy(p, handler);\n",
    "obj.a = 'A';\n",
    "// set"
   ]
  },
  {
   "cell_type": "markdown",
   "id": "03f5d7e3",
   "metadata": {},
   "source": [
    "如果第一个参数不是对象，`Reflect.set`会报错。"
   ]
  },
  {
   "cell_type": "code",
   "execution_count": null,
   "id": "b62df7d3",
   "metadata": {
    "attributes": {
     "classes": [
      "javascript"
     ],
     "id": ""
    }
   },
   "outputs": [],
   "source": [
    "Reflect.set(1, 'foo', {}) // 报错\n",
    "Reflect.set(false, 'foo', {}) // 报错"
   ]
  },
  {
   "cell_type": "markdown",
   "id": "bec5a590",
   "metadata": {},
   "source": [
    "### Reflect.has(obj, name)\n",
    "\n",
    "`Reflect.has`方法对应`name in obj`里面的`in`运算符。"
   ]
  },
  {
   "cell_type": "code",
   "execution_count": null,
   "id": "006a58d1",
   "metadata": {
    "attributes": {
     "classes": [
      "javascript"
     ],
     "id": ""
    }
   },
   "outputs": [],
   "source": [
    "var myObject = {\n",
    "  foo: 1,\n",
    "};\n",
    "\n",
    "// 旧写法\n",
    "'foo' in myObject // true\n",
    "\n",
    "// 新写法\n",
    "Reflect.has(myObject, 'foo') // true"
   ]
  },
  {
   "cell_type": "markdown",
   "id": "36ba4f20",
   "metadata": {},
   "source": [
    "如果`Reflect.has()`方法的第一个参数不是对象，会报错。\n",
    "\n",
    "### Reflect.deleteProperty(obj, name)\n",
    "\n",
    "`Reflect.deleteProperty`方法等同于`delete obj[name]`，用于删除对象的属性。"
   ]
  },
  {
   "cell_type": "code",
   "execution_count": null,
   "id": "4f2d89fd",
   "metadata": {
    "attributes": {
     "classes": [
      "javascript"
     ],
     "id": ""
    }
   },
   "outputs": [],
   "source": [
    "const myObj = { foo: 'bar' };\n",
    "\n",
    "// 旧写法\n",
    "delete myObj.foo;\n",
    "\n",
    "// 新写法\n",
    "Reflect.deleteProperty(myObj, 'foo');"
   ]
  },
  {
   "cell_type": "markdown",
   "id": "af6a9515",
   "metadata": {},
   "source": [
    "该方法返回一个布尔值。如果删除成功，或者被删除的属性不存在，返回`true`；删除失败，被删除的属性依然存在，返回`false`。\n",
    "\n",
    "如果`Reflect.deleteProperty()`方法的第一个参数不是对象，会报错。\n",
    "\n",
    "### Reflect.construct(target, args)\n",
    "\n",
    "`Reflect.construct`方法等同于`new target(...args)`，这提供了一种不使用`new`，来调用构造函数的方法。"
   ]
  },
  {
   "cell_type": "code",
   "execution_count": null,
   "id": "879ddab7",
   "metadata": {
    "attributes": {
     "classes": [
      "javascript"
     ],
     "id": ""
    }
   },
   "outputs": [],
   "source": [
    "function Greeting(name) {\n",
    "  this.name = name;\n",
    "}\n",
    "\n",
    "// new 的写法\n",
    "const instance = new Greeting('张三');\n",
    "\n",
    "// Reflect.construct 的写法\n",
    "const instance = Reflect.construct(Greeting, ['张三']);"
   ]
  },
  {
   "cell_type": "markdown",
   "id": "fd8d8952",
   "metadata": {},
   "source": [
    "如果`Reflect.construct()`方法的第一个参数不是函数，会报错。\n",
    "\n",
    "### Reflect.getPrototypeOf(obj)\n",
    "\n",
    "`Reflect.getPrototypeOf`方法用于读取对象的`__proto__`属性，对应`Object.getPrototypeOf(obj)`。"
   ]
  },
  {
   "cell_type": "code",
   "execution_count": null,
   "id": "8f0ed48a",
   "metadata": {
    "attributes": {
     "classes": [
      "javascript"
     ],
     "id": ""
    }
   },
   "outputs": [],
   "source": [
    "const myObj = new FancyThing();\n",
    "\n",
    "// 旧写法\n",
    "Object.getPrototypeOf(myObj) === FancyThing.prototype;\n",
    "\n",
    "// 新写法\n",
    "Reflect.getPrototypeOf(myObj) === FancyThing.prototype;"
   ]
  },
  {
   "cell_type": "markdown",
   "id": "f403a3fd",
   "metadata": {},
   "source": [
    "`Reflect.getPrototypeOf`和`Object.getPrototypeOf`的一个区别是，如果参数不是对象，`Object.getPrototypeOf`会将这个参数转为对象，然后再运行，而`Reflect.getPrototypeOf`会报错。"
   ]
  },
  {
   "cell_type": "code",
   "execution_count": null,
   "id": "75e5e42b",
   "metadata": {
    "attributes": {
     "classes": [
      "javascript"
     ],
     "id": ""
    }
   },
   "outputs": [],
   "source": [
    "Object.getPrototypeOf(1) // Number {[[PrimitiveValue]]: 0}\n",
    "Reflect.getPrototypeOf(1) // 报错"
   ]
  },
  {
   "cell_type": "markdown",
   "id": "9410f485",
   "metadata": {},
   "source": [
    "### Reflect.setPrototypeOf(obj, newProto)\n",
    "\n",
    "`Reflect.setPrototypeOf`方法用于设置目标对象的原型（prototype），对应`Object.setPrototypeOf(obj, newProto)`方法。它返回一个布尔值，表示是否设置成功。"
   ]
  },
  {
   "cell_type": "code",
   "execution_count": null,
   "id": "f0c63adc",
   "metadata": {
    "attributes": {
     "classes": [
      "javascript"
     ],
     "id": ""
    }
   },
   "outputs": [],
   "source": [
    "const myObj = {};\n",
    "\n",
    "// 旧写法\n",
    "Object.setPrototypeOf(myObj, Array.prototype);\n",
    "\n",
    "// 新写法\n",
    "Reflect.setPrototypeOf(myObj, Array.prototype);\n",
    "\n",
    "myObj.length // 0"
   ]
  },
  {
   "cell_type": "markdown",
   "id": "6f4591b8",
   "metadata": {},
   "source": [
    "如果无法设置目标对象的原型（比如，目标对象禁止扩展），`Reflect.setPrototypeOf`方法返回`false`。"
   ]
  },
  {
   "cell_type": "code",
   "execution_count": null,
   "id": "8f1dfc2c",
   "metadata": {
    "attributes": {
     "classes": [
      "javascript"
     ],
     "id": ""
    }
   },
   "outputs": [],
   "source": [
    "Reflect.setPrototypeOf({}, null)\n",
    "// true\n",
    "Reflect.setPrototypeOf(Object.freeze({}), null)\n",
    "// false"
   ]
  },
  {
   "cell_type": "markdown",
   "id": "e7c0e8a0",
   "metadata": {},
   "source": [
    "如果第一个参数不是对象，`Object.setPrototypeOf`会返回第一个参数本身，而`Reflect.setPrototypeOf`会报错。"
   ]
  },
  {
   "cell_type": "code",
   "execution_count": null,
   "id": "7659127a",
   "metadata": {
    "attributes": {
     "classes": [
      "javascript"
     ],
     "id": ""
    }
   },
   "outputs": [],
   "source": [
    "Object.setPrototypeOf(1, {})\n",
    "// 1\n",
    "\n",
    "Reflect.setPrototypeOf(1, {})\n",
    "// TypeError: Reflect.setPrototypeOf called on non-object"
   ]
  },
  {
   "cell_type": "markdown",
   "id": "724990dd",
   "metadata": {},
   "source": [
    "如果第一个参数是`undefined`或`null`，`Object.setPrototypeOf`和`Reflect.setPrototypeOf`都会报错。"
   ]
  },
  {
   "cell_type": "code",
   "execution_count": null,
   "id": "53ca185c",
   "metadata": {
    "attributes": {
     "classes": [
      "javascript"
     ],
     "id": ""
    }
   },
   "outputs": [],
   "source": [
    "Object.setPrototypeOf(null, {})\n",
    "// TypeError: Object.setPrototypeOf called on null or undefined\n",
    "\n",
    "Reflect.setPrototypeOf(null, {})\n",
    "// TypeError: Reflect.setPrototypeOf called on non-object"
   ]
  },
  {
   "cell_type": "markdown",
   "id": "bfae81ac",
   "metadata": {},
   "source": [
    "### Reflect.apply(func, thisArg, args)\n",
    "\n",
    "`Reflect.apply`方法等同于`Function.prototype.apply.call(func, thisArg, args)`，用于绑定`this`对象后执行给定函数。\n",
    "\n",
    "一般来说，如果要绑定一个函数的`this`对象，可以这样写`fn.apply(obj, args)`，但是如果函数定义了自己的`apply`方法，就只能写成`Function.prototype.apply.call(fn, obj, args)`，采用`Reflect`对象可以简化这种操作。"
   ]
  },
  {
   "cell_type": "code",
   "execution_count": null,
   "id": "0895b821",
   "metadata": {
    "attributes": {
     "classes": [
      "javascript"
     ],
     "id": ""
    }
   },
   "outputs": [],
   "source": [
    "const ages = [11, 33, 12, 54, 18, 96];\n",
    "\n",
    "// 旧写法\n",
    "const youngest = Math.min.apply(Math, ages);\n",
    "const oldest = Math.max.apply(Math, ages);\n",
    "const type = Object.prototype.toString.call(youngest);\n",
    "\n",
    "// 新写法\n",
    "const youngest = Reflect.apply(Math.min, Math, ages);\n",
    "const oldest = Reflect.apply(Math.max, Math, ages);\n",
    "const type = Reflect.apply(Object.prototype.toString, youngest, []);"
   ]
  },
  {
   "cell_type": "markdown",
   "id": "989e7fd1",
   "metadata": {},
   "source": [
    "### Reflect.defineProperty(target, propertyKey, attributes)\n",
    "\n",
    "`Reflect.defineProperty`方法基本等同于`Object.defineProperty`，用来为对象定义属性。未来，后者会被逐渐废除，请从现在开始就使用`Reflect.defineProperty`代替它。"
   ]
  },
  {
   "cell_type": "code",
   "execution_count": null,
   "id": "d72ff01b",
   "metadata": {
    "attributes": {
     "classes": [
      "javascript"
     ],
     "id": ""
    }
   },
   "outputs": [],
   "source": [
    "function MyDate() {\n",
    "  /*…*/\n",
    "}\n",
    "\n",
    "// 旧写法\n",
    "Object.defineProperty(MyDate, 'now', {\n",
    "  value: () => Date.now()\n",
    "});\n",
    "\n",
    "// 新写法\n",
    "Reflect.defineProperty(MyDate, 'now', {\n",
    "  value: () => Date.now()\n",
    "});"
   ]
  },
  {
   "cell_type": "markdown",
   "id": "74d6998b",
   "metadata": {},
   "source": [
    "如果`Reflect.defineProperty`的第一个参数不是对象，就会抛出错误，比如`Reflect.defineProperty(1, 'foo')`。\n",
    "\n",
    "这个方法可以与`Proxy.defineProperty`配合使用。"
   ]
  },
  {
   "cell_type": "code",
   "execution_count": null,
   "id": "0963a02b",
   "metadata": {
    "attributes": {
     "classes": [
      "javascript"
     ],
     "id": ""
    }
   },
   "outputs": [],
   "source": [
    "const p = new Proxy({}, {\n",
    "  defineProperty(target, prop, descriptor) {\n",
    "    console.log(descriptor);\n",
    "    return Reflect.defineProperty(target, prop, descriptor);\n",
    "  }\n",
    "});\n",
    "\n",
    "p.foo = 'bar';\n",
    "// {value: \"bar\", writable: true, enumerable: true, configurable: true}\n",
    "\n",
    "p.foo // \"bar\""
   ]
  },
  {
   "cell_type": "markdown",
   "id": "2ef84440",
   "metadata": {},
   "source": [
    "上面代码中，`Proxy.defineProperty`对属性赋值设置了拦截，然后使用`Reflect.defineProperty`完成了赋值。\n",
    "\n",
    "### Reflect.getOwnPropertyDescriptor(target, propertyKey)\n",
    "\n",
    "`Reflect.getOwnPropertyDescriptor`基本等同于`Object.getOwnPropertyDescriptor`，用于得到指定属性的描述对象，将来会替代掉后者。"
   ]
  },
  {
   "cell_type": "code",
   "execution_count": null,
   "id": "5fe27925",
   "metadata": {
    "attributes": {
     "classes": [
      "javascript"
     ],
     "id": ""
    }
   },
   "outputs": [],
   "source": [
    "var myObject = {};\n",
    "Object.defineProperty(myObject, 'hidden', {\n",
    "  value: true,\n",
    "  enumerable: false,\n",
    "});\n",
    "\n",
    "// 旧写法\n",
    "var theDescriptor = Object.getOwnPropertyDescriptor(myObject, 'hidden');\n",
    "\n",
    "// 新写法\n",
    "var theDescriptor = Reflect.getOwnPropertyDescriptor(myObject, 'hidden');"
   ]
  },
  {
   "cell_type": "markdown",
   "id": "92f437fc",
   "metadata": {},
   "source": [
    "`Reflect.getOwnPropertyDescriptor`和`Object.getOwnPropertyDescriptor`的一个区别是，如果第一个参数不是对象，`Object.getOwnPropertyDescriptor(1, 'foo')`不报错，返回`undefined`，而`Reflect.getOwnPropertyDescriptor(1, 'foo')`会抛出错误，表示参数非法。\n",
    "\n",
    "### Reflect.isExtensible (target)\n",
    "\n",
    "`Reflect.isExtensible`方法对应`Object.isExtensible`，返回一个布尔值，表示当前对象是否可扩展。"
   ]
  },
  {
   "cell_type": "code",
   "execution_count": null,
   "id": "2f1a28a2",
   "metadata": {
    "attributes": {
     "classes": [
      "javascript"
     ],
     "id": ""
    }
   },
   "outputs": [],
   "source": [
    "const myObject = {};\n",
    "\n",
    "// 旧写法\n",
    "Object.isExtensible(myObject) // true\n",
    "\n",
    "// 新写法\n",
    "Reflect.isExtensible(myObject) // true"
   ]
  },
  {
   "cell_type": "markdown",
   "id": "4cca5491",
   "metadata": {},
   "source": [
    "如果参数不是对象，`Object.isExtensible`会返回`false`，因为非对象本来就是不可扩展的，而`Reflect.isExtensible`会报错。"
   ]
  },
  {
   "cell_type": "code",
   "execution_count": null,
   "id": "9b4f9743",
   "metadata": {
    "attributes": {
     "classes": [
      "javascript"
     ],
     "id": ""
    }
   },
   "outputs": [],
   "source": [
    "Object.isExtensible(1) // false\n",
    "Reflect.isExtensible(1) // 报错"
   ]
  },
  {
   "cell_type": "markdown",
   "id": "038faa2e",
   "metadata": {},
   "source": [
    "### Reflect.preventExtensions(target)\n",
    "\n",
    "`Reflect.preventExtensions`对应`Object.preventExtensions`方法，用于让一个对象变为不可扩展。它返回一个布尔值，表示是否操作成功。"
   ]
  },
  {
   "cell_type": "code",
   "execution_count": null,
   "id": "c604c8a3",
   "metadata": {
    "attributes": {
     "classes": [
      "javascript"
     ],
     "id": ""
    }
   },
   "outputs": [],
   "source": [
    "var myObject = {};\n",
    "\n",
    "// 旧写法\n",
    "Object.preventExtensions(myObject) // Object {}\n",
    "\n",
    "// 新写法\n",
    "Reflect.preventExtensions(myObject) // true"
   ]
  },
  {
   "cell_type": "markdown",
   "id": "4d3d7253",
   "metadata": {},
   "source": [
    "如果参数不是对象，`Object.preventExtensions`在 ES5 环境报错，在 ES6 环境返回传入的参数，而`Reflect.preventExtensions`会报错。"
   ]
  },
  {
   "cell_type": "code",
   "execution_count": null,
   "id": "2b1f129c",
   "metadata": {
    "attributes": {
     "classes": [
      "javascript"
     ],
     "id": ""
    }
   },
   "outputs": [],
   "source": [
    "// ES5 环境\n",
    "Object.preventExtensions(1) // 报错\n",
    "\n",
    "// ES6 环境\n",
    "Object.preventExtensions(1) // 1\n",
    "\n",
    "// 新写法\n",
    "Reflect.preventExtensions(1) // 报错"
   ]
  },
  {
   "cell_type": "markdown",
   "id": "22649e83",
   "metadata": {},
   "source": [
    "### Reflect.ownKeys (target)\n",
    "\n",
    "`Reflect.ownKeys`方法用于返回对象的所有属性，基本等同于`Object.getOwnPropertyNames`与`Object.getOwnPropertySymbols`之和。"
   ]
  },
  {
   "cell_type": "code",
   "execution_count": null,
   "id": "d20c8aaa",
   "metadata": {
    "attributes": {
     "classes": [
      "javascript"
     ],
     "id": ""
    }
   },
   "outputs": [],
   "source": [
    "var myObject = {\n",
    "  foo: 1,\n",
    "  bar: 2,\n",
    "  [Symbol.for('baz')]: 3,\n",
    "  [Symbol.for('bing')]: 4,\n",
    "};\n",
    "\n",
    "// 旧写法\n",
    "Object.getOwnPropertyNames(myObject)\n",
    "// ['foo', 'bar']\n",
    "\n",
    "Object.getOwnPropertySymbols(myObject)\n",
    "//[Symbol(baz), Symbol(bing)]\n",
    "\n",
    "// 新写法\n",
    "Reflect.ownKeys(myObject)\n",
    "// ['foo', 'bar', Symbol(baz), Symbol(bing)]"
   ]
  },
  {
   "cell_type": "markdown",
   "id": "144fb129",
   "metadata": {},
   "source": [
    "如果`Reflect.ownKeys()`方法的第一个参数不是对象，会报错。\n",
    "\n",
    "## 实例：使用 Proxy 实现观察者模式\n",
    "\n",
    "观察者模式（Observer mode）指的是函数自动观察数据对象，一旦对象有变化，函数就会自动执行。"
   ]
  },
  {
   "cell_type": "code",
   "execution_count": null,
   "id": "b7666b1a",
   "metadata": {
    "attributes": {
     "classes": [
      "javascript"
     ],
     "id": ""
    }
   },
   "outputs": [],
   "source": [
    "const person = observable({\n",
    "  name: '张三',\n",
    "  age: 20\n",
    "});\n",
    "\n",
    "function print() {\n",
    "  console.log(`${person.name}, ${person.age}`)\n",
    "}\n",
    "\n",
    "observe(print);\n",
    "person.name = '李四';\n",
    "// 输出\n",
    "// 李四, 20"
   ]
  },
  {
   "cell_type": "markdown",
   "id": "b5069afe",
   "metadata": {},
   "source": [
    "上面代码中，数据对象`person`是观察目标，函数`print`是观察者。一旦数据对象发生变化，`print`就会自动执行。\n",
    "\n",
    "下面，使用 Proxy 写一个观察者模式的最简单实现，即实现`observable`和`observe`这两个函数。思路是`observable`函数返回一个原始对象的 Proxy 代理，拦截赋值操作，触发充当观察者的各个函数。"
   ]
  },
  {
   "cell_type": "code",
   "execution_count": null,
   "id": "4e30ffee",
   "metadata": {
    "attributes": {
     "classes": [
      "javascript"
     ],
     "id": ""
    }
   },
   "outputs": [],
   "source": [
    "const queuedObservers = new Set();\n",
    "\n",
    "const observe = fn => queuedObservers.add(fn);\n",
    "const observable = obj => new Proxy(obj, {set});\n",
    "\n",
    "function set(target, key, value, receiver) {\n",
    "  const result = Reflect.set(target, key, value, receiver);\n",
    "  queuedObservers.forEach(observer => observer());\n",
    "  return result;\n",
    "}"
   ]
  },
  {
   "cell_type": "markdown",
   "id": "fd998b13",
   "metadata": {},
   "source": [
    "上面代码中，先定义了一个`Set`集合，所有观察者函数都放进这个集合。然后，`observable`函数返回原始对象的代理，拦截赋值操作。拦截函数`set`之中，会自动执行所有观察者。"
   ]
  }
 ],
 "metadata": {},
 "nbformat": 4,
 "nbformat_minor": 5
}

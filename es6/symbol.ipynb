{
 "cells": [
  {
   "cell_type": "markdown",
   "id": "5b400bfb",
   "metadata": {},
   "source": [
    "# Symbol\n",
    "\n",
    "## 概述\n",
    "\n",
    "ES5 的对象属性名都是字符串，这容易造成属性名的冲突。比如，你使用了一个他人提供的对象，但又想为这个对象添加新的方法（mixin 模式），新方法的名字就有可能与现有方法产生冲突。如果有一种机制，保证每个属性的名字都是独一无二的就好了，这样就从根本上防止属性名的冲突。这就是 ES6 引入`Symbol`的原因。\n",
    "\n",
    "ES6 引入了一种新的原始数据类型`Symbol`，表示独一无二的值。它属于 JavaScript 语言的原生数据类型之一，其他数据类型是：`undefined`、`null`、布尔值（Boolean）、字符串（String）、数值（Number）、大整数（BigInt）、对象（Object）。\n",
    "\n",
    "Symbol 值通过`Symbol()`函数生成。这就是说，对象的属性名现在可以有两种类型，一种是原来就有的字符串，另一种就是新增的 Symbol 类型。凡是属性名属于 Symbol 类型，就都是独一无二的，可以保证不会与其他属性名产生冲突。"
   ]
  },
  {
   "cell_type": "code",
   "execution_count": null,
   "id": "378e7620",
   "metadata": {
    "attributes": {
     "classes": [
      "javascript"
     ],
     "id": ""
    }
   },
   "outputs": [],
   "source": [
    "let s = Symbol();\n",
    "\n",
    "typeof s\n",
    "// \"symbol\""
   ]
  },
  {
   "cell_type": "markdown",
   "id": "553d2ddb",
   "metadata": {},
   "source": [
    "上面代码中，变量`s`就是一个独一无二的值。`typeof`运算符的结果，表明变量`s`是 Symbol 数据类型，而不是字符串之类的其他类型。\n",
    "\n",
    "注意，`Symbol()`函数前不能使用`new`命令，否则会报错。这是因为生成的 Symbol 是一个原始类型的值，不是对象，所以不能使用`new`命令来调用。另外，由于 Symbol 值不是对象，所以也不能添加属性。基本上，它是一种类似于字符串的数据类型。\n",
    "\n",
    "`Symbol()`函数可以接受一个字符串作为参数，表示对 Symbol 实例的描述。这主要是为了在控制台显示，或者转为字符串时，比较容易区分。"
   ]
  },
  {
   "cell_type": "code",
   "execution_count": null,
   "id": "bb4047dd",
   "metadata": {
    "attributes": {
     "classes": [
      "javascript"
     ],
     "id": ""
    }
   },
   "outputs": [],
   "source": [
    "let s1 = Symbol('foo');\n",
    "let s2 = Symbol('bar');\n",
    "\n",
    "s1 // Symbol(foo)\n",
    "s2 // Symbol(bar)\n",
    "\n",
    "s1.toString() // \"Symbol(foo)\"\n",
    "s2.toString() // \"Symbol(bar)\""
   ]
  },
  {
   "cell_type": "markdown",
   "id": "7f90d205",
   "metadata": {},
   "source": [
    "上面代码中，`s1`和`s2`是两个 Symbol 值。如果不加参数，它们在控制台的输出都是`Symbol()`，不利于区分。有了参数以后，就等于为它们加上了描述，输出的时候就能够分清，到底是哪一个值。\n",
    "\n",
    "如果 Symbol 的参数是一个对象，就会调用该对象的`toString()`方法，将其转为字符串，然后才生成一个 Symbol 值。"
   ]
  },
  {
   "cell_type": "code",
   "execution_count": null,
   "id": "f97238d1",
   "metadata": {
    "attributes": {
     "classes": [
      "javascript"
     ],
     "id": ""
    }
   },
   "outputs": [],
   "source": [
    "const obj = {\n",
    "  toString() {\n",
    "    return 'abc';\n",
    "  }\n",
    "};\n",
    "const sym = Symbol(obj);\n",
    "sym // Symbol(abc)"
   ]
  },
  {
   "cell_type": "markdown",
   "id": "4096f284",
   "metadata": {},
   "source": [
    "注意，`Symbol()`函数的参数只是表示对当前 Symbol 值的描述，因此相同参数的`Symbol`函数的返回值是不相等的。"
   ]
  },
  {
   "cell_type": "code",
   "execution_count": null,
   "id": "2aaa3876",
   "metadata": {
    "attributes": {
     "classes": [
      "javascript"
     ],
     "id": ""
    }
   },
   "outputs": [],
   "source": [
    "// 没有参数的情况\n",
    "let s1 = Symbol();\n",
    "let s2 = Symbol();\n",
    "\n",
    "s1 === s2 // false\n",
    "\n",
    "// 有参数的情况\n",
    "let s1 = Symbol('foo');\n",
    "let s2 = Symbol('foo');\n",
    "\n",
    "s1 === s2 // false"
   ]
  },
  {
   "cell_type": "markdown",
   "id": "ebd7c8dd",
   "metadata": {},
   "source": [
    "上面代码中，`s1`和`s2`都是`Symbol()`函数的返回值，而且参数相同，但是它们是不相等的。事实上，如果调用100次`Symbol()`，会得到100个互不相等的值。\n",
    "\n",
    "Symbol 值不能与其他类型的值进行运算，会报错。"
   ]
  },
  {
   "cell_type": "code",
   "execution_count": null,
   "id": "3e7958e1",
   "metadata": {
    "attributes": {
     "classes": [
      "javascript"
     ],
     "id": ""
    }
   },
   "outputs": [],
   "source": [
    "let sym = Symbol('My symbol');\n",
    "\n",
    "\"your symbol is \" + sym\n",
    "// TypeError: can't convert symbol to string\n",
    "`your symbol is ${sym}`\n",
    "// TypeError: can't convert symbol to string"
   ]
  },
  {
   "cell_type": "markdown",
   "id": "7dce6443",
   "metadata": {},
   "source": [
    "但是，Symbol 值可以显式转为字符串。"
   ]
  },
  {
   "cell_type": "code",
   "execution_count": null,
   "id": "3cab195b",
   "metadata": {
    "attributes": {
     "classes": [
      "javascript"
     ],
     "id": ""
    }
   },
   "outputs": [],
   "source": [
    "let sym = Symbol('My symbol');\n",
    "\n",
    "String(sym) // 'Symbol(My symbol)'\n",
    "sym.toString() // 'Symbol(My symbol)'"
   ]
  },
  {
   "cell_type": "markdown",
   "id": "638d2bfe",
   "metadata": {},
   "source": [
    "另外，Symbol 值也可以转为布尔值，但是不能转为数值。"
   ]
  },
  {
   "cell_type": "code",
   "execution_count": null,
   "id": "12f59bba",
   "metadata": {
    "attributes": {
     "classes": [
      "javascript"
     ],
     "id": ""
    }
   },
   "outputs": [],
   "source": [
    "let sym = Symbol();\n",
    "Boolean(sym) // true\n",
    "!sym  // false\n",
    "\n",
    "if (sym) {\n",
    "  // ...\n",
    "}\n",
    "\n",
    "Number(sym) // TypeError\n",
    "sym + 2 // TypeError"
   ]
  },
  {
   "cell_type": "markdown",
   "id": "57d603f8",
   "metadata": {},
   "source": [
    "## Symbol.prototype.description\n",
    "\n",
    "前面说过，`Symbol()`函数创建 Symbol 值时，可以用参数添加一个描述。"
   ]
  },
  {
   "cell_type": "code",
   "execution_count": null,
   "id": "7d154018",
   "metadata": {
    "attributes": {
     "classes": [
      "javascript"
     ],
     "id": ""
    }
   },
   "outputs": [],
   "source": [
    "const sym = Symbol('foo');"
   ]
  },
  {
   "cell_type": "markdown",
   "id": "26291aed",
   "metadata": {},
   "source": [
    "上面代码中，`sym`这个值的描述就是字符串`foo`。\n",
    "\n",
    "但是，读取这个描述需要将 Symbol 显式转为字符串，即下面的写法。"
   ]
  },
  {
   "cell_type": "code",
   "execution_count": null,
   "id": "3dfade90",
   "metadata": {
    "attributes": {
     "classes": [
      "javascript"
     ],
     "id": ""
    }
   },
   "outputs": [],
   "source": [
    "const sym = Symbol('foo');\n",
    "\n",
    "String(sym) // \"Symbol(foo)\"\n",
    "sym.toString() // \"Symbol(foo)\""
   ]
  },
  {
   "cell_type": "markdown",
   "id": "5f815212",
   "metadata": {},
   "source": [
    "上面的用法不是很方便。[ES2019](https://github.com/tc39/proposal-Symbol-description) 提供了一个 Symbol 值的实例属性`description`，直接返回 Symbol 值的描述。"
   ]
  },
  {
   "cell_type": "code",
   "execution_count": null,
   "id": "c8ceea12",
   "metadata": {
    "attributes": {
     "classes": [
      "javascript"
     ],
     "id": ""
    }
   },
   "outputs": [],
   "source": [
    "const sym = Symbol('foo');\n",
    "\n",
    "sym.description // \"foo\""
   ]
  },
  {
   "cell_type": "markdown",
   "id": "7b554b45",
   "metadata": {},
   "source": [
    "## 作为属性名的 Symbol\n",
    "\n",
    "由于每一个 Symbol 值都是不相等的，这意味着只要 Symbol 值作为标识符，用于对象的属性名，就能保证不会出现同名的属性。这对于一个对象由多个模块构成的情况非常有用，能防止某一个键被不小心改写或覆盖。"
   ]
  },
  {
   "cell_type": "code",
   "execution_count": null,
   "id": "993c2478",
   "metadata": {
    "attributes": {
     "classes": [
      "javascript"
     ],
     "id": ""
    }
   },
   "outputs": [],
   "source": [
    "let mySymbol = Symbol();\n",
    "\n",
    "// 第一种写法\n",
    "let a = {};\n",
    "a[mySymbol] = 'Hello!';\n",
    "\n",
    "// 第二种写法\n",
    "let a = {\n",
    "  [mySymbol]: 'Hello!'\n",
    "};\n",
    "\n",
    "// 第三种写法\n",
    "let a = {};\n",
    "Object.defineProperty(a, mySymbol, { value: 'Hello!' });\n",
    "\n",
    "// 以上写法都得到同样结果\n",
    "a[mySymbol] // \"Hello!\""
   ]
  },
  {
   "cell_type": "markdown",
   "id": "c4a68b3f",
   "metadata": {},
   "source": [
    "上面代码通过方括号结构和`Object.defineProperty()`方法，将对象的属性名指定为一个 Symbol 值。\n",
    "\n",
    "注意，Symbol 值作为对象属性名时，不能用点运算符。"
   ]
  },
  {
   "cell_type": "code",
   "execution_count": null,
   "id": "628de17d",
   "metadata": {
    "attributes": {
     "classes": [
      "javascript"
     ],
     "id": ""
    }
   },
   "outputs": [],
   "source": [
    "const mySymbol = Symbol();\n",
    "const a = {};\n",
    "\n",
    "a.mySymbol = 'Hello!';\n",
    "a[mySymbol] // undefined\n",
    "a['mySymbol'] // \"Hello!\""
   ]
  },
  {
   "cell_type": "markdown",
   "id": "8231c861",
   "metadata": {},
   "source": [
    "上面代码中，因为点运算符后面总是字符串，所以不会读取`mySymbol`作为标识名所指代的那个值，导致`a`的属性名实际上是一个字符串，而不是一个 Symbol 值。\n",
    "\n",
    "同理，在对象的内部，使用 Symbol 值定义属性时，Symbol 值必须放在方括号之中。"
   ]
  },
  {
   "cell_type": "code",
   "execution_count": null,
   "id": "36a50f8e",
   "metadata": {
    "attributes": {
     "classes": [
      "javascript"
     ],
     "id": ""
    }
   },
   "outputs": [],
   "source": [
    "let s = Symbol();\n",
    "\n",
    "let obj = {\n",
    "  [s]: function (arg) { ... }\n",
    "};\n",
    "\n",
    "obj[s](123);"
   ]
  },
  {
   "cell_type": "markdown",
   "id": "5d0c5ac5",
   "metadata": {},
   "source": [
    "上面代码中，如果`s`不放在方括号中，该属性的键名就是字符串`s`，而不是`s`所代表的那个 Symbol 值。\n",
    "\n",
    "采用增强的对象写法，上面代码的`obj`对象可以写得更简洁一些。"
   ]
  },
  {
   "cell_type": "code",
   "execution_count": null,
   "id": "b250faf1",
   "metadata": {
    "attributes": {
     "classes": [
      "javascript"
     ],
     "id": ""
    }
   },
   "outputs": [],
   "source": [
    "let obj = {\n",
    "  [s](arg) { ... }\n",
    "};"
   ]
  },
  {
   "cell_type": "markdown",
   "id": "c0dae15d",
   "metadata": {},
   "source": [
    "Symbol 类型还可以用于定义一组常量，保证这组常量的值都是不相等的。"
   ]
  },
  {
   "cell_type": "code",
   "execution_count": null,
   "id": "631a8dce",
   "metadata": {
    "attributes": {
     "classes": [
      "javascript"
     ],
     "id": ""
    }
   },
   "outputs": [],
   "source": [
    "const log = {};\n",
    "\n",
    "log.levels = {\n",
    "  DEBUG: Symbol('debug'),\n",
    "  INFO: Symbol('info'),\n",
    "  WARN: Symbol('warn')\n",
    "};\n",
    "console.log(log.levels.DEBUG, 'debug message');\n",
    "console.log(log.levels.INFO, 'info message');"
   ]
  },
  {
   "cell_type": "markdown",
   "id": "67a65404",
   "metadata": {},
   "source": [
    "下面是另外一个例子。"
   ]
  },
  {
   "cell_type": "code",
   "execution_count": null,
   "id": "40e4c773",
   "metadata": {
    "attributes": {
     "classes": [
      "javascript"
     ],
     "id": ""
    }
   },
   "outputs": [],
   "source": [
    "const COLOR_RED    = Symbol();\n",
    "const COLOR_GREEN  = Symbol();\n",
    "\n",
    "function getComplement(color) {\n",
    "  switch (color) {\n",
    "    case COLOR_RED:\n",
    "      return COLOR_GREEN;\n",
    "    case COLOR_GREEN:\n",
    "      return COLOR_RED;\n",
    "    default:\n",
    "      throw new Error('Undefined color');\n",
    "    }\n",
    "}"
   ]
  },
  {
   "cell_type": "markdown",
   "id": "13b09375",
   "metadata": {},
   "source": [
    "常量使用 Symbol 值最大的好处，就是其他任何值都不可能有相同的值了，因此可以保证上面的`switch`语句会按设计的方式工作。\n",
    "\n",
    "还有一点需要注意，Symbol 值作为属性名时，该属性还是公开属性，不是私有属性。\n",
    "\n",
    "## 实例：消除魔术字符串\n",
    "\n",
    "魔术字符串指的是，在代码之中多次出现、与代码形成强耦合的某一个具体的字符串或者数值。风格良好的代码，应该尽量消除魔术字符串，改由含义清晰的变量代替。"
   ]
  },
  {
   "cell_type": "code",
   "execution_count": null,
   "id": "6343ab12",
   "metadata": {
    "attributes": {
     "classes": [
      "javascript"
     ],
     "id": ""
    }
   },
   "outputs": [],
   "source": [
    "function getArea(shape, options) {\n",
    "  let area = 0;\n",
    "\n",
    "  switch (shape) {\n",
    "    case 'Triangle': // 魔术字符串\n",
    "      area = .5 * options.width * options.height;\n",
    "      break;\n",
    "    /* ... more code ... */\n",
    "  }\n",
    "\n",
    "  return area;\n",
    "}\n",
    "\n",
    "getArea('Triangle', { width: 100, height: 100 }); // 魔术字符串"
   ]
  },
  {
   "cell_type": "markdown",
   "id": "62fc6a0c",
   "metadata": {},
   "source": [
    "上面代码中，字符串`Triangle`就是一个魔术字符串。它多次出现，与代码形成“强耦合”，不利于将来的修改和维护。\n",
    "\n",
    "常用的消除魔术字符串的方法，就是把它写成一个变量。"
   ]
  },
  {
   "cell_type": "code",
   "execution_count": null,
   "id": "9120a60d",
   "metadata": {
    "attributes": {
     "classes": [
      "javascript"
     ],
     "id": ""
    }
   },
   "outputs": [],
   "source": [
    "const shapeType = {\n",
    "  triangle: 'Triangle'\n",
    "};\n",
    "\n",
    "function getArea(shape, options) {\n",
    "  let area = 0;\n",
    "  switch (shape) {\n",
    "    case shapeType.triangle:\n",
    "      area = .5 * options.width * options.height;\n",
    "      break;\n",
    "  }\n",
    "  return area;\n",
    "}\n",
    "\n",
    "getArea(shapeType.triangle, { width: 100, height: 100 });"
   ]
  },
  {
   "cell_type": "markdown",
   "id": "661eee26",
   "metadata": {},
   "source": [
    "上面代码中，我们把`Triangle`写成`shapeType`对象的`triangle`属性，这样就消除了强耦合。\n",
    "\n",
    "如果仔细分析，可以发现`shapeType.triangle`等于哪个值并不重要，只要确保不会跟其他`shapeType`属性的值冲突即可。因此，这里就很适合改用 Symbol 值。"
   ]
  },
  {
   "cell_type": "code",
   "execution_count": null,
   "id": "016d2c86",
   "metadata": {
    "attributes": {
     "classes": [
      "javascript"
     ],
     "id": ""
    }
   },
   "outputs": [],
   "source": [
    "const shapeType = {\n",
    "  triangle: Symbol()\n",
    "};"
   ]
  },
  {
   "cell_type": "markdown",
   "id": "40b21f5f",
   "metadata": {},
   "source": [
    "上面代码中，除了将`shapeType.triangle`的值设为一个 Symbol，其他地方都不用修改。\n",
    "\n",
    "## 属性名的遍历\n",
    "\n",
    "Symbol 值作为属性名，遍历对象的时候，该属性不会出现在`for...in`、`for...of`循环中，也不会被`Object.keys()`、`Object.getOwnPropertyNames()`、`JSON.stringify()`返回。\n",
    "\n",
    "但是，它也不是私有属性，有一个`Object.getOwnPropertySymbols()`方法，可以获取指定对象的所有 Symbol 属性名。该方法返回一个数组，成员是当前对象的所有用作属性名的 Symbol 值。"
   ]
  },
  {
   "cell_type": "code",
   "execution_count": null,
   "id": "39c98869",
   "metadata": {
    "attributes": {
     "classes": [
      "javascript"
     ],
     "id": ""
    }
   },
   "outputs": [],
   "source": [
    "const obj = {};\n",
    "let a = Symbol('a');\n",
    "let b = Symbol('b');\n",
    "\n",
    "obj[a] = 'Hello';\n",
    "obj[b] = 'World';\n",
    "\n",
    "const objectSymbols = Object.getOwnPropertySymbols(obj);\n",
    "\n",
    "objectSymbols\n",
    "// [Symbol(a), Symbol(b)]"
   ]
  },
  {
   "cell_type": "markdown",
   "id": "1da8dc8b",
   "metadata": {},
   "source": [
    "上面代码是`Object.getOwnPropertySymbols()`方法的示例，可以获取所有 Symbol 属性名。\n",
    "\n",
    "下面是另一个例子，`Object.getOwnPropertySymbols()`方法与`for...in`循环、`Object.getOwnPropertyNames`方法进行对比的例子。"
   ]
  },
  {
   "cell_type": "code",
   "execution_count": null,
   "id": "79122cd3",
   "metadata": {
    "attributes": {
     "classes": [
      "javascript"
     ],
     "id": ""
    }
   },
   "outputs": [],
   "source": [
    "const obj = {};\n",
    "const foo = Symbol('foo');\n",
    "\n",
    "obj[foo] = 'bar';\n",
    "\n",
    "for (let i in obj) {\n",
    "  console.log(i); // 无输出\n",
    "}\n",
    "\n",
    "Object.getOwnPropertyNames(obj) // []\n",
    "Object.getOwnPropertySymbols(obj) // [Symbol(foo)]"
   ]
  },
  {
   "cell_type": "markdown",
   "id": "7f160640",
   "metadata": {},
   "source": [
    "上面代码中，使用`for...in`循环和`Object.getOwnPropertyNames()`方法都得不到 Symbol 键名，需要使用`Object.getOwnPropertySymbols()`方法。\n",
    "\n",
    "另一个新的 API，`Reflect.ownKeys()`方法可以返回所有类型的键名，包括常规键名和 Symbol 键名。"
   ]
  },
  {
   "cell_type": "code",
   "execution_count": null,
   "id": "27f5639e",
   "metadata": {
    "attributes": {
     "classes": [
      "javascript"
     ],
     "id": ""
    }
   },
   "outputs": [],
   "source": [
    "let obj = {\n",
    "  [Symbol('my_key')]: 1,\n",
    "  enum: 2,\n",
    "  nonEnum: 3\n",
    "};\n",
    "\n",
    "Reflect.ownKeys(obj)\n",
    "//  [\"enum\", \"nonEnum\", Symbol(my_key)]"
   ]
  },
  {
   "cell_type": "markdown",
   "id": "e71d68fa",
   "metadata": {},
   "source": [
    "由于以 Symbol 值作为键名，不会被常规方法遍历得到。我们可以利用这个特性，为对象定义一些非私有的、但又希望只用于内部的方法。"
   ]
  },
  {
   "cell_type": "code",
   "execution_count": null,
   "id": "3def58f0",
   "metadata": {
    "attributes": {
     "classes": [
      "javascript"
     ],
     "id": ""
    }
   },
   "outputs": [],
   "source": [
    "let size = Symbol('size');\n",
    "\n",
    "class Collection {\n",
    "  constructor() {\n",
    "    this[size] = 0;\n",
    "  }\n",
    "\n",
    "  add(item) {\n",
    "    this[this[size]] = item;\n",
    "    this[size]++;\n",
    "  }\n",
    "\n",
    "  static sizeOf(instance) {\n",
    "    return instance[size];\n",
    "  }\n",
    "}\n",
    "\n",
    "let x = new Collection();\n",
    "Collection.sizeOf(x) // 0\n",
    "\n",
    "x.add('foo');\n",
    "Collection.sizeOf(x) // 1\n",
    "\n",
    "Object.keys(x) // ['0']\n",
    "Object.getOwnPropertyNames(x) // ['0']\n",
    "Object.getOwnPropertySymbols(x) // [Symbol(size)]"
   ]
  },
  {
   "cell_type": "markdown",
   "id": "e53a59ad",
   "metadata": {},
   "source": [
    "上面代码中，对象`x`的`size`属性是一个 Symbol 值，所以`Object.keys(x)`、`Object.getOwnPropertyNames(x)`都无法获取它。这就造成了一种非私有的内部方法的效果。\n",
    "\n",
    "## Symbol.for()，Symbol.keyFor()\n",
    "\n",
    "有时，我们希望重新使用同一个 Symbol 值，`Symbol.for()`方法可以做到这一点。它接受一个字符串作为参数，然后搜索有没有以该参数作为名称的 Symbol 值。如果有，就返回这个 Symbol 值，否则就新建一个以该字符串为名称的 Symbol 值，并将其注册到全局。"
   ]
  },
  {
   "cell_type": "code",
   "execution_count": null,
   "id": "766adec8",
   "metadata": {
    "attributes": {
     "classes": [
      "javascript"
     ],
     "id": ""
    }
   },
   "outputs": [],
   "source": [
    "let s1 = Symbol.for('foo');\n",
    "let s2 = Symbol.for('foo');\n",
    "\n",
    "s1 === s2 // true"
   ]
  },
  {
   "cell_type": "markdown",
   "id": "abb08eb8",
   "metadata": {},
   "source": [
    "上面代码中，`s1`和`s2`都是 Symbol 值，但是它们都是由同样参数的`Symbol.for`方法生成的，所以实际上是同一个值。\n",
    "\n",
    "`Symbol.for()`与`Symbol()`这两种写法，都会生成新的 Symbol。它们的区别是，前者会被登记在全局环境中供搜索，后者不会。`Symbol.for()`不会每次调用就返回一个新的 Symbol 类型的值，而是会先检查给定的`key`是否已经存在，如果不存在才会新建一个值。比如，如果你调用`Symbol.for(\"cat\")`30 次，每次都会返回同一个 Symbol 值，但是调用`Symbol(\"cat\")`30 次，会返回 30 个不同的 Symbol 值。"
   ]
  },
  {
   "cell_type": "code",
   "execution_count": null,
   "id": "ba6fe31f",
   "metadata": {
    "attributes": {
     "classes": [
      "javascript"
     ],
     "id": ""
    }
   },
   "outputs": [],
   "source": [
    "Symbol.for(\"bar\") === Symbol.for(\"bar\")\n",
    "// true\n",
    "\n",
    "Symbol(\"bar\") === Symbol(\"bar\")\n",
    "// false"
   ]
  },
  {
   "cell_type": "markdown",
   "id": "69eaa109",
   "metadata": {},
   "source": [
    "上面代码中，由于`Symbol()`写法没有登记机制，所以每次调用都会返回一个不同的值。\n",
    "\n",
    "`Symbol.keyFor()`方法返回一个已登记的 Symbol 类型值的`key`。"
   ]
  },
  {
   "cell_type": "code",
   "execution_count": null,
   "id": "de458f6f",
   "metadata": {
    "attributes": {
     "classes": [
      "javascript"
     ],
     "id": ""
    }
   },
   "outputs": [],
   "source": [
    "let s1 = Symbol.for(\"foo\");\n",
    "Symbol.keyFor(s1) // \"foo\"\n",
    "\n",
    "let s2 = Symbol(\"foo\");\n",
    "Symbol.keyFor(s2) // undefined"
   ]
  },
  {
   "cell_type": "markdown",
   "id": "69f0cd15",
   "metadata": {},
   "source": [
    "上面代码中，变量`s2`属于未登记的 Symbol 值，所以返回`undefined`。\n",
    "\n",
    "注意，`Symbol.for()`为 Symbol 值登记的名字，是全局环境的，不管有没有在全局环境运行。"
   ]
  },
  {
   "cell_type": "code",
   "execution_count": null,
   "id": "59b970e4",
   "metadata": {
    "attributes": {
     "classes": [
      "javascript"
     ],
     "id": ""
    }
   },
   "outputs": [],
   "source": [
    "function foo() {\n",
    "  return Symbol.for('bar');\n",
    "}\n",
    "\n",
    "const x = foo();\n",
    "const y = Symbol.for('bar');\n",
    "console.log(x === y); // true"
   ]
  },
  {
   "cell_type": "markdown",
   "id": "483daee6",
   "metadata": {},
   "source": [
    "上面代码中，`Symbol.for('bar')`是函数内部运行的，但是生成的 Symbol 值是登记在全局环境的。所以，第二次运行`Symbol.for('bar')`可以取到这个 Symbol 值。\n",
    "\n",
    "`Symbol.for()`的这个全局登记特性，可以用在不同的 iframe 或 service worker 中取到同一个值。"
   ]
  },
  {
   "cell_type": "code",
   "execution_count": null,
   "id": "fc5bd831",
   "metadata": {
    "attributes": {
     "classes": [
      "javascript"
     ],
     "id": ""
    }
   },
   "outputs": [],
   "source": [
    "iframe = document.createElement('iframe');\n",
    "iframe.src = String(window.location);\n",
    "document.body.appendChild(iframe);\n",
    "\n",
    "iframe.contentWindow.Symbol.for('foo') === Symbol.for('foo')\n",
    "// true"
   ]
  },
  {
   "cell_type": "markdown",
   "id": "cb154766",
   "metadata": {},
   "source": [
    "上面代码中，iframe 窗口生成的 Symbol 值，可以在主页面得到。\n",
    "\n",
    "## 实例：模块的 Singleton 模式\n",
    "\n",
    "Singleton 模式指的是调用一个类，任何时候返回的都是同一个实例。\n",
    "\n",
    "对于 Node 来说，模块文件可以看成是一个类。怎么保证每次执行这个模块文件，返回的都是同一个实例呢？\n",
    "\n",
    "很容易想到，可以把实例放到顶层对象`global`。"
   ]
  },
  {
   "cell_type": "code",
   "execution_count": null,
   "id": "c7b0dcc2",
   "metadata": {
    "attributes": {
     "classes": [
      "javascript"
     ],
     "id": ""
    }
   },
   "outputs": [],
   "source": [
    "// mod.js\n",
    "function A() {\n",
    "  this.foo = 'hello';\n",
    "}\n",
    "\n",
    "if (!global._foo) {\n",
    "  global._foo = new A();\n",
    "}\n",
    "\n",
    "module.exports = global._foo;"
   ]
  },
  {
   "cell_type": "markdown",
   "id": "10ac68d3",
   "metadata": {},
   "source": [
    "然后，加载上面的`mod.js`。"
   ]
  },
  {
   "cell_type": "code",
   "execution_count": null,
   "id": "7dff934f",
   "metadata": {
    "attributes": {
     "classes": [
      "javascript"
     ],
     "id": ""
    }
   },
   "outputs": [],
   "source": [
    "const a = require('./mod.js');\n",
    "console.log(a.foo);"
   ]
  },
  {
   "cell_type": "markdown",
   "id": "1e9d7260",
   "metadata": {},
   "source": [
    "上面代码中，变量`a`任何时候加载的都是`A`的同一个实例。\n",
    "\n",
    "但是，这里有一个问题，全局变量`global._foo`是可写的，任何文件都可以修改。"
   ]
  },
  {
   "cell_type": "code",
   "execution_count": null,
   "id": "fd22226c",
   "metadata": {
    "attributes": {
     "classes": [
      "javascript"
     ],
     "id": ""
    }
   },
   "outputs": [],
   "source": [
    "global._foo = { foo: 'world' };\n",
    "\n",
    "const a = require('./mod.js');\n",
    "console.log(a.foo);"
   ]
  },
  {
   "cell_type": "markdown",
   "id": "0d11a6fe",
   "metadata": {},
   "source": [
    "上面的代码，会使得加载`mod.js`的脚本都失真。\n",
    "\n",
    "为了防止这种情况出现，我们就可以使用 Symbol。"
   ]
  },
  {
   "cell_type": "code",
   "execution_count": null,
   "id": "2ba89429",
   "metadata": {
    "attributes": {
     "classes": [
      "javascript"
     ],
     "id": ""
    }
   },
   "outputs": [],
   "source": [
    "// mod.js\n",
    "const FOO_KEY = Symbol.for('foo');\n",
    "\n",
    "function A() {\n",
    "  this.foo = 'hello';\n",
    "}\n",
    "\n",
    "if (!global[FOO_KEY]) {\n",
    "  global[FOO_KEY] = new A();\n",
    "}\n",
    "\n",
    "module.exports = global[FOO_KEY];"
   ]
  },
  {
   "cell_type": "markdown",
   "id": "3cb032db",
   "metadata": {},
   "source": [
    "上面代码中，可以保证`global[FOO_KEY]`不会被无意间覆盖，但还是可以被改写。"
   ]
  },
  {
   "cell_type": "code",
   "execution_count": null,
   "id": "234def4f",
   "metadata": {
    "attributes": {
     "classes": [
      "javascript"
     ],
     "id": ""
    }
   },
   "outputs": [],
   "source": [
    "global[Symbol.for('foo')] = { foo: 'world' };\n",
    "\n",
    "const a = require('./mod.js');"
   ]
  },
  {
   "cell_type": "markdown",
   "id": "88f5b74a",
   "metadata": {},
   "source": [
    "如果键名使用`Symbol`方法生成，那么外部将无法引用这个值，当然也就无法改写。"
   ]
  },
  {
   "cell_type": "code",
   "execution_count": null,
   "id": "378ea3e3",
   "metadata": {
    "attributes": {
     "classes": [
      "javascript"
     ],
     "id": ""
    }
   },
   "outputs": [],
   "source": [
    "// mod.js\n",
    "const FOO_KEY = Symbol('foo');\n",
    "\n",
    "// 后面代码相同 ……"
   ]
  },
  {
   "cell_type": "markdown",
   "id": "24744852",
   "metadata": {},
   "source": [
    "上面代码将导致其他脚本都无法引用`FOO_KEY`。但这样也有一个问题，就是如果多次执行这个脚本，每次得到的`FOO_KEY`都是不一样的。虽然 Node 会将脚本的执行结果缓存，一般情况下，不会多次执行同一个脚本，但是用户可以手动清除缓存，所以也不是绝对可靠。\n",
    "\n",
    "## 内置的 Symbol 值\n",
    "\n",
    "除了定义自己使用的 Symbol 值以外，ES6 还提供了 11 个内置的 Symbol 值，指向语言内部使用的方法。\n",
    "\n",
    "### Symbol.hasInstance\n",
    "\n",
    "对象的`Symbol.hasInstance`属性，指向一个内部方法。当其他对象使用`instanceof`运算符，判断是否为该对象的实例时，会调用这个方法。比如，`foo instanceof Foo`在语言内部，实际调用的是`Foo[Symbol.hasInstance](foo)`。"
   ]
  },
  {
   "cell_type": "code",
   "execution_count": null,
   "id": "6292c653",
   "metadata": {
    "attributes": {
     "classes": [
      "javascript"
     ],
     "id": ""
    }
   },
   "outputs": [],
   "source": [
    "class MyClass {\n",
    "  [Symbol.hasInstance](foo) {\n",
    "    return foo instanceof Array;\n",
    "  }\n",
    "}\n",
    "\n",
    "[1, 2, 3] instanceof new MyClass() // true"
   ]
  },
  {
   "cell_type": "markdown",
   "id": "7f43cec3",
   "metadata": {},
   "source": [
    "上面代码中，`MyClass`是一个类，`new MyClass()`会返回一个实例。该实例的`Symbol.hasInstance`方法，会在进行`instanceof`运算时自动调用，判断左侧的运算子是否为`Array`的实例。\n",
    "\n",
    "下面是另一个例子。"
   ]
  },
  {
   "cell_type": "code",
   "execution_count": null,
   "id": "01f73cba",
   "metadata": {
    "attributes": {
     "classes": [
      "javascript"
     ],
     "id": ""
    }
   },
   "outputs": [],
   "source": [
    "class Even {\n",
    "  static [Symbol.hasInstance](obj) {\n",
    "    return Number(obj) % 2 === 0;\n",
    "  }\n",
    "}\n",
    "\n",
    "// 等同于\n",
    "const Even = {\n",
    "  [Symbol.hasInstance](obj) {\n",
    "    return Number(obj) % 2 === 0;\n",
    "  }\n",
    "};\n",
    "\n",
    "1 instanceof Even // false\n",
    "2 instanceof Even // true\n",
    "12345 instanceof Even // false"
   ]
  },
  {
   "cell_type": "markdown",
   "id": "8a5faad4",
   "metadata": {},
   "source": [
    "### Symbol.isConcatSpreadable\n",
    "\n",
    "对象的`Symbol.isConcatSpreadable`属性等于一个布尔值，表示该对象用于`Array.prototype.concat()`时，是否可以展开。"
   ]
  },
  {
   "cell_type": "code",
   "execution_count": null,
   "id": "495dc864",
   "metadata": {
    "attributes": {
     "classes": [
      "javascript"
     ],
     "id": ""
    }
   },
   "outputs": [],
   "source": [
    "let arr1 = ['c', 'd'];\n",
    "['a', 'b'].concat(arr1, 'e') // ['a', 'b', 'c', 'd', 'e']\n",
    "arr1[Symbol.isConcatSpreadable] // undefined\n",
    "\n",
    "let arr2 = ['c', 'd'];\n",
    "arr2[Symbol.isConcatSpreadable] = false;\n",
    "['a', 'b'].concat(arr2, 'e') // ['a', 'b', ['c','d'], 'e']"
   ]
  },
  {
   "cell_type": "markdown",
   "id": "a47a431f",
   "metadata": {},
   "source": [
    "上面代码说明，数组的默认行为是可以展开，`Symbol.isConcatSpreadable`默认等于`undefined`。该属性等于`true`时，也有展开的效果。\n",
    "\n",
    "类似数组的对象正好相反，默认不展开。它的`Symbol.isConcatSpreadable`属性设为`true`，才可以展开。"
   ]
  },
  {
   "cell_type": "code",
   "execution_count": null,
   "id": "9e1d4b7e",
   "metadata": {
    "attributes": {
     "classes": [
      "javascript"
     ],
     "id": ""
    }
   },
   "outputs": [],
   "source": [
    "let obj = {length: 2, 0: 'c', 1: 'd'};\n",
    "['a', 'b'].concat(obj, 'e') // ['a', 'b', obj, 'e']\n",
    "\n",
    "obj[Symbol.isConcatSpreadable] = true;\n",
    "['a', 'b'].concat(obj, 'e') // ['a', 'b', 'c', 'd', 'e']"
   ]
  },
  {
   "cell_type": "markdown",
   "id": "7a629add",
   "metadata": {},
   "source": [
    "`Symbol.isConcatSpreadable`属性也可以定义在类里面。"
   ]
  },
  {
   "cell_type": "code",
   "execution_count": null,
   "id": "062bd0aa",
   "metadata": {
    "attributes": {
     "classes": [
      "javascript"
     ],
     "id": ""
    }
   },
   "outputs": [],
   "source": [
    "class A1 extends Array {\n",
    "  constructor(args) {\n",
    "    super(args);\n",
    "    this[Symbol.isConcatSpreadable] = true;\n",
    "  }\n",
    "}\n",
    "class A2 extends Array {\n",
    "  constructor(args) {\n",
    "    super(args);\n",
    "  }\n",
    "  get [Symbol.isConcatSpreadable] () {\n",
    "    return false;\n",
    "  }\n",
    "}\n",
    "let a1 = new A1();\n",
    "a1[0] = 3;\n",
    "a1[1] = 4;\n",
    "let a2 = new A2();\n",
    "a2[0] = 5;\n",
    "a2[1] = 6;\n",
    "[1, 2].concat(a1).concat(a2)\n",
    "// [1, 2, 3, 4, [5, 6]]"
   ]
  },
  {
   "cell_type": "markdown",
   "id": "1d4ad20b",
   "metadata": {},
   "source": [
    "上面代码中，类`A1`是可展开的，类`A2`是不可展开的，所以使用`concat`时有不一样的结果。\n",
    "\n",
    "注意，`Symbol.isConcatSpreadable`的位置差异，`A1`是定义在实例上，`A2`是定义在类本身，效果相同。\n",
    "\n",
    "### Symbol.species\n",
    "\n",
    "对象的`Symbol.species`属性，指向一个构造函数。创建衍生对象时，会使用该属性。"
   ]
  },
  {
   "cell_type": "code",
   "execution_count": null,
   "id": "5f9d2aa7",
   "metadata": {
    "attributes": {
     "classes": [
      "javascript"
     ],
     "id": ""
    }
   },
   "outputs": [],
   "source": [
    "class MyArray extends Array {\n",
    "}\n",
    "\n",
    "const a = new MyArray(1, 2, 3);\n",
    "const b = a.map(x => x);\n",
    "const c = a.filter(x => x > 1);\n",
    "\n",
    "b instanceof MyArray // true\n",
    "c instanceof MyArray // true"
   ]
  },
  {
   "cell_type": "markdown",
   "id": "0d38f851",
   "metadata": {},
   "source": [
    "上面代码中，子类`MyArray`继承了父类`Array`，`a`是`MyArray`的实例，`b`和`c`是`a`的衍生对象。你可能会认为，`b`和`c`都是调用数组方法生成的，所以应该是数组（`Array`的实例），但实际上它们也是`MyArray`的实例。\n",
    "\n",
    "`Symbol.species`属性就是为了解决这个问题而提供的。现在，我们可以为`MyArray`设置`Symbol.species`属性。"
   ]
  },
  {
   "cell_type": "code",
   "execution_count": null,
   "id": "77d81da9",
   "metadata": {
    "attributes": {
     "classes": [
      "javascript"
     ],
     "id": ""
    }
   },
   "outputs": [],
   "source": [
    "class MyArray extends Array {\n",
    "  static get [Symbol.species]() { return Array; }\n",
    "}"
   ]
  },
  {
   "cell_type": "markdown",
   "id": "5ab1b26a",
   "metadata": {},
   "source": [
    "上面代码中，由于定义了`Symbol.species`属性，创建衍生对象时就会使用这个属性返回的函数，作为构造函数。这个例子也说明，定义`Symbol.species`属性要采用`get`取值器。默认的`Symbol.species`属性等同于下面的写法。"
   ]
  },
  {
   "cell_type": "code",
   "execution_count": null,
   "id": "437b7fea",
   "metadata": {
    "attributes": {
     "classes": [
      "javascript"
     ],
     "id": ""
    }
   },
   "outputs": [],
   "source": [
    "static get [Symbol.species]() {\n",
    "  return this;\n",
    "}"
   ]
  },
  {
   "cell_type": "markdown",
   "id": "ebaa4580",
   "metadata": {},
   "source": [
    "现在，再来看前面的例子。"
   ]
  },
  {
   "cell_type": "code",
   "execution_count": null,
   "id": "799ff9ec",
   "metadata": {
    "attributes": {
     "classes": [
      "javascript"
     ],
     "id": ""
    }
   },
   "outputs": [],
   "source": [
    "class MyArray extends Array {\n",
    "  static get [Symbol.species]() { return Array; }\n",
    "}\n",
    "\n",
    "const a = new MyArray();\n",
    "const b = a.map(x => x);\n",
    "\n",
    "b instanceof MyArray // false\n",
    "b instanceof Array // true"
   ]
  },
  {
   "cell_type": "markdown",
   "id": "15f5eb0c",
   "metadata": {},
   "source": [
    "上面代码中，`a.map(x => x)`生成的衍生对象，就不是`MyArray`的实例，而直接就是`Array`的实例。\n",
    "\n",
    "再看一个例子。"
   ]
  },
  {
   "cell_type": "code",
   "execution_count": null,
   "id": "2380ff7f",
   "metadata": {
    "attributes": {
     "classes": [
      "javascript"
     ],
     "id": ""
    }
   },
   "outputs": [],
   "source": [
    "class T1 extends Promise {\n",
    "}\n",
    "\n",
    "class T2 extends Promise {\n",
    "  static get [Symbol.species]() {\n",
    "    return Promise;\n",
    "  }\n",
    "}\n",
    "\n",
    "new T1(r => r()).then(v => v) instanceof T1 // true\n",
    "new T2(r => r()).then(v => v) instanceof T2 // false"
   ]
  },
  {
   "cell_type": "markdown",
   "id": "e7dbd5d6",
   "metadata": {},
   "source": [
    "上面代码中，`T2`定义了`Symbol.species`属性，`T1`没有。结果就导致了创建衍生对象时（`then`方法），`T1`调用的是自身的构造方法，而`T2`调用的是`Promise`的构造方法。\n",
    "\n",
    "总之，`Symbol.species`的作用在于，实例对象在运行过程中，需要再次调用自身的构造函数时，会调用该属性指定的构造函数。它主要的用途是，有些类库是在基类的基础上修改的，那么子类使用继承的方法时，作者可能希望返回基类的实例，而不是子类的实例。\n",
    "\n",
    "### Symbol.match\n",
    "\n",
    "对象的`Symbol.match`属性，指向一个函数。当执行`str.match(myObject)`时，如果该属性存在，会调用它，返回该方法的返回值。"
   ]
  },
  {
   "cell_type": "code",
   "execution_count": null,
   "id": "ad73f5d0",
   "metadata": {
    "attributes": {
     "classes": [
      "javascript"
     ],
     "id": ""
    }
   },
   "outputs": [],
   "source": [
    "String.prototype.match(regexp)\n",
    "// 等同于\n",
    "regexp[Symbol.match](this)\n",
    "\n",
    "class MyMatcher {\n",
    "  [Symbol.match](string) {\n",
    "    return 'hello world'.indexOf(string);\n",
    "  }\n",
    "}\n",
    "\n",
    "'e'.match(new MyMatcher()) // 1"
   ]
  },
  {
   "cell_type": "markdown",
   "id": "b8f88902",
   "metadata": {},
   "source": [
    "### Symbol.replace\n",
    "\n",
    "对象的`Symbol.replace`属性，指向一个方法，当该对象被`String.prototype.replace`方法调用时，会返回该方法的返回值。"
   ]
  },
  {
   "cell_type": "code",
   "execution_count": null,
   "id": "feb1340c",
   "metadata": {
    "attributes": {
     "classes": [
      "javascript"
     ],
     "id": ""
    }
   },
   "outputs": [],
   "source": [
    "String.prototype.replace(searchValue, replaceValue)\n",
    "// 等同于\n",
    "searchValue[Symbol.replace](this, replaceValue)"
   ]
  },
  {
   "cell_type": "markdown",
   "id": "f65763f6",
   "metadata": {},
   "source": [
    "下面是一个例子。"
   ]
  },
  {
   "cell_type": "code",
   "execution_count": null,
   "id": "2ad87a05",
   "metadata": {
    "attributes": {
     "classes": [
      "javascript"
     ],
     "id": ""
    }
   },
   "outputs": [],
   "source": [
    "const x = {};\n",
    "x[Symbol.replace] = (...s) => console.log(s);\n",
    "\n",
    "'Hello'.replace(x, 'World') // [\"Hello\", \"World\"]"
   ]
  },
  {
   "cell_type": "markdown",
   "id": "a7570a95",
   "metadata": {},
   "source": [
    "`Symbol.replace`方法会收到两个参数，第一个参数是`replace`方法正在作用的对象，上面例子是`Hello`，第二个参数是替换后的值，上面例子是`World`。\n",
    "\n",
    "### Symbol.search\n",
    "\n",
    "对象的`Symbol.search`属性，指向一个方法，当该对象被`String.prototype.search`方法调用时，会返回该方法的返回值。"
   ]
  },
  {
   "cell_type": "code",
   "execution_count": null,
   "id": "77f77962",
   "metadata": {
    "attributes": {
     "classes": [
      "javascript"
     ],
     "id": ""
    }
   },
   "outputs": [],
   "source": [
    "String.prototype.search(regexp)\n",
    "// 等同于\n",
    "regexp[Symbol.search](this)\n",
    "\n",
    "class MySearch {\n",
    "  constructor(value) {\n",
    "    this.value = value;\n",
    "  }\n",
    "  [Symbol.search](string) {\n",
    "    return string.indexOf(this.value);\n",
    "  }\n",
    "}\n",
    "'foobar'.search(new MySearch('foo')) // 0"
   ]
  },
  {
   "cell_type": "markdown",
   "id": "d22feb59",
   "metadata": {},
   "source": [
    "### Symbol.split\n",
    "\n",
    "对象的`Symbol.split`属性，指向一个方法，当该对象被`String.prototype.split`方法调用时，会返回该方法的返回值。"
   ]
  },
  {
   "cell_type": "code",
   "execution_count": null,
   "id": "b2c6cb84",
   "metadata": {
    "attributes": {
     "classes": [
      "javascript"
     ],
     "id": ""
    }
   },
   "outputs": [],
   "source": [
    "String.prototype.split(separator, limit)\n",
    "// 等同于\n",
    "separator[Symbol.split](this, limit)"
   ]
  },
  {
   "cell_type": "markdown",
   "id": "9d3d9ece",
   "metadata": {},
   "source": [
    "下面是一个例子。"
   ]
  },
  {
   "cell_type": "code",
   "execution_count": null,
   "id": "fc85c144",
   "metadata": {
    "attributes": {
     "classes": [
      "javascript"
     ],
     "id": ""
    }
   },
   "outputs": [],
   "source": [
    "class MySplitter {\n",
    "  constructor(value) {\n",
    "    this.value = value;\n",
    "  }\n",
    "  [Symbol.split](string) {\n",
    "    let index = string.indexOf(this.value);\n",
    "    if (index === -1) {\n",
    "      return string;\n",
    "    }\n",
    "    return [\n",
    "      string.substr(0, index),\n",
    "      string.substr(index + this.value.length)\n",
    "    ];\n",
    "  }\n",
    "}\n",
    "\n",
    "'foobar'.split(new MySplitter('foo'))\n",
    "// ['', 'bar']\n",
    "\n",
    "'foobar'.split(new MySplitter('bar'))\n",
    "// ['foo', '']\n",
    "\n",
    "'foobar'.split(new MySplitter('baz'))\n",
    "// 'foobar'"
   ]
  },
  {
   "cell_type": "markdown",
   "id": "d9329d96",
   "metadata": {},
   "source": [
    "上面方法使用`Symbol.split`方法，重新定义了字符串对象的`split`方法的行为，\n",
    "\n",
    "### Symbol.iterator\n",
    "\n",
    "对象的`Symbol.iterator`属性，指向该对象的默认遍历器方法。"
   ]
  },
  {
   "cell_type": "code",
   "execution_count": null,
   "id": "6b3d777b",
   "metadata": {
    "attributes": {
     "classes": [
      "javascript"
     ],
     "id": ""
    }
   },
   "outputs": [],
   "source": [
    "const myIterable = {};\n",
    "myIterable[Symbol.iterator] = function* () {\n",
    "  yield 1;\n",
    "  yield 2;\n",
    "  yield 3;\n",
    "};\n",
    "\n",
    "[...myIterable] // [1, 2, 3]"
   ]
  },
  {
   "cell_type": "markdown",
   "id": "38f6a9f7",
   "metadata": {},
   "source": [
    "对象进行`for...of`循环时，会调用`Symbol.iterator`方法，返回该对象的默认遍历器，详细介绍参见《Iterator 和 for...of 循环》一章。"
   ]
  },
  {
   "cell_type": "code",
   "execution_count": null,
   "id": "7f6f7fce",
   "metadata": {
    "attributes": {
     "classes": [
      "javascript"
     ],
     "id": ""
    }
   },
   "outputs": [],
   "source": [
    "class Collection {\n",
    "  *[Symbol.iterator]() {\n",
    "    let i = 0;\n",
    "    while(this[i] !== undefined) {\n",
    "      yield this[i];\n",
    "      ++i;\n",
    "    }\n",
    "  }\n",
    "}\n",
    "\n",
    "let myCollection = new Collection();\n",
    "myCollection[0] = 1;\n",
    "myCollection[1] = 2;\n",
    "\n",
    "for(let value of myCollection) {\n",
    "  console.log(value);\n",
    "}\n",
    "// 1\n",
    "// 2"
   ]
  },
  {
   "cell_type": "markdown",
   "id": "b3c2a3a6",
   "metadata": {},
   "source": [
    "### Symbol.toPrimitive\n",
    "\n",
    "对象的`Symbol.toPrimitive`属性，指向一个方法。该对象被转为原始类型的值时，会调用这个方法，返回该对象对应的原始类型值。\n",
    "\n",
    "`Symbol.toPrimitive`被调用时，会接受一个字符串参数，表示当前运算的模式，一共有三种模式。\n",
    "\n",
    "- Number：该场合需要转成数值\n",
    "- String：该场合需要转成字符串\n",
    "- Default：该场合可以转成数值，也可以转成字符串"
   ]
  },
  {
   "cell_type": "code",
   "execution_count": null,
   "id": "ddd86075",
   "metadata": {
    "attributes": {
     "classes": [
      "javascript"
     ],
     "id": ""
    }
   },
   "outputs": [],
   "source": [
    "let obj = {\n",
    "  [Symbol.toPrimitive](hint) {\n",
    "    switch (hint) {\n",
    "      case 'number':\n",
    "        return 123;\n",
    "      case 'string':\n",
    "        return 'str';\n",
    "      case 'default':\n",
    "        return 'default';\n",
    "      default:\n",
    "        throw new Error();\n",
    "     }\n",
    "   }\n",
    "};\n",
    "\n",
    "2 * obj // 246\n",
    "3 + obj // '3default'\n",
    "obj == 'default' // true\n",
    "String(obj) // 'str'"
   ]
  },
  {
   "cell_type": "markdown",
   "id": "aa543499",
   "metadata": {},
   "source": [
    "### Symbol.toStringTag\n",
    "\n",
    "对象的`Symbol.toStringTag`属性，指向一个方法。在该对象上面调用`Object.prototype.toString`方法时，如果这个属性存在，它的返回值会出现在`toString`方法返回的字符串之中，表示对象的类型。也就是说，这个属性可以用来定制`[object Object]`或`[object Array]`中`object`后面的那个字符串。"
   ]
  },
  {
   "cell_type": "code",
   "execution_count": null,
   "id": "4d541865",
   "metadata": {
    "attributes": {
     "classes": [
      "javascript"
     ],
     "id": ""
    }
   },
   "outputs": [],
   "source": [
    "// 例一\n",
    "({[Symbol.toStringTag]: 'Foo'}.toString())\n",
    "// \"[object Foo]\"\n",
    "\n",
    "// 例二\n",
    "class Collection {\n",
    "  get [Symbol.toStringTag]() {\n",
    "    return 'xxx';\n",
    "  }\n",
    "}\n",
    "let x = new Collection();\n",
    "Object.prototype.toString.call(x) // \"[object xxx]\""
   ]
  },
  {
   "cell_type": "markdown",
   "id": "0bf14c7b",
   "metadata": {},
   "source": [
    "ES6 新增内置对象的`Symbol.toStringTag`属性值如下。\n",
    "\n",
    "- `JSON[Symbol.toStringTag]`：'JSON'\n",
    "- `Math[Symbol.toStringTag]`：'Math'\n",
    "- Module 对象`M[Symbol.toStringTag]`：'Module'\n",
    "- `ArrayBuffer.prototype[Symbol.toStringTag]`：'ArrayBuffer'\n",
    "- `DataView.prototype[Symbol.toStringTag]`：'DataView'\n",
    "- `Map.prototype[Symbol.toStringTag]`：'Map'\n",
    "- `Promise.prototype[Symbol.toStringTag]`：'Promise'\n",
    "- `Set.prototype[Symbol.toStringTag]`：'Set'\n",
    "- `%TypedArray%.prototype[Symbol.toStringTag]`：'Uint8Array'等\n",
    "- `WeakMap.prototype[Symbol.toStringTag]`：'WeakMap'\n",
    "- `WeakSet.prototype[Symbol.toStringTag]`：'WeakSet'\n",
    "- `%MapIteratorPrototype%[Symbol.toStringTag]`：'Map Iterator'\n",
    "- `%SetIteratorPrototype%[Symbol.toStringTag]`：'Set Iterator'\n",
    "- `%StringIteratorPrototype%[Symbol.toStringTag]`：'String Iterator'\n",
    "- `Symbol.prototype[Symbol.toStringTag]`：'Symbol'\n",
    "- `Generator.prototype[Symbol.toStringTag]`：'Generator'\n",
    "- `GeneratorFunction.prototype[Symbol.toStringTag]`：'GeneratorFunction'\n",
    "\n",
    "### Symbol.unscopables\n",
    "\n",
    "对象的`Symbol.unscopables`属性，指向一个对象。该对象指定了使用`with`关键字时，哪些属性会被`with`环境排除。"
   ]
  },
  {
   "cell_type": "code",
   "execution_count": null,
   "id": "0f896031",
   "metadata": {
    "attributes": {
     "classes": [
      "javascript"
     ],
     "id": ""
    }
   },
   "outputs": [],
   "source": [
    "Array.prototype[Symbol.unscopables]\n",
    "// {\n",
    "//   copyWithin: true,\n",
    "//   entries: true,\n",
    "//   fill: true,\n",
    "//   find: true,\n",
    "//   findIndex: true,\n",
    "//   includes: true,\n",
    "//   keys: true\n",
    "// }\n",
    "\n",
    "Object.keys(Array.prototype[Symbol.unscopables])\n",
    "// ['copyWithin', 'entries', 'fill', 'find', 'findIndex', 'includes', 'keys']"
   ]
  },
  {
   "cell_type": "markdown",
   "id": "071573f4",
   "metadata": {},
   "source": [
    "上面代码说明，数组有 7 个属性，会被`with`命令排除。"
   ]
  },
  {
   "cell_type": "code",
   "execution_count": null,
   "id": "c25bbe8e",
   "metadata": {
    "attributes": {
     "classes": [
      "javascript"
     ],
     "id": ""
    }
   },
   "outputs": [],
   "source": [
    "// 没有 unscopables 时\n",
    "class MyClass {\n",
    "  foo() { return 1; }\n",
    "}\n",
    "\n",
    "var foo = function () { return 2; };\n",
    "\n",
    "with (MyClass.prototype) {\n",
    "  foo(); // 1\n",
    "}\n",
    "\n",
    "// 有 unscopables 时\n",
    "class MyClass {\n",
    "  foo() { return 1; }\n",
    "  get [Symbol.unscopables]() {\n",
    "    return { foo: true };\n",
    "  }\n",
    "}\n",
    "\n",
    "var foo = function () { return 2; };\n",
    "\n",
    "with (MyClass.prototype) {\n",
    "  foo(); // 2\n",
    "}"
   ]
  },
  {
   "cell_type": "markdown",
   "id": "18ea7a1f",
   "metadata": {},
   "source": [
    "上面代码通过指定`Symbol.unscopables`属性，使得`with`语法块不会在当前作用域寻找`foo`属性，即`foo`将指向外层作用域的变量。"
   ]
  }
 ],
 "metadata": {},
 "nbformat": 4,
 "nbformat_minor": 5
}

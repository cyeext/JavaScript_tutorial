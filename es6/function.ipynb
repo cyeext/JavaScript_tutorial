{
 "cells": [
  {
   "cell_type": "markdown",
   "id": "504fe433",
   "metadata": {},
   "source": [
    "# 函数的扩展\n",
    "\n",
    "## 函数参数的默认值\n",
    "\n",
    "### 基本用法\n",
    "\n",
    "ES6 之前，不能直接为函数的参数指定默认值，只能采用变通的方法。"
   ]
  },
  {
   "cell_type": "code",
   "execution_count": null,
   "id": "f7fa477e",
   "metadata": {
    "attributes": {
     "classes": [
      "javascript"
     ],
     "id": ""
    }
   },
   "outputs": [],
   "source": [
    "function log(x, y) {\n",
    "  y = y || 'World';\n",
    "  console.log(x, y);\n",
    "}\n",
    "\n",
    "log('Hello') // Hello World\n",
    "log('Hello', 'China') // Hello China\n",
    "log('Hello', '') // Hello World"
   ]
  },
  {
   "cell_type": "markdown",
   "id": "6c51dfb3",
   "metadata": {},
   "source": [
    "上面代码检查函数`log()`的参数`y`有没有赋值，如果没有，则指定默认值为`World`。这种写法的缺点在于，如果参数`y`赋值了，但是对应的布尔值为`false`，则该赋值不起作用。就像上面代码的最后一行，参数`y`等于空字符，结果被改为默认值。\n",
    "\n",
    "为了避免这个问题，通常需要先判断一下参数`y`是否被赋值，如果没有，再等于默认值。"
   ]
  },
  {
   "cell_type": "code",
   "execution_count": null,
   "id": "4bf0b216",
   "metadata": {
    "attributes": {
     "classes": [
      "javascript"
     ],
     "id": ""
    }
   },
   "outputs": [],
   "source": [
    "if (typeof y === 'undefined') {\n",
    "  y = 'World';\n",
    "}"
   ]
  },
  {
   "cell_type": "markdown",
   "id": "bc4c2e36",
   "metadata": {},
   "source": [
    "ES6 允许为函数的参数设置默认值，即直接写在参数定义的后面。"
   ]
  },
  {
   "cell_type": "code",
   "execution_count": null,
   "id": "a93355a5",
   "metadata": {
    "attributes": {
     "classes": [
      "javascript"
     ],
     "id": ""
    }
   },
   "outputs": [],
   "source": [
    "function log(x, y = 'World') {\n",
    "  console.log(x, y);\n",
    "}\n",
    "\n",
    "log('Hello') // Hello World\n",
    "log('Hello', 'China') // Hello China\n",
    "log('Hello', '') // Hello"
   ]
  },
  {
   "cell_type": "markdown",
   "id": "6eca7366",
   "metadata": {},
   "source": [
    "可以看到，ES6 的写法比 ES5 简洁许多，而且非常自然。下面是另一个例子。"
   ]
  },
  {
   "cell_type": "code",
   "execution_count": null,
   "id": "4dd3012c",
   "metadata": {
    "attributes": {
     "classes": [
      "javascript"
     ],
     "id": ""
    }
   },
   "outputs": [],
   "source": [
    "function Point(x = 0, y = 0) {\n",
    "  this.x = x;\n",
    "  this.y = y;\n",
    "}\n",
    "\n",
    "const p = new Point();\n",
    "p // { x: 0, y: 0 }"
   ]
  },
  {
   "cell_type": "markdown",
   "id": "795f73b4",
   "metadata": {},
   "source": [
    "除了简洁，ES6 的写法还有两个好处：首先，阅读代码的人，可以立刻意识到哪些参数是可以省略的，不用查看函数体或文档；其次，有利于将来的代码优化，即使未来的版本在对外接口中，彻底拿掉这个参数，也不会导致以前的代码无法运行。\n",
    "\n",
    "参数变量是默认声明的，所以不能用`let`或`const`再次声明。"
   ]
  },
  {
   "cell_type": "code",
   "execution_count": null,
   "id": "6f50d564",
   "metadata": {
    "attributes": {
     "classes": [
      "javascript"
     ],
     "id": ""
    }
   },
   "outputs": [],
   "source": [
    "function foo(x = 5) {\n",
    "  let x = 1; // error\n",
    "  const x = 2; // error\n",
    "}"
   ]
  },
  {
   "cell_type": "markdown",
   "id": "58f1e4ba",
   "metadata": {},
   "source": [
    "上面代码中，参数变量`x`是默认声明的，在函数体中，不能用`let`或`const`再次声明，否则会报错。\n",
    "\n",
    "使用参数默认值时，函数不能有同名参数。"
   ]
  },
  {
   "cell_type": "code",
   "execution_count": null,
   "id": "38185b8c",
   "metadata": {
    "attributes": {
     "classes": [
      "javascript"
     ],
     "id": ""
    }
   },
   "outputs": [],
   "source": [
    "// 不报错\n",
    "function foo(x, x, y) {\n",
    "  // ...\n",
    "}\n",
    "\n",
    "// 报错\n",
    "function foo(x, x, y = 1) {\n",
    "  // ...\n",
    "}\n",
    "// SyntaxError: Duplicate parameter name not allowed in this context"
   ]
  },
  {
   "cell_type": "markdown",
   "id": "101601d8",
   "metadata": {},
   "source": [
    "另外，一个容易忽略的地方是，参数默认值不是传值的，而是每次都重新计算默认值表达式的值。也就是说，参数默认值是惰性求值的。"
   ]
  },
  {
   "cell_type": "code",
   "execution_count": null,
   "id": "2b755c47",
   "metadata": {
    "attributes": {
     "classes": [
      "javascript"
     ],
     "id": ""
    }
   },
   "outputs": [],
   "source": [
    "let x = 99;\n",
    "function foo(p = x + 1) {\n",
    "  console.log(p);\n",
    "}\n",
    "\n",
    "foo() // 100\n",
    "\n",
    "x = 100;\n",
    "foo() // 101"
   ]
  },
  {
   "cell_type": "markdown",
   "id": "8a6486c7",
   "metadata": {},
   "source": [
    "上面代码中，参数`p`的默认值是`x + 1`。这时，每次调用函数`foo()`，都会重新计算`x + 1`，而不是默认`p`等于 100。\n",
    "\n",
    "### 与解构赋值默认值结合使用\n",
    "\n",
    "参数默认值可以与解构赋值的默认值，结合起来使用。"
   ]
  },
  {
   "cell_type": "code",
   "execution_count": null,
   "id": "250150c5",
   "metadata": {
    "attributes": {
     "classes": [
      "javascript"
     ],
     "id": ""
    }
   },
   "outputs": [],
   "source": [
    "function foo({x, y = 5}) {\n",
    "  console.log(x, y);\n",
    "}\n",
    "\n",
    "foo({}) // undefined 5\n",
    "foo({x: 1}) // 1 5\n",
    "foo({x: 1, y: 2}) // 1 2\n",
    "foo() // TypeError: Cannot read property 'x' of undefined"
   ]
  },
  {
   "cell_type": "markdown",
   "id": "33a5778d",
   "metadata": {},
   "source": [
    "上面代码只使用了对象的解构赋值默认值，没有使用函数参数的默认值。只有当函数`foo()`的参数是一个对象时，变量`x`和`y`才会通过解构赋值生成。如果函数`foo()`调用时没提供参数，变量`x`和`y`就不会生成，从而报错。通过提供函数参数的默认值，就可以避免这种情况。"
   ]
  },
  {
   "cell_type": "code",
   "execution_count": null,
   "id": "fe9e49a6",
   "metadata": {
    "attributes": {
     "classes": [
      "javascript"
     ],
     "id": ""
    }
   },
   "outputs": [],
   "source": [
    "function foo({x, y = 5} = {}) {\n",
    "  console.log(x, y);\n",
    "}\n",
    "\n",
    "foo() // undefined 5"
   ]
  },
  {
   "cell_type": "markdown",
   "id": "5107943b",
   "metadata": {},
   "source": [
    "上面代码指定，如果没有提供参数，函数`foo`的参数默认为一个空对象。\n",
    "\n",
    "下面是另一个解构赋值默认值的例子。"
   ]
  },
  {
   "cell_type": "code",
   "execution_count": null,
   "id": "8477200b",
   "metadata": {
    "attributes": {
     "classes": [
      "javascript"
     ],
     "id": ""
    }
   },
   "outputs": [],
   "source": [
    "function fetch(url, { body = '', method = 'GET', headers = {} }) {\n",
    "  console.log(method);\n",
    "}\n",
    "\n",
    "fetch('http://example.com', {})\n",
    "// \"GET\"\n",
    "\n",
    "fetch('http://example.com')\n",
    "// 报错"
   ]
  },
  {
   "cell_type": "markdown",
   "id": "4734c454",
   "metadata": {},
   "source": [
    "上面代码中，如果函数`fetch()`的第二个参数是一个对象，就可以为它的三个属性设置默认值。这种写法不能省略第二个参数，如果结合函数参数的默认值，就可以省略第二个参数。这时，就出现了双重默认值。"
   ]
  },
  {
   "cell_type": "code",
   "execution_count": null,
   "id": "583f3ada",
   "metadata": {
    "attributes": {
     "classes": [
      "javascript"
     ],
     "id": ""
    }
   },
   "outputs": [],
   "source": [
    "function fetch(url, { body = '', method = 'GET', headers = {} } = {}) {\n",
    "  console.log(method);\n",
    "}\n",
    "\n",
    "fetch('http://example.com')\n",
    "// \"GET\""
   ]
  },
  {
   "cell_type": "markdown",
   "id": "4d8eb351",
   "metadata": {},
   "source": [
    "上面代码中，函数`fetch`没有第二个参数时，函数参数的默认值就会生效，然后才是解构赋值的默认值生效，变量`method`才会取到默认值`GET`。\n",
    "\n",
    "注意，函数参数的默认值生效以后，参数解构赋值依然会进行。"
   ]
  },
  {
   "cell_type": "code",
   "execution_count": null,
   "id": "94636102",
   "metadata": {
    "attributes": {
     "classes": [
      "javascript"
     ],
     "id": ""
    }
   },
   "outputs": [],
   "source": [
    "function f({ a, b = 'world' } = { a: 'hello' }) {\n",
    "  console.log(b);\n",
    "}\n",
    "\n",
    "f() // world"
   ]
  },
  {
   "cell_type": "markdown",
   "id": "64faaf13",
   "metadata": {},
   "source": [
    "上面示例中，函数`f()`调用时没有参数，所以参数默认值`{ a: 'hello' }`生效，然后再对这个默认值进行解构赋值，从而触发参数变量`b`的默认值生效。\n",
    "\n",
    "作为练习，大家可以思考一下，下面两种函数写法有什么差别？"
   ]
  },
  {
   "cell_type": "code",
   "execution_count": null,
   "id": "c9ba96dc",
   "metadata": {
    "attributes": {
     "classes": [
      "javascript"
     ],
     "id": ""
    }
   },
   "outputs": [],
   "source": [
    "// 写法一\n",
    "function m1({x = 0, y = 0} = {}) {\n",
    "  return [x, y];\n",
    "}\n",
    "\n",
    "// 写法二\n",
    "function m2({x, y} = { x: 0, y: 0 }) {\n",
    "  return [x, y];\n",
    "}\n",
    "\n",
    "// 函数没有参数的情况\n",
    "m1() // [0, 0]\n",
    "m2() // [0, 0]\n",
    "\n",
    "// x 和 y 都有值的情况\n",
    "m1({x: 3, y: 8}) // [3, 8]\n",
    "m2({x: 3, y: 8}) // [3, 8]\n",
    "\n",
    "// x 有值，y 无值的情况\n",
    "m1({x: 3}) // [3, 0]\n",
    "m2({x: 3}) // [3, undefined]\n",
    "\n",
    "// x 和 y 都无值的情况\n",
    "m1({}) // [0, 0];\n",
    "m2({}) // [undefined, undefined]\n",
    "\n",
    "m1({z: 3}) // [0, 0]\n",
    "m2({z: 3}) // [undefined, undefined]"
   ]
  },
  {
   "cell_type": "markdown",
   "id": "b6d071de",
   "metadata": {},
   "source": [
    "### 参数默认值的位置\n",
    "\n",
    "通常情况下，定义了默认值的参数，应该是函数的尾参数。因为这样比较容易看出来，到底省略了哪些参数。如果非尾部的参数设置默认值，实际上这个参数是没法省略的。"
   ]
  },
  {
   "cell_type": "code",
   "execution_count": null,
   "id": "7d4336a6",
   "metadata": {
    "attributes": {
     "classes": [
      "javascript"
     ],
     "id": ""
    }
   },
   "outputs": [],
   "source": [
    "// 例一\n",
    "function f(x = 1, y) {\n",
    "  return [x, y];\n",
    "}\n",
    "\n",
    "f() // [1, undefined]\n",
    "f(2) // [2, undefined]\n",
    "f(, 1) // 报错\n",
    "f(undefined, 1) // [1, 1]\n",
    "\n",
    "// 例二\n",
    "function f(x, y = 5, z) {\n",
    "  return [x, y, z];\n",
    "}\n",
    "\n",
    "f() // [undefined, 5, undefined]\n",
    "f(1) // [1, 5, undefined]\n",
    "f(1, ,2) // 报错\n",
    "f(1, undefined, 2) // [1, 5, 2]"
   ]
  },
  {
   "cell_type": "markdown",
   "id": "4c9d2ef3",
   "metadata": {},
   "source": [
    "上面代码中，有默认值的参数都不是尾参数。这时，无法只省略该参数，而不省略它后面的参数，除非显式输入`undefined`。\n",
    "\n",
    "如果传入`undefined`，将触发该参数等于默认值，`null`则没有这个效果。"
   ]
  },
  {
   "cell_type": "code",
   "execution_count": null,
   "id": "095b655b",
   "metadata": {
    "attributes": {
     "classes": [
      "javascript"
     ],
     "id": ""
    }
   },
   "outputs": [],
   "source": [
    "function foo(x = 5, y = 6) {\n",
    "  console.log(x, y);\n",
    "}\n",
    "\n",
    "foo(undefined, null)\n",
    "// 5 null"
   ]
  },
  {
   "cell_type": "markdown",
   "id": "c2c4c345",
   "metadata": {},
   "source": [
    "上面代码中，`x`参数对应`undefined`，结果触发了默认值，`y`参数等于`null`，就没有触发默认值。\n",
    "\n",
    "### 函数的 length 属性\n",
    "\n",
    "指定了默认值以后，函数的`length`属性，将返回没有指定默认值的参数个数。也就是说，指定了默认值后，`length`属性将失真。"
   ]
  },
  {
   "cell_type": "code",
   "execution_count": null,
   "id": "8fcca371",
   "metadata": {
    "attributes": {
     "classes": [
      "javascript"
     ],
     "id": ""
    }
   },
   "outputs": [],
   "source": [
    "(function (a) {}).length // 1\n",
    "(function (a = 5) {}).length // 0\n",
    "(function (a, b, c = 5) {}).length // 2"
   ]
  },
  {
   "cell_type": "markdown",
   "id": "f2594f44",
   "metadata": {},
   "source": [
    "上面代码中，`length`属性的返回值，等于函数的参数个数减去指定了默认值的参数个数。比如，上面最后一个函数，定义了 3 个参数，其中有一个参数`c`指定了默认值，因此`length`属性等于`3`减去`1`，最后得到`2`。\n",
    "\n",
    "这是因为`length`属性的含义是，该函数预期传入的参数个数。某个参数指定默认值以后，预期传入的参数个数就不包括这个参数了。同理，后文的 rest 参数也不会计入`length`属性。"
   ]
  },
  {
   "cell_type": "code",
   "execution_count": null,
   "id": "1f12bedf",
   "metadata": {
    "attributes": {
     "classes": [
      "javascript"
     ],
     "id": ""
    }
   },
   "outputs": [],
   "source": [
    "(function(...args) {}).length // 0"
   ]
  },
  {
   "cell_type": "markdown",
   "id": "995421e7",
   "metadata": {},
   "source": [
    "如果设置了默认值的参数不是尾参数，那么`length`属性也不再计入后面的参数了。"
   ]
  },
  {
   "cell_type": "code",
   "execution_count": null,
   "id": "1afa089e",
   "metadata": {
    "attributes": {
     "classes": [
      "javascript"
     ],
     "id": ""
    }
   },
   "outputs": [],
   "source": [
    "(function (a = 0, b, c) {}).length // 0\n",
    "(function (a, b = 1, c) {}).length // 1"
   ]
  },
  {
   "cell_type": "markdown",
   "id": "00af2645",
   "metadata": {},
   "source": [
    "### 作用域\n",
    "\n",
    "一旦设置了参数的默认值，函数进行声明初始化时，参数会形成一个单独的作用域（context）。等到初始化结束，这个作用域就会消失。这种语法行为，在不设置参数默认值时，是不会出现的。"
   ]
  },
  {
   "cell_type": "code",
   "execution_count": null,
   "id": "376a6c20",
   "metadata": {
    "attributes": {
     "classes": [
      "javascript"
     ],
     "id": ""
    }
   },
   "outputs": [],
   "source": [
    "var x = 1;\n",
    "\n",
    "function f(x, y = x) {\n",
    "  console.log(y);\n",
    "}\n",
    "\n",
    "f(2) // 2"
   ]
  },
  {
   "cell_type": "markdown",
   "id": "b6de5300",
   "metadata": {},
   "source": [
    "上面代码中，参数`y`的默认值等于变量`x`。调用函数`f`时，参数形成一个单独的作用域。在这个作用域里面，默认值变量`x`指向第一个参数`x`，而不是全局变量`x`，所以输出是`2`。\n",
    "\n",
    "再看下面的例子。"
   ]
  },
  {
   "cell_type": "code",
   "execution_count": null,
   "id": "c43959d6",
   "metadata": {
    "attributes": {
     "classes": [
      "javascript"
     ],
     "id": ""
    }
   },
   "outputs": [],
   "source": [
    "let x = 1;\n",
    "\n",
    "function f(y = x) {\n",
    "  let x = 2;\n",
    "  console.log(y);\n",
    "}\n",
    "\n",
    "f() // 1"
   ]
  },
  {
   "cell_type": "markdown",
   "id": "833a045b",
   "metadata": {},
   "source": [
    "上面代码中，函数`f`调用时，参数`y = x`形成一个单独的作用域。这个作用域里面，变量`x`本身没有定义，所以指向外层的全局变量`x`。函数调用时，函数体内部的局部变量`x`影响不到默认值变量`x`。\n",
    "\n",
    "如果此时，全局变量`x`不存在，就会报错。"
   ]
  },
  {
   "cell_type": "code",
   "execution_count": null,
   "id": "fb7a8523",
   "metadata": {
    "attributes": {
     "classes": [
      "javascript"
     ],
     "id": ""
    }
   },
   "outputs": [],
   "source": [
    "function f(y = x) {\n",
    "  let x = 2;\n",
    "  console.log(y);\n",
    "}\n",
    "\n",
    "f() // ReferenceError: x is not defined"
   ]
  },
  {
   "cell_type": "markdown",
   "id": "e893bf69",
   "metadata": {},
   "source": [
    "下面这样写，也会报错。"
   ]
  },
  {
   "cell_type": "code",
   "execution_count": null,
   "id": "754550a3",
   "metadata": {
    "attributes": {
     "classes": [
      "javascript"
     ],
     "id": ""
    }
   },
   "outputs": [],
   "source": [
    "var x = 1;\n",
    "\n",
    "function foo(x = x) {\n",
    "  // ...\n",
    "}\n",
    "\n",
    "foo() // ReferenceError: Cannot access 'x' before initialization"
   ]
  },
  {
   "cell_type": "markdown",
   "id": "518dab45",
   "metadata": {},
   "source": [
    "上面代码中，参数`x = x`形成一个单独作用域。实际执行的是`let x = x`，由于暂时性死区的原因，这行代码会报错。\n",
    "\n",
    "如果参数的默认值是一个函数，该函数的作用域也遵守这个规则。请看下面的例子。"
   ]
  },
  {
   "cell_type": "code",
   "execution_count": null,
   "id": "6df4d293",
   "metadata": {
    "attributes": {
     "classes": [
      "javascript"
     ],
     "id": ""
    }
   },
   "outputs": [],
   "source": [
    "let foo = 'outer';\n",
    "\n",
    "function bar(func = () => foo) {\n",
    "  let foo = 'inner';\n",
    "  console.log(func());\n",
    "}\n",
    "\n",
    "bar(); // outer"
   ]
  },
  {
   "cell_type": "markdown",
   "id": "c170807b",
   "metadata": {},
   "source": [
    "上面代码中，函数`bar`的参数`func`的默认值是一个匿名函数，返回值为变量`foo`。函数参数形成的单独作用域里面，并没有定义变量`foo`，所以`foo`指向外层的全局变量`foo`，因此输出`outer`。\n",
    "\n",
    "如果写成下面这样，就会报错。"
   ]
  },
  {
   "cell_type": "code",
   "execution_count": null,
   "id": "83e716a2",
   "metadata": {
    "attributes": {
     "classes": [
      "javascript"
     ],
     "id": ""
    }
   },
   "outputs": [],
   "source": [
    "function bar(func = () => foo) {\n",
    "  let foo = 'inner';\n",
    "  console.log(func());\n",
    "}\n",
    "\n",
    "bar() // ReferenceError: foo is not defined"
   ]
  },
  {
   "cell_type": "markdown",
   "id": "46e8ad21",
   "metadata": {},
   "source": [
    "上面代码中，匿名函数里面的`foo`指向函数外层，但是函数外层并没有声明变量`foo`，所以就报错了。\n",
    "\n",
    "下面是一个更复杂的例子。"
   ]
  },
  {
   "cell_type": "code",
   "execution_count": null,
   "id": "de1292ac",
   "metadata": {
    "attributes": {
     "classes": [
      "javascript"
     ],
     "id": ""
    }
   },
   "outputs": [],
   "source": [
    "var x = 1;\n",
    "function foo(x, y = function() { x = 2; }) {\n",
    "  var x = 3;\n",
    "  y();\n",
    "  console.log(x);\n",
    "}\n",
    "\n",
    "foo() // 3\n",
    "x // 1"
   ]
  },
  {
   "cell_type": "markdown",
   "id": "ff04856e",
   "metadata": {},
   "source": [
    "上面代码中，函数`foo`的参数形成一个单独作用域。这个作用域里面，首先声明了变量`x`，然后声明了变量`y`，`y`的默认值是一个匿名函数。这个匿名函数内部的变量`x`，指向同一个作用域的第一个参数`x`。函数`foo`内部又声明了一个内部变量`x`，该变量与第一个参数`x`由于不是同一个作用域，所以不是同一个变量，因此执行`y`后，内部变量`x`和外部全局变量`x`的值都没变。\n",
    "\n",
    "如果将`var x = 3`的`var`去除，函数`foo`的内部变量`x`就指向第一个参数`x`，与匿名函数内部的`x`是一致的，所以最后输出的就是`2`，而外层的全局变量`x`依然不受影响。"
   ]
  },
  {
   "cell_type": "code",
   "execution_count": null,
   "id": "1a823c8a",
   "metadata": {
    "attributes": {
     "classes": [
      "javascript"
     ],
     "id": ""
    }
   },
   "outputs": [],
   "source": [
    "var x = 1;\n",
    "function foo(x, y = function() { x = 2; }) {\n",
    "  x = 3;\n",
    "  y();\n",
    "  console.log(x);\n",
    "}\n",
    "\n",
    "foo() // 2\n",
    "x // 1"
   ]
  },
  {
   "cell_type": "markdown",
   "id": "9c6d8549",
   "metadata": {},
   "source": [
    "### 应用\n",
    "\n",
    "利用参数默认值，可以指定某一个参数不得省略，如果省略就抛出一个错误。"
   ]
  },
  {
   "cell_type": "code",
   "execution_count": null,
   "id": "5ff21349",
   "metadata": {
    "attributes": {
     "classes": [
      "javascript"
     ],
     "id": ""
    }
   },
   "outputs": [],
   "source": [
    "function throwIfMissing() {\n",
    "  throw new Error('Missing parameter');\n",
    "}\n",
    "\n",
    "function foo(mustBeProvided = throwIfMissing()) {\n",
    "  return mustBeProvided;\n",
    "}\n",
    "\n",
    "foo()\n",
    "// Error: Missing parameter"
   ]
  },
  {
   "cell_type": "markdown",
   "id": "271650ad",
   "metadata": {},
   "source": [
    "上面代码的`foo`函数，如果调用的时候没有参数，就会调用默认值`throwIfMissing`函数，从而抛出一个错误。\n",
    "\n",
    "从上面代码还可以看到，参数`mustBeProvided`的默认值等于`throwIfMissing`函数的运行结果（注意函数名`throwIfMissing`之后有一对圆括号），这表明参数的默认值不是在定义时执行，而是在运行时执行。如果参数已经赋值，默认值中的函数就不会运行。\n",
    "\n",
    "另外，可以将参数默认值设为`undefined`，表明这个参数是可以省略的。"
   ]
  },
  {
   "cell_type": "code",
   "execution_count": null,
   "id": "0c9dc623",
   "metadata": {
    "attributes": {
     "classes": [
      "javascript"
     ],
     "id": ""
    }
   },
   "outputs": [],
   "source": [
    "function foo(optional = undefined) { ··· }"
   ]
  },
  {
   "cell_type": "markdown",
   "id": "e1e03b3d",
   "metadata": {},
   "source": [
    "## rest 参数\n",
    "\n",
    "ES6 引入 rest 参数（形式为`...变量名`），用于获取函数的多余参数，这样就不需要使用`arguments`对象了。rest 参数搭配的变量是一个数组，该变量将多余的参数放入数组中。"
   ]
  },
  {
   "cell_type": "code",
   "execution_count": null,
   "id": "dd076c5c",
   "metadata": {
    "attributes": {
     "classes": [
      "javascript"
     ],
     "id": ""
    }
   },
   "outputs": [],
   "source": [
    "function add(...values) {\n",
    "  let sum = 0;\n",
    "\n",
    "  for (var val of values) {\n",
    "    sum += val;\n",
    "  }\n",
    "\n",
    "  return sum;\n",
    "}\n",
    "\n",
    "add(2, 5, 3) // 10"
   ]
  },
  {
   "cell_type": "markdown",
   "id": "436c519d",
   "metadata": {},
   "source": [
    "上面代码的`add`函数是一个求和函数，利用 rest 参数，可以向该函数传入任意数目的参数。\n",
    "\n",
    "下面是一个 rest 参数代替`arguments`变量的例子。"
   ]
  },
  {
   "cell_type": "code",
   "execution_count": null,
   "id": "d775a700",
   "metadata": {
    "attributes": {
     "classes": [
      "javascript"
     ],
     "id": ""
    }
   },
   "outputs": [],
   "source": [
    "// arguments变量的写法\n",
    "function sortNumbers() {\n",
    "  return Array.from(arguments).sort();\n",
    "}\n",
    "\n",
    "// rest参数的写法\n",
    "const sortNumbers = (...numbers) => numbers.sort();"
   ]
  },
  {
   "cell_type": "markdown",
   "id": "e43fff09",
   "metadata": {},
   "source": [
    "上面代码的两种写法，比较后可以发现，rest 参数的写法更自然也更简洁。\n",
    "\n",
    "`arguments`对象不是数组，而是一个类似数组的对象。所以为了使用数组的方法，必须使用`Array.from`先将其转为数组。rest 参数就不存在这个问题，它就是一个真正的数组，数组特有的方法都可以使用。下面是一个利用 rest 参数改写数组`push`方法的例子。"
   ]
  },
  {
   "cell_type": "code",
   "execution_count": null,
   "id": "8b3b926e",
   "metadata": {
    "attributes": {
     "classes": [
      "javascript"
     ],
     "id": ""
    }
   },
   "outputs": [],
   "source": [
    "function push(array, ...items) {\n",
    "  items.forEach(function(item) {\n",
    "    array.push(item);\n",
    "    console.log(item);\n",
    "  });\n",
    "}\n",
    "\n",
    "var a = [];\n",
    "push(a, 1, 2, 3)"
   ]
  },
  {
   "cell_type": "markdown",
   "id": "361e7925",
   "metadata": {},
   "source": [
    "注意，rest 参数之后不能再有其他参数（即只能是最后一个参数），否则会报错。"
   ]
  },
  {
   "cell_type": "code",
   "execution_count": null,
   "id": "e77e6c86",
   "metadata": {
    "attributes": {
     "classes": [
      "javascript"
     ],
     "id": ""
    }
   },
   "outputs": [],
   "source": [
    "// 报错\n",
    "function f(a, ...b, c) {\n",
    "  // ...\n",
    "}"
   ]
  },
  {
   "cell_type": "markdown",
   "id": "6d6b1501",
   "metadata": {},
   "source": [
    "函数的`length`属性，不包括 rest 参数。"
   ]
  },
  {
   "cell_type": "code",
   "execution_count": null,
   "id": "157b1d55",
   "metadata": {
    "attributes": {
     "classes": [
      "javascript"
     ],
     "id": ""
    }
   },
   "outputs": [],
   "source": [
    "(function(a) {}).length  // 1\n",
    "(function(...a) {}).length  // 0\n",
    "(function(a, ...b) {}).length  // 1"
   ]
  },
  {
   "cell_type": "markdown",
   "id": "0745c198",
   "metadata": {},
   "source": [
    "## 严格模式\n",
    "\n",
    "从 ES5 开始，函数内部可以设定为严格模式。"
   ]
  },
  {
   "cell_type": "code",
   "execution_count": null,
   "id": "fa56d8ef",
   "metadata": {
    "attributes": {
     "classes": [
      "javascript"
     ],
     "id": ""
    }
   },
   "outputs": [],
   "source": [
    "function doSomething(a, b) {\n",
    "  'use strict';\n",
    "  // code\n",
    "}"
   ]
  },
  {
   "cell_type": "markdown",
   "id": "1f4a3c4d",
   "metadata": {},
   "source": [
    "ES2016 做了一点修改，规定只要函数参数使用了默认值、解构赋值、或者扩展运算符，那么函数内部就不能显式设定为严格模式，否则会报错。"
   ]
  },
  {
   "cell_type": "code",
   "execution_count": null,
   "id": "e60b3752",
   "metadata": {
    "attributes": {
     "classes": [
      "javascript"
     ],
     "id": ""
    }
   },
   "outputs": [],
   "source": [
    "// 报错\n",
    "function doSomething(a, b = a) {\n",
    "  'use strict';\n",
    "  // code\n",
    "}\n",
    "\n",
    "// 报错\n",
    "const doSomething = function ({a, b}) {\n",
    "  'use strict';\n",
    "  // code\n",
    "};\n",
    "\n",
    "// 报错\n",
    "const doSomething = (...a) => {\n",
    "  'use strict';\n",
    "  // code\n",
    "};\n",
    "\n",
    "const obj = {\n",
    "  // 报错\n",
    "  doSomething({a, b}) {\n",
    "    'use strict';\n",
    "    // code\n",
    "  }\n",
    "};"
   ]
  },
  {
   "cell_type": "markdown",
   "id": "1eb95523",
   "metadata": {},
   "source": [
    "这样规定的原因是，函数内部的严格模式，同时适用于函数体和函数参数。但是，函数执行的时候，先执行函数参数，然后再执行函数体。这样就有一个不合理的地方，只有从函数体之中，才能知道参数是否应该以严格模式执行，但是参数却应该先于函数体执行。"
   ]
  },
  {
   "cell_type": "code",
   "execution_count": null,
   "id": "74f047bc",
   "metadata": {
    "attributes": {
     "classes": [
      "javascript"
     ],
     "id": ""
    }
   },
   "outputs": [],
   "source": [
    "// 报错\n",
    "function doSomething(value = 070) {\n",
    "  'use strict';\n",
    "  return value;\n",
    "}"
   ]
  },
  {
   "cell_type": "markdown",
   "id": "83255dd9",
   "metadata": {},
   "source": [
    "上面代码中，参数`value`的默认值是八进制数`070`，但是严格模式下不能用前缀`0`表示八进制，所以应该报错。但是实际上，JavaScript 引擎会先成功执行`value = 070`，然后进入函数体内部，发现需要用严格模式执行，这时才会报错。\n",
    "\n",
    "虽然可以先解析函数体代码，再执行参数代码，但是这样无疑就增加了复杂性。因此，标准索性禁止了这种用法，只要参数使用了默认值、解构赋值、或者扩展运算符，就不能显式指定严格模式。\n",
    "\n",
    "两种方法可以规避这种限制。第一种是设定全局性的严格模式，这是合法的。"
   ]
  },
  {
   "cell_type": "code",
   "execution_count": null,
   "id": "78fcbd95",
   "metadata": {
    "attributes": {
     "classes": [
      "javascript"
     ],
     "id": ""
    }
   },
   "outputs": [],
   "source": [
    "'use strict';\n",
    "\n",
    "function doSomething(a, b = a) {\n",
    "  // code\n",
    "}"
   ]
  },
  {
   "cell_type": "markdown",
   "id": "30fbc525",
   "metadata": {},
   "source": [
    "第二种是把函数包在一个无参数的立即执行函数里面。"
   ]
  },
  {
   "cell_type": "code",
   "execution_count": null,
   "id": "14c25c1a",
   "metadata": {
    "attributes": {
     "classes": [
      "javascript"
     ],
     "id": ""
    }
   },
   "outputs": [],
   "source": [
    "const doSomething = (function () {\n",
    "  'use strict';\n",
    "  return function(value = 42) {\n",
    "    return value;\n",
    "  };\n",
    "}());"
   ]
  },
  {
   "cell_type": "markdown",
   "id": "5c1fcff8",
   "metadata": {},
   "source": [
    "## name 属性\n",
    "\n",
    "函数的`name`属性，返回该函数的函数名。"
   ]
  },
  {
   "cell_type": "code",
   "execution_count": null,
   "id": "e8c3d555",
   "metadata": {
    "attributes": {
     "classes": [
      "javascript"
     ],
     "id": ""
    }
   },
   "outputs": [],
   "source": [
    "function foo() {}\n",
    "foo.name // \"foo\""
   ]
  },
  {
   "cell_type": "markdown",
   "id": "13207a55",
   "metadata": {},
   "source": [
    "这个属性早就被浏览器广泛支持，但是直到 ES6，才将其写入了标准。\n",
    "\n",
    "需要注意的是，ES6 对这个属性的行为做出了一些修改。如果将一个匿名函数赋值给一个变量，ES5 的`name`属性，会返回空字符串，而 ES6 的`name`属性会返回实际的函数名。"
   ]
  },
  {
   "cell_type": "code",
   "execution_count": null,
   "id": "73f36ba3",
   "metadata": {
    "attributes": {
     "classes": [
      "javascript"
     ],
     "id": ""
    }
   },
   "outputs": [],
   "source": [
    "var f = function () {};\n",
    "\n",
    "// ES5\n",
    "f.name // \"\"\n",
    "\n",
    "// ES6\n",
    "f.name // \"f\""
   ]
  },
  {
   "cell_type": "markdown",
   "id": "5b4ed027",
   "metadata": {},
   "source": [
    "上面代码中，变量`f`等于一个匿名函数，ES5 和 ES6 的`name`属性返回的值不一样。\n",
    "\n",
    "如果将一个具名函数赋值给一个变量，则 ES5 和 ES6 的`name`属性都返回这个具名函数原本的名字。"
   ]
  },
  {
   "cell_type": "code",
   "execution_count": null,
   "id": "cee5bb30",
   "metadata": {
    "attributes": {
     "classes": [
      "javascript"
     ],
     "id": ""
    }
   },
   "outputs": [],
   "source": [
    "const bar = function baz() {};\n",
    "\n",
    "// ES5\n",
    "bar.name // \"baz\"\n",
    "\n",
    "// ES6\n",
    "bar.name // \"baz\""
   ]
  },
  {
   "cell_type": "markdown",
   "id": "b314a2e9",
   "metadata": {},
   "source": [
    "`Function`构造函数返回的函数实例，`name`属性的值为`anonymous`。"
   ]
  },
  {
   "cell_type": "code",
   "execution_count": null,
   "id": "1ebe0629",
   "metadata": {
    "attributes": {
     "classes": [
      "javascript"
     ],
     "id": ""
    }
   },
   "outputs": [],
   "source": [
    "(new Function).name // \"anonymous\""
   ]
  },
  {
   "cell_type": "markdown",
   "id": "df0940a1",
   "metadata": {},
   "source": [
    "`bind`返回的函数，`name`属性值会加上`bound`前缀。"
   ]
  },
  {
   "cell_type": "code",
   "execution_count": null,
   "id": "229070be",
   "metadata": {
    "attributes": {
     "classes": [
      "javascript"
     ],
     "id": ""
    }
   },
   "outputs": [],
   "source": [
    "function foo() {};\n",
    "foo.bind({}).name // \"bound foo\"\n",
    "\n",
    "(function(){}).bind({}).name // \"bound \""
   ]
  },
  {
   "cell_type": "markdown",
   "id": "087238ae",
   "metadata": {},
   "source": [
    "## 箭头函数\n",
    "\n",
    "### 基本用法\n",
    "\n",
    "ES6 允许使用“箭头”（`=>`）定义函数。"
   ]
  },
  {
   "cell_type": "code",
   "execution_count": null,
   "id": "606e1456",
   "metadata": {
    "attributes": {
     "classes": [
      "javascript"
     ],
     "id": ""
    }
   },
   "outputs": [],
   "source": [
    "var f = v => v;\n",
    "\n",
    "// 等同于\n",
    "var f = function (v) {\n",
    "  return v;\n",
    "};"
   ]
  },
  {
   "cell_type": "markdown",
   "id": "1d09d0cf",
   "metadata": {},
   "source": [
    "如果箭头函数不需要参数或需要多个参数，就使用一个圆括号代表参数部分。"
   ]
  },
  {
   "cell_type": "code",
   "execution_count": null,
   "id": "406af339",
   "metadata": {
    "attributes": {
     "classes": [
      "javascript"
     ],
     "id": ""
    }
   },
   "outputs": [],
   "source": [
    "var f = () => 5;\n",
    "// 等同于\n",
    "var f = function () { return 5 };\n",
    "\n",
    "var sum = (num1, num2) => num1 + num2;\n",
    "// 等同于\n",
    "var sum = function(num1, num2) {\n",
    "  return num1 + num2;\n",
    "};"
   ]
  },
  {
   "cell_type": "markdown",
   "id": "2136452c",
   "metadata": {},
   "source": [
    "如果箭头函数的代码块部分多于一条语句，就要使用大括号将它们括起来，并且使用`return`语句返回。"
   ]
  },
  {
   "cell_type": "code",
   "execution_count": null,
   "id": "7c2b024c",
   "metadata": {
    "attributes": {
     "classes": [
      "javascript"
     ],
     "id": ""
    }
   },
   "outputs": [],
   "source": [
    "var sum = (num1, num2) => { return num1 + num2; }"
   ]
  },
  {
   "cell_type": "markdown",
   "id": "16454e32",
   "metadata": {},
   "source": [
    "由于大括号被解释为代码块，所以如果箭头函数直接返回一个对象，必须在对象外面加上括号，否则会报错。"
   ]
  },
  {
   "cell_type": "code",
   "execution_count": null,
   "id": "c81dd68c",
   "metadata": {
    "attributes": {
     "classes": [
      "javascript"
     ],
     "id": ""
    }
   },
   "outputs": [],
   "source": [
    "// 报错\n",
    "let getTempItem = id => { id: id, name: \"Temp\" };\n",
    "\n",
    "// 不报错\n",
    "let getTempItem = id => ({ id: id, name: \"Temp\" });"
   ]
  },
  {
   "cell_type": "markdown",
   "id": "4b60a60c",
   "metadata": {},
   "source": [
    "下面是一种特殊情况，虽然可以运行，但会得到错误的结果。"
   ]
  },
  {
   "cell_type": "code",
   "execution_count": null,
   "id": "e11d3696",
   "metadata": {
    "attributes": {
     "classes": [
      "javascript"
     ],
     "id": ""
    }
   },
   "outputs": [],
   "source": [
    "let foo = () => { a: 1 };\n",
    "foo() // undefined"
   ]
  },
  {
   "cell_type": "markdown",
   "id": "e9b9f382",
   "metadata": {},
   "source": [
    "上面代码中，原始意图是返回一个对象`{ a: 1 }`，但是由于引擎认为大括号是代码块，所以执行了一行语句`a: 1`。这时，`a`可以被解释为语句的标签，因此实际执行的语句是`1;`，然后函数就结束了，没有返回值。\n",
    "\n",
    "如果箭头函数只有一行语句，且不需要返回值，可以采用下面的写法，就不用写大括号了。"
   ]
  },
  {
   "cell_type": "code",
   "execution_count": null,
   "id": "adfa08b3",
   "metadata": {
    "attributes": {
     "classes": [
      "javascript"
     ],
     "id": ""
    }
   },
   "outputs": [],
   "source": [
    "let fn = () => void doesNotReturn();"
   ]
  },
  {
   "cell_type": "markdown",
   "id": "78e90355",
   "metadata": {},
   "source": [
    "箭头函数可以与变量解构结合使用。"
   ]
  },
  {
   "cell_type": "code",
   "execution_count": null,
   "id": "fb56454e",
   "metadata": {
    "attributes": {
     "classes": [
      "javascript"
     ],
     "id": ""
    }
   },
   "outputs": [],
   "source": [
    "const full = ({ first, last }) => first + ' ' + last;\n",
    "\n",
    "// 等同于\n",
    "function full(person) {\n",
    "  return person.first + ' ' + person.last;\n",
    "}"
   ]
  },
  {
   "cell_type": "markdown",
   "id": "87c6dd39",
   "metadata": {},
   "source": [
    "箭头函数使得表达更加简洁。"
   ]
  },
  {
   "cell_type": "code",
   "execution_count": null,
   "id": "3bda48df",
   "metadata": {
    "attributes": {
     "classes": [
      "javascript"
     ],
     "id": ""
    }
   },
   "outputs": [],
   "source": [
    "const isEven = n => n % 2 === 0;\n",
    "const square = n => n * n;"
   ]
  },
  {
   "cell_type": "markdown",
   "id": "212b9d91",
   "metadata": {},
   "source": [
    "上面代码只用了两行，就定义了两个简单的工具函数。如果不用箭头函数，可能就要占用多行，而且还不如现在这样写醒目。\n",
    "\n",
    "箭头函数的一个用处是简化回调函数。"
   ]
  },
  {
   "cell_type": "code",
   "execution_count": null,
   "id": "7b23d93d",
   "metadata": {
    "attributes": {
     "classes": [
      "javascript"
     ],
     "id": ""
    }
   },
   "outputs": [],
   "source": [
    "// 普通函数写法\n",
    "[1,2,3].map(function (x) {\n",
    "  return x * x;\n",
    "});\n",
    "\n",
    "// 箭头函数写法\n",
    "[1,2,3].map(x => x * x);"
   ]
  },
  {
   "cell_type": "markdown",
   "id": "1769c28b",
   "metadata": {},
   "source": [
    "另一个例子是"
   ]
  },
  {
   "cell_type": "code",
   "execution_count": null,
   "id": "ed7f3fc0",
   "metadata": {
    "attributes": {
     "classes": [
      "javascript"
     ],
     "id": ""
    }
   },
   "outputs": [],
   "source": [
    "// 普通函数写法\n",
    "var result = values.sort(function (a, b) {\n",
    "  return a - b;\n",
    "});\n",
    "\n",
    "// 箭头函数写法\n",
    "var result = values.sort((a, b) => a - b);"
   ]
  },
  {
   "cell_type": "markdown",
   "id": "59366801",
   "metadata": {},
   "source": [
    "下面是 rest 参数与箭头函数结合的例子。"
   ]
  },
  {
   "cell_type": "code",
   "execution_count": null,
   "id": "c90743aa",
   "metadata": {
    "attributes": {
     "classes": [
      "javascript"
     ],
     "id": ""
    }
   },
   "outputs": [],
   "source": [
    "const numbers = (...nums) => nums;\n",
    "\n",
    "numbers(1, 2, 3, 4, 5)\n",
    "// [1,2,3,4,5]\n",
    "\n",
    "const headAndTail = (head, ...tail) => [head, tail];\n",
    "\n",
    "headAndTail(1, 2, 3, 4, 5)\n",
    "// [1,[2,3,4,5]]"
   ]
  },
  {
   "cell_type": "markdown",
   "id": "57f7eb7d",
   "metadata": {},
   "source": [
    "### 使用注意点\n",
    "\n",
    "箭头函数有几个使用注意点。\n",
    "\n",
    "（1）箭头函数没有自己的`this`对象（详见下文）。\n",
    "\n",
    "（2）不可以当作构造函数，也就是说，不可以对箭头函数使用`new`命令，否则会抛出一个错误。\n",
    "\n",
    "（3）不可以使用`arguments`对象，该对象在函数体内不存在。如果要用，可以用 rest 参数代替。\n",
    "\n",
    "（4）不可以使用`yield`命令，因此箭头函数不能用作 Generator 函数。\n",
    "\n",
    "上面四点中，最重要的是第一点。对于普通函数来说，内部的`this`指向函数运行时所在的对象，但是这一点对箭头函数不成立。它没有自己的`this`对象，内部的`this`就是定义时上层作用域中的`this`。也就是说，箭头函数内部的`this`指向是固定的，相比之下，普通函数的`this`指向是可变的。"
   ]
  },
  {
   "cell_type": "code",
   "execution_count": null,
   "id": "38e31016",
   "metadata": {
    "attributes": {
     "classes": [
      "javascript"
     ],
     "id": ""
    }
   },
   "outputs": [],
   "source": [
    "function foo() {\n",
    "  setTimeout(() => {\n",
    "    console.log('id:', this.id);\n",
    "  }, 100);\n",
    "}\n",
    "\n",
    "var id = 21;\n",
    "\n",
    "foo.call({ id: 42 });\n",
    "// id: 42"
   ]
  },
  {
   "cell_type": "markdown",
   "id": "6ada0617",
   "metadata": {},
   "source": [
    "上面代码中，`setTimeout()`的参数是一个箭头函数，这个箭头函数的定义生效是在`foo`函数生成时，而它的真正执行要等到 100 毫秒后。如果是普通函数，执行时`this`应该指向全局对象`window`，这时应该输出`21`。但是，箭头函数导致`this`总是指向函数定义生效时所在的对象（本例是`{id: 42}`），所以打印出来的是`42`。\n",
    "\n",
    "下面例子是回调函数分别为箭头函数和普通函数，对比它们内部的`this`指向。"
   ]
  },
  {
   "cell_type": "code",
   "execution_count": null,
   "id": "f683d2b8",
   "metadata": {
    "attributes": {
     "classes": [
      "javascript"
     ],
     "id": ""
    }
   },
   "outputs": [],
   "source": [
    "function Timer() {\n",
    "  this.s1 = 0;\n",
    "  this.s2 = 0;\n",
    "  // 箭头函数\n",
    "  setInterval(() => this.s1++, 1000);\n",
    "  // 普通函数\n",
    "  setInterval(function () {\n",
    "    this.s2++;\n",
    "  }, 1000);\n",
    "}\n",
    "\n",
    "var timer = new Timer();\n",
    "\n",
    "setTimeout(() => console.log('s1: ', timer.s1), 3100);\n",
    "setTimeout(() => console.log('s2: ', timer.s2), 3100);\n",
    "// s1: 3\n",
    "// s2: 0"
   ]
  },
  {
   "cell_type": "markdown",
   "id": "9c791fcf",
   "metadata": {},
   "source": [
    "上面代码中，`Timer`函数内部设置了两个定时器，分别使用了箭头函数和普通函数。前者的`this`绑定定义时所在的作用域（即`Timer`函数），后者的`this`指向运行时所在的作用域（即全局对象）。所以，3100 毫秒之后，`timer.s1`被更新了 3 次，而`timer.s2`一次都没更新。\n",
    "\n",
    "箭头函数实际上可以让`this`指向固定化，绑定`this`使得它不再可变，这种特性很有利于封装回调函数。下面是一个例子，DOM 事件的回调函数封装在一个对象里面。"
   ]
  },
  {
   "cell_type": "code",
   "execution_count": null,
   "id": "8834a9cd",
   "metadata": {
    "attributes": {
     "classes": [
      "javascript"
     ],
     "id": ""
    }
   },
   "outputs": [],
   "source": [
    "var handler = {\n",
    "  id: '123456',\n",
    "\n",
    "  init: function() {\n",
    "    document.addEventListener('click',\n",
    "      event => this.doSomething(event.type), false);\n",
    "  },\n",
    "\n",
    "  doSomething: function(type) {\n",
    "    console.log('Handling ' + type  + ' for ' + this.id);\n",
    "  }\n",
    "};"
   ]
  },
  {
   "cell_type": "markdown",
   "id": "a56167af",
   "metadata": {},
   "source": [
    "上面代码的`init()`方法中，使用了箭头函数，这导致这个箭头函数里面的`this`，总是指向`handler`对象。如果回调函数是普通函数，那么运行`this.doSomething()`这一行会报错，因为此时`this`指向`document`对象。\n",
    "\n",
    "总之，箭头函数根本没有自己的`this`，导致内部的`this`就是外层代码块的`this`。正是因为它没有`this`，所以也就不能用作构造函数。\n",
    "\n",
    "下面是 Babel 转箭头函数产生的 ES5 代码，就能清楚地说明`this`的指向。"
   ]
  },
  {
   "cell_type": "code",
   "execution_count": null,
   "id": "473fb3c9",
   "metadata": {
    "attributes": {
     "classes": [
      "javascript"
     ],
     "id": ""
    }
   },
   "outputs": [],
   "source": [
    "// ES6\n",
    "function foo() {\n",
    "  setTimeout(() => {\n",
    "    console.log('id:', this.id);\n",
    "  }, 100);\n",
    "}\n",
    "\n",
    "// ES5\n",
    "function foo() {\n",
    "  var _this = this;\n",
    "\n",
    "  setTimeout(function () {\n",
    "    console.log('id:', _this.id);\n",
    "  }, 100);\n",
    "}"
   ]
  },
  {
   "cell_type": "markdown",
   "id": "12e62fc5",
   "metadata": {},
   "source": [
    "上面代码中，转换后的 ES5 版本清楚地说明了，箭头函数里面根本没有自己的`this`，而是引用外层的`this`。\n",
    "\n",
    "请问下面的代码之中，`this`的指向有几个？"
   ]
  },
  {
   "cell_type": "code",
   "execution_count": null,
   "id": "783c4100",
   "metadata": {
    "attributes": {
     "classes": [
      "javascript"
     ],
     "id": ""
    }
   },
   "outputs": [],
   "source": [
    "function foo() {\n",
    "  return () => {\n",
    "    return () => {\n",
    "      return () => {\n",
    "        console.log('id:', this.id);\n",
    "      };\n",
    "    };\n",
    "  };\n",
    "}\n",
    "\n",
    "var f = foo.call({id: 1});\n",
    "\n",
    "var t1 = f.call({id: 2})()(); // id: 1\n",
    "var t2 = f().call({id: 3})(); // id: 1\n",
    "var t3 = f()().call({id: 4}); // id: 1"
   ]
  },
  {
   "cell_type": "markdown",
   "id": "9cd2e2d0",
   "metadata": {},
   "source": [
    "答案是`this`的指向只有一个，就是函数`foo`的`this`，这是因为所有的内层函数都是箭头函数，都没有自己的`this`，它们的`this`其实都是最外层`foo`函数的`this`。所以不管怎么嵌套，`t1`、`t2`、`t3`都输出同样的结果。如果这个例子的所有内层函数都写成普通函数，那么每个函数的`this`都指向运行时所在的不同对象。\n",
    "\n",
    "除了`this`，以下三个变量在箭头函数之中也是不存在的，指向外层函数的对应变量：`arguments`、`super`、`new.target`。"
   ]
  },
  {
   "cell_type": "code",
   "execution_count": null,
   "id": "2503a172",
   "metadata": {
    "attributes": {
     "classes": [
      "javascript"
     ],
     "id": ""
    }
   },
   "outputs": [],
   "source": [
    "function foo() {\n",
    "  setTimeout(() => {\n",
    "    console.log('args:', arguments);\n",
    "  }, 100);\n",
    "}\n",
    "\n",
    "foo(2, 4, 6, 8)\n",
    "// args: [2, 4, 6, 8]"
   ]
  },
  {
   "cell_type": "markdown",
   "id": "1e91b983",
   "metadata": {},
   "source": [
    "上面代码中，箭头函数内部的变量`arguments`，其实是函数`foo`的`arguments`变量。\n",
    "\n",
    "另外，由于箭头函数没有自己的`this`，所以当然也就不能用`call()`、`apply()`、`bind()`这些方法去改变`this`的指向。"
   ]
  },
  {
   "cell_type": "code",
   "execution_count": null,
   "id": "bac5d649",
   "metadata": {
    "attributes": {
     "classes": [
      "javascript"
     ],
     "id": ""
    }
   },
   "outputs": [],
   "source": [
    "(function() {\n",
    "  return [\n",
    "    (() => this.x).bind({ x: 'inner' })()\n",
    "  ];\n",
    "}).call({ x: 'outer' });\n",
    "// ['outer']"
   ]
  },
  {
   "cell_type": "markdown",
   "id": "9ac1bd11",
   "metadata": {},
   "source": [
    "上面代码中，箭头函数没有自己的`this`，所以`bind`方法无效，内部的`this`指向外部的`this`。\n",
    "\n",
    "长期以来，JavaScript 语言的`this`对象一直是一个令人头痛的问题，在对象方法中使用`this`，必须非常小心。箭头函数”绑定”`this`，很大程度上解决了这个困扰。\n",
    "\n",
    "### 不适用场合\n",
    "\n",
    "由于箭头函数使得`this`从“动态”变成“静态”，下面两个场合不应该使用箭头函数。\n",
    "\n",
    "第一个场合是定义对象的方法，且该方法内部包括`this`。"
   ]
  },
  {
   "cell_type": "code",
   "execution_count": null,
   "id": "f820713a",
   "metadata": {
    "attributes": {
     "classes": [
      "javascript"
     ],
     "id": ""
    }
   },
   "outputs": [],
   "source": [
    "const cat = {\n",
    "  lives: 9,\n",
    "  jumps: () => {\n",
    "    this.lives--;\n",
    "  }\n",
    "}"
   ]
  },
  {
   "cell_type": "markdown",
   "id": "5bb17caa",
   "metadata": {},
   "source": [
    "上面代码中，`cat.jumps()`方法是一个箭头函数，这是错误的。调用`cat.jumps()`时，如果是普通函数，该方法内部的`this`指向`cat`；如果写成上面那样的箭头函数，使得`this`指向全局对象，因此不会得到预期结果。这是因为对象不构成单独的作用域，导致`jumps`箭头函数定义时的作用域就是全局作用域。\n",
    "\n",
    "再看一个例子。"
   ]
  },
  {
   "cell_type": "code",
   "execution_count": null,
   "id": "0b734417",
   "metadata": {
    "attributes": {
     "classes": [
      "javascript"
     ],
     "id": ""
    }
   },
   "outputs": [],
   "source": [
    "globalThis.s = 21;\n",
    "\n",
    "const obj = {\n",
    "  s: 42,\n",
    "  m: () => console.log(this.s)\n",
    "};\n",
    "\n",
    "obj.m() // 21"
   ]
  },
  {
   "cell_type": "markdown",
   "id": "b6c151af",
   "metadata": {},
   "source": [
    "上面例子中，`obj.m()`使用箭头函数定义。JavaScript 引擎的处理方法是，先在全局空间生成这个箭头函数，然后赋值给`obj.m`，这导致箭头函数内部的`this`指向全局对象，所以`obj.m()`输出的是全局空间的`21`，而不是对象内部的`42`。上面的代码实际上等同于下面的代码。"
   ]
  },
  {
   "cell_type": "code",
   "execution_count": null,
   "id": "f09f9905",
   "metadata": {
    "attributes": {
     "classes": [
      "javascript"
     ],
     "id": ""
    }
   },
   "outputs": [],
   "source": [
    "globalThis.s = 21;\n",
    "globalThis.m = () => console.log(this.s);\n",
    "\n",
    "const obj = {\n",
    "  s: 42,\n",
    "  m: globalThis.m\n",
    "};\n",
    "\n",
    "obj.m() // 21"
   ]
  },
  {
   "cell_type": "markdown",
   "id": "3f6d7696",
   "metadata": {},
   "source": [
    "由于上面这个原因，对象的属性建议使用传统的写法定义，不要用箭头函数定义。\n",
    "\n",
    "第二个场合是需要动态`this`的时候，也不应使用箭头函数。"
   ]
  },
  {
   "cell_type": "code",
   "execution_count": null,
   "id": "9e24fa89",
   "metadata": {
    "attributes": {
     "classes": [
      "javascript"
     ],
     "id": ""
    }
   },
   "outputs": [],
   "source": [
    "var button = document.getElementById('press');\n",
    "button.addEventListener('click', () => {\n",
    "  this.classList.toggle('on');\n",
    "});"
   ]
  },
  {
   "cell_type": "markdown",
   "id": "5b171545",
   "metadata": {},
   "source": [
    "上面代码运行时，点击按钮会报错，因为`button`的监听函数是一个箭头函数，导致里面的`this`就是全局对象。如果改成普通函数，`this`就会动态指向被点击的按钮对象。\n",
    "\n",
    "另外，如果函数体很复杂，有许多行，或者函数内部有大量的读写操作，不单纯是为了计算值，这时也不应该使用箭头函数，而是要使用普通函数，这样可以提高代码可读性。\n",
    "\n",
    "### 嵌套的箭头函数\n",
    "\n",
    "箭头函数内部，还可以再使用箭头函数。下面是一个 ES5 语法的多重嵌套函数。"
   ]
  },
  {
   "cell_type": "code",
   "execution_count": null,
   "id": "a7dfcae3",
   "metadata": {
    "attributes": {
     "classes": [
      "javascript"
     ],
     "id": ""
    }
   },
   "outputs": [],
   "source": [
    "function insert(value) {\n",
    "  return {into: function (array) {\n",
    "    return {after: function (afterValue) {\n",
    "      array.splice(array.indexOf(afterValue) + 1, 0, value);\n",
    "      return array;\n",
    "    }};\n",
    "  }};\n",
    "}\n",
    "\n",
    "insert(2).into([1, 3]).after(1); //[1, 2, 3]"
   ]
  },
  {
   "cell_type": "markdown",
   "id": "73e9a623",
   "metadata": {},
   "source": [
    "上面这个函数，可以使用箭头函数改写。"
   ]
  },
  {
   "cell_type": "code",
   "execution_count": null,
   "id": "ac4c2cba",
   "metadata": {
    "attributes": {
     "classes": [
      "javascript"
     ],
     "id": ""
    }
   },
   "outputs": [],
   "source": [
    "let insert = (value) => ({into: (array) => ({after: (afterValue) => {\n",
    "  array.splice(array.indexOf(afterValue) + 1, 0, value);\n",
    "  return array;\n",
    "}})});\n",
    "\n",
    "insert(2).into([1, 3]).after(1); //[1, 2, 3]"
   ]
  },
  {
   "cell_type": "markdown",
   "id": "d40ed8dc",
   "metadata": {},
   "source": [
    "下面是一个部署管道机制（pipeline）的例子，即前一个函数的输出是后一个函数的输入。"
   ]
  },
  {
   "cell_type": "code",
   "execution_count": null,
   "id": "0518e5ae",
   "metadata": {
    "attributes": {
     "classes": [
      "javascript"
     ],
     "id": ""
    }
   },
   "outputs": [],
   "source": [
    "const pipeline = (...funcs) =>\n",
    "  val => funcs.reduce((a, b) => b(a), val);\n",
    "\n",
    "const plus1 = a => a + 1;\n",
    "const mult2 = a => a * 2;\n",
    "const addThenMult = pipeline(plus1, mult2);\n",
    "\n",
    "addThenMult(5)\n",
    "// 12"
   ]
  },
  {
   "cell_type": "markdown",
   "id": "6b746efb",
   "metadata": {},
   "source": [
    "如果觉得上面的写法可读性比较差，也可以采用下面的写法。"
   ]
  },
  {
   "cell_type": "code",
   "execution_count": null,
   "id": "4617e1f9",
   "metadata": {
    "attributes": {
     "classes": [
      "javascript"
     ],
     "id": ""
    }
   },
   "outputs": [],
   "source": [
    "const plus1 = a => a + 1;\n",
    "const mult2 = a => a * 2;\n",
    "\n",
    "mult2(plus1(5))\n",
    "// 12"
   ]
  },
  {
   "cell_type": "markdown",
   "id": "dbf9a213",
   "metadata": {},
   "source": [
    "箭头函数还有一个功能，就是可以很方便地改写 λ 演算。"
   ]
  },
  {
   "cell_type": "code",
   "execution_count": null,
   "id": "ee96949e",
   "metadata": {
    "attributes": {
     "classes": [
      "javascript"
     ],
     "id": ""
    }
   },
   "outputs": [],
   "source": [
    "// λ演算的写法\n",
    "fix = λf.(λx.f(λv.x(x)(v)))(λx.f(λv.x(x)(v)))\n",
    "\n",
    "// ES6的写法\n",
    "var fix = f => (x => f(v => x(x)(v)))\n",
    "               (x => f(v => x(x)(v)));"
   ]
  },
  {
   "cell_type": "markdown",
   "id": "70956179",
   "metadata": {},
   "source": [
    "上面两种写法，几乎是一一对应的。由于 λ 演算对于计算机科学非常重要，这使得我们可以用 ES6 作为替代工具，探索计算机科学。\n",
    "\n",
    "## 尾调用优化\n",
    "\n",
    "### 什么是尾调用？\n",
    "\n",
    "尾调用（Tail Call）是函数式编程的一个重要概念，本身非常简单，一句话就能说清楚，就是指某个函数的最后一步是调用另一个函数。"
   ]
  },
  {
   "cell_type": "code",
   "execution_count": null,
   "id": "0ae1164c",
   "metadata": {
    "attributes": {
     "classes": [
      "javascript"
     ],
     "id": ""
    }
   },
   "outputs": [],
   "source": [
    "function f(x){\n",
    "  return g(x);\n",
    "}"
   ]
  },
  {
   "cell_type": "markdown",
   "id": "67f5575a",
   "metadata": {},
   "source": [
    "上面代码中，函数`f`的最后一步是调用函数`g`，这就叫尾调用。\n",
    "\n",
    "以下三种情况，都不属于尾调用。"
   ]
  },
  {
   "cell_type": "code",
   "execution_count": null,
   "id": "08c1859d",
   "metadata": {
    "attributes": {
     "classes": [
      "javascript"
     ],
     "id": ""
    }
   },
   "outputs": [],
   "source": [
    "// 情况一\n",
    "function f(x){\n",
    "  let y = g(x);\n",
    "  return y;\n",
    "}\n",
    "\n",
    "// 情况二\n",
    "function f(x){\n",
    "  return g(x) + 1;\n",
    "}\n",
    "\n",
    "// 情况三\n",
    "function f(x){\n",
    "  g(x);\n",
    "}"
   ]
  },
  {
   "cell_type": "markdown",
   "id": "982b6186",
   "metadata": {},
   "source": [
    "上面代码中，情况一是调用函数`g`之后，还有赋值操作，所以不属于尾调用，即使语义完全一样。情况二也属于调用后还有操作，即使写在一行内。情况三等同于下面的代码。"
   ]
  },
  {
   "cell_type": "code",
   "execution_count": null,
   "id": "ebb88632",
   "metadata": {
    "attributes": {
     "classes": [
      "javascript"
     ],
     "id": ""
    }
   },
   "outputs": [],
   "source": [
    "function f(x){\n",
    "  g(x);\n",
    "  return undefined;\n",
    "}"
   ]
  },
  {
   "cell_type": "markdown",
   "id": "34e4a824",
   "metadata": {},
   "source": [
    "尾调用不一定出现在函数尾部，只要是最后一步操作即可。"
   ]
  },
  {
   "cell_type": "code",
   "execution_count": null,
   "id": "55daf3c3",
   "metadata": {
    "attributes": {
     "classes": [
      "javascript"
     ],
     "id": ""
    }
   },
   "outputs": [],
   "source": [
    "function f(x) {\n",
    "  if (x > 0) {\n",
    "    return m(x)\n",
    "  }\n",
    "  return n(x);\n",
    "}"
   ]
  },
  {
   "cell_type": "markdown",
   "id": "ca57a0bf",
   "metadata": {},
   "source": [
    "上面代码中，函数`m`和`n`都属于尾调用，因为它们都是函数`f`的最后一步操作。\n",
    "\n",
    "### 尾调用优化\n",
    "\n",
    "尾调用之所以与其他调用不同，就在于它的特殊的调用位置。\n",
    "\n",
    "我们知道，函数调用会在内存形成一个“调用记录”，又称“调用帧”（call frame），保存调用位置和内部变量等信息。如果在函数`A`的内部调用函数`B`，那么在`A`的调用帧上方，还会形成一个`B`的调用帧。等到`B`运行结束，将结果返回到`A`，`B`的调用帧才会消失。如果函数`B`内部还调用函数`C`，那就还有一个`C`的调用帧，以此类推。所有的调用帧，就形成一个“调用栈”（call stack）。\n",
    "\n",
    "尾调用由于是函数的最后一步操作，所以不需要保留外层函数的调用帧，因为调用位置、内部变量等信息都不会再用到了，只要直接用内层函数的调用帧，取代外层函数的调用帧就可以了。"
   ]
  },
  {
   "cell_type": "code",
   "execution_count": null,
   "id": "fe4e8f5a",
   "metadata": {
    "attributes": {
     "classes": [
      "javascript"
     ],
     "id": ""
    }
   },
   "outputs": [],
   "source": [
    "function f() {\n",
    "  let m = 1;\n",
    "  let n = 2;\n",
    "  return g(m + n);\n",
    "}\n",
    "f();\n",
    "\n",
    "// 等同于\n",
    "function f() {\n",
    "  return g(3);\n",
    "}\n",
    "f();\n",
    "\n",
    "// 等同于\n",
    "g(3);"
   ]
  },
  {
   "cell_type": "markdown",
   "id": "a511475e",
   "metadata": {},
   "source": [
    "上面代码中，如果函数`g`不是尾调用，函数`f`就需要保存内部变量`m`和`n`的值、`g`的调用位置等信息。但由于调用`g`之后，函数`f`就结束了，所以执行到最后一步，完全可以删除`f(x)`的调用帧，只保留`g(3)`的调用帧。\n",
    "\n",
    "这就叫做“尾调用优化”（Tail call optimization），即只保留内层函数的调用帧。如果所有函数都是尾调用，那么完全可以做到每次执行时，调用帧只有一项，这将大大节省内存。这就是“尾调用优化”的意义。\n",
    "\n",
    "注意，只有不再用到外层函数的内部变量，内层函数的调用帧才会取代外层函数的调用帧，否则就无法进行“尾调用优化”。"
   ]
  },
  {
   "cell_type": "code",
   "execution_count": null,
   "id": "4e794d95",
   "metadata": {
    "attributes": {
     "classes": [
      "javascript"
     ],
     "id": ""
    }
   },
   "outputs": [],
   "source": [
    "function addOne(a){\n",
    "  var one = 1;\n",
    "  function inner(b){\n",
    "    return b + one;\n",
    "  }\n",
    "  return inner(a);\n",
    "}"
   ]
  },
  {
   "cell_type": "markdown",
   "id": "4594ae41",
   "metadata": {},
   "source": [
    "上面的函数不会进行尾调用优化，因为内层函数`inner`用到了外层函数`addOne`的内部变量`one`。\n",
    "\n",
    "注意，目前只有 Safari 浏览器支持尾调用优化，Chrome 和 Firefox 都不支持。\n",
    "\n",
    "### 尾递归\n",
    "\n",
    "函数调用自身，称为递归。如果尾调用自身，就称为尾递归。\n",
    "\n",
    "递归非常耗费内存，因为需要同时保存成千上百个调用帧，很容易发生“栈溢出”错误（stack overflow）。但对于尾递归来说，由于只存在一个调用帧，所以永远不会发生“栈溢出”错误。"
   ]
  },
  {
   "cell_type": "code",
   "execution_count": null,
   "id": "5203ff20",
   "metadata": {
    "attributes": {
     "classes": [
      "javascript"
     ],
     "id": ""
    }
   },
   "outputs": [],
   "source": [
    "function factorial(n) {\n",
    "  if (n === 1) return 1;\n",
    "  return n * factorial(n - 1);\n",
    "}\n",
    "\n",
    "factorial(5) // 120"
   ]
  },
  {
   "cell_type": "markdown",
   "id": "323b531d",
   "metadata": {},
   "source": [
    "上面代码是一个阶乘函数，计算`n`的阶乘，最多需要保存`n`个调用记录，复杂度 O(n) 。\n",
    "\n",
    "如果改写成尾递归，只保留一个调用记录，复杂度 O(1) 。"
   ]
  },
  {
   "cell_type": "code",
   "execution_count": null,
   "id": "07d178d4",
   "metadata": {
    "attributes": {
     "classes": [
      "javascript"
     ],
     "id": ""
    }
   },
   "outputs": [],
   "source": [
    "function factorial(n, total) {\n",
    "  if (n === 1) return total;\n",
    "  return factorial(n - 1, n * total);\n",
    "}\n",
    "\n",
    "factorial(5, 1) // 120"
   ]
  },
  {
   "cell_type": "markdown",
   "id": "984fb374",
   "metadata": {},
   "source": [
    "还有一个比较著名的例子，就是计算 Fibonacci 数列，也能充分说明尾递归优化的重要性。\n",
    "\n",
    "非尾递归的 Fibonacci 数列实现如下。"
   ]
  },
  {
   "cell_type": "code",
   "execution_count": null,
   "id": "3ef911b8",
   "metadata": {
    "attributes": {
     "classes": [
      "javascript"
     ],
     "id": ""
    }
   },
   "outputs": [],
   "source": [
    "function Fibonacci (n) {\n",
    "  if ( n <= 1 ) {return 1};\n",
    "\n",
    "  return Fibonacci(n - 1) + Fibonacci(n - 2);\n",
    "}\n",
    "\n",
    "Fibonacci(10) // 89\n",
    "Fibonacci(100) // 超时\n",
    "Fibonacci(500) // 超时"
   ]
  },
  {
   "cell_type": "markdown",
   "id": "a7ecd3a0",
   "metadata": {},
   "source": [
    "尾递归优化过的 Fibonacci 数列实现如下。"
   ]
  },
  {
   "cell_type": "code",
   "execution_count": null,
   "id": "47ba4d57",
   "metadata": {
    "attributes": {
     "classes": [
      "javascript"
     ],
     "id": ""
    }
   },
   "outputs": [],
   "source": [
    "function Fibonacci2 (n , ac1 = 1 , ac2 = 1) {\n",
    "  if( n <= 1 ) {return ac2};\n",
    "\n",
    "  return Fibonacci2 (n - 1, ac2, ac1 + ac2);\n",
    "}\n",
    "\n",
    "Fibonacci2(100) // 573147844013817200000\n",
    "Fibonacci2(1000) // 7.0330367711422765e+208\n",
    "Fibonacci2(10000) // Infinity"
   ]
  },
  {
   "cell_type": "markdown",
   "id": "99cb94ea",
   "metadata": {},
   "source": [
    "由此可见，“尾调用优化”对递归操作意义重大，所以一些函数式编程语言将其写入了语言规格。ES6 亦是如此，第一次明确规定，所有 ECMAScript 的实现，都必须部署“尾调用优化”。这就是说，ES6 中只要使用尾递归，就不会发生栈溢出（或者层层递归造成的超时），相对节省内存。\n",
    "\n",
    "### 递归函数的改写\n",
    "\n",
    "尾递归的实现，往往需要改写递归函数，确保最后一步只调用自身。做到这一点的方法，就是把所有用到的内部变量改写成函数的参数。比如上面的例子，阶乘函数 factorial 需要用到一个中间变量`total`，那就把这个中间变量改写成函数的参数。这样做的缺点就是不太直观，第一眼很难看出来，为什么计算`5`的阶乘，需要传入两个参数`5`和`1`？\n",
    "\n",
    "两个方法可以解决这个问题。方法一是在尾递归函数之外，再提供一个正常形式的函数。"
   ]
  },
  {
   "cell_type": "code",
   "execution_count": null,
   "id": "a6040f7d",
   "metadata": {
    "attributes": {
     "classes": [
      "javascript"
     ],
     "id": ""
    }
   },
   "outputs": [],
   "source": [
    "function tailFactorial(n, total) {\n",
    "  if (n === 1) return total;\n",
    "  return tailFactorial(n - 1, n * total);\n",
    "}\n",
    "\n",
    "function factorial(n) {\n",
    "  return tailFactorial(n, 1);\n",
    "}\n",
    "\n",
    "factorial(5) // 120"
   ]
  },
  {
   "cell_type": "markdown",
   "id": "2109c4c3",
   "metadata": {},
   "source": [
    "上面代码通过一个正常形式的阶乘函数`factorial`，调用尾递归函数`tailFactorial`，看起来就正常多了。\n",
    "\n",
    "函数式编程有一个概念，叫做柯里化（currying），意思是将多参数的函数转换成单参数的形式。这里也可以使用柯里化。"
   ]
  },
  {
   "cell_type": "code",
   "execution_count": null,
   "id": "299bca79",
   "metadata": {
    "attributes": {
     "classes": [
      "javascript"
     ],
     "id": ""
    }
   },
   "outputs": [],
   "source": [
    "function currying(fn, n) {\n",
    "  return function (m) {\n",
    "    return fn.call(this, m, n);\n",
    "  };\n",
    "}\n",
    "\n",
    "function tailFactorial(n, total) {\n",
    "  if (n === 1) return total;\n",
    "  return tailFactorial(n - 1, n * total);\n",
    "}\n",
    "\n",
    "const factorial = currying(tailFactorial, 1);\n",
    "\n",
    "factorial(5) // 120"
   ]
  },
  {
   "cell_type": "markdown",
   "id": "3addf35a",
   "metadata": {},
   "source": [
    "上面代码通过柯里化，将尾递归函数`tailFactorial`变为只接受一个参数的`factorial`。\n",
    "\n",
    "第二种方法就简单多了，就是采用 ES6 的函数默认值。"
   ]
  },
  {
   "cell_type": "code",
   "execution_count": null,
   "id": "b3189cc9",
   "metadata": {
    "attributes": {
     "classes": [
      "javascript"
     ],
     "id": ""
    }
   },
   "outputs": [],
   "source": [
    "function factorial(n, total = 1) {\n",
    "  if (n === 1) return total;\n",
    "  return factorial(n - 1, n * total);\n",
    "}\n",
    "\n",
    "factorial(5) // 120"
   ]
  },
  {
   "cell_type": "markdown",
   "id": "8584a0d4",
   "metadata": {},
   "source": [
    "上面代码中，参数`total`有默认值`1`，所以调用时不用提供这个值。\n",
    "\n",
    "总结一下，递归本质上是一种循环操作。纯粹的函数式编程语言没有循环操作命令，所有的循环都用递归实现，这就是为什么尾递归对这些语言极其重要。对于其他支持“尾调用优化”的语言（比如 Lua，ES6），只需要知道循环可以用递归代替，而一旦使用递归，就最好使用尾递归。\n",
    "\n",
    "### 严格模式\n",
    "\n",
    "ES6 的尾调用优化只在严格模式下开启，正常模式是无效的。\n",
    "\n",
    "这是因为在正常模式下，函数内部有两个变量，可以跟踪函数的调用栈。\n",
    "\n",
    "- `func.arguments`：返回调用时函数的参数。\n",
    "- `func.caller`：返回调用当前函数的那个函数。\n",
    "\n",
    "尾调用优化发生时，函数的调用栈会改写，因此上面两个变量就会失真。严格模式禁用这两个变量，所以尾调用模式仅在严格模式下生效。"
   ]
  },
  {
   "cell_type": "code",
   "execution_count": null,
   "id": "db9dbebd",
   "metadata": {
    "attributes": {
     "classes": [
      "javascript"
     ],
     "id": ""
    }
   },
   "outputs": [],
   "source": [
    "function restricted() {\n",
    "  'use strict';\n",
    "  restricted.caller;    // 报错\n",
    "  restricted.arguments; // 报错\n",
    "}\n",
    "restricted();"
   ]
  },
  {
   "cell_type": "markdown",
   "id": "c1a39486",
   "metadata": {},
   "source": [
    "### 尾递归优化的实现\n",
    "\n",
    "尾递归优化只在严格模式下生效，那么正常模式下，或者那些不支持该功能的环境中，有没有办法也使用尾递归优化呢？回答是可以的，就是自己实现尾递归优化。\n",
    "\n",
    "它的原理非常简单。尾递归之所以需要优化，原因是调用栈太多，造成溢出，那么只要减少调用栈，就不会溢出。怎么做可以减少调用栈呢？就是采用“循环”换掉“递归”。\n",
    "\n",
    "下面是一个正常的递归函数。"
   ]
  },
  {
   "cell_type": "code",
   "execution_count": null,
   "id": "3af6cfe7",
   "metadata": {
    "attributes": {
     "classes": [
      "javascript"
     ],
     "id": ""
    }
   },
   "outputs": [],
   "source": [
    "function sum(x, y) {\n",
    "  if (y > 0) {\n",
    "    return sum(x + 1, y - 1);\n",
    "  } else {\n",
    "    return x;\n",
    "  }\n",
    "}\n",
    "\n",
    "sum(1, 100000)\n",
    "// Uncaught RangeError: Maximum call stack size exceeded(…)"
   ]
  },
  {
   "cell_type": "markdown",
   "id": "9b36cb8d",
   "metadata": {},
   "source": [
    "上面代码中，`sum`是一个递归函数，参数`x`是需要累加的值，参数`y`控制递归次数。一旦指定`sum`递归 100000 次，就会报错，提示超出调用栈的最大次数。\n",
    "\n",
    "蹦床函数（trampoline）可以将递归执行转为循环执行。"
   ]
  },
  {
   "cell_type": "code",
   "execution_count": null,
   "id": "f4a008fd",
   "metadata": {
    "attributes": {
     "classes": [
      "javascript"
     ],
     "id": ""
    }
   },
   "outputs": [],
   "source": [
    "function trampoline(f) {\n",
    "  while (f && f instanceof Function) {\n",
    "    f = f();\n",
    "  }\n",
    "  return f;\n",
    "}"
   ]
  },
  {
   "cell_type": "markdown",
   "id": "66bad42f",
   "metadata": {},
   "source": [
    "上面就是蹦床函数的一个实现，它接受一个函数`f`作为参数。只要`f`执行后返回一个函数，就继续执行。注意，这里是返回一个函数，然后执行该函数，而不是函数里面调用函数，这样就避免了递归执行，从而就消除了调用栈过大的问题。\n",
    "\n",
    "然后，要做的就是将原来的递归函数，改写为每一步返回另一个函数。"
   ]
  },
  {
   "cell_type": "code",
   "execution_count": null,
   "id": "ef837a36",
   "metadata": {
    "attributes": {
     "classes": [
      "javascript"
     ],
     "id": ""
    }
   },
   "outputs": [],
   "source": [
    "function sum(x, y) {\n",
    "  if (y > 0) {\n",
    "    return sum.bind(null, x + 1, y - 1);\n",
    "  } else {\n",
    "    return x;\n",
    "  }\n",
    "}"
   ]
  },
  {
   "cell_type": "markdown",
   "id": "6b23c3a2",
   "metadata": {},
   "source": [
    "上面代码中，`sum`函数的每次执行，都会返回自身的另一个版本。\n",
    "\n",
    "现在，使用蹦床函数执行`sum`，就不会发生调用栈溢出。"
   ]
  },
  {
   "cell_type": "code",
   "execution_count": null,
   "id": "95fe187c",
   "metadata": {
    "attributes": {
     "classes": [
      "javascript"
     ],
     "id": ""
    }
   },
   "outputs": [],
   "source": [
    "trampoline(sum(1, 100000))\n",
    "// 100001"
   ]
  },
  {
   "cell_type": "markdown",
   "id": "87533643",
   "metadata": {},
   "source": [
    "蹦床函数并不是真正的尾递归优化，下面的实现才是。"
   ]
  },
  {
   "cell_type": "code",
   "execution_count": null,
   "id": "a1a18656",
   "metadata": {
    "attributes": {
     "classes": [
      "javascript"
     ],
     "id": ""
    }
   },
   "outputs": [],
   "source": [
    "function tco(f) {\n",
    "  var value;\n",
    "  var active = false;\n",
    "  var accumulated = [];\n",
    "\n",
    "  return function accumulator() {\n",
    "    accumulated.push(arguments);\n",
    "    if (!active) {\n",
    "      active = true;\n",
    "      while (accumulated.length) {\n",
    "        value = f.apply(this, accumulated.shift());\n",
    "      }\n",
    "      active = false;\n",
    "      return value;\n",
    "    }\n",
    "  };\n",
    "}\n",
    "\n",
    "var sum = tco(function(x, y) {\n",
    "  if (y > 0) {\n",
    "    return sum(x + 1, y - 1)\n",
    "  }\n",
    "  else {\n",
    "    return x\n",
    "  }\n",
    "});\n",
    "\n",
    "sum(1, 100000)\n",
    "// 100001"
   ]
  },
  {
   "cell_type": "markdown",
   "id": "4ba0adaf",
   "metadata": {},
   "source": [
    "上面代码中，`tco`函数是尾递归优化的实现，它的奥妙就在于状态变量`active`。默认情况下，这个变量是不激活的。一旦进入尾递归优化的过程，这个变量就激活了。然后，每一轮递归`sum`返回的都是`undefined`，所以就避免了递归执行；而`accumulated`数组存放每一轮`sum`执行的参数，总是有值的，这就保证了`accumulator`函数内部的`while`循环总是会执行。这样就很巧妙地将“递归”改成了“循环”，而后一轮的参数会取代前一轮的参数，保证了调用栈只有一层。\n",
    "\n",
    "## 函数参数的尾逗号\n",
    "\n",
    "ES2017 [允许](https://github.com/jeffmo/es-trailing-function-commas)函数的最后一个参数有尾逗号（trailing comma）。\n",
    "\n",
    "此前，函数定义和调用时，都不允许最后一个参数后面出现逗号。"
   ]
  },
  {
   "cell_type": "code",
   "execution_count": null,
   "id": "39521a8a",
   "metadata": {
    "attributes": {
     "classes": [
      "javascript"
     ],
     "id": ""
    }
   },
   "outputs": [],
   "source": [
    "function clownsEverywhere(\n",
    "  param1,\n",
    "  param2\n",
    ") { /* ... */ }\n",
    "\n",
    "clownsEverywhere(\n",
    "  'foo',\n",
    "  'bar'\n",
    ");"
   ]
  },
  {
   "cell_type": "markdown",
   "id": "8e472872",
   "metadata": {},
   "source": [
    "上面代码中，如果在`param2`或`bar`后面加一个逗号，就会报错。\n",
    "\n",
    "如果像上面这样，将参数写成多行（即每个参数占据一行），以后修改代码的时候，想为函数`clownsEverywhere`添加第三个参数，或者调整参数的次序，就势必要在原来最后一个参数后面添加一个逗号。这对于版本管理系统来说，就会显示添加逗号的那一行也发生了变动。这看上去有点冗余，因此新的语法允许定义和调用时，尾部直接有一个逗号。"
   ]
  },
  {
   "cell_type": "code",
   "execution_count": null,
   "id": "81f26f27",
   "metadata": {
    "attributes": {
     "classes": [
      "javascript"
     ],
     "id": ""
    }
   },
   "outputs": [],
   "source": [
    "function clownsEverywhere(\n",
    "  param1,\n",
    "  param2,\n",
    ") { /* ... */ }\n",
    "\n",
    "clownsEverywhere(\n",
    "  'foo',\n",
    "  'bar',\n",
    ");"
   ]
  },
  {
   "cell_type": "markdown",
   "id": "0609ab23",
   "metadata": {},
   "source": [
    "这样的规定也使得，函数参数与数组和对象的尾逗号规则，保持一致了。\n",
    "\n",
    "## Function.prototype.toString()\n",
    "\n",
    "[ES2019](https://github.com/tc39/Function-prototype-toString-revision) 对函数实例的`toString()`方法做出了修改。\n",
    "\n",
    "`toString()`方法返回函数代码本身，以前会省略注释和空格。"
   ]
  },
  {
   "cell_type": "code",
   "execution_count": null,
   "id": "2425c151",
   "metadata": {
    "attributes": {
     "classes": [
      "javascript"
     ],
     "id": ""
    }
   },
   "outputs": [],
   "source": [
    "function /* foo comment */ foo () {}\n",
    "\n",
    "foo.toString()\n",
    "// function foo() {}"
   ]
  },
  {
   "cell_type": "markdown",
   "id": "2667a5e2",
   "metadata": {},
   "source": [
    "上面代码中，函数`foo`的原始代码包含注释，函数名`foo`和圆括号之间有空格，但是`toString()`方法都把它们省略了。\n",
    "\n",
    "修改后的`toString()`方法，明确要求返回一模一样的原始代码。"
   ]
  },
  {
   "cell_type": "code",
   "execution_count": null,
   "id": "06dc5ad4",
   "metadata": {
    "attributes": {
     "classes": [
      "javascript"
     ],
     "id": ""
    }
   },
   "outputs": [],
   "source": [
    "function /* foo comment */ foo () {}\n",
    "\n",
    "foo.toString()\n",
    "// \"function /* foo comment */ foo () {}\""
   ]
  },
  {
   "cell_type": "markdown",
   "id": "2e989e17",
   "metadata": {},
   "source": [
    "## catch 命令的参数省略\n",
    "\n",
    "JavaScript 语言的`try...catch`结构，以前明确要求`catch`命令后面必须跟参数，接受`try`代码块抛出的错误对象。"
   ]
  },
  {
   "cell_type": "code",
   "execution_count": null,
   "id": "c7931af1",
   "metadata": {
    "attributes": {
     "classes": [
      "javascript"
     ],
     "id": ""
    }
   },
   "outputs": [],
   "source": [
    "try {\n",
    "  // ...\n",
    "} catch (err) {\n",
    "  // 处理错误\n",
    "}"
   ]
  },
  {
   "cell_type": "markdown",
   "id": "473c5de4",
   "metadata": {},
   "source": [
    "上面代码中，`catch`命令后面带有参数`err`。\n",
    "\n",
    "很多时候，`catch`代码块可能用不到这个参数。但是，为了保证语法正确，还是必须写。[ES2019](https://github.com/tc39/proposal-optional-catch-binding) 做出了改变，允许`catch`语句省略参数。"
   ]
  },
  {
   "cell_type": "code",
   "execution_count": null,
   "id": "adffd127",
   "metadata": {
    "attributes": {
     "classes": [
      "javascript"
     ],
     "id": ""
    }
   },
   "outputs": [],
   "source": [
    "try {\n",
    "  // ...\n",
    "} catch {\n",
    "  // ...\n",
    "}"
   ]
  }
 ],
 "metadata": {},
 "nbformat": 4,
 "nbformat_minor": 5
}

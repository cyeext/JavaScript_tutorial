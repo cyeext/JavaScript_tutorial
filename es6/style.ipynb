{
 "cells": [
  {
   "cell_type": "markdown",
   "id": "dfef27fe",
   "metadata": {},
   "source": [
    "# 编程风格\n",
    "\n",
    "本章探讨如何将 ES6 的新语法，运用到编码实践之中，与传统的 JavaScript 语法结合在一起，写出合理的、易于阅读和维护的代码。\n",
    "\n",
    "多家公司和组织已经公开了它们的风格规范，下面的内容主要参考了 [Airbnb](https://github.com/airbnb/javascript) 公司的 JavaScript 风格规范。\n",
    "\n",
    "## 块级作用域\n",
    "\n",
    "**（1）let 取代 var**\n",
    "\n",
    "ES6 提出了两个新的声明变量的命令：`let`和`const`。其中，`let`完全可以取代`var`，因为两者语义相同，而且`let`没有副作用。"
   ]
  },
  {
   "cell_type": "code",
   "execution_count": null,
   "id": "5b7482b1",
   "metadata": {
    "attributes": {
     "classes": [
      "javascript"
     ],
     "id": ""
    }
   },
   "outputs": [],
   "source": [
    "'use strict';\n",
    "\n",
    "if (true) {\n",
    "  let x = 'hello';\n",
    "}\n",
    "\n",
    "for (let i = 0; i < 10; i++) {\n",
    "  console.log(i);\n",
    "}"
   ]
  },
  {
   "cell_type": "markdown",
   "id": "a3c92fdb",
   "metadata": {},
   "source": [
    "上面代码如果用`var`替代`let`，实际上就声明了两个全局变量，这显然不是本意。变量应该只在其声明的代码块内有效，`var`命令做不到这一点。\n",
    "\n",
    "`var`命令存在变量提升效用，`let`命令没有这个问题。"
   ]
  },
  {
   "cell_type": "code",
   "execution_count": null,
   "id": "4d514ddc",
   "metadata": {
    "attributes": {
     "classes": [
      "javascript"
     ],
     "id": ""
    }
   },
   "outputs": [],
   "source": [
    "'use strict';\n",
    "\n",
    "if (true) {\n",
    "  console.log(x); // ReferenceError\n",
    "  let x = 'hello';\n",
    "}"
   ]
  },
  {
   "cell_type": "markdown",
   "id": "10c9d27f",
   "metadata": {},
   "source": [
    "上面代码如果使用`var`替代`let`，`console.log`那一行就不会报错，而是会输出`undefined`，因为变量声明提升到代码块的头部。这违反了变量先声明后使用的原则。\n",
    "\n",
    "所以，建议不再使用`var`命令，而是使用`let`命令取代。\n",
    "\n",
    "**（2）全局常量和线程安全**\n",
    "\n",
    "在`let`和`const`之间，建议优先使用`const`，尤其是在全局环境，不应该设置变量，只应设置常量。\n",
    "\n",
    "`const`优于`let`有几个原因。一个是`const`可以提醒阅读程序的人，这个变量不应该改变；另一个是`const`比较符合函数式编程思想，运算不改变值，只是新建值，而且这样也有利于将来的分布式运算；最后一个原因是 JavaScript 编译器会对`const`进行优化，所以多使用`const`，有利于提高程序的运行效率，也就是说`let`和`const`的本质区别，其实是编译器内部的处理不同。"
   ]
  },
  {
   "cell_type": "code",
   "execution_count": null,
   "id": "7708e1f5",
   "metadata": {
    "attributes": {
     "classes": [
      "javascript"
     ],
     "id": ""
    }
   },
   "outputs": [],
   "source": [
    "// bad\n",
    "var a = 1, b = 2, c = 3;\n",
    "\n",
    "// good\n",
    "const a = 1;\n",
    "const b = 2;\n",
    "const c = 3;\n",
    "\n",
    "// best\n",
    "const [a, b, c] = [1, 2, 3];"
   ]
  },
  {
   "cell_type": "markdown",
   "id": "f1f915c8",
   "metadata": {},
   "source": [
    "`const`声明常量还有两个好处，一是阅读代码的人立刻会意识到不应该修改这个值，二是防止了无意间修改变量值所导致的错误。\n",
    "\n",
    "所有的函数都应该设置为常量。\n",
    "\n",
    "长远来看，JavaScript 可能会有多线程的实现（比如 Intel 公司的 River Trail 那一类的项目），这时`let`表示的变量，只应出现在单线程运行的代码中，不能是多线程共享的，这样有利于保证线程安全。\n",
    "\n",
    "## 字符串\n",
    "\n",
    "静态字符串一律使用单引号或反引号，不使用双引号。动态字符串使用反引号。"
   ]
  },
  {
   "cell_type": "code",
   "execution_count": null,
   "id": "ccfa59f5",
   "metadata": {
    "attributes": {
     "classes": [
      "javascript"
     ],
     "id": ""
    }
   },
   "outputs": [],
   "source": [
    "// bad\n",
    "const a = \"foobar\";\n",
    "const b = 'foo' + a + 'bar';\n",
    "\n",
    "// acceptable\n",
    "const c = `foobar`;\n",
    "\n",
    "// good\n",
    "const a = 'foobar';\n",
    "const b = `foo${a}bar`;"
   ]
  },
  {
   "cell_type": "markdown",
   "id": "3203580b",
   "metadata": {},
   "source": [
    "## 解构赋值\n",
    "\n",
    "使用数组成员对变量赋值时，优先使用解构赋值。"
   ]
  },
  {
   "cell_type": "code",
   "execution_count": null,
   "id": "afacb66c",
   "metadata": {
    "attributes": {
     "classes": [
      "javascript"
     ],
     "id": ""
    }
   },
   "outputs": [],
   "source": [
    "const arr = [1, 2, 3, 4];\n",
    "\n",
    "// bad\n",
    "const first = arr[0];\n",
    "const second = arr[1];\n",
    "\n",
    "// good\n",
    "const [first, second] = arr;"
   ]
  },
  {
   "cell_type": "markdown",
   "id": "9b9330e6",
   "metadata": {},
   "source": [
    "函数的参数如果是对象的成员，优先使用解构赋值。"
   ]
  },
  {
   "cell_type": "code",
   "execution_count": null,
   "id": "2cd87f31",
   "metadata": {
    "attributes": {
     "classes": [
      "javascript"
     ],
     "id": ""
    }
   },
   "outputs": [],
   "source": [
    "// bad\n",
    "function getFullName(user) {\n",
    "  const firstName = user.firstName;\n",
    "  const lastName = user.lastName;\n",
    "}\n",
    "\n",
    "// good\n",
    "function getFullName(obj) {\n",
    "  const { firstName, lastName } = obj;\n",
    "}\n",
    "\n",
    "// best\n",
    "function getFullName({ firstName, lastName }) {\n",
    "}"
   ]
  },
  {
   "cell_type": "markdown",
   "id": "aab83eaa",
   "metadata": {},
   "source": [
    "如果函数返回多个值，优先使用对象的解构赋值，而不是数组的解构赋值。这样便于以后添加返回值，以及更改返回值的顺序。"
   ]
  },
  {
   "cell_type": "code",
   "execution_count": null,
   "id": "1ff4d64e",
   "metadata": {
    "attributes": {
     "classes": [
      "javascript"
     ],
     "id": ""
    }
   },
   "outputs": [],
   "source": [
    "// bad\n",
    "function processInput(input) {\n",
    "  return [left, right, top, bottom];\n",
    "}\n",
    "\n",
    "// good\n",
    "function processInput(input) {\n",
    "  return { left, right, top, bottom };\n",
    "}\n",
    "\n",
    "const { left, right } = processInput(input);"
   ]
  },
  {
   "cell_type": "markdown",
   "id": "99eb1850",
   "metadata": {},
   "source": [
    "## 对象\n",
    "\n",
    "单行定义的对象，最后一个成员不以逗号结尾。多行定义的对象，最后一个成员以逗号结尾。"
   ]
  },
  {
   "cell_type": "code",
   "execution_count": null,
   "id": "782a2454",
   "metadata": {
    "attributes": {
     "classes": [
      "javascript"
     ],
     "id": ""
    }
   },
   "outputs": [],
   "source": [
    "// bad\n",
    "const a = { k1: v1, k2: v2, };\n",
    "const b = {\n",
    "  k1: v1,\n",
    "  k2: v2\n",
    "};\n",
    "\n",
    "// good\n",
    "const a = { k1: v1, k2: v2 };\n",
    "const b = {\n",
    "  k1: v1,\n",
    "  k2: v2,\n",
    "};"
   ]
  },
  {
   "cell_type": "markdown",
   "id": "70fa8832",
   "metadata": {},
   "source": [
    "对象尽量静态化，一旦定义，就不得随意添加新的属性。如果添加属性不可避免，要使用`Object.assign`方法。"
   ]
  },
  {
   "cell_type": "code",
   "execution_count": null,
   "id": "469c5078",
   "metadata": {
    "attributes": {
     "classes": [
      "javascript"
     ],
     "id": ""
    }
   },
   "outputs": [],
   "source": [
    "// bad\n",
    "const a = {};\n",
    "a.x = 3;\n",
    "\n",
    "// if reshape unavoidable\n",
    "const a = {};\n",
    "Object.assign(a, { x: 3 });\n",
    "\n",
    "// good\n",
    "const a = { x: null };\n",
    "a.x = 3;"
   ]
  },
  {
   "cell_type": "markdown",
   "id": "c4cb37f7",
   "metadata": {},
   "source": [
    "如果对象的属性名是动态的，可以在创造对象的时候，使用属性表达式定义。"
   ]
  },
  {
   "cell_type": "code",
   "execution_count": null,
   "id": "b542b72b",
   "metadata": {
    "attributes": {
     "classes": [
      "javascript"
     ],
     "id": ""
    }
   },
   "outputs": [],
   "source": [
    "// bad\n",
    "const obj = {\n",
    "  id: 5,\n",
    "  name: 'San Francisco',\n",
    "};\n",
    "obj[getKey('enabled')] = true;\n",
    "\n",
    "// good\n",
    "const obj = {\n",
    "  id: 5,\n",
    "  name: 'San Francisco',\n",
    "  [getKey('enabled')]: true,\n",
    "};"
   ]
  },
  {
   "cell_type": "markdown",
   "id": "a262d7e1",
   "metadata": {},
   "source": [
    "上面代码中，对象`obj`的最后一个属性名，需要计算得到。这时最好采用属性表达式，在新建`obj`的时候，将该属性与其他属性定义在一起。这样一来，所有属性就在一个地方定义了。\n",
    "\n",
    "另外，对象的属性和方法，尽量采用简洁表达法，这样易于描述和书写。"
   ]
  },
  {
   "cell_type": "code",
   "execution_count": null,
   "id": "ba519580",
   "metadata": {
    "attributes": {
     "classes": [
      "javascript"
     ],
     "id": ""
    }
   },
   "outputs": [],
   "source": [
    "var ref = 'some value';\n",
    "\n",
    "// bad\n",
    "const atom = {\n",
    "  ref: ref,\n",
    "\n",
    "  value: 1,\n",
    "\n",
    "  addValue: function (value) {\n",
    "    return atom.value + value;\n",
    "  },\n",
    "};\n",
    "\n",
    "// good\n",
    "const atom = {\n",
    "  ref,\n",
    "\n",
    "  value: 1,\n",
    "\n",
    "  addValue(value) {\n",
    "    return atom.value + value;\n",
    "  },\n",
    "};"
   ]
  },
  {
   "cell_type": "markdown",
   "id": "755f3ea8",
   "metadata": {},
   "source": [
    "## 数组\n",
    "\n",
    "使用扩展运算符（...）拷贝数组。"
   ]
  },
  {
   "cell_type": "code",
   "execution_count": null,
   "id": "c49e591c",
   "metadata": {
    "attributes": {
     "classes": [
      "javascript"
     ],
     "id": ""
    }
   },
   "outputs": [],
   "source": [
    "// bad\n",
    "const len = items.length;\n",
    "const itemsCopy = [];\n",
    "let i;\n",
    "\n",
    "for (i = 0; i < len; i++) {\n",
    "  itemsCopy[i] = items[i];\n",
    "}\n",
    "\n",
    "// good\n",
    "const itemsCopy = [...items];"
   ]
  },
  {
   "cell_type": "markdown",
   "id": "9f8cc8a9",
   "metadata": {},
   "source": [
    "使用 Array.from 方法，将类似数组的对象转为数组。"
   ]
  },
  {
   "cell_type": "code",
   "execution_count": null,
   "id": "6b5b916c",
   "metadata": {
    "attributes": {
     "classes": [
      "javascript"
     ],
     "id": ""
    }
   },
   "outputs": [],
   "source": [
    "const foo = document.querySelectorAll('.foo');\n",
    "const nodes = Array.from(foo);"
   ]
  },
  {
   "cell_type": "markdown",
   "id": "e84188ae",
   "metadata": {},
   "source": [
    "## 函数\n",
    "\n",
    "立即执行函数可以写成箭头函数的形式。"
   ]
  },
  {
   "cell_type": "code",
   "execution_count": null,
   "id": "3e53b1c7",
   "metadata": {
    "attributes": {
     "classes": [
      "javascript"
     ],
     "id": ""
    }
   },
   "outputs": [],
   "source": [
    "(() => {\n",
    "  console.log('Welcome to the Internet.');\n",
    "})();"
   ]
  },
  {
   "cell_type": "markdown",
   "id": "30fa5722",
   "metadata": {},
   "source": [
    "那些使用匿名函数当作参数的场合，尽量用箭头函数代替。因为这样更简洁，而且绑定了 this。"
   ]
  },
  {
   "cell_type": "code",
   "execution_count": null,
   "id": "ffa96b12",
   "metadata": {
    "attributes": {
     "classes": [
      "javascript"
     ],
     "id": ""
    }
   },
   "outputs": [],
   "source": [
    "// bad\n",
    "[1, 2, 3].map(function (x) {\n",
    "  return x * x;\n",
    "});\n",
    "\n",
    "// good\n",
    "[1, 2, 3].map((x) => {\n",
    "  return x * x;\n",
    "});\n",
    "\n",
    "// best\n",
    "[1, 2, 3].map(x => x * x);"
   ]
  },
  {
   "cell_type": "markdown",
   "id": "e33d6f79",
   "metadata": {},
   "source": [
    "箭头函数取代`Function.prototype.bind`，不应再用 self/\\_this/that 绑定 this。"
   ]
  },
  {
   "cell_type": "code",
   "execution_count": null,
   "id": "29e8323b",
   "metadata": {
    "attributes": {
     "classes": [
      "javascript"
     ],
     "id": ""
    }
   },
   "outputs": [],
   "source": [
    "// bad\n",
    "const self = this;\n",
    "const boundMethod = function(...params) {\n",
    "  return method.apply(self, params);\n",
    "}\n",
    "\n",
    "// acceptable\n",
    "const boundMethod = method.bind(this);\n",
    "\n",
    "// best\n",
    "const boundMethod = (...params) => method.apply(this, params);"
   ]
  },
  {
   "cell_type": "markdown",
   "id": "fd8c3590",
   "metadata": {},
   "source": [
    "简单的、单行的、不会复用的函数，建议采用箭头函数。如果函数体较为复杂，行数较多，还是应该采用传统的函数写法。\n",
    "\n",
    "所有配置项都应该集中在一个对象，放在最后一个参数，布尔值不可以直接作为参数。"
   ]
  },
  {
   "cell_type": "code",
   "execution_count": null,
   "id": "406f720d",
   "metadata": {
    "attributes": {
     "classes": [
      "javascript"
     ],
     "id": ""
    }
   },
   "outputs": [],
   "source": [
    "// bad\n",
    "function divide(a, b, option = false ) {\n",
    "}\n",
    "\n",
    "// good\n",
    "function divide(a, b, { option = false } = {}) {\n",
    "}"
   ]
  },
  {
   "cell_type": "markdown",
   "id": "0a8bab2b",
   "metadata": {},
   "source": [
    "不要在函数体内使用 arguments 变量，使用 rest 运算符（...）代替。因为 rest 运算符显式表明你想要获取参数，而且 arguments 是一个类似数组的对象，而 rest 运算符可以提供一个真正的数组。"
   ]
  },
  {
   "cell_type": "code",
   "execution_count": null,
   "id": "462bff38",
   "metadata": {
    "attributes": {
     "classes": [
      "javascript"
     ],
     "id": ""
    }
   },
   "outputs": [],
   "source": [
    "// bad\n",
    "function concatenateAll() {\n",
    "  const args = Array.prototype.slice.call(arguments);\n",
    "  return args.join('');\n",
    "}\n",
    "\n",
    "// good\n",
    "function concatenateAll(...args) {\n",
    "  return args.join('');\n",
    "}"
   ]
  },
  {
   "cell_type": "markdown",
   "id": "d38e0a90",
   "metadata": {},
   "source": [
    "使用默认值语法设置函数参数的默认值。"
   ]
  },
  {
   "cell_type": "code",
   "execution_count": null,
   "id": "6cd23426",
   "metadata": {
    "attributes": {
     "classes": [
      "javascript"
     ],
     "id": ""
    }
   },
   "outputs": [],
   "source": [
    "// bad\n",
    "function handleThings(opts) {\n",
    "  opts = opts || {};\n",
    "}\n",
    "\n",
    "// good\n",
    "function handleThings(opts = {}) {\n",
    "  // ...\n",
    "}"
   ]
  },
  {
   "cell_type": "markdown",
   "id": "3698723e",
   "metadata": {},
   "source": [
    "## Map 结构\n",
    "\n",
    "注意区分 Object 和 Map，只有模拟现实世界的实体对象时，才使用 Object。如果只是需要`key: value`的数据结构，使用 Map 结构。因为 Map 有内建的遍历机制。"
   ]
  },
  {
   "cell_type": "code",
   "execution_count": null,
   "id": "f86f8fb3",
   "metadata": {
    "attributes": {
     "classes": [
      "javascript"
     ],
     "id": ""
    }
   },
   "outputs": [],
   "source": [
    "let map = new Map(arr);\n",
    "\n",
    "for (let key of map.keys()) {\n",
    "  console.log(key);\n",
    "}\n",
    "\n",
    "for (let value of map.values()) {\n",
    "  console.log(value);\n",
    "}\n",
    "\n",
    "for (let item of map.entries()) {\n",
    "  console.log(item[0], item[1]);\n",
    "}"
   ]
  },
  {
   "cell_type": "markdown",
   "id": "c0d2f664",
   "metadata": {},
   "source": [
    "## Class\n",
    "\n",
    "总是用 Class，取代需要 prototype 的操作。因为 Class 的写法更简洁，更易于理解。"
   ]
  },
  {
   "cell_type": "code",
   "execution_count": null,
   "id": "e3df79ad",
   "metadata": {
    "attributes": {
     "classes": [
      "javascript"
     ],
     "id": ""
    }
   },
   "outputs": [],
   "source": [
    "// bad\n",
    "function Queue(contents = []) {\n",
    "  this._queue = [...contents];\n",
    "}\n",
    "Queue.prototype.pop = function() {\n",
    "  const value = this._queue[0];\n",
    "  this._queue.splice(0, 1);\n",
    "  return value;\n",
    "}\n",
    "\n",
    "// good\n",
    "class Queue {\n",
    "  constructor(contents = []) {\n",
    "    this._queue = [...contents];\n",
    "  }\n",
    "  pop() {\n",
    "    const value = this._queue[0];\n",
    "    this._queue.splice(0, 1);\n",
    "    return value;\n",
    "  }\n",
    "}"
   ]
  },
  {
   "cell_type": "markdown",
   "id": "0fcc4c68",
   "metadata": {},
   "source": [
    "使用`extends`实现继承，因为这样更简单，不会有破坏`instanceof`运算的危险。"
   ]
  },
  {
   "cell_type": "code",
   "execution_count": null,
   "id": "759580d1",
   "metadata": {
    "attributes": {
     "classes": [
      "javascript"
     ],
     "id": ""
    }
   },
   "outputs": [],
   "source": [
    "// bad\n",
    "const inherits = require('inherits');\n",
    "function PeekableQueue(contents) {\n",
    "  Queue.apply(this, contents);\n",
    "}\n",
    "inherits(PeekableQueue, Queue);\n",
    "PeekableQueue.prototype.peek = function() {\n",
    "  return this._queue[0];\n",
    "}\n",
    "\n",
    "// good\n",
    "class PeekableQueue extends Queue {\n",
    "  peek() {\n",
    "    return this._queue[0];\n",
    "  }\n",
    "}"
   ]
  },
  {
   "cell_type": "markdown",
   "id": "851d11d5",
   "metadata": {},
   "source": [
    "## 模块\n",
    "\n",
    "ES6 模块语法是 JavaScript 模块的标准写法，坚持使用这种写法，取代 Node.js 的 CommonJS 语法。\n",
    "\n",
    "首先，使用`import`取代`require()`。"
   ]
  },
  {
   "cell_type": "code",
   "execution_count": null,
   "id": "d1392c2a",
   "metadata": {
    "attributes": {
     "classes": [
      "javascript"
     ],
     "id": ""
    }
   },
   "outputs": [],
   "source": [
    "// CommonJS 的写法\n",
    "const moduleA = require('moduleA');\n",
    "const func1 = moduleA.func1;\n",
    "const func2 = moduleA.func2;\n",
    "\n",
    "// ES6 的写法\n",
    "import { func1, func2 } from 'moduleA';"
   ]
  },
  {
   "cell_type": "markdown",
   "id": "0f9d746d",
   "metadata": {},
   "source": [
    "其次，使用`export`取代`module.exports`。"
   ]
  },
  {
   "cell_type": "code",
   "execution_count": null,
   "id": "57ea4cf3",
   "metadata": {
    "attributes": {
     "classes": [
      "javascript"
     ],
     "id": ""
    }
   },
   "outputs": [],
   "source": [
    "// commonJS 的写法\n",
    "var React = require('react');\n",
    "\n",
    "var Breadcrumbs = React.createClass({\n",
    "  render() {\n",
    "    return <nav />;\n",
    "  }\n",
    "});\n",
    "\n",
    "module.exports = Breadcrumbs;\n",
    "\n",
    "// ES6 的写法\n",
    "import React from 'react';\n",
    "\n",
    "class Breadcrumbs extends React.Component {\n",
    "  render() {\n",
    "    return <nav />;\n",
    "  }\n",
    "};\n",
    "\n",
    "export default Breadcrumbs;"
   ]
  },
  {
   "cell_type": "markdown",
   "id": "d0bb3d13",
   "metadata": {},
   "source": [
    "如果模块只有一个输出值，就使用`export default`，如果模块有多个输出值，除非其中某个输出值特别重要，否则建议不要使用`export default`，即多个输出值如果是平等关系，`export default`与普通的`export`就不要同时使用。\n",
    "\n",
    "如果模块默认输出一个函数，函数名的首字母应该小写，表示这是一个工具方法。"
   ]
  },
  {
   "cell_type": "code",
   "execution_count": null,
   "id": "650ce563",
   "metadata": {
    "attributes": {
     "classes": [
      "javascript"
     ],
     "id": ""
    }
   },
   "outputs": [],
   "source": [
    "function makeStyleGuide() {\n",
    "}\n",
    "\n",
    "export default makeStyleGuide;"
   ]
  },
  {
   "cell_type": "markdown",
   "id": "d948842e",
   "metadata": {},
   "source": [
    "如果模块默认输出一个对象，对象名的首字母应该大写，表示这是一个配置值对象。"
   ]
  },
  {
   "cell_type": "code",
   "execution_count": null,
   "id": "7cf2725d",
   "metadata": {
    "attributes": {
     "classes": [
      "javascript"
     ],
     "id": ""
    }
   },
   "outputs": [],
   "source": [
    "const StyleGuide = {\n",
    "  es6: {\n",
    "  }\n",
    "};\n",
    "\n",
    "export default StyleGuide;"
   ]
  },
  {
   "cell_type": "markdown",
   "id": "70af88c3",
   "metadata": {},
   "source": [
    "## ESLint 的使用\n",
    "\n",
    "ESLint 是一个语法规则和代码风格的检查工具，可以用来保证写出语法正确、风格统一的代码。\n",
    "\n",
    "首先，在项目的根目录安装 ESLint。"
   ]
  },
  {
   "cell_type": "code",
   "execution_count": null,
   "id": "cf34a71b",
   "metadata": {},
   "outputs": [],
   "source": [
    "%%bash\n",
    "$ npm install --save-dev eslint"
   ]
  },
  {
   "cell_type": "markdown",
   "id": "2b55255b",
   "metadata": {},
   "source": [
    "然后，安装 Airbnb 语法规则，以及 import、a11y、react 插件。"
   ]
  },
  {
   "cell_type": "code",
   "execution_count": null,
   "id": "33cd3f9a",
   "metadata": {},
   "outputs": [],
   "source": [
    "%%bash\n",
    "$ npm install --save-dev eslint-config-airbnb\n",
    "$ npm install --save-dev eslint-plugin-import eslint-plugin-jsx-a11y eslint-plugin-react"
   ]
  },
  {
   "cell_type": "markdown",
   "id": "df3815ea",
   "metadata": {},
   "source": [
    "最后，在项目的根目录下新建一个`.eslintrc`文件，配置 ESLint。"
   ]
  },
  {
   "cell_type": "code",
   "execution_count": null,
   "id": "0fd5c296",
   "metadata": {
    "attributes": {
     "classes": [
      "javascript"
     ],
     "id": ""
    }
   },
   "outputs": [],
   "source": [
    "{\n",
    "  \"extends\": \"eslint-config-airbnb\"\n",
    "}"
   ]
  },
  {
   "cell_type": "markdown",
   "id": "52d8a36a",
   "metadata": {},
   "source": [
    "现在就可以检查，当前项目的代码是否符合预设的规则。\n",
    "\n",
    "`index.js`文件的代码如下。"
   ]
  },
  {
   "cell_type": "code",
   "execution_count": null,
   "id": "a04be735",
   "metadata": {
    "attributes": {
     "classes": [
      "javascript"
     ],
     "id": ""
    }
   },
   "outputs": [],
   "source": [
    "var unused = 'I have no purpose!';\n",
    "\n",
    "function greet() {\n",
    "    var message = 'Hello, World!';\n",
    "    console.log(message);\n",
    "}\n",
    "\n",
    "greet();"
   ]
  },
  {
   "cell_type": "markdown",
   "id": "8795218a",
   "metadata": {},
   "source": [
    "使用 ESLint 检查这个文件，就会报出错误。"
   ]
  },
  {
   "cell_type": "code",
   "execution_count": null,
   "id": "33308cac",
   "metadata": {},
   "outputs": [],
   "source": [
    "%%bash\n",
    "$ npx eslint index.js\n",
    "index.js\n",
    "  1:1  error  Unexpected var, use let or const instead          no-var\n",
    "  1:5  error  unused is defined but never used                 no-unused-vars\n",
    "  4:5  error  Expected indentation of 2 characters but found 4  indent\n",
    "  4:5  error  Unexpected var, use let or const instead          no-var\n",
    "  5:5  error  Expected indentation of 2 characters but found 4  indent\n",
    "\n",
    "✖ 5 problems (5 errors, 0 warnings)"
   ]
  },
  {
   "cell_type": "markdown",
   "id": "2fbf0d51",
   "metadata": {},
   "source": [
    "上面代码说明，原文件有五个错误，其中两个是不应该使用`var`命令，而要使用`let`或`const`；一个是定义了变量，却没有使用；另外两个是行首缩进为 4 个空格，而不是规定的 2 个空格。"
   ]
  }
 ],
 "metadata": {},
 "nbformat": 4,
 "nbformat_minor": 5
}

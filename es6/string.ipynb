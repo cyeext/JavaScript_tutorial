{
 "cells": [
  {
   "cell_type": "markdown",
   "id": "24a8b616",
   "metadata": {},
   "source": [
    "# 字符串的扩展\n",
    "\n",
    "本章介绍 ES6 对字符串的改造和增强，下一章介绍字符串对象的新增方法。\n",
    "\n",
    "## 字符的 Unicode 表示法\n",
    "\n",
    "ES6 加强了对 Unicode 的支持，允许采用`\\uxxxx`形式表示一个字符，其中`xxxx`表示字符的 Unicode 码点。"
   ]
  },
  {
   "cell_type": "code",
   "execution_count": null,
   "id": "31fa5f4b",
   "metadata": {
    "attributes": {
     "classes": [
      "javascript"
     ],
     "id": ""
    }
   },
   "outputs": [],
   "source": [
    "\"\\u0061\"\n",
    "// \"a\""
   ]
  },
  {
   "cell_type": "markdown",
   "id": "5e858489",
   "metadata": {},
   "source": [
    "但是，这种表示法只限于码点在`\\u0000`~`\\uFFFF`之间的字符。超出这个范围的字符，必须用两个双字节的形式表示。"
   ]
  },
  {
   "cell_type": "code",
   "execution_count": null,
   "id": "28d2dece",
   "metadata": {
    "attributes": {
     "classes": [
      "javascript"
     ],
     "id": ""
    }
   },
   "outputs": [],
   "source": [
    "\"\\uD842\\uDFB7\"\n",
    "// \"𠮷\"\n",
    "\n",
    "\"\\u20BB7\"\n",
    "// \" 7\""
   ]
  },
  {
   "cell_type": "markdown",
   "id": "9613bcdb",
   "metadata": {},
   "source": [
    "上面代码表示，如果直接在`\\u`后面跟上超过`0xFFFF`的数值（比如`\\u20BB7`），JavaScript 会理解成`\\u20BB+7`。由于`\\u20BB`是一个不可打印字符，所以只会显示一个空格，后面跟着一个`7`。\n",
    "\n",
    "ES6 对这一点做出了改进，只要将码点放入大括号，就能正确解读该字符。"
   ]
  },
  {
   "cell_type": "code",
   "execution_count": null,
   "id": "589c224f",
   "metadata": {
    "attributes": {
     "classes": [
      "javascript"
     ],
     "id": ""
    }
   },
   "outputs": [],
   "source": [
    "\"\\u{20BB7}\"\n",
    "// \"𠮷\"\n",
    "\n",
    "\"\\u{41}\\u{42}\\u{43}\"\n",
    "// \"ABC\"\n",
    "\n",
    "let hello = 123;\n",
    "hell\\u{6F} // 123\n",
    "\n",
    "'\\u{1F680}' === '\\uD83D\\uDE80'\n",
    "// true"
   ]
  },
  {
   "cell_type": "markdown",
   "id": "7f14e091",
   "metadata": {},
   "source": [
    "上面代码中，最后一个例子表明，大括号表示法与四字节的 UTF-16 编码是等价的。\n",
    "\n",
    "有了这种表示法之后，JavaScript 共有 6 种方法可以表示一个字符。"
   ]
  },
  {
   "cell_type": "code",
   "execution_count": null,
   "id": "6827cb7a",
   "metadata": {
    "attributes": {
     "classes": [
      "javascript"
     ],
     "id": ""
    }
   },
   "outputs": [],
   "source": [
    "'\\z' === 'z'  // true\n",
    "'\\172' === 'z' // true\n",
    "'\\x7A' === 'z' // true\n",
    "'\\u007A' === 'z' // true\n",
    "'\\u{7A}' === 'z' // true"
   ]
  },
  {
   "cell_type": "markdown",
   "id": "c7194e16",
   "metadata": {},
   "source": [
    "## 字符串的遍历器接口\n",
    "\n",
    "ES6 为字符串添加了遍历器接口（详见《Iterator》一章），使得字符串可以被`for...of`循环遍历。"
   ]
  },
  {
   "cell_type": "code",
   "execution_count": null,
   "id": "b924adec",
   "metadata": {
    "attributes": {
     "classes": [
      "javascript"
     ],
     "id": ""
    }
   },
   "outputs": [],
   "source": [
    "for (let codePoint of 'foo') {\n",
    "  console.log(codePoint)\n",
    "}\n",
    "// \"f\"\n",
    "// \"o\"\n",
    "// \"o\""
   ]
  },
  {
   "cell_type": "markdown",
   "id": "c29da7bd",
   "metadata": {},
   "source": [
    "除了遍历字符串，这个遍历器最大的优点是可以识别大于`0xFFFF`的码点，传统的`for`循环无法识别这样的码点。"
   ]
  },
  {
   "cell_type": "code",
   "execution_count": null,
   "id": "596f22b5",
   "metadata": {
    "attributes": {
     "classes": [
      "javascript"
     ],
     "id": ""
    }
   },
   "outputs": [],
   "source": [
    "let text = String.fromCodePoint(0x20BB7);\n",
    "\n",
    "for (let i = 0; i < text.length; i++) {\n",
    "  console.log(text[i]);\n",
    "}\n",
    "// \" \"\n",
    "// \" \"\n",
    "\n",
    "for (let i of text) {\n",
    "  console.log(i);\n",
    "}\n",
    "// \"𠮷\""
   ]
  },
  {
   "cell_type": "markdown",
   "id": "cc434e49",
   "metadata": {},
   "source": [
    "上面代码中，字符串`text`只有一个字符，但是`for`循环会认为它包含两个字符（都不可打印），而`for...of`循环会正确识别出这一个字符。\n",
    "\n",
    "## 直接输入 U+2028 和 U+2029\n",
    "\n",
    "JavaScript 字符串允许直接输入字符，以及输入字符的转义形式。举例来说，“中”的 Unicode 码点是 U+4e2d，你可以直接在字符串里面输入这个汉字，也可以输入它的转义形式`\\u4e2d`，两者是等价的。"
   ]
  },
  {
   "cell_type": "code",
   "execution_count": null,
   "id": "101fa613",
   "metadata": {
    "attributes": {
     "classes": [
      "javascript"
     ],
     "id": ""
    }
   },
   "outputs": [],
   "source": [
    "'中' === '\\u4e2d' // true"
   ]
  },
  {
   "cell_type": "markdown",
   "id": "daaa9c7b",
   "metadata": {},
   "source": [
    "但是，JavaScript 规定有5个字符，不能在字符串里面直接使用，只能使用转义形式。\n",
    "\n",
    "- U+005C：反斜杠（reverse solidus)\n",
    "- U+000D：回车（carriage return）\n",
    "- U+2028：行分隔符（line separator）\n",
    "- U+2029：段分隔符（paragraph separator）\n",
    "- U+000A：换行符（line feed）\n",
    "\n",
    "举例来说，字符串里面不能直接包含反斜杠，一定要转义写成`\\\\`或者`\\u005c`。\n",
    "\n",
    "这个规定本身没有问题，麻烦在于 JSON 格式允许字符串里面直接使用 U+2028（行分隔符）和 U+2029（段分隔符）。这样一来，服务器输出的 JSON 被`JSON.parse`解析，就有可能直接报错。"
   ]
  },
  {
   "cell_type": "code",
   "execution_count": null,
   "id": "6ddab222",
   "metadata": {
    "attributes": {
     "classes": [
      "javascript"
     ],
     "id": ""
    }
   },
   "outputs": [],
   "source": [
    "const json = '\"\\u2028\"';\n",
    "JSON.parse(json); // 可能报错"
   ]
  },
  {
   "cell_type": "markdown",
   "id": "7faaff1b",
   "metadata": {},
   "source": [
    "JSON 格式已经冻结（RFC 7159），没法修改了。为了消除这个报错，[ES2019](https://github.com/tc39/proposal-json-superset) 允许 JavaScript 字符串直接输入 U+2028（行分隔符）和 U+2029（段分隔符）。"
   ]
  },
  {
   "cell_type": "code",
   "execution_count": null,
   "id": "7d7ec14e",
   "metadata": {
    "attributes": {
     "classes": [
      "javascript"
     ],
     "id": ""
    }
   },
   "outputs": [],
   "source": [
    "const PS = eval(\"'\\u2029'\");"
   ]
  },
  {
   "cell_type": "markdown",
   "id": "e4f0ba8d",
   "metadata": {},
   "source": [
    "根据这个提案，上面的代码不会报错。\n",
    "\n",
    "注意，模板字符串现在就允许直接输入这两个字符。另外，正则表达式依然不允许直接输入这两个字符，这是没有问题的，因为 JSON 本来就不允许直接包含正则表达式。\n",
    "\n",
    "## JSON.stringify() 的改造\n",
    "\n",
    "根据标准，JSON 数据必须是 UTF-8 编码。但是，现在的`JSON.stringify()`方法有可能返回不符合 UTF-8 标准的字符串。\n",
    "\n",
    "具体来说，UTF-8 标准规定，`0xD800`到`0xDFFF`之间的码点，不能单独使用，必须配对使用。比如，`\\uD834\\uDF06`是两个码点，但是必须放在一起配对使用，代表字符`𝌆`。这是为了表示码点大于`0xFFFF`的字符的一种变通方法。单独使用`\\uD834`和`\\uDF06`这两个码点是不合法的，或者颠倒顺序也不行，因为`\\uDF06\\uD834`并没有对应的字符。\n",
    "\n",
    "`JSON.stringify()`的问题在于，它可能返回`0xD800`到`0xDFFF`之间的单个码点。"
   ]
  },
  {
   "cell_type": "code",
   "execution_count": null,
   "id": "d7612c2e",
   "metadata": {
    "attributes": {
     "classes": [
      "javascript"
     ],
     "id": ""
    }
   },
   "outputs": [],
   "source": [
    "JSON.stringify('\\u{D834}') // \"\\u{D834}\""
   ]
  },
  {
   "cell_type": "markdown",
   "id": "c3dff150",
   "metadata": {},
   "source": [
    "为了确保返回的是合法的 UTF-8 字符，[ES2019](https://github.com/tc39/proposal-well-formed-stringify) 改变了`JSON.stringify()`的行为。如果遇到`0xD800`到`0xDFFF`之间的单个码点，或者不存在的配对形式，它会返回转义字符串，留给应用自己决定下一步的处理。"
   ]
  },
  {
   "cell_type": "code",
   "execution_count": null,
   "id": "ec6e850e",
   "metadata": {
    "attributes": {
     "classes": [
      "javascript"
     ],
     "id": ""
    }
   },
   "outputs": [],
   "source": [
    "JSON.stringify('\\u{D834}') // \"\"\\\\uD834\"\"\n",
    "JSON.stringify('\\uDF06\\uD834') // \"\"\\\\udf06\\\\ud834\"\""
   ]
  },
  {
   "cell_type": "markdown",
   "id": "6b7c5628",
   "metadata": {},
   "source": [
    "## 模板字符串\n",
    "\n",
    "传统的 JavaScript 语言，输出模板通常是这样写的（下面使用了 jQuery 的方法）。"
   ]
  },
  {
   "cell_type": "code",
   "execution_count": null,
   "id": "1e7adcb6",
   "metadata": {
    "attributes": {
     "classes": [
      "javascript"
     ],
     "id": ""
    }
   },
   "outputs": [],
   "source": [
    "$('#result').append(\n",
    "  'There are <b>' + basket.count + '</b> ' +\n",
    "  'items in your basket, ' +\n",
    "  '<em>' + basket.onSale +\n",
    "  '</em> are on sale!'\n",
    ");"
   ]
  },
  {
   "cell_type": "markdown",
   "id": "af1b0549",
   "metadata": {},
   "source": [
    "上面这种写法相当繁琐不方便，ES6 引入了模板字符串解决这个问题。"
   ]
  },
  {
   "cell_type": "code",
   "execution_count": null,
   "id": "7b1f4dca",
   "metadata": {
    "attributes": {
     "classes": [
      "javascript"
     ],
     "id": ""
    }
   },
   "outputs": [],
   "source": [
    "$('#result').append(`\n",
    "  There are <b>${basket.count}</b> items\n",
    "   in your basket, <em>${basket.onSale}</em>\n",
    "  are on sale!\n",
    "`);"
   ]
  },
  {
   "cell_type": "markdown",
   "id": "eaf1a478",
   "metadata": {},
   "source": [
    "模板字符串（template string）是增强版的字符串，用反引号（&#96;）标识。它可以当作普通字符串使用，也可以用来定义多行字符串，或者在字符串中嵌入变量。"
   ]
  },
  {
   "cell_type": "code",
   "execution_count": null,
   "id": "bd4991f9",
   "metadata": {
    "attributes": {
     "classes": [
      "javascript"
     ],
     "id": ""
    }
   },
   "outputs": [],
   "source": [
    "// 普通字符串\n",
    "`In JavaScript '\\n' is a line-feed.`\n",
    "\n",
    "// 多行字符串\n",
    "`In JavaScript this is\n",
    " not legal.`\n",
    "\n",
    "console.log(`string text line 1\n",
    "string text line 2`);\n",
    "\n",
    "// 字符串中嵌入变量\n",
    "let name = \"Bob\", time = \"today\";\n",
    "`Hello ${name}, how are you ${time}?`"
   ]
  },
  {
   "cell_type": "markdown",
   "id": "a176869f",
   "metadata": {},
   "source": [
    "上面代码中的模板字符串，都是用反引号表示。如果在模板字符串中需要使用反引号，则前面要用反斜杠转义。"
   ]
  },
  {
   "cell_type": "code",
   "execution_count": null,
   "id": "fdbb0a92",
   "metadata": {
    "attributes": {
     "classes": [
      "javascript"
     ],
     "id": ""
    }
   },
   "outputs": [],
   "source": [
    "let greeting = `\\`Yo\\` World!`;"
   ]
  },
  {
   "cell_type": "markdown",
   "id": "240ce20e",
   "metadata": {},
   "source": [
    "如果使用模板字符串表示多行字符串，所有的空格和缩进都会被保留在输出之中。"
   ]
  },
  {
   "cell_type": "code",
   "execution_count": null,
   "id": "b16457ab",
   "metadata": {
    "attributes": {
     "classes": [
      "javascript"
     ],
     "id": ""
    }
   },
   "outputs": [],
   "source": [
    "$('#list').html(`\n",
    "<ul>\n",
    "  <li>first</li>\n",
    "  <li>second</li>\n",
    "</ul>\n",
    "`);"
   ]
  },
  {
   "cell_type": "markdown",
   "id": "10c76dfa",
   "metadata": {},
   "source": [
    "上面代码中，所有模板字符串的空格和换行，都是被保留的，比如`<ul>`标签前面会有一个换行。如果你不想要这个换行，可以使用`trim`方法消除它。"
   ]
  },
  {
   "cell_type": "code",
   "execution_count": null,
   "id": "fb231dd9",
   "metadata": {
    "attributes": {
     "classes": [
      "javascript"
     ],
     "id": ""
    }
   },
   "outputs": [],
   "source": [
    "$('#list').html(`\n",
    "<ul>\n",
    "  <li>first</li>\n",
    "  <li>second</li>\n",
    "</ul>\n",
    "`.trim());"
   ]
  },
  {
   "cell_type": "markdown",
   "id": "6f7ef9f5",
   "metadata": {},
   "source": [
    "模板字符串中嵌入变量，需要将变量名写在`${}`之中。"
   ]
  },
  {
   "cell_type": "code",
   "execution_count": null,
   "id": "e2b39384",
   "metadata": {
    "attributes": {
     "classes": [
      "javascript"
     ],
     "id": ""
    }
   },
   "outputs": [],
   "source": [
    "function authorize(user, action) {\n",
    "  if (!user.hasPrivilege(action)) {\n",
    "    throw new Error(\n",
    "      // 传统写法为\n",
    "      // 'User '\n",
    "      // + user.name\n",
    "      // + ' is not authorized to do '\n",
    "      // + action\n",
    "      // + '.'\n",
    "      `User ${user.name} is not authorized to do ${action}.`);\n",
    "  }\n",
    "}"
   ]
  },
  {
   "cell_type": "markdown",
   "id": "3c7efe9c",
   "metadata": {},
   "source": [
    "大括号内部可以放入任意的 JavaScript 表达式，可以进行运算，以及引用对象属性。"
   ]
  },
  {
   "cell_type": "code",
   "execution_count": null,
   "id": "6e883a6a",
   "metadata": {
    "attributes": {
     "classes": [
      "javascript"
     ],
     "id": ""
    }
   },
   "outputs": [],
   "source": [
    "let x = 1;\n",
    "let y = 2;\n",
    "\n",
    "`${x} + ${y} = ${x + y}`\n",
    "// \"1 + 2 = 3\"\n",
    "\n",
    "`${x} + ${y * 2} = ${x + y * 2}`\n",
    "// \"1 + 4 = 5\"\n",
    "\n",
    "let obj = {x: 1, y: 2};\n",
    "`${obj.x + obj.y}`\n",
    "// \"3\""
   ]
  },
  {
   "cell_type": "markdown",
   "id": "678b05ae",
   "metadata": {},
   "source": [
    "模板字符串之中还能调用函数。"
   ]
  },
  {
   "cell_type": "code",
   "execution_count": null,
   "id": "6465296b",
   "metadata": {
    "attributes": {
     "classes": [
      "javascript"
     ],
     "id": ""
    }
   },
   "outputs": [],
   "source": [
    "function fn() {\n",
    "  return \"Hello World\";\n",
    "}\n",
    "\n",
    "`foo ${fn()} bar`\n",
    "// foo Hello World bar"
   ]
  },
  {
   "cell_type": "markdown",
   "id": "f5295189",
   "metadata": {},
   "source": [
    "如果大括号中的值不是字符串，将按照一般的规则转为字符串。比如，大括号中是一个对象，将默认调用对象的`toString`方法。\n",
    "\n",
    "如果模板字符串中的变量没有声明，将报错。"
   ]
  },
  {
   "cell_type": "code",
   "execution_count": null,
   "id": "03af9dd3",
   "metadata": {
    "attributes": {
     "classes": [
      "javascript"
     ],
     "id": ""
    }
   },
   "outputs": [],
   "source": [
    "// 变量place没有声明\n",
    "let msg = `Hello, ${place}`;\n",
    "// 报错"
   ]
  },
  {
   "cell_type": "markdown",
   "id": "01987b15",
   "metadata": {},
   "source": [
    "由于模板字符串的大括号内部，就是执行 JavaScript 代码，因此如果大括号内部是一个字符串，将会原样输出。"
   ]
  },
  {
   "cell_type": "code",
   "execution_count": null,
   "id": "1c132ef3",
   "metadata": {
    "attributes": {
     "classes": [
      "javascript"
     ],
     "id": ""
    }
   },
   "outputs": [],
   "source": [
    "`Hello ${'World'}`\n",
    "// \"Hello World\""
   ]
  },
  {
   "cell_type": "markdown",
   "id": "4874e3bb",
   "metadata": {},
   "source": [
    "模板字符串甚至还能嵌套。"
   ]
  },
  {
   "cell_type": "code",
   "execution_count": null,
   "id": "26cabeee",
   "metadata": {
    "attributes": {
     "classes": [
      "javascript"
     ],
     "id": ""
    }
   },
   "outputs": [],
   "source": [
    "const tmpl = addrs => `\n",
    "  <table>\n",
    "  ${addrs.map(addr => `\n",
    "    <tr><td>${addr.first}</td></tr>\n",
    "    <tr><td>${addr.last}</td></tr>\n",
    "  `).join('')}\n",
    "  </table>\n",
    "`;"
   ]
  },
  {
   "cell_type": "markdown",
   "id": "b3f62847",
   "metadata": {},
   "source": [
    "上面代码中，模板字符串的变量之中，又嵌入了另一个模板字符串，使用方法如下。"
   ]
  },
  {
   "cell_type": "code",
   "execution_count": null,
   "id": "6af11b2c",
   "metadata": {
    "attributes": {
     "classes": [
      "javascript"
     ],
     "id": ""
    }
   },
   "outputs": [],
   "source": [
    "const data = [\n",
    "    { first: '<Jane>', last: 'Bond' },\n",
    "    { first: 'Lars', last: '<Croft>' },\n",
    "];\n",
    "\n",
    "console.log(tmpl(data));\n",
    "// <table>\n",
    "//\n",
    "//   <tr><td><Jane></td></tr>\n",
    "//   <tr><td>Bond</td></tr>\n",
    "//\n",
    "//   <tr><td>Lars</td></tr>\n",
    "//   <tr><td><Croft></td></tr>\n",
    "//\n",
    "// </table>"
   ]
  },
  {
   "cell_type": "markdown",
   "id": "6b0ec520",
   "metadata": {},
   "source": [
    "如果需要引用模板字符串本身，在需要时执行，可以写成函数。"
   ]
  },
  {
   "cell_type": "code",
   "execution_count": null,
   "id": "9c3c0f78",
   "metadata": {
    "attributes": {
     "classes": [
      "javascript"
     ],
     "id": ""
    }
   },
   "outputs": [],
   "source": [
    "let func = (name) => `Hello ${name}!`;\n",
    "func('Jack') // \"Hello Jack!\""
   ]
  },
  {
   "cell_type": "markdown",
   "id": "a8370ce1",
   "metadata": {},
   "source": [
    "上面代码中，模板字符串写成了一个函数的返回值。执行这个函数，就相当于执行这个模板字符串了。\n",
    "\n",
    "## 实例：模板编译\n",
    "\n",
    "下面，我们来看一个通过模板字符串，生成正式模板的实例。"
   ]
  },
  {
   "cell_type": "code",
   "execution_count": null,
   "id": "2fb4e5f6",
   "metadata": {
    "attributes": {
     "classes": [
      "javascript"
     ],
     "id": ""
    }
   },
   "outputs": [],
   "source": [
    "let template = `\n",
    "<ul>\n",
    "  <% for(let i=0; i < data.supplies.length; i++) { %>\n",
    "    <li><%= data.supplies[i] %></li>\n",
    "  <% } %>\n",
    "</ul>\n",
    "`;"
   ]
  },
  {
   "cell_type": "markdown",
   "id": "9f2ff617",
   "metadata": {},
   "source": [
    "上面代码在模板字符串之中，放置了一个常规模板。该模板使用`<%...%>`放置 JavaScript 代码，使用`<%= ... %>`输出 JavaScript 表达式。\n",
    "\n",
    "怎么编译这个模板字符串呢？\n",
    "\n",
    "一种思路是将其转换为 JavaScript 表达式字符串。"
   ]
  },
  {
   "cell_type": "code",
   "execution_count": null,
   "id": "16860386",
   "metadata": {
    "attributes": {
     "classes": [
      "javascript"
     ],
     "id": ""
    }
   },
   "outputs": [],
   "source": [
    "echo('<ul>');\n",
    "for(let i=0; i < data.supplies.length; i++) {\n",
    "  echo('<li>');\n",
    "  echo(data.supplies[i]);\n",
    "  echo('</li>');\n",
    "};\n",
    "echo('</ul>');"
   ]
  },
  {
   "cell_type": "markdown",
   "id": "bf27c506",
   "metadata": {},
   "source": [
    "这个转换使用正则表达式就行了。"
   ]
  },
  {
   "cell_type": "code",
   "execution_count": null,
   "id": "3f48e833",
   "metadata": {
    "attributes": {
     "classes": [
      "javascript"
     ],
     "id": ""
    }
   },
   "outputs": [],
   "source": [
    "let evalExpr = /<%=(.+?)%>/g;\n",
    "let expr = /<%([\\s\\S]+?)%>/g;\n",
    "\n",
    "template = template\n",
    "  .replace(evalExpr, '`); \\n  echo( $1 ); \\n  echo(`')\n",
    "  .replace(expr, '`); \\n $1 \\n  echo(`');\n",
    "\n",
    "template = 'echo(`' + template + '`);';"
   ]
  },
  {
   "cell_type": "markdown",
   "id": "89323a18",
   "metadata": {},
   "source": [
    "然后，将`template`封装在一个函数里面返回，就可以了。"
   ]
  },
  {
   "cell_type": "code",
   "execution_count": null,
   "id": "990d8be3",
   "metadata": {
    "attributes": {
     "classes": [
      "javascript"
     ],
     "id": ""
    }
   },
   "outputs": [],
   "source": [
    "let script =\n",
    "`(function parse(data){\n",
    "  let output = \"\";\n",
    "\n",
    "  function echo(html){\n",
    "    output += html;\n",
    "  }\n",
    "\n",
    "  ${ template }\n",
    "\n",
    "  return output;\n",
    "})`;\n",
    "\n",
    "return script;"
   ]
  },
  {
   "cell_type": "markdown",
   "id": "477c3f30",
   "metadata": {},
   "source": [
    "将上面的内容拼装成一个模板编译函数`compile`。"
   ]
  },
  {
   "cell_type": "code",
   "execution_count": null,
   "id": "167da425",
   "metadata": {
    "attributes": {
     "classes": [
      "javascript"
     ],
     "id": ""
    }
   },
   "outputs": [],
   "source": [
    "function compile(template){\n",
    "  const evalExpr = /<%=(.+?)%>/g;\n",
    "  const expr = /<%([\\s\\S]+?)%>/g;\n",
    "\n",
    "  template = template\n",
    "    .replace(evalExpr, '`); \\n  echo( $1 ); \\n  echo(`')\n",
    "    .replace(expr, '`); \\n $1 \\n  echo(`');\n",
    "\n",
    "  template = 'echo(`' + template + '`);';\n",
    "\n",
    "  let script =\n",
    "  `(function parse(data){\n",
    "    let output = \"\";\n",
    "\n",
    "    function echo(html){\n",
    "      output += html;\n",
    "    }\n",
    "\n",
    "    ${ template }\n",
    "\n",
    "    return output;\n",
    "  })`;\n",
    "\n",
    "  return script;\n",
    "}"
   ]
  },
  {
   "cell_type": "markdown",
   "id": "acc98ada",
   "metadata": {},
   "source": [
    "`compile`函数的用法如下。"
   ]
  },
  {
   "cell_type": "code",
   "execution_count": null,
   "id": "5da82739",
   "metadata": {
    "attributes": {
     "classes": [
      "javascript"
     ],
     "id": ""
    }
   },
   "outputs": [],
   "source": [
    "let parse = eval(compile(template));\n",
    "div.innerHTML = parse({ supplies: [ \"broom\", \"mop\", \"cleaner\" ] });\n",
    "//   <ul>\n",
    "//     <li>broom</li>\n",
    "//     <li>mop</li>\n",
    "//     <li>cleaner</li>\n",
    "//   </ul>"
   ]
  },
  {
   "cell_type": "markdown",
   "id": "3d8c30e5",
   "metadata": {},
   "source": [
    "## 标签模板\n",
    "\n",
    "模板字符串的功能，不仅仅是上面这些。它可以紧跟在一个函数名后面，该函数将被调用来处理这个模板字符串。这被称为“标签模板”功能（tagged template）。"
   ]
  },
  {
   "cell_type": "code",
   "execution_count": null,
   "id": "99462e00",
   "metadata": {
    "attributes": {
     "classes": [
      "javascript"
     ],
     "id": ""
    }
   },
   "outputs": [],
   "source": [
    "alert`hello`\n",
    "// 等同于\n",
    "alert(['hello'])"
   ]
  },
  {
   "cell_type": "markdown",
   "id": "e286a93b",
   "metadata": {},
   "source": [
    "标签模板其实不是模板，而是函数调用的一种特殊形式。“标签”指的就是函数，紧跟在后面的模板字符串就是它的参数。\n",
    "\n",
    "但是，如果模板字符里面有变量，就不是简单的调用了，而是会将模板字符串先处理成多个参数，再调用函数。"
   ]
  },
  {
   "cell_type": "code",
   "execution_count": null,
   "id": "ebd1c8dd",
   "metadata": {
    "attributes": {
     "classes": [
      "javascript"
     ],
     "id": ""
    }
   },
   "outputs": [],
   "source": [
    "let a = 5;\n",
    "let b = 10;\n",
    "\n",
    "tag`Hello ${ a + b } world ${ a * b }`;\n",
    "// 等同于\n",
    "tag(['Hello ', ' world ', ''], 15, 50);"
   ]
  },
  {
   "cell_type": "markdown",
   "id": "43480f60",
   "metadata": {},
   "source": [
    "上面代码中，模板字符串前面有一个标识名`tag`，它是一个函数。整个表达式的返回值，就是`tag`函数处理模板字符串后的返回值。\n",
    "\n",
    "函数`tag`依次会接收到多个参数。"
   ]
  },
  {
   "cell_type": "code",
   "execution_count": null,
   "id": "f4a047f1",
   "metadata": {
    "attributes": {
     "classes": [
      "javascript"
     ],
     "id": ""
    }
   },
   "outputs": [],
   "source": [
    "function tag(stringArr, value1, value2){\n",
    "  // ...\n",
    "}\n",
    "\n",
    "// 等同于\n",
    "\n",
    "function tag(stringArr, ...values){\n",
    "  // ...\n",
    "}"
   ]
  },
  {
   "cell_type": "markdown",
   "id": "9f365269",
   "metadata": {},
   "source": [
    "`tag`函数的第一个参数是一个数组，该数组的成员是模板字符串中那些没有变量替换的部分，也就是说，变量替换只发生在数组的第一个成员与第二个成员之间、第二个成员与第三个成员之间，以此类推。\n",
    "\n",
    "`tag`函数的其他参数，都是模板字符串各个变量被替换后的值。由于本例中，模板字符串含有两个变量，因此`tag`会接受到`value1`和`value2`两个参数。\n",
    "\n",
    "`tag`函数所有参数的实际值如下。\n",
    "\n",
    "- 第一个参数：`['Hello ', ' world ', '']`\n",
    "- 第二个参数: 15\n",
    "- 第三个参数：50\n",
    "\n",
    "也就是说，`tag`函数实际上以下面的形式调用。"
   ]
  },
  {
   "cell_type": "code",
   "execution_count": null,
   "id": "671519b4",
   "metadata": {
    "attributes": {
     "classes": [
      "javascript"
     ],
     "id": ""
    }
   },
   "outputs": [],
   "source": [
    "tag(['Hello ', ' world ', ''], 15, 50)"
   ]
  },
  {
   "cell_type": "markdown",
   "id": "d137a74c",
   "metadata": {},
   "source": [
    "我们可以按照需要编写`tag`函数的代码。下面是`tag`函数的一种写法，以及运行结果。"
   ]
  },
  {
   "cell_type": "code",
   "execution_count": null,
   "id": "546f402f",
   "metadata": {
    "attributes": {
     "classes": [
      "javascript"
     ],
     "id": ""
    }
   },
   "outputs": [],
   "source": [
    "let a = 5;\n",
    "let b = 10;\n",
    "\n",
    "function tag(s, v1, v2) {\n",
    "  console.log(s[0]);\n",
    "  console.log(s[1]);\n",
    "  console.log(s[2]);\n",
    "  console.log(v1);\n",
    "  console.log(v2);\n",
    "\n",
    "  return \"OK\";\n",
    "}\n",
    "\n",
    "tag`Hello ${ a + b } world ${ a * b}`;\n",
    "// \"Hello \"\n",
    "// \" world \"\n",
    "// \"\"\n",
    "// 15\n",
    "// 50\n",
    "// \"OK\""
   ]
  },
  {
   "cell_type": "markdown",
   "id": "a1d89aa3",
   "metadata": {},
   "source": [
    "下面是一个更复杂的例子。"
   ]
  },
  {
   "cell_type": "code",
   "execution_count": null,
   "id": "5e67e0b1",
   "metadata": {
    "attributes": {
     "classes": [
      "javascript"
     ],
     "id": ""
    }
   },
   "outputs": [],
   "source": [
    "let total = 30;\n",
    "let msg = passthru`The total is ${total} (${total*1.05} with tax)`;\n",
    "\n",
    "function passthru(literals) {\n",
    "  let result = '';\n",
    "  let i = 0;\n",
    "\n",
    "  while (i < literals.length) {\n",
    "    result += literals[i++];\n",
    "    if (i < arguments.length) {\n",
    "      result += arguments[i];\n",
    "    }\n",
    "  }\n",
    "\n",
    "  return result;\n",
    "}\n",
    "\n",
    "msg // \"The total is 30 (31.5 with tax)\""
   ]
  },
  {
   "cell_type": "markdown",
   "id": "cab78ea8",
   "metadata": {},
   "source": [
    "上面这个例子展示了，如何将各个参数按照原来的位置拼合回去。\n",
    "\n",
    "`passthru`函数采用 rest 参数的写法如下。"
   ]
  },
  {
   "cell_type": "code",
   "execution_count": null,
   "id": "d8a6c8f6",
   "metadata": {
    "attributes": {
     "classes": [
      "javascript"
     ],
     "id": ""
    }
   },
   "outputs": [],
   "source": [
    "function passthru(literals, ...values) {\n",
    "  let output = \"\";\n",
    "  let index;\n",
    "  for (index = 0; index < values.length; index++) {\n",
    "    output += literals[index] + values[index];\n",
    "  }\n",
    "\n",
    "  output += literals[index]\n",
    "  return output;\n",
    "}"
   ]
  },
  {
   "cell_type": "markdown",
   "id": "5dc0a795",
   "metadata": {},
   "source": [
    "“标签模板”的一个重要应用，就是过滤 HTML 字符串，防止用户输入恶意内容。"
   ]
  },
  {
   "cell_type": "code",
   "execution_count": null,
   "id": "c2900e03",
   "metadata": {
    "attributes": {
     "classes": [
      "javascript"
     ],
     "id": ""
    }
   },
   "outputs": [],
   "source": [
    "let message =\n",
    "  SaferHTML`<p>${sender} has sent you a message.</p>`;\n",
    "\n",
    "function SaferHTML(templateData) {\n",
    "  let s = templateData[0];\n",
    "  for (let i = 1; i < arguments.length; i++) {\n",
    "    let arg = String(arguments[i]);\n",
    "\n",
    "    // Escape special characters in the substitution.\n",
    "    s += arg.replace(/&/g, \"&amp;\")\n",
    "            .replace(/</g, \"&lt;\")\n",
    "            .replace(/>/g, \"&gt;\");\n",
    "\n",
    "    // Don't escape special characters in the template.\n",
    "    s += templateData[i];\n",
    "  }\n",
    "  return s;\n",
    "}"
   ]
  },
  {
   "cell_type": "markdown",
   "id": "4573cb4a",
   "metadata": {},
   "source": [
    "上面代码中，`sender`变量往往是用户提供的，经过`SaferHTML`函数处理，里面的特殊字符都会被转义。"
   ]
  },
  {
   "cell_type": "code",
   "execution_count": null,
   "id": "68dcd1f8",
   "metadata": {
    "attributes": {
     "classes": [
      "javascript"
     ],
     "id": ""
    }
   },
   "outputs": [],
   "source": [
    "let sender = '<script>alert(\"abc\")</script>'; // 恶意代码\n",
    "let message = SaferHTML`<p>${sender} has sent you a message.</p>`;\n",
    "\n",
    "message\n",
    "// <p>&lt;script&gt;alert(\"abc\")&lt;/script&gt; has sent you a message.</p>"
   ]
  },
  {
   "cell_type": "markdown",
   "id": "cb5164cb",
   "metadata": {},
   "source": [
    "标签模板的另一个应用，就是多语言转换（国际化处理）。"
   ]
  },
  {
   "cell_type": "code",
   "execution_count": null,
   "id": "dcba5ef3",
   "metadata": {
    "attributes": {
     "classes": [
      "javascript"
     ],
     "id": ""
    }
   },
   "outputs": [],
   "source": [
    "i18n`Welcome to ${siteName}, you are visitor number ${visitorNumber}!`\n",
    "// \"欢迎访问xxx，您是第xxxx位访问者！\""
   ]
  },
  {
   "cell_type": "markdown",
   "id": "e0fbef48",
   "metadata": {},
   "source": [
    "模板字符串本身并不能取代 Mustache 之类的模板库，因为没有条件判断和循环处理功能，但是通过标签函数，你可以自己添加这些功能。"
   ]
  },
  {
   "cell_type": "code",
   "execution_count": null,
   "id": "b85a3d17",
   "metadata": {
    "attributes": {
     "classes": [
      "javascript"
     ],
     "id": ""
    }
   },
   "outputs": [],
   "source": [
    "// 下面的hashTemplate函数\n",
    "// 是一个自定义的模板处理函数\n",
    "let libraryHtml = hashTemplate`\n",
    "  <ul>\n",
    "    #for book in ${myBooks}\n",
    "      <li><i>#{book.title}</i> by #{book.author}</li>\n",
    "    #end\n",
    "  </ul>\n",
    "`;"
   ]
  },
  {
   "cell_type": "markdown",
   "id": "f2bdd5ca",
   "metadata": {},
   "source": [
    "除此之外，你甚至可以使用标签模板，在 JavaScript 语言之中嵌入其他语言。"
   ]
  },
  {
   "cell_type": "code",
   "execution_count": null,
   "id": "f3c9c325",
   "metadata": {
    "attributes": {
     "classes": [
      "javascript"
     ],
     "id": ""
    }
   },
   "outputs": [],
   "source": [
    "jsx`\n",
    "  <div>\n",
    "    <input\n",
    "      ref='input'\n",
    "      onChange='${this.handleChange}'\n",
    "      defaultValue='${this.state.value}' />\n",
    "      ${this.state.value}\n",
    "   </div>\n",
    "`"
   ]
  },
  {
   "cell_type": "markdown",
   "id": "d2e58d29",
   "metadata": {},
   "source": [
    "上面的代码通过`jsx`函数，将一个 DOM 字符串转为 React 对象。你可以在 GitHub 找到`jsx`函数的[具体实现](https://gist.github.com/lygaret/a68220defa69174bdec5)。\n",
    "\n",
    "下面则是一个假想的例子，通过`java`函数，在 JavaScript 代码之中运行 Java 代码。"
   ]
  },
  {
   "cell_type": "code",
   "execution_count": null,
   "id": "a7ab7f75",
   "metadata": {
    "attributes": {
     "classes": [
      "javascript"
     ],
     "id": ""
    }
   },
   "outputs": [],
   "source": [
    "java`\n",
    "class HelloWorldApp {\n",
    "  public static void main(String[] args) {\n",
    "    System.out.println(\"Hello World!\"); // Display the string.\n",
    "  }\n",
    "}\n",
    "`\n",
    "HelloWorldApp.main();"
   ]
  },
  {
   "cell_type": "markdown",
   "id": "934ce4ff",
   "metadata": {},
   "source": [
    "模板处理函数的第一个参数（模板字符串数组），还有一个`raw`属性。"
   ]
  },
  {
   "cell_type": "code",
   "execution_count": null,
   "id": "9f5ce659",
   "metadata": {
    "attributes": {
     "classes": [
      "javascript"
     ],
     "id": ""
    }
   },
   "outputs": [],
   "source": [
    "console.log`123`\n",
    "// [\"123\", raw: Array[1]]"
   ]
  },
  {
   "cell_type": "markdown",
   "id": "6163b732",
   "metadata": {},
   "source": [
    "上面代码中，`console.log`接受的参数，实际上是一个数组。该数组有一个`raw`属性，保存的是转义后的原字符串。\n",
    "\n",
    "请看下面的例子。"
   ]
  },
  {
   "cell_type": "code",
   "execution_count": null,
   "id": "716f7e62",
   "metadata": {
    "attributes": {
     "classes": [
      "javascript"
     ],
     "id": ""
    }
   },
   "outputs": [],
   "source": [
    "tag`First line\\nSecond line`\n",
    "\n",
    "function tag(strings) {\n",
    "  console.log(strings.raw[0]);\n",
    "  // strings.raw[0] 为 \"First line\\\\nSecond line\"\n",
    "  // 打印输出 \"First line\\nSecond line\"\n",
    "}"
   ]
  },
  {
   "cell_type": "markdown",
   "id": "f40bb1ad",
   "metadata": {},
   "source": [
    "上面代码中，`tag`函数的第一个参数`strings`，有一个`raw`属性，也指向一个数组。该数组的成员与`strings`数组完全一致。比如，`strings`数组是`[\"First line\\nSecond line\"]`，那么`strings.raw`数组就是`[\"First line\\\\nSecond line\"]`。两者唯一的区别，就是字符串里面的斜杠都被转义了。比如，strings.raw 数组会将`\\n`视为`\\\\`和`n`两个字符，而不是换行符。这是为了方便取得转义之前的原始模板而设计的。\n",
    "\n",
    "## 模板字符串的限制\n",
    "\n",
    "前面提到标签模板里面，可以内嵌其他语言。但是，模板字符串默认会将字符串转义，导致无法嵌入其他语言。\n",
    "\n",
    "举例来说，标签模板里面可以嵌入 LaTEX 语言。"
   ]
  },
  {
   "cell_type": "code",
   "execution_count": null,
   "id": "caf864cb",
   "metadata": {
    "attributes": {
     "classes": [
      "javascript"
     ],
     "id": ""
    }
   },
   "outputs": [],
   "source": [
    "function latex(strings) {\n",
    "  // ...\n",
    "}\n",
    "\n",
    "let document = latex`\n",
    "\\newcommand{\\fun}{\\textbf{Fun!}}  // 正常工作\n",
    "\\newcommand{\\unicode}{\\textbf{Unicode!}} // 报错\n",
    "\\newcommand{\\xerxes}{\\textbf{King!}} // 报错\n",
    "\n",
    "Breve over the h goes \\u{h}ere // 报错\n",
    "`"
   ]
  },
  {
   "cell_type": "markdown",
   "id": "3ac29355",
   "metadata": {},
   "source": [
    "上面代码中，变量`document`内嵌的模板字符串，对于 LaTEX 语言来说完全是合法的，但是 JavaScript 引擎会报错。原因就在于字符串的转义。\n",
    "\n",
    "模板字符串会将`\\u00FF`和`\\u{42}`当作 Unicode 字符进行转义，所以`\\unicode`解析时报错；而`\\x56`会被当作十六进制字符串转义，所以`\\xerxes`会报错。也就是说，`\\u`和`\\x`在 LaTEX 里面有特殊含义，但是 JavaScript 将它们转义了。\n",
    "\n",
    "为了解决这个问题，ES2018 [放松](https://tc39.github.io/proposal-template-literal-revision/)了对标签模板里面的字符串转义的限制。如果遇到不合法的字符串转义，就返回`undefined`，而不是报错，并且从`raw`属性上面可以得到原始字符串。"
   ]
  },
  {
   "cell_type": "code",
   "execution_count": null,
   "id": "518cc65c",
   "metadata": {
    "attributes": {
     "classes": [
      "javascript"
     ],
     "id": ""
    }
   },
   "outputs": [],
   "source": [
    "function tag(strs) {\n",
    "  strs[0] === undefined\n",
    "  strs.raw[0] === \"\\\\unicode and \\\\u{55}\";\n",
    "}\n",
    "tag`\\unicode and \\u{55}`"
   ]
  },
  {
   "cell_type": "markdown",
   "id": "362149e3",
   "metadata": {},
   "source": [
    "上面代码中，模板字符串原本是应该报错的，但是由于放松了对字符串转义的限制，所以不报错了，JavaScript 引擎将第一个字符设置为`undefined`，但是`raw`属性依然可以得到原始字符串，因此`tag`函数还是可以对原字符串进行处理。\n",
    "\n",
    "注意，这种对字符串转义的放松，只在标签模板解析字符串时生效，不是标签模板的场合，依然会报错。"
   ]
  },
  {
   "cell_type": "code",
   "execution_count": null,
   "id": "9dca835d",
   "metadata": {
    "attributes": {
     "classes": [
      "javascript"
     ],
     "id": ""
    }
   },
   "outputs": [],
   "source": [
    "let bad = `bad escape sequence: \\unicode`; // 报错"
   ]
  }
 ],
 "metadata": {},
 "nbformat": 4,
 "nbformat_minor": 5
}

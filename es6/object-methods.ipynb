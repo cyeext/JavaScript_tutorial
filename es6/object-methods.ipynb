{
 "cells": [
  {
   "cell_type": "markdown",
   "id": "be00d9c1",
   "metadata": {},
   "source": [
    "# 对象的新增方法\n",
    "\n",
    "本章介绍 Object 对象的新增方法。\n",
    "\n",
    "## Object.is()\n",
    "\n",
    "ES5 比较两个值是否相等，只有两个运算符：相等运算符（`==`）和严格相等运算符（`===`）。它们都有缺点，前者会自动转换数据类型，后者的`NaN`不等于自身，以及`+0`等于`-0`。JavaScript 缺乏一种运算，在所有环境中，只要两个值是一样的，它们就应该相等。\n",
    "\n",
    "ES6 提出“Same-value equality”（同值相等）算法，用来解决这个问题。`Object.is`就是部署这个算法的新方法。它用来比较两个值是否严格相等，与严格比较运算符（===）的行为基本一致。"
   ]
  },
  {
   "cell_type": "code",
   "execution_count": null,
   "id": "9c397a2d",
   "metadata": {
    "attributes": {
     "classes": [
      "javascript"
     ],
     "id": ""
    }
   },
   "outputs": [],
   "source": [
    "Object.is('foo', 'foo')\n",
    "// true\n",
    "Object.is({}, {})\n",
    "// false"
   ]
  },
  {
   "cell_type": "markdown",
   "id": "7b8bd9fb",
   "metadata": {},
   "source": [
    "不同之处只有两个：一是`+0`不等于`-0`，二是`NaN`等于自身。"
   ]
  },
  {
   "cell_type": "code",
   "execution_count": null,
   "id": "85860e56",
   "metadata": {
    "attributes": {
     "classes": [
      "javascript"
     ],
     "id": ""
    }
   },
   "outputs": [],
   "source": [
    "+0 === -0 //true\n",
    "NaN === NaN // false\n",
    "\n",
    "Object.is(+0, -0) // false\n",
    "Object.is(NaN, NaN) // true"
   ]
  },
  {
   "cell_type": "markdown",
   "id": "17482e3e",
   "metadata": {},
   "source": [
    "ES5 可以通过下面的代码，部署`Object.is`。"
   ]
  },
  {
   "cell_type": "code",
   "execution_count": null,
   "id": "714ed86e",
   "metadata": {
    "attributes": {
     "classes": [
      "javascript"
     ],
     "id": ""
    }
   },
   "outputs": [],
   "source": [
    "Object.defineProperty(Object, 'is', {\n",
    "  value: function(x, y) {\n",
    "    if (x === y) {\n",
    "      // 针对+0 不等于 -0的情况\n",
    "      return x !== 0 || 1 / x === 1 / y;\n",
    "    }\n",
    "    // 针对NaN的情况\n",
    "    return x !== x && y !== y;\n",
    "  },\n",
    "  configurable: true,\n",
    "  enumerable: false,\n",
    "  writable: true\n",
    "});"
   ]
  },
  {
   "cell_type": "markdown",
   "id": "4e69bd75",
   "metadata": {},
   "source": [
    "## Object.assign()\n",
    "\n",
    "### 基本用法\n",
    "\n",
    "`Object.assign()`方法用于对象的合并，将源对象（source）的所有可枚举属性，复制到目标对象（target）。"
   ]
  },
  {
   "cell_type": "code",
   "execution_count": null,
   "id": "1e735c1f",
   "metadata": {
    "attributes": {
     "classes": [
      "javascript"
     ],
     "id": ""
    }
   },
   "outputs": [],
   "source": [
    "const target = { a: 1 };\n",
    "\n",
    "const source1 = { b: 2 };\n",
    "const source2 = { c: 3 };\n",
    "\n",
    "Object.assign(target, source1, source2);\n",
    "target // {a:1, b:2, c:3}"
   ]
  },
  {
   "cell_type": "markdown",
   "id": "982b81be",
   "metadata": {},
   "source": [
    "`Object.assign()`方法的第一个参数是目标对象，后面的参数都是源对象。\n",
    "\n",
    "注意，如果目标对象与源对象有同名属性，或多个源对象有同名属性，则后面的属性会覆盖前面的属性。"
   ]
  },
  {
   "cell_type": "code",
   "execution_count": null,
   "id": "d295beb6",
   "metadata": {
    "attributes": {
     "classes": [
      "javascript"
     ],
     "id": ""
    }
   },
   "outputs": [],
   "source": [
    "const target = { a: 1, b: 1 };\n",
    "\n",
    "const source1 = { b: 2, c: 2 };\n",
    "const source2 = { c: 3 };\n",
    "\n",
    "Object.assign(target, source1, source2);\n",
    "target // {a:1, b:2, c:3}"
   ]
  },
  {
   "cell_type": "markdown",
   "id": "b17ed84b",
   "metadata": {},
   "source": [
    "如果只有一个参数，`Object.assign()`会直接返回该参数。"
   ]
  },
  {
   "cell_type": "code",
   "execution_count": null,
   "id": "d55eafe6",
   "metadata": {
    "attributes": {
     "classes": [
      "javascript"
     ],
     "id": ""
    }
   },
   "outputs": [],
   "source": [
    "const obj = {a: 1};\n",
    "Object.assign(obj) === obj // true"
   ]
  },
  {
   "cell_type": "markdown",
   "id": "e450fdbf",
   "metadata": {},
   "source": [
    "如果该参数不是对象，则会先转成对象，然后返回。"
   ]
  },
  {
   "cell_type": "code",
   "execution_count": null,
   "id": "fc05b7b8",
   "metadata": {
    "attributes": {
     "classes": [
      "javascript"
     ],
     "id": ""
    }
   },
   "outputs": [],
   "source": [
    "typeof Object.assign(2) // \"object\""
   ]
  },
  {
   "cell_type": "markdown",
   "id": "1bc327c4",
   "metadata": {},
   "source": [
    "由于`undefined`和`null`无法转成对象，所以如果它们作为参数，就会报错。"
   ]
  },
  {
   "cell_type": "code",
   "execution_count": null,
   "id": "31a635f5",
   "metadata": {
    "attributes": {
     "classes": [
      "javascript"
     ],
     "id": ""
    }
   },
   "outputs": [],
   "source": [
    "Object.assign(undefined) // 报错\n",
    "Object.assign(null) // 报错"
   ]
  },
  {
   "cell_type": "markdown",
   "id": "7473baef",
   "metadata": {},
   "source": [
    "如果非对象参数出现在源对象的位置（即非首参数），那么处理规则有所不同。首先，这些参数都会转成对象，如果无法转成对象，就会跳过。这意味着，如果`undefined`和`null`不在首参数，就不会报错。"
   ]
  },
  {
   "cell_type": "code",
   "execution_count": null,
   "id": "08153ab5",
   "metadata": {
    "attributes": {
     "classes": [
      "javascript"
     ],
     "id": ""
    }
   },
   "outputs": [],
   "source": [
    "let obj = {a: 1};\n",
    "Object.assign(obj, undefined) === obj // true\n",
    "Object.assign(obj, null) === obj // true"
   ]
  },
  {
   "cell_type": "markdown",
   "id": "bb32d901",
   "metadata": {},
   "source": [
    "其他类型的值（即数值、字符串和布尔值）不在首参数，也不会报错。但是，除了字符串会以数组形式，拷贝入目标对象，其他值都不会产生效果。"
   ]
  },
  {
   "cell_type": "code",
   "execution_count": null,
   "id": "b4c0005c",
   "metadata": {
    "attributes": {
     "classes": [
      "javascript"
     ],
     "id": ""
    }
   },
   "outputs": [],
   "source": [
    "const v1 = 'abc';\n",
    "const v2 = true;\n",
    "const v3 = 10;\n",
    "\n",
    "const obj = Object.assign({}, v1, v2, v3);\n",
    "console.log(obj); // { \"0\": \"a\", \"1\": \"b\", \"2\": \"c\" }"
   ]
  },
  {
   "cell_type": "markdown",
   "id": "36892e8f",
   "metadata": {},
   "source": [
    "上面代码中，`v1`、`v2`、`v3`分别是字符串、布尔值和数值，结果只有字符串合入目标对象（以字符数组的形式），数值和布尔值都会被忽略。这是因为只有字符串的包装对象，会产生可枚举属性。"
   ]
  },
  {
   "cell_type": "code",
   "execution_count": null,
   "id": "3640494b",
   "metadata": {
    "attributes": {
     "classes": [
      "javascript"
     ],
     "id": ""
    }
   },
   "outputs": [],
   "source": [
    "Object(true) // {[[PrimitiveValue]]: true}\n",
    "Object(10)  //  {[[PrimitiveValue]]: 10}\n",
    "Object('abc') // {0: \"a\", 1: \"b\", 2: \"c\", length: 3, [[PrimitiveValue]]: \"abc\"}"
   ]
  },
  {
   "cell_type": "markdown",
   "id": "141bac68",
   "metadata": {},
   "source": [
    "上面代码中，布尔值、数值、字符串分别转成对应的包装对象，可以看到它们的原始值都在包装对象的内部属性`[[PrimitiveValue]]`上面，这个属性是不会被`Object.assign()`拷贝的。只有字符串的包装对象，会产生可枚举的实义属性，那些属性则会被拷贝。\n",
    "\n",
    "`Object.assign()`拷贝的属性是有限制的，只拷贝源对象的自身属性（不拷贝继承属性），也不拷贝不可枚举的属性（`enumerable: false`）。"
   ]
  },
  {
   "cell_type": "code",
   "execution_count": null,
   "id": "be5156c4",
   "metadata": {
    "attributes": {
     "classes": [
      "javascript"
     ],
     "id": ""
    }
   },
   "outputs": [],
   "source": [
    "Object.assign({b: 'c'},\n",
    "  Object.defineProperty({}, 'invisible', {\n",
    "    enumerable: false,\n",
    "    value: 'hello'\n",
    "  })\n",
    ")\n",
    "// { b: 'c' }"
   ]
  },
  {
   "cell_type": "markdown",
   "id": "60855024",
   "metadata": {},
   "source": [
    "上面代码中，`Object.assign()`要拷贝的对象只有一个不可枚举属性`invisible`，这个属性并没有被拷贝进去。\n",
    "\n",
    "属性名为 Symbol 值的属性，也会被`Object.assign()`拷贝。"
   ]
  },
  {
   "cell_type": "code",
   "execution_count": null,
   "id": "6ff19913",
   "metadata": {
    "attributes": {
     "classes": [
      "javascript"
     ],
     "id": ""
    }
   },
   "outputs": [],
   "source": [
    "Object.assign({ a: 'b' }, { [Symbol('c')]: 'd' })\n",
    "// { a: 'b', Symbol(c): 'd' }"
   ]
  },
  {
   "cell_type": "markdown",
   "id": "a7c9aa98",
   "metadata": {},
   "source": [
    "### 注意点\n",
    "\n",
    "**（1）浅拷贝**\n",
    "\n",
    "`Object.assign()`方法实行的是浅拷贝，而不是深拷贝。也就是说，如果源对象某个属性的值是对象，那么目标对象拷贝得到的是这个对象的引用。"
   ]
  },
  {
   "cell_type": "code",
   "execution_count": null,
   "id": "187a9a1c",
   "metadata": {
    "attributes": {
     "classes": [
      "javascript"
     ],
     "id": ""
    }
   },
   "outputs": [],
   "source": [
    "const obj1 = {a: {b: 1}};\n",
    "const obj2 = Object.assign({}, obj1);\n",
    "\n",
    "obj1.a.b = 2;\n",
    "obj2.a.b // 2"
   ]
  },
  {
   "cell_type": "markdown",
   "id": "f6a03416",
   "metadata": {},
   "source": [
    "上面代码中，源对象`obj1`的`a`属性的值是一个对象，`Object.assign()`拷贝得到的是这个对象的引用。这个对象的任何变化，都会反映到目标对象上面。\n",
    "\n",
    "**（2）同名属性的替换**\n",
    "\n",
    "对于这种嵌套的对象，一旦遇到同名属性，`Object.assign()`的处理方法是替换，而不是添加。"
   ]
  },
  {
   "cell_type": "code",
   "execution_count": null,
   "id": "e95ef35e",
   "metadata": {
    "attributes": {
     "classes": [
      "javascript"
     ],
     "id": ""
    }
   },
   "outputs": [],
   "source": [
    "const target = { a: { b: 'c', d: 'e' } }\n",
    "const source = { a: { b: 'hello' } }\n",
    "Object.assign(target, source)\n",
    "// { a: { b: 'hello' } }"
   ]
  },
  {
   "cell_type": "markdown",
   "id": "d8dafb02",
   "metadata": {},
   "source": [
    "上面代码中，`target`对象的`a`属性被`source`对象的`a`属性整个替换掉了，而不会得到`{ a: { b: 'hello', d: 'e' } }`的结果。这通常不是开发者想要的，需要特别小心。\n",
    "\n",
    "一些函数库提供`Object.assign()`的定制版本（比如 Lodash 的`_.defaultsDeep()`方法），可以得到深拷贝的合并。\n",
    "\n",
    "**（3）数组的处理**\n",
    "\n",
    "`Object.assign()`可以用来处理数组，但是会把数组视为对象。"
   ]
  },
  {
   "cell_type": "code",
   "execution_count": null,
   "id": "acebb112",
   "metadata": {
    "attributes": {
     "classes": [
      "javascript"
     ],
     "id": ""
    }
   },
   "outputs": [],
   "source": [
    "Object.assign([1, 2, 3], [4, 5])\n",
    "// [4, 5, 3]"
   ]
  },
  {
   "cell_type": "markdown",
   "id": "35b28fe4",
   "metadata": {},
   "source": [
    "上面代码中，`Object.assign()`把数组视为属性名为 0、1、2 的对象，因此源数组的 0 号属性`4`覆盖了目标数组的 0 号属性`1`。\n",
    "\n",
    "**（4）取值函数的处理**\n",
    "\n",
    "`Object.assign()`只能进行值的复制，如果要复制的值是一个取值函数，那么将求值后再复制。"
   ]
  },
  {
   "cell_type": "code",
   "execution_count": null,
   "id": "6c93e3d7",
   "metadata": {
    "attributes": {
     "classes": [
      "javascript"
     ],
     "id": ""
    }
   },
   "outputs": [],
   "source": [
    "const source = {\n",
    "  get foo() { return 1 }\n",
    "};\n",
    "const target = {};\n",
    "\n",
    "Object.assign(target, source)\n",
    "// { foo: 1 }"
   ]
  },
  {
   "cell_type": "markdown",
   "id": "51c0d493",
   "metadata": {},
   "source": [
    "上面代码中，`source`对象的`foo`属性是一个取值函数，`Object.assign()`不会复制这个取值函数，只会拿到值以后，将这个值复制过去。\n",
    "\n",
    "### 常见用途\n",
    "\n",
    "`Object.assign()`方法有很多用处。\n",
    "\n",
    "**（1）为对象添加属性**"
   ]
  },
  {
   "cell_type": "code",
   "execution_count": null,
   "id": "2a62a6ca",
   "metadata": {
    "attributes": {
     "classes": [
      "javascript"
     ],
     "id": ""
    }
   },
   "outputs": [],
   "source": [
    "class Point {\n",
    "  constructor(x, y) {\n",
    "    Object.assign(this, {x, y});\n",
    "  }\n",
    "}"
   ]
  },
  {
   "cell_type": "markdown",
   "id": "054ec9b5",
   "metadata": {},
   "source": [
    "上面方法通过`Object.assign()`方法，将`x`属性和`y`属性添加到`Point`类的对象实例。\n",
    "\n",
    "**（2）为对象添加方法**"
   ]
  },
  {
   "cell_type": "code",
   "execution_count": null,
   "id": "1cc86a85",
   "metadata": {
    "attributes": {
     "classes": [
      "javascript"
     ],
     "id": ""
    }
   },
   "outputs": [],
   "source": [
    "Object.assign(SomeClass.prototype, {\n",
    "  someMethod(arg1, arg2) {\n",
    "    ···\n",
    "  },\n",
    "  anotherMethod() {\n",
    "    ···\n",
    "  }\n",
    "});\n",
    "\n",
    "// 等同于下面的写法\n",
    "SomeClass.prototype.someMethod = function (arg1, arg2) {\n",
    "  ···\n",
    "};\n",
    "SomeClass.prototype.anotherMethod = function () {\n",
    "  ···\n",
    "};"
   ]
  },
  {
   "cell_type": "markdown",
   "id": "66002e84",
   "metadata": {},
   "source": [
    "上面代码使用了对象属性的简洁表示法，直接将两个函数放在大括号中，再使用`assign()`方法添加到`SomeClass.prototype`之中。\n",
    "\n",
    "**（3）克隆对象**"
   ]
  },
  {
   "cell_type": "code",
   "execution_count": null,
   "id": "72da09ea",
   "metadata": {
    "attributes": {
     "classes": [
      "javascript"
     ],
     "id": ""
    }
   },
   "outputs": [],
   "source": [
    "function clone(origin) {\n",
    "  return Object.assign({}, origin);\n",
    "}"
   ]
  },
  {
   "cell_type": "markdown",
   "id": "9cc97fb9",
   "metadata": {},
   "source": [
    "上面代码将原始对象拷贝到一个空对象，就得到了原始对象的克隆。\n",
    "\n",
    "不过，采用这种方法克隆，只能克隆原始对象自身的值，不能克隆它继承的值。如果想要保持继承链，可以采用下面的代码。"
   ]
  },
  {
   "cell_type": "code",
   "execution_count": null,
   "id": "8992e262",
   "metadata": {
    "attributes": {
     "classes": [
      "javascript"
     ],
     "id": ""
    }
   },
   "outputs": [],
   "source": [
    "function clone(origin) {\n",
    "  let originProto = Object.getPrototypeOf(origin);\n",
    "  return Object.assign(Object.create(originProto), origin);\n",
    "}"
   ]
  },
  {
   "cell_type": "markdown",
   "id": "5b1fa504",
   "metadata": {},
   "source": [
    "**（4）合并多个对象**\n",
    "\n",
    "将多个对象合并到某个对象。"
   ]
  },
  {
   "cell_type": "code",
   "execution_count": null,
   "id": "7c356376",
   "metadata": {
    "attributes": {
     "classes": [
      "javascript"
     ],
     "id": ""
    }
   },
   "outputs": [],
   "source": [
    "const merge =\n",
    "  (target, ...sources) => Object.assign(target, ...sources);"
   ]
  },
  {
   "cell_type": "markdown",
   "id": "69a594d5",
   "metadata": {},
   "source": [
    "如果希望合并后返回一个新对象，可以改写上面函数，对一个空对象合并。"
   ]
  },
  {
   "cell_type": "code",
   "execution_count": null,
   "id": "ad93670c",
   "metadata": {
    "attributes": {
     "classes": [
      "javascript"
     ],
     "id": ""
    }
   },
   "outputs": [],
   "source": [
    "const merge =\n",
    "  (...sources) => Object.assign({}, ...sources);"
   ]
  },
  {
   "cell_type": "markdown",
   "id": "8f7d545e",
   "metadata": {},
   "source": [
    "**（5）为属性指定默认值**"
   ]
  },
  {
   "cell_type": "code",
   "execution_count": null,
   "id": "151b6202",
   "metadata": {
    "attributes": {
     "classes": [
      "javascript"
     ],
     "id": ""
    }
   },
   "outputs": [],
   "source": [
    "const DEFAULTS = {\n",
    "  logLevel: 0,\n",
    "  outputFormat: 'html'\n",
    "};\n",
    "\n",
    "function processContent(options) {\n",
    "  options = Object.assign({}, DEFAULTS, options);\n",
    "  console.log(options);\n",
    "  // ...\n",
    "}"
   ]
  },
  {
   "cell_type": "markdown",
   "id": "4a9052c5",
   "metadata": {},
   "source": [
    "上面代码中，`DEFAULTS`对象是默认值，`options`对象是用户提供的参数。`Object.assign()`方法将`DEFAULTS`和`options`合并成一个新对象，如果两者有同名属性，则`options`的属性值会覆盖`DEFAULTS`的属性值。\n",
    "\n",
    "注意，由于存在浅拷贝的问题，`DEFAULTS`对象和`options`对象的所有属性的值，最好都是简单类型，不要指向另一个对象。否则，`DEFAULTS`对象的该属性很可能不起作用。"
   ]
  },
  {
   "cell_type": "code",
   "execution_count": null,
   "id": "f62a79bf",
   "metadata": {
    "attributes": {
     "classes": [
      "javascript"
     ],
     "id": ""
    }
   },
   "outputs": [],
   "source": [
    "const DEFAULTS = {\n",
    "  url: {\n",
    "    host: 'example.com',\n",
    "    port: 7070\n",
    "  },\n",
    "};\n",
    "\n",
    "processContent({ url: {port: 8000} })\n",
    "// {\n",
    "//   url: {port: 8000}\n",
    "// }"
   ]
  },
  {
   "cell_type": "markdown",
   "id": "0efc55e9",
   "metadata": {},
   "source": [
    "上面代码的原意是将`url.port`改成 8000，`url.host`不变。实际结果却是`options.url`覆盖掉`DEFAULTS.url`，所以`url.host`就不存在了。\n",
    "\n",
    "## Object.getOwnPropertyDescriptors()\n",
    "\n",
    "ES5 的`Object.getOwnPropertyDescriptor()`方法会返回某个对象属性的描述对象（descriptor）。ES2017 引入了`Object.getOwnPropertyDescriptors()`方法，返回指定对象所有自身属性（非继承属性）的描述对象。"
   ]
  },
  {
   "cell_type": "code",
   "execution_count": null,
   "id": "90fcdeeb",
   "metadata": {
    "attributes": {
     "classes": [
      "javascript"
     ],
     "id": ""
    }
   },
   "outputs": [],
   "source": [
    "const obj = {\n",
    "  foo: 123,\n",
    "  get bar() { return 'abc' }\n",
    "};\n",
    "\n",
    "Object.getOwnPropertyDescriptors(obj)\n",
    "// { foo:\n",
    "//    { value: 123,\n",
    "//      writable: true,\n",
    "//      enumerable: true,\n",
    "//      configurable: true },\n",
    "//   bar:\n",
    "//    { get: [Function: get bar],\n",
    "//      set: undefined,\n",
    "//      enumerable: true,\n",
    "//      configurable: true } }"
   ]
  },
  {
   "cell_type": "markdown",
   "id": "ee336339",
   "metadata": {},
   "source": [
    "上面代码中，`Object.getOwnPropertyDescriptors()`方法返回一个对象，所有原对象的属性名都是该对象的属性名，对应的属性值就是该属性的描述对象。\n",
    "\n",
    "该方法的实现非常容易。"
   ]
  },
  {
   "cell_type": "code",
   "execution_count": null,
   "id": "3042fe1f",
   "metadata": {
    "attributes": {
     "classes": [
      "javascript"
     ],
     "id": ""
    }
   },
   "outputs": [],
   "source": [
    "function getOwnPropertyDescriptors(obj) {\n",
    "  const result = {};\n",
    "  for (let key of Reflect.ownKeys(obj)) {\n",
    "    result[key] = Object.getOwnPropertyDescriptor(obj, key);\n",
    "  }\n",
    "  return result;\n",
    "}"
   ]
  },
  {
   "cell_type": "markdown",
   "id": "9d570cbd",
   "metadata": {},
   "source": [
    "该方法的引入目的，主要是为了解决`Object.assign()`无法正确拷贝`get`属性和`set`属性的问题。"
   ]
  },
  {
   "cell_type": "code",
   "execution_count": null,
   "id": "346116ec",
   "metadata": {
    "attributes": {
     "classes": [
      "javascript"
     ],
     "id": ""
    }
   },
   "outputs": [],
   "source": [
    "const source = {\n",
    "  set foo(value) {\n",
    "    console.log(value);\n",
    "  }\n",
    "};\n",
    "\n",
    "const target1 = {};\n",
    "Object.assign(target1, source);\n",
    "\n",
    "Object.getOwnPropertyDescriptor(target1, 'foo')\n",
    "// { value: undefined,\n",
    "//   writable: true,\n",
    "//   enumerable: true,\n",
    "//   configurable: true }"
   ]
  },
  {
   "cell_type": "markdown",
   "id": "abe7f8c8",
   "metadata": {},
   "source": [
    "上面代码中，`source`对象的`foo`属性的值是一个赋值函数，`Object.assign`方法将这个属性拷贝给`target1`对象，结果该属性的值变成了`undefined`。这是因为`Object.assign`方法总是拷贝一个属性的值，而不会拷贝它背后的赋值方法或取值方法。\n",
    "\n",
    "这时，`Object.getOwnPropertyDescriptors()`方法配合`Object.defineProperties()`方法，就可以实现正确拷贝。"
   ]
  },
  {
   "cell_type": "code",
   "execution_count": null,
   "id": "41158493",
   "metadata": {
    "attributes": {
     "classes": [
      "javascript"
     ],
     "id": ""
    }
   },
   "outputs": [],
   "source": [
    "const source = {\n",
    "  set foo(value) {\n",
    "    console.log(value);\n",
    "  }\n",
    "};\n",
    "\n",
    "const target2 = {};\n",
    "Object.defineProperties(target2, Object.getOwnPropertyDescriptors(source));\n",
    "Object.getOwnPropertyDescriptor(target2, 'foo')\n",
    "// { get: undefined,\n",
    "//   set: [Function: set foo],\n",
    "//   enumerable: true,\n",
    "//   configurable: true }"
   ]
  },
  {
   "cell_type": "markdown",
   "id": "40ab6dec",
   "metadata": {},
   "source": [
    "上面代码中，两个对象合并的逻辑可以写成一个函数。"
   ]
  },
  {
   "cell_type": "code",
   "execution_count": null,
   "id": "c4365899",
   "metadata": {
    "attributes": {
     "classes": [
      "javascript"
     ],
     "id": ""
    }
   },
   "outputs": [],
   "source": [
    "const shallowMerge = (target, source) => Object.defineProperties(\n",
    "  target,\n",
    "  Object.getOwnPropertyDescriptors(source)\n",
    ");"
   ]
  },
  {
   "cell_type": "markdown",
   "id": "bf66eb15",
   "metadata": {},
   "source": [
    "`Object.getOwnPropertyDescriptors()`方法的另一个用处，是配合`Object.create()`方法，将对象属性克隆到一个新对象。这属于浅拷贝。"
   ]
  },
  {
   "cell_type": "code",
   "execution_count": null,
   "id": "6b5d7d80",
   "metadata": {
    "attributes": {
     "classes": [
      "javascript"
     ],
     "id": ""
    }
   },
   "outputs": [],
   "source": [
    "const clone = Object.create(Object.getPrototypeOf(obj),\n",
    "  Object.getOwnPropertyDescriptors(obj));\n",
    "\n",
    "// 或者\n",
    "\n",
    "const shallowClone = (obj) => Object.create(\n",
    "  Object.getPrototypeOf(obj),\n",
    "  Object.getOwnPropertyDescriptors(obj)\n",
    ");"
   ]
  },
  {
   "cell_type": "markdown",
   "id": "8fdac893",
   "metadata": {},
   "source": [
    "上面代码会克隆对象`obj`。\n",
    "\n",
    "另外，`Object.getOwnPropertyDescriptors()`方法可以实现一个对象继承另一个对象。以前，继承另一个对象，常常写成下面这样。"
   ]
  },
  {
   "cell_type": "code",
   "execution_count": null,
   "id": "dbc2c764",
   "metadata": {
    "attributes": {
     "classes": [
      "javascript"
     ],
     "id": ""
    }
   },
   "outputs": [],
   "source": [
    "const obj = {\n",
    "  __proto__: prot,\n",
    "  foo: 123,\n",
    "};"
   ]
  },
  {
   "cell_type": "markdown",
   "id": "6093a299",
   "metadata": {},
   "source": [
    "ES6 规定`__proto__`只有浏览器要部署，其他环境不用部署。如果去除`__proto__`，上面代码就要改成下面这样。"
   ]
  },
  {
   "cell_type": "code",
   "execution_count": null,
   "id": "69e17b35",
   "metadata": {
    "attributes": {
     "classes": [
      "javascript"
     ],
     "id": ""
    }
   },
   "outputs": [],
   "source": [
    "const obj = Object.create(prot);\n",
    "obj.foo = 123;\n",
    "\n",
    "// 或者\n",
    "\n",
    "const obj = Object.assign(\n",
    "  Object.create(prot),\n",
    "  {\n",
    "    foo: 123,\n",
    "  }\n",
    ");"
   ]
  },
  {
   "cell_type": "markdown",
   "id": "c4d62f66",
   "metadata": {},
   "source": [
    "有了`Object.getOwnPropertyDescriptors()`，我们就有了另一种写法。"
   ]
  },
  {
   "cell_type": "code",
   "execution_count": null,
   "id": "4f599053",
   "metadata": {
    "attributes": {
     "classes": [
      "javascript"
     ],
     "id": ""
    }
   },
   "outputs": [],
   "source": [
    "const obj = Object.create(\n",
    "  prot,\n",
    "  Object.getOwnPropertyDescriptors({\n",
    "    foo: 123,\n",
    "  })\n",
    ");"
   ]
  },
  {
   "cell_type": "markdown",
   "id": "aec55395",
   "metadata": {},
   "source": [
    "`Object.getOwnPropertyDescriptors()`也可以用来实现 Mixin（混入）模式。"
   ]
  },
  {
   "cell_type": "code",
   "execution_count": null,
   "id": "747f41a7",
   "metadata": {
    "attributes": {
     "classes": [
      "javascript"
     ],
     "id": ""
    }
   },
   "outputs": [],
   "source": [
    "let mix = (object) => ({\n",
    "  with: (...mixins) => mixins.reduce(\n",
    "    (c, mixin) => Object.create(\n",
    "      c, Object.getOwnPropertyDescriptors(mixin)\n",
    "    ), object)\n",
    "});\n",
    "\n",
    "// multiple mixins example\n",
    "let a = {a: 'a'};\n",
    "let b = {b: 'b'};\n",
    "let c = {c: 'c'};\n",
    "let d = mix(c).with(a, b);\n",
    "\n",
    "d.c // \"c\"\n",
    "d.b // \"b\"\n",
    "d.a // \"a\""
   ]
  },
  {
   "cell_type": "markdown",
   "id": "e5f7d97b",
   "metadata": {},
   "source": [
    "上面代码返回一个新的对象`d`，代表了对象`a`和`b`被混入了对象`c`的操作。\n",
    "\n",
    "出于完整性的考虑，`Object.getOwnPropertyDescriptors()`进入标准以后，以后还会新增`Reflect.getOwnPropertyDescriptors()`方法。\n",
    "\n",
    "## `__proto__`属性，Object.setPrototypeOf()，Object.getPrototypeOf()\n",
    "\n",
    "JavaScript 语言的对象继承是通过原型链实现的。ES6 提供了更多原型对象的操作方法。\n",
    "\n",
    "### `__proto__`属性\n",
    "\n",
    "`__proto__`属性（前后各两个下划线），用来读取或设置当前对象的原型对象（prototype）。目前，所有浏览器（包括 IE11）都部署了这个属性。"
   ]
  },
  {
   "cell_type": "code",
   "execution_count": null,
   "id": "83ff339a",
   "metadata": {
    "attributes": {
     "classes": [
      "javascript"
     ],
     "id": ""
    }
   },
   "outputs": [],
   "source": [
    "// es5 的写法\n",
    "const obj = {\n",
    "  method: function() { ... }\n",
    "};\n",
    "obj.__proto__ = someOtherObj;\n",
    "\n",
    "// es6 的写法\n",
    "var obj = Object.create(someOtherObj);\n",
    "obj.method = function() { ... };"
   ]
  },
  {
   "cell_type": "markdown",
   "id": "9712053a",
   "metadata": {},
   "source": [
    "该属性没有写入 ES6 的正文，而是写入了附录，原因是`__proto__`前后的双下划线，说明它本质上是一个内部属性，而不是一个正式的对外的 API，只是由于浏览器广泛支持，才被加入了 ES6。标准明确规定，只有浏览器必须部署这个属性，其他运行环境不一定需要部署，而且新的代码最好认为这个属性是不存在的。因此，无论从语义的角度，还是从兼容性的角度，都不要使用这个属性，而是使用下面的`Object.setPrototypeOf()`（写操作）、`Object.getPrototypeOf()`（读操作）、`Object.create()`（生成操作）代替。\n",
    "\n",
    "实现上，`__proto__`调用的是`Object.prototype.__proto__`，具体实现如下。"
   ]
  },
  {
   "cell_type": "code",
   "execution_count": null,
   "id": "9beeccfe",
   "metadata": {
    "attributes": {
     "classes": [
      "javascript"
     ],
     "id": ""
    }
   },
   "outputs": [],
   "source": [
    "Object.defineProperty(Object.prototype, '__proto__', {\n",
    "  get() {\n",
    "    let _thisObj = Object(this);\n",
    "    return Object.getPrototypeOf(_thisObj);\n",
    "  },\n",
    "  set(proto) {\n",
    "    if (this === undefined || this === null) {\n",
    "      throw new TypeError();\n",
    "    }\n",
    "    if (!isObject(this)) {\n",
    "      return undefined;\n",
    "    }\n",
    "    if (!isObject(proto)) {\n",
    "      return undefined;\n",
    "    }\n",
    "    let status = Reflect.setPrototypeOf(this, proto);\n",
    "    if (!status) {\n",
    "      throw new TypeError();\n",
    "    }\n",
    "  },\n",
    "});\n",
    "\n",
    "function isObject(value) {\n",
    "  return Object(value) === value;\n",
    "}"
   ]
  },
  {
   "cell_type": "markdown",
   "id": "a373ca3b",
   "metadata": {},
   "source": [
    "如果一个对象本身部署了`__proto__`属性，该属性的值就是对象的原型。"
   ]
  },
  {
   "cell_type": "code",
   "execution_count": null,
   "id": "013f64d4",
   "metadata": {
    "attributes": {
     "classes": [
      "javascript"
     ],
     "id": ""
    }
   },
   "outputs": [],
   "source": [
    "Object.getPrototypeOf({ __proto__: null })\n",
    "// null"
   ]
  },
  {
   "cell_type": "markdown",
   "id": "bd9da801",
   "metadata": {},
   "source": [
    "### Object.setPrototypeOf()\n",
    "\n",
    "`Object.setPrototypeOf`方法的作用与`__proto__`相同，用来设置一个对象的原型对象（prototype），返回参数对象本身。它是 ES6 正式推荐的设置原型对象的方法。"
   ]
  },
  {
   "cell_type": "code",
   "execution_count": null,
   "id": "8c536868",
   "metadata": {
    "attributes": {
     "classes": [
      "javascript"
     ],
     "id": ""
    }
   },
   "outputs": [],
   "source": [
    "// 格式\n",
    "Object.setPrototypeOf(object, prototype)\n",
    "\n",
    "// 用法\n",
    "const o = Object.setPrototypeOf({}, null);"
   ]
  },
  {
   "cell_type": "markdown",
   "id": "9a117b08",
   "metadata": {},
   "source": [
    "该方法等同于下面的函数。"
   ]
  },
  {
   "cell_type": "code",
   "execution_count": null,
   "id": "6142dc52",
   "metadata": {
    "attributes": {
     "classes": [
      "javascript"
     ],
     "id": ""
    }
   },
   "outputs": [],
   "source": [
    "function setPrototypeOf(obj, proto) {\n",
    "  obj.__proto__ = proto;\n",
    "  return obj;\n",
    "}"
   ]
  },
  {
   "cell_type": "markdown",
   "id": "9adc2602",
   "metadata": {},
   "source": [
    "下面是一个例子。"
   ]
  },
  {
   "cell_type": "code",
   "execution_count": null,
   "id": "2281f4c5",
   "metadata": {
    "attributes": {
     "classes": [
      "javascript"
     ],
     "id": ""
    }
   },
   "outputs": [],
   "source": [
    "let proto = {};\n",
    "let obj = { x: 10 };\n",
    "Object.setPrototypeOf(obj, proto);\n",
    "\n",
    "proto.y = 20;\n",
    "proto.z = 40;\n",
    "\n",
    "obj.x // 10\n",
    "obj.y // 20\n",
    "obj.z // 40"
   ]
  },
  {
   "cell_type": "markdown",
   "id": "cb9bc122",
   "metadata": {},
   "source": [
    "上面代码将`proto`对象设为`obj`对象的原型，所以从`obj`对象可以读取`proto`对象的属性。\n",
    "\n",
    "如果第一个参数不是对象，会自动转为对象。但是由于返回的还是第一个参数，所以这个操作不会产生任何效果。"
   ]
  },
  {
   "cell_type": "code",
   "execution_count": null,
   "id": "0cf2a2df",
   "metadata": {
    "attributes": {
     "classes": [
      "javascript"
     ],
     "id": ""
    }
   },
   "outputs": [],
   "source": [
    "Object.setPrototypeOf(1, {}) === 1 // true\n",
    "Object.setPrototypeOf('foo', {}) === 'foo' // true\n",
    "Object.setPrototypeOf(true, {}) === true // true"
   ]
  },
  {
   "cell_type": "markdown",
   "id": "6f725f38",
   "metadata": {},
   "source": [
    "由于`undefined`和`null`无法转为对象，所以如果第一个参数是`undefined`或`null`，就会报错。"
   ]
  },
  {
   "cell_type": "code",
   "execution_count": null,
   "id": "e6e4116f",
   "metadata": {
    "attributes": {
     "classes": [
      "javascript"
     ],
     "id": ""
    }
   },
   "outputs": [],
   "source": [
    "Object.setPrototypeOf(undefined, {})\n",
    "// TypeError: Object.setPrototypeOf called on null or undefined\n",
    "\n",
    "Object.setPrototypeOf(null, {})\n",
    "// TypeError: Object.setPrototypeOf called on null or undefined"
   ]
  },
  {
   "cell_type": "markdown",
   "id": "bf821b48",
   "metadata": {},
   "source": [
    "### Object.getPrototypeOf()\n",
    "\n",
    "该方法与`Object.setPrototypeOf`方法配套，用于读取一个对象的原型对象。"
   ]
  },
  {
   "cell_type": "code",
   "execution_count": null,
   "id": "cb62c6c9",
   "metadata": {
    "attributes": {
     "classes": [
      "javascript"
     ],
     "id": ""
    }
   },
   "outputs": [],
   "source": [
    "Object.getPrototypeOf(obj);"
   ]
  },
  {
   "cell_type": "markdown",
   "id": "8fb32111",
   "metadata": {},
   "source": [
    "下面是一个例子。"
   ]
  },
  {
   "cell_type": "code",
   "execution_count": null,
   "id": "34747d26",
   "metadata": {
    "attributes": {
     "classes": [
      "javascript"
     ],
     "id": ""
    }
   },
   "outputs": [],
   "source": [
    "function Rectangle() {\n",
    "  // ...\n",
    "}\n",
    "\n",
    "const rec = new Rectangle();\n",
    "\n",
    "Object.getPrototypeOf(rec) === Rectangle.prototype\n",
    "// true\n",
    "\n",
    "Object.setPrototypeOf(rec, Object.prototype);\n",
    "Object.getPrototypeOf(rec) === Rectangle.prototype\n",
    "// false"
   ]
  },
  {
   "cell_type": "markdown",
   "id": "d4b76134",
   "metadata": {},
   "source": [
    "如果参数不是对象，会被自动转为对象。"
   ]
  },
  {
   "cell_type": "code",
   "execution_count": null,
   "id": "f7292b9c",
   "metadata": {
    "attributes": {
     "classes": [
      "javascript"
     ],
     "id": ""
    }
   },
   "outputs": [],
   "source": [
    "// 等同于 Object.getPrototypeOf(Number(1))\n",
    "Object.getPrototypeOf(1)\n",
    "// Number {[[PrimitiveValue]]: 0}\n",
    "\n",
    "// 等同于 Object.getPrototypeOf(String('foo'))\n",
    "Object.getPrototypeOf('foo')\n",
    "// String {length: 0, [[PrimitiveValue]]: \"\"}\n",
    "\n",
    "// 等同于 Object.getPrototypeOf(Boolean(true))\n",
    "Object.getPrototypeOf(true)\n",
    "// Boolean {[[PrimitiveValue]]: false}\n",
    "\n",
    "Object.getPrototypeOf(1) === Number.prototype // true\n",
    "Object.getPrototypeOf('foo') === String.prototype // true\n",
    "Object.getPrototypeOf(true) === Boolean.prototype // true"
   ]
  },
  {
   "cell_type": "markdown",
   "id": "4791b913",
   "metadata": {},
   "source": [
    "如果参数是`undefined`或`null`，它们无法转为对象，所以会报错。"
   ]
  },
  {
   "cell_type": "code",
   "execution_count": null,
   "id": "7caba87e",
   "metadata": {
    "attributes": {
     "classes": [
      "javascript"
     ],
     "id": ""
    }
   },
   "outputs": [],
   "source": [
    "Object.getPrototypeOf(null)\n",
    "// TypeError: Cannot convert undefined or null to object\n",
    "\n",
    "Object.getPrototypeOf(undefined)\n",
    "// TypeError: Cannot convert undefined or null to object"
   ]
  },
  {
   "cell_type": "markdown",
   "id": "a9b7fbdf",
   "metadata": {},
   "source": [
    "## Object.keys()，Object.values()，Object.entries()\n",
    "\n",
    "### Object.keys()\n",
    "\n",
    "ES5 引入了`Object.keys`方法，返回一个数组，成员是参数对象自身的（不含继承的）所有可遍历（enumerable）属性的键名。"
   ]
  },
  {
   "cell_type": "code",
   "execution_count": null,
   "id": "1915a599",
   "metadata": {
    "attributes": {
     "classes": [
      "javascript"
     ],
     "id": ""
    }
   },
   "outputs": [],
   "source": [
    "var obj = { foo: 'bar', baz: 42 };\n",
    "Object.keys(obj)\n",
    "// [\"foo\", \"baz\"]"
   ]
  },
  {
   "cell_type": "markdown",
   "id": "7e4aa2d2",
   "metadata": {},
   "source": [
    "ES2017 [引入](https://github.com/tc39/proposal-object-values-entries)了跟`Object.keys`配套的`Object.values`和`Object.entries`，作为遍历一个对象的补充手段，供`for...of`循环使用。"
   ]
  },
  {
   "cell_type": "code",
   "execution_count": null,
   "id": "0f6d9428",
   "metadata": {
    "attributes": {
     "classes": [
      "javascript"
     ],
     "id": ""
    }
   },
   "outputs": [],
   "source": [
    "let {keys, values, entries} = Object;\n",
    "let obj = { a: 1, b: 2, c: 3 };\n",
    "\n",
    "for (let key of keys(obj)) {\n",
    "  console.log(key); // 'a', 'b', 'c'\n",
    "}\n",
    "\n",
    "for (let value of values(obj)) {\n",
    "  console.log(value); // 1, 2, 3\n",
    "}\n",
    "\n",
    "for (let [key, value] of entries(obj)) {\n",
    "  console.log([key, value]); // ['a', 1], ['b', 2], ['c', 3]\n",
    "}"
   ]
  },
  {
   "cell_type": "markdown",
   "id": "e704d6ae",
   "metadata": {},
   "source": [
    "### Object.values()\n",
    "\n",
    "`Object.values`方法返回一个数组，成员是参数对象自身的（不含继承的）所有可遍历（enumerable）属性的键值。"
   ]
  },
  {
   "cell_type": "code",
   "execution_count": null,
   "id": "cf75b82b",
   "metadata": {
    "attributes": {
     "classes": [
      "javascript"
     ],
     "id": ""
    }
   },
   "outputs": [],
   "source": [
    "const obj = { foo: 'bar', baz: 42 };\n",
    "Object.values(obj)\n",
    "// [\"bar\", 42]"
   ]
  },
  {
   "cell_type": "markdown",
   "id": "35897364",
   "metadata": {},
   "source": [
    "返回数组的成员顺序，与本章的《属性的遍历》部分介绍的排列规则一致。"
   ]
  },
  {
   "cell_type": "code",
   "execution_count": null,
   "id": "04033503",
   "metadata": {
    "attributes": {
     "classes": [
      "javascript"
     ],
     "id": ""
    }
   },
   "outputs": [],
   "source": [
    "const obj = { 100: 'a', 2: 'b', 7: 'c' };\n",
    "Object.values(obj)\n",
    "// [\"b\", \"c\", \"a\"]"
   ]
  },
  {
   "cell_type": "markdown",
   "id": "a5150ed8",
   "metadata": {},
   "source": [
    "上面代码中，属性名为数值的属性，是按照数值大小，从小到大遍历的，因此返回的顺序是`b`、`c`、`a`。\n",
    "\n",
    "`Object.values`只返回对象自身的可遍历属性。"
   ]
  },
  {
   "cell_type": "code",
   "execution_count": null,
   "id": "7cd66f72",
   "metadata": {
    "attributes": {
     "classes": [
      "javascript"
     ],
     "id": ""
    }
   },
   "outputs": [],
   "source": [
    "const obj = Object.create({}, {p: {value: 42}});\n",
    "Object.values(obj) // []"
   ]
  },
  {
   "cell_type": "markdown",
   "id": "e3bcc720",
   "metadata": {},
   "source": [
    "上面代码中，`Object.create`方法的第二个参数添加的对象属性（属性`p`），如果不显式声明，默认是不可遍历的，因为`p`的属性描述对象的`enumerable`默认是`false`，`Object.values`不会返回这个属性。只要把`enumerable`改成`true`，`Object.values`就会返回属性`p`的值。"
   ]
  },
  {
   "cell_type": "code",
   "execution_count": null,
   "id": "5f19397c",
   "metadata": {
    "attributes": {
     "classes": [
      "javascript"
     ],
     "id": ""
    }
   },
   "outputs": [],
   "source": [
    "const obj = Object.create({}, {p:\n",
    "  {\n",
    "    value: 42,\n",
    "    enumerable: true\n",
    "  }\n",
    "});\n",
    "Object.values(obj) // [42]"
   ]
  },
  {
   "cell_type": "markdown",
   "id": "a1fa48ee",
   "metadata": {},
   "source": [
    "`Object.values`会过滤属性名为 Symbol 值的属性。"
   ]
  },
  {
   "cell_type": "code",
   "execution_count": null,
   "id": "90fc71af",
   "metadata": {
    "attributes": {
     "classes": [
      "javascript"
     ],
     "id": ""
    }
   },
   "outputs": [],
   "source": [
    "Object.values({ [Symbol()]: 123, foo: 'abc' });\n",
    "// ['abc']"
   ]
  },
  {
   "cell_type": "markdown",
   "id": "602af0ce",
   "metadata": {},
   "source": [
    "如果`Object.values`方法的参数是一个字符串，会返回各个字符组成的一个数组。"
   ]
  },
  {
   "cell_type": "code",
   "execution_count": null,
   "id": "5047b327",
   "metadata": {
    "attributes": {
     "classes": [
      "javascript"
     ],
     "id": ""
    }
   },
   "outputs": [],
   "source": [
    "Object.values('foo')\n",
    "// ['f', 'o', 'o']"
   ]
  },
  {
   "cell_type": "markdown",
   "id": "04d5dc25",
   "metadata": {},
   "source": [
    "上面代码中，字符串会先转成一个类似数组的对象。字符串的每个字符，就是该对象的一个属性。因此，`Object.values`返回每个属性的键值，就是各个字符组成的一个数组。\n",
    "\n",
    "如果参数不是对象，`Object.values`会先将其转为对象。由于数值和布尔值的包装对象，都不会为实例添加非继承的属性。所以，`Object.values`会返回空数组。"
   ]
  },
  {
   "cell_type": "code",
   "execution_count": null,
   "id": "57759a0d",
   "metadata": {
    "attributes": {
     "classes": [
      "javascript"
     ],
     "id": ""
    }
   },
   "outputs": [],
   "source": [
    "Object.values(42) // []\n",
    "Object.values(true) // []"
   ]
  },
  {
   "cell_type": "markdown",
   "id": "75ba2677",
   "metadata": {},
   "source": [
    "### Object.entries()\n",
    "\n",
    "`Object.entries()`方法返回一个数组，成员是参数对象自身的（不含继承的）所有可遍历（enumerable）属性的键值对数组。"
   ]
  },
  {
   "cell_type": "code",
   "execution_count": null,
   "id": "013b0f06",
   "metadata": {
    "attributes": {
     "classes": [
      "javascript"
     ],
     "id": ""
    }
   },
   "outputs": [],
   "source": [
    "const obj = { foo: 'bar', baz: 42 };\n",
    "Object.entries(obj)\n",
    "// [ [\"foo\", \"bar\"], [\"baz\", 42] ]"
   ]
  },
  {
   "cell_type": "markdown",
   "id": "eaed3e58",
   "metadata": {},
   "source": [
    "除了返回值不一样，该方法的行为与`Object.values`基本一致。\n",
    "\n",
    "如果原对象的属性名是一个 Symbol 值，该属性会被忽略。"
   ]
  },
  {
   "cell_type": "code",
   "execution_count": null,
   "id": "0c5e646c",
   "metadata": {
    "attributes": {
     "classes": [
      "javascript"
     ],
     "id": ""
    }
   },
   "outputs": [],
   "source": [
    "Object.entries({ [Symbol()]: 123, foo: 'abc' });\n",
    "// [ [ 'foo', 'abc' ] ]"
   ]
  },
  {
   "cell_type": "markdown",
   "id": "349e774a",
   "metadata": {},
   "source": [
    "上面代码中，原对象有两个属性，`Object.entries`只输出属性名非 Symbol 值的属性。将来可能会有`Reflect.ownEntries()`方法，返回对象自身的所有属性。\n",
    "\n",
    "`Object.entries`的基本用途是遍历对象的属性。"
   ]
  },
  {
   "cell_type": "code",
   "execution_count": null,
   "id": "e76a3e8a",
   "metadata": {
    "attributes": {
     "classes": [
      "javascript"
     ],
     "id": ""
    }
   },
   "outputs": [],
   "source": [
    "let obj = { one: 1, two: 2 };\n",
    "for (let [k, v] of Object.entries(obj)) {\n",
    "  console.log(\n",
    "    `${JSON.stringify(k)}: ${JSON.stringify(v)}`\n",
    "  );\n",
    "}\n",
    "// \"one\": 1\n",
    "// \"two\": 2"
   ]
  },
  {
   "cell_type": "markdown",
   "id": "28c8f1d7",
   "metadata": {},
   "source": [
    "`Object.entries`方法的另一个用处是，将对象转为真正的`Map`结构。"
   ]
  },
  {
   "cell_type": "code",
   "execution_count": null,
   "id": "0cb97541",
   "metadata": {
    "attributes": {
     "classes": [
      "javascript"
     ],
     "id": ""
    }
   },
   "outputs": [],
   "source": [
    "const obj = { foo: 'bar', baz: 42 };\n",
    "const map = new Map(Object.entries(obj));\n",
    "map // Map { foo: \"bar\", baz: 42 }"
   ]
  },
  {
   "cell_type": "markdown",
   "id": "3bda442c",
   "metadata": {},
   "source": [
    "自己实现`Object.entries`方法，非常简单。"
   ]
  },
  {
   "cell_type": "code",
   "execution_count": null,
   "id": "fadab801",
   "metadata": {
    "attributes": {
     "classes": [
      "javascript"
     ],
     "id": ""
    }
   },
   "outputs": [],
   "source": [
    "// Generator函数的版本\n",
    "function* entries(obj) {\n",
    "  for (let key of Object.keys(obj)) {\n",
    "    yield [key, obj[key]];\n",
    "  }\n",
    "}\n",
    "\n",
    "// 非Generator函数的版本\n",
    "function entries(obj) {\n",
    "  let arr = [];\n",
    "  for (let key of Object.keys(obj)) {\n",
    "    arr.push([key, obj[key]]);\n",
    "  }\n",
    "  return arr;\n",
    "}"
   ]
  },
  {
   "cell_type": "markdown",
   "id": "293b16b2",
   "metadata": {},
   "source": [
    "## Object.fromEntries()\n",
    "\n",
    "`Object.fromEntries()`方法是`Object.entries()`的逆操作，用于将一个键值对数组转为对象。"
   ]
  },
  {
   "cell_type": "code",
   "execution_count": null,
   "id": "15051e4a",
   "metadata": {
    "attributes": {
     "classes": [
      "javascript"
     ],
     "id": ""
    }
   },
   "outputs": [],
   "source": [
    "Object.fromEntries([\n",
    "  ['foo', 'bar'],\n",
    "  ['baz', 42]\n",
    "])\n",
    "// { foo: \"bar\", baz: 42 }"
   ]
  },
  {
   "cell_type": "markdown",
   "id": "87a5c417",
   "metadata": {},
   "source": [
    "该方法的主要目的，是将键值对的数据结构还原为对象，因此特别适合将 Map 结构转为对象。"
   ]
  },
  {
   "cell_type": "code",
   "execution_count": null,
   "id": "11c17443",
   "metadata": {
    "attributes": {
     "classes": [
      "javascript"
     ],
     "id": ""
    }
   },
   "outputs": [],
   "source": [
    "// 例一\n",
    "const entries = new Map([\n",
    "  ['foo', 'bar'],\n",
    "  ['baz', 42]\n",
    "]);\n",
    "\n",
    "Object.fromEntries(entries)\n",
    "// { foo: \"bar\", baz: 42 }\n",
    "\n",
    "// 例二\n",
    "const map = new Map().set('foo', true).set('bar', false);\n",
    "Object.fromEntries(map)\n",
    "// { foo: true, bar: false }"
   ]
  },
  {
   "cell_type": "markdown",
   "id": "43ed13b1",
   "metadata": {},
   "source": [
    "该方法的一个用处是配合`URLSearchParams`对象，将查询字符串转为对象。"
   ]
  },
  {
   "cell_type": "code",
   "execution_count": null,
   "id": "0a000fcd",
   "metadata": {
    "attributes": {
     "classes": [
      "javascript"
     ],
     "id": ""
    }
   },
   "outputs": [],
   "source": [
    "Object.fromEntries(new URLSearchParams('foo=bar&baz=qux'))\n",
    "// { foo: \"bar\", baz: \"qux\" }"
   ]
  },
  {
   "cell_type": "markdown",
   "id": "b483f4b1",
   "metadata": {},
   "source": [
    "## Object.hasOwn()\n",
    "\n",
    "JavaScript 对象的属性分成两种：自身的属性和继承的属性。对象实例有一个`hasOwnProperty()`方法，可以判断某个属性是否为原生属性。ES2022 在`Object`对象上面新增了一个静态方法[`Object.hasOwn()`](https://github.com/tc39/proposal-accessible-object-hasownproperty)，也可以判断是否为自身的属性。\n",
    "\n",
    "`Object.hasOwn()`可以接受两个参数，第一个是所要判断的对象，第二个是属性名。"
   ]
  },
  {
   "cell_type": "code",
   "execution_count": null,
   "id": "1da1b382",
   "metadata": {
    "attributes": {
     "classes": [
      "javascript"
     ],
     "id": ""
    }
   },
   "outputs": [],
   "source": [
    "const foo = Object.create({ a: 123 });\n",
    "foo.b = 456;\n",
    "\n",
    "Object.hasOwn(foo, 'a') // false\n",
    "Object.hasOwn(foo, 'b') // true"
   ]
  },
  {
   "cell_type": "markdown",
   "id": "6cbdac76",
   "metadata": {},
   "source": [
    "上面示例中，对象`foo`的属性`a`是继承属性，属性`b`是原生属性。`Object.hasOwn()`对属性`a`返回`false`，对属性`b`返回`true`。\n",
    "\n",
    "`Object.hasOwn()`的一个好处是，对于不继承`Object.prototype`的对象不会报错，而`hasOwnProperty()`是会报错的。"
   ]
  },
  {
   "cell_type": "code",
   "execution_count": null,
   "id": "bc9bd523",
   "metadata": {
    "attributes": {
     "classes": [
      "javascript"
     ],
     "id": ""
    }
   },
   "outputs": [],
   "source": [
    "const obj = Object.create(null);\n",
    "\n",
    "obj.hasOwnProperty('foo') // 报错\n",
    "Object.hasOwn(obj, 'foo') // false"
   ]
  },
  {
   "cell_type": "markdown",
   "id": "f5ccede4",
   "metadata": {},
   "source": [
    "上面示例中，`Object.create(null)`返回的对象`obj`是没有原型的，不继承任何属性，这导致调用`obj.hasOwnProperty()`会报错，但是`Object.hasOwn()`就能正确处理这种情况。"
   ]
  }
 ],
 "metadata": {},
 "nbformat": 4,
 "nbformat_minor": 5
}

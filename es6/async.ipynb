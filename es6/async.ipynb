{
 "cells": [
  {
   "cell_type": "markdown",
   "id": "5ef8d75f",
   "metadata": {},
   "source": [
    "# async 函数\n",
    "\n",
    "## 含义\n",
    "\n",
    "ES2017 标准引入了 async 函数，使得异步操作变得更加方便。\n",
    "\n",
    "async 函数是什么？一句话，它就是 Generator 函数的语法糖。\n",
    "\n",
    "前文有一个 Generator 函数，依次读取两个文件。"
   ]
  },
  {
   "cell_type": "code",
   "execution_count": null,
   "id": "b3eb417c",
   "metadata": {
    "attributes": {
     "classes": [
      "javascript"
     ],
     "id": ""
    }
   },
   "outputs": [],
   "source": [
    "const fs = require('fs');\n",
    "\n",
    "const readFile = function (fileName) {\n",
    "  return new Promise(function (resolve, reject) {\n",
    "    fs.readFile(fileName, function(error, data) {\n",
    "      if (error) return reject(error);\n",
    "      resolve(data);\n",
    "    });\n",
    "  });\n",
    "};\n",
    "\n",
    "const gen = function* () {\n",
    "  const f1 = yield readFile('/etc/fstab');\n",
    "  const f2 = yield readFile('/etc/shells');\n",
    "  console.log(f1.toString());\n",
    "  console.log(f2.toString());\n",
    "};"
   ]
  },
  {
   "cell_type": "markdown",
   "id": "60b58314",
   "metadata": {},
   "source": [
    "上面代码的函数`gen`可以写成`async`函数，就是下面这样。"
   ]
  },
  {
   "cell_type": "code",
   "execution_count": null,
   "id": "63d01a30",
   "metadata": {
    "attributes": {
     "classes": [
      "javascript"
     ],
     "id": ""
    }
   },
   "outputs": [],
   "source": [
    "const asyncReadFile = async function () {\n",
    "  const f1 = await readFile('/etc/fstab');\n",
    "  const f2 = await readFile('/etc/shells');\n",
    "  console.log(f1.toString());\n",
    "  console.log(f2.toString());\n",
    "};"
   ]
  },
  {
   "cell_type": "markdown",
   "id": "085be0d8",
   "metadata": {},
   "source": [
    "一比较就会发现，`async`函数就是将 Generator 函数的星号（`*`）替换成`async`，将`yield`替换成`await`，仅此而已。\n",
    "\n",
    "`async`函数对 Generator 函数的改进，体现在以下四点。\n",
    "\n",
    "（1）内置执行器。\n",
    "\n",
    "Generator 函数的执行必须靠执行器，所以才有了`co`模块，而`async`函数自带执行器。也就是说，`async`函数的执行，与普通函数一模一样，只要一行。"
   ]
  },
  {
   "cell_type": "code",
   "execution_count": null,
   "id": "8a4cdf42",
   "metadata": {
    "attributes": {
     "classes": [
      "javascript"
     ],
     "id": ""
    }
   },
   "outputs": [],
   "source": [
    "asyncReadFile();"
   ]
  },
  {
   "cell_type": "markdown",
   "id": "4a570367",
   "metadata": {},
   "source": [
    "上面的代码调用了`asyncReadFile`函数，然后它就会自动执行，输出最后结果。这完全不像 Generator 函数，需要调用`next`方法，或者用`co`模块，才能真正执行，得到最后结果。\n",
    "\n",
    "（2）更好的语义。\n",
    "\n",
    "`async`和`await`，比起星号和`yield`，语义更清楚了。`async`表示函数里有异步操作，`await`表示紧跟在后面的表达式需要等待结果。\n",
    "\n",
    "（3）更广的适用性。\n",
    "\n",
    "`co`模块约定，`yield`命令后面只能是 Thunk 函数或 Promise 对象，而`async`函数的`await`命令后面，可以是 Promise 对象和原始类型的值（数值、字符串和布尔值，但这时会自动转成立即 resolved 的 Promise 对象）。\n",
    "\n",
    "（4）返回值是 Promise。\n",
    "\n",
    "`async`函数的返回值是 Promise 对象，这比 Generator 函数的返回值是 Iterator 对象方便多了。你可以用`then`方法指定下一步的操作。\n",
    "\n",
    "进一步说，`async`函数完全可以看作多个异步操作，包装成的一个 Promise 对象，而`await`命令就是内部`then`命令的语法糖。\n",
    "\n",
    "## 基本用法\n",
    "\n",
    "`async`函数返回一个 Promise 对象，可以使用`then`方法添加回调函数。当函数执行的时候，一旦遇到`await`就会先返回，等到异步操作完成，再接着执行函数体内后面的语句。\n",
    "\n",
    "下面是一个例子。"
   ]
  },
  {
   "cell_type": "code",
   "execution_count": null,
   "id": "d096c991",
   "metadata": {
    "attributes": {
     "classes": [
      "javascript"
     ],
     "id": ""
    }
   },
   "outputs": [],
   "source": [
    "async function getStockPriceByName(name) {\n",
    "  const symbol = await getStockSymbol(name);\n",
    "  const stockPrice = await getStockPrice(symbol);\n",
    "  return stockPrice;\n",
    "}\n",
    "\n",
    "getStockPriceByName('goog').then(function (result) {\n",
    "  console.log(result);\n",
    "});"
   ]
  },
  {
   "cell_type": "markdown",
   "id": "a9afb822",
   "metadata": {},
   "source": [
    "上面代码是一个获取股票报价的函数，函数前面的`async`关键字，表明该函数内部有异步操作。调用该函数时，会立即返回一个`Promise`对象。\n",
    "\n",
    "下面是另一个例子，指定多少毫秒后输出一个值。"
   ]
  },
  {
   "cell_type": "code",
   "execution_count": null,
   "id": "277edf07",
   "metadata": {
    "attributes": {
     "classes": [
      "javascript"
     ],
     "id": ""
    }
   },
   "outputs": [],
   "source": [
    "function timeout(ms) {\n",
    "  return new Promise((resolve) => {\n",
    "    setTimeout(resolve, ms);\n",
    "  });\n",
    "}\n",
    "\n",
    "async function asyncPrint(value, ms) {\n",
    "  await timeout(ms);\n",
    "  console.log(value);\n",
    "}\n",
    "\n",
    "asyncPrint('hello world', 50);"
   ]
  },
  {
   "cell_type": "markdown",
   "id": "64041959",
   "metadata": {},
   "source": [
    "上面代码指定 50 毫秒以后，输出`hello world`。\n",
    "\n",
    "由于`async`函数返回的是 Promise 对象，可以作为`await`命令的参数。所以，上面的例子也可以写成下面的形式。"
   ]
  },
  {
   "cell_type": "code",
   "execution_count": null,
   "id": "0e3223f0",
   "metadata": {
    "attributes": {
     "classes": [
      "javascript"
     ],
     "id": ""
    }
   },
   "outputs": [],
   "source": [
    "async function timeout(ms) {\n",
    "  await new Promise((resolve) => {\n",
    "    setTimeout(resolve, ms);\n",
    "  });\n",
    "}\n",
    "\n",
    "async function asyncPrint(value, ms) {\n",
    "  await timeout(ms);\n",
    "  console.log(value);\n",
    "}\n",
    "\n",
    "asyncPrint('hello world', 50);"
   ]
  },
  {
   "cell_type": "markdown",
   "id": "0beea492",
   "metadata": {},
   "source": [
    "async 函数有多种使用形式。"
   ]
  },
  {
   "cell_type": "code",
   "execution_count": null,
   "id": "cf67c324",
   "metadata": {
    "attributes": {
     "classes": [
      "javascript"
     ],
     "id": ""
    }
   },
   "outputs": [],
   "source": [
    "// 函数声明\n",
    "async function foo() {}\n",
    "\n",
    "// 函数表达式\n",
    "const foo = async function () {};\n",
    "\n",
    "// 对象的方法\n",
    "let obj = { async foo() {} };\n",
    "obj.foo().then(...)\n",
    "\n",
    "// Class 的方法\n",
    "class Storage {\n",
    "  constructor() {\n",
    "    this.cachePromise = caches.open('avatars');\n",
    "  }\n",
    "\n",
    "  async getAvatar(name) {\n",
    "    const cache = await this.cachePromise;\n",
    "    return cache.match(`/avatars/${name}.jpg`);\n",
    "  }\n",
    "}\n",
    "\n",
    "const storage = new Storage();\n",
    "storage.getAvatar('jake').then(…);\n",
    "\n",
    "// 箭头函数\n",
    "const foo = async () => {};"
   ]
  },
  {
   "cell_type": "markdown",
   "id": "4f8320c1",
   "metadata": {},
   "source": [
    "## 语法\n",
    "\n",
    "`async`函数的语法规则总体上比较简单，难点是错误处理机制。\n",
    "\n",
    "### 返回 Promise 对象\n",
    "\n",
    "`async`函数返回一个 Promise 对象。\n",
    "\n",
    "`async`函数内部`return`语句返回的值，会成为`then`方法回调函数的参数。"
   ]
  },
  {
   "cell_type": "code",
   "execution_count": null,
   "id": "305c8e33",
   "metadata": {
    "attributes": {
     "classes": [
      "javascript"
     ],
     "id": ""
    }
   },
   "outputs": [],
   "source": [
    "async function f() {\n",
    "  return 'hello world';\n",
    "}\n",
    "\n",
    "f().then(v => console.log(v))\n",
    "// \"hello world\""
   ]
  },
  {
   "cell_type": "markdown",
   "id": "60324b15",
   "metadata": {},
   "source": [
    "上面代码中，函数`f`内部`return`命令返回的值，会被`then`方法回调函数接收到。\n",
    "\n",
    "`async`函数内部抛出错误，会导致返回的 Promise 对象变为`reject`状态。抛出的错误对象会被`catch`方法回调函数接收到。"
   ]
  },
  {
   "cell_type": "code",
   "execution_count": null,
   "id": "98d93aee",
   "metadata": {
    "attributes": {
     "classes": [
      "javascript"
     ],
     "id": ""
    }
   },
   "outputs": [],
   "source": [
    "async function f() {\n",
    "  throw new Error('出错了');\n",
    "}\n",
    "\n",
    "f().then(\n",
    "  v => console.log('resolve', v),\n",
    "  e => console.log('reject', e)\n",
    ")\n",
    "//reject Error: 出错了"
   ]
  },
  {
   "cell_type": "markdown",
   "id": "25b422e4",
   "metadata": {},
   "source": [
    "### Promise 对象的状态变化\n",
    "\n",
    "`async`函数返回的 Promise 对象，必须等到内部所有`await`命令后面的 Promise 对象执行完，才会发生状态改变，除非遇到`return`语句或者抛出错误。也就是说，只有`async`函数内部的异步操作执行完，才会执行`then`方法指定的回调函数。\n",
    "\n",
    "下面是一个例子。"
   ]
  },
  {
   "cell_type": "code",
   "execution_count": null,
   "id": "8bcef157",
   "metadata": {
    "attributes": {
     "classes": [
      "javascript"
     ],
     "id": ""
    }
   },
   "outputs": [],
   "source": [
    "async function getTitle(url) {\n",
    "  let response = await fetch(url);\n",
    "  let html = await response.text();\n",
    "  return html.match(/<title>([\\s\\S]+)<\\/title>/i)[1];\n",
    "}\n",
    "getTitle('https://tc39.github.io/ecma262/').then(console.log)\n",
    "// \"ECMAScript 2017 Language Specification\""
   ]
  },
  {
   "cell_type": "markdown",
   "id": "7ebb0abf",
   "metadata": {},
   "source": [
    "上面代码中，函数`getTitle`内部有三个操作：抓取网页、取出文本、匹配页面标题。只有这三个操作全部完成，才会执行`then`方法里面的`console.log`。\n",
    "\n",
    "### await 命令\n",
    "\n",
    "正常情况下，`await`命令后面是一个 Promise 对象，返回该对象的结果。如果不是 Promise 对象，就直接返回对应的值。"
   ]
  },
  {
   "cell_type": "code",
   "execution_count": null,
   "id": "9b5fdc85",
   "metadata": {
    "attributes": {
     "classes": [
      "javascript"
     ],
     "id": ""
    }
   },
   "outputs": [],
   "source": [
    "async function f() {\n",
    "  // 等同于\n",
    "  // return 123;\n",
    "  return await 123;\n",
    "}\n",
    "\n",
    "f().then(v => console.log(v))\n",
    "// 123"
   ]
  },
  {
   "cell_type": "markdown",
   "id": "176364ad",
   "metadata": {},
   "source": [
    "上面代码中，`await`命令的参数是数值`123`，这时等同于`return 123`。\n",
    "\n",
    "另一种情况是，`await`命令后面是一个`thenable`对象（即定义了`then`方法的对象），那么`await`会将其等同于 Promise 对象。"
   ]
  },
  {
   "cell_type": "code",
   "execution_count": null,
   "id": "d7a8ba29",
   "metadata": {
    "attributes": {
     "classes": [
      "javascript"
     ],
     "id": ""
    }
   },
   "outputs": [],
   "source": [
    "class Sleep {\n",
    "  constructor(timeout) {\n",
    "    this.timeout = timeout;\n",
    "  }\n",
    "  then(resolve, reject) {\n",
    "    const startTime = Date.now();\n",
    "    setTimeout(\n",
    "      () => resolve(Date.now() - startTime),\n",
    "      this.timeout\n",
    "    );\n",
    "  }\n",
    "}\n",
    "\n",
    "(async () => {\n",
    "  const sleepTime = await new Sleep(1000);\n",
    "  console.log(sleepTime);\n",
    "})();\n",
    "// 1000"
   ]
  },
  {
   "cell_type": "markdown",
   "id": "a2089d6f",
   "metadata": {},
   "source": [
    "上面代码中，`await`命令后面是一个`Sleep`对象的实例。这个实例不是 Promise 对象，但是因为定义了`then`方法，`await`会将其视为`Promise`处理。\n",
    "\n",
    "这个例子还演示了如何实现休眠效果。JavaScript 一直没有休眠的语法，但是借助`await`命令就可以让程序停顿指定的时间。下面给出了一个简化的`sleep`实现。"
   ]
  },
  {
   "cell_type": "code",
   "execution_count": null,
   "id": "45090250",
   "metadata": {
    "attributes": {
     "classes": [
      "javascript"
     ],
     "id": ""
    }
   },
   "outputs": [],
   "source": [
    "function sleep(interval) {\n",
    "  return new Promise(resolve => {\n",
    "    setTimeout(resolve, interval);\n",
    "  })\n",
    "}\n",
    "\n",
    "// 用法\n",
    "async function one2FiveInAsync() {\n",
    "  for(let i = 1; i <= 5; i++) {\n",
    "    console.log(i);\n",
    "    await sleep(1000);\n",
    "  }\n",
    "}\n",
    "\n",
    "one2FiveInAsync();"
   ]
  },
  {
   "cell_type": "markdown",
   "id": "21b72165",
   "metadata": {},
   "source": [
    "`await`命令后面的 Promise 对象如果变为`reject`状态，则`reject`的参数会被`catch`方法的回调函数接收到。"
   ]
  },
  {
   "cell_type": "code",
   "execution_count": null,
   "id": "99c19c5e",
   "metadata": {
    "attributes": {
     "classes": [
      "javascript"
     ],
     "id": ""
    }
   },
   "outputs": [],
   "source": [
    "async function f() {\n",
    "  await Promise.reject('出错了');\n",
    "}\n",
    "\n",
    "f()\n",
    ".then(v => console.log(v))\n",
    ".catch(e => console.log(e))\n",
    "// 出错了"
   ]
  },
  {
   "cell_type": "markdown",
   "id": "148af7bd",
   "metadata": {},
   "source": [
    "注意，上面代码中，`await`语句前面没有`return`，但是`reject`方法的参数依然传入了`catch`方法的回调函数。这里如果在`await`前面加上`return`，效果是一样的。\n",
    "\n",
    "任何一个`await`语句后面的 Promise 对象变为`reject`状态，那么整个`async`函数都会中断执行。"
   ]
  },
  {
   "cell_type": "code",
   "execution_count": null,
   "id": "30092625",
   "metadata": {
    "attributes": {
     "classes": [
      "javascript"
     ],
     "id": ""
    }
   },
   "outputs": [],
   "source": [
    "async function f() {\n",
    "  await Promise.reject('出错了');\n",
    "  await Promise.resolve('hello world'); // 不会执行\n",
    "}"
   ]
  },
  {
   "cell_type": "markdown",
   "id": "9af72a4b",
   "metadata": {},
   "source": [
    "上面代码中，第二个`await`语句是不会执行的，因为第一个`await`语句状态变成了`reject`。\n",
    "\n",
    "有时，我们希望即使前一个异步操作失败，也不要中断后面的异步操作。这时可以将第一个`await`放在`try...catch`结构里面，这样不管这个异步操作是否成功，第二个`await`都会执行。"
   ]
  },
  {
   "cell_type": "code",
   "execution_count": null,
   "id": "f8a1a320",
   "metadata": {
    "attributes": {
     "classes": [
      "javascript"
     ],
     "id": ""
    }
   },
   "outputs": [],
   "source": [
    "async function f() {\n",
    "  try {\n",
    "    await Promise.reject('出错了');\n",
    "  } catch(e) {\n",
    "  }\n",
    "  return await Promise.resolve('hello world');\n",
    "}\n",
    "\n",
    "f()\n",
    ".then(v => console.log(v))\n",
    "// hello world"
   ]
  },
  {
   "cell_type": "markdown",
   "id": "1bed36eb",
   "metadata": {},
   "source": [
    "另一种方法是`await`后面的 Promise 对象再跟一个`catch`方法，处理前面可能出现的错误。"
   ]
  },
  {
   "cell_type": "code",
   "execution_count": null,
   "id": "1efc72c4",
   "metadata": {
    "attributes": {
     "classes": [
      "javascript"
     ],
     "id": ""
    }
   },
   "outputs": [],
   "source": [
    "async function f() {\n",
    "  await Promise.reject('出错了')\n",
    "    .catch(e => console.log(e));\n",
    "  return await Promise.resolve('hello world');\n",
    "}\n",
    "\n",
    "f()\n",
    ".then(v => console.log(v))\n",
    "// 出错了\n",
    "// hello world"
   ]
  },
  {
   "cell_type": "markdown",
   "id": "234bb162",
   "metadata": {},
   "source": [
    "### 错误处理\n",
    "\n",
    "如果`await`后面的异步操作出错，那么等同于`async`函数返回的 Promise 对象被`reject`。"
   ]
  },
  {
   "cell_type": "code",
   "execution_count": null,
   "id": "ec22c9ae",
   "metadata": {
    "attributes": {
     "classes": [
      "javascript"
     ],
     "id": ""
    }
   },
   "outputs": [],
   "source": [
    "async function f() {\n",
    "  await new Promise(function (resolve, reject) {\n",
    "    throw new Error('出错了');\n",
    "  });\n",
    "}\n",
    "\n",
    "f()\n",
    ".then(v => console.log(v))\n",
    ".catch(e => console.log(e))\n",
    "// Error：出错了"
   ]
  },
  {
   "cell_type": "markdown",
   "id": "c000a798",
   "metadata": {},
   "source": [
    "上面代码中，`async`函数`f`执行后，`await`后面的 Promise 对象会抛出一个错误对象，导致`catch`方法的回调函数被调用，它的参数就是抛出的错误对象。具体的执行机制，可以参考后文的“async 函数的实现原理”。\n",
    "\n",
    "防止出错的方法，也是将其放在`try...catch`代码块之中。"
   ]
  },
  {
   "cell_type": "code",
   "execution_count": null,
   "id": "bc07d74d",
   "metadata": {
    "attributes": {
     "classes": [
      "javascript"
     ],
     "id": ""
    }
   },
   "outputs": [],
   "source": [
    "async function f() {\n",
    "  try {\n",
    "    await new Promise(function (resolve, reject) {\n",
    "      throw new Error('出错了');\n",
    "    });\n",
    "  } catch(e) {\n",
    "  }\n",
    "  return await('hello world');\n",
    "}"
   ]
  },
  {
   "cell_type": "markdown",
   "id": "7998deef",
   "metadata": {},
   "source": [
    "如果有多个`await`命令，可以统一放在`try...catch`结构中。"
   ]
  },
  {
   "cell_type": "code",
   "execution_count": null,
   "id": "b3f4d199",
   "metadata": {
    "attributes": {
     "classes": [
      "javascript"
     ],
     "id": ""
    }
   },
   "outputs": [],
   "source": [
    "async function main() {\n",
    "  try {\n",
    "    const val1 = await firstStep();\n",
    "    const val2 = await secondStep(val1);\n",
    "    const val3 = await thirdStep(val1, val2);\n",
    "\n",
    "    console.log('Final: ', val3);\n",
    "  }\n",
    "  catch (err) {\n",
    "    console.error(err);\n",
    "  }\n",
    "}"
   ]
  },
  {
   "cell_type": "markdown",
   "id": "c707f87e",
   "metadata": {},
   "source": [
    "下面的例子使用`try...catch`结构，实现多次重复尝试。"
   ]
  },
  {
   "cell_type": "code",
   "execution_count": null,
   "id": "e5564821",
   "metadata": {
    "attributes": {
     "classes": [
      "javascript"
     ],
     "id": ""
    }
   },
   "outputs": [],
   "source": [
    "const superagent = require('superagent');\n",
    "const NUM_RETRIES = 3;\n",
    "\n",
    "async function test() {\n",
    "  let i;\n",
    "  for (i = 0; i < NUM_RETRIES; ++i) {\n",
    "    try {\n",
    "      await superagent.get('http://google.com/this-throws-an-error');\n",
    "      break;\n",
    "    } catch(err) {}\n",
    "  }\n",
    "  console.log(i); // 3\n",
    "}\n",
    "\n",
    "test();"
   ]
  },
  {
   "cell_type": "markdown",
   "id": "006ac589",
   "metadata": {},
   "source": [
    "上面代码中，如果`await`操作成功，就会使用`break`语句退出循环；如果失败，会被`catch`语句捕捉，然后进入下一轮循环。\n",
    "\n",
    "### 使用注意点\n",
    "\n",
    "第一点，前面已经说过，`await`命令后面的`Promise`对象，运行结果可能是`rejected`，所以最好把`await`命令放在`try...catch`代码块中。"
   ]
  },
  {
   "cell_type": "code",
   "execution_count": null,
   "id": "84441adf",
   "metadata": {
    "attributes": {
     "classes": [
      "javascript"
     ],
     "id": ""
    }
   },
   "outputs": [],
   "source": [
    "async function myFunction() {\n",
    "  try {\n",
    "    await somethingThatReturnsAPromise();\n",
    "  } catch (err) {\n",
    "    console.log(err);\n",
    "  }\n",
    "}\n",
    "\n",
    "// 另一种写法\n",
    "\n",
    "async function myFunction() {\n",
    "  await somethingThatReturnsAPromise()\n",
    "  .catch(function (err) {\n",
    "    console.log(err);\n",
    "  });\n",
    "}"
   ]
  },
  {
   "cell_type": "markdown",
   "id": "f2a474da",
   "metadata": {},
   "source": [
    "第二点，多个`await`命令后面的异步操作，如果不存在继发关系，最好让它们同时触发。"
   ]
  },
  {
   "cell_type": "code",
   "execution_count": null,
   "id": "0c8cdee1",
   "metadata": {
    "attributes": {
     "classes": [
      "javascript"
     ],
     "id": ""
    }
   },
   "outputs": [],
   "source": [
    "let foo = await getFoo();\n",
    "let bar = await getBar();"
   ]
  },
  {
   "cell_type": "markdown",
   "id": "9df51037",
   "metadata": {},
   "source": [
    "上面代码中，`getFoo`和`getBar`是两个独立的异步操作（即互不依赖），被写成继发关系。这样比较耗时，因为只有`getFoo`完成以后，才会执行`getBar`，完全可以让它们同时触发。"
   ]
  },
  {
   "cell_type": "code",
   "execution_count": null,
   "id": "423b8d89",
   "metadata": {
    "attributes": {
     "classes": [
      "javascript"
     ],
     "id": ""
    }
   },
   "outputs": [],
   "source": [
    "// 写法一\n",
    "let [foo, bar] = await Promise.all([getFoo(), getBar()]);\n",
    "\n",
    "// 写法二\n",
    "let fooPromise = getFoo();\n",
    "let barPromise = getBar();\n",
    "let foo = await fooPromise;\n",
    "let bar = await barPromise;"
   ]
  },
  {
   "cell_type": "markdown",
   "id": "3c7b963c",
   "metadata": {},
   "source": [
    "上面两种写法，`getFoo`和`getBar`都是同时触发，这样就会缩短程序的执行时间。\n",
    "\n",
    "第三点，`await`命令只能用在`async`函数之中，如果用在普通函数，就会报错。"
   ]
  },
  {
   "cell_type": "code",
   "execution_count": null,
   "id": "eb86fcfe",
   "metadata": {
    "attributes": {
     "classes": [
      "javascript"
     ],
     "id": ""
    }
   },
   "outputs": [],
   "source": [
    "async function dbFuc(db) {\n",
    "  let docs = [{}, {}, {}];\n",
    "\n",
    "  // 报错\n",
    "  docs.forEach(function (doc) {\n",
    "    await db.post(doc);\n",
    "  });\n",
    "}"
   ]
  },
  {
   "cell_type": "markdown",
   "id": "4995f88e",
   "metadata": {},
   "source": [
    "上面代码会报错，因为`await`用在普通函数之中了。但是，如果将`forEach`方法的参数改成`async`函数，也有问题。"
   ]
  },
  {
   "cell_type": "code",
   "execution_count": null,
   "id": "56c16ae4",
   "metadata": {
    "attributes": {
     "classes": [
      "javascript"
     ],
     "id": ""
    }
   },
   "outputs": [],
   "source": [
    "function dbFuc(db) { //这里不需要 async\n",
    "  let docs = [{}, {}, {}];\n",
    "\n",
    "  // 可能得到错误结果\n",
    "  docs.forEach(async function (doc) {\n",
    "    await db.post(doc);\n",
    "  });\n",
    "}"
   ]
  },
  {
   "cell_type": "markdown",
   "id": "aecb08f6",
   "metadata": {},
   "source": [
    "上面代码可能不会正常工作，原因是这时三个`db.post()`操作将是并发执行，也就是同时执行，而不是继发执行。正确的写法是采用`for`循环。"
   ]
  },
  {
   "cell_type": "code",
   "execution_count": null,
   "id": "bb1f0e15",
   "metadata": {
    "attributes": {
     "classes": [
      "javascript"
     ],
     "id": ""
    }
   },
   "outputs": [],
   "source": [
    "async function dbFuc(db) {\n",
    "  let docs = [{}, {}, {}];\n",
    "\n",
    "  for (let doc of docs) {\n",
    "    await db.post(doc);\n",
    "  }\n",
    "}"
   ]
  },
  {
   "cell_type": "markdown",
   "id": "72f647f1",
   "metadata": {},
   "source": [
    "另一种方法是使用数组的`reduce()`方法。"
   ]
  },
  {
   "cell_type": "code",
   "execution_count": null,
   "id": "7570e019",
   "metadata": {
    "attributes": {
     "classes": [
      "javascript"
     ],
     "id": ""
    }
   },
   "outputs": [],
   "source": [
    "async function dbFuc(db) {\n",
    "  let docs = [{}, {}, {}];\n",
    "\n",
    "  await docs.reduce(async (_, doc) => {\n",
    "    await _;\n",
    "    await db.post(doc);\n",
    "  }, undefined);\n",
    "}"
   ]
  },
  {
   "cell_type": "markdown",
   "id": "c309b20f",
   "metadata": {},
   "source": [
    "上面例子中，`reduce()`方法的第一个参数是`async`函数，导致该函数的第一个参数是前一步操作返回的 Promise 对象，所以必须使用`await`等待它操作结束。另外，`reduce()`方法返回的是`docs`数组最后一个成员的`async`函数的执行结果，也是一个 Promise 对象，导致在它前面也必须加上`await`。\n",
    "\n",
    "上面的`reduce()`的参数函数里面没有`return`语句，原因是这个函数的主要目的是`db.post()`操作，不是返回值。而且`async`函数不管有没有`return`语句，总是返回一个 Promise 对象，所以这里的`return`是不必要的。\n",
    "\n",
    "如果确实希望多个请求并发执行，可以使用`Promise.all`方法。当三个请求都会`resolved`时，下面两种写法效果相同。"
   ]
  },
  {
   "cell_type": "code",
   "execution_count": null,
   "id": "771789bd",
   "metadata": {
    "attributes": {
     "classes": [
      "javascript"
     ],
     "id": ""
    }
   },
   "outputs": [],
   "source": [
    "async function dbFuc(db) {\n",
    "  let docs = [{}, {}, {}];\n",
    "  let promises = docs.map((doc) => db.post(doc));\n",
    "\n",
    "  let results = await Promise.all(promises);\n",
    "  console.log(results);\n",
    "}\n",
    "\n",
    "// 或者使用下面的写法\n",
    "\n",
    "async function dbFuc(db) {\n",
    "  let docs = [{}, {}, {}];\n",
    "  let promises = docs.map((doc) => db.post(doc));\n",
    "\n",
    "  let results = [];\n",
    "  for (let promise of promises) {\n",
    "    results.push(await promise);\n",
    "  }\n",
    "  console.log(results);\n",
    "}"
   ]
  },
  {
   "cell_type": "markdown",
   "id": "4ed3365a",
   "metadata": {},
   "source": [
    "第四点，async 函数可以保留运行堆栈。"
   ]
  },
  {
   "cell_type": "code",
   "execution_count": null,
   "id": "2676b9c0",
   "metadata": {
    "attributes": {
     "classes": [
      "javascript"
     ],
     "id": ""
    }
   },
   "outputs": [],
   "source": [
    "const a = () => {\n",
    "  b().then(() => c());\n",
    "};"
   ]
  },
  {
   "cell_type": "markdown",
   "id": "cc719fee",
   "metadata": {},
   "source": [
    "上面代码中，函数`a`内部运行了一个异步任务`b()`。当`b()`运行的时候，函数`a()`不会中断，而是继续执行。等到`b()`运行结束，可能`a()`早就运行结束了，`b()`所在的上下文环境已经消失了。如果`b()`或`c()`报错，错误堆栈将不包括`a()`。\n",
    "\n",
    "现在将这个例子改成`async`函数。"
   ]
  },
  {
   "cell_type": "code",
   "execution_count": null,
   "id": "252578d8",
   "metadata": {
    "attributes": {
     "classes": [
      "javascript"
     ],
     "id": ""
    }
   },
   "outputs": [],
   "source": [
    "const a = async () => {\n",
    "  await b();\n",
    "  c();\n",
    "};"
   ]
  },
  {
   "cell_type": "markdown",
   "id": "3d44310f",
   "metadata": {},
   "source": [
    "上面代码中，`b()`运行的时候，`a()`是暂停执行，上下文环境都保存着。一旦`b()`或`c()`报错，错误堆栈将包括`a()`。\n",
    "\n",
    "## async 函数的实现原理\n",
    "\n",
    "async 函数的实现原理，就是将 Generator 函数和自动执行器，包装在一个函数里。"
   ]
  },
  {
   "cell_type": "code",
   "execution_count": null,
   "id": "6c16d605",
   "metadata": {
    "attributes": {
     "classes": [
      "javascript"
     ],
     "id": ""
    }
   },
   "outputs": [],
   "source": [
    "async function fn(args) {\n",
    "  // ...\n",
    "}\n",
    "\n",
    "// 等同于\n",
    "\n",
    "function fn(args) {\n",
    "  return spawn(function* () {\n",
    "    // ...\n",
    "  });\n",
    "}"
   ]
  },
  {
   "cell_type": "markdown",
   "id": "f1ec7104",
   "metadata": {},
   "source": [
    "所有的`async`函数都可以写成上面的第二种形式，其中的`spawn`函数就是自动执行器。\n",
    "\n",
    "下面给出`spawn`函数的实现，基本就是前文自动执行器的翻版。"
   ]
  },
  {
   "cell_type": "code",
   "execution_count": null,
   "id": "6172c65e",
   "metadata": {
    "attributes": {
     "classes": [
      "javascript"
     ],
     "id": ""
    }
   },
   "outputs": [],
   "source": [
    "function spawn(genF) {\n",
    "  return new Promise(function(resolve, reject) {\n",
    "    const gen = genF();\n",
    "    function step(nextF) {\n",
    "      let next;\n",
    "      try {\n",
    "        next = nextF();\n",
    "      } catch(e) {\n",
    "        return reject(e);\n",
    "      }\n",
    "      if(next.done) {\n",
    "        return resolve(next.value);\n",
    "      }\n",
    "      Promise.resolve(next.value).then(function(v) {\n",
    "        step(function() { return gen.next(v); });\n",
    "      }, function(e) {\n",
    "        step(function() { return gen.throw(e); });\n",
    "      });\n",
    "    }\n",
    "    step(function() { return gen.next(undefined); });\n",
    "  });\n",
    "}"
   ]
  },
  {
   "cell_type": "markdown",
   "id": "3d2d4749",
   "metadata": {},
   "source": [
    "## 与其他异步处理方法的比较\n",
    "\n",
    "我们通过一个例子，来看 async 函数与 Promise、Generator 函数的比较。\n",
    "\n",
    "假定某个 DOM 元素上面，部署了一系列的动画，前一个动画结束，才能开始后一个。如果当中有一个动画出错，就不再往下执行，返回上一个成功执行的动画的返回值。\n",
    "\n",
    "首先是 Promise 的写法。"
   ]
  },
  {
   "cell_type": "code",
   "execution_count": null,
   "id": "5f729ed5",
   "metadata": {
    "attributes": {
     "classes": [
      "javascript"
     ],
     "id": ""
    }
   },
   "outputs": [],
   "source": [
    "function chainAnimationsPromise(elem, animations) {\n",
    "\n",
    "  // 变量ret用来保存上一个动画的返回值\n",
    "  let ret = null;\n",
    "\n",
    "  // 新建一个空的Promise\n",
    "  let p = Promise.resolve();\n",
    "\n",
    "  // 使用then方法，添加所有动画\n",
    "  for(let anim of animations) {\n",
    "    p = p.then(function(val) {\n",
    "      ret = val;\n",
    "      return anim(elem);\n",
    "    });\n",
    "  }\n",
    "\n",
    "  // 返回一个部署了错误捕捉机制的Promise\n",
    "  return p.catch(function(e) {\n",
    "    /* 忽略错误，继续执行 */\n",
    "  }).then(function() {\n",
    "    return ret;\n",
    "  });\n",
    "\n",
    "}"
   ]
  },
  {
   "cell_type": "markdown",
   "id": "04f38ec2",
   "metadata": {},
   "source": [
    "虽然 Promise 的写法比回调函数的写法大大改进，但是一眼看上去，代码完全都是 Promise 的 API（`then`、`catch`等等），操作本身的语义反而不容易看出来。\n",
    "\n",
    "接着是 Generator 函数的写法。"
   ]
  },
  {
   "cell_type": "code",
   "execution_count": null,
   "id": "d0bcfd0b",
   "metadata": {
    "attributes": {
     "classes": [
      "javascript"
     ],
     "id": ""
    }
   },
   "outputs": [],
   "source": [
    "function chainAnimationsGenerator(elem, animations) {\n",
    "\n",
    "  return spawn(function*() {\n",
    "    let ret = null;\n",
    "    try {\n",
    "      for(let anim of animations) {\n",
    "        ret = yield anim(elem);\n",
    "      }\n",
    "    } catch(e) {\n",
    "      /* 忽略错误，继续执行 */\n",
    "    }\n",
    "    return ret;\n",
    "  });\n",
    "\n",
    "}"
   ]
  },
  {
   "cell_type": "markdown",
   "id": "4861804e",
   "metadata": {},
   "source": [
    "上面代码使用 Generator 函数遍历了每个动画，语义比 Promise 写法更清晰，用户定义的操作全部都出现在`spawn`函数的内部。这个写法的问题在于，必须有一个任务运行器，自动执行 Generator 函数，上面代码的`spawn`函数就是自动执行器，它返回一个 Promise 对象，而且必须保证`yield`语句后面的表达式，必须返回一个 Promise。\n",
    "\n",
    "最后是 async 函数的写法。"
   ]
  },
  {
   "cell_type": "code",
   "execution_count": null,
   "id": "3c5b04f9",
   "metadata": {
    "attributes": {
     "classes": [
      "javascript"
     ],
     "id": ""
    }
   },
   "outputs": [],
   "source": [
    "async function chainAnimationsAsync(elem, animations) {\n",
    "  let ret = null;\n",
    "  try {\n",
    "    for(let anim of animations) {\n",
    "      ret = await anim(elem);\n",
    "    }\n",
    "  } catch(e) {\n",
    "    /* 忽略错误，继续执行 */\n",
    "  }\n",
    "  return ret;\n",
    "}"
   ]
  },
  {
   "cell_type": "markdown",
   "id": "2b844fe9",
   "metadata": {},
   "source": [
    "可以看到 Async 函数的实现最简洁，最符合语义，几乎没有语义不相关的代码。它将 Generator 写法中的自动执行器，改在语言层面提供，不暴露给用户，因此代码量最少。如果使用 Generator 写法，自动执行器需要用户自己提供。\n",
    "\n",
    "## 实例：按顺序完成异步操作\n",
    "\n",
    "实际开发中，经常遇到一组异步操作，需要按照顺序完成。比如，依次远程读取一组 URL，然后按照读取的顺序输出结果。\n",
    "\n",
    "Promise 的写法如下。"
   ]
  },
  {
   "cell_type": "code",
   "execution_count": null,
   "id": "a7e5c1de",
   "metadata": {
    "attributes": {
     "classes": [
      "javascript"
     ],
     "id": ""
    }
   },
   "outputs": [],
   "source": [
    "function logInOrder(urls) {\n",
    "  // 远程读取所有URL\n",
    "  const textPromises = urls.map(url => {\n",
    "    return fetch(url).then(response => response.text());\n",
    "  });\n",
    "\n",
    "  // 按次序输出\n",
    "  textPromises.reduce((chain, textPromise) => {\n",
    "    return chain.then(() => textPromise)\n",
    "      .then(text => console.log(text));\n",
    "  }, Promise.resolve());\n",
    "}"
   ]
  },
  {
   "cell_type": "markdown",
   "id": "b6378020",
   "metadata": {},
   "source": [
    "上面代码使用`fetch`方法，同时远程读取一组 URL。每个`fetch`操作都返回一个 Promise 对象，放入`textPromises`数组。然后，`reduce`方法依次处理每个 Promise 对象，然后使用`then`，将所有 Promise 对象连起来，因此就可以依次输出结果。\n",
    "\n",
    "这种写法不太直观，可读性比较差。下面是 async 函数实现。"
   ]
  },
  {
   "cell_type": "code",
   "execution_count": null,
   "id": "01dc0e3d",
   "metadata": {
    "attributes": {
     "classes": [
      "javascript"
     ],
     "id": ""
    }
   },
   "outputs": [],
   "source": [
    "async function logInOrder(urls) {\n",
    "  for (const url of urls) {\n",
    "    const response = await fetch(url);\n",
    "    console.log(await response.text());\n",
    "  }\n",
    "}"
   ]
  },
  {
   "cell_type": "markdown",
   "id": "d914ceef",
   "metadata": {},
   "source": [
    "上面代码确实大大简化，问题是所有远程操作都是继发。只有前一个 URL 返回结果，才会去读取下一个 URL，这样做效率很差，非常浪费时间。我们需要的是并发发出远程请求。"
   ]
  },
  {
   "cell_type": "code",
   "execution_count": null,
   "id": "f5f71604",
   "metadata": {
    "attributes": {
     "classes": [
      "javascript"
     ],
     "id": ""
    }
   },
   "outputs": [],
   "source": [
    "async function logInOrder(urls) {\n",
    "  // 并发读取远程URL\n",
    "  const textPromises = urls.map(async url => {\n",
    "    const response = await fetch(url);\n",
    "    return response.text();\n",
    "  });\n",
    "\n",
    "  // 按次序输出\n",
    "  for (const textPromise of textPromises) {\n",
    "    console.log(await textPromise);\n",
    "  }\n",
    "}"
   ]
  },
  {
   "cell_type": "markdown",
   "id": "38e0e8a4",
   "metadata": {},
   "source": [
    "上面代码中，虽然`map`方法的参数是`async`函数，但它是并发执行的，因为只有`async`函数内部是继发执行，外部不受影响。后面的`for..of`循环内部使用了`await`，因此实现了按顺序输出。\n",
    "\n",
    "## 顶层 await\n",
    "\n",
    "早期的语法规定是，`await`命令只能出现在 async 函数内部，否则都会报错。"
   ]
  },
  {
   "cell_type": "code",
   "execution_count": null,
   "id": "db4546da",
   "metadata": {
    "attributes": {
     "classes": [
      "javascript"
     ],
     "id": ""
    }
   },
   "outputs": [],
   "source": [
    "// 报错\n",
    "const data = await fetch('https://api.example.com');"
   ]
  },
  {
   "cell_type": "markdown",
   "id": "dc04569a",
   "metadata": {},
   "source": [
    "上面代码中，`await`命令独立使用，没有放在 async 函数里面，就会报错。\n",
    "\n",
    "从 [ES2022](https://github.com/tc39/proposal-top-level-await) 开始，允许在模块的顶层独立使用`await`命令，使得上面那行代码不会报错了。它的主要目的是使用`await`解决模块异步加载的问题。"
   ]
  },
  {
   "cell_type": "code",
   "execution_count": null,
   "id": "e44e51bc",
   "metadata": {
    "attributes": {
     "classes": [
      "javascript"
     ],
     "id": ""
    }
   },
   "outputs": [],
   "source": [
    "// awaiting.js\n",
    "let output;\n",
    "async function main() {\n",
    "  const dynamic = await import(someMission);\n",
    "  const data = await fetch(url);\n",
    "  output = someProcess(dynamic.default, data);\n",
    "}\n",
    "main();\n",
    "export { output };"
   ]
  },
  {
   "cell_type": "markdown",
   "id": "da999a67",
   "metadata": {},
   "source": [
    "上面代码中，模块`awaiting.js`的输出值`output`，取决于异步操作。我们把异步操作包装在一个 async 函数里面，然后调用这个函数，只有等里面的异步操作都执行，变量`output`才会有值，否则就返回`undefined`。\n",
    "\n",
    "下面是加载这个模块的写法。"
   ]
  },
  {
   "cell_type": "code",
   "execution_count": null,
   "id": "ef0eaec2",
   "metadata": {
    "attributes": {
     "classes": [
      "javascript"
     ],
     "id": ""
    }
   },
   "outputs": [],
   "source": [
    "// usage.js\n",
    "import { output } from \"./awaiting.js\";\n",
    "\n",
    "function outputPlusValue(value) { return output + value }\n",
    "\n",
    "console.log(outputPlusValue(100));\n",
    "setTimeout(() => console.log(outputPlusValue(100)), 1000);"
   ]
  },
  {
   "cell_type": "markdown",
   "id": "2708480a",
   "metadata": {},
   "source": [
    "上面代码中，`outputPlusValue()`的执行结果，完全取决于执行的时间。如果`awaiting.js`里面的异步操作没执行完，加载进来的`output`的值就是`undefined`。\n",
    "\n",
    "目前的解决方法，就是让原始模块输出一个 Promise 对象，从这个 Promise 对象判断异步操作有没有结束。"
   ]
  },
  {
   "cell_type": "code",
   "execution_count": null,
   "id": "f895b308",
   "metadata": {
    "attributes": {
     "classes": [
      "javascript"
     ],
     "id": ""
    }
   },
   "outputs": [],
   "source": [
    "// awaiting.js\n",
    "let output;\n",
    "export default (async function main() {\n",
    "  const dynamic = await import(someMission);\n",
    "  const data = await fetch(url);\n",
    "  output = someProcess(dynamic.default, data);\n",
    "})();\n",
    "export { output };"
   ]
  },
  {
   "cell_type": "markdown",
   "id": "d0fa23c1",
   "metadata": {},
   "source": [
    "上面代码中，`awaiting.js`除了输出`output`，还默认输出一个 Promise 对象（async 函数立即执行后，返回一个 Promise 对象），从这个对象判断异步操作是否结束。\n",
    "\n",
    "下面是加载这个模块的新的写法。"
   ]
  },
  {
   "cell_type": "code",
   "execution_count": null,
   "id": "a7976013",
   "metadata": {
    "attributes": {
     "classes": [
      "javascript"
     ],
     "id": ""
    }
   },
   "outputs": [],
   "source": [
    "// usage.js\n",
    "import promise, { output } from \"./awaiting.js\";\n",
    "\n",
    "function outputPlusValue(value) { return output + value }\n",
    "\n",
    "promise.then(() => {\n",
    "  console.log(outputPlusValue(100));\n",
    "  setTimeout(() => console.log(outputPlusValue(100)), 1000);\n",
    "});"
   ]
  },
  {
   "cell_type": "markdown",
   "id": "ba108aa9",
   "metadata": {},
   "source": [
    "上面代码中，将`awaiting.js`对象的输出，放在`promise.then()`里面，这样就能保证异步操作完成以后，才去读取`output`。\n",
    "\n",
    "这种写法比较麻烦，等于要求模块的使用者遵守一个额外的使用协议，按照特殊的方法使用这个模块。一旦你忘了要用 Promise 加载，只使用正常的加载方法，依赖这个模块的代码就可能出错。而且，如果上面的`usage.js`又有对外的输出，等于这个依赖链的所有模块都要使用 Promise 加载。\n",
    "\n",
    "顶层的`await`命令，就是为了解决这个问题。它保证只有异步操作完成，模块才会输出值。"
   ]
  },
  {
   "cell_type": "code",
   "execution_count": null,
   "id": "65853c83",
   "metadata": {
    "attributes": {
     "classes": [
      "javascript"
     ],
     "id": ""
    }
   },
   "outputs": [],
   "source": [
    "// awaiting.js\n",
    "const dynamic = import(someMission);\n",
    "const data = fetch(url);\n",
    "export const output = someProcess((await dynamic).default, await data);"
   ]
  },
  {
   "cell_type": "markdown",
   "id": "4e462769",
   "metadata": {},
   "source": [
    "上面代码中，两个异步操作在输出的时候，都加上了`await`命令。只有等到异步操作完成，这个模块才会输出值。\n",
    "\n",
    "加载这个模块的写法如下。"
   ]
  },
  {
   "cell_type": "code",
   "execution_count": null,
   "id": "b8686cec",
   "metadata": {
    "attributes": {
     "classes": [
      "javascript"
     ],
     "id": ""
    }
   },
   "outputs": [],
   "source": [
    "// usage.js\n",
    "import { output } from \"./awaiting.js\";\n",
    "function outputPlusValue(value) { return output + value }\n",
    "\n",
    "console.log(outputPlusValue(100));\n",
    "setTimeout(() => console.log(outputPlusValue(100)), 1000);"
   ]
  },
  {
   "cell_type": "markdown",
   "id": "3331f80a",
   "metadata": {},
   "source": [
    "上面代码的写法，与普通的模块加载完全一样。也就是说，模块的使用者完全不用关心，依赖模块的内部有没有异步操作，正常加载即可。\n",
    "\n",
    "这时，模块的加载会等待依赖模块（上例是`awaiting.js`）的异步操作完成，才执行后面的代码，有点像暂停在那里。所以，它总是会得到正确的`output`，不会因为加载时机的不同，而得到不一样的值。\n",
    "\n",
    "注意，顶层`await`只能用在 ES6 模块，不能用在 CommonJS 模块。这是因为 CommonJS 模块的`require()`是同步加载，如果有顶层`await`，就没法处理加载了。\n",
    "\n",
    "下面是顶层`await`的一些使用场景。"
   ]
  },
  {
   "cell_type": "code",
   "execution_count": null,
   "id": "fb66e84a",
   "metadata": {
    "attributes": {
     "classes": [
      "javascript"
     ],
     "id": ""
    }
   },
   "outputs": [],
   "source": [
    "// import() 方法加载\n",
    "const strings = await import(`/i18n/${navigator.language}`);\n",
    "\n",
    "// 数据库操作\n",
    "const connection = await dbConnector();\n",
    "\n",
    "// 依赖回滚\n",
    "let jQuery;\n",
    "try {\n",
    "  jQuery = await import('https://cdn-a.com/jQuery');\n",
    "} catch {\n",
    "  jQuery = await import('https://cdn-b.com/jQuery');\n",
    "}"
   ]
  },
  {
   "cell_type": "markdown",
   "id": "fd76ff5d",
   "metadata": {},
   "source": [
    "注意，如果加载多个包含顶层`await`命令的模块，加载命令是同步执行的。"
   ]
  },
  {
   "cell_type": "code",
   "execution_count": null,
   "id": "c891267f",
   "metadata": {
    "attributes": {
     "classes": [
      "javascript"
     ],
     "id": ""
    }
   },
   "outputs": [],
   "source": [
    "// x.js\n",
    "console.log(\"X1\");\n",
    "await new Promise(r => setTimeout(r, 1000));\n",
    "console.log(\"X2\");\n",
    "\n",
    "// y.js\n",
    "console.log(\"Y\");\n",
    "\n",
    "// z.js\n",
    "import \"./x.js\";\n",
    "import \"./y.js\";\n",
    "console.log(\"Z\");"
   ]
  },
  {
   "cell_type": "markdown",
   "id": "2881bb3d",
   "metadata": {},
   "source": [
    "上面代码有三个模块，最后的`z.js`加载`x.js`和`y.js`，打印结果是`X1`、`Y`、`X2`、`Z`。这说明，`z.js`并没有等待`x.js`加载完成，再去加载`y.js`。\n",
    "\n",
    "顶层的`await`命令有点像，交出代码的执行权给其他的模块加载，等异步操作完成后，再拿回执行权，继续向下执行。"
   ]
  }
 ],
 "metadata": {},
 "nbformat": 4,
 "nbformat_minor": 5
}

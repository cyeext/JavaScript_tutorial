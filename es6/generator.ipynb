{
 "cells": [
  {
   "cell_type": "markdown",
   "id": "dba17ab3",
   "metadata": {},
   "source": [
    "# Generator 函数的语法\n",
    "\n",
    "## 简介\n",
    "\n",
    "### 基本概念\n",
    "\n",
    "Generator 函数是 ES6 提供的一种异步编程解决方案，语法行为与传统函数完全不同。本章详细介绍 Generator 函数的语法和 API，它的异步编程应用请看《Generator 函数的异步应用》一章。\n",
    "\n",
    "Generator 函数有多种理解角度。语法上，首先可以把它理解成，Generator 函数是一个状态机，封装了多个内部状态。\n",
    "\n",
    "执行 Generator 函数会返回一个遍历器对象，也就是说，Generator 函数除了状态机，还是一个遍历器对象生成函数。返回的遍历器对象，可以依次遍历 Generator 函数内部的每一个状态。\n",
    "\n",
    "形式上，Generator 函数是一个普通函数，但是有两个特征。一是，`function`关键字与函数名之间有一个星号；二是，函数体内部使用`yield`表达式，定义不同的内部状态（`yield`在英语里的意思就是“产出”）。"
   ]
  },
  {
   "cell_type": "code",
   "execution_count": null,
   "id": "f4074820",
   "metadata": {
    "attributes": {
     "classes": [
      "javascript"
     ],
     "id": ""
    }
   },
   "outputs": [],
   "source": [
    "function* helloWorldGenerator() {\n",
    "  yield 'hello';\n",
    "  yield 'world';\n",
    "  return 'ending';\n",
    "}\n",
    "\n",
    "var hw = helloWorldGenerator();"
   ]
  },
  {
   "cell_type": "markdown",
   "id": "40684da9",
   "metadata": {},
   "source": [
    "上面代码定义了一个 Generator 函数`helloWorldGenerator`，它内部有两个`yield`表达式（`hello`和`world`），即该函数有三个状态：hello，world 和 return 语句（结束执行）。\n",
    "\n",
    "然后，Generator 函数的调用方法与普通函数一样，也是在函数名后面加上一对圆括号。不同的是，调用 Generator 函数后，该函数并不执行，返回的也不是函数运行结果，而是一个指向内部状态的指针对象，也就是上一章介绍的遍历器对象（Iterator Object）。\n",
    "\n",
    "下一步，必须调用遍历器对象的`next`方法，使得指针移向下一个状态。也就是说，每次调用`next`方法，内部指针就从函数头部或上一次停下来的地方开始执行，直到遇到下一个`yield`表达式（或`return`语句）为止。换言之，Generator 函数是分段执行的，`yield`表达式是暂停执行的标记，而`next`方法可以恢复执行。"
   ]
  },
  {
   "cell_type": "code",
   "execution_count": null,
   "id": "164434a1",
   "metadata": {
    "attributes": {
     "classes": [
      "javascript"
     ],
     "id": ""
    }
   },
   "outputs": [],
   "source": [
    "hw.next()\n",
    "// { value: 'hello', done: false }\n",
    "\n",
    "hw.next()\n",
    "// { value: 'world', done: false }\n",
    "\n",
    "hw.next()\n",
    "// { value: 'ending', done: true }\n",
    "\n",
    "hw.next()\n",
    "// { value: undefined, done: true }"
   ]
  },
  {
   "cell_type": "markdown",
   "id": "2cb0f057",
   "metadata": {},
   "source": [
    "上面代码一共调用了四次`next`方法。\n",
    "\n",
    "第一次调用，Generator 函数开始执行，直到遇到第一个`yield`表达式为止。`next`方法返回一个对象，它的`value`属性就是当前`yield`表达式的值`hello`，`done`属性的值`false`，表示遍历还没有结束。\n",
    "\n",
    "第二次调用，Generator 函数从上次`yield`表达式停下的地方，一直执行到下一个`yield`表达式。`next`方法返回的对象的`value`属性就是当前`yield`表达式的值`world`，`done`属性的值`false`，表示遍历还没有结束。\n",
    "\n",
    "第三次调用，Generator 函数从上次`yield`表达式停下的地方，一直执行到`return`语句（如果没有`return`语句，就执行到函数结束）。`next`方法返回的对象的`value`属性，就是紧跟在`return`语句后面的表达式的值（如果没有`return`语句，则`value`属性的值为`undefined`），`done`属性的值`true`，表示遍历已经结束。\n",
    "\n",
    "第四次调用，此时 Generator 函数已经运行完毕，`next`方法返回对象的`value`属性为`undefined`，`done`属性为`true`。以后再调用`next`方法，返回的都是这个值。\n",
    "\n",
    "总结一下，调用 Generator 函数，返回一个遍历器对象，代表 Generator 函数的内部指针。以后，每次调用遍历器对象的`next`方法，就会返回一个有着`value`和`done`两个属性的对象。`value`属性表示当前的内部状态的值，是`yield`表达式后面那个表达式的值；`done`属性是一个布尔值，表示是否遍历结束。\n",
    "\n",
    "ES6 没有规定，`function`关键字与函数名之间的星号，写在哪个位置。这导致下面的写法都能通过。"
   ]
  },
  {
   "cell_type": "code",
   "execution_count": null,
   "id": "fec9db0b",
   "metadata": {
    "attributes": {
     "classes": [
      "javascript"
     ],
     "id": ""
    }
   },
   "outputs": [],
   "source": [
    "function * foo(x, y) { ··· }\n",
    "function *foo(x, y) { ··· }\n",
    "function* foo(x, y) { ··· }\n",
    "function*foo(x, y) { ··· }"
   ]
  },
  {
   "cell_type": "markdown",
   "id": "1163bed7",
   "metadata": {},
   "source": [
    "由于 Generator 函数仍然是普通函数，所以一般的写法是上面的第三种，即星号紧跟在`function`关键字后面。本书也采用这种写法。\n",
    "\n",
    "### yield 表达式\n",
    "\n",
    "由于 Generator 函数返回的遍历器对象，只有调用`next`方法才会遍历下一个内部状态，所以其实提供了一种可以暂停执行的函数。`yield`表达式就是暂停标志。\n",
    "\n",
    "遍历器对象的`next`方法的运行逻辑如下。\n",
    "\n",
    "（1）遇到`yield`表达式，就暂停执行后面的操作，并将紧跟在`yield`后面的那个表达式的值，作为返回的对象的`value`属性值。\n",
    "\n",
    "（2）下一次调用`next`方法时，再继续往下执行，直到遇到下一个`yield`表达式。\n",
    "\n",
    "（3）如果没有再遇到新的`yield`表达式，就一直运行到函数结束，直到`return`语句为止，并将`return`语句后面的表达式的值，作为返回的对象的`value`属性值。\n",
    "\n",
    "（4）如果该函数没有`return`语句，则返回的对象的`value`属性值为`undefined`。\n",
    "\n",
    "需要注意的是，`yield`表达式后面的表达式，只有当调用`next`方法、内部指针指向该语句时才会执行，因此等于为 JavaScript 提供了手动的“惰性求值”（Lazy Evaluation）的语法功能。"
   ]
  },
  {
   "cell_type": "code",
   "execution_count": null,
   "id": "d9c638af",
   "metadata": {
    "attributes": {
     "classes": [
      "javascript"
     ],
     "id": ""
    }
   },
   "outputs": [],
   "source": [
    "function* gen() {\n",
    "  yield  123 + 456;\n",
    "}"
   ]
  },
  {
   "cell_type": "markdown",
   "id": "8d14eb87",
   "metadata": {},
   "source": [
    "上面代码中，`yield`后面的表达式`123 + 456`，不会立即求值，只会在`next`方法将指针移到这一句时，才会求值。\n",
    "\n",
    "`yield`表达式与`return`语句既有相似之处，也有区别。相似之处在于，都能返回紧跟在语句后面的那个表达式的值。区别在于每次遇到`yield`，函数暂停执行，下一次再从该位置继续向后执行，而`return`语句不具备位置记忆的功能。一个函数里面，只能执行一次（或者说一个）`return`语句，但是可以执行多次（或者说多个）`yield`表达式。正常函数只能返回一个值，因为只能执行一次`return`；Generator 函数可以返回一系列的值，因为可以有任意多个`yield`。从另一个角度看，也可以说 Generator 生成了一系列的值，这也就是它的名称的来历（英语中，generator 这个词是“生成器”的意思）。\n",
    "\n",
    "Generator 函数可以不用`yield`表达式，这时就变成了一个单纯的暂缓执行函数。"
   ]
  },
  {
   "cell_type": "code",
   "execution_count": null,
   "id": "95f4ecd5",
   "metadata": {
    "attributes": {
     "classes": [
      "javascript"
     ],
     "id": ""
    }
   },
   "outputs": [],
   "source": [
    "function* f() {\n",
    "  console.log('执行了！')\n",
    "}\n",
    "\n",
    "var generator = f();\n",
    "\n",
    "setTimeout(function () {\n",
    "  generator.next()\n",
    "}, 2000);"
   ]
  },
  {
   "cell_type": "markdown",
   "id": "aeb1b749",
   "metadata": {},
   "source": [
    "上面代码中，函数`f`如果是普通函数，在为变量`generator`赋值时就会执行。但是，函数`f`是一个 Generator 函数，就变成只有调用`next`方法时，函数`f`才会执行。\n",
    "\n",
    "另外需要注意，`yield`表达式只能用在 Generator 函数里面，用在其他地方都会报错。"
   ]
  },
  {
   "cell_type": "code",
   "execution_count": null,
   "id": "303cbcae",
   "metadata": {
    "attributes": {
     "classes": [
      "javascript"
     ],
     "id": ""
    }
   },
   "outputs": [],
   "source": [
    "(function (){\n",
    "  yield 1;\n",
    "})()\n",
    "// SyntaxError: Unexpected number"
   ]
  },
  {
   "cell_type": "markdown",
   "id": "625db740",
   "metadata": {},
   "source": [
    "上面代码在一个普通函数中使用`yield`表达式，结果产生一个句法错误。\n",
    "\n",
    "下面是另外一个例子。"
   ]
  },
  {
   "cell_type": "code",
   "execution_count": null,
   "id": "2447d4d2",
   "metadata": {
    "attributes": {
     "classes": [
      "javascript"
     ],
     "id": ""
    }
   },
   "outputs": [],
   "source": [
    "var arr = [1, [[2, 3], 4], [5, 6]];\n",
    "\n",
    "var flat = function* (a) {\n",
    "  a.forEach(function (item) {\n",
    "    if (typeof item !== 'number') {\n",
    "      yield* flat(item);\n",
    "    } else {\n",
    "      yield item;\n",
    "    }\n",
    "  });\n",
    "};\n",
    "\n",
    "for (var f of flat(arr)){\n",
    "  console.log(f);\n",
    "}"
   ]
  },
  {
   "cell_type": "markdown",
   "id": "b135b55d",
   "metadata": {},
   "source": [
    "上面代码也会产生句法错误，因为`forEach`方法的参数是一个普通函数，但是在里面使用了`yield`表达式（这个函数里面还使用了`yield*`表达式，详细介绍见后文）。一种修改方法是改用`for`循环。"
   ]
  },
  {
   "cell_type": "code",
   "execution_count": null,
   "id": "f464be38",
   "metadata": {
    "attributes": {
     "classes": [
      "javascript"
     ],
     "id": ""
    }
   },
   "outputs": [],
   "source": [
    "var arr = [1, [[2, 3], 4], [5, 6]];\n",
    "\n",
    "var flat = function* (a) {\n",
    "  var length = a.length;\n",
    "  for (var i = 0; i < length; i++) {\n",
    "    var item = a[i];\n",
    "    if (typeof item !== 'number') {\n",
    "      yield* flat(item);\n",
    "    } else {\n",
    "      yield item;\n",
    "    }\n",
    "  }\n",
    "};\n",
    "\n",
    "for (var f of flat(arr)) {\n",
    "  console.log(f);\n",
    "}\n",
    "// 1, 2, 3, 4, 5, 6"
   ]
  },
  {
   "cell_type": "markdown",
   "id": "0aa03760",
   "metadata": {},
   "source": [
    "另外，`yield`表达式如果用在另一个表达式之中，必须放在圆括号里面。"
   ]
  },
  {
   "cell_type": "code",
   "execution_count": null,
   "id": "bf97a560",
   "metadata": {
    "attributes": {
     "classes": [
      "javascript"
     ],
     "id": ""
    }
   },
   "outputs": [],
   "source": [
    "function* demo() {\n",
    "  console.log('Hello' + yield); // SyntaxError\n",
    "  console.log('Hello' + yield 123); // SyntaxError\n",
    "\n",
    "  console.log('Hello' + (yield)); // OK\n",
    "  console.log('Hello' + (yield 123)); // OK\n",
    "}"
   ]
  },
  {
   "cell_type": "markdown",
   "id": "f483b723",
   "metadata": {},
   "source": [
    "`yield`表达式用作函数参数或放在赋值表达式的右边，可以不加括号。"
   ]
  },
  {
   "cell_type": "code",
   "execution_count": null,
   "id": "714983b1",
   "metadata": {
    "attributes": {
     "classes": [
      "javascript"
     ],
     "id": ""
    }
   },
   "outputs": [],
   "source": [
    "function* demo() {\n",
    "  foo(yield 'a', yield 'b'); // OK\n",
    "  let input = yield; // OK\n",
    "}"
   ]
  },
  {
   "cell_type": "markdown",
   "id": "80c6c3cc",
   "metadata": {},
   "source": [
    "### 与 Iterator 接口的关系\n",
    "\n",
    "上一章说过，任意一个对象的`Symbol.iterator`方法，等于该对象的遍历器生成函数，调用该函数会返回该对象的一个遍历器对象。\n",
    "\n",
    "由于 Generator 函数就是遍历器生成函数，因此可以把 Generator 赋值给对象的`Symbol.iterator`属性，从而使得该对象具有 Iterator 接口。"
   ]
  },
  {
   "cell_type": "code",
   "execution_count": null,
   "id": "14adea6b",
   "metadata": {
    "attributes": {
     "classes": [
      "javascript"
     ],
     "id": ""
    }
   },
   "outputs": [],
   "source": [
    "var myIterable = {};\n",
    "myIterable[Symbol.iterator] = function* () {\n",
    "  yield 1;\n",
    "  yield 2;\n",
    "  yield 3;\n",
    "};\n",
    "\n",
    "[...myIterable] // [1, 2, 3]"
   ]
  },
  {
   "cell_type": "markdown",
   "id": "a3295584",
   "metadata": {},
   "source": [
    "上面代码中，Generator 函数赋值给`Symbol.iterator`属性，从而使得`myIterable`对象具有了 Iterator 接口，可以被`...`运算符遍历了。\n",
    "\n",
    "Generator 函数执行后，返回一个遍历器对象。该对象本身也具有`Symbol.iterator`属性，执行后返回自身。"
   ]
  },
  {
   "cell_type": "code",
   "execution_count": null,
   "id": "77f0c417",
   "metadata": {
    "attributes": {
     "classes": [
      "javascript"
     ],
     "id": ""
    }
   },
   "outputs": [],
   "source": [
    "function* gen(){\n",
    "  // some code\n",
    "}\n",
    "\n",
    "var g = gen();\n",
    "\n",
    "g[Symbol.iterator]() === g\n",
    "// true"
   ]
  },
  {
   "cell_type": "markdown",
   "id": "1b03fcef",
   "metadata": {},
   "source": [
    "上面代码中，`gen`是一个 Generator 函数，调用它会生成一个遍历器对象`g`。它的`Symbol.iterator`属性，也是一个遍历器对象生成函数，执行后返回它自己。\n",
    "\n",
    "## next 方法的参数\n",
    "\n",
    "`yield`表达式本身没有返回值，或者说总是返回`undefined`。`next`方法可以带一个参数，该参数就会被当作上一个`yield`表达式的返回值。"
   ]
  },
  {
   "cell_type": "code",
   "execution_count": null,
   "id": "0ba4eb2e",
   "metadata": {
    "attributes": {
     "classes": [
      "javascript"
     ],
     "id": ""
    }
   },
   "outputs": [],
   "source": [
    "function* f() {\n",
    "  for(var i = 0; true; i++) {\n",
    "    var reset = yield i;\n",
    "    if(reset) { i = -1; }\n",
    "  }\n",
    "}\n",
    "\n",
    "var g = f();\n",
    "\n",
    "g.next() // { value: 0, done: false }\n",
    "g.next() // { value: 1, done: false }\n",
    "g.next(true) // { value: 0, done: false }"
   ]
  },
  {
   "cell_type": "markdown",
   "id": "21702360",
   "metadata": {},
   "source": [
    "上面代码先定义了一个可以无限运行的 Generator 函数`f`，如果`next`方法没有参数，每次运行到`yield`表达式，变量`reset`的值总是`undefined`。当`next`方法带一个参数`true`时，变量`reset`就被重置为这个参数（即`true`），因此`i`会等于`-1`，下一轮循环就会从`-1`开始递增。\n",
    "\n",
    "这个功能有很重要的语法意义。Generator 函数从暂停状态到恢复运行，它的上下文状态（context）是不变的。通过`next`方法的参数，就有办法在 Generator 函数开始运行之后，继续向函数体内部注入值。也就是说，可以在 Generator 函数运行的不同阶段，从外部向内部注入不同的值，从而调整函数行为。\n",
    "\n",
    "再看一个例子。"
   ]
  },
  {
   "cell_type": "code",
   "execution_count": null,
   "id": "d24e4c0b",
   "metadata": {
    "attributes": {
     "classes": [
      "javascript"
     ],
     "id": ""
    }
   },
   "outputs": [],
   "source": [
    "function* foo(x) {\n",
    "  var y = 2 * (yield (x + 1));\n",
    "  var z = yield (y / 3);\n",
    "  return (x + y + z);\n",
    "}\n",
    "\n",
    "var a = foo(5);\n",
    "a.next() // Object{value:6, done:false}\n",
    "a.next() // Object{value:NaN, done:false}\n",
    "a.next() // Object{value:NaN, done:true}\n",
    "\n",
    "var b = foo(5);\n",
    "b.next() // { value:6, done:false }\n",
    "b.next(12) // { value:8, done:false }\n",
    "b.next(13) // { value:42, done:true }"
   ]
  },
  {
   "cell_type": "markdown",
   "id": "31010332",
   "metadata": {},
   "source": [
    "上面代码中，第二次运行`next`方法的时候不带参数，导致 y 的值等于`2 * undefined`（即`NaN`），除以 3 以后还是`NaN`，因此返回对象的`value`属性也等于`NaN`。第三次运行`Next`方法的时候不带参数，所以`z`等于`undefined`，返回对象的`value`属性等于`5 + NaN + undefined`，即`NaN`。\n",
    "\n",
    "如果向`next`方法提供参数，返回结果就完全不一样了。上面代码第一次调用`b`的`next`方法时，返回`x+1`的值`6`；第二次调用`next`方法，将上一次`yield`表达式的值设为`12`，因此`y`等于`24`，返回`y / 3`的值`8`；第三次调用`next`方法，将上一次`yield`表达式的值设为`13`，因此`z`等于`13`，这时`x`等于`5`，`y`等于`24`，所以`return`语句的值等于`42`。\n",
    "\n",
    "注意，由于`next`方法的参数表示上一个`yield`表达式的返回值，所以在第一次使用`next`方法时，传递参数是无效的。V8 引擎直接忽略第一次使用`next`方法时的参数，只有从第二次使用`next`方法开始，参数才是有效的。从语义上讲，第一个`next`方法用来启动遍历器对象，所以不用带有参数。\n",
    "\n",
    "再看一个通过`next`方法的参数，向 Generator 函数内部输入值的例子。"
   ]
  },
  {
   "cell_type": "code",
   "execution_count": null,
   "id": "bd0052f3",
   "metadata": {
    "attributes": {
     "classes": [
      "javascript"
     ],
     "id": ""
    }
   },
   "outputs": [],
   "source": [
    "function* dataConsumer() {\n",
    "  console.log('Started');\n",
    "  console.log(`1. ${yield}`);\n",
    "  console.log(`2. ${yield}`);\n",
    "  return 'result';\n",
    "}\n",
    "\n",
    "let genObj = dataConsumer();\n",
    "genObj.next();\n",
    "// Started\n",
    "genObj.next('a')\n",
    "// 1. a\n",
    "genObj.next('b')\n",
    "// 2. b"
   ]
  },
  {
   "cell_type": "markdown",
   "id": "ba7b1213",
   "metadata": {},
   "source": [
    "上面代码是一个很直观的例子，每次通过`next`方法向 Generator 函数输入值，然后打印出来。\n",
    "\n",
    "如果想要第一次调用`next`方法时，就能够输入值，可以在 Generator 函数外面再包一层。"
   ]
  },
  {
   "cell_type": "code",
   "execution_count": null,
   "id": "355040cf",
   "metadata": {
    "attributes": {
     "classes": [
      "javascript"
     ],
     "id": ""
    }
   },
   "outputs": [],
   "source": [
    "function wrapper(generatorFunction) {\n",
    "  return function (...args) {\n",
    "    let generatorObject = generatorFunction(...args);\n",
    "    generatorObject.next();\n",
    "    return generatorObject;\n",
    "  };\n",
    "}\n",
    "\n",
    "const wrapped = wrapper(function* () {\n",
    "  console.log(`First input: ${yield}`);\n",
    "  return 'DONE';\n",
    "});\n",
    "\n",
    "wrapped().next('hello!')\n",
    "// First input: hello!"
   ]
  },
  {
   "cell_type": "markdown",
   "id": "110b0e09",
   "metadata": {},
   "source": [
    "上面代码中，Generator 函数如果不用`wrapper`先包一层，是无法第一次调用`next`方法，就输入参数的。\n",
    "\n",
    "## for...of 循环\n",
    "\n",
    "`for...of`循环可以自动遍历 Generator 函数运行时生成的`Iterator`对象，且此时不再需要调用`next`方法。"
   ]
  },
  {
   "cell_type": "code",
   "execution_count": null,
   "id": "efec1b99",
   "metadata": {
    "attributes": {
     "classes": [
      "javascript"
     ],
     "id": ""
    }
   },
   "outputs": [],
   "source": [
    "function* foo() {\n",
    "  yield 1;\n",
    "  yield 2;\n",
    "  yield 3;\n",
    "  yield 4;\n",
    "  yield 5;\n",
    "  return 6;\n",
    "}\n",
    "\n",
    "for (let v of foo()) {\n",
    "  console.log(v);\n",
    "}\n",
    "// 1 2 3 4 5"
   ]
  },
  {
   "cell_type": "markdown",
   "id": "c681f757",
   "metadata": {},
   "source": [
    "上面代码使用`for...of`循环，依次显示 5 个`yield`表达式的值。这里需要注意，一旦`next`方法的返回对象的`done`属性为`true`，`for...of`循环就会中止，且不包含该返回对象，所以上面代码的`return`语句返回的`6`，不包括在`for...of`循环之中。\n",
    "\n",
    "下面是一个利用 Generator 函数和`for...of`循环，实现斐波那契数列的例子。"
   ]
  },
  {
   "cell_type": "code",
   "execution_count": null,
   "id": "cb6ebe6e",
   "metadata": {
    "attributes": {
     "classes": [
      "javascript"
     ],
     "id": ""
    }
   },
   "outputs": [],
   "source": [
    "function* fibonacci() {\n",
    "  let [prev, curr] = [0, 1];\n",
    "  for (;;) {\n",
    "    yield curr;\n",
    "    [prev, curr] = [curr, prev + curr];\n",
    "  }\n",
    "}\n",
    "\n",
    "for (let n of fibonacci()) {\n",
    "  if (n > 1000) break;\n",
    "  console.log(n);\n",
    "}"
   ]
  },
  {
   "cell_type": "markdown",
   "id": "d68e4ef9",
   "metadata": {},
   "source": [
    "从上面代码可见，使用`for...of`语句时不需要使用`next`方法。\n",
    "\n",
    "利用`for...of`循环，可以写出遍历任意对象（object）的方法。原生的 JavaScript 对象没有遍历接口，无法使用`for...of`循环，通过 Generator 函数为它加上这个接口，就可以用了。"
   ]
  },
  {
   "cell_type": "code",
   "execution_count": null,
   "id": "ca34142e",
   "metadata": {
    "attributes": {
     "classes": [
      "javascript"
     ],
     "id": ""
    }
   },
   "outputs": [],
   "source": [
    "function* objectEntries(obj) {\n",
    "  let propKeys = Reflect.ownKeys(obj);\n",
    "\n",
    "  for (let propKey of propKeys) {\n",
    "    yield [propKey, obj[propKey]];\n",
    "  }\n",
    "}\n",
    "\n",
    "let jane = { first: 'Jane', last: 'Doe' };\n",
    "\n",
    "for (let [key, value] of objectEntries(jane)) {\n",
    "  console.log(`${key}: ${value}`);\n",
    "}\n",
    "// first: Jane\n",
    "// last: Doe"
   ]
  },
  {
   "cell_type": "markdown",
   "id": "1800387a",
   "metadata": {},
   "source": [
    "上面代码中，对象`jane`原生不具备 Iterator 接口，无法用`for...of`遍历。这时，我们通过 Generator 函数`objectEntries`为它加上遍历器接口，就可以用`for...of`遍历了。加上遍历器接口的另一种写法是，将 Generator 函数加到对象的`Symbol.iterator`属性上面。"
   ]
  },
  {
   "cell_type": "code",
   "execution_count": null,
   "id": "0cb0da28",
   "metadata": {
    "attributes": {
     "classes": [
      "javascript"
     ],
     "id": ""
    }
   },
   "outputs": [],
   "source": [
    "function* objectEntries() {\n",
    "  let propKeys = Object.keys(this);\n",
    "\n",
    "  for (let propKey of propKeys) {\n",
    "    yield [propKey, this[propKey]];\n",
    "  }\n",
    "}\n",
    "\n",
    "let jane = { first: 'Jane', last: 'Doe' };\n",
    "\n",
    "jane[Symbol.iterator] = objectEntries;\n",
    "\n",
    "for (let [key, value] of jane) {\n",
    "  console.log(`${key}: ${value}`);\n",
    "}\n",
    "// first: Jane\n",
    "// last: Doe"
   ]
  },
  {
   "cell_type": "markdown",
   "id": "d42a4443",
   "metadata": {},
   "source": [
    "除了`for...of`循环以外，扩展运算符（`...`）、解构赋值和`Array.from`方法内部调用的，都是遍历器接口。这意味着，它们都可以将 Generator 函数返回的 Iterator 对象，作为参数。"
   ]
  },
  {
   "cell_type": "code",
   "execution_count": null,
   "id": "6742a00b",
   "metadata": {
    "attributes": {
     "classes": [
      "javascript"
     ],
     "id": ""
    }
   },
   "outputs": [],
   "source": [
    "function* numbers () {\n",
    "  yield 1\n",
    "  yield 2\n",
    "  return 3\n",
    "  yield 4\n",
    "}\n",
    "\n",
    "// 扩展运算符\n",
    "[...numbers()] // [1, 2]\n",
    "\n",
    "// Array.from 方法\n",
    "Array.from(numbers()) // [1, 2]\n",
    "\n",
    "// 解构赋值\n",
    "let [x, y] = numbers();\n",
    "x // 1\n",
    "y // 2\n",
    "\n",
    "// for...of 循环\n",
    "for (let n of numbers()) {\n",
    "  console.log(n)\n",
    "}\n",
    "// 1\n",
    "// 2"
   ]
  },
  {
   "cell_type": "markdown",
   "id": "2487c7f7",
   "metadata": {},
   "source": [
    "## Generator.prototype.throw()\n",
    "\n",
    "Generator 函数返回的遍历器对象，都有一个`throw`方法，可以在函数体外抛出错误，然后在 Generator 函数体内捕获。"
   ]
  },
  {
   "cell_type": "code",
   "execution_count": null,
   "id": "d9d45f71",
   "metadata": {
    "attributes": {
     "classes": [
      "javascript"
     ],
     "id": ""
    }
   },
   "outputs": [],
   "source": [
    "var g = function* () {\n",
    "  try {\n",
    "    yield;\n",
    "  } catch (e) {\n",
    "    console.log('内部捕获', e);\n",
    "  }\n",
    "};\n",
    "\n",
    "var i = g();\n",
    "i.next();\n",
    "\n",
    "try {\n",
    "  i.throw('a');\n",
    "  i.throw('b');\n",
    "} catch (e) {\n",
    "  console.log('外部捕获', e);\n",
    "}\n",
    "// 内部捕获 a\n",
    "// 外部捕获 b"
   ]
  },
  {
   "cell_type": "markdown",
   "id": "919e27f6",
   "metadata": {},
   "source": [
    "上面代码中，遍历器对象`i`连续抛出两个错误。第一个错误被 Generator 函数体内的`catch`语句捕获。`i`第二次抛出错误，由于 Generator 函数内部的`catch`语句已经执行过了，不会再捕捉到这个错误了，所以这个错误就被抛出了 Generator 函数体，被函数体外的`catch`语句捕获。\n",
    "\n",
    "`throw`方法可以接受一个参数，该参数会被`catch`语句接收，建议抛出`Error`对象的实例。"
   ]
  },
  {
   "cell_type": "code",
   "execution_count": null,
   "id": "b5594057",
   "metadata": {
    "attributes": {
     "classes": [
      "javascript"
     ],
     "id": ""
    }
   },
   "outputs": [],
   "source": [
    "var g = function* () {\n",
    "  try {\n",
    "    yield;\n",
    "  } catch (e) {\n",
    "    console.log(e);\n",
    "  }\n",
    "};\n",
    "\n",
    "var i = g();\n",
    "i.next();\n",
    "i.throw(new Error('出错了！'));\n",
    "// Error: 出错了！(…)"
   ]
  },
  {
   "cell_type": "markdown",
   "id": "dc445c39",
   "metadata": {},
   "source": [
    "注意，不要混淆遍历器对象的`throw`方法和全局的`throw`命令。上面代码的错误，是用遍历器对象的`throw`方法抛出的，而不是用`throw`命令抛出的。后者只能被函数体外的`catch`语句捕获。"
   ]
  },
  {
   "cell_type": "code",
   "execution_count": null,
   "id": "cac960b4",
   "metadata": {
    "attributes": {
     "classes": [
      "javascript"
     ],
     "id": ""
    }
   },
   "outputs": [],
   "source": [
    "var g = function* () {\n",
    "  while (true) {\n",
    "    try {\n",
    "      yield;\n",
    "    } catch (e) {\n",
    "      if (e != 'a') throw e;\n",
    "      console.log('内部捕获', e);\n",
    "    }\n",
    "  }\n",
    "};\n",
    "\n",
    "var i = g();\n",
    "i.next();\n",
    "\n",
    "try {\n",
    "  throw new Error('a');\n",
    "  throw new Error('b');\n",
    "} catch (e) {\n",
    "  console.log('外部捕获', e);\n",
    "}\n",
    "// 外部捕获 [Error: a]"
   ]
  },
  {
   "cell_type": "markdown",
   "id": "4da8dded",
   "metadata": {},
   "source": [
    "上面代码之所以只捕获了`a`，是因为函数体外的`catch`语句块，捕获了抛出的`a`错误以后，就不会再继续`try`代码块里面剩余的语句了。\n",
    "\n",
    "如果 Generator 函数内部没有部署`try...catch`代码块，那么`throw`方法抛出的错误，将被外部`try...catch`代码块捕获。"
   ]
  },
  {
   "cell_type": "code",
   "execution_count": null,
   "id": "5fdca3d7",
   "metadata": {
    "attributes": {
     "classes": [
      "javascript"
     ],
     "id": ""
    }
   },
   "outputs": [],
   "source": [
    "var g = function* () {\n",
    "  while (true) {\n",
    "    yield;\n",
    "    console.log('内部捕获', e);\n",
    "  }\n",
    "};\n",
    "\n",
    "var i = g();\n",
    "i.next();\n",
    "\n",
    "try {\n",
    "  i.throw('a');\n",
    "  i.throw('b');\n",
    "} catch (e) {\n",
    "  console.log('外部捕获', e);\n",
    "}\n",
    "// 外部捕获 a"
   ]
  },
  {
   "cell_type": "markdown",
   "id": "937c5ccb",
   "metadata": {},
   "source": [
    "上面代码中，Generator 函数`g`内部没有部署`try...catch`代码块，所以抛出的错误直接被外部`catch`代码块捕获。\n",
    "\n",
    "如果 Generator 函数内部和外部，都没有部署`try...catch`代码块，那么程序将报错，直接中断执行。"
   ]
  },
  {
   "cell_type": "code",
   "execution_count": null,
   "id": "b2cc4fcb",
   "metadata": {
    "attributes": {
     "classes": [
      "javascript"
     ],
     "id": ""
    }
   },
   "outputs": [],
   "source": [
    "var gen = function* gen(){\n",
    "  yield console.log('hello');\n",
    "  yield console.log('world');\n",
    "}\n",
    "\n",
    "var g = gen();\n",
    "g.next();\n",
    "g.throw();\n",
    "// hello\n",
    "// Uncaught undefined"
   ]
  },
  {
   "cell_type": "markdown",
   "id": "e57b0e1c",
   "metadata": {},
   "source": [
    "上面代码中，`g.throw`抛出错误以后，没有任何`try...catch`代码块可以捕获这个错误，导致程序报错，中断执行。\n",
    "\n",
    "`throw`方法抛出的错误要被内部捕获，前提是必须至少执行过一次`next`方法。"
   ]
  },
  {
   "cell_type": "code",
   "execution_count": null,
   "id": "6769a3a9",
   "metadata": {
    "attributes": {
     "classes": [
      "javascript"
     ],
     "id": ""
    }
   },
   "outputs": [],
   "source": [
    "function* gen() {\n",
    "  try {\n",
    "    yield 1;\n",
    "  } catch (e) {\n",
    "    console.log('内部捕获');\n",
    "  }\n",
    "}\n",
    "\n",
    "var g = gen();\n",
    "g.throw(1);\n",
    "// Uncaught 1"
   ]
  },
  {
   "cell_type": "markdown",
   "id": "132e3cad",
   "metadata": {},
   "source": [
    "上面代码中，`g.throw(1)`执行时，`next`方法一次都没有执行过。这时，抛出的错误不会被内部捕获，而是直接在外部抛出，导致程序出错。这种行为其实很好理解，因为第一次执行`next`方法，等同于启动执行 Generator 函数的内部代码，否则 Generator 函数还没有开始执行，这时`throw`方法抛错只可能抛出在函数外部。\n",
    "\n",
    "`throw`方法被捕获以后，会附带执行下一条`yield`表达式。也就是说，会附带执行一次`next`方法。"
   ]
  },
  {
   "cell_type": "code",
   "execution_count": null,
   "id": "dc0a82b1",
   "metadata": {
    "attributes": {
     "classes": [
      "javascript"
     ],
     "id": ""
    }
   },
   "outputs": [],
   "source": [
    "var gen = function* gen(){\n",
    "  try {\n",
    "    yield console.log('a');\n",
    "  } catch (e) {\n",
    "    // ...\n",
    "  }\n",
    "  yield console.log('b');\n",
    "  yield console.log('c');\n",
    "}\n",
    "\n",
    "var g = gen();\n",
    "g.next() // a\n",
    "g.throw() // b\n",
    "g.next() // c"
   ]
  },
  {
   "cell_type": "markdown",
   "id": "f6a59869",
   "metadata": {},
   "source": [
    "上面代码中，`g.throw`方法被捕获以后，自动执行了一次`next`方法，所以会打印`b`。另外，也可以看到，只要 Generator 函数内部部署了`try...catch`代码块，那么遍历器的`throw`方法抛出的错误，不影响下一次遍历。\n",
    "\n",
    "另外，`throw`命令与`g.throw`方法是无关的，两者互不影响。"
   ]
  },
  {
   "cell_type": "code",
   "execution_count": null,
   "id": "3d8d3ed0",
   "metadata": {
    "attributes": {
     "classes": [
      "javascript"
     ],
     "id": ""
    }
   },
   "outputs": [],
   "source": [
    "var gen = function* gen(){\n",
    "  yield console.log('hello');\n",
    "  yield console.log('world');\n",
    "}\n",
    "\n",
    "var g = gen();\n",
    "g.next();\n",
    "\n",
    "try {\n",
    "  throw new Error();\n",
    "} catch (e) {\n",
    "  g.next();\n",
    "}\n",
    "// hello\n",
    "// world"
   ]
  },
  {
   "cell_type": "markdown",
   "id": "bb1e59d0",
   "metadata": {},
   "source": [
    "上面代码中，`throw`命令抛出的错误不会影响到遍历器的状态，所以两次执行`next`方法，都进行了正确的操作。\n",
    "\n",
    "这种函数体内捕获错误的机制，大大方便了对错误的处理。多个`yield`表达式，可以只用一个`try...catch`代码块来捕获错误。如果使用回调函数的写法，想要捕获多个错误，就不得不为每个函数内部写一个错误处理语句，现在只在 Generator 函数内部写一次`catch`语句就可以了。\n",
    "\n",
    "Generator 函数体外抛出的错误，可以在函数体内捕获；反过来，Generator 函数体内抛出的错误，也可以被函数体外的`catch`捕获。"
   ]
  },
  {
   "cell_type": "code",
   "execution_count": null,
   "id": "cc1b6460",
   "metadata": {
    "attributes": {
     "classes": [
      "javascript"
     ],
     "id": ""
    }
   },
   "outputs": [],
   "source": [
    "function* foo() {\n",
    "  var x = yield 3;\n",
    "  var y = x.toUpperCase();\n",
    "  yield y;\n",
    "}\n",
    "\n",
    "var it = foo();\n",
    "\n",
    "it.next(); // { value:3, done:false }\n",
    "\n",
    "try {\n",
    "  it.next(42);\n",
    "} catch (err) {\n",
    "  console.log(err);\n",
    "}"
   ]
  },
  {
   "cell_type": "markdown",
   "id": "094a1b60",
   "metadata": {},
   "source": [
    "上面代码中，第二个`next`方法向函数体内传入一个参数 42，数值是没有`toUpperCase`方法的，所以会抛出一个 TypeError 错误，被函数体外的`catch`捕获。\n",
    "\n",
    "一旦 Generator 执行过程中抛出错误，且没有被内部捕获，就不会再执行下去了。如果此后还调用`next`方法，将返回一个`value`属性等于`undefined`、`done`属性等于`true`的对象，即 JavaScript 引擎认为这个 Generator 已经运行结束了。"
   ]
  },
  {
   "cell_type": "code",
   "execution_count": null,
   "id": "92c53a14",
   "metadata": {
    "attributes": {
     "classes": [
      "javascript"
     ],
     "id": ""
    }
   },
   "outputs": [],
   "source": [
    "function* g() {\n",
    "  yield 1;\n",
    "  console.log('throwing an exception');\n",
    "  throw new Error('generator broke!');\n",
    "  yield 2;\n",
    "  yield 3;\n",
    "}\n",
    "\n",
    "function log(generator) {\n",
    "  var v;\n",
    "  console.log('starting generator');\n",
    "  try {\n",
    "    v = generator.next();\n",
    "    console.log('第一次运行next方法', v);\n",
    "  } catch (err) {\n",
    "    console.log('捕捉错误', v);\n",
    "  }\n",
    "  try {\n",
    "    v = generator.next();\n",
    "    console.log('第二次运行next方法', v);\n",
    "  } catch (err) {\n",
    "    console.log('捕捉错误', v);\n",
    "  }\n",
    "  try {\n",
    "    v = generator.next();\n",
    "    console.log('第三次运行next方法', v);\n",
    "  } catch (err) {\n",
    "    console.log('捕捉错误', v);\n",
    "  }\n",
    "  console.log('caller done');\n",
    "}\n",
    "\n",
    "log(g());\n",
    "// starting generator\n",
    "// 第一次运行next方法 { value: 1, done: false }\n",
    "// throwing an exception\n",
    "// 捕捉错误 { value: 1, done: false }\n",
    "// 第三次运行next方法 { value: undefined, done: true }\n",
    "// caller done"
   ]
  },
  {
   "cell_type": "markdown",
   "id": "2805b89c",
   "metadata": {},
   "source": [
    "上面代码一共三次运行`next`方法，第二次运行的时候会抛出错误，然后第三次运行的时候，Generator 函数就已经结束了，不再执行下去了。\n",
    "\n",
    "## Generator.prototype.return()\n",
    "\n",
    "Generator 函数返回的遍历器对象，还有一个`return()`方法，可以返回给定的值，并且终结遍历 Generator 函数。"
   ]
  },
  {
   "cell_type": "code",
   "execution_count": null,
   "id": "0df07488",
   "metadata": {
    "attributes": {
     "classes": [
      "javascript"
     ],
     "id": ""
    }
   },
   "outputs": [],
   "source": [
    "function* gen() {\n",
    "  yield 1;\n",
    "  yield 2;\n",
    "  yield 3;\n",
    "}\n",
    "\n",
    "var g = gen();\n",
    "\n",
    "g.next()        // { value: 1, done: false }\n",
    "g.return('foo') // { value: \"foo\", done: true }\n",
    "g.next()        // { value: undefined, done: true }"
   ]
  },
  {
   "cell_type": "markdown",
   "id": "f9cf2cc2",
   "metadata": {},
   "source": [
    "上面代码中，遍历器对象`g`调用`return()`方法后，返回值的`value`属性就是`return()`方法的参数`foo`。并且，Generator 函数的遍历就终止了，返回值的`done`属性为`true`，以后再调用`next()`方法，`done`属性总是返回`true`。\n",
    "\n",
    "如果`return()`方法调用时，不提供参数，则返回值的`value`属性为`undefined`。"
   ]
  },
  {
   "cell_type": "code",
   "execution_count": null,
   "id": "fe987ad0",
   "metadata": {
    "attributes": {
     "classes": [
      "javascript"
     ],
     "id": ""
    }
   },
   "outputs": [],
   "source": [
    "function* gen() {\n",
    "  yield 1;\n",
    "  yield 2;\n",
    "  yield 3;\n",
    "}\n",
    "\n",
    "var g = gen();\n",
    "\n",
    "g.next() // { value: 1, done: false }\n",
    "g.return() // { value: undefined, done: true }"
   ]
  },
  {
   "cell_type": "markdown",
   "id": "fe457ea5",
   "metadata": {},
   "source": [
    "如果 Generator 函数内部有`try...finally`代码块，且正在执行`try`代码块，那么`return()`方法会导致立刻进入`finally`代码块，执行完以后，整个函数才会结束。"
   ]
  },
  {
   "cell_type": "code",
   "execution_count": null,
   "id": "56fbcbca",
   "metadata": {
    "attributes": {
     "classes": [
      "javascript"
     ],
     "id": ""
    }
   },
   "outputs": [],
   "source": [
    "function* numbers () {\n",
    "  yield 1;\n",
    "  try {\n",
    "    yield 2;\n",
    "    yield 3;\n",
    "  } finally {\n",
    "    yield 4;\n",
    "    yield 5;\n",
    "  }\n",
    "  yield 6;\n",
    "}\n",
    "var g = numbers();\n",
    "g.next() // { value: 1, done: false }\n",
    "g.next() // { value: 2, done: false }\n",
    "g.return(7) // { value: 4, done: false }\n",
    "g.next() // { value: 5, done: false }\n",
    "g.next() // { value: 7, done: true }"
   ]
  },
  {
   "cell_type": "markdown",
   "id": "326dd3e6",
   "metadata": {},
   "source": [
    "上面代码中，调用`return()`方法后，就开始执行`finally`代码块，不执行`try`里面剩下的代码了，然后等到`finally`代码块执行完，再返回`return()`方法指定的返回值。\n",
    "\n",
    "## next()、throw()、return() 的共同点\n",
    "\n",
    "`next()`、`throw()`、`return()`这三个方法本质上是同一件事，可以放在一起理解。它们的作用都是让 Generator 函数恢复执行，并且使用不同的语句替换`yield`表达式。\n",
    "\n",
    "`next()`是将`yield`表达式替换成一个值。"
   ]
  },
  {
   "cell_type": "code",
   "execution_count": null,
   "id": "077b1676",
   "metadata": {
    "attributes": {
     "classes": [
      "javascript"
     ],
     "id": ""
    }
   },
   "outputs": [],
   "source": [
    "const g = function* (x, y) {\n",
    "  let result = yield x + y;\n",
    "  return result;\n",
    "};\n",
    "\n",
    "const gen = g(1, 2);\n",
    "gen.next(); // Object {value: 3, done: false}\n",
    "\n",
    "gen.next(1); // Object {value: 1, done: true}\n",
    "// 相当于将 let result = yield x + y\n",
    "// 替换成 let result = 1;"
   ]
  },
  {
   "cell_type": "markdown",
   "id": "72efed9c",
   "metadata": {},
   "source": [
    "上面代码中，第二个`next(1)`方法就相当于将`yield`表达式替换成一个值`1`。如果`next`方法没有参数，就相当于替换成`undefined`。\n",
    "\n",
    "`throw()`是将`yield`表达式替换成一个`throw`语句。"
   ]
  },
  {
   "cell_type": "code",
   "execution_count": null,
   "id": "e8329223",
   "metadata": {
    "attributes": {
     "classes": [
      "javascript"
     ],
     "id": ""
    }
   },
   "outputs": [],
   "source": [
    "gen.throw(new Error('出错了')); // Uncaught Error: 出错了\n",
    "// 相当于将 let result = yield x + y\n",
    "// 替换成 let result = throw(new Error('出错了'));"
   ]
  },
  {
   "cell_type": "markdown",
   "id": "0cbd072c",
   "metadata": {},
   "source": [
    "`return()`是将`yield`表达式替换成一个`return`语句。"
   ]
  },
  {
   "cell_type": "code",
   "execution_count": null,
   "id": "cc2a2c3f",
   "metadata": {
    "attributes": {
     "classes": [
      "javascript"
     ],
     "id": ""
    }
   },
   "outputs": [],
   "source": [
    "gen.return(2); // Object {value: 2, done: true}\n",
    "// 相当于将 let result = yield x + y\n",
    "// 替换成 let result = return 2;"
   ]
  },
  {
   "cell_type": "markdown",
   "id": "23d8ee04",
   "metadata": {},
   "source": [
    "## yield\\* 表达式\n",
    "\n",
    "如果在 Generator 函数内部，调用另一个 Generator 函数。需要在前者的函数体内部，自己手动完成遍历。"
   ]
  },
  {
   "cell_type": "code",
   "execution_count": null,
   "id": "f75b4de8",
   "metadata": {
    "attributes": {
     "classes": [
      "javascript"
     ],
     "id": ""
    }
   },
   "outputs": [],
   "source": [
    "function* foo() {\n",
    "  yield 'a';\n",
    "  yield 'b';\n",
    "}\n",
    "\n",
    "function* bar() {\n",
    "  yield 'x';\n",
    "  // 手动遍历 foo()\n",
    "  for (let i of foo()) {\n",
    "    console.log(i);\n",
    "  }\n",
    "  yield 'y';\n",
    "}\n",
    "\n",
    "for (let v of bar()){\n",
    "  console.log(v);\n",
    "}\n",
    "// x\n",
    "// a\n",
    "// b\n",
    "// y"
   ]
  },
  {
   "cell_type": "markdown",
   "id": "1ac56b94",
   "metadata": {},
   "source": [
    "上面代码中，`foo`和`bar`都是 Generator 函数，在`bar`里面调用`foo`，就需要手动遍历`foo`。如果有多个 Generator 函数嵌套，写起来就非常麻烦。\n",
    "\n",
    "ES6 提供了`yield*`表达式，作为解决办法，用来在一个 Generator 函数里面执行另一个 Generator 函数。"
   ]
  },
  {
   "cell_type": "code",
   "execution_count": null,
   "id": "69139024",
   "metadata": {
    "attributes": {
     "classes": [
      "javascript"
     ],
     "id": ""
    }
   },
   "outputs": [],
   "source": [
    "function* bar() {\n",
    "  yield 'x';\n",
    "  yield* foo();\n",
    "  yield 'y';\n",
    "}\n",
    "\n",
    "// 等同于\n",
    "function* bar() {\n",
    "  yield 'x';\n",
    "  yield 'a';\n",
    "  yield 'b';\n",
    "  yield 'y';\n",
    "}\n",
    "\n",
    "// 等同于\n",
    "function* bar() {\n",
    "  yield 'x';\n",
    "  for (let v of foo()) {\n",
    "    yield v;\n",
    "  }\n",
    "  yield 'y';\n",
    "}\n",
    "\n",
    "for (let v of bar()){\n",
    "  console.log(v);\n",
    "}\n",
    "// \"x\"\n",
    "// \"a\"\n",
    "// \"b\"\n",
    "// \"y\""
   ]
  },
  {
   "cell_type": "markdown",
   "id": "744fdbf0",
   "metadata": {},
   "source": [
    "再来看一个对比的例子。"
   ]
  },
  {
   "cell_type": "code",
   "execution_count": null,
   "id": "7da10ab9",
   "metadata": {
    "attributes": {
     "classes": [
      "javascript"
     ],
     "id": ""
    }
   },
   "outputs": [],
   "source": [
    "function* inner() {\n",
    "  yield 'hello!';\n",
    "}\n",
    "\n",
    "function* outer1() {\n",
    "  yield 'open';\n",
    "  yield inner();\n",
    "  yield 'close';\n",
    "}\n",
    "\n",
    "var gen = outer1()\n",
    "gen.next().value // \"open\"\n",
    "gen.next().value // 返回一个遍历器对象\n",
    "gen.next().value // \"close\"\n",
    "\n",
    "function* outer2() {\n",
    "  yield 'open'\n",
    "  yield* inner()\n",
    "  yield 'close'\n",
    "}\n",
    "\n",
    "var gen = outer2()\n",
    "gen.next().value // \"open\"\n",
    "gen.next().value // \"hello!\"\n",
    "gen.next().value // \"close\""
   ]
  },
  {
   "cell_type": "markdown",
   "id": "c560aede",
   "metadata": {},
   "source": [
    "上面例子中，`outer2`使用了`yield*`，`outer1`没使用。结果就是，`outer1`返回一个遍历器对象，`outer2`返回该遍历器对象的内部值。\n",
    "\n",
    "从语法角度看，如果`yield`表达式后面跟的是一个遍历器对象，需要在`yield`表达式后面加上星号，表明它返回的是一个遍历器对象。这被称为`yield*`表达式。"
   ]
  },
  {
   "cell_type": "code",
   "execution_count": null,
   "id": "baeb9c15",
   "metadata": {
    "attributes": {
     "classes": [
      "javascript"
     ],
     "id": ""
    }
   },
   "outputs": [],
   "source": [
    "let delegatedIterator = (function* () {\n",
    "  yield 'Hello!';\n",
    "  yield 'Bye!';\n",
    "}());\n",
    "\n",
    "let delegatingIterator = (function* () {\n",
    "  yield 'Greetings!';\n",
    "  yield* delegatedIterator;\n",
    "  yield 'Ok, bye.';\n",
    "}());\n",
    "\n",
    "for(let value of delegatingIterator) {\n",
    "  console.log(value);\n",
    "}\n",
    "// \"Greetings!\n",
    "// \"Hello!\"\n",
    "// \"Bye!\"\n",
    "// \"Ok, bye.\""
   ]
  },
  {
   "cell_type": "markdown",
   "id": "1ae85a2f",
   "metadata": {},
   "source": [
    "上面代码中，`delegatingIterator`是代理者，`delegatedIterator`是被代理者。由于`yield* delegatedIterator`语句得到的值，是一个遍历器，所以要用星号表示。运行结果就是使用一个遍历器，遍历了多个 Generator 函数，有递归的效果。\n",
    "\n",
    "`yield*`后面的 Generator 函数（没有`return`语句时），等同于在 Generator 函数内部，部署一个`for...of`循环。"
   ]
  },
  {
   "cell_type": "code",
   "execution_count": null,
   "id": "187e7af3",
   "metadata": {
    "attributes": {
     "classes": [
      "javascript"
     ],
     "id": ""
    }
   },
   "outputs": [],
   "source": [
    "function* concat(iter1, iter2) {\n",
    "  yield* iter1;\n",
    "  yield* iter2;\n",
    "}\n",
    "\n",
    "// 等同于\n",
    "\n",
    "function* concat(iter1, iter2) {\n",
    "  for (var value of iter1) {\n",
    "    yield value;\n",
    "  }\n",
    "  for (var value of iter2) {\n",
    "    yield value;\n",
    "  }\n",
    "}"
   ]
  },
  {
   "cell_type": "markdown",
   "id": "2df63102",
   "metadata": {},
   "source": [
    "上面代码说明，`yield*`后面的 Generator 函数（没有`return`语句时），不过是`for...of`的一种简写形式，完全可以用后者替代前者。反之，在有`return`语句时，则需要用`var value = yield* iterator`的形式获取`return`语句的值。\n",
    "\n",
    "如果`yield*`后面跟着一个数组，由于数组原生支持遍历器，因此就会遍历数组成员。"
   ]
  },
  {
   "cell_type": "code",
   "execution_count": null,
   "id": "622d87f7",
   "metadata": {
    "attributes": {
     "classes": [
      "javascript"
     ],
     "id": ""
    }
   },
   "outputs": [],
   "source": [
    "function* gen(){\n",
    "  yield* [\"a\", \"b\", \"c\"];\n",
    "}\n",
    "\n",
    "gen().next() // { value:\"a\", done:false }"
   ]
  },
  {
   "cell_type": "markdown",
   "id": "e7e0137e",
   "metadata": {},
   "source": [
    "上面代码中，`yield`命令后面如果不加星号，返回的是整个数组，加了星号就表示返回的是数组的遍历器对象。\n",
    "\n",
    "实际上，任何数据结构只要有 Iterator 接口，就可以被`yield*`遍历。"
   ]
  },
  {
   "cell_type": "code",
   "execution_count": null,
   "id": "80e3ab5e",
   "metadata": {
    "attributes": {
     "classes": [
      "javascript"
     ],
     "id": ""
    }
   },
   "outputs": [],
   "source": [
    "let read = (function* () {\n",
    "  yield 'hello';\n",
    "  yield* 'hello';\n",
    "})();\n",
    "\n",
    "read.next().value // \"hello\"\n",
    "read.next().value // \"h\""
   ]
  },
  {
   "cell_type": "markdown",
   "id": "e806e624",
   "metadata": {},
   "source": [
    "上面代码中，`yield`表达式返回整个字符串，`yield*`语句返回单个字符。因为字符串具有 Iterator 接口，所以被`yield*`遍历。\n",
    "\n",
    "如果被代理的 Generator 函数有`return`语句，那么就可以向代理它的 Generator 函数返回数据。"
   ]
  },
  {
   "cell_type": "code",
   "execution_count": null,
   "id": "3693e419",
   "metadata": {
    "attributes": {
     "classes": [
      "javascript"
     ],
     "id": ""
    }
   },
   "outputs": [],
   "source": [
    "function* foo() {\n",
    "  yield 2;\n",
    "  yield 3;\n",
    "  return \"foo\";\n",
    "}\n",
    "\n",
    "function* bar() {\n",
    "  yield 1;\n",
    "  var v = yield* foo();\n",
    "  console.log(\"v: \" + v);\n",
    "  yield 4;\n",
    "}\n",
    "\n",
    "var it = bar();\n",
    "\n",
    "it.next()\n",
    "// {value: 1, done: false}\n",
    "it.next()\n",
    "// {value: 2, done: false}\n",
    "it.next()\n",
    "// {value: 3, done: false}\n",
    "it.next();\n",
    "// \"v: foo\"\n",
    "// {value: 4, done: false}\n",
    "it.next()\n",
    "// {value: undefined, done: true}"
   ]
  },
  {
   "cell_type": "markdown",
   "id": "ca38e3f3",
   "metadata": {},
   "source": [
    "上面代码在第四次调用`next`方法的时候，屏幕上会有输出，这是因为函数`foo`的`return`语句，向函数`bar`提供了返回值。\n",
    "\n",
    "再看一个例子。"
   ]
  },
  {
   "cell_type": "code",
   "execution_count": null,
   "id": "d73922c8",
   "metadata": {
    "attributes": {
     "classes": [
      "javascript"
     ],
     "id": ""
    }
   },
   "outputs": [],
   "source": [
    "function* genFuncWithReturn() {\n",
    "  yield 'a';\n",
    "  yield 'b';\n",
    "  return 'The result';\n",
    "}\n",
    "function* logReturned(genObj) {\n",
    "  let result = yield* genObj;\n",
    "  console.log(result);\n",
    "}\n",
    "\n",
    "[...logReturned(genFuncWithReturn())]\n",
    "// The result\n",
    "// 值为 [ 'a', 'b' ]"
   ]
  },
  {
   "cell_type": "markdown",
   "id": "d70cdc76",
   "metadata": {},
   "source": [
    "上面代码中，存在两次遍历。第一次是扩展运算符遍历函数`logReturned`返回的遍历器对象，第二次是`yield*`语句遍历函数`genFuncWithReturn`返回的遍历器对象。这两次遍历的效果是叠加的，最终表现为扩展运算符遍历函数`genFuncWithReturn`返回的遍历器对象。所以，最后的数据表达式得到的值等于`[ 'a', 'b' ]`。但是，函数`genFuncWithReturn`的`return`语句的返回值`The result`，会返回给函数`logReturned`内部的`result`变量，因此会有终端输出。\n",
    "\n",
    "`yield*`命令可以很方便地取出嵌套数组的所有成员。"
   ]
  },
  {
   "cell_type": "code",
   "execution_count": null,
   "id": "4d3d7295",
   "metadata": {
    "attributes": {
     "classes": [
      "javascript"
     ],
     "id": ""
    }
   },
   "outputs": [],
   "source": [
    "function* iterTree(tree) {\n",
    "  if (Array.isArray(tree)) {\n",
    "    for(let i=0; i < tree.length; i++) {\n",
    "      yield* iterTree(tree[i]);\n",
    "    }\n",
    "  } else {\n",
    "    yield tree;\n",
    "  }\n",
    "}\n",
    "\n",
    "const tree = [ 'a', ['b', 'c'], ['d', 'e'] ];\n",
    "\n",
    "for(let x of iterTree(tree)) {\n",
    "  console.log(x);\n",
    "}\n",
    "// a\n",
    "// b\n",
    "// c\n",
    "// d\n",
    "// e"
   ]
  },
  {
   "cell_type": "markdown",
   "id": "275e41a9",
   "metadata": {},
   "source": [
    "由于扩展运算符`...`默认调用 Iterator 接口，所以上面这个函数也可以用于嵌套数组的平铺。"
   ]
  },
  {
   "cell_type": "code",
   "execution_count": null,
   "id": "924e1b56",
   "metadata": {
    "attributes": {
     "classes": [
      "javascript"
     ],
     "id": ""
    }
   },
   "outputs": [],
   "source": [
    "[...iterTree(tree)] // [\"a\", \"b\", \"c\", \"d\", \"e\"]"
   ]
  },
  {
   "cell_type": "markdown",
   "id": "c079affa",
   "metadata": {},
   "source": [
    "下面是一个稍微复杂的例子，使用`yield*`语句遍历完全二叉树。"
   ]
  },
  {
   "cell_type": "code",
   "execution_count": null,
   "id": "0a496937",
   "metadata": {
    "attributes": {
     "classes": [
      "javascript"
     ],
     "id": ""
    }
   },
   "outputs": [],
   "source": [
    "// 下面是二叉树的构造函数，\n",
    "// 三个参数分别是左树、当前节点和右树\n",
    "function Tree(left, label, right) {\n",
    "  this.left = left;\n",
    "  this.label = label;\n",
    "  this.right = right;\n",
    "}\n",
    "\n",
    "// 下面是中序（inorder）遍历函数。\n",
    "// 由于返回的是一个遍历器，所以要用generator函数。\n",
    "// 函数体内采用递归算法，所以左树和右树要用yield*遍历\n",
    "function* inorder(t) {\n",
    "  if (t) {\n",
    "    yield* inorder(t.left);\n",
    "    yield t.label;\n",
    "    yield* inorder(t.right);\n",
    "  }\n",
    "}\n",
    "\n",
    "// 下面生成二叉树\n",
    "function make(array) {\n",
    "  // 判断是否为叶节点\n",
    "  if (array.length == 1) return new Tree(null, array[0], null);\n",
    "  return new Tree(make(array[0]), array[1], make(array[2]));\n",
    "}\n",
    "let tree = make([[['a'], 'b', ['c']], 'd', [['e'], 'f', ['g']]]);\n",
    "\n",
    "// 遍历二叉树\n",
    "var result = [];\n",
    "for (let node of inorder(tree)) {\n",
    "  result.push(node);\n",
    "}\n",
    "\n",
    "result\n",
    "// ['a', 'b', 'c', 'd', 'e', 'f', 'g']"
   ]
  },
  {
   "cell_type": "markdown",
   "id": "b175474b",
   "metadata": {},
   "source": [
    "## 作为对象属性的 Generator 函数\n",
    "\n",
    "如果一个对象的属性是 Generator 函数，可以简写成下面的形式。"
   ]
  },
  {
   "cell_type": "code",
   "execution_count": null,
   "id": "0df93612",
   "metadata": {
    "attributes": {
     "classes": [
      "javascript"
     ],
     "id": ""
    }
   },
   "outputs": [],
   "source": [
    "let obj = {\n",
    "  * myGeneratorMethod() {\n",
    "    ···\n",
    "  }\n",
    "};"
   ]
  },
  {
   "cell_type": "markdown",
   "id": "0e7cb989",
   "metadata": {},
   "source": [
    "上面代码中，`myGeneratorMethod`属性前面有一个星号，表示这个属性是一个 Generator 函数。\n",
    "\n",
    "它的完整形式如下，与上面的写法是等价的。"
   ]
  },
  {
   "cell_type": "code",
   "execution_count": null,
   "id": "9214d41d",
   "metadata": {
    "attributes": {
     "classes": [
      "javascript"
     ],
     "id": ""
    }
   },
   "outputs": [],
   "source": [
    "let obj = {\n",
    "  myGeneratorMethod: function* () {\n",
    "    // ···\n",
    "  }\n",
    "};"
   ]
  },
  {
   "cell_type": "markdown",
   "id": "984f06f6",
   "metadata": {},
   "source": [
    "## Generator 函数的`this`\n",
    "\n",
    "Generator 函数总是返回一个遍历器，ES6 规定这个遍历器是 Generator 函数的实例，也继承了 Generator 函数的`prototype`对象上的方法。"
   ]
  },
  {
   "cell_type": "code",
   "execution_count": null,
   "id": "a12f1e41",
   "metadata": {
    "attributes": {
     "classes": [
      "javascript"
     ],
     "id": ""
    }
   },
   "outputs": [],
   "source": [
    "function* g() {}\n",
    "\n",
    "g.prototype.hello = function () {\n",
    "  return 'hi!';\n",
    "};\n",
    "\n",
    "let obj = g();\n",
    "\n",
    "obj instanceof g // true\n",
    "obj.hello() // 'hi!'"
   ]
  },
  {
   "cell_type": "markdown",
   "id": "16f8223f",
   "metadata": {},
   "source": [
    "上面代码表明，Generator 函数`g`返回的遍历器`obj`，是`g`的实例，而且继承了`g.prototype`。但是，如果把`g`当作普通的构造函数，并不会生效，因为`g`返回的总是遍历器对象，而不是`this`对象。"
   ]
  },
  {
   "cell_type": "code",
   "execution_count": null,
   "id": "869bf0d2",
   "metadata": {
    "attributes": {
     "classes": [
      "javascript"
     ],
     "id": ""
    }
   },
   "outputs": [],
   "source": [
    "function* g() {\n",
    "  this.a = 11;\n",
    "}\n",
    "\n",
    "let obj = g();\n",
    "obj.next();\n",
    "obj.a // undefined"
   ]
  },
  {
   "cell_type": "markdown",
   "id": "a74d503e",
   "metadata": {},
   "source": [
    "上面代码中，Generator 函数`g`在`this`对象上面添加了一个属性`a`，但是`obj`对象拿不到这个属性。\n",
    "\n",
    "Generator 函数也不能跟`new`命令一起用，会报错。"
   ]
  },
  {
   "cell_type": "code",
   "execution_count": null,
   "id": "7b6a3067",
   "metadata": {
    "attributes": {
     "classes": [
      "javascript"
     ],
     "id": ""
    }
   },
   "outputs": [],
   "source": [
    "function* F() {\n",
    "  yield this.x = 2;\n",
    "  yield this.y = 3;\n",
    "}\n",
    "\n",
    "new F()\n",
    "// TypeError: F is not a constructor"
   ]
  },
  {
   "cell_type": "markdown",
   "id": "4f4450ce",
   "metadata": {},
   "source": [
    "上面代码中，`new`命令跟构造函数`F`一起使用，结果报错，因为`F`不是构造函数。\n",
    "\n",
    "那么，有没有办法让 Generator 函数返回一个正常的对象实例，既可以用`next`方法，又可以获得正常的`this`？\n",
    "\n",
    "下面是一个变通方法。首先，生成一个空对象，使用`call`方法绑定 Generator 函数内部的`this`。这样，构造函数调用以后，这个空对象就是 Generator 函数的实例对象了。"
   ]
  },
  {
   "cell_type": "code",
   "execution_count": null,
   "id": "988d70b8",
   "metadata": {
    "attributes": {
     "classes": [
      "javascript"
     ],
     "id": ""
    }
   },
   "outputs": [],
   "source": [
    "function* F() {\n",
    "  this.a = 1;\n",
    "  yield this.b = 2;\n",
    "  yield this.c = 3;\n",
    "}\n",
    "var obj = {};\n",
    "var f = F.call(obj);\n",
    "\n",
    "f.next();  // Object {value: 2, done: false}\n",
    "f.next();  // Object {value: 3, done: false}\n",
    "f.next();  // Object {value: undefined, done: true}\n",
    "\n",
    "obj.a // 1\n",
    "obj.b // 2\n",
    "obj.c // 3"
   ]
  },
  {
   "cell_type": "markdown",
   "id": "25d1df29",
   "metadata": {},
   "source": [
    "上面代码中，首先是`F`内部的`this`对象绑定`obj`对象，然后调用它，返回一个 Iterator 对象。这个对象执行三次`next`方法（因为`F`内部有两个`yield`表达式），完成 F 内部所有代码的运行。这时，所有内部属性都绑定在`obj`对象上了，因此`obj`对象也就成了`F`的实例。\n",
    "\n",
    "上面代码中，执行的是遍历器对象`f`，但是生成的对象实例是`obj`，有没有办法将这两个对象统一呢？\n",
    "\n",
    "一个办法就是将`obj`换成`F.prototype`。"
   ]
  },
  {
   "cell_type": "code",
   "execution_count": null,
   "id": "eb1eee1f",
   "metadata": {
    "attributes": {
     "classes": [
      "javascript"
     ],
     "id": ""
    }
   },
   "outputs": [],
   "source": [
    "function* F() {\n",
    "  this.a = 1;\n",
    "  yield this.b = 2;\n",
    "  yield this.c = 3;\n",
    "}\n",
    "var f = F.call(F.prototype);\n",
    "\n",
    "f.next();  // Object {value: 2, done: false}\n",
    "f.next();  // Object {value: 3, done: false}\n",
    "f.next();  // Object {value: undefined, done: true}\n",
    "\n",
    "f.a // 1\n",
    "f.b // 2\n",
    "f.c // 3"
   ]
  },
  {
   "cell_type": "markdown",
   "id": "357d9cab",
   "metadata": {},
   "source": [
    "再将`F`改成构造函数，就可以对它执行`new`命令了。"
   ]
  },
  {
   "cell_type": "code",
   "execution_count": null,
   "id": "1bcf32fe",
   "metadata": {
    "attributes": {
     "classes": [
      "javascript"
     ],
     "id": ""
    }
   },
   "outputs": [],
   "source": [
    "function* gen() {\n",
    "  this.a = 1;\n",
    "  yield this.b = 2;\n",
    "  yield this.c = 3;\n",
    "}\n",
    "\n",
    "function F() {\n",
    "  return gen.call(gen.prototype);\n",
    "}\n",
    "\n",
    "var f = new F();\n",
    "\n",
    "f.next();  // Object {value: 2, done: false}\n",
    "f.next();  // Object {value: 3, done: false}\n",
    "f.next();  // Object {value: undefined, done: true}\n",
    "\n",
    "f.a // 1\n",
    "f.b // 2\n",
    "f.c // 3"
   ]
  },
  {
   "cell_type": "markdown",
   "id": "8e5c674b",
   "metadata": {},
   "source": [
    "## 含义\n",
    "\n",
    "### Generator 与状态机\n",
    "\n",
    "Generator 是实现状态机的最佳结构。比如，下面的`clock`函数就是一个状态机。"
   ]
  },
  {
   "cell_type": "code",
   "execution_count": null,
   "id": "efd3b435",
   "metadata": {
    "attributes": {
     "classes": [
      "javascript"
     ],
     "id": ""
    }
   },
   "outputs": [],
   "source": [
    "var ticking = true;\n",
    "var clock = function() {\n",
    "  if (ticking)\n",
    "    console.log('Tick!');\n",
    "  else\n",
    "    console.log('Tock!');\n",
    "  ticking = !ticking;\n",
    "}"
   ]
  },
  {
   "cell_type": "markdown",
   "id": "d9104710",
   "metadata": {},
   "source": [
    "上面代码的`clock`函数一共有两种状态（`Tick`和`Tock`），每运行一次，就改变一次状态。这个函数如果用 Generator 实现，就是下面这样。"
   ]
  },
  {
   "cell_type": "code",
   "execution_count": null,
   "id": "6b27154d",
   "metadata": {
    "attributes": {
     "classes": [
      "javascript"
     ],
     "id": ""
    }
   },
   "outputs": [],
   "source": [
    "var clock = function* () {\n",
    "  while (true) {\n",
    "    console.log('Tick!');\n",
    "    yield;\n",
    "    console.log('Tock!');\n",
    "    yield;\n",
    "  }\n",
    "};"
   ]
  },
  {
   "cell_type": "markdown",
   "id": "111c451a",
   "metadata": {},
   "source": [
    "上面的 Generator 实现与 ES5 实现对比，可以看到少了用来保存状态的外部变量`ticking`，这样就更简洁，更安全（状态不会被非法篡改）、更符合函数式编程的思想，在写法上也更优雅。Generator 之所以可以不用外部变量保存状态，是因为它本身就包含了一个状态信息，即目前是否处于暂停态。\n",
    "\n",
    "### Generator 与协程\n",
    "\n",
    "协程（coroutine）是一种程序运行的方式，可以理解成“协作的线程”或“协作的函数”。协程既可以用单线程实现，也可以用多线程实现。前者是一种特殊的子例程，后者是一种特殊的线程。\n",
    "\n",
    "**（1）协程与子例程的差异**\n",
    "\n",
    "传统的“子例程”（subroutine）采用堆栈式“后进先出”的执行方式，只有当调用的子函数完全执行完毕，才会结束执行父函数。协程与其不同，多个线程（单线程情况下，即多个函数）可以并行执行，但是只有一个线程（或函数）处于正在运行的状态，其他线程（或函数）都处于暂停态（suspended），线程（或函数）之间可以交换执行权。也就是说，一个线程（或函数）执行到一半，可以暂停执行，将执行权交给另一个线程（或函数），等到稍后收回执行权的时候，再恢复执行。这种可以并行执行、交换执行权的线程（或函数），就称为协程。\n",
    "\n",
    "从实现上看，在内存中，子例程只使用一个栈（stack），而协程是同时存在多个栈，但只有一个栈是在运行状态，也就是说，协程是以多占用内存为代价，实现多任务的并行。\n",
    "\n",
    "**（2）协程与普通线程的差异**\n",
    "\n",
    "不难看出，协程适合用于多任务运行的环境。在这个意义上，它与普通的线程很相似，都有自己的执行上下文、可以分享全局变量。它们的不同之处在于，同一时间可以有多个线程处于运行状态，但是运行的协程只能有一个，其他协程都处于暂停状态。此外，普通的线程是抢先式的，到底哪个线程优先得到资源，必须由运行环境决定，但是协程是合作式的，执行权由协程自己分配。\n",
    "\n",
    "由于 JavaScript 是单线程语言，只能保持一个调用栈。引入协程以后，每个任务可以保持自己的调用栈。这样做的最大好处，就是抛出错误的时候，可以找到原始的调用栈。不至于像异步操作的回调函数那样，一旦出错，原始的调用栈早就结束。\n",
    "\n",
    "Generator 函数是 ES6 对协程的实现，但属于不完全实现。Generator 函数被称为“半协程”（semi-coroutine），意思是只有 Generator 函数的调用者，才能将程序的执行权还给 Generator 函数。如果是完全执行的协程，任何函数都可以让暂停的协程继续执行。\n",
    "\n",
    "如果将 Generator 函数当作协程，完全可以将多个需要互相协作的任务写成 Generator 函数，它们之间使用`yield`表达式交换控制权。\n",
    "\n",
    "### Generator 与上下文\n",
    "\n",
    "JavaScript 代码运行时，会产生一个全局的上下文环境（context，又称运行环境），包含了当前所有的变量和对象。然后，执行函数（或块级代码）的时候，又会在当前上下文环境的上层，产生一个函数运行的上下文，变成当前（active）的上下文，由此形成一个上下文环境的堆栈（context stack）。\n",
    "\n",
    "这个堆栈是“后进先出”的数据结构，最后产生的上下文环境首先执行完成，退出堆栈，然后再执行完成它下层的上下文，直至所有代码执行完成，堆栈清空。\n",
    "\n",
    "Generator 函数不是这样，它执行产生的上下文环境，一旦遇到`yield`命令，就会暂时退出堆栈，但是并不消失，里面的所有变量和对象会冻结在当前状态。等到对它执行`next`命令时，这个上下文环境又会重新加入调用栈，冻结的变量和对象恢复执行。"
   ]
  },
  {
   "cell_type": "code",
   "execution_count": null,
   "id": "afc8b81e",
   "metadata": {
    "attributes": {
     "classes": [
      "javascript"
     ],
     "id": ""
    }
   },
   "outputs": [],
   "source": [
    "function* gen() {\n",
    "  yield 1;\n",
    "  return 2;\n",
    "}\n",
    "\n",
    "let g = gen();\n",
    "\n",
    "console.log(\n",
    "  g.next().value,\n",
    "  g.next().value,\n",
    ");"
   ]
  },
  {
   "cell_type": "markdown",
   "id": "ffab438c",
   "metadata": {},
   "source": [
    "上面代码中，第一次执行`g.next()`时，Generator 函数`gen`的上下文会加入堆栈，即开始运行`gen`内部的代码。等遇到`yield 1`时，`gen`上下文退出堆栈，内部状态冻结。第二次执行`g.next()`时，`gen`上下文重新加入堆栈，变成当前的上下文，重新恢复执行。\n",
    "\n",
    "## 应用\n",
    "\n",
    "Generator 可以暂停函数执行，返回任意表达式的值。这种特点使得 Generator 有多种应用场景。\n",
    "\n",
    "### （1）异步操作的同步化表达\n",
    "\n",
    "Generator 函数的暂停执行的效果，意味着可以把异步操作写在`yield`表达式里面，等到调用`next`方法时再往后执行。这实际上等同于不需要写回调函数了，因为异步操作的后续操作可以放在`yield`表达式下面，反正要等到调用`next`方法时再执行。所以，Generator 函数的一个重要实际意义就是用来处理异步操作，改写回调函数。"
   ]
  },
  {
   "cell_type": "code",
   "execution_count": null,
   "id": "70f71f2d",
   "metadata": {
    "attributes": {
     "classes": [
      "javascript"
     ],
     "id": ""
    }
   },
   "outputs": [],
   "source": [
    "function* loadUI() {\n",
    "  showLoadingScreen();\n",
    "  yield loadUIDataAsynchronously();\n",
    "  hideLoadingScreen();\n",
    "}\n",
    "var loader = loadUI();\n",
    "// 加载UI\n",
    "loader.next()\n",
    "\n",
    "// 卸载UI\n",
    "loader.next()"
   ]
  },
  {
   "cell_type": "markdown",
   "id": "b307b2b8",
   "metadata": {},
   "source": [
    "上面代码中，第一次调用`loadUI`函数时，该函数不会执行，仅返回一个遍历器。下一次对该遍历器调用`next`方法，则会显示`Loading`界面（`showLoadingScreen`），并且异步加载数据（`loadUIDataAsynchronously`）。等到数据加载完成，再一次使用`next`方法，则会隐藏`Loading`界面。可以看到，这种写法的好处是所有`Loading`界面的逻辑，都被封装在一个函数，按部就班非常清晰。\n",
    "\n",
    "Ajax 是典型的异步操作，通过 Generator 函数部署 Ajax 操作，可以用同步的方式表达。"
   ]
  },
  {
   "cell_type": "code",
   "execution_count": null,
   "id": "1fa6cc89",
   "metadata": {
    "attributes": {
     "classes": [
      "javascript"
     ],
     "id": ""
    }
   },
   "outputs": [],
   "source": [
    "function* main() {\n",
    "  var result = yield request(\"http://some.url\");\n",
    "  var resp = JSON.parse(result);\n",
    "    console.log(resp.value);\n",
    "}\n",
    "\n",
    "function request(url) {\n",
    "  makeAjaxCall(url, function(response){\n",
    "    it.next(response);\n",
    "  });\n",
    "}\n",
    "\n",
    "var it = main();\n",
    "it.next();"
   ]
  },
  {
   "cell_type": "markdown",
   "id": "0ad9424a",
   "metadata": {},
   "source": [
    "上面代码的`main`函数，就是通过 Ajax 操作获取数据。可以看到，除了多了一个`yield`，它几乎与同步操作的写法完全一样。注意，`makeAjaxCall`函数中的`next`方法，必须加上`response`参数，因为`yield`表达式，本身是没有值的，总是等于`undefined`。\n",
    "\n",
    "下面是另一个例子，通过 Generator 函数逐行读取文本文件。"
   ]
  },
  {
   "cell_type": "code",
   "execution_count": null,
   "id": "30b7c2b2",
   "metadata": {
    "attributes": {
     "classes": [
      "javascript"
     ],
     "id": ""
    }
   },
   "outputs": [],
   "source": [
    "function* numbers() {\n",
    "  let file = new FileReader(\"numbers.txt\");\n",
    "  try {\n",
    "    while(!file.eof) {\n",
    "      yield parseInt(file.readLine(), 10);\n",
    "    }\n",
    "  } finally {\n",
    "    file.close();\n",
    "  }\n",
    "}"
   ]
  },
  {
   "cell_type": "markdown",
   "id": "171c1fcf",
   "metadata": {},
   "source": [
    "上面代码打开文本文件，使用`yield`表达式可以手动逐行读取文件。\n",
    "\n",
    "### （2）控制流管理\n",
    "\n",
    "如果有一个多步操作非常耗时，采用回调函数，可能会写成下面这样。"
   ]
  },
  {
   "cell_type": "code",
   "execution_count": null,
   "id": "ee214b6a",
   "metadata": {
    "attributes": {
     "classes": [
      "javascript"
     ],
     "id": ""
    }
   },
   "outputs": [],
   "source": [
    "step1(function (value1) {\n",
    "  step2(value1, function(value2) {\n",
    "    step3(value2, function(value3) {\n",
    "      step4(value3, function(value4) {\n",
    "        // Do something with value4\n",
    "      });\n",
    "    });\n",
    "  });\n",
    "});"
   ]
  },
  {
   "cell_type": "markdown",
   "id": "1d65dfd3",
   "metadata": {},
   "source": [
    "采用 Promise 改写上面的代码。"
   ]
  },
  {
   "cell_type": "code",
   "execution_count": null,
   "id": "e34bce7c",
   "metadata": {
    "attributes": {
     "classes": [
      "javascript"
     ],
     "id": ""
    }
   },
   "outputs": [],
   "source": [
    "Promise.resolve(step1)\n",
    "  .then(step2)\n",
    "  .then(step3)\n",
    "  .then(step4)\n",
    "  .then(function (value4) {\n",
    "    // Do something with value4\n",
    "  }, function (error) {\n",
    "    // Handle any error from step1 through step4\n",
    "  })\n",
    "  .done();"
   ]
  },
  {
   "cell_type": "markdown",
   "id": "fc66b7a0",
   "metadata": {},
   "source": [
    "上面代码已经把回调函数，改成了直线执行的形式，但是加入了大量 Promise 的语法。Generator 函数可以进一步改善代码运行流程。"
   ]
  },
  {
   "cell_type": "code",
   "execution_count": null,
   "id": "032b1ec2",
   "metadata": {
    "attributes": {
     "classes": [
      "javascript"
     ],
     "id": ""
    }
   },
   "outputs": [],
   "source": [
    "function* longRunningTask(value1) {\n",
    "  try {\n",
    "    var value2 = yield step1(value1);\n",
    "    var value3 = yield step2(value2);\n",
    "    var value4 = yield step3(value3);\n",
    "    var value5 = yield step4(value4);\n",
    "    // Do something with value4\n",
    "  } catch (e) {\n",
    "    // Handle any error from step1 through step4\n",
    "  }\n",
    "}"
   ]
  },
  {
   "cell_type": "markdown",
   "id": "0a174117",
   "metadata": {},
   "source": [
    "然后，使用一个函数，按次序自动执行所有步骤。"
   ]
  },
  {
   "cell_type": "code",
   "execution_count": null,
   "id": "70a4ab30",
   "metadata": {
    "attributes": {
     "classes": [
      "javascript"
     ],
     "id": ""
    }
   },
   "outputs": [],
   "source": [
    "scheduler(longRunningTask(initialValue));\n",
    "\n",
    "function scheduler(task) {\n",
    "  var taskObj = task.next(task.value);\n",
    "  // 如果Generator函数未结束，就继续调用\n",
    "  if (!taskObj.done) {\n",
    "    task.value = taskObj.value\n",
    "    scheduler(task);\n",
    "  }\n",
    "}"
   ]
  },
  {
   "cell_type": "markdown",
   "id": "a244eca4",
   "metadata": {},
   "source": [
    "注意，上面这种做法，只适合同步操作，即所有的`task`都必须是同步的，不能有异步操作。因为这里的代码一得到返回值，就继续往下执行，没有判断异步操作何时完成。如果要控制异步的操作流程，详见后面的《异步操作》一章。\n",
    "\n",
    "下面，利用`for...of`循环会自动依次执行`yield`命令的特性，提供一种更一般的控制流管理的方法。"
   ]
  },
  {
   "cell_type": "code",
   "execution_count": null,
   "id": "65fd1cd0",
   "metadata": {
    "attributes": {
     "classes": [
      "javascript"
     ],
     "id": ""
    }
   },
   "outputs": [],
   "source": [
    "let steps = [step1Func, step2Func, step3Func];\n",
    "\n",
    "function* iterateSteps(steps){\n",
    "  for (var i=0; i< steps.length; i++){\n",
    "    var step = steps[i];\n",
    "    yield step();\n",
    "  }\n",
    "}"
   ]
  },
  {
   "cell_type": "markdown",
   "id": "5079c40a",
   "metadata": {},
   "source": [
    "上面代码中，数组`steps`封装了一个任务的多个步骤，Generator 函数`iterateSteps`则是依次为这些步骤加上`yield`命令。\n",
    "\n",
    "将任务分解成步骤之后，还可以将项目分解成多个依次执行的任务。"
   ]
  },
  {
   "cell_type": "code",
   "execution_count": null,
   "id": "e21a45ca",
   "metadata": {
    "attributes": {
     "classes": [
      "javascript"
     ],
     "id": ""
    }
   },
   "outputs": [],
   "source": [
    "let jobs = [job1, job2, job3];\n",
    "\n",
    "function* iterateJobs(jobs){\n",
    "  for (var i=0; i< jobs.length; i++){\n",
    "    var job = jobs[i];\n",
    "    yield* iterateSteps(job.steps);\n",
    "  }\n",
    "}"
   ]
  },
  {
   "cell_type": "markdown",
   "id": "18082c3b",
   "metadata": {},
   "source": [
    "上面代码中，数组`jobs`封装了一个项目的多个任务，Generator 函数`iterateJobs`则是依次为这些任务加上`yield*`命令。\n",
    "\n",
    "最后，就可以用`for...of`循环一次性依次执行所有任务的所有步骤。"
   ]
  },
  {
   "cell_type": "code",
   "execution_count": null,
   "id": "38db0cd9",
   "metadata": {
    "attributes": {
     "classes": [
      "javascript"
     ],
     "id": ""
    }
   },
   "outputs": [],
   "source": [
    "for (var step of iterateJobs(jobs)){\n",
    "  console.log(step.id);\n",
    "}"
   ]
  },
  {
   "cell_type": "markdown",
   "id": "383c3a5b",
   "metadata": {},
   "source": [
    "再次提醒，上面的做法只能用于所有步骤都是同步操作的情况，不能有异步操作的步骤。如果想要依次执行异步的步骤，必须使用后面的《异步操作》一章介绍的方法。\n",
    "\n",
    "`for...of`的本质是一个`while`循环，所以上面的代码实质上执行的是下面的逻辑。"
   ]
  },
  {
   "cell_type": "code",
   "execution_count": null,
   "id": "434faeab",
   "metadata": {
    "attributes": {
     "classes": [
      "javascript"
     ],
     "id": ""
    }
   },
   "outputs": [],
   "source": [
    "var it = iterateJobs(jobs);\n",
    "var res = it.next();\n",
    "\n",
    "while (!res.done){\n",
    "  var result = res.value;\n",
    "  // ...\n",
    "  res = it.next();\n",
    "}"
   ]
  },
  {
   "cell_type": "markdown",
   "id": "9643755f",
   "metadata": {},
   "source": [
    "### （3）部署 Iterator 接口\n",
    "\n",
    "利用 Generator 函数，可以在任意对象上部署 Iterator 接口。"
   ]
  },
  {
   "cell_type": "code",
   "execution_count": null,
   "id": "3d7efb8d",
   "metadata": {
    "attributes": {
     "classes": [
      "javascript"
     ],
     "id": ""
    }
   },
   "outputs": [],
   "source": [
    "function* iterEntries(obj) {\n",
    "  let keys = Object.keys(obj);\n",
    "  for (let i=0; i < keys.length; i++) {\n",
    "    let key = keys[i];\n",
    "    yield [key, obj[key]];\n",
    "  }\n",
    "}\n",
    "\n",
    "let myObj = { foo: 3, bar: 7 };\n",
    "\n",
    "for (let [key, value] of iterEntries(myObj)) {\n",
    "  console.log(key, value);\n",
    "}\n",
    "\n",
    "// foo 3\n",
    "// bar 7"
   ]
  },
  {
   "cell_type": "markdown",
   "id": "2b2dd420",
   "metadata": {},
   "source": [
    "上述代码中，`myObj`是一个普通对象，通过`iterEntries`函数，就有了 Iterator 接口。也就是说，可以在任意对象上部署`next`方法。\n",
    "\n",
    "下面是一个对数组部署 Iterator 接口的例子，尽管数组原生具有这个接口。"
   ]
  },
  {
   "cell_type": "code",
   "execution_count": null,
   "id": "1de91ce9",
   "metadata": {
    "attributes": {
     "classes": [
      "javascript"
     ],
     "id": ""
    }
   },
   "outputs": [],
   "source": [
    "function* makeSimpleGenerator(array){\n",
    "  var nextIndex = 0;\n",
    "\n",
    "  while(nextIndex < array.length){\n",
    "    yield array[nextIndex++];\n",
    "  }\n",
    "}\n",
    "\n",
    "var gen = makeSimpleGenerator(['yo', 'ya']);\n",
    "\n",
    "gen.next().value // 'yo'\n",
    "gen.next().value // 'ya'\n",
    "gen.next().done  // true"
   ]
  },
  {
   "cell_type": "markdown",
   "id": "567bc883",
   "metadata": {},
   "source": [
    "### （4）作为数据结构\n",
    "\n",
    "Generator 可以看作是数据结构，更确切地说，可以看作是一个数组结构，因为 Generator 函数可以返回一系列的值，这意味着它可以对任意表达式，提供类似数组的接口。"
   ]
  },
  {
   "cell_type": "code",
   "execution_count": null,
   "id": "a7f0ed82",
   "metadata": {
    "attributes": {
     "classes": [
      "javascript"
     ],
     "id": ""
    }
   },
   "outputs": [],
   "source": [
    "function* doStuff() {\n",
    "  yield fs.readFile.bind(null, 'hello.txt');\n",
    "  yield fs.readFile.bind(null, 'world.txt');\n",
    "  yield fs.readFile.bind(null, 'and-such.txt');\n",
    "}"
   ]
  },
  {
   "cell_type": "markdown",
   "id": "6ec24df2",
   "metadata": {},
   "source": [
    "上面代码就是依次返回三个函数，但是由于使用了 Generator 函数，导致可以像处理数组那样，处理这三个返回的函数。"
   ]
  },
  {
   "cell_type": "code",
   "execution_count": null,
   "id": "14f8e6c4",
   "metadata": {
    "attributes": {
     "classes": [
      "javascript"
     ],
     "id": ""
    }
   },
   "outputs": [],
   "source": [
    "for (task of doStuff()) {\n",
    "  // task是一个函数，可以像回调函数那样使用它\n",
    "}"
   ]
  },
  {
   "cell_type": "markdown",
   "id": "bbb4d115",
   "metadata": {},
   "source": [
    "实际上，如果用 ES5 表达，完全可以用数组模拟 Generator 的这种用法。"
   ]
  },
  {
   "cell_type": "code",
   "execution_count": null,
   "id": "26e7d521",
   "metadata": {
    "attributes": {
     "classes": [
      "javascript"
     ],
     "id": ""
    }
   },
   "outputs": [],
   "source": [
    "function doStuff() {\n",
    "  return [\n",
    "    fs.readFile.bind(null, 'hello.txt'),\n",
    "    fs.readFile.bind(null, 'world.txt'),\n",
    "    fs.readFile.bind(null, 'and-such.txt')\n",
    "  ];\n",
    "}"
   ]
  },
  {
   "cell_type": "markdown",
   "id": "b4ad7407",
   "metadata": {},
   "source": [
    "上面的函数，可以用一模一样的`for...of`循环处理！两相一比较，就不难看出 Generator 使得数据或者操作，具备了类似数组的接口。"
   ]
  }
 ],
 "metadata": {},
 "nbformat": 4,
 "nbformat_minor": 5
}

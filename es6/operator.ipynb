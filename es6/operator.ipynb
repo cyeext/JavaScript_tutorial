{
 "cells": [
  {
   "cell_type": "markdown",
   "id": "a1d10b06",
   "metadata": {},
   "source": [
    "# 运算符的扩展\n",
    "\n",
    "本章介绍 ES6 后续标准添加的一些运算符。\n",
    "\n",
    "## 指数运算符\n",
    "\n",
    "ES2016 新增了一个指数运算符（`**`）。"
   ]
  },
  {
   "cell_type": "code",
   "execution_count": null,
   "id": "1dfa21cc",
   "metadata": {
    "attributes": {
     "classes": [
      "javascript"
     ],
     "id": ""
    }
   },
   "outputs": [],
   "source": [
    "2 ** 2 // 4\n",
    "2 ** 3 // 8"
   ]
  },
  {
   "cell_type": "markdown",
   "id": "c3b41e5c",
   "metadata": {},
   "source": [
    "这个运算符的一个特点是右结合，而不是常见的左结合。多个指数运算符连用时，是从最右边开始计算的。"
   ]
  },
  {
   "cell_type": "code",
   "execution_count": null,
   "id": "5f5bca33",
   "metadata": {
    "attributes": {
     "classes": [
      "javascript"
     ],
     "id": ""
    }
   },
   "outputs": [],
   "source": [
    "// 相当于 2 ** (3 ** 2)\n",
    "2 ** 3 ** 2\n",
    "// 512"
   ]
  },
  {
   "cell_type": "markdown",
   "id": "d1b95bb2",
   "metadata": {},
   "source": [
    "上面代码中，首先计算的是第二个指数运算符，而不是第一个。\n",
    "\n",
    "指数运算符可以与等号结合，形成一个新的赋值运算符（`**=`）。"
   ]
  },
  {
   "cell_type": "code",
   "execution_count": null,
   "id": "ba7e543b",
   "metadata": {
    "attributes": {
     "classes": [
      "javascript"
     ],
     "id": ""
    }
   },
   "outputs": [],
   "source": [
    "let a = 1.5;\n",
    "a **= 2;\n",
    "// 等同于 a = a * a;\n",
    "\n",
    "let b = 4;\n",
    "b **= 3;\n",
    "// 等同于 b = b * b * b;"
   ]
  },
  {
   "cell_type": "markdown",
   "id": "833f6961",
   "metadata": {},
   "source": [
    "## 链判断运算符\n",
    "\n",
    "编程实务中，如果读取对象内部的某个属性，往往需要判断一下，属性的上层对象是否存在。比如，读取`message.body.user.firstName`这个属性，安全的写法是写成下面这样。"
   ]
  },
  {
   "cell_type": "code",
   "execution_count": null,
   "id": "33bd5582",
   "metadata": {
    "attributes": {
     "classes": [
      "javascript"
     ],
     "id": ""
    }
   },
   "outputs": [],
   "source": [
    "// 错误的写法\n",
    "const  firstName = message.body.user.firstName || 'default';\n",
    "\n",
    "// 正确的写法\n",
    "const firstName = (message\n",
    "  && message.body\n",
    "  && message.body.user\n",
    "  && message.body.user.firstName) || 'default';"
   ]
  },
  {
   "cell_type": "markdown",
   "id": "3677924f",
   "metadata": {},
   "source": [
    "上面例子中，`firstName`属性在对象的第四层，所以需要判断四次，每一层是否有值。\n",
    "\n",
    "三元运算符`?:`也常用于判断对象是否存在。"
   ]
  },
  {
   "cell_type": "code",
   "execution_count": null,
   "id": "e789b616",
   "metadata": {
    "attributes": {
     "classes": [
      "javascript"
     ],
     "id": ""
    }
   },
   "outputs": [],
   "source": [
    "const fooInput = myForm.querySelector('input[name=foo]')\n",
    "const fooValue = fooInput ? fooInput.value : undefined"
   ]
  },
  {
   "cell_type": "markdown",
   "id": "3d96a4b7",
   "metadata": {},
   "source": [
    "上面例子中，必须先判断`fooInput`是否存在，才能读取`fooInput.value`。\n",
    "\n",
    "这样的层层判断非常麻烦，因此 [ES2020](https://github.com/tc39/proposal-optional-chaining) 引入了“链判断运算符”（optional chaining operator）`?.`，简化上面的写法。"
   ]
  },
  {
   "cell_type": "code",
   "execution_count": null,
   "id": "65b1e3aa",
   "metadata": {
    "attributes": {
     "classes": [
      "javascript"
     ],
     "id": ""
    }
   },
   "outputs": [],
   "source": [
    "const firstName = message?.body?.user?.firstName || 'default';\n",
    "const fooValue = myForm.querySelector('input[name=foo]')?.value"
   ]
  },
  {
   "cell_type": "markdown",
   "id": "3f539657",
   "metadata": {},
   "source": [
    "上面代码使用了`?.`运算符，直接在链式调用的时候判断，左侧的对象是否为`null`或`undefined`。如果是的，就不再往下运算，而是返回`undefined`。\n",
    "\n",
    "下面是判断对象方法是否存在，如果存在就立即执行的例子。"
   ]
  },
  {
   "cell_type": "code",
   "execution_count": null,
   "id": "8f283159",
   "metadata": {
    "attributes": {
     "classes": [
      "javascript"
     ],
     "id": ""
    }
   },
   "outputs": [],
   "source": [
    "iterator.return?.()"
   ]
  },
  {
   "cell_type": "markdown",
   "id": "b5e691ec",
   "metadata": {},
   "source": [
    "上面代码中，`iterator.return`如果有定义，就会调用该方法，否则`iterator.return`直接返回`undefined`，不再执行`?.`后面的部分。\n",
    "\n",
    "对于那些可能没有实现的方法，这个运算符尤其有用。"
   ]
  },
  {
   "cell_type": "code",
   "execution_count": null,
   "id": "d5c6d3df",
   "metadata": {
    "attributes": {
     "classes": [
      "javascript"
     ],
     "id": ""
    }
   },
   "outputs": [],
   "source": [
    "if (myForm.checkValidity?.() === false) {\n",
    "  // 表单校验失败\n",
    "  return;\n",
    "}"
   ]
  },
  {
   "cell_type": "markdown",
   "id": "fd556b9b",
   "metadata": {},
   "source": [
    "上面代码中，老式浏览器的表单对象可能没有`checkValidity()`这个方法，这时`?.`运算符就会返回`undefined`，判断语句就变成了`undefined === false`，所以就会跳过下面的代码。\n",
    "\n",
    "链判断运算符`?.`有三种写法。\n",
    "\n",
    "- `obj?.prop` // 对象属性是否存在\n",
    "- `obj?.[expr]` // 同上\n",
    "- `func?.(...args)` // 函数或对象方法是否存在\n",
    "\n",
    "下面是`obj?.[expr]`用法的一个例子。"
   ]
  },
  {
   "cell_type": "code",
   "execution_count": null,
   "id": "2bee61a2",
   "metadata": {},
   "outputs": [],
   "source": [
    "%%bash\n",
    "let hex = \"#C0FFEE\".match(/#([A-Z]+)/i)?.[1];"
   ]
  },
  {
   "cell_type": "markdown",
   "id": "096958d7",
   "metadata": {},
   "source": [
    "上面例子中，字符串的`match()`方法，如果没有发现匹配会返回`null`，如果发现匹配会返回一个数组，`?.`运算符起到了判断作用。\n",
    "\n",
    "下面是`?.`运算符常见形式，以及不使用该运算符时的等价形式。"
   ]
  },
  {
   "cell_type": "code",
   "execution_count": null,
   "id": "a624d282",
   "metadata": {
    "attributes": {
     "classes": [
      "javascript"
     ],
     "id": ""
    }
   },
   "outputs": [],
   "source": [
    "a?.b\n",
    "// 等同于\n",
    "a == null ? undefined : a.b\n",
    "\n",
    "a?.[x]\n",
    "// 等同于\n",
    "a == null ? undefined : a[x]\n",
    "\n",
    "a?.b()\n",
    "// 等同于\n",
    "a == null ? undefined : a.b()\n",
    "\n",
    "a?.()\n",
    "// 等同于\n",
    "a == null ? undefined : a()"
   ]
  },
  {
   "cell_type": "markdown",
   "id": "e7f81073",
   "metadata": {},
   "source": [
    "上面代码中，特别注意后两种形式，如果`a?.b()`和`a?.()`。如果`a?.b()`里面的`a.b`有值，但不是函数，不可调用，那么`a?.b()`是会报错的。`a?.()`也是如此，如果`a`不是`null`或`undefined`，但也不是函数，那么`a?.()`会报错。\n",
    "\n",
    "使用这个运算符，有几个注意点。\n",
    "\n",
    "（1）短路机制\n",
    "\n",
    "本质上，`?.`运算符相当于一种短路机制，只要不满足条件，就不再往下执行。"
   ]
  },
  {
   "cell_type": "code",
   "execution_count": null,
   "id": "53afa1a0",
   "metadata": {
    "attributes": {
     "classes": [
      "javascript"
     ],
     "id": ""
    }
   },
   "outputs": [],
   "source": [
    "a?.[++x]\n",
    "// 等同于\n",
    "a == null ? undefined : a[++x]"
   ]
  },
  {
   "cell_type": "markdown",
   "id": "67dba0b7",
   "metadata": {},
   "source": [
    "上面代码中，如果`a`是`undefined`或`null`，那么`x`不会进行递增运算。也就是说，链判断运算符一旦为真，右侧的表达式就不再求值。\n",
    "\n",
    "（2）括号的影响\n",
    "\n",
    "如果属性链有圆括号，链判断运算符对圆括号外部没有影响，只对圆括号内部有影响。"
   ]
  },
  {
   "cell_type": "code",
   "execution_count": null,
   "id": "4ac525c7",
   "metadata": {
    "attributes": {
     "classes": [
      "javascript"
     ],
     "id": ""
    }
   },
   "outputs": [],
   "source": [
    "(a?.b).c\n",
    "// 等价于\n",
    "(a == null ? undefined : a.b).c"
   ]
  },
  {
   "cell_type": "markdown",
   "id": "dc8d71e2",
   "metadata": {},
   "source": [
    "上面代码中，`?.`对圆括号外部没有影响，不管`a`对象是否存在，圆括号后面的`.c`总是会执行。\n",
    "\n",
    "一般来说，使用`?.`运算符的场合，不应该使用圆括号。\n",
    "\n",
    "（3）报错场合\n",
    "\n",
    "以下写法是禁止的，会报错。"
   ]
  },
  {
   "cell_type": "code",
   "execution_count": null,
   "id": "5bc475c9",
   "metadata": {
    "attributes": {
     "classes": [
      "javascript"
     ],
     "id": ""
    }
   },
   "outputs": [],
   "source": [
    "// 构造函数\n",
    "new a?.()\n",
    "new a?.b()\n",
    "\n",
    "// 链判断运算符的右侧有模板字符串\n",
    "a?.`{b}`\n",
    "a?.b`{c}`\n",
    "\n",
    "// 链判断运算符的左侧是 super\n",
    "super?.()\n",
    "super?.foo\n",
    "\n",
    "// 链运算符用于赋值运算符左侧\n",
    "a?.b = c"
   ]
  },
  {
   "cell_type": "markdown",
   "id": "b370e859",
   "metadata": {},
   "source": [
    "（4）右侧不得为十进制数值\n",
    "\n",
    "为了保证兼容以前的代码，允许`foo?.3:0`被解析成`foo ? .3 : 0`，因此规定如果`?.`后面紧跟一个十进制数字，那么`?.`不再被看成是一个完整的运算符，而会按照三元运算符进行处理，也就是说，那个小数点会归属于后面的十进制数字，形成一个小数。\n",
    "\n",
    "## Null 判断运算符\n",
    "\n",
    "读取对象属性的时候，如果某个属性的值是`null`或`undefined`，有时候需要为它们指定默认值。常见做法是通过`||`运算符指定默认值。"
   ]
  },
  {
   "cell_type": "code",
   "execution_count": null,
   "id": "b4897d0d",
   "metadata": {
    "attributes": {
     "classes": [
      "javascript"
     ],
     "id": ""
    }
   },
   "outputs": [],
   "source": [
    "const headerText = response.settings.headerText || 'Hello, world!';\n",
    "const animationDuration = response.settings.animationDuration || 300;\n",
    "const showSplashScreen = response.settings.showSplashScreen || true;"
   ]
  },
  {
   "cell_type": "markdown",
   "id": "5dd3115c",
   "metadata": {},
   "source": [
    "上面的三行代码都通过`||`运算符指定默认值，但是这样写是错的。开发者的原意是，只要属性的值为`null`或`undefined`，默认值就会生效，但是属性的值如果为空字符串或`false`或`0`，默认值也会生效。\n",
    "\n",
    "为了避免这种情况，[ES2020](https://github.com/tc39/proposal-nullish-coalescing) 引入了一个新的 Null 判断运算符`??`。它的行为类似`||`，但是只有运算符左侧的值为`null`或`undefined`时，才会返回右侧的值。"
   ]
  },
  {
   "cell_type": "code",
   "execution_count": null,
   "id": "7747359e",
   "metadata": {
    "attributes": {
     "classes": [
      "javascript"
     ],
     "id": ""
    }
   },
   "outputs": [],
   "source": [
    "const headerText = response.settings.headerText ?? 'Hello, world!';\n",
    "const animationDuration = response.settings.animationDuration ?? 300;\n",
    "const showSplashScreen = response.settings.showSplashScreen ?? true;"
   ]
  },
  {
   "cell_type": "markdown",
   "id": "ee0bb612",
   "metadata": {},
   "source": [
    "上面代码中，默认值只有在左侧属性值为`null`或`undefined`时，才会生效。\n",
    "\n",
    "这个运算符的一个目的，就是跟链判断运算符`?.`配合使用，为`null`或`undefined`的值设置默认值。"
   ]
  },
  {
   "cell_type": "code",
   "execution_count": null,
   "id": "ca32c712",
   "metadata": {
    "attributes": {
     "classes": [
      "javascript"
     ],
     "id": ""
    }
   },
   "outputs": [],
   "source": [
    "const animationDuration = response.settings?.animationDuration ?? 300;"
   ]
  },
  {
   "cell_type": "markdown",
   "id": "b7925b88",
   "metadata": {},
   "source": [
    "上面代码中，如果`response.settings`是`null`或`undefined`，或者`response.settings.animationDuration`是`null`或`undefined`，就会返回默认值300。也就是说，这一行代码包括了两级属性的判断。\n",
    "\n",
    "这个运算符很适合判断函数参数是否赋值。"
   ]
  },
  {
   "cell_type": "code",
   "execution_count": null,
   "id": "e22484fb",
   "metadata": {
    "attributes": {
     "classes": [
      "javascript"
     ],
     "id": ""
    }
   },
   "outputs": [],
   "source": [
    "function Component(props) {\n",
    "  const enable = props.enabled ?? true;\n",
    "  // …\n",
    "}"
   ]
  },
  {
   "cell_type": "markdown",
   "id": "e5cd60de",
   "metadata": {},
   "source": [
    "上面代码判断`props`参数的`enabled`属性是否赋值，基本等同于下面的写法。"
   ]
  },
  {
   "cell_type": "code",
   "execution_count": null,
   "id": "fa3daf8e",
   "metadata": {
    "attributes": {
     "classes": [
      "javascript"
     ],
     "id": ""
    }
   },
   "outputs": [],
   "source": [
    "function Component(props) {\n",
    "  const {\n",
    "    enabled: enable = true,\n",
    "  } = props;\n",
    "  // …\n",
    "}"
   ]
  },
  {
   "cell_type": "markdown",
   "id": "4046050b",
   "metadata": {},
   "source": [
    "`??`本质上是逻辑运算，它与其他两个逻辑运算符`&&`和`||`有一个优先级问题，它们之间的优先级到底孰高孰低。优先级的不同，往往会导致逻辑运算的结果不同。\n",
    "\n",
    "现在的规则是，如果多个逻辑运算符一起使用，必须用括号表明优先级，否则会报错。"
   ]
  },
  {
   "cell_type": "code",
   "execution_count": null,
   "id": "618f0a33",
   "metadata": {
    "attributes": {
     "classes": [
      "javascript"
     ],
     "id": ""
    }
   },
   "outputs": [],
   "source": [
    "// 报错\n",
    "lhs && middle ?? rhs\n",
    "lhs ?? middle && rhs\n",
    "lhs || middle ?? rhs\n",
    "lhs ?? middle || rhs"
   ]
  },
  {
   "cell_type": "markdown",
   "id": "70e20bb8",
   "metadata": {},
   "source": [
    "上面四个表达式都会报错，必须加入表明优先级的括号。"
   ]
  },
  {
   "cell_type": "code",
   "execution_count": null,
   "id": "b275ca4f",
   "metadata": {
    "attributes": {
     "classes": [
      "javascript"
     ],
     "id": ""
    }
   },
   "outputs": [],
   "source": [
    "(lhs && middle) ?? rhs;\n",
    "lhs && (middle ?? rhs);\n",
    "\n",
    "(lhs ?? middle) && rhs;\n",
    "lhs ?? (middle && rhs);\n",
    "\n",
    "(lhs || middle) ?? rhs;\n",
    "lhs || (middle ?? rhs);\n",
    "\n",
    "(lhs ?? middle) || rhs;\n",
    "lhs ?? (middle || rhs);"
   ]
  },
  {
   "cell_type": "markdown",
   "id": "195955ba",
   "metadata": {},
   "source": [
    "## 逻辑赋值运算符\n",
    "\n",
    "ES2021 引入了三个新的[逻辑赋值运算符](https://github.com/tc39/proposal-logical-assignment)（logical assignment operators），将逻辑运算符与赋值运算符进行结合。"
   ]
  },
  {
   "cell_type": "code",
   "execution_count": null,
   "id": "58921931",
   "metadata": {
    "attributes": {
     "classes": [
      "javascript"
     ],
     "id": ""
    }
   },
   "outputs": [],
   "source": [
    "// 或赋值运算符\n",
    "x ||= y\n",
    "// 等同于\n",
    "x || (x = y)\n",
    "\n",
    "// 与赋值运算符\n",
    "x &&= y\n",
    "// 等同于\n",
    "x && (x = y)\n",
    "\n",
    "// Null 赋值运算符\n",
    "x ??= y\n",
    "// 等同于\n",
    "x ?? (x = y)"
   ]
  },
  {
   "cell_type": "markdown",
   "id": "d6638580",
   "metadata": {},
   "source": [
    "这三个运算符`||=`、`&&=`、`??=`相当于先进行逻辑运算，然后根据运算结果，再视情况进行赋值运算。\n",
    "\n",
    "它们的一个用途是，为变量或属性设置默认值。"
   ]
  },
  {
   "cell_type": "code",
   "execution_count": null,
   "id": "90bd2d1b",
   "metadata": {
    "attributes": {
     "classes": [
      "javascript"
     ],
     "id": ""
    }
   },
   "outputs": [],
   "source": [
    "// 老的写法\n",
    "user.id = user.id || 1;\n",
    "\n",
    "// 新的写法\n",
    "user.id ||= 1;"
   ]
  },
  {
   "cell_type": "markdown",
   "id": "86f40d1f",
   "metadata": {},
   "source": [
    "上面示例中，`user.id`属性如果不存在，则设为`1`，新的写法比老的写法更紧凑一些。\n",
    "\n",
    "下面是另一个例子。"
   ]
  },
  {
   "cell_type": "code",
   "execution_count": null,
   "id": "9d20cb2f",
   "metadata": {
    "attributes": {
     "classes": [
      "javascript"
     ],
     "id": ""
    }
   },
   "outputs": [],
   "source": [
    "function example(opts) {\n",
    "  opts.foo = opts.foo ?? 'bar';\n",
    "  opts.baz ?? (opts.baz = 'qux');\n",
    "}"
   ]
  },
  {
   "cell_type": "markdown",
   "id": "997c9922",
   "metadata": {},
   "source": [
    "上面示例中，参数对象`opts`如果不存在属性`foo`和属性`baz`，则为这两个属性设置默认值。有了“Null 赋值运算符”以后，就可以统一写成下面这样。"
   ]
  },
  {
   "cell_type": "code",
   "execution_count": null,
   "id": "fc08cc0d",
   "metadata": {
    "attributes": {
     "classes": [
      "javascript"
     ],
     "id": ""
    }
   },
   "outputs": [],
   "source": [
    "function example(opts) {\n",
    "  opts.foo ??= 'bar';\n",
    "  opts.baz ??= 'qux';\n",
    "}"
   ]
  }
 ],
 "metadata": {},
 "nbformat": 4,
 "nbformat_minor": 5
}

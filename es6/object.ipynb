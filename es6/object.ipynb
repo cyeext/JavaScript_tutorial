{
 "cells": [
  {
   "cell_type": "markdown",
   "id": "3a11a803",
   "metadata": {},
   "source": [
    "# 对象的扩展\n",
    "\n",
    "对象（object）是 JavaScript 最重要的数据结构。ES6 对它进行了重大升级，本章介绍数据结构本身的改变，下一章介绍`Object`对象的新增方法。\n",
    "\n",
    "## 属性的简洁表示法\n",
    "\n",
    "ES6 允许在大括号里面，直接写入变量和函数，作为对象的属性和方法。这样的书写更加简洁。"
   ]
  },
  {
   "cell_type": "code",
   "execution_count": null,
   "id": "e50150f8",
   "metadata": {
    "attributes": {
     "classes": [
      "javascript"
     ],
     "id": ""
    }
   },
   "outputs": [],
   "source": [
    "const foo = 'bar';\n",
    "const baz = {foo};\n",
    "baz // {foo: \"bar\"}\n",
    "\n",
    "// 等同于\n",
    "const baz = {foo: foo};"
   ]
  },
  {
   "cell_type": "markdown",
   "id": "58ae934d",
   "metadata": {},
   "source": [
    "上面代码中，变量`foo`直接写在大括号里面。这时，属性名就是变量名, 属性值就是变量值。下面是另一个例子。"
   ]
  },
  {
   "cell_type": "code",
   "execution_count": null,
   "id": "cb7ffe33",
   "metadata": {
    "attributes": {
     "classes": [
      "javascript"
     ],
     "id": ""
    }
   },
   "outputs": [],
   "source": [
    "function f(x, y) {\n",
    "  return {x, y};\n",
    "}\n",
    "\n",
    "// 等同于\n",
    "\n",
    "function f(x, y) {\n",
    "  return {x: x, y: y};\n",
    "}\n",
    "\n",
    "f(1, 2) // Object {x: 1, y: 2}"
   ]
  },
  {
   "cell_type": "markdown",
   "id": "2fd558ac",
   "metadata": {},
   "source": [
    "除了属性简写，方法也可以简写。"
   ]
  },
  {
   "cell_type": "code",
   "execution_count": null,
   "id": "3053af3c",
   "metadata": {
    "attributes": {
     "classes": [
      "javascript"
     ],
     "id": ""
    }
   },
   "outputs": [],
   "source": [
    "const o = {\n",
    "  method() {\n",
    "    return \"Hello!\";\n",
    "  }\n",
    "};\n",
    "\n",
    "// 等同于\n",
    "\n",
    "const o = {\n",
    "  method: function() {\n",
    "    return \"Hello!\";\n",
    "  }\n",
    "};"
   ]
  },
  {
   "cell_type": "markdown",
   "id": "8fee9f5f",
   "metadata": {},
   "source": [
    "下面是一个实际的例子。"
   ]
  },
  {
   "cell_type": "code",
   "execution_count": null,
   "id": "72aec2a3",
   "metadata": {
    "attributes": {
     "classes": [
      "javascript"
     ],
     "id": ""
    }
   },
   "outputs": [],
   "source": [
    "let birth = '2000/01/01';\n",
    "\n",
    "const Person = {\n",
    "\n",
    "  name: '张三',\n",
    "\n",
    "  //等同于birth: birth\n",
    "  birth,\n",
    "\n",
    "  // 等同于hello: function ()...\n",
    "  hello() { console.log('我的名字是', this.name); }\n",
    "\n",
    "};"
   ]
  },
  {
   "cell_type": "markdown",
   "id": "bbd843f6",
   "metadata": {},
   "source": [
    "这种写法用于函数的返回值，将会非常方便。"
   ]
  },
  {
   "cell_type": "code",
   "execution_count": null,
   "id": "672d1fbc",
   "metadata": {
    "attributes": {
     "classes": [
      "javascript"
     ],
     "id": ""
    }
   },
   "outputs": [],
   "source": [
    "function getPoint() {\n",
    "  const x = 1;\n",
    "  const y = 10;\n",
    "  return {x, y};\n",
    "}\n",
    "\n",
    "getPoint()\n",
    "// {x:1, y:10}"
   ]
  },
  {
   "cell_type": "markdown",
   "id": "8b79d508",
   "metadata": {},
   "source": [
    "CommonJS 模块输出一组变量，就非常合适使用简洁写法。"
   ]
  },
  {
   "cell_type": "code",
   "execution_count": null,
   "id": "c85918d1",
   "metadata": {
    "attributes": {
     "classes": [
      "javascript"
     ],
     "id": ""
    }
   },
   "outputs": [],
   "source": [
    "let ms = {};\n",
    "\n",
    "function getItem (key) {\n",
    "  return key in ms ? ms[key] : null;\n",
    "}\n",
    "\n",
    "function setItem (key, value) {\n",
    "  ms[key] = value;\n",
    "}\n",
    "\n",
    "function clear () {\n",
    "  ms = {};\n",
    "}\n",
    "\n",
    "module.exports = { getItem, setItem, clear };\n",
    "// 等同于\n",
    "module.exports = {\n",
    "  getItem: getItem,\n",
    "  setItem: setItem,\n",
    "  clear: clear\n",
    "};"
   ]
  },
  {
   "cell_type": "markdown",
   "id": "4629f377",
   "metadata": {},
   "source": [
    "属性的赋值器（setter）和取值器（getter），事实上也是采用这种写法。"
   ]
  },
  {
   "cell_type": "code",
   "execution_count": null,
   "id": "419366d8",
   "metadata": {
    "attributes": {
     "classes": [
      "javascript"
     ],
     "id": ""
    }
   },
   "outputs": [],
   "source": [
    "const cart = {\n",
    "  _wheels: 4,\n",
    "\n",
    "  get wheels () {\n",
    "    return this._wheels;\n",
    "  },\n",
    "\n",
    "  set wheels (value) {\n",
    "    if (value < this._wheels) {\n",
    "      throw new Error('数值太小了！');\n",
    "    }\n",
    "    this._wheels = value;\n",
    "  }\n",
    "}"
   ]
  },
  {
   "cell_type": "markdown",
   "id": "356b279e",
   "metadata": {},
   "source": [
    "简洁写法在打印对象时也很有用。"
   ]
  },
  {
   "cell_type": "code",
   "execution_count": null,
   "id": "38c94a31",
   "metadata": {
    "attributes": {
     "classes": [
      "javascript"
     ],
     "id": ""
    }
   },
   "outputs": [],
   "source": [
    "let user = {\n",
    "  name: 'test'\n",
    "};\n",
    "\n",
    "let foo = {\n",
    "  bar: 'baz'\n",
    "};\n",
    "\n",
    "console.log(user, foo)\n",
    "// {name: \"test\"} {bar: \"baz\"}\n",
    "console.log({user, foo})\n",
    "// {user: {name: \"test\"}, foo: {bar: \"baz\"}}"
   ]
  },
  {
   "cell_type": "markdown",
   "id": "03584eda",
   "metadata": {},
   "source": [
    "上面代码中，`console.log`直接输出`user`和`foo`两个对象时，就是两组键值对，可能会混淆。把它们放在大括号里面输出，就变成了对象的简洁表示法，每组键值对前面会打印对象名，这样就比较清晰了。\n",
    "\n",
    "注意，简写的对象方法不能用作构造函数，会报错。"
   ]
  },
  {
   "cell_type": "code",
   "execution_count": null,
   "id": "bfcee5d6",
   "metadata": {
    "attributes": {
     "classes": [
      "javascript"
     ],
     "id": ""
    }
   },
   "outputs": [],
   "source": [
    "const obj = {\n",
    "  f() {\n",
    "    this.foo = 'bar';\n",
    "  }\n",
    "};\n",
    "\n",
    "new obj.f() // 报错"
   ]
  },
  {
   "cell_type": "markdown",
   "id": "b3a65b9c",
   "metadata": {},
   "source": [
    "上面代码中，`f`是一个简写的对象方法，所以`obj.f`不能当作构造函数使用。\n",
    "\n",
    "## 属性名表达式\n",
    "\n",
    "JavaScript 定义对象的属性，有两种方法。"
   ]
  },
  {
   "cell_type": "code",
   "execution_count": null,
   "id": "bd9ddbe5",
   "metadata": {
    "attributes": {
     "classes": [
      "javascript"
     ],
     "id": ""
    }
   },
   "outputs": [],
   "source": [
    "// 方法一\n",
    "obj.foo = true;\n",
    "\n",
    "// 方法二\n",
    "obj['a' + 'bc'] = 123;"
   ]
  },
  {
   "cell_type": "markdown",
   "id": "5459d0b1",
   "metadata": {},
   "source": [
    "上面代码的方法一是直接用标识符作为属性名，方法二是用表达式作为属性名，这时要将表达式放在方括号之内。\n",
    "\n",
    "但是，如果使用字面量方式定义对象（使用大括号），在 ES5 中只能使用方法一（标识符）定义属性。"
   ]
  },
  {
   "cell_type": "code",
   "execution_count": null,
   "id": "0277b492",
   "metadata": {
    "attributes": {
     "classes": [
      "javascript"
     ],
     "id": ""
    }
   },
   "outputs": [],
   "source": [
    "var obj = {\n",
    "  foo: true,\n",
    "  abc: 123\n",
    "};"
   ]
  },
  {
   "cell_type": "markdown",
   "id": "5127c817",
   "metadata": {},
   "source": [
    "ES6 允许字面量定义对象时，用方法二（表达式）作为对象的属性名，即把表达式放在方括号内。"
   ]
  },
  {
   "cell_type": "code",
   "execution_count": null,
   "id": "b9be6b94",
   "metadata": {
    "attributes": {
     "classes": [
      "javascript"
     ],
     "id": ""
    }
   },
   "outputs": [],
   "source": [
    "let propKey = 'foo';\n",
    "\n",
    "let obj = {\n",
    "  [propKey]: true,\n",
    "  ['a' + 'bc']: 123\n",
    "};"
   ]
  },
  {
   "cell_type": "markdown",
   "id": "9b5b313c",
   "metadata": {},
   "source": [
    "下面是另一个例子。"
   ]
  },
  {
   "cell_type": "code",
   "execution_count": null,
   "id": "403c67e0",
   "metadata": {
    "attributes": {
     "classes": [
      "javascript"
     ],
     "id": ""
    }
   },
   "outputs": [],
   "source": [
    "let lastWord = 'last word';\n",
    "\n",
    "const a = {\n",
    "  'first word': 'hello',\n",
    "  [lastWord]: 'world'\n",
    "};\n",
    "\n",
    "a['first word'] // \"hello\"\n",
    "a[lastWord] // \"world\"\n",
    "a['last word'] // \"world\""
   ]
  },
  {
   "cell_type": "markdown",
   "id": "5aba7359",
   "metadata": {},
   "source": [
    "表达式还可以用于定义方法名。"
   ]
  },
  {
   "cell_type": "code",
   "execution_count": null,
   "id": "33331e6b",
   "metadata": {
    "attributes": {
     "classes": [
      "javascript"
     ],
     "id": ""
    }
   },
   "outputs": [],
   "source": [
    "let obj = {\n",
    "  ['h' + 'ello']() {\n",
    "    return 'hi';\n",
    "  }\n",
    "};\n",
    "\n",
    "obj.hello() // hi"
   ]
  },
  {
   "cell_type": "markdown",
   "id": "5ede5205",
   "metadata": {},
   "source": [
    "注意，属性名表达式与简洁表示法，不能同时使用，会报错。"
   ]
  },
  {
   "cell_type": "code",
   "execution_count": null,
   "id": "671b3ac9",
   "metadata": {
    "attributes": {
     "classes": [
      "javascript"
     ],
     "id": ""
    }
   },
   "outputs": [],
   "source": [
    "// 报错\n",
    "const foo = 'bar';\n",
    "const bar = 'abc';\n",
    "const baz = { [foo] };\n",
    "\n",
    "// 正确\n",
    "const foo = 'bar';\n",
    "const baz = { [foo]: 'abc'};"
   ]
  },
  {
   "cell_type": "markdown",
   "id": "c8cee751",
   "metadata": {},
   "source": [
    "注意，属性名表达式如果是一个对象，默认情况下会自动将对象转为字符串`[object Object]`，这一点要特别小心。"
   ]
  },
  {
   "cell_type": "code",
   "execution_count": null,
   "id": "7e87699f",
   "metadata": {
    "attributes": {
     "classes": [
      "javascript"
     ],
     "id": ""
    }
   },
   "outputs": [],
   "source": [
    "const keyA = {a: 1};\n",
    "const keyB = {b: 2};\n",
    "\n",
    "const myObject = {\n",
    "  [keyA]: 'valueA',\n",
    "  [keyB]: 'valueB'\n",
    "};\n",
    "\n",
    "myObject // Object {[object Object]: \"valueB\"}"
   ]
  },
  {
   "cell_type": "markdown",
   "id": "9f53c8d4",
   "metadata": {},
   "source": [
    "上面代码中，`[keyA]`和`[keyB]`得到的都是`[object Object]`，所以`[keyB]`会把`[keyA]`覆盖掉，而`myObject`最后只有一个`[object Object]`属性。\n",
    "\n",
    "## 方法的 name 属性\n",
    "\n",
    "函数的`name`属性，返回函数名。对象方法也是函数，因此也有`name`属性。"
   ]
  },
  {
   "cell_type": "code",
   "execution_count": 1,
   "id": "22a78d75",
   "metadata": {
    "attributes": {
     "classes": [
      "javascript"
     ],
     "id": ""
    }
   },
   "outputs": [
    {
     "data": {
      "text/plain": [
       "'sayName'"
      ]
     },
     "execution_count": 1,
     "metadata": {},
     "output_type": "execute_result"
    }
   ],
   "source": [
    "const person = {\n",
    "  sayName() {\n",
    "    console.log('hello!');\n",
    "  },\n",
    "};\n",
    "\n",
    "person.sayName.name   // \"sayName\""
   ]
  },
  {
   "cell_type": "markdown",
   "id": "6f299042",
   "metadata": {},
   "source": [
    "上面代码中，方法的`name`属性返回函数名（即方法名）。\n",
    "\n",
    "如果对象的方法使用了取值函数（`getter`）和存值函数（`setter`），则`name`属性不是在该方法上面，而是该方法的属性的描述对象的`get`和`set`属性上面，返回值是方法名前加上`get`和`set`。"
   ]
  },
  {
   "cell_type": "code",
   "execution_count": null,
   "id": "8ac0c612",
   "metadata": {
    "attributes": {
     "classes": [
      "javascript"
     ],
     "id": ""
    }
   },
   "outputs": [],
   "source": [
    "const obj = {\n",
    "  get foo() {},\n",
    "  set foo(x) {}\n",
    "};\n",
    "\n",
    "obj.foo.name\n",
    "// TypeError: Cannot read property 'name' of undefined\n",
    "\n",
    "const descriptor = Object.getOwnPropertyDescriptor(obj, 'foo');\n",
    "\n",
    "descriptor.get.name // \"get foo\"\n",
    "descriptor.set.name // \"set foo\""
   ]
  },
  {
   "cell_type": "markdown",
   "id": "fb153757",
   "metadata": {},
   "source": [
    "有两种特殊情况：`bind`方法创造的函数，`name`属性返回`bound`加上原函数的名字；`Function`构造函数创造的函数，`name`属性返回`anonymous`。"
   ]
  },
  {
   "cell_type": "code",
   "execution_count": null,
   "id": "5dbe1c1c",
   "metadata": {
    "attributes": {
     "classes": [
      "javascript"
     ],
     "id": ""
    }
   },
   "outputs": [],
   "source": [
    "(new Function()).name // \"anonymous\"\n",
    "\n",
    "var doSomething = function() {\n",
    "  // ...\n",
    "};\n",
    "doSomething.bind().name // \"bound doSomething\""
   ]
  },
  {
   "cell_type": "markdown",
   "id": "a57ae025",
   "metadata": {},
   "source": [
    "如果对象的方法是一个 Symbol 值，那么`name`属性返回的是这个 Symbol 值的描述。"
   ]
  },
  {
   "cell_type": "code",
   "execution_count": null,
   "id": "200e6a28",
   "metadata": {
    "attributes": {
     "classes": [
      "javascript"
     ],
     "id": ""
    }
   },
   "outputs": [],
   "source": [
    "const key1 = Symbol('description');\n",
    "const key2 = Symbol();\n",
    "let obj = {\n",
    "  [key1]() {},\n",
    "  [key2]() {},\n",
    "};\n",
    "obj[key1].name // \"[description]\"\n",
    "obj[key2].name // \"\""
   ]
  },
  {
   "cell_type": "markdown",
   "id": "5f8b1944",
   "metadata": {},
   "source": [
    "上面代码中，`key1`对应的 Symbol 值有描述，`key2`没有。\n",
    "\n",
    "## 属性的可枚举性和遍历\n",
    "\n",
    "### 可枚举性\n",
    "\n",
    "对象的每个属性都有一个描述对象（Descriptor），用来控制该属性的行为。`Object.getOwnPropertyDescriptor`方法可以获取该属性的描述对象。"
   ]
  },
  {
   "cell_type": "code",
   "execution_count": null,
   "id": "301dc518",
   "metadata": {
    "attributes": {
     "classes": [
      "javascript"
     ],
     "id": ""
    }
   },
   "outputs": [],
   "source": [
    "let obj = { foo: 123 };\n",
    "Object.getOwnPropertyDescriptor(obj, 'foo')\n",
    "//  {\n",
    "//    value: 123,\n",
    "//    writable: true,\n",
    "//    enumerable: true,\n",
    "//    configurable: true\n",
    "//  }"
   ]
  },
  {
   "cell_type": "markdown",
   "id": "af213d02",
   "metadata": {},
   "source": [
    "描述对象的`enumerable`属性，称为“可枚举性”，如果该属性为`false`，就表示某些操作会忽略当前属性。\n",
    "\n",
    "目前，有四个操作会忽略`enumerable`为`false`的属性。\n",
    "\n",
    "- `for...in`循环：只遍历对象自身的和继承的可枚举的属性。\n",
    "- `Object.keys()`：返回对象自身的所有可枚举的属性的键名。\n",
    "- `JSON.stringify()`：只串行化对象自身的可枚举的属性。\n",
    "- `Object.assign()`： 忽略`enumerable`为`false`的属性，只拷贝对象自身的可枚举的属性。\n",
    "\n",
    "这四个操作之中，前三个是 ES5 就有的，最后一个`Object.assign()`是 ES6 新增的。其中，只有`for...in`会返回继承的属性，其他三个方法都会忽略继承的属性，只处理对象自身的属性。实际上，引入“可枚举”（`enumerable`）这个概念的最初目的，就是让某些属性可以规避掉`for...in`操作，不然所有内部属性和方法都会被遍历到。比如，对象原型的`toString`方法，以及数组的`length`属性，就通过“可枚举性”，从而避免被`for...in`遍历到。"
   ]
  },
  {
   "cell_type": "code",
   "execution_count": null,
   "id": "49ee8dac",
   "metadata": {
    "attributes": {
     "classes": [
      "javascript"
     ],
     "id": ""
    }
   },
   "outputs": [],
   "source": [
    "Object.getOwnPropertyDescriptor(Object.prototype, 'toString').enumerable\n",
    "// false\n",
    "\n",
    "Object.getOwnPropertyDescriptor([], 'length').enumerable\n",
    "// false"
   ]
  },
  {
   "cell_type": "markdown",
   "id": "df706514",
   "metadata": {},
   "source": [
    "上面代码中，`toString`和`length`属性的`enumerable`都是`false`，因此`for...in`不会遍历到这两个继承自原型的属性。\n",
    "\n",
    "另外，ES6 规定，所有 Class 的原型的方法都是不可枚举的。"
   ]
  },
  {
   "cell_type": "code",
   "execution_count": null,
   "id": "e7418c47",
   "metadata": {
    "attributes": {
     "classes": [
      "javascript"
     ],
     "id": ""
    }
   },
   "outputs": [],
   "source": [
    "Object.getOwnPropertyDescriptor(class {foo() {}}.prototype, 'foo').enumerable\n",
    "// false"
   ]
  },
  {
   "cell_type": "markdown",
   "id": "23c8ffd3",
   "metadata": {},
   "source": [
    "总的来说，操作中引入继承的属性会让问题复杂化，大多数时候，我们只关心对象自身的属性。所以，尽量不要用`for...in`循环，而用`Object.keys()`代替。\n",
    "\n",
    "### 属性的遍历\n",
    "\n",
    "ES6 一共有 5 种方法可以遍历对象的属性。\n",
    "\n",
    "**（1）for...in**\n",
    "\n",
    "`for...in`循环遍历对象自身的和继承的可枚举属性（不含 Symbol 属性）。\n",
    "\n",
    "**（2）Object.keys(obj)**\n",
    "\n",
    "`Object.keys`返回一个数组，包括对象自身的（不含继承的）所有可枚举属性（不含 Symbol 属性）的键名。\n",
    "\n",
    "**（3）Object.getOwnPropertyNames(obj)**\n",
    "\n",
    "`Object.getOwnPropertyNames`返回一个数组，包含对象自身的所有属性（不含 Symbol 属性，但是包括不可枚举属性）的键名。\n",
    "\n",
    "**（4）Object.getOwnPropertySymbols(obj)**\n",
    "\n",
    "`Object.getOwnPropertySymbols`返回一个数组，包含对象自身的所有 Symbol 属性的键名。\n",
    "\n",
    "**（5）Reflect.ownKeys(obj)**\n",
    "\n",
    "`Reflect.ownKeys`返回一个数组，包含对象自身的（不含继承的）所有键名，不管键名是 Symbol 或字符串，也不管是否可枚举。\n",
    "\n",
    "以上的 5 种方法遍历对象的键名，都遵守同样的属性遍历的次序规则。\n",
    "\n",
    "- 首先遍历所有数值键，按照数值升序排列。\n",
    "- 其次遍历所有字符串键，按照加入时间升序排列。\n",
    "- 最后遍历所有 Symbol 键，按照加入时间升序排列。"
   ]
  },
  {
   "cell_type": "code",
   "execution_count": null,
   "id": "03ca8a16",
   "metadata": {
    "attributes": {
     "classes": [
      "javascript"
     ],
     "id": ""
    }
   },
   "outputs": [],
   "source": [
    "Reflect.ownKeys({ [Symbol()]:0, b:0, 10:0, 2:0, a:0 })\n",
    "// ['2', '10', 'b', 'a', Symbol()]"
   ]
  },
  {
   "cell_type": "markdown",
   "id": "55ed58d2",
   "metadata": {},
   "source": [
    "上面代码中，`Reflect.ownKeys`方法返回一个数组，包含了参数对象的所有属性。这个数组的属性次序是这样的，首先是数值属性`2`和`10`，其次是字符串属性`b`和`a`，最后是 Symbol 属性。\n",
    "\n",
    "## super 关键字\n",
    "\n",
    "我们知道，`this`关键字总是指向函数所在的当前对象，ES6 又新增了另一个类似的关键字`super`，指向当前对象的原型对象。"
   ]
  },
  {
   "cell_type": "code",
   "execution_count": null,
   "id": "87c4514d",
   "metadata": {
    "attributes": {
     "classes": [
      "javascript"
     ],
     "id": ""
    }
   },
   "outputs": [],
   "source": [
    "const proto = {\n",
    "  foo: 'hello'\n",
    "};\n",
    "\n",
    "const obj = {\n",
    "  foo: 'world',\n",
    "  find() {\n",
    "    return super.foo;\n",
    "  }\n",
    "};\n",
    "\n",
    "Object.setPrototypeOf(obj, proto);\n",
    "obj.find() // \"hello\""
   ]
  },
  {
   "cell_type": "markdown",
   "id": "25b99e48",
   "metadata": {},
   "source": [
    "上面代码中，对象`obj.find()`方法之中，通过`super.foo`引用了原型对象`proto`的`foo`属性。\n",
    "\n",
    "注意，`super`关键字表示原型对象时，只能用在对象的方法之中，用在其他地方都会报错。"
   ]
  },
  {
   "cell_type": "code",
   "execution_count": null,
   "id": "77d02e54",
   "metadata": {
    "attributes": {
     "classes": [
      "javascript"
     ],
     "id": ""
    }
   },
   "outputs": [],
   "source": [
    "// 报错\n",
    "const obj = {\n",
    "  foo: super.foo\n",
    "}\n",
    "\n",
    "// 报错\n",
    "const obj = {\n",
    "  foo: () => super.foo\n",
    "}\n",
    "\n",
    "// 报错\n",
    "const obj = {\n",
    "  foo: function () {\n",
    "    return super.foo\n",
    "  }\n",
    "}"
   ]
  },
  {
   "cell_type": "markdown",
   "id": "a6cf1dbf",
   "metadata": {},
   "source": [
    "上面三种`super`的用法都会报错，因为对于 JavaScript 引擎来说，这里的`super`都没有用在对象的方法之中。第一种写法是`super`用在属性里面，第二种和第三种写法是`super`用在一个函数里面，然后赋值给`foo`属性。目前，只有对象方法的简写法可以让 JavaScript 引擎确认，定义的是对象的方法。\n",
    "\n",
    "JavaScript 引擎内部，`super.foo`等同于`Object.getPrototypeOf(this).foo`（属性）或`Object.getPrototypeOf(this).foo.call(this)`（方法）。"
   ]
  },
  {
   "cell_type": "code",
   "execution_count": null,
   "id": "7b6bc3d9",
   "metadata": {
    "attributes": {
     "classes": [
      "javascript"
     ],
     "id": ""
    }
   },
   "outputs": [],
   "source": [
    "const proto = {\n",
    "  x: 'hello',\n",
    "  foo() {\n",
    "    console.log(this.x);\n",
    "  },\n",
    "};\n",
    "\n",
    "const obj = {\n",
    "  x: 'world',\n",
    "  foo() {\n",
    "    super.foo();\n",
    "  }\n",
    "}\n",
    "\n",
    "Object.setPrototypeOf(obj, proto);\n",
    "\n",
    "obj.foo() // \"world\""
   ]
  },
  {
   "cell_type": "markdown",
   "id": "0fd15ef0",
   "metadata": {},
   "source": [
    "上面代码中，`super.foo`指向原型对象`proto`的`foo`方法，但是绑定的`this`却还是当前对象`obj`，因此输出的就是`world`。\n",
    "\n",
    "## 对象的扩展运算符\n",
    "\n",
    "《数组的扩展》一章中，已经介绍过扩展运算符（`...`）。ES2018 将这个运算符[引入](https://github.com/sebmarkbage/ecmascript-rest-spread)了对象。\n",
    "\n",
    "### 解构赋值\n",
    "\n",
    "对象的解构赋值用于从一个对象取值，相当于将目标对象自身的所有可遍历的（enumerable）、但尚未被读取的属性，分配到指定的对象上面。所有的键和它们的值，都会拷贝到新对象上面。"
   ]
  },
  {
   "cell_type": "code",
   "execution_count": null,
   "id": "80ff9483",
   "metadata": {
    "attributes": {
     "classes": [
      "javascript"
     ],
     "id": ""
    }
   },
   "outputs": [],
   "source": [
    "let { x, y, ...z } = { x: 1, y: 2, a: 3, b: 4 };\n",
    "x // 1\n",
    "y // 2\n",
    "z // { a: 3, b: 4 }"
   ]
  },
  {
   "cell_type": "markdown",
   "id": "42b2d53d",
   "metadata": {},
   "source": [
    "上面代码中，变量`z`是解构赋值所在的对象。它获取等号右边的所有尚未读取的键（`a`和`b`），将它们连同值一起拷贝过来。\n",
    "\n",
    "由于解构赋值要求等号右边是一个对象，所以如果等号右边是`undefined`或`null`，就会报错，因为它们无法转为对象。"
   ]
  },
  {
   "cell_type": "code",
   "execution_count": null,
   "id": "f96c0412",
   "metadata": {
    "attributes": {
     "classes": [
      "javascript"
     ],
     "id": ""
    }
   },
   "outputs": [],
   "source": [
    "let { ...z } = null; // 运行时错误\n",
    "let { ...z } = undefined; // 运行时错误"
   ]
  },
  {
   "cell_type": "markdown",
   "id": "044c5995",
   "metadata": {},
   "source": [
    "解构赋值必须是最后一个参数，否则会报错。"
   ]
  },
  {
   "cell_type": "code",
   "execution_count": null,
   "id": "347b2921",
   "metadata": {
    "attributes": {
     "classes": [
      "javascript"
     ],
     "id": ""
    }
   },
   "outputs": [],
   "source": [
    "let { ...x, y, z } = someObject; // 句法错误\n",
    "let { x, ...y, ...z } = someObject; // 句法错误"
   ]
  },
  {
   "cell_type": "markdown",
   "id": "6caaf822",
   "metadata": {},
   "source": [
    "上面代码中，解构赋值不是最后一个参数，所以会报错。\n",
    "\n",
    "注意，解构赋值的拷贝是浅拷贝，即如果一个键的值是复合类型的值（数组、对象、函数）、那么解构赋值拷贝的是这个值的引用，而不是这个值的副本。"
   ]
  },
  {
   "cell_type": "code",
   "execution_count": null,
   "id": "819a7c56",
   "metadata": {
    "attributes": {
     "classes": [
      "javascript"
     ],
     "id": ""
    }
   },
   "outputs": [],
   "source": [
    "let obj = { a: { b: 1 } };\n",
    "let { ...x } = obj;\n",
    "obj.a.b = 2;\n",
    "x.a.b // 2"
   ]
  },
  {
   "cell_type": "markdown",
   "id": "076a69fa",
   "metadata": {},
   "source": [
    "上面代码中，`x`是解构赋值所在的对象，拷贝了对象`obj`的`a`属性。`a`属性引用了一个对象，修改这个对象的值，会影响到解构赋值对它的引用。\n",
    "\n",
    "另外，扩展运算符的解构赋值，不能复制继承自原型对象的属性。"
   ]
  },
  {
   "cell_type": "code",
   "execution_count": null,
   "id": "0501176b",
   "metadata": {
    "attributes": {
     "classes": [
      "javascript"
     ],
     "id": ""
    }
   },
   "outputs": [],
   "source": [
    "let o1 = { a: 1 };\n",
    "let o2 = { b: 2 };\n",
    "o2.__proto__ = o1;\n",
    "let { ...o3 } = o2;\n",
    "o3 // { b: 2 }\n",
    "o3.a // undefined"
   ]
  },
  {
   "cell_type": "markdown",
   "id": "b31282db",
   "metadata": {},
   "source": [
    "上面代码中，对象`o3`复制了`o2`，但是只复制了`o2`自身的属性，没有复制它的原型对象`o1`的属性。\n",
    "\n",
    "下面是另一个例子。"
   ]
  },
  {
   "cell_type": "code",
   "execution_count": null,
   "id": "748b919a",
   "metadata": {
    "attributes": {
     "classes": [
      "javascript"
     ],
     "id": ""
    }
   },
   "outputs": [],
   "source": [
    "const o = Object.create({ x: 1, y: 2 });\n",
    "o.z = 3;\n",
    "\n",
    "let { x, ...newObj } = o;\n",
    "let { y, z } = newObj;\n",
    "x // 1\n",
    "y // undefined\n",
    "z // 3"
   ]
  },
  {
   "cell_type": "markdown",
   "id": "2e5dd35e",
   "metadata": {},
   "source": [
    "上面代码中，变量`x`是单纯的解构赋值，所以可以读取对象`o`继承的属性；变量`y`和`z`是扩展运算符的解构赋值，只能读取对象`o`自身的属性，所以变量`z`可以赋值成功，变量`y`取不到值。ES6 规定，变量声明语句之中，如果使用解构赋值，扩展运算符后面必须是一个变量名，而不能是一个解构赋值表达式，所以上面代码引入了中间变量`newObj`，如果写成下面这样会报错。"
   ]
  },
  {
   "cell_type": "code",
   "execution_count": null,
   "id": "c36a7ca9",
   "metadata": {
    "attributes": {
     "classes": [
      "javascript"
     ],
     "id": ""
    }
   },
   "outputs": [],
   "source": [
    "let { x, ...{ y, z } } = o;\n",
    "// SyntaxError: ... must be followed by an identifier in declaration contexts"
   ]
  },
  {
   "cell_type": "markdown",
   "id": "26533278",
   "metadata": {},
   "source": [
    "解构赋值的一个用处，是扩展某个函数的参数，引入其他操作。"
   ]
  },
  {
   "cell_type": "code",
   "execution_count": null,
   "id": "b092f057",
   "metadata": {
    "attributes": {
     "classes": [
      "javascript"
     ],
     "id": ""
    }
   },
   "outputs": [],
   "source": [
    "function baseFunction({ a, b }) {\n",
    "  // ...\n",
    "}\n",
    "function wrapperFunction({ x, y, ...restConfig }) {\n",
    "  // 使用 x 和 y 参数进行操作\n",
    "  // 其余参数传给原始函数\n",
    "  return baseFunction(restConfig);\n",
    "}"
   ]
  },
  {
   "cell_type": "markdown",
   "id": "0b8211c5",
   "metadata": {},
   "source": [
    "上面代码中，原始函数`baseFunction`接受`a`和`b`作为参数，函数`wrapperFunction`在`baseFunction`的基础上进行了扩展，能够接受多余的参数，并且保留原始函数的行为。\n",
    "\n",
    "### 扩展运算符\n",
    "\n",
    "对象的扩展运算符（`...`）用于取出参数对象的所有可遍历属性，拷贝到当前对象之中。"
   ]
  },
  {
   "cell_type": "code",
   "execution_count": null,
   "id": "26b6e7e4",
   "metadata": {
    "attributes": {
     "classes": [
      "javascript"
     ],
     "id": ""
    }
   },
   "outputs": [],
   "source": [
    "let z = { a: 3, b: 4 };\n",
    "let n = { ...z };\n",
    "n // { a: 3, b: 4 }"
   ]
  },
  {
   "cell_type": "markdown",
   "id": "3cd53842",
   "metadata": {},
   "source": [
    "由于数组是特殊的对象，所以对象的扩展运算符也可以用于数组。"
   ]
  },
  {
   "cell_type": "code",
   "execution_count": null,
   "id": "2c1d5ddd",
   "metadata": {
    "attributes": {
     "classes": [
      "javascript"
     ],
     "id": ""
    }
   },
   "outputs": [],
   "source": [
    "let foo = { ...['a', 'b', 'c'] };\n",
    "foo\n",
    "// {0: \"a\", 1: \"b\", 2: \"c\"}"
   ]
  },
  {
   "cell_type": "markdown",
   "id": "395eaa3d",
   "metadata": {},
   "source": [
    "如果扩展运算符后面是一个空对象，则没有任何效果。"
   ]
  },
  {
   "cell_type": "code",
   "execution_count": null,
   "id": "d8eb2251",
   "metadata": {
    "attributes": {
     "classes": [
      "javascript"
     ],
     "id": ""
    }
   },
   "outputs": [],
   "source": [
    "{...{}, a: 1}\n",
    "// { a: 1 }"
   ]
  },
  {
   "cell_type": "markdown",
   "id": "e2d1005f",
   "metadata": {},
   "source": [
    "如果扩展运算符后面不是对象，则会自动将其转为对象。"
   ]
  },
  {
   "cell_type": "code",
   "execution_count": null,
   "id": "d7992dd5",
   "metadata": {
    "attributes": {
     "classes": [
      "javascript"
     ],
     "id": ""
    }
   },
   "outputs": [],
   "source": [
    "// 等同于 {...Object(1)}\n",
    "{...1} // {}"
   ]
  },
  {
   "cell_type": "markdown",
   "id": "f070753e",
   "metadata": {},
   "source": [
    "上面代码中，扩展运算符后面是整数`1`，会自动转为数值的包装对象`Number{1}`。由于该对象没有自身属性，所以返回一个空对象。\n",
    "\n",
    "下面的例子都是类似的道理。"
   ]
  },
  {
   "cell_type": "code",
   "execution_count": null,
   "id": "cf4df5aa",
   "metadata": {
    "attributes": {
     "classes": [
      "javascript"
     ],
     "id": ""
    }
   },
   "outputs": [],
   "source": [
    "// 等同于 {...Object(true)}\n",
    "{...true} // {}\n",
    "\n",
    "// 等同于 {...Object(undefined)}\n",
    "{...undefined} // {}\n",
    "\n",
    "// 等同于 {...Object(null)}\n",
    "{...null} // {}"
   ]
  },
  {
   "cell_type": "markdown",
   "id": "3df62dd0",
   "metadata": {},
   "source": [
    "但是，如果扩展运算符后面是字符串，它会自动转成一个类似数组的对象，因此返回的不是空对象。"
   ]
  },
  {
   "cell_type": "code",
   "execution_count": null,
   "id": "edc98e04",
   "metadata": {
    "attributes": {
     "classes": [
      "javascript"
     ],
     "id": ""
    }
   },
   "outputs": [],
   "source": [
    "{...'hello'}\n",
    "// {0: \"h\", 1: \"e\", 2: \"l\", 3: \"l\", 4: \"o\"}"
   ]
  },
  {
   "cell_type": "markdown",
   "id": "92ea50e2",
   "metadata": {},
   "source": [
    "对象的扩展运算符，只会返回参数对象自身的、可枚举的属性，这一点要特别小心，尤其是用于类的实例对象时。"
   ]
  },
  {
   "cell_type": "code",
   "execution_count": null,
   "id": "87d56715",
   "metadata": {
    "attributes": {
     "classes": [
      "javascript"
     ],
     "id": ""
    }
   },
   "outputs": [],
   "source": [
    "class C {\n",
    "  p = 12;\n",
    "  m() {}\n",
    "}\n",
    "\n",
    "let c = new C();\n",
    "let clone = { ...c };\n",
    "\n",
    "clone.p; // ok\n",
    "clone.m(); // 报错"
   ]
  },
  {
   "cell_type": "markdown",
   "id": "083c9023",
   "metadata": {},
   "source": [
    "上面示例中，`c`是`C`类的实例对象，对其进行扩展运算时，只会返回`c`自身的属性`c.p`，而不会返回`c`的方法`c.m()`，因为这个方法定义在`C`的原型对象上（详见 Class 的章节）。\n",
    "\n",
    "对象的扩展运算符等同于使用`Object.assign()`方法。"
   ]
  },
  {
   "cell_type": "code",
   "execution_count": null,
   "id": "03402983",
   "metadata": {
    "attributes": {
     "classes": [
      "javascript"
     ],
     "id": ""
    }
   },
   "outputs": [],
   "source": [
    "let aClone = { ...a };\n",
    "// 等同于\n",
    "let aClone = Object.assign({}, a);"
   ]
  },
  {
   "cell_type": "markdown",
   "id": "286548fc",
   "metadata": {},
   "source": [
    "上面的例子只是拷贝了对象实例的属性，如果想完整克隆一个对象，还拷贝对象原型的属性，可以采用下面的写法。"
   ]
  },
  {
   "cell_type": "code",
   "execution_count": null,
   "id": "ac045338",
   "metadata": {
    "attributes": {
     "classes": [
      "javascript"
     ],
     "id": ""
    }
   },
   "outputs": [],
   "source": [
    "// 写法一\n",
    "const clone1 = {\n",
    "  __proto__: Object.getPrototypeOf(obj),\n",
    "  ...obj\n",
    "};\n",
    "\n",
    "// 写法二\n",
    "const clone2 = Object.assign(\n",
    "  Object.create(Object.getPrototypeOf(obj)),\n",
    "  obj\n",
    ");\n",
    "\n",
    "// 写法三\n",
    "const clone3 = Object.create(\n",
    "  Object.getPrototypeOf(obj),\n",
    "  Object.getOwnPropertyDescriptors(obj)\n",
    ")"
   ]
  },
  {
   "cell_type": "markdown",
   "id": "c7d0db94",
   "metadata": {},
   "source": [
    "上面代码中，写法一的`__proto__`属性在非浏览器的环境不一定部署，因此推荐使用写法二和写法三。\n",
    "\n",
    "扩展运算符可以用于合并两个对象。"
   ]
  },
  {
   "cell_type": "code",
   "execution_count": null,
   "id": "9fb7c1d9",
   "metadata": {
    "attributes": {
     "classes": [
      "javascript"
     ],
     "id": ""
    }
   },
   "outputs": [],
   "source": [
    "let ab = { ...a, ...b };\n",
    "// 等同于\n",
    "let ab = Object.assign({}, a, b);"
   ]
  },
  {
   "cell_type": "markdown",
   "id": "246bc812",
   "metadata": {},
   "source": [
    "如果用户自定义的属性，放在扩展运算符后面，则扩展运算符内部的同名属性会被覆盖掉。"
   ]
  },
  {
   "cell_type": "code",
   "execution_count": null,
   "id": "515cd546",
   "metadata": {
    "attributes": {
     "classes": [
      "javascript"
     ],
     "id": ""
    }
   },
   "outputs": [],
   "source": [
    "let aWithOverrides = { ...a, x: 1, y: 2 };\n",
    "// 等同于\n",
    "let aWithOverrides = { ...a, ...{ x: 1, y: 2 } };\n",
    "// 等同于\n",
    "let x = 1, y = 2, aWithOverrides = { ...a, x, y };\n",
    "// 等同于\n",
    "let aWithOverrides = Object.assign({}, a, { x: 1, y: 2 });"
   ]
  },
  {
   "cell_type": "markdown",
   "id": "f63c341b",
   "metadata": {},
   "source": [
    "上面代码中，`a`对象的`x`属性和`y`属性，拷贝到新对象后会被覆盖掉。\n",
    "\n",
    "这用来修改现有对象部分的属性就很方便了。"
   ]
  },
  {
   "cell_type": "code",
   "execution_count": null,
   "id": "21a23bd2",
   "metadata": {
    "attributes": {
     "classes": [
      "javascript"
     ],
     "id": ""
    }
   },
   "outputs": [],
   "source": [
    "let newVersion = {\n",
    "  ...previousVersion,\n",
    "  name: 'New Name' // Override the name property\n",
    "};"
   ]
  },
  {
   "cell_type": "markdown",
   "id": "d48e0427",
   "metadata": {},
   "source": [
    "上面代码中，`newVersion`对象自定义了`name`属性，其他属性全部复制自`previousVersion`对象。\n",
    "\n",
    "如果把自定义属性放在扩展运算符前面，就变成了设置新对象的默认属性值。"
   ]
  },
  {
   "cell_type": "code",
   "execution_count": null,
   "id": "ff71bbc7",
   "metadata": {
    "attributes": {
     "classes": [
      "javascript"
     ],
     "id": ""
    }
   },
   "outputs": [],
   "source": [
    "let aWithDefaults = { x: 1, y: 2, ...a };\n",
    "// 等同于\n",
    "let aWithDefaults = Object.assign({}, { x: 1, y: 2 }, a);\n",
    "// 等同于\n",
    "let aWithDefaults = Object.assign({ x: 1, y: 2 }, a);"
   ]
  },
  {
   "cell_type": "markdown",
   "id": "8d1b68d5",
   "metadata": {},
   "source": [
    "与数组的扩展运算符一样，对象的扩展运算符后面可以跟表达式。"
   ]
  },
  {
   "cell_type": "code",
   "execution_count": null,
   "id": "c5268e3b",
   "metadata": {
    "attributes": {
     "classes": [
      "javascript"
     ],
     "id": ""
    }
   },
   "outputs": [],
   "source": [
    "const obj = {\n",
    "  ...(x > 1 ? {a: 1} : {}),\n",
    "  b: 2,\n",
    "};"
   ]
  },
  {
   "cell_type": "markdown",
   "id": "657f9c24",
   "metadata": {},
   "source": [
    "扩展运算符的参数对象之中，如果有取值函数`get`，这个函数是会执行的。"
   ]
  },
  {
   "cell_type": "code",
   "execution_count": null,
   "id": "7c5aba9b",
   "metadata": {
    "attributes": {
     "classes": [
      "javascript"
     ],
     "id": ""
    }
   },
   "outputs": [],
   "source": [
    "let a = {\n",
    "  get x() {\n",
    "    throw new Error('not throw yet');\n",
    "  }\n",
    "}\n",
    "\n",
    "let aWithXGetter = { ...a }; // 报错"
   ]
  },
  {
   "cell_type": "markdown",
   "id": "1b636381",
   "metadata": {},
   "source": [
    "上面例子中，取值函数`get`在扩展`a`对象时会自动执行，导致报错。\n",
    "\n",
    "## AggregateError 错误对象\n",
    "\n",
    "ES2021 标准之中，为了配合新增的`Promise.any()`方法（详见《Promise 对象》一章），还引入一个新的错误对象`AggregateError`，也放在这一章介绍。\n",
    "\n",
    "AggregateError 在一个错误对象里面，封装了多个错误。如果某个单一操作，同时引发了多个错误，需要同时抛出这些错误，那么就可以抛出一个 AggregateError 错误对象，把各种错误都放在这个对象里面。\n",
    "\n",
    "AggregateError 本身是一个构造函数，用来生成 AggregateError 实例对象。"
   ]
  },
  {
   "cell_type": "code",
   "execution_count": null,
   "id": "f59b493d",
   "metadata": {
    "attributes": {
     "classes": [
      "javascript"
     ],
     "id": ""
    }
   },
   "outputs": [],
   "source": [
    "AggregateError(errors[, message])"
   ]
  },
  {
   "cell_type": "markdown",
   "id": "82360c9d",
   "metadata": {},
   "source": [
    "`AggregateError()`构造函数可以接受两个参数。\n",
    "\n",
    "- errors：数组，它的每个成员都是一个错误对象。该参数是必须的。\n",
    "- message：字符串，表示 AggregateError 抛出时的提示信息。该参数是可选的。"
   ]
  },
  {
   "cell_type": "code",
   "execution_count": null,
   "id": "f15df77d",
   "metadata": {
    "attributes": {
     "classes": [
      "javascript"
     ],
     "id": ""
    }
   },
   "outputs": [],
   "source": [
    "const error = new AggregateError([\n",
    "  new Error('ERROR_11112'),\n",
    "  new TypeError('First name must be a string'),\n",
    "  new RangeError('Transaction value must be at least 1'),\n",
    "  new URIError('User profile link must be https'),\n",
    "], 'Transaction cannot be processed')"
   ]
  },
  {
   "cell_type": "markdown",
   "id": "80a99ef2",
   "metadata": {},
   "source": [
    "上面示例中，`AggregateError()`的第一个参数数组里面，一共有四个错误实例。第二个参数字符串则是这四个错误的一个整体的提示。\n",
    "\n",
    "`AggregateError`的实例对象有三个属性。\n",
    "\n",
    "- name：错误名称，默认为“AggregateError”。\n",
    "- message：错误的提示信息。\n",
    "- errors：数组，每个成员都是一个错误对象。\n",
    "\n",
    "下面是一个示例。"
   ]
  },
  {
   "cell_type": "code",
   "execution_count": null,
   "id": "6bdf8c04",
   "metadata": {
    "attributes": {
     "classes": [
      "javascript"
     ],
     "id": ""
    }
   },
   "outputs": [],
   "source": [
    "try {\n",
    "  throw new AggregateError([\n",
    "    new Error(\"some error\"),\n",
    "  ], 'Hello');\n",
    "} catch (e) {\n",
    "  console.log(e instanceof AggregateError); // true\n",
    "  console.log(e.message);                   // \"Hello\"\n",
    "  console.log(e.name);                      // \"AggregateError\"\n",
    "  console.log(e.errors);                    // [ Error: \"some error\" ]\n",
    "}"
   ]
  },
  {
   "cell_type": "markdown",
   "id": "43b7ac07",
   "metadata": {},
   "source": [
    "## Error 对象的 cause 属性\n",
    "\n",
    "Error 对象用来表示代码运行时的异常情况，但是从这个对象拿到的上下文信息，有时很难解读，也不够充分。[ES2022](https://github.com/tc39/proposal-error-cause) 为 Error 对象添加了一个`cause`属性，可以在生成错误时，添加报错原因的描述。\n",
    "\n",
    "它的用法是`new Error()`生成 Error 实例时，给出一个描述对象，该对象可以设置`cause`属性。"
   ]
  },
  {
   "cell_type": "code",
   "execution_count": null,
   "id": "d608c45c",
   "metadata": {
    "attributes": {
     "classes": [
      "javascript"
     ],
     "id": ""
    }
   },
   "outputs": [],
   "source": [
    "const actual = new Error('an error!', { cause: 'Error cause' });\n",
    "actual.cause; // 'Error cause'"
   ]
  },
  {
   "cell_type": "markdown",
   "id": "741d4b0f",
   "metadata": {},
   "source": [
    "上面示例中，生成 Error 实例时，使用描述对象给出`cause`属性，写入报错的原因。然后，就可以从实例对象上读取这个属性。\n",
    "\n",
    "`casue`属性可以放置任意内容，不必一定是字符串。"
   ]
  },
  {
   "cell_type": "code",
   "execution_count": null,
   "id": "7d5af809",
   "metadata": {
    "attributes": {
     "classes": [
      "javascript"
     ],
     "id": ""
    }
   },
   "outputs": [],
   "source": [
    "try {\n",
    "  maybeWorks();\n",
    "} catch (err) {\n",
    "  throw new Error('maybeWorks failed!', { cause: err });\n",
    "}"
   ]
  },
  {
   "cell_type": "markdown",
   "id": "dde904ef",
   "metadata": {},
   "source": [
    "上面示例中，`cause`属性放置的就是一个对象。"
   ]
  }
 ],
 "metadata": {
  "kernelspec": {
   "display_name": "JavaScript (Node.js)",
   "language": "javascript",
   "name": "javascript"
  },
  "language_info": {
   "file_extension": ".js",
   "mimetype": "application/javascript",
   "name": "javascript",
   "version": "19.2.0"
  }
 },
 "nbformat": 4,
 "nbformat_minor": 5
}

{
 "cells": [
  {
   "cell_type": "markdown",
   "id": "435a41b4",
   "metadata": {},
   "source": [
    "# 数组的扩展\n",
    "\n",
    "## 扩展运算符\n",
    "\n",
    "### 含义\n",
    "\n",
    "扩展运算符（spread）是三个点（`...`）。它好比 rest 参数的逆运算，将一个数组转为用逗号分隔的参数序列。"
   ]
  },
  {
   "cell_type": "code",
   "execution_count": null,
   "id": "f8b3f038",
   "metadata": {
    "attributes": {
     "classes": [
      "javascript"
     ],
     "id": ""
    }
   },
   "outputs": [],
   "source": [
    "console.log(...[1, 2, 3])\n",
    "// 1 2 3\n",
    "\n",
    "console.log(1, ...[2, 3, 4], 5)\n",
    "// 1 2 3 4 5\n",
    "\n",
    "[...document.querySelectorAll('div')]\n",
    "// [<div>, <div>, <div>]"
   ]
  },
  {
   "cell_type": "markdown",
   "id": "0c290bdf",
   "metadata": {},
   "source": [
    "该运算符主要用于函数调用。"
   ]
  },
  {
   "cell_type": "code",
   "execution_count": null,
   "id": "3a038f95",
   "metadata": {
    "attributes": {
     "classes": [
      "javascript"
     ],
     "id": ""
    }
   },
   "outputs": [],
   "source": [
    "function push(array, ...items) {\n",
    "  array.push(...items);\n",
    "}\n",
    "\n",
    "function add(x, y) {\n",
    "  return x + y;\n",
    "}\n",
    "\n",
    "const numbers = [4, 38];\n",
    "add(...numbers) // 42"
   ]
  },
  {
   "cell_type": "markdown",
   "id": "bad60a7b",
   "metadata": {},
   "source": [
    "上面代码中，`array.push(...items)`和`add(...numbers)`这两行，都是函数的调用，它们都使用了扩展运算符。该运算符将一个数组，变为参数序列。\n",
    "\n",
    "扩展运算符与正常的函数参数可以结合使用，非常灵活。"
   ]
  },
  {
   "cell_type": "code",
   "execution_count": null,
   "id": "ca15e60f",
   "metadata": {
    "attributes": {
     "classes": [
      "javascript"
     ],
     "id": ""
    }
   },
   "outputs": [],
   "source": [
    "function f(v, w, x, y, z) { }\n",
    "const args = [0, 1];\n",
    "f(-1, ...args, 2, ...[3]);"
   ]
  },
  {
   "cell_type": "markdown",
   "id": "6dc285a3",
   "metadata": {},
   "source": [
    "扩展运算符后面还可以放置表达式。"
   ]
  },
  {
   "cell_type": "code",
   "execution_count": null,
   "id": "7824518d",
   "metadata": {
    "attributes": {
     "classes": [
      "javascript"
     ],
     "id": ""
    }
   },
   "outputs": [],
   "source": [
    "const arr = [\n",
    "  ...(x > 0 ? ['a'] : []),\n",
    "  'b',\n",
    "];"
   ]
  },
  {
   "cell_type": "markdown",
   "id": "d1876d71",
   "metadata": {},
   "source": [
    "如果扩展运算符后面是一个空数组，则不产生任何效果。"
   ]
  },
  {
   "cell_type": "code",
   "execution_count": null,
   "id": "69bb8dc9",
   "metadata": {
    "attributes": {
     "classes": [
      "javascript"
     ],
     "id": ""
    }
   },
   "outputs": [],
   "source": [
    "[...[], 1]\n",
    "// [1]"
   ]
  },
  {
   "cell_type": "markdown",
   "id": "826f5be8",
   "metadata": {},
   "source": [
    "注意，只有函数调用时，扩展运算符才可以放在圆括号中，否则会报错。"
   ]
  },
  {
   "cell_type": "code",
   "execution_count": null,
   "id": "bf1c17d7",
   "metadata": {
    "attributes": {
     "classes": [
      "javascript"
     ],
     "id": ""
    }
   },
   "outputs": [],
   "source": [
    "(...[1, 2])\n",
    "// Uncaught SyntaxError: Unexpected number\n",
    "\n",
    "console.log((...[1, 2]))\n",
    "// Uncaught SyntaxError: Unexpected number\n",
    "\n",
    "console.log(...[1, 2])\n",
    "// 1 2"
   ]
  },
  {
   "cell_type": "markdown",
   "id": "12f509b1",
   "metadata": {},
   "source": [
    "上面三种情况，扩展运算符都放在圆括号里面，但是前两种情况会报错，因为扩展运算符所在的括号不是函数调用。\n",
    "\n",
    "### 替代函数的 apply() 方法\n",
    "\n",
    "由于扩展运算符可以展开数组，所以不再需要`apply()`方法将数组转为函数的参数了。"
   ]
  },
  {
   "cell_type": "code",
   "execution_count": null,
   "id": "af692789",
   "metadata": {
    "attributes": {
     "classes": [
      "javascript"
     ],
     "id": ""
    }
   },
   "outputs": [],
   "source": [
    "// ES5 的写法\n",
    "function f(x, y, z) {\n",
    "  // ...\n",
    "}\n",
    "var args = [0, 1, 2];\n",
    "f.apply(null, args);\n",
    "\n",
    "// ES6 的写法\n",
    "function f(x, y, z) {\n",
    "  // ...\n",
    "}\n",
    "let args = [0, 1, 2];\n",
    "f(...args);"
   ]
  },
  {
   "cell_type": "markdown",
   "id": "4de3a6f7",
   "metadata": {},
   "source": [
    "下面是扩展运算符取代`apply()`方法的一个实际的例子，应用`Math.max()`方法，简化求出一个数组最大元素的写法。"
   ]
  },
  {
   "cell_type": "code",
   "execution_count": null,
   "id": "95062230",
   "metadata": {
    "attributes": {
     "classes": [
      "javascript"
     ],
     "id": ""
    }
   },
   "outputs": [],
   "source": [
    "// ES5 的写法\n",
    "Math.max.apply(null, [14, 3, 77])\n",
    "\n",
    "// ES6 的写法\n",
    "Math.max(...[14, 3, 77])\n",
    "\n",
    "// 等同于\n",
    "Math.max(14, 3, 77);"
   ]
  },
  {
   "cell_type": "markdown",
   "id": "f9cc4dca",
   "metadata": {},
   "source": [
    "上面代码中，由于 JavaScript 不提供求数组最大元素的函数，所以只能套用`Math.max()`函数，将数组转为一个参数序列，然后求最大值。有了扩展运算符以后，就可以直接用`Math.max()`了。\n",
    "\n",
    "另一个例子是通过`push()`函数，将一个数组添加到另一个数组的尾部。"
   ]
  },
  {
   "cell_type": "code",
   "execution_count": null,
   "id": "e8aa6d36",
   "metadata": {
    "attributes": {
     "classes": [
      "javascript"
     ],
     "id": ""
    }
   },
   "outputs": [],
   "source": [
    "// ES5 的写法\n",
    "var arr1 = [0, 1, 2];\n",
    "var arr2 = [3, 4, 5];\n",
    "Array.prototype.push.apply(arr1, arr2);\n",
    "\n",
    "// ES6 的写法\n",
    "let arr1 = [0, 1, 2];\n",
    "let arr2 = [3, 4, 5];\n",
    "arr1.push(...arr2);"
   ]
  },
  {
   "cell_type": "markdown",
   "id": "29bede91",
   "metadata": {},
   "source": [
    "上面代码的 ES5 写法中，`push()`方法的参数不能是数组，所以只好通过`apply()`方法变通使用`push()`方法。有了扩展运算符，就可以直接将数组传入`push()`方法。\n",
    "\n",
    "下面是另外一个例子。"
   ]
  },
  {
   "cell_type": "code",
   "execution_count": null,
   "id": "95e661bf",
   "metadata": {
    "attributes": {
     "classes": [
      "javascript"
     ],
     "id": ""
    }
   },
   "outputs": [],
   "source": [
    "// ES5\n",
    "new (Date.bind.apply(Date, [null, 2015, 1, 1]))\n",
    "\n",
    "// ES6\n",
    "new Date(...[2015, 1, 1]);"
   ]
  },
  {
   "cell_type": "markdown",
   "id": "54aa4afd",
   "metadata": {},
   "source": [
    "### 扩展运算符的应用\n",
    "\n",
    "**（1）复制数组**\n",
    "\n",
    "数组是复合的数据类型，直接复制的话，只是复制了指向底层数据结构的指针，而不是克隆一个全新的数组。"
   ]
  },
  {
   "cell_type": "code",
   "execution_count": null,
   "id": "79443458",
   "metadata": {
    "attributes": {
     "classes": [
      "javascript"
     ],
     "id": ""
    }
   },
   "outputs": [],
   "source": [
    "const a1 = [1, 2];\n",
    "const a2 = a1;\n",
    "\n",
    "a2[0] = 2;\n",
    "a1 // [2, 2]"
   ]
  },
  {
   "cell_type": "markdown",
   "id": "468c4e2a",
   "metadata": {},
   "source": [
    "上面代码中，`a2`并不是`a1`的克隆，而是指向同一份数据的另一个指针。修改`a2`，会直接导致`a1`的变化。\n",
    "\n",
    "ES5 只能用变通方法来复制数组。"
   ]
  },
  {
   "cell_type": "code",
   "execution_count": null,
   "id": "3ee45216",
   "metadata": {
    "attributes": {
     "classes": [
      "javascript"
     ],
     "id": ""
    }
   },
   "outputs": [],
   "source": [
    "const a1 = [1, 2];\n",
    "const a2 = a1.concat();\n",
    "\n",
    "a2[0] = 2;\n",
    "a1 // [1, 2]"
   ]
  },
  {
   "cell_type": "markdown",
   "id": "447a340b",
   "metadata": {},
   "source": [
    "上面代码中，`a1`会返回原数组的克隆，再修改`a2`就不会对`a1`产生影响。\n",
    "\n",
    "扩展运算符提供了复制数组的简便写法。"
   ]
  },
  {
   "cell_type": "code",
   "execution_count": null,
   "id": "86f4aa59",
   "metadata": {
    "attributes": {
     "classes": [
      "javascript"
     ],
     "id": ""
    }
   },
   "outputs": [],
   "source": [
    "const a1 = [1, 2];\n",
    "// 写法一\n",
    "const a2 = [...a1];\n",
    "// 写法二\n",
    "const [...a2] = a1;"
   ]
  },
  {
   "cell_type": "markdown",
   "id": "4cd9b7b1",
   "metadata": {},
   "source": [
    "上面的两种写法，`a2`都是`a1`的克隆。\n",
    "\n",
    "**（2）合并数组**\n",
    "\n",
    "扩展运算符提供了数组合并的新写法。"
   ]
  },
  {
   "cell_type": "code",
   "execution_count": null,
   "id": "5f23bfd1",
   "metadata": {
    "attributes": {
     "classes": [
      "javascript"
     ],
     "id": ""
    }
   },
   "outputs": [],
   "source": [
    "const arr1 = ['a', 'b'];\n",
    "const arr2 = ['c'];\n",
    "const arr3 = ['d', 'e'];\n",
    "\n",
    "// ES5 的合并数组\n",
    "arr1.concat(arr2, arr3);\n",
    "// [ 'a', 'b', 'c', 'd', 'e' ]\n",
    "\n",
    "// ES6 的合并数组\n",
    "[...arr1, ...arr2, ...arr3]\n",
    "// [ 'a', 'b', 'c', 'd', 'e' ]"
   ]
  },
  {
   "cell_type": "markdown",
   "id": "95e5abef",
   "metadata": {},
   "source": [
    "不过，这两种方法都是浅拷贝，使用的时候需要注意。"
   ]
  },
  {
   "cell_type": "code",
   "execution_count": null,
   "id": "41f8e8d1",
   "metadata": {
    "attributes": {
     "classes": [
      "javascript"
     ],
     "id": ""
    }
   },
   "outputs": [],
   "source": [
    "const a1 = [{ foo: 1 }];\n",
    "const a2 = [{ bar: 2 }];\n",
    "\n",
    "const a3 = a1.concat(a2);\n",
    "const a4 = [...a1, ...a2];\n",
    "\n",
    "a3[0] === a1[0] // true\n",
    "a4[0] === a1[0] // true"
   ]
  },
  {
   "cell_type": "markdown",
   "id": "cb82c85a",
   "metadata": {},
   "source": [
    "上面代码中，`a3`和`a4`是用两种不同方法合并而成的新数组，但是它们的成员都是对原数组成员的引用，这就是浅拷贝。如果修改了引用指向的值，会同步反映到新数组。\n",
    "\n",
    "**（3）与解构赋值结合**\n",
    "\n",
    "扩展运算符可以与解构赋值结合起来，用于生成数组。"
   ]
  },
  {
   "cell_type": "code",
   "execution_count": null,
   "id": "d344fa72",
   "metadata": {
    "attributes": {
     "classes": [
      "javascript"
     ],
     "id": ""
    }
   },
   "outputs": [],
   "source": [
    "// ES5\n",
    "a = list[0], rest = list.slice(1)\n",
    "\n",
    "// ES6\n",
    "[a, ...rest] = list"
   ]
  },
  {
   "cell_type": "markdown",
   "id": "c44530e5",
   "metadata": {},
   "source": [
    "下面是另外一些例子。"
   ]
  },
  {
   "cell_type": "code",
   "execution_count": null,
   "id": "65177a80",
   "metadata": {
    "attributes": {
     "classes": [
      "javascript"
     ],
     "id": ""
    }
   },
   "outputs": [],
   "source": [
    "const [first, ...rest] = [1, 2, 3, 4, 5];\n",
    "first // 1\n",
    "rest  // [2, 3, 4, 5]\n",
    "\n",
    "const [first, ...rest] = [];\n",
    "first // undefined\n",
    "rest  // []\n",
    "\n",
    "const [first, ...rest] = [\"foo\"];\n",
    "first  // \"foo\"\n",
    "rest   // []"
   ]
  },
  {
   "cell_type": "markdown",
   "id": "815be765",
   "metadata": {},
   "source": [
    "如果将扩展运算符用于数组赋值，只能放在参数的最后一位，否则会报错。"
   ]
  },
  {
   "cell_type": "code",
   "execution_count": null,
   "id": "f407c323",
   "metadata": {
    "attributes": {
     "classes": [
      "javascript"
     ],
     "id": ""
    }
   },
   "outputs": [],
   "source": [
    "const [...butLast, last] = [1, 2, 3, 4, 5];\n",
    "// 报错\n",
    "\n",
    "const [first, ...middle, last] = [1, 2, 3, 4, 5];\n",
    "// 报错"
   ]
  },
  {
   "cell_type": "markdown",
   "id": "e16adc72",
   "metadata": {},
   "source": [
    "**（4）字符串**\n",
    "\n",
    "扩展运算符还可以将字符串转为真正的数组。"
   ]
  },
  {
   "cell_type": "code",
   "execution_count": null,
   "id": "909a1801",
   "metadata": {
    "attributes": {
     "classes": [
      "javascript"
     ],
     "id": ""
    }
   },
   "outputs": [],
   "source": [
    "[...'hello']\n",
    "// [ \"h\", \"e\", \"l\", \"l\", \"o\" ]"
   ]
  },
  {
   "cell_type": "markdown",
   "id": "7c1c8754",
   "metadata": {},
   "source": [
    "上面的写法，有一个重要的好处，那就是能够正确识别四个字节的 Unicode 字符。"
   ]
  },
  {
   "cell_type": "code",
   "execution_count": null,
   "id": "c66f3ba8",
   "metadata": {
    "attributes": {
     "classes": [
      "javascript"
     ],
     "id": ""
    }
   },
   "outputs": [],
   "source": [
    "'x\\uD83D\\uDE80y'.length // 4\n",
    "[...'x\\uD83D\\uDE80y'].length // 3"
   ]
  },
  {
   "cell_type": "markdown",
   "id": "1ec9bbcf",
   "metadata": {},
   "source": [
    "上面代码的第一种写法，JavaScript 会将四个字节的 Unicode 字符，识别为 2 个字符，采用扩展运算符就没有这个问题。因此，正确返回字符串长度的函数，可以像下面这样写。"
   ]
  },
  {
   "cell_type": "code",
   "execution_count": null,
   "id": "ecff8542",
   "metadata": {
    "attributes": {
     "classes": [
      "javascript"
     ],
     "id": ""
    }
   },
   "outputs": [],
   "source": [
    "function length(str) {\n",
    "  return [...str].length;\n",
    "}\n",
    "\n",
    "length('x\\uD83D\\uDE80y') // 3"
   ]
  },
  {
   "cell_type": "markdown",
   "id": "c9f5e273",
   "metadata": {},
   "source": [
    "凡是涉及到操作四个字节的 Unicode 字符的函数，都有这个问题。因此，最好都用扩展运算符改写。"
   ]
  },
  {
   "cell_type": "code",
   "execution_count": null,
   "id": "d7018f6e",
   "metadata": {
    "attributes": {
     "classes": [
      "javascript"
     ],
     "id": ""
    }
   },
   "outputs": [],
   "source": [
    "let str = 'x\\uD83D\\uDE80y';\n",
    "\n",
    "str.split('').reverse().join('')\n",
    "// 'y\\uDE80\\uD83Dx'\n",
    "\n",
    "[...str].reverse().join('')\n",
    "// 'y\\uD83D\\uDE80x'"
   ]
  },
  {
   "cell_type": "markdown",
   "id": "dac4e5fa",
   "metadata": {},
   "source": [
    "上面代码中，如果不用扩展运算符，字符串的`reverse()`操作就不正确。\n",
    "\n",
    "**（5）实现了 Iterator 接口的对象**\n",
    "\n",
    "任何定义了遍历器（Iterator）接口的对象（参阅 Iterator 一章），都可以用扩展运算符转为真正的数组。"
   ]
  },
  {
   "cell_type": "code",
   "execution_count": null,
   "id": "598132ef",
   "metadata": {
    "attributes": {
     "classes": [
      "javascript"
     ],
     "id": ""
    }
   },
   "outputs": [],
   "source": [
    "let nodeList = document.querySelectorAll('div');\n",
    "let array = [...nodeList];"
   ]
  },
  {
   "cell_type": "markdown",
   "id": "8a91c79b",
   "metadata": {},
   "source": [
    "上面代码中，`querySelectorAll()`方法返回的是一个`NodeList`对象。它不是数组，而是一个类似数组的对象。这时，扩展运算符可以将其转为真正的数组，原因就在于`NodeList`对象实现了 Iterator。"
   ]
  },
  {
   "cell_type": "code",
   "execution_count": null,
   "id": "f0fad3d6",
   "metadata": {
    "attributes": {
     "classes": [
      "javascript"
     ],
     "id": ""
    }
   },
   "outputs": [],
   "source": [
    "Number.prototype[Symbol.iterator] = function*() {\n",
    "  let i = 0;\n",
    "  let num = this.valueOf();\n",
    "  while (i < num) {\n",
    "    yield i++;\n",
    "  }\n",
    "}\n",
    "\n",
    "console.log([...5]) // [0, 1, 2, 3, 4]"
   ]
  },
  {
   "cell_type": "markdown",
   "id": "544f2a3a",
   "metadata": {},
   "source": [
    "上面代码中，先定义了`Number`对象的遍历器接口，扩展运算符将`5`自动转成`Number`实例以后，就会调用这个接口，就会返回自定义的结果。\n",
    "\n",
    "对于那些没有部署 Iterator 接口的类似数组的对象，扩展运算符就无法将其转为真正的数组。"
   ]
  },
  {
   "cell_type": "code",
   "execution_count": null,
   "id": "08be9515",
   "metadata": {
    "attributes": {
     "classes": [
      "javascript"
     ],
     "id": ""
    }
   },
   "outputs": [],
   "source": [
    "let arrayLike = {\n",
    "  '0': 'a',\n",
    "  '1': 'b',\n",
    "  '2': 'c',\n",
    "  length: 3\n",
    "};\n",
    "\n",
    "// TypeError: Cannot spread non-iterable object.\n",
    "let arr = [...arrayLike];"
   ]
  },
  {
   "cell_type": "markdown",
   "id": "0a447f6a",
   "metadata": {},
   "source": [
    "上面代码中，`arrayLike`是一个类似数组的对象，但是没有部署 Iterator 接口，扩展运算符就会报错。这时，可以改为使用`Array.from`方法将`arrayLike`转为真正的数组。\n",
    "\n",
    "**（6）Map 和 Set 结构，Generator 函数**\n",
    "\n",
    "扩展运算符内部调用的是数据结构的 Iterator 接口，因此只要具有 Iterator 接口的对象，都可以使用扩展运算符，比如 Map 结构。"
   ]
  },
  {
   "cell_type": "code",
   "execution_count": null,
   "id": "ec81b856",
   "metadata": {
    "attributes": {
     "classes": [
      "javascript"
     ],
     "id": ""
    }
   },
   "outputs": [],
   "source": [
    "let map = new Map([\n",
    "  [1, 'one'],\n",
    "  [2, 'two'],\n",
    "  [3, 'three'],\n",
    "]);\n",
    "\n",
    "let arr = [...map.keys()]; // [1, 2, 3]"
   ]
  },
  {
   "cell_type": "markdown",
   "id": "ccfbcf7e",
   "metadata": {},
   "source": [
    "Generator 函数运行后，返回一个遍历器对象，因此也可以使用扩展运算符。"
   ]
  },
  {
   "cell_type": "code",
   "execution_count": null,
   "id": "94d19892",
   "metadata": {
    "attributes": {
     "classes": [
      "javascript"
     ],
     "id": ""
    }
   },
   "outputs": [],
   "source": [
    "const go = function*(){\n",
    "  yield 1;\n",
    "  yield 2;\n",
    "  yield 3;\n",
    "};\n",
    "\n",
    "[...go()] // [1, 2, 3]"
   ]
  },
  {
   "cell_type": "markdown",
   "id": "1c54fc1a",
   "metadata": {},
   "source": [
    "上面代码中，变量`go`是一个 Generator 函数，执行后返回的是一个遍历器对象，对这个遍历器对象执行扩展运算符，就会将内部遍历得到的值，转为一个数组。\n",
    "\n",
    "如果对没有 Iterator 接口的对象，使用扩展运算符，将会报错。"
   ]
  },
  {
   "cell_type": "code",
   "execution_count": null,
   "id": "57f1b0b3",
   "metadata": {
    "attributes": {
     "classes": [
      "javascript"
     ],
     "id": ""
    }
   },
   "outputs": [],
   "source": [
    "const obj = {a: 1, b: 2};\n",
    "let arr = [...obj]; // TypeError: Cannot spread non-iterable object"
   ]
  },
  {
   "cell_type": "markdown",
   "id": "e35da677",
   "metadata": {},
   "source": [
    "## Array.from()\n",
    "\n",
    "`Array.from()`方法用于将两类对象转为真正的数组：类似数组的对象（array-like object）和可遍历（iterable）的对象（包括 ES6 新增的数据结构 Set 和 Map）。\n",
    "\n",
    "下面是一个类似数组的对象，`Array.from()`将它转为真正的数组。"
   ]
  },
  {
   "cell_type": "code",
   "execution_count": null,
   "id": "97f5a1b4",
   "metadata": {
    "attributes": {
     "classes": [
      "javascript"
     ],
     "id": ""
    }
   },
   "outputs": [],
   "source": [
    "let arrayLike = {\n",
    "    '0': 'a',\n",
    "    '1': 'b',\n",
    "    '2': 'c',\n",
    "    length: 3\n",
    "};\n",
    "\n",
    "// ES5 的写法\n",
    "var arr1 = [].slice.call(arrayLike); // ['a', 'b', 'c']\n",
    "\n",
    "// ES6 的写法\n",
    "let arr2 = Array.from(arrayLike); // ['a', 'b', 'c']"
   ]
  },
  {
   "cell_type": "markdown",
   "id": "46d71e47",
   "metadata": {},
   "source": [
    "实际应用中，常见的类似数组的对象是 DOM 操作返回的 NodeList 集合，以及函数内部的`arguments`对象。`Array.from()`都可以将它们转为真正的数组。"
   ]
  },
  {
   "cell_type": "code",
   "execution_count": null,
   "id": "14e9d3e6",
   "metadata": {
    "attributes": {
     "classes": [
      "javascript"
     ],
     "id": ""
    }
   },
   "outputs": [],
   "source": [
    "// NodeList 对象\n",
    "let ps = document.querySelectorAll('p');\n",
    "Array.from(ps).filter(p => {\n",
    "  return p.textContent.length > 100;\n",
    "});\n",
    "\n",
    "// arguments 对象\n",
    "function foo() {\n",
    "  var args = Array.from(arguments);\n",
    "  // ...\n",
    "}"
   ]
  },
  {
   "cell_type": "markdown",
   "id": "80440991",
   "metadata": {},
   "source": [
    "上面代码中，`querySelectorAll()`方法返回的是一个类似数组的对象，可以将这个对象转为真正的数组，再使用`filter()`方法。\n",
    "\n",
    "只要是部署了 Iterator 接口的数据结构，`Array.from()`都能将其转为数组。"
   ]
  },
  {
   "cell_type": "code",
   "execution_count": null,
   "id": "8e596f4a",
   "metadata": {
    "attributes": {
     "classes": [
      "javascript"
     ],
     "id": ""
    }
   },
   "outputs": [],
   "source": [
    "Array.from('hello')\n",
    "// ['h', 'e', 'l', 'l', 'o']\n",
    "\n",
    "let namesSet = new Set(['a', 'b'])\n",
    "Array.from(namesSet) // ['a', 'b']"
   ]
  },
  {
   "cell_type": "markdown",
   "id": "8003b3b4",
   "metadata": {},
   "source": [
    "上面代码中，字符串和 Set 结构都具有 Iterator 接口，因此可以被`Array.from()`转为真正的数组。\n",
    "\n",
    "如果参数是一个真正的数组，`Array.from()`会返回一个一模一样的新数组。"
   ]
  },
  {
   "cell_type": "code",
   "execution_count": null,
   "id": "8f06a0b5",
   "metadata": {
    "attributes": {
     "classes": [
      "javascript"
     ],
     "id": ""
    }
   },
   "outputs": [],
   "source": [
    "Array.from([1, 2, 3])\n",
    "// [1, 2, 3]"
   ]
  },
  {
   "cell_type": "markdown",
   "id": "05441a65",
   "metadata": {},
   "source": [
    "值得提醒的是，扩展运算符（`...`）也可以将某些数据结构转为数组。"
   ]
  },
  {
   "cell_type": "code",
   "execution_count": null,
   "id": "6255dfc0",
   "metadata": {
    "attributes": {
     "classes": [
      "javascript"
     ],
     "id": ""
    }
   },
   "outputs": [],
   "source": [
    "// arguments对象\n",
    "function foo() {\n",
    "  const args = [...arguments];\n",
    "}\n",
    "\n",
    "// NodeList对象\n",
    "[...document.querySelectorAll('div')]"
   ]
  },
  {
   "cell_type": "markdown",
   "id": "a2cbba0f",
   "metadata": {},
   "source": [
    "扩展运算符背后调用的是遍历器接口（`Symbol.iterator`），如果一个对象没有部署这个接口，就无法转换。`Array.from()`方法还支持类似数组的对象。所谓类似数组的对象，本质特征只有一点，即必须有`length`属性。因此，任何有`length`属性的对象，都可以通过`Array.from()`方法转为数组，而此时扩展运算符就无法转换。"
   ]
  },
  {
   "cell_type": "code",
   "execution_count": null,
   "id": "81866965",
   "metadata": {
    "attributes": {
     "classes": [
      "javascript"
     ],
     "id": ""
    }
   },
   "outputs": [],
   "source": [
    "Array.from({ length: 3 });\n",
    "// [ undefined, undefined, undefined ]"
   ]
  },
  {
   "cell_type": "markdown",
   "id": "8bb5ab3d",
   "metadata": {},
   "source": [
    "上面代码中，`Array.from()`返回了一个具有三个成员的数组，每个位置的值都是`undefined`。扩展运算符转换不了这个对象。\n",
    "\n",
    "对于还没有部署该方法的浏览器，可以用`Array.prototype.slice()`方法替代。"
   ]
  },
  {
   "cell_type": "code",
   "execution_count": null,
   "id": "b5705123",
   "metadata": {
    "attributes": {
     "classes": [
      "javascript"
     ],
     "id": ""
    }
   },
   "outputs": [],
   "source": [
    "const toArray = (() =>\n",
    "  Array.from ? Array.from : obj => [].slice.call(obj)\n",
    ")();"
   ]
  },
  {
   "cell_type": "markdown",
   "id": "f56f11e7",
   "metadata": {},
   "source": [
    "`Array.from()`还可以接受一个函数作为第二个参数，作用类似于数组的`map()`方法，用来对每个元素进行处理，将处理后的值放入返回的数组。"
   ]
  },
  {
   "cell_type": "code",
   "execution_count": null,
   "id": "ce9ee2a0",
   "metadata": {
    "attributes": {
     "classes": [
      "javascript"
     ],
     "id": ""
    }
   },
   "outputs": [],
   "source": [
    "Array.from(arrayLike, x => x * x);\n",
    "// 等同于\n",
    "Array.from(arrayLike).map(x => x * x);\n",
    "\n",
    "Array.from([1, 2, 3], (x) => x * x)\n",
    "// [1, 4, 9]"
   ]
  },
  {
   "cell_type": "markdown",
   "id": "f3d5a8c6",
   "metadata": {},
   "source": [
    "下面的例子是取出一组 DOM 节点的文本内容。"
   ]
  },
  {
   "cell_type": "code",
   "execution_count": null,
   "id": "41853fcd",
   "metadata": {
    "attributes": {
     "classes": [
      "javascript"
     ],
     "id": ""
    }
   },
   "outputs": [],
   "source": [
    "let spans = document.querySelectorAll('span.name');\n",
    "\n",
    "// map()\n",
    "let names1 = Array.prototype.map.call(spans, s => s.textContent);\n",
    "\n",
    "// Array.from()\n",
    "let names2 = Array.from(spans, s => s.textContent)"
   ]
  },
  {
   "cell_type": "markdown",
   "id": "7c670e85",
   "metadata": {},
   "source": [
    "下面的例子将数组中布尔值为`false`的成员转为`0`。"
   ]
  },
  {
   "cell_type": "code",
   "execution_count": null,
   "id": "28e52a69",
   "metadata": {
    "attributes": {
     "classes": [
      "javascript"
     ],
     "id": ""
    }
   },
   "outputs": [],
   "source": [
    "Array.from([1, , 2, , 3], (n) => n || 0)\n",
    "// [1, 0, 2, 0, 3]"
   ]
  },
  {
   "cell_type": "markdown",
   "id": "7cd97d81",
   "metadata": {},
   "source": [
    "另一个例子是返回各种数据的类型。"
   ]
  },
  {
   "cell_type": "code",
   "execution_count": null,
   "id": "9777dfc9",
   "metadata": {
    "attributes": {
     "classes": [
      "javascript"
     ],
     "id": ""
    }
   },
   "outputs": [],
   "source": [
    "function typesOf () {\n",
    "  return Array.from(arguments, value => typeof value)\n",
    "}\n",
    "typesOf(null, [], NaN)\n",
    "// ['object', 'object', 'number']"
   ]
  },
  {
   "cell_type": "markdown",
   "id": "9338208b",
   "metadata": {},
   "source": [
    "如果`map()`函数里面用到了`this`关键字，还可以传入`Array.from()`的第三个参数，用来绑定`this`。\n",
    "\n",
    "`Array.from()`可以将各种值转为真正的数组，并且还提供`map`功能。这实际上意味着，只要有一个原始的数据结构，你就可以先对它的值进行处理，然后转成规范的数组结构，进而就可以使用数量众多的数组方法。"
   ]
  },
  {
   "cell_type": "code",
   "execution_count": null,
   "id": "ade5b8e2",
   "metadata": {
    "attributes": {
     "classes": [
      "javascript"
     ],
     "id": ""
    }
   },
   "outputs": [],
   "source": [
    "Array.from({ length: 2 }, () => 'jack')\n",
    "// ['jack', 'jack']"
   ]
  },
  {
   "cell_type": "markdown",
   "id": "7ac9629a",
   "metadata": {},
   "source": [
    "上面代码中，`Array.from()`的第一个参数指定了第二个参数运行的次数。这种特性可以让该方法的用法变得非常灵活。\n",
    "\n",
    "`Array.from()`的另一个应用是，将字符串转为数组，然后返回字符串的长度。因为它能正确处理各种 Unicode 字符，可以避免 JavaScript 将大于`\\uFFFF`的 Unicode 字符，算作两个字符的 bug。"
   ]
  },
  {
   "cell_type": "code",
   "execution_count": null,
   "id": "5dcf0db4",
   "metadata": {
    "attributes": {
     "classes": [
      "javascript"
     ],
     "id": ""
    }
   },
   "outputs": [],
   "source": [
    "function countSymbols(string) {\n",
    "  return Array.from(string).length;\n",
    "}"
   ]
  },
  {
   "cell_type": "markdown",
   "id": "2db01081",
   "metadata": {},
   "source": [
    "## Array.of()\n",
    "\n",
    "`Array.of()`方法用于将一组值，转换为数组。"
   ]
  },
  {
   "cell_type": "code",
   "execution_count": null,
   "id": "445b1ab2",
   "metadata": {
    "attributes": {
     "classes": [
      "javascript"
     ],
     "id": ""
    }
   },
   "outputs": [],
   "source": [
    "Array.of(3, 11, 8) // [3,11,8]\n",
    "Array.of(3) // [3]\n",
    "Array.of(3).length // 1"
   ]
  },
  {
   "cell_type": "markdown",
   "id": "034407e9",
   "metadata": {},
   "source": [
    "这个方法的主要目的，是弥补数组构造函数`Array()`的不足。因为参数个数的不同，会导致`Array()`的行为有差异。"
   ]
  },
  {
   "cell_type": "code",
   "execution_count": null,
   "id": "8e367e13",
   "metadata": {
    "attributes": {
     "classes": [
      "javascript"
     ],
     "id": ""
    }
   },
   "outputs": [],
   "source": [
    "Array() // []\n",
    "Array(3) // [, , ,]\n",
    "Array(3, 11, 8) // [3, 11, 8]"
   ]
  },
  {
   "cell_type": "markdown",
   "id": "bcfb1e71",
   "metadata": {},
   "source": [
    "上面代码中，`Array()`方法没有参数、一个参数、三个参数时，返回的结果都不一样。只有当参数个数不少于 2 个时，`Array()`才会返回由参数组成的新数组。参数只有一个正整数时，实际上是指定数组的长度。\n",
    "\n",
    "`Array.of()`基本上可以用来替代`Array()`或`new Array()`，并且不存在由于参数不同而导致的重载。它的行为非常统一。"
   ]
  },
  {
   "cell_type": "code",
   "execution_count": null,
   "id": "e23c4f2c",
   "metadata": {
    "attributes": {
     "classes": [
      "javascript"
     ],
     "id": ""
    }
   },
   "outputs": [],
   "source": [
    "Array.of() // []\n",
    "Array.of(undefined) // [undefined]\n",
    "Array.of(1) // [1]\n",
    "Array.of(1, 2) // [1, 2]"
   ]
  },
  {
   "cell_type": "markdown",
   "id": "25d0f907",
   "metadata": {},
   "source": [
    "`Array.of()`总是返回参数值组成的数组。如果没有参数，就返回一个空数组。\n",
    "\n",
    "`Array.of()`方法可以用下面的代码模拟实现。"
   ]
  },
  {
   "cell_type": "code",
   "execution_count": null,
   "id": "109db8d2",
   "metadata": {
    "attributes": {
     "classes": [
      "javascript"
     ],
     "id": ""
    }
   },
   "outputs": [],
   "source": [
    "function ArrayOf(){\n",
    "  return [].slice.call(arguments);\n",
    "}"
   ]
  },
  {
   "cell_type": "markdown",
   "id": "74ae2700",
   "metadata": {},
   "source": [
    "## 实例方法：copyWithin()\n",
    "\n",
    "数组实例的`copyWithin()`方法，在当前数组内部，将指定位置的成员复制到其他位置（会覆盖原有成员），然后返回当前数组。也就是说，使用这个方法，会修改当前数组。"
   ]
  },
  {
   "cell_type": "code",
   "execution_count": null,
   "id": "770f47af",
   "metadata": {
    "attributes": {
     "classes": [
      "javascript"
     ],
     "id": ""
    }
   },
   "outputs": [],
   "source": [
    "Array.prototype.copyWithin(target, start = 0, end = this.length)"
   ]
  },
  {
   "cell_type": "markdown",
   "id": "60f47c79",
   "metadata": {},
   "source": [
    "它接受三个参数。\n",
    "\n",
    "- target（必需）：从该位置开始替换数据。如果为负值，表示倒数。\n",
    "- start（可选）：从该位置开始读取数据，默认为 0。如果为负值，表示从末尾开始计算。\n",
    "- end（可选）：到该位置前停止读取数据，默认等于数组长度。如果为负值，表示从末尾开始计算。\n",
    "\n",
    "这三个参数都应该是数值，如果不是，会自动转为数值。"
   ]
  },
  {
   "cell_type": "code",
   "execution_count": null,
   "id": "8155a1b2",
   "metadata": {
    "attributes": {
     "classes": [
      "javascript"
     ],
     "id": ""
    }
   },
   "outputs": [],
   "source": [
    "[1, 2, 3, 4, 5].copyWithin(0, 3)\n",
    "// [4, 5, 3, 4, 5]"
   ]
  },
  {
   "cell_type": "markdown",
   "id": "3819702e",
   "metadata": {},
   "source": [
    "上面代码表示将从 3 号位直到数组结束的成员（4 和 5），复制到从 0 号位开始的位置，结果覆盖了原来的 1 和 2。\n",
    "\n",
    "下面是更多例子。"
   ]
  },
  {
   "cell_type": "code",
   "execution_count": null,
   "id": "7fa1132a",
   "metadata": {
    "attributes": {
     "classes": [
      "javascript"
     ],
     "id": ""
    }
   },
   "outputs": [],
   "source": [
    "// 将3号位复制到0号位\n",
    "[1, 2, 3, 4, 5].copyWithin(0, 3, 4)\n",
    "// [4, 2, 3, 4, 5]\n",
    "\n",
    "// -2相当于3号位，-1相当于4号位\n",
    "[1, 2, 3, 4, 5].copyWithin(0, -2, -1)\n",
    "// [4, 2, 3, 4, 5]\n",
    "\n",
    "// 将3号位复制到0号位\n",
    "[].copyWithin.call({length: 5, 3: 1}, 0, 3)\n",
    "// {0: 1, 3: 1, length: 5}\n",
    "\n",
    "// 将2号位到数组结束，复制到0号位\n",
    "let i32a = new Int32Array([1, 2, 3, 4, 5]);\n",
    "i32a.copyWithin(0, 2);\n",
    "// Int32Array [3, 4, 5, 4, 5]\n",
    "\n",
    "// 对于没有部署 TypedArray 的 copyWithin 方法的平台\n",
    "// 需要采用下面的写法\n",
    "[].copyWithin.call(new Int32Array([1, 2, 3, 4, 5]), 0, 3, 4);\n",
    "// Int32Array [4, 2, 3, 4, 5]"
   ]
  },
  {
   "cell_type": "markdown",
   "id": "5e88796c",
   "metadata": {},
   "source": [
    "## 实例方法：find()，findIndex()，findLast()，findLastIndex()\n",
    "\n",
    "数组实例的`find()`方法，用于找出第一个符合条件的数组成员。它的参数是一个回调函数，所有数组成员依次执行该回调函数，直到找出第一个返回值为`true`的成员，然后返回该成员。如果没有符合条件的成员，则返回`undefined`。"
   ]
  },
  {
   "cell_type": "code",
   "execution_count": null,
   "id": "8adcf27b",
   "metadata": {
    "attributes": {
     "classes": [
      "javascript"
     ],
     "id": ""
    }
   },
   "outputs": [],
   "source": [
    "[1, 4, -5, 10].find((n) => n < 0)\n",
    "// -5"
   ]
  },
  {
   "cell_type": "markdown",
   "id": "1164b6fa",
   "metadata": {},
   "source": [
    "上面代码找出数组中第一个小于 0 的成员。"
   ]
  },
  {
   "cell_type": "code",
   "execution_count": null,
   "id": "e4973958",
   "metadata": {
    "attributes": {
     "classes": [
      "javascript"
     ],
     "id": ""
    }
   },
   "outputs": [],
   "source": [
    "[1, 5, 10, 15].find(function(value, index, arr) {\n",
    "  return value > 9;\n",
    "}) // 10"
   ]
  },
  {
   "cell_type": "markdown",
   "id": "15af1da9",
   "metadata": {},
   "source": [
    "上面代码中，`find()`方法的回调函数可以接受三个参数，依次为当前的值、当前的位置和原数组。\n",
    "\n",
    "数组实例的`findIndex()`方法的用法与`find()`方法非常类似，返回第一个符合条件的数组成员的位置，如果所有成员都不符合条件，则返回`-1`。"
   ]
  },
  {
   "cell_type": "code",
   "execution_count": null,
   "id": "05ef2768",
   "metadata": {
    "attributes": {
     "classes": [
      "javascript"
     ],
     "id": ""
    }
   },
   "outputs": [],
   "source": [
    "[1, 5, 10, 15].findIndex(function(value, index, arr) {\n",
    "  return value > 9;\n",
    "}) // 2"
   ]
  },
  {
   "cell_type": "markdown",
   "id": "6cd78966",
   "metadata": {},
   "source": [
    "这两个方法都可以接受第二个参数，用来绑定回调函数的`this`对象。"
   ]
  },
  {
   "cell_type": "code",
   "execution_count": null,
   "id": "a8390911",
   "metadata": {
    "attributes": {
     "classes": [
      "javascript"
     ],
     "id": ""
    }
   },
   "outputs": [],
   "source": [
    "function f(v){\n",
    "  return v > this.age;\n",
    "}\n",
    "let person = {name: 'John', age: 20};\n",
    "[10, 12, 26, 15].find(f, person);    // 26"
   ]
  },
  {
   "cell_type": "markdown",
   "id": "7ebe9288",
   "metadata": {},
   "source": [
    "上面的代码中，`find()`函数接收了第二个参数`person`对象，回调函数中的`this`对象指向`person`对象。\n",
    "\n",
    "另外，这两个方法都可以发现`NaN`，弥补了数组的`indexOf()`方法的不足。"
   ]
  },
  {
   "cell_type": "code",
   "execution_count": null,
   "id": "dd1432fc",
   "metadata": {
    "attributes": {
     "classes": [
      "javascript"
     ],
     "id": ""
    }
   },
   "outputs": [],
   "source": [
    "[NaN].indexOf(NaN)\n",
    "// -1\n",
    "\n",
    "[NaN].findIndex(y => Object.is(NaN, y))\n",
    "// 0"
   ]
  },
  {
   "cell_type": "markdown",
   "id": "4333eedd",
   "metadata": {},
   "source": [
    "上面代码中，`indexOf()`方法无法识别数组的`NaN`成员，但是`findIndex()`方法可以借助`Object.is()`方法做到。\n",
    "\n",
    "`find()`和`findIndex()`都是从数组的0号位，依次向后检查。[ES2022](https://github.com/tc39/proposal-array-find-from-last) 新增了两个方法`findLast()`和`findLastIndex()`，从数组的最后一个成员开始，依次向前检查，其他都保持不变。"
   ]
  },
  {
   "cell_type": "code",
   "execution_count": null,
   "id": "96dba31f",
   "metadata": {
    "attributes": {
     "classes": [
      "javascript"
     ],
     "id": ""
    }
   },
   "outputs": [],
   "source": [
    "const array = [\n",
    "  { value: 1 },\n",
    "  { value: 2 },\n",
    "  { value: 3 },\n",
    "  { value: 4 }\n",
    "];\n",
    "\n",
    "array.findLast(n => n.value % 2 === 1); // { value: 3 }\n",
    "array.findLastIndex(n => n.value % 2 === 1); // 2"
   ]
  },
  {
   "cell_type": "markdown",
   "id": "a8723db9",
   "metadata": {},
   "source": [
    "上面示例中，`findLast()`和`findLastIndex()`从数组结尾开始，寻找第一个`value`属性为奇数的成员。结果，该成员是`{ value: 3 }`，位置是2号位。\n",
    "\n",
    "## 实例方法：fill()\n",
    "\n",
    "`fill`方法使用给定值，填充一个数组。"
   ]
  },
  {
   "cell_type": "code",
   "execution_count": null,
   "id": "902d7aae",
   "metadata": {
    "attributes": {
     "classes": [
      "javascript"
     ],
     "id": ""
    }
   },
   "outputs": [],
   "source": [
    "['a', 'b', 'c'].fill(7)\n",
    "// [7, 7, 7]\n",
    "\n",
    "new Array(3).fill(7)\n",
    "// [7, 7, 7]"
   ]
  },
  {
   "cell_type": "markdown",
   "id": "1296e9bf",
   "metadata": {},
   "source": [
    "上面代码表明，`fill`方法用于空数组的初始化非常方便。数组中已有的元素，会被全部抹去。\n",
    "\n",
    "`fill`方法还可以接受第二个和第三个参数，用于指定填充的起始位置和结束位置。"
   ]
  },
  {
   "cell_type": "code",
   "execution_count": null,
   "id": "d47bad63",
   "metadata": {
    "attributes": {
     "classes": [
      "javascript"
     ],
     "id": ""
    }
   },
   "outputs": [],
   "source": [
    "['a', 'b', 'c'].fill(7, 1, 2)\n",
    "// ['a', 7, 'c']"
   ]
  },
  {
   "cell_type": "markdown",
   "id": "1748276e",
   "metadata": {},
   "source": [
    "上面代码表示，`fill`方法从 1 号位开始，向原数组填充 7，到 2 号位之前结束。\n",
    "\n",
    "注意，如果填充的类型为对象，那么被赋值的是同一个内存地址的对象，而不是深拷贝对象。"
   ]
  },
  {
   "cell_type": "code",
   "execution_count": null,
   "id": "19c6648e",
   "metadata": {
    "attributes": {
     "classes": [
      "javascript"
     ],
     "id": ""
    }
   },
   "outputs": [],
   "source": [
    "let arr = new Array(3).fill({name: \"Mike\"});\n",
    "arr[0].name = \"Ben\";\n",
    "arr\n",
    "// [{name: \"Ben\"}, {name: \"Ben\"}, {name: \"Ben\"}]\n",
    "\n",
    "let arr = new Array(3).fill([]);\n",
    "arr[0].push(5);\n",
    "arr\n",
    "// [[5], [5], [5]]"
   ]
  },
  {
   "cell_type": "markdown",
   "id": "03800e34",
   "metadata": {},
   "source": [
    "## 实例方法：entries()，keys() 和 values()\n",
    "\n",
    "ES6 提供三个新的方法——`entries()`，`keys()`和`values()`——用于遍历数组。它们都返回一个遍历器对象（详见《Iterator》一章），可以用`for...of`循环进行遍历，唯一的区别是`keys()`是对键名的遍历、`values()`是对键值的遍历，`entries()`是对键值对的遍历。"
   ]
  },
  {
   "cell_type": "code",
   "execution_count": null,
   "id": "6142ec43",
   "metadata": {
    "attributes": {
     "classes": [
      "javascript"
     ],
     "id": ""
    }
   },
   "outputs": [],
   "source": [
    "for (let index of ['a', 'b'].keys()) {\n",
    "  console.log(index);\n",
    "}\n",
    "// 0\n",
    "// 1\n",
    "\n",
    "for (let elem of ['a', 'b'].values()) {\n",
    "  console.log(elem);\n",
    "}\n",
    "// 'a'\n",
    "// 'b'\n",
    "\n",
    "for (let [index, elem] of ['a', 'b'].entries()) {\n",
    "  console.log(index, elem);\n",
    "}\n",
    "// 0 \"a\"\n",
    "// 1 \"b\""
   ]
  },
  {
   "cell_type": "markdown",
   "id": "74ede92f",
   "metadata": {},
   "source": [
    "如果不使用`for...of`循环，可以手动调用遍历器对象的`next`方法，进行遍历。"
   ]
  },
  {
   "cell_type": "code",
   "execution_count": null,
   "id": "f26a873f",
   "metadata": {
    "attributes": {
     "classes": [
      "javascript"
     ],
     "id": ""
    }
   },
   "outputs": [],
   "source": [
    "let letter = ['a', 'b', 'c'];\n",
    "let entries = letter.entries();\n",
    "console.log(entries.next().value); // [0, 'a']\n",
    "console.log(entries.next().value); // [1, 'b']\n",
    "console.log(entries.next().value); // [2, 'c']"
   ]
  },
  {
   "cell_type": "markdown",
   "id": "c67f0a13",
   "metadata": {},
   "source": [
    "## 实例方法：includes()\n",
    "\n",
    "`Array.prototype.includes`方法返回一个布尔值，表示某个数组是否包含给定的值，与字符串的`includes`方法类似。ES2016 引入了该方法。"
   ]
  },
  {
   "cell_type": "code",
   "execution_count": null,
   "id": "50235754",
   "metadata": {
    "attributes": {
     "classes": [
      "javascript"
     ],
     "id": ""
    }
   },
   "outputs": [],
   "source": [
    "[1, 2, 3].includes(2)     // true\n",
    "[1, 2, 3].includes(4)     // false\n",
    "[1, 2, NaN].includes(NaN) // true"
   ]
  },
  {
   "cell_type": "markdown",
   "id": "9987d962",
   "metadata": {},
   "source": [
    "该方法的第二个参数表示搜索的起始位置，默认为`0`。如果第二个参数为负数，则表示倒数的位置，如果这时它大于数组长度（比如第二个参数为`-4`，但数组长度为`3`），则会重置为从`0`开始。"
   ]
  },
  {
   "cell_type": "code",
   "execution_count": null,
   "id": "52c3a50d",
   "metadata": {
    "attributes": {
     "classes": [
      "javascript"
     ],
     "id": ""
    }
   },
   "outputs": [],
   "source": [
    "[1, 2, 3].includes(3, 3);  // false\n",
    "[1, 2, 3].includes(3, -1); // true"
   ]
  },
  {
   "cell_type": "markdown",
   "id": "0a51f6d7",
   "metadata": {},
   "source": [
    "没有该方法之前，我们通常使用数组的`indexOf`方法，检查是否包含某个值。"
   ]
  },
  {
   "cell_type": "code",
   "execution_count": null,
   "id": "6530f879",
   "metadata": {
    "attributes": {
     "classes": [
      "javascript"
     ],
     "id": ""
    }
   },
   "outputs": [],
   "source": [
    "if (arr.indexOf(el) !== -1) {\n",
    "  // ...\n",
    "}"
   ]
  },
  {
   "cell_type": "markdown",
   "id": "200ec194",
   "metadata": {},
   "source": [
    "`indexOf`方法有两个缺点，一是不够语义化，它的含义是找到参数值的第一个出现位置，所以要去比较是否不等于`-1`，表达起来不够直观。二是，它内部使用严格相等运算符（`===`）进行判断，这会导致对`NaN`的误判。"
   ]
  },
  {
   "cell_type": "code",
   "execution_count": null,
   "id": "55650a4b",
   "metadata": {
    "attributes": {
     "classes": [
      "javascript"
     ],
     "id": ""
    }
   },
   "outputs": [],
   "source": [
    "[NaN].indexOf(NaN)\n",
    "// -1"
   ]
  },
  {
   "cell_type": "markdown",
   "id": "0fcf202f",
   "metadata": {},
   "source": [
    "`includes`使用的是不一样的判断算法，就没有这个问题。"
   ]
  },
  {
   "cell_type": "code",
   "execution_count": null,
   "id": "4b0a62d6",
   "metadata": {
    "attributes": {
     "classes": [
      "javascript"
     ],
     "id": ""
    }
   },
   "outputs": [],
   "source": [
    "[NaN].includes(NaN)\n",
    "// true"
   ]
  },
  {
   "cell_type": "markdown",
   "id": "02041fb8",
   "metadata": {},
   "source": [
    "下面代码用来检查当前环境是否支持该方法，如果不支持，部署一个简易的替代版本。"
   ]
  },
  {
   "cell_type": "code",
   "execution_count": null,
   "id": "2ec19b41",
   "metadata": {
    "attributes": {
     "classes": [
      "javascript"
     ],
     "id": ""
    }
   },
   "outputs": [],
   "source": [
    "const contains = (() =>\n",
    "  Array.prototype.includes\n",
    "    ? (arr, value) => arr.includes(value)\n",
    "    : (arr, value) => arr.some(el => el === value)\n",
    ")();\n",
    "contains(['foo', 'bar'], 'baz'); // => false"
   ]
  },
  {
   "cell_type": "markdown",
   "id": "59835242",
   "metadata": {},
   "source": [
    "另外，Map 和 Set 数据结构有一个`has`方法，需要注意与`includes`区分。\n",
    "\n",
    "- Map 结构的`has`方法，是用来查找键名的，比如`Map.prototype.has(key)`、`WeakMap.prototype.has(key)`、`Reflect.has(target, propertyKey)`。\n",
    "- Set 结构的`has`方法，是用来查找值的，比如`Set.prototype.has(value)`、`WeakSet.prototype.has(value)`。\n",
    "\n",
    "## 实例方法：flat()，flatMap()\n",
    "\n",
    "数组的成员有时还是数组，`Array.prototype.flat()`用于将嵌套的数组“拉平”，变成一维的数组。该方法返回一个新数组，对原数据没有影响。"
   ]
  },
  {
   "cell_type": "code",
   "execution_count": null,
   "id": "c2874ab5",
   "metadata": {
    "attributes": {
     "classes": [
      "javascript"
     ],
     "id": ""
    }
   },
   "outputs": [],
   "source": [
    "[1, 2, [3, 4]].flat()\n",
    "// [1, 2, 3, 4]"
   ]
  },
  {
   "cell_type": "markdown",
   "id": "f8f4f78f",
   "metadata": {},
   "source": [
    "上面代码中，原数组的成员里面有一个数组，`flat()`方法将子数组的成员取出来，添加在原来的位置。\n",
    "\n",
    "`flat()`默认只会“拉平”一层，如果想要“拉平”多层的嵌套数组，可以将`flat()`方法的参数写成一个整数，表示想要拉平的层数，默认为1。"
   ]
  },
  {
   "cell_type": "code",
   "execution_count": null,
   "id": "97e531e9",
   "metadata": {
    "attributes": {
     "classes": [
      "javascript"
     ],
     "id": ""
    }
   },
   "outputs": [],
   "source": [
    "[1, 2, [3, [4, 5]]].flat()\n",
    "// [1, 2, 3, [4, 5]]\n",
    "\n",
    "[1, 2, [3, [4, 5]]].flat(2)\n",
    "// [1, 2, 3, 4, 5]"
   ]
  },
  {
   "cell_type": "markdown",
   "id": "dad6415f",
   "metadata": {},
   "source": [
    "上面代码中，`flat()`的参数为2，表示要“拉平”两层的嵌套数组。\n",
    "\n",
    "如果不管有多少层嵌套，都要转成一维数组，可以用`Infinity`关键字作为参数。"
   ]
  },
  {
   "cell_type": "code",
   "execution_count": null,
   "id": "4fdc4bb6",
   "metadata": {
    "attributes": {
     "classes": [
      "javascript"
     ],
     "id": ""
    }
   },
   "outputs": [],
   "source": [
    "[1, [2, [3]]].flat(Infinity)\n",
    "// [1, 2, 3]"
   ]
  },
  {
   "cell_type": "markdown",
   "id": "1a5f14d3",
   "metadata": {},
   "source": [
    "如果原数组有空位，`flat()`方法会跳过空位。"
   ]
  },
  {
   "cell_type": "code",
   "execution_count": null,
   "id": "94d450c8",
   "metadata": {
    "attributes": {
     "classes": [
      "javascript"
     ],
     "id": ""
    }
   },
   "outputs": [],
   "source": [
    "[1, 2, , 4, 5].flat()\n",
    "// [1, 2, 4, 5]"
   ]
  },
  {
   "cell_type": "markdown",
   "id": "af4b2684",
   "metadata": {},
   "source": [
    "`flatMap()`方法对原数组的每个成员执行一个函数（相当于执行`Array.prototype.map()`），然后对返回值组成的数组执行`flat()`方法。该方法返回一个新数组，不改变原数组。"
   ]
  },
  {
   "cell_type": "code",
   "execution_count": null,
   "id": "50e693b4",
   "metadata": {
    "attributes": {
     "classes": [
      "javascript"
     ],
     "id": ""
    }
   },
   "outputs": [],
   "source": [
    "// 相当于 [[2, 4], [3, 6], [4, 8]].flat()\n",
    "[2, 3, 4].flatMap((x) => [x, x * 2])\n",
    "// [2, 4, 3, 6, 4, 8]"
   ]
  },
  {
   "cell_type": "markdown",
   "id": "6604682b",
   "metadata": {},
   "source": [
    "`flatMap()`只能展开一层数组。"
   ]
  },
  {
   "cell_type": "code",
   "execution_count": null,
   "id": "fdaf9c52",
   "metadata": {
    "attributes": {
     "classes": [
      "javascript"
     ],
     "id": ""
    }
   },
   "outputs": [],
   "source": [
    "// 相当于 [[[2]], [[4]], [[6]], [[8]]].flat()\n",
    "[1, 2, 3, 4].flatMap(x => [[x * 2]])\n",
    "// [[2], [4], [6], [8]]"
   ]
  },
  {
   "cell_type": "markdown",
   "id": "4eb857f3",
   "metadata": {},
   "source": [
    "上面代码中，遍历函数返回的是一个双层的数组，但是默认只能展开一层，因此`flatMap()`返回的还是一个嵌套数组。\n",
    "\n",
    "`flatMap()`方法的参数是一个遍历函数，该函数可以接受三个参数，分别是当前数组成员、当前数组成员的位置（从零开始）、原数组。"
   ]
  },
  {
   "cell_type": "code",
   "execution_count": null,
   "id": "285f8bfb",
   "metadata": {
    "attributes": {
     "classes": [
      "javascript"
     ],
     "id": ""
    }
   },
   "outputs": [],
   "source": [
    "arr.flatMap(function callback(currentValue[, index[, array]]) {\n",
    "  // ...\n",
    "}[, thisArg])"
   ]
  },
  {
   "cell_type": "markdown",
   "id": "321edc1f",
   "metadata": {},
   "source": [
    "`flatMap()`方法还可以有第二个参数，用来绑定遍历函数里面的`this`。\n",
    "\n",
    "## 实例方法：at()\n",
    "\n",
    "长久以来，JavaScript 不支持数组的负索引，如果要引用数组的最后一个成员，不能写成`arr[-1]`，只能使用`arr[arr.length - 1]`。\n",
    "\n",
    "这是因为方括号运算符`[]`在 JavaScript 语言里面，不仅用于数组，还用于对象。对于对象来说，方括号里面就是键名，比如`obj[1]`引用的是键名为字符串`1`的键，同理`obj[-1]`引用的是键名为字符串`-1`的键。由于 JavaScript 的数组是特殊的对象，所以方括号里面的负数无法再有其他语义了，也就是说，不可能添加新语法来支持负索引。\n",
    "\n",
    "为了解决这个问题，[ES2022](https://github.com/tc39/proposal-relative-indexing-method/) 为数组实例增加了`at()`方法，接受一个整数作为参数，返回对应位置的成员，并支持负索引。这个方法不仅可用于数组，也可用于字符串和类型数组（TypedArray）。"
   ]
  },
  {
   "cell_type": "code",
   "execution_count": null,
   "id": "7a06020c",
   "metadata": {
    "attributes": {
     "classes": [
      "javascript"
     ],
     "id": ""
    }
   },
   "outputs": [],
   "source": [
    "const arr = [5, 12, 8, 130, 44];\n",
    "arr.at(2) // 8\n",
    "arr.at(-2) // 130"
   ]
  },
  {
   "cell_type": "markdown",
   "id": "6a070cdd",
   "metadata": {},
   "source": [
    "如果参数位置超出了数组范围，`at()`返回`undefined`。"
   ]
  },
  {
   "cell_type": "code",
   "execution_count": null,
   "id": "94208cc7",
   "metadata": {
    "attributes": {
     "classes": [
      "javascript"
     ],
     "id": ""
    }
   },
   "outputs": [],
   "source": [
    "const sentence = 'This is a sample sentence';\n",
    "\n",
    "sentence.at(0); // 'T'\n",
    "sentence.at(-1); // 'e'\n",
    "\n",
    "sentence.at(-100) // undefined\n",
    "sentence.at(100) // undefined"
   ]
  },
  {
   "cell_type": "markdown",
   "id": "40c5877f",
   "metadata": {},
   "source": [
    "## 实例方法：toReversed()，toSorted()，toSpliced()，with()\n",
    "\n",
    "很多数组的传统方法会改变原数组，比如`push()`、`pop()`、`shift()`、`unshift()`等等。数组只要调用了这些方法，它的值就变了。现在有一个[提案](https://github.com/tc39/proposal-change-array-by-copy)，允许对数组进行操作时，不改变原数组，而返回一个原数组的拷贝。\n",
    "\n",
    "这样的方法一共有四个。\n",
    "\n",
    "- `Array.prototype.toReversed() -> Array`\n",
    "- `Array.prototype.toSorted(compareFn) -> Array`\n",
    "- `Array.prototype.toSpliced(start, deleteCount, ...items) -> Array`\n",
    "- `Array.prototype.with(index, value) -> Array`\n",
    "\n",
    "它们分别对应数组的原有方法。\n",
    "\n",
    "- `toReversed()`对应`reverse()`，用来颠倒数组成员的位置。\n",
    "- `toSorted()`对应`sort()`，用来对数组成员排序。\n",
    "- `toSpliced()`对应`splice()`，用来在指定位置，删除指定数量的成员，并插入新成员。\n",
    "- `with(index, value)`对应`splice(index, 1, value)`，用来将指定位置的成员替换为新的值。\n",
    "\n",
    "上面是这四个新方法对应的原有方法，含义和用法完全一样，唯一不同的是不会改变原数组，而是返回原数组操作后的拷贝。\n",
    "\n",
    "下面是示例。"
   ]
  },
  {
   "cell_type": "code",
   "execution_count": null,
   "id": "5f64bbb8",
   "metadata": {
    "attributes": {
     "classes": [
      "javascript"
     ],
     "id": ""
    }
   },
   "outputs": [],
   "source": [
    "const sequence = [1, 2, 3];\n",
    "sequence.toReversed() // [3, 2, 1]\n",
    "sequence // [1, 2, 3]\n",
    "\n",
    "const outOfOrder = [3, 1, 2];\n",
    "outOfOrder.toSorted() // [1, 2, 3]\n",
    "outOfOrder // [3, 1, 2]\n",
    "\n",
    "const array = [1, 2, 3, 4];\n",
    "array.toSpliced(1, 2, 5, 6, 7) // [1, 5, 6, 7, 4]\n",
    "array // [1, 2, 3, 4]\n",
    "\n",
    "const correctionNeeded = [1, 1, 3];\n",
    "correctionNeeded.with(1, 2) // [1, 2, 3]\n",
    "correctionNeeded // [1, 1, 3]"
   ]
  },
  {
   "cell_type": "markdown",
   "id": "d18764f6",
   "metadata": {},
   "source": [
    "## 实例方法：group()，groupToMap()\n",
    "\n",
    "数组成员分组是一个常见需求，比如 SQL 有`GROUP BY`子句和函数式编程有 MapReduce 方法。现在有一个[提案](https://github.com/tc39/proposal-array-grouping)，为 JavaScript 新增了数组实例方法`group()`和`groupToMap()`，它们可以根据分组函数的运行结果，将数组成员分组。\n",
    "\n",
    "`group()`的参数是一个分组函数，原数组的每个成员都会依次执行这个函数，确定自己是哪一个组。"
   ]
  },
  {
   "cell_type": "code",
   "execution_count": null,
   "id": "0b06e226",
   "metadata": {
    "attributes": {
     "classes": [
      "javascript"
     ],
     "id": ""
    }
   },
   "outputs": [],
   "source": [
    "const array = [1, 2, 3, 4, 5];\n",
    "\n",
    "array.group((num, index, array) => {\n",
    "  return num % 2 === 0 ? 'even': 'odd';\n",
    "});\n",
    "// { odd: [1, 3, 5], even: [2, 4] }"
   ]
  },
  {
   "cell_type": "markdown",
   "id": "7faf7599",
   "metadata": {},
   "source": [
    "`group()`的分组函数可以接受三个参数，依次是数组的当前成员、该成员的位置序号、原数组（上例是`num`、`index`和`array`）。分组函数的返回值应该是字符串（或者可以自动转为字符串），以作为分组后的组名。\n",
    "\n",
    "`group()`的返回值是一个对象，该对象的键名就是每一组的组名，即分组函数返回的每一个字符串（上例是`even`和`odd`）；该对象的键值是一个数组，包括所有产生当前键名的原数组成员。\n",
    "\n",
    "下面是另一个例子。"
   ]
  },
  {
   "cell_type": "code",
   "execution_count": null,
   "id": "f4a2f8fc",
   "metadata": {
    "attributes": {
     "classes": [
      "javascript"
     ],
     "id": ""
    }
   },
   "outputs": [],
   "source": [
    "[6.1, 4.2, 6.3].groupBy(Math.floor)\n",
    "// { '4': [4.2], '6': [6.1, 6.3] }"
   ]
  },
  {
   "cell_type": "markdown",
   "id": "f5694999",
   "metadata": {},
   "source": [
    "上面示例中，`Math.floor`作为分组函数，对原数组进行分组。它的返回值原本是数值，这时会自动转为字符串，作为分组的组名。原数组的成员根据分组函数的运行结果，进入对应的组。\n",
    "\n",
    "`group()`还可以接受一个对象，作为第二个参数。该对象会绑定分组函数（第一个参数）里面的`this`，不过如果分组函数是一个箭头函数，该对象无效，因为箭头函数内部的`this`是固化的。\n",
    "\n",
    "`groupToMap()`的作用和用法与`group()`完全一致，唯一的区别是返回值是一个 Map 结构，而不是对象。Map 结构的键名可以是各种值，所以不管分组函数返回什么值，都会直接作为组名（Map 结构的键名），不会强制转为字符串。这对于分组函数返回值是对象的情况，尤其有用。"
   ]
  },
  {
   "cell_type": "code",
   "execution_count": null,
   "id": "62c6d940",
   "metadata": {
    "attributes": {
     "classes": [
      "javascript"
     ],
     "id": ""
    }
   },
   "outputs": [],
   "source": [
    "const array = [1, 2, 3, 4, 5];\n",
    "\n",
    "const odd  = { odd: true };\n",
    "const even = { even: true };\n",
    "array.groupToMap((num, index, array) => {\n",
    "  return num % 2 === 0 ? even: odd;\n",
    "});\n",
    "//  Map { {odd: true}: [1, 3, 5], {even: true}: [2, 4] }"
   ]
  },
  {
   "cell_type": "markdown",
   "id": "67e968e0",
   "metadata": {},
   "source": [
    "上面示例返回的是一个 Map 结构，它的键名就是分组函数返回的两个对象`odd`和`even`。\n",
    "\n",
    "总之，按照字符串分组就使用`group()`，按照对象分组就使用`groupToMap()`。\n",
    "\n",
    "## 数组的空位\n",
    "\n",
    "数组的空位指的是，数组的某一个位置没有任何值，比如`Array()`构造函数返回的数组都是空位。"
   ]
  },
  {
   "cell_type": "code",
   "execution_count": null,
   "id": "94a02746",
   "metadata": {
    "attributes": {
     "classes": [
      "javascript"
     ],
     "id": ""
    }
   },
   "outputs": [],
   "source": [
    "Array(3) // [, , ,]"
   ]
  },
  {
   "cell_type": "markdown",
   "id": "71e1098a",
   "metadata": {},
   "source": [
    "上面代码中，`Array(3)`返回一个具有 3 个空位的数组。\n",
    "\n",
    "注意，空位不是`undefined`，某一个位置的值等于`undefined`，依然是有值的。空位是没有任何值，`in`运算符可以说明这一点。"
   ]
  },
  {
   "cell_type": "code",
   "execution_count": null,
   "id": "7a802d3b",
   "metadata": {
    "attributes": {
     "classes": [
      "javascript"
     ],
     "id": ""
    }
   },
   "outputs": [],
   "source": [
    "0 in [undefined, undefined, undefined] // true\n",
    "0 in [, , ,] // false"
   ]
  },
  {
   "cell_type": "markdown",
   "id": "8fdfcd49",
   "metadata": {},
   "source": [
    "上面代码说明，第一个数组的 0 号位置是有值的，第二个数组的 0 号位置没有值。\n",
    "\n",
    "ES5 对空位的处理，已经很不一致了，大多数情况下会忽略空位。\n",
    "\n",
    "- `forEach()`, `filter()`, `reduce()`, `every()` 和`some()`都会跳过空位。\n",
    "- `map()`会跳过空位，但会保留这个值\n",
    "- `join()`和`toString()`会将空位视为`undefined`，而`undefined`和`null`会被处理成空字符串。"
   ]
  },
  {
   "cell_type": "code",
   "execution_count": null,
   "id": "3f8b739c",
   "metadata": {
    "attributes": {
     "classes": [
      "javascript"
     ],
     "id": ""
    }
   },
   "outputs": [],
   "source": [
    "// forEach方法\n",
    "[,'a'].forEach((x,i) => console.log(i)); // 1\n",
    "\n",
    "// filter方法\n",
    "['a',,'b'].filter(x => true) // ['a','b']\n",
    "\n",
    "// every方法\n",
    "[,'a'].every(x => x==='a') // true\n",
    "\n",
    "// reduce方法\n",
    "[1,,2].reduce((x,y) => x+y) // 3\n",
    "\n",
    "// some方法\n",
    "[,'a'].some(x => x !== 'a') // false\n",
    "\n",
    "// map方法\n",
    "[,'a'].map(x => 1) // [,1]\n",
    "\n",
    "// join方法\n",
    "[,'a',undefined,null].join('#') // \"#a##\"\n",
    "\n",
    "// toString方法\n",
    "[,'a',undefined,null].toString() // \",a,,\""
   ]
  },
  {
   "cell_type": "markdown",
   "id": "b7bff7f7",
   "metadata": {},
   "source": [
    "ES6 则是明确将空位转为`undefined`。\n",
    "\n",
    "`Array.from()`方法会将数组的空位，转为`undefined`，也就是说，这个方法不会忽略空位。"
   ]
  },
  {
   "cell_type": "code",
   "execution_count": null,
   "id": "cb37042e",
   "metadata": {
    "attributes": {
     "classes": [
      "javascript"
     ],
     "id": ""
    }
   },
   "outputs": [],
   "source": [
    "Array.from(['a',,'b'])\n",
    "// [ \"a\", undefined, \"b\" ]"
   ]
  },
  {
   "cell_type": "markdown",
   "id": "84e2c204",
   "metadata": {},
   "source": [
    "扩展运算符（`...`）也会将空位转为`undefined`。"
   ]
  },
  {
   "cell_type": "code",
   "execution_count": null,
   "id": "35c67023",
   "metadata": {
    "attributes": {
     "classes": [
      "javascript"
     ],
     "id": ""
    }
   },
   "outputs": [],
   "source": [
    "[...['a',,'b']]\n",
    "// [ \"a\", undefined, \"b\" ]"
   ]
  },
  {
   "cell_type": "markdown",
   "id": "b057e8c6",
   "metadata": {},
   "source": [
    "`copyWithin()`会连空位一起拷贝。"
   ]
  },
  {
   "cell_type": "code",
   "execution_count": null,
   "id": "94e0c5a3",
   "metadata": {
    "attributes": {
     "classes": [
      "javascript"
     ],
     "id": ""
    }
   },
   "outputs": [],
   "source": [
    "[,'a','b',,].copyWithin(2,0) // [,\"a\",,\"a\"]"
   ]
  },
  {
   "cell_type": "markdown",
   "id": "339be3b8",
   "metadata": {},
   "source": [
    "`fill()`会将空位视为正常的数组位置。"
   ]
  },
  {
   "cell_type": "code",
   "execution_count": null,
   "id": "f6939cb5",
   "metadata": {
    "attributes": {
     "classes": [
      "javascript"
     ],
     "id": ""
    }
   },
   "outputs": [],
   "source": [
    "new Array(3).fill('a') // [\"a\",\"a\",\"a\"]"
   ]
  },
  {
   "cell_type": "markdown",
   "id": "d0dfd6dc",
   "metadata": {},
   "source": [
    "`for...of`循环也会遍历空位。"
   ]
  },
  {
   "cell_type": "code",
   "execution_count": null,
   "id": "e6a064a6",
   "metadata": {
    "attributes": {
     "classes": [
      "javascript"
     ],
     "id": ""
    }
   },
   "outputs": [],
   "source": [
    "let arr = [, ,];\n",
    "for (let i of arr) {\n",
    "  console.log(1);\n",
    "}\n",
    "// 1\n",
    "// 1"
   ]
  },
  {
   "cell_type": "markdown",
   "id": "69b101dd",
   "metadata": {},
   "source": [
    "上面代码中，数组`arr`有两个空位，`for...of`并没有忽略它们。如果改成`map()`方法遍历，空位是会跳过的。\n",
    "\n",
    "`entries()`、`keys()`、`values()`、`find()`和`findIndex()`会将空位处理成`undefined`。"
   ]
  },
  {
   "cell_type": "code",
   "execution_count": null,
   "id": "108b22a9",
   "metadata": {
    "attributes": {
     "classes": [
      "javascript"
     ],
     "id": ""
    }
   },
   "outputs": [],
   "source": [
    "// entries()\n",
    "[...[,'a'].entries()] // [[0,undefined], [1,\"a\"]]\n",
    "\n",
    "// keys()\n",
    "[...[,'a'].keys()] // [0,1]\n",
    "\n",
    "// values()\n",
    "[...[,'a'].values()] // [undefined,\"a\"]\n",
    "\n",
    "// find()\n",
    "[,'a'].find(x => true) // undefined\n",
    "\n",
    "// findIndex()\n",
    "[,'a'].findIndex(x => true) // 0"
   ]
  },
  {
   "cell_type": "markdown",
   "id": "102b7842",
   "metadata": {},
   "source": [
    "由于空位的处理规则非常不统一，所以建议避免出现空位。\n",
    "\n",
    "## Array.prototype.sort() 的排序稳定性\n",
    "\n",
    "排序稳定性（stable sorting）是排序算法的重要属性，指的是排序关键字相同的项目，排序前后的顺序不变。"
   ]
  },
  {
   "cell_type": "code",
   "execution_count": null,
   "id": "44bc2c79",
   "metadata": {
    "attributes": {
     "classes": [
      "javascript"
     ],
     "id": ""
    }
   },
   "outputs": [],
   "source": [
    "const arr = [\n",
    "  'peach',\n",
    "  'straw',\n",
    "  'apple',\n",
    "  'spork'\n",
    "];\n",
    "\n",
    "const stableSorting = (s1, s2) => {\n",
    "  if (s1[0] < s2[0]) return -1;\n",
    "  return 1;\n",
    "};\n",
    "\n",
    "arr.sort(stableSorting)\n",
    "// [\"apple\", \"peach\", \"straw\", \"spork\"]"
   ]
  },
  {
   "cell_type": "markdown",
   "id": "af6130f6",
   "metadata": {},
   "source": [
    "上面代码对数组`arr`按照首字母进行排序。排序结果中，`straw`在`spork`的前面，跟原始顺序一致，所以排序算法`stableSorting`是稳定排序。"
   ]
  },
  {
   "cell_type": "code",
   "execution_count": null,
   "id": "7bea5e83",
   "metadata": {
    "attributes": {
     "classes": [
      "javascript"
     ],
     "id": ""
    }
   },
   "outputs": [],
   "source": [
    "const unstableSorting = (s1, s2) => {\n",
    "  if (s1[0] <= s2[0]) return -1;\n",
    "  return 1;\n",
    "};\n",
    "\n",
    "arr.sort(unstableSorting)\n",
    "// [\"apple\", \"peach\", \"spork\", \"straw\"]"
   ]
  },
  {
   "cell_type": "markdown",
   "id": "c4c51465",
   "metadata": {},
   "source": [
    "上面代码中，排序结果是`spork`在`straw`前面，跟原始顺序相反，所以排序算法`unstableSorting`是不稳定的。\n",
    "\n",
    "常见的排序算法之中，插入排序、合并排序、冒泡排序等都是稳定的，堆排序、快速排序等是不稳定的。不稳定排序的主要缺点是，多重排序时可能会产生问题。假设有一个姓和名的列表，要求按照“姓氏为主要关键字，名字为次要关键字”进行排序。开发者可能会先按名字排序，再按姓氏进行排序。如果排序算法是稳定的，这样就可以达到“先姓氏，后名字”的排序效果。如果是不稳定的，就不行。\n",
    "\n",
    "早先的 ECMAScript 没有规定，`Array.prototype.sort()`的默认排序算法是否稳定，留给浏览器自己决定，这导致某些实现是不稳定的。[ES2019](https://github.com/tc39/ecma262/pull/1340) 明确规定，`Array.prototype.sort()`的默认排序算法必须稳定。这个规定已经做到了，现在 JavaScript 各个主要实现的默认排序算法都是稳定的。"
   ]
  }
 ],
 "metadata": {
  "kernelspec": {
   "display_name": "JavaScript (Node.js)",
   "language": "javascript",
   "name": "javascript"
  },
  "language_info": {
   "name": "javascript"
  }
 },
 "nbformat": 4,
 "nbformat_minor": 5
}

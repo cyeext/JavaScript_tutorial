{
 "cells": [
  {
   "cell_type": "markdown",
   "id": "d708969e",
   "metadata": {},
   "source": [
    "# Module 的语法\n",
    "\n",
    "## 概述\n",
    "\n",
    "历史上，JavaScript 一直没有模块（module）体系，无法将一个大程序拆分成互相依赖的小文件，再用简单的方法拼装起来。其他语言都有这项功能，比如 Ruby 的`require`、Python 的`import`，甚至就连 CSS 都有`@import`，但是 JavaScript 任何这方面的支持都没有，这对开发大型的、复杂的项目形成了巨大障碍。\n",
    "\n",
    "在 ES6 之前，社区制定了一些模块加载方案，最主要的有 CommonJS 和 AMD 两种。前者用于服务器，后者用于浏览器。ES6 在语言标准的层面上，实现了模块功能，而且实现得相当简单，完全可以取代 CommonJS 和 AMD 规范，成为浏览器和服务器通用的模块解决方案。\n",
    "\n",
    "ES6 模块的设计思想是尽量的静态化，使得编译时就能确定模块的依赖关系，以及输入和输出的变量。CommonJS 和 AMD 模块，都只能在运行时确定这些东西。比如，CommonJS 模块就是对象，输入时必须查找对象属性。"
   ]
  },
  {
   "cell_type": "code",
   "execution_count": null,
   "id": "a65e0977",
   "metadata": {
    "attributes": {
     "classes": [
      "javascript"
     ],
     "id": ""
    }
   },
   "outputs": [],
   "source": [
    "// CommonJS模块\n",
    "let { stat, exists, readfile } = require('fs');\n",
    "\n",
    "// 等同于\n",
    "let _fs = require('fs');\n",
    "let stat = _fs.stat;\n",
    "let exists = _fs.exists;\n",
    "let readfile = _fs.readfile;"
   ]
  },
  {
   "cell_type": "markdown",
   "id": "44c0e6aa",
   "metadata": {},
   "source": [
    "上面代码的实质是整体加载`fs`模块（即加载`fs`的所有方法），生成一个对象（`_fs`），然后再从这个对象上面读取 3 个方法。这种加载称为“运行时加载”，因为只有运行时才能得到这个对象，导致完全没办法在编译时做“静态优化”。\n",
    "\n",
    "ES6 模块不是对象，而是通过`export`命令显式指定输出的代码，再通过`import`命令输入。"
   ]
  },
  {
   "cell_type": "code",
   "execution_count": null,
   "id": "fe49cfe4",
   "metadata": {
    "attributes": {
     "classes": [
      "javascript"
     ],
     "id": ""
    }
   },
   "outputs": [],
   "source": [
    "// ES6模块\n",
    "import { stat, exists, readFile } from 'fs';"
   ]
  },
  {
   "cell_type": "markdown",
   "id": "9d4d9a23",
   "metadata": {},
   "source": [
    "上面代码的实质是从`fs`模块加载 3 个方法，其他方法不加载。这种加载称为“编译时加载”或者静态加载，即 ES6 可以在编译时就完成模块加载，效率要比 CommonJS 模块的加载方式高。当然，这也导致了没法引用 ES6 模块本身，因为它不是对象。\n",
    "\n",
    "由于 ES6 模块是编译时加载，使得静态分析成为可能。有了它，就能进一步拓宽 JavaScript 的语法，比如引入宏（macro）和类型检验（type system）这些只能靠静态分析实现的功能。\n",
    "\n",
    "除了静态加载带来的各种好处，ES6 模块还有以下好处。\n",
    "\n",
    "- 不再需要`UMD`模块格式了，将来服务器和浏览器都会支持 ES6 模块格式。目前，通过各种工具库，其实已经做到了这一点。\n",
    "- 将来浏览器的新 API 就能用模块格式提供，不再必须做成全局变量或者`navigator`对象的属性。\n",
    "- 不再需要对象作为命名空间（比如`Math`对象），未来这些功能可以通过模块提供。\n",
    "\n",
    "本章介绍 ES6 模块的语法，下一章介绍如何在浏览器和 Node 之中，加载 ES6 模块。\n",
    "\n",
    "## 严格模式\n",
    "\n",
    "ES6 的模块自动采用严格模式，不管你有没有在模块头部加上`\"use strict\";`。\n",
    "\n",
    "严格模式主要有以下限制。\n",
    "\n",
    "- 变量必须声明后再使用\n",
    "- 函数的参数不能有同名属性，否则报错\n",
    "- 不能使用`with`语句\n",
    "- 不能对只读属性赋值，否则报错\n",
    "- 不能使用前缀 0 表示八进制数，否则报错\n",
    "- 不能删除不可删除的属性，否则报错\n",
    "- 不能删除变量`delete prop`，会报错，只能删除属性`delete global[prop]`\n",
    "- `eval`不会在它的外层作用域引入变量\n",
    "- `eval`和`arguments`不能被重新赋值\n",
    "- `arguments`不会自动反映函数参数的变化\n",
    "- 不能使用`arguments.callee`\n",
    "- 不能使用`arguments.caller`\n",
    "- 禁止`this`指向全局对象\n",
    "- 不能使用`fn.caller`和`fn.arguments`获取函数调用的堆栈\n",
    "- 增加了保留字（比如`protected`、`static`和`interface`）\n",
    "\n",
    "上面这些限制，模块都必须遵守。由于严格模式是 ES5 引入的，不属于 ES6，所以请参阅相关 ES5 书籍，本书不再详细介绍了。\n",
    "\n",
    "其中，尤其需要注意`this`的限制。ES6 模块之中，顶层的`this`指向`undefined`，即不应该在顶层代码使用`this`。\n",
    "\n",
    "## export 命令\n",
    "\n",
    "模块功能主要由两个命令构成：`export`和`import`。`export`命令用于规定模块的对外接口，`import`命令用于输入其他模块提供的功能。\n",
    "\n",
    "一个模块就是一个独立的文件。该文件内部的所有变量，外部无法获取。如果你希望外部能够读取模块内部的某个变量，就必须使用`export`关键字输出该变量。下面是一个 JS 文件，里面使用`export`命令输出变量。"
   ]
  },
  {
   "cell_type": "code",
   "execution_count": null,
   "id": "2cb55add",
   "metadata": {
    "attributes": {
     "classes": [
      "javascript"
     ],
     "id": ""
    }
   },
   "outputs": [],
   "source": [
    "// profile.js\n",
    "export var firstName = 'Michael';\n",
    "export var lastName = 'Jackson';\n",
    "export var year = 1958;"
   ]
  },
  {
   "cell_type": "markdown",
   "id": "8946c447",
   "metadata": {},
   "source": [
    "上面代码是`profile.js`文件，保存了用户信息。ES6 将其视为一个模块，里面用`export`命令对外部输出了三个变量。\n",
    "\n",
    "`export`的写法，除了像上面这样，还有另外一种。"
   ]
  },
  {
   "cell_type": "code",
   "execution_count": null,
   "id": "8e169eb6",
   "metadata": {
    "attributes": {
     "classes": [
      "javascript"
     ],
     "id": ""
    }
   },
   "outputs": [],
   "source": [
    "// profile.js\n",
    "var firstName = 'Michael';\n",
    "var lastName = 'Jackson';\n",
    "var year = 1958;\n",
    "\n",
    "export { firstName, lastName, year };"
   ]
  },
  {
   "cell_type": "markdown",
   "id": "aca9ddde",
   "metadata": {},
   "source": [
    "上面代码在`export`命令后面，使用大括号指定所要输出的一组变量。它与前一种写法（直接放置在`var`语句前）是等价的，但是应该优先考虑使用这种写法。因为这样就可以在脚本尾部，一眼看清楚输出了哪些变量。\n",
    "\n",
    "`export`命令除了输出变量，还可以输出函数或类（class）。"
   ]
  },
  {
   "cell_type": "code",
   "execution_count": null,
   "id": "69b64e13",
   "metadata": {
    "attributes": {
     "classes": [
      "javascript"
     ],
     "id": ""
    }
   },
   "outputs": [],
   "source": [
    "export function multiply(x, y) {\n",
    "  return x * y;\n",
    "};"
   ]
  },
  {
   "cell_type": "markdown",
   "id": "a9da16fc",
   "metadata": {},
   "source": [
    "上面代码对外输出一个函数`multiply`。\n",
    "\n",
    "通常情况下，`export`输出的变量就是本来的名字，但是可以使用`as`关键字重命名。"
   ]
  },
  {
   "cell_type": "code",
   "execution_count": null,
   "id": "b7a2d5ff",
   "metadata": {
    "attributes": {
     "classes": [
      "javascript"
     ],
     "id": ""
    }
   },
   "outputs": [],
   "source": [
    "function v1() { ... }\n",
    "function v2() { ... }\n",
    "\n",
    "export {\n",
    "  v1 as streamV1,\n",
    "  v2 as streamV2,\n",
    "  v2 as streamLatestVersion\n",
    "};"
   ]
  },
  {
   "cell_type": "markdown",
   "id": "cbd88fe9",
   "metadata": {},
   "source": [
    "上面代码使用`as`关键字，重命名了函数`v1`和`v2`的对外接口。重命名后，`v2`可以用不同的名字输出两次。\n",
    "\n",
    "需要特别注意的是，`export`命令规定的是对外的接口，必须与模块内部的变量建立一一对应关系。"
   ]
  },
  {
   "cell_type": "code",
   "execution_count": null,
   "id": "9b3ee302",
   "metadata": {
    "attributes": {
     "classes": [
      "javascript"
     ],
     "id": ""
    }
   },
   "outputs": [],
   "source": [
    "// 报错\n",
    "export 1;\n",
    "\n",
    "// 报错\n",
    "var m = 1;\n",
    "export m;"
   ]
  },
  {
   "cell_type": "markdown",
   "id": "d61e2437",
   "metadata": {},
   "source": [
    "上面两种写法都会报错，因为没有提供对外的接口。第一种写法直接输出 1，第二种写法通过变量`m`，还是直接输出 1。`1`只是一个值，不是接口。正确的写法是下面这样。"
   ]
  },
  {
   "cell_type": "code",
   "execution_count": null,
   "id": "b7a1805d",
   "metadata": {
    "attributes": {
     "classes": [
      "javascript"
     ],
     "id": ""
    }
   },
   "outputs": [],
   "source": [
    "// 写法一\n",
    "export var m = 1;\n",
    "\n",
    "// 写法二\n",
    "var m = 1;\n",
    "export {m};\n",
    "\n",
    "// 写法三\n",
    "var n = 1;\n",
    "export {n as m};"
   ]
  },
  {
   "cell_type": "markdown",
   "id": "98281bb7",
   "metadata": {},
   "source": [
    "上面三种写法都是正确的，规定了对外的接口`m`。其他脚本可以通过这个接口，取到值`1`。它们的实质是，在接口名与模块内部变量之间，建立了一一对应的关系。\n",
    "\n",
    "同样的，`function`和`class`的输出，也必须遵守这样的写法。"
   ]
  },
  {
   "cell_type": "code",
   "execution_count": null,
   "id": "524e4e43",
   "metadata": {
    "attributes": {
     "classes": [
      "javascript"
     ],
     "id": ""
    }
   },
   "outputs": [],
   "source": [
    "// 报错\n",
    "function f() {}\n",
    "export f;\n",
    "\n",
    "// 正确\n",
    "export function f() {};\n",
    "\n",
    "// 正确\n",
    "function f() {}\n",
    "export {f};"
   ]
  },
  {
   "cell_type": "markdown",
   "id": "06355c1d",
   "metadata": {},
   "source": [
    "另外，`export`语句输出的接口，与其对应的值是动态绑定关系，即通过该接口，可以取到模块内部实时的值。"
   ]
  },
  {
   "cell_type": "code",
   "execution_count": null,
   "id": "4cee17b4",
   "metadata": {
    "attributes": {
     "classes": [
      "javascript"
     ],
     "id": ""
    }
   },
   "outputs": [],
   "source": [
    "export var foo = 'bar';\n",
    "setTimeout(() => foo = 'baz', 500);"
   ]
  },
  {
   "cell_type": "markdown",
   "id": "673eb37a",
   "metadata": {},
   "source": [
    "上面代码输出变量`foo`，值为`bar`，500 毫秒之后变成`baz`。\n",
    "\n",
    "这一点与 CommonJS 规范完全不同。CommonJS 模块输出的是值的缓存，不存在动态更新，详见下文《Module 的加载实现》一节。\n",
    "\n",
    "最后，`export`命令可以出现在模块的任何位置，只要处于模块顶层就可以。如果处于块级作用域内，就会报错，下一节的`import`命令也是如此。这是因为处于条件代码块之中，就没法做静态优化了，违背了 ES6 模块的设计初衷。"
   ]
  },
  {
   "cell_type": "code",
   "execution_count": null,
   "id": "d2f03e74",
   "metadata": {
    "attributes": {
     "classes": [
      "javascript"
     ],
     "id": ""
    }
   },
   "outputs": [],
   "source": [
    "function foo() {\n",
    "  export default 'bar' // SyntaxError\n",
    "}\n",
    "foo()"
   ]
  },
  {
   "cell_type": "markdown",
   "id": "8f0762f6",
   "metadata": {},
   "source": [
    "上面代码中，`export`语句放在函数之中，结果报错。\n",
    "\n",
    "## import 命令\n",
    "\n",
    "使用`export`命令定义了模块的对外接口以后，其他 JS 文件就可以通过`import`命令加载这个模块。"
   ]
  },
  {
   "cell_type": "code",
   "execution_count": null,
   "id": "3ee481ba",
   "metadata": {
    "attributes": {
     "classes": [
      "javascript"
     ],
     "id": ""
    }
   },
   "outputs": [],
   "source": [
    "// main.js\n",
    "import { firstName, lastName, year } from './profile.js';\n",
    "\n",
    "function setName(element) {\n",
    "  element.textContent = firstName + ' ' + lastName;\n",
    "}"
   ]
  },
  {
   "cell_type": "markdown",
   "id": "c876b442",
   "metadata": {},
   "source": [
    "上面代码的`import`命令，用于加载`profile.js`文件，并从中输入变量。`import`命令接受一对大括号，里面指定要从其他模块导入的变量名。大括号里面的变量名，必须与被导入模块（`profile.js`）对外接口的名称相同。\n",
    "\n",
    "如果想为输入的变量重新取一个名字，`import`命令要使用`as`关键字，将输入的变量重命名。"
   ]
  },
  {
   "cell_type": "code",
   "execution_count": null,
   "id": "f09879a4",
   "metadata": {
    "attributes": {
     "classes": [
      "javascript"
     ],
     "id": ""
    }
   },
   "outputs": [],
   "source": [
    "import { lastName as surname } from './profile.js';"
   ]
  },
  {
   "cell_type": "markdown",
   "id": "7ded0ccd",
   "metadata": {},
   "source": [
    "`import`命令输入的变量都是只读的，因为它的本质是输入接口。也就是说，不允许在加载模块的脚本里面，改写接口。"
   ]
  },
  {
   "cell_type": "code",
   "execution_count": null,
   "id": "d2a513c1",
   "metadata": {
    "attributes": {
     "classes": [
      "javascript"
     ],
     "id": ""
    }
   },
   "outputs": [],
   "source": [
    "import {a} from './xxx.js'\n",
    "\n",
    "a = {}; // Syntax Error : 'a' is read-only;"
   ]
  },
  {
   "cell_type": "markdown",
   "id": "0dbdc4e3",
   "metadata": {},
   "source": [
    "上面代码中，脚本加载了变量`a`，对其重新赋值就会报错，因为`a`是一个只读的接口。但是，如果`a`是一个对象，改写`a`的属性是允许的。"
   ]
  },
  {
   "cell_type": "code",
   "execution_count": null,
   "id": "065c5c2a",
   "metadata": {
    "attributes": {
     "classes": [
      "javascript"
     ],
     "id": ""
    }
   },
   "outputs": [],
   "source": [
    "import {a} from './xxx.js'\n",
    "\n",
    "a.foo = 'hello'; // 合法操作"
   ]
  },
  {
   "cell_type": "markdown",
   "id": "eca2e9de",
   "metadata": {},
   "source": [
    "上面代码中，`a`的属性可以成功改写，并且其他模块也可以读到改写后的值。不过，这种写法很难查错，建议凡是输入的变量，都当作完全只读，不要轻易改变它的属性。\n",
    "\n",
    "`import`后面的`from`指定模块文件的位置，可以是相对路径，也可以是绝对路径。如果不带有路径，只是一个模块名，那么必须有配置文件，告诉 JavaScript 引擎该模块的位置。"
   ]
  },
  {
   "cell_type": "code",
   "execution_count": null,
   "id": "639a7d14",
   "metadata": {
    "attributes": {
     "classes": [
      "javascript"
     ],
     "id": ""
    }
   },
   "outputs": [],
   "source": [
    "import { myMethod } from 'util';"
   ]
  },
  {
   "cell_type": "markdown",
   "id": "d74f3864",
   "metadata": {},
   "source": [
    "上面代码中，`util`是模块文件名，由于不带有路径，必须通过配置，告诉引擎怎么取到这个模块。\n",
    "\n",
    "注意，`import`命令具有提升效果，会提升到整个模块的头部，首先执行。"
   ]
  },
  {
   "cell_type": "code",
   "execution_count": null,
   "id": "0ecdf2e5",
   "metadata": {
    "attributes": {
     "classes": [
      "javascript"
     ],
     "id": ""
    }
   },
   "outputs": [],
   "source": [
    "foo();\n",
    "\n",
    "import { foo } from 'my_module';"
   ]
  },
  {
   "cell_type": "markdown",
   "id": "a92a4e08",
   "metadata": {},
   "source": [
    "上面的代码不会报错，因为`import`的执行早于`foo`的调用。这种行为的本质是，`import`命令是编译阶段执行的，在代码运行之前。\n",
    "\n",
    "由于`import`是静态执行，所以不能使用表达式和变量，这些只有在运行时才能得到结果的语法结构。"
   ]
  },
  {
   "cell_type": "code",
   "execution_count": null,
   "id": "060d7d02",
   "metadata": {
    "attributes": {
     "classes": [
      "javascript"
     ],
     "id": ""
    }
   },
   "outputs": [],
   "source": [
    "// 报错\n",
    "import { 'f' + 'oo' } from 'my_module';\n",
    "\n",
    "// 报错\n",
    "let module = 'my_module';\n",
    "import { foo } from module;\n",
    "\n",
    "// 报错\n",
    "if (x === 1) {\n",
    "  import { foo } from 'module1';\n",
    "} else {\n",
    "  import { foo } from 'module2';\n",
    "}"
   ]
  },
  {
   "cell_type": "markdown",
   "id": "848f7ed0",
   "metadata": {},
   "source": [
    "上面三种写法都会报错，因为它们用到了表达式、变量和`if`结构。在静态分析阶段，这些语法都是没法得到值的。\n",
    "\n",
    "最后，`import`语句会执行所加载的模块，因此可以有下面的写法。"
   ]
  },
  {
   "cell_type": "code",
   "execution_count": null,
   "id": "2f10caec",
   "metadata": {
    "attributes": {
     "classes": [
      "javascript"
     ],
     "id": ""
    }
   },
   "outputs": [],
   "source": [
    "import 'lodash';"
   ]
  },
  {
   "cell_type": "markdown",
   "id": "4779ed7d",
   "metadata": {},
   "source": [
    "上面代码仅仅执行`lodash`模块，但是不输入任何值。\n",
    "\n",
    "如果多次重复执行同一句`import`语句，那么只会执行一次，而不会执行多次。"
   ]
  },
  {
   "cell_type": "code",
   "execution_count": null,
   "id": "0ac73ab4",
   "metadata": {
    "attributes": {
     "classes": [
      "javascript"
     ],
     "id": ""
    }
   },
   "outputs": [],
   "source": [
    "import 'lodash';\n",
    "import 'lodash';"
   ]
  },
  {
   "cell_type": "markdown",
   "id": "bf95f254",
   "metadata": {},
   "source": [
    "上面代码加载了两次`lodash`，但是只会执行一次。"
   ]
  },
  {
   "cell_type": "code",
   "execution_count": null,
   "id": "9e0b1d3c",
   "metadata": {
    "attributes": {
     "classes": [
      "javascript"
     ],
     "id": ""
    }
   },
   "outputs": [],
   "source": [
    "import { foo } from 'my_module';\n",
    "import { bar } from 'my_module';\n",
    "\n",
    "// 等同于\n",
    "import { foo, bar } from 'my_module';"
   ]
  },
  {
   "cell_type": "markdown",
   "id": "878dfbe6",
   "metadata": {},
   "source": [
    "上面代码中，虽然`foo`和`bar`在两个语句中加载，但是它们对应的是同一个`my_module`模块。也就是说，`import`语句是 Singleton 模式。\n",
    "\n",
    "目前阶段，通过 Babel 转码，CommonJS 模块的`require`命令和 ES6 模块的`import`命令，可以写在同一个模块里面，但是最好不要这样做。因为`import`在静态解析阶段执行，所以它是一个模块之中最早执行的。下面的代码可能不会得到预期结果。"
   ]
  },
  {
   "cell_type": "code",
   "execution_count": null,
   "id": "e6e0551d",
   "metadata": {
    "attributes": {
     "classes": [
      "javascript"
     ],
     "id": ""
    }
   },
   "outputs": [],
   "source": [
    "require('core-js/modules/es6.symbol');\n",
    "require('core-js/modules/es6.promise');\n",
    "import React from 'React';"
   ]
  },
  {
   "cell_type": "markdown",
   "id": "b804a4da",
   "metadata": {},
   "source": [
    "## 模块的整体加载\n",
    "\n",
    "除了指定加载某个输出值，还可以使用整体加载，即用星号（`*`）指定一个对象，所有输出值都加载在这个对象上面。\n",
    "\n",
    "下面是一个`circle.js`文件，它输出两个方法`area`和`circumference`。"
   ]
  },
  {
   "cell_type": "code",
   "execution_count": null,
   "id": "52b40137",
   "metadata": {
    "attributes": {
     "classes": [
      "javascript"
     ],
     "id": ""
    }
   },
   "outputs": [],
   "source": [
    "// circle.js\n",
    "\n",
    "export function area(radius) {\n",
    "  return Math.PI * radius * radius;\n",
    "}\n",
    "\n",
    "export function circumference(radius) {\n",
    "  return 2 * Math.PI * radius;\n",
    "}"
   ]
  },
  {
   "cell_type": "markdown",
   "id": "3de10c38",
   "metadata": {},
   "source": [
    "现在，加载这个模块。"
   ]
  },
  {
   "cell_type": "code",
   "execution_count": null,
   "id": "ad3a28b9",
   "metadata": {
    "attributes": {
     "classes": [
      "javascript"
     ],
     "id": ""
    }
   },
   "outputs": [],
   "source": [
    "// main.js\n",
    "\n",
    "import { area, circumference } from './circle';\n",
    "\n",
    "console.log('圆面积：' + area(4));\n",
    "console.log('圆周长：' + circumference(14));"
   ]
  },
  {
   "cell_type": "markdown",
   "id": "759bee20",
   "metadata": {},
   "source": [
    "上面写法是逐一指定要加载的方法，整体加载的写法如下。"
   ]
  },
  {
   "cell_type": "code",
   "execution_count": null,
   "id": "10e94c22",
   "metadata": {
    "attributes": {
     "classes": [
      "javascript"
     ],
     "id": ""
    }
   },
   "outputs": [],
   "source": [
    "import * as circle from './circle';\n",
    "\n",
    "console.log('圆面积：' + circle.area(4));\n",
    "console.log('圆周长：' + circle.circumference(14));"
   ]
  },
  {
   "cell_type": "markdown",
   "id": "bb70d42a",
   "metadata": {},
   "source": [
    "注意，模块整体加载所在的那个对象（上例是`circle`），应该是可以静态分析的，所以不允许运行时改变。下面的写法都是不允许的。"
   ]
  },
  {
   "cell_type": "code",
   "execution_count": null,
   "id": "720efc64",
   "metadata": {
    "attributes": {
     "classes": [
      "javascript"
     ],
     "id": ""
    }
   },
   "outputs": [],
   "source": [
    "import * as circle from './circle';\n",
    "\n",
    "// 下面两行都是不允许的\n",
    "circle.foo = 'hello';\n",
    "circle.area = function () {};"
   ]
  },
  {
   "cell_type": "markdown",
   "id": "2331fd51",
   "metadata": {},
   "source": [
    "## export default 命令\n",
    "\n",
    "从前面的例子可以看出，使用`import`命令的时候，用户需要知道所要加载的变量名或函数名，否则无法加载。但是，用户肯定希望快速上手，未必愿意阅读文档，去了解模块有哪些属性和方法。\n",
    "\n",
    "为了给用户提供方便，让他们不用阅读文档就能加载模块，就要用到`export default`命令，为模块指定默认输出。"
   ]
  },
  {
   "cell_type": "code",
   "execution_count": null,
   "id": "e35ebad6",
   "metadata": {
    "attributes": {
     "classes": [
      "javascript"
     ],
     "id": ""
    }
   },
   "outputs": [],
   "source": [
    "// export-default.js\n",
    "export default function () {\n",
    "  console.log('foo');\n",
    "}"
   ]
  },
  {
   "cell_type": "markdown",
   "id": "21086f4a",
   "metadata": {},
   "source": [
    "上面代码是一个模块文件`export-default.js`，它的默认输出是一个函数。\n",
    "\n",
    "其他模块加载该模块时，`import`命令可以为该匿名函数指定任意名字。"
   ]
  },
  {
   "cell_type": "code",
   "execution_count": null,
   "id": "eabaafa6",
   "metadata": {
    "attributes": {
     "classes": [
      "javascript"
     ],
     "id": ""
    }
   },
   "outputs": [],
   "source": [
    "// import-default.js\n",
    "import customName from './export-default';\n",
    "customName(); // 'foo'"
   ]
  },
  {
   "cell_type": "markdown",
   "id": "0997c07d",
   "metadata": {},
   "source": [
    "上面代码的`import`命令，可以用任意名称指向`export-default.js`输出的方法，这时就不需要知道原模块输出的函数名。需要注意的是，这时`import`命令后面，不使用大括号。\n",
    "\n",
    "`export default`命令用在非匿名函数前，也是可以的。"
   ]
  },
  {
   "cell_type": "code",
   "execution_count": null,
   "id": "6cea9a48",
   "metadata": {
    "attributes": {
     "classes": [
      "javascript"
     ],
     "id": ""
    }
   },
   "outputs": [],
   "source": [
    "// export-default.js\n",
    "export default function foo() {\n",
    "  console.log('foo');\n",
    "}\n",
    "\n",
    "// 或者写成\n",
    "\n",
    "function foo() {\n",
    "  console.log('foo');\n",
    "}\n",
    "\n",
    "export default foo;"
   ]
  },
  {
   "cell_type": "markdown",
   "id": "4db32a1e",
   "metadata": {},
   "source": [
    "上面代码中，`foo`函数的函数名`foo`，在模块外部是无效的。加载的时候，视同匿名函数加载。\n",
    "\n",
    "下面比较一下默认输出和正常输出。"
   ]
  },
  {
   "cell_type": "code",
   "execution_count": null,
   "id": "f0e2c4c5",
   "metadata": {
    "attributes": {
     "classes": [
      "javascript"
     ],
     "id": ""
    }
   },
   "outputs": [],
   "source": [
    "// 第一组\n",
    "export default function crc32() { // 输出\n",
    "  // ...\n",
    "}\n",
    "\n",
    "import crc32 from 'crc32'; // 输入\n",
    "\n",
    "// 第二组\n",
    "export function crc32() { // 输出\n",
    "  // ...\n",
    "};\n",
    "\n",
    "import {crc32} from 'crc32'; // 输入"
   ]
  },
  {
   "cell_type": "markdown",
   "id": "35073ce3",
   "metadata": {},
   "source": [
    "上面代码的两组写法，第一组是使用`export default`时，对应的`import`语句不需要使用大括号；第二组是不使用`export default`时，对应的`import`语句需要使用大括号。\n",
    "\n",
    "`export default`命令用于指定模块的默认输出。显然，一个模块只能有一个默认输出，因此`export default`命令只能使用一次。所以，import命令后面才不用加大括号，因为只可能唯一对应`export default`命令。\n",
    "\n",
    "本质上，`export default`就是输出一个叫做`default`的变量或方法，然后系统允许你为它取任意名字。所以，下面的写法是有效的。"
   ]
  },
  {
   "cell_type": "code",
   "execution_count": null,
   "id": "51cca22e",
   "metadata": {
    "attributes": {
     "classes": [
      "javascript"
     ],
     "id": ""
    }
   },
   "outputs": [],
   "source": [
    "// modules.js\n",
    "function add(x, y) {\n",
    "  return x * y;\n",
    "}\n",
    "export {add as default};\n",
    "// 等同于\n",
    "// export default add;\n",
    "\n",
    "// app.js\n",
    "import { default as foo } from 'modules';\n",
    "// 等同于\n",
    "// import foo from 'modules';"
   ]
  },
  {
   "cell_type": "markdown",
   "id": "f5faf41c",
   "metadata": {},
   "source": [
    "正是因为`export default`命令其实只是输出一个叫做`default`的变量，所以它后面不能跟变量声明语句。"
   ]
  },
  {
   "cell_type": "code",
   "execution_count": null,
   "id": "b40c501f",
   "metadata": {
    "attributes": {
     "classes": [
      "javascript"
     ],
     "id": ""
    }
   },
   "outputs": [],
   "source": [
    "// 正确\n",
    "export var a = 1;\n",
    "\n",
    "// 正确\n",
    "var a = 1;\n",
    "export default a;\n",
    "\n",
    "// 错误\n",
    "export default var a = 1;"
   ]
  },
  {
   "cell_type": "markdown",
   "id": "70f57692",
   "metadata": {},
   "source": [
    "上面代码中，`export default a`的含义是将变量`a`的值赋给变量`default`。所以，最后一种写法会报错。\n",
    "\n",
    "同样地，因为`export default`命令的本质是将后面的值，赋给`default`变量，所以可以直接将一个值写在`export default`之后。"
   ]
  },
  {
   "cell_type": "code",
   "execution_count": null,
   "id": "5d031feb",
   "metadata": {
    "attributes": {
     "classes": [
      "javascript"
     ],
     "id": ""
    }
   },
   "outputs": [],
   "source": [
    "// 正确\n",
    "export default 42;\n",
    "\n",
    "// 报错\n",
    "export 42;"
   ]
  },
  {
   "cell_type": "markdown",
   "id": "065afbf2",
   "metadata": {},
   "source": [
    "上面代码中，后一句报错是因为没有指定对外的接口，而前一句指定对外接口为`default`。\n",
    "\n",
    "有了`export default`命令，输入模块时就非常直观了，以输入 lodash 模块为例。"
   ]
  },
  {
   "cell_type": "code",
   "execution_count": null,
   "id": "85ce8813",
   "metadata": {
    "attributes": {
     "classes": [
      "javascript"
     ],
     "id": ""
    }
   },
   "outputs": [],
   "source": [
    "import _ from 'lodash';"
   ]
  },
  {
   "cell_type": "markdown",
   "id": "d25735c9",
   "metadata": {},
   "source": [
    "如果想在一条`import`语句中，同时输入默认方法和其他接口，可以写成下面这样。"
   ]
  },
  {
   "cell_type": "code",
   "execution_count": null,
   "id": "9c8ab0fc",
   "metadata": {
    "attributes": {
     "classes": [
      "javascript"
     ],
     "id": ""
    }
   },
   "outputs": [],
   "source": [
    "import _, { each, forEach } from 'lodash';"
   ]
  },
  {
   "cell_type": "markdown",
   "id": "8bb0a60e",
   "metadata": {},
   "source": [
    "对应上面代码的`export`语句如下。"
   ]
  },
  {
   "cell_type": "code",
   "execution_count": null,
   "id": "7e6443a2",
   "metadata": {
    "attributes": {
     "classes": [
      "javascript"
     ],
     "id": ""
    }
   },
   "outputs": [],
   "source": [
    "export default function (obj) {\n",
    "  // ···\n",
    "}\n",
    "\n",
    "export function each(obj, iterator, context) {\n",
    "  // ···\n",
    "}\n",
    "\n",
    "export { each as forEach };"
   ]
  },
  {
   "cell_type": "markdown",
   "id": "fe1c5219",
   "metadata": {},
   "source": [
    "上面代码的最后一行的意思是，暴露出`forEach`接口，默认指向`each`接口，即`forEach`和`each`指向同一个方法。\n",
    "\n",
    "`export default`也可以用来输出类。"
   ]
  },
  {
   "cell_type": "code",
   "execution_count": null,
   "id": "26846ea3",
   "metadata": {
    "attributes": {
     "classes": [
      "javascript"
     ],
     "id": ""
    }
   },
   "outputs": [],
   "source": [
    "// MyClass.js\n",
    "export default class { ... }\n",
    "\n",
    "// main.js\n",
    "import MyClass from 'MyClass';\n",
    "let o = new MyClass();"
   ]
  },
  {
   "cell_type": "markdown",
   "id": "018df0d4",
   "metadata": {},
   "source": [
    "## export 与 import 的复合写法\n",
    "\n",
    "如果在一个模块之中，先输入后输出同一个模块，`import`语句可以与`export`语句写在一起。"
   ]
  },
  {
   "cell_type": "code",
   "execution_count": null,
   "id": "f3969f70",
   "metadata": {
    "attributes": {
     "classes": [
      "javascript"
     ],
     "id": ""
    }
   },
   "outputs": [],
   "source": [
    "export { foo, bar } from 'my_module';\n",
    "\n",
    "// 可以简单理解为\n",
    "import { foo, bar } from 'my_module';\n",
    "export { foo, bar };"
   ]
  },
  {
   "cell_type": "markdown",
   "id": "0672b0dd",
   "metadata": {},
   "source": [
    "上面代码中，`export`和`import`语句可以结合在一起，写成一行。但需要注意的是，写成一行以后，`foo`和`bar`实际上并没有被导入当前模块，只是相当于对外转发了这两个接口，导致当前模块不能直接使用`foo`和`bar`。\n",
    "\n",
    "模块的接口改名和整体输出，也可以采用这种写法。"
   ]
  },
  {
   "cell_type": "code",
   "execution_count": null,
   "id": "d9a3a49a",
   "metadata": {
    "attributes": {
     "classes": [
      "javascript"
     ],
     "id": ""
    }
   },
   "outputs": [],
   "source": [
    "// 接口改名\n",
    "export { foo as myFoo } from 'my_module';\n",
    "\n",
    "// 整体输出\n",
    "export * from 'my_module';"
   ]
  },
  {
   "cell_type": "markdown",
   "id": "a6623369",
   "metadata": {},
   "source": [
    "默认接口的写法如下。"
   ]
  },
  {
   "cell_type": "code",
   "execution_count": null,
   "id": "2b441654",
   "metadata": {
    "attributes": {
     "classes": [
      "javascript"
     ],
     "id": ""
    }
   },
   "outputs": [],
   "source": [
    "export { default } from 'foo';"
   ]
  },
  {
   "cell_type": "markdown",
   "id": "6a5ab721",
   "metadata": {},
   "source": [
    "具名接口改为默认接口的写法如下。"
   ]
  },
  {
   "cell_type": "code",
   "execution_count": null,
   "id": "88b18c92",
   "metadata": {
    "attributes": {
     "classes": [
      "javascript"
     ],
     "id": ""
    }
   },
   "outputs": [],
   "source": [
    "export { es6 as default } from './someModule';\n",
    "\n",
    "// 等同于\n",
    "import { es6 } from './someModule';\n",
    "export default es6;"
   ]
  },
  {
   "cell_type": "markdown",
   "id": "85753350",
   "metadata": {},
   "source": [
    "同样地，默认接口也可以改名为具名接口。"
   ]
  },
  {
   "cell_type": "code",
   "execution_count": null,
   "id": "dab84ccb",
   "metadata": {
    "attributes": {
     "classes": [
      "javascript"
     ],
     "id": ""
    }
   },
   "outputs": [],
   "source": [
    "export { default as es6 } from './someModule';"
   ]
  },
  {
   "cell_type": "markdown",
   "id": "be2a72a9",
   "metadata": {},
   "source": [
    "ES2020 之前，有一种`import`语句，没有对应的复合写法。"
   ]
  },
  {
   "cell_type": "code",
   "execution_count": null,
   "id": "f47e5717",
   "metadata": {
    "attributes": {
     "classes": [
      "javascript"
     ],
     "id": ""
    }
   },
   "outputs": [],
   "source": [
    "import * as someIdentifier from \"someModule\";"
   ]
  },
  {
   "cell_type": "markdown",
   "id": "26b15e79",
   "metadata": {},
   "source": [
    "[ES2020](https://github.com/tc39/proposal-export-ns-from)补上了这个写法。"
   ]
  },
  {
   "cell_type": "code",
   "execution_count": null,
   "id": "0ecb8ae5",
   "metadata": {
    "attributes": {
     "classes": [
      "javascript"
     ],
     "id": ""
    }
   },
   "outputs": [],
   "source": [
    "export * as ns from \"mod\";\n",
    "\n",
    "// 等同于\n",
    "import * as ns from \"mod\";\n",
    "export {ns};"
   ]
  },
  {
   "cell_type": "markdown",
   "id": "e44c34d7",
   "metadata": {},
   "source": [
    "## 模块的继承\n",
    "\n",
    "模块之间也可以继承。\n",
    "\n",
    "假设有一个`circleplus`模块，继承了`circle`模块。"
   ]
  },
  {
   "cell_type": "code",
   "execution_count": null,
   "id": "98518821",
   "metadata": {
    "attributes": {
     "classes": [
      "javascript"
     ],
     "id": ""
    }
   },
   "outputs": [],
   "source": [
    "// circleplus.js\n",
    "\n",
    "export * from 'circle';\n",
    "export var e = 2.71828182846;\n",
    "export default function(x) {\n",
    "  return Math.exp(x);\n",
    "}"
   ]
  },
  {
   "cell_type": "markdown",
   "id": "ddd19f14",
   "metadata": {},
   "source": [
    "上面代码中的`export *`，表示再输出`circle`模块的所有属性和方法。注意，`export *`命令会忽略`circle`模块的`default`方法。然后，上面代码又输出了自定义的`e`变量和默认方法。\n",
    "\n",
    "这时，也可以将`circle`的属性或方法，改名后再输出。"
   ]
  },
  {
   "cell_type": "code",
   "execution_count": null,
   "id": "258f1398",
   "metadata": {
    "attributes": {
     "classes": [
      "javascript"
     ],
     "id": ""
    }
   },
   "outputs": [],
   "source": [
    "// circleplus.js\n",
    "\n",
    "export { area as circleArea } from 'circle';"
   ]
  },
  {
   "cell_type": "markdown",
   "id": "60f32379",
   "metadata": {},
   "source": [
    "上面代码表示，只输出`circle`模块的`area`方法，且将其改名为`circleArea`。\n",
    "\n",
    "加载上面模块的写法如下。"
   ]
  },
  {
   "cell_type": "code",
   "execution_count": null,
   "id": "d002cc31",
   "metadata": {
    "attributes": {
     "classes": [
      "javascript"
     ],
     "id": ""
    }
   },
   "outputs": [],
   "source": [
    "// main.js\n",
    "\n",
    "import * as math from 'circleplus';\n",
    "import exp from 'circleplus';\n",
    "console.log(exp(math.e));"
   ]
  },
  {
   "cell_type": "markdown",
   "id": "e1702ddb",
   "metadata": {},
   "source": [
    "上面代码中的`import exp`表示，将`circleplus`模块的默认方法加载为`exp`方法。\n",
    "\n",
    "## 跨模块常量\n",
    "\n",
    "本书介绍`const`命令的时候说过，`const`声明的常量只在当前代码块有效。如果想设置跨模块的常量（即跨多个文件），或者说一个值要被多个模块共享，可以采用下面的写法。"
   ]
  },
  {
   "cell_type": "code",
   "execution_count": null,
   "id": "19947dff",
   "metadata": {
    "attributes": {
     "classes": [
      "javascript"
     ],
     "id": ""
    }
   },
   "outputs": [],
   "source": [
    "// constants.js 模块\n",
    "export const A = 1;\n",
    "export const B = 3;\n",
    "export const C = 4;\n",
    "\n",
    "// test1.js 模块\n",
    "import * as constants from './constants';\n",
    "console.log(constants.A); // 1\n",
    "console.log(constants.B); // 3\n",
    "\n",
    "// test2.js 模块\n",
    "import {A, B} from './constants';\n",
    "console.log(A); // 1\n",
    "console.log(B); // 3"
   ]
  },
  {
   "cell_type": "markdown",
   "id": "995dfa54",
   "metadata": {},
   "source": [
    "如果要使用的常量非常多，可以建一个专门的`constants`目录，将各种常量写在不同的文件里面，保存在该目录下。"
   ]
  },
  {
   "cell_type": "code",
   "execution_count": null,
   "id": "5c7b51f4",
   "metadata": {
    "attributes": {
     "classes": [
      "javascript"
     ],
     "id": ""
    }
   },
   "outputs": [],
   "source": [
    "// constants/db.js\n",
    "export const db = {\n",
    "  url: 'http://my.couchdbserver.local:5984',\n",
    "  admin_username: 'admin',\n",
    "  admin_password: 'admin password'\n",
    "};\n",
    "\n",
    "// constants/user.js\n",
    "export const users = ['root', 'admin', 'staff', 'ceo', 'chief', 'moderator'];"
   ]
  },
  {
   "cell_type": "markdown",
   "id": "5f3c23ea",
   "metadata": {},
   "source": [
    "然后，将这些文件输出的常量，合并在`index.js`里面。"
   ]
  },
  {
   "cell_type": "code",
   "execution_count": null,
   "id": "d156a044",
   "metadata": {
    "attributes": {
     "classes": [
      "javascript"
     ],
     "id": ""
    }
   },
   "outputs": [],
   "source": [
    "// constants/index.js\n",
    "export {db} from './db';\n",
    "export {users} from './users';"
   ]
  },
  {
   "cell_type": "markdown",
   "id": "9a950f77",
   "metadata": {},
   "source": [
    "使用的时候，直接加载`index.js`就可以了。"
   ]
  },
  {
   "cell_type": "code",
   "execution_count": null,
   "id": "a0dde64d",
   "metadata": {
    "attributes": {
     "classes": [
      "javascript"
     ],
     "id": ""
    }
   },
   "outputs": [],
   "source": [
    "// script.js\n",
    "import {db, users} from './constants/index';"
   ]
  },
  {
   "cell_type": "markdown",
   "id": "c752c6d9",
   "metadata": {},
   "source": [
    "## import()\n",
    "\n",
    "### 简介\n",
    "\n",
    "前面介绍过，`import`命令会被 JavaScript 引擎静态分析，先于模块内的其他语句执行（`import`命令叫做“连接” binding 其实更合适）。所以，下面的代码会报错。"
   ]
  },
  {
   "cell_type": "code",
   "execution_count": null,
   "id": "17bc2006",
   "metadata": {
    "attributes": {
     "classes": [
      "javascript"
     ],
     "id": ""
    }
   },
   "outputs": [],
   "source": [
    "// 报错\n",
    "if (x === 2) {\n",
    "  import MyModual from './myModual';\n",
    "}"
   ]
  },
  {
   "cell_type": "markdown",
   "id": "c452897d",
   "metadata": {},
   "source": [
    "上面代码中，引擎处理`import`语句是在编译时，这时不会去分析或执行`if`语句，所以`import`语句放在`if`代码块之中毫无意义，因此会报句法错误，而不是执行时错误。也就是说，`import`和`export`命令只能在模块的顶层，不能在代码块之中（比如，在`if`代码块之中，或在函数之中）。\n",
    "\n",
    "这样的设计，固然有利于编译器提高效率，但也导致无法在运行时加载模块。在语法上，条件加载就不可能实现。如果`import`命令要取代 Node 的`require`方法，这就形成了一个障碍。因为`require`是运行时加载模块，`import`命令无法取代`require`的动态加载功能。"
   ]
  },
  {
   "cell_type": "code",
   "execution_count": null,
   "id": "1ccec64e",
   "metadata": {
    "attributes": {
     "classes": [
      "javascript"
     ],
     "id": ""
    }
   },
   "outputs": [],
   "source": [
    "const path = './' + fileName;\n",
    "const myModual = require(path);"
   ]
  },
  {
   "cell_type": "markdown",
   "id": "fb82c2e6",
   "metadata": {},
   "source": [
    "上面的语句就是动态加载，`require`到底加载哪一个模块，只有运行时才知道。`import`命令做不到这一点。\n",
    "\n",
    "[ES2020提案](https://github.com/tc39/proposal-dynamic-import) 引入`import()`函数，支持动态加载模块。"
   ]
  },
  {
   "cell_type": "code",
   "execution_count": null,
   "id": "d99f41a0",
   "metadata": {
    "attributes": {
     "classes": [
      "javascript"
     ],
     "id": ""
    }
   },
   "outputs": [],
   "source": [
    "import(specifier)"
   ]
  },
  {
   "cell_type": "markdown",
   "id": "ba0fa1ed",
   "metadata": {},
   "source": [
    "上面代码中，`import`函数的参数`specifier`，指定所要加载的模块的位置。`import`命令能够接受什么参数，`import()`函数就能接受什么参数，两者区别主要是后者为动态加载。\n",
    "\n",
    "`import()`返回一个 Promise 对象。下面是一个例子。"
   ]
  },
  {
   "cell_type": "code",
   "execution_count": null,
   "id": "f7e3c52a",
   "metadata": {
    "attributes": {
     "classes": [
      "javascript"
     ],
     "id": ""
    }
   },
   "outputs": [],
   "source": [
    "const main = document.querySelector('main');\n",
    "\n",
    "import(`./section-modules/${someVariable}.js`)\n",
    "  .then(module => {\n",
    "    module.loadPageInto(main);\n",
    "  })\n",
    "  .catch(err => {\n",
    "    main.textContent = err.message;\n",
    "  });"
   ]
  },
  {
   "cell_type": "markdown",
   "id": "9784be11",
   "metadata": {},
   "source": [
    "`import()`函数可以用在任何地方，不仅仅是模块，非模块的脚本也可以使用。它是运行时执行，也就是说，什么时候运行到这一句，就会加载指定的模块。另外，`import()`函数与所加载的模块没有静态连接关系，这点也是与`import`语句不相同。`import()`类似于 Node.js 的`require()`方法，区别主要是前者是异步加载，后者是同步加载。\n",
    "\n",
    "由于`import()`返回 Promise\n",
    "对象，所以需要使用`then()`方法指定处理函数。考虑到代码的清晰，更推荐使用`await`命令。"
   ]
  },
  {
   "cell_type": "code",
   "execution_count": null,
   "id": "2be05ec1",
   "metadata": {
    "attributes": {
     "classes": [
      "javascript"
     ],
     "id": ""
    }
   },
   "outputs": [],
   "source": [
    "async function renderWidget() {\n",
    "  const container = document.getElementById('widget');\n",
    "  if (container !== null) {\n",
    "    // 等同于\n",
    "    // import(\"./widget\").then(widget => {\n",
    "    //   widget.render(container);\n",
    "    // });\n",
    "    const widget = await import('./widget.js');\n",
    "    widget.render(container);\n",
    "  }\n",
    "}\n",
    "\n",
    "renderWidget();"
   ]
  },
  {
   "cell_type": "markdown",
   "id": "a953e380",
   "metadata": {},
   "source": [
    "上面示例中，`await`命令后面就是使用`import()`，对比`then()`的写法明显更简洁易读。\n",
    "\n",
    "### 适用场合\n",
    "\n",
    "下面是`import()`的一些适用场合。\n",
    "\n",
    "（1）按需加载。\n",
    "\n",
    "`import()`可以在需要的时候，再加载某个模块。"
   ]
  },
  {
   "cell_type": "code",
   "execution_count": null,
   "id": "2fda0275",
   "metadata": {
    "attributes": {
     "classes": [
      "javascript"
     ],
     "id": ""
    }
   },
   "outputs": [],
   "source": [
    "button.addEventListener('click', event => {\n",
    "  import('./dialogBox.js')\n",
    "  .then(dialogBox => {\n",
    "    dialogBox.open();\n",
    "  })\n",
    "  .catch(error => {\n",
    "    /* Error handling */\n",
    "  })\n",
    "});"
   ]
  },
  {
   "cell_type": "markdown",
   "id": "940d5492",
   "metadata": {},
   "source": [
    "上面代码中，`import()`方法放在`click`事件的监听函数之中，只有用户点击了按钮，才会加载这个模块。\n",
    "\n",
    "（2）条件加载\n",
    "\n",
    "`import()`可以放在`if`代码块，根据不同的情况，加载不同的模块。"
   ]
  },
  {
   "cell_type": "code",
   "execution_count": null,
   "id": "07c988d7",
   "metadata": {
    "attributes": {
     "classes": [
      "javascript"
     ],
     "id": ""
    }
   },
   "outputs": [],
   "source": [
    "if (condition) {\n",
    "  import('moduleA').then(...);\n",
    "} else {\n",
    "  import('moduleB').then(...);\n",
    "}"
   ]
  },
  {
   "cell_type": "markdown",
   "id": "7094601d",
   "metadata": {},
   "source": [
    "上面代码中，如果满足条件，就加载模块 A，否则加载模块 B。\n",
    "\n",
    "（3）动态的模块路径\n",
    "\n",
    "`import()`允许模块路径动态生成。"
   ]
  },
  {
   "cell_type": "code",
   "execution_count": null,
   "id": "3afa2359",
   "metadata": {
    "attributes": {
     "classes": [
      "javascript"
     ],
     "id": ""
    }
   },
   "outputs": [],
   "source": [
    "import(f())\n",
    ".then(...);"
   ]
  },
  {
   "cell_type": "markdown",
   "id": "621688ed",
   "metadata": {},
   "source": [
    "上面代码中，根据函数`f`的返回结果，加载不同的模块。\n",
    "\n",
    "### 注意点\n",
    "\n",
    "`import()`加载模块成功以后，这个模块会作为一个对象，当作`then`方法的参数。因此，可以使用对象解构赋值的语法，获取输出接口。"
   ]
  },
  {
   "cell_type": "code",
   "execution_count": null,
   "id": "52a7b020",
   "metadata": {
    "attributes": {
     "classes": [
      "javascript"
     ],
     "id": ""
    }
   },
   "outputs": [],
   "source": [
    "import('./myModule.js')\n",
    ".then(({export1, export2}) => {\n",
    "  // ...·\n",
    "});"
   ]
  },
  {
   "cell_type": "markdown",
   "id": "fc83adc5",
   "metadata": {},
   "source": [
    "上面代码中，`export1`和`export2`都是`myModule.js`的输出接口，可以解构获得。\n",
    "\n",
    "如果模块有`default`输出接口，可以用参数直接获得。"
   ]
  },
  {
   "cell_type": "code",
   "execution_count": null,
   "id": "ce933326",
   "metadata": {
    "attributes": {
     "classes": [
      "javascript"
     ],
     "id": ""
    }
   },
   "outputs": [],
   "source": [
    "import('./myModule.js')\n",
    ".then(myModule => {\n",
    "  console.log(myModule.default);\n",
    "});"
   ]
  },
  {
   "cell_type": "markdown",
   "id": "9ce6ec5f",
   "metadata": {},
   "source": [
    "上面的代码也可以使用具名输入的形式。"
   ]
  },
  {
   "cell_type": "code",
   "execution_count": null,
   "id": "0bc34ea9",
   "metadata": {
    "attributes": {
     "classes": [
      "javascript"
     ],
     "id": ""
    }
   },
   "outputs": [],
   "source": [
    "import('./myModule.js')\n",
    ".then(({default: theDefault}) => {\n",
    "  console.log(theDefault);\n",
    "});"
   ]
  },
  {
   "cell_type": "markdown",
   "id": "34eb036c",
   "metadata": {},
   "source": [
    "如果想同时加载多个模块，可以采用下面的写法。"
   ]
  },
  {
   "cell_type": "code",
   "execution_count": null,
   "id": "3194b75c",
   "metadata": {
    "attributes": {
     "classes": [
      "javascript"
     ],
     "id": ""
    }
   },
   "outputs": [],
   "source": [
    "Promise.all([\n",
    "  import('./module1.js'),\n",
    "  import('./module2.js'),\n",
    "  import('./module3.js'),\n",
    "])\n",
    ".then(([module1, module2, module3]) => {\n",
    "   ···\n",
    "});"
   ]
  },
  {
   "cell_type": "markdown",
   "id": "053bb691",
   "metadata": {},
   "source": [
    "`import()`也可以用在 async 函数之中。"
   ]
  },
  {
   "cell_type": "code",
   "execution_count": null,
   "id": "094d6f29",
   "metadata": {
    "attributes": {
     "classes": [
      "javascript"
     ],
     "id": ""
    }
   },
   "outputs": [],
   "source": [
    "async function main() {\n",
    "  const myModule = await import('./myModule.js');\n",
    "  const {export1, export2} = await import('./myModule.js');\n",
    "  const [module1, module2, module3] =\n",
    "    await Promise.all([\n",
    "      import('./module1.js'),\n",
    "      import('./module2.js'),\n",
    "      import('./module3.js'),\n",
    "    ]);\n",
    "}\n",
    "main();"
   ]
  },
  {
   "cell_type": "markdown",
   "id": "4d94aecf",
   "metadata": {},
   "source": [
    "## import.meta\n",
    "\n",
    "开发者使用一个模块时，有时需要知道模板本身的一些信息（比如模块的路径）。[ES2020](https://github.com/tc39/proposal-import-meta) 为 import 命令添加了一个元属性`import.meta`，返回当前模块的元信息。\n",
    "\n",
    "`import.meta`只能在模块内部使用，如果在模块外部使用会报错。\n",
    "\n",
    "这个属性返回一个对象，该对象的各种属性就是当前运行的脚本的元信息。具体包含哪些属性，标准没有规定，由各个运行环境自行决定。一般来说，`import.meta`至少会有下面两个属性。\n",
    "\n",
    "**（1）import.meta.url**\n",
    "\n",
    "`import.meta.url`返回当前模块的 URL 路径。举例来说，当前模块主文件的路径是`https://foo.com/main.js`，`import.meta.url`就返回这个路径。如果模块里面还有一个数据文件`data.txt`，那么就可以用下面的代码，获取这个数据文件的路径。"
   ]
  },
  {
   "cell_type": "code",
   "execution_count": null,
   "id": "b22a9cd0",
   "metadata": {
    "attributes": {
     "classes": [
      "javascript"
     ],
     "id": ""
    }
   },
   "outputs": [],
   "source": [
    "new URL('data.txt', import.meta.url)"
   ]
  },
  {
   "cell_type": "markdown",
   "id": "87fe467e",
   "metadata": {},
   "source": [
    "注意，Node.js 环境中，`import.meta.url`返回的总是本地路径，即`file:URL`协议的字符串，比如`file:///home/user/foo.js`。\n",
    "\n",
    "**（2）import.meta.scriptElement**\n",
    "\n",
    "`import.meta.scriptElement`是浏览器特有的元属性，返回加载模块的那个`<script>`元素，相当于`document.currentScript`属性。"
   ]
  },
  {
   "cell_type": "code",
   "execution_count": null,
   "id": "90878f9d",
   "metadata": {
    "attributes": {
     "classes": [
      "javascript"
     ],
     "id": ""
    }
   },
   "outputs": [],
   "source": [
    "// HTML 代码为\n",
    "// <script type=\"module\" src=\"my-module.js\" data-foo=\"abc\"></script>\n",
    "\n",
    "// my-module.js 内部执行下面的代码\n",
    "import.meta.scriptElement.dataset.foo\n",
    "// \"abc\""
   ]
  }
 ],
 "metadata": {},
 "nbformat": 4,
 "nbformat_minor": 5
}

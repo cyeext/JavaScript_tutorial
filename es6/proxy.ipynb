{
 "cells": [
  {
   "cell_type": "markdown",
   "id": "0273dee6",
   "metadata": {},
   "source": [
    "# Proxy\n",
    "\n",
    "## 概述\n",
    "\n",
    "Proxy 用于修改某些操作的默认行为，等同于在语言层面做出修改，所以属于一种“元编程”（meta programming），即对编程语言进行编程。\n",
    "\n",
    "Proxy 可以理解成，在目标对象之前架设一层“拦截”，外界对该对象的访问，都必须先通过这层拦截，因此提供了一种机制，可以对外界的访问进行过滤和改写。Proxy 这个词的原意是代理，用在这里表示由它来“代理”某些操作，可以译为“代理器”。"
   ]
  },
  {
   "cell_type": "code",
   "execution_count": null,
   "id": "42dd7960",
   "metadata": {
    "attributes": {
     "classes": [
      "javascript"
     ],
     "id": ""
    }
   },
   "outputs": [],
   "source": [
    "var obj = new Proxy({}, {\n",
    "  get: function (target, propKey, receiver) {\n",
    "    console.log(`getting ${propKey}!`);\n",
    "    return Reflect.get(target, propKey, receiver);\n",
    "  },\n",
    "  set: function (target, propKey, value, receiver) {\n",
    "    console.log(`setting ${propKey}!`);\n",
    "    return Reflect.set(target, propKey, value, receiver);\n",
    "  }\n",
    "});"
   ]
  },
  {
   "cell_type": "markdown",
   "id": "35163c1b",
   "metadata": {},
   "source": [
    "上面代码对一个空对象架设了一层拦截，重定义了属性的读取（`get`）和设置（`set`）行为。这里暂时先不解释具体的语法，只看运行结果。对设置了拦截行为的对象`obj`，去读写它的属性，就会得到下面的结果。"
   ]
  },
  {
   "cell_type": "code",
   "execution_count": null,
   "id": "187fda4c",
   "metadata": {
    "attributes": {
     "classes": [
      "javascript"
     ],
     "id": ""
    }
   },
   "outputs": [],
   "source": [
    "obj.count = 1\n",
    "//  setting count!\n",
    "++obj.count\n",
    "//  getting count!\n",
    "//  setting count!\n",
    "//  2"
   ]
  },
  {
   "cell_type": "markdown",
   "id": "c4f281df",
   "metadata": {},
   "source": [
    "上面代码说明，Proxy 实际上重载（overload）了点运算符，即用自己的定义覆盖了语言的原始定义。\n",
    "\n",
    "ES6 原生提供 Proxy 构造函数，用来生成 Proxy 实例。"
   ]
  },
  {
   "cell_type": "code",
   "execution_count": null,
   "id": "2101120c",
   "metadata": {
    "attributes": {
     "classes": [
      "javascript"
     ],
     "id": ""
    }
   },
   "outputs": [],
   "source": [
    "var proxy = new Proxy(target, handler);"
   ]
  },
  {
   "cell_type": "markdown",
   "id": "0d953bbb",
   "metadata": {},
   "source": [
    "Proxy 对象的所有用法，都是上面这种形式，不同的只是`handler`参数的写法。其中，`new Proxy()`表示生成一个`Proxy`实例，`target`参数表示所要拦截的目标对象，`handler`参数也是一个对象，用来定制拦截行为。\n",
    "\n",
    "下面是另一个拦截读取属性行为的例子。"
   ]
  },
  {
   "cell_type": "code",
   "execution_count": null,
   "id": "41c2f87d",
   "metadata": {
    "attributes": {
     "classes": [
      "javascript"
     ],
     "id": ""
    }
   },
   "outputs": [],
   "source": [
    "var proxy = new Proxy({}, {\n",
    "  get: function(target, propKey) {\n",
    "    return 35;\n",
    "  }\n",
    "});\n",
    "\n",
    "proxy.time // 35\n",
    "proxy.name // 35\n",
    "proxy.title // 35"
   ]
  },
  {
   "cell_type": "markdown",
   "id": "a77208be",
   "metadata": {},
   "source": [
    "上面代码中，作为构造函数，`Proxy`接受两个参数。第一个参数是所要代理的目标对象（上例是一个空对象），即如果没有`Proxy`的介入，操作原来要访问的就是这个对象；第二个参数是一个配置对象，对于每一个被代理的操作，需要提供一个对应的处理函数，该函数将拦截对应的操作。比如，上面代码中，配置对象有一个`get`方法，用来拦截对目标对象属性的访问请求。`get`方法的两个参数分别是目标对象和所要访问的属性。可以看到，由于拦截函数总是返回`35`，所以访问任何属性都得到`35`。\n",
    "\n",
    "注意，要使得`Proxy`起作用，必须针对`Proxy`实例（上例是`proxy`对象）进行操作，而不是针对目标对象（上例是空对象）进行操作。\n",
    "\n",
    "如果`handler`没有设置任何拦截，那就等同于直接通向原对象。"
   ]
  },
  {
   "cell_type": "code",
   "execution_count": null,
   "id": "fbf79b58",
   "metadata": {
    "attributes": {
     "classes": [
      "javascript"
     ],
     "id": ""
    }
   },
   "outputs": [],
   "source": [
    "var target = {};\n",
    "var handler = {};\n",
    "var proxy = new Proxy(target, handler);\n",
    "proxy.a = 'b';\n",
    "target.a // \"b\""
   ]
  },
  {
   "cell_type": "markdown",
   "id": "609e8e5a",
   "metadata": {},
   "source": [
    "上面代码中，`handler`是一个空对象，没有任何拦截效果，访问`proxy`就等同于访问`target`。\n",
    "\n",
    "一个技巧是将 Proxy 对象，设置到`object.proxy`属性，从而可以在`object`对象上调用。"
   ]
  },
  {
   "cell_type": "code",
   "execution_count": null,
   "id": "d0b9ca50",
   "metadata": {
    "attributes": {
     "classes": [
      "javascript"
     ],
     "id": ""
    }
   },
   "outputs": [],
   "source": [
    "var object = { proxy: new Proxy(target, handler) };"
   ]
  },
  {
   "cell_type": "markdown",
   "id": "c5c45053",
   "metadata": {},
   "source": [
    "Proxy 实例也可以作为其他对象的原型对象。"
   ]
  },
  {
   "cell_type": "code",
   "execution_count": null,
   "id": "fdbcbef7",
   "metadata": {
    "attributes": {
     "classes": [
      "javascript"
     ],
     "id": ""
    }
   },
   "outputs": [],
   "source": [
    "var proxy = new Proxy({}, {\n",
    "  get: function(target, propKey) {\n",
    "    return 35;\n",
    "  }\n",
    "});\n",
    "\n",
    "let obj = Object.create(proxy);\n",
    "obj.time // 35"
   ]
  },
  {
   "cell_type": "markdown",
   "id": "c86072f4",
   "metadata": {},
   "source": [
    "上面代码中，`proxy`对象是`obj`对象的原型，`obj`对象本身并没有`time`属性，所以根据原型链，会在`proxy`对象上读取该属性，导致被拦截。\n",
    "\n",
    "同一个拦截器函数，可以设置拦截多个操作。"
   ]
  },
  {
   "cell_type": "code",
   "execution_count": null,
   "id": "8699a607",
   "metadata": {
    "attributes": {
     "classes": [
      "javascript"
     ],
     "id": ""
    }
   },
   "outputs": [],
   "source": [
    "var handler = {\n",
    "  get: function(target, name) {\n",
    "    if (name === 'prototype') {\n",
    "      return Object.prototype;\n",
    "    }\n",
    "    return 'Hello, ' + name;\n",
    "  },\n",
    "\n",
    "  apply: function(target, thisBinding, args) {\n",
    "    return args[0];\n",
    "  },\n",
    "\n",
    "  construct: function(target, args) {\n",
    "    return {value: args[1]};\n",
    "  }\n",
    "};\n",
    "\n",
    "var fproxy = new Proxy(function(x, y) {\n",
    "  return x + y;\n",
    "}, handler);\n",
    "\n",
    "fproxy(1, 2) // 1\n",
    "new fproxy(1, 2) // {value: 2}\n",
    "fproxy.prototype === Object.prototype // true\n",
    "fproxy.foo === \"Hello, foo\" // true"
   ]
  },
  {
   "cell_type": "markdown",
   "id": "1ac91aac",
   "metadata": {},
   "source": [
    "对于可以设置、但没有设置拦截的操作，则直接落在目标对象上，按照原先的方式产生结果。\n",
    "\n",
    "下面是 Proxy 支持的拦截操作一览，一共 13 种。\n",
    "\n",
    "- **get(target, propKey, receiver)**：拦截对象属性的读取，比如`proxy.foo`和`proxy['foo']`。\n",
    "- **set(target, propKey, value, receiver)**：拦截对象属性的设置，比如`proxy.foo = v`或`proxy['foo'] = v`，返回一个布尔值。\n",
    "- **has(target, propKey)**：拦截`propKey in proxy`的操作，返回一个布尔值。\n",
    "- **deleteProperty(target, propKey)**：拦截`delete proxy[propKey]`的操作，返回一个布尔值。\n",
    "- **ownKeys(target)**：拦截`Object.getOwnPropertyNames(proxy)`、`Object.getOwnPropertySymbols(proxy)`、`Object.keys(proxy)`、`for...in`循环，返回一个数组。该方法返回目标对象所有自身的属性的属性名，而`Object.keys()`的返回结果仅包括目标对象自身的可遍历属性。\n",
    "- **getOwnPropertyDescriptor(target, propKey)**：拦截`Object.getOwnPropertyDescriptor(proxy, propKey)`，返回属性的描述对象。\n",
    "- **defineProperty(target, propKey, propDesc)**：拦截`Object.defineProperty(proxy, propKey, propDesc）`、`Object.defineProperties(proxy, propDescs)`，返回一个布尔值。\n",
    "- **preventExtensions(target)**：拦截`Object.preventExtensions(proxy)`，返回一个布尔值。\n",
    "- **getPrototypeOf(target)**：拦截`Object.getPrototypeOf(proxy)`，返回一个对象。\n",
    "- **isExtensible(target)**：拦截`Object.isExtensible(proxy)`，返回一个布尔值。\n",
    "- **setPrototypeOf(target, proto)**：拦截`Object.setPrototypeOf(proxy, proto)`，返回一个布尔值。如果目标对象是函数，那么还有两种额外操作可以拦截。\n",
    "- **apply(target, object, args)**：拦截 Proxy 实例作为函数调用的操作，比如`proxy(...args)`、`proxy.call(object, ...args)`、`proxy.apply(...)`。\n",
    "- **construct(target, args)**：拦截 Proxy 实例作为构造函数调用的操作，比如`new proxy(...args)`。\n",
    "\n",
    "## Proxy 实例的方法\n",
    "\n",
    "下面是上面这些拦截方法的详细介绍。\n",
    "\n",
    "### get()\n",
    "\n",
    "`get`方法用于拦截某个属性的读取操作，可以接受三个参数，依次为目标对象、属性名和 proxy 实例本身（严格地说，是操作行为所针对的对象），其中最后一个参数可选。\n",
    "\n",
    "`get`方法的用法，上文已经有一个例子，下面是另一个拦截读取操作的例子。"
   ]
  },
  {
   "cell_type": "code",
   "execution_count": null,
   "id": "3a7cd18e",
   "metadata": {
    "attributes": {
     "classes": [
      "javascript"
     ],
     "id": ""
    }
   },
   "outputs": [],
   "source": [
    "var person = {\n",
    "  name: \"张三\"\n",
    "};\n",
    "\n",
    "var proxy = new Proxy(person, {\n",
    "  get: function(target, propKey) {\n",
    "    if (propKey in target) {\n",
    "      return target[propKey];\n",
    "    } else {\n",
    "      throw new ReferenceError(\"Prop name \\\"\" + propKey + \"\\\" does not exist.\");\n",
    "    }\n",
    "  }\n",
    "});\n",
    "\n",
    "proxy.name // \"张三\"\n",
    "proxy.age // 抛出一个错误"
   ]
  },
  {
   "cell_type": "markdown",
   "id": "221a8cce",
   "metadata": {},
   "source": [
    "上面代码表示，如果访问目标对象不存在的属性，会抛出一个错误。如果没有这个拦截函数，访问不存在的属性，只会返回`undefined`。\n",
    "\n",
    "`get`方法可以继承。"
   ]
  },
  {
   "cell_type": "code",
   "execution_count": null,
   "id": "a7f089f6",
   "metadata": {
    "attributes": {
     "classes": [
      "javascript"
     ],
     "id": ""
    }
   },
   "outputs": [],
   "source": [
    "let proto = new Proxy({}, {\n",
    "  get(target, propertyKey, receiver) {\n",
    "    console.log('GET ' + propertyKey);\n",
    "    return target[propertyKey];\n",
    "  }\n",
    "});\n",
    "\n",
    "let obj = Object.create(proto);\n",
    "obj.foo // \"GET foo\""
   ]
  },
  {
   "cell_type": "markdown",
   "id": "07bee3d1",
   "metadata": {},
   "source": [
    "上面代码中，拦截操作定义在`Prototype`对象上面，所以如果读取`obj`对象继承的属性时，拦截会生效。\n",
    "\n",
    "下面的例子使用`get`拦截，实现数组读取负数的索引。"
   ]
  },
  {
   "cell_type": "code",
   "execution_count": null,
   "id": "21899eea",
   "metadata": {
    "attributes": {
     "classes": [
      "javascript"
     ],
     "id": ""
    }
   },
   "outputs": [],
   "source": [
    "function createArray(...elements) {\n",
    "  let handler = {\n",
    "    get(target, propKey, receiver) {\n",
    "      let index = Number(propKey);\n",
    "      if (index < 0) {\n",
    "        propKey = String(target.length + index);\n",
    "      }\n",
    "      return Reflect.get(target, propKey, receiver);\n",
    "    }\n",
    "  };\n",
    "\n",
    "  let target = [];\n",
    "  target.push(...elements);\n",
    "  return new Proxy(target, handler);\n",
    "}\n",
    "\n",
    "let arr = createArray('a', 'b', 'c');\n",
    "arr[-1] // c"
   ]
  },
  {
   "cell_type": "markdown",
   "id": "b94d002d",
   "metadata": {},
   "source": [
    "上面代码中，数组的位置参数是`-1`，就会输出数组的倒数第一个成员。\n",
    "\n",
    "利用 Proxy，可以将读取属性的操作（`get`），转变为执行某个函数，从而实现属性的链式操作。"
   ]
  },
  {
   "cell_type": "code",
   "execution_count": null,
   "id": "e6b4ad6c",
   "metadata": {
    "attributes": {
     "classes": [
      "javascript"
     ],
     "id": ""
    }
   },
   "outputs": [],
   "source": [
    "var pipe = function (value) {\n",
    "  var funcStack = [];\n",
    "  var oproxy = new Proxy({} , {\n",
    "    get : function (pipeObject, fnName) {\n",
    "      if (fnName === 'get') {\n",
    "        return funcStack.reduce(function (val, fn) {\n",
    "          return fn(val);\n",
    "        },value);\n",
    "      }\n",
    "      funcStack.push(window[fnName]);\n",
    "      return oproxy;\n",
    "    }\n",
    "  });\n",
    "\n",
    "  return oproxy;\n",
    "}\n",
    "\n",
    "var double = n => n * 2;\n",
    "var pow    = n => n * n;\n",
    "var reverseInt = n => n.toString().split(\"\").reverse().join(\"\") | 0;\n",
    "\n",
    "pipe(3).double.pow.reverseInt.get; // 63"
   ]
  },
  {
   "cell_type": "markdown",
   "id": "f3c60993",
   "metadata": {},
   "source": [
    "上面代码设置 Proxy 以后，达到了将函数名链式使用的效果。\n",
    "\n",
    "下面的例子则是利用`get`拦截，实现一个生成各种 DOM 节点的通用函数`dom`。"
   ]
  },
  {
   "cell_type": "code",
   "execution_count": null,
   "id": "f877c6db",
   "metadata": {
    "attributes": {
     "classes": [
      "javascript"
     ],
     "id": ""
    }
   },
   "outputs": [],
   "source": [
    "const dom = new Proxy({}, {\n",
    "  get(target, property) {\n",
    "    return function(attrs = {}, ...children) {\n",
    "      const el = document.createElement(property);\n",
    "      for (let prop of Object.keys(attrs)) {\n",
    "        el.setAttribute(prop, attrs[prop]);\n",
    "      }\n",
    "      for (let child of children) {\n",
    "        if (typeof child === 'string') {\n",
    "          child = document.createTextNode(child);\n",
    "        }\n",
    "        el.appendChild(child);\n",
    "      }\n",
    "      return el;\n",
    "    }\n",
    "  }\n",
    "});\n",
    "\n",
    "const el = dom.div({},\n",
    "  'Hello, my name is ',\n",
    "  dom.a({href: '//example.com'}, 'Mark'),\n",
    "  '. I like:',\n",
    "  dom.ul({},\n",
    "    dom.li({}, 'The web'),\n",
    "    dom.li({}, 'Food'),\n",
    "    dom.li({}, '…actually that\\'s it')\n",
    "  )\n",
    ");\n",
    "\n",
    "document.body.appendChild(el);"
   ]
  },
  {
   "cell_type": "markdown",
   "id": "f3fb43cb",
   "metadata": {},
   "source": [
    "下面是一个`get`方法的第三个参数的例子，它总是指向原始的读操作所在的那个对象，一般情况下就是 Proxy 实例。"
   ]
  },
  {
   "cell_type": "code",
   "execution_count": null,
   "id": "c0902d47",
   "metadata": {
    "attributes": {
     "classes": [
      "javascript"
     ],
     "id": ""
    }
   },
   "outputs": [],
   "source": [
    "const proxy = new Proxy({}, {\n",
    "  get: function(target, key, receiver) {\n",
    "    return receiver;\n",
    "  }\n",
    "});\n",
    "proxy.getReceiver === proxy // true"
   ]
  },
  {
   "cell_type": "markdown",
   "id": "3ac45b2f",
   "metadata": {},
   "source": [
    "上面代码中，`proxy`对象的`getReceiver`属性是由`proxy`对象提供的，所以`receiver`指向`proxy`对象。"
   ]
  },
  {
   "cell_type": "code",
   "execution_count": null,
   "id": "4ace1a1a",
   "metadata": {
    "attributes": {
     "classes": [
      "javascript"
     ],
     "id": ""
    }
   },
   "outputs": [],
   "source": [
    "const proxy = new Proxy({}, {\n",
    "  get: function(target, key, receiver) {\n",
    "    return receiver;\n",
    "  }\n",
    "});\n",
    "\n",
    "const d = Object.create(proxy);\n",
    "d.a === d // true"
   ]
  },
  {
   "cell_type": "markdown",
   "id": "0adefe57",
   "metadata": {},
   "source": [
    "上面代码中，`d`对象本身没有`a`属性，所以读取`d.a`的时候，会去`d`的原型`proxy`对象找。这时，`receiver`就指向`d`，代表原始的读操作所在的那个对象。\n",
    "\n",
    "如果一个属性不可配置（configurable）且不可写（writable），则 Proxy 不能修改该属性，否则通过 Proxy 对象访问该属性会报错。"
   ]
  },
  {
   "cell_type": "code",
   "execution_count": null,
   "id": "8e0ba2bb",
   "metadata": {
    "attributes": {
     "classes": [
      "javascript"
     ],
     "id": ""
    }
   },
   "outputs": [],
   "source": [
    "const target = Object.defineProperties({}, {\n",
    "  foo: {\n",
    "    value: 123,\n",
    "    writable: false,\n",
    "    configurable: false\n",
    "  },\n",
    "});\n",
    "\n",
    "const handler = {\n",
    "  get(target, propKey) {\n",
    "    return 'abc';\n",
    "  }\n",
    "};\n",
    "\n",
    "const proxy = new Proxy(target, handler);\n",
    "\n",
    "proxy.foo\n",
    "// TypeError: Invariant check failed"
   ]
  },
  {
   "cell_type": "markdown",
   "id": "6ec68ecf",
   "metadata": {},
   "source": [
    "### set()\n",
    "\n",
    "`set`方法用来拦截某个属性的赋值操作，可以接受四个参数，依次为目标对象、属性名、属性值和 Proxy 实例本身，其中最后一个参数可选。\n",
    "\n",
    "假定`Person`对象有一个`age`属性，该属性应该是一个不大于 200 的整数，那么可以使用`Proxy`保证`age`的属性值符合要求。"
   ]
  },
  {
   "cell_type": "code",
   "execution_count": null,
   "id": "ea14589d",
   "metadata": {
    "attributes": {
     "classes": [
      "javascript"
     ],
     "id": ""
    }
   },
   "outputs": [],
   "source": [
    "let validator = {\n",
    "  set: function(obj, prop, value) {\n",
    "    if (prop === 'age') {\n",
    "      if (!Number.isInteger(value)) {\n",
    "        throw new TypeError('The age is not an integer');\n",
    "      }\n",
    "      if (value > 200) {\n",
    "        throw new RangeError('The age seems invalid');\n",
    "      }\n",
    "    }\n",
    "\n",
    "    // 对于满足条件的 age 属性以及其他属性，直接保存\n",
    "    obj[prop] = value;\n",
    "    return true;\n",
    "  }\n",
    "};\n",
    "\n",
    "let person = new Proxy({}, validator);\n",
    "\n",
    "person.age = 100;\n",
    "\n",
    "person.age // 100\n",
    "person.age = 'young' // 报错\n",
    "person.age = 300 // 报错"
   ]
  },
  {
   "cell_type": "markdown",
   "id": "d6d5f935",
   "metadata": {},
   "source": [
    "上面代码中，由于设置了存值函数`set`，任何不符合要求的`age`属性赋值，都会抛出一个错误，这是数据验证的一种实现方法。利用`set`方法，还可以数据绑定，即每当对象发生变化时，会自动更新 DOM。\n",
    "\n",
    "有时，我们会在对象上面设置内部属性，属性名的第一个字符使用下划线开头，表示这些属性不应该被外部使用。结合`get`和`set`方法，就可以做到防止这些内部属性被外部读写。"
   ]
  },
  {
   "cell_type": "code",
   "execution_count": null,
   "id": "bf820626",
   "metadata": {
    "attributes": {
     "classes": [
      "javascript"
     ],
     "id": ""
    }
   },
   "outputs": [],
   "source": [
    "const handler = {\n",
    "  get (target, key) {\n",
    "    invariant(key, 'get');\n",
    "    return target[key];\n",
    "  },\n",
    "  set (target, key, value) {\n",
    "    invariant(key, 'set');\n",
    "    target[key] = value;\n",
    "    return true;\n",
    "  }\n",
    "};\n",
    "function invariant (key, action) {\n",
    "  if (key[0] === '_') {\n",
    "    throw new Error(`Invalid attempt to ${action} private \"${key}\" property`);\n",
    "  }\n",
    "}\n",
    "const target = {};\n",
    "const proxy = new Proxy(target, handler);\n",
    "proxy._prop\n",
    "// Error: Invalid attempt to get private \"_prop\" property\n",
    "proxy._prop = 'c'\n",
    "// Error: Invalid attempt to set private \"_prop\" property"
   ]
  },
  {
   "cell_type": "markdown",
   "id": "9f6f3d1f",
   "metadata": {},
   "source": [
    "上面代码中，只要读写的属性名的第一个字符是下划线，一律抛错，从而达到禁止读写内部属性的目的。\n",
    "\n",
    "下面是`set`方法第四个参数的例子。"
   ]
  },
  {
   "cell_type": "code",
   "execution_count": null,
   "id": "1ea2fada",
   "metadata": {
    "attributes": {
     "classes": [
      "javascript"
     ],
     "id": ""
    }
   },
   "outputs": [],
   "source": [
    "const handler = {\n",
    "  set: function(obj, prop, value, receiver) {\n",
    "    obj[prop] = receiver;\n",
    "    return true;\n",
    "  }\n",
    "};\n",
    "const proxy = new Proxy({}, handler);\n",
    "proxy.foo = 'bar';\n",
    "proxy.foo === proxy // true"
   ]
  },
  {
   "cell_type": "markdown",
   "id": "261043eb",
   "metadata": {},
   "source": [
    "上面代码中，`set`方法的第四个参数`receiver`，指的是原始的操作行为所在的那个对象，一般情况下是`proxy`实例本身，请看下面的例子。"
   ]
  },
  {
   "cell_type": "code",
   "execution_count": null,
   "id": "a2551ad5",
   "metadata": {
    "attributes": {
     "classes": [
      "javascript"
     ],
     "id": ""
    }
   },
   "outputs": [],
   "source": [
    "const handler = {\n",
    "  set: function(obj, prop, value, receiver) {\n",
    "    obj[prop] = receiver;\n",
    "    return true;\n",
    "  }\n",
    "};\n",
    "const proxy = new Proxy({}, handler);\n",
    "const myObj = {};\n",
    "Object.setPrototypeOf(myObj, proxy);\n",
    "\n",
    "myObj.foo = 'bar';\n",
    "myObj.foo === myObj // true"
   ]
  },
  {
   "cell_type": "markdown",
   "id": "82751e51",
   "metadata": {},
   "source": [
    "上面代码中，设置`myObj.foo`属性的值时，`myObj`并没有`foo`属性，因此引擎会到`myObj`的原型链去找`foo`属性。`myObj`的原型对象`proxy`是一个 Proxy 实例，设置它的`foo`属性会触发`set`方法。这时，第四个参数`receiver`就指向原始赋值行为所在的对象`myObj`。\n",
    "\n",
    "注意，如果目标对象自身的某个属性不可写，那么`set`方法将不起作用。"
   ]
  },
  {
   "cell_type": "code",
   "execution_count": null,
   "id": "6bb0f9ea",
   "metadata": {
    "attributes": {
     "classes": [
      "javascript"
     ],
     "id": ""
    }
   },
   "outputs": [],
   "source": [
    "const obj = {};\n",
    "Object.defineProperty(obj, 'foo', {\n",
    "  value: 'bar',\n",
    "  writable: false\n",
    "});\n",
    "\n",
    "const handler = {\n",
    "  set: function(obj, prop, value, receiver) {\n",
    "    obj[prop] = 'baz';\n",
    "    return true;\n",
    "  }\n",
    "};\n",
    "\n",
    "const proxy = new Proxy(obj, handler);\n",
    "proxy.foo = 'baz';\n",
    "proxy.foo // \"bar\""
   ]
  },
  {
   "cell_type": "markdown",
   "id": "8aa9f451",
   "metadata": {},
   "source": [
    "上面代码中，`obj.foo`属性不可写，Proxy 对这个属性的`set`代理将不会生效。\n",
    "\n",
    "注意，`set`代理应当返回一个布尔值。严格模式下，`set`代理如果没有返回`true`，就会报错。"
   ]
  },
  {
   "cell_type": "code",
   "execution_count": null,
   "id": "3a3c08db",
   "metadata": {
    "attributes": {
     "classes": [
      "javascript"
     ],
     "id": ""
    }
   },
   "outputs": [],
   "source": [
    "'use strict';\n",
    "const handler = {\n",
    "  set: function(obj, prop, value, receiver) {\n",
    "    obj[prop] = receiver;\n",
    "    // 无论有没有下面这一行，都会报错\n",
    "    return false;\n",
    "  }\n",
    "};\n",
    "const proxy = new Proxy({}, handler);\n",
    "proxy.foo = 'bar';\n",
    "// TypeError: 'set' on proxy: trap returned falsish for property 'foo'"
   ]
  },
  {
   "cell_type": "markdown",
   "id": "f453527a",
   "metadata": {},
   "source": [
    "上面代码中，严格模式下，`set`代理返回`false`或者`undefined`，都会报错。\n",
    "\n",
    "### apply()\n",
    "\n",
    "`apply`方法拦截函数的调用、`call`和`apply`操作。\n",
    "\n",
    "`apply`方法可以接受三个参数，分别是目标对象、目标对象的上下文对象（`this`）和目标对象的参数数组。"
   ]
  },
  {
   "cell_type": "code",
   "execution_count": null,
   "id": "e25fb70c",
   "metadata": {
    "attributes": {
     "classes": [
      "javascript"
     ],
     "id": ""
    }
   },
   "outputs": [],
   "source": [
    "var handler = {\n",
    "  apply (target, ctx, args) {\n",
    "    return Reflect.apply(...arguments);\n",
    "  }\n",
    "};"
   ]
  },
  {
   "cell_type": "markdown",
   "id": "f1855aea",
   "metadata": {},
   "source": [
    "下面是一个例子。"
   ]
  },
  {
   "cell_type": "code",
   "execution_count": null,
   "id": "7e248351",
   "metadata": {
    "attributes": {
     "classes": [
      "javascript"
     ],
     "id": ""
    }
   },
   "outputs": [],
   "source": [
    "var target = function () { return 'I am the target'; };\n",
    "var handler = {\n",
    "  apply: function () {\n",
    "    return 'I am the proxy';\n",
    "  }\n",
    "};\n",
    "\n",
    "var p = new Proxy(target, handler);\n",
    "\n",
    "p()\n",
    "// \"I am the proxy\""
   ]
  },
  {
   "cell_type": "markdown",
   "id": "1f2d988f",
   "metadata": {},
   "source": [
    "上面代码中，变量`p`是 Proxy 的实例，当它作为函数调用时（`p()`），就会被`apply`方法拦截，返回一个字符串。\n",
    "\n",
    "下面是另外一个例子。"
   ]
  },
  {
   "cell_type": "code",
   "execution_count": null,
   "id": "2e8854be",
   "metadata": {
    "attributes": {
     "classes": [
      "javascript"
     ],
     "id": ""
    }
   },
   "outputs": [],
   "source": [
    "var twice = {\n",
    "  apply (target, ctx, args) {\n",
    "    return Reflect.apply(...arguments) * 2;\n",
    "  }\n",
    "};\n",
    "function sum (left, right) {\n",
    "  return left + right;\n",
    "};\n",
    "var proxy = new Proxy(sum, twice);\n",
    "proxy(1, 2) // 6\n",
    "proxy.call(null, 5, 6) // 22\n",
    "proxy.apply(null, [7, 8]) // 30"
   ]
  },
  {
   "cell_type": "markdown",
   "id": "7e106324",
   "metadata": {},
   "source": [
    "上面代码中，每当执行`proxy`函数（直接调用或`call`和`apply`调用），就会被`apply`方法拦截。\n",
    "\n",
    "另外，直接调用`Reflect.apply`方法，也会被拦截。"
   ]
  },
  {
   "cell_type": "code",
   "execution_count": null,
   "id": "bb8ba696",
   "metadata": {
    "attributes": {
     "classes": [
      "javascript"
     ],
     "id": ""
    }
   },
   "outputs": [],
   "source": [
    "Reflect.apply(proxy, null, [9, 10]) // 38"
   ]
  },
  {
   "cell_type": "markdown",
   "id": "71cbb6ae",
   "metadata": {},
   "source": [
    "### has()\n",
    "\n",
    "`has()`方法用来拦截`HasProperty`操作，即判断对象是否具有某个属性时，这个方法会生效。典型的操作就是`in`运算符。\n",
    "\n",
    "`has()`方法可以接受两个参数，分别是目标对象、需查询的属性名。\n",
    "\n",
    "下面的例子使用`has()`方法隐藏某些属性，不被`in`运算符发现。"
   ]
  },
  {
   "cell_type": "code",
   "execution_count": null,
   "id": "8005f2a9",
   "metadata": {
    "attributes": {
     "classes": [
      "javascript"
     ],
     "id": ""
    }
   },
   "outputs": [],
   "source": [
    "var handler = {\n",
    "  has (target, key) {\n",
    "    if (key[0] === '_') {\n",
    "      return false;\n",
    "    }\n",
    "    return key in target;\n",
    "  }\n",
    "};\n",
    "var target = { _prop: 'foo', prop: 'foo' };\n",
    "var proxy = new Proxy(target, handler);\n",
    "'_prop' in proxy // false"
   ]
  },
  {
   "cell_type": "markdown",
   "id": "a09d4d35",
   "metadata": {},
   "source": [
    "上面代码中，如果原对象的属性名的第一个字符是下划线，`proxy.has()`就会返回`false`，从而不会被`in`运算符发现。\n",
    "\n",
    "如果原对象不可配置或者禁止扩展，这时`has()`拦截会报错。"
   ]
  },
  {
   "cell_type": "code",
   "execution_count": null,
   "id": "98d70256",
   "metadata": {
    "attributes": {
     "classes": [
      "javascript"
     ],
     "id": ""
    }
   },
   "outputs": [],
   "source": [
    "var obj = { a: 10 };\n",
    "Object.preventExtensions(obj);\n",
    "\n",
    "var p = new Proxy(obj, {\n",
    "  has: function(target, prop) {\n",
    "    return false;\n",
    "  }\n",
    "});\n",
    "\n",
    "'a' in p // TypeError is thrown"
   ]
  },
  {
   "cell_type": "markdown",
   "id": "1e8c2dc0",
   "metadata": {},
   "source": [
    "上面代码中，`obj`对象禁止扩展，结果使用`has`拦截就会报错。也就是说，如果某个属性不可配置（或者目标对象不可扩展），则`has()`方法就不得“隐藏”（即返回`false`）目标对象的该属性。\n",
    "\n",
    "值得注意的是，`has()`方法拦截的是`HasProperty`操作，而不是`HasOwnProperty`操作，即`has()`方法不判断一个属性是对象自身的属性，还是继承的属性。\n",
    "\n",
    "另外，虽然`for...in`循环也用到了`in`运算符，但是`has()`拦截对`for...in`循环不生效。"
   ]
  },
  {
   "cell_type": "code",
   "execution_count": null,
   "id": "0d359eed",
   "metadata": {
    "attributes": {
     "classes": [
      "javascript"
     ],
     "id": ""
    }
   },
   "outputs": [],
   "source": [
    "let stu1 = {name: '张三', score: 59};\n",
    "let stu2 = {name: '李四', score: 99};\n",
    "\n",
    "let handler = {\n",
    "  has(target, prop) {\n",
    "    if (prop === 'score' && target[prop] < 60) {\n",
    "      console.log(`${target.name} 不及格`);\n",
    "      return false;\n",
    "    }\n",
    "    return prop in target;\n",
    "  }\n",
    "}\n",
    "\n",
    "let oproxy1 = new Proxy(stu1, handler);\n",
    "let oproxy2 = new Proxy(stu2, handler);\n",
    "\n",
    "'score' in oproxy1\n",
    "// 张三 不及格\n",
    "// false\n",
    "\n",
    "'score' in oproxy2\n",
    "// true\n",
    "\n",
    "for (let a in oproxy1) {\n",
    "  console.log(oproxy1[a]);\n",
    "}\n",
    "// 张三\n",
    "// 59\n",
    "\n",
    "for (let b in oproxy2) {\n",
    "  console.log(oproxy2[b]);\n",
    "}\n",
    "// 李四\n",
    "// 99"
   ]
  },
  {
   "cell_type": "markdown",
   "id": "34b27842",
   "metadata": {},
   "source": [
    "上面代码中，`has()`拦截只对`in`运算符生效，对`for...in`循环不生效，导致不符合要求的属性没有被`for...in`循环所排除。\n",
    "\n",
    "### construct()\n",
    "\n",
    "`construct()`方法用于拦截`new`命令，下面是拦截对象的写法。"
   ]
  },
  {
   "cell_type": "code",
   "execution_count": null,
   "id": "f1214b24",
   "metadata": {
    "attributes": {
     "classes": [
      "javascript"
     ],
     "id": ""
    }
   },
   "outputs": [],
   "source": [
    "const handler = {\n",
    "  construct (target, args, newTarget) {\n",
    "    return new target(...args);\n",
    "  }\n",
    "};"
   ]
  },
  {
   "cell_type": "markdown",
   "id": "b2f02335",
   "metadata": {},
   "source": [
    "`construct()`方法可以接受三个参数。\n",
    "\n",
    "- `target`：目标对象。\n",
    "- `args`：构造函数的参数数组。\n",
    "- `newTarget`：创造实例对象时，`new`命令作用的构造函数（下面例子的`p`）。"
   ]
  },
  {
   "cell_type": "code",
   "execution_count": null,
   "id": "4e46b2ba",
   "metadata": {
    "attributes": {
     "classes": [
      "javascript"
     ],
     "id": ""
    }
   },
   "outputs": [],
   "source": [
    "const p = new Proxy(function () {}, {\n",
    "  construct: function(target, args) {\n",
    "    console.log('called: ' + args.join(', '));\n",
    "    return { value: args[0] * 10 };\n",
    "  }\n",
    "});\n",
    "\n",
    "(new p(1)).value\n",
    "// \"called: 1\"\n",
    "// 10"
   ]
  },
  {
   "cell_type": "markdown",
   "id": "9c3d047e",
   "metadata": {},
   "source": [
    "`construct()`方法返回的必须是一个对象，否则会报错。"
   ]
  },
  {
   "cell_type": "code",
   "execution_count": null,
   "id": "c0f394b2",
   "metadata": {
    "attributes": {
     "classes": [
      "javascript"
     ],
     "id": ""
    }
   },
   "outputs": [],
   "source": [
    "const p = new Proxy(function() {}, {\n",
    "  construct: function(target, argumentsList) {\n",
    "    return 1;\n",
    "  }\n",
    "});\n",
    "\n",
    "new p() // 报错\n",
    "// Uncaught TypeError: 'construct' on proxy: trap returned non-object ('1')"
   ]
  },
  {
   "cell_type": "markdown",
   "id": "a1277d96",
   "metadata": {},
   "source": [
    "另外，由于`construct()`拦截的是构造函数，所以它的目标对象必须是函数，否则就会报错。"
   ]
  },
  {
   "cell_type": "code",
   "execution_count": null,
   "id": "202b67d2",
   "metadata": {
    "attributes": {
     "classes": [
      "javascript"
     ],
     "id": ""
    }
   },
   "outputs": [],
   "source": [
    "const p = new Proxy({}, {\n",
    "  construct: function(target, argumentsList) {\n",
    "    return {};\n",
    "  }\n",
    "});\n",
    "\n",
    "new p() // 报错\n",
    "// Uncaught TypeError: p is not a constructor"
   ]
  },
  {
   "cell_type": "markdown",
   "id": "57ced905",
   "metadata": {},
   "source": [
    "上面例子中，拦截的目标对象不是一个函数，而是一个对象（`new Proxy()`的第一个参数），导致报错。\n",
    "\n",
    "注意，`construct()`方法中的`this`指向的是`handler`，而不是实例对象。"
   ]
  },
  {
   "cell_type": "code",
   "execution_count": null,
   "id": "3b61cb8e",
   "metadata": {
    "attributes": {
     "classes": [
      "javascript"
     ],
     "id": ""
    }
   },
   "outputs": [],
   "source": [
    "const handler = {\n",
    "  construct: function(target, args) {\n",
    "    console.log(this === handler);\n",
    "    return new target(...args);\n",
    "  }\n",
    "}\n",
    "\n",
    "let p = new Proxy(function () {}, handler);\n",
    "new p() // true"
   ]
  },
  {
   "cell_type": "markdown",
   "id": "ab8f9c3a",
   "metadata": {},
   "source": [
    "### deleteProperty()\n",
    "\n",
    "`deleteProperty`方法用于拦截`delete`操作，如果这个方法抛出错误或者返回`false`，当前属性就无法被`delete`命令删除。"
   ]
  },
  {
   "cell_type": "code",
   "execution_count": null,
   "id": "8852df69",
   "metadata": {
    "attributes": {
     "classes": [
      "javascript"
     ],
     "id": ""
    }
   },
   "outputs": [],
   "source": [
    "var handler = {\n",
    "  deleteProperty (target, key) {\n",
    "    invariant(key, 'delete');\n",
    "    delete target[key];\n",
    "    return true;\n",
    "  }\n",
    "};\n",
    "function invariant (key, action) {\n",
    "  if (key[0] === '_') {\n",
    "    throw new Error(`Invalid attempt to ${action} private \"${key}\" property`);\n",
    "  }\n",
    "}\n",
    "\n",
    "var target = { _prop: 'foo' };\n",
    "var proxy = new Proxy(target, handler);\n",
    "delete proxy._prop\n",
    "// Error: Invalid attempt to delete private \"_prop\" property"
   ]
  },
  {
   "cell_type": "markdown",
   "id": "93c838a2",
   "metadata": {},
   "source": [
    "上面代码中，`deleteProperty`方法拦截了`delete`操作符，删除第一个字符为下划线的属性会报错。\n",
    "\n",
    "注意，目标对象自身的不可配置（configurable）的属性，不能被`deleteProperty`方法删除，否则报错。\n",
    "\n",
    "### defineProperty()\n",
    "\n",
    "`defineProperty()`方法拦截了`Object.defineProperty()`操作。"
   ]
  },
  {
   "cell_type": "code",
   "execution_count": null,
   "id": "3e1e56ab",
   "metadata": {
    "attributes": {
     "classes": [
      "javascript"
     ],
     "id": ""
    }
   },
   "outputs": [],
   "source": [
    "var handler = {\n",
    "  defineProperty (target, key, descriptor) {\n",
    "    return false;\n",
    "  }\n",
    "};\n",
    "var target = {};\n",
    "var proxy = new Proxy(target, handler);\n",
    "proxy.foo = 'bar' // 不会生效"
   ]
  },
  {
   "cell_type": "markdown",
   "id": "0b3656e0",
   "metadata": {},
   "source": [
    "上面代码中，`defineProperty()`方法内部没有任何操作，只返回`false`，导致添加新属性总是无效。注意，这里的`false`只是用来提示操作失败，本身并不能阻止添加新属性。\n",
    "\n",
    "注意，如果目标对象不可扩展（non-extensible），则`defineProperty()`不能增加目标对象上不存在的属性，否则会报错。另外，如果目标对象的某个属性不可写（writable）或不可配置（configurable），则`defineProperty()`方法不得改变这两个设置。\n",
    "\n",
    "### getOwnPropertyDescriptor()\n",
    "\n",
    "`getOwnPropertyDescriptor()`方法拦截`Object.getOwnPropertyDescriptor()`，返回一个属性描述对象或者`undefined`。"
   ]
  },
  {
   "cell_type": "code",
   "execution_count": null,
   "id": "bba725d0",
   "metadata": {
    "attributes": {
     "classes": [
      "javascript"
     ],
     "id": ""
    }
   },
   "outputs": [],
   "source": [
    "var handler = {\n",
    "  getOwnPropertyDescriptor (target, key) {\n",
    "    if (key[0] === '_') {\n",
    "      return;\n",
    "    }\n",
    "    return Object.getOwnPropertyDescriptor(target, key);\n",
    "  }\n",
    "};\n",
    "var target = { _foo: 'bar', baz: 'tar' };\n",
    "var proxy = new Proxy(target, handler);\n",
    "Object.getOwnPropertyDescriptor(proxy, 'wat')\n",
    "// undefined\n",
    "Object.getOwnPropertyDescriptor(proxy, '_foo')\n",
    "// undefined\n",
    "Object.getOwnPropertyDescriptor(proxy, 'baz')\n",
    "// { value: 'tar', writable: true, enumerable: true, configurable: true }"
   ]
  },
  {
   "cell_type": "markdown",
   "id": "f3c996b7",
   "metadata": {},
   "source": [
    "上面代码中，`handler.getOwnPropertyDescriptor()`方法对于第一个字符为下划线的属性名会返回`undefined`。\n",
    "\n",
    "### getPrototypeOf()\n",
    "\n",
    "`getPrototypeOf()`方法主要用来拦截获取对象原型。具体来说，拦截下面这些操作。\n",
    "\n",
    "- `Object.prototype.__proto__`\n",
    "- `Object.prototype.isPrototypeOf()`\n",
    "- `Object.getPrototypeOf()`\n",
    "- `Reflect.getPrototypeOf()`\n",
    "- `instanceof`\n",
    "\n",
    "下面是一个例子。"
   ]
  },
  {
   "cell_type": "code",
   "execution_count": null,
   "id": "9a8f3991",
   "metadata": {
    "attributes": {
     "classes": [
      "javascript"
     ],
     "id": ""
    }
   },
   "outputs": [],
   "source": [
    "var proto = {};\n",
    "var p = new Proxy({}, {\n",
    "  getPrototypeOf(target) {\n",
    "    return proto;\n",
    "  }\n",
    "});\n",
    "Object.getPrototypeOf(p) === proto // true"
   ]
  },
  {
   "cell_type": "markdown",
   "id": "2d86ec8e",
   "metadata": {},
   "source": [
    "上面代码中，`getPrototypeOf()`方法拦截`Object.getPrototypeOf()`，返回`proto`对象。\n",
    "\n",
    "注意，`getPrototypeOf()`方法的返回值必须是对象或者`null`，否则报错。另外，如果目标对象不可扩展（non-extensible）， `getPrototypeOf()`方法必须返回目标对象的原型对象。\n",
    "\n",
    "### isExtensible()\n",
    "\n",
    "`isExtensible()`方法拦截`Object.isExtensible()`操作。"
   ]
  },
  {
   "cell_type": "code",
   "execution_count": null,
   "id": "66522921",
   "metadata": {
    "attributes": {
     "classes": [
      "javascript"
     ],
     "id": ""
    }
   },
   "outputs": [],
   "source": [
    "var p = new Proxy({}, {\n",
    "  isExtensible: function(target) {\n",
    "    console.log(\"called\");\n",
    "    return true;\n",
    "  }\n",
    "});\n",
    "\n",
    "Object.isExtensible(p)\n",
    "// \"called\"\n",
    "// true"
   ]
  },
  {
   "cell_type": "markdown",
   "id": "6ea1006d",
   "metadata": {},
   "source": [
    "上面代码设置了`isExtensible()`方法，在调用`Object.isExtensible`时会输出`called`。\n",
    "\n",
    "注意，该方法只能返回布尔值，否则返回值会被自动转为布尔值。\n",
    "\n",
    "这个方法有一个强限制，它的返回值必须与目标对象的`isExtensible`属性保持一致，否则就会抛出错误。"
   ]
  },
  {
   "cell_type": "code",
   "execution_count": null,
   "id": "0bd93991",
   "metadata": {
    "attributes": {
     "classes": [
      "javascript"
     ],
     "id": ""
    }
   },
   "outputs": [],
   "source": [
    "Object.isExtensible(proxy) === Object.isExtensible(target)"
   ]
  },
  {
   "cell_type": "markdown",
   "id": "58b98662",
   "metadata": {},
   "source": [
    "下面是一个例子。"
   ]
  },
  {
   "cell_type": "code",
   "execution_count": null,
   "id": "a196b427",
   "metadata": {
    "attributes": {
     "classes": [
      "javascript"
     ],
     "id": ""
    }
   },
   "outputs": [],
   "source": [
    "var p = new Proxy({}, {\n",
    "  isExtensible: function(target) {\n",
    "    return false;\n",
    "  }\n",
    "});\n",
    "\n",
    "Object.isExtensible(p)\n",
    "// Uncaught TypeError: 'isExtensible' on proxy: trap result does not reflect extensibility of proxy target (which is 'true')"
   ]
  },
  {
   "cell_type": "markdown",
   "id": "11328e65",
   "metadata": {},
   "source": [
    "### ownKeys()\n",
    "\n",
    "`ownKeys()`方法用来拦截对象自身属性的读取操作。具体来说，拦截以下操作。\n",
    "\n",
    "- `Object.getOwnPropertyNames()`\n",
    "- `Object.getOwnPropertySymbols()`\n",
    "- `Object.keys()`\n",
    "- `for...in`循环\n",
    "\n",
    "下面是拦截`Object.keys()`的例子。"
   ]
  },
  {
   "cell_type": "code",
   "execution_count": null,
   "id": "0493d446",
   "metadata": {
    "attributes": {
     "classes": [
      "javascript"
     ],
     "id": ""
    }
   },
   "outputs": [],
   "source": [
    "let target = {\n",
    "  a: 1,\n",
    "  b: 2,\n",
    "  c: 3\n",
    "};\n",
    "\n",
    "let handler = {\n",
    "  ownKeys(target) {\n",
    "    return ['a'];\n",
    "  }\n",
    "};\n",
    "\n",
    "let proxy = new Proxy(target, handler);\n",
    "\n",
    "Object.keys(proxy)\n",
    "// [ 'a' ]"
   ]
  },
  {
   "cell_type": "markdown",
   "id": "9bfb76b6",
   "metadata": {},
   "source": [
    "上面代码拦截了对于`target`对象的`Object.keys()`操作，只返回`a`、`b`、`c`三个属性之中的`a`属性。\n",
    "\n",
    "下面的例子是拦截第一个字符为下划线的属性名。"
   ]
  },
  {
   "cell_type": "code",
   "execution_count": null,
   "id": "d8582174",
   "metadata": {
    "attributes": {
     "classes": [
      "javascript"
     ],
     "id": ""
    }
   },
   "outputs": [],
   "source": [
    "let target = {\n",
    "  _bar: 'foo',\n",
    "  _prop: 'bar',\n",
    "  prop: 'baz'\n",
    "};\n",
    "\n",
    "let handler = {\n",
    "  ownKeys (target) {\n",
    "    return Reflect.ownKeys(target).filter(key => key[0] !== '_');\n",
    "  }\n",
    "};\n",
    "\n",
    "let proxy = new Proxy(target, handler);\n",
    "for (let key of Object.keys(proxy)) {\n",
    "  console.log(target[key]);\n",
    "}\n",
    "// \"baz\""
   ]
  },
  {
   "cell_type": "markdown",
   "id": "8b666253",
   "metadata": {},
   "source": [
    "注意，使用`Object.keys()`方法时，有三类属性会被`ownKeys()`方法自动过滤，不会返回。\n",
    "\n",
    "- 目标对象上不存在的属性\n",
    "- 属性名为 Symbol 值\n",
    "- 不可遍历（`enumerable`）的属性"
   ]
  },
  {
   "cell_type": "code",
   "execution_count": null,
   "id": "f9ac7005",
   "metadata": {
    "attributes": {
     "classes": [
      "javascript"
     ],
     "id": ""
    }
   },
   "outputs": [],
   "source": [
    "let target = {\n",
    "  a: 1,\n",
    "  b: 2,\n",
    "  c: 3,\n",
    "  [Symbol.for('secret')]: '4',\n",
    "};\n",
    "\n",
    "Object.defineProperty(target, 'key', {\n",
    "  enumerable: false,\n",
    "  configurable: true,\n",
    "  writable: true,\n",
    "  value: 'static'\n",
    "});\n",
    "\n",
    "let handler = {\n",
    "  ownKeys(target) {\n",
    "    return ['a', 'd', Symbol.for('secret'), 'key'];\n",
    "  }\n",
    "};\n",
    "\n",
    "let proxy = new Proxy(target, handler);\n",
    "\n",
    "Object.keys(proxy)\n",
    "// ['a']"
   ]
  },
  {
   "cell_type": "markdown",
   "id": "9b99096f",
   "metadata": {},
   "source": [
    "上面代码中，`ownKeys()`方法之中，显式返回不存在的属性（`d`）、Symbol 值（`Symbol.for('secret')`）、不可遍历的属性（`key`），结果都被自动过滤掉。\n",
    "\n",
    "`ownKeys()`方法还可以拦截`Object.getOwnPropertyNames()`。"
   ]
  },
  {
   "cell_type": "code",
   "execution_count": null,
   "id": "269e6d83",
   "metadata": {
    "attributes": {
     "classes": [
      "javascript"
     ],
     "id": ""
    }
   },
   "outputs": [],
   "source": [
    "var p = new Proxy({}, {\n",
    "  ownKeys: function(target) {\n",
    "    return ['a', 'b', 'c'];\n",
    "  }\n",
    "});\n",
    "\n",
    "Object.getOwnPropertyNames(p)\n",
    "// [ 'a', 'b', 'c' ]"
   ]
  },
  {
   "cell_type": "markdown",
   "id": "d59d1292",
   "metadata": {},
   "source": [
    "`for...in`循环也受到`ownKeys()`方法的拦截。"
   ]
  },
  {
   "cell_type": "code",
   "execution_count": null,
   "id": "529e6a80",
   "metadata": {
    "attributes": {
     "classes": [
      "javascript"
     ],
     "id": ""
    }
   },
   "outputs": [],
   "source": [
    "const obj = { hello: 'world' };\n",
    "const proxy = new Proxy(obj, {\n",
    "  ownKeys: function () {\n",
    "    return ['a', 'b'];\n",
    "  }\n",
    "});\n",
    "\n",
    "for (let key in proxy) {\n",
    "  console.log(key); // 没有任何输出\n",
    "}"
   ]
  },
  {
   "cell_type": "markdown",
   "id": "c11d68da",
   "metadata": {},
   "source": [
    "上面代码中，`ownkeys()`指定只返回`a`和`b`属性，由于`obj`没有这两个属性，因此`for...in`循环不会有任何输出。\n",
    "\n",
    "`ownKeys()`方法返回的数组成员，只能是字符串或 Symbol 值。如果有其他类型的值，或者返回的根本不是数组，就会报错。"
   ]
  },
  {
   "cell_type": "code",
   "execution_count": null,
   "id": "539b58e8",
   "metadata": {
    "attributes": {
     "classes": [
      "javascript"
     ],
     "id": ""
    }
   },
   "outputs": [],
   "source": [
    "var obj = {};\n",
    "\n",
    "var p = new Proxy(obj, {\n",
    "  ownKeys: function(target) {\n",
    "    return [123, true, undefined, null, {}, []];\n",
    "  }\n",
    "});\n",
    "\n",
    "Object.getOwnPropertyNames(p)\n",
    "// Uncaught TypeError: 123 is not a valid property name"
   ]
  },
  {
   "cell_type": "markdown",
   "id": "e3f8aba3",
   "metadata": {},
   "source": [
    "上面代码中，`ownKeys()`方法虽然返回一个数组，但是每一个数组成员都不是字符串或 Symbol 值，因此就报错了。\n",
    "\n",
    "如果目标对象自身包含不可配置的属性，则该属性必须被`ownKeys()`方法返回，否则报错。"
   ]
  },
  {
   "cell_type": "code",
   "execution_count": null,
   "id": "25066140",
   "metadata": {
    "attributes": {
     "classes": [
      "javascript"
     ],
     "id": ""
    }
   },
   "outputs": [],
   "source": [
    "var obj = {};\n",
    "Object.defineProperty(obj, 'a', {\n",
    "  configurable: false,\n",
    "  enumerable: true,\n",
    "  value: 10 }\n",
    ");\n",
    "\n",
    "var p = new Proxy(obj, {\n",
    "  ownKeys: function(target) {\n",
    "    return ['b'];\n",
    "  }\n",
    "});\n",
    "\n",
    "Object.getOwnPropertyNames(p)\n",
    "// Uncaught TypeError: 'ownKeys' on proxy: trap result did not include 'a'"
   ]
  },
  {
   "cell_type": "markdown",
   "id": "75c0a892",
   "metadata": {},
   "source": [
    "上面代码中，`obj`对象的`a`属性是不可配置的，这时`ownKeys()`方法返回的数组之中，必须包含`a`，否则会报错。\n",
    "\n",
    "另外，如果目标对象是不可扩展的（non-extensible），这时`ownKeys()`方法返回的数组之中，必须包含原对象的所有属性，且不能包含多余的属性，否则报错。"
   ]
  },
  {
   "cell_type": "code",
   "execution_count": null,
   "id": "ad1e13be",
   "metadata": {
    "attributes": {
     "classes": [
      "javascript"
     ],
     "id": ""
    }
   },
   "outputs": [],
   "source": [
    "var obj = {\n",
    "  a: 1\n",
    "};\n",
    "\n",
    "Object.preventExtensions(obj);\n",
    "\n",
    "var p = new Proxy(obj, {\n",
    "  ownKeys: function(target) {\n",
    "    return ['a', 'b'];\n",
    "  }\n",
    "});\n",
    "\n",
    "Object.getOwnPropertyNames(p)\n",
    "// Uncaught TypeError: 'ownKeys' on proxy: trap returned extra keys but proxy target is non-extensible"
   ]
  },
  {
   "cell_type": "markdown",
   "id": "cf0a684f",
   "metadata": {},
   "source": [
    "上面代码中，`obj`对象是不可扩展的，这时`ownKeys()`方法返回的数组之中，包含了`obj`对象的多余属性`b`，所以导致了报错。\n",
    "\n",
    "### preventExtensions()\n",
    "\n",
    "`preventExtensions()`方法拦截`Object.preventExtensions()`。该方法必须返回一个布尔值，否则会被自动转为布尔值。\n",
    "\n",
    "这个方法有一个限制，只有目标对象不可扩展时（即`Object.isExtensible(proxy)`为`false`），`proxy.preventExtensions`才能返回`true`，否则会报错。"
   ]
  },
  {
   "cell_type": "code",
   "execution_count": null,
   "id": "12558d66",
   "metadata": {
    "attributes": {
     "classes": [
      "javascript"
     ],
     "id": ""
    }
   },
   "outputs": [],
   "source": [
    "var proxy = new Proxy({}, {\n",
    "  preventExtensions: function(target) {\n",
    "    return true;\n",
    "  }\n",
    "});\n",
    "\n",
    "Object.preventExtensions(proxy)\n",
    "// Uncaught TypeError: 'preventExtensions' on proxy: trap returned truish but the proxy target is extensible"
   ]
  },
  {
   "cell_type": "markdown",
   "id": "98f413cf",
   "metadata": {},
   "source": [
    "上面代码中，`proxy.preventExtensions()`方法返回`true`，但这时`Object.isExtensible(proxy)`会返回`true`，因此报错。\n",
    "\n",
    "为了防止出现这个问题，通常要在`proxy.preventExtensions()`方法里面，调用一次`Object.preventExtensions()`。"
   ]
  },
  {
   "cell_type": "code",
   "execution_count": null,
   "id": "7768f487",
   "metadata": {
    "attributes": {
     "classes": [
      "javascript"
     ],
     "id": ""
    }
   },
   "outputs": [],
   "source": [
    "var proxy = new Proxy({}, {\n",
    "  preventExtensions: function(target) {\n",
    "    console.log('called');\n",
    "    Object.preventExtensions(target);\n",
    "    return true;\n",
    "  }\n",
    "});\n",
    "\n",
    "Object.preventExtensions(proxy)\n",
    "// \"called\"\n",
    "// Proxy {}"
   ]
  },
  {
   "cell_type": "markdown",
   "id": "5c4f6aa2",
   "metadata": {},
   "source": [
    "### setPrototypeOf()\n",
    "\n",
    "`setPrototypeOf()`方法主要用来拦截`Object.setPrototypeOf()`方法。\n",
    "\n",
    "下面是一个例子。"
   ]
  },
  {
   "cell_type": "code",
   "execution_count": null,
   "id": "3e67de61",
   "metadata": {
    "attributes": {
     "classes": [
      "javascript"
     ],
     "id": ""
    }
   },
   "outputs": [],
   "source": [
    "var handler = {\n",
    "  setPrototypeOf (target, proto) {\n",
    "    throw new Error('Changing the prototype is forbidden');\n",
    "  }\n",
    "};\n",
    "var proto = {};\n",
    "var target = function () {};\n",
    "var proxy = new Proxy(target, handler);\n",
    "Object.setPrototypeOf(proxy, proto);\n",
    "// Error: Changing the prototype is forbidden"
   ]
  },
  {
   "cell_type": "markdown",
   "id": "fb989833",
   "metadata": {},
   "source": [
    "上面代码中，只要修改`target`的原型对象，就会报错。\n",
    "\n",
    "注意，该方法只能返回布尔值，否则会被自动转为布尔值。另外，如果目标对象不可扩展（non-extensible），`setPrototypeOf()`方法不得改变目标对象的原型。\n",
    "\n",
    "## Proxy.revocable()\n",
    "\n",
    "`Proxy.revocable()`方法返回一个可取消的 Proxy 实例。"
   ]
  },
  {
   "cell_type": "code",
   "execution_count": null,
   "id": "cf2763ab",
   "metadata": {
    "attributes": {
     "classes": [
      "javascript"
     ],
     "id": ""
    }
   },
   "outputs": [],
   "source": [
    "let target = {};\n",
    "let handler = {};\n",
    "\n",
    "let {proxy, revoke} = Proxy.revocable(target, handler);\n",
    "\n",
    "proxy.foo = 123;\n",
    "proxy.foo // 123\n",
    "\n",
    "revoke();\n",
    "proxy.foo // TypeError: Revoked"
   ]
  },
  {
   "cell_type": "markdown",
   "id": "ca490098",
   "metadata": {},
   "source": [
    "`Proxy.revocable()`方法返回一个对象，该对象的`proxy`属性是`Proxy`实例，`revoke`属性是一个函数，可以取消`Proxy`实例。上面代码中，当执行`revoke`函数之后，再访问`Proxy`实例，就会抛出一个错误。\n",
    "\n",
    "`Proxy.revocable()`的一个使用场景是，目标对象不允许直接访问，必须通过代理访问，一旦访问结束，就收回代理权，不允许再次访问。\n",
    "\n",
    "## this 问题\n",
    "\n",
    "虽然 Proxy 可以代理针对目标对象的访问，但它不是目标对象的透明代理，即不做任何拦截的情况下，也无法保证与目标对象的行为一致。主要原因就是在 Proxy 代理的情况下，目标对象内部的`this`关键字会指向 Proxy 代理。"
   ]
  },
  {
   "cell_type": "code",
   "execution_count": null,
   "id": "2fe009c5",
   "metadata": {
    "attributes": {
     "classes": [
      "javascript"
     ],
     "id": ""
    }
   },
   "outputs": [],
   "source": [
    "const target = {\n",
    "  m: function () {\n",
    "    console.log(this === proxy);\n",
    "  }\n",
    "};\n",
    "const handler = {};\n",
    "\n",
    "const proxy = new Proxy(target, handler);\n",
    "\n",
    "target.m() // false\n",
    "proxy.m()  // true"
   ]
  },
  {
   "cell_type": "markdown",
   "id": "f1098acb",
   "metadata": {},
   "source": [
    "上面代码中，一旦`proxy`代理`target`，`target.m()`内部的`this`就是指向`proxy`，而不是`target`。所以，虽然`proxy`没有做任何拦截，`target.m()`和`proxy.m()`返回不一样的结果。\n",
    "\n",
    "下面是一个例子，由于`this`指向的变化，导致 Proxy 无法代理目标对象。"
   ]
  },
  {
   "cell_type": "code",
   "execution_count": null,
   "id": "22841125",
   "metadata": {
    "attributes": {
     "classes": [
      "javascript"
     ],
     "id": ""
    }
   },
   "outputs": [],
   "source": [
    "const _name = new WeakMap();\n",
    "\n",
    "class Person {\n",
    "  constructor(name) {\n",
    "    _name.set(this, name);\n",
    "  }\n",
    "  get name() {\n",
    "    return _name.get(this);\n",
    "  }\n",
    "}\n",
    "\n",
    "const jane = new Person('Jane');\n",
    "jane.name // 'Jane'\n",
    "\n",
    "const proxy = new Proxy(jane, {});\n",
    "proxy.name // undefined"
   ]
  },
  {
   "cell_type": "markdown",
   "id": "d68da9de",
   "metadata": {},
   "source": [
    "上面代码中，目标对象`jane`的`name`属性，实际保存在外部`WeakMap`对象`_name`上面，通过`this`键区分。由于通过`proxy.name`访问时，`this`指向`proxy`，导致无法取到值，所以返回`undefined`。\n",
    "\n",
    "此外，有些原生对象的内部属性，只有通过正确的`this`才能拿到，所以 Proxy 也无法代理这些原生对象的属性。"
   ]
  },
  {
   "cell_type": "code",
   "execution_count": null,
   "id": "1aee662b",
   "metadata": {
    "attributes": {
     "classes": [
      "javascript"
     ],
     "id": ""
    }
   },
   "outputs": [],
   "source": [
    "const target = new Date();\n",
    "const handler = {};\n",
    "const proxy = new Proxy(target, handler);\n",
    "\n",
    "proxy.getDate();\n",
    "// TypeError: this is not a Date object."
   ]
  },
  {
   "cell_type": "markdown",
   "id": "cd5f5480",
   "metadata": {},
   "source": [
    "上面代码中，`getDate()`方法只能在`Date`对象实例上面拿到，如果`this`不是`Date`对象实例就会报错。这时，`this`绑定原始对象，就可以解决这个问题。"
   ]
  },
  {
   "cell_type": "code",
   "execution_count": null,
   "id": "008e853f",
   "metadata": {
    "attributes": {
     "classes": [
      "javascript"
     ],
     "id": ""
    }
   },
   "outputs": [],
   "source": [
    "const target = new Date('2015-01-01');\n",
    "const handler = {\n",
    "  get(target, prop) {\n",
    "    if (prop === 'getDate') {\n",
    "      return target.getDate.bind(target);\n",
    "    }\n",
    "    return Reflect.get(target, prop);\n",
    "  }\n",
    "};\n",
    "const proxy = new Proxy(target, handler);\n",
    "\n",
    "proxy.getDate() // 1"
   ]
  },
  {
   "cell_type": "markdown",
   "id": "98578877",
   "metadata": {},
   "source": [
    "另外，Proxy 拦截函数内部的`this`，指向的是`handler`对象。"
   ]
  },
  {
   "cell_type": "code",
   "execution_count": null,
   "id": "eb2c091e",
   "metadata": {
    "attributes": {
     "classes": [
      "javascript"
     ],
     "id": ""
    }
   },
   "outputs": [],
   "source": [
    "const handler = {\n",
    "  get: function (target, key, receiver) {\n",
    "    console.log(this === handler);\n",
    "    return 'Hello, ' + key;\n",
    "  },\n",
    "  set: function (target, key, value) {\n",
    "    console.log(this === handler);\n",
    "    target[key] = value;\n",
    "    return true;\n",
    "  }\n",
    "};\n",
    "\n",
    "const proxy = new Proxy({}, handler);\n",
    "\n",
    "proxy.foo\n",
    "// true\n",
    "// Hello, foo\n",
    "\n",
    "proxy.foo = 1\n",
    "// true"
   ]
  },
  {
   "cell_type": "markdown",
   "id": "8e4470b3",
   "metadata": {},
   "source": [
    "上面例子中，`get()`和`set()`拦截函数内部的`this`，指向的都是`handler`对象。\n",
    "\n",
    "## 实例：Web 服务的客户端\n",
    "\n",
    "Proxy 对象可以拦截目标对象的任意属性，这使得它很合适用来写 Web 服务的客户端。"
   ]
  },
  {
   "cell_type": "code",
   "execution_count": null,
   "id": "67fc1732",
   "metadata": {
    "attributes": {
     "classes": [
      "javascript"
     ],
     "id": ""
    }
   },
   "outputs": [],
   "source": [
    "const service = createWebService('http://example.com/data');\n",
    "\n",
    "service.employees().then(json => {\n",
    "  const employees = JSON.parse(json);\n",
    "  // ···\n",
    "});"
   ]
  },
  {
   "cell_type": "markdown",
   "id": "d8d87feb",
   "metadata": {},
   "source": [
    "上面代码新建了一个 Web 服务的接口，这个接口返回各种数据。Proxy 可以拦截这个对象的任意属性，所以不用为每一种数据写一个适配方法，只要写一个 Proxy 拦截就可以了。"
   ]
  },
  {
   "cell_type": "code",
   "execution_count": null,
   "id": "2517d43b",
   "metadata": {
    "attributes": {
     "classes": [
      "javascript"
     ],
     "id": ""
    }
   },
   "outputs": [],
   "source": [
    "function createWebService(baseUrl) {\n",
    "  return new Proxy({}, {\n",
    "    get(target, propKey, receiver) {\n",
    "      return () => httpGet(baseUrl + '/' + propKey);\n",
    "    }\n",
    "  });\n",
    "}"
   ]
  },
  {
   "cell_type": "markdown",
   "id": "c512f4cf",
   "metadata": {},
   "source": [
    "同理，Proxy 也可以用来实现数据库的 ORM 层。"
   ]
  }
 ],
 "metadata": {},
 "nbformat": 4,
 "nbformat_minor": 5
}

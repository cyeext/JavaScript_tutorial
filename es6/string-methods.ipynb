{
 "cells": [
  {
   "cell_type": "markdown",
   "id": "34e085cb",
   "metadata": {},
   "source": [
    "# 字符串的新增方法\n",
    "\n",
    "本章介绍字符串对象的新增方法。\n",
    "\n",
    "## String.fromCodePoint()\n",
    "\n",
    "ES5 提供`String.fromCharCode()`方法，用于从 Unicode 码点返回对应字符，但是这个方法不能识别码点大于`0xFFFF`的字符。"
   ]
  },
  {
   "cell_type": "code",
   "execution_count": null,
   "id": "c064de29",
   "metadata": {
    "attributes": {
     "classes": [
      "javascript"
     ],
     "id": ""
    }
   },
   "outputs": [],
   "source": [
    "String.fromCharCode(0x20BB7)\n",
    "// \"ஷ\""
   ]
  },
  {
   "cell_type": "markdown",
   "id": "341ea282",
   "metadata": {},
   "source": [
    "上面代码中，`String.fromCharCode()`不能识别大于`0xFFFF`的码点，所以`0x20BB7`就发生了溢出，最高位`2`被舍弃了，最后返回码点`U+0BB7`对应的字符，而不是码点`U+20BB7`对应的字符。\n",
    "\n",
    "ES6 提供了`String.fromCodePoint()`方法，可以识别大于`0xFFFF`的字符，弥补了`String.fromCharCode()`方法的不足。在作用上，正好与下面的`codePointAt()`方法相反。"
   ]
  },
  {
   "cell_type": "code",
   "execution_count": null,
   "id": "ebaaee76",
   "metadata": {
    "attributes": {
     "classes": [
      "javascript"
     ],
     "id": ""
    }
   },
   "outputs": [],
   "source": [
    "String.fromCodePoint(0x20BB7)\n",
    "// \"𠮷\"\n",
    "String.fromCodePoint(0x78, 0x1f680, 0x79) === 'x\\uD83D\\uDE80y'\n",
    "// true"
   ]
  },
  {
   "cell_type": "markdown",
   "id": "b664e46b",
   "metadata": {},
   "source": [
    "上面代码中，如果`String.fromCodePoint`方法有多个参数，则它们会被合并成一个字符串返回。\n",
    "\n",
    "注意，`fromCodePoint`方法定义在`String`对象上，而`codePointAt`方法定义在字符串的实例对象上。\n",
    "\n",
    "## String.raw()\n",
    "\n",
    "ES6 还为原生的 String 对象，提供了一个`raw()`方法。该方法返回一个斜杠都被转义（即斜杠前面再加一个斜杠）的字符串，往往用于模板字符串的处理方法。"
   ]
  },
  {
   "cell_type": "code",
   "execution_count": null,
   "id": "123decf2",
   "metadata": {
    "attributes": {
     "classes": [
      "javascript"
     ],
     "id": ""
    }
   },
   "outputs": [],
   "source": [
    "String.raw`Hi\\n${2+3}!`\n",
    "// 实际返回 \"Hi\\\\n5!\"，显示的是转义后的结果 \"Hi\\n5!\"\n",
    "\n",
    "String.raw`Hi\\u000A!`;\n",
    "// 实际返回 \"Hi\\\\u000A!\"，显示的是转义后的结果 \"Hi\\u000A!\""
   ]
  },
  {
   "cell_type": "markdown",
   "id": "01dcd3ae",
   "metadata": {},
   "source": [
    "如果原字符串的斜杠已经转义，那么`String.raw()`会进行再次转义。"
   ]
  },
  {
   "cell_type": "code",
   "execution_count": null,
   "id": "b9089168",
   "metadata": {
    "attributes": {
     "classes": [
      "javascript"
     ],
     "id": ""
    }
   },
   "outputs": [],
   "source": [
    "String.raw`Hi\\\\n`\n",
    "// 返回 \"Hi\\\\\\\\n\"\n",
    "\n",
    "String.raw`Hi\\\\n` === \"Hi\\\\\\\\n\" // true"
   ]
  },
  {
   "cell_type": "markdown",
   "id": "82a0907a",
   "metadata": {},
   "source": [
    "`String.raw()`方法可以作为处理模板字符串的基本方法，它会将所有变量替换，而且对斜杠进行转义，方便下一步作为字符串来使用。\n",
    "\n",
    "`String.raw()`本质上是一个正常的函数，只是专用于模板字符串的标签函数。如果写成正常函数的形式，它的第一个参数，应该是一个具有`raw`属性的对象，且`raw`属性的值应该是一个数组，对应模板字符串解析后的值。"
   ]
  },
  {
   "cell_type": "code",
   "execution_count": null,
   "id": "e09416f3",
   "metadata": {
    "attributes": {
     "classes": [
      "javascript"
     ],
     "id": ""
    }
   },
   "outputs": [],
   "source": [
    "// `foo${1 + 2}bar`\n",
    "// 等同于\n",
    "String.raw({ raw: ['foo', 'bar'] }, 1 + 2) // \"foo3bar\""
   ]
  },
  {
   "cell_type": "markdown",
   "id": "7a45ab5e",
   "metadata": {},
   "source": [
    "上面代码中，`String.raw()`方法的第一个参数是一个对象，它的`raw`属性等同于原始的模板字符串解析后得到的数组。\n",
    "\n",
    "作为函数，`String.raw()`的代码实现基本如下。"
   ]
  },
  {
   "cell_type": "code",
   "execution_count": null,
   "id": "9e294a7a",
   "metadata": {
    "attributes": {
     "classes": [
      "javascript"
     ],
     "id": ""
    }
   },
   "outputs": [],
   "source": [
    "String.raw = function (strings, ...values) {\n",
    "  let output = '';\n",
    "  let index;\n",
    "  for (index = 0; index < values.length; index++) {\n",
    "    output += strings.raw[index] + values[index];\n",
    "  }\n",
    "\n",
    "  output += strings.raw[index]\n",
    "  return output;\n",
    "}"
   ]
  },
  {
   "cell_type": "markdown",
   "id": "f2d14ce2",
   "metadata": {},
   "source": [
    "## 实例方法：codePointAt()\n",
    "\n",
    "JavaScript 内部，字符以 UTF-16 的格式储存，每个字符固定为`2`个字节。对于那些需要`4`个字节储存的字符（Unicode 码点大于`0xFFFF`的字符），JavaScript 会认为它们是两个字符。"
   ]
  },
  {
   "cell_type": "code",
   "execution_count": null,
   "id": "71b43c3f",
   "metadata": {
    "attributes": {
     "classes": [
      "javascript"
     ],
     "id": ""
    }
   },
   "outputs": [],
   "source": [
    "var s = \"𠮷\";\n",
    "\n",
    "s.length // 2\n",
    "s.charAt(0) // ''\n",
    "s.charAt(1) // ''\n",
    "s.charCodeAt(0) // 55362\n",
    "s.charCodeAt(1) // 57271"
   ]
  },
  {
   "cell_type": "markdown",
   "id": "9367b1b9",
   "metadata": {},
   "source": [
    "上面代码中，汉字“𠮷”（注意，这个字不是“吉祥”的“吉”）的码点是`0x20BB7`，UTF-16 编码为`0xD842 0xDFB7`（十进制为`55362 57271`），需要`4`个字节储存。对于这种`4`个字节的字符，JavaScript 不能正确处理，字符串长度会误判为`2`，而且`charAt()`方法无法读取整个字符，`charCodeAt()`方法只能分别返回前两个字节和后两个字节的值。\n",
    "\n",
    "ES6 提供了`codePointAt()`方法，能够正确处理 4 个字节储存的字符，返回一个字符的码点。"
   ]
  },
  {
   "cell_type": "code",
   "execution_count": null,
   "id": "99599d0b",
   "metadata": {
    "attributes": {
     "classes": [
      "javascript"
     ],
     "id": ""
    }
   },
   "outputs": [],
   "source": [
    "let s = '𠮷a';\n",
    "\n",
    "s.codePointAt(0) // 134071\n",
    "s.codePointAt(1) // 57271\n",
    "\n",
    "s.codePointAt(2) // 97"
   ]
  },
  {
   "cell_type": "markdown",
   "id": "24824d81",
   "metadata": {},
   "source": [
    "`codePointAt()`方法的参数，是字符在字符串中的位置（从 0 开始）。上面代码中，JavaScript 将“𠮷a”视为三个字符，codePointAt 方法在第一个字符上，正确地识别了“𠮷”，返回了它的十进制码点 134071（即十六进制的`20BB7`）。在第二个字符（即“𠮷”的后两个字节）和第三个字符“a”上，`codePointAt()`方法的结果与`charCodeAt()`方法相同。\n",
    "\n",
    "总之，`codePointAt()`方法会正确返回 32 位的 UTF-16 字符的码点。对于那些两个字节储存的常规字符，它的返回结果与`charCodeAt()`方法相同。\n",
    "\n",
    "`codePointAt()`方法返回的是码点的十进制值，如果想要十六进制的值，可以使用`toString()`方法转换一下。"
   ]
  },
  {
   "cell_type": "code",
   "execution_count": null,
   "id": "0289de55",
   "metadata": {
    "attributes": {
     "classes": [
      "javascript"
     ],
     "id": ""
    }
   },
   "outputs": [],
   "source": [
    "let s = '𠮷a';\n",
    "\n",
    "s.codePointAt(0).toString(16) // \"20bb7\"\n",
    "s.codePointAt(2).toString(16) // \"61\""
   ]
  },
  {
   "cell_type": "markdown",
   "id": "1600abf4",
   "metadata": {},
   "source": [
    "你可能注意到了，`codePointAt()`方法的参数，仍然是不正确的。比如，上面代码中，字符`a`在字符串`s`的正确位置序号应该是 1，但是必须向`codePointAt()`方法传入 2。解决这个问题的一个办法是使用`for...of`循环，因为它会正确识别 32 位的 UTF-16 字符。"
   ]
  },
  {
   "cell_type": "code",
   "execution_count": null,
   "id": "299e7ff5",
   "metadata": {
    "attributes": {
     "classes": [
      "javascript"
     ],
     "id": ""
    }
   },
   "outputs": [],
   "source": [
    "let s = '𠮷a';\n",
    "for (let ch of s) {\n",
    "  console.log(ch.codePointAt(0).toString(16));\n",
    "}\n",
    "// 20bb7\n",
    "// 61"
   ]
  },
  {
   "cell_type": "markdown",
   "id": "63402432",
   "metadata": {},
   "source": [
    "另一种方法也可以，使用扩展运算符（`...`）进行展开运算。"
   ]
  },
  {
   "cell_type": "code",
   "execution_count": null,
   "id": "40cc71fa",
   "metadata": {
    "attributes": {
     "classes": [
      "javascript"
     ],
     "id": ""
    }
   },
   "outputs": [],
   "source": [
    "let arr = [...'𠮷a']; // arr.length === 2\n",
    "arr.forEach(\n",
    "  ch => console.log(ch.codePointAt(0).toString(16))\n",
    ");\n",
    "// 20bb7\n",
    "// 61"
   ]
  },
  {
   "cell_type": "markdown",
   "id": "a89ef7e8",
   "metadata": {},
   "source": [
    "`codePointAt()`方法是测试一个字符由两个字节还是由四个字节组成的最简单方法。"
   ]
  },
  {
   "cell_type": "code",
   "execution_count": null,
   "id": "14d6ba3b",
   "metadata": {
    "attributes": {
     "classes": [
      "javascript"
     ],
     "id": ""
    }
   },
   "outputs": [],
   "source": [
    "function is32Bit(c) {\n",
    "  return c.codePointAt(0) > 0xFFFF;\n",
    "}\n",
    "\n",
    "is32Bit(\"𠮷\") // true\n",
    "is32Bit(\"a\") // false"
   ]
  },
  {
   "cell_type": "markdown",
   "id": "bd5ca5a4",
   "metadata": {},
   "source": [
    "## 实例方法：normalize()\n",
    "\n",
    "许多欧洲语言有语调符号和重音符号。为了表示它们，Unicode 提供了两种方法。一种是直接提供带重音符号的字符，比如`Ǒ`（\\u01D1）。另一种是提供合成符号（combining character），即原字符与重音符号的合成，两个字符合成一个字符，比如`O`（\\u004F）和`ˇ`（\\u030C）合成`Ǒ`（\\u004F\\u030C）。\n",
    "\n",
    "这两种表示方法，在视觉和语义上都等价，但是 JavaScript 不能识别。"
   ]
  },
  {
   "cell_type": "code",
   "execution_count": null,
   "id": "0b14cadb",
   "metadata": {
    "attributes": {
     "classes": [
      "javascript"
     ],
     "id": ""
    }
   },
   "outputs": [],
   "source": [
    "'\\u01D1'==='\\u004F\\u030C' //false\n",
    "\n",
    "'\\u01D1'.length // 1\n",
    "'\\u004F\\u030C'.length // 2"
   ]
  },
  {
   "cell_type": "markdown",
   "id": "20b1914e",
   "metadata": {},
   "source": [
    "上面代码表示，JavaScript 将合成字符视为两个字符，导致两种表示方法不相等。\n",
    "\n",
    "ES6 提供字符串实例的`normalize()`方法，用来将字符的不同表示方法统一为同样的形式，这称为 Unicode 正规化。"
   ]
  },
  {
   "cell_type": "code",
   "execution_count": null,
   "id": "03598317",
   "metadata": {
    "attributes": {
     "classes": [
      "javascript"
     ],
     "id": ""
    }
   },
   "outputs": [],
   "source": [
    "'\\u01D1'.normalize() === '\\u004F\\u030C'.normalize()\n",
    "// true"
   ]
  },
  {
   "cell_type": "markdown",
   "id": "4a06ceae",
   "metadata": {},
   "source": [
    "`normalize`方法可以接受一个参数来指定`normalize`的方式，参数的四个可选值如下。\n",
    "\n",
    "- `NFC`，默认参数，表示“标准等价合成”（Normalization Form Canonical Composition），返回多个简单字符的合成字符。所谓“标准等价”指的是视觉和语义上的等价。\n",
    "- `NFD`，表示“标准等价分解”（Normalization Form Canonical Decomposition），即在标准等价的前提下，返回合成字符分解的多个简单字符。\n",
    "- `NFKC`，表示“兼容等价合成”（Normalization Form Compatibility Composition），返回合成字符。所谓“兼容等价”指的是语义上存在等价，但视觉上不等价，比如“囍”和“喜喜”。（这只是用来举例，`normalize`方法不能识别中文。）\n",
    "- `NFKD`，表示“兼容等价分解”（Normalization Form Compatibility Decomposition），即在兼容等价的前提下，返回合成字符分解的多个简单字符。"
   ]
  },
  {
   "cell_type": "code",
   "execution_count": null,
   "id": "e1f74158",
   "metadata": {
    "attributes": {
     "classes": [
      "javascript"
     ],
     "id": ""
    }
   },
   "outputs": [],
   "source": [
    "'\\u004F\\u030C'.normalize('NFC').length // 1\n",
    "'\\u004F\\u030C'.normalize('NFD').length // 2"
   ]
  },
  {
   "cell_type": "markdown",
   "id": "acf5640e",
   "metadata": {},
   "source": [
    "上面代码表示，`NFC`参数返回字符的合成形式，`NFD`参数返回字符的分解形式。\n",
    "\n",
    "不过，`normalize`方法目前不能识别三个或三个以上字符的合成。这种情况下，还是只能使用正则表达式，通过 Unicode 编号区间判断。\n",
    "\n",
    "## 实例方法：includes(), startsWith(), endsWith()\n",
    "\n",
    "传统上，JavaScript 只有`indexOf`方法，可以用来确定一个字符串是否包含在另一个字符串中。ES6 又提供了三种新方法。\n",
    "\n",
    "- **includes()**：返回布尔值，表示是否找到了参数字符串。\n",
    "- **startsWith()**：返回布尔值，表示参数字符串是否在原字符串的头部。\n",
    "- **endsWith()**：返回布尔值，表示参数字符串是否在原字符串的尾部。"
   ]
  },
  {
   "cell_type": "code",
   "execution_count": null,
   "id": "b424b15d",
   "metadata": {
    "attributes": {
     "classes": [
      "javascript"
     ],
     "id": ""
    }
   },
   "outputs": [],
   "source": [
    "let s = 'Hello world!';\n",
    "\n",
    "s.startsWith('Hello') // true\n",
    "s.endsWith('!') // true\n",
    "s.includes('o') // true"
   ]
  },
  {
   "cell_type": "markdown",
   "id": "3305e0ce",
   "metadata": {},
   "source": [
    "这三个方法都支持第二个参数，表示开始搜索的位置。"
   ]
  },
  {
   "cell_type": "code",
   "execution_count": null,
   "id": "078d2055",
   "metadata": {
    "attributes": {
     "classes": [
      "javascript"
     ],
     "id": ""
    }
   },
   "outputs": [],
   "source": [
    "let s = 'Hello world!';\n",
    "\n",
    "s.startsWith('world', 6) // true\n",
    "s.endsWith('Hello', 5) // true\n",
    "s.includes('Hello', 6) // false"
   ]
  },
  {
   "cell_type": "markdown",
   "id": "ec23c05b",
   "metadata": {},
   "source": [
    "上面代码表示，使用第二个参数`n`时，`endsWith`的行为与其他两个方法有所不同。它针对前`n`个字符，而其他两个方法针对从第`n`个位置直到字符串结束。\n",
    "\n",
    "## 实例方法：repeat()\n",
    "\n",
    "`repeat`方法返回一个新字符串，表示将原字符串重复`n`次。"
   ]
  },
  {
   "cell_type": "code",
   "execution_count": null,
   "id": "51253609",
   "metadata": {
    "attributes": {
     "classes": [
      "javascript"
     ],
     "id": ""
    }
   },
   "outputs": [],
   "source": [
    "'x'.repeat(3) // \"xxx\"\n",
    "'hello'.repeat(2) // \"hellohello\"\n",
    "'na'.repeat(0) // \"\""
   ]
  },
  {
   "cell_type": "markdown",
   "id": "f0628260",
   "metadata": {},
   "source": [
    "参数如果是小数，会被取整。"
   ]
  },
  {
   "cell_type": "code",
   "execution_count": null,
   "id": "4ebc00cb",
   "metadata": {
    "attributes": {
     "classes": [
      "javascript"
     ],
     "id": ""
    }
   },
   "outputs": [],
   "source": [
    "'na'.repeat(2.9) // \"nana\""
   ]
  },
  {
   "cell_type": "markdown",
   "id": "ffa66533",
   "metadata": {},
   "source": [
    "如果`repeat`的参数是负数或者`Infinity`，会报错。"
   ]
  },
  {
   "cell_type": "code",
   "execution_count": null,
   "id": "19f1a080",
   "metadata": {
    "attributes": {
     "classes": [
      "javascript"
     ],
     "id": ""
    }
   },
   "outputs": [],
   "source": [
    "'na'.repeat(Infinity)\n",
    "// RangeError\n",
    "'na'.repeat(-1)\n",
    "// RangeError"
   ]
  },
  {
   "cell_type": "markdown",
   "id": "5565ffbb",
   "metadata": {},
   "source": [
    "但是，如果参数是 0 到-1 之间的小数，则等同于 0，这是因为会先进行取整运算。0 到-1 之间的小数，取整以后等于`-0`，`repeat`视同为 0。"
   ]
  },
  {
   "cell_type": "code",
   "execution_count": null,
   "id": "557d7dc4",
   "metadata": {
    "attributes": {
     "classes": [
      "javascript"
     ],
     "id": ""
    }
   },
   "outputs": [],
   "source": [
    "'na'.repeat(-0.9) // \"\""
   ]
  },
  {
   "cell_type": "markdown",
   "id": "899063fe",
   "metadata": {},
   "source": [
    "参数`NaN`等同于 0。"
   ]
  },
  {
   "cell_type": "code",
   "execution_count": null,
   "id": "e5012d00",
   "metadata": {
    "attributes": {
     "classes": [
      "javascript"
     ],
     "id": ""
    }
   },
   "outputs": [],
   "source": [
    "'na'.repeat(NaN) // \"\""
   ]
  },
  {
   "cell_type": "markdown",
   "id": "0c895eff",
   "metadata": {},
   "source": [
    "如果`repeat`的参数是字符串，则会先转换成数字。"
   ]
  },
  {
   "cell_type": "code",
   "execution_count": null,
   "id": "5078947f",
   "metadata": {
    "attributes": {
     "classes": [
      "javascript"
     ],
     "id": ""
    }
   },
   "outputs": [],
   "source": [
    "'na'.repeat('na') // \"\"\n",
    "'na'.repeat('3') // \"nanana\""
   ]
  },
  {
   "cell_type": "markdown",
   "id": "94932fa3",
   "metadata": {},
   "source": [
    "## 实例方法：padStart()，padEnd()\n",
    "\n",
    "ES2017 引入了字符串补全长度的功能。如果某个字符串不够指定长度，会在头部或尾部补全。`padStart()`用于头部补全，`padEnd()`用于尾部补全。"
   ]
  },
  {
   "cell_type": "code",
   "execution_count": null,
   "id": "e77e2fed",
   "metadata": {
    "attributes": {
     "classes": [
      "javascript"
     ],
     "id": ""
    }
   },
   "outputs": [],
   "source": [
    "'x'.padStart(5, 'ab') // 'ababx'\n",
    "'x'.padStart(4, 'ab') // 'abax'\n",
    "\n",
    "'x'.padEnd(5, 'ab') // 'xabab'\n",
    "'x'.padEnd(4, 'ab') // 'xaba'"
   ]
  },
  {
   "cell_type": "markdown",
   "id": "6e4b2505",
   "metadata": {},
   "source": [
    "上面代码中，`padStart()`和`padEnd()`一共接受两个参数，第一个参数是字符串补全生效的最大长度，第二个参数是用来补全的字符串。\n",
    "\n",
    "如果原字符串的长度，等于或大于最大长度，则字符串补全不生效，返回原字符串。"
   ]
  },
  {
   "cell_type": "code",
   "execution_count": null,
   "id": "8da36611",
   "metadata": {
    "attributes": {
     "classes": [
      "javascript"
     ],
     "id": ""
    }
   },
   "outputs": [],
   "source": [
    "'xxx'.padStart(2, 'ab') // 'xxx'\n",
    "'xxx'.padEnd(2, 'ab') // 'xxx'"
   ]
  },
  {
   "cell_type": "markdown",
   "id": "34a51ccf",
   "metadata": {},
   "source": [
    "如果用来补全的字符串与原字符串，两者的长度之和超过了最大长度，则会截去超出位数的补全字符串。"
   ]
  },
  {
   "cell_type": "code",
   "execution_count": null,
   "id": "ba3b3c3f",
   "metadata": {
    "attributes": {
     "classes": [
      "javascript"
     ],
     "id": ""
    }
   },
   "outputs": [],
   "source": [
    "'abc'.padStart(10, '0123456789')\n",
    "// '0123456abc'"
   ]
  },
  {
   "cell_type": "markdown",
   "id": "56d2da52",
   "metadata": {},
   "source": [
    "如果省略第二个参数，默认使用空格补全长度。"
   ]
  },
  {
   "cell_type": "code",
   "execution_count": null,
   "id": "5b49dd06",
   "metadata": {
    "attributes": {
     "classes": [
      "javascript"
     ],
     "id": ""
    }
   },
   "outputs": [],
   "source": [
    "'x'.padStart(4) // '   x'\n",
    "'x'.padEnd(4) // 'x   '"
   ]
  },
  {
   "cell_type": "markdown",
   "id": "f1e7915c",
   "metadata": {},
   "source": [
    "`padStart()`的常见用途是为数值补全指定位数。下面代码生成 10 位的数值字符串。"
   ]
  },
  {
   "cell_type": "code",
   "execution_count": null,
   "id": "4bab2e07",
   "metadata": {
    "attributes": {
     "classes": [
      "javascript"
     ],
     "id": ""
    }
   },
   "outputs": [],
   "source": [
    "'1'.padStart(10, '0') // \"0000000001\"\n",
    "'12'.padStart(10, '0') // \"0000000012\"\n",
    "'123456'.padStart(10, '0') // \"0000123456\""
   ]
  },
  {
   "cell_type": "markdown",
   "id": "f1e8bc21",
   "metadata": {},
   "source": [
    "另一个用途是提示字符串格式。"
   ]
  },
  {
   "cell_type": "code",
   "execution_count": null,
   "id": "5ff40275",
   "metadata": {
    "attributes": {
     "classes": [
      "javascript"
     ],
     "id": ""
    }
   },
   "outputs": [],
   "source": [
    "'12'.padStart(10, 'YYYY-MM-DD') // \"YYYY-MM-12\"\n",
    "'09-12'.padStart(10, 'YYYY-MM-DD') // \"YYYY-09-12\""
   ]
  },
  {
   "cell_type": "markdown",
   "id": "4a9aae11",
   "metadata": {},
   "source": [
    "## 实例方法：trimStart()，trimEnd()\n",
    "\n",
    "[ES2019](https://github.com/tc39/proposal-string-left-right-trim) 对字符串实例新增了`trimStart()`和`trimEnd()`这两个方法。它们的行为与`trim()`一致，`trimStart()`消除字符串头部的空格，`trimEnd()`消除尾部的空格。它们返回的都是新字符串，不会修改原始字符串。"
   ]
  },
  {
   "cell_type": "code",
   "execution_count": null,
   "id": "e0fb12aa",
   "metadata": {
    "attributes": {
     "classes": [
      "javascript"
     ],
     "id": ""
    }
   },
   "outputs": [],
   "source": [
    "const s = '  abc  ';\n",
    "\n",
    "s.trim() // \"abc\"\n",
    "s.trimStart() // \"abc  \"\n",
    "s.trimEnd() // \"  abc\""
   ]
  },
  {
   "cell_type": "markdown",
   "id": "6fbfb5d3",
   "metadata": {},
   "source": [
    "上面代码中，`trimStart()`只消除头部的空格，保留尾部的空格。`trimEnd()`也是类似行为。\n",
    "\n",
    "除了空格键，这两个方法对字符串头部（或尾部）的 tab 键、换行符等不可见的空白符号也有效。\n",
    "\n",
    "浏览器还部署了额外的两个方法，`trimLeft()`是`trimStart()`的别名，`trimRight()`是`trimEnd()`的别名。\n",
    "\n",
    "## 实例方法：matchAll()\n",
    "\n",
    "`matchAll()`方法返回一个正则表达式在当前字符串的所有匹配，详见《正则的扩展》的一章。\n",
    "\n",
    "## 实例方法：replaceAll()\n",
    "\n",
    "历史上，字符串的实例方法`replace()`只能替换第一个匹配。"
   ]
  },
  {
   "cell_type": "code",
   "execution_count": null,
   "id": "a300fe11",
   "metadata": {
    "attributes": {
     "classes": [
      "javascript"
     ],
     "id": ""
    }
   },
   "outputs": [],
   "source": [
    "'aabbcc'.replace('b', '_')\n",
    "// 'aa_bcc'"
   ]
  },
  {
   "cell_type": "markdown",
   "id": "0ad0cfee",
   "metadata": {},
   "source": [
    "上面例子中，`replace()`只将第一个`b`替换成了下划线。\n",
    "\n",
    "如果要替换所有的匹配，不得不使用正则表达式的`g`修饰符。"
   ]
  },
  {
   "cell_type": "code",
   "execution_count": null,
   "id": "f184fd61",
   "metadata": {
    "attributes": {
     "classes": [
      "javascript"
     ],
     "id": ""
    }
   },
   "outputs": [],
   "source": [
    "'aabbcc'.replace(/b/g, '_')\n",
    "// 'aa__cc'"
   ]
  },
  {
   "cell_type": "markdown",
   "id": "113465ea",
   "metadata": {},
   "source": [
    "正则表达式毕竟不是那么方便和直观，[ES2021](https://github.com/tc39/proposal-string-replaceall) 引入了`replaceAll()`方法，可以一次性替换所有匹配。"
   ]
  },
  {
   "cell_type": "code",
   "execution_count": null,
   "id": "6a93361d",
   "metadata": {
    "attributes": {
     "classes": [
      "javascript"
     ],
     "id": ""
    }
   },
   "outputs": [],
   "source": [
    "'aabbcc'.replaceAll('b', '_')\n",
    "// 'aa__cc'"
   ]
  },
  {
   "cell_type": "markdown",
   "id": "243363e4",
   "metadata": {},
   "source": [
    "它的用法与`replace()`相同，返回一个新字符串，不会改变原字符串。"
   ]
  },
  {
   "cell_type": "code",
   "execution_count": null,
   "id": "32a49c73",
   "metadata": {
    "attributes": {
     "classes": [
      "javascript"
     ],
     "id": ""
    }
   },
   "outputs": [],
   "source": [
    "String.prototype.replaceAll(searchValue, replacement)"
   ]
  },
  {
   "cell_type": "markdown",
   "id": "cd70f502",
   "metadata": {},
   "source": [
    "上面代码中，`searchValue`是搜索模式，可以是一个字符串，也可以是一个全局的正则表达式（带有`g`修饰符）。\n",
    "\n",
    "如果`searchValue`是一个不带有`g`修饰符的正则表达式，`replaceAll()`会报错。这一点跟`replace()`不同。"
   ]
  },
  {
   "cell_type": "code",
   "execution_count": null,
   "id": "fdc92ebc",
   "metadata": {
    "attributes": {
     "classes": [
      "javascript"
     ],
     "id": ""
    }
   },
   "outputs": [],
   "source": [
    "// 不报错\n",
    "'aabbcc'.replace(/b/, '_')\n",
    "\n",
    "// 报错\n",
    "'aabbcc'.replaceAll(/b/, '_')"
   ]
  },
  {
   "cell_type": "markdown",
   "id": "523077eb",
   "metadata": {},
   "source": [
    "上面例子中，`/b/`不带有`g`修饰符，会导致`replaceAll()`报错。\n",
    "\n",
    "`replaceAll()`的第二个参数`replacement`是一个字符串，表示替换的文本，其中可以使用一些特殊字符串。\n",
    "\n",
    "- `$&`：匹配的字符串。\n",
    "- `` $` ``：匹配结果前面的文本。\n",
    "- `$'`：匹配结果后面的文本。\n",
    "- `$n`：匹配成功的第`n`组内容，`n`是从1开始的自然数。这个参数生效的前提是，第一个参数必须是正则表达式。\n",
    "- `$$`：指代美元符号`$`。\n",
    "\n",
    "下面是一些例子。"
   ]
  },
  {
   "cell_type": "code",
   "execution_count": null,
   "id": "27b4efb6",
   "metadata": {
    "attributes": {
     "classes": [
      "javascript"
     ],
     "id": ""
    }
   },
   "outputs": [],
   "source": [
    "// $& 表示匹配的字符串，即`b`本身\n",
    "// 所以返回结果与原字符串一致\n",
    "'abbc'.replaceAll('b', '$&')\n",
    "// 'abbc'\n",
    "\n",
    "// $` 表示匹配结果之前的字符串\n",
    "// 对于第一个`b`，$` 指代`a`\n",
    "// 对于第二个`b`，$` 指代`ab`\n",
    "'abbc'.replaceAll('b', '$`')\n",
    "// 'aaabc'\n",
    "\n",
    "// $' 表示匹配结果之后的字符串\n",
    "// 对于第一个`b`，$' 指代`bc`\n",
    "// 对于第二个`b`，$' 指代`c`\n",
    "'abbc'.replaceAll('b', `$'`)\n",
    "// 'abccc'\n",
    "\n",
    "// $1 表示正则表达式的第一个组匹配，指代`ab`\n",
    "// $2 表示正则表达式的第二个组匹配，指代`bc`\n",
    "'abbc'.replaceAll(/(ab)(bc)/g, '$2$1')\n",
    "// 'bcab'\n",
    "\n",
    "// $$ 指代 $\n",
    "'abc'.replaceAll('b', '$$')\n",
    "// 'a$c'"
   ]
  },
  {
   "cell_type": "markdown",
   "id": "42a7f884",
   "metadata": {},
   "source": [
    "`replaceAll()`的第二个参数`replacement`除了为字符串，也可以是一个函数，该函数的返回值将替换掉第一个参数`searchValue`匹配的文本。"
   ]
  },
  {
   "cell_type": "code",
   "execution_count": null,
   "id": "99f4e473",
   "metadata": {
    "attributes": {
     "classes": [
      "javascript"
     ],
     "id": ""
    }
   },
   "outputs": [],
   "source": [
    "'aabbcc'.replaceAll('b', () => '_')\n",
    "// 'aa__cc'"
   ]
  },
  {
   "cell_type": "markdown",
   "id": "c23d4973",
   "metadata": {},
   "source": [
    "上面例子中，`replaceAll()`的第二个参数是一个函数，该函数的返回值会替换掉所有`b`的匹配。\n",
    "\n",
    "这个替换函数可以接受多个参数。第一个参数是捕捉到的匹配内容，第二个参数捕捉到是组匹配（有多少个组匹配，就有多少个对应的参数）。此外，最后还可以添加两个参数，倒数第二个参数是捕捉到的内容在整个字符串中的位置，最后一个参数是原字符串。"
   ]
  },
  {
   "cell_type": "code",
   "execution_count": null,
   "id": "9442bea4",
   "metadata": {
    "attributes": {
     "classes": [
      "javascript"
     ],
     "id": ""
    }
   },
   "outputs": [],
   "source": [
    "const str = '123abc456';\n",
    "const regex = /(\\d+)([a-z]+)(\\d+)/g;\n",
    "\n",
    "function replacer(match, p1, p2, p3, offset, string) {\n",
    "  return [p1, p2, p3].join(' - ');\n",
    "}\n",
    "\n",
    "str.replaceAll(regex, replacer)\n",
    "// 123 - abc - 456"
   ]
  },
  {
   "cell_type": "markdown",
   "id": "6bb392f7",
   "metadata": {},
   "source": [
    "上面例子中，正则表达式有三个组匹配，所以`replacer()`函数的第一个参数`match`是捕捉到的匹配内容（即字符串`123abc456`），后面三个参数`p1`、`p2`、`p3`则依次为三个组匹配。\n",
    "\n",
    "## 实例方法：at()\n",
    "\n",
    "`at()`方法接受一个整数作为参数，返回参数指定位置的字符，支持负索引（即倒数的位置）。"
   ]
  },
  {
   "cell_type": "code",
   "execution_count": null,
   "id": "e1d3a501",
   "metadata": {
    "attributes": {
     "classes": [
      "javascript"
     ],
     "id": ""
    }
   },
   "outputs": [],
   "source": [
    "const str = 'hello';\n",
    "str.at(1) // \"e\"\n",
    "str.at(-1) // \"o\""
   ]
  },
  {
   "cell_type": "markdown",
   "id": "56b7db3e",
   "metadata": {},
   "source": [
    "如果参数位置超出了字符串范围，`at()`返回`undefined`。\n",
    "\n",
    "该方法来自数组添加的`at()`方法，目前还是一个第三阶段的提案，可以参考《数组》一章的介绍。"
   ]
  }
 ],
 "metadata": {},
 "nbformat": 4,
 "nbformat_minor": 5
}

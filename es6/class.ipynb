{
 "cells": [
  {
   "cell_type": "markdown",
   "id": "b71ab2a5",
   "metadata": {},
   "source": [
    "# Class 的基本语法\n",
    "\n",
    "## 类的由来\n",
    "\n",
    "JavaScript 语言中，生成实例对象的传统方法是通过构造函数。下面是一个例子。"
   ]
  },
  {
   "cell_type": "code",
   "execution_count": null,
   "id": "ab416337",
   "metadata": {
    "attributes": {
     "classes": [
      "javascript"
     ],
     "id": ""
    }
   },
   "outputs": [],
   "source": [
    "function Point(x, y) {\n",
    "  this.x = x;\n",
    "  this.y = y;\n",
    "}\n",
    "\n",
    "Point.prototype.toString = function () {\n",
    "  return '(' + this.x + ', ' + this.y + ')';\n",
    "};\n",
    "\n",
    "var p = new Point(1, 2);"
   ]
  },
  {
   "cell_type": "markdown",
   "id": "39cfc3fd",
   "metadata": {},
   "source": [
    "上面这种写法跟传统的面向对象语言（比如 C++ 和 Java）差异很大，很容易让新学习这门语言的程序员感到困惑。\n",
    "\n",
    "ES6 提供了更接近传统语言的写法，引入了 Class（类）这个概念，作为对象的模板。通过`class`关键字，可以定义类。\n",
    "\n",
    "基本上，ES6 的`class`可以看作只是一个语法糖，它的绝大部分功能，ES5 都可以做到，新的`class`写法只是让对象原型的写法更加清晰、更像面向对象编程的语法而已。上面的代码用 ES6 的`class`改写，就是下面这样。"
   ]
  },
  {
   "cell_type": "code",
   "execution_count": null,
   "id": "8e188019",
   "metadata": {
    "attributes": {
     "classes": [
      "javascript"
     ],
     "id": ""
    }
   },
   "outputs": [],
   "source": [
    "class Point {\n",
    "  constructor(x, y) {\n",
    "    this.x = x;\n",
    "    this.y = y;\n",
    "  }\n",
    "\n",
    "  toString() {\n",
    "    return '(' + this.x + ', ' + this.y + ')';\n",
    "  }\n",
    "}"
   ]
  },
  {
   "cell_type": "markdown",
   "id": "40315359",
   "metadata": {},
   "source": [
    "上面代码定义了一个“类”，可以看到里面有一个`constructor()`方法，这就是构造方法，而`this`关键字则代表实例对象。这种新的 Class 写法，本质上与本章开头的 ES5 的构造函数`Point`是一致的。\n",
    "\n",
    "`Point`类除了构造方法，还定义了一个`toString()`方法。注意，定义`toString()`方法的时候，前面不需要加上`function`这个关键字，直接把函数定义放进去了就可以了。另外，方法与方法之间不需要逗号分隔，加了会报错。\n",
    "\n",
    "ES6 的类，完全可以看作构造函数的另一种写法。"
   ]
  },
  {
   "cell_type": "code",
   "execution_count": null,
   "id": "b5d8a97a",
   "metadata": {
    "attributes": {
     "classes": [
      "javascript"
     ],
     "id": ""
    }
   },
   "outputs": [],
   "source": [
    "class Point {\n",
    "  // ...\n",
    "}\n",
    "\n",
    "typeof Point // \"function\"\n",
    "Point === Point.prototype.constructor // true"
   ]
  },
  {
   "cell_type": "markdown",
   "id": "0174e416",
   "metadata": {},
   "source": [
    "上面代码表明，类的数据类型就是函数，类本身就指向构造函数。\n",
    "\n",
    "使用的时候，也是直接对类使用`new`命令，跟构造函数的用法完全一致。"
   ]
  },
  {
   "cell_type": "code",
   "execution_count": null,
   "id": "e7c93bdc",
   "metadata": {
    "attributes": {
     "classes": [
      "javascript"
     ],
     "id": ""
    }
   },
   "outputs": [],
   "source": [
    "class Bar {\n",
    "  doStuff() {\n",
    "    console.log('stuff');\n",
    "  }\n",
    "}\n",
    "\n",
    "const b = new Bar();\n",
    "b.doStuff() // \"stuff\""
   ]
  },
  {
   "cell_type": "markdown",
   "id": "203810c7",
   "metadata": {},
   "source": [
    "构造函数的`prototype`属性，在 ES6 的“类”上面继续存在。事实上，类的所有方法都定义在类的`prototype`属性上面。"
   ]
  },
  {
   "cell_type": "code",
   "execution_count": null,
   "id": "3be646d4",
   "metadata": {
    "attributes": {
     "classes": [
      "javascript"
     ],
     "id": ""
    }
   },
   "outputs": [],
   "source": [
    "class Point {\n",
    "  constructor() {\n",
    "    // ...\n",
    "  }\n",
    "\n",
    "  toString() {\n",
    "    // ...\n",
    "  }\n",
    "\n",
    "  toValue() {\n",
    "    // ...\n",
    "  }\n",
    "}\n",
    "\n",
    "// 等同于\n",
    "\n",
    "Point.prototype = {\n",
    "  constructor() {},\n",
    "  toString() {},\n",
    "  toValue() {},\n",
    "};"
   ]
  },
  {
   "cell_type": "markdown",
   "id": "2eefe3a3",
   "metadata": {},
   "source": [
    "上面代码中，`constructor()`、`toString()`、`toValue()`这三个方法，其实都是定义在`Point.prototype`上面。\n",
    "\n",
    "因此，在类的实例上面调用方法，其实就是调用原型上的方法。"
   ]
  },
  {
   "cell_type": "code",
   "execution_count": null,
   "id": "0120cc19",
   "metadata": {
    "attributes": {
     "classes": [
      "javascript"
     ],
     "id": ""
    }
   },
   "outputs": [],
   "source": [
    "class B {}\n",
    "const b = new B();\n",
    "\n",
    "b.constructor === B.prototype.constructor // true"
   ]
  },
  {
   "cell_type": "markdown",
   "id": "2a1d82b0",
   "metadata": {},
   "source": [
    "上面代码中，`b`是`B`类的实例，它的`constructor()`方法就是`B`类原型的`constructor()`方法。\n",
    "\n",
    "由于类的方法都定义在`prototype`对象上面，所以类的新方法可以添加在`prototype`对象上面。`Object.assign()`方法可以很方便地一次向类添加多个方法。"
   ]
  },
  {
   "cell_type": "code",
   "execution_count": null,
   "id": "0273f863",
   "metadata": {
    "attributes": {
     "classes": [
      "javascript"
     ],
     "id": ""
    }
   },
   "outputs": [],
   "source": [
    "class Point {\n",
    "  constructor(){\n",
    "    // ...\n",
    "  }\n",
    "}\n",
    "\n",
    "Object.assign(Point.prototype, {\n",
    "  toString(){},\n",
    "  toValue(){}\n",
    "});"
   ]
  },
  {
   "cell_type": "markdown",
   "id": "2fb58627",
   "metadata": {},
   "source": [
    "`prototype`对象的`constructor`属性，直接指向“类”的本身，这与 ES5 的行为是一致的。"
   ]
  },
  {
   "cell_type": "code",
   "execution_count": null,
   "id": "707a7818",
   "metadata": {
    "attributes": {
     "classes": [
      "javascript"
     ],
     "id": ""
    }
   },
   "outputs": [],
   "source": [
    "Point.prototype.constructor === Point // true"
   ]
  },
  {
   "cell_type": "markdown",
   "id": "1d18d79b",
   "metadata": {},
   "source": [
    "另外，类的内部所有定义的方法，都是不可枚举的（non-enumerable）。"
   ]
  },
  {
   "cell_type": "code",
   "execution_count": null,
   "id": "80bf91f3",
   "metadata": {
    "attributes": {
     "classes": [
      "javascript"
     ],
     "id": ""
    }
   },
   "outputs": [],
   "source": [
    "class Point {\n",
    "  constructor(x, y) {\n",
    "    // ...\n",
    "  }\n",
    "\n",
    "  toString() {\n",
    "    // ...\n",
    "  }\n",
    "}\n",
    "\n",
    "Object.keys(Point.prototype)\n",
    "// []\n",
    "Object.getOwnPropertyNames(Point.prototype)\n",
    "// [\"constructor\",\"toString\"]"
   ]
  },
  {
   "cell_type": "markdown",
   "id": "610441f2",
   "metadata": {},
   "source": [
    "上面代码中，`toString()`方法是`Point`类内部定义的方法，它是不可枚举的。这一点与 ES5 的行为不一致。"
   ]
  },
  {
   "cell_type": "code",
   "execution_count": null,
   "id": "66169eef",
   "metadata": {
    "attributes": {
     "classes": [
      "javascript"
     ],
     "id": ""
    }
   },
   "outputs": [],
   "source": [
    "var Point = function (x, y) {\n",
    "  // ...\n",
    "};\n",
    "\n",
    "Point.prototype.toString = function () {\n",
    "  // ...\n",
    "};\n",
    "\n",
    "Object.keys(Point.prototype)\n",
    "// [\"toString\"]\n",
    "Object.getOwnPropertyNames(Point.prototype)\n",
    "// [\"constructor\",\"toString\"]"
   ]
  },
  {
   "cell_type": "markdown",
   "id": "c80ab31c",
   "metadata": {},
   "source": [
    "上面代码采用 ES5 的写法，`toString()`方法就是可枚举的。\n",
    "\n",
    "## constructor() 方法\n",
    "\n",
    "`constructor()`方法是类的默认方法，通过`new`命令生成对象实例时，自动调用该方法。一个类必须有`constructor()`方法，如果没有显式定义，一个空的`constructor()`方法会被默认添加。"
   ]
  },
  {
   "cell_type": "code",
   "execution_count": null,
   "id": "fb121ef8",
   "metadata": {
    "attributes": {
     "classes": [
      "javascript"
     ],
     "id": ""
    }
   },
   "outputs": [],
   "source": [
    "class Point {\n",
    "}\n",
    "\n",
    "// 等同于\n",
    "class Point {\n",
    "  constructor() {}\n",
    "}"
   ]
  },
  {
   "cell_type": "markdown",
   "id": "12c5fc4f",
   "metadata": {},
   "source": [
    "上面代码中，定义了一个空的类`Point`，JavaScript 引擎会自动为它添加一个空的`constructor()`方法。\n",
    "\n",
    "`constructor()`方法默认返回实例对象（即`this`），完全可以指定返回另外一个对象。"
   ]
  },
  {
   "cell_type": "code",
   "execution_count": null,
   "id": "119246b0",
   "metadata": {
    "attributes": {
     "classes": [
      "javascript"
     ],
     "id": ""
    }
   },
   "outputs": [],
   "source": [
    "class Foo {\n",
    "  constructor() {\n",
    "    return Object.create(null);\n",
    "  }\n",
    "}\n",
    "\n",
    "new Foo() instanceof Foo\n",
    "// false"
   ]
  },
  {
   "cell_type": "markdown",
   "id": "08050a47",
   "metadata": {},
   "source": [
    "上面代码中，`constructor()`函数返回一个全新的对象，结果导致实例对象不是`Foo`类的实例。\n",
    "\n",
    "类必须使用`new`调用，否则会报错。这是它跟普通构造函数的一个主要区别，后者不用`new`也可以执行。"
   ]
  },
  {
   "cell_type": "code",
   "execution_count": null,
   "id": "ee6d9569",
   "metadata": {
    "attributes": {
     "classes": [
      "javascript"
     ],
     "id": ""
    }
   },
   "outputs": [],
   "source": [
    "class Foo {\n",
    "  constructor() {\n",
    "    return Object.create(null);\n",
    "  }\n",
    "}\n",
    "\n",
    "Foo()\n",
    "// TypeError: Class constructor Foo cannot be invoked without 'new'"
   ]
  },
  {
   "cell_type": "markdown",
   "id": "866a5352",
   "metadata": {},
   "source": [
    "## 类的实例\n",
    "\n",
    "生成类的实例的写法，与 ES5 完全一样，也是使用`new`命令。前面说过，如果忘记加上`new`，像函数那样调用`Class()`，将会报错。"
   ]
  },
  {
   "cell_type": "code",
   "execution_count": null,
   "id": "29f3caf6",
   "metadata": {
    "attributes": {
     "classes": [
      "javascript"
     ],
     "id": ""
    }
   },
   "outputs": [],
   "source": [
    "class Point {\n",
    "  // ...\n",
    "}\n",
    "\n",
    "// 报错\n",
    "var point = Point(2, 3);\n",
    "\n",
    "// 正确\n",
    "var point = new Point(2, 3);"
   ]
  },
  {
   "cell_type": "markdown",
   "id": "29a7abf6",
   "metadata": {},
   "source": [
    "类的属性和方法，除非显式定义在其本身（即定义在`this`对象上），否则都是定义在原型上（即定义在`class`上）。"
   ]
  },
  {
   "cell_type": "code",
   "execution_count": null,
   "id": "8fe94673",
   "metadata": {
    "attributes": {
     "classes": [
      "javascript"
     ],
     "id": ""
    }
   },
   "outputs": [],
   "source": [
    "class Point {\n",
    "  constructor(x, y) {\n",
    "    this.x = x;\n",
    "    this.y = y;\n",
    "  }\n",
    "\n",
    "  toString() {\n",
    "    return '(' + this.x + ', ' + this.y + ')';\n",
    "  }\n",
    "}\n",
    "\n",
    "var point = new Point(2, 3);\n",
    "\n",
    "point.toString() // (2, 3)\n",
    "\n",
    "point.hasOwnProperty('x') // true\n",
    "point.hasOwnProperty('y') // true\n",
    "point.hasOwnProperty('toString') // false\n",
    "point.__proto__.hasOwnProperty('toString') // true"
   ]
  },
  {
   "cell_type": "markdown",
   "id": "9248d686",
   "metadata": {},
   "source": [
    "上面代码中，`x`和`y`都是实例对象`point`自身的属性（因为定义在`this`对象上），所以`hasOwnProperty()`方法返回`true`，而`toString()`是原型对象的属性（因为定义在`Point`类上），所以`hasOwnProperty()`方法返回`false`。这些都与 ES5 的行为保持一致。\n",
    "\n",
    "与 ES5 一样，类的所有实例共享一个原型对象。"
   ]
  },
  {
   "cell_type": "code",
   "execution_count": null,
   "id": "a1ae854b",
   "metadata": {
    "attributes": {
     "classes": [
      "javascript"
     ],
     "id": ""
    }
   },
   "outputs": [],
   "source": [
    "var p1 = new Point(2,3);\n",
    "var p2 = new Point(3,2);\n",
    "\n",
    "p1.__proto__ === p2.__proto__\n",
    "//true"
   ]
  },
  {
   "cell_type": "markdown",
   "id": "32196453",
   "metadata": {},
   "source": [
    "上面代码中，`p1`和`p2`都是`Point`的实例，它们的原型都是`Point.prototype`，所以`__proto__`属性是相等的。\n",
    "\n",
    "这也意味着，可以通过实例的`__proto__`属性为“类”添加方法。\n",
    "\n",
    "> `__proto__` 并不是语言本身的特性，这是各大厂商具体实现时添加的私有属性，虽然目前很多现代浏览器的 JS 引擎中都提供了这个私有属性，但依旧不建议在生产中使用该属性，避免对环境产生依赖。生产环境中，我们可以使用 `Object.getPrototypeOf()` 方法来获取实例对象的原型，然后再来为原型添加方法/属性。"
   ]
  },
  {
   "cell_type": "code",
   "execution_count": null,
   "id": "a078767b",
   "metadata": {
    "attributes": {
     "classes": [
      "javascript"
     ],
     "id": ""
    }
   },
   "outputs": [],
   "source": [
    "var p1 = new Point(2,3);\n",
    "var p2 = new Point(3,2);\n",
    "\n",
    "p1.__proto__.printName = function () { return 'Oops' };\n",
    "\n",
    "p1.printName() // \"Oops\"\n",
    "p2.printName() // \"Oops\"\n",
    "\n",
    "var p3 = new Point(4,2);\n",
    "p3.printName() // \"Oops\""
   ]
  },
  {
   "cell_type": "markdown",
   "id": "fec8b833",
   "metadata": {},
   "source": [
    "上面代码在`p1`的原型上添加了一个`printName()`方法，由于`p1`的原型就是`p2`的原型，因此`p2`也可以调用这个方法。而且，此后新建的实例`p3`也可以调用这个方法。这意味着，使用实例的`__proto__`属性改写原型，必须相当谨慎，不推荐使用，因为这会改变“类”的原始定义，影响到所有实例。\n",
    "\n",
    "## 实例属性的新写法\n",
    "\n",
    "[ES2022](https://github.com/tc39/proposal-class-fields) 为类的实例属性，又规定了一种新写法。实例属性现在除了可以定义在`constructor()`方法里面的`this`上面，也可以定义在类内部的最顶层。"
   ]
  },
  {
   "cell_type": "code",
   "execution_count": null,
   "id": "107a249f",
   "metadata": {
    "attributes": {
     "classes": [
      "javascript"
     ],
     "id": ""
    }
   },
   "outputs": [],
   "source": [
    "// 原来的写法\n",
    "class IncreasingCounter {\n",
    "  constructor() {\n",
    "    this._count = 0;\n",
    "  }\n",
    "  get value() {\n",
    "    console.log('Getting the current value!');\n",
    "    return this._count;\n",
    "  }\n",
    "  increment() {\n",
    "    this._count++;\n",
    "  }\n",
    "}"
   ]
  },
  {
   "cell_type": "markdown",
   "id": "08159418",
   "metadata": {},
   "source": [
    "上面示例中，实例属性`_count`定义在`constructor()`方法里面的`this`上面。\n",
    "\n",
    "现在的新写法是，这个属性也可以定义在类的最顶层，其他都不变。"
   ]
  },
  {
   "cell_type": "code",
   "execution_count": null,
   "id": "f11c03a4",
   "metadata": {
    "attributes": {
     "classes": [
      "javascript"
     ],
     "id": ""
    }
   },
   "outputs": [],
   "source": [
    "class IncreasingCounter {\n",
    "  _count = 0;\n",
    "  get value() {\n",
    "    console.log('Getting the current value!');\n",
    "    return this._count;\n",
    "  }\n",
    "  increment() {\n",
    "    this._count++;\n",
    "  }\n",
    "}"
   ]
  },
  {
   "cell_type": "markdown",
   "id": "49f5aa4c",
   "metadata": {},
   "source": [
    "上面代码中，实例属性`_count`与取值函数`value()`和`increment()`方法，处于同一个层级。这时，不需要在实例属性前面加上`this`。\n",
    "\n",
    "注意，新写法定义的属性是实例对象自身的属性，而不是定义在实例对象的原型上面。\n",
    "\n",
    "这种新写法的好处是，所有实例对象自身的属性都定义在类的头部，看上去比较整齐，一眼就能看出这个类有哪些实例属性。"
   ]
  },
  {
   "cell_type": "code",
   "execution_count": null,
   "id": "04bba29e",
   "metadata": {
    "attributes": {
     "classes": [
      "javascript"
     ],
     "id": ""
    }
   },
   "outputs": [],
   "source": [
    "class foo {\n",
    "  bar = 'hello';\n",
    "  baz = 'world';\n",
    "\n",
    "  constructor() {\n",
    "    // ...\n",
    "  }\n",
    "}"
   ]
  },
  {
   "cell_type": "markdown",
   "id": "5551f48a",
   "metadata": {},
   "source": [
    "上面的代码，一眼就能看出，`foo`类有两个实例属性，一目了然。另外，写起来也比较简洁。\n",
    "\n",
    "## 取值函数（getter）和存值函数（setter）\n",
    "\n",
    "与 ES5 一样，在“类”的内部可以使用`get`和`set`关键字，对某个属性设置存值函数和取值函数，拦截该属性的存取行为。"
   ]
  },
  {
   "cell_type": "code",
   "execution_count": null,
   "id": "b7bf88b5",
   "metadata": {
    "attributes": {
     "classes": [
      "javascript"
     ],
     "id": ""
    }
   },
   "outputs": [],
   "source": [
    "class MyClass {\n",
    "  constructor() {\n",
    "    // ...\n",
    "  }\n",
    "  get prop() {\n",
    "    return 'getter';\n",
    "  }\n",
    "  set prop(value) {\n",
    "    console.log('setter: '+value);\n",
    "  }\n",
    "}\n",
    "\n",
    "let inst = new MyClass();\n",
    "\n",
    "inst.prop = 123;\n",
    "// setter: 123\n",
    "\n",
    "inst.prop\n",
    "// 'getter'"
   ]
  },
  {
   "cell_type": "markdown",
   "id": "728e8a8d",
   "metadata": {},
   "source": [
    "上面代码中，`prop`属性有对应的存值函数和取值函数，因此赋值和读取行为都被自定义了。\n",
    "\n",
    "存值函数和取值函数是设置在属性的 Descriptor 对象上的。"
   ]
  },
  {
   "cell_type": "code",
   "execution_count": null,
   "id": "d9d73e98",
   "metadata": {
    "attributes": {
     "classes": [
      "javascript"
     ],
     "id": ""
    }
   },
   "outputs": [],
   "source": [
    "class CustomHTMLElement {\n",
    "  constructor(element) {\n",
    "    this.element = element;\n",
    "  }\n",
    "\n",
    "  get html() {\n",
    "    return this.element.innerHTML;\n",
    "  }\n",
    "\n",
    "  set html(value) {\n",
    "    this.element.innerHTML = value;\n",
    "  }\n",
    "}\n",
    "\n",
    "var descriptor = Object.getOwnPropertyDescriptor(\n",
    "  CustomHTMLElement.prototype, \"html\"\n",
    ");\n",
    "\n",
    "\"get\" in descriptor  // true\n",
    "\"set\" in descriptor  // true"
   ]
  },
  {
   "cell_type": "markdown",
   "id": "c748fce7",
   "metadata": {},
   "source": [
    "上面代码中，存值函数和取值函数是定义在`html`属性的描述对象上面，这与 ES5 完全一致。\n",
    "\n",
    "## 属性表达式\n",
    "\n",
    "类的属性名，可以采用表达式。"
   ]
  },
  {
   "cell_type": "code",
   "execution_count": null,
   "id": "67b5c28e",
   "metadata": {
    "attributes": {
     "classes": [
      "javascript"
     ],
     "id": ""
    }
   },
   "outputs": [],
   "source": [
    "let methodName = 'getArea';\n",
    "\n",
    "class Square {\n",
    "  constructor(length) {\n",
    "    // ...\n",
    "  }\n",
    "\n",
    "  [methodName]() {\n",
    "    // ...\n",
    "  }\n",
    "}"
   ]
  },
  {
   "cell_type": "markdown",
   "id": "8f562d54",
   "metadata": {},
   "source": [
    "上面代码中，`Square`类的方法名`getArea`，是从表达式得到的。\n",
    "\n",
    "## Class 表达式\n",
    "\n",
    "与函数一样，类也可以使用表达式的形式定义。"
   ]
  },
  {
   "cell_type": "code",
   "execution_count": null,
   "id": "0728d74a",
   "metadata": {
    "attributes": {
     "classes": [
      "javascript"
     ],
     "id": ""
    }
   },
   "outputs": [],
   "source": [
    "const MyClass = class Me {\n",
    "  getClassName() {\n",
    "    return Me.name;\n",
    "  }\n",
    "};"
   ]
  },
  {
   "cell_type": "markdown",
   "id": "258731a2",
   "metadata": {},
   "source": [
    "上面代码使用表达式定义了一个类。需要注意的是，这个类的名字是`Me`，但是`Me`只在 Class 的内部可用，指代当前类。在 Class 外部，这个类只能用`MyClass`引用。"
   ]
  },
  {
   "cell_type": "code",
   "execution_count": null,
   "id": "3f390797",
   "metadata": {
    "attributes": {
     "classes": [
      "javascript"
     ],
     "id": ""
    }
   },
   "outputs": [],
   "source": [
    "let inst = new MyClass();\n",
    "inst.getClassName() // Me\n",
    "Me.name // ReferenceError: Me is not defined"
   ]
  },
  {
   "cell_type": "markdown",
   "id": "f26a203d",
   "metadata": {},
   "source": [
    "上面代码表示，`Me`只在 Class 内部有定义。\n",
    "\n",
    "如果类的内部没用到的话，可以省略`Me`，也就是可以写成下面的形式。"
   ]
  },
  {
   "cell_type": "code",
   "execution_count": null,
   "id": "c07e3bc8",
   "metadata": {
    "attributes": {
     "classes": [
      "javascript"
     ],
     "id": ""
    }
   },
   "outputs": [],
   "source": [
    "const MyClass = class { /* ... */ };"
   ]
  },
  {
   "cell_type": "markdown",
   "id": "9086e14d",
   "metadata": {},
   "source": [
    "采用 Class 表达式，可以写出立即执行的 Class。"
   ]
  },
  {
   "cell_type": "code",
   "execution_count": null,
   "id": "620165e9",
   "metadata": {
    "attributes": {
     "classes": [
      "javascript"
     ],
     "id": ""
    }
   },
   "outputs": [],
   "source": [
    "let person = new class {\n",
    "  constructor(name) {\n",
    "    this.name = name;\n",
    "  }\n",
    "\n",
    "  sayName() {\n",
    "    console.log(this.name);\n",
    "  }\n",
    "}('张三');\n",
    "\n",
    "person.sayName(); // \"张三\""
   ]
  },
  {
   "cell_type": "markdown",
   "id": "93ebba0b",
   "metadata": {},
   "source": [
    "上面代码中，`person`是一个立即执行的类的实例。\n",
    "\n",
    "## 静态方法\n",
    "\n",
    "类相当于实例的原型，所有在类中定义的方法，都会被实例继承。如果在一个方法前，加上`static`关键字，就表示该方法不会被实例继承，而是直接通过类来调用，这就称为“静态方法”。"
   ]
  },
  {
   "cell_type": "code",
   "execution_count": null,
   "id": "d813506d",
   "metadata": {
    "attributes": {
     "classes": [
      "javascript"
     ],
     "id": ""
    }
   },
   "outputs": [],
   "source": [
    "class Foo {\n",
    "  static classMethod() {\n",
    "    return 'hello';\n",
    "  }\n",
    "}\n",
    "\n",
    "Foo.classMethod() // 'hello'\n",
    "\n",
    "var foo = new Foo();\n",
    "foo.classMethod()\n",
    "// TypeError: foo.classMethod is not a function"
   ]
  },
  {
   "cell_type": "markdown",
   "id": "d9e49cfe",
   "metadata": {},
   "source": [
    "上面代码中，`Foo`类的`classMethod`方法前有`static`关键字，表明该方法是一个静态方法，可以直接在`Foo`类上调用（`Foo.classMethod()`），而不是在`Foo`类的实例上调用。如果在实例上调用静态方法，会抛出一个错误，表示不存在该方法。\n",
    "\n",
    "注意，如果静态方法包含`this`关键字，这个`this`指的是类，而不是实例。"
   ]
  },
  {
   "cell_type": "code",
   "execution_count": null,
   "id": "2187bd5d",
   "metadata": {
    "attributes": {
     "classes": [
      "javascript"
     ],
     "id": ""
    }
   },
   "outputs": [],
   "source": [
    "class Foo {\n",
    "  static bar() {\n",
    "    this.baz();\n",
    "  }\n",
    "  static baz() {\n",
    "    console.log('hello');\n",
    "  }\n",
    "  baz() {\n",
    "    console.log('world');\n",
    "  }\n",
    "}\n",
    "\n",
    "Foo.bar() // hello"
   ]
  },
  {
   "cell_type": "markdown",
   "id": "bcbfad55",
   "metadata": {},
   "source": [
    "上面代码中，静态方法`bar`调用了`this.baz`，这里的`this`指的是`Foo`类，而不是`Foo`的实例，等同于调用`Foo.baz`。另外，从这个例子还可以看出，静态方法可以与非静态方法重名。\n",
    "\n",
    "父类的静态方法，可以被子类继承。"
   ]
  },
  {
   "cell_type": "code",
   "execution_count": null,
   "id": "712024a1",
   "metadata": {
    "attributes": {
     "classes": [
      "javascript"
     ],
     "id": ""
    }
   },
   "outputs": [],
   "source": [
    "class Foo {\n",
    "  static classMethod() {\n",
    "    return 'hello';\n",
    "  }\n",
    "}\n",
    "\n",
    "class Bar extends Foo {\n",
    "}\n",
    "\n",
    "Bar.classMethod() // 'hello'"
   ]
  },
  {
   "cell_type": "markdown",
   "id": "65634c72",
   "metadata": {},
   "source": [
    "上面代码中，父类`Foo`有一个静态方法，子类`Bar`可以调用这个方法。\n",
    "\n",
    "静态方法也是可以从`super`对象上调用的。"
   ]
  },
  {
   "cell_type": "code",
   "execution_count": null,
   "id": "a1f6ac83",
   "metadata": {
    "attributes": {
     "classes": [
      "javascript"
     ],
     "id": ""
    }
   },
   "outputs": [],
   "source": [
    "class Foo {\n",
    "  static classMethod() {\n",
    "    return 'hello';\n",
    "  }\n",
    "}\n",
    "\n",
    "class Bar extends Foo {\n",
    "  static classMethod() {\n",
    "    return super.classMethod() + ', too';\n",
    "  }\n",
    "}\n",
    "\n",
    "Bar.classMethod() // \"hello, too\""
   ]
  },
  {
   "cell_type": "markdown",
   "id": "e973c008",
   "metadata": {},
   "source": [
    "## 静态属性\n",
    "\n",
    "静态属性指的是 Class 本身的属性，即`Class.propName`，而不是定义在实例对象（`this`）上的属性。"
   ]
  },
  {
   "cell_type": "code",
   "execution_count": null,
   "id": "29487bf7",
   "metadata": {
    "attributes": {
     "classes": [
      "javascript"
     ],
     "id": ""
    }
   },
   "outputs": [],
   "source": [
    "class Foo {\n",
    "}\n",
    "\n",
    "Foo.prop = 1;\n",
    "Foo.prop // 1"
   ]
  },
  {
   "cell_type": "markdown",
   "id": "fb89ecff",
   "metadata": {},
   "source": [
    "上面的写法为`Foo`类定义了一个静态属性`prop`。\n",
    "\n",
    "目前，只有这种写法可行，因为 ES6 明确规定，Class 内部只有静态方法，没有静态属性。现在有一个[提案](https://github.com/tc39/proposal-class-fields)提供了类的静态属性，写法是在实例属性的前面，加上`static`关键字。"
   ]
  },
  {
   "cell_type": "code",
   "execution_count": null,
   "id": "a88e2a0b",
   "metadata": {
    "attributes": {
     "classes": [
      "javascript"
     ],
     "id": ""
    }
   },
   "outputs": [],
   "source": [
    "class MyClass {\n",
    "  static myStaticProp = 42;\n",
    "\n",
    "  constructor() {\n",
    "    console.log(MyClass.myStaticProp); // 42\n",
    "  }\n",
    "}"
   ]
  },
  {
   "cell_type": "markdown",
   "id": "0b99b558",
   "metadata": {},
   "source": [
    "这个新写法大大方便了静态属性的表达。"
   ]
  },
  {
   "cell_type": "code",
   "execution_count": null,
   "id": "7624ea90",
   "metadata": {
    "attributes": {
     "classes": [
      "javascript"
     ],
     "id": ""
    }
   },
   "outputs": [],
   "source": [
    "// 老写法\n",
    "class Foo {\n",
    "  // ...\n",
    "}\n",
    "Foo.prop = 1;\n",
    "\n",
    "// 新写法\n",
    "class Foo {\n",
    "  static prop = 1;\n",
    "}"
   ]
  },
  {
   "cell_type": "markdown",
   "id": "383adbb4",
   "metadata": {},
   "source": [
    "上面代码中，老写法的静态属性定义在类的外部。整个类生成以后，再生成静态属性。这样让人很容易忽略这个静态属性，也不符合相关代码应该放在一起的代码组织原则。另外，新写法是显式声明（declarative），而不是赋值处理，语义更好。\n",
    "\n",
    "## 私有方法和私有属性\n",
    "\n",
    "### 早期解决方案\n",
    "\n",
    "私有方法和私有属性，是只能在类的内部访问的方法和属性，外部不能访问。这是常见需求，有利于代码的封装，但早期的 ES6 不提供，只能通过变通方法模拟实现。\n",
    "\n",
    "一种做法是在命名上加以区别。"
   ]
  },
  {
   "cell_type": "code",
   "execution_count": null,
   "id": "f122fb1a",
   "metadata": {
    "attributes": {
     "classes": [
      "javascript"
     ],
     "id": ""
    }
   },
   "outputs": [],
   "source": [
    "class Widget {\n",
    "\n",
    "  // 公有方法\n",
    "  foo (baz) {\n",
    "    this._bar(baz);\n",
    "  }\n",
    "\n",
    "  // 私有方法\n",
    "  _bar(baz) {\n",
    "    return this.snaf = baz;\n",
    "  }\n",
    "\n",
    "  // ...\n",
    "}"
   ]
  },
  {
   "cell_type": "markdown",
   "id": "d204eea3",
   "metadata": {},
   "source": [
    "上面代码中，`_bar()`方法前面的下划线，表示这是一个只限于内部使用的私有方法。但是，这种命名是不保险的，在类的外部，还是可以调用到这个方法。\n",
    "\n",
    "另一种方法就是索性将私有方法移出类，因为类内部的所有方法都是对外可见的。"
   ]
  },
  {
   "cell_type": "code",
   "execution_count": null,
   "id": "bb3bd8a5",
   "metadata": {
    "attributes": {
     "classes": [
      "javascript"
     ],
     "id": ""
    }
   },
   "outputs": [],
   "source": [
    "class Widget {\n",
    "  foo (baz) {\n",
    "    bar.call(this, baz);\n",
    "  }\n",
    "\n",
    "  // ...\n",
    "}\n",
    "\n",
    "function bar(baz) {\n",
    "  return this.snaf = baz;\n",
    "}"
   ]
  },
  {
   "cell_type": "markdown",
   "id": "c2bd7091",
   "metadata": {},
   "source": [
    "上面代码中，`foo`是公开方法，内部调用了`bar.call(this, baz)`。这使得`bar()`实际上成为了当前类的私有方法。\n",
    "\n",
    "还有一种方法是利用`Symbol`值的唯一性，将私有方法的名字命名为一个`Symbol`值。"
   ]
  },
  {
   "cell_type": "code",
   "execution_count": null,
   "id": "309e736c",
   "metadata": {
    "attributes": {
     "classes": [
      "javascript"
     ],
     "id": ""
    }
   },
   "outputs": [],
   "source": [
    "const bar = Symbol('bar');\n",
    "const snaf = Symbol('snaf');\n",
    "\n",
    "export default class myClass{\n",
    "\n",
    "  // 公有方法\n",
    "  foo(baz) {\n",
    "    this[bar](baz);\n",
    "  }\n",
    "\n",
    "  // 私有方法\n",
    "  [bar](baz) {\n",
    "    return this[snaf] = baz;\n",
    "  }\n",
    "\n",
    "  // ...\n",
    "};"
   ]
  },
  {
   "cell_type": "markdown",
   "id": "225d8f20",
   "metadata": {},
   "source": [
    "上面代码中，`bar`和`snaf`都是`Symbol`值，一般情况下无法获取到它们，因此达到了私有方法和私有属性的效果。但是也不是绝对不行，`Reflect.ownKeys()`依然可以拿到它们。"
   ]
  },
  {
   "cell_type": "code",
   "execution_count": null,
   "id": "88197b99",
   "metadata": {
    "attributes": {
     "classes": [
      "javascript"
     ],
     "id": ""
    }
   },
   "outputs": [],
   "source": [
    "const inst = new myClass();\n",
    "\n",
    "Reflect.ownKeys(myClass.prototype)\n",
    "// [ 'constructor', 'foo', Symbol(bar) ]"
   ]
  },
  {
   "cell_type": "markdown",
   "id": "48f6fab9",
   "metadata": {},
   "source": [
    "上面代码中，Symbol 值的属性名依然可以从类的外部拿到。\n",
    "\n",
    "### 私有属性的正式写法\n",
    "\n",
    "[ES2022](https://github.com/tc39/proposal-class-fields)正式为`class`添加了私有属性，方法是在属性名之前使用`#`表示。"
   ]
  },
  {
   "cell_type": "code",
   "execution_count": null,
   "id": "706e04f1",
   "metadata": {
    "attributes": {
     "classes": [
      "javascript"
     ],
     "id": ""
    }
   },
   "outputs": [],
   "source": [
    "class IncreasingCounter {\n",
    "  #count = 0;\n",
    "  get value() {\n",
    "    console.log('Getting the current value!');\n",
    "    return this.#count;\n",
    "  }\n",
    "  increment() {\n",
    "    this.#count++;\n",
    "  }\n",
    "}"
   ]
  },
  {
   "cell_type": "markdown",
   "id": "dd9b1c58",
   "metadata": {},
   "source": [
    "上面代码中，`#count`就是私有属性，只能在类的内部使用（`this.#count`）。如果在类的外部使用，就会报错。"
   ]
  },
  {
   "cell_type": "code",
   "execution_count": null,
   "id": "b4a27c53",
   "metadata": {
    "attributes": {
     "classes": [
      "javascript"
     ],
     "id": ""
    }
   },
   "outputs": [],
   "source": [
    "const counter = new IncreasingCounter();\n",
    "counter.#count // 报错\n",
    "counter.#count = 42 // 报错"
   ]
  },
  {
   "cell_type": "markdown",
   "id": "aab85d46",
   "metadata": {},
   "source": [
    "上面示例中，在类的外部，读取或写入私有属性`#count`，都会报错。\n",
    "\n",
    "另外，不管在类的内部或外部，读取一个不存在的私有属性，也都会报错。这跟公开属性的行为完全不同，如果读取一个不存在的公开属性，不会报错，只会返回`undefined`。"
   ]
  },
  {
   "cell_type": "code",
   "execution_count": null,
   "id": "bdc48469",
   "metadata": {
    "attributes": {
     "classes": [
      "javascript"
     ],
     "id": ""
    }
   },
   "outputs": [],
   "source": [
    "class IncreasingCounter {\n",
    "  #count = 0;\n",
    "  get value() {\n",
    "    console.log('Getting the current value!');\n",
    "    return this.#myCount; // 报错\n",
    "  }\n",
    "  increment() {\n",
    "    this.#count++;\n",
    "  }\n",
    "}\n",
    "\n",
    "const counter = new IncreasingCounter();\n",
    "counter.#myCount // 报错"
   ]
  },
  {
   "cell_type": "markdown",
   "id": "7cdf4c1c",
   "metadata": {},
   "source": [
    "上面示例中，`#myCount`是一个不存在的私有属性，不管在函数内部或外部，读取该属性都会导致报错。\n",
    "\n",
    "注意，私有属性的属性名必须包括`#`，如果不带`#`，会被当作另一个属性。"
   ]
  },
  {
   "cell_type": "code",
   "execution_count": null,
   "id": "ff31d1f8",
   "metadata": {
    "attributes": {
     "classes": [
      "javascript"
     ],
     "id": ""
    }
   },
   "outputs": [],
   "source": [
    "class Point {\n",
    "  #x;\n",
    "\n",
    "  constructor(x = 0) {\n",
    "    this.#x = +x;\n",
    "  }\n",
    "\n",
    "  get x() {\n",
    "    return this.#x;\n",
    "  }\n",
    "\n",
    "  set x(value) {\n",
    "    this.#x = +value;\n",
    "  }\n",
    "}"
   ]
  },
  {
   "cell_type": "markdown",
   "id": "11d7134e",
   "metadata": {},
   "source": [
    "上面代码中，`#x`就是私有属性，在`Point`类之外是读取不到这个属性的。由于井号`#`是属性名的一部分，使用时必须带有`#`一起使用，所以`#x`和`x`是两个不同的属性。\n",
    "\n",
    "这种写法不仅可以写私有属性，还可以用来写私有方法。"
   ]
  },
  {
   "cell_type": "code",
   "execution_count": null,
   "id": "76b1a0a9",
   "metadata": {
    "attributes": {
     "classes": [
      "javascript"
     ],
     "id": ""
    }
   },
   "outputs": [],
   "source": [
    "class Foo {\n",
    "  #a;\n",
    "  #b;\n",
    "  constructor(a, b) {\n",
    "    this.#a = a;\n",
    "    this.#b = b;\n",
    "  }\n",
    "  #sum() {\n",
    "    return this.#a + this.#b;\n",
    "  }\n",
    "  printSum() {\n",
    "    console.log(this.#sum());\n",
    "  }\n",
    "}"
   ]
  },
  {
   "cell_type": "markdown",
   "id": "09b8d36a",
   "metadata": {},
   "source": [
    "上面示例中，`#sum()`就是一个私有方法。\n",
    "\n",
    "另外，私有属性也可以设置 getter 和 setter 方法。"
   ]
  },
  {
   "cell_type": "code",
   "execution_count": null,
   "id": "cd85675b",
   "metadata": {
    "attributes": {
     "classes": [
      "javascript"
     ],
     "id": ""
    }
   },
   "outputs": [],
   "source": [
    "class Counter {\n",
    "  #xValue = 0;\n",
    "\n",
    "  constructor() {\n",
    "    console.log(this.#x);\n",
    "  }\n",
    "\n",
    "  get #x() { return this.#xValue; }\n",
    "  set #x(value) {\n",
    "    this.#xValue = value;\n",
    "  }\n",
    "}"
   ]
  },
  {
   "cell_type": "markdown",
   "id": "8970e77d",
   "metadata": {},
   "source": [
    "上面代码中，`#x`是一个私有属性，它的读写都通过`get #x()`和`set #x()`操作另一个私有属性`#xValue`来完成。\n",
    "\n",
    "私有属性不限于从`this`引用，只要是在类的内部，实例也可以引用私有属性。"
   ]
  },
  {
   "cell_type": "code",
   "execution_count": null,
   "id": "6e243a15",
   "metadata": {
    "attributes": {
     "classes": [
      "javascript"
     ],
     "id": ""
    }
   },
   "outputs": [],
   "source": [
    "class Foo {\n",
    "  #privateValue = 42;\n",
    "  static getPrivateValue(foo) {\n",
    "    return foo.#privateValue;\n",
    "  }\n",
    "}\n",
    "\n",
    "Foo.getPrivateValue(new Foo()); // 42"
   ]
  },
  {
   "cell_type": "markdown",
   "id": "624e26f2",
   "metadata": {},
   "source": [
    "上面代码允许从实例`foo`上面引用私有属性。\n",
    "\n",
    "私有属性和私有方法前面，也可以加上`static`关键字，表示这是一个静态的私有属性或私有方法。"
   ]
  },
  {
   "cell_type": "code",
   "execution_count": null,
   "id": "dce4559a",
   "metadata": {
    "attributes": {
     "classes": [
      "javascript"
     ],
     "id": ""
    }
   },
   "outputs": [],
   "source": [
    "class FakeMath {\n",
    "  static PI = 22 / 7;\n",
    "  static #totallyRandomNumber = 4;\n",
    "\n",
    "  static #computeRandomNumber() {\n",
    "    return FakeMath.#totallyRandomNumber;\n",
    "  }\n",
    "\n",
    "  static random() {\n",
    "    console.log('I heard you like random numbers…')\n",
    "    return FakeMath.#computeRandomNumber();\n",
    "  }\n",
    "}\n",
    "\n",
    "FakeMath.PI // 3.142857142857143\n",
    "FakeMath.random()\n",
    "// I heard you like random numbers…\n",
    "// 4\n",
    "FakeMath.#totallyRandomNumber // 报错\n",
    "FakeMath.#computeRandomNumber() // 报错"
   ]
  },
  {
   "cell_type": "markdown",
   "id": "68ef135e",
   "metadata": {},
   "source": [
    "上面代码中，`#totallyRandomNumber`是私有属性，`#computeRandomNumber()`是私有方法，只能在`FakeMath`这个类的内部调用，外部调用就会报错。\n",
    "\n",
    "### in 运算符\n",
    "\n",
    "前面说过，直接访问某个类不存在的私有属性会报错，但是访问不存在的公开属性不会报错。这个特性可以用来判断，某个对象是否为类的实例。"
   ]
  },
  {
   "cell_type": "code",
   "execution_count": null,
   "id": "138ec7f0",
   "metadata": {
    "attributes": {
     "classes": [
      "javascript"
     ],
     "id": ""
    }
   },
   "outputs": [],
   "source": [
    "class C {\n",
    "  #brand;\n",
    "\n",
    "  static isC(obj) {\n",
    "    try {\n",
    "      obj.#brand;\n",
    "      return true;\n",
    "    } catch {\n",
    "      return false;\n",
    "    }\n",
    "  }\n",
    "}"
   ]
  },
  {
   "cell_type": "markdown",
   "id": "f6418198",
   "metadata": {},
   "source": [
    "上面示例中，类`C`的静态方法`isC()`就用来判断，某个对象是否为`C`的实例。它采用的方法就是，访问该对象的私有属性`#brand`。如果不报错，就会返回`true`；如果报错，就说明该对象不是当前类的实例，从而`catch`部分返回`false`。\n",
    "\n",
    "因此，`try...catch`结构可以用来判断某个私有属性是否存在。但是，这样的写法很麻烦，代码可读性很差，[ES2022](https://github.com/tc39/proposal-private-fields-in-in) 改进了`in`运算符，使它也可以用来判断私有属性。"
   ]
  },
  {
   "cell_type": "code",
   "execution_count": null,
   "id": "705fae7a",
   "metadata": {
    "attributes": {
     "classes": [
      "javascript"
     ],
     "id": ""
    }
   },
   "outputs": [],
   "source": [
    "class C {\n",
    "  #brand;\n",
    "\n",
    "  static isC(obj) {\n",
    "    if (#brand in obj) {\n",
    "      // 私有属性 #brand 存在\n",
    "      return true;\n",
    "    } else {\n",
    "      // 私有属性 #foo 不存在\n",
    "      return false;\n",
    "    }\n",
    "  }\n",
    "}"
   ]
  },
  {
   "cell_type": "markdown",
   "id": "d75ce8c5",
   "metadata": {},
   "source": [
    "上面示例中，`in`运算符判断某个对象是否有私有属性`#foo`。它不会报错，而是返回一个布尔值。\n",
    "\n",
    "这种用法的`in`，也可以跟`this`一起配合使用。"
   ]
  },
  {
   "cell_type": "code",
   "execution_count": null,
   "id": "bfa78850",
   "metadata": {
    "attributes": {
     "classes": [
      "javascript"
     ],
     "id": ""
    }
   },
   "outputs": [],
   "source": [
    "class A {\n",
    "  #foo = 0;\n",
    "  m() {\n",
    "    console.log(#foo in this); // true\n",
    "    console.log(#bar in this); // false\n",
    "  }\n",
    "}"
   ]
  },
  {
   "cell_type": "markdown",
   "id": "641f1157",
   "metadata": {},
   "source": [
    "注意，判断私有属性时，`in`只能用在类的内部。\n",
    "\n",
    "子类从父类继承的私有属性，也可以使用`in`运算符来判断。"
   ]
  },
  {
   "cell_type": "code",
   "execution_count": null,
   "id": "33100c56",
   "metadata": {
    "attributes": {
     "classes": [
      "javascript"
     ],
     "id": ""
    }
   },
   "outputs": [],
   "source": [
    "class A {\n",
    "  #foo = 0;\n",
    "  static test(obj) {\n",
    "    console.log(#foo in obj);\n",
    "  }\n",
    "}\n",
    "\n",
    "class SubA extends A {};\n",
    "\n",
    "A.test(new SubA()) // true"
   ]
  },
  {
   "cell_type": "markdown",
   "id": "42ae4ae1",
   "metadata": {},
   "source": [
    "上面示例中，`SubA`从父类继承了私有属性`#foo`，`in`运算符也有效。\n",
    "\n",
    "注意，`in`运算符对于`Object.create()`、`Object.setPrototypeOf`形成的继承，是无效的，因为这种继承不会传递私有属性。"
   ]
  },
  {
   "cell_type": "code",
   "execution_count": null,
   "id": "d8596858",
   "metadata": {
    "attributes": {
     "classes": [
      "javascript"
     ],
     "id": ""
    }
   },
   "outputs": [],
   "source": [
    "class A {\n",
    "  #foo = 0;\n",
    "  static test(obj) {\n",
    "    console.log(#foo in obj);\n",
    "  }\n",
    "}\n",
    "const a = new A();\n",
    "\n",
    "const o1 = Object.create(a);\n",
    "A.test(o1) // false\n",
    "A.test(o1.__proto__) // true\n",
    "\n",
    "const o2 = {};\n",
    "Object.setPrototypeOf(o2, a);\n",
    "A.test(o2) // false\n",
    "A.test(o2.__proto__) // true"
   ]
  },
  {
   "cell_type": "markdown",
   "id": "9a9162d4",
   "metadata": {},
   "source": [
    "上面示例中，对于修改原型链形成的继承，子类都取不到父类的私有属性，所以`in`运算符无效。\n",
    "\n",
    "## 静态块\n",
    "\n",
    "静态属性的一个问题是，如果它有初始化逻辑，这个逻辑要么写在类的外部，要么写在`constructor()`方法里面。"
   ]
  },
  {
   "cell_type": "code",
   "execution_count": null,
   "id": "87386718",
   "metadata": {
    "attributes": {
     "classes": [
      "javascript"
     ],
     "id": ""
    }
   },
   "outputs": [],
   "source": [
    "class C {\n",
    "  static x = 234;\n",
    "  static y;\n",
    "  static z;\n",
    "}\n",
    "\n",
    "try {\n",
    "  const obj = doSomethingWith(C.x);\n",
    "  C.y = obj.y\n",
    "  C.z = obj.z;\n",
    "} catch {\n",
    "  C.y = ...;\n",
    "  C.z = ...;\n",
    "}"
   ]
  },
  {
   "cell_type": "markdown",
   "id": "5d8c6c96",
   "metadata": {},
   "source": [
    "上面示例中，静态属性`y`和`z`的值依赖于静态属性`x`的运算结果，这段初始化逻辑写在类的外部（上例的`try...catch`代码块）。另一种方法是写到类的`constructor()`方法里面。这两种方法都不是很理想，前者是将类的内部逻辑写到了外部，后者则是每次新建实例都会运行一次。\n",
    "\n",
    "为了解决这个问题，ES2022 引入了[静态块](https://github.com/tc39/proposal-class-static-block)（static block），允许在类的内部设置一个代码块，在类生成时运行且只运行一次，主要作用是对静态属性进行初始化。以后，新建类的实例时，这个块就不运行了。"
   ]
  },
  {
   "cell_type": "code",
   "execution_count": null,
   "id": "d9310dac",
   "metadata": {
    "attributes": {
     "classes": [
      "javascript"
     ],
     "id": ""
    }
   },
   "outputs": [],
   "source": [
    "class C {\n",
    "  static x = ...;\n",
    "  static y;\n",
    "  static z;\n",
    "\n",
    "  static {\n",
    "    try {\n",
    "      const obj = doSomethingWith(this.x);\n",
    "      this.y = obj.y;\n",
    "      this.z = obj.z;\n",
    "    }\n",
    "    catch {\n",
    "      this.y = ...;\n",
    "      this.z = ...;\n",
    "    }\n",
    "  }\n",
    "}"
   ]
  },
  {
   "cell_type": "markdown",
   "id": "ec7202db",
   "metadata": {},
   "source": [
    "上面代码中，类的内部有一个 static 代码块，这就是静态块。它的好处是将静态属性`y`和`z`的初始化逻辑，写入了类的内部，而且只运行一次。\n",
    "\n",
    "每个类允许有多个静态块，每个静态块中只能访问之前声明的静态属性。另外，静态块的内部不能有`return`语句。\n",
    "\n",
    "静态块内部可以使用类名或`this`，指代当前类。"
   ]
  },
  {
   "cell_type": "code",
   "execution_count": null,
   "id": "752a5115",
   "metadata": {
    "attributes": {
     "classes": [
      "javascript"
     ],
     "id": ""
    }
   },
   "outputs": [],
   "source": [
    "class C {\n",
    "  static x = 1;\n",
    "  static {\n",
    "    this.x; // 1\n",
    "    // 或者\n",
    "    C.x; // 1\n",
    "  }\n",
    "}"
   ]
  },
  {
   "cell_type": "markdown",
   "id": "03b43bbc",
   "metadata": {},
   "source": [
    "上面示例中，`this.x`和`C.x`都能获取静态属性`x`。\n",
    "\n",
    "除了静态属性的初始化，静态块还有一个作用，就是将私有属性与类的外部代码分享。"
   ]
  },
  {
   "cell_type": "code",
   "execution_count": null,
   "id": "f93fe6ae",
   "metadata": {
    "attributes": {
     "classes": [
      "javascript"
     ],
     "id": ""
    }
   },
   "outputs": [],
   "source": [
    "let getX;\n",
    "\n",
    "export class C {\n",
    "  #x = 1;\n",
    "  static {\n",
    "    getX = obj => obj.#x;\n",
    "  }\n",
    "}\n",
    "\n",
    "console.log(getX(new C())); // 1"
   ]
  },
  {
   "cell_type": "markdown",
   "id": "74da900e",
   "metadata": {},
   "source": [
    "上面示例中，`#x`是类的私有属性，如果类外部的`getX()`方法希望获取这个属性，以前是要写在类的`constructor()`方法里面，这样的话，每次新建实例都会定义一次`getX()`方法。现在可以写在静态块里面，这样的话，只在类生成时定义一次。\n",
    "\n",
    "## 类的注意点\n",
    "\n",
    "### 严格模式\n",
    "\n",
    "类和模块的内部，默认就是严格模式，所以不需要使用`use strict`指定运行模式。只要你的代码写在类或模块之中，就只有严格模式可用。考虑到未来所有的代码，其实都是运行在模块之中，所以 ES6 实际上把整个语言升级到了严格模式。\n",
    "\n",
    "### 不存在提升\n",
    "\n",
    "类不存在变量提升（hoist），这一点与 ES5 完全不同。"
   ]
  },
  {
   "cell_type": "code",
   "execution_count": null,
   "id": "f4df82f5",
   "metadata": {
    "attributes": {
     "classes": [
      "javascript"
     ],
     "id": ""
    }
   },
   "outputs": [],
   "source": [
    "new Foo(); // ReferenceError\n",
    "class Foo {}"
   ]
  },
  {
   "cell_type": "markdown",
   "id": "d794ecc2",
   "metadata": {},
   "source": [
    "上面代码中，`Foo`类使用在前，定义在后，这样会报错，因为 ES6 不会把类的声明提升到代码头部。这种规定的原因与下文要提到的继承有关，必须保证子类在父类之后定义。"
   ]
  },
  {
   "cell_type": "code",
   "execution_count": null,
   "id": "54b975fc",
   "metadata": {
    "attributes": {
     "classes": [
      "javascript"
     ],
     "id": ""
    }
   },
   "outputs": [],
   "source": [
    "{\n",
    "  let Foo = class {};\n",
    "  class Bar extends Foo {\n",
    "  }\n",
    "}"
   ]
  },
  {
   "cell_type": "markdown",
   "id": "8eee776b",
   "metadata": {},
   "source": [
    "上面的代码不会报错，因为`Bar`继承`Foo`的时候，`Foo`已经有定义了。但是，如果存在`class`的提升，上面代码就会报错，因为`class`会被提升到代码头部，而`let`命令是不提升的，所以导致`Bar`继承`Foo`的时候，`Foo`还没有定义。\n",
    "\n",
    "### name 属性\n",
    "\n",
    "由于本质上，ES6 的类只是 ES5 的构造函数的一层包装，所以函数的许多特性都被`Class`继承，包括`name`属性。"
   ]
  },
  {
   "cell_type": "code",
   "execution_count": null,
   "id": "ce9f7c2c",
   "metadata": {
    "attributes": {
     "classes": [
      "javascript"
     ],
     "id": ""
    }
   },
   "outputs": [],
   "source": [
    "class Point {}\n",
    "Point.name // \"Point\""
   ]
  },
  {
   "cell_type": "markdown",
   "id": "a8bbc5ac",
   "metadata": {},
   "source": [
    "`name`属性总是返回紧跟在`class`关键字后面的类名。\n",
    "\n",
    "### Generator 方法\n",
    "\n",
    "如果某个方法之前加上星号（`*`），就表示该方法是一个 Generator 函数。"
   ]
  },
  {
   "cell_type": "code",
   "execution_count": null,
   "id": "924fdb59",
   "metadata": {
    "attributes": {
     "classes": [
      "javascript"
     ],
     "id": ""
    }
   },
   "outputs": [],
   "source": [
    "class Foo {\n",
    "  constructor(...args) {\n",
    "    this.args = args;\n",
    "  }\n",
    "  * [Symbol.iterator]() {\n",
    "    for (let arg of this.args) {\n",
    "      yield arg;\n",
    "    }\n",
    "  }\n",
    "}\n",
    "\n",
    "for (let x of new Foo('hello', 'world')) {\n",
    "  console.log(x);\n",
    "}\n",
    "// hello\n",
    "// world"
   ]
  },
  {
   "cell_type": "markdown",
   "id": "dc049913",
   "metadata": {},
   "source": [
    "上面代码中，`Foo`类的`Symbol.iterator`方法前有一个星号，表示该方法是一个 Generator 函数。`Symbol.iterator`方法返回一个`Foo`类的默认遍历器，`for...of`循环会自动调用这个遍历器。\n",
    "\n",
    "### this 的指向\n",
    "\n",
    "类的方法内部如果含有`this`，它默认指向类的实例。但是，必须非常小心，一旦单独使用该方法，很可能报错。"
   ]
  },
  {
   "cell_type": "code",
   "execution_count": null,
   "id": "6fa17ff8",
   "metadata": {
    "attributes": {
     "classes": [
      "javascript"
     ],
     "id": ""
    }
   },
   "outputs": [],
   "source": [
    "class Logger {\n",
    "  printName(name = 'there') {\n",
    "    this.print(`Hello ${name}`);\n",
    "  }\n",
    "\n",
    "  print(text) {\n",
    "    console.log(text);\n",
    "  }\n",
    "}\n",
    "\n",
    "const logger = new Logger();\n",
    "const { printName } = logger;\n",
    "printName(); // TypeError: Cannot read property 'print' of undefined"
   ]
  },
  {
   "cell_type": "markdown",
   "id": "91d51b5a",
   "metadata": {},
   "source": [
    "上面代码中，`printName`方法中的`this`，默认指向`Logger`类的实例。但是，如果将这个方法提取出来单独使用，`this`会指向该方法运行时所在的环境（由于 class 内部是严格模式，所以 this 实际指向的是`undefined`），从而导致找不到`print`方法而报错。\n",
    "\n",
    "一个比较简单的解决方法是，在构造方法中绑定`this`，这样就不会找不到`print`方法了。"
   ]
  },
  {
   "cell_type": "code",
   "execution_count": null,
   "id": "30234eae",
   "metadata": {
    "attributes": {
     "classes": [
      "javascript"
     ],
     "id": ""
    }
   },
   "outputs": [],
   "source": [
    "class Logger {\n",
    "  constructor() {\n",
    "    this.printName = this.printName.bind(this);\n",
    "  }\n",
    "\n",
    "  // ...\n",
    "}"
   ]
  },
  {
   "cell_type": "markdown",
   "id": "270bf3c4",
   "metadata": {},
   "source": [
    "另一种解决方法是使用箭头函数。"
   ]
  },
  {
   "cell_type": "code",
   "execution_count": null,
   "id": "742a4c59",
   "metadata": {
    "attributes": {
     "classes": [
      "javascript"
     ],
     "id": ""
    }
   },
   "outputs": [],
   "source": [
    "class Obj {\n",
    "  constructor() {\n",
    "    this.getThis = () => this;\n",
    "  }\n",
    "}\n",
    "\n",
    "const myObj = new Obj();\n",
    "myObj.getThis() === myObj // true"
   ]
  },
  {
   "cell_type": "markdown",
   "id": "e753888d",
   "metadata": {},
   "source": [
    "箭头函数内部的`this`总是指向定义时所在的对象。上面代码中，箭头函数位于构造函数内部，它的定义生效的时候，是在构造函数执行的时候。这时，箭头函数所在的运行环境，肯定是实例对象，所以`this`会总是指向实例对象。\n",
    "\n",
    "还有一种解决方法是使用`Proxy`，获取方法的时候，自动绑定`this`。"
   ]
  },
  {
   "cell_type": "code",
   "execution_count": null,
   "id": "272f9bb5",
   "metadata": {
    "attributes": {
     "classes": [
      "javascript"
     ],
     "id": ""
    }
   },
   "outputs": [],
   "source": [
    "function selfish (target) {\n",
    "  const cache = new WeakMap();\n",
    "  const handler = {\n",
    "    get (target, key) {\n",
    "      const value = Reflect.get(target, key);\n",
    "      if (typeof value !== 'function') {\n",
    "        return value;\n",
    "      }\n",
    "      if (!cache.has(value)) {\n",
    "        cache.set(value, value.bind(target));\n",
    "      }\n",
    "      return cache.get(value);\n",
    "    }\n",
    "  };\n",
    "  const proxy = new Proxy(target, handler);\n",
    "  return proxy;\n",
    "}\n",
    "\n",
    "const logger = selfish(new Logger());"
   ]
  },
  {
   "cell_type": "markdown",
   "id": "3a7e25fe",
   "metadata": {},
   "source": [
    "## new.target 属性\n",
    "\n",
    "`new`是从构造函数生成实例对象的命令。ES6 为`new`命令引入了一个`new.target`属性，该属性一般用在构造函数之中，返回`new`命令作用于的那个构造函数。如果构造函数不是通过`new`命令或`Reflect.construct()`调用的，`new.target`会返回`undefined`，因此这个属性可以用来确定构造函数是怎么调用的。"
   ]
  },
  {
   "cell_type": "code",
   "execution_count": null,
   "id": "4296069f",
   "metadata": {
    "attributes": {
     "classes": [
      "javascript"
     ],
     "id": ""
    }
   },
   "outputs": [],
   "source": [
    "function Person(name) {\n",
    "  if (new.target !== undefined) {\n",
    "    this.name = name;\n",
    "  } else {\n",
    "    throw new Error('必须使用 new 命令生成实例');\n",
    "  }\n",
    "}\n",
    "\n",
    "// 另一种写法\n",
    "function Person(name) {\n",
    "  if (new.target === Person) {\n",
    "    this.name = name;\n",
    "  } else {\n",
    "    throw new Error('必须使用 new 命令生成实例');\n",
    "  }\n",
    "}\n",
    "\n",
    "var person = new Person('张三'); // 正确\n",
    "var notAPerson = Person.call(person, '张三');  // 报错"
   ]
  },
  {
   "cell_type": "markdown",
   "id": "d5efcdb0",
   "metadata": {},
   "source": [
    "上面代码确保构造函数只能通过`new`命令调用。\n",
    "\n",
    "Class 内部调用`new.target`，返回当前 Class。"
   ]
  },
  {
   "cell_type": "code",
   "execution_count": null,
   "id": "45ffcfdb",
   "metadata": {
    "attributes": {
     "classes": [
      "javascript"
     ],
     "id": ""
    }
   },
   "outputs": [],
   "source": [
    "class Rectangle {\n",
    "  constructor(length, width) {\n",
    "    console.log(new.target === Rectangle);\n",
    "    this.length = length;\n",
    "    this.width = width;\n",
    "  }\n",
    "}\n",
    "\n",
    "var obj = new Rectangle(3, 4); // 输出 true"
   ]
  },
  {
   "cell_type": "markdown",
   "id": "6b6be5d4",
   "metadata": {},
   "source": [
    "需要注意的是，子类继承父类时，`new.target`会返回子类。"
   ]
  },
  {
   "cell_type": "code",
   "execution_count": null,
   "id": "9e1f8a1f",
   "metadata": {
    "attributes": {
     "classes": [
      "javascript"
     ],
     "id": ""
    }
   },
   "outputs": [],
   "source": [
    "class Rectangle {\n",
    "  constructor(length, width) {\n",
    "    console.log(new.target === Rectangle);\n",
    "    // ...\n",
    "  }\n",
    "}\n",
    "\n",
    "class Square extends Rectangle {\n",
    "  constructor(length, width) {\n",
    "    super(length, width);\n",
    "  }\n",
    "}\n",
    "\n",
    "var obj = new Square(3); // 输出 false"
   ]
  },
  {
   "cell_type": "markdown",
   "id": "f35689fa",
   "metadata": {},
   "source": [
    "上面代码中，`new.target`会返回子类。\n",
    "\n",
    "利用这个特点，可以写出不能独立使用、必须继承后才能使用的类。"
   ]
  },
  {
   "cell_type": "code",
   "execution_count": null,
   "id": "70e8119e",
   "metadata": {
    "attributes": {
     "classes": [
      "javascript"
     ],
     "id": ""
    }
   },
   "outputs": [],
   "source": [
    "class Shape {\n",
    "  constructor() {\n",
    "    if (new.target === Shape) {\n",
    "      throw new Error('本类不能实例化');\n",
    "    }\n",
    "  }\n",
    "}\n",
    "\n",
    "class Rectangle extends Shape {\n",
    "  constructor(length, width) {\n",
    "    super();\n",
    "    // ...\n",
    "  }\n",
    "}\n",
    "\n",
    "var x = new Shape();  // 报错\n",
    "var y = new Rectangle(3, 4);  // 正确"
   ]
  },
  {
   "cell_type": "markdown",
   "id": "e9752869",
   "metadata": {},
   "source": [
    "上面代码中，`Shape`类不能被实例化，只能用于继承。\n",
    "\n",
    "注意，在函数外部，使用`new.target`会报错。"
   ]
  }
 ],
 "metadata": {},
 "nbformat": 4,
 "nbformat_minor": 5
}

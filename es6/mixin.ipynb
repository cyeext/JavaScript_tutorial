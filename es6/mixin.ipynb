{
 "cells": [
  {
   "cell_type": "markdown",
   "id": "24677075",
   "metadata": {},
   "source": [
    "# Mixin\n",
    "\n",
    "JavaScript 语言的设计是单一继承，即子类只能继承一个父类，不允许继承多个父类。这种设计保证了对象继承的层次结构是树状的，而不是复杂的[网状结构](https://en.wikipedia.org/wiki/Multiple_inheritance#The_diamond_problem)。\n",
    "\n",
    "但是，这大大降低了编程的灵活性。因为实际开发中，有时不可避免，子类需要继承多个父类。举例来说，“猫”可以继承“哺乳类动物”，也可以继承“宠物”。\n",
    "\n",
    "各种单一继承的编程语言，有不同的多重继承解决方案。比如，Java 语言也是子类只能继承一个父类，但是还允许继承多个界面（interface），这样就间接实现了多重继承。Interface 与父类一样，也是一个类，只不过它只定义接口（method signature），不定义实现，因此又被称为“抽象类”。凡是继承于 Interface 的方法，都必须自己定义实现，否则就会报错。这样就避免了多重继承的最大问题：多个父类的同名方法的碰撞（naming collision）。\n",
    "\n",
    "JavaScript 语言没有采用 Interface 的方案，而是通过代理（delegation）实现了从其他类引入方法。"
   ]
  },
  {
   "cell_type": "code",
   "execution_count": null,
   "id": "21618aec",
   "metadata": {
    "attributes": {
     "classes": [
      "javascript"
     ],
     "id": ""
    }
   },
   "outputs": [],
   "source": [
    "var Enumerable_first = function () {\n",
    "  this.first = function () {\n",
    "    return this[0];\n",
    "  };\n",
    "};\n",
    "\n",
    "var list = [\"foo\", \"bar\", \"baz\"];\n",
    "Enumerable_first.call(list); // explicit delegation\n",
    "list.first() // \"foo\""
   ]
  },
  {
   "cell_type": "markdown",
   "id": "0c69696e",
   "metadata": {},
   "source": [
    "上面代码中，`list`是一个数组，本身并没有`first`方法。通过`call`方法，可以把`Enumerable_first`里面的方法，绑定到`list`，从而`list`就具有`first`方法。这就叫做“代理”（delegation），`list`对象代理了`Enumerable_first`的`first`方法。\n",
    "\n",
    "## 含义\n",
    "\n",
    "Mixin 这个名字来自于冰淇淋，在基本口味的冰淇淋上面混入其他口味，这就叫做 Mix-in。\n",
    "\n",
    "它允许向一个类里面注入一些代码，使得一个类的功能能够“混入”另一个类。实质上是多重继承的一种解决方案，但是避免了多重继承的复杂性，而且有利于代码复用。\n",
    "\n",
    "Mixin 就是一个正常的类，不仅定义了接口，还定义了接口的实现。\n",
    "\n",
    "子类通过在`this`对象上面绑定方法，达到多重继承的目的。\n",
    "\n",
    "很多库提供了 Mixin 功能。下面以 Lodash 为例。"
   ]
  },
  {
   "cell_type": "code",
   "execution_count": null,
   "id": "7ae088f1",
   "metadata": {
    "attributes": {
     "classes": [
      "javascript"
     ],
     "id": ""
    }
   },
   "outputs": [],
   "source": [
    "function vowels(string) {\n",
    "  return /[aeiou]/i.test(this.value);\n",
    "}\n",
    "\n",
    "var obj = { value: 'hello' };\n",
    "_.mixin(obj, {vowels: vowels})\n",
    "obj.vowels() // true"
   ]
  },
  {
   "cell_type": "markdown",
   "id": "8939a841",
   "metadata": {},
   "source": [
    "上面代码通过 Lodash 库的`_.mixin`方法，让`obj`对象继承了`vowels`方法。\n",
    "\n",
    "Underscore 的类似方法是`_.extend`。"
   ]
  },
  {
   "cell_type": "code",
   "execution_count": null,
   "id": "9f1f1380",
   "metadata": {
    "attributes": {
     "classes": [
      "javascript"
     ],
     "id": ""
    }
   },
   "outputs": [],
   "source": [
    "var Person = function (fName, lName) {\n",
    "  this.firstName = fName;\n",
    "  this.lastName = lName;\n",
    "}\n",
    "\n",
    "var sam = new Person('Sam', 'Lowry');\n",
    "\n",
    "var NameMixin = {\n",
    "  fullName: function () {\n",
    "    return this.firstName + ' ' + this.lastName;\n",
    "  },\n",
    "  rename: function(first, last) {\n",
    "    this.firstName = first;\n",
    "    this.lastName = last;\n",
    "    return this;\n",
    "  }\n",
    "};\n",
    "_.extend(Person.prototype, NameMixin);\n",
    "sam.rename('Samwise', 'Gamgee');\n",
    "sam.fullName() // \"Samwise Gamgee\""
   ]
  },
  {
   "cell_type": "markdown",
   "id": "299f68a1",
   "metadata": {},
   "source": [
    "上面代码通过`_.extend`方法，在`sam`对象上面（准确说是它的原型对象`Person.prototype`上面），混入了`NameMixin`类。\n",
    "\n",
    "`extend`方法的实现非常简单。"
   ]
  },
  {
   "cell_type": "code",
   "execution_count": null,
   "id": "f9ae2796",
   "metadata": {
    "attributes": {
     "classes": [
      "javascript"
     ],
     "id": ""
    }
   },
   "outputs": [],
   "source": [
    "function extend(destination, source) {\n",
    "  for (var k in source) {\n",
    "    if (source.hasOwnProperty(k)) {\n",
    "      destination[k] = source[k];\n",
    "    }\n",
    "  }\n",
    "  return destination;\n",
    "}"
   ]
  },
  {
   "cell_type": "markdown",
   "id": "2a3f2b34",
   "metadata": {},
   "source": [
    "上面代码将`source`对象的所有方法，添加到`destination`对象。\n",
    "\n",
    "## Trait\n",
    "\n",
    "Trait 是另外一种多重继承的解决方案。它与 Mixin 很相似，但是有一些细微的差别。\n",
    "\n",
    "- Mixin 可以包含状态（state），Trait 不包含，即 Trait 里面的方法都是互不相干，可以线性包含的。比如，`Trait1`包含方法`A`和`B`，`Trait2`继承了`Trait1`，同时还包含一个自己的方法`C`，实际上就等同于直接包含方法`A`、`B`、`C`。\n",
    "- 对于同名方法的碰撞，Mixin 包含了解决规则，Trait 则是报错。"
   ]
  }
 ],
 "metadata": {},
 "nbformat": 4,
 "nbformat_minor": 5
}

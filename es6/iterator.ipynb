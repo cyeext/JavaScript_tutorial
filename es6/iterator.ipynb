{
 "cells": [
  {
   "cell_type": "markdown",
   "id": "2439888e",
   "metadata": {},
   "source": [
    "# Iterator 和 for...of 循环\n",
    "\n",
    "## Iterator（遍历器）的概念\n",
    "\n",
    "JavaScript 原有的表示“集合”的数据结构，主要是数组（`Array`）和对象（`Object`），ES6 又添加了`Map`和`Set`。这样就有了四种数据集合，用户还可以组合使用它们，定义自己的数据结构，比如数组的成员是`Map`，`Map`的成员是对象。这样就需要一种统一的接口机制，来处理所有不同的数据结构。\n",
    "\n",
    "遍历器（Iterator）就是这样一种机制。它是一种接口，为各种不同的数据结构提供统一的访问机制。任何数据结构只要部署 Iterator 接口，就可以完成遍历操作（即依次处理该数据结构的所有成员）。\n",
    "\n",
    "Iterator 的作用有三个：一是为各种数据结构，提供一个统一的、简便的访问接口；二是使得数据结构的成员能够按某种次序排列；三是 ES6 创造了一种新的遍历命令`for...of`循环，Iterator 接口主要供`for...of`消费。\n",
    "\n",
    "Iterator 的遍历过程是这样的。\n",
    "\n",
    "（1）创建一个指针对象，指向当前数据结构的起始位置。也就是说，遍历器对象本质上，就是一个指针对象。\n",
    "\n",
    "（2）第一次调用指针对象的`next`方法，可以将指针指向数据结构的第一个成员。\n",
    "\n",
    "（3）第二次调用指针对象的`next`方法，指针就指向数据结构的第二个成员。\n",
    "\n",
    "（4）不断调用指针对象的`next`方法，直到它指向数据结构的结束位置。\n",
    "\n",
    "每一次调用`next`方法，都会返回数据结构的当前成员的信息。具体来说，就是返回一个包含`value`和`done`两个属性的对象。其中，`value`属性是当前成员的值，`done`属性是一个布尔值，表示遍历是否结束。\n",
    "\n",
    "下面是一个模拟`next`方法返回值的例子。"
   ]
  },
  {
   "cell_type": "code",
   "execution_count": null,
   "id": "71bd7cac",
   "metadata": {
    "attributes": {
     "classes": [
      "javascript"
     ],
     "id": ""
    }
   },
   "outputs": [],
   "source": [
    "var it = makeIterator(['a', 'b']);\n",
    "\n",
    "it.next() // { value: \"a\", done: false }\n",
    "it.next() // { value: \"b\", done: false }\n",
    "it.next() // { value: undefined, done: true }\n",
    "\n",
    "function makeIterator(array) {\n",
    "  var nextIndex = 0;\n",
    "  return {\n",
    "    next: function() {\n",
    "      return nextIndex < array.length ?\n",
    "        {value: array[nextIndex++], done: false} :\n",
    "        {value: undefined, done: true};\n",
    "    }\n",
    "  };\n",
    "}"
   ]
  },
  {
   "cell_type": "markdown",
   "id": "2e01dd7f",
   "metadata": {},
   "source": [
    "上面代码定义了一个`makeIterator`函数，它是一个遍历器生成函数，作用就是返回一个遍历器对象。对数组`['a', 'b']`执行这个函数，就会返回该数组的遍历器对象（即指针对象）`it`。\n",
    "\n",
    "指针对象的`next`方法，用来移动指针。开始时，指针指向数组的开始位置。然后，每次调用`next`方法，指针就会指向数组的下一个成员。第一次调用，指向`a`；第二次调用，指向`b`。\n",
    "\n",
    "`next`方法返回一个对象，表示当前数据成员的信息。这个对象具有`value`和`done`两个属性，`value`属性返回当前位置的成员，`done`属性是一个布尔值，表示遍历是否结束，即是否还有必要再一次调用`next`方法。\n",
    "\n",
    "总之，调用指针对象的`next`方法，就可以遍历事先给定的数据结构。\n",
    "\n",
    "对于遍历器对象来说，`done: false`和`value: undefined`属性都是可以省略的，因此上面的`makeIterator`函数可以简写成下面的形式。"
   ]
  },
  {
   "cell_type": "code",
   "execution_count": null,
   "id": "45ac5f25",
   "metadata": {
    "attributes": {
     "classes": [
      "javascript"
     ],
     "id": ""
    }
   },
   "outputs": [],
   "source": [
    "function makeIterator(array) {\n",
    "  var nextIndex = 0;\n",
    "  return {\n",
    "    next: function() {\n",
    "      return nextIndex < array.length ?\n",
    "        {value: array[nextIndex++]} :\n",
    "        {done: true};\n",
    "    }\n",
    "  };\n",
    "}"
   ]
  },
  {
   "cell_type": "markdown",
   "id": "7f5ceffa",
   "metadata": {},
   "source": [
    "由于 Iterator 只是把接口规格加到数据结构之上，所以，遍历器与它所遍历的那个数据结构，实际上是分开的，完全可以写出没有对应数据结构的遍历器对象，或者说用遍历器对象模拟出数据结构。下面是一个无限运行的遍历器对象的例子。"
   ]
  },
  {
   "cell_type": "code",
   "execution_count": null,
   "id": "e294b213",
   "metadata": {
    "attributes": {
     "classes": [
      "javascript"
     ],
     "id": ""
    }
   },
   "outputs": [],
   "source": [
    "var it = idMaker();\n",
    "\n",
    "it.next().value // 0\n",
    "it.next().value // 1\n",
    "it.next().value // 2\n",
    "// ...\n",
    "\n",
    "function idMaker() {\n",
    "  var index = 0;\n",
    "\n",
    "  return {\n",
    "    next: function() {\n",
    "      return {value: index++, done: false};\n",
    "    }\n",
    "  };\n",
    "}"
   ]
  },
  {
   "cell_type": "markdown",
   "id": "fa22dfa7",
   "metadata": {},
   "source": [
    "上面的例子中，遍历器生成函数`idMaker`，返回一个遍历器对象（即指针对象）。但是并没有对应的数据结构，或者说，遍历器对象自己描述了一个数据结构出来。\n",
    "\n",
    "如果使用 TypeScript 的写法，遍历器接口（Iterable）、指针对象（Iterator）和`next`方法返回值的规格可以描述如下。"
   ]
  },
  {
   "cell_type": "code",
   "execution_count": null,
   "id": "93fd9c69",
   "metadata": {
    "attributes": {
     "classes": [
      "javascript"
     ],
     "id": ""
    }
   },
   "outputs": [],
   "source": [
    "interface Iterable {\n",
    "  [Symbol.iterator]() : Iterator,\n",
    "}\n",
    "\n",
    "interface Iterator {\n",
    "  next(value?: any) : IterationResult,\n",
    "}\n",
    "\n",
    "interface IterationResult {\n",
    "  value: any,\n",
    "  done: boolean,\n",
    "}"
   ]
  },
  {
   "cell_type": "markdown",
   "id": "5bed84fa",
   "metadata": {},
   "source": [
    "## 默认 Iterator 接口\n",
    "\n",
    "Iterator 接口的目的，就是为所有数据结构，提供了一种统一的访问机制，即`for...of`循环（详见下文）。当使用`for...of`循环遍历某种数据结构时，该循环会自动去寻找 Iterator 接口。\n",
    "\n",
    "一种数据结构只要部署了 Iterator 接口，我们就称这种数据结构是“可遍历的”（iterable）。\n",
    "\n",
    "ES6 规定，默认的 Iterator 接口部署在数据结构的`Symbol.iterator`属性，或者说，一个数据结构只要具有`Symbol.iterator`属性，就可以认为是“可遍历的”（iterable）。`Symbol.iterator`属性本身是一个函数，就是当前数据结构默认的遍历器生成函数。执行这个函数，就会返回一个遍历器。至于属性名`Symbol.iterator`，它是一个表达式，返回`Symbol`对象的`iterator`属性，这是一个预定义好的、类型为 Symbol 的特殊值，所以要放在方括号内（参见《Symbol》一章）。"
   ]
  },
  {
   "cell_type": "code",
   "execution_count": null,
   "id": "c2e78019",
   "metadata": {
    "attributes": {
     "classes": [
      "javascript"
     ],
     "id": ""
    }
   },
   "outputs": [],
   "source": [
    "const obj = {\n",
    "  [Symbol.iterator] : function () {\n",
    "    return {\n",
    "      next: function () {\n",
    "        return {\n",
    "          value: 1,\n",
    "          done: true\n",
    "        };\n",
    "      }\n",
    "    };\n",
    "  }\n",
    "};"
   ]
  },
  {
   "cell_type": "markdown",
   "id": "36f25dca",
   "metadata": {},
   "source": [
    "上面代码中，对象`obj`是可遍历的（iterable），因为具有`Symbol.iterator`属性。执行这个属性，会返回一个遍历器对象。该对象的根本特征就是具有`next`方法。每次调用`next`方法，都会返回一个代表当前成员的信息对象，具有`value`和`done`两个属性。\n",
    "\n",
    "ES6 的有些数据结构原生具备 Iterator 接口（比如数组），即不用任何处理，就可以被`for...of`循环遍历。原因在于，这些数据结构原生部署了`Symbol.iterator`属性（详见下文），另外一些数据结构没有（比如对象）。凡是部署了`Symbol.iterator`属性的数据结构，就称为部署了遍历器接口。调用这个接口，就会返回一个遍历器对象。\n",
    "\n",
    "原生具备 Iterator 接口的数据结构如下。\n",
    "\n",
    "- Array\n",
    "- Map\n",
    "- Set\n",
    "- String\n",
    "- TypedArray\n",
    "- 函数的 arguments 对象\n",
    "- NodeList 对象\n",
    "\n",
    "下面的例子是数组的`Symbol.iterator`属性。"
   ]
  },
  {
   "cell_type": "code",
   "execution_count": null,
   "id": "8cb9226c",
   "metadata": {
    "attributes": {
     "classes": [
      "javascript"
     ],
     "id": ""
    }
   },
   "outputs": [],
   "source": [
    "let arr = ['a', 'b', 'c'];\n",
    "let iter = arr[Symbol.iterator]();\n",
    "\n",
    "iter.next() // { value: 'a', done: false }\n",
    "iter.next() // { value: 'b', done: false }\n",
    "iter.next() // { value: 'c', done: false }\n",
    "iter.next() // { value: undefined, done: true }"
   ]
  },
  {
   "cell_type": "markdown",
   "id": "c288530e",
   "metadata": {},
   "source": [
    "上面代码中，变量`arr`是一个数组，原生就具有遍历器接口，部署在`arr`的`Symbol.iterator`属性上面。所以，调用这个属性，就得到遍历器对象。\n",
    "\n",
    "对于原生部署 Iterator 接口的数据结构，不用自己写遍历器生成函数，`for...of`循环会自动遍历它们。除此之外，其他数据结构（主要是对象）的 Iterator 接口，都需要自己在`Symbol.iterator`属性上面部署，这样才会被`for...of`循环遍历。\n",
    "\n",
    "对象（Object）之所以没有默认部署 Iterator 接口，是因为对象的哪个属性先遍历，哪个属性后遍历是不确定的，需要开发者手动指定。本质上，遍历器是一种线性处理，对于任何非线性的数据结构，部署遍历器接口，就等于部署一种线性转换。不过，严格地说，对象部署遍历器接口并不是很必要，因为这时对象实际上被当作 Map 结构使用，ES5 没有 Map 结构，而 ES6 原生提供了。\n",
    "\n",
    "一个对象如果要具备可被`for...of`循环调用的 Iterator 接口，就必须在`Symbol.iterator`的属性上部署遍历器生成方法（原型链上的对象具有该方法也可）。"
   ]
  },
  {
   "cell_type": "code",
   "execution_count": null,
   "id": "7df0ae1d",
   "metadata": {
    "attributes": {
     "classes": [
      "javascript"
     ],
     "id": ""
    }
   },
   "outputs": [],
   "source": [
    "class RangeIterator {\n",
    "  constructor(start, stop) {\n",
    "    this.value = start;\n",
    "    this.stop = stop;\n",
    "  }\n",
    "\n",
    "  [Symbol.iterator]() { return this; }\n",
    "\n",
    "  next() {\n",
    "    var value = this.value;\n",
    "    if (value < this.stop) {\n",
    "      this.value++;\n",
    "      return {done: false, value: value};\n",
    "    }\n",
    "    return {done: true, value: undefined};\n",
    "  }\n",
    "}\n",
    "\n",
    "function range(start, stop) {\n",
    "  return new RangeIterator(start, stop);\n",
    "}\n",
    "\n",
    "for (var value of range(0, 3)) {\n",
    "  console.log(value); // 0, 1, 2\n",
    "}"
   ]
  },
  {
   "cell_type": "markdown",
   "id": "4d8ff1fc",
   "metadata": {},
   "source": [
    "上面代码是一个类部署 Iterator 接口的写法。`Symbol.iterator`属性对应一个函数，执行后返回当前对象的遍历器对象。\n",
    "\n",
    "下面是通过遍历器实现“链表”结构的例子。"
   ]
  },
  {
   "cell_type": "code",
   "execution_count": null,
   "id": "f9ef1c8c",
   "metadata": {
    "attributes": {
     "classes": [
      "javascript"
     ],
     "id": ""
    }
   },
   "outputs": [],
   "source": [
    "function Obj(value) {\n",
    "  this.value = value;\n",
    "  this.next = null;\n",
    "}\n",
    "\n",
    "Obj.prototype[Symbol.iterator] = function() {\n",
    "  var iterator = { next: next };\n",
    "\n",
    "  var current = this;\n",
    "\n",
    "  function next() {\n",
    "    if (current) {\n",
    "      var value = current.value;\n",
    "      current = current.next;\n",
    "      return { done: false, value: value };\n",
    "    }\n",
    "    return { done: true };\n",
    "  }\n",
    "  return iterator;\n",
    "}\n",
    "\n",
    "var one = new Obj(1);\n",
    "var two = new Obj(2);\n",
    "var three = new Obj(3);\n",
    "\n",
    "one.next = two;\n",
    "two.next = three;\n",
    "\n",
    "for (var i of one){\n",
    "  console.log(i); // 1, 2, 3\n",
    "}"
   ]
  },
  {
   "cell_type": "markdown",
   "id": "dac6c7d0",
   "metadata": {},
   "source": [
    "上面代码首先在构造函数的原型链上部署`Symbol.iterator`方法，调用该方法会返回遍历器对象`iterator`，调用该对象的`next`方法，在返回一个值的同时，自动将内部指针移到下一个实例。\n",
    "\n",
    "下面是另一个为对象添加 Iterator 接口的例子。"
   ]
  },
  {
   "cell_type": "code",
   "execution_count": null,
   "id": "0a293b14",
   "metadata": {
    "attributes": {
     "classes": [
      "javascript"
     ],
     "id": ""
    }
   },
   "outputs": [],
   "source": [
    "let obj = {\n",
    "  data: [ 'hello', 'world' ],\n",
    "  [Symbol.iterator]() {\n",
    "    const self = this;\n",
    "    let index = 0;\n",
    "    return {\n",
    "      next() {\n",
    "        if (index < self.data.length) {\n",
    "          return {\n",
    "            value: self.data[index++],\n",
    "            done: false\n",
    "          };\n",
    "        }\n",
    "        return { value: undefined, done: true };\n",
    "      }\n",
    "    };\n",
    "  }\n",
    "};"
   ]
  },
  {
   "cell_type": "markdown",
   "id": "e81cd8ad",
   "metadata": {},
   "source": [
    "对于类似数组的对象（存在数值键名和`length`属性），部署 Iterator 接口，有一个简便方法，就是`Symbol.iterator`方法直接引用数组的 Iterator 接口。"
   ]
  },
  {
   "cell_type": "code",
   "execution_count": null,
   "id": "8096580a",
   "metadata": {
    "attributes": {
     "classes": [
      "javascript"
     ],
     "id": ""
    }
   },
   "outputs": [],
   "source": [
    "NodeList.prototype[Symbol.iterator] = Array.prototype[Symbol.iterator];\n",
    "// 或者\n",
    "NodeList.prototype[Symbol.iterator] = [][Symbol.iterator];\n",
    "\n",
    "[...document.querySelectorAll('div')] // 可以执行了"
   ]
  },
  {
   "cell_type": "markdown",
   "id": "d72aab29",
   "metadata": {},
   "source": [
    "NodeList 对象是类似数组的对象，本来就具有遍历接口，可以直接遍历。上面代码中，我们将它的遍历接口改成数组的`Symbol.iterator`属性，可以看到没有任何影响。\n",
    "\n",
    "下面是另一个类似数组的对象调用数组的`Symbol.iterator`方法的例子。"
   ]
  },
  {
   "cell_type": "code",
   "execution_count": null,
   "id": "8814df4d",
   "metadata": {
    "attributes": {
     "classes": [
      "javascript"
     ],
     "id": ""
    }
   },
   "outputs": [],
   "source": [
    "let iterable = {\n",
    "  0: 'a',\n",
    "  1: 'b',\n",
    "  2: 'c',\n",
    "  length: 3,\n",
    "  [Symbol.iterator]: Array.prototype[Symbol.iterator]\n",
    "};\n",
    "for (let item of iterable) {\n",
    "  console.log(item); // 'a', 'b', 'c'\n",
    "}"
   ]
  },
  {
   "cell_type": "markdown",
   "id": "ef6266d6",
   "metadata": {},
   "source": [
    "注意，普通对象部署数组的`Symbol.iterator`方法，并无效果。"
   ]
  },
  {
   "cell_type": "code",
   "execution_count": null,
   "id": "ae075243",
   "metadata": {
    "attributes": {
     "classes": [
      "javascript"
     ],
     "id": ""
    }
   },
   "outputs": [],
   "source": [
    "let iterable = {\n",
    "  a: 'a',\n",
    "  b: 'b',\n",
    "  c: 'c',\n",
    "  length: 3,\n",
    "  [Symbol.iterator]: Array.prototype[Symbol.iterator]\n",
    "};\n",
    "for (let item of iterable) {\n",
    "  console.log(item); // undefined, undefined, undefined\n",
    "}"
   ]
  },
  {
   "cell_type": "markdown",
   "id": "0152ca17",
   "metadata": {},
   "source": [
    "如果`Symbol.iterator`方法对应的不是遍历器生成函数（即会返回一个遍历器对象），解释引擎将会报错。"
   ]
  },
  {
   "cell_type": "code",
   "execution_count": null,
   "id": "8045f8d7",
   "metadata": {
    "attributes": {
     "classes": [
      "javascript"
     ],
     "id": ""
    }
   },
   "outputs": [],
   "source": [
    "var obj = {};\n",
    "\n",
    "obj[Symbol.iterator] = () => 1;\n",
    "\n",
    "[...obj] // TypeError: [] is not a function"
   ]
  },
  {
   "cell_type": "markdown",
   "id": "6f4bfe7a",
   "metadata": {},
   "source": [
    "上面代码中，变量`obj`的`Symbol.iterator`方法对应的不是遍历器生成函数，因此报错。\n",
    "\n",
    "有了遍历器接口，数据结构就可以用`for...of`循环遍历（详见下文），也可以使用`while`循环遍历。"
   ]
  },
  {
   "cell_type": "code",
   "execution_count": null,
   "id": "b2b784cc",
   "metadata": {
    "attributes": {
     "classes": [
      "javascript"
     ],
     "id": ""
    }
   },
   "outputs": [],
   "source": [
    "var $iterator = ITERABLE[Symbol.iterator]();\n",
    "var $result = $iterator.next();\n",
    "while (!$result.done) {\n",
    "  var x = $result.value;\n",
    "  // ...\n",
    "  $result = $iterator.next();\n",
    "}"
   ]
  },
  {
   "cell_type": "markdown",
   "id": "ec3323ca",
   "metadata": {},
   "source": [
    "上面代码中，`ITERABLE`代表某种可遍历的数据结构，`$iterator`是它的遍历器对象。遍历器对象每次移动指针（`next`方法），都检查一下返回值的`done`属性，如果遍历还没结束，就移动遍历器对象的指针到下一步（`next`方法），不断循环。\n",
    "\n",
    "## 调用 Iterator 接口的场合\n",
    "\n",
    "有一些场合会默认调用 Iterator 接口（即`Symbol.iterator`方法），除了下文会介绍的`for...of`循环，还有几个别的场合。\n",
    "\n",
    "**（1）解构赋值**\n",
    "\n",
    "对数组和 Set 结构进行解构赋值时，会默认调用`Symbol.iterator`方法。"
   ]
  },
  {
   "cell_type": "code",
   "execution_count": null,
   "id": "1c0cba9d",
   "metadata": {
    "attributes": {
     "classes": [
      "javascript"
     ],
     "id": ""
    }
   },
   "outputs": [],
   "source": [
    "let set = new Set().add('a').add('b').add('c');\n",
    "\n",
    "let [x,y] = set;\n",
    "// x='a'; y='b'\n",
    "\n",
    "let [first, ...rest] = set;\n",
    "// first='a'; rest=['b','c'];"
   ]
  },
  {
   "cell_type": "markdown",
   "id": "36f0ccd8",
   "metadata": {},
   "source": [
    "**（2）扩展运算符**\n",
    "\n",
    "扩展运算符（...）也会调用默认的 Iterator 接口。"
   ]
  },
  {
   "cell_type": "code",
   "execution_count": null,
   "id": "60c773cf",
   "metadata": {
    "attributes": {
     "classes": [
      "javascript"
     ],
     "id": ""
    }
   },
   "outputs": [],
   "source": [
    "// 例一\n",
    "var str = 'hello';\n",
    "[...str] //  ['h','e','l','l','o']\n",
    "\n",
    "// 例二\n",
    "let arr = ['b', 'c'];\n",
    "['a', ...arr, 'd']\n",
    "// ['a', 'b', 'c', 'd']"
   ]
  },
  {
   "cell_type": "markdown",
   "id": "e6fd3b6e",
   "metadata": {},
   "source": [
    "上面代码的扩展运算符内部就调用 Iterator 接口。\n",
    "\n",
    "实际上，这提供了一种简便机制，可以将任何部署了 Iterator 接口的数据结构，转为数组。也就是说，只要某个数据结构部署了 Iterator 接口，就可以对它使用扩展运算符，将其转为数组。"
   ]
  },
  {
   "cell_type": "code",
   "execution_count": null,
   "id": "a34b56bd",
   "metadata": {
    "attributes": {
     "classes": [
      "javascript"
     ],
     "id": ""
    }
   },
   "outputs": [],
   "source": [
    "let arr = [...iterable];"
   ]
  },
  {
   "cell_type": "markdown",
   "id": "0e62670b",
   "metadata": {},
   "source": [
    "**（3）yield\\***\n",
    "\n",
    "`yield*`后面跟的是一个可遍历的结构，它会调用该结构的遍历器接口。"
   ]
  },
  {
   "cell_type": "code",
   "execution_count": null,
   "id": "e559ced6",
   "metadata": {
    "attributes": {
     "classes": [
      "javascript"
     ],
     "id": ""
    }
   },
   "outputs": [],
   "source": [
    "let generator = function* () {\n",
    "  yield 1;\n",
    "  yield* [2,3,4];\n",
    "  yield 5;\n",
    "};\n",
    "\n",
    "var iterator = generator();\n",
    "\n",
    "iterator.next() // { value: 1, done: false }\n",
    "iterator.next() // { value: 2, done: false }\n",
    "iterator.next() // { value: 3, done: false }\n",
    "iterator.next() // { value: 4, done: false }\n",
    "iterator.next() // { value: 5, done: false }\n",
    "iterator.next() // { value: undefined, done: true }"
   ]
  },
  {
   "cell_type": "markdown",
   "id": "ee1c9549",
   "metadata": {},
   "source": [
    "**（4）其他场合**\n",
    "\n",
    "由于数组的遍历会调用遍历器接口，所以任何接受数组作为参数的场合，其实都调用了遍历器接口。下面是一些例子。\n",
    "\n",
    "- for...of\n",
    "- Array.from()\n",
    "- Map(), Set(), WeakMap(), WeakSet()（比如`new Map([['a',1],['b',2]])`）\n",
    "- Promise.all()\n",
    "- Promise.race()\n",
    "\n",
    "## 字符串的 Iterator 接口\n",
    "\n",
    "字符串是一个类似数组的对象，也原生具有 Iterator 接口。"
   ]
  },
  {
   "cell_type": "code",
   "execution_count": null,
   "id": "91dc17ec",
   "metadata": {
    "attributes": {
     "classes": [
      "javascript"
     ],
     "id": ""
    }
   },
   "outputs": [],
   "source": [
    "var someString = \"hi\";\n",
    "typeof someString[Symbol.iterator]\n",
    "// \"function\"\n",
    "\n",
    "var iterator = someString[Symbol.iterator]();\n",
    "\n",
    "iterator.next()  // { value: \"h\", done: false }\n",
    "iterator.next()  // { value: \"i\", done: false }\n",
    "iterator.next()  // { value: undefined, done: true }"
   ]
  },
  {
   "cell_type": "markdown",
   "id": "2ff170b9",
   "metadata": {},
   "source": [
    "上面代码中，调用`Symbol.iterator`方法返回一个遍历器对象，在这个遍历器上可以调用 next 方法，实现对于字符串的遍历。\n",
    "\n",
    "可以覆盖原生的`Symbol.iterator`方法，达到修改遍历器行为的目的。"
   ]
  },
  {
   "cell_type": "code",
   "execution_count": null,
   "id": "bb355021",
   "metadata": {
    "attributes": {
     "classes": [
      "javascript"
     ],
     "id": ""
    }
   },
   "outputs": [],
   "source": [
    "var str = new String(\"hi\");\n",
    "\n",
    "[...str] // [\"h\", \"i\"]\n",
    "\n",
    "str[Symbol.iterator] = function() {\n",
    "  return {\n",
    "    next: function() {\n",
    "      if (this._first) {\n",
    "        this._first = false;\n",
    "        return { value: \"bye\", done: false };\n",
    "      } else {\n",
    "        return { done: true };\n",
    "      }\n",
    "    },\n",
    "    _first: true\n",
    "  };\n",
    "};\n",
    "\n",
    "[...str] // [\"bye\"]\n",
    "str // \"hi\""
   ]
  },
  {
   "cell_type": "markdown",
   "id": "5e5f6d7a",
   "metadata": {},
   "source": [
    "上面代码中，字符串 str 的`Symbol.iterator`方法被修改了，所以扩展运算符（`...`）返回的值变成了`bye`，而字符串本身还是`hi`。\n",
    "\n",
    "## Iterator 接口与 Generator 函数\n",
    "\n",
    "`Symbol.iterator()`方法的最简单实现，还是使用下一章要介绍的 Generator 函数。"
   ]
  },
  {
   "cell_type": "code",
   "execution_count": null,
   "id": "e250f655",
   "metadata": {
    "attributes": {
     "classes": [
      "javascript"
     ],
     "id": ""
    }
   },
   "outputs": [],
   "source": [
    "let myIterable = {\n",
    "  [Symbol.iterator]: function* () {\n",
    "    yield 1;\n",
    "    yield 2;\n",
    "    yield 3;\n",
    "  }\n",
    "};\n",
    "[...myIterable] // [1, 2, 3]\n",
    "\n",
    "// 或者采用下面的简洁写法\n",
    "\n",
    "let obj = {\n",
    "  * [Symbol.iterator]() {\n",
    "    yield 'hello';\n",
    "    yield 'world';\n",
    "  }\n",
    "};\n",
    "\n",
    "for (let x of obj) {\n",
    "  console.log(x);\n",
    "}\n",
    "// \"hello\"\n",
    "// \"world\""
   ]
  },
  {
   "cell_type": "markdown",
   "id": "eb412056",
   "metadata": {},
   "source": [
    "上面代码中，`Symbol.iterator()`方法几乎不用部署任何代码，只要用 yield 命令给出每一步的返回值即可。\n",
    "\n",
    "## 遍历器对象的 return()，throw()\n",
    "\n",
    "遍历器对象除了具有`next()`方法，还可以具有`return()`方法和`throw()`方法。如果你自己写遍历器对象生成函数，那么`next()`方法是必须部署的，`return()`方法和`throw()`方法是否部署是可选的。\n",
    "\n",
    "`return()`方法的使用场合是，如果`for...of`循环提前退出（通常是因为出错，或者有`break`语句），就会调用`return()`方法。如果一个对象在完成遍历前，需要清理或释放资源，就可以部署`return()`方法。"
   ]
  },
  {
   "cell_type": "code",
   "execution_count": null,
   "id": "222b5fa3",
   "metadata": {
    "attributes": {
     "classes": [
      "javascript"
     ],
     "id": ""
    }
   },
   "outputs": [],
   "source": [
    "function readLinesSync(file) {\n",
    "  return {\n",
    "    [Symbol.iterator]() {\n",
    "      return {\n",
    "        next() {\n",
    "          return { done: false };\n",
    "        },\n",
    "        return() {\n",
    "          file.close();\n",
    "          return { done: true };\n",
    "        }\n",
    "      };\n",
    "    },\n",
    "  };\n",
    "}"
   ]
  },
  {
   "cell_type": "markdown",
   "id": "22df2b2a",
   "metadata": {},
   "source": [
    "上面代码中，函数`readLinesSync`接受一个文件对象作为参数，返回一个遍历器对象，其中除了`next()`方法，还部署了`return()`方法。下面的两种情况，都会触发执行`return()`方法。"
   ]
  },
  {
   "cell_type": "code",
   "execution_count": null,
   "id": "9f23cbec",
   "metadata": {
    "attributes": {
     "classes": [
      "javascript"
     ],
     "id": ""
    }
   },
   "outputs": [],
   "source": [
    "// 情况一\n",
    "for (let line of readLinesSync(fileName)) {\n",
    "  console.log(line);\n",
    "  break;\n",
    "}\n",
    "\n",
    "// 情况二\n",
    "for (let line of readLinesSync(fileName)) {\n",
    "  console.log(line);\n",
    "  throw new Error();\n",
    "}"
   ]
  },
  {
   "cell_type": "markdown",
   "id": "36a36bd6",
   "metadata": {},
   "source": [
    "上面代码中，情况一输出文件的第一行以后，就会执行`return()`方法，关闭这个文件；情况二会在执行`return()`方法关闭文件之后，再抛出错误。\n",
    "\n",
    "注意，`return()`方法必须返回一个对象，这是 Generator 语法决定的。\n",
    "\n",
    "`throw()`方法主要是配合 Generator 函数使用，一般的遍历器对象用不到这个方法。请参阅《Generator 函数》一章。\n",
    "\n",
    "## for...of 循环\n",
    "\n",
    "ES6 借鉴 C++、Java、C# 和 Python 语言，引入了`for...of`循环，作为遍历所有数据结构的统一的方法。\n",
    "\n",
    "一个数据结构只要部署了`Symbol.iterator`属性，就被视为具有 iterator 接口，就可以用`for...of`循环遍历它的成员。也就是说，`for...of`循环内部调用的是数据结构的`Symbol.iterator`方法。\n",
    "\n",
    "`for...of`循环可以使用的范围包括数组、Set 和 Map 结构、某些类似数组的对象（比如`arguments`对象、DOM NodeList 对象）、后文的 Generator 对象，以及字符串。\n",
    "\n",
    "### 数组\n",
    "\n",
    "数组原生具备`iterator`接口（即默认部署了`Symbol.iterator`属性），`for...of`循环本质上就是调用这个接口产生的遍历器，可以用下面的代码证明。"
   ]
  },
  {
   "cell_type": "code",
   "execution_count": null,
   "id": "c9bf0b4b",
   "metadata": {
    "attributes": {
     "classes": [
      "javascript"
     ],
     "id": ""
    }
   },
   "outputs": [],
   "source": [
    "const arr = ['red', 'green', 'blue'];\n",
    "\n",
    "for(let v of arr) {\n",
    "  console.log(v); // red green blue\n",
    "}\n",
    "\n",
    "const obj = {};\n",
    "obj[Symbol.iterator] = arr[Symbol.iterator].bind(arr);\n",
    "\n",
    "for(let v of obj) {\n",
    "  console.log(v); // red green blue\n",
    "}"
   ]
  },
  {
   "cell_type": "markdown",
   "id": "ee6d6832",
   "metadata": {},
   "source": [
    "上面代码中，空对象`obj`部署了数组`arr`的`Symbol.iterator`属性，结果`obj`的`for...of`循环，产生了与`arr`完全一样的结果。\n",
    "\n",
    "`for...of`循环可以代替数组实例的`forEach`方法。"
   ]
  },
  {
   "cell_type": "code",
   "execution_count": null,
   "id": "8bc26233",
   "metadata": {
    "attributes": {
     "classes": [
      "javascript"
     ],
     "id": ""
    }
   },
   "outputs": [],
   "source": [
    "const arr = ['red', 'green', 'blue'];\n",
    "\n",
    "arr.forEach(function (element, index) {\n",
    "  console.log(element); // red green blue\n",
    "  console.log(index);   // 0 1 2\n",
    "});"
   ]
  },
  {
   "cell_type": "markdown",
   "id": "aeb499fd",
   "metadata": {},
   "source": [
    "JavaScript 原有的`for...in`循环，只能获得对象的键名，不能直接获取键值。ES6 提供`for...of`循环，允许遍历获得键值。"
   ]
  },
  {
   "cell_type": "code",
   "execution_count": null,
   "id": "a75248e5",
   "metadata": {
    "attributes": {
     "classes": [
      "javascript"
     ],
     "id": ""
    }
   },
   "outputs": [],
   "source": [
    "var arr = ['a', 'b', 'c', 'd'];\n",
    "\n",
    "for (let a in arr) {\n",
    "  console.log(a); // 0 1 2 3\n",
    "}\n",
    "\n",
    "for (let a of arr) {\n",
    "  console.log(a); // a b c d\n",
    "}"
   ]
  },
  {
   "cell_type": "markdown",
   "id": "289c6ba9",
   "metadata": {},
   "source": [
    "上面代码表明，`for...in`循环读取键名，`for...of`循环读取键值。如果要通过`for...of`循环，获取数组的索引，可以借助数组实例的`entries`方法和`keys`方法（参见《数组的扩展》一章）。\n",
    "\n",
    "`for...of`循环调用遍历器接口，数组的遍历器接口只返回具有数字索引的属性。这一点跟`for...in`循环也不一样。"
   ]
  },
  {
   "cell_type": "code",
   "execution_count": null,
   "id": "dd017a0b",
   "metadata": {
    "attributes": {
     "classes": [
      "javascript"
     ],
     "id": ""
    }
   },
   "outputs": [],
   "source": [
    "let arr = [3, 5, 7];\n",
    "arr.foo = 'hello';\n",
    "\n",
    "for (let i in arr) {\n",
    "  console.log(i); // \"0\", \"1\", \"2\", \"foo\"\n",
    "}\n",
    "\n",
    "for (let i of arr) {\n",
    "  console.log(i); //  \"3\", \"5\", \"7\"\n",
    "}"
   ]
  },
  {
   "cell_type": "markdown",
   "id": "2de7c35a",
   "metadata": {},
   "source": [
    "上面代码中，`for...of`循环不会返回数组`arr`的`foo`属性。\n",
    "\n",
    "### Set 和 Map 结构\n",
    "\n",
    "Set 和 Map 结构也原生具有 Iterator 接口，可以直接使用`for...of`循环。"
   ]
  },
  {
   "cell_type": "code",
   "execution_count": null,
   "id": "3659ebe2",
   "metadata": {
    "attributes": {
     "classes": [
      "javascript"
     ],
     "id": ""
    }
   },
   "outputs": [],
   "source": [
    "var engines = new Set([\"Gecko\", \"Trident\", \"Webkit\", \"Webkit\"]);\n",
    "for (var e of engines) {\n",
    "  console.log(e);\n",
    "}\n",
    "// Gecko\n",
    "// Trident\n",
    "// Webkit\n",
    "\n",
    "var es6 = new Map();\n",
    "es6.set(\"edition\", 6);\n",
    "es6.set(\"committee\", \"TC39\");\n",
    "es6.set(\"standard\", \"ECMA-262\");\n",
    "for (var [name, value] of es6) {\n",
    "  console.log(name + \": \" + value);\n",
    "}\n",
    "// edition: 6\n",
    "// committee: TC39\n",
    "// standard: ECMA-262"
   ]
  },
  {
   "cell_type": "markdown",
   "id": "387a39ac",
   "metadata": {},
   "source": [
    "上面代码演示了如何遍历 Set 结构和 Map 结构。值得注意的地方有两个，首先，遍历的顺序是按照各个成员被添加进数据结构的顺序。其次，Set 结构遍历时，返回的是一个值，而 Map 结构遍历时，返回的是一个数组，该数组的两个成员分别为当前 Map 成员的键名和键值。"
   ]
  },
  {
   "cell_type": "code",
   "execution_count": null,
   "id": "0da093bf",
   "metadata": {
    "attributes": {
     "classes": [
      "javascript"
     ],
     "id": ""
    }
   },
   "outputs": [],
   "source": [
    "let map = new Map().set('a', 1).set('b', 2);\n",
    "for (let pair of map) {\n",
    "  console.log(pair);\n",
    "}\n",
    "// ['a', 1]\n",
    "// ['b', 2]\n",
    "\n",
    "for (let [key, value] of map) {\n",
    "  console.log(key + ' : ' + value);\n",
    "}\n",
    "// a : 1\n",
    "// b : 2"
   ]
  },
  {
   "cell_type": "markdown",
   "id": "4e4b32fd",
   "metadata": {},
   "source": [
    "### 计算生成的数据结构\n",
    "\n",
    "有些数据结构是在现有数据结构的基础上，计算生成的。比如，ES6 的数组、Set、Map 都部署了以下三个方法，调用后都返回遍历器对象。\n",
    "\n",
    "- `entries()` 返回一个遍历器对象，用来遍历`[键名, 键值]`组成的数组。对于数组，键名就是索引值；对于 Set，键名与键值相同。Map 结构的 Iterator 接口，默认就是调用`entries`方法。\n",
    "- `keys()` 返回一个遍历器对象，用来遍历所有的键名。\n",
    "- `values()` 返回一个遍历器对象，用来遍历所有的键值。\n",
    "\n",
    "这三个方法调用后生成的遍历器对象，所遍历的都是计算生成的数据结构。"
   ]
  },
  {
   "cell_type": "code",
   "execution_count": null,
   "id": "fe3f8daa",
   "metadata": {
    "attributes": {
     "classes": [
      "javascript"
     ],
     "id": ""
    }
   },
   "outputs": [],
   "source": [
    "let arr = ['a', 'b', 'c'];\n",
    "for (let pair of arr.entries()) {\n",
    "  console.log(pair);\n",
    "}\n",
    "// [0, 'a']\n",
    "// [1, 'b']\n",
    "// [2, 'c']"
   ]
  },
  {
   "cell_type": "markdown",
   "id": "97183dce",
   "metadata": {},
   "source": [
    "### 类似数组的对象\n",
    "\n",
    "类似数组的对象包括好几类。下面是`for...of`循环用于字符串、DOM NodeList 对象、`arguments`对象的例子。"
   ]
  },
  {
   "cell_type": "code",
   "execution_count": null,
   "id": "c81165c1",
   "metadata": {
    "attributes": {
     "classes": [
      "javascript"
     ],
     "id": ""
    }
   },
   "outputs": [],
   "source": [
    "// 字符串\n",
    "let str = \"hello\";\n",
    "\n",
    "for (let s of str) {\n",
    "  console.log(s); // h e l l o\n",
    "}\n",
    "\n",
    "// DOM NodeList对象\n",
    "let paras = document.querySelectorAll(\"p\");\n",
    "\n",
    "for (let p of paras) {\n",
    "  p.classList.add(\"test\");\n",
    "}\n",
    "\n",
    "// arguments对象\n",
    "function printArgs() {\n",
    "  for (let x of arguments) {\n",
    "    console.log(x);\n",
    "  }\n",
    "}\n",
    "printArgs('a', 'b');\n",
    "// 'a'\n",
    "// 'b'"
   ]
  },
  {
   "cell_type": "markdown",
   "id": "417e0afd",
   "metadata": {},
   "source": [
    "对于字符串来说，`for...of`循环还有一个特点，就是会正确识别 32 位 UTF-16 字符。"
   ]
  },
  {
   "cell_type": "code",
   "execution_count": null,
   "id": "3a7b9d26",
   "metadata": {
    "attributes": {
     "classes": [
      "javascript"
     ],
     "id": ""
    }
   },
   "outputs": [],
   "source": [
    "for (let x of 'a\\uD83D\\uDC0A') {\n",
    "  console.log(x);\n",
    "}\n",
    "// 'a'\n",
    "// '\\uD83D\\uDC0A'"
   ]
  },
  {
   "cell_type": "markdown",
   "id": "66dd6b31",
   "metadata": {},
   "source": [
    "并不是所有类似数组的对象都具有 Iterator 接口，一个简便的解决方法，就是使用`Array.from`方法将其转为数组。"
   ]
  },
  {
   "cell_type": "code",
   "execution_count": null,
   "id": "419e317d",
   "metadata": {
    "attributes": {
     "classes": [
      "javascript"
     ],
     "id": ""
    }
   },
   "outputs": [],
   "source": [
    "let arrayLike = { length: 2, 0: 'a', 1: 'b' };\n",
    "\n",
    "// 报错\n",
    "for (let x of arrayLike) {\n",
    "  console.log(x);\n",
    "}\n",
    "\n",
    "// 正确\n",
    "for (let x of Array.from(arrayLike)) {\n",
    "  console.log(x);\n",
    "}"
   ]
  },
  {
   "cell_type": "markdown",
   "id": "ee279de5",
   "metadata": {},
   "source": [
    "### 对象\n",
    "\n",
    "对于普通的对象，`for...of`结构不能直接使用，会报错，必须部署了 Iterator 接口后才能使用。但是，这样情况下，`for...in`循环依然可以用来遍历键名。"
   ]
  },
  {
   "cell_type": "code",
   "execution_count": null,
   "id": "5ce2909a",
   "metadata": {
    "attributes": {
     "classes": [
      "javascript"
     ],
     "id": ""
    }
   },
   "outputs": [],
   "source": [
    "let es6 = {\n",
    "  edition: 6,\n",
    "  committee: \"TC39\",\n",
    "  standard: \"ECMA-262\"\n",
    "};\n",
    "\n",
    "for (let e in es6) {\n",
    "  console.log(e);\n",
    "}\n",
    "// edition\n",
    "// committee\n",
    "// standard\n",
    "\n",
    "for (let e of es6) {\n",
    "  console.log(e);\n",
    "}\n",
    "// TypeError: es6[Symbol.iterator] is not a function"
   ]
  },
  {
   "cell_type": "markdown",
   "id": "8063d4d6",
   "metadata": {},
   "source": [
    "上面代码表示，对于普通的对象，`for...in`循环可以遍历键名，`for...of`循环会报错。\n",
    "\n",
    "一种解决方法是，使用`Object.keys`方法将对象的键名生成一个数组，然后遍历这个数组。"
   ]
  },
  {
   "cell_type": "code",
   "execution_count": null,
   "id": "beb0bf43",
   "metadata": {
    "attributes": {
     "classes": [
      "javascript"
     ],
     "id": ""
    }
   },
   "outputs": [],
   "source": [
    "for (var key of Object.keys(someObject)) {\n",
    "  console.log(key + ': ' + someObject[key]);\n",
    "}"
   ]
  },
  {
   "cell_type": "markdown",
   "id": "84405833",
   "metadata": {},
   "source": [
    "另一个方法是使用 Generator 函数将对象重新包装一下。"
   ]
  },
  {
   "cell_type": "code",
   "execution_count": null,
   "id": "952c6f48",
   "metadata": {
    "attributes": {
     "classes": [
      "javascript"
     ],
     "id": ""
    }
   },
   "outputs": [],
   "source": [
    "const obj = { a: 1, b: 2, c: 3 }\n",
    "\n",
    "function* entries(obj) {\n",
    "  for (let key of Object.keys(obj)) {\n",
    "    yield [key, obj[key]];\n",
    "  }\n",
    "}\n",
    "\n",
    "for (let [key, value] of entries(obj)) {\n",
    "  console.log(key, '->', value);\n",
    "}\n",
    "// a -> 1\n",
    "// b -> 2\n",
    "// c -> 3"
   ]
  },
  {
   "cell_type": "markdown",
   "id": "4681c197",
   "metadata": {},
   "source": [
    "### 与其他遍历语法的比较\n",
    "\n",
    "以数组为例，JavaScript 提供多种遍历语法。最原始的写法就是`for`循环。"
   ]
  },
  {
   "cell_type": "code",
   "execution_count": null,
   "id": "076828d2",
   "metadata": {
    "attributes": {
     "classes": [
      "javascript"
     ],
     "id": ""
    }
   },
   "outputs": [],
   "source": [
    "for (var index = 0; index < myArray.length; index++) {\n",
    "  console.log(myArray[index]);\n",
    "}"
   ]
  },
  {
   "cell_type": "markdown",
   "id": "629e0d51",
   "metadata": {},
   "source": [
    "这种写法比较麻烦，因此数组提供内置的`forEach`方法。"
   ]
  },
  {
   "cell_type": "code",
   "execution_count": null,
   "id": "55c3a7a0",
   "metadata": {
    "attributes": {
     "classes": [
      "javascript"
     ],
     "id": ""
    }
   },
   "outputs": [],
   "source": [
    "myArray.forEach(function (value) {\n",
    "  console.log(value);\n",
    "});"
   ]
  },
  {
   "cell_type": "markdown",
   "id": "1af60bd9",
   "metadata": {},
   "source": [
    "这种写法的问题在于，无法中途跳出`forEach`循环，`break`命令或`return`命令都不能奏效。\n",
    "\n",
    "`for...in`循环可以遍历数组的键名。"
   ]
  },
  {
   "cell_type": "code",
   "execution_count": null,
   "id": "fbc81776",
   "metadata": {
    "attributes": {
     "classes": [
      "javascript"
     ],
     "id": ""
    }
   },
   "outputs": [],
   "source": [
    "for (var index in myArray) {\n",
    "  console.log(myArray[index]);\n",
    "}"
   ]
  },
  {
   "cell_type": "markdown",
   "id": "be6b2b96",
   "metadata": {},
   "source": [
    "`for...in`循环有几个缺点。\n",
    "\n",
    "- 数组的键名是数字，但是`for...in`循环是以字符串作为键名“0”、“1”、“2”等等。\n",
    "- `for...in`循环不仅遍历数字键名，还会遍历手动添加的其他键，甚至包括原型链上的键。\n",
    "- 某些情况下，`for...in`循环会以任意顺序遍历键名。\n",
    "\n",
    "总之，`for...in`循环主要是为遍历对象而设计的，不适用于遍历数组。\n",
    "\n",
    "`for...of`循环相比上面几种做法，有一些显著的优点。"
   ]
  },
  {
   "cell_type": "code",
   "execution_count": null,
   "id": "0f08ee0c",
   "metadata": {
    "attributes": {
     "classes": [
      "javascript"
     ],
     "id": ""
    }
   },
   "outputs": [],
   "source": [
    "for (let value of myArray) {\n",
    "  console.log(value);\n",
    "}"
   ]
  },
  {
   "cell_type": "markdown",
   "id": "802f0d75",
   "metadata": {},
   "source": [
    "- 有着同`for...in`一样的简洁语法，但是没有`for...in`那些缺点。\n",
    "- 不同于`forEach`方法，它可以与`break`、`continue`和`return`配合使用。\n",
    "- 提供了遍历所有数据结构的统一操作接口。\n",
    "\n",
    "下面是一个使用 break 语句，跳出`for...of`循环的例子。"
   ]
  },
  {
   "cell_type": "code",
   "execution_count": null,
   "id": "13ad533f",
   "metadata": {
    "attributes": {
     "classes": [
      "javascript"
     ],
     "id": ""
    }
   },
   "outputs": [],
   "source": [
    "for (var n of fibonacci) {\n",
    "  if (n > 1000)\n",
    "    break;\n",
    "  console.log(n);\n",
    "}"
   ]
  },
  {
   "cell_type": "markdown",
   "id": "a07e61ae",
   "metadata": {},
   "source": [
    "上面的例子，会输出斐波纳契数列小于等于 1000 的项。如果当前项大于 1000，就会使用`break`语句跳出`for...of`循环。"
   ]
  }
 ],
 "metadata": {},
 "nbformat": 4,
 "nbformat_minor": 5
}

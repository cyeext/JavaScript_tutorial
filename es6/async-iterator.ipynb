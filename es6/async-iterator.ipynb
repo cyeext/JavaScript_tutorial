{
 "cells": [
  {
   "cell_type": "markdown",
   "id": "ae7c0712",
   "metadata": {},
   "source": [
    "# 异步遍历器\n",
    "\n",
    "## 同步遍历器的问题\n",
    "\n",
    "《遍历器》一章说过，Iterator 接口是一种数据遍历的协议，只要调用遍历器对象的`next`方法，就会得到一个对象，表示当前遍历指针所在的那个位置的信息。`next`方法返回的对象的结构是`{value, done}`，其中`value`表示当前的数据的值，`done`是一个布尔值，表示遍历是否结束。"
   ]
  },
  {
   "cell_type": "code",
   "execution_count": null,
   "id": "300140af",
   "metadata": {
    "attributes": {
     "classes": [
      "javascript"
     ],
     "id": ""
    }
   },
   "outputs": [],
   "source": [
    "function idMaker() {\n",
    "  let index = 0;\n",
    "\n",
    "  return {\n",
    "    next: function() {\n",
    "      return { value: index++, done: false };\n",
    "    }\n",
    "  };\n",
    "}\n",
    "\n",
    "const it = idMaker();\n",
    "\n",
    "it.next().value // 0\n",
    "it.next().value // 1\n",
    "it.next().value // 2\n",
    "// ..."
   ]
  },
  {
   "cell_type": "markdown",
   "id": "fc369389",
   "metadata": {},
   "source": [
    "上面代码中，变量`it`是一个遍历器（iterator）。每次调用`it.next()`方法，就返回一个对象，表示当前遍历位置的信息。\n",
    "\n",
    "这里隐含着一个规定，`it.next()`方法必须是同步的，只要调用就必须立刻返回值。也就是说，一旦执行`it.next()`方法，就必须同步地得到`value`和`done`这两个属性。如果遍历指针正好指向同步操作，当然没有问题，但对于异步操作，就不太合适了。"
   ]
  },
  {
   "cell_type": "code",
   "execution_count": null,
   "id": "531a46ae",
   "metadata": {
    "attributes": {
     "classes": [
      "javascript"
     ],
     "id": ""
    }
   },
   "outputs": [],
   "source": [
    "function idMaker() {\n",
    "  let index = 0;\n",
    "\n",
    "  return {\n",
    "    next: function() {\n",
    "      return new Promise(function (resolve, reject) {\n",
    "        setTimeout(() => {\n",
    "          resolve({ value: index++, done: false });\n",
    "        }, 1000);\n",
    "      });\n",
    "    }\n",
    "  };\n",
    "}"
   ]
  },
  {
   "cell_type": "markdown",
   "id": "f1d79d0c",
   "metadata": {},
   "source": [
    "上面代码中，`next()`方法返回的是一个 Promise 对象，这样就不行，不符合 Iterator 协议，只要代码里面包含异步操作都不行。也就是说，Iterator 协议里面`next()`方法只能包含同步操作。\n",
    "\n",
    "目前的解决方法是，将异步操作包装成 Thunk 函数或者 Promise 对象，即`next()`方法返回值的`value`属性是一个 Thunk 函数或者 Promise 对象，等待以后返回真正的值，而`done`属性则还是同步产生的。"
   ]
  },
  {
   "cell_type": "code",
   "execution_count": null,
   "id": "3d07cfbf",
   "metadata": {
    "attributes": {
     "classes": [
      "javascript"
     ],
     "id": ""
    }
   },
   "outputs": [],
   "source": [
    "function idMaker() {\n",
    "  let index = 0;\n",
    "\n",
    "  return {\n",
    "    next: function() {\n",
    "      return {\n",
    "        value: new Promise(resolve => setTimeout(() => resolve(index++), 1000)),\n",
    "        done: false\n",
    "      };\n",
    "    }\n",
    "  };\n",
    "}\n",
    "\n",
    "const it = idMaker();\n",
    "\n",
    "it.next().value.then(o => console.log(o)) // 0\n",
    "it.next().value.then(o => console.log(o)) // 1\n",
    "it.next().value.then(o => console.log(o)) // 2\n",
    "// ..."
   ]
  },
  {
   "cell_type": "markdown",
   "id": "d526aa6d",
   "metadata": {},
   "source": [
    "上面代码中，`value`属性的返回值是一个 Promise 对象，用来放置异步操作。但是这样写很麻烦，不太符合直觉，语义也比较绕。\n",
    "\n",
    "ES2018 [引入](https://github.com/tc39/proposal-async-iteration)了“异步遍历器”（Async Iterator），为异步操作提供原生的遍历器接口，即`value`和`done`这两个属性都是异步产生。\n",
    "\n",
    "## 异步遍历的接口\n",
    "\n",
    "异步遍历器的最大的语法特点，就是调用遍历器的`next`方法，返回的是一个 Promise 对象。"
   ]
  },
  {
   "cell_type": "code",
   "execution_count": null,
   "id": "38bdbb53",
   "metadata": {
    "attributes": {
     "classes": [
      "javascript"
     ],
     "id": ""
    }
   },
   "outputs": [],
   "source": [
    "asyncIterator\n",
    "  .next()\n",
    "  .then(\n",
    "    ({ value, done }) => /* ... */\n",
    "  );"
   ]
  },
  {
   "cell_type": "markdown",
   "id": "1482e15a",
   "metadata": {},
   "source": [
    "上面代码中，`asyncIterator`是一个异步遍历器，调用`next`方法以后，返回一个 Promise 对象。因此，可以使用`then`方法指定，这个 Promise 对象的状态变为`resolve`以后的回调函数。回调函数的参数，则是一个具有`value`和`done`两个属性的对象，这个跟同步遍历器是一样的。\n",
    "\n",
    "我们知道，一个对象的同步遍历器的接口，部署在`Symbol.iterator`属性上面。同样地，对象的异步遍历器接口，部署在`Symbol.asyncIterator`属性上面。不管是什么样的对象，只要它的`Symbol.asyncIterator`属性有值，就表示应该对它进行异步遍历。\n",
    "\n",
    "下面是一个异步遍历器的例子。"
   ]
  },
  {
   "cell_type": "code",
   "execution_count": null,
   "id": "1a6f1dd3",
   "metadata": {
    "attributes": {
     "classes": [
      "javascript"
     ],
     "id": ""
    }
   },
   "outputs": [],
   "source": [
    "const asyncIterable = createAsyncIterable(['a', 'b']);\n",
    "const asyncIterator = asyncIterable[Symbol.asyncIterator]();\n",
    "\n",
    "asyncIterator\n",
    ".next()\n",
    ".then(iterResult1 => {\n",
    "  console.log(iterResult1); // { value: 'a', done: false }\n",
    "  return asyncIterator.next();\n",
    "})\n",
    ".then(iterResult2 => {\n",
    "  console.log(iterResult2); // { value: 'b', done: false }\n",
    "  return asyncIterator.next();\n",
    "})\n",
    ".then(iterResult3 => {\n",
    "  console.log(iterResult3); // { value: undefined, done: true }\n",
    "});"
   ]
  },
  {
   "cell_type": "markdown",
   "id": "0dd442b4",
   "metadata": {},
   "source": [
    "上面代码中，异步遍历器其实返回了两次值。第一次调用的时候，返回一个 Promise 对象；等到 Promise 对象`resolve`了，再返回一个表示当前数据成员信息的对象。这就是说，异步遍历器与同步遍历器最终行为是一致的，只是会先返回 Promise 对象，作为中介。\n",
    "\n",
    "由于异步遍历器的`next`方法，返回的是一个 Promise 对象。因此，可以把它放在`await`命令后面。"
   ]
  },
  {
   "cell_type": "code",
   "execution_count": null,
   "id": "ad4c1386",
   "metadata": {
    "attributes": {
     "classes": [
      "javascript"
     ],
     "id": ""
    }
   },
   "outputs": [],
   "source": [
    "async function f() {\n",
    "  const asyncIterable = createAsyncIterable(['a', 'b']);\n",
    "  const asyncIterator = asyncIterable[Symbol.asyncIterator]();\n",
    "  console.log(await asyncIterator.next());\n",
    "  // { value: 'a', done: false }\n",
    "  console.log(await asyncIterator.next());\n",
    "  // { value: 'b', done: false }\n",
    "  console.log(await asyncIterator.next());\n",
    "  // { value: undefined, done: true }\n",
    "}"
   ]
  },
  {
   "cell_type": "markdown",
   "id": "c831236c",
   "metadata": {},
   "source": [
    "上面代码中，`next`方法用`await`处理以后，就不必使用`then`方法了。整个流程已经很接近同步处理了。\n",
    "\n",
    "注意，异步遍历器的`next`方法是可以连续调用的，不必等到上一步产生的 Promise 对象`resolve`以后再调用。这种情况下，`next`方法会累积起来，自动按照每一步的顺序运行下去。下面是一个例子，把所有的`next`方法放在`Promise.all`方法里面。"
   ]
  },
  {
   "cell_type": "code",
   "execution_count": null,
   "id": "e3f1db3a",
   "metadata": {
    "attributes": {
     "classes": [
      "javascript"
     ],
     "id": ""
    }
   },
   "outputs": [],
   "source": [
    "const asyncIterable = createAsyncIterable(['a', 'b']);\n",
    "const asyncIterator = asyncIterable[Symbol.asyncIterator]();\n",
    "const [{value: v1}, {value: v2}] = await Promise.all([\n",
    "  asyncIterator.next(), asyncIterator.next()\n",
    "]);\n",
    "\n",
    "console.log(v1, v2); // a b"
   ]
  },
  {
   "cell_type": "markdown",
   "id": "212492c7",
   "metadata": {},
   "source": [
    "另一种用法是一次性调用所有的`next`方法，然后`await`最后一步操作。"
   ]
  },
  {
   "cell_type": "code",
   "execution_count": null,
   "id": "65e00a6f",
   "metadata": {
    "attributes": {
     "classes": [
      "javascript"
     ],
     "id": ""
    }
   },
   "outputs": [],
   "source": [
    "async function runner() {\n",
    "  const writer = openFile('someFile.txt');\n",
    "  writer.next('hello');\n",
    "  writer.next('world');\n",
    "  await writer.return();\n",
    "}\n",
    "\n",
    "runner();"
   ]
  },
  {
   "cell_type": "markdown",
   "id": "d2ffd922",
   "metadata": {},
   "source": [
    "## for await...of\n",
    "\n",
    "前面介绍过，`for...of`循环用于遍历同步的 Iterator 接口。新引入的`for await...of`循环，则是用于遍历异步的 Iterator 接口。"
   ]
  },
  {
   "cell_type": "code",
   "execution_count": null,
   "id": "87a37068",
   "metadata": {
    "attributes": {
     "classes": [
      "javascript"
     ],
     "id": ""
    }
   },
   "outputs": [],
   "source": [
    "async function f() {\n",
    "  for await (const x of createAsyncIterable(['a', 'b'])) {\n",
    "    console.log(x);\n",
    "  }\n",
    "}\n",
    "// a\n",
    "// b"
   ]
  },
  {
   "cell_type": "markdown",
   "id": "5bd5293c",
   "metadata": {},
   "source": [
    "上面代码中，`createAsyncIterable()`返回一个拥有异步遍历器接口的对象，`for...of`循环自动调用这个对象的异步遍历器的`next`方法，会得到一个 Promise 对象。`await`用来处理这个 Promise 对象，一旦`resolve`，就把得到的值（`x`）传入`for...of`的循环体。\n",
    "\n",
    "`for await...of`循环的一个用途，是部署了 asyncIterable 操作的异步接口，可以直接放入这个循环。"
   ]
  },
  {
   "cell_type": "code",
   "execution_count": null,
   "id": "e2a3b3a4",
   "metadata": {
    "attributes": {
     "classes": [
      "javascript"
     ],
     "id": ""
    }
   },
   "outputs": [],
   "source": [
    "let body = '';\n",
    "\n",
    "async function f() {\n",
    "  for await(const data of req) body += data;\n",
    "  const parsed = JSON.parse(body);\n",
    "  console.log('got', parsed);\n",
    "}"
   ]
  },
  {
   "cell_type": "markdown",
   "id": "12f6d167",
   "metadata": {},
   "source": [
    "上面代码中，`req`是一个 asyncIterable 对象，用来异步读取数据。可以看到，使用`for await...of`循环以后，代码会非常简洁。\n",
    "\n",
    "如果`next`方法返回的 Promise 对象被`reject`，`for await...of`就会报错，要用`try...catch`捕捉。"
   ]
  },
  {
   "cell_type": "code",
   "execution_count": null,
   "id": "20326f94",
   "metadata": {
    "attributes": {
     "classes": [
      "javascript"
     ],
     "id": ""
    }
   },
   "outputs": [],
   "source": [
    "async function () {\n",
    "  try {\n",
    "    for await (const x of createRejectingIterable()) {\n",
    "      console.log(x);\n",
    "    }\n",
    "  } catch (e) {\n",
    "    console.error(e);\n",
    "  }\n",
    "}"
   ]
  },
  {
   "cell_type": "markdown",
   "id": "4e263429",
   "metadata": {},
   "source": [
    "注意，`for await...of`循环也可以用于同步遍历器。"
   ]
  },
  {
   "cell_type": "code",
   "execution_count": null,
   "id": "d6ec16cc",
   "metadata": {
    "attributes": {
     "classes": [
      "javascript"
     ],
     "id": ""
    }
   },
   "outputs": [],
   "source": [
    "(async function () {\n",
    "  for await (const x of ['a', 'b']) {\n",
    "    console.log(x);\n",
    "  }\n",
    "})();\n",
    "// a\n",
    "// b"
   ]
  },
  {
   "cell_type": "markdown",
   "id": "fa5c397b",
   "metadata": {},
   "source": [
    "Node v10 支持异步遍历器，Stream 就部署了这个接口。下面是读取文件的传统写法与异步遍历器写法的差异。"
   ]
  },
  {
   "cell_type": "code",
   "execution_count": null,
   "id": "12670b65",
   "metadata": {
    "attributes": {
     "classes": [
      "javascript"
     ],
     "id": ""
    }
   },
   "outputs": [],
   "source": [
    "// 传统写法\n",
    "function main(inputFilePath) {\n",
    "  const readStream = fs.createReadStream(\n",
    "    inputFilePath,\n",
    "    { encoding: 'utf8', highWaterMark: 1024 }\n",
    "  );\n",
    "  readStream.on('data', (chunk) => {\n",
    "    console.log('>>> '+chunk);\n",
    "  });\n",
    "  readStream.on('end', () => {\n",
    "    console.log('### DONE ###');\n",
    "  });\n",
    "}\n",
    "\n",
    "// 异步遍历器写法\n",
    "async function main(inputFilePath) {\n",
    "  const readStream = fs.createReadStream(\n",
    "    inputFilePath,\n",
    "    { encoding: 'utf8', highWaterMark: 1024 }\n",
    "  );\n",
    "\n",
    "  for await (const chunk of readStream) {\n",
    "    console.log('>>> '+chunk);\n",
    "  }\n",
    "  console.log('### DONE ###');\n",
    "}"
   ]
  },
  {
   "cell_type": "markdown",
   "id": "ce173080",
   "metadata": {},
   "source": [
    "## 异步 Generator 函数\n",
    "\n",
    "就像 Generator 函数返回一个同步遍历器对象一样，异步 Generator 函数的作用，是返回一个异步遍历器对象。\n",
    "\n",
    "在语法上，异步 Generator 函数就是`async`函数与 Generator 函数的结合。"
   ]
  },
  {
   "cell_type": "code",
   "execution_count": null,
   "id": "8f8f3008",
   "metadata": {
    "attributes": {
     "classes": [
      "javascript"
     ],
     "id": ""
    }
   },
   "outputs": [],
   "source": [
    "async function* gen() {\n",
    "  yield 'hello';\n",
    "}\n",
    "const genObj = gen();\n",
    "genObj.next().then(x => console.log(x));\n",
    "// { value: 'hello', done: false }"
   ]
  },
  {
   "cell_type": "markdown",
   "id": "93823fc2",
   "metadata": {},
   "source": [
    "上面代码中，`gen`是一个异步 Generator 函数，执行后返回一个异步 Iterator 对象。对该对象调用`next`方法，返回一个 Promise 对象。\n",
    "\n",
    "异步遍历器的设计目的之一，就是 Generator 函数处理同步操作和异步操作时，能够使用同一套接口。"
   ]
  },
  {
   "cell_type": "code",
   "execution_count": null,
   "id": "78fe1cb8",
   "metadata": {
    "attributes": {
     "classes": [
      "javascript"
     ],
     "id": ""
    }
   },
   "outputs": [],
   "source": [
    "// 同步 Generator 函数\n",
    "function* map(iterable, func) {\n",
    "  const iter = iterable[Symbol.iterator]();\n",
    "  while (true) {\n",
    "    const {value, done} = iter.next();\n",
    "    if (done) break;\n",
    "    yield func(value);\n",
    "  }\n",
    "}\n",
    "\n",
    "// 异步 Generator 函数\n",
    "async function* map(iterable, func) {\n",
    "  const iter = iterable[Symbol.asyncIterator]();\n",
    "  while (true) {\n",
    "    const {value, done} = await iter.next();\n",
    "    if (done) break;\n",
    "    yield func(value);\n",
    "  }\n",
    "}"
   ]
  },
  {
   "cell_type": "markdown",
   "id": "2f112627",
   "metadata": {},
   "source": [
    "上面代码中，`map`是一个 Generator 函数，第一个参数是可遍历对象`iterable`，第二个参数是一个回调函数`func`。`map`的作用是将`iterable`每一步返回的值，使用`func`进行处理。上面有两个版本的`map`，前一个处理同步遍历器，后一个处理异步遍历器，可以看到两个版本的写法基本上是一致的。\n",
    "\n",
    "下面是另一个异步 Generator 函数的例子。"
   ]
  },
  {
   "cell_type": "code",
   "execution_count": null,
   "id": "3cf34abd",
   "metadata": {
    "attributes": {
     "classes": [
      "javascript"
     ],
     "id": ""
    }
   },
   "outputs": [],
   "source": [
    "async function* readLines(path) {\n",
    "  let file = await fileOpen(path);\n",
    "\n",
    "  try {\n",
    "    while (!file.EOF) {\n",
    "      yield await file.readLine();\n",
    "    }\n",
    "  } finally {\n",
    "    await file.close();\n",
    "  }\n",
    "}"
   ]
  },
  {
   "cell_type": "markdown",
   "id": "c2c4dd6a",
   "metadata": {},
   "source": [
    "上面代码中，异步操作前面使用`await`关键字标明，即`await`后面的操作，应该返回 Promise 对象。凡是使用`yield`关键字的地方，就是`next`方法停下来的地方，它后面的表达式的值（即`await file.readLine()`的值），会作为`next()`返回对象的`value`属性，这一点是与同步 Generator 函数一致的。\n",
    "\n",
    "异步 Generator 函数内部，能够同时使用`await`和`yield`命令。可以这样理解，`await`命令用于将外部操作产生的值输入函数内部，`yield`命令用于将函数内部的值输出。\n",
    "\n",
    "上面代码定义的异步 Generator 函数的用法如下。"
   ]
  },
  {
   "cell_type": "code",
   "execution_count": null,
   "id": "b375ccb0",
   "metadata": {
    "attributes": {
     "classes": [
      "javascript"
     ],
     "id": ""
    }
   },
   "outputs": [],
   "source": [
    "(async function () {\n",
    "  for await (const line of readLines(filePath)) {\n",
    "    console.log(line);\n",
    "  }\n",
    "})()"
   ]
  },
  {
   "cell_type": "markdown",
   "id": "28223018",
   "metadata": {},
   "source": [
    "异步 Generator 函数可以与`for await...of`循环结合起来使用。"
   ]
  },
  {
   "cell_type": "code",
   "execution_count": null,
   "id": "7276ceee",
   "metadata": {
    "attributes": {
     "classes": [
      "javascript"
     ],
     "id": ""
    }
   },
   "outputs": [],
   "source": [
    "async function* prefixLines(asyncIterable) {\n",
    "  for await (const line of asyncIterable) {\n",
    "    yield '> ' + line;\n",
    "  }\n",
    "}"
   ]
  },
  {
   "cell_type": "markdown",
   "id": "9869c029",
   "metadata": {},
   "source": [
    "异步 Generator 函数的返回值是一个异步 Iterator，即每次调用它的`next`方法，会返回一个 Promise 对象，也就是说，跟在`yield`命令后面的，应该是一个 Promise 对象。如果像上面那个例子那样，`yield`命令后面是一个字符串，会被自动包装成一个 Promise 对象。"
   ]
  },
  {
   "cell_type": "code",
   "execution_count": null,
   "id": "89a06cf9",
   "metadata": {
    "attributes": {
     "classes": [
      "javascript"
     ],
     "id": ""
    }
   },
   "outputs": [],
   "source": [
    "function fetchRandom() {\n",
    "  const url = 'https://www.random.org/decimal-fractions/'\n",
    "    + '?num=1&dec=10&col=1&format=plain&rnd=new';\n",
    "  return fetch(url);\n",
    "}\n",
    "\n",
    "async function* asyncGenerator() {\n",
    "  console.log('Start');\n",
    "  const result = await fetchRandom(); // (A)\n",
    "  yield 'Result: ' + await result.text(); // (B)\n",
    "  console.log('Done');\n",
    "}\n",
    "\n",
    "const ag = asyncGenerator();\n",
    "ag.next().then(({value, done}) => {\n",
    "  console.log(value);\n",
    "})"
   ]
  },
  {
   "cell_type": "markdown",
   "id": "61d3b78b",
   "metadata": {},
   "source": [
    "上面代码中，`ag`是`asyncGenerator`函数返回的异步遍历器对象。调用`ag.next()`以后，上面代码的执行顺序如下。\n",
    "\n",
    "1. `ag.next()`立刻返回一个 Promise 对象。\n",
    "1. `asyncGenerator`函数开始执行，打印出`Start`。\n",
    "1. `await`命令返回一个 Promise 对象，`asyncGenerator`函数停在这里。\n",
    "1. A 处变成 fulfilled 状态，产生的值放入`result`变量，`asyncGenerator`函数继续往下执行。\n",
    "1. 函数在 B 处的`yield`暂停执行，一旦`yield`命令取到值，`ag.next()`返回的那个 Promise 对象变成 fulfilled 状态。\n",
    "1. `ag.next()`后面的`then`方法指定的回调函数开始执行。该回调函数的参数是一个对象`{value, done}`，其中`value`的值是`yield`命令后面的那个表达式的值，`done`的值是`false`。\n",
    "\n",
    "A 和 B 两行的作用类似于下面的代码。"
   ]
  },
  {
   "cell_type": "code",
   "execution_count": null,
   "id": "19d2e59a",
   "metadata": {
    "attributes": {
     "classes": [
      "javascript"
     ],
     "id": ""
    }
   },
   "outputs": [],
   "source": [
    "return new Promise((resolve, reject) => {\n",
    "  fetchRandom()\n",
    "  .then(result => result.text())\n",
    "  .then(result => {\n",
    "     resolve({\n",
    "       value: 'Result: ' + result,\n",
    "       done: false,\n",
    "     });\n",
    "  });\n",
    "});"
   ]
  },
  {
   "cell_type": "markdown",
   "id": "798db807",
   "metadata": {},
   "source": [
    "如果异步 Generator 函数抛出错误，会导致 Promise 对象的状态变为`reject`，然后抛出的错误被`catch`方法捕获。"
   ]
  },
  {
   "cell_type": "code",
   "execution_count": null,
   "id": "945e0a6d",
   "metadata": {
    "attributes": {
     "classes": [
      "javascript"
     ],
     "id": ""
    }
   },
   "outputs": [],
   "source": [
    "async function* asyncGenerator() {\n",
    "  throw new Error('Problem!');\n",
    "}\n",
    "\n",
    "asyncGenerator()\n",
    ".next()\n",
    ".catch(err => console.log(err)); // Error: Problem!"
   ]
  },
  {
   "cell_type": "markdown",
   "id": "7bedae49",
   "metadata": {},
   "source": [
    "注意，普通的 async 函数返回的是一个 Promise 对象，而异步 Generator 函数返回的是一个异步 Iterator 对象。可以这样理解，async 函数和异步 Generator 函数，是封装异步操作的两种方法，都用来达到同一种目的。区别在于，前者自带执行器，后者通过`for await...of`执行，或者自己编写执行器。下面就是一个异步 Generator 函数的执行器。"
   ]
  },
  {
   "cell_type": "code",
   "execution_count": null,
   "id": "02db4e35",
   "metadata": {
    "attributes": {
     "classes": [
      "javascript"
     ],
     "id": ""
    }
   },
   "outputs": [],
   "source": [
    "async function takeAsync(asyncIterable, count = Infinity) {\n",
    "  const result = [];\n",
    "  const iterator = asyncIterable[Symbol.asyncIterator]();\n",
    "  while (result.length < count) {\n",
    "    const {value, done} = await iterator.next();\n",
    "    if (done) break;\n",
    "    result.push(value);\n",
    "  }\n",
    "  return result;\n",
    "}"
   ]
  },
  {
   "cell_type": "markdown",
   "id": "4f2facf4",
   "metadata": {},
   "source": [
    "上面代码中，异步 Generator 函数产生的异步遍历器，会通过`while`循环自动执行，每当`await iterator.next()`完成，就会进入下一轮循环。一旦`done`属性变为`true`，就会跳出循环，异步遍历器执行结束。\n",
    "\n",
    "下面是这个自动执行器的一个使用实例。"
   ]
  },
  {
   "cell_type": "code",
   "execution_count": null,
   "id": "1a93506d",
   "metadata": {
    "attributes": {
     "classes": [
      "javascript"
     ],
     "id": ""
    }
   },
   "outputs": [],
   "source": [
    "async function f() {\n",
    "  async function* gen() {\n",
    "    yield 'a';\n",
    "    yield 'b';\n",
    "    yield 'c';\n",
    "  }\n",
    "\n",
    "  return await takeAsync(gen());\n",
    "}\n",
    "\n",
    "f().then(function (result) {\n",
    "  console.log(result); // ['a', 'b', 'c']\n",
    "})"
   ]
  },
  {
   "cell_type": "markdown",
   "id": "e1745580",
   "metadata": {},
   "source": [
    "异步 Generator 函数出现以后，JavaScript 就有了四种函数形式：普通函数、async 函数、Generator 函数和异步 Generator 函数。请注意区分每种函数的不同之处。基本上，如果是一系列按照顺序执行的异步操作（比如读取文件，然后写入新内容，再存入硬盘），可以使用 async 函数；如果是一系列产生相同数据结构的异步操作（比如一行一行读取文件），可以使用异步 Generator 函数。\n",
    "\n",
    "异步 Generator 函数也可以通过`next`方法的参数，接收外部传入的数据。"
   ]
  },
  {
   "cell_type": "code",
   "execution_count": null,
   "id": "2fc3057e",
   "metadata": {
    "attributes": {
     "classes": [
      "javascript"
     ],
     "id": ""
    }
   },
   "outputs": [],
   "source": [
    "const writer = openFile('someFile.txt');\n",
    "writer.next('hello'); // 立即执行\n",
    "writer.next('world'); // 立即执行\n",
    "await writer.return(); // 等待写入结束"
   ]
  },
  {
   "cell_type": "markdown",
   "id": "bedc9fc5",
   "metadata": {},
   "source": [
    "上面代码中，`openFile`是一个异步 Generator 函数。`next`方法的参数，向该函数内部的操作传入数据。每次`next`方法都是同步执行的，最后的`await`命令用于等待整个写入操作结束。\n",
    "\n",
    "最后，同步的数据结构，也可以使用异步 Generator 函数。"
   ]
  },
  {
   "cell_type": "code",
   "execution_count": null,
   "id": "6450e12f",
   "metadata": {
    "attributes": {
     "classes": [
      "javascript"
     ],
     "id": ""
    }
   },
   "outputs": [],
   "source": [
    "async function* createAsyncIterable(syncIterable) {\n",
    "  for (const elem of syncIterable) {\n",
    "    yield elem;\n",
    "  }\n",
    "}"
   ]
  },
  {
   "cell_type": "markdown",
   "id": "efe2cdd6",
   "metadata": {},
   "source": [
    "上面代码中，由于没有异步操作，所以也就没有使用`await`关键字。\n",
    "\n",
    "## yield\\* 语句\n",
    "\n",
    "`yield*`语句也可以跟一个异步遍历器。"
   ]
  },
  {
   "cell_type": "code",
   "execution_count": null,
   "id": "0be7b110",
   "metadata": {
    "attributes": {
     "classes": [
      "javascript"
     ],
     "id": ""
    }
   },
   "outputs": [],
   "source": [
    "async function* gen1() {\n",
    "  yield 'a';\n",
    "  yield 'b';\n",
    "  return 2;\n",
    "}\n",
    "\n",
    "async function* gen2() {\n",
    "  // result 最终会等于 2\n",
    "  const result = yield* gen1();\n",
    "}"
   ]
  },
  {
   "cell_type": "markdown",
   "id": "28cbc8da",
   "metadata": {},
   "source": [
    "上面代码中，`gen2`函数里面的`result`变量，最后的值是`2`。\n",
    "\n",
    "与同步 Generator 函数一样，`for await...of`循环会展开`yield*`。"
   ]
  },
  {
   "cell_type": "code",
   "execution_count": null,
   "id": "c06808be",
   "metadata": {
    "attributes": {
     "classes": [
      "javascript"
     ],
     "id": ""
    }
   },
   "outputs": [],
   "source": [
    "(async function () {\n",
    "  for await (const x of gen2()) {\n",
    "    console.log(x);\n",
    "  }\n",
    "})();\n",
    "// a\n",
    "// b"
   ]
  }
 ],
 "metadata": {},
 "nbformat": 4,
 "nbformat_minor": 5
}

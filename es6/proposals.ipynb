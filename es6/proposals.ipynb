{
 "cells": [
  {
   "cell_type": "markdown",
   "id": "91b7ff9e",
   "metadata": {},
   "source": [
    "# 最新提案\n",
    "\n",
    "本章介绍一些尚未进入标准、但很有希望的最新提案。\n",
    "\n",
    "## do 表达式\n",
    "\n",
    "本质上，块级作用域是一个语句，将多个操作封装在一起，没有返回值。"
   ]
  },
  {
   "cell_type": "code",
   "execution_count": null,
   "id": "f0987782",
   "metadata": {
    "attributes": {
     "classes": [
      "javascript"
     ],
     "id": ""
    }
   },
   "outputs": [],
   "source": [
    "{\n",
    "  let t = f();\n",
    "  t = t * t + 1;\n",
    "}"
   ]
  },
  {
   "cell_type": "markdown",
   "id": "41fdc647",
   "metadata": {},
   "source": [
    "上面代码中，块级作用域将两个语句封装在一起。但是，在块级作用域以外，没有办法得到`t`的值，因为块级作用域不返回值，除非`t`是全局变量。\n",
    "\n",
    "现在有一个[提案](https://github.com/tc39/proposal-do-expressions)，使得块级作用域可以变为表达式，也就是说可以返回值，办法就是在块级作用域之前加上`do`，使它变为`do`表达式，然后就会返回内部最后执行的表达式的值。"
   ]
  },
  {
   "cell_type": "code",
   "execution_count": null,
   "id": "f7651f1f",
   "metadata": {
    "attributes": {
     "classes": [
      "javascript"
     ],
     "id": ""
    }
   },
   "outputs": [],
   "source": [
    "let x = do {\n",
    "  let t = f();\n",
    "  t * t + 1;\n",
    "};"
   ]
  },
  {
   "cell_type": "markdown",
   "id": "b675b4a7",
   "metadata": {},
   "source": [
    "上面代码中，变量`x`会得到整个块级作用域的返回值（`t * t + 1`）。\n",
    "\n",
    "`do`表达式的逻辑非常简单：封装的是什么，就会返回什么。"
   ]
  },
  {
   "cell_type": "code",
   "execution_count": null,
   "id": "b5f89066",
   "metadata": {
    "attributes": {
     "classes": [
      "javascript"
     ],
     "id": ""
    }
   },
   "outputs": [],
   "source": [
    "// 等同于 <表达式>\n",
    "do { <表达式>; }\n",
    "\n",
    "// 等同于 <语句>\n",
    "do { <语句> }"
   ]
  },
  {
   "cell_type": "markdown",
   "id": "8496e18a",
   "metadata": {},
   "source": [
    "`do`表达式的好处是可以封装多个语句，让程序更加模块化，就像乐高积木那样一块块拼装起来。"
   ]
  },
  {
   "cell_type": "code",
   "execution_count": null,
   "id": "a0b17daa",
   "metadata": {
    "attributes": {
     "classes": [
      "javascript"
     ],
     "id": ""
    }
   },
   "outputs": [],
   "source": [
    "let x = do {\n",
    "  if (foo()) { f() }\n",
    "  else if (bar()) { g() }\n",
    "  else { h() }\n",
    "};"
   ]
  },
  {
   "cell_type": "markdown",
   "id": "8ad373c2",
   "metadata": {},
   "source": [
    "上面代码的本质，就是根据函数`foo`的执行结果，调用不同的函数，将返回结果赋给变量`x`。使用`do`表达式，就将这个操作的意图表达得非常简洁清晰。而且，`do`块级作用域提供了单独的作用域，内部操作可以与全局作用域隔绝。\n",
    "\n",
    "值得一提的是，`do`表达式在 JSX 语法中非常好用。"
   ]
  },
  {
   "cell_type": "code",
   "execution_count": null,
   "id": "0c9c3c9c",
   "metadata": {
    "attributes": {
     "classes": [
      "javascript"
     ],
     "id": ""
    }
   },
   "outputs": [],
   "source": [
    "return (\n",
    "  <nav>\n",
    "    <Home />\n",
    "    {\n",
    "      do {\n",
    "        if (loggedIn) {\n",
    "          <LogoutButton />\n",
    "        } else {\n",
    "          <LoginButton />\n",
    "        }\n",
    "      }\n",
    "    }\n",
    "  </nav>\n",
    ")"
   ]
  },
  {
   "cell_type": "markdown",
   "id": "a20c6326",
   "metadata": {},
   "source": [
    "上面代码中，如果不用`do`表达式，就只能用三元判断运算符（`?:`）。那样的话，一旦判断逻辑复杂，代码就会变得很不易读。\n",
    "\n",
    "## throw 表达式\n",
    "\n",
    "JavaScript 语法规定`throw`是一个命令，用来抛出错误，不能用于表达式之中。"
   ]
  },
  {
   "cell_type": "code",
   "execution_count": null,
   "id": "a6fc7bb4",
   "metadata": {
    "attributes": {
     "classes": [
      "javascript"
     ],
     "id": ""
    }
   },
   "outputs": [],
   "source": [
    "// 报错\n",
    "console.log(throw new Error());"
   ]
  },
  {
   "cell_type": "markdown",
   "id": "5d7f2342",
   "metadata": {},
   "source": [
    "上面代码中，`console.log`的参数必须是一个表达式，如果是一个`throw`语句就会报错。\n",
    "\n",
    "现在有一个[提案](https://github.com/tc39/proposal-throw-expressions)，允许`throw`用于表达式。"
   ]
  },
  {
   "cell_type": "code",
   "execution_count": null,
   "id": "3736059b",
   "metadata": {
    "attributes": {
     "classes": [
      "javascript"
     ],
     "id": ""
    }
   },
   "outputs": [],
   "source": [
    "// 参数的默认值\n",
    "function save(filename = throw new TypeError(\"Argument required\")) {\n",
    "}\n",
    "\n",
    "// 箭头函数的返回值\n",
    "lint(ast, {\n",
    "  with: () => throw new Error(\"avoid using 'with' statements.\")\n",
    "});\n",
    "\n",
    "// 条件表达式\n",
    "function getEncoder(encoding) {\n",
    "  const encoder = encoding === \"utf8\" ?\n",
    "    new UTF8Encoder() :\n",
    "    encoding === \"utf16le\" ?\n",
    "      new UTF16Encoder(false) :\n",
    "      encoding === \"utf16be\" ?\n",
    "        new UTF16Encoder(true) :\n",
    "        throw new Error(\"Unsupported encoding\");\n",
    "}\n",
    "\n",
    "// 逻辑表达式\n",
    "class Product {\n",
    "  get id() {\n",
    "    return this._id;\n",
    "  }\n",
    "  set id(value) {\n",
    "    this._id = value || throw new Error(\"Invalid value\");\n",
    "  }\n",
    "}"
   ]
  },
  {
   "cell_type": "markdown",
   "id": "2b141eaf",
   "metadata": {},
   "source": [
    "上面代码中，`throw`都出现在表达式里面。\n",
    "\n",
    "语法上，`throw`表达式里面的`throw`不再是一个命令，而是一个运算符。为了避免与`throw`命令混淆，规定`throw`出现在行首，一律解释为`throw`语句，而不是`throw`表达式。\n",
    "\n",
    "## 函数的部分执行\n",
    "\n",
    "### 语法\n",
    "\n",
    "多参数的函数有时需要绑定其中的一个或多个参数，然后返回一个新函数。"
   ]
  },
  {
   "cell_type": "code",
   "execution_count": null,
   "id": "26edf8d3",
   "metadata": {
    "attributes": {
     "classes": [
      "javascript"
     ],
     "id": ""
    }
   },
   "outputs": [],
   "source": [
    "function add(x, y) { return x + y; }\n",
    "function add7(x) { return x + 7; }"
   ]
  },
  {
   "cell_type": "markdown",
   "id": "fca52530",
   "metadata": {},
   "source": [
    "上面代码中，`add7`函数其实是`add`函数的一个特殊版本，通过将一个参数绑定为`7`，就可以从`add`得到`add7`。"
   ]
  },
  {
   "cell_type": "code",
   "execution_count": null,
   "id": "e1ae259d",
   "metadata": {
    "attributes": {
     "classes": [
      "javascript"
     ],
     "id": ""
    }
   },
   "outputs": [],
   "source": [
    "// bind 方法\n",
    "const add7 = add.bind(null, 7);\n",
    "\n",
    "// 箭头函数\n",
    "const add7 = x => add(x, 7);"
   ]
  },
  {
   "cell_type": "markdown",
   "id": "a6512a2b",
   "metadata": {},
   "source": [
    "上面两种写法都有些冗余。其中，`bind`方法的局限更加明显，它必须提供`this`，并且只能从前到后一个个绑定参数，无法只绑定非头部的参数。\n",
    "\n",
    "现在有一个[提案](https://github.com/tc39/proposal-partial-application)，使得绑定参数并返回一个新函数更加容易。这叫做函数的部分执行（partial application）。"
   ]
  },
  {
   "cell_type": "code",
   "execution_count": null,
   "id": "52c3ca50",
   "metadata": {
    "attributes": {
     "classes": [
      "javascript"
     ],
     "id": ""
    }
   },
   "outputs": [],
   "source": [
    "const add = (x, y) => x + y;\n",
    "const addOne = add(1, ?);\n",
    "\n",
    "const maxGreaterThanZero = Math.max(0, ...);"
   ]
  },
  {
   "cell_type": "markdown",
   "id": "203fd97f",
   "metadata": {},
   "source": [
    "根据新提案，`?`是单个参数的占位符，`...`是多个参数的占位符。以下的形式都属于函数的部分执行。"
   ]
  },
  {
   "cell_type": "code",
   "execution_count": null,
   "id": "c46efdcf",
   "metadata": {
    "attributes": {
     "classes": [
      "javascript"
     ],
     "id": ""
    }
   },
   "outputs": [],
   "source": [
    "f(x, ?)\n",
    "f(x, ...)\n",
    "f(?, x)\n",
    "f(..., x)\n",
    "f(?, x, ?)\n",
    "f(..., x, ...)"
   ]
  },
  {
   "cell_type": "markdown",
   "id": "272bf1a8",
   "metadata": {},
   "source": [
    "`?`和`...`只能出现在函数的调用之中，并且会返回一个新函数。"
   ]
  },
  {
   "cell_type": "code",
   "execution_count": null,
   "id": "e5a0cf33",
   "metadata": {
    "attributes": {
     "classes": [
      "javascript"
     ],
     "id": ""
    }
   },
   "outputs": [],
   "source": [
    "const g = f(?, 1, ...);\n",
    "// 等同于\n",
    "const g = (x, ...y) => f(x, 1, ...y);"
   ]
  },
  {
   "cell_type": "markdown",
   "id": "d660aea1",
   "metadata": {},
   "source": [
    "函数的部分执行，也可以用于对象的方法。"
   ]
  },
  {
   "cell_type": "code",
   "execution_count": null,
   "id": "0138be9c",
   "metadata": {
    "attributes": {
     "classes": [
      "javascript"
     ],
     "id": ""
    }
   },
   "outputs": [],
   "source": [
    "let obj = {\n",
    "  f(x, y) { return x + y; },\n",
    "};\n",
    "\n",
    "const g = obj.f(?, 3);\n",
    "g(1) // 4"
   ]
  },
  {
   "cell_type": "markdown",
   "id": "6c530d34",
   "metadata": {},
   "source": [
    "### 注意点\n",
    "\n",
    "函数的部分执行有一些特别注意的地方。\n",
    "\n",
    "（1）函数的部分执行是基于原函数的。如果原函数发生变化，部分执行生成的新函数也会立即反映这种变化。"
   ]
  },
  {
   "cell_type": "code",
   "execution_count": null,
   "id": "f7748915",
   "metadata": {
    "attributes": {
     "classes": [
      "javascript"
     ],
     "id": ""
    }
   },
   "outputs": [],
   "source": [
    "let f = (x, y) => x + y;\n",
    "\n",
    "const g = f(?, 3);\n",
    "g(1); // 4\n",
    "\n",
    "// 替换函数 f\n",
    "f = (x, y) => x * y;\n",
    "\n",
    "g(1); // 3"
   ]
  },
  {
   "cell_type": "markdown",
   "id": "f337630f",
   "metadata": {},
   "source": [
    "上面代码中，定义了函数的部分执行以后，更换原函数会立即影响到新函数。\n",
    "\n",
    "（2）如果预先提供的那个值是一个表达式，那么这个表达式并不会在定义时求值，而是在每次调用时求值。"
   ]
  },
  {
   "cell_type": "code",
   "execution_count": null,
   "id": "7be0aaec",
   "metadata": {
    "attributes": {
     "classes": [
      "javascript"
     ],
     "id": ""
    }
   },
   "outputs": [],
   "source": [
    "let a = 3;\n",
    "const f = (x, y) => x + y;\n",
    "\n",
    "const g = f(?, a);\n",
    "g(1); // 4\n",
    "\n",
    "// 改变 a 的值\n",
    "a = 10;\n",
    "g(1); // 11"
   ]
  },
  {
   "cell_type": "markdown",
   "id": "28bbb764",
   "metadata": {},
   "source": [
    "上面代码中，预先提供的参数是变量`a`，那么每次调用函数`g`的时候，才会对`a`进行求值。\n",
    "\n",
    "（3）如果新函数的参数多于占位符的数量，那么多余的参数将被忽略。"
   ]
  },
  {
   "cell_type": "code",
   "execution_count": null,
   "id": "9b6e7ebd",
   "metadata": {
    "attributes": {
     "classes": [
      "javascript"
     ],
     "id": ""
    }
   },
   "outputs": [],
   "source": [
    "const f = (x, ...y) => [x, ...y];\n",
    "const g = f(?, 1);\n",
    "g(2, 3, 4); // [2, 1]"
   ]
  },
  {
   "cell_type": "markdown",
   "id": "d594941c",
   "metadata": {},
   "source": [
    "上面代码中，函数`g`只有一个占位符，也就意味着它只能接受一个参数，多余的参数都会被忽略。\n",
    "\n",
    "写成下面这样，多余的参数就没有问题。"
   ]
  },
  {
   "cell_type": "code",
   "execution_count": null,
   "id": "c4510cdc",
   "metadata": {
    "attributes": {
     "classes": [
      "javascript"
     ],
     "id": ""
    }
   },
   "outputs": [],
   "source": [
    "const f = (x, ...y) => [x, ...y];\n",
    "const g = f(?, 1, ...);\n",
    "g(2, 3, 4); // [2, 1, 3, 4];"
   ]
  },
  {
   "cell_type": "markdown",
   "id": "1ccf2746",
   "metadata": {},
   "source": [
    "（4）`...`只会被采集一次，如果函数的部分执行使用了多个`...`，那么每个`...`的值都将相同。"
   ]
  },
  {
   "cell_type": "code",
   "execution_count": null,
   "id": "6d1662e0",
   "metadata": {
    "attributes": {
     "classes": [
      "javascript"
     ],
     "id": ""
    }
   },
   "outputs": [],
   "source": [
    "const f = (...x) => x;\n",
    "const g = f(..., 9, ...);\n",
    "g(1, 2, 3); // [1, 2, 3, 9, 1, 2, 3]"
   ]
  },
  {
   "cell_type": "markdown",
   "id": "bb337199",
   "metadata": {},
   "source": [
    "上面代码中，`g`定义了两个`...`占位符，真正执行的时候，它们的值是一样的。\n",
    "\n",
    "## 管道运算符\n",
    "\n",
    "Unix 操作系统有一个管道机制（pipeline），可以把前一个操作的值传给后一个操作。这个机制非常有用，使得简单的操作可以组合成为复杂的操作。许多语言都有管道的实现，现在有一个[提案](https://github.com/tc39/proposal-pipeline-operator)，让 JavaScript 也拥有管道机制。\n",
    "\n",
    "JavaScript 的管道是一个运算符，写作`|>`。它的左边是一个表达式，右边是一个函数。管道运算符把左边表达式的值，传入右边的函数进行求值。"
   ]
  },
  {
   "cell_type": "code",
   "execution_count": null,
   "id": "a4c9cf09",
   "metadata": {
    "attributes": {
     "classes": [
      "javascript"
     ],
     "id": ""
    }
   },
   "outputs": [],
   "source": [
    "x |> f\n",
    "// 等同于\n",
    "f(x)"
   ]
  },
  {
   "cell_type": "markdown",
   "id": "bdb927d9",
   "metadata": {},
   "source": [
    "管道运算符最大的好处，就是可以把嵌套的函数，写成从左到右的链式表达式。"
   ]
  },
  {
   "cell_type": "code",
   "execution_count": null,
   "id": "492f4071",
   "metadata": {
    "attributes": {
     "classes": [
      "javascript"
     ],
     "id": ""
    }
   },
   "outputs": [],
   "source": [
    "function doubleSay (str) {\n",
    "  return str + \", \" + str;\n",
    "}\n",
    "\n",
    "function capitalize (str) {\n",
    "  return str[0].toUpperCase() + str.substring(1);\n",
    "}\n",
    "\n",
    "function exclaim (str) {\n",
    "  return str + '!';\n",
    "}"
   ]
  },
  {
   "cell_type": "markdown",
   "id": "0f82821b",
   "metadata": {},
   "source": [
    "上面是三个简单的函数。如果要嵌套执行，传统的写法和管道的写法分别如下。"
   ]
  },
  {
   "cell_type": "code",
   "execution_count": null,
   "id": "7c39e4b4",
   "metadata": {
    "attributes": {
     "classes": [
      "javascript"
     ],
     "id": ""
    }
   },
   "outputs": [],
   "source": [
    "// 传统的写法\n",
    "exclaim(capitalize(doubleSay('hello')))\n",
    "// \"Hello, hello!\"\n",
    "\n",
    "// 管道的写法\n",
    "'hello'\n",
    "  |> doubleSay\n",
    "  |> capitalize\n",
    "  |> exclaim\n",
    "// \"Hello, hello!\""
   ]
  },
  {
   "cell_type": "markdown",
   "id": "552436bc",
   "metadata": {},
   "source": [
    "管道运算符只能传递一个值，这意味着它右边的函数必须是一个单参数函数。如果是多参数函数，就必须进行柯里化，改成单参数的版本。"
   ]
  },
  {
   "cell_type": "code",
   "execution_count": null,
   "id": "85c44af4",
   "metadata": {
    "attributes": {
     "classes": [
      "javascript"
     ],
     "id": ""
    }
   },
   "outputs": [],
   "source": [
    "function double (x) { return x + x; }\n",
    "function add (x, y) { return x + y; }\n",
    "\n",
    "let person = { score: 25 };\n",
    "person.score\n",
    "  |> double\n",
    "  |> (_ => add(7, _))\n",
    "// 57"
   ]
  },
  {
   "cell_type": "markdown",
   "id": "30e948eb",
   "metadata": {},
   "source": [
    "上面代码中，`add`函数需要两个参数。但是，管道运算符只能传入一个值，因此需要事先提供另一个参数，并将其改成单参数的箭头函数`_ => add(7, _)`。这个函数里面的下划线并没有特别的含义，可以用其他符号代替，使用下划线只是因为，它能够形象地表示这里是占位符。\n",
    "\n",
    "管道运算符对于`await`函数也适用。"
   ]
  },
  {
   "cell_type": "code",
   "execution_count": null,
   "id": "2a29c504",
   "metadata": {
    "attributes": {
     "classes": [
      "javascript"
     ],
     "id": ""
    }
   },
   "outputs": [],
   "source": [
    "x |> await f\n",
    "// 等同于\n",
    "await f(x)\n",
    "\n",
    "const userAge = userId |> await fetchUserById |> getAgeFromUser;\n",
    "// 等同于\n",
    "const userAge = getAgeFromUser(await fetchUserById(userId));"
   ]
  },
  {
   "cell_type": "markdown",
   "id": "f24f5995",
   "metadata": {},
   "source": [
    "## Math.signbit()\n",
    "\n",
    "JavaScript 内部使用64位浮点数（国际标准 IEEE 754）表示数值。IEEE 754 规定，64位浮点数的第一位是符号位，`0`表示正数，`1`表示负数。所以会有两种零，`+0`是符号位为`0`时的零，`-0`是符号位为`1`时的零。实际编程中，判断一个值是`+0`还是`-0`非常麻烦，因为它们是相等的。"
   ]
  },
  {
   "cell_type": "code",
   "execution_count": null,
   "id": "83006ca7",
   "metadata": {
    "attributes": {
     "classes": [
      "javascript"
     ],
     "id": ""
    }
   },
   "outputs": [],
   "source": [
    "+0 === -0 // true"
   ]
  },
  {
   "cell_type": "markdown",
   "id": "4fa43eb2",
   "metadata": {},
   "source": [
    "ES6 新增的`Math.sign()`方法，只能用来判断数值的正负，对于判断数值的符号位用处不大。因为如果参数是`-0`，它会返回`-0`，还是不能直接知道符号位是`1`还是`0`。"
   ]
  },
  {
   "cell_type": "code",
   "execution_count": null,
   "id": "8ddc7db1",
   "metadata": {
    "attributes": {
     "classes": [
      "javascript"
     ],
     "id": ""
    }
   },
   "outputs": [],
   "source": [
    "Math.sign(-0) // -0"
   ]
  },
  {
   "cell_type": "markdown",
   "id": "1eedb172",
   "metadata": {},
   "source": [
    "目前，有一个[提案](https://github.com/tc39/proposal-Math.signbit)，引入了`Math.signbit()`方法判断一个数的符号位是否设置了。"
   ]
  },
  {
   "cell_type": "code",
   "execution_count": null,
   "id": "81272c03",
   "metadata": {
    "attributes": {
     "classes": [
      "javascript"
     ],
     "id": ""
    }
   },
   "outputs": [],
   "source": [
    "Math.signbit(2) //false\n",
    "Math.signbit(-2) //true\n",
    "Math.signbit(0) //false\n",
    "Math.signbit(-0) //true"
   ]
  },
  {
   "cell_type": "markdown",
   "id": "896fe35d",
   "metadata": {},
   "source": [
    "可以看到，该方法正确返回了`-0`的符号位是设置了的。\n",
    "\n",
    "该方法的算法如下。\n",
    "\n",
    "- 如果参数是`NaN`，返回`false`\n",
    "- 如果参数是`-0`，返回`true`\n",
    "- 如果参数是负值，返回`true`\n",
    "- 其他情况返回`false`\n",
    "\n",
    "## 双冒号运算符\n",
    "\n",
    "箭头函数可以绑定`this`对象，大大减少了显式绑定`this`对象的写法（`call()`、`apply()`、`bind()`）。但是，箭头函数并不适用于所有场合，所以现在有一个[提案](https://github.com/zenparsing/es-function-bind)，提出了“函数绑定”（function bind）运算符，用来取代`call()`、`apply()`、`bind()`调用。\n",
    "\n",
    "函数绑定运算符是并排的两个冒号（`::`），双冒号左边是一个对象，右边是一个函数。该运算符会自动将左边的对象，作为上下文环境（即`this`对象），绑定到右边的函数上面。"
   ]
  },
  {
   "cell_type": "code",
   "execution_count": null,
   "id": "3c50f175",
   "metadata": {
    "attributes": {
     "classes": [
      "javascript"
     ],
     "id": ""
    }
   },
   "outputs": [],
   "source": [
    "foo::bar;\n",
    "// 等同于\n",
    "bar.bind(foo);\n",
    "\n",
    "foo::bar(...arguments);\n",
    "// 等同于\n",
    "bar.apply(foo, arguments);\n",
    "\n",
    "const hasOwnProperty = Object.prototype.hasOwnProperty;\n",
    "function hasOwn(obj, key) {\n",
    "  return obj::hasOwnProperty(key);\n",
    "}"
   ]
  },
  {
   "cell_type": "markdown",
   "id": "775ae749",
   "metadata": {},
   "source": [
    "如果双冒号左边为空，右边是一个对象的方法，则等于将该方法绑定在该对象上面。"
   ]
  },
  {
   "cell_type": "code",
   "execution_count": null,
   "id": "4bd58aad",
   "metadata": {
    "attributes": {
     "classes": [
      "javascript"
     ],
     "id": ""
    }
   },
   "outputs": [],
   "source": [
    "var method = obj::obj.foo;\n",
    "// 等同于\n",
    "var method = ::obj.foo;\n",
    "\n",
    "let log = ::console.log;\n",
    "// 等同于\n",
    "var log = console.log.bind(console);"
   ]
  },
  {
   "cell_type": "markdown",
   "id": "9bb8868d",
   "metadata": {},
   "source": [
    "如果双冒号运算符的运算结果，还是一个对象，就可以采用链式写法。"
   ]
  },
  {
   "cell_type": "code",
   "execution_count": null,
   "id": "f74974da",
   "metadata": {
    "attributes": {
     "classes": [
      "javascript"
     ],
     "id": ""
    }
   },
   "outputs": [],
   "source": [
    "import { map, takeWhile, forEach } from \"iterlib\";\n",
    "\n",
    "getPlayers()\n",
    "::map(x => x.character())\n",
    "::takeWhile(x => x.strength > 100)\n",
    "::forEach(x => console.log(x));"
   ]
  },
  {
   "cell_type": "markdown",
   "id": "ae799c09",
   "metadata": {},
   "source": [
    "## Realm API\n",
    "\n",
    "[Realm API](https://github.com/tc39/proposal-realms) 提供沙箱功能（sandbox），允许隔离代码，防止那些被隔离的代码拿到全局对象。\n",
    "\n",
    "以前，经常使用`<iframe>`作为沙箱。"
   ]
  },
  {
   "cell_type": "code",
   "execution_count": null,
   "id": "44d1f0c4",
   "metadata": {
    "attributes": {
     "classes": [
      "javascript"
     ],
     "id": ""
    }
   },
   "outputs": [],
   "source": [
    "const globalOne = window;\n",
    "let iframe = document.createElement('iframe');\n",
    "document.body.appendChild(iframe);\n",
    "const globalTwo = iframe.contentWindow;"
   ]
  },
  {
   "cell_type": "markdown",
   "id": "fb70b65e",
   "metadata": {},
   "source": [
    "上面代码中，`<iframe>`的全局对象是独立的（`iframe.contentWindow`）。Realm API 可以取代这个功能。"
   ]
  },
  {
   "cell_type": "code",
   "execution_count": null,
   "id": "28f809cb",
   "metadata": {
    "attributes": {
     "classes": [
      "javascript"
     ],
     "id": ""
    }
   },
   "outputs": [],
   "source": [
    "const globalOne = window;\n",
    "const globalTwo = new Realm().global;"
   ]
  },
  {
   "cell_type": "markdown",
   "id": "1ca40ac7",
   "metadata": {},
   "source": [
    "上面代码中，`Realm API`单独提供了一个全局对象`new Realm().global`。\n",
    "\n",
    "Realm API 提供一个`Realm()`构造函数，用来生成一个 Realm 对象。该对象的`global`属性指向一个新的顶层对象，这个顶层对象跟原始的顶层对象类似。"
   ]
  },
  {
   "cell_type": "code",
   "execution_count": null,
   "id": "48092c2c",
   "metadata": {
    "attributes": {
     "classes": [
      "javascript"
     ],
     "id": ""
    }
   },
   "outputs": [],
   "source": [
    "const globalOne = window;\n",
    "const globalTwo = new Realm().global;\n",
    "\n",
    "globalOne.evaluate('1 + 2') // 3\n",
    "globalTwo.evaluate('1 + 2') // 3"
   ]
  },
  {
   "cell_type": "markdown",
   "id": "fa6863c5",
   "metadata": {},
   "source": [
    "上面代码中，Realm 生成的顶层对象的`evaluate()`方法，可以运行代码。\n",
    "\n",
    "下面的代码可以证明，Realm 顶层对象与原始顶层对象是两个对象。"
   ]
  },
  {
   "cell_type": "code",
   "execution_count": null,
   "id": "9ee1f670",
   "metadata": {
    "attributes": {
     "classes": [
      "javascript"
     ],
     "id": ""
    }
   },
   "outputs": [],
   "source": [
    "let a1 = globalOne.evaluate('[1,2,3]');\n",
    "let a2 = globalTwo.evaluate('[1,2,3]');\n",
    "a1.prototype === a2.prototype; // false\n",
    "a1 instanceof globalTwo.Array; // false\n",
    "a2 instanceof globalOne.Array; // false"
   ]
  },
  {
   "cell_type": "markdown",
   "id": "5929ec99",
   "metadata": {},
   "source": [
    "上面代码中，Realm 沙箱里面的数组的原型对象，跟原始环境里面的数组是不一样的。\n",
    "\n",
    "Realm 沙箱里面只能运行 ECMAScript 语法提供的 API，不能运行宿主环境提供的 API。"
   ]
  },
  {
   "cell_type": "code",
   "execution_count": null,
   "id": "18bffc87",
   "metadata": {
    "attributes": {
     "classes": [
      "javascript"
     ],
     "id": ""
    }
   },
   "outputs": [],
   "source": [
    "globalTwo.evaluate('console.log(1)')\n",
    "// throw an error: console is undefined"
   ]
  },
  {
   "cell_type": "markdown",
   "id": "8d99227a",
   "metadata": {},
   "source": [
    "上面代码中，Realm 沙箱里面没有`console`对象，导致报错。因为`console`不是语法标准，是宿主环境提供的。\n",
    "\n",
    "如果要解决这个问题，可以使用下面的代码。"
   ]
  },
  {
   "cell_type": "code",
   "execution_count": null,
   "id": "e152f3a0",
   "metadata": {
    "attributes": {
     "classes": [
      "javascript"
     ],
     "id": ""
    }
   },
   "outputs": [],
   "source": [
    "globalTwo.console = globalOne.console;"
   ]
  },
  {
   "cell_type": "markdown",
   "id": "a767590b",
   "metadata": {},
   "source": [
    "`Realm()`构造函数可以接受一个参数对象，该参数对象的`intrinsics`属性可以指定 Realm 沙箱继承原始顶层对象的方法。"
   ]
  },
  {
   "cell_type": "code",
   "execution_count": null,
   "id": "074ef275",
   "metadata": {
    "attributes": {
     "classes": [
      "javascript"
     ],
     "id": ""
    }
   },
   "outputs": [],
   "source": [
    "const r1 = new Realm();\n",
    "r1.global === this;\n",
    "r1.global.JSON === JSON; // false\n",
    "\n",
    "const r2 = new Realm({ intrinsics: 'inherit' });\n",
    "r2.global === this; // false\n",
    "r2.global.JSON === JSON; // true"
   ]
  },
  {
   "cell_type": "markdown",
   "id": "0c2a38c5",
   "metadata": {},
   "source": [
    "上面代码中，正常情况下，沙箱的`JSON`方法不同于原始的`JSON`对象。但是，`Realm()`构造函数接受`{ intrinsics: 'inherit' }`作为参数以后，就会继承原始顶层对象的方法。\n",
    "\n",
    "用户可以自己定义`Realm`的子类，用来定制自己的沙箱。"
   ]
  },
  {
   "cell_type": "code",
   "execution_count": null,
   "id": "8ce5cd65",
   "metadata": {
    "attributes": {
     "classes": [
      "javascript"
     ],
     "id": ""
    }
   },
   "outputs": [],
   "source": [
    "class FakeWindow extends Realm {\n",
    "  init() {\n",
    "    super.init();\n",
    "    let global = this.global;\n",
    "\n",
    "    global.document = new FakeDocument(...);\n",
    "    global.alert = new Proxy(fakeAlert, { ... });\n",
    "    // ...\n",
    "  }\n",
    "}"
   ]
  },
  {
   "cell_type": "markdown",
   "id": "13768ba1",
   "metadata": {},
   "source": [
    "上面代码中，`FakeWindow`模拟了一个假的顶层对象`window`。\n",
    "\n",
    "## `#!`命令\n",
    "\n",
    "Unix 的命令行脚本都支持`#!`命令，又称为 Shebang 或 Hashbang。这个命令放在脚本的第一行，用来指定脚本的执行器。\n",
    "\n",
    "比如 Bash 脚本的第一行。"
   ]
  },
  {
   "cell_type": "code",
   "execution_count": null,
   "id": "73d5a939",
   "metadata": {},
   "outputs": [],
   "source": [
    "%%bash\n",
    "#!/bin/sh"
   ]
  },
  {
   "cell_type": "markdown",
   "id": "8d259e6b",
   "metadata": {},
   "source": [
    "Python 脚本的第一行。"
   ]
  },
  {
   "cell_type": "code",
   "execution_count": null,
   "id": "247279a0",
   "metadata": {},
   "outputs": [],
   "source": [
    "#!/usr/bin/env python"
   ]
  },
  {
   "cell_type": "markdown",
   "id": "1759a974",
   "metadata": {},
   "source": [
    "现在有一个[提案](https://github.com/tc39/proposal-hashbang)，为 JavaScript 脚本引入了`#!`命令，写在脚本文件或者模块文件的第一行。"
   ]
  },
  {
   "cell_type": "code",
   "execution_count": null,
   "id": "82998380",
   "metadata": {
    "attributes": {
     "classes": [
      "javascript"
     ],
     "id": ""
    }
   },
   "outputs": [],
   "source": [
    "// 写在脚本文件第一行\n",
    "#!/usr/bin/env node\n",
    "'use strict';\n",
    "console.log(1);\n",
    "\n",
    "// 写在模块文件第一行\n",
    "#!/usr/bin/env node\n",
    "export {};\n",
    "console.log(1);"
   ]
  },
  {
   "cell_type": "markdown",
   "id": "db748681",
   "metadata": {},
   "source": [
    "有了这一行以后，Unix 命令行就可以直接执行脚本。"
   ]
  },
  {
   "cell_type": "code",
   "execution_count": null,
   "id": "7761db7a",
   "metadata": {},
   "outputs": [],
   "source": [
    "%%bash\n",
    "# 以前执行脚本的方式\n",
    "$ node hello.js\n",
    "\n",
    "# hashbang 的方式\n",
    "$ ./hello.js"
   ]
  },
  {
   "cell_type": "markdown",
   "id": "967625e7",
   "metadata": {},
   "source": [
    "对于 JavaScript 引擎来说，会把`#!`理解成注释，忽略掉这一行。\n",
    "\n",
    "## JSON 模块\n",
    "\n",
    "import 命令目前只能用于加载 ES 模块，现在有一个[提案](https://github.com/tc39/proposal-json-modules)，允许加载 JSON 模块。\n",
    "\n",
    "假定有一个 JSON 模块文件`config.json`。"
   ]
  },
  {
   "cell_type": "code",
   "execution_count": null,
   "id": "b16fafa5",
   "metadata": {
    "attributes": {
     "classes": [
      "javascript"
     ],
     "id": ""
    }
   },
   "outputs": [],
   "source": [
    "{\n",
    "  \"appName\": \"My App\"\n",
    "}"
   ]
  },
  {
   "cell_type": "markdown",
   "id": "7f79de2d",
   "metadata": {},
   "source": [
    "目前，只能使用`fetch()`加载 JSON 模块。"
   ]
  },
  {
   "cell_type": "code",
   "execution_count": null,
   "id": "b2252b78",
   "metadata": {
    "attributes": {
     "classes": [
      "javascript"
     ],
     "id": ""
    }
   },
   "outputs": [],
   "source": [
    "const response = await fetch('./config.json');\n",
    "const json = await response.json();"
   ]
  },
  {
   "cell_type": "markdown",
   "id": "9e48d4e8",
   "metadata": {},
   "source": [
    "import 命令能够直接加载 JSON 模块以后，就可以像下面这样写。"
   ]
  },
  {
   "cell_type": "code",
   "execution_count": null,
   "id": "76de8ca3",
   "metadata": {
    "attributes": {
     "classes": [
      "javascript"
     ],
     "id": ""
    }
   },
   "outputs": [],
   "source": [
    "import configData from './config.json' assert { type: \"json\" };\n",
    "console.log(configData.appName);"
   ]
  },
  {
   "cell_type": "markdown",
   "id": "21227f55",
   "metadata": {},
   "source": [
    "上面示例中，整个 JSON 对象被导入为`configData`对象，然后就可以从该对象获取 JSON 数据。\n",
    "\n",
    "`import`命令导入 JSON 模块时，命令结尾的`assert {type: \"json\"}`不可缺少。这叫做导入断言，用来告诉 JavaScript 引擎，现在加载的是 JSON 模块。你可能会问，为什么不通过`.json`后缀名判断呢？因为浏览器的传统是不通过后缀名判断文件类型，标准委员会希望遵循这种做法，这样也可以避免一些安全问题。\n",
    "\n",
    "导入断言是 JavaScript 导入其他格式模块的标准写法，JSON 模块将是第一个使用这种语法导入的模块。以后，还会支持导入 CSS 模块、HTML 模块等等。\n",
    "\n",
    "动态加载模块的`import()`函数也支持加载 JSON 模块。"
   ]
  },
  {
   "cell_type": "code",
   "execution_count": null,
   "id": "8d88e432",
   "metadata": {
    "attributes": {
     "classes": [
      "javascript"
     ],
     "id": ""
    }
   },
   "outputs": [],
   "source": [
    "import('./config.json', { assert: { type: 'json' } })"
   ]
  },
  {
   "cell_type": "markdown",
   "id": "b5a6ba30",
   "metadata": {},
   "source": [
    "脚本加载 JSON 模块以后，还可以再用 export 命令输出。这时，可以将 export 和 import 结合成一个语句。"
   ]
  },
  {
   "cell_type": "code",
   "execution_count": null,
   "id": "111b2f73",
   "metadata": {
    "attributes": {
     "classes": [
      "javascript"
     ],
     "id": ""
    }
   },
   "outputs": [],
   "source": [
    "export { config } from './config.json' assert { type: 'json' };"
   ]
  }
 ],
 "metadata": {},
 "nbformat": 4,
 "nbformat_minor": 5
}

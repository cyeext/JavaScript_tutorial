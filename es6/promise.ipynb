{
 "cells": [
  {
   "cell_type": "markdown",
   "id": "65627c6b",
   "metadata": {},
   "source": [
    "# Promise 对象\n",
    "\n",
    "## Promise 的含义\n",
    "\n",
    "Promise 是异步编程的一种解决方案，比传统的解决方案——回调函数和事件——更合理和更强大。它由社区最早提出和实现，ES6 将其写进了语言标准，统一了用法，原生提供了`Promise`对象。\n",
    "\n",
    "所谓`Promise`，简单说就是一个容器，里面保存着某个未来才会结束的事件（通常是一个异步操作）的结果。从语法上说，Promise 是一个对象，从它可以获取异步操作的消息。Promise 提供统一的 API，各种异步操作都可以用同样的方法进行处理。\n",
    "\n",
    "`Promise`对象有以下两个特点。\n",
    "\n",
    "（1）对象的状态不受外界影响。`Promise`对象代表一个异步操作，有三种状态：`pending`（进行中）、`fulfilled`（已成功）和`rejected`（已失败）。只有异步操作的结果，可以决定当前是哪一种状态，任何其他操作都无法改变这个状态。这也是`Promise`这个名字的由来，它的英语意思就是“承诺”，表示其他手段无法改变。\n",
    "\n",
    "（2）一旦状态改变，就不会再变，任何时候都可以得到这个结果。`Promise`对象的状态改变，只有两种可能：从`pending`变为`fulfilled`和从`pending`变为`rejected`。只要这两种情况发生，状态就凝固了，不会再变了，会一直保持这个结果，这时就称为 resolved（已定型）。如果改变已经发生了，你再对`Promise`对象添加回调函数，也会立即得到这个结果。这与事件（Event）完全不同，事件的特点是，如果你错过了它，再去监听，是得不到结果的。\n",
    "\n",
    "注意，为了行文方便，本章后面的`resolved`统一只指`fulfilled`状态，不包含`rejected`状态。\n",
    "\n",
    "有了`Promise`对象，就可以将异步操作以同步操作的流程表达出来，避免了层层嵌套的回调函数。此外，`Promise`对象提供统一的接口，使得控制异步操作更加容易。\n",
    "\n",
    "`Promise`也有一些缺点。首先，无法取消`Promise`，一旦新建它就会立即执行，无法中途取消。其次，如果不设置回调函数，`Promise`内部抛出的错误，不会反应到外部。第三，当处于`pending`状态时，无法得知目前进展到哪一个阶段（刚刚开始还是即将完成）。\n",
    "\n",
    "如果某些事件不断地反复发生，一般来说，使用 [Stream](https://nodejs.org/api/stream.html) 模式是比部署`Promise`更好的选择。\n",
    "\n",
    "## 基本用法\n",
    "\n",
    "ES6 规定，`Promise`对象是一个构造函数，用来生成`Promise`实例。\n",
    "\n",
    "下面代码创造了一个`Promise`实例。"
   ]
  },
  {
   "cell_type": "code",
   "execution_count": null,
   "id": "5e8da8d7",
   "metadata": {
    "attributes": {
     "classes": [
      "javascript"
     ],
     "id": ""
    }
   },
   "outputs": [],
   "source": [
    "const promise = new Promise(function(resolve, reject) {\n",
    "  // ... some code\n",
    "\n",
    "  if (/* 异步操作成功 */){\n",
    "    resolve(value);\n",
    "  } else {\n",
    "    reject(error);\n",
    "  }\n",
    "});"
   ]
  },
  {
   "cell_type": "markdown",
   "id": "1016fd3b",
   "metadata": {},
   "source": [
    "`Promise`构造函数接受一个函数作为参数，该函数的两个参数分别是`resolve`和`reject`。它们是两个函数，由 JavaScript 引擎提供，不用自己部署。\n",
    "\n",
    "`resolve`函数的作用是，将`Promise`对象的状态从“未完成”变为“成功”（即从 pending 变为 resolved），在异步操作成功时调用，并将异步操作的结果，作为参数传递出去；`reject`函数的作用是，将`Promise`对象的状态从“未完成”变为“失败”（即从 pending 变为 rejected），在异步操作失败时调用，并将异步操作报出的错误，作为参数传递出去。\n",
    "\n",
    "`Promise`实例生成以后，可以用`then`方法分别指定`resolved`状态和`rejected`状态的回调函数。"
   ]
  },
  {
   "cell_type": "code",
   "execution_count": null,
   "id": "062850a2",
   "metadata": {
    "attributes": {
     "classes": [
      "javascript"
     ],
     "id": ""
    }
   },
   "outputs": [],
   "source": [
    "promise.then(function(value) {\n",
    "  // success\n",
    "}, function(error) {\n",
    "  // failure\n",
    "});"
   ]
  },
  {
   "cell_type": "markdown",
   "id": "4c2b36a9",
   "metadata": {},
   "source": [
    "`then`方法可以接受两个回调函数作为参数。第一个回调函数是`Promise`对象的状态变为`resolved`时调用，第二个回调函数是`Promise`对象的状态变为`rejected`时调用。这两个函数都是可选的，不一定要提供。它们都接受`Promise`对象传出的值作为参数。\n",
    "\n",
    "下面是一个`Promise`对象的简单例子。"
   ]
  },
  {
   "cell_type": "code",
   "execution_count": null,
   "id": "127f99c0",
   "metadata": {
    "attributes": {
     "classes": [
      "javascript"
     ],
     "id": ""
    }
   },
   "outputs": [],
   "source": [
    "function timeout(ms) {\n",
    "  return new Promise((resolve, reject) => {\n",
    "    setTimeout(resolve, ms, 'done');\n",
    "  });\n",
    "}\n",
    "\n",
    "timeout(100).then((value) => {\n",
    "  console.log(value);\n",
    "});"
   ]
  },
  {
   "cell_type": "markdown",
   "id": "74904167",
   "metadata": {},
   "source": [
    "上面代码中，`timeout`方法返回一个`Promise`实例，表示一段时间以后才会发生的结果。过了指定的时间（`ms`参数）以后，`Promise`实例的状态变为`resolved`，就会触发`then`方法绑定的回调函数。\n",
    "\n",
    "Promise 新建后就会立即执行。"
   ]
  },
  {
   "cell_type": "code",
   "execution_count": null,
   "id": "df7a4061",
   "metadata": {
    "attributes": {
     "classes": [
      "javascript"
     ],
     "id": ""
    }
   },
   "outputs": [],
   "source": [
    "let promise = new Promise(function(resolve, reject) {\n",
    "  console.log('Promise');\n",
    "  resolve();\n",
    "});\n",
    "\n",
    "promise.then(function() {\n",
    "  console.log('resolved.');\n",
    "});\n",
    "\n",
    "console.log('Hi!');\n",
    "\n",
    "// Promise\n",
    "// Hi!\n",
    "// resolved"
   ]
  },
  {
   "cell_type": "markdown",
   "id": "c3e10388",
   "metadata": {},
   "source": [
    "上面代码中，Promise 新建后立即执行，所以首先输出的是`Promise`。然后，`then`方法指定的回调函数，将在当前脚本所有同步任务执行完才会执行，所以`resolved`最后输出。\n",
    "\n",
    "下面是异步加载图片的例子。"
   ]
  },
  {
   "cell_type": "code",
   "execution_count": null,
   "id": "274a6332",
   "metadata": {
    "attributes": {
     "classes": [
      "javascript"
     ],
     "id": ""
    }
   },
   "outputs": [],
   "source": [
    "function loadImageAsync(url) {\n",
    "  return new Promise(function(resolve, reject) {\n",
    "    const image = new Image();\n",
    "\n",
    "    image.onload = function() {\n",
    "      resolve(image);\n",
    "    };\n",
    "\n",
    "    image.onerror = function() {\n",
    "      reject(new Error('Could not load image at ' + url));\n",
    "    };\n",
    "\n",
    "    image.src = url;\n",
    "  });\n",
    "}"
   ]
  },
  {
   "cell_type": "markdown",
   "id": "d16779a6",
   "metadata": {},
   "source": [
    "上面代码中，使用`Promise`包装了一个图片加载的异步操作。如果加载成功，就调用`resolve`方法，否则就调用`reject`方法。\n",
    "\n",
    "下面是一个用`Promise`对象实现的 Ajax 操作的例子。"
   ]
  },
  {
   "cell_type": "code",
   "execution_count": null,
   "id": "40231cc9",
   "metadata": {
    "attributes": {
     "classes": [
      "javascript"
     ],
     "id": ""
    }
   },
   "outputs": [],
   "source": [
    "const getJSON = function(url) {\n",
    "  const promise = new Promise(function(resolve, reject){\n",
    "    const handler = function() {\n",
    "      if (this.readyState !== 4) {\n",
    "        return;\n",
    "      }\n",
    "      if (this.status === 200) {\n",
    "        resolve(this.response);\n",
    "      } else {\n",
    "        reject(new Error(this.statusText));\n",
    "      }\n",
    "    };\n",
    "    const client = new XMLHttpRequest();\n",
    "    client.open(\"GET\", url);\n",
    "    client.onreadystatechange = handler;\n",
    "    client.responseType = \"json\";\n",
    "    client.setRequestHeader(\"Accept\", \"application/json\");\n",
    "    client.send();\n",
    "\n",
    "  });\n",
    "\n",
    "  return promise;\n",
    "};\n",
    "\n",
    "getJSON(\"/posts.json\").then(function(json) {\n",
    "  console.log('Contents: ' + json);\n",
    "}, function(error) {\n",
    "  console.error('出错了', error);\n",
    "});"
   ]
  },
  {
   "cell_type": "markdown",
   "id": "e7291fd9",
   "metadata": {},
   "source": [
    "上面代码中，`getJSON`是对 XMLHttpRequest 对象的封装，用于发出一个针对 JSON 数据的 HTTP 请求，并且返回一个`Promise`对象。需要注意的是，在`getJSON`内部，`resolve`函数和`reject`函数调用时，都带有参数。\n",
    "\n",
    "如果调用`resolve`函数和`reject`函数时带有参数，那么它们的参数会被传递给回调函数。`reject`函数的参数通常是`Error`对象的实例，表示抛出的错误；`resolve`函数的参数除了正常的值以外，还可能是另一个 Promise 实例，比如像下面这样。"
   ]
  },
  {
   "cell_type": "code",
   "execution_count": null,
   "id": "db8bb91f",
   "metadata": {
    "attributes": {
     "classes": [
      "javascript"
     ],
     "id": ""
    }
   },
   "outputs": [],
   "source": [
    "const p1 = new Promise(function (resolve, reject) {\n",
    "  // ...\n",
    "});\n",
    "\n",
    "const p2 = new Promise(function (resolve, reject) {\n",
    "  // ...\n",
    "  resolve(p1);\n",
    "})"
   ]
  },
  {
   "cell_type": "markdown",
   "id": "2aa79b5e",
   "metadata": {},
   "source": [
    "上面代码中，`p1`和`p2`都是 Promise 的实例，但是`p2`的`resolve`方法将`p1`作为参数，即一个异步操作的结果是返回另一个异步操作。\n",
    "\n",
    "注意，这时`p1`的状态就会传递给`p2`，也就是说，`p1`的状态决定了`p2`的状态。如果`p1`的状态是`pending`，那么`p2`的回调函数就会等待`p1`的状态改变；如果`p1`的状态已经是`resolved`或者`rejected`，那么`p2`的回调函数将会立刻执行。"
   ]
  },
  {
   "cell_type": "code",
   "execution_count": null,
   "id": "80e55f6b",
   "metadata": {
    "attributes": {
     "classes": [
      "javascript"
     ],
     "id": ""
    }
   },
   "outputs": [],
   "source": [
    "const p1 = new Promise(function (resolve, reject) {\n",
    "  setTimeout(() => reject(new Error('fail')), 3000)\n",
    "})\n",
    "\n",
    "const p2 = new Promise(function (resolve, reject) {\n",
    "  setTimeout(() => resolve(p1), 1000)\n",
    "})\n",
    "\n",
    "p2\n",
    "  .then(result => console.log(result))\n",
    "  .catch(error => console.log(error))\n",
    "// Error: fail"
   ]
  },
  {
   "cell_type": "markdown",
   "id": "ee8ea71c",
   "metadata": {},
   "source": [
    "上面代码中，`p1`是一个 Promise，3 秒之后变为`rejected`。`p2`的状态在 1 秒之后改变，`resolve`方法返回的是`p1`。由于`p2`返回的是另一个 Promise，导致`p2`自己的状态无效了，由`p1`的状态决定`p2`的状态。所以，后面的`then`语句都变成针对后者（`p1`）。又过了 2 秒，`p1`变为`rejected`，导致触发`catch`方法指定的回调函数。\n",
    "\n",
    "注意，调用`resolve`或`reject`并不会终结 Promise 的参数函数的执行。"
   ]
  },
  {
   "cell_type": "code",
   "execution_count": null,
   "id": "e36acd84",
   "metadata": {
    "attributes": {
     "classes": [
      "javascript"
     ],
     "id": ""
    }
   },
   "outputs": [],
   "source": [
    "new Promise((resolve, reject) => {\n",
    "  resolve(1);\n",
    "  console.log(2);\n",
    "}).then(r => {\n",
    "  console.log(r);\n",
    "});\n",
    "// 2\n",
    "// 1"
   ]
  },
  {
   "cell_type": "markdown",
   "id": "75c04890",
   "metadata": {},
   "source": [
    "上面代码中，调用`resolve(1)`以后，后面的`console.log(2)`还是会执行，并且会首先打印出来。这是因为立即 resolved 的 Promise 是在本轮事件循环的末尾执行，总是晚于本轮循环的同步任务。\n",
    "\n",
    "一般来说，调用`resolve`或`reject`以后，Promise 的使命就完成了，后继操作应该放到`then`方法里面，而不应该直接写在`resolve`或`reject`的后面。所以，最好在它们前面加上`return`语句，这样就不会有意外。"
   ]
  },
  {
   "cell_type": "code",
   "execution_count": null,
   "id": "f4c15b37",
   "metadata": {
    "attributes": {
     "classes": [
      "javascript"
     ],
     "id": ""
    }
   },
   "outputs": [],
   "source": [
    "new Promise((resolve, reject) => {\n",
    "  return resolve(1);\n",
    "  // 后面的语句不会执行\n",
    "  console.log(2);\n",
    "})"
   ]
  },
  {
   "cell_type": "markdown",
   "id": "529440d4",
   "metadata": {},
   "source": [
    "## Promise.prototype.then()\n",
    "\n",
    "Promise 实例具有`then`方法，也就是说，`then`方法是定义在原型对象`Promise.prototype`上的。它的作用是为 Promise 实例添加状态改变时的回调函数。前面说过，`then`方法的第一个参数是`resolved`状态的回调函数，第二个参数是`rejected`状态的回调函数，它们都是可选的。\n",
    "\n",
    "`then`方法返回的是一个新的`Promise`实例（注意，不是原来那个`Promise`实例）。因此可以采用链式写法，即`then`方法后面再调用另一个`then`方法。"
   ]
  },
  {
   "cell_type": "code",
   "execution_count": null,
   "id": "2b369099",
   "metadata": {
    "attributes": {
     "classes": [
      "javascript"
     ],
     "id": ""
    }
   },
   "outputs": [],
   "source": [
    "getJSON(\"/posts.json\").then(function(json) {\n",
    "  return json.post;\n",
    "}).then(function(post) {\n",
    "  // ...\n",
    "});"
   ]
  },
  {
   "cell_type": "markdown",
   "id": "62a07b91",
   "metadata": {},
   "source": [
    "上面的代码使用`then`方法，依次指定了两个回调函数。第一个回调函数完成以后，会将返回结果作为参数，传入第二个回调函数。\n",
    "\n",
    "采用链式的`then`，可以指定一组按照次序调用的回调函数。这时，前一个回调函数，有可能返回的还是一个`Promise`对象（即有异步操作），这时后一个回调函数，就会等待该`Promise`对象的状态发生变化，才会被调用。"
   ]
  },
  {
   "cell_type": "code",
   "execution_count": null,
   "id": "70efe6f0",
   "metadata": {
    "attributes": {
     "classes": [
      "javascript"
     ],
     "id": ""
    }
   },
   "outputs": [],
   "source": [
    "getJSON(\"/post/1.json\").then(function(post) {\n",
    "  return getJSON(post.commentURL);\n",
    "}).then(function (comments) {\n",
    "  console.log(\"resolved: \", comments);\n",
    "}, function (err){\n",
    "  console.log(\"rejected: \", err);\n",
    "});"
   ]
  },
  {
   "cell_type": "markdown",
   "id": "cc5032e8",
   "metadata": {},
   "source": [
    "上面代码中，第一个`then`方法指定的回调函数，返回的是另一个`Promise`对象。这时，第二个`then`方法指定的回调函数，就会等待这个新的`Promise`对象状态发生变化。如果变为`resolved`，就调用第一个回调函数，如果状态变为`rejected`，就调用第二个回调函数。\n",
    "\n",
    "如果采用箭头函数，上面的代码可以写得更简洁。"
   ]
  },
  {
   "cell_type": "code",
   "execution_count": null,
   "id": "f57395ea",
   "metadata": {
    "attributes": {
     "classes": [
      "javascript"
     ],
     "id": ""
    }
   },
   "outputs": [],
   "source": [
    "getJSON(\"/post/1.json\").then(\n",
    "  post => getJSON(post.commentURL)\n",
    ").then(\n",
    "  comments => console.log(\"resolved: \", comments),\n",
    "  err => console.log(\"rejected: \", err)\n",
    ");"
   ]
  },
  {
   "cell_type": "markdown",
   "id": "628dd110",
   "metadata": {},
   "source": [
    "## Promise.prototype.catch()\n",
    "\n",
    "`Promise.prototype.catch()`方法是`.then(null, rejection)`或`.then(undefined, rejection)`的别名，用于指定发生错误时的回调函数。"
   ]
  },
  {
   "cell_type": "code",
   "execution_count": null,
   "id": "e88f7b77",
   "metadata": {
    "attributes": {
     "classes": [
      "javascript"
     ],
     "id": ""
    }
   },
   "outputs": [],
   "source": [
    "getJSON('/posts.json').then(function(posts) {\n",
    "  // ...\n",
    "}).catch(function(error) {\n",
    "  // 处理 getJSON 和 前一个回调函数运行时发生的错误\n",
    "  console.log('发生错误！', error);\n",
    "});"
   ]
  },
  {
   "cell_type": "markdown",
   "id": "90bf44b4",
   "metadata": {},
   "source": [
    "上面代码中，`getJSON()`方法返回一个 Promise 对象，如果该对象状态变为`resolved`，则会调用`then()`方法指定的回调函数；如果异步操作抛出错误，状态就会变为`rejected`，就会调用`catch()`方法指定的回调函数，处理这个错误。另外，`then()`方法指定的回调函数，如果运行中抛出错误，也会被`catch()`方法捕获。"
   ]
  },
  {
   "cell_type": "code",
   "execution_count": null,
   "id": "e5255671",
   "metadata": {
    "attributes": {
     "classes": [
      "javascript"
     ],
     "id": ""
    }
   },
   "outputs": [],
   "source": [
    "p.then((val) => console.log('fulfilled:', val))\n",
    "  .catch((err) => console.log('rejected', err));\n",
    "\n",
    "// 等同于\n",
    "p.then((val) => console.log('fulfilled:', val))\n",
    "  .then(null, (err) => console.log(\"rejected:\", err));"
   ]
  },
  {
   "cell_type": "markdown",
   "id": "b6ac958c",
   "metadata": {},
   "source": [
    "下面是一个例子。"
   ]
  },
  {
   "cell_type": "code",
   "execution_count": null,
   "id": "6bc6bf18",
   "metadata": {
    "attributes": {
     "classes": [
      "javascript"
     ],
     "id": ""
    }
   },
   "outputs": [],
   "source": [
    "const promise = new Promise(function(resolve, reject) {\n",
    "  throw new Error('test');\n",
    "});\n",
    "promise.catch(function(error) {\n",
    "  console.log(error);\n",
    "});\n",
    "// Error: test"
   ]
  },
  {
   "cell_type": "markdown",
   "id": "d3b397e6",
   "metadata": {},
   "source": [
    "上面代码中，`promise`抛出一个错误，就被`catch()`方法指定的回调函数捕获。注意，上面的写法与下面两种写法是等价的。"
   ]
  },
  {
   "cell_type": "code",
   "execution_count": null,
   "id": "e6ccc911",
   "metadata": {
    "attributes": {
     "classes": [
      "javascript"
     ],
     "id": ""
    }
   },
   "outputs": [],
   "source": [
    "// 写法一\n",
    "const promise = new Promise(function(resolve, reject) {\n",
    "  try {\n",
    "    throw new Error('test');\n",
    "  } catch(e) {\n",
    "    reject(e);\n",
    "  }\n",
    "});\n",
    "promise.catch(function(error) {\n",
    "  console.log(error);\n",
    "});\n",
    "\n",
    "// 写法二\n",
    "const promise = new Promise(function(resolve, reject) {\n",
    "  reject(new Error('test'));\n",
    "});\n",
    "promise.catch(function(error) {\n",
    "  console.log(error);\n",
    "});"
   ]
  },
  {
   "cell_type": "markdown",
   "id": "3dda35ed",
   "metadata": {},
   "source": [
    "比较上面两种写法，可以发现`reject()`方法的作用，等同于抛出错误。\n",
    "\n",
    "如果 Promise 状态已经变成`resolved`，再抛出错误是无效的。"
   ]
  },
  {
   "cell_type": "code",
   "execution_count": null,
   "id": "320bd876",
   "metadata": {
    "attributes": {
     "classes": [
      "javascript"
     ],
     "id": ""
    }
   },
   "outputs": [],
   "source": [
    "const promise = new Promise(function(resolve, reject) {\n",
    "  resolve('ok');\n",
    "  throw new Error('test');\n",
    "});\n",
    "promise\n",
    "  .then(function(value) { console.log(value) })\n",
    "  .catch(function(error) { console.log(error) });\n",
    "// ok"
   ]
  },
  {
   "cell_type": "markdown",
   "id": "22738108",
   "metadata": {},
   "source": [
    "上面代码中，Promise 在`resolve`语句后面，再抛出错误，不会被捕获，等于没有抛出。因为 Promise 的状态一旦改变，就永久保持该状态，不会再变了。\n",
    "\n",
    "Promise 对象的错误具有“冒泡”性质，会一直向后传递，直到被捕获为止。也就是说，错误总是会被下一个`catch`语句捕获。"
   ]
  },
  {
   "cell_type": "code",
   "execution_count": null,
   "id": "36bbbe1f",
   "metadata": {
    "attributes": {
     "classes": [
      "javascript"
     ],
     "id": ""
    }
   },
   "outputs": [],
   "source": [
    "getJSON('/post/1.json').then(function(post) {\n",
    "  return getJSON(post.commentURL);\n",
    "}).then(function(comments) {\n",
    "  // some code\n",
    "}).catch(function(error) {\n",
    "  // 处理前面三个Promise产生的错误\n",
    "});"
   ]
  },
  {
   "cell_type": "markdown",
   "id": "c3b5d48d",
   "metadata": {},
   "source": [
    "上面代码中，一共有三个 Promise 对象：一个由`getJSON()`产生，两个由`then()`产生。它们之中任何一个抛出的错误，都会被最后一个`catch()`捕获。\n",
    "\n",
    "一般来说，不要在`then()`方法里面定义 Reject 状态的回调函数（即`then`的第二个参数），总是使用`catch`方法。"
   ]
  },
  {
   "cell_type": "code",
   "execution_count": null,
   "id": "d6350541",
   "metadata": {
    "attributes": {
     "classes": [
      "javascript"
     ],
     "id": ""
    }
   },
   "outputs": [],
   "source": [
    "// bad\n",
    "promise\n",
    "  .then(function(data) {\n",
    "    // success\n",
    "  }, function(err) {\n",
    "    // error\n",
    "  });\n",
    "\n",
    "// good\n",
    "promise\n",
    "  .then(function(data) { //cb\n",
    "    // success\n",
    "  })\n",
    "  .catch(function(err) {\n",
    "    // error\n",
    "  });"
   ]
  },
  {
   "cell_type": "markdown",
   "id": "ea3af755",
   "metadata": {},
   "source": [
    "上面代码中，第二种写法要好于第一种写法，理由是第二种写法可以捕获前面`then`方法执行中的错误，也更接近同步的写法（`try/catch`）。因此，建议总是使用`catch()`方法，而不使用`then()`方法的第二个参数。\n",
    "\n",
    "跟传统的`try/catch`代码块不同的是，如果没有使用`catch()`方法指定错误处理的回调函数，Promise 对象抛出的错误不会传递到外层代码，即不会有任何反应。"
   ]
  },
  {
   "cell_type": "code",
   "execution_count": null,
   "id": "764ae501",
   "metadata": {
    "attributes": {
     "classes": [
      "javascript"
     ],
     "id": ""
    }
   },
   "outputs": [],
   "source": [
    "const someAsyncThing = function() {\n",
    "  return new Promise(function(resolve, reject) {\n",
    "    // 下面一行会报错，因为x没有声明\n",
    "    resolve(x + 2);\n",
    "  });\n",
    "};\n",
    "\n",
    "someAsyncThing().then(function() {\n",
    "  console.log('everything is great');\n",
    "});\n",
    "\n",
    "setTimeout(() => { console.log(123) }, 2000);\n",
    "// Uncaught (in promise) ReferenceError: x is not defined\n",
    "// 123"
   ]
  },
  {
   "cell_type": "markdown",
   "id": "2bae992a",
   "metadata": {},
   "source": [
    "上面代码中，`someAsyncThing()`函数产生的 Promise 对象，内部有语法错误。浏览器运行到这一行，会打印出错误提示`ReferenceError: x is not defined`，但是不会退出进程、终止脚本执行，2 秒之后还是会输出`123`。这就是说，Promise 内部的错误不会影响到 Promise 外部的代码，通俗的说法就是“Promise 会吃掉错误”。\n",
    "\n",
    "这个脚本放在服务器执行，退出码就是`0`（即表示执行成功）。不过，Node.js 有一个`unhandledRejection`事件，专门监听未捕获的`reject`错误，上面的脚本会触发这个事件的监听函数，可以在监听函数里面抛出错误。"
   ]
  },
  {
   "cell_type": "code",
   "execution_count": null,
   "id": "a48f198f",
   "metadata": {
    "attributes": {
     "classes": [
      "javascript"
     ],
     "id": ""
    }
   },
   "outputs": [],
   "source": [
    "process.on('unhandledRejection', function (err, p) {\n",
    "  throw err;\n",
    "});"
   ]
  },
  {
   "cell_type": "markdown",
   "id": "5036f69e",
   "metadata": {},
   "source": [
    "上面代码中，`unhandledRejection`事件的监听函数有两个参数，第一个是错误对象，第二个是报错的 Promise 实例，它可以用来了解发生错误的环境信息。\n",
    "\n",
    "注意，Node 有计划在未来废除`unhandledRejection`事件。如果 Promise 内部有未捕获的错误，会直接终止进程，并且进程的退出码不为 0。\n",
    "\n",
    "再看下面的例子。"
   ]
  },
  {
   "cell_type": "code",
   "execution_count": null,
   "id": "115bf69e",
   "metadata": {
    "attributes": {
     "classes": [
      "javascript"
     ],
     "id": ""
    }
   },
   "outputs": [],
   "source": [
    "const promise = new Promise(function (resolve, reject) {\n",
    "  resolve('ok');\n",
    "  setTimeout(function () { throw new Error('test') }, 0)\n",
    "});\n",
    "promise.then(function (value) { console.log(value) });\n",
    "// ok\n",
    "// Uncaught Error: test"
   ]
  },
  {
   "cell_type": "markdown",
   "id": "895f2858",
   "metadata": {},
   "source": [
    "上面代码中，Promise 指定在下一轮“事件循环”再抛出错误。到了那个时候，Promise 的运行已经结束了，所以这个错误是在 Promise 函数体外抛出的，会冒泡到最外层，成了未捕获的错误。\n",
    "\n",
    "一般总是建议，Promise 对象后面要跟`catch()`方法，这样可以处理 Promise 内部发生的错误。`catch()`方法返回的还是一个 Promise 对象，因此后面还可以接着调用`then()`方法。"
   ]
  },
  {
   "cell_type": "code",
   "execution_count": null,
   "id": "6e2103af",
   "metadata": {
    "attributes": {
     "classes": [
      "javascript"
     ],
     "id": ""
    }
   },
   "outputs": [],
   "source": [
    "const someAsyncThing = function() {\n",
    "  return new Promise(function(resolve, reject) {\n",
    "    // 下面一行会报错，因为x没有声明\n",
    "    resolve(x + 2);\n",
    "  });\n",
    "};\n",
    "\n",
    "someAsyncThing()\n",
    ".catch(function(error) {\n",
    "  console.log('oh no', error);\n",
    "})\n",
    ".then(function() {\n",
    "  console.log('carry on');\n",
    "});\n",
    "// oh no [ReferenceError: x is not defined]\n",
    "// carry on"
   ]
  },
  {
   "cell_type": "markdown",
   "id": "d01a2924",
   "metadata": {},
   "source": [
    "上面代码运行完`catch()`方法指定的回调函数，会接着运行后面那个`then()`方法指定的回调函数。如果没有报错，则会跳过`catch()`方法。"
   ]
  },
  {
   "cell_type": "code",
   "execution_count": null,
   "id": "cc6d7979",
   "metadata": {
    "attributes": {
     "classes": [
      "javascript"
     ],
     "id": ""
    }
   },
   "outputs": [],
   "source": [
    "Promise.resolve()\n",
    ".catch(function(error) {\n",
    "  console.log('oh no', error);\n",
    "})\n",
    ".then(function() {\n",
    "  console.log('carry on');\n",
    "});\n",
    "// carry on"
   ]
  },
  {
   "cell_type": "markdown",
   "id": "9fbdc905",
   "metadata": {},
   "source": [
    "上面的代码因为没有报错，跳过了`catch()`方法，直接执行后面的`then()`方法。此时，要是`then()`方法里面报错，就与前面的`catch()`无关了。\n",
    "\n",
    "`catch()`方法之中，还能再抛出错误。"
   ]
  },
  {
   "cell_type": "code",
   "execution_count": null,
   "id": "6b636685",
   "metadata": {
    "attributes": {
     "classes": [
      "javascript"
     ],
     "id": ""
    }
   },
   "outputs": [],
   "source": [
    "const someAsyncThing = function() {\n",
    "  return new Promise(function(resolve, reject) {\n",
    "    // 下面一行会报错，因为x没有声明\n",
    "    resolve(x + 2);\n",
    "  });\n",
    "};\n",
    "\n",
    "someAsyncThing().then(function() {\n",
    "  return someOtherAsyncThing();\n",
    "}).catch(function(error) {\n",
    "  console.log('oh no', error);\n",
    "  // 下面一行会报错，因为 y 没有声明\n",
    "  y + 2;\n",
    "}).then(function() {\n",
    "  console.log('carry on');\n",
    "});\n",
    "// oh no [ReferenceError: x is not defined]"
   ]
  },
  {
   "cell_type": "markdown",
   "id": "0b269dae",
   "metadata": {},
   "source": [
    "上面代码中，`catch()`方法抛出一个错误，因为后面没有别的`catch()`方法了，导致这个错误不会被捕获，也不会传递到外层。如果改写一下，结果就不一样了。"
   ]
  },
  {
   "cell_type": "code",
   "execution_count": null,
   "id": "5325a8bb",
   "metadata": {
    "attributes": {
     "classes": [
      "javascript"
     ],
     "id": ""
    }
   },
   "outputs": [],
   "source": [
    "someAsyncThing().then(function() {\n",
    "  return someOtherAsyncThing();\n",
    "}).catch(function(error) {\n",
    "  console.log('oh no', error);\n",
    "  // 下面一行会报错，因为y没有声明\n",
    "  y + 2;\n",
    "}).catch(function(error) {\n",
    "  console.log('carry on', error);\n",
    "});\n",
    "// oh no [ReferenceError: x is not defined]\n",
    "// carry on [ReferenceError: y is not defined]"
   ]
  },
  {
   "cell_type": "markdown",
   "id": "3d76efad",
   "metadata": {},
   "source": [
    "上面代码中，第二个`catch()`方法用来捕获前一个`catch()`方法抛出的错误。\n",
    "\n",
    "## Promise.prototype.finally()\n",
    "\n",
    "`finally()`方法用于指定不管 Promise 对象最后状态如何，都会执行的操作。该方法是 ES2018 引入标准的。"
   ]
  },
  {
   "cell_type": "code",
   "execution_count": null,
   "id": "a8f1a04e",
   "metadata": {
    "attributes": {
     "classes": [
      "javascript"
     ],
     "id": ""
    }
   },
   "outputs": [],
   "source": [
    "promise\n",
    ".then(result => {···})\n",
    ".catch(error => {···})\n",
    ".finally(() => {···});"
   ]
  },
  {
   "cell_type": "markdown",
   "id": "80f3bdfa",
   "metadata": {},
   "source": [
    "上面代码中，不管`promise`最后的状态，在执行完`then`或`catch`指定的回调函数以后，都会执行`finally`方法指定的回调函数。\n",
    "\n",
    "下面是一个例子，服务器使用 Promise 处理请求，然后使用`finally`方法关掉服务器。"
   ]
  },
  {
   "cell_type": "code",
   "execution_count": null,
   "id": "868c970e",
   "metadata": {
    "attributes": {
     "classes": [
      "javascript"
     ],
     "id": ""
    }
   },
   "outputs": [],
   "source": [
    "server.listen(port)\n",
    "  .then(function () {\n",
    "    // ...\n",
    "  })\n",
    "  .finally(server.stop);"
   ]
  },
  {
   "cell_type": "markdown",
   "id": "eb6d9f8c",
   "metadata": {},
   "source": [
    "`finally`方法的回调函数不接受任何参数，这意味着没有办法知道，前面的 Promise 状态到底是`fulfilled`还是`rejected`。这表明，`finally`方法里面的操作，应该是与状态无关的，不依赖于 Promise 的执行结果。\n",
    "\n",
    "`finally`本质上是`then`方法的特例。"
   ]
  },
  {
   "cell_type": "code",
   "execution_count": null,
   "id": "8187fb97",
   "metadata": {
    "attributes": {
     "classes": [
      "javascript"
     ],
     "id": ""
    }
   },
   "outputs": [],
   "source": [
    "promise\n",
    ".finally(() => {\n",
    "  // 语句\n",
    "});\n",
    "\n",
    "// 等同于\n",
    "promise\n",
    ".then(\n",
    "  result => {\n",
    "    // 语句\n",
    "    return result;\n",
    "  },\n",
    "  error => {\n",
    "    // 语句\n",
    "    throw error;\n",
    "  }\n",
    ");"
   ]
  },
  {
   "cell_type": "markdown",
   "id": "180174b1",
   "metadata": {},
   "source": [
    "上面代码中，如果不使用`finally`方法，同样的语句需要为成功和失败两种情况各写一次。有了`finally`方法，则只需要写一次。\n",
    "\n",
    "它的实现也很简单。"
   ]
  },
  {
   "cell_type": "code",
   "execution_count": null,
   "id": "fc92f7b2",
   "metadata": {
    "attributes": {
     "classes": [
      "javascript"
     ],
     "id": ""
    }
   },
   "outputs": [],
   "source": [
    "Promise.prototype.finally = function (callback) {\n",
    "  let P = this.constructor;\n",
    "  return this.then(\n",
    "    value  => P.resolve(callback()).then(() => value),\n",
    "    reason => P.resolve(callback()).then(() => { throw reason })\n",
    "  );\n",
    "};"
   ]
  },
  {
   "cell_type": "markdown",
   "id": "ea161782",
   "metadata": {},
   "source": [
    "上面代码中，不管前面的 Promise 是`fulfilled`还是`rejected`，都会执行回调函数`callback`。\n",
    "\n",
    "从上面的实现还可以看到，`finally`方法总是会返回原来的值。"
   ]
  },
  {
   "cell_type": "code",
   "execution_count": null,
   "id": "8b1ca723",
   "metadata": {
    "attributes": {
     "classes": [
      "javascript"
     ],
     "id": ""
    }
   },
   "outputs": [],
   "source": [
    "// resolve 的值是 undefined\n",
    "Promise.resolve(2).then(() => {}, () => {})\n",
    "\n",
    "// resolve 的值是 2\n",
    "Promise.resolve(2).finally(() => {})\n",
    "\n",
    "// reject 的值是 undefined\n",
    "Promise.reject(3).then(() => {}, () => {})\n",
    "\n",
    "// reject 的值是 3\n",
    "Promise.reject(3).finally(() => {})"
   ]
  },
  {
   "cell_type": "markdown",
   "id": "2f3bef99",
   "metadata": {},
   "source": [
    "## Promise.all()\n",
    "\n",
    "`Promise.all()`方法用于将多个 Promise 实例，包装成一个新的 Promise 实例。"
   ]
  },
  {
   "cell_type": "code",
   "execution_count": null,
   "id": "7812c041",
   "metadata": {
    "attributes": {
     "classes": [
      "javascript"
     ],
     "id": ""
    }
   },
   "outputs": [],
   "source": [
    "const p = Promise.all([p1, p2, p3]);"
   ]
  },
  {
   "cell_type": "markdown",
   "id": "cb7f7d7a",
   "metadata": {},
   "source": [
    "上面代码中，`Promise.all()`方法接受一个数组作为参数，`p1`、`p2`、`p3`都是 Promise 实例，如果不是，就会先调用下面讲到的`Promise.resolve`方法，将参数转为 Promise 实例，再进一步处理。另外，`Promise.all()`方法的参数可以不是数组，但必须具有 Iterator 接口，且返回的每个成员都是 Promise 实例。\n",
    "\n",
    "`p`的状态由`p1`、`p2`、`p3`决定，分成两种情况。\n",
    "\n",
    "（1）只有`p1`、`p2`、`p3`的状态都变成`fulfilled`，`p`的状态才会变成`fulfilled`，此时`p1`、`p2`、`p3`的返回值组成一个数组，传递给`p`的回调函数。\n",
    "\n",
    "（2）只要`p1`、`p2`、`p3`之中有一个被`rejected`，`p`的状态就变成`rejected`，此时第一个被`reject`的实例的返回值，会传递给`p`的回调函数。\n",
    "\n",
    "下面是一个具体的例子。"
   ]
  },
  {
   "cell_type": "code",
   "execution_count": null,
   "id": "7c55d335",
   "metadata": {
    "attributes": {
     "classes": [
      "javascript"
     ],
     "id": ""
    }
   },
   "outputs": [],
   "source": [
    "// 生成一个Promise对象的数组\n",
    "const promises = [2, 3, 5, 7, 11, 13].map(function (id) {\n",
    "  return getJSON('/post/' + id + \".json\");\n",
    "});\n",
    "\n",
    "Promise.all(promises).then(function (posts) {\n",
    "  // ...\n",
    "}).catch(function(reason){\n",
    "  // ...\n",
    "});"
   ]
  },
  {
   "cell_type": "markdown",
   "id": "b2afc1c2",
   "metadata": {},
   "source": [
    "上面代码中，`promises`是包含 6 个 Promise 实例的数组，只有这 6 个实例的状态都变成`fulfilled`，或者其中有一个变为`rejected`，才会调用`Promise.all`方法后面的回调函数。\n",
    "\n",
    "下面是另一个例子。"
   ]
  },
  {
   "cell_type": "code",
   "execution_count": null,
   "id": "5bab1007",
   "metadata": {
    "attributes": {
     "classes": [
      "javascript"
     ],
     "id": ""
    }
   },
   "outputs": [],
   "source": [
    "const databasePromise = connectDatabase();\n",
    "\n",
    "const booksPromise = databasePromise\n",
    "  .then(findAllBooks);\n",
    "\n",
    "const userPromise = databasePromise\n",
    "  .then(getCurrentUser);\n",
    "\n",
    "Promise.all([\n",
    "  booksPromise,\n",
    "  userPromise\n",
    "])\n",
    ".then(([books, user]) => pickTopRecommendations(books, user));"
   ]
  },
  {
   "cell_type": "markdown",
   "id": "c975656c",
   "metadata": {},
   "source": [
    "上面代码中，`booksPromise`和`userPromise`是两个异步操作，只有等到它们的结果都返回了，才会触发`pickTopRecommendations`这个回调函数。\n",
    "\n",
    "注意，如果作为参数的 Promise 实例，自己定义了`catch`方法，那么它一旦被`rejected`，并不会触发`Promise.all()`的`catch`方法。"
   ]
  },
  {
   "cell_type": "code",
   "execution_count": null,
   "id": "aa070f21",
   "metadata": {
    "attributes": {
     "classes": [
      "javascript"
     ],
     "id": ""
    }
   },
   "outputs": [],
   "source": [
    "const p1 = new Promise((resolve, reject) => {\n",
    "  resolve('hello');\n",
    "})\n",
    ".then(result => result)\n",
    ".catch(e => e);\n",
    "\n",
    "const p2 = new Promise((resolve, reject) => {\n",
    "  throw new Error('报错了');\n",
    "})\n",
    ".then(result => result)\n",
    ".catch(e => e);\n",
    "\n",
    "Promise.all([p1, p2])\n",
    ".then(result => console.log(result))\n",
    ".catch(e => console.log(e));\n",
    "// [\"hello\", Error: 报错了]"
   ]
  },
  {
   "cell_type": "markdown",
   "id": "95fb3332",
   "metadata": {},
   "source": [
    "上面代码中，`p1`会`resolved`，`p2`首先会`rejected`，但是`p2`有自己的`catch`方法，该方法返回的是一个新的 Promise 实例，`p2`指向的实际上是这个实例。该实例执行完`catch`方法后，也会变成`resolved`，导致`Promise.all()`方法参数里面的两个实例都会`resolved`，因此会调用`then`方法指定的回调函数，而不会调用`catch`方法指定的回调函数。\n",
    "\n",
    "如果`p2`没有自己的`catch`方法，就会调用`Promise.all()`的`catch`方法。"
   ]
  },
  {
   "cell_type": "code",
   "execution_count": null,
   "id": "841b11ff",
   "metadata": {
    "attributes": {
     "classes": [
      "javascript"
     ],
     "id": ""
    }
   },
   "outputs": [],
   "source": [
    "const p1 = new Promise((resolve, reject) => {\n",
    "  resolve('hello');\n",
    "})\n",
    ".then(result => result);\n",
    "\n",
    "const p2 = new Promise((resolve, reject) => {\n",
    "  throw new Error('报错了');\n",
    "})\n",
    ".then(result => result);\n",
    "\n",
    "Promise.all([p1, p2])\n",
    ".then(result => console.log(result))\n",
    ".catch(e => console.log(e));\n",
    "// Error: 报错了"
   ]
  },
  {
   "cell_type": "markdown",
   "id": "2d96e6a8",
   "metadata": {},
   "source": [
    "## Promise.race()\n",
    "\n",
    "`Promise.race()`方法同样是将多个 Promise 实例，包装成一个新的 Promise 实例。"
   ]
  },
  {
   "cell_type": "code",
   "execution_count": null,
   "id": "abb7f73d",
   "metadata": {
    "attributes": {
     "classes": [
      "javascript"
     ],
     "id": ""
    }
   },
   "outputs": [],
   "source": [
    "const p = Promise.race([p1, p2, p3]);"
   ]
  },
  {
   "cell_type": "markdown",
   "id": "f89afe2d",
   "metadata": {},
   "source": [
    "上面代码中，只要`p1`、`p2`、`p3`之中有一个实例率先改变状态，`p`的状态就跟着改变。那个率先改变的 Promise 实例的返回值，就传递给`p`的回调函数。\n",
    "\n",
    "`Promise.race()`方法的参数与`Promise.all()`方法一样，如果不是 Promise 实例，就会先调用下面讲到的`Promise.resolve()`方法，将参数转为 Promise 实例，再进一步处理。\n",
    "\n",
    "下面是一个例子，如果指定时间内没有获得结果，就将 Promise 的状态变为`reject`，否则变为`resolve`。"
   ]
  },
  {
   "cell_type": "code",
   "execution_count": null,
   "id": "62d60e01",
   "metadata": {
    "attributes": {
     "classes": [
      "javascript"
     ],
     "id": ""
    }
   },
   "outputs": [],
   "source": [
    "const p = Promise.race([\n",
    "  fetch('/resource-that-may-take-a-while'),\n",
    "  new Promise(function (resolve, reject) {\n",
    "    setTimeout(() => reject(new Error('request timeout')), 5000)\n",
    "  })\n",
    "]);\n",
    "\n",
    "p\n",
    ".then(console.log)\n",
    ".catch(console.error);"
   ]
  },
  {
   "cell_type": "markdown",
   "id": "ff611b88",
   "metadata": {},
   "source": [
    "上面代码中，如果 5 秒之内`fetch`方法无法返回结果，变量`p`的状态就会变为`rejected`，从而触发`catch`方法指定的回调函数。\n",
    "\n",
    "## Promise.allSettled()\n",
    "\n",
    "有时候，我们希望等到一组异步操作都结束了，不管每一个操作是成功还是失败，再进行下一步操作。但是，现有的 Promise 方法很难实现这个要求。\n",
    "\n",
    "`Promise.all()`方法只适合所有异步操作都成功的情况，如果有一个操作失败，就无法满足要求。"
   ]
  },
  {
   "cell_type": "code",
   "execution_count": null,
   "id": "810edf0c",
   "metadata": {
    "attributes": {
     "classes": [
      "javascript"
     ],
     "id": ""
    }
   },
   "outputs": [],
   "source": [
    "const urls = [url_1, url_2, url_3];\n",
    "const requests = urls.map(x => fetch(x));\n",
    "\n",
    "try {\n",
    "  await Promise.all(requests);\n",
    "  console.log('所有请求都成功。');\n",
    "} catch {\n",
    "  console.log('至少一个请求失败，其他请求可能还没结束。');\n",
    "}"
   ]
  },
  {
   "cell_type": "markdown",
   "id": "acf3e409",
   "metadata": {},
   "source": [
    "上面示例中，`Promise.all()`可以确定所有请求都成功了，但是只要有一个请求失败，它就会报错，而不管另外的请求是否结束。\n",
    "\n",
    "为了解决这个问题，[ES2020](https://github.com/tc39/proposal-promise-allSettled) 引入了`Promise.allSettled()`方法，用来确定一组异步操作是否都结束了（不管成功或失败）。所以，它的名字叫做”Settled“，包含了”fulfilled“和”rejected“两种情况。\n",
    "\n",
    "`Promise.allSettled()`方法接受一个数组作为参数，数组的每个成员都是一个 Promise 对象，并返回一个新的 Promise 对象。只有等到参数数组的所有 Promise 对象都发生状态变更（不管是`fulfilled`还是`rejected`），返回的 Promise 对象才会发生状态变更。"
   ]
  },
  {
   "cell_type": "code",
   "execution_count": null,
   "id": "dd33d512",
   "metadata": {
    "attributes": {
     "classes": [
      "javascript"
     ],
     "id": ""
    }
   },
   "outputs": [],
   "source": [
    "const promises = [\n",
    "  fetch('/api-1'),\n",
    "  fetch('/api-2'),\n",
    "  fetch('/api-3'),\n",
    "];\n",
    "\n",
    "await Promise.allSettled(promises);\n",
    "removeLoadingIndicator();"
   ]
  },
  {
   "cell_type": "markdown",
   "id": "a6951bed",
   "metadata": {},
   "source": [
    "上面示例中，数组`promises`包含了三个请求，只有等到这三个请求都结束了（不管请求成功还是失败），`removeLoadingIndicator()`才会执行。\n",
    "\n",
    "该方法返回的新的 Promise 实例，一旦发生状态变更，状态总是`fulfilled`，不会变成`rejected`。状态变成`fulfilled`后，它的回调函数会接收到一个数组作为参数，该数组的每个成员对应前面数组的每个 Promise 对象。"
   ]
  },
  {
   "cell_type": "code",
   "execution_count": null,
   "id": "7f2942cb",
   "metadata": {
    "attributes": {
     "classes": [
      "javascript"
     ],
     "id": ""
    }
   },
   "outputs": [],
   "source": [
    "const resolved = Promise.resolve(42);\n",
    "const rejected = Promise.reject(-1);\n",
    "\n",
    "const allSettledPromise = Promise.allSettled([resolved, rejected]);\n",
    "\n",
    "allSettledPromise.then(function (results) {\n",
    "  console.log(results);\n",
    "});\n",
    "// [\n",
    "//    { status: 'fulfilled', value: 42 },\n",
    "//    { status: 'rejected', reason: -1 }\n",
    "// ]"
   ]
  },
  {
   "cell_type": "markdown",
   "id": "a15ac00d",
   "metadata": {},
   "source": [
    "上面代码中，`Promise.allSettled()`的返回值`allSettledPromise`，状态只可能变成`fulfilled`。它的回调函数接收到的参数是数组`results`。该数组的每个成员都是一个对象，对应传入`Promise.allSettled()`的数组里面的两个 Promise 对象。\n",
    "\n",
    "`results`的每个成员是一个对象，对象的格式是固定的，对应异步操作的结果。"
   ]
  },
  {
   "cell_type": "code",
   "execution_count": null,
   "id": "8a494316",
   "metadata": {
    "attributes": {
     "classes": [
      "javascript"
     ],
     "id": ""
    }
   },
   "outputs": [],
   "source": [
    "// 异步操作成功时\n",
    "{status: 'fulfilled', value: value}\n",
    "\n",
    "// 异步操作失败时\n",
    "{status: 'rejected', reason: reason}"
   ]
  },
  {
   "cell_type": "markdown",
   "id": "2ce7e3dc",
   "metadata": {},
   "source": [
    "成员对象的`status`属性的值只可能是字符串`fulfilled`或字符串`rejected`，用来区分异步操作是成功还是失败。如果是成功（`fulfilled`），对象会有`value`属性，如果是失败（`rejected`），会有`reason`属性，对应两种状态时前面异步操作的返回值。\n",
    "\n",
    "下面是返回值的用法例子。"
   ]
  },
  {
   "cell_type": "code",
   "execution_count": null,
   "id": "e0c10247",
   "metadata": {
    "attributes": {
     "classes": [
      "javascript"
     ],
     "id": ""
    }
   },
   "outputs": [],
   "source": [
    "const promises = [ fetch('index.html'), fetch('https://does-not-exist/') ];\n",
    "const results = await Promise.allSettled(promises);\n",
    "\n",
    "// 过滤出成功的请求\n",
    "const successfulPromises = results.filter(p => p.status === 'fulfilled');\n",
    "\n",
    "// 过滤出失败的请求，并输出原因\n",
    "const errors = results\n",
    "  .filter(p => p.status === 'rejected')\n",
    "  .map(p => p.reason);"
   ]
  },
  {
   "cell_type": "markdown",
   "id": "1a24652b",
   "metadata": {},
   "source": [
    "## Promise.any()\n",
    "\n",
    "ES2021 引入了[`Promise.any()`方法](https://github.com/tc39/proposal-promise-any)。该方法接受一组 Promise 实例作为参数，包装成一个新的 Promise 实例返回。"
   ]
  },
  {
   "cell_type": "code",
   "execution_count": null,
   "id": "16320ccf",
   "metadata": {
    "attributes": {
     "classes": [
      "javascript"
     ],
     "id": ""
    }
   },
   "outputs": [],
   "source": [
    "Promise.any([\n",
    "  fetch('https://v8.dev/').then(() => 'home'),\n",
    "  fetch('https://v8.dev/blog').then(() => 'blog'),\n",
    "  fetch('https://v8.dev/docs').then(() => 'docs')\n",
    "]).then((first) => {  // 只要有一个 fetch() 请求成功\n",
    "  console.log(first);\n",
    "}).catch((error) => { // 所有三个 fetch() 全部请求失败\n",
    "  console.log(error);\n",
    "});"
   ]
  },
  {
   "cell_type": "markdown",
   "id": "c185ae34",
   "metadata": {},
   "source": [
    "只要参数实例有一个变成`fulfilled`状态，包装实例就会变成`fulfilled`状态；如果所有参数实例都变成`rejected`状态，包装实例就会变成`rejected`状态。\n",
    "\n",
    "`Promise.any()`跟`Promise.race()`方法很像，只有一点不同，就是`Promise.any()`不会因为某个 Promise 变成`rejected`状态而结束，必须等到所有参数 Promise 变成`rejected`状态才会结束。\n",
    "\n",
    "下面是`Promise()`与`await`命令结合使用的例子。"
   ]
  },
  {
   "cell_type": "code",
   "execution_count": null,
   "id": "fffad46a",
   "metadata": {
    "attributes": {
     "classes": [
      "javascript"
     ],
     "id": ""
    }
   },
   "outputs": [],
   "source": [
    "const promises = [\n",
    "  fetch('/endpoint-a').then(() => 'a'),\n",
    "  fetch('/endpoint-b').then(() => 'b'),\n",
    "  fetch('/endpoint-c').then(() => 'c'),\n",
    "];\n",
    "\n",
    "try {\n",
    "  const first = await Promise.any(promises);\n",
    "  console.log(first);\n",
    "} catch (error) {\n",
    "  console.log(error);\n",
    "}"
   ]
  },
  {
   "cell_type": "markdown",
   "id": "f79fede3",
   "metadata": {},
   "source": [
    "上面代码中，`Promise.any()`方法的参数数组包含三个 Promise 操作。其中只要有一个变成`fulfilled`，`Promise.any()`返回的 Promise 对象就变成`fulfilled`。如果所有三个操作都变成`rejected`，那么`await`命令就会抛出错误。\n",
    "\n",
    "`Promise.any()`抛出的错误是一个 AggregateError 实例（详见《对象的扩展》一章），这个 AggregateError 实例对象的`errors`属性是一个数组，包含了所有成员的错误。\n",
    "\n",
    "下面是一个例子。"
   ]
  },
  {
   "cell_type": "code",
   "execution_count": null,
   "id": "671397bd",
   "metadata": {
    "attributes": {
     "classes": [
      "javascript"
     ],
     "id": ""
    }
   },
   "outputs": [],
   "source": [
    "var resolved = Promise.resolve(42);\n",
    "var rejected = Promise.reject(-1);\n",
    "var alsoRejected = Promise.reject(Infinity);\n",
    "\n",
    "Promise.any([resolved, rejected, alsoRejected]).then(function (result) {\n",
    "  console.log(result); // 42\n",
    "});\n",
    "\n",
    "Promise.any([rejected, alsoRejected]).catch(function (results) {\n",
    "  console.log(results instanceof AggregateError); // true\n",
    "  console.log(results.errors); // [-1, Infinity]\n",
    "});"
   ]
  },
  {
   "cell_type": "markdown",
   "id": "9d47b276",
   "metadata": {},
   "source": [
    "## Promise.resolve()\n",
    "\n",
    "有时需要将现有对象转为 Promise 对象，`Promise.resolve()`方法就起到这个作用。"
   ]
  },
  {
   "cell_type": "code",
   "execution_count": null,
   "id": "6b0b10a0",
   "metadata": {
    "attributes": {
     "classes": [
      "javascript"
     ],
     "id": ""
    }
   },
   "outputs": [],
   "source": [
    "const jsPromise = Promise.resolve($.ajax('/whatever.json'));"
   ]
  },
  {
   "cell_type": "markdown",
   "id": "1b1f8080",
   "metadata": {},
   "source": [
    "上面代码将 jQuery 生成的`deferred`对象，转为一个新的 Promise 对象。\n",
    "\n",
    "`Promise.resolve()`等价于下面的写法。"
   ]
  },
  {
   "cell_type": "code",
   "execution_count": null,
   "id": "ab469be3",
   "metadata": {
    "attributes": {
     "classes": [
      "javascript"
     ],
     "id": ""
    }
   },
   "outputs": [],
   "source": [
    "Promise.resolve('foo')\n",
    "// 等价于\n",
    "new Promise(resolve => resolve('foo'))"
   ]
  },
  {
   "cell_type": "markdown",
   "id": "7081fc28",
   "metadata": {},
   "source": [
    "`Promise.resolve()`方法的参数分成四种情况。\n",
    "\n",
    "**（1）参数是一个 Promise 实例**\n",
    "\n",
    "如果参数是 Promise 实例，那么`Promise.resolve`将不做任何修改、原封不动地返回这个实例。\n",
    "\n",
    "**（2）参数是一个`thenable`对象**\n",
    "\n",
    "`thenable`对象指的是具有`then`方法的对象，比如下面这个对象。"
   ]
  },
  {
   "cell_type": "code",
   "execution_count": null,
   "id": "6a50a457",
   "metadata": {
    "attributes": {
     "classes": [
      "javascript"
     ],
     "id": ""
    }
   },
   "outputs": [],
   "source": [
    "let thenable = {\n",
    "  then: function(resolve, reject) {\n",
    "    resolve(42);\n",
    "  }\n",
    "};"
   ]
  },
  {
   "cell_type": "markdown",
   "id": "11e135e8",
   "metadata": {},
   "source": [
    "`Promise.resolve()`方法会将这个对象转为 Promise 对象，然后就立即执行`thenable`对象的`then()`方法。"
   ]
  },
  {
   "cell_type": "code",
   "execution_count": null,
   "id": "14ee2c1e",
   "metadata": {
    "attributes": {
     "classes": [
      "javascript"
     ],
     "id": ""
    }
   },
   "outputs": [],
   "source": [
    "let thenable = {\n",
    "  then: function(resolve, reject) {\n",
    "    resolve(42);\n",
    "  }\n",
    "};\n",
    "\n",
    "let p1 = Promise.resolve(thenable);\n",
    "p1.then(function (value) {\n",
    "  console.log(value);  // 42\n",
    "});"
   ]
  },
  {
   "cell_type": "markdown",
   "id": "f381584c",
   "metadata": {},
   "source": [
    "上面代码中，`thenable`对象的`then()`方法执行后，对象`p1`的状态就变为`resolved`，从而立即执行最后那个`then()`方法指定的回调函数，输出42。\n",
    "\n",
    "**（3）参数不是具有`then()`方法的对象，或根本就不是对象**\n",
    "\n",
    "如果参数是一个原始值，或者是一个不具有`then()`方法的对象，则`Promise.resolve()`方法返回一个新的 Promise 对象，状态为`resolved`。"
   ]
  },
  {
   "cell_type": "code",
   "execution_count": null,
   "id": "24aee800",
   "metadata": {
    "attributes": {
     "classes": [
      "javascript"
     ],
     "id": ""
    }
   },
   "outputs": [],
   "source": [
    "const p = Promise.resolve('Hello');\n",
    "\n",
    "p.then(function (s) {\n",
    "  console.log(s)\n",
    "});\n",
    "// Hello"
   ]
  },
  {
   "cell_type": "markdown",
   "id": "c8c8e90b",
   "metadata": {},
   "source": [
    "上面代码生成一个新的 Promise 对象的实例`p`。由于字符串`Hello`不属于异步操作（判断方法是字符串对象不具有 then 方法），返回 Promise 实例的状态从一生成就是`resolved`，所以回调函数会立即执行。`Promise.resolve()`方法的参数，会同时传给回调函数。\n",
    "\n",
    "**（4）不带有任何参数**\n",
    "\n",
    "`Promise.resolve()`方法允许调用时不带参数，直接返回一个`resolved`状态的 Promise 对象。\n",
    "\n",
    "所以，如果希望得到一个 Promise 对象，比较方便的方法就是直接调用`Promise.resolve()`方法。"
   ]
  },
  {
   "cell_type": "code",
   "execution_count": null,
   "id": "47bd056e",
   "metadata": {
    "attributes": {
     "classes": [
      "javascript"
     ],
     "id": ""
    }
   },
   "outputs": [],
   "source": [
    "const p = Promise.resolve();\n",
    "\n",
    "p.then(function () {\n",
    "  // ...\n",
    "});"
   ]
  },
  {
   "cell_type": "markdown",
   "id": "5f02f3f7",
   "metadata": {},
   "source": [
    "上面代码的变量`p`就是一个 Promise 对象。\n",
    "\n",
    "需要注意的是，立即`resolve()`的 Promise 对象，是在本轮“事件循环”（event loop）的结束时执行，而不是在下一轮“事件循环”的开始时。"
   ]
  },
  {
   "cell_type": "code",
   "execution_count": null,
   "id": "ac140bd5",
   "metadata": {
    "attributes": {
     "classes": [
      "javascript"
     ],
     "id": ""
    }
   },
   "outputs": [],
   "source": [
    "setTimeout(function () {\n",
    "  console.log('three');\n",
    "}, 0);\n",
    "\n",
    "Promise.resolve().then(function () {\n",
    "  console.log('two');\n",
    "});\n",
    "\n",
    "console.log('one');\n",
    "\n",
    "// one\n",
    "// two\n",
    "// three"
   ]
  },
  {
   "cell_type": "markdown",
   "id": "f440e26b",
   "metadata": {},
   "source": [
    "上面代码中，`setTimeout(fn, 0)`在下一轮“事件循环”开始时执行，`Promise.resolve()`在本轮“事件循环”结束时执行，`console.log('one')`则是立即执行，因此最先输出。\n",
    "\n",
    "## Promise.reject()\n",
    "\n",
    "`Promise.reject(reason)`方法也会返回一个新的 Promise 实例，该实例的状态为`rejected`。"
   ]
  },
  {
   "cell_type": "code",
   "execution_count": null,
   "id": "2f918fe4",
   "metadata": {
    "attributes": {
     "classes": [
      "javascript"
     ],
     "id": ""
    }
   },
   "outputs": [],
   "source": [
    "const p = Promise.reject('出错了');\n",
    "// 等同于\n",
    "const p = new Promise((resolve, reject) => reject('出错了'))\n",
    "\n",
    "p.then(null, function (s) {\n",
    "  console.log(s)\n",
    "});\n",
    "// 出错了"
   ]
  },
  {
   "cell_type": "markdown",
   "id": "6f8f9bac",
   "metadata": {},
   "source": [
    "上面代码生成一个 Promise 对象的实例`p`，状态为`rejected`，回调函数会立即执行。\n",
    "\n",
    "`Promise.reject()`方法的参数，会原封不动地作为`reject`的理由，变成后续方法的参数。"
   ]
  },
  {
   "cell_type": "code",
   "execution_count": null,
   "id": "c50f8375",
   "metadata": {
    "attributes": {
     "classes": [
      "javascript"
     ],
     "id": ""
    }
   },
   "outputs": [],
   "source": [
    "Promise.reject('出错了')\n",
    ".catch(e => {\n",
    "  console.log(e === '出错了')\n",
    "})\n",
    "// true"
   ]
  },
  {
   "cell_type": "markdown",
   "id": "71425fbe",
   "metadata": {},
   "source": [
    "上面代码中，`Promise.reject()`方法的参数是一个字符串，后面`catch()`方法的参数`e`就是这个字符串。\n",
    "\n",
    "## 应用\n",
    "\n",
    "### 加载图片\n",
    "\n",
    "我们可以将图片的加载写成一个`Promise`，一旦加载完成，`Promise`的状态就发生变化。"
   ]
  },
  {
   "cell_type": "code",
   "execution_count": null,
   "id": "d20e8495",
   "metadata": {
    "attributes": {
     "classes": [
      "javascript"
     ],
     "id": ""
    }
   },
   "outputs": [],
   "source": [
    "const preloadImage = function (path) {\n",
    "  return new Promise(function (resolve, reject) {\n",
    "    const image = new Image();\n",
    "    image.onload  = resolve;\n",
    "    image.onerror = reject;\n",
    "    image.src = path;\n",
    "  });\n",
    "};"
   ]
  },
  {
   "cell_type": "markdown",
   "id": "428f9118",
   "metadata": {},
   "source": [
    "### Generator 函数与 Promise 的结合\n",
    "\n",
    "使用 Generator 函数管理流程，遇到异步操作的时候，通常返回一个`Promise`对象。"
   ]
  },
  {
   "cell_type": "code",
   "execution_count": null,
   "id": "a1fb0fee",
   "metadata": {
    "attributes": {
     "classes": [
      "javascript"
     ],
     "id": ""
    }
   },
   "outputs": [],
   "source": [
    "function getFoo () {\n",
    "  return new Promise(function (resolve, reject){\n",
    "    resolve('foo');\n",
    "  });\n",
    "}\n",
    "\n",
    "const g = function* () {\n",
    "  try {\n",
    "    const foo = yield getFoo();\n",
    "    console.log(foo);\n",
    "  } catch (e) {\n",
    "    console.log(e);\n",
    "  }\n",
    "};\n",
    "\n",
    "function run (generator) {\n",
    "  const it = generator();\n",
    "\n",
    "  function go(result) {\n",
    "    if (result.done) return result.value;\n",
    "\n",
    "    return result.value.then(function (value) {\n",
    "      return go(it.next(value));\n",
    "    }, function (error) {\n",
    "      return go(it.throw(error));\n",
    "    });\n",
    "  }\n",
    "\n",
    "  go(it.next());\n",
    "}\n",
    "\n",
    "run(g);"
   ]
  },
  {
   "cell_type": "markdown",
   "id": "e6f27125",
   "metadata": {},
   "source": [
    "上面代码的 Generator 函数`g`之中，有一个异步操作`getFoo`，它返回的就是一个`Promise`对象。函数`run`用来处理这个`Promise`对象，并调用下一个`next`方法。\n",
    "\n",
    "## Promise.try()\n",
    "\n",
    "实际开发中，经常遇到一种情况：不知道或者不想区分，函数`f`是同步函数还是异步操作，但是想用 Promise 来处理它。因为这样就可以不管`f`是否包含异步操作，都用`then`方法指定下一步流程，用`catch`方法处理`f`抛出的错误。一般就会采用下面的写法。"
   ]
  },
  {
   "cell_type": "code",
   "execution_count": null,
   "id": "f8d30ade",
   "metadata": {
    "attributes": {
     "classes": [
      "javascript"
     ],
     "id": ""
    }
   },
   "outputs": [],
   "source": [
    "Promise.resolve().then(f)"
   ]
  },
  {
   "cell_type": "markdown",
   "id": "9dcf7a36",
   "metadata": {},
   "source": [
    "上面的写法有一个缺点，就是如果`f`是同步函数，那么它会在本轮事件循环的末尾执行。"
   ]
  },
  {
   "cell_type": "code",
   "execution_count": null,
   "id": "ec96376a",
   "metadata": {
    "attributes": {
     "classes": [
      "javascript"
     ],
     "id": ""
    }
   },
   "outputs": [],
   "source": [
    "const f = () => console.log('now');\n",
    "Promise.resolve().then(f);\n",
    "console.log('next');\n",
    "// next\n",
    "// now"
   ]
  },
  {
   "cell_type": "markdown",
   "id": "0a696983",
   "metadata": {},
   "source": [
    "上面代码中，函数`f`是同步的，但是用 Promise 包装了以后，就变成异步执行了。\n",
    "\n",
    "那么有没有一种方法，让同步函数同步执行，异步函数异步执行，并且让它们具有统一的 API 呢？回答是可以的，并且还有两种写法。第一种写法是用`async`函数来写。"
   ]
  },
  {
   "cell_type": "code",
   "execution_count": null,
   "id": "30d25804",
   "metadata": {
    "attributes": {
     "classes": [
      "javascript"
     ],
     "id": ""
    }
   },
   "outputs": [],
   "source": [
    "const f = () => console.log('now');\n",
    "(async () => f())();\n",
    "console.log('next');\n",
    "// now\n",
    "// next"
   ]
  },
  {
   "cell_type": "markdown",
   "id": "f5f1bc42",
   "metadata": {},
   "source": [
    "上面代码中，第二行是一个立即执行的匿名函数，会立即执行里面的`async`函数，因此如果`f`是同步的，就会得到同步的结果；如果`f`是异步的，就可以用`then`指定下一步，就像下面的写法。"
   ]
  },
  {
   "cell_type": "code",
   "execution_count": null,
   "id": "71abc307",
   "metadata": {
    "attributes": {
     "classes": [
      "javascript"
     ],
     "id": ""
    }
   },
   "outputs": [],
   "source": [
    "(async () => f())()\n",
    ".then(...)"
   ]
  },
  {
   "cell_type": "markdown",
   "id": "7e6347e9",
   "metadata": {},
   "source": [
    "需要注意的是，`async () => f()`会吃掉`f()`抛出的错误。所以，如果想捕获错误，要使用`promise.catch`方法。"
   ]
  },
  {
   "cell_type": "code",
   "execution_count": null,
   "id": "b657fa02",
   "metadata": {
    "attributes": {
     "classes": [
      "javascript"
     ],
     "id": ""
    }
   },
   "outputs": [],
   "source": [
    "(async () => f())()\n",
    ".then(...)\n",
    ".catch(...)"
   ]
  },
  {
   "cell_type": "markdown",
   "id": "783c7684",
   "metadata": {},
   "source": [
    "第二种写法是使用`new Promise()`。"
   ]
  },
  {
   "cell_type": "code",
   "execution_count": null,
   "id": "78221c58",
   "metadata": {
    "attributes": {
     "classes": [
      "javascript"
     ],
     "id": ""
    }
   },
   "outputs": [],
   "source": [
    "const f = () => console.log('now');\n",
    "(\n",
    "  () => new Promise(\n",
    "    resolve => resolve(f())\n",
    "  )\n",
    ")();\n",
    "console.log('next');\n",
    "// now\n",
    "// next"
   ]
  },
  {
   "cell_type": "markdown",
   "id": "79aa707e",
   "metadata": {},
   "source": [
    "上面代码也是使用立即执行的匿名函数，执行`new Promise()`。这种情况下，同步函数也是同步执行的。\n",
    "\n",
    "鉴于这是一个很常见的需求，所以现在有一个[提案](https://github.com/ljharb/proposal-promise-try)，提供`Promise.try`方法替代上面的写法。"
   ]
  },
  {
   "cell_type": "code",
   "execution_count": null,
   "id": "7e5275c9",
   "metadata": {
    "attributes": {
     "classes": [
      "javascript"
     ],
     "id": ""
    }
   },
   "outputs": [],
   "source": [
    "const f = () => console.log('now');\n",
    "Promise.try(f);\n",
    "console.log('next');\n",
    "// now\n",
    "// next"
   ]
  },
  {
   "cell_type": "markdown",
   "id": "9116ed3e",
   "metadata": {},
   "source": [
    "事实上，`Promise.try`存在已久，Promise 库[`Bluebird`](http://bluebirdjs.com/docs/api/promise.try.html)、[`Q`](https://github.com/kriskowal/q/wiki/API-Reference#promisefcallargs)和[`when`](https://github.com/cujojs/when/blob/master/docs/api.md#whentry)，早就提供了这个方法。\n",
    "\n",
    "由于`Promise.try`为所有操作提供了统一的处理机制，所以如果想用`then`方法管理流程，最好都用`Promise.try`包装一下。这样有[许多好处](http://cryto.net/~joepie91/blog/2016/05/11/what-is-promise-try-and-why-does-it-matter/)，其中一点就是可以更好地管理异常。"
   ]
  },
  {
   "cell_type": "code",
   "execution_count": null,
   "id": "0c35a168",
   "metadata": {
    "attributes": {
     "classes": [
      "javascript"
     ],
     "id": ""
    }
   },
   "outputs": [],
   "source": [
    "function getUsername(userId) {\n",
    "  return database.users.get({id: userId})\n",
    "  .then(function(user) {\n",
    "    return user.name;\n",
    "  });\n",
    "}"
   ]
  },
  {
   "cell_type": "markdown",
   "id": "27eda778",
   "metadata": {},
   "source": [
    "上面代码中，`database.users.get()`返回一个 Promise 对象，如果抛出异步错误，可以用`catch`方法捕获，就像下面这样写。"
   ]
  },
  {
   "cell_type": "code",
   "execution_count": null,
   "id": "c0f478ed",
   "metadata": {
    "attributes": {
     "classes": [
      "javascript"
     ],
     "id": ""
    }
   },
   "outputs": [],
   "source": [
    "database.users.get({id: userId})\n",
    ".then(...)\n",
    ".catch(...)"
   ]
  },
  {
   "cell_type": "markdown",
   "id": "f6d6910a",
   "metadata": {},
   "source": [
    "但是`database.users.get()`可能还会抛出同步错误（比如数据库连接错误，具体要看实现方法），这时你就不得不用`try...catch`去捕获。"
   ]
  },
  {
   "cell_type": "code",
   "execution_count": null,
   "id": "4f26c947",
   "metadata": {
    "attributes": {
     "classes": [
      "javascript"
     ],
     "id": ""
    }
   },
   "outputs": [],
   "source": [
    "try {\n",
    "  database.users.get({id: userId})\n",
    "  .then(...)\n",
    "  .catch(...)\n",
    "} catch (e) {\n",
    "  // ...\n",
    "}"
   ]
  },
  {
   "cell_type": "markdown",
   "id": "3597afef",
   "metadata": {},
   "source": [
    "上面这样的写法就很笨拙了，这时就可以统一用`promise.catch()`捕获所有同步和异步的错误。"
   ]
  },
  {
   "cell_type": "code",
   "execution_count": null,
   "id": "3a13bc82",
   "metadata": {
    "attributes": {
     "classes": [
      "javascript"
     ],
     "id": ""
    }
   },
   "outputs": [],
   "source": [
    "Promise.try(() => database.users.get({id: userId}))\n",
    "  .then(...)\n",
    "  .catch(...)"
   ]
  },
  {
   "cell_type": "markdown",
   "id": "f9d3e34b",
   "metadata": {},
   "source": [
    "事实上，`Promise.try`就是模拟`try`代码块，就像`promise.catch`模拟的是`catch`代码块。"
   ]
  }
 ],
 "metadata": {},
 "nbformat": 4,
 "nbformat_minor": 5
}

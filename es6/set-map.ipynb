{
 "cells": [
  {
   "cell_type": "markdown",
   "id": "b85c4d0f",
   "metadata": {},
   "source": [
    "# Set 和 Map 数据结构\n",
    "\n",
    "## Set\n",
    "\n",
    "### 基本用法\n",
    "\n",
    "ES6 提供了新的数据结构 Set。它类似于数组，但是成员的值都是唯一的，没有重复的值。\n",
    "\n",
    "`Set`本身是一个构造函数，用来生成 Set 数据结构。"
   ]
  },
  {
   "cell_type": "code",
   "execution_count": null,
   "id": "a31c5263",
   "metadata": {
    "attributes": {
     "classes": [
      "javascript"
     ],
     "id": ""
    }
   },
   "outputs": [],
   "source": [
    "const s = new Set();\n",
    "\n",
    "[2, 3, 5, 4, 5, 2, 2].forEach(x => s.add(x));\n",
    "\n",
    "for (let i of s) {\n",
    "  console.log(i);\n",
    "}\n",
    "// 2 3 5 4"
   ]
  },
  {
   "cell_type": "markdown",
   "id": "adffa5d1",
   "metadata": {},
   "source": [
    "上面代码通过`add()`方法向 Set 结构加入成员，结果表明 Set 结构不会添加重复的值。\n",
    "\n",
    "`Set`函数可以接受一个数组（或者具有 iterable 接口的其他数据结构）作为参数，用来初始化。"
   ]
  },
  {
   "cell_type": "code",
   "execution_count": null,
   "id": "a7a9f714",
   "metadata": {
    "attributes": {
     "classes": [
      "javascript"
     ],
     "id": ""
    }
   },
   "outputs": [],
   "source": [
    "// 例一\n",
    "const set = new Set([1, 2, 3, 4, 4]);\n",
    "[...set]\n",
    "// [1, 2, 3, 4]\n",
    "\n",
    "// 例二\n",
    "const items = new Set([1, 2, 3, 4, 5, 5, 5, 5]);\n",
    "items.size // 5\n",
    "\n",
    "// 例三\n",
    "const set = new Set(document.querySelectorAll('div'));\n",
    "set.size // 56\n",
    "\n",
    "// 类似于\n",
    "const set = new Set();\n",
    "document\n",
    " .querySelectorAll('div')\n",
    " .forEach(div => set.add(div));\n",
    "set.size // 56"
   ]
  },
  {
   "cell_type": "markdown",
   "id": "e5eaa038",
   "metadata": {},
   "source": [
    "上面代码中，例一和例二都是`Set`函数接受数组作为参数，例三是接受类似数组的对象作为参数。\n",
    "\n",
    "上面代码也展示了一种去除数组重复成员的方法。"
   ]
  },
  {
   "cell_type": "code",
   "execution_count": null,
   "id": "9d92f8f3",
   "metadata": {
    "attributes": {
     "classes": [
      "javascript"
     ],
     "id": ""
    }
   },
   "outputs": [],
   "source": [
    "// 去除数组的重复成员\n",
    "[...new Set(array)]"
   ]
  },
  {
   "cell_type": "markdown",
   "id": "0464c992",
   "metadata": {},
   "source": [
    "上面的方法也可以用于，去除字符串里面的重复字符。"
   ]
  },
  {
   "cell_type": "code",
   "execution_count": null,
   "id": "abcdd0f4",
   "metadata": {
    "attributes": {
     "classes": [
      "javascript"
     ],
     "id": ""
    }
   },
   "outputs": [],
   "source": [
    "[...new Set('ababbc')].join('')\n",
    "// \"abc\""
   ]
  },
  {
   "cell_type": "markdown",
   "id": "14f36783",
   "metadata": {},
   "source": [
    "向 Set 加入值的时候，不会发生类型转换，所以`5`和`\"5\"`是两个不同的值。Set 内部判断两个值是否不同，使用的算法叫做“Same-value-zero equality”，它类似于精确相等运算符（`===`），主要的区别是向 Set 加入值时认为`NaN`等于自身，而精确相等运算符认为`NaN`不等于自身。"
   ]
  },
  {
   "cell_type": "code",
   "execution_count": null,
   "id": "2d8e22ff",
   "metadata": {
    "attributes": {
     "classes": [
      "javascript"
     ],
     "id": ""
    }
   },
   "outputs": [],
   "source": [
    "let set = new Set();\n",
    "let a = NaN;\n",
    "let b = NaN;\n",
    "set.add(a);\n",
    "set.add(b);\n",
    "set // Set {NaN}"
   ]
  },
  {
   "cell_type": "markdown",
   "id": "c0907ca7",
   "metadata": {},
   "source": [
    "上面代码向 Set 实例添加了两次`NaN`，但是只会加入一个。这表明，在 Set 内部，两个`NaN`是相等的。\n",
    "\n",
    "另外，两个对象总是不相等的。"
   ]
  },
  {
   "cell_type": "code",
   "execution_count": null,
   "id": "41e24938",
   "metadata": {
    "attributes": {
     "classes": [
      "javascript"
     ],
     "id": ""
    }
   },
   "outputs": [],
   "source": [
    "let set = new Set();\n",
    "\n",
    "set.add({});\n",
    "set.size // 1\n",
    "\n",
    "set.add({});\n",
    "set.size // 2"
   ]
  },
  {
   "cell_type": "markdown",
   "id": "58a33a38",
   "metadata": {},
   "source": [
    "上面代码表示，由于两个空对象不相等，所以它们被视为两个值。\n",
    "\n",
    "### Set 实例的属性和方法\n",
    "\n",
    "Set 结构的实例有以下属性。\n",
    "\n",
    "- `Set.prototype.constructor`：构造函数，默认就是`Set`函数。\n",
    "- `Set.prototype.size`：返回`Set`实例的成员总数。\n",
    "\n",
    "Set 实例的方法分为两大类：操作方法（用于操作数据）和遍历方法（用于遍历成员）。下面先介绍四个操作方法。\n",
    "\n",
    "- `Set.prototype.add(value)`：添加某个值，返回 Set 结构本身。\n",
    "- `Set.prototype.delete(value)`：删除某个值，返回一个布尔值，表示删除是否成功。\n",
    "- `Set.prototype.has(value)`：返回一个布尔值，表示该值是否为`Set`的成员。\n",
    "- `Set.prototype.clear()`：清除所有成员，没有返回值。\n",
    "\n",
    "上面这些属性和方法的实例如下。"
   ]
  },
  {
   "cell_type": "code",
   "execution_count": null,
   "id": "fad0ac2b",
   "metadata": {
    "attributes": {
     "classes": [
      "javascript"
     ],
     "id": ""
    }
   },
   "outputs": [],
   "source": [
    "s.add(1).add(2).add(2);\n",
    "// 注意2被加入了两次\n",
    "\n",
    "s.size // 2\n",
    "\n",
    "s.has(1) // true\n",
    "s.has(2) // true\n",
    "s.has(3) // false\n",
    "\n",
    "s.delete(2);\n",
    "s.has(2) // false"
   ]
  },
  {
   "cell_type": "markdown",
   "id": "a8cfb66f",
   "metadata": {},
   "source": [
    "下面是一个对比，看看在判断是否包括一个键上面，`Object`结构和`Set`结构的写法不同。"
   ]
  },
  {
   "cell_type": "code",
   "execution_count": null,
   "id": "9e8d4456",
   "metadata": {
    "attributes": {
     "classes": [
      "javascript"
     ],
     "id": ""
    }
   },
   "outputs": [],
   "source": [
    "// 对象的写法\n",
    "const properties = {\n",
    "  'width': 1,\n",
    "  'height': 1\n",
    "};\n",
    "\n",
    "if (properties[someName]) {\n",
    "  // do something\n",
    "}\n",
    "\n",
    "// Set的写法\n",
    "const properties = new Set();\n",
    "\n",
    "properties.add('width');\n",
    "properties.add('height');\n",
    "\n",
    "if (properties.has(someName)) {\n",
    "  // do something\n",
    "}"
   ]
  },
  {
   "cell_type": "markdown",
   "id": "db2db96a",
   "metadata": {},
   "source": [
    "`Array.from`方法可以将 Set 结构转为数组。"
   ]
  },
  {
   "cell_type": "code",
   "execution_count": null,
   "id": "751921bd",
   "metadata": {
    "attributes": {
     "classes": [
      "javascript"
     ],
     "id": ""
    }
   },
   "outputs": [],
   "source": [
    "const items = new Set([1, 2, 3, 4, 5]);\n",
    "const array = Array.from(items);"
   ]
  },
  {
   "cell_type": "markdown",
   "id": "51bdce0c",
   "metadata": {},
   "source": [
    "这就提供了去除数组重复成员的另一种方法。"
   ]
  },
  {
   "cell_type": "code",
   "execution_count": null,
   "id": "88684c38",
   "metadata": {
    "attributes": {
     "classes": [
      "javascript"
     ],
     "id": ""
    }
   },
   "outputs": [],
   "source": [
    "function dedupe(array) {\n",
    "  return Array.from(new Set(array));\n",
    "}\n",
    "\n",
    "dedupe([1, 1, 2, 3]) // [1, 2, 3]"
   ]
  },
  {
   "cell_type": "markdown",
   "id": "75c90334",
   "metadata": {},
   "source": [
    "### 遍历操作\n",
    "\n",
    "Set 结构的实例有四个遍历方法，可以用于遍历成员。\n",
    "\n",
    "- `Set.prototype.keys()`：返回键名的遍历器\n",
    "- `Set.prototype.values()`：返回键值的遍历器\n",
    "- `Set.prototype.entries()`：返回键值对的遍历器\n",
    "- `Set.prototype.forEach()`：使用回调函数遍历每个成员\n",
    "\n",
    "需要特别指出的是，`Set`的遍历顺序就是插入顺序。这个特性有时非常有用，比如使用 Set 保存一个回调函数列表，调用时就能保证按照添加顺序调用。\n",
    "\n",
    "**（1）`keys()`，`values()`，`entries()`**\n",
    "\n",
    "`keys`方法、`values`方法、`entries`方法返回的都是遍历器对象（详见《Iterator 对象》一章）。由于 Set 结构没有键名，只有键值（或者说键名和键值是同一个值），所以`keys`方法和`values`方法的行为完全一致。"
   ]
  },
  {
   "cell_type": "code",
   "execution_count": null,
   "id": "2437fce0",
   "metadata": {
    "attributes": {
     "classes": [
      "javascript"
     ],
     "id": ""
    }
   },
   "outputs": [],
   "source": [
    "let set = new Set(['red', 'green', 'blue']);\n",
    "\n",
    "for (let item of set.keys()) {\n",
    "  console.log(item);\n",
    "}\n",
    "// red\n",
    "// green\n",
    "// blue\n",
    "\n",
    "for (let item of set.values()) {\n",
    "  console.log(item);\n",
    "}\n",
    "// red\n",
    "// green\n",
    "// blue\n",
    "\n",
    "for (let item of set.entries()) {\n",
    "  console.log(item);\n",
    "}\n",
    "// [\"red\", \"red\"]\n",
    "// [\"green\", \"green\"]\n",
    "// [\"blue\", \"blue\"]"
   ]
  },
  {
   "cell_type": "markdown",
   "id": "73deb060",
   "metadata": {},
   "source": [
    "上面代码中，`entries`方法返回的遍历器，同时包括键名和键值，所以每次输出一个数组，它的两个成员完全相等。\n",
    "\n",
    "Set 结构的实例默认可遍历，它的默认遍历器生成函数就是它的`values`方法。"
   ]
  },
  {
   "cell_type": "code",
   "execution_count": null,
   "id": "830601eb",
   "metadata": {
    "attributes": {
     "classes": [
      "javascript"
     ],
     "id": ""
    }
   },
   "outputs": [],
   "source": [
    "Set.prototype[Symbol.iterator] === Set.prototype.values\n",
    "// true"
   ]
  },
  {
   "cell_type": "markdown",
   "id": "4854cc8b",
   "metadata": {},
   "source": [
    "这意味着，可以省略`values`方法，直接用`for...of`循环遍历 Set。"
   ]
  },
  {
   "cell_type": "code",
   "execution_count": null,
   "id": "142921d7",
   "metadata": {
    "attributes": {
     "classes": [
      "javascript"
     ],
     "id": ""
    }
   },
   "outputs": [],
   "source": [
    "let set = new Set(['red', 'green', 'blue']);\n",
    "\n",
    "for (let x of set) {\n",
    "  console.log(x);\n",
    "}\n",
    "// red\n",
    "// green\n",
    "// blue"
   ]
  },
  {
   "cell_type": "markdown",
   "id": "36d800b7",
   "metadata": {},
   "source": [
    "**（2）`forEach()`**\n",
    "\n",
    "Set 结构的实例与数组一样，也拥有`forEach`方法，用于对每个成员执行某种操作，没有返回值。"
   ]
  },
  {
   "cell_type": "code",
   "execution_count": null,
   "id": "8f0ffcb9",
   "metadata": {
    "attributes": {
     "classes": [
      "javascript"
     ],
     "id": ""
    }
   },
   "outputs": [],
   "source": [
    "let set = new Set([1, 4, 9]);\n",
    "set.forEach((value, key) => console.log(key + ' : ' + value))\n",
    "// 1 : 1\n",
    "// 4 : 4\n",
    "// 9 : 9"
   ]
  },
  {
   "cell_type": "markdown",
   "id": "eb09f509",
   "metadata": {},
   "source": [
    "上面代码说明，`forEach`方法的参数就是一个处理函数。该函数的参数与数组的`forEach`一致，依次为键值、键名、集合本身（上例省略了该参数）。这里需要注意，Set 结构的键名就是键值（两者是同一个值），因此第一个参数与第二个参数的值永远都是一样的。\n",
    "\n",
    "另外，`forEach`方法还可以有第二个参数，表示绑定处理函数内部的`this`对象。\n",
    "\n",
    "**（3）遍历的应用**\n",
    "\n",
    "扩展运算符（`...`）内部使用`for...of`循环，所以也可以用于 Set 结构。"
   ]
  },
  {
   "cell_type": "code",
   "execution_count": null,
   "id": "0d71afcf",
   "metadata": {
    "attributes": {
     "classes": [
      "javascript"
     ],
     "id": ""
    }
   },
   "outputs": [],
   "source": [
    "let set = new Set(['red', 'green', 'blue']);\n",
    "let arr = [...set];\n",
    "// ['red', 'green', 'blue']"
   ]
  },
  {
   "cell_type": "markdown",
   "id": "e7366ae0",
   "metadata": {},
   "source": [
    "扩展运算符和 Set 结构相结合，就可以去除数组的重复成员。"
   ]
  },
  {
   "cell_type": "code",
   "execution_count": null,
   "id": "81fa2475",
   "metadata": {
    "attributes": {
     "classes": [
      "javascript"
     ],
     "id": ""
    }
   },
   "outputs": [],
   "source": [
    "let arr = [3, 5, 2, 2, 5, 5];\n",
    "let unique = [...new Set(arr)];\n",
    "// [3, 5, 2]"
   ]
  },
  {
   "cell_type": "markdown",
   "id": "d18db4c9",
   "metadata": {},
   "source": [
    "而且，数组的`map`和`filter`方法也可以间接用于 Set 了。"
   ]
  },
  {
   "cell_type": "code",
   "execution_count": null,
   "id": "e271d301",
   "metadata": {
    "attributes": {
     "classes": [
      "javascript"
     ],
     "id": ""
    }
   },
   "outputs": [],
   "source": [
    "let set = new Set([1, 2, 3]);\n",
    "set = new Set([...set].map(x => x * 2));\n",
    "// 返回Set结构：{2, 4, 6}\n",
    "\n",
    "let set = new Set([1, 2, 3, 4, 5]);\n",
    "set = new Set([...set].filter(x => (x % 2) == 0));\n",
    "// 返回Set结构：{2, 4}"
   ]
  },
  {
   "cell_type": "markdown",
   "id": "12a1e298",
   "metadata": {},
   "source": [
    "因此使用 Set 可以很容易地实现并集（Union）、交集（Intersect）和差集（Difference）。"
   ]
  },
  {
   "cell_type": "code",
   "execution_count": null,
   "id": "3e4e2462",
   "metadata": {
    "attributes": {
     "classes": [
      "javascript"
     ],
     "id": ""
    }
   },
   "outputs": [],
   "source": [
    "let a = new Set([1, 2, 3]);\n",
    "let b = new Set([4, 3, 2]);\n",
    "\n",
    "// 并集\n",
    "let union = new Set([...a, ...b]);\n",
    "// Set {1, 2, 3, 4}\n",
    "\n",
    "// 交集\n",
    "let intersect = new Set([...a].filter(x => b.has(x)));\n",
    "// set {2, 3}\n",
    "\n",
    "// （a 相对于 b 的）差集\n",
    "let difference = new Set([...a].filter(x => !b.has(x)));\n",
    "// Set {1}"
   ]
  },
  {
   "cell_type": "markdown",
   "id": "36de7887",
   "metadata": {},
   "source": [
    "如果想在遍历操作中，同步改变原来的 Set 结构，目前没有直接的方法，但有两种变通方法。一种是利用原 Set 结构映射出一个新的结构，然后赋值给原来的 Set 结构；另一种是利用`Array.from`方法。"
   ]
  },
  {
   "cell_type": "code",
   "execution_count": null,
   "id": "d9f5ab1e",
   "metadata": {
    "attributes": {
     "classes": [
      "javascript"
     ],
     "id": ""
    }
   },
   "outputs": [],
   "source": [
    "// 方法一\n",
    "let set = new Set([1, 2, 3]);\n",
    "set = new Set([...set].map(val => val * 2));\n",
    "// set的值是2, 4, 6\n",
    "\n",
    "// 方法二\n",
    "let set = new Set([1, 2, 3]);\n",
    "set = new Set(Array.from(set, val => val * 2));\n",
    "// set的值是2, 4, 6"
   ]
  },
  {
   "cell_type": "markdown",
   "id": "51013cc1",
   "metadata": {},
   "source": [
    "上面代码提供了两种方法，直接在遍历操作中改变原来的 Set 结构。\n",
    "\n",
    "## WeakSet\n",
    "\n",
    "### 含义\n",
    "\n",
    "WeakSet 结构与 Set 类似，也是不重复的值的集合。但是，它与 Set 有两个区别。\n",
    "\n",
    "首先，WeakSet 的成员只能是对象，而不能是其他类型的值。"
   ]
  },
  {
   "cell_type": "code",
   "execution_count": null,
   "id": "1376ee91",
   "metadata": {
    "attributes": {
     "classes": [
      "javascript"
     ],
     "id": ""
    }
   },
   "outputs": [],
   "source": [
    "const ws = new WeakSet();\n",
    "ws.add(1)\n",
    "// TypeError: Invalid value used in weak set\n",
    "ws.add(Symbol())\n",
    "// TypeError: invalid value used in weak set"
   ]
  },
  {
   "cell_type": "markdown",
   "id": "e08613a9",
   "metadata": {},
   "source": [
    "上面代码试图向 WeakSet 添加一个数值和`Symbol`值，结果报错，因为 WeakSet 只能放置对象。\n",
    "\n",
    "其次，WeakSet 中的对象都是弱引用，即垃圾回收机制不考虑 WeakSet 对该对象的引用，也就是说，如果其他对象都不再引用该对象，那么垃圾回收机制会自动回收该对象所占用的内存，不考虑该对象还存在于 WeakSet 之中。\n",
    "\n",
    "这是因为垃圾回收机制根据对象的可达性（reachability）来判断回收，如果对象还能被访问到，垃圾回收机制就不会释放这块内存。结束使用该值之后，有时会忘记取消引用，导致内存无法释放，进而可能会引发内存泄漏。WeakSet 里面的引用，都不计入垃圾回收机制，所以就不存在这个问题。因此，WeakSet 适合临时存放一组对象，以及存放跟对象绑定的信息。只要这些对象在外部消失，它在 WeakSet 里面的引用就会自动消失。\n",
    "\n",
    "由于上面这个特点，WeakSet 的成员是不适合引用的，因为它会随时消失。另外，由于 WeakSet 内部有多少个成员，取决于垃圾回收机制有没有运行，运行前后很可能成员个数是不一样的，而垃圾回收机制何时运行是不可预测的，因此 ES6 规定 WeakSet 不可遍历。\n",
    "\n",
    "这些特点同样适用于本章后面要介绍的 WeakMap 结构。\n",
    "\n",
    "### 语法\n",
    "\n",
    "WeakSet 是一个构造函数，可以使用`new`命令，创建 WeakSet 数据结构。"
   ]
  },
  {
   "cell_type": "code",
   "execution_count": null,
   "id": "ab8d9878",
   "metadata": {
    "attributes": {
     "classes": [
      "javascript"
     ],
     "id": ""
    }
   },
   "outputs": [],
   "source": [
    "const ws = new WeakSet();"
   ]
  },
  {
   "cell_type": "markdown",
   "id": "a4424cf2",
   "metadata": {},
   "source": [
    "作为构造函数，WeakSet 可以接受一个数组或类似数组的对象作为参数。（实际上，任何具有 Iterable 接口的对象，都可以作为 WeakSet 的参数。）该数组的所有成员，都会自动成为 WeakSet 实例对象的成员。"
   ]
  },
  {
   "cell_type": "code",
   "execution_count": null,
   "id": "1cd43be9",
   "metadata": {
    "attributes": {
     "classes": [
      "javascript"
     ],
     "id": ""
    }
   },
   "outputs": [],
   "source": [
    "const a = [[1, 2], [3, 4]];\n",
    "const ws = new WeakSet(a);\n",
    "// WeakSet {[1, 2], [3, 4]}"
   ]
  },
  {
   "cell_type": "markdown",
   "id": "b3833405",
   "metadata": {},
   "source": [
    "上面代码中，`a`是一个数组，它有两个成员，也都是数组。将`a`作为 WeakSet 构造函数的参数，`a`的成员会自动成为 WeakSet 的成员。\n",
    "\n",
    "注意，是`a`数组的成员成为 WeakSet 的成员，而不是`a`数组本身。这意味着，数组的成员只能是对象。"
   ]
  },
  {
   "cell_type": "code",
   "execution_count": null,
   "id": "b128cad2",
   "metadata": {
    "attributes": {
     "classes": [
      "javascript"
     ],
     "id": ""
    }
   },
   "outputs": [],
   "source": [
    "const b = [3, 4];\n",
    "const ws = new WeakSet(b);\n",
    "// Uncaught TypeError: Invalid value used in weak set(…)"
   ]
  },
  {
   "cell_type": "markdown",
   "id": "a79765c8",
   "metadata": {},
   "source": [
    "上面代码中，数组`b`的成员不是对象，加入 WeakSet 就会报错。\n",
    "\n",
    "WeakSet 结构有以下三个方法。\n",
    "\n",
    "- **WeakSet.prototype.add(value)**：向 WeakSet 实例添加一个新成员。\n",
    "- **WeakSet.prototype.delete(value)**：清除 WeakSet 实例的指定成员。\n",
    "- **WeakSet.prototype.has(value)**：返回一个布尔值，表示某个值是否在 WeakSet 实例之中。\n",
    "\n",
    "下面是一个例子。"
   ]
  },
  {
   "cell_type": "code",
   "execution_count": null,
   "id": "c15afa88",
   "metadata": {
    "attributes": {
     "classes": [
      "javascript"
     ],
     "id": ""
    }
   },
   "outputs": [],
   "source": [
    "const ws = new WeakSet();\n",
    "const obj = {};\n",
    "const foo = {};\n",
    "\n",
    "ws.add(window);\n",
    "ws.add(obj);\n",
    "\n",
    "ws.has(window); // true\n",
    "ws.has(foo);    // false\n",
    "\n",
    "ws.delete(window);\n",
    "ws.has(window);    // false"
   ]
  },
  {
   "cell_type": "markdown",
   "id": "faf9f1dc",
   "metadata": {},
   "source": [
    "WeakSet 没有`size`属性，没有办法遍历它的成员。"
   ]
  },
  {
   "cell_type": "code",
   "execution_count": null,
   "id": "56223346",
   "metadata": {
    "attributes": {
     "classes": [
      "javascript"
     ],
     "id": ""
    }
   },
   "outputs": [],
   "source": [
    "ws.size // undefined\n",
    "ws.forEach // undefined\n",
    "\n",
    "ws.forEach(function(item){ console.log('WeakSet has ' + item)})\n",
    "// TypeError: undefined is not a function"
   ]
  },
  {
   "cell_type": "markdown",
   "id": "f6804bf9",
   "metadata": {},
   "source": [
    "上面代码试图获取`size`和`forEach`属性，结果都不能成功。\n",
    "\n",
    "WeakSet 不能遍历，是因为成员都是弱引用，随时可能消失，遍历机制无法保证成员的存在，很可能刚刚遍历结束，成员就取不到了。WeakSet 的一个用处，是储存 DOM 节点，而不用担心这些节点从文档移除时，会引发内存泄漏。\n",
    "\n",
    "下面是 WeakSet 的另一个例子。"
   ]
  },
  {
   "cell_type": "code",
   "execution_count": null,
   "id": "a167b930",
   "metadata": {
    "attributes": {
     "classes": [
      "javascript"
     ],
     "id": ""
    }
   },
   "outputs": [],
   "source": [
    "const foos = new WeakSet()\n",
    "class Foo {\n",
    "  constructor() {\n",
    "    foos.add(this)\n",
    "  }\n",
    "  method () {\n",
    "    if (!foos.has(this)) {\n",
    "      throw new TypeError('Foo.prototype.method 只能在Foo的实例上调用！');\n",
    "    }\n",
    "  }\n",
    "}"
   ]
  },
  {
   "cell_type": "markdown",
   "id": "ac740b1f",
   "metadata": {},
   "source": [
    "上面代码保证了`Foo`的实例方法，只能在`Foo`的实例上调用。这里使用 WeakSet 的好处是，`foos`对实例的引用，不会被计入内存回收机制，所以删除实例的时候，不用考虑`foos`，也不会出现内存泄漏。\n",
    "\n",
    "## Map\n",
    "\n",
    "### 含义和基本用法\n",
    "\n",
    "JavaScript 的对象（Object），本质上是键值对的集合（Hash 结构），但是传统上只能用字符串当作键。这给它的使用带来了很大的限制。"
   ]
  },
  {
   "cell_type": "code",
   "execution_count": null,
   "id": "ee3e1912",
   "metadata": {
    "attributes": {
     "classes": [
      "javascript"
     ],
     "id": ""
    }
   },
   "outputs": [],
   "source": [
    "const data = {};\n",
    "const element = document.getElementById('myDiv');\n",
    "\n",
    "data[element] = 'metadata';\n",
    "data['[object HTMLDivElement]'] // \"metadata\""
   ]
  },
  {
   "cell_type": "markdown",
   "id": "a6d5f4bd",
   "metadata": {},
   "source": [
    "上面代码原意是将一个 DOM 节点作为对象`data`的键，但是由于对象只接受字符串作为键名，所以`element`被自动转为字符串`[object HTMLDivElement]`。\n",
    "\n",
    "为了解决这个问题，ES6 提供了 Map 数据结构。它类似于对象，也是键值对的集合，但是“键”的范围不限于字符串，各种类型的值（包括对象）都可以当作键。也就是说，Object 结构提供了“字符串—值”的对应，Map 结构提供了“值—值”的对应，是一种更完善的 Hash 结构实现。如果你需要“键值对”的数据结构，Map 比 Object 更合适。"
   ]
  },
  {
   "cell_type": "code",
   "execution_count": null,
   "id": "e40fe959",
   "metadata": {
    "attributes": {
     "classes": [
      "javascript"
     ],
     "id": ""
    }
   },
   "outputs": [],
   "source": [
    "const m = new Map();\n",
    "const o = {p: 'Hello World'};\n",
    "\n",
    "m.set(o, 'content')\n",
    "m.get(o) // \"content\"\n",
    "\n",
    "m.has(o) // true\n",
    "m.delete(o) // true\n",
    "m.has(o) // false"
   ]
  },
  {
   "cell_type": "markdown",
   "id": "7f228014",
   "metadata": {},
   "source": [
    "上面代码使用 Map 结构的`set`方法，将对象`o`当作`m`的一个键，然后又使用`get`方法读取这个键，接着使用`delete`方法删除了这个键。\n",
    "\n",
    "上面的例子展示了如何向 Map 添加成员。作为构造函数，Map 也可以接受一个数组作为参数。该数组的成员是一个个表示键值对的数组。"
   ]
  },
  {
   "cell_type": "code",
   "execution_count": null,
   "id": "4240110f",
   "metadata": {
    "attributes": {
     "classes": [
      "javascript"
     ],
     "id": ""
    }
   },
   "outputs": [],
   "source": [
    "const map = new Map([\n",
    "  ['name', '张三'],\n",
    "  ['title', 'Author']\n",
    "]);\n",
    "\n",
    "map.size // 2\n",
    "map.has('name') // true\n",
    "map.get('name') // \"张三\"\n",
    "map.has('title') // true\n",
    "map.get('title') // \"Author\""
   ]
  },
  {
   "cell_type": "markdown",
   "id": "a3b4ed7a",
   "metadata": {},
   "source": [
    "上面代码在新建 Map 实例时，就指定了两个键`name`和`title`。\n",
    "\n",
    "`Map`构造函数接受数组作为参数，实际上执行的是下面的算法。"
   ]
  },
  {
   "cell_type": "code",
   "execution_count": null,
   "id": "476a5d91",
   "metadata": {
    "attributes": {
     "classes": [
      "javascript"
     ],
     "id": ""
    }
   },
   "outputs": [],
   "source": [
    "const items = [\n",
    "  ['name', '张三'],\n",
    "  ['title', 'Author']\n",
    "];\n",
    "\n",
    "const map = new Map();\n",
    "\n",
    "items.forEach(\n",
    "  ([key, value]) => map.set(key, value)\n",
    ");"
   ]
  },
  {
   "cell_type": "markdown",
   "id": "4d8e98c7",
   "metadata": {},
   "source": [
    "事实上，不仅仅是数组，任何具有 Iterator 接口、且每个成员都是一个双元素的数组的数据结构（详见《Iterator》一章）都可以当作`Map`构造函数的参数。这就是说，`Set`和`Map`都可以用来生成新的 Map。"
   ]
  },
  {
   "cell_type": "code",
   "execution_count": null,
   "id": "b385d5e6",
   "metadata": {
    "attributes": {
     "classes": [
      "javascript"
     ],
     "id": ""
    }
   },
   "outputs": [],
   "source": [
    "const set = new Set([\n",
    "  ['foo', 1],\n",
    "  ['bar', 2]\n",
    "]);\n",
    "const m1 = new Map(set);\n",
    "m1.get('foo') // 1\n",
    "\n",
    "const m2 = new Map([['baz', 3]]);\n",
    "const m3 = new Map(m2);\n",
    "m3.get('baz') // 3"
   ]
  },
  {
   "cell_type": "markdown",
   "id": "03a5e006",
   "metadata": {},
   "source": [
    "上面代码中，我们分别使用 Set 对象和 Map 对象，当作`Map`构造函数的参数，结果都生成了新的 Map 对象。\n",
    "\n",
    "如果对同一个键多次赋值，后面的值将覆盖前面的值。"
   ]
  },
  {
   "cell_type": "code",
   "execution_count": null,
   "id": "a5139ca0",
   "metadata": {
    "attributes": {
     "classes": [
      "javascript"
     ],
     "id": ""
    }
   },
   "outputs": [],
   "source": [
    "const map = new Map();\n",
    "\n",
    "map\n",
    ".set(1, 'aaa')\n",
    ".set(1, 'bbb');\n",
    "\n",
    "map.get(1) // \"bbb\""
   ]
  },
  {
   "cell_type": "markdown",
   "id": "6405d4a0",
   "metadata": {},
   "source": [
    "上面代码对键`1`连续赋值两次，后一次的值覆盖前一次的值。\n",
    "\n",
    "如果读取一个未知的键，则返回`undefined`。"
   ]
  },
  {
   "cell_type": "code",
   "execution_count": null,
   "id": "04b7403c",
   "metadata": {
    "attributes": {
     "classes": [
      "javascript"
     ],
     "id": ""
    }
   },
   "outputs": [],
   "source": [
    "new Map().get('asfddfsasadf')\n",
    "// undefined"
   ]
  },
  {
   "cell_type": "markdown",
   "id": "e6aae1c3",
   "metadata": {},
   "source": [
    "注意，只有对同一个对象的引用，Map 结构才将其视为同一个键。这一点要非常小心。"
   ]
  },
  {
   "cell_type": "code",
   "execution_count": null,
   "id": "1f0c8d37",
   "metadata": {
    "attributes": {
     "classes": [
      "javascript"
     ],
     "id": ""
    }
   },
   "outputs": [],
   "source": [
    "const map = new Map();\n",
    "\n",
    "map.set(['a'], 555);\n",
    "map.get(['a']) // undefined"
   ]
  },
  {
   "cell_type": "markdown",
   "id": "1ac91532",
   "metadata": {},
   "source": [
    "上面代码的`set`和`get`方法，表面是针对同一个键，但实际上这是两个不同的数组实例，内存地址是不一样的，因此`get`方法无法读取该键，返回`undefined`。\n",
    "\n",
    "同理，同样的值的两个实例，在 Map 结构中被视为两个键。"
   ]
  },
  {
   "cell_type": "code",
   "execution_count": null,
   "id": "4cebae5d",
   "metadata": {
    "attributes": {
     "classes": [
      "javascript"
     ],
     "id": ""
    }
   },
   "outputs": [],
   "source": [
    "const map = new Map();\n",
    "\n",
    "const k1 = ['a'];\n",
    "const k2 = ['a'];\n",
    "\n",
    "map\n",
    ".set(k1, 111)\n",
    ".set(k2, 222);\n",
    "\n",
    "map.get(k1) // 111\n",
    "map.get(k2) // 222"
   ]
  },
  {
   "cell_type": "markdown",
   "id": "48b9bd6e",
   "metadata": {},
   "source": [
    "上面代码中，变量`k1`和`k2`的值是一样的，但是它们在 Map 结构中被视为两个键。\n",
    "\n",
    "由上可知，Map 的键实际上是跟内存地址绑定的，只要内存地址不一样，就视为两个键。这就解决了同名属性碰撞（clash）的问题，我们扩展别人的库的时候，如果使用对象作为键名，就不用担心自己的属性与原作者的属性同名。\n",
    "\n",
    "如果 Map 的键是一个简单类型的值（数字、字符串、布尔值），则只要两个值严格相等，Map 将其视为一个键，比如`0`和`-0`就是一个键，布尔值`true`和字符串`true`则是两个不同的键。另外，`undefined`和`null`也是两个不同的键。虽然`NaN`不严格相等于自身，但 Map 将其视为同一个键。"
   ]
  },
  {
   "cell_type": "code",
   "execution_count": null,
   "id": "f391f1eb",
   "metadata": {
    "attributes": {
     "classes": [
      "javascript"
     ],
     "id": ""
    }
   },
   "outputs": [],
   "source": [
    "let map = new Map();\n",
    "\n",
    "map.set(-0, 123);\n",
    "map.get(+0) // 123\n",
    "\n",
    "map.set(true, 1);\n",
    "map.set('true', 2);\n",
    "map.get(true) // 1\n",
    "\n",
    "map.set(undefined, 3);\n",
    "map.set(null, 4);\n",
    "map.get(undefined) // 3\n",
    "\n",
    "map.set(NaN, 123);\n",
    "map.get(NaN) // 123"
   ]
  },
  {
   "cell_type": "markdown",
   "id": "191f96b7",
   "metadata": {},
   "source": [
    "### 实例的属性和操作方法\n",
    "\n",
    "Map 结构的实例有以下属性和操作方法。\n",
    "\n",
    "**（1）size 属性**\n",
    "\n",
    "`size`属性返回 Map 结构的成员总数。"
   ]
  },
  {
   "cell_type": "code",
   "execution_count": null,
   "id": "38cb079c",
   "metadata": {
    "attributes": {
     "classes": [
      "javascript"
     ],
     "id": ""
    }
   },
   "outputs": [],
   "source": [
    "const map = new Map();\n",
    "map.set('foo', true);\n",
    "map.set('bar', false);\n",
    "\n",
    "map.size // 2"
   ]
  },
  {
   "cell_type": "markdown",
   "id": "25cc19d3",
   "metadata": {},
   "source": [
    "**（2）Map.prototype.set(key, value)**\n",
    "\n",
    "`set`方法设置键名`key`对应的键值为`value`，然后返回整个 Map 结构。如果`key`已经有值，则键值会被更新，否则就新生成该键。"
   ]
  },
  {
   "cell_type": "code",
   "execution_count": null,
   "id": "6ede0565",
   "metadata": {
    "attributes": {
     "classes": [
      "javascript"
     ],
     "id": ""
    }
   },
   "outputs": [],
   "source": [
    "const m = new Map();\n",
    "\n",
    "m.set('edition', 6)        // 键是字符串\n",
    "m.set(262, 'standard')     // 键是数值\n",
    "m.set(undefined, 'nah')    // 键是 undefined"
   ]
  },
  {
   "cell_type": "markdown",
   "id": "d73d9bf4",
   "metadata": {},
   "source": [
    "`set`方法返回的是当前的`Map`对象，因此可以采用链式写法。"
   ]
  },
  {
   "cell_type": "code",
   "execution_count": null,
   "id": "8010b99f",
   "metadata": {
    "attributes": {
     "classes": [
      "javascript"
     ],
     "id": ""
    }
   },
   "outputs": [],
   "source": [
    "let map = new Map()\n",
    "  .set(1, 'a')\n",
    "  .set(2, 'b')\n",
    "  .set(3, 'c');"
   ]
  },
  {
   "cell_type": "markdown",
   "id": "3cb34cb1",
   "metadata": {},
   "source": [
    "**（3）Map.prototype.get(key)**\n",
    "\n",
    "`get`方法读取`key`对应的键值，如果找不到`key`，返回`undefined`。"
   ]
  },
  {
   "cell_type": "code",
   "execution_count": null,
   "id": "13ad2891",
   "metadata": {
    "attributes": {
     "classes": [
      "javascript"
     ],
     "id": ""
    }
   },
   "outputs": [],
   "source": [
    "const m = new Map();\n",
    "\n",
    "const hello = function() {console.log('hello');};\n",
    "m.set(hello, 'Hello ES6!') // 键是函数\n",
    "\n",
    "m.get(hello)  // Hello ES6!"
   ]
  },
  {
   "cell_type": "markdown",
   "id": "b340e3dc",
   "metadata": {},
   "source": [
    "**（4）Map.prototype.has(key)**\n",
    "\n",
    "`has`方法返回一个布尔值，表示某个键是否在当前 Map 对象之中。"
   ]
  },
  {
   "cell_type": "code",
   "execution_count": null,
   "id": "9d8bb609",
   "metadata": {
    "attributes": {
     "classes": [
      "javascript"
     ],
     "id": ""
    }
   },
   "outputs": [],
   "source": [
    "const m = new Map();\n",
    "\n",
    "m.set('edition', 6);\n",
    "m.set(262, 'standard');\n",
    "m.set(undefined, 'nah');\n",
    "\n",
    "m.has('edition')     // true\n",
    "m.has('years')       // false\n",
    "m.has(262)           // true\n",
    "m.has(undefined)     // true"
   ]
  },
  {
   "cell_type": "markdown",
   "id": "ea74d626",
   "metadata": {},
   "source": [
    "**（5）Map.prototype.delete(key)**\n",
    "\n",
    "`delete`方法删除某个键，返回`true`。如果删除失败，返回`false`。"
   ]
  },
  {
   "cell_type": "code",
   "execution_count": null,
   "id": "5a1fbee3",
   "metadata": {
    "attributes": {
     "classes": [
      "javascript"
     ],
     "id": ""
    }
   },
   "outputs": [],
   "source": [
    "const m = new Map();\n",
    "m.set(undefined, 'nah');\n",
    "m.has(undefined)     // true\n",
    "\n",
    "m.delete(undefined)\n",
    "m.has(undefined)       // false"
   ]
  },
  {
   "cell_type": "markdown",
   "id": "5bd8bb1c",
   "metadata": {},
   "source": [
    "**（6）Map.prototype.clear()**\n",
    "\n",
    "`clear`方法清除所有成员，没有返回值。"
   ]
  },
  {
   "cell_type": "code",
   "execution_count": null,
   "id": "23f293e8",
   "metadata": {
    "attributes": {
     "classes": [
      "javascript"
     ],
     "id": ""
    }
   },
   "outputs": [],
   "source": [
    "let map = new Map();\n",
    "map.set('foo', true);\n",
    "map.set('bar', false);\n",
    "\n",
    "map.size // 2\n",
    "map.clear()\n",
    "map.size // 0"
   ]
  },
  {
   "cell_type": "markdown",
   "id": "f238067c",
   "metadata": {},
   "source": [
    "### 遍历方法\n",
    "\n",
    "Map 结构原生提供三个遍历器生成函数和一个遍历方法。\n",
    "\n",
    "- `Map.prototype.keys()`：返回键名的遍历器。\n",
    "- `Map.prototype.values()`：返回键值的遍历器。\n",
    "- `Map.prototype.entries()`：返回所有成员的遍历器。\n",
    "- `Map.prototype.forEach()`：遍历 Map 的所有成员。\n",
    "\n",
    "需要特别注意的是，Map 的遍历顺序就是插入顺序。"
   ]
  },
  {
   "cell_type": "code",
   "execution_count": null,
   "id": "edbe0603",
   "metadata": {
    "attributes": {
     "classes": [
      "javascript"
     ],
     "id": ""
    }
   },
   "outputs": [],
   "source": [
    "const map = new Map([\n",
    "  ['F', 'no'],\n",
    "  ['T',  'yes'],\n",
    "]);\n",
    "\n",
    "for (let key of map.keys()) {\n",
    "  console.log(key);\n",
    "}\n",
    "// \"F\"\n",
    "// \"T\"\n",
    "\n",
    "for (let value of map.values()) {\n",
    "  console.log(value);\n",
    "}\n",
    "// \"no\"\n",
    "// \"yes\"\n",
    "\n",
    "for (let item of map.entries()) {\n",
    "  console.log(item[0], item[1]);\n",
    "}\n",
    "// \"F\" \"no\"\n",
    "// \"T\" \"yes\"\n",
    "\n",
    "// 或者\n",
    "for (let [key, value] of map.entries()) {\n",
    "  console.log(key, value);\n",
    "}\n",
    "// \"F\" \"no\"\n",
    "// \"T\" \"yes\"\n",
    "\n",
    "// 等同于使用map.entries()\n",
    "for (let [key, value] of map) {\n",
    "  console.log(key, value);\n",
    "}\n",
    "// \"F\" \"no\"\n",
    "// \"T\" \"yes\""
   ]
  },
  {
   "cell_type": "markdown",
   "id": "412109f8",
   "metadata": {},
   "source": [
    "上面代码最后的那个例子，表示 Map 结构的默认遍历器接口（`Symbol.iterator`属性），就是`entries`方法。"
   ]
  },
  {
   "cell_type": "code",
   "execution_count": null,
   "id": "6c2395b3",
   "metadata": {
    "attributes": {
     "classes": [
      "javascript"
     ],
     "id": ""
    }
   },
   "outputs": [],
   "source": [
    "map[Symbol.iterator] === map.entries\n",
    "// true"
   ]
  },
  {
   "cell_type": "markdown",
   "id": "e3a3304c",
   "metadata": {},
   "source": [
    "Map 结构转为数组结构，比较快速的方法是使用扩展运算符（`...`）。"
   ]
  },
  {
   "cell_type": "code",
   "execution_count": null,
   "id": "b18b26c9",
   "metadata": {
    "attributes": {
     "classes": [
      "javascript"
     ],
     "id": ""
    }
   },
   "outputs": [],
   "source": [
    "const map = new Map([\n",
    "  [1, 'one'],\n",
    "  [2, 'two'],\n",
    "  [3, 'three'],\n",
    "]);\n",
    "\n",
    "[...map.keys()]\n",
    "// [1, 2, 3]\n",
    "\n",
    "[...map.values()]\n",
    "// ['one', 'two', 'three']\n",
    "\n",
    "[...map.entries()]\n",
    "// [[1,'one'], [2, 'two'], [3, 'three']]\n",
    "\n",
    "[...map]\n",
    "// [[1,'one'], [2, 'two'], [3, 'three']]"
   ]
  },
  {
   "cell_type": "markdown",
   "id": "a722907a",
   "metadata": {},
   "source": [
    "结合数组的`map`方法、`filter`方法，可以实现 Map 的遍历和过滤（Map 本身没有`map`和`filter`方法）。"
   ]
  },
  {
   "cell_type": "code",
   "execution_count": null,
   "id": "39fcd1f9",
   "metadata": {
    "attributes": {
     "classes": [
      "javascript"
     ],
     "id": ""
    }
   },
   "outputs": [],
   "source": [
    "const map0 = new Map()\n",
    "  .set(1, 'a')\n",
    "  .set(2, 'b')\n",
    "  .set(3, 'c');\n",
    "\n",
    "const map1 = new Map(\n",
    "  [...map0].filter(([k, v]) => k < 3)\n",
    ");\n",
    "// 产生 Map 结构 {1 => 'a', 2 => 'b'}\n",
    "\n",
    "const map2 = new Map(\n",
    "  [...map0].map(([k, v]) => [k * 2, '_' + v])\n",
    "    );\n",
    "// 产生 Map 结构 {2 => '_a', 4 => '_b', 6 => '_c'}"
   ]
  },
  {
   "cell_type": "markdown",
   "id": "5fc8199e",
   "metadata": {},
   "source": [
    "此外，Map 还有一个`forEach`方法，与数组的`forEach`方法类似，也可以实现遍历。"
   ]
  },
  {
   "cell_type": "code",
   "execution_count": null,
   "id": "5eba3b8f",
   "metadata": {
    "attributes": {
     "classes": [
      "javascript"
     ],
     "id": ""
    }
   },
   "outputs": [],
   "source": [
    "map.forEach(function(value, key, map) {\n",
    "  console.log(\"Key: %s, Value: %s\", key, value);\n",
    "});"
   ]
  },
  {
   "cell_type": "markdown",
   "id": "cee6642c",
   "metadata": {},
   "source": [
    "`forEach`方法还可以接受第二个参数，用来绑定`this`。"
   ]
  },
  {
   "cell_type": "code",
   "execution_count": null,
   "id": "74d56b79",
   "metadata": {
    "attributes": {
     "classes": [
      "javascript"
     ],
     "id": ""
    }
   },
   "outputs": [],
   "source": [
    "const reporter = {\n",
    "  report: function(key, value) {\n",
    "    console.log(\"Key: %s, Value: %s\", key, value);\n",
    "  }\n",
    "};\n",
    "\n",
    "map.forEach(function(value, key, map) {\n",
    "  this.report(key, value);\n",
    "}, reporter);"
   ]
  },
  {
   "cell_type": "markdown",
   "id": "6fb0fe5f",
   "metadata": {},
   "source": [
    "上面代码中，`forEach`方法的回调函数的`this`，就指向`reporter`。\n",
    "\n",
    "### 与其他数据结构的互相转换\n",
    "\n",
    "**（1）Map 转为数组**\n",
    "\n",
    "前面已经提过，Map 转为数组最方便的方法，就是使用扩展运算符（`...`）。"
   ]
  },
  {
   "cell_type": "code",
   "execution_count": null,
   "id": "8717df77",
   "metadata": {
    "attributes": {
     "classes": [
      "javascript"
     ],
     "id": ""
    }
   },
   "outputs": [],
   "source": [
    "const myMap = new Map()\n",
    "  .set(true, 7)\n",
    "  .set({foo: 3}, ['abc']);\n",
    "[...myMap]\n",
    "// [ [ true, 7 ], [ { foo: 3 }, [ 'abc' ] ] ]"
   ]
  },
  {
   "cell_type": "markdown",
   "id": "ec7ace57",
   "metadata": {},
   "source": [
    "**（2）数组 转为 Map**\n",
    "\n",
    "将数组传入 Map 构造函数，就可以转为 Map。"
   ]
  },
  {
   "cell_type": "code",
   "execution_count": null,
   "id": "c6287894",
   "metadata": {
    "attributes": {
     "classes": [
      "javascript"
     ],
     "id": ""
    }
   },
   "outputs": [],
   "source": [
    "new Map([\n",
    "  [true, 7],\n",
    "  [{foo: 3}, ['abc']]\n",
    "])\n",
    "// Map {\n",
    "//   true => 7,\n",
    "//   Object {foo: 3} => ['abc']\n",
    "// }"
   ]
  },
  {
   "cell_type": "markdown",
   "id": "a93f3b88",
   "metadata": {},
   "source": [
    "**（3）Map 转为对象**\n",
    "\n",
    "如果所有 Map 的键都是字符串，它可以无损地转为对象。"
   ]
  },
  {
   "cell_type": "code",
   "execution_count": null,
   "id": "c5f33b9d",
   "metadata": {
    "attributes": {
     "classes": [
      "javascript"
     ],
     "id": ""
    }
   },
   "outputs": [],
   "source": [
    "function strMapToObj(strMap) {\n",
    "  let obj = Object.create(null);\n",
    "  for (let [k,v] of strMap) {\n",
    "    obj[k] = v;\n",
    "  }\n",
    "  return obj;\n",
    "}\n",
    "\n",
    "const myMap = new Map()\n",
    "  .set('yes', true)\n",
    "  .set('no', false);\n",
    "strMapToObj(myMap)\n",
    "// { yes: true, no: false }"
   ]
  },
  {
   "cell_type": "markdown",
   "id": "fc39c803",
   "metadata": {},
   "source": [
    "如果有非字符串的键名，那么这个键名会被转成字符串，再作为对象的键名。\n",
    "\n",
    "**（4）对象转为 Map**\n",
    "\n",
    "对象转为 Map 可以通过`Object.entries()`。"
   ]
  },
  {
   "cell_type": "code",
   "execution_count": null,
   "id": "816e19fd",
   "metadata": {
    "attributes": {
     "classes": [
      "javascript"
     ],
     "id": ""
    }
   },
   "outputs": [],
   "source": [
    "let obj = {\"a\":1, \"b\":2};\n",
    "let map = new Map(Object.entries(obj));"
   ]
  },
  {
   "cell_type": "markdown",
   "id": "dce345a3",
   "metadata": {},
   "source": [
    "此外，也可以自己实现一个转换函数。"
   ]
  },
  {
   "cell_type": "code",
   "execution_count": null,
   "id": "2e219e9d",
   "metadata": {
    "attributes": {
     "classes": [
      "javascript"
     ],
     "id": ""
    }
   },
   "outputs": [],
   "source": [
    "function objToStrMap(obj) {\n",
    "  let strMap = new Map();\n",
    "  for (let k of Object.keys(obj)) {\n",
    "    strMap.set(k, obj[k]);\n",
    "  }\n",
    "  return strMap;\n",
    "}\n",
    "\n",
    "objToStrMap({yes: true, no: false})\n",
    "// Map {\"yes\" => true, \"no\" => false}"
   ]
  },
  {
   "cell_type": "markdown",
   "id": "261efa24",
   "metadata": {},
   "source": [
    "**（5）Map 转为 JSON**\n",
    "\n",
    "Map 转为 JSON 要区分两种情况。一种情况是，Map 的键名都是字符串，这时可以选择转为对象 JSON。"
   ]
  },
  {
   "cell_type": "code",
   "execution_count": null,
   "id": "fb528b8d",
   "metadata": {
    "attributes": {
     "classes": [
      "javascript"
     ],
     "id": ""
    }
   },
   "outputs": [],
   "source": [
    "function strMapToJson(strMap) {\n",
    "  return JSON.stringify(strMapToObj(strMap));\n",
    "}\n",
    "\n",
    "let myMap = new Map().set('yes', true).set('no', false);\n",
    "strMapToJson(myMap)\n",
    "// '{\"yes\":true,\"no\":false}'"
   ]
  },
  {
   "cell_type": "markdown",
   "id": "b708dd6d",
   "metadata": {},
   "source": [
    "另一种情况是，Map 的键名有非字符串，这时可以选择转为数组 JSON。"
   ]
  },
  {
   "cell_type": "code",
   "execution_count": null,
   "id": "bec713e2",
   "metadata": {
    "attributes": {
     "classes": [
      "javascript"
     ],
     "id": ""
    }
   },
   "outputs": [],
   "source": [
    "function mapToArrayJson(map) {\n",
    "  return JSON.stringify([...map]);\n",
    "}\n",
    "\n",
    "let myMap = new Map().set(true, 7).set({foo: 3}, ['abc']);\n",
    "mapToArrayJson(myMap)\n",
    "// '[[true,7],[{\"foo\":3},[\"abc\"]]]'"
   ]
  },
  {
   "cell_type": "markdown",
   "id": "da7983c0",
   "metadata": {},
   "source": [
    "**（6）JSON 转为 Map**\n",
    "\n",
    "JSON 转为 Map，正常情况下，所有键名都是字符串。"
   ]
  },
  {
   "cell_type": "code",
   "execution_count": null,
   "id": "e711ff8e",
   "metadata": {
    "attributes": {
     "classes": [
      "javascript"
     ],
     "id": ""
    }
   },
   "outputs": [],
   "source": [
    "function jsonToStrMap(jsonStr) {\n",
    "  return objToStrMap(JSON.parse(jsonStr));\n",
    "}\n",
    "\n",
    "jsonToStrMap('{\"yes\": true, \"no\": false}')\n",
    "// Map {'yes' => true, 'no' => false}"
   ]
  },
  {
   "cell_type": "markdown",
   "id": "48f146e4",
   "metadata": {},
   "source": [
    "但是，有一种特殊情况，整个 JSON 就是一个数组，且每个数组成员本身，又是一个有两个成员的数组。这时，它可以一一对应地转为 Map。这往往是 Map 转为数组 JSON 的逆操作。"
   ]
  },
  {
   "cell_type": "code",
   "execution_count": null,
   "id": "07ecd415",
   "metadata": {
    "attributes": {
     "classes": [
      "javascript"
     ],
     "id": ""
    }
   },
   "outputs": [],
   "source": [
    "function jsonToMap(jsonStr) {\n",
    "  return new Map(JSON.parse(jsonStr));\n",
    "}\n",
    "\n",
    "jsonToMap('[[true,7],[{\"foo\":3},[\"abc\"]]]')\n",
    "// Map {true => 7, Object {foo: 3} => ['abc']}"
   ]
  },
  {
   "cell_type": "markdown",
   "id": "e4f89ef7",
   "metadata": {},
   "source": [
    "## WeakMap\n",
    "\n",
    "### 含义\n",
    "\n",
    "`WeakMap`结构与`Map`结构类似，也是用于生成键值对的集合。"
   ]
  },
  {
   "cell_type": "code",
   "execution_count": null,
   "id": "3059ce42",
   "metadata": {
    "attributes": {
     "classes": [
      "javascript"
     ],
     "id": ""
    }
   },
   "outputs": [],
   "source": [
    "// WeakMap 可以使用 set 方法添加成员\n",
    "const wm1 = new WeakMap();\n",
    "const key = {foo: 1};\n",
    "wm1.set(key, 2);\n",
    "wm1.get(key) // 2\n",
    "\n",
    "// WeakMap 也可以接受一个数组，\n",
    "// 作为构造函数的参数\n",
    "const k1 = [1, 2, 3];\n",
    "const k2 = [4, 5, 6];\n",
    "const wm2 = new WeakMap([[k1, 'foo'], [k2, 'bar']]);\n",
    "wm2.get(k2) // \"bar\""
   ]
  },
  {
   "cell_type": "markdown",
   "id": "9ad15a58",
   "metadata": {},
   "source": [
    "`WeakMap`与`Map`的区别有两点。\n",
    "\n",
    "首先，`WeakMap`只接受对象作为键名（`null`除外），不接受其他类型的值作为键名。"
   ]
  },
  {
   "cell_type": "code",
   "execution_count": null,
   "id": "1d2f602e",
   "metadata": {
    "attributes": {
     "classes": [
      "javascript"
     ],
     "id": ""
    }
   },
   "outputs": [],
   "source": [
    "const map = new WeakMap();\n",
    "map.set(1, 2)\n",
    "// TypeError: 1 is not an object!\n",
    "map.set(Symbol(), 2)\n",
    "// TypeError: Invalid value used as weak map key\n",
    "map.set(null, 2)\n",
    "// TypeError: Invalid value used as weak map key"
   ]
  },
  {
   "cell_type": "markdown",
   "id": "cc8caed5",
   "metadata": {},
   "source": [
    "上面代码中，如果将数值`1`和`Symbol`值作为 WeakMap 的键名，都会报错。\n",
    "\n",
    "不过，现在有一个[提案](https://github.com/tc39/proposal-symbols-as-weakmap-keys)，允许 Symbol 值也可以作为 WeakMap 的键名。一旦纳入标准，就意味着键名存在两种可能：对象和 Symbol 值。\n",
    "\n",
    "其次，`WeakMap`的键名所指向的对象，不计入垃圾回收机制。\n",
    "\n",
    "`WeakMap`的设计目的在于，有时我们想在某个对象上面存放一些数据，但是这会形成对于这个对象的引用。请看下面的例子。"
   ]
  },
  {
   "cell_type": "code",
   "execution_count": null,
   "id": "5f9ebd59",
   "metadata": {
    "attributes": {
     "classes": [
      "javascript"
     ],
     "id": ""
    }
   },
   "outputs": [],
   "source": [
    "const e1 = document.getElementById('foo');\n",
    "const e2 = document.getElementById('bar');\n",
    "const arr = [\n",
    "  [e1, 'foo 元素'],\n",
    "  [e2, 'bar 元素'],\n",
    "];"
   ]
  },
  {
   "cell_type": "markdown",
   "id": "777abdc6",
   "metadata": {},
   "source": [
    "上面代码中，`e1`和`e2`是两个对象，我们通过`arr`数组对这两个对象添加一些文字说明。这就形成了`arr`对`e1`和`e2`的引用。\n",
    "\n",
    "一旦不再需要这两个对象，我们就必须手动删除这个引用，否则垃圾回收机制就不会释放`e1`和`e2`占用的内存。"
   ]
  },
  {
   "cell_type": "code",
   "execution_count": null,
   "id": "762dcedc",
   "metadata": {
    "attributes": {
     "classes": [
      "javascript"
     ],
     "id": ""
    }
   },
   "outputs": [],
   "source": [
    "// 不需要 e1 和 e2 的时候\n",
    "// 必须手动删除引用\n",
    "arr [0] = null;\n",
    "arr [1] = null;"
   ]
  },
  {
   "cell_type": "markdown",
   "id": "973abba9",
   "metadata": {},
   "source": [
    "上面这样的写法显然很不方便。一旦忘了写，就会造成内存泄露。\n",
    "\n",
    "WeakMap 就是为了解决这个问题而诞生的，它的键名所引用的对象都是弱引用，即垃圾回收机制不将该引用考虑在内。因此，只要所引用的对象的其他引用都被清除，垃圾回收机制就会释放该对象所占用的内存。也就是说，一旦不再需要，WeakMap 里面的键名对象和所对应的键值对会自动消失，不用手动删除引用。\n",
    "\n",
    "基本上，如果你要往对象上添加数据，又不想干扰垃圾回收机制，就可以使用 WeakMap。一个典型应用场景是，在网页的 DOM 元素上添加数据，就可以使用`WeakMap`结构。当该 DOM 元素被清除，其所对应的`WeakMap`记录就会自动被移除。"
   ]
  },
  {
   "cell_type": "code",
   "execution_count": null,
   "id": "dea82e2e",
   "metadata": {
    "attributes": {
     "classes": [
      "javascript"
     ],
     "id": ""
    }
   },
   "outputs": [],
   "source": [
    "const wm = new WeakMap();\n",
    "\n",
    "const element = document.getElementById('example');\n",
    "\n",
    "wm.set(element, 'some information');\n",
    "wm.get(element) // \"some information\""
   ]
  },
  {
   "cell_type": "markdown",
   "id": "8166bf88",
   "metadata": {},
   "source": [
    "上面代码中，先新建一个 WeakMap 实例。然后，将一个 DOM 节点作为键名存入该实例，并将一些附加信息作为键值，一起存放在 WeakMap 里面。这时，WeakMap 里面对`element`的引用就是弱引用，不会被计入垃圾回收机制。\n",
    "\n",
    "也就是说，上面的 DOM 节点对象除了 WeakMap 的弱引用外，其他位置对该对象的引用一旦消除，该对象占用的内存就会被垃圾回收机制释放。WeakMap 保存的这个键值对，也会自动消失。\n",
    "\n",
    "总之，`WeakMap`的专用场合就是，它的键所对应的对象，可能会在将来消失。`WeakMap`结构有助于防止内存泄漏。\n",
    "\n",
    "注意，WeakMap 弱引用的只是键名，而不是键值。键值依然是正常引用。"
   ]
  },
  {
   "cell_type": "code",
   "execution_count": null,
   "id": "24a5323f",
   "metadata": {
    "attributes": {
     "classes": [
      "javascript"
     ],
     "id": ""
    }
   },
   "outputs": [],
   "source": [
    "const wm = new WeakMap();\n",
    "let key = {};\n",
    "let obj = {foo: 1};\n",
    "\n",
    "wm.set(key, obj);\n",
    "obj = null;\n",
    "wm.get(key)\n",
    "// Object {foo: 1}"
   ]
  },
  {
   "cell_type": "markdown",
   "id": "278e60c4",
   "metadata": {},
   "source": [
    "上面代码中，键值`obj`是正常引用。所以，即使在 WeakMap 外部消除了`obj`的引用，WeakMap 内部的引用依然存在。\n",
    "\n",
    "### WeakMap 的语法\n",
    "\n",
    "WeakMap 与 Map 在 API 上的区别主要是两个，一是没有遍历操作（即没有`keys()`、`values()`和`entries()`方法），也没有`size`属性。因为没有办法列出所有键名，某个键名是否存在完全不可预测，跟垃圾回收机制是否运行相关。这一刻可以取到键名，下一刻垃圾回收机制突然运行了，这个键名就没了，为了防止出现不确定性，就统一规定不能取到键名。二是无法清空，即不支持`clear`方法。因此，`WeakMap`只有四个方法可用：`get()`、`set()`、`has()`、`delete()`。"
   ]
  },
  {
   "cell_type": "code",
   "execution_count": null,
   "id": "69ca8834",
   "metadata": {
    "attributes": {
     "classes": [
      "javascript"
     ],
     "id": ""
    }
   },
   "outputs": [],
   "source": [
    "const wm = new WeakMap();\n",
    "\n",
    "// size、forEach、clear 方法都不存在\n",
    "wm.size // undefined\n",
    "wm.forEach // undefined\n",
    "wm.clear // undefined"
   ]
  },
  {
   "cell_type": "markdown",
   "id": "70ca5ccd",
   "metadata": {},
   "source": [
    "### WeakMap 的示例\n",
    "\n",
    "WeakMap 的例子很难演示，因为无法观察它里面的引用会自动消失。此时，其他引用都解除了，已经没有引用指向 WeakMap 的键名了，导致无法证实那个键名是不是存在。\n",
    "\n",
    "贺师俊老师[提示](https://github.com/ruanyf/es6tutorial/issues/362#issuecomment-292109104)，如果引用所指向的值占用特别多的内存，就可以通过 Node 的`process.memoryUsage`方法看出来。根据这个思路，网友[vtxf](https://github.com/ruanyf/es6tutorial/issues/362#issuecomment-292451925)补充了下面的例子。\n",
    "\n",
    "首先，打开 Node 命令行。"
   ]
  },
  {
   "cell_type": "code",
   "execution_count": null,
   "id": "516c2576",
   "metadata": {},
   "outputs": [],
   "source": [
    "%%bash\n",
    "$ node --expose-gc"
   ]
  },
  {
   "cell_type": "markdown",
   "id": "4fe8e82e",
   "metadata": {},
   "source": [
    "上面代码中，`--expose-gc`参数表示允许手动执行垃圾回收机制。\n",
    "\n",
    "然后，执行下面的代码。"
   ]
  },
  {
   "cell_type": "code",
   "execution_count": null,
   "id": "1ae90947",
   "metadata": {
    "attributes": {
     "classes": [
      "javascript"
     ],
     "id": ""
    }
   },
   "outputs": [],
   "source": [
    "// 手动执行一次垃圾回收，保证获取的内存使用状态准确\n",
    "> global.gc();\n",
    "undefined\n",
    "\n",
    "// 查看内存占用的初始状态，heapUsed 为 4M 左右\n",
    "> process.memoryUsage();\n",
    "{ rss: 21106688,\n",
    "  heapTotal: 7376896,\n",
    "  heapUsed: 4153936,\n",
    "  external: 9059 }\n",
    "\n",
    "> let wm = new WeakMap();\n",
    "undefined\n",
    "\n",
    "// 新建一个变量 key，指向一个 5*1024*1024 的数组\n",
    "> let key = new Array(5 * 1024 * 1024);\n",
    "undefined\n",
    "\n",
    "// 设置 WeakMap 实例的键名，也指向 key 数组\n",
    "// 这时，key 数组实际被引用了两次，\n",
    "// 变量 key 引用一次，WeakMap 的键名引用了第二次\n",
    "// 但是，WeakMap 是弱引用，对于引擎来说，引用计数还是1\n",
    "> wm.set(key, 1);\n",
    "WeakMap {}\n",
    "\n",
    "> global.gc();\n",
    "undefined\n",
    "\n",
    "// 这时内存占用 heapUsed 增加到 45M 了\n",
    "> process.memoryUsage();\n",
    "{ rss: 67538944,\n",
    "  heapTotal: 7376896,\n",
    "  heapUsed: 45782816,\n",
    "  external: 8945 }\n",
    "\n",
    "// 清除变量 key 对数组的引用，\n",
    "// 但没有手动清除 WeakMap 实例的键名对数组的引用\n",
    "> key = null;\n",
    "null\n",
    "\n",
    "// 再次执行垃圾回收\n",
    "> global.gc();\n",
    "undefined\n",
    "\n",
    "// 内存占用 heapUsed 变回 4M 左右，\n",
    "// 可以看到 WeakMap 的键名引用没有阻止 gc 对内存的回收\n",
    "> process.memoryUsage();\n",
    "{ rss: 20639744,\n",
    "  heapTotal: 8425472,\n",
    "  heapUsed: 3979792,\n",
    "  external: 8956 }"
   ]
  },
  {
   "cell_type": "markdown",
   "id": "09e31624",
   "metadata": {},
   "source": [
    "上面代码中，只要外部的引用消失，WeakMap 内部的引用，就会自动被垃圾回收清除。由此可见，有了 WeakMap 的帮助，解决内存泄漏就会简单很多。\n",
    "\n",
    "Chrome 浏览器的 Dev Tools 的 Memory 面板，有一个垃圾桶的按钮，可以强制垃圾回收（garbage collect）。这个按钮也能用来观察 WeakMap 里面的引用是否消失。\n",
    "\n",
    "### WeakMap 的用途\n",
    "\n",
    "前文说过，WeakMap 应用的典型场合就是 DOM 节点作为键名。下面是一个例子。"
   ]
  },
  {
   "cell_type": "code",
   "execution_count": null,
   "id": "cc5745ad",
   "metadata": {
    "attributes": {
     "classes": [
      "javascript"
     ],
     "id": ""
    }
   },
   "outputs": [],
   "source": [
    "let myWeakmap = new WeakMap();\n",
    "\n",
    "myWeakmap.set(\n",
    "  document.getElementById('logo'),\n",
    "  {timesClicked: 0})\n",
    ";\n",
    "\n",
    "document.getElementById('logo').addEventListener('click', function() {\n",
    "  let logoData = myWeakmap.get(document.getElementById('logo'));\n",
    "  logoData.timesClicked++;\n",
    "}, false);"
   ]
  },
  {
   "cell_type": "markdown",
   "id": "897ac7ae",
   "metadata": {},
   "source": [
    "上面代码中，`document.getElementById('logo')`是一个 DOM 节点，每当发生`click`事件，就更新一下状态。我们将这个状态作为键值放在 WeakMap 里，对应的键名就是这个节点对象。一旦这个 DOM 节点删除，该状态就会自动消失，不存在内存泄漏风险。\n",
    "\n",
    "WeakMap 的另一个用处是部署私有属性。"
   ]
  },
  {
   "cell_type": "code",
   "execution_count": null,
   "id": "a941e062",
   "metadata": {
    "attributes": {
     "classes": [
      "javascript"
     ],
     "id": ""
    }
   },
   "outputs": [],
   "source": [
    "const _counter = new WeakMap();\n",
    "const _action = new WeakMap();\n",
    "\n",
    "class Countdown {\n",
    "  constructor(counter, action) {\n",
    "    _counter.set(this, counter);\n",
    "    _action.set(this, action);\n",
    "  }\n",
    "  dec() {\n",
    "    let counter = _counter.get(this);\n",
    "    if (counter < 1) return;\n",
    "    counter--;\n",
    "    _counter.set(this, counter);\n",
    "    if (counter === 0) {\n",
    "      _action.get(this)();\n",
    "    }\n",
    "  }\n",
    "}\n",
    "\n",
    "const c = new Countdown(2, () => console.log('DONE'));\n",
    "\n",
    "c.dec()\n",
    "c.dec()\n",
    "// DONE"
   ]
  },
  {
   "cell_type": "markdown",
   "id": "7b6a2c5e",
   "metadata": {},
   "source": [
    "上面代码中，`Countdown`类的两个内部属性`_counter`和`_action`，是实例的弱引用，所以如果删除实例，它们也就随之消失，不会造成内存泄漏。\n",
    "\n",
    "## WeakRef\n",
    "\n",
    "WeakSet 和 WeakMap 是基于弱引用的数据结构，[ES2021](https://github.com/tc39/proposal-weakrefs) 更进一步，提供了 WeakRef 对象，用于直接创建对象的弱引用。"
   ]
  },
  {
   "cell_type": "code",
   "execution_count": null,
   "id": "f232b0d2",
   "metadata": {
    "attributes": {
     "classes": [
      "javascript"
     ],
     "id": ""
    }
   },
   "outputs": [],
   "source": [
    "let target = {};\n",
    "let wr = new WeakRef(target);"
   ]
  },
  {
   "cell_type": "markdown",
   "id": "82fb3ebd",
   "metadata": {},
   "source": [
    "上面示例中，`target`是原始对象，构造函数`WeakRef()`创建了一个基于`target`的新对象`wr`。这里，`wr`就是一个 WeakRef 的实例，属于对`target`的弱引用，垃圾回收机制不会计入这个引用，也就是说，`wr`的引用不会妨碍原始对象`target`被垃圾回收机制清除。\n",
    "\n",
    "WeakRef 实例对象有一个`deref()`方法，如果原始对象存在，该方法返回原始对象；如果原始对象已经被垃圾回收机制清除，该方法返回`undefined`。"
   ]
  },
  {
   "cell_type": "code",
   "execution_count": null,
   "id": "2724de94",
   "metadata": {
    "attributes": {
     "classes": [
      "javascript"
     ],
     "id": ""
    }
   },
   "outputs": [],
   "source": [
    "let target = {};\n",
    "let wr = new WeakRef(target);\n",
    "\n",
    "let obj = wr.deref();\n",
    "if (obj) { // target 未被垃圾回收机制清除\n",
    "  // ...\n",
    "}"
   ]
  },
  {
   "cell_type": "markdown",
   "id": "182149ab",
   "metadata": {},
   "source": [
    "上面示例中，`deref()`方法可以判断原始对象是否已被清除。\n",
    "\n",
    "弱引用对象的一大用处，就是作为缓存，未被清除时可以从缓存取值，一旦清除缓存就自动失效。"
   ]
  },
  {
   "cell_type": "code",
   "execution_count": null,
   "id": "8fb70f35",
   "metadata": {
    "attributes": {
     "classes": [
      "javascript"
     ],
     "id": ""
    }
   },
   "outputs": [],
   "source": [
    "function makeWeakCached(f) {\n",
    "  const cache = new Map();\n",
    "  return key => {\n",
    "    const ref = cache.get(key);\n",
    "    if (ref) {\n",
    "      const cached = ref.deref();\n",
    "      if (cached !== undefined) return cached;\n",
    "    }\n",
    "\n",
    "    const fresh = f(key);\n",
    "    cache.set(key, new WeakRef(fresh));\n",
    "    return fresh;\n",
    "  };\n",
    "}\n",
    "\n",
    "const getImageCached = makeWeakCached(getImage);"
   ]
  },
  {
   "cell_type": "markdown",
   "id": "da754a23",
   "metadata": {},
   "source": [
    "上面示例中，`makeWeakCached()`用于建立一个缓存，缓存里面保存对原始文件的弱引用。\n",
    "\n",
    "注意，标准规定，一旦使用`WeakRef()`创建了原始对象的弱引用，那么在本轮事件循环（event loop），原始对象肯定不会被清除，只会在后面的事件循环才会被清除。\n",
    "\n",
    "## FinalizationRegistry\n",
    "\n",
    "[ES2021](https://github.com/tc39/proposal-weakrefs#finalizers) 引入了清理器注册表功能 FinalizationRegistry，用来指定目标对象被垃圾回收机制清除以后，所要执行的回调函数。\n",
    "\n",
    "首先，新建一个注册表实例。"
   ]
  },
  {
   "cell_type": "code",
   "execution_count": null,
   "id": "c121e55d",
   "metadata": {
    "attributes": {
     "classes": [
      "javascript"
     ],
     "id": ""
    }
   },
   "outputs": [],
   "source": [
    "const registry = new FinalizationRegistry(heldValue => {\n",
    "  // ....\n",
    "});"
   ]
  },
  {
   "cell_type": "markdown",
   "id": "508ee003",
   "metadata": {},
   "source": [
    "上面代码中，`FinalizationRegistry()`是系统提供的构造函数，返回一个清理器注册表实例，里面登记了所要执行的回调函数。回调函数作为`FinalizationRegistry()`的参数传入，它本身有一个参数`heldValue`。\n",
    "\n",
    "然后，注册表实例的`register()`方法，用来注册所要观察的目标对象。"
   ]
  },
  {
   "cell_type": "code",
   "execution_count": null,
   "id": "ab735780",
   "metadata": {
    "attributes": {
     "classes": [
      "javascript"
     ],
     "id": ""
    }
   },
   "outputs": [],
   "source": [
    "registry.register(theObject, \"some value\");"
   ]
  },
  {
   "cell_type": "markdown",
   "id": "b7658662",
   "metadata": {},
   "source": [
    "上面示例中，`theObject`就是所要观察的目标对象，一旦该对象被垃圾回收机制清除，注册表就会在清除完成后，调用早前注册的回调函数，并将`some value`作为参数（前面的`heldValue`）传入回调函数。\n",
    "\n",
    "注意，注册表不对目标对象`theObject`构成强引用，属于弱引用。因为强引用的话，原始对象就不会被垃圾回收机制清除，这就失去使用注册表的意义了。\n",
    "\n",
    "回调函数的参数`heldValue`可以是任意类型的值，字符串、数值、布尔值、对象，甚至可以是`undefined`。\n",
    "\n",
    "最后，如果以后还想取消已经注册的回调函数，则要向`register()`传入第三个参数，作为标记值。这个标记值必须是对象，一般都用原始对象。接着，再使用注册表实例对象的`unregister()`方法取消注册。"
   ]
  },
  {
   "cell_type": "code",
   "execution_count": null,
   "id": "299f3818",
   "metadata": {
    "attributes": {
     "classes": [
      "javascript"
     ],
     "id": ""
    }
   },
   "outputs": [],
   "source": [
    "registry.register(theObject, \"some value\", theObject);\n",
    "// ...其他操作...\n",
    "registry.unregister(theObject);"
   ]
  },
  {
   "cell_type": "markdown",
   "id": "da801d11",
   "metadata": {},
   "source": [
    "上面代码中，`register()`方法的第三个参数就是标记值`theObject`。取消回调函数时，要使用`unregister()`方法，并将标记值作为该方法的参数。这里`register()`方法对第三个参数的引用，也属于弱引用。如果没有这个参数，则回调函数无法取消。\n",
    "\n",
    "由于回调函数被调用以后，就不再存在于注册表之中了，所以执行`unregister()`应该是在回调函数还没被调用之前。\n",
    "\n",
    "下面使用`FinalizationRegistry`，对前一节的缓存函数进行增强。"
   ]
  },
  {
   "cell_type": "code",
   "execution_count": null,
   "id": "b36879b0",
   "metadata": {
    "attributes": {
     "classes": [
      "javascript"
     ],
     "id": ""
    }
   },
   "outputs": [],
   "source": [
    "function makeWeakCached(f) {\n",
    "  const cache = new Map();\n",
    "  const cleanup = new FinalizationRegistry(key => {\n",
    "    const ref = cache.get(key);\n",
    "    if (ref && !ref.deref()) cache.delete(key);\n",
    "  });\n",
    "\n",
    "  return key => {\n",
    "    const ref = cache.get(key);\n",
    "    if (ref) {\n",
    "      const cached = ref.deref();\n",
    "      if (cached !== undefined) return cached;\n",
    "    }\n",
    "\n",
    "    const fresh = f(key);\n",
    "    cache.set(key, new WeakRef(fresh));\n",
    "    cleanup.register(fresh, key);\n",
    "    return fresh;\n",
    "  };\n",
    "}\n",
    "\n",
    "const getImageCached = makeWeakCached(getImage);"
   ]
  },
  {
   "cell_type": "markdown",
   "id": "32bc55ee",
   "metadata": {},
   "source": [
    "上面示例与前一节的例子相比，就是增加一个清理器注册表，一旦缓存的原始对象被垃圾回收机制清除，会自动执行一个回调函数。该回调函数会清除缓存里面已经失效的键。\n",
    "\n",
    "下面是另一个例子。"
   ]
  },
  {
   "cell_type": "code",
   "execution_count": null,
   "id": "3d278bda",
   "metadata": {
    "attributes": {
     "classes": [
      "javascript"
     ],
     "id": ""
    }
   },
   "outputs": [],
   "source": [
    "class Thingy {\n",
    "  #file;\n",
    "  #cleanup = file => {\n",
    "    console.error(\n",
    "      `The \\`release\\` method was never called for the \\`Thingy\\` for the file \"${file.name}\"`\n",
    "    );\n",
    "  };\n",
    "  #registry = new FinalizationRegistry(this.#cleanup);\n",
    "\n",
    "  constructor(filename) {\n",
    "    this.#file = File.open(filename);\n",
    "    this.#registry.register(this, this.#file, this.#file);\n",
    "  }\n",
    "\n",
    "  release() {\n",
    "    if (this.#file) {\n",
    "      this.#registry.unregister(this.#file);\n",
    "      File.close(this.#file);\n",
    "      this.#file = null;\n",
    "    }\n",
    "  }\n",
    "}"
   ]
  },
  {
   "cell_type": "markdown",
   "id": "31bb0b2e",
   "metadata": {},
   "source": [
    "上面示例中，如果由于某种原因，`Thingy`类的实例对象没有调用`release()`方法，就被垃圾回收机制清除了，那么清理器就会调用回调函数`#cleanup()`，输出一条错误信息。\n",
    "\n",
    "由于无法知道清理器何时会执行，所以最好避免使用它。另外，如果浏览器窗口关闭或者进程意外退出，清理器则不会运行。"
   ]
  }
 ],
 "metadata": {},
 "nbformat": 4,
 "nbformat_minor": 5
}

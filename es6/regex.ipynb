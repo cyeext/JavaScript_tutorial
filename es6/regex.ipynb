{
 "cells": [
  {
   "cell_type": "markdown",
   "id": "325eee2c",
   "metadata": {},
   "source": [
    "# 正则的扩展\n",
    "\n",
    "## RegExp 构造函数\n",
    "\n",
    "在 ES5 中，`RegExp`构造函数的参数有两种情况。\n",
    "\n",
    "第一种情况是，参数是字符串，这时第二个参数表示正则表达式的修饰符（flag）。"
   ]
  },
  {
   "cell_type": "code",
   "execution_count": null,
   "id": "15516fca",
   "metadata": {
    "attributes": {
     "classes": [
      "javascript"
     ],
     "id": ""
    }
   },
   "outputs": [],
   "source": [
    "var regex = new RegExp('xyz', 'i');\n",
    "// 等价于\n",
    "var regex = /xyz/i;"
   ]
  },
  {
   "cell_type": "markdown",
   "id": "6418fe05",
   "metadata": {},
   "source": [
    "第二种情况是，参数是一个正则表示式，这时会返回一个原有正则表达式的拷贝。"
   ]
  },
  {
   "cell_type": "code",
   "execution_count": null,
   "id": "f59d42ae",
   "metadata": {
    "attributes": {
     "classes": [
      "javascript"
     ],
     "id": ""
    }
   },
   "outputs": [],
   "source": [
    "var regex = new RegExp(/xyz/i);\n",
    "// 等价于\n",
    "var regex = /xyz/i;"
   ]
  },
  {
   "cell_type": "markdown",
   "id": "d85d93af",
   "metadata": {},
   "source": [
    "但是，ES5 不允许此时使用第二个参数添加修饰符，否则会报错。"
   ]
  },
  {
   "cell_type": "code",
   "execution_count": null,
   "id": "955125b2",
   "metadata": {
    "attributes": {
     "classes": [
      "javascript"
     ],
     "id": ""
    }
   },
   "outputs": [],
   "source": [
    "var regex = new RegExp(/xyz/, 'i');\n",
    "// Uncaught TypeError: Cannot supply flags when constructing one RegExp from another"
   ]
  },
  {
   "cell_type": "markdown",
   "id": "dadb4f90",
   "metadata": {},
   "source": [
    "ES6 改变了这种行为。如果`RegExp`构造函数第一个参数是一个正则对象，那么可以使用第二个参数指定修饰符。而且，返回的正则表达式会忽略原有的正则表达式的修饰符，只使用新指定的修饰符。"
   ]
  },
  {
   "cell_type": "code",
   "execution_count": null,
   "id": "e8ce4c75",
   "metadata": {
    "attributes": {
     "classes": [
      "javascript"
     ],
     "id": ""
    }
   },
   "outputs": [],
   "source": [
    "new RegExp(/abc/ig, 'i').flags\n",
    "// \"i\""
   ]
  },
  {
   "cell_type": "markdown",
   "id": "6eba49cb",
   "metadata": {},
   "source": [
    "上面代码中，原有正则对象的修饰符是`ig`，它会被第二个参数`i`覆盖。\n",
    "\n",
    "## 字符串的正则方法\n",
    "\n",
    "ES6 出现之前，字符串对象共有 4 个方法，可以使用正则表达式：`match()`、`replace()`、`search()`和`split()`。\n",
    "\n",
    "ES6 将这 4 个方法，在语言内部全部调用`RegExp`的实例方法，从而做到所有与正则相关的方法，全都定义在`RegExp`对象上。\n",
    "\n",
    "- `String.prototype.match` 调用 `RegExp.prototype[Symbol.match]`\n",
    "- `String.prototype.replace` 调用 `RegExp.prototype[Symbol.replace]`\n",
    "- `String.prototype.search` 调用 `RegExp.prototype[Symbol.search]`\n",
    "- `String.prototype.split` 调用 `RegExp.prototype[Symbol.split]`\n",
    "\n",
    "## u 修饰符\n",
    "\n",
    "ES6 对正则表达式添加了`u`修饰符，含义为“Unicode 模式”，用来正确处理大于`\\uFFFF`的 Unicode 字符。也就是说，会正确处理四个字节的 UTF-16 编码。"
   ]
  },
  {
   "cell_type": "code",
   "execution_count": null,
   "id": "41681744",
   "metadata": {
    "attributes": {
     "classes": [
      "javascript"
     ],
     "id": ""
    }
   },
   "outputs": [],
   "source": [
    "/^\\uD83D/u.test('\\uD83D\\uDC2A') // false\n",
    "/^\\uD83D/.test('\\uD83D\\uDC2A') // true"
   ]
  },
  {
   "cell_type": "markdown",
   "id": "ecb8a7f5",
   "metadata": {},
   "source": [
    "上面代码中，`\\uD83D\\uDC2A`是一个四个字节的 UTF-16 编码，代表一个字符。但是，ES5 不支持四个字节的 UTF-16 编码，会将其识别为两个字符，导致第二行代码结果为`true`。加了`u`修饰符以后，ES6 就会识别其为一个字符，所以第一行代码结果为`false`。\n",
    "\n",
    "一旦加上`u`修饰符号，就会修改下面这些正则表达式的行为。\n",
    "\n",
    "**（1）点字符**\n",
    "\n",
    "点（`.`）字符在正则表达式中，含义是除了换行符以外的任意单个字符。对于码点大于`0xFFFF`的 Unicode 字符，点字符不能识别，必须加上`u`修饰符。"
   ]
  },
  {
   "cell_type": "code",
   "execution_count": null,
   "id": "be1c60ff",
   "metadata": {
    "attributes": {
     "classes": [
      "javascript"
     ],
     "id": ""
    }
   },
   "outputs": [],
   "source": [
    "var s = '𠮷';\n",
    "\n",
    "/^.$/.test(s) // false\n",
    "/^.$/u.test(s) // true"
   ]
  },
  {
   "cell_type": "markdown",
   "id": "3bb881c8",
   "metadata": {},
   "source": [
    "上面代码表示，如果不添加`u`修饰符，正则表达式就会认为字符串为两个字符，从而匹配失败。\n",
    "\n",
    "**（2）Unicode 字符表示法**\n",
    "\n",
    "ES6 新增了使用大括号表示 Unicode 字符，这种表示法在正则表达式中必须加上`u`修饰符，才能识别当中的大括号，否则会被解读为量词。"
   ]
  },
  {
   "cell_type": "code",
   "execution_count": null,
   "id": "2855bc89",
   "metadata": {
    "attributes": {
     "classes": [
      "javascript"
     ],
     "id": ""
    }
   },
   "outputs": [],
   "source": [
    "/\\u{61}/.test('a') // false\n",
    "/\\u{61}/u.test('a') // true\n",
    "/\\u{20BB7}/u.test('𠮷') // true"
   ]
  },
  {
   "cell_type": "markdown",
   "id": "7f9bbbb5",
   "metadata": {},
   "source": [
    "上面代码表示，如果不加`u`修饰符，正则表达式无法识别`\\u{61}`这种表示法，只会认为这匹配 61 个连续的`u`。\n",
    "\n",
    "**（3）量词**\n",
    "\n",
    "使用`u`修饰符后，所有量词都会正确识别码点大于`0xFFFF`的 Unicode 字符。"
   ]
  },
  {
   "cell_type": "code",
   "execution_count": null,
   "id": "14b9dafc",
   "metadata": {
    "attributes": {
     "classes": [
      "javascript"
     ],
     "id": ""
    }
   },
   "outputs": [],
   "source": [
    "/a{2}/.test('aa') // true\n",
    "/a{2}/u.test('aa') // true\n",
    "/𠮷{2}/.test('𠮷𠮷') // false\n",
    "/𠮷{2}/u.test('𠮷𠮷') // true"
   ]
  },
  {
   "cell_type": "markdown",
   "id": "4ecadf90",
   "metadata": {},
   "source": [
    "**（4）预定义模式**\n",
    "\n",
    "`u`修饰符也影响到预定义模式，能否正确识别码点大于`0xFFFF`的 Unicode 字符。"
   ]
  },
  {
   "cell_type": "code",
   "execution_count": null,
   "id": "8764ed46",
   "metadata": {
    "attributes": {
     "classes": [
      "javascript"
     ],
     "id": ""
    }
   },
   "outputs": [],
   "source": [
    "/^\\S$/.test('𠮷') // false\n",
    "/^\\S$/u.test('𠮷') // true"
   ]
  },
  {
   "cell_type": "markdown",
   "id": "4a229fc2",
   "metadata": {},
   "source": [
    "上面代码的`\\S`是预定义模式，匹配所有非空白字符。只有加了`u`修饰符，它才能正确匹配码点大于`0xFFFF`的 Unicode 字符。\n",
    "\n",
    "利用这一点，可以写出一个正确返回字符串长度的函数。"
   ]
  },
  {
   "cell_type": "code",
   "execution_count": null,
   "id": "c42b27eb",
   "metadata": {
    "attributes": {
     "classes": [
      "javascript"
     ],
     "id": ""
    }
   },
   "outputs": [],
   "source": [
    "function codePointLength(text) {\n",
    "  var result = text.match(/[\\s\\S]/gu);\n",
    "  return result ? result.length : 0;\n",
    "}\n",
    "\n",
    "var s = '𠮷𠮷';\n",
    "\n",
    "s.length // 4\n",
    "codePointLength(s) // 2"
   ]
  },
  {
   "cell_type": "markdown",
   "id": "bdf203ef",
   "metadata": {},
   "source": [
    "**（5）i 修饰符**\n",
    "\n",
    "有些 Unicode 字符的编码不同，但是字型很相近，比如，`\\u004B`与`\\u212A`都是大写的`K`。"
   ]
  },
  {
   "cell_type": "code",
   "execution_count": null,
   "id": "aaee4d54",
   "metadata": {
    "attributes": {
     "classes": [
      "javascript"
     ],
     "id": ""
    }
   },
   "outputs": [],
   "source": [
    "/[a-z]/i.test('\\u212A') // false\n",
    "/[a-z]/iu.test('\\u212A') // true"
   ]
  },
  {
   "cell_type": "markdown",
   "id": "d57c2839",
   "metadata": {},
   "source": [
    "上面代码中，不加`u`修饰符，就无法识别非规范的`K`字符。\n",
    "\n",
    "**（6）转义**\n",
    "\n",
    "没有`u`修饰符的情况下，正则中没有定义的转义（如逗号的转义`\\,`）无效，而在`u`模式会报错。"
   ]
  },
  {
   "cell_type": "code",
   "execution_count": null,
   "id": "dc0a18b5",
   "metadata": {
    "attributes": {
     "classes": [
      "javascript"
     ],
     "id": ""
    }
   },
   "outputs": [],
   "source": [
    "/\\,/ // /\\,/\n",
    "/\\,/u // 报错"
   ]
  },
  {
   "cell_type": "markdown",
   "id": "66f50f4c",
   "metadata": {},
   "source": [
    "上面代码中，没有`u`修饰符时，逗号前面的反斜杠是无效的，加了`u`修饰符就报错。\n",
    "\n",
    "## RegExp.prototype.unicode 属性\n",
    "\n",
    "正则实例对象新增`unicode`属性，表示是否设置了`u`修饰符。"
   ]
  },
  {
   "cell_type": "code",
   "execution_count": null,
   "id": "3f81d58d",
   "metadata": {
    "attributes": {
     "classes": [
      "javascript"
     ],
     "id": ""
    }
   },
   "outputs": [],
   "source": [
    "const r1 = /hello/;\n",
    "const r2 = /hello/u;\n",
    "\n",
    "r1.unicode // false\n",
    "r2.unicode // true"
   ]
  },
  {
   "cell_type": "markdown",
   "id": "bc18b051",
   "metadata": {},
   "source": [
    "上面代码中，正则表达式是否设置了`u`修饰符，可以从`unicode`属性看出来。\n",
    "\n",
    "## y 修饰符\n",
    "\n",
    "除了`u`修饰符，ES6 还为正则表达式添加了`y`修饰符，叫做“粘连”（sticky）修饰符。\n",
    "\n",
    "`y`修饰符的作用与`g`修饰符类似，也是全局匹配，后一次匹配都从上一次匹配成功的下一个位置开始。不同之处在于，`g`修饰符只要剩余位置中存在匹配就可，而`y`修饰符确保匹配必须从剩余的第一个位置开始，这也就是“粘连”的涵义。"
   ]
  },
  {
   "cell_type": "code",
   "execution_count": null,
   "id": "2ad04d34",
   "metadata": {
    "attributes": {
     "classes": [
      "javascript"
     ],
     "id": ""
    }
   },
   "outputs": [],
   "source": [
    "var s = 'aaa_aa_a';\n",
    "var r1 = /a+/g;\n",
    "var r2 = /a+/y;\n",
    "\n",
    "r1.exec(s) // [\"aaa\"]\n",
    "r2.exec(s) // [\"aaa\"]\n",
    "\n",
    "r1.exec(s) // [\"aa\"]\n",
    "r2.exec(s) // null"
   ]
  },
  {
   "cell_type": "markdown",
   "id": "b38e4125",
   "metadata": {},
   "source": [
    "上面代码有两个正则表达式，一个使用`g`修饰符，另一个使用`y`修饰符。这两个正则表达式各执行了两次，第一次执行的时候，两者行为相同，剩余字符串都是`_aa_a`。由于`g`修饰没有位置要求，所以第二次执行会返回结果，而`y`修饰符要求匹配必须从头部开始，所以返回`null`。\n",
    "\n",
    "如果改一下正则表达式，保证每次都能头部匹配，`y`修饰符就会返回结果了。"
   ]
  },
  {
   "cell_type": "code",
   "execution_count": null,
   "id": "c2b16c8a",
   "metadata": {
    "attributes": {
     "classes": [
      "javascript"
     ],
     "id": ""
    }
   },
   "outputs": [],
   "source": [
    "var s = 'aaa_aa_a';\n",
    "var r = /a+_/y;\n",
    "\n",
    "r.exec(s) // [\"aaa_\"]\n",
    "r.exec(s) // [\"aa_\"]"
   ]
  },
  {
   "cell_type": "markdown",
   "id": "80405be7",
   "metadata": {},
   "source": [
    "上面代码每次匹配，都是从剩余字符串的头部开始。\n",
    "\n",
    "使用`lastIndex`属性，可以更好地说明`y`修饰符。"
   ]
  },
  {
   "cell_type": "code",
   "execution_count": null,
   "id": "6c4ec0fd",
   "metadata": {
    "attributes": {
     "classes": [
      "javascript"
     ],
     "id": ""
    }
   },
   "outputs": [],
   "source": [
    "const REGEX = /a/g;\n",
    "\n",
    "// 指定从2号位置（y）开始匹配\n",
    "REGEX.lastIndex = 2;\n",
    "\n",
    "// 匹配成功\n",
    "const match = REGEX.exec('xaya');\n",
    "\n",
    "// 在3号位置匹配成功\n",
    "match.index // 3\n",
    "\n",
    "// 下一次匹配从4号位开始\n",
    "REGEX.lastIndex // 4\n",
    "\n",
    "// 4号位开始匹配失败\n",
    "REGEX.exec('xaya') // null"
   ]
  },
  {
   "cell_type": "markdown",
   "id": "682a36de",
   "metadata": {},
   "source": [
    "上面代码中，`lastIndex`属性指定每次搜索的开始位置，`g`修饰符从这个位置开始向后搜索，直到发现匹配为止。\n",
    "\n",
    "`y`修饰符同样遵守`lastIndex`属性，但是要求必须在`lastIndex`指定的位置发现匹配。"
   ]
  },
  {
   "cell_type": "code",
   "execution_count": null,
   "id": "d52ac6a0",
   "metadata": {
    "attributes": {
     "classes": [
      "javascript"
     ],
     "id": ""
    }
   },
   "outputs": [],
   "source": [
    "const REGEX = /a/y;\n",
    "\n",
    "// 指定从2号位置开始匹配\n",
    "REGEX.lastIndex = 2;\n",
    "\n",
    "// 不是粘连，匹配失败\n",
    "REGEX.exec('xaya') // null\n",
    "\n",
    "// 指定从3号位置开始匹配\n",
    "REGEX.lastIndex = 3;\n",
    "\n",
    "// 3号位置是粘连，匹配成功\n",
    "const match = REGEX.exec('xaya');\n",
    "match.index // 3\n",
    "REGEX.lastIndex // 4"
   ]
  },
  {
   "cell_type": "markdown",
   "id": "54e73b2a",
   "metadata": {},
   "source": [
    "实际上，`y`修饰符号隐含了头部匹配的标志`^`。"
   ]
  },
  {
   "cell_type": "code",
   "execution_count": null,
   "id": "a6ea5783",
   "metadata": {
    "attributes": {
     "classes": [
      "javascript"
     ],
     "id": ""
    }
   },
   "outputs": [],
   "source": [
    "/b/y.exec('aba')\n",
    "// null"
   ]
  },
  {
   "cell_type": "markdown",
   "id": "05a86e5e",
   "metadata": {},
   "source": [
    "上面代码由于不能保证头部匹配，所以返回`null`。`y`修饰符的设计本意，就是让头部匹配的标志`^`在全局匹配中都有效。\n",
    "\n",
    "下面是字符串对象的`replace`方法的例子。"
   ]
  },
  {
   "cell_type": "code",
   "execution_count": null,
   "id": "731b7e4f",
   "metadata": {
    "attributes": {
     "classes": [
      "javascript"
     ],
     "id": ""
    }
   },
   "outputs": [],
   "source": [
    "const REGEX = /a/gy;\n",
    "'aaxa'.replace(REGEX, '-') // '--xa'"
   ]
  },
  {
   "cell_type": "markdown",
   "id": "7679f005",
   "metadata": {},
   "source": [
    "上面代码中，最后一个`a`因为不是出现在下一次匹配的头部，所以不会被替换。\n",
    "\n",
    "单单一个`y`修饰符对`match`方法，只能返回第一个匹配，必须与`g`修饰符联用，才能返回所有匹配。"
   ]
  },
  {
   "cell_type": "code",
   "execution_count": null,
   "id": "8d3434e2",
   "metadata": {
    "attributes": {
     "classes": [
      "javascript"
     ],
     "id": ""
    }
   },
   "outputs": [],
   "source": [
    "'a1a2a3'.match(/a\\d/y) // [\"a1\"]\n",
    "'a1a2a3'.match(/a\\d/gy) // [\"a1\", \"a2\", \"a3\"]"
   ]
  },
  {
   "cell_type": "markdown",
   "id": "3acef3dd",
   "metadata": {},
   "source": [
    "`y`修饰符的一个应用，是从字符串提取 token（词元），`y`修饰符确保了匹配之间不会有漏掉的字符。"
   ]
  },
  {
   "cell_type": "code",
   "execution_count": null,
   "id": "f45aa84d",
   "metadata": {
    "attributes": {
     "classes": [
      "javascript"
     ],
     "id": ""
    }
   },
   "outputs": [],
   "source": [
    "const TOKEN_Y = /\\s*(\\+|[0-9]+)\\s*/y;\n",
    "const TOKEN_G  = /\\s*(\\+|[0-9]+)\\s*/g;\n",
    "\n",
    "tokenize(TOKEN_Y, '3 + 4')\n",
    "// [ '3', '+', '4' ]\n",
    "tokenize(TOKEN_G, '3 + 4')\n",
    "// [ '3', '+', '4' ]\n",
    "\n",
    "function tokenize(TOKEN_REGEX, str) {\n",
    "  let result = [];\n",
    "  let match;\n",
    "  while (match = TOKEN_REGEX.exec(str)) {\n",
    "    result.push(match[1]);\n",
    "  }\n",
    "  return result;\n",
    "}"
   ]
  },
  {
   "cell_type": "markdown",
   "id": "72baee82",
   "metadata": {},
   "source": [
    "上面代码中，如果字符串里面没有非法字符，`y`修饰符与`g`修饰符的提取结果是一样的。但是，一旦出现非法字符，两者的行为就不一样了。"
   ]
  },
  {
   "cell_type": "code",
   "execution_count": null,
   "id": "5aa465ea",
   "metadata": {
    "attributes": {
     "classes": [
      "javascript"
     ],
     "id": ""
    }
   },
   "outputs": [],
   "source": [
    "tokenize(TOKEN_Y, '3x + 4')\n",
    "// [ '3' ]\n",
    "tokenize(TOKEN_G, '3x + 4')\n",
    "// [ '3', '+', '4' ]"
   ]
  },
  {
   "cell_type": "markdown",
   "id": "1aad9616",
   "metadata": {},
   "source": [
    "上面代码中，`g`修饰符会忽略非法字符，而`y`修饰符不会，这样就很容易发现错误。\n",
    "\n",
    "## RegExp.prototype.sticky 属性\n",
    "\n",
    "与`y`修饰符相匹配，ES6 的正则实例对象多了`sticky`属性，表示是否设置了`y`修饰符。"
   ]
  },
  {
   "cell_type": "code",
   "execution_count": null,
   "id": "74751814",
   "metadata": {
    "attributes": {
     "classes": [
      "javascript"
     ],
     "id": ""
    }
   },
   "outputs": [],
   "source": [
    "var r = /hello\\d/y;\n",
    "r.sticky // true"
   ]
  },
  {
   "cell_type": "markdown",
   "id": "d7ed6fa6",
   "metadata": {},
   "source": [
    "## RegExp.prototype.flags 属性\n",
    "\n",
    "ES6 为正则表达式新增了`flags`属性，会返回正则表达式的修饰符。"
   ]
  },
  {
   "cell_type": "code",
   "execution_count": null,
   "id": "d63baa8a",
   "metadata": {
    "attributes": {
     "classes": [
      "javascript"
     ],
     "id": ""
    }
   },
   "outputs": [],
   "source": [
    "// ES5 的 source 属性\n",
    "// 返回正则表达式的正文\n",
    "/abc/ig.source\n",
    "// \"abc\"\n",
    "\n",
    "// ES6 的 flags 属性\n",
    "// 返回正则表达式的修饰符\n",
    "/abc/ig.flags\n",
    "// 'gi'"
   ]
  },
  {
   "cell_type": "markdown",
   "id": "106c6945",
   "metadata": {},
   "source": [
    "## s 修饰符：dotAll 模式\n",
    "\n",
    "正则表达式中，点（`.`）是一个特殊字符，代表任意的单个字符，但是有两个例外。一个是四个字节的 UTF-16 字符，这个可以用`u`修饰符解决；另一个是行终止符（line terminator character）。\n",
    "\n",
    "所谓行终止符，就是该字符表示一行的终结。以下四个字符属于“行终止符”。\n",
    "\n",
    "- U+000A 换行符（`\\n`）\n",
    "- U+000D 回车符（`\\r`）\n",
    "- U+2028 行分隔符（line separator）\n",
    "- U+2029 段分隔符（paragraph separator）"
   ]
  },
  {
   "cell_type": "code",
   "execution_count": null,
   "id": "0e084855",
   "metadata": {
    "attributes": {
     "classes": [
      "javascript"
     ],
     "id": ""
    }
   },
   "outputs": [],
   "source": [
    "/foo.bar/.test('foo\\nbar')\n",
    "// false"
   ]
  },
  {
   "cell_type": "markdown",
   "id": "2ccc5ddf",
   "metadata": {},
   "source": [
    "上面代码中，因为`.`不匹配`\\n`，所以正则表达式返回`false`。\n",
    "\n",
    "但是，很多时候我们希望匹配的是任意单个字符，这时有一种变通的写法。"
   ]
  },
  {
   "cell_type": "code",
   "execution_count": null,
   "id": "7cba7a94",
   "metadata": {
    "attributes": {
     "classes": [
      "javascript"
     ],
     "id": ""
    }
   },
   "outputs": [],
   "source": [
    "/foo[^]bar/.test('foo\\nbar')\n",
    "// true"
   ]
  },
  {
   "cell_type": "markdown",
   "id": "dd0b7471",
   "metadata": {},
   "source": [
    "这种解决方案毕竟不太符合直觉，ES2018 [引入](https://github.com/tc39/proposal-regexp-dotall-flag)`s`修饰符，使得`.`可以匹配任意单个字符。"
   ]
  },
  {
   "cell_type": "code",
   "execution_count": null,
   "id": "e2520e1c",
   "metadata": {
    "attributes": {
     "classes": [
      "javascript"
     ],
     "id": ""
    }
   },
   "outputs": [],
   "source": [
    "/foo.bar/s.test('foo\\nbar') // true"
   ]
  },
  {
   "cell_type": "markdown",
   "id": "a00fad16",
   "metadata": {},
   "source": [
    "这被称为`dotAll`模式，即点（dot）代表一切字符。所以，正则表达式还引入了一个`dotAll`属性，返回一个布尔值，表示该正则表达式是否处在`dotAll`模式。"
   ]
  },
  {
   "cell_type": "code",
   "execution_count": null,
   "id": "70eed3aa",
   "metadata": {
    "attributes": {
     "classes": [
      "javascript"
     ],
     "id": ""
    }
   },
   "outputs": [],
   "source": [
    "const re = /foo.bar/s;\n",
    "// 另一种写法\n",
    "// const re = new RegExp('foo.bar', 's');\n",
    "\n",
    "re.test('foo\\nbar') // true\n",
    "re.dotAll // true\n",
    "re.flags // 's'"
   ]
  },
  {
   "cell_type": "markdown",
   "id": "03052474",
   "metadata": {},
   "source": [
    "`/s`修饰符和多行修饰符`/m`不冲突，两者一起使用的情况下，`.`匹配所有字符，而`^`和`$`匹配每一行的行首和行尾。\n",
    "\n",
    "## 后行断言\n",
    "\n",
    "JavaScript 语言的正则表达式，只支持先行断言（lookahead）和先行否定断言（negative lookahead），不支持后行断言（lookbehind）和后行否定断言（negative lookbehind）。ES2018 引入[后行断言](https://github.com/tc39/proposal-regexp-lookbehind)，V8 引擎 4.9 版（Chrome 62）已经支持。\n",
    "\n",
    "“先行断言”指的是，`x`只有在`y`前面才匹配，必须写成`/x(?=y)/`。比如，只匹配百分号之前的数字，要写成`/\\d+(?=%)/`。“先行否定断言”指的是，`x`只有不在`y`前面才匹配，必须写成`/x(?!y)/`。比如，只匹配不在百分号之前的数字，要写成`/\\d+(?!%)/`。"
   ]
  },
  {
   "cell_type": "code",
   "execution_count": null,
   "id": "b293ca39",
   "metadata": {
    "attributes": {
     "classes": [
      "javascript"
     ],
     "id": ""
    }
   },
   "outputs": [],
   "source": [
    "/\\d+(?=%)/.exec('100% of US presidents have been male')  // [\"100\"]\n",
    "/\\d+(?!%)/.exec('that’s all 44 of them')                 // [\"44\"]"
   ]
  },
  {
   "cell_type": "markdown",
   "id": "dc338ff2",
   "metadata": {},
   "source": [
    "上面两个字符串，如果互换正则表达式，就不会得到相同结果。另外，还可以看到，“先行断言”括号之中的部分（`(?=%)`），是不计入返回结果的。\n",
    "\n",
    "“后行断言”正好与“先行断言”相反，`x`只有在`y`后面才匹配，必须写成`/(?<=y)x/`。比如，只匹配美元符号之后的数字，要写成`/(?<=\\$)\\d+/`。“后行否定断言”则与“先行否定断言”相反，`x`只有不在`y`后面才匹配，必须写成`/(?<!y)x/`。比如，只匹配不在美元符号后面的数字，要写成`/(?<!\\$)\\d+/`。"
   ]
  },
  {
   "cell_type": "code",
   "execution_count": null,
   "id": "cf862497",
   "metadata": {
    "attributes": {
     "classes": [
      "javascript"
     ],
     "id": ""
    }
   },
   "outputs": [],
   "source": [
    "/(?<=\\$)\\d+/.exec('Benjamin Franklin is on the $100 bill')  // [\"100\"]\n",
    "/(?<!\\$)\\d+/.exec('it’s is worth about €90')                // [\"90\"]"
   ]
  },
  {
   "cell_type": "markdown",
   "id": "8b4d2008",
   "metadata": {},
   "source": [
    "上面的例子中，“后行断言”的括号之中的部分（`(?<=\\$)`），也是不计入返回结果。\n",
    "\n",
    "下面的例子是使用后行断言进行字符串替换。"
   ]
  },
  {
   "cell_type": "code",
   "execution_count": null,
   "id": "bb4d3106",
   "metadata": {
    "attributes": {
     "classes": [
      "javascript"
     ],
     "id": ""
    }
   },
   "outputs": [],
   "source": [
    "const RE_DOLLAR_PREFIX = /(?<=\\$)foo/g;\n",
    "'$foo %foo foo'.replace(RE_DOLLAR_PREFIX, 'bar');\n",
    "// '$bar %foo foo'"
   ]
  },
  {
   "cell_type": "markdown",
   "id": "902b2ecd",
   "metadata": {},
   "source": [
    "上面代码中，只有在美元符号后面的`foo`才会被替换。\n",
    "\n",
    "“后行断言”的实现，需要先匹配`/(?<=y)x/`的`x`，然后再回到左边，匹配`y`的部分。这种“先右后左”的执行顺序，与所有其他正则操作相反，导致了一些不符合预期的行为。\n",
    "\n",
    "首先，后行断言的组匹配，与正常情况下结果是不一样的。"
   ]
  },
  {
   "cell_type": "code",
   "execution_count": null,
   "id": "fc3f2997",
   "metadata": {
    "attributes": {
     "classes": [
      "javascript"
     ],
     "id": ""
    }
   },
   "outputs": [],
   "source": [
    "/(?<=(\\d+)(\\d+))$/.exec('1053') // [\"\", \"1\", \"053\"]\n",
    "/^(\\d+)(\\d+)$/.exec('1053') // [\"1053\", \"105\", \"3\"]"
   ]
  },
  {
   "cell_type": "markdown",
   "id": "71008d6f",
   "metadata": {},
   "source": [
    "上面代码中，需要捕捉两个组匹配。没有“后行断言”时，第一个括号是贪婪模式，第二个括号只能捕获一个字符，所以结果是`105`和`3`。而“后行断言”时，由于执行顺序是从右到左，第二个括号是贪婪模式，第一个括号只能捕获一个字符，所以结果是`1`和`053`。\n",
    "\n",
    "其次，“后行断言”的反斜杠引用，也与通常的顺序相反，必须放在对应的那个括号之前。"
   ]
  },
  {
   "cell_type": "code",
   "execution_count": null,
   "id": "26ecdb68",
   "metadata": {
    "attributes": {
     "classes": [
      "javascript"
     ],
     "id": ""
    }
   },
   "outputs": [],
   "source": [
    "/(?<=(o)d\\1)r/.exec('hodor')  // null\n",
    "/(?<=\\1d(o))r/.exec('hodor')  // [\"r\", \"o\"]"
   ]
  },
  {
   "cell_type": "markdown",
   "id": "5fb07b36",
   "metadata": {},
   "source": [
    "上面代码中，如果后行断言的反斜杠引用（`\\1`）放在括号的后面，就不会得到匹配结果，必须放在前面才可以。因为后行断言是先从左到右扫描，发现匹配以后再回过头，从右到左完成反斜杠引用。\n",
    "\n",
    "## Unicode 属性类\n",
    "\n",
    "ES2018 [引入](https://github.com/tc39/proposal-regexp-unicode-property-escapes)了 Unicode 属性类，允许使用`\\p{...}`和`\\P{...}`（`\\P`是`\\p`的否定形式）代表一类 Unicode 字符，匹配满足条件的所有字符。"
   ]
  },
  {
   "cell_type": "code",
   "execution_count": null,
   "id": "3e2dfa82",
   "metadata": {
    "attributes": {
     "classes": [
      "javascript"
     ],
     "id": ""
    }
   },
   "outputs": [],
   "source": [
    "const regexGreekSymbol = /\\p{Script=Greek}/u;\n",
    "regexGreekSymbol.test('π') // true"
   ]
  },
  {
   "cell_type": "markdown",
   "id": "e16b27cf",
   "metadata": {},
   "source": [
    "上面代码中，`\\p{Script=Greek}`表示匹配一个希腊文字母，所以匹配`π`成功。\n",
    "\n",
    "Unicode 属性类的标准形式，需要同时指定属性名和属性值。"
   ]
  },
  {
   "cell_type": "code",
   "execution_count": null,
   "id": "e5a87ee2",
   "metadata": {
    "attributes": {
     "classes": [
      "javascript"
     ],
     "id": ""
    }
   },
   "outputs": [],
   "source": [
    "\\p{UnicodePropertyName=UnicodePropertyValue}"
   ]
  },
  {
   "cell_type": "markdown",
   "id": "ed9e78cc",
   "metadata": {},
   "source": [
    "但是，对于某些属性，可以只写属性名，或者只写属性值。"
   ]
  },
  {
   "cell_type": "code",
   "execution_count": null,
   "id": "24e6a111",
   "metadata": {
    "attributes": {
     "classes": [
      "javascript"
     ],
     "id": ""
    }
   },
   "outputs": [],
   "source": [
    "\\p{UnicodePropertyName}\n",
    "\\p{UnicodePropertyValue}"
   ]
  },
  {
   "cell_type": "markdown",
   "id": "b2d1117b",
   "metadata": {},
   "source": [
    "`\\P{…}`是`\\p{…}`的反向匹配，即匹配不满足条件的字符。\n",
    "\n",
    "注意，这两种类只对 Unicode 有效，所以使用的时候一定要加上`u`修饰符。如果不加`u`修饰符，正则表达式使用`\\p`和`\\P`会报错。\n",
    "\n",
    "由于 Unicode 的各种属性非常多，所以这种新的类的表达能力非常强。"
   ]
  },
  {
   "cell_type": "code",
   "execution_count": null,
   "id": "47fa29a0",
   "metadata": {
    "attributes": {
     "classes": [
      "javascript"
     ],
     "id": ""
    }
   },
   "outputs": [],
   "source": [
    "const regex = /^\\p{Decimal_Number}+$/u;\n",
    "regex.test('𝟏𝟐𝟑𝟜𝟝𝟞𝟩𝟪𝟫𝟬𝟭𝟮𝟯𝟺𝟻𝟼') // true"
   ]
  },
  {
   "cell_type": "markdown",
   "id": "1d18c0c1",
   "metadata": {},
   "source": [
    "上面代码中，属性类指定匹配所有十进制字符，可以看到各种字型的十进制字符都会匹配成功。\n",
    "\n",
    "`\\p{Number}`甚至能匹配罗马数字。"
   ]
  },
  {
   "cell_type": "code",
   "execution_count": null,
   "id": "723f5e24",
   "metadata": {
    "attributes": {
     "classes": [
      "javascript"
     ],
     "id": ""
    }
   },
   "outputs": [],
   "source": [
    "// 匹配所有数字\n",
    "const regex = /^\\p{Number}+$/u;\n",
    "regex.test('²³¹¼½¾') // true\n",
    "regex.test('㉛㉜㉝') // true\n",
    "regex.test('ⅠⅡⅢⅣⅤⅥⅦⅧⅨⅩⅪⅫ') // true"
   ]
  },
  {
   "cell_type": "markdown",
   "id": "94f1ec8f",
   "metadata": {},
   "source": [
    "下面是其他一些例子。"
   ]
  },
  {
   "cell_type": "code",
   "execution_count": null,
   "id": "03b4cd87",
   "metadata": {
    "attributes": {
     "classes": [
      "javascript"
     ],
     "id": ""
    }
   },
   "outputs": [],
   "source": [
    "// 匹配所有空格\n",
    "\\p{White_Space}\n",
    "\n",
    "// 匹配各种文字的所有字母，等同于 Unicode 版的 \\w\n",
    "[\\p{Alphabetic}\\p{Mark}\\p{Decimal_Number}\\p{Connector_Punctuation}\\p{Join_Control}]\n",
    "\n",
    "// 匹配各种文字的所有非字母的字符，等同于 Unicode 版的 \\W\n",
    "[^\\p{Alphabetic}\\p{Mark}\\p{Decimal_Number}\\p{Connector_Punctuation}\\p{Join_Control}]\n",
    "\n",
    "// 匹配 Emoji\n",
    "/\\p{Emoji_Modifier_Base}\\p{Emoji_Modifier}?|\\p{Emoji_Presentation}|\\p{Emoji}\\uFE0F/gu\n",
    "\n",
    "// 匹配所有的箭头字符\n",
    "const regexArrows = /^\\p{Block=Arrows}+$/u;\n",
    "regexArrows.test('←↑→↓↔↕↖↗↘↙⇏⇐⇑⇒⇓⇔⇕⇖⇗⇘⇙⇧⇩') // true"
   ]
  },
  {
   "cell_type": "markdown",
   "id": "88544f5d",
   "metadata": {},
   "source": [
    "## v 修饰符：Unicode 属性类的运算\n",
    "\n",
    "有时，需要向某个 Unicode 属性类添加或减少字符，即需要对属性类进行运算。现在有一个[提案](https://github.com/tc39/proposal-regexp-v-flag)，增加了 Unicode 属性类的运算功能。\n",
    "\n",
    "它提供两种形式的运算，一种是差集运算（A 集合减去 B 集合），另一种是交集运算。"
   ]
  },
  {
   "cell_type": "code",
   "execution_count": null,
   "id": "ebe64c73",
   "metadata": {
    "attributes": {
     "classes": [
      "javascript"
     ],
     "id": ""
    }
   },
   "outputs": [],
   "source": [
    "// 差集运算（A 减去 B）\n",
    "[A--B]\n",
    "\n",
    "// 交集运算（A 与 B 的交集）\n",
    "[A&&B]"
   ]
  },
  {
   "cell_type": "markdown",
   "id": "f977c289",
   "metadata": {},
   "source": [
    "上面两种写法中，A 和 B 要么是字符类（例如`[a-z]`），要么是 Unicode 属性类（例如`\\p{ASCII}`）。\n",
    "\n",
    "而且，这种运算支持方括号之中嵌入方括号，即方括号的嵌套。"
   ]
  },
  {
   "cell_type": "code",
   "execution_count": null,
   "id": "6c2373ea",
   "metadata": {
    "attributes": {
     "classes": [
      "javascript"
     ],
     "id": ""
    }
   },
   "outputs": [],
   "source": [
    "// 方括号嵌套的例子\n",
    "[A--[0-9]]"
   ]
  },
  {
   "cell_type": "markdown",
   "id": "75535d12",
   "metadata": {},
   "source": [
    "这种运算的前提是，正则表达式必须使用新引入的`v`修饰符。前面说过，Unicode 属性类必须搭配`u`修饰符使用，这个`v`修饰符等于代替`u`，使用了它就不必再写`u`了。\n",
    "\n",
    "下面是一些例子。"
   ]
  },
  {
   "cell_type": "code",
   "execution_count": null,
   "id": "64bef436",
   "metadata": {
    "attributes": {
     "classes": [
      "javascript"
     ],
     "id": ""
    }
   },
   "outputs": [],
   "source": [
    "// 十进制字符去除 ASCII 码的0到9\n",
    "[\\p{Decimal_Number}--[0-9]]\n",
    "\n",
    "// Emoji 字符去除 ASCII 码字符\n",
    "[\\p{Emoji}--\\p{ASCII}]"
   ]
  },
  {
   "cell_type": "markdown",
   "id": "dae33ca6",
   "metadata": {},
   "source": [
    "## 具名组匹配\n",
    "\n",
    "### 简介\n",
    "\n",
    "正则表达式使用圆括号进行组匹配。"
   ]
  },
  {
   "cell_type": "code",
   "execution_count": null,
   "id": "9ced49ed",
   "metadata": {
    "attributes": {
     "classes": [
      "javascript"
     ],
     "id": ""
    }
   },
   "outputs": [],
   "source": [
    "const RE_DATE = /(\\d{4})-(\\d{2})-(\\d{2})/;"
   ]
  },
  {
   "cell_type": "markdown",
   "id": "a640fc5a",
   "metadata": {},
   "source": [
    "上面代码中，正则表达式里面有三组圆括号。使用`exec`方法，就可以将这三组匹配结果提取出来。"
   ]
  },
  {
   "cell_type": "code",
   "execution_count": null,
   "id": "01b88682",
   "metadata": {
    "attributes": {
     "classes": [
      "javascript"
     ],
     "id": ""
    }
   },
   "outputs": [],
   "source": [
    "const RE_DATE = /(\\d{4})-(\\d{2})-(\\d{2})/;\n",
    "\n",
    "const matchObj = RE_DATE.exec('1999-12-31');\n",
    "const year = matchObj[1]; // 1999\n",
    "const month = matchObj[2]; // 12\n",
    "const day = matchObj[3]; // 31"
   ]
  },
  {
   "cell_type": "markdown",
   "id": "717d7759",
   "metadata": {},
   "source": [
    "组匹配的一个问题是，每一组的匹配含义不容易看出来，而且只能用数字序号（比如`matchObj[1]`）引用，要是组的顺序变了，引用的时候就必须修改序号。\n",
    "\n",
    "ES2018 引入了[具名组匹配](https://github.com/tc39/proposal-regexp-named-groups)（Named Capture Groups），允许为每一个组匹配指定一个名字，既便于阅读代码，又便于引用。"
   ]
  },
  {
   "cell_type": "code",
   "execution_count": null,
   "id": "85178223",
   "metadata": {
    "attributes": {
     "classes": [
      "javascript"
     ],
     "id": ""
    }
   },
   "outputs": [],
   "source": [
    "const RE_DATE = /(?<year>\\d{4})-(?<month>\\d{2})-(?<day>\\d{2})/;\n",
    "\n",
    "const matchObj = RE_DATE.exec('1999-12-31');\n",
    "const year = matchObj.groups.year; // \"1999\"\n",
    "const month = matchObj.groups.month; // \"12\"\n",
    "const day = matchObj.groups.day; // \"31\""
   ]
  },
  {
   "cell_type": "markdown",
   "id": "710a4c42",
   "metadata": {},
   "source": [
    "上面代码中，“具名组匹配”在圆括号内部，模式的头部添加“问号 + 尖括号 + 组名”（`?<year>`），然后就可以在`exec`方法返回结果的`groups`属性上引用该组名。同时，数字序号（`matchObj[1]`）依然有效。\n",
    "\n",
    "具名组匹配等于为每一组匹配加上了 ID，便于描述匹配的目的。如果组的顺序变了，也不用改变匹配后的处理代码。\n",
    "\n",
    "如果具名组没有匹配，那么对应的`groups`对象属性会是`undefined`。"
   ]
  },
  {
   "cell_type": "code",
   "execution_count": null,
   "id": "d232f59b",
   "metadata": {
    "attributes": {
     "classes": [
      "javascript"
     ],
     "id": ""
    }
   },
   "outputs": [],
   "source": [
    "const RE_OPT_A = /^(?<as>a+)?$/;\n",
    "const matchObj = RE_OPT_A.exec('');\n",
    "\n",
    "matchObj.groups.as // undefined\n",
    "'as' in matchObj.groups // true"
   ]
  },
  {
   "cell_type": "markdown",
   "id": "4a8217ed",
   "metadata": {},
   "source": [
    "上面代码中，具名组`as`没有找到匹配，那么`matchObj.groups.as`属性值就是`undefined`，并且`as`这个键名在`groups`是始终存在的。\n",
    "\n",
    "### 解构赋值和替换\n",
    "\n",
    "有了具名组匹配以后，可以使用解构赋值直接从匹配结果上为变量赋值。"
   ]
  },
  {
   "cell_type": "code",
   "execution_count": null,
   "id": "c616fb27",
   "metadata": {
    "attributes": {
     "classes": [
      "javascript"
     ],
     "id": ""
    }
   },
   "outputs": [],
   "source": [
    "let {groups: {one, two}} = /^(?<one>.*):(?<two>.*)$/u.exec('foo:bar');\n",
    "one  // foo\n",
    "two  // bar"
   ]
  },
  {
   "cell_type": "markdown",
   "id": "086f93d8",
   "metadata": {},
   "source": [
    "字符串替换时，使用`$<组名>`引用具名组。"
   ]
  },
  {
   "cell_type": "code",
   "execution_count": null,
   "id": "1e5af225",
   "metadata": {
    "attributes": {
     "classes": [
      "javascript"
     ],
     "id": ""
    }
   },
   "outputs": [],
   "source": [
    "let re = /(?<year>\\d{4})-(?<month>\\d{2})-(?<day>\\d{2})/u;\n",
    "\n",
    "'2015-01-02'.replace(re, '$<day>/$<month>/$<year>')\n",
    "// '02/01/2015'"
   ]
  },
  {
   "cell_type": "markdown",
   "id": "460c1db3",
   "metadata": {},
   "source": [
    "上面代码中，`replace`方法的第二个参数是一个字符串，而不是正则表达式。\n",
    "\n",
    "`replace`方法的第二个参数也可以是函数，该函数的参数序列如下。"
   ]
  },
  {
   "cell_type": "code",
   "execution_count": null,
   "id": "15fa24a3",
   "metadata": {
    "attributes": {
     "classes": [
      "javascript"
     ],
     "id": ""
    }
   },
   "outputs": [],
   "source": [
    "'2015-01-02'.replace(re, (\n",
    "   matched, // 整个匹配结果 2015-01-02\n",
    "   capture1, // 第一个组匹配 2015\n",
    "   capture2, // 第二个组匹配 01\n",
    "   capture3, // 第三个组匹配 02\n",
    "   position, // 匹配开始的位置 0\n",
    "   S, // 原字符串 2015-01-02\n",
    "   groups // 具名组构成的一个对象 {year, month, day}\n",
    " ) => {\n",
    " let {day, month, year} = groups;\n",
    " return `${day}/${month}/${year}`;\n",
    "});"
   ]
  },
  {
   "cell_type": "markdown",
   "id": "1402c8cc",
   "metadata": {},
   "source": [
    "具名组匹配在原来的基础上，新增了最后一个函数参数：具名组构成的一个对象。函数内部可以直接对这个对象进行解构赋值。\n",
    "\n",
    "### 引用\n",
    "\n",
    "如果要在正则表达式内部引用某个“具名组匹配”，可以使用`\\k<组名>`的写法。"
   ]
  },
  {
   "cell_type": "code",
   "execution_count": null,
   "id": "7aa0a5e9",
   "metadata": {
    "attributes": {
     "classes": [
      "javascript"
     ],
     "id": ""
    }
   },
   "outputs": [],
   "source": [
    "const RE_TWICE = /^(?<word>[a-z]+)!\\k<word>$/;\n",
    "RE_TWICE.test('abc!abc') // true\n",
    "RE_TWICE.test('abc!ab') // false"
   ]
  },
  {
   "cell_type": "markdown",
   "id": "7004eb92",
   "metadata": {},
   "source": [
    "数字引用（`\\1`）依然有效。"
   ]
  },
  {
   "cell_type": "code",
   "execution_count": null,
   "id": "9ff528e3",
   "metadata": {
    "attributes": {
     "classes": [
      "javascript"
     ],
     "id": ""
    }
   },
   "outputs": [],
   "source": [
    "const RE_TWICE = /^(?<word>[a-z]+)!\\1$/;\n",
    "RE_TWICE.test('abc!abc') // true\n",
    "RE_TWICE.test('abc!ab') // false"
   ]
  },
  {
   "cell_type": "markdown",
   "id": "e596a80c",
   "metadata": {},
   "source": [
    "这两种引用语法还可以同时使用。"
   ]
  },
  {
   "cell_type": "code",
   "execution_count": null,
   "id": "1215594a",
   "metadata": {
    "attributes": {
     "classes": [
      "javascript"
     ],
     "id": ""
    }
   },
   "outputs": [],
   "source": [
    "const RE_TWICE = /^(?<word>[a-z]+)!\\k<word>!\\1$/;\n",
    "RE_TWICE.test('abc!abc!abc') // true\n",
    "RE_TWICE.test('abc!abc!ab') // false"
   ]
  },
  {
   "cell_type": "markdown",
   "id": "64140027",
   "metadata": {},
   "source": [
    "## d 修饰符：正则匹配索引\n",
    "\n",
    "组匹配的结果，在原始字符串里面的开始位置和结束位置，目前获取并不是很方便。正则实例的`exec()`方法有一个`index`属性，可以获取整个匹配结果的开始位置。但是，组匹配的每个组的开始位置，很难拿到。\n",
    "\n",
    "[ES2022](https://github.com/tc39/proposal-regexp-match-Indices) 新增了`d`修饰符，这个修饰符可以让`exec()`、`match()`的返回结果添加`indices`属性，在该属性上面可以拿到匹配的开始位置和结束位置。"
   ]
  },
  {
   "cell_type": "code",
   "execution_count": null,
   "id": "54fc4813",
   "metadata": {
    "attributes": {
     "classes": [
      "javascript"
     ],
     "id": ""
    }
   },
   "outputs": [],
   "source": [
    "const text = 'zabbcdef';\n",
    "const re = /ab/d;\n",
    "const result = re.exec(text);\n",
    "\n",
    "result.index // 1\n",
    "result.indices // [ [1, 3] ]"
   ]
  },
  {
   "cell_type": "markdown",
   "id": "5ab87ce0",
   "metadata": {},
   "source": [
    "上面示例中，`exec()`方法的返回结果`result`，它的`index`属性是整个匹配结果（`ab`）的开始位置。由于正则表达式`re`有`d`修饰符，`result`现在就会多出一个`indices`属性。该属性是一个数组，它的每个成员还是一个数组，包含了匹配结果在原始字符串的开始位置和结束位置。由于上例的正则表达式`re`没有包含组匹配，所以`indices`数组只有一个成员，表示整个匹配的开始位置是`1`，结束位置是`3`。\n",
    "\n",
    "注意，开始位置包含在匹配结果之中，相当于匹配结果的第一个字符的位置。但是，结束位置不包含在匹配结果之中，是匹配结果的下一个字符。比如，上例匹配结果的最后一个字符`b`的位置，是原始字符串的2号位，那么结束位置`3`就是下一个字符的位置。\n",
    "\n",
    "如果正则表达式包含组匹配，那么`indices`属性对应的数组就会包含多个成员，提供每个组匹配的开始位置和结束位置。"
   ]
  },
  {
   "cell_type": "code",
   "execution_count": null,
   "id": "86c3271f",
   "metadata": {
    "attributes": {
     "classes": [
      "javascript"
     ],
     "id": ""
    }
   },
   "outputs": [],
   "source": [
    "const text = 'zabbcdef';\n",
    "const re = /ab+(cd)/d;\n",
    "const result = re.exec(text);\n",
    "\n",
    "result.indices // [ [ 1, 6 ], [ 4, 6 ] ]"
   ]
  },
  {
   "cell_type": "markdown",
   "id": "ce6a3304",
   "metadata": {},
   "source": [
    "上面例子中，正则表达式`re`包含一个组匹配`(cd)`，那么`indices`属性数组就有两个成员，第一个成员是整个匹配结果（`abbcd`）的开始位置和结束位置，第二个成员是组匹配（`cd`）的开始位置和结束位置。\n",
    "\n",
    "下面是多个组匹配的例子。"
   ]
  },
  {
   "cell_type": "code",
   "execution_count": null,
   "id": "ae358134",
   "metadata": {
    "attributes": {
     "classes": [
      "javascript"
     ],
     "id": ""
    }
   },
   "outputs": [],
   "source": [
    "const text = 'zabbcdef';\n",
    "const re = /ab+(cd(ef))/d;\n",
    "const result = re.exec(text);\n",
    "\n",
    "result.indices // [ [1, 8], [4, 8], [6, 8] ]"
   ]
  },
  {
   "cell_type": "markdown",
   "id": "1a0bb4b1",
   "metadata": {},
   "source": [
    "上面例子中，正则表达式`re`包含两个组匹配，所以`indices`属性数组就有三个成员。\n",
    "\n",
    "如果正则表达式包含具名组匹配，`indices`属性数组还会有一个`groups`属性。该属性是一个对象，可以从该对象获取具名组匹配的开始位置和结束位置。"
   ]
  },
  {
   "cell_type": "code",
   "execution_count": null,
   "id": "efa81858",
   "metadata": {
    "attributes": {
     "classes": [
      "javascript"
     ],
     "id": ""
    }
   },
   "outputs": [],
   "source": [
    "const text = 'zabbcdef';\n",
    "const re = /ab+(?<Z>cd)/d;\n",
    "const result = re.exec(text);\n",
    "\n",
    "result.indices.groups // { Z: [ 4, 6 ] }"
   ]
  },
  {
   "cell_type": "markdown",
   "id": "bc882605",
   "metadata": {},
   "source": [
    "上面例子中，`exec()`方法返回结果的`indices.groups`属性是一个对象，提供具名组匹配`Z`的开始位置和结束位置。\n",
    "\n",
    "如果获取组匹配不成功，`indices`属性数组的对应成员则为`undefined`，`indices.groups`属性对象的对应成员也是`undefined`。"
   ]
  },
  {
   "cell_type": "code",
   "execution_count": null,
   "id": "507f1423",
   "metadata": {
    "attributes": {
     "classes": [
      "javascript"
     ],
     "id": ""
    }
   },
   "outputs": [],
   "source": [
    "const text = 'zabbcdef';\n",
    "const re = /ab+(?<Z>ce)?/d;\n",
    "const result = re.exec(text);\n",
    "\n",
    "result.indices[1] // undefined\n",
    "result.indices.groups['Z'] // undefined"
   ]
  },
  {
   "cell_type": "markdown",
   "id": "cb98933c",
   "metadata": {},
   "source": [
    "上面例子中，由于组匹配`ce`不成功，所以`indices`属性数组和`indices.groups`属性对象对应的组匹配成员`Z`都是`undefined`。\n",
    "\n",
    "## String.prototype.matchAll()\n",
    "\n",
    "如果一个正则表达式在字符串里面有多个匹配，现在一般使用`g`修饰符或`y`修饰符，在循环里面逐一取出。"
   ]
  },
  {
   "cell_type": "code",
   "execution_count": null,
   "id": "2718b8ad",
   "metadata": {
    "attributes": {
     "classes": [
      "javascript"
     ],
     "id": ""
    }
   },
   "outputs": [],
   "source": [
    "var regex = /t(e)(st(\\d?))/g;\n",
    "var string = 'test1test2test3';\n",
    "\n",
    "var matches = [];\n",
    "var match;\n",
    "while (match = regex.exec(string)) {\n",
    "  matches.push(match);\n",
    "}\n",
    "\n",
    "matches\n",
    "// [\n",
    "//   [\"test1\", \"e\", \"st1\", \"1\", index: 0, input: \"test1test2test3\"],\n",
    "//   [\"test2\", \"e\", \"st2\", \"2\", index: 5, input: \"test1test2test3\"],\n",
    "//   [\"test3\", \"e\", \"st3\", \"3\", index: 10, input: \"test1test2test3\"]\n",
    "// ]"
   ]
  },
  {
   "cell_type": "markdown",
   "id": "1637d593",
   "metadata": {},
   "source": [
    "上面代码中，`while`循环取出每一轮的正则匹配，一共三轮。\n",
    "\n",
    "[ES2020](https://github.com/tc39/proposal-string-matchall) 增加了`String.prototype.matchAll()`方法，可以一次性取出所有匹配。不过，它返回的是一个遍历器（Iterator），而不是数组。"
   ]
  },
  {
   "cell_type": "code",
   "execution_count": null,
   "id": "6db17449",
   "metadata": {
    "attributes": {
     "classes": [
      "javascript"
     ],
     "id": ""
    }
   },
   "outputs": [],
   "source": [
    "const string = 'test1test2test3';\n",
    "const regex = /t(e)(st(\\d?))/g;\n",
    "\n",
    "for (const match of string.matchAll(regex)) {\n",
    "  console.log(match);\n",
    "}\n",
    "// [\"test1\", \"e\", \"st1\", \"1\", index: 0, input: \"test1test2test3\"]\n",
    "// [\"test2\", \"e\", \"st2\", \"2\", index: 5, input: \"test1test2test3\"]\n",
    "// [\"test3\", \"e\", \"st3\", \"3\", index: 10, input: \"test1test2test3\"]"
   ]
  },
  {
   "cell_type": "markdown",
   "id": "6fd465b8",
   "metadata": {},
   "source": [
    "上面代码中，由于`string.matchAll(regex)`返回的是遍历器，所以可以用`for...of`循环取出。相对于返回数组，返回遍历器的好处在于，如果匹配结果是一个很大的数组，那么遍历器比较节省资源。\n",
    "\n",
    "遍历器转为数组是非常简单的，使用`...`运算符和`Array.from()`方法就可以了。"
   ]
  },
  {
   "cell_type": "code",
   "execution_count": null,
   "id": "8081d854",
   "metadata": {
    "attributes": {
     "classes": [
      "javascript"
     ],
     "id": ""
    }
   },
   "outputs": [],
   "source": [
    "// 转为数组的方法一\n",
    "[...string.matchAll(regex)]\n",
    "\n",
    "// 转为数组的方法二\n",
    "Array.from(string.matchAll(regex))"
   ]
  }
 ],
 "metadata": {},
 "nbformat": 4,
 "nbformat_minor": 5
}

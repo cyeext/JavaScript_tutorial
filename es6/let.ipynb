{
 "cells": [
  {
   "cell_type": "markdown",
   "id": "97e07f7f",
   "metadata": {},
   "source": [
    "# let 和 const 命令\n",
    "\n",
    "## let 命令\n",
    "\n",
    "### 基本用法\n",
    "\n",
    "ES6 新增了`let`命令，用来声明变量。它的用法类似于`var`，但是所声明的变量，只在`let`命令所在的代码块内有效。"
   ]
  },
  {
   "cell_type": "code",
   "execution_count": null,
   "id": "f63042bb",
   "metadata": {
    "attributes": {
     "classes": [
      "javascript"
     ],
     "id": ""
    }
   },
   "outputs": [],
   "source": [
    "{\n",
    "  let a = 10;\n",
    "  var b = 1;\n",
    "}\n",
    "\n",
    "a // ReferenceError: a is not defined.\n",
    "b // 1"
   ]
  },
  {
   "cell_type": "markdown",
   "id": "651cec4d",
   "metadata": {},
   "source": [
    "上面代码在代码块之中，分别用`let`和`var`声明了两个变量。然后在代码块之外调用这两个变量，结果`let`声明的变量报错，`var`声明的变量返回了正确的值。这表明，`let`声明的变量只在它所在的代码块有效。\n",
    "\n",
    "`for`循环的计数器，就很合适使用`let`命令。"
   ]
  },
  {
   "cell_type": "code",
   "execution_count": null,
   "id": "83a0b377",
   "metadata": {
    "attributes": {
     "classes": [
      "javascript"
     ],
     "id": ""
    }
   },
   "outputs": [],
   "source": [
    "for (let i = 0; i < 10; i++) {\n",
    "  // ...\n",
    "}\n",
    "\n",
    "console.log(i);\n",
    "// ReferenceError: i is not defined"
   ]
  },
  {
   "cell_type": "markdown",
   "id": "687f5a7d",
   "metadata": {},
   "source": [
    "上面代码中，计数器`i`只在`for`循环体内有效，在循环体外引用就会报错。\n",
    "\n",
    "下面的代码如果使用`var`，最后输出的是`10`。"
   ]
  },
  {
   "cell_type": "code",
   "execution_count": null,
   "id": "59cd55c6",
   "metadata": {
    "attributes": {
     "classes": [
      "javascript"
     ],
     "id": ""
    }
   },
   "outputs": [],
   "source": [
    "var a = [];\n",
    "for (var i = 0; i < 10; i++) {\n",
    "  a[i] = function () {\n",
    "    console.log(i);\n",
    "  };\n",
    "}\n",
    "a[6](); // 10"
   ]
  },
  {
   "cell_type": "markdown",
   "id": "0bffa616",
   "metadata": {},
   "source": [
    "上面代码中，变量`i`是`var`命令声明的，在全局范围内都有效，所以全局只有一个变量`i`。每一次循环，变量`i`的值都会发生改变，而循环内被赋给数组`a`的函数内部的`console.log(i)`，里面的`i`指向的就是全局的`i`。也就是说，所有数组`a`的成员里面的`i`，指向的都是同一个`i`，导致运行时输出的是最后一轮的`i`的值，也就是 10。\n",
    "\n",
    "如果使用`let`，声明的变量仅在块级作用域内有效，最后输出的是 6。"
   ]
  },
  {
   "cell_type": "code",
   "execution_count": null,
   "id": "1a2ed270",
   "metadata": {
    "attributes": {
     "classes": [
      "javascript"
     ],
     "id": ""
    }
   },
   "outputs": [],
   "source": [
    "var a = [];\n",
    "for (let i = 0; i < 10; i++) {\n",
    "  a[i] = function () {\n",
    "    console.log(i);\n",
    "  };\n",
    "}\n",
    "a[6](); // 6"
   ]
  },
  {
   "cell_type": "markdown",
   "id": "c5c81800",
   "metadata": {},
   "source": [
    "上面代码中，变量`i`是`let`声明的，当前的`i`只在本轮循环有效，所以每一次循环的`i`其实都是一个新的变量，所以最后输出的是`6`。你可能会问，如果每一轮循环的变量`i`都是重新声明的，那它怎么知道上一轮循环的值，从而计算出本轮循环的值？这是因为 JavaScript 引擎内部会记住上一轮循环的值，初始化本轮的变量`i`时，就在上一轮循环的基础上进行计算。\n",
    "\n",
    "另外，`for`循环还有一个特别之处，就是设置循环变量的那部分是一个父作用域，而循环体内部是一个单独的子作用域。"
   ]
  },
  {
   "cell_type": "code",
   "execution_count": null,
   "id": "b4dbe2ed",
   "metadata": {
    "attributes": {
     "classes": [
      "javascript"
     ],
     "id": ""
    }
   },
   "outputs": [],
   "source": [
    "for (let i = 0; i < 3; i++) {\n",
    "  let i = 'abc';\n",
    "  console.log(i);\n",
    "}\n",
    "// abc\n",
    "// abc\n",
    "// abc"
   ]
  },
  {
   "cell_type": "markdown",
   "id": "46550b2b",
   "metadata": {},
   "source": [
    "上面代码正确运行，输出了 3 次`abc`。这表明函数内部的变量`i`与循环变量`i`不在同一个作用域，有各自单独的作用域（同一个作用域不可使用 `let` 重复声明同一个变量）。\n",
    "\n",
    "### 不存在变量提升\n",
    "\n",
    "`var`命令会发生“变量提升”现象，即变量可以在声明之前使用，值为`undefined`。这种现象多多少少是有些奇怪的，按照一般的逻辑，变量应该在声明语句之后才可以使用。\n",
    "\n",
    "为了纠正这种现象，`let`命令改变了语法行为，它所声明的变量一定要在声明后使用，否则报错。"
   ]
  },
  {
   "cell_type": "code",
   "execution_count": null,
   "id": "02f740a9",
   "metadata": {
    "attributes": {
     "classes": [
      "javascript"
     ],
     "id": ""
    }
   },
   "outputs": [],
   "source": [
    "// var 的情况\n",
    "console.log(foo); // 输出undefined\n",
    "var foo = 2;\n",
    "\n",
    "// let 的情况\n",
    "console.log(bar); // 报错ReferenceError\n",
    "let bar = 2;"
   ]
  },
  {
   "cell_type": "markdown",
   "id": "0a2f46cf",
   "metadata": {},
   "source": [
    "上面代码中，变量`foo`用`var`命令声明，会发生变量提升，即脚本开始运行时，变量`foo`已经存在了，但是没有值，所以会输出`undefined`。变量`bar`用`let`命令声明，不会发生变量提升。这表示在声明它之前，变量`bar`是不存在的，这时如果用到它，就会抛出一个错误。\n",
    "\n",
    "### 暂时性死区\n",
    "\n",
    "只要块级作用域内存在`let`命令，它所声明的变量就“绑定”（binding）这个区域，不再受外部的影响。"
   ]
  },
  {
   "cell_type": "code",
   "execution_count": null,
   "id": "179d1ee0",
   "metadata": {
    "attributes": {
     "classes": [
      "javascript"
     ],
     "id": ""
    }
   },
   "outputs": [],
   "source": [
    "var tmp = 123;\n",
    "\n",
    "if (true) {\n",
    "  tmp = 'abc'; // ReferenceError\n",
    "  let tmp;\n",
    "}"
   ]
  },
  {
   "cell_type": "markdown",
   "id": "1e789b14",
   "metadata": {},
   "source": [
    "上面代码中，存在全局变量`tmp`，但是块级作用域内`let`又声明了一个局部变量`tmp`，导致后者绑定这个块级作用域，所以在`let`声明变量前，对`tmp`赋值会报错。\n",
    "\n",
    "ES6 明确规定，如果区块中存在`let`和`const`命令，这个区块对这些命令声明的变量，从一开始就形成了封闭作用域。凡是在声明之前就使用这些变量，就会报错。\n",
    "\n",
    "总之，在代码块内，使用`let`命令声明变量之前，该变量都是不可用的。这在语法上，称为“暂时性死区”（temporal dead zone，简称 TDZ）。"
   ]
  },
  {
   "cell_type": "code",
   "execution_count": null,
   "id": "df96b326",
   "metadata": {
    "attributes": {
     "classes": [
      "javascript"
     ],
     "id": ""
    }
   },
   "outputs": [],
   "source": [
    "if (true) {\n",
    "  // TDZ开始\n",
    "  tmp = 'abc'; // ReferenceError\n",
    "  console.log(tmp); // ReferenceError\n",
    "\n",
    "  let tmp; // TDZ结束\n",
    "  console.log(tmp); // undefined\n",
    "\n",
    "  tmp = 123;\n",
    "  console.log(tmp); // 123\n",
    "}"
   ]
  },
  {
   "cell_type": "markdown",
   "id": "0516025e",
   "metadata": {},
   "source": [
    "上面代码中，在`let`命令声明变量`tmp`之前，都属于变量`tmp`的“死区”。\n",
    "\n",
    "“暂时性死区”也意味着`typeof`不再是一个百分之百安全的操作。"
   ]
  },
  {
   "cell_type": "code",
   "execution_count": null,
   "id": "c62b85d0",
   "metadata": {
    "attributes": {
     "classes": [
      "javascript"
     ],
     "id": ""
    }
   },
   "outputs": [],
   "source": [
    "typeof x; // ReferenceError\n",
    "let x;"
   ]
  },
  {
   "cell_type": "markdown",
   "id": "f4e05d16",
   "metadata": {},
   "source": [
    "上面代码中，变量`x`使用`let`命令声明，所以在声明之前，都属于`x`的“死区”，只要用到该变量就会报错。因此，`typeof`运行时就会抛出一个`ReferenceError`。\n",
    "\n",
    "作为比较，如果一个变量根本没有被声明，使用`typeof`反而不会报错。"
   ]
  },
  {
   "cell_type": "code",
   "execution_count": null,
   "id": "05292e7a",
   "metadata": {
    "attributes": {
     "classes": [
      "javascript"
     ],
     "id": ""
    }
   },
   "outputs": [],
   "source": [
    "typeof undeclared_variable // \"undefined\""
   ]
  },
  {
   "cell_type": "markdown",
   "id": "044ae7a6",
   "metadata": {},
   "source": [
    "上面代码中，`undeclared_variable`是一个不存在的变量名，结果返回“undefined”。所以，在没有`let`之前，`typeof`运算符是百分之百安全的，永远不会报错。现在这一点不成立了。这样的设计是为了让大家养成良好的编程习惯，变量一定要在声明之后使用，否则就报错。\n",
    "\n",
    "有些“死区”比较隐蔽，不太容易发现。"
   ]
  },
  {
   "cell_type": "code",
   "execution_count": null,
   "id": "6c94305e",
   "metadata": {
    "attributes": {
     "classes": [
      "javascript"
     ],
     "id": ""
    }
   },
   "outputs": [],
   "source": [
    "function bar(x = y, y = 2) {\n",
    "  return [x, y];\n",
    "}\n",
    "\n",
    "bar(); // 报错"
   ]
  },
  {
   "cell_type": "markdown",
   "id": "6b1814c8",
   "metadata": {},
   "source": [
    "上面代码中，调用`bar`函数之所以报错（某些实现可能不报错），是因为参数`x`默认值等于另一个参数`y`，而此时`y`还没有声明，属于“死区”。如果`y`的默认值是`x`，就不会报错，因为此时`x`已经声明了。"
   ]
  },
  {
   "cell_type": "code",
   "execution_count": null,
   "id": "c59b163e",
   "metadata": {
    "attributes": {
     "classes": [
      "javascript"
     ],
     "id": ""
    }
   },
   "outputs": [],
   "source": [
    "function bar(x = 2, y = x) {\n",
    "  return [x, y];\n",
    "}\n",
    "bar(); // [2, 2]"
   ]
  },
  {
   "cell_type": "markdown",
   "id": "b6a0cdee",
   "metadata": {},
   "source": [
    "另外，下面的代码也会报错，与`var`的行为不同。"
   ]
  },
  {
   "cell_type": "code",
   "execution_count": null,
   "id": "d16bdfe0",
   "metadata": {
    "attributes": {
     "classes": [
      "javascript"
     ],
     "id": ""
    }
   },
   "outputs": [],
   "source": [
    "// 不报错\n",
    "var x = x;\n",
    "\n",
    "// 报错\n",
    "let x = x;\n",
    "// ReferenceError: x is not defined"
   ]
  },
  {
   "cell_type": "markdown",
   "id": "fc3fe459",
   "metadata": {},
   "source": [
    "上面代码报错，也是因为暂时性死区。使用`let`声明变量时，只要变量在还没有声明完成前使用，就会报错。上面这行就属于这个情况，在变量`x`的声明语句还没有执行完成前，就去取`x`的值，导致报错”x 未定义“。\n",
    "\n",
    "ES6 规定暂时性死区和`let`、`const`语句不出现变量提升，主要是为了减少运行时错误，防止在变量声明前就使用这个变量，从而导致意料之外的行为。这样的错误在 ES5 是很常见的，现在有了这种规定，避免此类错误就很容易了。\n",
    "\n",
    "总之，暂时性死区的本质就是，只要一进入当前作用域，所要使用的变量就已经存在了，但是不可获取，只有等到声明变量的那一行代码出现，才可以获取和使用该变量。\n",
    "\n",
    "### 不允许重复声明\n",
    "\n",
    "`let`不允许在相同作用域内，重复声明同一个变量。"
   ]
  },
  {
   "cell_type": "code",
   "execution_count": null,
   "id": "bfa558e2",
   "metadata": {
    "attributes": {
     "classes": [
      "javascript"
     ],
     "id": ""
    }
   },
   "outputs": [],
   "source": [
    "// 报错\n",
    "function func() {\n",
    "  let a = 10;\n",
    "  var a = 1;\n",
    "}\n",
    "\n",
    "// 报错\n",
    "function func() {\n",
    "  let a = 10;\n",
    "  let a = 1;\n",
    "}"
   ]
  },
  {
   "cell_type": "markdown",
   "id": "0286acca",
   "metadata": {},
   "source": [
    "因此，不能在函数内部重新声明参数。"
   ]
  },
  {
   "cell_type": "code",
   "execution_count": null,
   "id": "9b449e37",
   "metadata": {
    "attributes": {
     "classes": [
      "javascript"
     ],
     "id": ""
    }
   },
   "outputs": [],
   "source": [
    "function func(arg) {\n",
    "  let arg;\n",
    "}\n",
    "func() // 报错\n",
    "\n",
    "function func(arg) {\n",
    "  {\n",
    "    let arg;\n",
    "  }\n",
    "}\n",
    "func() // 不报错"
   ]
  },
  {
   "cell_type": "markdown",
   "id": "7eed8880",
   "metadata": {},
   "source": [
    "## 块级作用域\n",
    "\n",
    "### 为什么需要块级作用域？\n",
    "\n",
    "ES5 只有全局作用域和函数作用域，没有块级作用域，这带来很多不合理的场景。\n",
    "\n",
    "第一种场景，内层变量可能会覆盖外层变量。"
   ]
  },
  {
   "cell_type": "code",
   "execution_count": null,
   "id": "403d1a45",
   "metadata": {
    "attributes": {
     "classes": [
      "javascript"
     ],
     "id": ""
    }
   },
   "outputs": [],
   "source": [
    "var tmp = new Date();\n",
    "\n",
    "function f() {\n",
    "  console.log(tmp);\n",
    "  if (false) {\n",
    "    var tmp = 'hello world';\n",
    "  }\n",
    "}\n",
    "\n",
    "f(); // undefined"
   ]
  },
  {
   "cell_type": "markdown",
   "id": "a5f666c6",
   "metadata": {},
   "source": [
    "上面代码的原意是，`if`代码块的外部使用外层的`tmp`变量，内部使用内层的`tmp`变量。但是，函数`f`执行后，输出结果为`undefined`，原因在于变量提升，导致内层的`tmp`变量覆盖了外层的`tmp`变量。\n",
    "\n",
    "第二种场景，用来计数的循环变量泄露为全局变量。"
   ]
  },
  {
   "cell_type": "code",
   "execution_count": null,
   "id": "a6a2b9ae",
   "metadata": {
    "attributes": {
     "classes": [
      "javascript"
     ],
     "id": ""
    }
   },
   "outputs": [],
   "source": [
    "var s = 'hello';\n",
    "\n",
    "for (var i = 0; i < s.length; i++) {\n",
    "  console.log(s[i]);\n",
    "}\n",
    "\n",
    "console.log(i); // 5"
   ]
  },
  {
   "cell_type": "markdown",
   "id": "3581f8c1",
   "metadata": {},
   "source": [
    "上面代码中，变量`i`只用来控制循环，但是循环结束后，它并没有消失，泄露成了全局变量。\n",
    "\n",
    "### ES6 的块级作用域\n",
    "\n",
    "`let`实际上为 JavaScript 新增了块级作用域。"
   ]
  },
  {
   "cell_type": "code",
   "execution_count": null,
   "id": "7d340009",
   "metadata": {
    "attributes": {
     "classes": [
      "javascript"
     ],
     "id": ""
    }
   },
   "outputs": [],
   "source": [
    "function f1() {\n",
    "  let n = 5;\n",
    "  if (true) {\n",
    "    let n = 10;\n",
    "  }\n",
    "  console.log(n); // 5\n",
    "}"
   ]
  },
  {
   "cell_type": "markdown",
   "id": "d2e32734",
   "metadata": {},
   "source": [
    "上面的函数有两个代码块，都声明了变量`n`，运行后输出 5。这表示外层代码块不受内层代码块的影响。如果两次都使用`var`定义变量`n`，最后输出的值才是 10。\n",
    "\n",
    "ES6 允许块级作用域的任意嵌套。"
   ]
  },
  {
   "cell_type": "code",
   "execution_count": null,
   "id": "9ad2c296",
   "metadata": {
    "attributes": {
     "classes": [
      "javascript"
     ],
     "id": ""
    }
   },
   "outputs": [],
   "source": [
    "{{{{\n",
    "  {let insane = 'Hello World'}\n",
    "  console.log(insane); // 报错\n",
    "}}}};"
   ]
  },
  {
   "cell_type": "markdown",
   "id": "5a4262c7",
   "metadata": {},
   "source": [
    "上面代码使用了一个五层的块级作用域，每一层都是一个单独的作用域。第四层作用域无法读取第五层作用域的内部变量。\n",
    "\n",
    "内层作用域可以定义外层作用域的同名变量。"
   ]
  },
  {
   "cell_type": "code",
   "execution_count": null,
   "id": "3cd01ab1",
   "metadata": {
    "attributes": {
     "classes": [
      "javascript"
     ],
     "id": ""
    }
   },
   "outputs": [],
   "source": [
    "{{{{\n",
    "  let insane = 'Hello World';\n",
    "  {let insane = 'Hello World'}\n",
    "}}}};"
   ]
  },
  {
   "cell_type": "markdown",
   "id": "9e6a807f",
   "metadata": {},
   "source": [
    "块级作用域的出现，实际上使得获得广泛应用的匿名立即执行函数表达式（匿名 IIFE）不再必要了。"
   ]
  },
  {
   "cell_type": "code",
   "execution_count": null,
   "id": "742c78dc",
   "metadata": {
    "attributes": {
     "classes": [
      "javascript"
     ],
     "id": ""
    }
   },
   "outputs": [],
   "source": [
    "// IIFE 写法\n",
    "(function () {\n",
    "  var tmp = ...;\n",
    "  ...\n",
    "}());\n",
    "\n",
    "// 块级作用域写法\n",
    "{\n",
    "  let tmp = ...;\n",
    "  ...\n",
    "}"
   ]
  },
  {
   "cell_type": "markdown",
   "id": "aa8bf082",
   "metadata": {},
   "source": [
    "### 块级作用域与函数声明\n",
    "\n",
    "函数能不能在块级作用域之中声明？这是一个相当令人混淆的问题。\n",
    "\n",
    "ES5 规定，函数只能在顶层作用域和函数作用域之中声明，不能在块级作用域声明。"
   ]
  },
  {
   "cell_type": "code",
   "execution_count": null,
   "id": "1563e17c",
   "metadata": {
    "attributes": {
     "classes": [
      "javascript"
     ],
     "id": ""
    }
   },
   "outputs": [],
   "source": [
    "// 情况一\n",
    "if (true) {\n",
    "  function f() {}\n",
    "}\n",
    "\n",
    "// 情况二\n",
    "try {\n",
    "  function f() {}\n",
    "} catch(e) {\n",
    "  // ...\n",
    "}"
   ]
  },
  {
   "cell_type": "markdown",
   "id": "7d0d640e",
   "metadata": {},
   "source": [
    "上面两种函数声明，根据 ES5 的规定都是非法的。\n",
    "\n",
    "但是，浏览器没有遵守这个规定，为了兼容以前的旧代码，还是支持在块级作用域之中声明函数，因此上面两种情况实际都能运行，不会报错。\n",
    "\n",
    "ES6 引入了块级作用域，明确允许在块级作用域之中声明函数。ES6 规定，块级作用域之中，函数声明语句的行为类似于`let`，在块级作用域之外不可引用。"
   ]
  },
  {
   "cell_type": "code",
   "execution_count": null,
   "id": "ecdba924",
   "metadata": {
    "attributes": {
     "classes": [
      "javascript"
     ],
     "id": ""
    }
   },
   "outputs": [],
   "source": [
    "function f() { console.log('I am outside!'); }\n",
    "\n",
    "(function () {\n",
    "  if (false) {\n",
    "    // 重复声明一次函数f\n",
    "    function f() { console.log('I am inside!'); }\n",
    "  }\n",
    "\n",
    "  f();\n",
    "}());"
   ]
  },
  {
   "cell_type": "markdown",
   "id": "4a195e36",
   "metadata": {},
   "source": [
    "上面代码在 ES5 中运行，会得到“I am inside!”，因为在`if`内声明的函数`f`会被提升到函数头部，实际运行的代码如下。"
   ]
  },
  {
   "cell_type": "code",
   "execution_count": null,
   "id": "c8b8d847",
   "metadata": {
    "attributes": {
     "classes": [
      "javascript"
     ],
     "id": ""
    }
   },
   "outputs": [],
   "source": [
    "// ES5 环境\n",
    "function f() { console.log('I am outside!'); }\n",
    "\n",
    "(function () {\n",
    "  function f() { console.log('I am inside!'); }\n",
    "  if (false) {\n",
    "  }\n",
    "  f();\n",
    "}());"
   ]
  },
  {
   "cell_type": "markdown",
   "id": "c2fcac6e",
   "metadata": {},
   "source": [
    "ES6 就完全不一样了，理论上会得到“I am outside!”。因为块级作用域内声明的函数类似于`let`，对作用域之外没有影响。但是，如果你真的在 ES6 浏览器中运行一下上面的代码，是会报错的，这是为什么呢？"
   ]
  },
  {
   "cell_type": "code",
   "execution_count": null,
   "id": "a1ba5e91",
   "metadata": {
    "attributes": {
     "classes": [
      "javascript"
     ],
     "id": ""
    }
   },
   "outputs": [],
   "source": [
    "// 浏览器的 ES6 环境\n",
    "function f() { console.log('I am outside!'); }\n",
    "\n",
    "(function () {\n",
    "  if (false) {\n",
    "    // 重复声明一次函数f\n",
    "    function f() { console.log('I am inside!'); }\n",
    "  }\n",
    "\n",
    "  f();\n",
    "}());\n",
    "// Uncaught TypeError: f is not a function"
   ]
  },
  {
   "cell_type": "markdown",
   "id": "5b32fc93",
   "metadata": {},
   "source": [
    "上面的代码在 ES6 浏览器中，都会报错。\n",
    "\n",
    "原来，如果改变了块级作用域内声明的函数的处理规则，显然会对老代码产生很大影响。为了减轻因此产生的不兼容问题，ES6 在[附录 B](https://www.ecma-international.org/ecma-262/6.0/index.html#sec-block-level-function-declarations-web-legacy-compatibility-semantics)里面规定，浏览器的实现可以不遵守上面的规定，有自己的[行为方式](https://stackoverflow.com/questions/31419897/what-are-the-precise-semantics-of-block-level-functions-in-es6)。\n",
    "\n",
    "- 允许在块级作用域内声明函数。\n",
    "- 函数声明类似于`var`，即会提升到全局作用域或函数作用域的头部。\n",
    "- 同时，函数声明还会提升到所在的块级作用域的头部。\n",
    "\n",
    "注意，上面三条规则只对 ES6 的浏览器实现有效，其他环境的实现不用遵守，还是将块级作用域的函数声明当作`let`处理。\n",
    "\n",
    "根据这三条规则，浏览器的 ES6 环境中，块级作用域内声明的函数，行为类似于`var`声明的变量。上面的例子实际运行的代码如下。"
   ]
  },
  {
   "cell_type": "code",
   "execution_count": null,
   "id": "18d883f9",
   "metadata": {
    "attributes": {
     "classes": [
      "javascript"
     ],
     "id": ""
    }
   },
   "outputs": [],
   "source": [
    "// 浏览器的 ES6 环境\n",
    "function f() { console.log('I am outside!'); }\n",
    "(function () {\n",
    "  var f = undefined;\n",
    "  if (false) {\n",
    "    function f() { console.log('I am inside!'); }\n",
    "  }\n",
    "\n",
    "  f();\n",
    "}());\n",
    "// Uncaught TypeError: f is not a function"
   ]
  },
  {
   "cell_type": "markdown",
   "id": "d525d07f",
   "metadata": {},
   "source": [
    "考虑到环境导致的行为差异太大，应该避免在块级作用域内声明函数。如果确实需要，也应该写成函数表达式，而不是函数声明语句。"
   ]
  },
  {
   "cell_type": "code",
   "execution_count": null,
   "id": "6e5ec5e6",
   "metadata": {
    "attributes": {
     "classes": [
      "javascript"
     ],
     "id": ""
    }
   },
   "outputs": [],
   "source": [
    "// 块级作用域内部的函数声明语句，建议不要使用\n",
    "{\n",
    "  let a = 'secret';\n",
    "  function f() {\n",
    "    return a;\n",
    "  }\n",
    "}\n",
    "\n",
    "// 块级作用域内部，优先使用函数表达式\n",
    "{\n",
    "  let a = 'secret';\n",
    "  let f = function () {\n",
    "    return a;\n",
    "  };\n",
    "}"
   ]
  },
  {
   "cell_type": "markdown",
   "id": "9bdc4228",
   "metadata": {},
   "source": [
    "另外，还有一个需要注意的地方。ES6 的块级作用域必须有大括号，如果没有大括号，JavaScript 引擎就认为不存在块级作用域。"
   ]
  },
  {
   "cell_type": "code",
   "execution_count": null,
   "id": "36b06cc7",
   "metadata": {
    "attributes": {
     "classes": [
      "javascript"
     ],
     "id": ""
    }
   },
   "outputs": [],
   "source": [
    "// 第一种写法，报错\n",
    "if (true) let x = 1;\n",
    "\n",
    "// 第二种写法，不报错\n",
    "if (true) {\n",
    "  let x = 1;\n",
    "}"
   ]
  },
  {
   "cell_type": "markdown",
   "id": "afeadc1d",
   "metadata": {},
   "source": [
    "上面代码中，第一种写法没有大括号，所以不存在块级作用域，而`let`只能出现在当前作用域的顶层，所以报错。第二种写法有大括号，所以块级作用域成立。\n",
    "\n",
    "函数声明也是如此，严格模式下，函数只能声明在当前作用域的顶层。"
   ]
  },
  {
   "cell_type": "code",
   "execution_count": null,
   "id": "e5eb7c9a",
   "metadata": {
    "attributes": {
     "classes": [
      "javascript"
     ],
     "id": ""
    }
   },
   "outputs": [],
   "source": [
    "// 不报错\n",
    "'use strict';\n",
    "if (true) {\n",
    "  function f() {}\n",
    "}\n",
    "\n",
    "// 报错\n",
    "'use strict';\n",
    "if (true)\n",
    "  function f() {}"
   ]
  },
  {
   "cell_type": "markdown",
   "id": "6f8a6d4d",
   "metadata": {},
   "source": [
    "## const 命令\n",
    "\n",
    "### 基本用法\n",
    "\n",
    "`const`声明一个只读的常量。一旦声明，常量的值就不能改变。"
   ]
  },
  {
   "cell_type": "code",
   "execution_count": null,
   "id": "e32b1e1a",
   "metadata": {
    "attributes": {
     "classes": [
      "javascript"
     ],
     "id": ""
    }
   },
   "outputs": [],
   "source": [
    "const PI = 3.1415;\n",
    "PI // 3.1415\n",
    "\n",
    "PI = 3;\n",
    "// TypeError: Assignment to constant variable."
   ]
  },
  {
   "cell_type": "markdown",
   "id": "ca5ca9a5",
   "metadata": {},
   "source": [
    "上面代码表明改变常量的值会报错。\n",
    "\n",
    "`const`声明的变量不得改变值，这意味着，`const`一旦声明变量，就必须立即初始化，不能留到以后赋值。"
   ]
  },
  {
   "cell_type": "code",
   "execution_count": null,
   "id": "7f671e29",
   "metadata": {
    "attributes": {
     "classes": [
      "javascript"
     ],
     "id": ""
    }
   },
   "outputs": [],
   "source": [
    "const foo;\n",
    "// SyntaxError: Missing initializer in const declaration"
   ]
  },
  {
   "cell_type": "markdown",
   "id": "9f8cda4b",
   "metadata": {},
   "source": [
    "上面代码表示，对于`const`来说，只声明不赋值，就会报错。\n",
    "\n",
    "`const`的作用域与`let`命令相同：只在声明所在的块级作用域内有效。"
   ]
  },
  {
   "cell_type": "code",
   "execution_count": null,
   "id": "76db0c95",
   "metadata": {
    "attributes": {
     "classes": [
      "javascript"
     ],
     "id": ""
    }
   },
   "outputs": [],
   "source": [
    "if (true) {\n",
    "  const MAX = 5;\n",
    "}\n",
    "\n",
    "MAX // Uncaught ReferenceError: MAX is not defined"
   ]
  },
  {
   "cell_type": "markdown",
   "id": "dec69305",
   "metadata": {},
   "source": [
    "`const`命令声明的常量也是不提升，同样存在暂时性死区，只能在声明的位置后面使用。"
   ]
  },
  {
   "cell_type": "code",
   "execution_count": null,
   "id": "0d6ed1d5",
   "metadata": {
    "attributes": {
     "classes": [
      "javascript"
     ],
     "id": ""
    }
   },
   "outputs": [],
   "source": [
    "if (true) {\n",
    "  console.log(MAX); // ReferenceError\n",
    "  const MAX = 5;\n",
    "}"
   ]
  },
  {
   "cell_type": "markdown",
   "id": "58a454e1",
   "metadata": {},
   "source": [
    "上面代码在常量`MAX`声明之前就调用，结果报错。\n",
    "\n",
    "`const`声明的常量，也与`let`一样不可重复声明。"
   ]
  },
  {
   "cell_type": "code",
   "execution_count": null,
   "id": "b84ceed0",
   "metadata": {
    "attributes": {
     "classes": [
      "javascript"
     ],
     "id": ""
    }
   },
   "outputs": [],
   "source": [
    "var message = \"Hello!\";\n",
    "let age = 25;\n",
    "\n",
    "// 以下两行都会报错\n",
    "const message = \"Goodbye!\";\n",
    "const age = 30;"
   ]
  },
  {
   "cell_type": "markdown",
   "id": "4804331a",
   "metadata": {},
   "source": [
    "### 本质\n",
    "\n",
    "`const`实际上保证的，并不是变量的值不得改动，而是变量指向的那个内存地址所保存的数据不得改动。对于简单类型的数据（数值、字符串、布尔值），值就保存在变量指向的那个内存地址，因此等同于常量。但对于复合类型的数据（主要是对象和数组），变量指向的内存地址，保存的只是一个指向实际数据的指针，`const`只能保证这个指针是固定的（即总是指向另一个固定的地址），至于它指向的数据结构是不是可变的，就完全不能控制了。因此，将一个对象声明为常量必须非常小心。"
   ]
  },
  {
   "cell_type": "code",
   "execution_count": null,
   "id": "68046b85",
   "metadata": {
    "attributes": {
     "classes": [
      "javascript"
     ],
     "id": ""
    }
   },
   "outputs": [],
   "source": [
    "const foo = {};\n",
    "\n",
    "// 为 foo 添加一个属性，可以成功\n",
    "foo.prop = 123;\n",
    "foo.prop // 123\n",
    "\n",
    "// 将 foo 指向另一个对象，就会报错\n",
    "foo = {}; // TypeError: \"foo\" is read-only"
   ]
  },
  {
   "cell_type": "markdown",
   "id": "c48866e4",
   "metadata": {},
   "source": [
    "上面代码中，常量`foo`储存的是一个地址，这个地址指向一个对象。不可变的只是这个地址，即不能把`foo`指向另一个地址，但对象本身是可变的，所以依然可以为其添加新属性。\n",
    "\n",
    "下面是另一个例子。"
   ]
  },
  {
   "cell_type": "code",
   "execution_count": null,
   "id": "7f49cbbd",
   "metadata": {
    "attributes": {
     "classes": [
      "javascript"
     ],
     "id": ""
    }
   },
   "outputs": [],
   "source": [
    "const a = [];\n",
    "a.push('Hello'); // 可执行\n",
    "a.length = 0;    // 可执行\n",
    "a = ['Dave'];    // 报错"
   ]
  },
  {
   "cell_type": "markdown",
   "id": "06f81007",
   "metadata": {},
   "source": [
    "上面代码中，常量`a`是一个数组，这个数组本身是可写的，但是如果将另一个数组赋值给`a`，就会报错。\n",
    "\n",
    "如果真的想将对象冻结，应该使用`Object.freeze`方法。"
   ]
  },
  {
   "cell_type": "code",
   "execution_count": null,
   "id": "e1ae914d",
   "metadata": {
    "attributes": {
     "classes": [
      "javascript"
     ],
     "id": ""
    }
   },
   "outputs": [],
   "source": [
    "const foo = Object.freeze({});\n",
    "\n",
    "// 常规模式时，下面一行不起作用；\n",
    "// 严格模式时，该行会报错\n",
    "foo.prop = 123;"
   ]
  },
  {
   "cell_type": "markdown",
   "id": "4e91d814",
   "metadata": {},
   "source": [
    "上面代码中，常量`foo`指向一个冻结的对象，所以添加新属性不起作用，严格模式时还会报错。\n",
    "\n",
    "除了将对象本身冻结，对象的属性也应该冻结。下面是一个将对象彻底冻结的函数。"
   ]
  },
  {
   "cell_type": "code",
   "execution_count": null,
   "id": "cd82cd94",
   "metadata": {
    "attributes": {
     "classes": [
      "javascript"
     ],
     "id": ""
    }
   },
   "outputs": [],
   "source": [
    "var constantize = (obj) => {\n",
    "  Object.freeze(obj);\n",
    "  Object.keys(obj).forEach( (key, i) => {\n",
    "    if ( typeof obj[key] === 'object' ) {\n",
    "      constantize( obj[key] );\n",
    "    }\n",
    "  });\n",
    "};"
   ]
  },
  {
   "cell_type": "markdown",
   "id": "603525a9",
   "metadata": {},
   "source": [
    "### ES6 声明变量的六种方法\n",
    "\n",
    "ES5 只有两种声明变量的方法：`var`命令和`function`命令。ES6 除了添加`let`和`const`命令，后面章节还会提到，另外两种声明变量的方法：`import`命令和`class`命令。所以，ES6 一共有 6 种声明变量的方法。\n",
    "\n",
    "## 顶层对象的属性\n",
    "\n",
    "顶层对象，在浏览器环境指的是`window`对象，在 Node 指的是`global`对象。ES5 之中，顶层对象的属性与全局变量是等价的。"
   ]
  },
  {
   "cell_type": "code",
   "execution_count": null,
   "id": "969c985b",
   "metadata": {
    "attributes": {
     "classes": [
      "javascript"
     ],
     "id": ""
    }
   },
   "outputs": [],
   "source": [
    "window.a = 1;\n",
    "a // 1\n",
    "\n",
    "a = 2;\n",
    "window.a // 2"
   ]
  },
  {
   "cell_type": "markdown",
   "id": "c8ce48dc",
   "metadata": {},
   "source": [
    "上面代码中，顶层对象的属性赋值与全局变量的赋值，是同一件事。\n",
    "\n",
    "顶层对象的属性与全局变量挂钩，被认为是 JavaScript 语言最大的设计败笔之一。这样的设计带来了几个很大的问题，首先是没法在编译时就报出变量未声明的错误，只有运行时才能知道（因为全局变量可能是顶层对象的属性创造的，而属性的创造是动态的）；其次，程序员很容易不知不觉地就创建了全局变量（比如打字出错）；最后，顶层对象的属性是到处可以读写的，这非常不利于模块化编程。另一方面，`window`对象有实体含义，指的是浏览器的窗口对象，顶层对象是一个有实体含义的对象，也是不合适的。\n",
    "\n",
    "ES6 为了改变这一点，一方面规定，为了保持兼容性，`var`命令和`function`命令声明的全局变量，依旧是顶层对象的属性；另一方面规定，`let`命令、`const`命令、`class`命令声明的全局变量，不属于顶层对象的属性。也就是说，从 ES6 开始，全局变量将逐步与顶层对象的属性脱钩。"
   ]
  },
  {
   "cell_type": "code",
   "execution_count": null,
   "id": "cb6e1ac9",
   "metadata": {
    "attributes": {
     "classes": [
      "javascript"
     ],
     "id": ""
    }
   },
   "outputs": [],
   "source": [
    "var a = 1;\n",
    "// 如果在 Node 的 REPL 环境，可以写成 global.a\n",
    "// 或者采用通用方法，写成 this.a\n",
    "window.a // 1\n",
    "\n",
    "let b = 1;\n",
    "window.b // undefined"
   ]
  },
  {
   "cell_type": "markdown",
   "id": "d09cbd94",
   "metadata": {},
   "source": [
    "上面代码中，全局变量`a`由`var`命令声明，所以它是顶层对象的属性；全局变量`b`由`let`命令声明，所以它不是顶层对象的属性，返回`undefined`。\n",
    "\n",
    "## globalThis 对象\n",
    "\n",
    "JavaScript 语言存在一个顶层对象，它提供全局环境（即全局作用域），所有代码都是在这个环境中运行。但是，顶层对象在各种实现里面是不统一的。\n",
    "\n",
    "- 浏览器里面，顶层对象是`window`，但 Node 和 Web Worker 没有`window`。\n",
    "- 浏览器和 Web Worker 里面，`self`也指向顶层对象，但是 Node 没有`self`。\n",
    "- Node 里面，顶层对象是`global`，但其他环境都不支持。\n",
    "\n",
    "同一段代码为了能够在各种环境，都能取到顶层对象，现在一般是使用`this`关键字，但是有局限性。\n",
    "\n",
    "- 全局环境中，`this`会返回顶层对象。但是，Node.js 模块中`this`返回的是当前模块，ES6 模块中`this`返回的是`undefined`。\n",
    "- 函数里面的`this`，如果函数不是作为对象的方法运行，而是单纯作为函数运行，`this`会指向顶层对象。但是，严格模式下，这时`this`会返回`undefined`。\n",
    "- 不管是严格模式，还是普通模式，`new Function('return this')()`，总是会返回全局对象。但是，如果浏览器用了 CSP（Content Security Policy，内容安全策略），那么`eval`、`new Function`这些方法都可能无法使用。\n",
    "\n",
    "综上所述，很难找到一种方法，可以在所有情况下，都取到顶层对象。下面是两种勉强可以使用的方法。"
   ]
  },
  {
   "cell_type": "code",
   "execution_count": null,
   "id": "b1b0b7f3",
   "metadata": {
    "attributes": {
     "classes": [
      "javascript"
     ],
     "id": ""
    }
   },
   "outputs": [],
   "source": [
    "// 方法一\n",
    "(typeof window !== 'undefined'\n",
    "   ? window\n",
    "   : (typeof process === 'object' &&\n",
    "      typeof require === 'function' &&\n",
    "      typeof global === 'object')\n",
    "     ? global\n",
    "     : this);\n",
    "\n",
    "// 方法二\n",
    "var getGlobal = function () {\n",
    "  if (typeof self !== 'undefined') { return self; }\n",
    "  if (typeof window !== 'undefined') { return window; }\n",
    "  if (typeof global !== 'undefined') { return global; }\n",
    "  throw new Error('unable to locate global object');\n",
    "};"
   ]
  },
  {
   "cell_type": "markdown",
   "id": "cdc36667",
   "metadata": {},
   "source": [
    "[ES2020](https://github.com/tc39/proposal-global) 在语言标准的层面，引入`globalThis`作为顶层对象。也就是说，任何环境下，`globalThis`都是存在的，都可以从它拿到顶层对象，指向全局环境下的`this`。\n",
    "\n",
    "垫片库[`global-this`](https://github.com/ungap/global-this)模拟了这个提案，可以在所有环境拿到`globalThis`。"
   ]
  }
 ],
 "metadata": {},
 "nbformat": 4,
 "nbformat_minor": 5
}

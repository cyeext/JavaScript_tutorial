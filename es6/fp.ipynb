{
 "cells": [
  {
   "cell_type": "markdown",
   "id": "9654ac52",
   "metadata": {},
   "source": [
    "# 函数式编程\n",
    "\n",
    "JavaScript 语言从一诞生，就具有函数式编程的烙印。它将函数作为一种独立的数据类型，与其他数据类型处于完全平等的地位。在 JavaScript 语言中，你可以采用面向对象编程，也可以采用函数式编程。有人甚至说，JavaScript 是有史以来第一种被大规模采用的函数式编程语言。\n",
    "\n",
    "ES6 的种种新增功能，使得函数式编程变得更方便、更强大。本章介绍 ES6 如何进行函数式编程。\n",
    "\n",
    "## 柯里化\n",
    "\n",
    "柯里化（currying）指的是将一个多参数的函数拆分成一系列函数，每个拆分后的函数都只接受一个参数（unary）。"
   ]
  },
  {
   "cell_type": "code",
   "execution_count": null,
   "id": "c50c5692",
   "metadata": {
    "attributes": {
     "classes": [
      "javascript"
     ],
     "id": ""
    }
   },
   "outputs": [],
   "source": [
    "function add (a, b) {\n",
    "  return a + b;\n",
    "}\n",
    "\n",
    "add(1, 1) // 2"
   ]
  },
  {
   "cell_type": "markdown",
   "id": "ed4f11c1",
   "metadata": {},
   "source": [
    "上面代码中，函数`add`接受两个参数`a`和`b`。\n",
    "\n",
    "柯里化就是将上面的函数拆分成两个函数，每个函数都只接受一个参数。"
   ]
  },
  {
   "cell_type": "code",
   "execution_count": null,
   "id": "9fd3bf29",
   "metadata": {
    "attributes": {
     "classes": [
      "javascript"
     ],
     "id": ""
    }
   },
   "outputs": [],
   "source": [
    "function add (a) {\n",
    "  return function (b) {\n",
    "    return a + b;\n",
    "  }\n",
    "}\n",
    "// 或者采用箭头函数写法\n",
    "const add = x => y => x + y;\n",
    "\n",
    "const f = add(1);\n",
    "f(1) // 2"
   ]
  },
  {
   "cell_type": "markdown",
   "id": "2714e7af",
   "metadata": {},
   "source": [
    "上面代码中，函数`add`只接受一个参数`a`，返回一个函数`f`。函数`f`也只接受一个参数`b`。\n",
    "\n",
    "## 函数合成\n",
    "\n",
    "函数合成（function composition）指的是，将多个函数合成一个函数。"
   ]
  },
  {
   "cell_type": "code",
   "execution_count": null,
   "id": "360341f1",
   "metadata": {
    "attributes": {
     "classes": [
      "javascript"
     ],
     "id": ""
    }
   },
   "outputs": [],
   "source": [
    "const compose = f => g => x => f(g(x));\n",
    "\n",
    "const f = compose (x => x * 4) (x => x + 3);\n",
    "f(2) // 20"
   ]
  },
  {
   "cell_type": "markdown",
   "id": "9dc9bcdf",
   "metadata": {},
   "source": [
    "上面代码中，`compose`就是一个函数合成器，用于将两个函数合成一个函数。\n",
    "\n",
    "可以发现，柯里化与函数合成有着密切的联系。前者用于将一个函数拆成多个函数，后者用于将多个函数合并成一个函数。\n",
    "\n",
    "## 参数倒置\n",
    "\n",
    "参数倒置（flip）指的是改变函数前两个参数的顺序。"
   ]
  },
  {
   "cell_type": "code",
   "execution_count": null,
   "id": "1e93ec9c",
   "metadata": {
    "attributes": {
     "classes": [
      "javascript"
     ],
     "id": ""
    }
   },
   "outputs": [],
   "source": [
    "var divide = (a, b) => a / b;\n",
    "var flip = f.flip(divide);\n",
    "\n",
    "flip(10, 5) // 0.5\n",
    "flip(1, 10) // 10\n",
    "\n",
    "var three = (a, b, c) => [a, b, c];\n",
    "var flip = f.flip(three);\n",
    "flip(1, 2, 3); // => [2, 1, 3]"
   ]
  },
  {
   "cell_type": "markdown",
   "id": "fc213949",
   "metadata": {},
   "source": [
    "上面代码中，如果按照正常的参数顺序，10 除以 5 等于 2。但是，参数倒置以后得到的新函数，结果就是 5 除以 10，结果得到 0.5。如果原函数有 3 个参数，则只颠倒前两个参数的位置。\n",
    "\n",
    "参数倒置的代码非常简单。"
   ]
  },
  {
   "cell_type": "code",
   "execution_count": null,
   "id": "c92647a4",
   "metadata": {
    "attributes": {
     "classes": [
      "javascript"
     ],
     "id": ""
    }
   },
   "outputs": [],
   "source": [
    "let f = {};\n",
    "f.flip =\n",
    "  fn =>\n",
    "    (a, b, ...args) => fn(b, a, ...args.reverse());"
   ]
  },
  {
   "cell_type": "markdown",
   "id": "88d465c4",
   "metadata": {},
   "source": [
    "## 执行边界\n",
    "\n",
    "执行边界（until）指的是函数执行到满足条件为止。"
   ]
  },
  {
   "cell_type": "code",
   "execution_count": null,
   "id": "a30f25bb",
   "metadata": {
    "attributes": {
     "classes": [
      "javascript"
     ],
     "id": ""
    }
   },
   "outputs": [],
   "source": [
    "let condition = x => x > 100;\n",
    "let inc = x => x + 1;\n",
    "let until = f.until(condition, inc);\n",
    "\n",
    "until(0) // 101\n",
    "\n",
    "condition = x => x === 5;\n",
    "until = f.until(condition, inc);\n",
    "\n",
    "until(3) // 5"
   ]
  },
  {
   "cell_type": "markdown",
   "id": "1cb8db58",
   "metadata": {},
   "source": [
    "上面代码中，第一段的条件是执行到`x`大于 100 为止，所以`x`初值为 0 时，会一直执行到 101。第二段的条件是执行到等于 5 为止，所以`x`最后的值是 5。\n",
    "\n",
    "执行边界的实现如下。"
   ]
  },
  {
   "cell_type": "code",
   "execution_count": null,
   "id": "16c3088b",
   "metadata": {
    "attributes": {
     "classes": [
      "javascript"
     ],
     "id": ""
    }
   },
   "outputs": [],
   "source": [
    "let f = {};\n",
    "f.until = (condition, f) =>\n",
    "  (...args) => {\n",
    "    var r = f.apply(null, args);\n",
    "    return condition(r) ? r : f.until(condition, f)(r);\n",
    "  };"
   ]
  },
  {
   "cell_type": "markdown",
   "id": "44dc137e",
   "metadata": {},
   "source": [
    "上面代码的关键就是，如果满足条件就返回结果，否则不断递归执行。\n",
    "\n",
    "## 队列操作\n",
    "\n",
    "队列（list）操作包括以下几种。\n",
    "\n",
    "- `head`： 取出队列的第一个非空成员。\n",
    "- `last`： 取出有限队列的最后一个非空成员。\n",
    "- `tail`： 取出除了“队列头”以外的其他非空成员。\n",
    "- `init`： 取出除了“队列尾”以外的其他非空成员。\n",
    "\n",
    "下面是例子。"
   ]
  },
  {
   "cell_type": "code",
   "execution_count": null,
   "id": "aa2c30c6",
   "metadata": {
    "attributes": {
     "classes": [
      "javascript"
     ],
     "id": ""
    }
   },
   "outputs": [],
   "source": [
    "f.head(5, 27, 3, 1) // 5\n",
    "f.last(5, 27, 3, 1) // 1\n",
    "f.tail(5, 27, 3, 1) // [27, 3, 1]\n",
    "f.init(5, 27, 3, 1) // [5, 27, 3]"
   ]
  },
  {
   "cell_type": "markdown",
   "id": "37bd55e4",
   "metadata": {},
   "source": [
    "这些方法的实现如下。"
   ]
  },
  {
   "cell_type": "code",
   "execution_count": null,
   "id": "475cd8f9",
   "metadata": {
    "attributes": {
     "classes": [
      "javascript"
     ],
     "id": ""
    }
   },
   "outputs": [],
   "source": [
    "let f = {};\n",
    "f.head = (...xs) => xs[0];\n",
    "f.last = (...xs) => xs.slice(-1);\n",
    "f.tail = (...xs) => Array.prototype.slice.call(xs, 1);\n",
    "f.init = (...xs) => xs.slice(0, -1);"
   ]
  },
  {
   "cell_type": "markdown",
   "id": "2acda285",
   "metadata": {},
   "source": [
    "## 合并操作\n",
    "\n",
    "合并操作分为`concat`和`concatMap`两种。前者就是将多个数组合成一个，后者则是先处理一下参数，然后再将处理结果合成一个数组。"
   ]
  },
  {
   "cell_type": "code",
   "execution_count": null,
   "id": "3130bbc6",
   "metadata": {
    "attributes": {
     "classes": [
      "javascript"
     ],
     "id": ""
    }
   },
   "outputs": [],
   "source": [
    "f.concat([5], [27], [3]) // [5, 27, 3]\n",
    "f.concatMap(x => 'hi ' + x, 1, [[2]], 3) // ['hi 1', 'hi 2', 'hi 3']"
   ]
  },
  {
   "cell_type": "markdown",
   "id": "a28563e3",
   "metadata": {},
   "source": [
    "这两种方法的实现代码如下。"
   ]
  },
  {
   "cell_type": "code",
   "execution_count": null,
   "id": "796fb44d",
   "metadata": {
    "attributes": {
     "classes": [
      "javascript"
     ],
     "id": ""
    }
   },
   "outputs": [],
   "source": [
    "let f = {};\n",
    "f.concat =\n",
    "  (...xs) => xs.reduce((a, b) => a.concat(b));\n",
    "f.concatMap =\n",
    "  (f, ...xs) => f.concat(xs.map(f));"
   ]
  },
  {
   "cell_type": "markdown",
   "id": "57ad86b5",
   "metadata": {},
   "source": [
    "## 配对操作\n",
    "\n",
    "配对操作分为`zip`和`zipWith`两种方法。`zip`操作将两个队列的成员，一一配对，合成一个新的队列。如果两个队列不等长，较长的那个队列多出来的成员，会被忽略。`zipWith`操作的第一个参数是一个函数，然后会将后面的队列成员一一配对，输入该函数，返回值就组成一个新的队列。\n",
    "\n",
    "下面是例子。"
   ]
  },
  {
   "cell_type": "code",
   "execution_count": null,
   "id": "312f36ea",
   "metadata": {
    "attributes": {
     "classes": [
      "javascript"
     ],
     "id": ""
    }
   },
   "outputs": [],
   "source": [
    "let a = [0, 1, 2];\n",
    "let b = [3, 4, 5];\n",
    "let c = [6, 7, 8];\n",
    "\n",
    "f.zip(a, b) // [[0, 3], [1, 4], [2, 5]]\n",
    "f.zipWith((a, b) => a + b, a, b, c) // [9, 12, 15]"
   ]
  },
  {
   "cell_type": "markdown",
   "id": "e61ca1ec",
   "metadata": {},
   "source": [
    "上面代码中，`zipWith`方法的第一个参数是一个求和函数，它将后面三个队列的成员，一一配对进行相加。\n",
    "\n",
    "这两个方法的实现如下。"
   ]
  },
  {
   "cell_type": "code",
   "execution_count": null,
   "id": "88c48115",
   "metadata": {
    "attributes": {
     "classes": [
      "javascript"
     ],
     "id": ""
    }
   },
   "outputs": [],
   "source": [
    "let f = {};\n",
    "\n",
    "f.zip = (...xs) => {\n",
    "  let r = [];\n",
    "  let nple = [];\n",
    "  let length = Math.min.apply(null, xs.map(x => x.length));\n",
    "\n",
    "  for (var i = 0; i < length; i++) {\n",
    "    xs.forEach(\n",
    "      x => nple.push(x[i])\n",
    "    );\n",
    "\n",
    "    r.push(nple);\n",
    "    nple = [];\n",
    "  }\n",
    "\n",
    "  return r;\n",
    "};\n",
    "\n",
    "f.zipWith = (op, ...xs) =>\n",
    "  f.zip.apply(null, xs).map(\n",
    "    (x) => x.reduce(op)\n",
    "  );"
   ]
  },
  {
   "cell_type": "markdown",
   "id": "82f12256",
   "metadata": {},
   "source": [
    "## 参考链接\n",
    "\n",
    "- Mateo Gianolio, [Haskell in ES6: Part 1](http://casualjavascript.com/?1)"
   ]
  }
 ],
 "metadata": {},
 "nbformat": 4,
 "nbformat_minor": 5
}

{
 "cells": [
  {
   "cell_type": "markdown",
   "id": "c92d0325",
   "metadata": {},
   "source": [
    "# Object 对象的相关方法\n",
    "\n",
    "JavaScript 在`Object`对象上面，提供了很多相关方法，处理面向对象编程的相关操作。本章介绍这些方法。\n",
    "\n",
    "## Object.getPrototypeOf()\n",
    "\n",
    "`Object.getPrototypeOf`方法返回参数对象的原型。这是获取原型对象的标准方法。"
   ]
  },
  {
   "cell_type": "code",
   "execution_count": null,
   "id": "0cf6e3b3",
   "metadata": {
    "attributes": {
     "classes": [
      "javascript"
     ],
     "id": ""
    }
   },
   "outputs": [],
   "source": [
    "var F = function () {};\n",
    "var f = new F();\n",
    "Object.getPrototypeOf(f) === F.prototype // true"
   ]
  },
  {
   "cell_type": "markdown",
   "id": "2add5527",
   "metadata": {},
   "source": [
    "上面代码中，实例对象`f`的原型是`F.prototype`。\n",
    "\n",
    "下面是几种特殊对象的原型。"
   ]
  },
  {
   "cell_type": "code",
   "execution_count": null,
   "id": "4e7d6206",
   "metadata": {
    "attributes": {
     "classes": [
      "javascript"
     ],
     "id": ""
    }
   },
   "outputs": [],
   "source": [
    "// 空对象的原型是 Object.prototype\n",
    "Object.getPrototypeOf({}) === Object.prototype // true\n",
    "\n",
    "// Object.prototype 的原型是 null\n",
    "Object.getPrototypeOf(Object.prototype) === null // true\n",
    "\n",
    "// 函数的原型是 Function.prototype\n",
    "function f() {}\n",
    "Object.getPrototypeOf(f) === Function.prototype // true"
   ]
  },
  {
   "cell_type": "markdown",
   "id": "f20a2d73",
   "metadata": {},
   "source": [
    "## Object.setPrototypeOf()\n",
    "\n",
    "`Object.setPrototypeOf`方法为参数对象设置原型，返回该参数对象。它接受两个参数，第一个是现有对象，第二个是原型对象。"
   ]
  },
  {
   "cell_type": "code",
   "execution_count": null,
   "id": "106b5dd1",
   "metadata": {
    "attributes": {
     "classes": [
      "javascript"
     ],
     "id": ""
    }
   },
   "outputs": [],
   "source": [
    "var a = {};\n",
    "var b = {x: 1};\n",
    "Object.setPrototypeOf(a, b);\n",
    "\n",
    "Object.getPrototypeOf(a) === b // true\n",
    "a.x // 1"
   ]
  },
  {
   "cell_type": "markdown",
   "id": "1a1bf152",
   "metadata": {},
   "source": [
    "上面代码中，`Object.setPrototypeOf`方法将对象`a`的原型，设置为对象`b`，因此`a`可以共享`b`的属性。\n",
    "\n",
    "`new`命令可以使用`Object.setPrototypeOf`方法模拟。"
   ]
  },
  {
   "cell_type": "code",
   "execution_count": null,
   "id": "e1c971ae",
   "metadata": {
    "attributes": {
     "classes": [
      "javascript"
     ],
     "id": ""
    }
   },
   "outputs": [],
   "source": [
    "var F = function () {\n",
    "  this.foo = 'bar';\n",
    "};\n",
    "\n",
    "var f = new F();\n",
    "// 等同于\n",
    "var f = Object.setPrototypeOf({}, F.prototype);\n",
    "F.call(f);"
   ]
  },
  {
   "cell_type": "markdown",
   "id": "f21573db",
   "metadata": {},
   "source": [
    "上面代码中，`new`命令新建实例对象，其实可以分成两步。第一步，将一个空对象的原型设为构造函数的`prototype`属性（上例是`F.prototype`）；第二步，将构造函数内部的`this`绑定这个空对象，然后执行构造函数，使得定义在`this`上面的方法和属性（上例是`this.foo`），都转移到这个空对象上。\n",
    "\n",
    "## Object.create()\n",
    "\n",
    "生成实例对象的常用方法是，使用`new`命令让构造函数返回一个实例。但是很多时候，只能拿到一个实例对象，它可能根本不是由构建函数生成的，那么能不能从一个实例对象，生成另一个实例对象呢？\n",
    "\n",
    "JavaScript 提供了`Object.create()`方法，用来满足这种需求。该方法接受一个对象作为参数，然后以它为原型，返回一个实例对象。该实例完全继承原型对象的属性。"
   ]
  },
  {
   "cell_type": "code",
   "execution_count": null,
   "id": "9911355c",
   "metadata": {
    "attributes": {
     "classes": [
      "javascript"
     ],
     "id": ""
    }
   },
   "outputs": [],
   "source": [
    "// 原型对象\n",
    "var A = {\n",
    "  print: function () {\n",
    "    console.log('hello');\n",
    "  }\n",
    "};\n",
    "\n",
    "// 实例对象\n",
    "var B = Object.create(A);\n",
    "\n",
    "Object.getPrototypeOf(B) === A // true\n",
    "B.print() // hello\n",
    "B.print === A.print // true"
   ]
  },
  {
   "cell_type": "markdown",
   "id": "b4eb28ff",
   "metadata": {},
   "source": [
    "上面代码中，`Object.create()`方法以`A`对象为原型，生成了`B`对象。`B`继承了`A`的所有属性和方法。\n",
    "\n",
    "实际上，`Object.create()`方法可以用下面的代码代替。"
   ]
  },
  {
   "cell_type": "code",
   "execution_count": null,
   "id": "38390de5",
   "metadata": {
    "attributes": {
     "classes": [
      "javascript"
     ],
     "id": ""
    }
   },
   "outputs": [],
   "source": [
    "if (typeof Object.create !== 'function') {\n",
    "  Object.create = function (obj) {\n",
    "    function F() {}\n",
    "    F.prototype = obj;\n",
    "    return new F();\n",
    "  };\n",
    "}"
   ]
  },
  {
   "cell_type": "markdown",
   "id": "920f69ca",
   "metadata": {},
   "source": [
    "上面代码表明，`Object.create()`方法的实质是新建一个空的构造函数`F`，然后让`F.prototype`属性指向参数对象`obj`，最后返回一个`F`的实例，从而实现让该实例继承`obj`的属性。\n",
    "\n",
    "下面三种方式生成的新对象是等价的。"
   ]
  },
  {
   "cell_type": "code",
   "execution_count": null,
   "id": "c26ab9a4",
   "metadata": {
    "attributes": {
     "classes": [
      "javascript"
     ],
     "id": ""
    }
   },
   "outputs": [],
   "source": [
    "var obj1 = Object.create({});\n",
    "var obj2 = Object.create(Object.prototype);\n",
    "var obj3 = new Object();"
   ]
  },
  {
   "cell_type": "markdown",
   "id": "9a95749c",
   "metadata": {},
   "source": [
    "如果想要生成一个不继承任何属性（比如没有`toString()`和`valueOf()`方法）的对象，可以将`Object.create()`的参数设为`null`。"
   ]
  },
  {
   "cell_type": "code",
   "execution_count": null,
   "id": "a140cf27",
   "metadata": {
    "attributes": {
     "classes": [
      "javascript"
     ],
     "id": ""
    }
   },
   "outputs": [],
   "source": [
    "var obj = Object.create(null);\n",
    "\n",
    "obj.valueOf()\n",
    "// TypeError: Object [object Object] has no method 'valueOf'"
   ]
  },
  {
   "cell_type": "markdown",
   "id": "03914861",
   "metadata": {},
   "source": [
    "上面代码中，对象`obj`的原型是`null`，它就不具备一些定义在`Object.prototype`对象上面的属性，比如`valueOf()`方法。\n",
    "\n",
    "使用`Object.create()`方法的时候，必须提供对象原型，即参数不能为空，或者不是对象，否则会报错。"
   ]
  },
  {
   "cell_type": "code",
   "execution_count": null,
   "id": "962938e3",
   "metadata": {
    "attributes": {
     "classes": [
      "javascript"
     ],
     "id": ""
    }
   },
   "outputs": [],
   "source": [
    "Object.create()\n",
    "// TypeError: Object prototype may only be an Object or null\n",
    "Object.create(123)\n",
    "// TypeError: Object prototype may only be an Object or null"
   ]
  },
  {
   "cell_type": "markdown",
   "id": "62dc9e6a",
   "metadata": {},
   "source": [
    "`Object.create()`方法生成的新对象，动态继承了原型。在原型上添加或修改任何方法，会立刻反映在新对象之上。"
   ]
  },
  {
   "cell_type": "code",
   "execution_count": null,
   "id": "17b599d2",
   "metadata": {
    "attributes": {
     "classes": [
      "javascript"
     ],
     "id": ""
    }
   },
   "outputs": [],
   "source": [
    "var obj1 = { p: 1 };\n",
    "var obj2 = Object.create(obj1);\n",
    "\n",
    "obj1.p = 2;\n",
    "obj2.p // 2"
   ]
  },
  {
   "cell_type": "markdown",
   "id": "0ae2405a",
   "metadata": {},
   "source": [
    "上面代码中，修改对象原型`obj1`会影响到实例对象`obj2`。\n",
    "\n",
    "除了对象的原型，`Object.create()`方法还可以接受第二个参数。该参数是一个属性描述对象，它所描述的对象属性，会添加到实例对象，作为该对象自身的属性。"
   ]
  },
  {
   "cell_type": "code",
   "execution_count": null,
   "id": "51ccd7dc",
   "metadata": {
    "attributes": {
     "classes": [
      "javascript"
     ],
     "id": ""
    }
   },
   "outputs": [],
   "source": [
    "var obj = Object.create({}, {\n",
    "  p1: {\n",
    "    value: 123,\n",
    "    enumerable: true,\n",
    "    configurable: true,\n",
    "    writable: true,\n",
    "  },\n",
    "  p2: {\n",
    "    value: 'abc',\n",
    "    enumerable: true,\n",
    "    configurable: true,\n",
    "    writable: true,\n",
    "  }\n",
    "});\n",
    "\n",
    "// 等同于\n",
    "var obj = Object.create({});\n",
    "obj.p1 = 123;\n",
    "obj.p2 = 'abc';"
   ]
  },
  {
   "cell_type": "markdown",
   "id": "424958fd",
   "metadata": {},
   "source": [
    "`Object.create()`方法生成的对象，继承了它的原型对象的构造函数。"
   ]
  },
  {
   "cell_type": "code",
   "execution_count": null,
   "id": "9f3c2cbd",
   "metadata": {
    "attributes": {
     "classes": [
      "javascript"
     ],
     "id": ""
    }
   },
   "outputs": [],
   "source": [
    "function A() {}\n",
    "var a = new A();\n",
    "var b = Object.create(a);\n",
    "\n",
    "b.constructor === A // true\n",
    "b instanceof A // true"
   ]
  },
  {
   "cell_type": "markdown",
   "id": "818f59be",
   "metadata": {},
   "source": [
    "上面代码中，`b`对象的原型是`a`对象，因此继承了`a`对象的构造函数`A`。\n",
    "\n",
    "## Object.prototype.isPrototypeOf()\n",
    "\n",
    "实例对象的`isPrototypeOf`方法，用来判断该对象是否为参数对象的原型。"
   ]
  },
  {
   "cell_type": "code",
   "execution_count": null,
   "id": "91dae53d",
   "metadata": {
    "attributes": {
     "classes": [
      "javascript"
     ],
     "id": ""
    }
   },
   "outputs": [],
   "source": [
    "var o1 = {};\n",
    "var o2 = Object.create(o1);\n",
    "var o3 = Object.create(o2);\n",
    "\n",
    "o2.isPrototypeOf(o3) // true\n",
    "o1.isPrototypeOf(o3) // true"
   ]
  },
  {
   "cell_type": "markdown",
   "id": "e1cd04b6",
   "metadata": {},
   "source": [
    "上面代码中，`o1`和`o2`都是`o3`的原型。这表明只要实例对象处在参数对象的原型链上，`isPrototypeOf`方法都返回`true`。"
   ]
  },
  {
   "cell_type": "code",
   "execution_count": null,
   "id": "48c2c865",
   "metadata": {
    "attributes": {
     "classes": [
      "javascript"
     ],
     "id": ""
    }
   },
   "outputs": [],
   "source": [
    "Object.prototype.isPrototypeOf({}) // true\n",
    "Object.prototype.isPrototypeOf([]) // true\n",
    "Object.prototype.isPrototypeOf(/xyz/) // true\n",
    "Object.prototype.isPrototypeOf(Object.create(null)) // false"
   ]
  },
  {
   "cell_type": "markdown",
   "id": "722b9b16",
   "metadata": {},
   "source": [
    "上面代码中，由于`Object.prototype`处于原型链的最顶端，所以对各种实例都返回`true`，只有直接继承自`null`的对象除外。\n",
    "\n",
    "## Object.prototype.\\_\\_proto\\_\\_\n",
    "\n",
    "实例对象的`__proto__`属性（前后各两个下划线），返回该对象的原型。该属性可读写。"
   ]
  },
  {
   "cell_type": "code",
   "execution_count": null,
   "id": "13e70984",
   "metadata": {
    "attributes": {
     "classes": [
      "javascript"
     ],
     "id": ""
    }
   },
   "outputs": [],
   "source": [
    "var obj = {};\n",
    "var p = {};\n",
    "\n",
    "obj.__proto__ = p;\n",
    "Object.getPrototypeOf(obj) === p // true"
   ]
  },
  {
   "cell_type": "markdown",
   "id": "7875b3c3",
   "metadata": {},
   "source": [
    "上面代码通过`__proto__`属性，将`p`对象设为`obj`对象的原型。\n",
    "\n",
    "根据语言标准，`__proto__`属性只有浏览器才需要部署，其他环境可以没有这个属性。它前后的两根下划线，表明它本质是一个内部属性，不应该对使用者暴露。因此，应该尽量少用这个属性，而是用`Object.getPrototypeOf()`和`Object.setPrototypeOf()`，进行原型对象的读写操作。\n",
    "\n",
    "原型链可以用`__proto__`很直观地表示。"
   ]
  },
  {
   "cell_type": "code",
   "execution_count": null,
   "id": "0daf84e0",
   "metadata": {
    "attributes": {
     "classes": [
      "javascript"
     ],
     "id": ""
    }
   },
   "outputs": [],
   "source": [
    "var A = {\n",
    "  name: '张三'\n",
    "};\n",
    "var B = {\n",
    "  name: '李四'\n",
    "};\n",
    "\n",
    "var proto = {\n",
    "  print: function () {\n",
    "    console.log(this.name);\n",
    "  }\n",
    "};\n",
    "\n",
    "A.__proto__ = proto;\n",
    "B.__proto__ = proto;\n",
    "\n",
    "A.print() // 张三\n",
    "B.print() // 李四\n",
    "\n",
    "A.print === B.print // true\n",
    "A.print === proto.print // true\n",
    "B.print === proto.print // true"
   ]
  },
  {
   "cell_type": "markdown",
   "id": "8b918bb4",
   "metadata": {},
   "source": [
    "上面代码中，`A`对象和`B`对象的原型都是`proto`对象，它们都共享`proto`对象的`print`方法。也就是说，`A`和`B`的`print`方法，都是在调用`proto`对象的`print`方法。\n",
    "\n",
    "## 获取原型对象方法的比较\n",
    "\n",
    "如前所述，`__proto__`属性指向当前对象的原型对象，即构造函数的`prototype`属性。"
   ]
  },
  {
   "cell_type": "code",
   "execution_count": null,
   "id": "b945b1b9",
   "metadata": {
    "attributes": {
     "classes": [
      "javascript"
     ],
     "id": ""
    }
   },
   "outputs": [],
   "source": [
    "var obj = new Object();\n",
    "\n",
    "obj.__proto__ === Object.prototype\n",
    "// true\n",
    "obj.__proto__ === obj.constructor.prototype\n",
    "// true"
   ]
  },
  {
   "cell_type": "markdown",
   "id": "b867d1f3",
   "metadata": {},
   "source": [
    "上面代码首先新建了一个对象`obj`，它的`__proto__`属性，指向构造函数（`Object`或`obj.constructor`）的`prototype`属性。\n",
    "\n",
    "因此，获取实例对象`obj`的原型对象，有三种方法。\n",
    "\n",
    "- `obj.__proto__`\n",
    "- `obj.constructor.prototype`\n",
    "- `Object.getPrototypeOf(obj)`\n",
    "\n",
    "上面三种方法之中，前两种都不是很可靠。`__proto__`属性只有浏览器才需要部署，其他环境可以不部署。而`obj.constructor.prototype`在手动改变原型对象时，可能会失效。"
   ]
  },
  {
   "cell_type": "code",
   "execution_count": null,
   "id": "19c72e82",
   "metadata": {
    "attributes": {
     "classes": [
      "javascript"
     ],
     "id": ""
    }
   },
   "outputs": [],
   "source": [
    "var P = function () {};\n",
    "var p = new P();\n",
    "\n",
    "var C = function () {};\n",
    "C.prototype = p;\n",
    "var c = new C();\n",
    "\n",
    "c.constructor.prototype === p // false"
   ]
  },
  {
   "cell_type": "markdown",
   "id": "0c76cbdb",
   "metadata": {},
   "source": [
    "上面代码中，构造函数`C`的原型对象被改成了`p`，但是实例对象的`c.constructor.prototype`却没有指向`p`。所以，在改变原型对象时，一般要同时设置`constructor`属性。"
   ]
  },
  {
   "cell_type": "code",
   "execution_count": null,
   "id": "89f86b48",
   "metadata": {
    "attributes": {
     "classes": [
      "javascript"
     ],
     "id": ""
    }
   },
   "outputs": [],
   "source": [
    "C.prototype = p;\n",
    "C.prototype.constructor = C;\n",
    "\n",
    "var c = new C();\n",
    "c.constructor.prototype === p // true"
   ]
  },
  {
   "cell_type": "markdown",
   "id": "d7040e86",
   "metadata": {},
   "source": [
    "因此，推荐使用第三种`Object.getPrototypeOf`方法，获取原型对象。\n",
    "\n",
    "## Object.getOwnPropertyNames()\n",
    "\n",
    "`Object.getOwnPropertyNames`方法返回一个数组，成员是参数对象本身的所有属性的键名，不包含继承的属性键名。"
   ]
  },
  {
   "cell_type": "code",
   "execution_count": null,
   "id": "c0468712",
   "metadata": {
    "attributes": {
     "classes": [
      "javascript"
     ],
     "id": ""
    }
   },
   "outputs": [],
   "source": [
    "Object.getOwnPropertyNames(Date)\n",
    "// [\"parse\", \"arguments\", \"UTC\", \"caller\", \"name\", \"prototype\", \"now\", \"length\"]"
   ]
  },
  {
   "cell_type": "markdown",
   "id": "a23a3cd3",
   "metadata": {},
   "source": [
    "上面代码中，`Object.getOwnPropertyNames`方法返回`Date`所有自身的属性名。\n",
    "\n",
    "对象本身的属性之中，有的是可以遍历的（enumerable），有的是不可以遍历的。`Object.getOwnPropertyNames`方法返回所有键名，不管是否可以遍历。只获取那些可以遍历的属性，使用`Object.keys`方法。"
   ]
  },
  {
   "cell_type": "code",
   "execution_count": null,
   "id": "36443154",
   "metadata": {
    "attributes": {
     "classes": [
      "javascript"
     ],
     "id": ""
    }
   },
   "outputs": [],
   "source": [
    "Object.keys(Date) // []"
   ]
  },
  {
   "cell_type": "markdown",
   "id": "9d947e54",
   "metadata": {},
   "source": [
    "上面代码表明，`Date`对象所有自身的属性，都是不可以遍历的。\n",
    "\n",
    "## Object.prototype.hasOwnProperty()\n",
    "\n",
    "对象实例的`hasOwnProperty`方法返回一个布尔值，用于判断某个属性定义在对象自身，还是定义在原型链上。"
   ]
  },
  {
   "cell_type": "code",
   "execution_count": null,
   "id": "001f4dd9",
   "metadata": {
    "attributes": {
     "classes": [
      "javascript"
     ],
     "id": ""
    }
   },
   "outputs": [],
   "source": [
    "Date.hasOwnProperty('length') // true\n",
    "Date.hasOwnProperty('toString') // false"
   ]
  },
  {
   "cell_type": "markdown",
   "id": "82173245",
   "metadata": {},
   "source": [
    "上面代码表明，`Date.length`（构造函数`Date`可以接受多少个参数）是`Date`自身的属性，`Date.toString`是继承的属性。\n",
    "\n",
    "另外，`hasOwnProperty`方法是 JavaScript 之中唯一一个处理对象属性时，不会遍历原型链的方法。\n",
    "\n",
    "## in 运算符和 for...in 循环\n",
    "\n",
    "`in`运算符返回一个布尔值，表示一个对象是否具有某个属性。它不区分该属性是对象自身的属性，还是继承的属性。"
   ]
  },
  {
   "cell_type": "code",
   "execution_count": null,
   "id": "309cd6fc",
   "metadata": {
    "attributes": {
     "classes": [
      "javascript"
     ],
     "id": ""
    }
   },
   "outputs": [],
   "source": [
    "'length' in Date // true\n",
    "'toString' in Date // true"
   ]
  },
  {
   "cell_type": "markdown",
   "id": "f2bce0be",
   "metadata": {},
   "source": [
    "`in`运算符常用于检查一个属性是否存在。\n",
    "\n",
    "获得对象的所有可遍历属性（不管是自身的还是继承的），可以使用`for...in`循环。"
   ]
  },
  {
   "cell_type": "code",
   "execution_count": null,
   "id": "265688c5",
   "metadata": {
    "attributes": {
     "classes": [
      "javascript"
     ],
     "id": ""
    }
   },
   "outputs": [],
   "source": [
    "var o1 = { p1: 123 };\n",
    "\n",
    "var o2 = Object.create(o1, {\n",
    "  p2: { value: \"abc\", enumerable: true }\n",
    "});\n",
    "\n",
    "for (p in o2) {\n",
    "  console.info(p);\n",
    "}\n",
    "// p2\n",
    "// p1"
   ]
  },
  {
   "cell_type": "markdown",
   "id": "01e9fa99",
   "metadata": {},
   "source": [
    "上面代码中，对象`o2`的`p2`属性是自身的，`p1`属性是继承的。这两个属性都会被`for...in`循环遍历。\n",
    "\n",
    "为了在`for...in`循环中获得对象自身的属性，可以采用`hasOwnProperty`方法判断一下。"
   ]
  },
  {
   "cell_type": "code",
   "execution_count": null,
   "id": "e80083f9",
   "metadata": {
    "attributes": {
     "classes": [
      "javascript"
     ],
     "id": ""
    }
   },
   "outputs": [],
   "source": [
    "for ( var name in object ) {\n",
    "  if ( object.hasOwnProperty(name) ) {\n",
    "    /* loop code */\n",
    "  }\n",
    "}"
   ]
  },
  {
   "cell_type": "markdown",
   "id": "635e1a93",
   "metadata": {},
   "source": [
    "获得对象的所有属性（不管是自身的还是继承的，也不管是否可枚举），可以使用下面的函数。"
   ]
  },
  {
   "cell_type": "code",
   "execution_count": null,
   "id": "9da3efb9",
   "metadata": {
    "attributes": {
     "classes": [
      "javascript"
     ],
     "id": ""
    }
   },
   "outputs": [],
   "source": [
    "function inheritedPropertyNames(obj) {\n",
    "  var props = {};\n",
    "  while(obj) {\n",
    "    Object.getOwnPropertyNames(obj).forEach(function(p) {\n",
    "      props[p] = true;\n",
    "    });\n",
    "    obj = Object.getPrototypeOf(obj);\n",
    "  }\n",
    "  return Object.getOwnPropertyNames(props);\n",
    "}"
   ]
  },
  {
   "cell_type": "markdown",
   "id": "49a8204d",
   "metadata": {},
   "source": [
    "上面代码依次获取`obj`对象的每一级原型对象“自身”的属性，从而获取`obj`对象的“所有”属性，不管是否可遍历。\n",
    "\n",
    "下面是一个例子，列出`Date`对象的所有属性。"
   ]
  },
  {
   "cell_type": "code",
   "execution_count": null,
   "id": "04f6ccf2",
   "metadata": {
    "attributes": {
     "classes": [
      "javascript"
     ],
     "id": ""
    }
   },
   "outputs": [],
   "source": [
    "inheritedPropertyNames(Date)\n",
    "// [\n",
    "//  \"caller\",\n",
    "//  \"constructor\",\n",
    "//  \"toString\",\n",
    "//  \"UTC\",\n",
    "//  ...\n",
    "// ]"
   ]
  },
  {
   "cell_type": "markdown",
   "id": "51d0021a",
   "metadata": {},
   "source": [
    "## 对象的拷贝\n",
    "\n",
    "如果要拷贝一个对象，需要做到下面两件事情。\n",
    "\n",
    "- 确保拷贝后的对象，与原对象具有同样的原型。\n",
    "- 确保拷贝后的对象，与原对象具有同样的实例属性。\n",
    "\n",
    "下面就是根据上面两点，实现的对象拷贝函数。"
   ]
  },
  {
   "cell_type": "code",
   "execution_count": null,
   "id": "c62d68d4",
   "metadata": {
    "attributes": {
     "classes": [
      "javascript"
     ],
     "id": ""
    }
   },
   "outputs": [],
   "source": [
    "function copyObject(orig) {\n",
    "  var copy = Object.create(Object.getPrototypeOf(orig));\n",
    "  copyOwnPropertiesFrom(copy, orig);\n",
    "  return copy;\n",
    "}\n",
    "\n",
    "function copyOwnPropertiesFrom(target, source) {\n",
    "  Object\n",
    "    .getOwnPropertyNames(source)\n",
    "    .forEach(function (propKey) {\n",
    "      var desc = Object.getOwnPropertyDescriptor(source, propKey);\n",
    "      Object.defineProperty(target, propKey, desc);\n",
    "    });\n",
    "  return target;\n",
    "}"
   ]
  },
  {
   "cell_type": "markdown",
   "id": "c24d1024",
   "metadata": {},
   "source": [
    "另一种更简单的写法，是利用 ES2017 才引入标准的`Object.getOwnPropertyDescriptors`方法。"
   ]
  },
  {
   "cell_type": "code",
   "execution_count": null,
   "id": "cd991621",
   "metadata": {
    "attributes": {
     "classes": [
      "javascript"
     ],
     "id": ""
    }
   },
   "outputs": [],
   "source": [
    "function copyObject(orig) {\n",
    "  return Object.create(\n",
    "    Object.getPrototypeOf(orig),\n",
    "    Object.getOwnPropertyDescriptors(orig)\n",
    "  );\n",
    "}"
   ]
  },
  {
   "cell_type": "markdown",
   "id": "a9399430",
   "metadata": {},
   "source": [
    "## 参考链接\n",
    "\n",
    "- Dr. Axel Rauschmayer, [JavaScript properties: inheritance and enumerability](http://www.2ality.com/2011/07/js-properties.html)"
   ]
  }
 ],
 "metadata": {},
 "nbformat": 4,
 "nbformat_minor": 5
}

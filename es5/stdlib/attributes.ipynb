{
 "cells": [
  {
   "cell_type": "markdown",
   "id": "f6ad5e8f",
   "metadata": {},
   "source": [
    "# 属性描述对象\n",
    "\n",
    "## 概述\n",
    "\n",
    "JavaScript 提供了一个内部数据结构，用来描述对象的属性，控制它的行为，比如该属性是否可写、可遍历等等。这个内部数据结构称为“属性描述对象”（attributes object）。每个属性都有自己对应的属性描述对象，保存该属性的一些元信息。\n",
    "\n",
    "下面是属性描述对象的一个例子。"
   ]
  },
  {
   "cell_type": "code",
   "execution_count": null,
   "id": "73bfb0e6",
   "metadata": {
    "attributes": {
     "classes": [
      "javascript"
     ],
     "id": ""
    }
   },
   "outputs": [],
   "source": [
    "{\n",
    "  value: 123,\n",
    "  writable: false,\n",
    "  enumerable: true,\n",
    "  configurable: false,\n",
    "  get: undefined,\n",
    "  set: undefined\n",
    "}"
   ]
  },
  {
   "cell_type": "markdown",
   "id": "f266b150",
   "metadata": {},
   "source": [
    "属性描述对象提供6个元属性。\n",
    "\n",
    "（1）`value`\n",
    "\n",
    "`value`是该属性的属性值，默认为`undefined`。\n",
    "\n",
    "（2）`writable`\n",
    "\n",
    "`writable`是一个布尔值，表示属性值（value）是否可改变（即是否可写），默认为`true`。\n",
    "\n",
    "（3）`enumerable`\n",
    "\n",
    "`enumerable`是一个布尔值，表示该属性是否可遍历，默认为`true`。如果设为`false`，会使得某些操作（比如`for...in`循环、`Object.keys()`）跳过该属性。\n",
    "\n",
    "（4）`configurable`\n",
    "\n",
    "`configurable`是一个布尔值，表示属性的可配置性，默认为`true`。如果设为`false`，将阻止某些操作改写属性描述对象，比如无法删除该属性，也不得改变各种元属性（`value`属性除外）。也就是说，`configurable`属性控制了属性描述对象的可写性。\n",
    "\n",
    "（5）`get`\n",
    "\n",
    "`get`是一个函数，表示该属性的取值函数（getter），默认为`undefined`。\n",
    "\n",
    "（6）`set`\n",
    "\n",
    "`set`是一个函数，表示该属性的存值函数（setter），默认为`undefined`。\n",
    "\n",
    "## Object.getOwnPropertyDescriptor()\n",
    "\n",
    "`Object.getOwnPropertyDescriptor()`方法可以获取属性描述对象。它的第一个参数是目标对象，第二个参数是一个字符串，对应目标对象的某个属性名。"
   ]
  },
  {
   "cell_type": "code",
   "execution_count": null,
   "id": "6d1f398d",
   "metadata": {
    "attributes": {
     "classes": [
      "javascript"
     ],
     "id": ""
    }
   },
   "outputs": [],
   "source": [
    "var obj = { p: 'a' };\n",
    "\n",
    "Object.getOwnPropertyDescriptor(obj, 'p')\n",
    "// Object { value: \"a\",\n",
    "//   writable: true,\n",
    "//   enumerable: true,\n",
    "//   configurable: true\n",
    "// }"
   ]
  },
  {
   "cell_type": "markdown",
   "id": "79aa2d49",
   "metadata": {},
   "source": [
    "上面代码中，`Object.getOwnPropertyDescriptor()`方法获取`obj.p`的属性描述对象。\n",
    "\n",
    "注意，`Object.getOwnPropertyDescriptor()`方法只能用于对象自身的属性，不能用于继承的属性。"
   ]
  },
  {
   "cell_type": "code",
   "execution_count": null,
   "id": "8293e712",
   "metadata": {
    "attributes": {
     "classes": [
      "javascript"
     ],
     "id": ""
    }
   },
   "outputs": [],
   "source": [
    "var obj = { p: 'a' };\n",
    "\n",
    "Object.getOwnPropertyDescriptor(obj, 'toString')\n",
    "// undefined"
   ]
  },
  {
   "cell_type": "markdown",
   "id": "5a27e8e5",
   "metadata": {},
   "source": [
    "上面代码中，`toString`是`obj`对象继承的属性，`Object.getOwnPropertyDescriptor()`无法获取。\n",
    "\n",
    "## Object.getOwnPropertyNames()\n",
    "\n",
    "`Object.getOwnPropertyNames`方法返回一个数组，成员是参数对象自身的全部属性的属性名，不管该属性是否可遍历。"
   ]
  },
  {
   "cell_type": "code",
   "execution_count": null,
   "id": "58f304ba",
   "metadata": {
    "attributes": {
     "classes": [
      "javascript"
     ],
     "id": ""
    }
   },
   "outputs": [],
   "source": [
    "var obj = Object.defineProperties({}, {\n",
    "  p1: { value: 1, enumerable: true },\n",
    "  p2: { value: 2, enumerable: false }\n",
    "});\n",
    "\n",
    "Object.getOwnPropertyNames(obj)\n",
    "// [\"p1\", \"p2\"]"
   ]
  },
  {
   "cell_type": "markdown",
   "id": "7b332533",
   "metadata": {},
   "source": [
    "上面代码中，`obj.p1`是可遍历的，`obj.p2`是不可遍历的。`Object.getOwnPropertyNames`会将它们都返回。\n",
    "\n",
    "这跟`Object.keys`的行为不同，`Object.keys`只返回对象自身的可遍历属性的全部属性名。"
   ]
  },
  {
   "cell_type": "code",
   "execution_count": null,
   "id": "fedfedc9",
   "metadata": {
    "attributes": {
     "classes": [
      "javascript"
     ],
     "id": ""
    }
   },
   "outputs": [],
   "source": [
    "Object.keys([]) // []\n",
    "Object.getOwnPropertyNames([]) // [ 'length' ]\n",
    "\n",
    "Object.keys(Object.prototype) // []\n",
    "Object.getOwnPropertyNames(Object.prototype)\n",
    "// ['hasOwnProperty',\n",
    "//  'valueOf',\n",
    "//  'constructor',\n",
    "//  'toLocaleString',\n",
    "//  'isPrototypeOf',\n",
    "//  'propertyIsEnumerable',\n",
    "//  'toString']"
   ]
  },
  {
   "cell_type": "markdown",
   "id": "77c8ad2f",
   "metadata": {},
   "source": [
    "上面代码中，数组自身的`length`属性是不可遍历的，`Object.keys`不会返回该属性。第二个例子的`Object.prototype`也是一个对象，所有实例对象都会继承它，它自身的属性都是不可遍历的。\n",
    "\n",
    "## Object.defineProperty()，Object.defineProperties()\n",
    "\n",
    "`Object.defineProperty()`方法允许通过属性描述对象，定义或修改一个属性，然后返回修改后的对象，它的用法如下。"
   ]
  },
  {
   "cell_type": "code",
   "execution_count": null,
   "id": "2b269be3",
   "metadata": {
    "attributes": {
     "classes": [
      "javascript"
     ],
     "id": ""
    }
   },
   "outputs": [],
   "source": [
    "Object.defineProperty(object, propertyName, attributesObject)"
   ]
  },
  {
   "cell_type": "markdown",
   "id": "be9b6afb",
   "metadata": {},
   "source": [
    "`Object.defineProperty`方法接受三个参数，依次如下。\n",
    "\n",
    "- object：属性所在的对象\n",
    "- propertyName：字符串，表示属性名\n",
    "- attributesObject：属性描述对象\n",
    "\n",
    "举例来说，定义`obj.p`可以写成下面这样。"
   ]
  },
  {
   "cell_type": "code",
   "execution_count": null,
   "id": "3ddea6d3",
   "metadata": {
    "attributes": {
     "classes": [
      "javascript"
     ],
     "id": ""
    }
   },
   "outputs": [],
   "source": [
    "var obj = Object.defineProperty({}, 'p', {\n",
    "  value: 123,\n",
    "  writable: false,\n",
    "  enumerable: true,\n",
    "  configurable: false\n",
    "});\n",
    "\n",
    "obj.p // 123\n",
    "\n",
    "obj.p = 246;\n",
    "obj.p // 123"
   ]
  },
  {
   "cell_type": "markdown",
   "id": "32983f97",
   "metadata": {},
   "source": [
    "上面代码中，`Object.defineProperty()`方法定义了`obj.p`属性。由于属性描述对象的`writable`属性为`false`，所以`obj.p`属性不可写。注意，这里的`Object.defineProperty`方法的第一个参数是`{}`（一个新建的空对象），`p`属性直接定义在这个空对象上面，然后返回这个对象，这是`Object.defineProperty()`的常见用法。\n",
    "\n",
    "如果属性已经存在，`Object.defineProperty()`方法相当于更新该属性的属性描述对象。\n",
    "\n",
    "如果一次性定义或修改多个属性，可以使用`Object.defineProperties()`方法。"
   ]
  },
  {
   "cell_type": "code",
   "execution_count": null,
   "id": "e412dbfe",
   "metadata": {
    "attributes": {
     "classes": [
      "javascript"
     ],
     "id": ""
    }
   },
   "outputs": [],
   "source": [
    "var obj = Object.defineProperties({}, {\n",
    "  p1: { value: 123, enumerable: true },\n",
    "  p2: { value: 'abc', enumerable: true },\n",
    "  p3: { get: function () { return this.p1 + this.p2 },\n",
    "    enumerable:true,\n",
    "    configurable:true\n",
    "  }\n",
    "});\n",
    "\n",
    "obj.p1 // 123\n",
    "obj.p2 // \"abc\"\n",
    "obj.p3 // \"123abc\""
   ]
  },
  {
   "cell_type": "markdown",
   "id": "55bcefb2",
   "metadata": {},
   "source": [
    "上面代码中，`Object.defineProperties()`同时定义了`obj`对象的三个属性。其中，`p3`属性定义了取值函数`get`，即每次读取该属性，都会调用这个取值函数。\n",
    "\n",
    "注意，一旦定义了取值函数`get`（或存值函数`set`），就不能将`writable`属性设为`true`，或者同时定义`value`属性，否则会报错。"
   ]
  },
  {
   "cell_type": "code",
   "execution_count": null,
   "id": "d95a74e0",
   "metadata": {
    "attributes": {
     "classes": [
      "javascript"
     ],
     "id": ""
    }
   },
   "outputs": [],
   "source": [
    "var obj = {};\n",
    "\n",
    "Object.defineProperty(obj, 'p', {\n",
    "  value: 123,\n",
    "  get: function() { return 456; }\n",
    "});\n",
    "// TypeError: Invalid property.\n",
    "// A property cannot both have accessors and be writable or have a value\n",
    "\n",
    "Object.defineProperty(obj, 'p', {\n",
    "  writable: true,\n",
    "  get: function() { return 456; }\n",
    "});\n",
    "// TypeError: Invalid property descriptor.\n",
    "// Cannot both specify accessors and a value or writable attribute"
   ]
  },
  {
   "cell_type": "markdown",
   "id": "5068ebfa",
   "metadata": {},
   "source": [
    "上面代码中，同时定义了`get`属性和`value`属性，以及将`writable`属性设为`true`，就会报错。\n",
    "\n",
    "`Object.defineProperty()`和`Object.defineProperties()`参数里面的属性描述对象，`writable`、`configurable`、`enumerable`这三个属性的默认值都为`false`。"
   ]
  },
  {
   "cell_type": "code",
   "execution_count": null,
   "id": "d480b44e",
   "metadata": {
    "attributes": {
     "classes": [
      "javascript"
     ],
     "id": ""
    }
   },
   "outputs": [],
   "source": [
    "var obj = {};\n",
    "Object.defineProperty(obj, 'foo', {});\n",
    "Object.getOwnPropertyDescriptor(obj, 'foo')\n",
    "// {\n",
    "//   value: undefined,\n",
    "//   writable: false,\n",
    "//   enumerable: false,\n",
    "//   configurable: false\n",
    "// }"
   ]
  },
  {
   "cell_type": "markdown",
   "id": "dbbabe7d",
   "metadata": {},
   "source": [
    "上面代码中，定义`obj.foo`时用了一个空的属性描述对象，就可以看到各个元属性的默认值。\n",
    "\n",
    "## Object.prototype.propertyIsEnumerable()\n",
    "\n",
    "实例对象的`propertyIsEnumerable()`方法返回一个布尔值，用来判断某个属性是否可遍历。注意，这个方法只能用于判断对象自身的属性，对于继承的属性一律返回`false`。"
   ]
  },
  {
   "cell_type": "code",
   "execution_count": null,
   "id": "f154b666",
   "metadata": {
    "attributes": {
     "classes": [
      "javascript"
     ],
     "id": ""
    }
   },
   "outputs": [],
   "source": [
    "var obj = {};\n",
    "obj.p = 123;\n",
    "\n",
    "obj.propertyIsEnumerable('p') // true\n",
    "obj.propertyIsEnumerable('toString') // false"
   ]
  },
  {
   "cell_type": "markdown",
   "id": "5f7113eb",
   "metadata": {},
   "source": [
    "上面代码中，`obj.p`是可遍历的，而`obj.toString`是继承的属性。\n",
    "\n",
    "## 元属性\n",
    "\n",
    "属性描述对象的各个属性称为“元属性”，因为它们可以看作是控制属性的属性。\n",
    "\n",
    "### value\n",
    "\n",
    "`value`属性是目标属性的值。"
   ]
  },
  {
   "cell_type": "code",
   "execution_count": null,
   "id": "66a96e8b",
   "metadata": {
    "attributes": {
     "classes": [
      "javascript"
     ],
     "id": ""
    }
   },
   "outputs": [],
   "source": [
    "var obj = {};\n",
    "obj.p = 123;\n",
    "\n",
    "Object.getOwnPropertyDescriptor(obj, 'p').value\n",
    "// 123\n",
    "\n",
    "Object.defineProperty(obj, 'p', { value: 246 });\n",
    "obj.p // 246"
   ]
  },
  {
   "cell_type": "markdown",
   "id": "0527017d",
   "metadata": {},
   "source": [
    "上面代码是通过`value`属性，读取或改写`obj.p`的例子。\n",
    "\n",
    "### writable\n",
    "\n",
    "`writable`属性是一个布尔值，决定了目标属性的值（value）是否可以被改变。"
   ]
  },
  {
   "cell_type": "code",
   "execution_count": null,
   "id": "efdf7af8",
   "metadata": {
    "attributes": {
     "classes": [
      "javascript"
     ],
     "id": ""
    }
   },
   "outputs": [],
   "source": [
    "var obj = {};\n",
    "\n",
    "Object.defineProperty(obj, 'a', {\n",
    "  value: 37,\n",
    "  writable: false\n",
    "});\n",
    "\n",
    "obj.a // 37\n",
    "obj.a = 25;\n",
    "obj.a // 37"
   ]
  },
  {
   "cell_type": "markdown",
   "id": "8d62646f",
   "metadata": {},
   "source": [
    "上面代码中，`obj.a`的`writable`属性是`false`。然后，改变`obj.a`的值，不会有任何效果。\n",
    "\n",
    "注意，正常模式下，对`writable`为`false`的属性赋值不会报错，只会默默失败。但是，严格模式下会报错，即使对`a`属性重新赋予一个同样的值。"
   ]
  },
  {
   "cell_type": "code",
   "execution_count": null,
   "id": "38b7d37e",
   "metadata": {
    "attributes": {
     "classes": [
      "javascript"
     ],
     "id": ""
    }
   },
   "outputs": [],
   "source": [
    "'use strict';\n",
    "var obj = {};\n",
    "\n",
    "Object.defineProperty(obj, 'a', {\n",
    "  value: 37,\n",
    "  writable: false\n",
    "});\n",
    "\n",
    "obj.a = 37;\n",
    "// Uncaught TypeError: Cannot assign to read only property 'a' of object"
   ]
  },
  {
   "cell_type": "markdown",
   "id": "e1da7e04",
   "metadata": {},
   "source": [
    "上面代码是严格模式，对`obj.a`任何赋值行为都会报错。\n",
    "\n",
    "如果原型对象的某个属性的`writable`为`false`，那么子对象将无法自定义这个属性。"
   ]
  },
  {
   "cell_type": "code",
   "execution_count": null,
   "id": "8276db8a",
   "metadata": {
    "attributes": {
     "classes": [
      "javascript"
     ],
     "id": ""
    }
   },
   "outputs": [],
   "source": [
    "var proto = Object.defineProperty({}, 'foo', {\n",
    "  value: 'a',\n",
    "  writable: false\n",
    "});\n",
    "\n",
    "var obj = Object.create(proto);\n",
    "\n",
    "obj.foo = 'b';\n",
    "obj.foo // 'a'"
   ]
  },
  {
   "cell_type": "markdown",
   "id": "bdd31822",
   "metadata": {},
   "source": [
    "上面代码中，`proto`是原型对象，它的`foo`属性不可写。`obj`对象继承`proto`，也不可以再自定义这个属性了。如果是严格模式，这样做还会抛出一个错误。\n",
    "\n",
    "但是，有一个规避方法，就是通过覆盖属性描述对象，绕过这个限制。原因是这种情况下，原型链会被完全忽视。"
   ]
  },
  {
   "cell_type": "code",
   "execution_count": null,
   "id": "04579fbd",
   "metadata": {
    "attributes": {
     "classes": [
      "javascript"
     ],
     "id": ""
    }
   },
   "outputs": [],
   "source": [
    "var proto = Object.defineProperty({}, 'foo', {\n",
    "  value: 'a',\n",
    "  writable: false\n",
    "});\n",
    "\n",
    "var obj = Object.create(proto);\n",
    "Object.defineProperty(obj, 'foo', {\n",
    "  value: 'b'\n",
    "});\n",
    "\n",
    "obj.foo // \"b\""
   ]
  },
  {
   "cell_type": "markdown",
   "id": "c820c421",
   "metadata": {},
   "source": [
    "### enumerable\n",
    "\n",
    "`enumerable`（可遍历性）返回一个布尔值，表示目标属性是否可遍历。\n",
    "\n",
    "JavaScript 的早期版本，`for...in`循环是基于`in`运算符的。我们知道，`in`运算符不管某个属性是对象自身的还是继承的，都会返回`true`。"
   ]
  },
  {
   "cell_type": "code",
   "execution_count": null,
   "id": "d40ae42e",
   "metadata": {
    "attributes": {
     "classes": [
      "javascript"
     ],
     "id": ""
    }
   },
   "outputs": [],
   "source": [
    "var obj = {};\n",
    "'toString' in obj // true"
   ]
  },
  {
   "cell_type": "markdown",
   "id": "cfd70583",
   "metadata": {},
   "source": [
    "上面代码中，`toString`不是`obj`对象自身的属性，但是`in`运算符也返回`true`，这导致了`toString`属性也会被`for...in`循环遍历。\n",
    "\n",
    "这显然不太合理，后来就引入了“可遍历性”这个概念。只有可遍历的属性，才会被`for...in`循环遍历，同时还规定`toString`这一类实例对象继承的原生属性，都是不可遍历的，这样就保证了`for...in`循环的可用性。\n",
    "\n",
    "具体来说，如果一个属性的`enumerable`为`false`，下面三个操作不会取到该属性。\n",
    "\n",
    "- `for..in`循环\n",
    "- `Object.keys`方法\n",
    "- `JSON.stringify`方法\n",
    "\n",
    "因此，`enumerable`可以用来设置“秘密”属性。"
   ]
  },
  {
   "cell_type": "code",
   "execution_count": null,
   "id": "44472282",
   "metadata": {
    "attributes": {
     "classes": [
      "javascript"
     ],
     "id": ""
    }
   },
   "outputs": [],
   "source": [
    "var obj = {};\n",
    "\n",
    "Object.defineProperty(obj, 'x', {\n",
    "  value: 123,\n",
    "  enumerable: false\n",
    "});\n",
    "\n",
    "obj.x // 123\n",
    "\n",
    "for (var key in obj) {\n",
    "  console.log(key);\n",
    "}\n",
    "// undefined\n",
    "\n",
    "Object.keys(obj)  // []\n",
    "JSON.stringify(obj) // \"{}\""
   ]
  },
  {
   "cell_type": "markdown",
   "id": "806dfabc",
   "metadata": {},
   "source": [
    "上面代码中，`obj.x`属性的`enumerable`为`false`，所以一般的遍历操作都无法获取该属性，使得它有点像“秘密”属性，但不是真正的私有属性，还是可以直接获取它的值。\n",
    "\n",
    "注意，`for...in`循环包括继承的属性，`Object.keys`方法不包括继承的属性。如果需要获取对象自身的所有属性，不管是否可遍历，可以使用`Object.getOwnPropertyNames`方法。\n",
    "\n",
    "另外，`JSON.stringify`方法会排除`enumerable`为`false`的属性，有时可以利用这一点。如果对象的 JSON 格式输出要排除某些属性，就可以把这些属性的`enumerable`设为`false`。\n",
    "\n",
    "### configurable\n",
    "\n",
    "`configurable`(可配置性）返回一个布尔值，决定了是否可以修改属性描述对象。也就是说，`configurable`为`false`时，`writable`、`enumerable`和`configurable`都不能被修改了。"
   ]
  },
  {
   "cell_type": "code",
   "execution_count": null,
   "id": "7c8072ef",
   "metadata": {
    "attributes": {
     "classes": [
      "javascript"
     ],
     "id": ""
    }
   },
   "outputs": [],
   "source": [
    "var obj = Object.defineProperty({}, 'p', {\n",
    "  value: 1,\n",
    "  writable: false,\n",
    "  enumerable: false,\n",
    "  configurable: false\n",
    "});\n",
    "\n",
    "Object.defineProperty(obj, 'p', {writable: true})\n",
    "// TypeError: Cannot redefine property: p\n",
    "\n",
    "Object.defineProperty(obj, 'p', {enumerable: true})\n",
    "// TypeError: Cannot redefine property: p\n",
    "\n",
    "Object.defineProperty(obj, 'p', {configurable: true})\n",
    "// TypeError: Cannot redefine property: p\n",
    "\n",
    "Object.defineProperty(obj, 'p', {value: 2})\n",
    "// TypeError: Cannot redefine property: p"
   ]
  },
  {
   "cell_type": "markdown",
   "id": "95edfdc2",
   "metadata": {},
   "source": [
    "上面代码中，`obj.p`的`configurable`属性为`false`。然后，改动`writable`、`enumerable`、`configurable`，结果都报错。\n",
    "\n",
    "注意，`writable`属性只有在`false`改为`true`时会报错，`true`改为`false`是允许的。"
   ]
  },
  {
   "cell_type": "code",
   "execution_count": null,
   "id": "6ef84e5a",
   "metadata": {
    "attributes": {
     "classes": [
      "javascript"
     ],
     "id": ""
    }
   },
   "outputs": [],
   "source": [
    "var obj = Object.defineProperty({}, 'p', {\n",
    "  writable: true,\n",
    "  configurable: false\n",
    "});\n",
    "\n",
    "Object.defineProperty(obj, 'p', {writable: false})\n",
    "// 修改成功"
   ]
  },
  {
   "cell_type": "markdown",
   "id": "b1197cac",
   "metadata": {},
   "source": [
    "`value`属性的情况比较特殊。只要`writable`和`configurable`有一个为`true`，就允许改动`value`。"
   ]
  },
  {
   "cell_type": "code",
   "execution_count": null,
   "id": "d6e2751a",
   "metadata": {
    "attributes": {
     "classes": [
      "javascript"
     ],
     "id": ""
    }
   },
   "outputs": [],
   "source": [
    "var o1 = Object.defineProperty({}, 'p', {\n",
    "  value: 1,\n",
    "  writable: true,\n",
    "  configurable: false\n",
    "});\n",
    "\n",
    "Object.defineProperty(o1, 'p', {value: 2})\n",
    "// 修改成功\n",
    "\n",
    "var o2 = Object.defineProperty({}, 'p', {\n",
    "  value: 1,\n",
    "  writable: false,\n",
    "  configurable: true\n",
    "});\n",
    "\n",
    "Object.defineProperty(o2, 'p', {value: 2})\n",
    "// 修改成功"
   ]
  },
  {
   "cell_type": "markdown",
   "id": "d1326ab5",
   "metadata": {},
   "source": [
    "另外，`writable`为`false`时，直接对目标属性赋值，不报错，但不会成功。"
   ]
  },
  {
   "cell_type": "code",
   "execution_count": null,
   "id": "92703eab",
   "metadata": {
    "attributes": {
     "classes": [
      "javascript"
     ],
     "id": ""
    }
   },
   "outputs": [],
   "source": [
    "var obj = Object.defineProperty({}, 'p', {\n",
    "  value: 1,\n",
    "  writable: false,\n",
    "  configurable: false\n",
    "});\n",
    "\n",
    "obj.p = 2;\n",
    "obj.p // 1"
   ]
  },
  {
   "cell_type": "markdown",
   "id": "6ec21465",
   "metadata": {},
   "source": [
    "上面代码中，`obj.p`的`writable`为`false`，对`obj.p`直接赋值不会生效。如果是严格模式，还会报错。\n",
    "\n",
    "可配置性决定了目标属性是否可以被删除（delete）。"
   ]
  },
  {
   "cell_type": "code",
   "execution_count": null,
   "id": "ec061f69",
   "metadata": {
    "attributes": {
     "classes": [
      "javascript"
     ],
     "id": ""
    }
   },
   "outputs": [],
   "source": [
    "var obj = Object.defineProperties({}, {\n",
    "  p1: { value: 1, configurable: true },\n",
    "  p2: { value: 2, configurable: false }\n",
    "});\n",
    "\n",
    "delete obj.p1 // true\n",
    "delete obj.p2 // false\n",
    "\n",
    "obj.p1 // undefined\n",
    "obj.p2 // 2"
   ]
  },
  {
   "cell_type": "markdown",
   "id": "7170eddb",
   "metadata": {},
   "source": [
    "上面代码中，`obj.p1`的`configurable`是`true`，所以可以被删除，`obj.p2`就无法删除。\n",
    "\n",
    "## 存取器\n",
    "\n",
    "除了直接定义以外，属性还可以用存取器（accessor）定义。其中，存值函数称为`setter`，使用属性描述对象的`set`属性；取值函数称为`getter`，使用属性描述对象的`get`属性。\n",
    "\n",
    "一旦对目标属性定义了存取器，那么存取的时候，都将执行对应的函数。利用这个功能，可以实现许多高级特性，比如定制属性的读取和赋值行为。"
   ]
  },
  {
   "cell_type": "code",
   "execution_count": null,
   "id": "bd0fa072",
   "metadata": {
    "attributes": {
     "classes": [
      "javascript"
     ],
     "id": ""
    }
   },
   "outputs": [],
   "source": [
    "var obj = Object.defineProperty({}, 'p', {\n",
    "  get: function () {\n",
    "    return 'getter';\n",
    "  },\n",
    "  set: function (value) {\n",
    "    console.log('setter: ' + value);\n",
    "  }\n",
    "});\n",
    "\n",
    "obj.p // \"getter\"\n",
    "obj.p = 123 // \"setter: 123\""
   ]
  },
  {
   "cell_type": "markdown",
   "id": "8d0cadde",
   "metadata": {},
   "source": [
    "上面代码中，`obj.p`定义了`get`和`set`属性。`obj.p`取值时，就会调用`get`；赋值时，就会调用`set`。\n",
    "\n",
    "JavaScript 还提供了存取器的另一种写法。"
   ]
  },
  {
   "cell_type": "code",
   "execution_count": null,
   "id": "0c81d7a0",
   "metadata": {
    "attributes": {
     "classes": [
      "javascript"
     ],
     "id": ""
    }
   },
   "outputs": [],
   "source": [
    "// 写法二\n",
    "var obj = {\n",
    "  get p() {\n",
    "    return 'getter';\n",
    "  },\n",
    "  set p(value) {\n",
    "    console.log('setter: ' + value);\n",
    "  }\n",
    "};"
   ]
  },
  {
   "cell_type": "markdown",
   "id": "181bc4ff",
   "metadata": {},
   "source": [
    "上面两种写法，虽然属性`p`的读取和赋值行为是一样的，但是有一些细微的区别。第一种写法，属性`p`的`configurable`和`enumerable`都为`false`，从而导致属性`p`是不可遍历的；第二种写法，属性`p`的`configurable`和`enumerable`都为`true`，因此属性`p`是可遍历的。实际开发中，写法二更常用。\n",
    "\n",
    "注意，取值函数`get`不能接受参数，存值函数`set`只能接受一个参数（即属性的值）。\n",
    "\n",
    "存取器往往用于，属性的值依赖对象内部数据的场合。"
   ]
  },
  {
   "cell_type": "code",
   "execution_count": null,
   "id": "defab39c",
   "metadata": {
    "attributes": {
     "classes": [
      "javascript"
     ],
     "id": ""
    }
   },
   "outputs": [],
   "source": [
    "var obj ={\n",
    "  $n : 5,\n",
    "  get next() { return this.$n++ },\n",
    "  set next(n) {\n",
    "    if (n >= this.$n) this.$n = n;\n",
    "    else throw new Error('新的值必须大于当前值');\n",
    "  }\n",
    "};\n",
    "\n",
    "obj.next // 5\n",
    "\n",
    "obj.next = 10;\n",
    "obj.next // 10\n",
    "\n",
    "obj.next = 5;\n",
    "// Uncaught Error: 新的值必须大于当前值"
   ]
  },
  {
   "cell_type": "markdown",
   "id": "4e537b3e",
   "metadata": {},
   "source": [
    "上面代码中，`next`属性的存值函数和取值函数，都依赖于内部属性`$n`。\n",
    "\n",
    "## 对象的拷贝\n",
    "\n",
    "有时，我们需要将一个对象的所有属性，拷贝到另一个对象，可以用下面的方法实现。"
   ]
  },
  {
   "cell_type": "code",
   "execution_count": null,
   "id": "cccd8419",
   "metadata": {
    "attributes": {
     "classes": [
      "javascript"
     ],
     "id": ""
    }
   },
   "outputs": [],
   "source": [
    "var extend = function (to, from) {\n",
    "  for (var property in from) {\n",
    "    to[property] = from[property];\n",
    "  }\n",
    "\n",
    "  return to;\n",
    "}\n",
    "\n",
    "extend({}, {\n",
    "  a: 1\n",
    "})\n",
    "// {a: 1}"
   ]
  },
  {
   "cell_type": "markdown",
   "id": "69494a4e",
   "metadata": {},
   "source": [
    "上面这个方法的问题在于，如果遇到存取器定义的属性，会只拷贝值。"
   ]
  },
  {
   "cell_type": "code",
   "execution_count": null,
   "id": "2fe159d0",
   "metadata": {
    "attributes": {
     "classes": [
      "javascript"
     ],
     "id": ""
    }
   },
   "outputs": [],
   "source": [
    "extend({}, {\n",
    "  get a() { return 1 }\n",
    "})\n",
    "// {a: 1}"
   ]
  },
  {
   "cell_type": "markdown",
   "id": "913616ea",
   "metadata": {},
   "source": [
    "为了解决这个问题，我们可以通过`Object.defineProperty`方法来拷贝属性。"
   ]
  },
  {
   "cell_type": "code",
   "execution_count": null,
   "id": "dd4cdfb4",
   "metadata": {
    "attributes": {
     "classes": [
      "javascript"
     ],
     "id": ""
    }
   },
   "outputs": [],
   "source": [
    "var extend = function (to, from) {\n",
    "  for (var property in from) {\n",
    "    if (!from.hasOwnProperty(property)) continue;\n",
    "    Object.defineProperty(\n",
    "      to,\n",
    "      property,\n",
    "      Object.getOwnPropertyDescriptor(from, property)\n",
    "    );\n",
    "  }\n",
    "\n",
    "  return to;\n",
    "}\n",
    "\n",
    "extend({}, { get a(){ return 1 } })\n",
    "// { get a(){ return 1 } })"
   ]
  },
  {
   "cell_type": "markdown",
   "id": "a1e81cc5",
   "metadata": {},
   "source": [
    "上面代码中，`hasOwnProperty`那一行用来过滤掉继承的属性，否则可能会报错，因为`Object.getOwnPropertyDescriptor`读不到继承属性的属性描述对象。\n",
    "\n",
    "## 控制对象状态\n",
    "\n",
    "有时需要冻结对象的读写状态，防止对象被改变。JavaScript 提供了三种冻结方法，最弱的一种是`Object.preventExtensions`，其次是`Object.seal`，最强的是`Object.freeze`。\n",
    "\n",
    "### Object.preventExtensions()\n",
    "\n",
    "`Object.preventExtensions`方法可以使得一个对象无法再添加新的属性。"
   ]
  },
  {
   "cell_type": "code",
   "execution_count": null,
   "id": "8478e64f",
   "metadata": {
    "attributes": {
     "classes": [
      "javascript"
     ],
     "id": ""
    }
   },
   "outputs": [],
   "source": [
    "var obj = new Object();\n",
    "Object.preventExtensions(obj);\n",
    "\n",
    "Object.defineProperty(obj, 'p', {\n",
    "  value: 'hello'\n",
    "});\n",
    "// TypeError: Cannot define property:p, object is not extensible.\n",
    "\n",
    "obj.p = 1;\n",
    "obj.p // undefined"
   ]
  },
  {
   "cell_type": "markdown",
   "id": "e999e4a0",
   "metadata": {},
   "source": [
    "上面代码中，`obj`对象经过`Object.preventExtensions`以后，就无法添加新属性了。\n",
    "\n",
    "### Object.isExtensible()\n",
    "\n",
    "`Object.isExtensible`方法用于检查一个对象是否使用了`Object.preventExtensions`方法。也就是说，检查是否可以为一个对象添加属性。"
   ]
  },
  {
   "cell_type": "code",
   "execution_count": null,
   "id": "8913a0d3",
   "metadata": {
    "attributes": {
     "classes": [
      "javascript"
     ],
     "id": ""
    }
   },
   "outputs": [],
   "source": [
    "var obj = new Object();\n",
    "\n",
    "Object.isExtensible(obj) // true\n",
    "Object.preventExtensions(obj);\n",
    "Object.isExtensible(obj) // false"
   ]
  },
  {
   "cell_type": "markdown",
   "id": "6f11fc16",
   "metadata": {},
   "source": [
    "上面代码中，对`obj`对象使用`Object.preventExtensions`方法以后，再使用`Object.isExtensible`方法，返回`false`，表示已经不能添加新属性了。\n",
    "\n",
    "### Object.seal()\n",
    "\n",
    "`Object.seal`方法使得一个对象既无法添加新属性，也无法删除旧属性。"
   ]
  },
  {
   "cell_type": "code",
   "execution_count": null,
   "id": "a0409704",
   "metadata": {
    "attributes": {
     "classes": [
      "javascript"
     ],
     "id": ""
    }
   },
   "outputs": [],
   "source": [
    "var obj = { p: 'hello' };\n",
    "Object.seal(obj);\n",
    "\n",
    "delete obj.p;\n",
    "obj.p // \"hello\"\n",
    "\n",
    "obj.x = 'world';\n",
    "obj.x // undefined"
   ]
  },
  {
   "cell_type": "markdown",
   "id": "fad276e3",
   "metadata": {},
   "source": [
    "上面代码中，`obj`对象执行`Object.seal`方法以后，就无法添加新属性和删除旧属性了。\n",
    "\n",
    "`Object.seal`实质是把属性描述对象的`configurable`属性设为`false`，因此属性描述对象不再能改变了。"
   ]
  },
  {
   "cell_type": "code",
   "execution_count": null,
   "id": "3abe9214",
   "metadata": {
    "attributes": {
     "classes": [
      "javascript"
     ],
     "id": ""
    }
   },
   "outputs": [],
   "source": [
    "var obj = {\n",
    "  p: 'a'\n",
    "};\n",
    "\n",
    "// seal方法之前\n",
    "Object.getOwnPropertyDescriptor(obj, 'p')\n",
    "// Object {\n",
    "//   value: \"a\",\n",
    "//   writable: true,\n",
    "//   enumerable: true,\n",
    "//   configurable: true\n",
    "// }\n",
    "\n",
    "Object.seal(obj);\n",
    "\n",
    "// seal方法之后\n",
    "Object.getOwnPropertyDescriptor(obj, 'p')\n",
    "// Object {\n",
    "//   value: \"a\",\n",
    "//   writable: true,\n",
    "//   enumerable: true,\n",
    "//   configurable: false\n",
    "// }\n",
    "\n",
    "Object.defineProperty(obj, 'p', {\n",
    "  enumerable: false\n",
    "})\n",
    "// TypeError: Cannot redefine property: p"
   ]
  },
  {
   "cell_type": "markdown",
   "id": "c13f036a",
   "metadata": {},
   "source": [
    "上面代码中，使用`Object.seal`方法之后，属性描述对象的`configurable`属性就变成了`false`，然后改变`enumerable`属性就会报错。\n",
    "\n",
    "`Object.seal`只是禁止新增或删除属性，并不影响修改某个属性的值。"
   ]
  },
  {
   "cell_type": "code",
   "execution_count": null,
   "id": "98c3e754",
   "metadata": {
    "attributes": {
     "classes": [
      "javascript"
     ],
     "id": ""
    }
   },
   "outputs": [],
   "source": [
    "var obj = { p: 'a' };\n",
    "Object.seal(obj);\n",
    "obj.p = 'b';\n",
    "obj.p // 'b'"
   ]
  },
  {
   "cell_type": "markdown",
   "id": "3542e862",
   "metadata": {},
   "source": [
    "上面代码中，`Object.seal`方法对`p`属性的`value`无效，是因为此时`p`属性的可写性由`writable`决定。\n",
    "\n",
    "### Object.isSealed()\n",
    "\n",
    "`Object.isSealed`方法用于检查一个对象是否使用了`Object.seal`方法。"
   ]
  },
  {
   "cell_type": "code",
   "execution_count": null,
   "id": "ac11e11a",
   "metadata": {
    "attributes": {
     "classes": [
      "javascript"
     ],
     "id": ""
    }
   },
   "outputs": [],
   "source": [
    "var obj = { p: 'a' };\n",
    "\n",
    "Object.seal(obj);\n",
    "Object.isSealed(obj) // true"
   ]
  },
  {
   "cell_type": "markdown",
   "id": "4b30457c",
   "metadata": {},
   "source": [
    "这时，`Object.isExtensible`方法也返回`false`。"
   ]
  },
  {
   "cell_type": "code",
   "execution_count": null,
   "id": "1d255b30",
   "metadata": {
    "attributes": {
     "classes": [
      "javascript"
     ],
     "id": ""
    }
   },
   "outputs": [],
   "source": [
    "var obj = { p: 'a' };\n",
    "\n",
    "Object.seal(obj);\n",
    "Object.isExtensible(obj) // false"
   ]
  },
  {
   "cell_type": "markdown",
   "id": "1aa29044",
   "metadata": {},
   "source": [
    "### Object.freeze()\n",
    "\n",
    "`Object.freeze`方法可以使得一个对象无法添加新属性、无法删除旧属性、也无法改变属性的值，使得这个对象实际上变成了常量。"
   ]
  },
  {
   "cell_type": "code",
   "execution_count": null,
   "id": "43ad155a",
   "metadata": {
    "attributes": {
     "classes": [
      "javascript"
     ],
     "id": ""
    }
   },
   "outputs": [],
   "source": [
    "var obj = {\n",
    "  p: 'hello'\n",
    "};\n",
    "\n",
    "Object.freeze(obj);\n",
    "\n",
    "obj.p = 'world';\n",
    "obj.p // \"hello\"\n",
    "\n",
    "obj.t = 'hello';\n",
    "obj.t // undefined\n",
    "\n",
    "delete obj.p // false\n",
    "obj.p // \"hello\""
   ]
  },
  {
   "cell_type": "markdown",
   "id": "d4b35805",
   "metadata": {},
   "source": [
    "上面代码中，对`obj`对象进行`Object.freeze()`以后，修改属性、新增属性、删除属性都无效了。这些操作并不报错，只是默默地失败。如果在严格模式下，则会报错。\n",
    "\n",
    "### Object.isFrozen()\n",
    "\n",
    "`Object.isFrozen`方法用于检查一个对象是否使用了`Object.freeze`方法。"
   ]
  },
  {
   "cell_type": "code",
   "execution_count": null,
   "id": "1b2b2f21",
   "metadata": {
    "attributes": {
     "classes": [
      "javascript"
     ],
     "id": ""
    }
   },
   "outputs": [],
   "source": [
    "var obj = {\n",
    "  p: 'hello'\n",
    "};\n",
    "\n",
    "Object.freeze(obj);\n",
    "Object.isFrozen(obj) // true"
   ]
  },
  {
   "cell_type": "markdown",
   "id": "7f16f30e",
   "metadata": {},
   "source": [
    "使用`Object.freeze`方法以后，`Object.isSealed`将会返回`true`，`Object.isExtensible`返回`false`。"
   ]
  },
  {
   "cell_type": "code",
   "execution_count": null,
   "id": "5edffe37",
   "metadata": {
    "attributes": {
     "classes": [
      "javascript"
     ],
     "id": ""
    }
   },
   "outputs": [],
   "source": [
    "var obj = {\n",
    "  p: 'hello'\n",
    "};\n",
    "\n",
    "Object.freeze(obj);\n",
    "\n",
    "Object.isSealed(obj) // true\n",
    "Object.isExtensible(obj) // false"
   ]
  },
  {
   "cell_type": "markdown",
   "id": "8fd9c017",
   "metadata": {},
   "source": [
    "`Object.isFrozen`的一个用途是，确认某个对象没有被冻结后，再对它的属性赋值。"
   ]
  },
  {
   "cell_type": "code",
   "execution_count": null,
   "id": "0099524d",
   "metadata": {
    "attributes": {
     "classes": [
      "javascript"
     ],
     "id": ""
    }
   },
   "outputs": [],
   "source": [
    "var obj = {\n",
    "  p: 'hello'\n",
    "};\n",
    "\n",
    "Object.freeze(obj);\n",
    "\n",
    "if (!Object.isFrozen(obj)) {\n",
    "  obj.p = 'world';\n",
    "}"
   ]
  },
  {
   "cell_type": "markdown",
   "id": "30242da0",
   "metadata": {},
   "source": [
    "上面代码中，确认`obj`没有被冻结后，再对它的属性赋值，就不会报错了。\n",
    "\n",
    "### 局限性\n",
    "\n",
    "上面的三个方法锁定对象的可写性有一个漏洞：可以通过改变原型对象，来为对象增加属性。"
   ]
  },
  {
   "cell_type": "code",
   "execution_count": null,
   "id": "470d1001",
   "metadata": {
    "attributes": {
     "classes": [
      "javascript"
     ],
     "id": ""
    }
   },
   "outputs": [],
   "source": [
    "var obj = new Object();\n",
    "Object.preventExtensions(obj);\n",
    "\n",
    "var proto = Object.getPrototypeOf(obj);\n",
    "proto.t = 'hello';\n",
    "obj.t\n",
    "// hello"
   ]
  },
  {
   "cell_type": "markdown",
   "id": "daddb1c6",
   "metadata": {},
   "source": [
    "上面代码中，对象`obj`本身不能新增属性，但是可以在它的原型对象上新增属性，就依然能够在`obj`上读到。\n",
    "\n",
    "一种解决方案是，把`obj`的原型也冻结住。"
   ]
  },
  {
   "cell_type": "code",
   "execution_count": null,
   "id": "93e7ac3f",
   "metadata": {
    "attributes": {
     "classes": [
      "javascript"
     ],
     "id": ""
    }
   },
   "outputs": [],
   "source": [
    "var obj = new Object();\n",
    "Object.preventExtensions(obj);\n",
    "\n",
    "var proto = Object.getPrototypeOf(obj);\n",
    "Object.preventExtensions(proto);\n",
    "\n",
    "proto.t = 'hello';\n",
    "obj.t // undefined"
   ]
  },
  {
   "cell_type": "markdown",
   "id": "f5faea90",
   "metadata": {},
   "source": [
    "另外一个局限是，如果属性值是对象，上面这些方法只能冻结属性指向的对象，而不能冻结对象本身的内容。"
   ]
  },
  {
   "cell_type": "code",
   "execution_count": null,
   "id": "8a9549de",
   "metadata": {
    "attributes": {
     "classes": [
      "javascript"
     ],
     "id": ""
    }
   },
   "outputs": [],
   "source": [
    "var obj = {\n",
    "  foo: 1,\n",
    "  bar: ['a', 'b']\n",
    "};\n",
    "Object.freeze(obj);\n",
    "\n",
    "obj.bar.push('c');\n",
    "obj.bar // [\"a\", \"b\", \"c\"]"
   ]
  },
  {
   "cell_type": "markdown",
   "id": "f03602b5",
   "metadata": {},
   "source": [
    "上面代码中，`obj.bar`属性指向一个数组，`obj`对象被冻结以后，这个指向无法改变，即无法指向其他值，但是所指向的数组是可以改变的。"
   ]
  }
 ],
 "metadata": {},
 "nbformat": 4,
 "nbformat_minor": 5
}

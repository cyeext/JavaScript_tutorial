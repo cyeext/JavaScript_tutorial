{
 "cells": [
  {
   "cell_type": "markdown",
   "id": "42d8ba2b",
   "metadata": {},
   "source": [
    "# Boolean 对象\n",
    "\n",
    "## 概述\n",
    "\n",
    "`Boolean`对象是 JavaScript 的三个包装对象之一。作为构造函数，它主要用于生成布尔值的包装对象实例。"
   ]
  },
  {
   "cell_type": "code",
   "execution_count": null,
   "id": "1631b8a1",
   "metadata": {
    "attributes": {
     "classes": [
      "javascript"
     ],
     "id": ""
    }
   },
   "outputs": [],
   "source": [
    "var b = new Boolean(true);\n",
    "\n",
    "typeof b // \"object\"\n",
    "b.valueOf() // true"
   ]
  },
  {
   "cell_type": "markdown",
   "id": "a6b523cf",
   "metadata": {},
   "source": [
    "上面代码的变量`b`是一个`Boolean`对象的实例，它的类型是对象，值为布尔值`true`。\n",
    "\n",
    "注意，`false`对应的包装对象实例，布尔运算结果也是`true`。"
   ]
  },
  {
   "cell_type": "code",
   "execution_count": null,
   "id": "c4c4e7f6",
   "metadata": {
    "attributes": {
     "classes": [
      "javascript"
     ],
     "id": ""
    }
   },
   "outputs": [],
   "source": [
    "if (new Boolean(false)) {\n",
    "  console.log('true');\n",
    "} // true\n",
    "\n",
    "if (new Boolean(false).valueOf()) {\n",
    "  console.log('true');\n",
    "} // 无输出"
   ]
  },
  {
   "cell_type": "markdown",
   "id": "bfc271ce",
   "metadata": {},
   "source": [
    "上面代码的第一个例子之所以得到`true`，是因为`false`对应的包装对象实例是一个对象，进行逻辑运算时，被自动转化成布尔值`true`（因为所有对象对应的布尔值都是`true`）。而实例的`valueOf`方法，则返回实例对应的原始值，本例为`false`。\n",
    "\n",
    "## Boolean 函数的类型转换作用\n",
    "\n",
    "`Boolean`对象除了可以作为构造函数，还可以单独使用，将任意值转为布尔值。这时`Boolean`就是一个单纯的工具方法。"
   ]
  },
  {
   "cell_type": "code",
   "execution_count": null,
   "id": "b642550a",
   "metadata": {
    "attributes": {
     "classes": [
      "javascript"
     ],
     "id": ""
    }
   },
   "outputs": [],
   "source": [
    "Boolean(undefined) // false\n",
    "Boolean(null) // false\n",
    "Boolean(0) // false\n",
    "Boolean('') // false\n",
    "Boolean(NaN) // false\n",
    "\n",
    "Boolean(1) // true\n",
    "Boolean('false') // true\n",
    "Boolean([]) // true\n",
    "Boolean({}) // true\n",
    "Boolean(function () {}) // true\n",
    "Boolean(/foo/) // true"
   ]
  },
  {
   "cell_type": "markdown",
   "id": "bf1582f2",
   "metadata": {},
   "source": [
    "上面代码中几种得到`true`的情况，都值得认真记住。\n",
    "\n",
    "顺便提一下，使用双重的否运算符（`!`）也可以将任意值转为对应的布尔值。"
   ]
  },
  {
   "cell_type": "code",
   "execution_count": null,
   "id": "3c3a6aa7",
   "metadata": {
    "attributes": {
     "classes": [
      "javascript"
     ],
     "id": ""
    }
   },
   "outputs": [],
   "source": [
    "!!undefined // false\n",
    "!!null // false\n",
    "!!0 // false\n",
    "!!'' // false\n",
    "!!NaN // false\n",
    "\n",
    "!!1 // true\n",
    "!!'false' // true\n",
    "!![] // true\n",
    "!!{} // true\n",
    "!!function(){} // true\n",
    "!!/foo/ // true"
   ]
  },
  {
   "cell_type": "markdown",
   "id": "76db57d6",
   "metadata": {},
   "source": [
    "最后，对于一些特殊值，`Boolean`对象前面加不加`new`，会得到完全相反的结果，必须小心。"
   ]
  },
  {
   "cell_type": "code",
   "execution_count": null,
   "id": "f9dc6d83",
   "metadata": {
    "attributes": {
     "classes": [
      "javascript"
     ],
     "id": ""
    }
   },
   "outputs": [],
   "source": [
    "if (Boolean(false)) {\n",
    "  console.log('true');\n",
    "} // 无输出\n",
    "\n",
    "if (new Boolean(false)) {\n",
    "  console.log('true');\n",
    "} // true\n",
    "\n",
    "if (Boolean(null)) {\n",
    "  console.log('true');\n",
    "} // 无输出\n",
    "\n",
    "if (new Boolean(null)) {\n",
    "  console.log('true');\n",
    "} // true"
   ]
  }
 ],
 "metadata": {},
 "nbformat": 4,
 "nbformat_minor": 5
}

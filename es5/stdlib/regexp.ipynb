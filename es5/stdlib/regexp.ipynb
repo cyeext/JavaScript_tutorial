{
 "cells": [
  {
   "cell_type": "markdown",
   "id": "e48c2280",
   "metadata": {},
   "source": [
    "# RegExp 对象\n",
    "\n",
    "`RegExp`对象提供正则表达式的功能。\n",
    "\n",
    "## 概述\n",
    "\n",
    "正则表达式（regular expression）是一种表达文本模式（即字符串结构）的方法，有点像字符串的模板，常常用来按照“给定模式”匹配文本。比如，正则表达式给出一个 Email 地址的模式，然后用它来确定一个字符串是否为 Email 地址。JavaScript 的正则表达式体系是参照 Perl 5 建立的。\n",
    "\n",
    "新建正则表达式有两种方法。一种是使用字面量，以斜杠表示开始和结束。"
   ]
  },
  {
   "cell_type": "code",
   "execution_count": null,
   "id": "aadcbc3a",
   "metadata": {
    "attributes": {
     "classes": [
      "javascript"
     ],
     "id": ""
    }
   },
   "outputs": [],
   "source": [
    "var regex = /xyz/;"
   ]
  },
  {
   "cell_type": "markdown",
   "id": "9044bef3",
   "metadata": {},
   "source": [
    "另一种是使用`RegExp`构造函数。"
   ]
  },
  {
   "cell_type": "code",
   "execution_count": null,
   "id": "a4ca067d",
   "metadata": {
    "attributes": {
     "classes": [
      "javascript"
     ],
     "id": ""
    }
   },
   "outputs": [],
   "source": [
    "var regex = new RegExp('xyz');"
   ]
  },
  {
   "cell_type": "markdown",
   "id": "37193627",
   "metadata": {},
   "source": [
    "上面两种写法是等价的，都新建了一个内容为`xyz`的正则表达式对象。它们的主要区别是，第一种方法在引擎编译代码时，就会新建正则表达式，第二种方法在运行时新建正则表达式，所以前者的效率较高。而且，前者比较便利和直观，所以实际应用中，基本上都采用字面量定义正则表达式。\n",
    "\n",
    "`RegExp`构造函数还可以接受第二个参数，表示修饰符（详细解释见下文）。"
   ]
  },
  {
   "cell_type": "code",
   "execution_count": null,
   "id": "7707ebe0",
   "metadata": {
    "attributes": {
     "classes": [
      "javascript"
     ],
     "id": ""
    }
   },
   "outputs": [],
   "source": [
    "var regex = new RegExp('xyz', 'i');\n",
    "// 等价于\n",
    "var regex = /xyz/i;"
   ]
  },
  {
   "cell_type": "markdown",
   "id": "f517915b",
   "metadata": {},
   "source": [
    "上面代码中，正则表达式`/xyz/`有一个修饰符`i`。\n",
    "\n",
    "## 实例属性\n",
    "\n",
    "正则对象的实例属性分成两类。\n",
    "\n",
    "一类是修饰符相关，用于了解设置了什么修饰符。\n",
    "\n",
    "- `RegExp.prototype.ignoreCase`：返回一个布尔值，表示是否设置了`i`修饰符。\n",
    "- `RegExp.prototype.global`：返回一个布尔值，表示是否设置了`g`修饰符。\n",
    "- `RegExp.prototype.multiline`：返回一个布尔值，表示是否设置了`m`修饰符。\n",
    "- `RegExp.prototype.flags`：返回一个字符串，包含了已经设置的所有修饰符，按字母排序。\n",
    "\n",
    "上面四个属性都是只读的。"
   ]
  },
  {
   "cell_type": "code",
   "execution_count": null,
   "id": "03a30b17",
   "metadata": {
    "attributes": {
     "classes": [
      "javascript"
     ],
     "id": ""
    }
   },
   "outputs": [],
   "source": [
    "var r = /abc/igm;\n",
    "\n",
    "r.ignoreCase // true\n",
    "r.global // true\n",
    "r.multiline // true\n",
    "r.flags // 'gim'"
   ]
  },
  {
   "cell_type": "markdown",
   "id": "adb3b941",
   "metadata": {},
   "source": [
    "另一类是与修饰符无关的属性，主要是下面两个。\n",
    "\n",
    "- `RegExp.prototype.lastIndex`：返回一个整数，表示下一次开始搜索的位置。该属性可读写，但是只在进行连续搜索时有意义，详细介绍请看后文。\n",
    "- `RegExp.prototype.source`：返回正则表达式的字符串形式（不包括反斜杠），该属性只读。"
   ]
  },
  {
   "cell_type": "code",
   "execution_count": null,
   "id": "02882fa2",
   "metadata": {
    "attributes": {
     "classes": [
      "javascript"
     ],
     "id": ""
    }
   },
   "outputs": [],
   "source": [
    "var r = /abc/igm;\n",
    "\n",
    "r.lastIndex // 0\n",
    "r.source // \"abc\""
   ]
  },
  {
   "cell_type": "markdown",
   "id": "bb1c3782",
   "metadata": {},
   "source": [
    "## 实例方法\n",
    "\n",
    "### RegExp.prototype.test()\n",
    "\n",
    "正则实例对象的`test`方法返回一个布尔值，表示当前模式是否能匹配参数字符串。"
   ]
  },
  {
   "cell_type": "code",
   "execution_count": null,
   "id": "99cf937c",
   "metadata": {
    "attributes": {
     "classes": [
      "javascript"
     ],
     "id": ""
    }
   },
   "outputs": [],
   "source": [
    "/cat/.test('cats and dogs') // true"
   ]
  },
  {
   "cell_type": "markdown",
   "id": "ccdc69d6",
   "metadata": {},
   "source": [
    "上面代码验证参数字符串之中是否包含`cat`，结果返回`true`。\n",
    "\n",
    "如果正则表达式带有`g`修饰符，则每一次`test`方法都从上一次结束的位置开始向后匹配。"
   ]
  },
  {
   "cell_type": "code",
   "execution_count": null,
   "id": "3c0d0407",
   "metadata": {
    "attributes": {
     "classes": [
      "javascript"
     ],
     "id": ""
    }
   },
   "outputs": [],
   "source": [
    "var r = /x/g;\n",
    "var s = '_x_x';\n",
    "\n",
    "r.lastIndex // 0\n",
    "r.test(s) // true\n",
    "\n",
    "r.lastIndex // 2\n",
    "r.test(s) // true\n",
    "\n",
    "r.lastIndex // 4\n",
    "r.test(s) // false"
   ]
  },
  {
   "cell_type": "markdown",
   "id": "e14acfd3",
   "metadata": {},
   "source": [
    "上面代码的正则表达式使用了`g`修饰符，表示是全局搜索，会有多个结果。接着，三次使用`test`方法，每一次开始搜索的位置都是上一次匹配的后一个位置。\n",
    "\n",
    "带有`g`修饰符时，可以通过正则对象的`lastIndex`属性指定开始搜索的位置。"
   ]
  },
  {
   "cell_type": "code",
   "execution_count": null,
   "id": "794043de",
   "metadata": {
    "attributes": {
     "classes": [
      "javascript"
     ],
     "id": ""
    }
   },
   "outputs": [],
   "source": [
    "var r = /x/g;\n",
    "var s = '_x_x';\n",
    "\n",
    "r.lastIndex = 4;\n",
    "r.test(s) // false\n",
    "\n",
    "r.lastIndex // 0\n",
    "r.test(s) // true"
   ]
  },
  {
   "cell_type": "markdown",
   "id": "2e9ec402",
   "metadata": {},
   "source": [
    "上面代码指定从字符串的第五个位置开始搜索，这个位置为空，所以返回`false`。同时，`lastIndex`属性重置为`0`，所以第二次执行`r.test(s)`会返回`true`。\n",
    "\n",
    "注意，带有`g`修饰符时，正则表达式内部会记住上一次的`lastIndex`属性，这时不应该更换所要匹配的字符串，否则会有一些难以察觉的错误。"
   ]
  },
  {
   "cell_type": "code",
   "execution_count": null,
   "id": "a2b99594",
   "metadata": {
    "attributes": {
     "classes": [
      "javascript"
     ],
     "id": ""
    }
   },
   "outputs": [],
   "source": [
    "var r = /bb/g;\n",
    "r.test('bb') // true\n",
    "r.test('-bb-') // false"
   ]
  },
  {
   "cell_type": "markdown",
   "id": "6830761c",
   "metadata": {},
   "source": [
    "上面代码中，由于正则表达式`r`是从上一次的`lastIndex`位置开始匹配，导致第二次执行`test`方法时出现预期以外的结果。\n",
    "\n",
    "`lastIndex`属性只对同一个正则表达式有效，所以下面这样写是错误的。"
   ]
  },
  {
   "cell_type": "code",
   "execution_count": null,
   "id": "b0c9ed92",
   "metadata": {
    "attributes": {
     "classes": [
      "javascript"
     ],
     "id": ""
    }
   },
   "outputs": [],
   "source": [
    "var count = 0;\n",
    "while (/a/g.test('babaa')) count++;"
   ]
  },
  {
   "cell_type": "markdown",
   "id": "b298b0cb",
   "metadata": {},
   "source": [
    "上面代码会导致无限循环，因为`while`循环的每次匹配条件都是一个新的正则表达式，导致`lastIndex`属性总是等于0。\n",
    "\n",
    "如果正则模式是一个空字符串，则匹配所有字符串。"
   ]
  },
  {
   "cell_type": "code",
   "execution_count": null,
   "id": "9d9a0590",
   "metadata": {
    "attributes": {
     "classes": [
      "javascript"
     ],
     "id": ""
    }
   },
   "outputs": [],
   "source": [
    "new RegExp('').test('abc')\n",
    "// true"
   ]
  },
  {
   "cell_type": "markdown",
   "id": "010f5730",
   "metadata": {},
   "source": [
    "### RegExp.prototype.exec()\n",
    "\n",
    "正则实例对象的`exec()`方法，用来返回匹配结果。如果发现匹配，就返回一个数组，成员是匹配成功的子字符串，否则返回`null`。"
   ]
  },
  {
   "cell_type": "code",
   "execution_count": null,
   "id": "6654e3fc",
   "metadata": {
    "attributes": {
     "classes": [
      "javascript"
     ],
     "id": ""
    }
   },
   "outputs": [],
   "source": [
    "var s = '_x_x';\n",
    "var r1 = /x/;\n",
    "var r2 = /y/;\n",
    "\n",
    "r1.exec(s) // [\"x\"]\n",
    "r2.exec(s) // null"
   ]
  },
  {
   "cell_type": "markdown",
   "id": "a98208d3",
   "metadata": {},
   "source": [
    "上面代码中，正则对象`r1`匹配成功，返回一个数组，成员是匹配结果；正则对象`r2`匹配失败，返回`null`。\n",
    "\n",
    "如果正则表示式包含圆括号（即含有“组匹配”），则返回的数组会包括多个成员。第一个成员是整个匹配成功的结果，后面的成员就是圆括号对应的匹配成功的组。也就是说，第二个成员对应第一个括号，第三个成员对应第二个括号，以此类推。整个数组的`length`属性等于组匹配的数量再加1。"
   ]
  },
  {
   "cell_type": "code",
   "execution_count": null,
   "id": "bc9caf45",
   "metadata": {
    "attributes": {
     "classes": [
      "javascript"
     ],
     "id": ""
    }
   },
   "outputs": [],
   "source": [
    "var s = '_x_x';\n",
    "var r = /_(x)/;\n",
    "\n",
    "r.exec(s) // [\"_x\", \"x\"]"
   ]
  },
  {
   "cell_type": "markdown",
   "id": "218b3cdc",
   "metadata": {},
   "source": [
    "上面代码的`exec()`方法，返回一个数组。第一个成员是整个匹配的结果，第二个成员是圆括号匹配的结果。\n",
    "\n",
    "`exec()`方法的返回数组还包含以下两个属性：\n",
    "\n",
    "- `input`：整个原字符串。\n",
    "- `index`：模式匹配成功的开始位置（从0开始计数）。"
   ]
  },
  {
   "cell_type": "code",
   "execution_count": null,
   "id": "ec7d2586",
   "metadata": {
    "attributes": {
     "classes": [
      "javascript"
     ],
     "id": ""
    }
   },
   "outputs": [],
   "source": [
    "var r = /a(b+)a/;\n",
    "var arr = r.exec('_abbba_aba_');\n",
    "\n",
    "arr // [\"abbba\", \"bbb\"]\n",
    "\n",
    "arr.index // 1\n",
    "arr.input // \"_abbba_aba_\""
   ]
  },
  {
   "cell_type": "markdown",
   "id": "c13bca81",
   "metadata": {},
   "source": [
    "上面代码中的`index`属性等于1，是因为从原字符串的第二个位置开始匹配成功。\n",
    "\n",
    "如果正则表达式加上`g`修饰符，则可以使用多次`exec()`方法，下一次搜索的位置从上一次匹配成功结束的位置开始。"
   ]
  },
  {
   "cell_type": "code",
   "execution_count": null,
   "id": "1e4551f4",
   "metadata": {
    "attributes": {
     "classes": [
      "javascript"
     ],
     "id": ""
    }
   },
   "outputs": [],
   "source": [
    "var reg = /a/g;\n",
    "var str = 'abc_abc_abc'\n",
    "\n",
    "var r1 = reg.exec(str);\n",
    "r1 // [\"a\"]\n",
    "r1.index // 0\n",
    "reg.lastIndex // 1\n",
    "\n",
    "var r2 = reg.exec(str);\n",
    "r2 // [\"a\"]\n",
    "r2.index // 4\n",
    "reg.lastIndex // 5\n",
    "\n",
    "var r3 = reg.exec(str);\n",
    "r3 // [\"a\"]\n",
    "r3.index // 8\n",
    "reg.lastIndex // 9\n",
    "\n",
    "var r4 = reg.exec(str);\n",
    "r4 // null\n",
    "reg.lastIndex // 0"
   ]
  },
  {
   "cell_type": "markdown",
   "id": "5f377337",
   "metadata": {},
   "source": [
    "上面代码连续用了四次`exec()`方法，前三次都是从上一次匹配结束的位置向后匹配。当第三次匹配结束以后，整个字符串已经到达尾部，匹配结果返回`null`，正则实例对象的`lastIndex`属性也重置为`0`，意味着第四次匹配将从头开始。\n",
    "\n",
    "利用`g`修饰符允许多次匹配的特点，可以用一个循环完成全部匹配。"
   ]
  },
  {
   "cell_type": "code",
   "execution_count": null,
   "id": "9c04feec",
   "metadata": {
    "attributes": {
     "classes": [
      "javascript"
     ],
     "id": ""
    }
   },
   "outputs": [],
   "source": [
    "var reg = /a/g;\n",
    "var str = 'abc_abc_abc'\n",
    "\n",
    "while(true) {\n",
    "  var match = reg.exec(str);\n",
    "  if (!match) break;\n",
    "  console.log('#' + match.index + ':' + match[0]);\n",
    "}\n",
    "// #0:a\n",
    "// #4:a\n",
    "// #8:a"
   ]
  },
  {
   "cell_type": "markdown",
   "id": "aaaeb04d",
   "metadata": {},
   "source": [
    "上面代码中，只要`exec()`方法不返回`null`，就会一直循环下去，每次输出匹配的位置和匹配的文本。\n",
    "\n",
    "正则实例对象的`lastIndex`属性不仅可读，还可写。设置了`g`修饰符的时候，只要手动设置了`lastIndex`的值，就会从指定位置开始匹配。\n",
    "\n",
    "## 字符串的实例方法\n",
    "\n",
    "字符串的实例方法之中，有4种与正则表达式有关。\n",
    "\n",
    "- `String.prototype.match()`：返回一个数组，成员是所有匹配的子字符串。\n",
    "- `String.prototype.search()`：按照给定的正则表达式进行搜索，返回一个整数，表示匹配开始的位置。\n",
    "- `String.prototype.replace()`：按照给定的正则表达式进行替换，返回替换后的字符串。\n",
    "- `String.prototype.split()`：按照给定规则进行字符串分割，返回一个数组，包含分割后的各个成员。\n",
    "\n",
    "### String.prototype.match()\n",
    "\n",
    "字符串实例对象的`match`方法对字符串进行正则匹配，返回匹配结果。"
   ]
  },
  {
   "cell_type": "code",
   "execution_count": null,
   "id": "dec4c317",
   "metadata": {
    "attributes": {
     "classes": [
      "javascript"
     ],
     "id": ""
    }
   },
   "outputs": [],
   "source": [
    "var s = '_x_x';\n",
    "var r1 = /x/;\n",
    "var r2 = /y/;\n",
    "\n",
    "s.match(r1) // [\"x\"]\n",
    "s.match(r2) // null"
   ]
  },
  {
   "cell_type": "markdown",
   "id": "ec6f6eac",
   "metadata": {},
   "source": [
    "从上面代码可以看到，字符串的`match`方法与正则对象的`exec`方法非常类似：匹配成功返回一个数组，匹配失败返回`null`。\n",
    "\n",
    "如果正则表达式带有`g`修饰符，则该方法与正则对象的`exec`方法行为不同，会一次性返回所有匹配成功的结果。"
   ]
  },
  {
   "cell_type": "code",
   "execution_count": null,
   "id": "0682d9ea",
   "metadata": {
    "attributes": {
     "classes": [
      "javascript"
     ],
     "id": ""
    }
   },
   "outputs": [],
   "source": [
    "var s = 'abba';\n",
    "var r = /a/g;\n",
    "\n",
    "s.match(r) // [\"a\", \"a\"]\n",
    "r.exec(s) // [\"a\"]"
   ]
  },
  {
   "cell_type": "markdown",
   "id": "67462fe5",
   "metadata": {},
   "source": [
    "设置正则表达式的`lastIndex`属性，对`match`方法无效，匹配总是从字符串的第一个字符开始。"
   ]
  },
  {
   "cell_type": "code",
   "execution_count": null,
   "id": "f30b90a9",
   "metadata": {
    "attributes": {
     "classes": [
      "javascript"
     ],
     "id": ""
    }
   },
   "outputs": [],
   "source": [
    "var r = /a|b/g;\n",
    "r.lastIndex = 7;\n",
    "'xaxb'.match(r) // ['a', 'b']\n",
    "r.lastIndex // 0"
   ]
  },
  {
   "cell_type": "markdown",
   "id": "53783a04",
   "metadata": {},
   "source": [
    "上面代码表示，设置正则对象的`lastIndex`属性是无效的。\n",
    "\n",
    "### String.prototype.search()\n",
    "\n",
    "字符串对象的`search`方法，返回第一个满足条件的匹配结果在整个字符串中的位置。如果没有任何匹配，则返回`-1`。"
   ]
  },
  {
   "cell_type": "code",
   "execution_count": null,
   "id": "4ab1dccd",
   "metadata": {
    "attributes": {
     "classes": [
      "javascript"
     ],
     "id": ""
    }
   },
   "outputs": [],
   "source": [
    "'_x_x'.search(/x/)\n",
    "// 1"
   ]
  },
  {
   "cell_type": "markdown",
   "id": "0c90f21f",
   "metadata": {},
   "source": [
    "上面代码中，第一个匹配结果出现在字符串的`1`号位置。\n",
    "\n",
    "### String.prototype.replace()\n",
    "\n",
    "字符串对象的`replace`方法可以替换匹配的值。它接受两个参数，第一个是正则表达式，表示搜索模式，第二个是替换的内容。"
   ]
  },
  {
   "cell_type": "code",
   "execution_count": null,
   "id": "48f0d705",
   "metadata": {
    "attributes": {
     "classes": [
      "javascript"
     ],
     "id": ""
    }
   },
   "outputs": [],
   "source": [
    "str.replace(search, replacement)"
   ]
  },
  {
   "cell_type": "markdown",
   "id": "ca53d610",
   "metadata": {},
   "source": [
    "正则表达式如果不加`g`修饰符，就替换第一个匹配成功的值，否则替换所有匹配成功的值。"
   ]
  },
  {
   "cell_type": "code",
   "execution_count": null,
   "id": "7513b601",
   "metadata": {
    "attributes": {
     "classes": [
      "javascript"
     ],
     "id": ""
    }
   },
   "outputs": [],
   "source": [
    "'aaa'.replace('a', 'b') // \"baa\"\n",
    "'aaa'.replace(/a/, 'b') // \"baa\"\n",
    "'aaa'.replace(/a/g, 'b') // \"bbb\""
   ]
  },
  {
   "cell_type": "markdown",
   "id": "eee2a974",
   "metadata": {},
   "source": [
    "上面代码中，最后一个正则表达式使用了`g`修饰符，导致所有的`a`都被替换掉了。\n",
    "\n",
    "`replace`方法的一个应用，就是消除字符串首尾两端的空格。"
   ]
  },
  {
   "cell_type": "code",
   "execution_count": null,
   "id": "c6c720fd",
   "metadata": {
    "attributes": {
     "classes": [
      "javascript"
     ],
     "id": ""
    }
   },
   "outputs": [],
   "source": [
    "var str = '  #id div.class  ';\n",
    "\n",
    "str.replace(/^\\s+|\\s+$/g, '')\n",
    "// \"#id div.class\""
   ]
  },
  {
   "cell_type": "markdown",
   "id": "b764ed1d",
   "metadata": {},
   "source": [
    "`replace`方法的第二个参数可以使用美元符号`$`，用来指代所替换的内容。\n",
    "\n",
    "- `$&`：匹配的子字符串。\n",
    "- `` $` ``：匹配结果前面的文本。\n",
    "- `$'`：匹配结果后面的文本。\n",
    "- `$n`：匹配成功的第`n`组内容，`n`是从1开始的自然数。\n",
    "- `$$`：指代美元符号`$`。"
   ]
  },
  {
   "cell_type": "code",
   "execution_count": null,
   "id": "99968159",
   "metadata": {
    "attributes": {
     "classes": [
      "javascript"
     ],
     "id": ""
    }
   },
   "outputs": [],
   "source": [
    "'hello world'.replace(/(\\w+)\\s(\\w+)/, '$2 $1')\n",
    "// \"world hello\"\n",
    "\n",
    "'abc'.replace('b', '[$`-$&-$\\']')\n",
    "// \"a[a-b-c]c\""
   ]
  },
  {
   "cell_type": "markdown",
   "id": "d0c28fa2",
   "metadata": {},
   "source": [
    "上面代码中，第一个例子是将匹配的组互换位置，第二个例子是改写匹配的值。\n",
    "\n",
    "`replace`方法的第二个参数还可以是一个函数，将每一个匹配内容替换为函数返回值。"
   ]
  },
  {
   "cell_type": "code",
   "execution_count": null,
   "id": "396a3131",
   "metadata": {
    "attributes": {
     "classes": [
      "javascript"
     ],
     "id": ""
    }
   },
   "outputs": [],
   "source": [
    "'3 and 5'.replace(/[0-9]+/g, function (match) {\n",
    "  return 2 * match;\n",
    "})\n",
    "// \"6 and 10\"\n",
    "\n",
    "var a = 'The quick brown fox jumped over the lazy dog.';\n",
    "var pattern = /quick|brown|lazy/ig;\n",
    "\n",
    "a.replace(pattern, function replacer(match) {\n",
    "  return match.toUpperCase();\n",
    "});\n",
    "// The QUICK BROWN fox jumped over the LAZY dog."
   ]
  },
  {
   "cell_type": "markdown",
   "id": "eb0f0e2f",
   "metadata": {},
   "source": [
    "作为`replace`方法第二个参数的替换函数，可以接受多个参数。其中，第一个参数是捕捉到的内容，第二个参数是捕捉到的组匹配（有多少个组匹配，就有多少个对应的参数）。此外，最后还可以添加两个参数，倒数第二个参数是捕捉到的内容在整个字符串中的位置（比如从第五个位置开始），最后一个参数是原字符串。下面是一个网页模板替换的例子。"
   ]
  },
  {
   "cell_type": "code",
   "execution_count": null,
   "id": "541fd280",
   "metadata": {
    "attributes": {
     "classes": [
      "javascript"
     ],
     "id": ""
    }
   },
   "outputs": [],
   "source": [
    "var prices = {\n",
    "  'p1': '$1.99',\n",
    "  'p2': '$9.99',\n",
    "  'p3': '$5.00'\n",
    "};\n",
    "\n",
    "var template = '<span id=\"p1\"></span>'\n",
    "  + '<span id=\"p2\"></span>'\n",
    "  + '<span id=\"p3\"></span>';\n",
    "\n",
    "template.replace(\n",
    "  /(<span id=\")(.*?)(\">)(<\\/span>)/g,\n",
    "  function(match, $1, $2, $3, $4){\n",
    "    return $1 + $2 + $3 + prices[$2] + $4;\n",
    "  }\n",
    ");\n",
    "// \"<span id=\"p1\">$1.99</span><span id=\"p2\">$9.99</span><span id=\"p3\">$5.00</span>\""
   ]
  },
  {
   "cell_type": "markdown",
   "id": "3679e8a9",
   "metadata": {},
   "source": [
    "上面代码的捕捉模式中，有四个括号，所以会产生四个组匹配，在匹配函数中用`$1`到`$4`表示。匹配函数的作用是将价格插入模板中。\n",
    "\n",
    "### String.prototype.split()\n",
    "\n",
    "字符串对象的`split`方法按照正则规则分割字符串，返回一个由分割后的各个部分组成的数组。"
   ]
  },
  {
   "cell_type": "code",
   "execution_count": null,
   "id": "af8cf2bc",
   "metadata": {
    "attributes": {
     "classes": [
      "javascript"
     ],
     "id": ""
    }
   },
   "outputs": [],
   "source": [
    "str.split(separator, [limit])"
   ]
  },
  {
   "cell_type": "markdown",
   "id": "3d892c0a",
   "metadata": {},
   "source": [
    "该方法接受两个参数，第一个参数是正则表达式，表示分隔规则，第二个参数是返回数组的最大成员数。"
   ]
  },
  {
   "cell_type": "code",
   "execution_count": null,
   "id": "e36637a7",
   "metadata": {
    "attributes": {
     "classes": [
      "javascript"
     ],
     "id": ""
    }
   },
   "outputs": [],
   "source": [
    "// 非正则分隔\n",
    "'a,  b,c, d'.split(',')\n",
    "// [ 'a', '  b', 'c', ' d' ]\n",
    "\n",
    "// 正则分隔，去除多余的空格\n",
    "'a,  b,c, d'.split(/, */)\n",
    "// [ 'a', 'b', 'c', 'd' ]\n",
    "\n",
    "// 指定返回数组的最大成员\n",
    "'a,  b,c, d'.split(/, */, 2)\n",
    "[ 'a', 'b' ]"
   ]
  },
  {
   "cell_type": "markdown",
   "id": "1db54011",
   "metadata": {},
   "source": [
    "上面代码使用正则表达式，去除了子字符串的逗号后面的空格。"
   ]
  },
  {
   "cell_type": "code",
   "execution_count": null,
   "id": "a6b99b44",
   "metadata": {
    "attributes": {
     "classes": [
      "javascript"
     ],
     "id": ""
    }
   },
   "outputs": [],
   "source": [
    "// 例一\n",
    "'aaa*a*'.split(/a*/)\n",
    "// [ '', '*', '*' ]\n",
    "\n",
    "// 例二\n",
    "'aaa**a*'.split(/a*/)\n",
    "// [\"\", \"*\", \"*\", \"*\"]"
   ]
  },
  {
   "cell_type": "markdown",
   "id": "4f420653",
   "metadata": {},
   "source": [
    "上面代码的分割规则是0次或多次的`a`，由于正则默认是贪婪匹配，所以例一的第一个分隔符是`aaa`，第二个分割符是`a`，将字符串分成三个部分，包含开始处的空字符串。例二的第一个分隔符是`aaa`，第二个分隔符是0个`a`（即空字符），第三个分隔符是`a`，所以将字符串分成四个部分。\n",
    "\n",
    "如果正则表达式带有括号，则括号匹配的部分也会作为数组成员返回。"
   ]
  },
  {
   "cell_type": "code",
   "execution_count": null,
   "id": "6e162cd5",
   "metadata": {
    "attributes": {
     "classes": [
      "javascript"
     ],
     "id": ""
    }
   },
   "outputs": [],
   "source": [
    "'aaa*a*'.split(/(a*)/)\n",
    "// [ '', 'aaa', '*', 'a', '*' ]"
   ]
  },
  {
   "cell_type": "markdown",
   "id": "e3395cdd",
   "metadata": {},
   "source": [
    "上面代码的正则表达式使用了括号，第一个组匹配是`aaa`，第二个组匹配是`a`，它们都作为数组成员返回。\n",
    "\n",
    "## 匹配规则\n",
    "\n",
    "正则表达式的规则很复杂，下面一一介绍这些规则。\n",
    "\n",
    "### 字面量字符和元字符\n",
    "\n",
    "大部分字符在正则表达式中，就是字面的含义，比如`/a/`匹配`a`，`/b/`匹配`b`。如果在正则表达式之中，某个字符只表示它字面的含义（就像前面的`a`和`b`），那么它们就叫做“字面量字符”（literal characters）。"
   ]
  },
  {
   "cell_type": "code",
   "execution_count": null,
   "id": "96daf284",
   "metadata": {
    "attributes": {
     "classes": [
      "javascript"
     ],
     "id": ""
    }
   },
   "outputs": [],
   "source": [
    "/dog/.test('old dog') // true"
   ]
  },
  {
   "cell_type": "markdown",
   "id": "5b31c864",
   "metadata": {},
   "source": [
    "上面代码中正则表达式的`dog`，就是字面量字符，所以`/dog/`匹配`old dog`，因为它就表示`d`、`o`、`g`三个字母连在一起。\n",
    "\n",
    "除了字面量字符以外，还有一部分字符有特殊含义，不代表字面的意思。它们叫做“元字符”（metacharacters），主要有以下几个。\n",
    "\n",
    "**（1）点字符（.)**\n",
    "\n",
    "点字符（`.`）匹配除回车（`\\r`）、换行(`\\n`) 、行分隔符（`\\u2028`）和段分隔符（`\\u2029`）以外的所有字符。注意，对于码点大于`0xFFFF`字符，点字符不能正确匹配，会认为这是两个字符。"
   ]
  },
  {
   "cell_type": "code",
   "execution_count": null,
   "id": "995311ec",
   "metadata": {
    "attributes": {
     "classes": [
      "javascript"
     ],
     "id": ""
    }
   },
   "outputs": [],
   "source": [
    "/c.t/"
   ]
  },
  {
   "cell_type": "markdown",
   "id": "96ca8e3f",
   "metadata": {},
   "source": [
    "上面代码中，`c.t`匹配`c`和`t`之间包含任意一个字符的情况，只要这三个字符在同一行，比如`cat`、`c2t`、`c-t`等等，但是不匹配`coot`。\n",
    "\n",
    "**（2）位置字符**\n",
    "\n",
    "位置字符用来提示字符所处的位置，主要有两个字符。\n",
    "\n",
    "- `^` 表示字符串的开始位置\n",
    "- `$` 表示字符串的结束位置"
   ]
  },
  {
   "cell_type": "code",
   "execution_count": null,
   "id": "ad00c6ab",
   "metadata": {
    "attributes": {
     "classes": [
      "javascript"
     ],
     "id": ""
    }
   },
   "outputs": [],
   "source": [
    "// test必须出现在开始位置\n",
    "/^test/.test('test123') // true\n",
    "\n",
    "// test必须出现在结束位置\n",
    "/test$/.test('new test') // true\n",
    "\n",
    "// 从开始位置到结束位置只有test\n",
    "/^test$/.test('test') // true\n",
    "/^test$/.test('test test') // false"
   ]
  },
  {
   "cell_type": "markdown",
   "id": "e84c72be",
   "metadata": {},
   "source": [
    "**（3）选择符（`|`）**\n",
    "\n",
    "竖线符号（`|`）在正则表达式中表示“或关系”（OR），即`cat|dog`表示匹配`cat`或`dog`。"
   ]
  },
  {
   "cell_type": "code",
   "execution_count": null,
   "id": "cd4c67e2",
   "metadata": {
    "attributes": {
     "classes": [
      "javascript"
     ],
     "id": ""
    }
   },
   "outputs": [],
   "source": [
    "/11|22/.test('911') // true"
   ]
  },
  {
   "cell_type": "markdown",
   "id": "5862eb52",
   "metadata": {},
   "source": [
    "上面代码中，正则表达式指定必须匹配`11`或`22`。\n",
    "\n",
    "多个选择符可以联合使用。"
   ]
  },
  {
   "cell_type": "code",
   "execution_count": null,
   "id": "7bd44325",
   "metadata": {
    "attributes": {
     "classes": [
      "javascript"
     ],
     "id": ""
    }
   },
   "outputs": [],
   "source": [
    "// 匹配fred、barney、betty之中的一个\n",
    "/fred|barney|betty/"
   ]
  },
  {
   "cell_type": "markdown",
   "id": "f0eaca28",
   "metadata": {},
   "source": [
    "选择符会包括它前后的多个字符，比如`/ab|cd/`指的是匹配`ab`或者`cd`，而不是指匹配`b`或者`c`。如果想修改这个行为，可以使用圆括号。"
   ]
  },
  {
   "cell_type": "code",
   "execution_count": null,
   "id": "d5a84eb5",
   "metadata": {
    "attributes": {
     "classes": [
      "javascript"
     ],
     "id": ""
    }
   },
   "outputs": [],
   "source": [
    "/a( |\\t)b/.test('a\\tb') // true"
   ]
  },
  {
   "cell_type": "markdown",
   "id": "8f2bfdfc",
   "metadata": {},
   "source": [
    "上面代码指的是，`a`和`b`之间有一个空格或者一个制表符。\n",
    "\n",
    "其他的元字符还包括`\\`、`*`、`+`、`?`、`()`、`[]`、`{}`等，将在下文解释。\n",
    "\n",
    "### 转义符\n",
    "\n",
    "正则表达式中那些有特殊含义的元字符，如果要匹配它们本身，就需要在它们前面要加上反斜杠。比如要匹配`+`，就要写成`\\+`。"
   ]
  },
  {
   "cell_type": "code",
   "execution_count": null,
   "id": "1073b40e",
   "metadata": {
    "attributes": {
     "classes": [
      "javascript"
     ],
     "id": ""
    }
   },
   "outputs": [],
   "source": [
    "/1+1/.test('1+1')\n",
    "// false\n",
    "\n",
    "/1\\+1/.test('1+1')\n",
    "// true"
   ]
  },
  {
   "cell_type": "markdown",
   "id": "aae218db",
   "metadata": {},
   "source": [
    "上面代码中，第一个正则表达式之所以不匹配，因为加号是元字符，不代表自身。第二个正则表达式使用反斜杠对加号转义，就能匹配成功。\n",
    "\n",
    "正则表达式中，需要反斜杠转义的，一共有12个字符：`^`、`.`、`[`、`$`、`(`、`)`、`|`、`*`、`+`、`?`、`{`和`\\`。需要特别注意的是，如果使用`RegExp`方法生成正则对象，转义需要使用两个斜杠，因为字符串内部会先转义一次。"
   ]
  },
  {
   "cell_type": "code",
   "execution_count": null,
   "id": "8c585d97",
   "metadata": {
    "attributes": {
     "classes": [
      "javascript"
     ],
     "id": ""
    }
   },
   "outputs": [],
   "source": [
    "(new RegExp('1\\+1')).test('1+1')\n",
    "// false\n",
    "\n",
    "(new RegExp('1\\\\+1')).test('1+1')\n",
    "// true"
   ]
  },
  {
   "cell_type": "markdown",
   "id": "26727a4b",
   "metadata": {},
   "source": [
    "上面代码中，`RegExp`作为构造函数，参数是一个字符串。但是，在字符串内部，反斜杠也是转义字符，所以它会先被反斜杠转义一次，然后再被正则表达式转义一次，因此需要两个反斜杠转义。\n",
    "\n",
    "### 特殊字符\n",
    "\n",
    "正则表达式对一些不能打印的特殊字符，提供了表达方法。\n",
    "\n",
    "- `\\cX` 表示`Ctrl-[X]`，其中的`X`是A-Z之中任一个英文字母，用来匹配控制字符。\n",
    "- `[\\b]` 匹配退格键(U+0008)，不要与`\\b`混淆。\n",
    "- `\\n` 匹配换行键。\n",
    "- `\\r` 匹配回车键。\n",
    "- `\\t` 匹配制表符 tab（U+0009）。\n",
    "- `\\v` 匹配垂直制表符（U+000B）。\n",
    "- `\\f` 匹配换页符（U+000C）。\n",
    "- `\\0` 匹配`null`字符（U+0000）。\n",
    "- `\\xhh` 匹配一个以两位十六进制数（`\\x00`-`\\xFF`）表示的字符。\n",
    "- `\\uhhhh` 匹配一个以四位十六进制数（`\\u0000`-`\\uFFFF`）表示的 Unicode 字符。\n",
    "\n",
    "### 字符类\n",
    "\n",
    "字符类（class）表示有一系列字符可供选择，只要匹配其中一个就可以了。所有可供选择的字符都放在方括号内，比如`[xyz]` 表示`x`、`y`、`z`之中任选一个匹配。"
   ]
  },
  {
   "cell_type": "code",
   "execution_count": null,
   "id": "b69f0798",
   "metadata": {
    "attributes": {
     "classes": [
      "javascript"
     ],
     "id": ""
    }
   },
   "outputs": [],
   "source": [
    "/[abc]/.test('hello world') // false\n",
    "/[abc]/.test('apple') // true"
   ]
  },
  {
   "cell_type": "markdown",
   "id": "e420f5d7",
   "metadata": {},
   "source": [
    "上面代码中，字符串`hello world`不包含`a`、`b`、`c`这三个字母中的任一个，所以返回`false`；字符串`apple`包含字母`a`，所以返回`true`。\n",
    "\n",
    "有两个字符在字符类中有特殊含义。\n",
    "\n",
    "**（1）脱字符（&#94;）**\n",
    "\n",
    "如果方括号内的第一个字符是`[^]`，则表示除了字符类之中的字符，其他字符都可以匹配。比如，`[^xyz]`表示除了`x`、`y`、`z`之外都可以匹配。"
   ]
  },
  {
   "cell_type": "code",
   "execution_count": null,
   "id": "876038d5",
   "metadata": {
    "attributes": {
     "classes": [
      "javascript"
     ],
     "id": ""
    }
   },
   "outputs": [],
   "source": [
    "/[^abc]/.test('bbc news') // true\n",
    "/[^abc]/.test('bbc') // false"
   ]
  },
  {
   "cell_type": "markdown",
   "id": "36b8970f",
   "metadata": {},
   "source": [
    "上面代码中，字符串`bbc news`包含`a`、`b`、`c`以外的其他字符，所以返回`true`；字符串`bbc`不包含`a`、`b`、`c`以外的其他字符，所以返回`false`。\n",
    "\n",
    "如果方括号内没有其他字符，即只有`[^]`，就表示匹配一切字符，其中包括换行符。相比之下，点号作为元字符（`.`）是不包括换行符的。"
   ]
  },
  {
   "cell_type": "code",
   "execution_count": null,
   "id": "b3f47751",
   "metadata": {
    "attributes": {
     "classes": [
      "javascript"
     ],
     "id": ""
    }
   },
   "outputs": [],
   "source": [
    "var s = 'Please yes\\nmake my day!';\n",
    "\n",
    "s.match(/yes.*day/) // null\n",
    "s.match(/yes[^]*day/) // [ 'yes\\nmake my day']"
   ]
  },
  {
   "cell_type": "markdown",
   "id": "9c537a38",
   "metadata": {},
   "source": [
    "上面代码中，字符串`s`含有一个换行符，点号不包括换行符，所以第一个正则表达式匹配失败；第二个正则表达式`[^]`包含一切字符，所以匹配成功。\n",
    "\n",
    "> 注意，脱字符只有在字符类的第一个位置才有特殊含义，否则就是字面含义。\n",
    "\n",
    "**（2）连字符（-）**\n",
    "\n",
    "某些情况下，对于连续序列的字符，连字符（`-`）用来提供简写形式，表示字符的连续范围。比如，`[abc]`可以写成`[a-c]`，`[0123456789]`可以写成`[0-9]`，同理`[A-Z]`表示26个大写字母。"
   ]
  },
  {
   "cell_type": "code",
   "execution_count": null,
   "id": "db8e911d",
   "metadata": {
    "attributes": {
     "classes": [
      "javascript"
     ],
     "id": ""
    }
   },
   "outputs": [],
   "source": [
    "/a-z/.test('b') // false\n",
    "/[a-z]/.test('b') // true"
   ]
  },
  {
   "cell_type": "markdown",
   "id": "d254218f",
   "metadata": {},
   "source": [
    "上面代码中，当连字号（dash）不出现在方括号之中，就不具备简写的作用，只代表字面的含义，所以不匹配字符`b`。只有当连字号用在方括号之中，才表示连续的字符序列。\n",
    "\n",
    "以下都是合法的字符类简写形式。"
   ]
  },
  {
   "cell_type": "code",
   "execution_count": null,
   "id": "7b160171",
   "metadata": {
    "attributes": {
     "classes": [
      "javascript"
     ],
     "id": ""
    }
   },
   "outputs": [],
   "source": [
    "[0-9.,]\n",
    "[0-9a-fA-F]\n",
    "[a-zA-Z0-9-]\n",
    "[1-31]"
   ]
  },
  {
   "cell_type": "markdown",
   "id": "2806052b",
   "metadata": {},
   "source": [
    "上面代码中最后一个字符类`[1-31]`，不代表`1`到`31`，只代表`1`到`3`。\n",
    "\n",
    "连字符还可以用来指定 Unicode 字符的范围。"
   ]
  },
  {
   "cell_type": "code",
   "execution_count": null,
   "id": "7bbd5b95",
   "metadata": {
    "attributes": {
     "classes": [
      "javascript"
     ],
     "id": ""
    }
   },
   "outputs": [],
   "source": [
    "var str = \"\\u0130\\u0131\\u0132\";\n",
    "/[\\u0128-\\uFFFF]/.test(str)\n",
    "// true"
   ]
  },
  {
   "cell_type": "markdown",
   "id": "1eea683f",
   "metadata": {},
   "source": [
    "上面代码中，`\\u0128-\\uFFFF`表示匹配码点在`0128`到`FFFF`之间的所有字符。\n",
    "\n",
    "另外，不要过分使用连字符，设定一个很大的范围，否则很可能选中意料之外的字符。最典型的例子就是`[A-z]`，表面上它是选中从大写的`A`到小写的`z`之间52个字母，但是由于在 ASCII 编码之中，大写字母与小写字母之间还有其他字符，结果就会出现意料之外的结果。"
   ]
  },
  {
   "cell_type": "code",
   "execution_count": null,
   "id": "dfe03875",
   "metadata": {
    "attributes": {
     "classes": [
      "javascript"
     ],
     "id": ""
    }
   },
   "outputs": [],
   "source": [
    "/[A-z]/.test('\\\\') // true"
   ]
  },
  {
   "cell_type": "markdown",
   "id": "02c04196",
   "metadata": {},
   "source": [
    "上面代码中，由于反斜杠（'\\\\'）的ASCII码在大写字母与小写字母之间，结果会被选中。\n",
    "\n",
    "### 预定义模式\n",
    "\n",
    "预定义模式指的是某些常见模式的简写方式。\n",
    "\n",
    "- `\\d` 匹配0-9之间的任一数字，相当于`[0-9]`。\n",
    "- `\\D` 匹配所有0-9以外的字符，相当于`[^0-9]`。\n",
    "- `\\w` 匹配任意的字母、数字和下划线，相当于`[A-Za-z0-9_]`。\n",
    "- `\\W` 除所有字母、数字和下划线以外的字符，相当于`[^A-Za-z0-9_]`。\n",
    "- `\\s` 匹配空格（包括换行符、制表符、空格符等），相等于`[ \\t\\r\\n\\v\\f]`。\n",
    "- `\\S` 匹配非空格的字符，相当于`[^ \\t\\r\\n\\v\\f]`。\n",
    "- `\\b` 匹配词的边界。\n",
    "- `\\B` 匹配非词边界，即在词的内部。\n",
    "\n",
    "下面是一些例子。"
   ]
  },
  {
   "cell_type": "code",
   "execution_count": null,
   "id": "d34639bc",
   "metadata": {
    "attributes": {
     "classes": [
      "javascript"
     ],
     "id": ""
    }
   },
   "outputs": [],
   "source": [
    "// \\s 的例子\n",
    "/\\s\\w*/.exec('hello world') // [\" world\"]\n",
    "\n",
    "// \\b 的例子\n",
    "/\\bworld/.test('hello world') // true\n",
    "/\\bworld/.test('hello-world') // true\n",
    "/\\bworld/.test('helloworld') // false\n",
    "\n",
    "// \\B 的例子\n",
    "/\\Bworld/.test('hello-world') // false\n",
    "/\\Bworld/.test('helloworld') // true"
   ]
  },
  {
   "cell_type": "markdown",
   "id": "45f556fc",
   "metadata": {},
   "source": [
    "上面代码中，`\\s`表示空格，所以匹配结果会包括空格。`\\b`表示词的边界，所以`world`的词首必须独立（词尾是否独立未指定），才会匹配。同理，`\\B`表示非词的边界，只有`world`的词首不独立，才会匹配。\n",
    "\n",
    "通常，正则表达式遇到换行符（`\\n`）就会停止匹配。"
   ]
  },
  {
   "cell_type": "code",
   "execution_count": null,
   "id": "cbc7e72c",
   "metadata": {
    "attributes": {
     "classes": [
      "javascript"
     ],
     "id": ""
    }
   },
   "outputs": [],
   "source": [
    "var html = \"<b>Hello</b>\\n<i>world!</i>\";\n",
    "\n",
    "/.*/.exec(html)[0]\n",
    "// \"<b>Hello</b>\""
   ]
  },
  {
   "cell_type": "markdown",
   "id": "8dc0ea06",
   "metadata": {},
   "source": [
    "上面代码中，字符串`html`包含一个换行符，结果点字符（`.`）不匹配换行符，导致匹配结果可能不符合原意。这时使用`\\s`字符类，就能包括换行符。"
   ]
  },
  {
   "cell_type": "code",
   "execution_count": null,
   "id": "225befc2",
   "metadata": {
    "attributes": {
     "classes": [
      "javascript"
     ],
     "id": ""
    }
   },
   "outputs": [],
   "source": [
    "var html = \"<b>Hello</b>\\n<i>world!</i>\";\n",
    "\n",
    "/[\\S\\s]*/.exec(html)[0]\n",
    "// \"<b>Hello</b>\\n<i>world!</i>\""
   ]
  },
  {
   "cell_type": "markdown",
   "id": "f667f164",
   "metadata": {},
   "source": [
    "上面代码中，`[\\S\\s]`指代一切字符。\n",
    "\n",
    "### 重复类\n",
    "\n",
    "模式的精确匹配次数，使用大括号（`{}`）表示。`{n}`表示恰好重复`n`次，`{n,}`表示至少重复`n`次，`{n,m}`表示重复不少于`n`次，不多于`m`次。"
   ]
  },
  {
   "cell_type": "code",
   "execution_count": null,
   "id": "a7a57784",
   "metadata": {
    "attributes": {
     "classes": [
      "javascript"
     ],
     "id": ""
    }
   },
   "outputs": [],
   "source": [
    "/lo{2}k/.test('look') // true\n",
    "/lo{2,5}k/.test('looook') // true"
   ]
  },
  {
   "cell_type": "markdown",
   "id": "a6310b89",
   "metadata": {},
   "source": [
    "上面代码中，第一个模式指定`o`连续出现2次，第二个模式指定`o`连续出现2次到5次之间。\n",
    "\n",
    "### 量词符\n",
    "\n",
    "量词符用来设定某个模式出现的次数。\n",
    "\n",
    "- `?` 问号表示某个模式出现0次或1次，等同于`{0, 1}`。\n",
    "- `*` 星号表示某个模式出现0次或多次，等同于`{0,}`。\n",
    "- `+` 加号表示某个模式出现1次或多次，等同于`{1,}`。"
   ]
  },
  {
   "cell_type": "code",
   "execution_count": null,
   "id": "57510deb",
   "metadata": {
    "attributes": {
     "classes": [
      "javascript"
     ],
     "id": ""
    }
   },
   "outputs": [],
   "source": [
    "// t 出现0次或1次\n",
    "/t?est/.test('test') // true\n",
    "/t?est/.test('est') // true\n",
    "\n",
    "// t 出现1次或多次\n",
    "/t+est/.test('test') // true\n",
    "/t+est/.test('ttest') // true\n",
    "/t+est/.test('est') // false\n",
    "\n",
    "// t 出现0次或多次\n",
    "/t*est/.test('test') // true\n",
    "/t*est/.test('ttest') // true\n",
    "/t*est/.test('tttest') // true\n",
    "/t*est/.test('est') // true"
   ]
  },
  {
   "cell_type": "markdown",
   "id": "36f2ea53",
   "metadata": {},
   "source": [
    "### 贪婪模式\n",
    "\n",
    "上一小节的三个量词符，默认情况下都是最大可能匹配，即匹配到下一个字符不满足匹配规则为止。这被称为贪婪模式。"
   ]
  },
  {
   "cell_type": "code",
   "execution_count": null,
   "id": "437fdbc3",
   "metadata": {
    "attributes": {
     "classes": [
      "javascript"
     ],
     "id": ""
    }
   },
   "outputs": [],
   "source": [
    "var s = 'aaa';\n",
    "s.match(/a+/) // [\"aaa\"]"
   ]
  },
  {
   "cell_type": "markdown",
   "id": "55c8f505",
   "metadata": {},
   "source": [
    "上面代码中，模式是`/a+/`，表示匹配1个`a`或多个`a`，那么到底会匹配几个`a`呢？因为默认是贪婪模式，会一直匹配到字符`a`不出现为止，所以匹配结果是3个`a`。\n",
    "\n",
    "除了贪婪模式，还有非贪婪模式，即最小可能匹配。只要一发现匹配，就返回结果，不要往下检查。如果想将贪婪模式改为非贪婪模式，可以在量词符后面加一个问号。"
   ]
  },
  {
   "cell_type": "code",
   "execution_count": null,
   "id": "2344b89a",
   "metadata": {
    "attributes": {
     "classes": [
      "javascript"
     ],
     "id": ""
    }
   },
   "outputs": [],
   "source": [
    "var s = 'aaa';\n",
    "s.match(/a+?/) // [\"a\"]"
   ]
  },
  {
   "cell_type": "markdown",
   "id": "cf4be9ed",
   "metadata": {},
   "source": [
    "上面例子中，模式结尾添加了一个问号`/a+?/`，这时就改为非贪婪模式，一旦条件满足，就不再往下匹配，`+?`表示只要发现一个`a`，就不再往下匹配了。\n",
    "\n",
    "除了非贪婪模式的加号（`+?`），还有非贪婪模式的星号（`*?`）和非贪婪模式的问号（`??`）。\n",
    "\n",
    "- `+?`：表示某个模式出现1次或多次，匹配时采用非贪婪模式。\n",
    "- `*?`：表示某个模式出现0次或多次，匹配时采用非贪婪模式。\n",
    "- `??`：表格某个模式出现0次或1次，匹配时采用非贪婪模式。"
   ]
  },
  {
   "cell_type": "code",
   "execution_count": null,
   "id": "0ae68532",
   "metadata": {
    "attributes": {
     "classes": [
      "javascript"
     ],
     "id": ""
    }
   },
   "outputs": [],
   "source": [
    "'abb'.match(/ab*/) // [\"abb\"]\n",
    "'abb'.match(/ab*?/) // [\"a\"]\n",
    "\n",
    "'abb'.match(/ab?/) // [\"ab\"]\n",
    "'abb'.match(/ab??/) // [\"a\"]"
   ]
  },
  {
   "cell_type": "markdown",
   "id": "a1887a8d",
   "metadata": {},
   "source": [
    "上面例子中，`/ab*/`表示如果`a`后面有多个`b`，那么匹配尽可能多的`b`；`/ab*?/`表示匹配尽可能少的`b`，也就是0个`b`。\n",
    "\n",
    "### 修饰符\n",
    "\n",
    "修饰符（modifier）表示模式的附加规则，放在正则模式的最尾部。\n",
    "\n",
    "修饰符可以单个使用，也可以多个一起使用。"
   ]
  },
  {
   "cell_type": "code",
   "execution_count": null,
   "id": "46ddf2d4",
   "metadata": {
    "attributes": {
     "classes": [
      "javascript"
     ],
     "id": ""
    }
   },
   "outputs": [],
   "source": [
    "// 单个修饰符\n",
    "var regex = /test/i;\n",
    "\n",
    "// 多个修饰符\n",
    "var regex = /test/ig;"
   ]
  },
  {
   "cell_type": "markdown",
   "id": "153b5ba0",
   "metadata": {},
   "source": [
    "**（1）g 修饰符**\n",
    "\n",
    "默认情况下，第一次匹配成功后，正则对象就停止向下匹配了。`g`修饰符表示全局匹配（global），加上它以后，正则对象将匹配全部符合条件的结果，主要用于搜索和替换。"
   ]
  },
  {
   "cell_type": "code",
   "execution_count": null,
   "id": "7afca296",
   "metadata": {
    "attributes": {
     "classes": [
      "javascript"
     ],
     "id": ""
    }
   },
   "outputs": [],
   "source": [
    "var regex = /b/;\n",
    "var str = 'abba';\n",
    "\n",
    "regex.test(str); // true\n",
    "regex.test(str); // true\n",
    "regex.test(str); // true"
   ]
  },
  {
   "cell_type": "markdown",
   "id": "f5f56c59",
   "metadata": {},
   "source": [
    "上面代码中，正则模式不含`g`修饰符，每次都是从字符串头部开始匹配。所以，连续做了三次匹配，都返回`true`。"
   ]
  },
  {
   "cell_type": "code",
   "execution_count": null,
   "id": "62aa439d",
   "metadata": {
    "attributes": {
     "classes": [
      "javascript"
     ],
     "id": ""
    }
   },
   "outputs": [],
   "source": [
    "var regex = /b/g;\n",
    "var str = 'abba';\n",
    "\n",
    "regex.test(str); // true\n",
    "regex.test(str); // true\n",
    "regex.test(str); // false"
   ]
  },
  {
   "cell_type": "markdown",
   "id": "eb8d7789",
   "metadata": {},
   "source": [
    "上面代码中，正则模式含有`g`修饰符，每次都是从上一次匹配成功处，开始向后匹配。因为字符串`abba`只有两个`b`，所以前两次匹配结果为`true`，第三次匹配结果为`false`。\n",
    "\n",
    "**（2）i 修饰符**\n",
    "\n",
    "默认情况下，正则对象区分字母的大小写，加上`i`修饰符以后表示忽略大小写（ignoreCase）。"
   ]
  },
  {
   "cell_type": "code",
   "execution_count": null,
   "id": "ff451473",
   "metadata": {
    "attributes": {
     "classes": [
      "javascript"
     ],
     "id": ""
    }
   },
   "outputs": [],
   "source": [
    "/abc/.test('ABC') // false\n",
    "/abc/i.test('ABC') // true"
   ]
  },
  {
   "cell_type": "markdown",
   "id": "6da59212",
   "metadata": {},
   "source": [
    "上面代码表示，加了`i`修饰符以后，不考虑大小写，所以模式`abc`匹配字符串`ABC`。\n",
    "\n",
    "**（3）m 修饰符**\n",
    "\n",
    "`m`修饰符表示多行模式（multiline），会修改`^`和`$`的行为。默认情况下（即不加`m`修饰符时），`^`和`$`匹配字符串的开始处和结尾处，加上`m`修饰符以后，`^`和`$`还会匹配行首和行尾，即`^`和`$`会识别换行符（`\\n`）。"
   ]
  },
  {
   "cell_type": "code",
   "execution_count": null,
   "id": "3cfdca9e",
   "metadata": {
    "attributes": {
     "classes": [
      "javascript"
     ],
     "id": ""
    }
   },
   "outputs": [],
   "source": [
    "/world$/.test('hello world\\n') // false\n",
    "/world$/m.test('hello world\\n') // true"
   ]
  },
  {
   "cell_type": "markdown",
   "id": "1dd0d732",
   "metadata": {},
   "source": [
    "上面的代码中，字符串结尾处有一个换行符。如果不加`m`修饰符，匹配不成功，因为字符串的结尾不是`world`；加上以后，`$`可以匹配行尾。"
   ]
  },
  {
   "cell_type": "code",
   "execution_count": null,
   "id": "24171c11",
   "metadata": {
    "attributes": {
     "classes": [
      "javascript"
     ],
     "id": ""
    }
   },
   "outputs": [],
   "source": [
    "/^b/m.test('a\\nb') // true"
   ]
  },
  {
   "cell_type": "markdown",
   "id": "81a86d4d",
   "metadata": {},
   "source": [
    "上面代码要求匹配行首的`b`，如果不加`m`修饰符，就相当于`b`只能处在字符串的开始处。加上`m`修饰符以后，换行符`\\n`也会被认为是一行的开始。\n",
    "\n",
    "### 组匹配\n",
    "\n",
    "**（1）概述**\n",
    "\n",
    "正则表达式的括号表示分组匹配，括号中的模式可以用来匹配分组的内容。"
   ]
  },
  {
   "cell_type": "code",
   "execution_count": null,
   "id": "505cc763",
   "metadata": {
    "attributes": {
     "classes": [
      "javascript"
     ],
     "id": ""
    }
   },
   "outputs": [],
   "source": [
    "/fred+/.test('fredd') // true\n",
    "/(fred)+/.test('fredfred') // true"
   ]
  },
  {
   "cell_type": "markdown",
   "id": "c91e4751",
   "metadata": {},
   "source": [
    "上面代码中，第一个模式没有括号，结果`+`只表示重复字母`d`，第二个模式有括号，结果`+`就表示匹配`fred`这个词。\n",
    "\n",
    "下面是另外一个分组捕获的例子。"
   ]
  },
  {
   "cell_type": "code",
   "execution_count": null,
   "id": "e8f1e650",
   "metadata": {
    "attributes": {
     "classes": [
      "javascript"
     ],
     "id": ""
    }
   },
   "outputs": [],
   "source": [
    "var m = 'abcabc'.match(/(.)b(.)/);\n",
    "m\n",
    "// ['abc', 'a', 'c']"
   ]
  },
  {
   "cell_type": "markdown",
   "id": "b16e7ea5",
   "metadata": {},
   "source": [
    "上面代码中，正则表达式`/(.)b(.)/`一共使用两个括号，第一个括号捕获`a`，第二个括号捕获`c`。\n",
    "\n",
    "注意，使用组匹配时，不宜同时使用`g`修饰符，否则`match`方法不会捕获分组的内容。"
   ]
  },
  {
   "cell_type": "code",
   "execution_count": null,
   "id": "610b6e67",
   "metadata": {
    "attributes": {
     "classes": [
      "javascript"
     ],
     "id": ""
    }
   },
   "outputs": [],
   "source": [
    "var m = 'abcabc'.match(/(.)b(.)/g);\n",
    "m // ['abc', 'abc']"
   ]
  },
  {
   "cell_type": "markdown",
   "id": "96fd497c",
   "metadata": {},
   "source": [
    "上面代码使用带`g`修饰符的正则表达式，结果`match`方法只捕获了匹配整个表达式的部分。这时必须使用正则表达式的`exec`方法，配合循环，才能读到每一轮匹配的组捕获。"
   ]
  },
  {
   "cell_type": "code",
   "execution_count": null,
   "id": "65045f20",
   "metadata": {
    "attributes": {
     "classes": [
      "javascript"
     ],
     "id": ""
    }
   },
   "outputs": [],
   "source": [
    "var str = 'abcabc';\n",
    "var reg = /(.)b(.)/g;\n",
    "while (true) {\n",
    "  var result = reg.exec(str);\n",
    "  if (!result) break;\n",
    "  console.log(result);\n",
    "}\n",
    "// [\"abc\", \"a\", \"c\"]\n",
    "// [\"abc\", \"a\", \"c\"]"
   ]
  },
  {
   "cell_type": "markdown",
   "id": "b8f64bec",
   "metadata": {},
   "source": [
    "正则表达式内部，还可以用`\\n`引用括号匹配的内容，`n`是从1开始的自然数，表示对应顺序的括号。"
   ]
  },
  {
   "cell_type": "code",
   "execution_count": null,
   "id": "d588617a",
   "metadata": {
    "attributes": {
     "classes": [
      "javascript"
     ],
     "id": ""
    }
   },
   "outputs": [],
   "source": [
    "/(.)b(.)\\1b\\2/.test(\"abcabc\")\n",
    "// true"
   ]
  },
  {
   "cell_type": "markdown",
   "id": "3865538d",
   "metadata": {},
   "source": [
    "上面的代码中，`\\1`表示第一个括号匹配的内容（即`a`），`\\2`表示第二个括号匹配的内容（即`c`）。\n",
    "\n",
    "下面是另外一个例子。"
   ]
  },
  {
   "cell_type": "code",
   "execution_count": null,
   "id": "c6105326",
   "metadata": {
    "attributes": {
     "classes": [
      "javascript"
     ],
     "id": ""
    }
   },
   "outputs": [],
   "source": [
    "/y(..)(.)\\2\\1/.test('yabccab') // true"
   ]
  },
  {
   "cell_type": "markdown",
   "id": "24d64a3c",
   "metadata": {},
   "source": [
    "括号还可以嵌套。"
   ]
  },
  {
   "cell_type": "code",
   "execution_count": null,
   "id": "35fca544",
   "metadata": {
    "attributes": {
     "classes": [
      "javascript"
     ],
     "id": ""
    }
   },
   "outputs": [],
   "source": [
    "/y((..)\\2)\\1/.test('yabababab') // true"
   ]
  },
  {
   "cell_type": "markdown",
   "id": "85fdc6cd",
   "metadata": {},
   "source": [
    "上面代码中，`\\1`指向外层括号，`\\2`指向内层括号。\n",
    "\n",
    "组匹配非常有用，下面是一个匹配网页标签的例子。"
   ]
  },
  {
   "cell_type": "code",
   "execution_count": null,
   "id": "cfde98e5",
   "metadata": {
    "attributes": {
     "classes": [
      "javascript"
     ],
     "id": ""
    }
   },
   "outputs": [],
   "source": [
    "var tagName = /<([^>]+)>[^<]*<\\/\\1>/;\n",
    "\n",
    "tagName.exec(\"<b>bold</b>\")[1]\n",
    "// 'b'"
   ]
  },
  {
   "cell_type": "markdown",
   "id": "09355638",
   "metadata": {},
   "source": [
    "上面代码中，圆括号匹配尖括号之中的标签，而`\\1`就表示对应的闭合标签。\n",
    "\n",
    "上面代码略加修改，就能捕获带有属性的标签。"
   ]
  },
  {
   "cell_type": "code",
   "execution_count": null,
   "id": "860c9e26",
   "metadata": {
    "attributes": {
     "classes": [
      "javascript"
     ],
     "id": ""
    }
   },
   "outputs": [],
   "source": [
    "var html = '<b class=\"hello\">Hello</b><i>world</i>';\n",
    "var tag = /<(\\w+)([^>]*)>(.*?)<\\/\\1>/g;\n",
    "\n",
    "var match = tag.exec(html);\n",
    "\n",
    "match[1] // \"b\"\n",
    "match[2] // \" class=\"hello\"\"\n",
    "match[3] // \"Hello\"\n",
    "\n",
    "match = tag.exec(html);\n",
    "\n",
    "match[1] // \"i\"\n",
    "match[2] // \"\"\n",
    "match[3] // \"world\""
   ]
  },
  {
   "cell_type": "markdown",
   "id": "ae8c5125",
   "metadata": {},
   "source": [
    "**（2）非捕获组**\n",
    "\n",
    "`(?:x)`称为非捕获组（Non-capturing group），表示不返回该组匹配的内容，即匹配的结果中不计入这个括号。\n",
    "\n",
    "非捕获组的作用请考虑这样一个场景，假定需要匹配`foo`或者`foofoo`，正则表达式就应该写成`/(foo){1, 2}/`，但是这样会占用一个组匹配。这时，就可以使用非捕获组，将正则表达式改为`/(?:foo){1, 2}/`，它的作用与前一个正则是一样的，但是不会单独输出括号内部的内容。\n",
    "\n",
    "请看下面的例子。"
   ]
  },
  {
   "cell_type": "code",
   "execution_count": null,
   "id": "cdf0092b",
   "metadata": {
    "attributes": {
     "classes": [
      "javascript"
     ],
     "id": ""
    }
   },
   "outputs": [],
   "source": [
    "var m = 'abc'.match(/(?:.)b(.)/);\n",
    "m // [\"abc\", \"c\"]"
   ]
  },
  {
   "cell_type": "markdown",
   "id": "46fbb985",
   "metadata": {},
   "source": [
    "上面代码中的模式，一共使用了两个括号。其中第一个括号是非捕获组，所以最后返回的结果中没有第一个括号，只有第二个括号匹配的内容。\n",
    "\n",
    "下面是用来分解网址的正则表达式。"
   ]
  },
  {
   "cell_type": "code",
   "execution_count": null,
   "id": "26437675",
   "metadata": {
    "attributes": {
     "classes": [
      "javascript"
     ],
     "id": ""
    }
   },
   "outputs": [],
   "source": [
    "// 正常匹配\n",
    "var url = /(http|ftp):\\/\\/([^/\\r\\n]+)(\\/[^\\r\\n]*)?/;\n",
    "\n",
    "url.exec('http://google.com/');\n",
    "// [\"http://google.com/\", \"http\", \"google.com\", \"/\"]\n",
    "\n",
    "// 非捕获组匹配\n",
    "var url = /(?:http|ftp):\\/\\/([^/\\r\\n]+)(\\/[^\\r\\n]*)?/;\n",
    "\n",
    "url.exec('http://google.com/');\n",
    "// [\"http://google.com/\", \"google.com\", \"/\"]"
   ]
  },
  {
   "cell_type": "markdown",
   "id": "441c705d",
   "metadata": {},
   "source": [
    "上面的代码中，前一个正则表达式是正常匹配，第一个括号返回网络协议；后一个正则表达式是非捕获匹配，返回结果中不包括网络协议。\n",
    "\n",
    "**（3）先行断言**\n",
    "\n",
    "`x(?=y)`称为先行断言（Positive look-ahead），`x`只有在`y`前面才匹配，`y`不会被计入返回结果。比如，要匹配后面跟着百分号的数字，可以写成`/\\d+(?=%)/`。\n",
    "\n",
    "“先行断言”中，括号里的部分是不会返回的。"
   ]
  },
  {
   "cell_type": "code",
   "execution_count": null,
   "id": "b0c62172",
   "metadata": {
    "attributes": {
     "classes": [
      "javascript"
     ],
     "id": ""
    }
   },
   "outputs": [],
   "source": [
    "var m = 'abc'.match(/b(?=c)/);\n",
    "m // [\"b\"]"
   ]
  },
  {
   "cell_type": "markdown",
   "id": "3a52ebb4",
   "metadata": {},
   "source": [
    "上面的代码使用了先行断言，`b`在`c`前面所以被匹配，但是括号对应的`c`不会被返回。\n",
    "\n",
    "**（4）先行否定断言**\n",
    "\n",
    "`x(?!y)`称为先行否定断言（Negative look-ahead），`x`只有不在`y`前面才匹配，`y`不会被计入返回结果。比如，要匹配后面跟的不是百分号的数字，就要写成`/\\d+(?!%)/`。"
   ]
  },
  {
   "cell_type": "code",
   "execution_count": null,
   "id": "3ab43069",
   "metadata": {
    "attributes": {
     "classes": [
      "javascript"
     ],
     "id": ""
    }
   },
   "outputs": [],
   "source": [
    "/\\d+(?!\\.)/.exec('3.14')\n",
    "// [\"14\"]"
   ]
  },
  {
   "cell_type": "markdown",
   "id": "7c100776",
   "metadata": {},
   "source": [
    "上面代码中，正则表达式指定，只有不在小数点前面的数字才会被匹配，因此返回的结果就是`14`。\n",
    "\n",
    "“先行否定断言”中，括号里的部分是不会返回的。"
   ]
  },
  {
   "cell_type": "code",
   "execution_count": null,
   "id": "6ee74fc0",
   "metadata": {
    "attributes": {
     "classes": [
      "javascript"
     ],
     "id": ""
    }
   },
   "outputs": [],
   "source": [
    "var m = 'abd'.match(/b(?!c)/);\n",
    "m // ['b']"
   ]
  },
  {
   "cell_type": "markdown",
   "id": "da15be09",
   "metadata": {},
   "source": [
    "上面的代码使用了先行否定断言，`b`不在`c`前面所以被匹配，而且括号对应的`d`不会被返回。\n",
    "\n",
    "## 参考链接\n",
    "\n",
    "- Axel Rauschmayer, [JavaScript: an overview of the regular expression API](http://www.2ality.com/2011/04/javascript-overview-of-regular.html)\n",
    "- Mozilla Developer Network, [Regular Expressions](https://developer.mozilla.org/en-US/docs/Web/JavaScript/Guide/Regular_Expressions)\n",
    "- Axel Rauschmayer, [The flag /g of JavaScript’s regular expressions](http://www.2ality.com/2013/08/regexp-g.html)\n",
    "- Sam Hughes, [Learn regular expressions in about 55 minutes](http://qntm.org/files/re/re.html)"
   ]
  }
 ],
 "metadata": {},
 "nbformat": 4,
 "nbformat_minor": 5
}

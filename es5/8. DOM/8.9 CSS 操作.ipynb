{
 "cells": [
  {
   "cell_type": "markdown",
   "id": "09465745",
   "metadata": {},
   "source": [
    "# CSS 操作\n",
    "\n",
    "CSS 与 JavaScript 是两个有着明确分工的领域，前者负责页面的视觉效果，后者负责与用户的行为互动。但是，它们毕竟同属网页开发的前端，因此不可避免有着交叉和互相配合。本章介绍如何通过 JavaScript 操作 CSS。\n",
    "\n",
    "## HTML 元素的 style 属性\n",
    "\n",
    "操作 CSS 样式最简单的方法，就是使用网页元素节点的`getAttribute()`方法、`setAttribute()`方法和`removeAttribute()`方法，直接读写或删除网页元素的`style`属性。"
   ]
  },
  {
   "cell_type": "code",
   "execution_count": null,
   "id": "3d2d40f8",
   "metadata": {
    "attributes": {
     "classes": [
      "javascript"
     ],
     "id": ""
    }
   },
   "outputs": [],
   "source": [
    "div.setAttribute(\n",
    "  'style',\n",
    "  'background-color:red;' + 'border:1px solid black;'\n",
    ");"
   ]
  },
  {
   "cell_type": "markdown",
   "id": "d4fa7721",
   "metadata": {},
   "source": [
    "上面的代码相当于下面的 HTML 代码。"
   ]
  },
  {
   "cell_type": "code",
   "execution_count": null,
   "id": "4113ae47",
   "metadata": {
    "attributes": {
     "classes": [
      "html"
     ],
     "id": ""
    }
   },
   "outputs": [],
   "source": [
    "<div style=\"background-color:red; border:1px solid black;\" />"
   ]
  },
  {
   "cell_type": "markdown",
   "id": "abf57a2e",
   "metadata": {},
   "source": [
    "`style`不仅可以使用字符串读写，它本身还是一个对象，部署了 CSSStyleDeclaration 接口（详见下面的介绍），可以直接读写个别属性。"
   ]
  },
  {
   "cell_type": "code",
   "execution_count": null,
   "id": "aefc96d6",
   "metadata": {
    "attributes": {
     "classes": [
      "javascript"
     ],
     "id": ""
    }
   },
   "outputs": [],
   "source": [
    "e.style.fontSize = '18px';\n",
    "e.style.color = 'black';"
   ]
  },
  {
   "cell_type": "markdown",
   "id": "1bc0e32b",
   "metadata": {},
   "source": [
    "## CSSStyleDeclaration 接口\n",
    "\n",
    "### 简介\n",
    "\n",
    "CSSStyleDeclaration 接口用来操作元素的样式。三个地方部署了这个接口。\n",
    "\n",
    "- 元素节点的`style`属性（`Element.style`）\n",
    "- `CSSStyle`实例的`style`属性\n",
    "- `window.getComputedStyle()`的返回值\n",
    "\n",
    "CSSStyleDeclaration 接口可以直接读写 CSS 的样式属性，不过，连词号需要变成骆驼拼写法。"
   ]
  },
  {
   "cell_type": "code",
   "execution_count": null,
   "id": "8e4f7a0b",
   "metadata": {
    "attributes": {
     "classes": [
      "javascript"
     ],
     "id": ""
    }
   },
   "outputs": [],
   "source": [
    "var divStyle = document.querySelector('div').style;\n",
    "\n",
    "divStyle.backgroundColor = 'red';\n",
    "divStyle.border = '1px solid black';\n",
    "divStyle.width = '100px';\n",
    "divStyle.height = '100px';\n",
    "divStyle.fontSize = '10em';\n",
    "\n",
    "divStyle.backgroundColor // red\n",
    "divStyle.border // 1px solid black\n",
    "divStyle.height // 100px\n",
    "divStyle.width // 100px"
   ]
  },
  {
   "cell_type": "markdown",
   "id": "49990775",
   "metadata": {},
   "source": [
    "上面代码中，`style`属性的值是一个 CSSStyleDeclaration 实例。这个对象所包含的属性与 CSS 规则一一对应，但是名字需要改写，比如`background-color`写成`backgroundColor`。改写的规则是将横杠从 CSS 属性名中去除，然后将横杠后的第一个字母大写。如果 CSS 属性名是 JavaScript 保留字，则规则名之前需要加上字符串`css`，比如`float`写成`cssFloat`。\n",
    "\n",
    "注意，该对象的属性值都是字符串，设置时必须包括单位，但是不含规则结尾的分号。比如，`divStyle.width`不能写为`100`，而要写为`100px`。\n",
    "\n",
    "另外，`Element.style`返回的只是行内样式，并不是该元素的全部样式。通过样式表设置的样式，或者从父元素继承的样式，无法通过这个属性得到。元素的全部样式要通过`window.getComputedStyle()`得到。\n",
    "\n",
    "### CSSStyleDeclaration 实例属性\n",
    "\n",
    "**（1）CSSStyleDeclaration.cssText**\n",
    "\n",
    "`CSSStyleDeclaration.cssText`属性用来读写当前规则的所有样式声明文本。"
   ]
  },
  {
   "cell_type": "code",
   "execution_count": null,
   "id": "afb85f4c",
   "metadata": {
    "attributes": {
     "classes": [
      "javascript"
     ],
     "id": ""
    }
   },
   "outputs": [],
   "source": [
    "var divStyle = document.querySelector('div').style;\n",
    "\n",
    "divStyle.cssText = 'background-color: red;'\n",
    "  + 'border: 1px solid black;'\n",
    "  + 'height: 100px;'\n",
    "  + 'width: 100px;';"
   ]
  },
  {
   "cell_type": "markdown",
   "id": "485787cf",
   "metadata": {},
   "source": [
    "注意，`cssText`的属性值不用改写 CSS 属性名。\n",
    "\n",
    "删除一个元素的所有行内样式，最简便的方法就是设置`cssText`为空字符串。"
   ]
  },
  {
   "cell_type": "code",
   "execution_count": null,
   "id": "380dfb39",
   "metadata": {
    "attributes": {
     "classes": [
      "javascript"
     ],
     "id": ""
    }
   },
   "outputs": [],
   "source": [
    "divStyle.cssText = '';"
   ]
  },
  {
   "cell_type": "markdown",
   "id": "35ee0087",
   "metadata": {},
   "source": [
    "**（2）CSSStyleDeclaration.length**\n",
    "\n",
    "`CSSStyleDeclaration.length`属性返回一个整数值，表示当前规则包含多少条样式声明。"
   ]
  },
  {
   "cell_type": "code",
   "execution_count": null,
   "id": "5fe5e399",
   "metadata": {
    "attributes": {
     "classes": [
      "javascript"
     ],
     "id": ""
    }
   },
   "outputs": [],
   "source": [
    "// HTML 代码如下\n",
    "// <div id=\"myDiv\"\n",
    "//   style=\"height: 1px;width: 100%;background-color: #CA1;\"\n",
    "// ></div>\n",
    "var myDiv = document.getElementById('myDiv');\n",
    "var divStyle = myDiv.style;\n",
    "divStyle.length // 3"
   ]
  },
  {
   "cell_type": "markdown",
   "id": "ae98aa6a",
   "metadata": {},
   "source": [
    "上面代码中，`myDiv`元素的行内样式共包含3条样式规则。\n",
    "\n",
    "**（3）CSSStyleDeclaration.parentRule**\n",
    "\n",
    "`CSSStyleDeclaration.parentRule`属性返回当前规则所属的那个样式块（CSSRule 实例）。如果不存在所属的样式块，该属性返回`null`。\n",
    "\n",
    "该属性只读，且只在使用 CSSRule 接口时有意义。"
   ]
  },
  {
   "cell_type": "code",
   "execution_count": null,
   "id": "15783eba",
   "metadata": {
    "attributes": {
     "classes": [
      "javascript"
     ],
     "id": ""
    }
   },
   "outputs": [],
   "source": [
    "var declaration = document.styleSheets[0].rules[0].style;\n",
    "declaration.parentRule === document.styleSheets[0].rules[0]\n",
    "// true"
   ]
  },
  {
   "cell_type": "markdown",
   "id": "857c1e51",
   "metadata": {},
   "source": [
    "### CSSStyleDeclaration 实例方法\n",
    "\n",
    "**（1）CSSStyleDeclaration.getPropertyPriority()**\n",
    "\n",
    "`CSSStyleDeclaration.getPropertyPriority`方法接受 CSS 样式的属性名作为参数，返回一个字符串，表示有没有设置`important`优先级。如果有就返回`important`，否则返回空字符串。"
   ]
  },
  {
   "cell_type": "code",
   "execution_count": null,
   "id": "e8cac806",
   "metadata": {
    "attributes": {
     "classes": [
      "javascript"
     ],
     "id": ""
    }
   },
   "outputs": [],
   "source": [
    "// HTML 代码为\n",
    "// <div id=\"myDiv\" style=\"margin: 10px!important; color: red;\"/>\n",
    "var style = document.getElementById('myDiv').style;\n",
    "style.margin // \"10px\"\n",
    "style.getPropertyPriority('margin') // \"important\"\n",
    "style.getPropertyPriority('color') // \"\""
   ]
  },
  {
   "cell_type": "markdown",
   "id": "e5c48eab",
   "metadata": {},
   "source": [
    "上面代码中，`margin`属性有`important`优先级，`color`属性没有。\n",
    "\n",
    "**（2）CSSStyleDeclaration.getPropertyValue()**\n",
    "\n",
    "`CSSStyleDeclaration.getPropertyValue`方法接受 CSS 样式属性名作为参数，返回一个字符串，表示该属性的属性值。"
   ]
  },
  {
   "cell_type": "code",
   "execution_count": null,
   "id": "008121a2",
   "metadata": {
    "attributes": {
     "classes": [
      "javascript"
     ],
     "id": ""
    }
   },
   "outputs": [],
   "source": [
    "// HTML 代码为\n",
    "// <div id=\"myDiv\" style=\"margin: 10px!important; color: red;\"/>\n",
    "var style = document.getElementById('myDiv').style;\n",
    "style.margin // \"10px\"\n",
    "style.getPropertyValue(\"margin\") // \"10px\""
   ]
  },
  {
   "cell_type": "markdown",
   "id": "f9de4ee0",
   "metadata": {},
   "source": [
    "**（3）CSSStyleDeclaration.item()**\n",
    "\n",
    "`CSSStyleDeclaration.item`方法接受一个整数值作为参数，返回该位置的 CSS 属性名。"
   ]
  },
  {
   "cell_type": "code",
   "execution_count": null,
   "id": "158c17f1",
   "metadata": {
    "attributes": {
     "classes": [
      "javascript"
     ],
     "id": ""
    }
   },
   "outputs": [],
   "source": [
    "// HTML 代码为\n",
    "// <div id=\"myDiv\" style=\"color: red; background-color: white;\"/>\n",
    "var style = document.getElementById('myDiv').style;\n",
    "style.item(0) // \"color\"\n",
    "style.item(1) // \"background-color\""
   ]
  },
  {
   "cell_type": "markdown",
   "id": "5061adf8",
   "metadata": {},
   "source": [
    "上面代码中，`0`号位置的 CSS 属性名是`color`，`1`号位置的 CSS 属性名是`background-color`。\n",
    "\n",
    "如果没有提供参数，这个方法会报错。如果参数值超过实际的属性数目，这个方法返回一个空字符值。\n",
    "\n",
    "**（4）CSSStyleDeclaration.removeProperty()**\n",
    "\n",
    "`CSSStyleDeclaration.removeProperty`方法接受一个属性名作为参数，在 CSS 规则里面移除这个属性，返回这个属性原来的值。"
   ]
  },
  {
   "cell_type": "code",
   "execution_count": null,
   "id": "fea84642",
   "metadata": {
    "attributes": {
     "classes": [
      "javascript"
     ],
     "id": ""
    }
   },
   "outputs": [],
   "source": [
    "// HTML 代码为\n",
    "// <div id=\"myDiv\" style=\"color: red; background-color: white;\">\n",
    "//   111\n",
    "// </div>\n",
    "var style = document.getElementById('myDiv').style;\n",
    "style.removeProperty('color') // 'red'\n",
    "// HTML 代码变为\n",
    "// <div id=\"myDiv\" style=\"background-color: white;\">"
   ]
  },
  {
   "cell_type": "markdown",
   "id": "1bf1bdd5",
   "metadata": {},
   "source": [
    "上面代码中，删除`color`属性以后，字体颜色从红色变成默认颜色。\n",
    "\n",
    "**（5）CSSStyleDeclaration.setProperty()**\n",
    "\n",
    "`CSSStyleDeclaration.setProperty`方法用来设置新的 CSS 属性。该方法没有返回值。\n",
    "\n",
    "该方法可以接受三个参数。\n",
    "\n",
    "- 第一个参数：属性名，该参数是必需的。\n",
    "- 第二个参数：属性值，该参数可选。如果省略，则参数值默认为空字符串。\n",
    "- 第三个参数：优先级，该参数可选。如果设置，唯一的合法值是`important`，表示 CSS 规则里面的`!important`。"
   ]
  },
  {
   "cell_type": "code",
   "execution_count": null,
   "id": "2b0281c3",
   "metadata": {
    "attributes": {
     "classes": [
      "javascript"
     ],
     "id": ""
    }
   },
   "outputs": [],
   "source": [
    "// HTML 代码为\n",
    "// <div id=\"myDiv\" style=\"color: red; background-color: white;\">\n",
    "//   111\n",
    "// </div>\n",
    "var style = document.getElementById('myDiv').style;\n",
    "style.setProperty('border', '1px solid blue');"
   ]
  },
  {
   "cell_type": "markdown",
   "id": "d9db2f67",
   "metadata": {},
   "source": [
    "上面代码执行后，`myDiv`元素就会出现蓝色的边框。\n",
    "\n",
    "## CSS 模块的侦测\n",
    "\n",
    "CSS 的规格发展太快，新的模块层出不穷。不同浏览器的不同版本，对 CSS 模块的支持情况都不一样。有时候，需要知道当前浏览器是否支持某个模块，这就叫做“CSS模块的侦测”。\n",
    "\n",
    "一个比较普遍适用的方法是，判断元素的`style`对象的某个属性值是否为字符串。"
   ]
  },
  {
   "cell_type": "code",
   "execution_count": null,
   "id": "0f23925a",
   "metadata": {
    "attributes": {
     "classes": [
      "javascript"
     ],
     "id": ""
    }
   },
   "outputs": [],
   "source": [
    "typeof element.style.animationName === 'string';\n",
    "typeof element.style.transform === 'string';"
   ]
  },
  {
   "cell_type": "markdown",
   "id": "6e6fc588",
   "metadata": {},
   "source": [
    "如果该 CSS 属性确实存在，会返回一个字符串。即使该属性实际上并未设置，也会返回一个空字符串。如果该属性不存在，则会返回`undefined`。"
   ]
  },
  {
   "cell_type": "code",
   "execution_count": null,
   "id": "f823f736",
   "metadata": {
    "attributes": {
     "classes": [
      "javascript"
     ],
     "id": ""
    }
   },
   "outputs": [],
   "source": [
    "document.body.style['maxWidth'] // \"\"\n",
    "document.body.style['maximumWidth'] // undefined"
   ]
  },
  {
   "cell_type": "markdown",
   "id": "4cf96737",
   "metadata": {},
   "source": [
    "上面代码说明，这个浏览器支持`max-width`属性，但是不支持`maximum-width`属性。\n",
    "\n",
    "注意，不管 CSS 属性名的写法带不带连词线，`style`属性上都能反映出该属性是否存在。"
   ]
  },
  {
   "cell_type": "code",
   "execution_count": null,
   "id": "c6c7a3f8",
   "metadata": {
    "attributes": {
     "classes": [
      "javascript"
     ],
     "id": ""
    }
   },
   "outputs": [],
   "source": [
    "document.body.style['backgroundColor'] // \"\"\n",
    "document.body.style['background-color'] // \"\""
   ]
  },
  {
   "cell_type": "markdown",
   "id": "c6efdbf3",
   "metadata": {},
   "source": [
    "另外，使用的时候，需要把不同浏览器的 CSS 前缀也考虑进去。"
   ]
  },
  {
   "cell_type": "code",
   "execution_count": null,
   "id": "95a97a5a",
   "metadata": {
    "attributes": {
     "classes": [
      "javascript"
     ],
     "id": ""
    }
   },
   "outputs": [],
   "source": [
    "var content = document.getElementById('content');\n",
    "typeof content.style['webkitAnimation'] === 'string'"
   ]
  },
  {
   "cell_type": "markdown",
   "id": "b5047703",
   "metadata": {},
   "source": [
    "这种侦测方法可以写成一个函数。"
   ]
  },
  {
   "cell_type": "code",
   "execution_count": null,
   "id": "6a467bb4",
   "metadata": {
    "attributes": {
     "classes": [
      "javascript"
     ],
     "id": ""
    }
   },
   "outputs": [],
   "source": [
    "function isPropertySupported(property) {\n",
    "  if (property in document.body.style) return true;\n",
    "  var prefixes = ['Moz', 'Webkit', 'O', 'ms', 'Khtml'];\n",
    "  var prefProperty = property.charAt(0).toUpperCase() + property.substr(1);\n",
    "\n",
    "  for(var i = 0; i < prefixes.length; i++){\n",
    "    if((prefixes[i] + prefProperty) in document.body.style) return true;\n",
    "  }\n",
    "\n",
    "  return false;\n",
    "}\n",
    "\n",
    "isPropertySupported('background-clip')\n",
    "// true"
   ]
  },
  {
   "cell_type": "markdown",
   "id": "295f5a20",
   "metadata": {},
   "source": [
    "## CSS 对象\n",
    "\n",
    "浏览器原生提供 CSS 对象，为 JavaScript 操作 CSS 提供一些工具方法。\n",
    "\n",
    "这个对象目前有两个静态方法。\n",
    "\n",
    "### CSS.escape()\n",
    "\n",
    "`CSS.escape`方法用于转义 CSS 选择器里面的特殊字符。"
   ]
  },
  {
   "cell_type": "code",
   "execution_count": null,
   "id": "6455a6c1",
   "metadata": {
    "attributes": {
     "classes": [
      "html"
     ],
     "id": ""
    }
   },
   "outputs": [],
   "source": [
    "<div id=\"foo#bar\">"
   ]
  },
  {
   "cell_type": "markdown",
   "id": "bc2cca76",
   "metadata": {},
   "source": [
    "上面代码中，该元素的`id`属性包含一个`#`号，该字符在 CSS 选择器里面有特殊含义。不能直接写成`document.querySelector('#foo#bar')`，只能写成`document.querySelector('#foo\\\\#bar')`。这里必须使用双斜杠的原因是，单引号字符串本身会转义一次斜杠。\n",
    "\n",
    "`CSS.escape`方法就用来转义那些特殊字符。"
   ]
  },
  {
   "cell_type": "code",
   "execution_count": null,
   "id": "c203bda2",
   "metadata": {
    "attributes": {
     "classes": [
      "javascript"
     ],
     "id": ""
    }
   },
   "outputs": [],
   "source": [
    "document.querySelector('#' + CSS.escape('foo#bar'))"
   ]
  },
  {
   "cell_type": "markdown",
   "id": "dd0981fe",
   "metadata": {},
   "source": [
    "### CSS.supports()\n",
    "\n",
    "`CSS.supports`方法返回一个布尔值，表示当前环境是否支持某一句 CSS 规则。\n",
    "\n",
    "它的参数有两种写法，一种是第一个参数是属性名，第二个参数是属性值；另一种是整个参数就是一行完整的 CSS 语句。"
   ]
  },
  {
   "cell_type": "code",
   "execution_count": null,
   "id": "4c87d4d4",
   "metadata": {
    "attributes": {
     "classes": [
      "javascript"
     ],
     "id": ""
    }
   },
   "outputs": [],
   "source": [
    "// 第一种写法\n",
    "CSS.supports('transform-origin', '5px') // true\n",
    "\n",
    "// 第二种写法\n",
    "CSS.supports('display: table-cell') // true"
   ]
  },
  {
   "cell_type": "markdown",
   "id": "9a02d4b9",
   "metadata": {},
   "source": [
    "注意，第二种写法的参数结尾不能带有分号，否则结果不准确。"
   ]
  },
  {
   "cell_type": "code",
   "execution_count": null,
   "id": "0e268801",
   "metadata": {
    "attributes": {
     "classes": [
      "javascript"
     ],
     "id": ""
    }
   },
   "outputs": [],
   "source": [
    "CSS.supports('display: table-cell;') // false"
   ]
  },
  {
   "cell_type": "markdown",
   "id": "cb5b75d0",
   "metadata": {},
   "source": [
    "## window.getComputedStyle()\n",
    "\n",
    "行内样式（inline style）具有最高的优先级，改变行内样式，通常会立即反映出来。但是，网页元素最终的样式是综合各种规则计算出来的。因此，如果想得到元素实际的样式，只读取行内样式是不够的，需要得到浏览器最终计算出来的样式规则。\n",
    "\n",
    "`window.getComputedStyle`方法，就用来返回浏览器计算后得到的最终规则。它接受一个节点对象作为参数，返回一个 CSSStyleDeclaration  实例，包含了指定节点的最终样式信息。所谓“最终样式信息”，指的是各种 CSS 规则叠加后的结果。"
   ]
  },
  {
   "cell_type": "code",
   "execution_count": null,
   "id": "ad3d97b8",
   "metadata": {
    "attributes": {
     "classes": [
      "javascript"
     ],
     "id": ""
    }
   },
   "outputs": [],
   "source": [
    "var div = document.querySelector('div');\n",
    "var styleObj = window.getComputedStyle(div);\n",
    "styleObj.backgroundColor"
   ]
  },
  {
   "cell_type": "markdown",
   "id": "3781e331",
   "metadata": {},
   "source": [
    "上面代码中，得到的背景色就是`div`元素真正的背景色。\n",
    "\n",
    "注意，CSSStyleDeclaration 实例是一个活的对象，任何对于样式的修改，会实时反映到这个实例上面。另外，这个实例是只读的。\n",
    "\n",
    "`getComputedStyle`方法还可以接受第二个参数，表示当前元素的伪元素（比如`:before`、`:after`、`:first-line`、`:first-letter`等）。"
   ]
  },
  {
   "cell_type": "code",
   "execution_count": null,
   "id": "da32c697",
   "metadata": {
    "attributes": {
     "classes": [
      "javascript"
     ],
     "id": ""
    }
   },
   "outputs": [],
   "source": [
    "var result = window.getComputedStyle(div, ':before');"
   ]
  },
  {
   "cell_type": "markdown",
   "id": "ad9e6bc5",
   "metadata": {},
   "source": [
    "下面的例子是如何获取元素的高度。"
   ]
  },
  {
   "cell_type": "code",
   "execution_count": null,
   "id": "1a566e9d",
   "metadata": {
    "attributes": {
     "classes": [
      "javascript"
     ],
     "id": ""
    }
   },
   "outputs": [],
   "source": [
    "var elem = document.getElementById('elem-container');\n",
    "var styleObj = window.getComputedStyle(elem, null)\n",
    "var height = styleObj.height;\n",
    "// 等同于\n",
    "var height = styleObj['height'];\n",
    "var height = styleObj.getPropertyValue('height');"
   ]
  },
  {
   "cell_type": "markdown",
   "id": "63c0fa9d",
   "metadata": {},
   "source": [
    "上面代码得到的`height`属性，是浏览器最终渲染出来的高度，比其他方法得到的高度更可靠。由于`styleObj`是 CSSStyleDeclaration 实例，所以可以使用各种 CSSStyleDeclaration 的实例属性和方法。\n",
    "\n",
    "有几点需要注意。\n",
    "\n",
    "- CSSStyleDeclaration 实例返回的 CSS 值都是绝对单位。比如，长度都是像素单位（返回值包括`px`后缀），颜色是`rgb(#, #, #)`或`rgba(#, #, #, #)`格式。\n",
    "- CSS 规则的简写形式无效。比如，想读取`margin`属性的值，不能直接读，只能读`marginLeft`、`marginTop`等属性；再比如，`font`属性也是不能直接读的，只能读`font-size`等单个属性。\n",
    "- 如果读取 CSS 原始的属性名，要用方括号运算符，比如`styleObj['z-index']`；如果读取骆驼拼写法的 CSS 属性名，可以直接读取`styleObj.zIndex`。\n",
    "- 该方法返回的 CSSStyleDeclaration 实例的`cssText`属性无效，返回`undefined`。\n",
    "\n",
    "## CSS 伪元素\n",
    "\n",
    "CSS 伪元素是通过 CSS 向 DOM 添加的元素，主要是通过`:before`和`:after`选择器生成，然后用`content`属性指定伪元素的内容。\n",
    "\n",
    "下面是一段 HTML 代码。"
   ]
  },
  {
   "cell_type": "code",
   "execution_count": null,
   "id": "b6ab8651",
   "metadata": {
    "attributes": {
     "classes": [
      "html"
     ],
     "id": ""
    }
   },
   "outputs": [],
   "source": [
    "<div id=\"test\">Test content</div>"
   ]
  },
  {
   "cell_type": "markdown",
   "id": "386f56ab",
   "metadata": {},
   "source": [
    "CSS 添加伪元素`:before`的写法如下。"
   ]
  },
  {
   "cell_type": "code",
   "execution_count": null,
   "id": "737eb196",
   "metadata": {
    "attributes": {
     "classes": [
      "css"
     ],
     "id": ""
    }
   },
   "outputs": [],
   "source": [
    "#test:before {\n",
    "  content: 'Before ';\n",
    "  color: #FF0;\n",
    "}"
   ]
  },
  {
   "cell_type": "markdown",
   "id": "0becdc7d",
   "metadata": {},
   "source": [
    "节点元素的`style`对象无法读写伪元素的样式，这时就要用到`window.getComputedStyle()`。JavaScript 获取伪元素，可以使用下面的方法。"
   ]
  },
  {
   "cell_type": "code",
   "execution_count": null,
   "id": "84659685",
   "metadata": {
    "attributes": {
     "classes": [
      "javascript"
     ],
     "id": ""
    }
   },
   "outputs": [],
   "source": [
    "var test = document.querySelector('#test');\n",
    "\n",
    "var result = window.getComputedStyle(test, ':before').content;\n",
    "var color = window.getComputedStyle(test, ':before').color;"
   ]
  },
  {
   "cell_type": "markdown",
   "id": "ecdd5fbd",
   "metadata": {},
   "source": [
    "此外，也可以使用 CSSStyleDeclaration 实例的`getPropertyValue`方法，获取伪元素的属性。"
   ]
  },
  {
   "cell_type": "code",
   "execution_count": null,
   "id": "cba8946f",
   "metadata": {
    "attributes": {
     "classes": [
      "javascript"
     ],
     "id": ""
    }
   },
   "outputs": [],
   "source": [
    "var result = window.getComputedStyle(test, ':before')\n",
    "  .getPropertyValue('content');\n",
    "var color = window.getComputedStyle(test, ':before')\n",
    "  .getPropertyValue('color');"
   ]
  },
  {
   "cell_type": "markdown",
   "id": "2cf3315a",
   "metadata": {},
   "source": [
    "## StyleSheet 接口\n",
    "\n",
    "### 概述\n",
    "\n",
    "`StyleSheet`接口代表网页的一张样式表，包括`<link>`元素加载的样式表和`<style>`元素内嵌的样式表。\n",
    "\n",
    "`document`对象的`styleSheets`属性，可以返回当前页面的所有`StyleSheet`实例（即所有样式表）。它是一个类似数组的对象。"
   ]
  },
  {
   "cell_type": "code",
   "execution_count": null,
   "id": "63e95a17",
   "metadata": {
    "attributes": {
     "classes": [
      "javascript"
     ],
     "id": ""
    }
   },
   "outputs": [],
   "source": [
    "var sheets = document.styleSheets;\n",
    "var sheet = document.styleSheets[0];\n",
    "sheet instanceof StyleSheet // true"
   ]
  },
  {
   "cell_type": "markdown",
   "id": "18a10da6",
   "metadata": {},
   "source": [
    "如果是`<style>`元素嵌入的样式表，还有另一种获取`StyleSheet`实例的方法，就是这个节点元素的`sheet`属性。"
   ]
  },
  {
   "cell_type": "code",
   "execution_count": null,
   "id": "c1e19280",
   "metadata": {
    "attributes": {
     "classes": [
      "javascript"
     ],
     "id": ""
    }
   },
   "outputs": [],
   "source": [
    "// HTML 代码为 <style id=\"myStyle\"></style>\n",
    "var myStyleSheet = document.getElementById('myStyle').sheet;\n",
    "myStyleSheet instanceof StyleSheet // true"
   ]
  },
  {
   "cell_type": "markdown",
   "id": "bac4da51",
   "metadata": {},
   "source": [
    "严格地说，`StyleSheet`接口不仅包括网页样式表，还包括 XML 文档的样式表。所以，它有一个子类`CSSStyleSheet`表示网页的 CSS 样式表。我们在网页里面拿到的样式表实例，实际上是`CSSStyleSheet`的实例。这个子接口继承了`StyleSheet`的所有属性和方法，并且定义了几个自己的属性，下面把这两个接口放在一起介绍。\n",
    "\n",
    "### 实例属性\n",
    "\n",
    "`StyleSheet`实例有以下属性。\n",
    "\n",
    "**（1）StyleSheet.disabled**\n",
    "\n",
    "`StyleSheet.disabled`返回一个布尔值，表示该样式表是否处于禁用状态。手动设置`disabled`属性为`true`，等同于在`<link>`元素里面，将这张样式表设为`alternate stylesheet`，即该样式表将不会生效。\n",
    "\n",
    "注意，`disabled`属性只能在 JavaScript 脚本中设置，不能在 HTML 语句中设置。\n",
    "\n",
    "**（2）Stylesheet.href**\n",
    "\n",
    "`Stylesheet.href`返回样式表的网址。对于内嵌样式表，该属性返回`null`。该属性只读。"
   ]
  },
  {
   "cell_type": "code",
   "execution_count": null,
   "id": "4285104c",
   "metadata": {
    "attributes": {
     "classes": [
      "javascript"
     ],
     "id": ""
    }
   },
   "outputs": [],
   "source": [
    "document.styleSheets[0].href"
   ]
  },
  {
   "cell_type": "markdown",
   "id": "2ee5e045",
   "metadata": {},
   "source": [
    "**（3）StyleSheet.media**\n",
    "\n",
    "`StyleSheet.media`属性返回一个类似数组的对象（`MediaList`实例），成员是表示适用媒介的字符串。表示当前样式表是用于屏幕（screen），还是用于打印（print）或手持设备（handheld），或各种媒介都适用（all）。该属性只读，默认值是`screen`。"
   ]
  },
  {
   "cell_type": "code",
   "execution_count": null,
   "id": "002cc14e",
   "metadata": {
    "attributes": {
     "classes": [
      "javascript"
     ],
     "id": ""
    }
   },
   "outputs": [],
   "source": [
    "document.styleSheets[0].media.mediaText\n",
    "// \"all\""
   ]
  },
  {
   "cell_type": "markdown",
   "id": "fcaad384",
   "metadata": {},
   "source": [
    "`MediaList`实例的`appendMedium`方法，用于增加媒介；`deleteMedium`方法用于删除媒介。"
   ]
  },
  {
   "cell_type": "code",
   "execution_count": null,
   "id": "b4271753",
   "metadata": {
    "attributes": {
     "classes": [
      "javascript"
     ],
     "id": ""
    }
   },
   "outputs": [],
   "source": [
    "document.styleSheets[0].media.appendMedium('handheld');\n",
    "document.styleSheets[0].media.deleteMedium('print');"
   ]
  },
  {
   "cell_type": "markdown",
   "id": "df71f247",
   "metadata": {},
   "source": [
    "**（4）StyleSheet.title**\n",
    "\n",
    "`StyleSheet.title`属性返回样式表的`title`属性。\n",
    "\n",
    "**（5）StyleSheet.type**\n",
    "\n",
    "`StyleSheet.type`属性返回样式表的`type`属性，通常是`text/css`。"
   ]
  },
  {
   "cell_type": "code",
   "execution_count": null,
   "id": "1021acfb",
   "metadata": {
    "attributes": {
     "classes": [
      "javascript"
     ],
     "id": ""
    }
   },
   "outputs": [],
   "source": [
    "document.styleSheets[0].type  // \"text/css\""
   ]
  },
  {
   "cell_type": "markdown",
   "id": "1d94313f",
   "metadata": {},
   "source": [
    "**（6）StyleSheet.parentStyleSheet**\n",
    "\n",
    "CSS 的`@import`命令允许在样式表中加载其他样式表。`StyleSheet.parentStyleSheet`属性返回包含了当前样式表的那张样式表。如果当前样式表是顶层样式表，则该属性返回`null`。"
   ]
  },
  {
   "cell_type": "code",
   "execution_count": null,
   "id": "076cf1c9",
   "metadata": {
    "attributes": {
     "classes": [
      "javascript"
     ],
     "id": ""
    }
   },
   "outputs": [],
   "source": [
    "if (stylesheet.parentStyleSheet) {\n",
    "  sheet = stylesheet.parentStyleSheet;\n",
    "} else {\n",
    "  sheet = stylesheet;\n",
    "}"
   ]
  },
  {
   "cell_type": "markdown",
   "id": "a3c31ac2",
   "metadata": {},
   "source": [
    "**（7）StyleSheet.ownerNode**\n",
    "\n",
    "`StyleSheet.ownerNode`属性返回`StyleSheet`对象所在的 DOM 节点，通常是`<link>`或`<style>`。对于那些由其他样式表引用的样式表，该属性为`null`。"
   ]
  },
  {
   "cell_type": "code",
   "execution_count": null,
   "id": "75cffa10",
   "metadata": {
    "attributes": {
     "classes": [
      "javascript"
     ],
     "id": ""
    }
   },
   "outputs": [],
   "source": [
    "// HTML代码为\n",
    "// <link rel=\"StyleSheet\" href=\"example.css\" type=\"text/css\" />\n",
    "document.styleSheets[0].ownerNode // [object HTMLLinkElement]"
   ]
  },
  {
   "cell_type": "markdown",
   "id": "92101fc6",
   "metadata": {},
   "source": [
    "**（8）CSSStyleSheet.cssRules**\n",
    "\n",
    "`CSSStyleSheet.cssRules`属性指向一个类似数组的对象（`CSSRuleList`实例），里面每一个成员就是当前样式表的一条 CSS 规则。使用该规则的`cssText`属性，可以得到 CSS 规则对应的字符串。"
   ]
  },
  {
   "cell_type": "code",
   "execution_count": null,
   "id": "a7f64775",
   "metadata": {
    "attributes": {
     "classes": [
      "javascript"
     ],
     "id": ""
    }
   },
   "outputs": [],
   "source": [
    "var sheet = document.querySelector('#styleElement').sheet;\n",
    "\n",
    "sheet.cssRules[0].cssText\n",
    "// \"body { background-color: red; margin: 20px; }\"\n",
    "\n",
    "sheet.cssRules[1].cssText\n",
    "// \"p { line-height: 1.4em; color: blue; }\""
   ]
  },
  {
   "cell_type": "markdown",
   "id": "c1cd8686",
   "metadata": {},
   "source": [
    "每条 CSS 规则还有一个`style`属性，指向一个对象，用来读写具体的 CSS 命令。"
   ]
  },
  {
   "cell_type": "code",
   "execution_count": null,
   "id": "08845b8e",
   "metadata": {
    "attributes": {
     "classes": [
      "javascript"
     ],
     "id": ""
    }
   },
   "outputs": [],
   "source": [
    "cssStyleSheet.cssRules[0].style.color = 'red';\n",
    "cssStyleSheet.cssRules[1].style.color = 'purple';"
   ]
  },
  {
   "cell_type": "markdown",
   "id": "6ad6b571",
   "metadata": {},
   "source": [
    "**（9）CSSStyleSheet.ownerRule**\n",
    "\n",
    "有些样式表是通过`@import`规则输入的，它的`ownerRule`属性会返回一个`CSSRule`实例，代表那行`@import`规则。如果当前样式表不是通过`@import`引入的，`ownerRule`属性返回`null`。\n",
    "\n",
    "### 实例方法\n",
    "\n",
    "**（1）CSSStyleSheet.insertRule()**\n",
    "\n",
    "`CSSStyleSheet.insertRule`方法用于在当前样式表的插入一个新的 CSS 规则。"
   ]
  },
  {
   "cell_type": "code",
   "execution_count": null,
   "id": "9ed97c94",
   "metadata": {
    "attributes": {
     "classes": [
      "javascript"
     ],
     "id": ""
    }
   },
   "outputs": [],
   "source": [
    "var sheet = document.querySelector('#styleElement').sheet;\n",
    "sheet.insertRule('#block { color: white }', 0);\n",
    "sheet.insertRule('p { color: red }', 1);"
   ]
  },
  {
   "cell_type": "markdown",
   "id": "88e0c69c",
   "metadata": {},
   "source": [
    "该方法可以接受两个参数，第一个参数是表示 CSS 规则的字符串，这里只能有一条规则，否则会报错。第二个参数是该规则在样式表的插入位置（从0开始），该参数可选，默认为0（即默认插在样式表的头部）。注意，如果插入位置大于现有规则的数目，会报错。\n",
    "\n",
    "该方法的返回值是新插入规则的位置序号。\n",
    "\n",
    "注意，浏览器对脚本在样式表里面插入规则有很多[限制](https://drafts.csswg.org/cssom/#insert-a-css-rule)。所以，这个方法最好放在`try...catch`里使用。\n",
    "\n",
    "**（2）CSSStyleSheet.deleteRule()**\n",
    "\n",
    "`CSSStyleSheet.deleteRule`方法用来在样式表里面移除一条规则，它的参数是该条规则在`cssRules`对象中的位置。该方法没有返回值。"
   ]
  },
  {
   "cell_type": "code",
   "execution_count": null,
   "id": "636ab72f",
   "metadata": {
    "attributes": {
     "classes": [
      "javascript"
     ],
     "id": ""
    }
   },
   "outputs": [],
   "source": [
    "document.styleSheets[0].deleteRule(1);"
   ]
  },
  {
   "cell_type": "markdown",
   "id": "086214b1",
   "metadata": {},
   "source": [
    "## 实例：添加样式表\n",
    "\n",
    "网页添加样式表有两种方式。一种是添加一张内置样式表，即在文档中添加一个`<style>`节点。"
   ]
  },
  {
   "cell_type": "code",
   "execution_count": null,
   "id": "d530cc27",
   "metadata": {
    "attributes": {
     "classes": [
      "javascript"
     ],
     "id": ""
    }
   },
   "outputs": [],
   "source": [
    "// 写法一\n",
    "var style = document.createElement('style');\n",
    "style.setAttribute('media', 'screen');\n",
    "style.innerHTML = 'body{color:red}';\n",
    "document.head.appendChild(style);\n",
    "\n",
    "// 写法二\n",
    "var style = (function () {\n",
    "  var style = document.createElement('style');\n",
    "  document.head.appendChild(style);\n",
    "  return style;\n",
    "})();\n",
    "style.sheet.insertRule('.foo{color:red;}', 0);"
   ]
  },
  {
   "cell_type": "markdown",
   "id": "81952c38",
   "metadata": {},
   "source": [
    "另一种是添加外部样式表，即在文档中添加一个`<link>`节点，然后将`href`属性指向外部样式表的 URL。"
   ]
  },
  {
   "cell_type": "code",
   "execution_count": null,
   "id": "481300b9",
   "metadata": {
    "attributes": {
     "classes": [
      "javascript"
     ],
     "id": ""
    }
   },
   "outputs": [],
   "source": [
    "var linkElm = document.createElement('link');\n",
    "linkElm.setAttribute('rel', 'stylesheet');\n",
    "linkElm.setAttribute('type', 'text/css');\n",
    "linkElm.setAttribute('href', 'reset-min.css');\n",
    "\n",
    "document.head.appendChild(linkElm);"
   ]
  },
  {
   "cell_type": "markdown",
   "id": "c0676de9",
   "metadata": {},
   "source": [
    "## CSSRuleList 接口\n",
    "\n",
    "CSSRuleList 接口是一个类似数组的对象，表示一组 CSS 规则，成员都是 CSSRule 实例。\n",
    "\n",
    "获取 CSSRuleList 实例，一般是通过`StyleSheet.cssRules`属性。"
   ]
  },
  {
   "cell_type": "code",
   "execution_count": null,
   "id": "c639f129",
   "metadata": {
    "attributes": {
     "classes": [
      "javascript"
     ],
     "id": ""
    }
   },
   "outputs": [],
   "source": [
    "// HTML 代码如下\n",
    "// <style id=\"myStyle\">\n",
    "//   h1 { color: red; }\n",
    "//   p { color: blue; }\n",
    "// </style>\n",
    "var myStyleSheet = document.getElementById('myStyle').sheet;\n",
    "var crl = myStyleSheet.cssRules;\n",
    "crl instanceof CSSRuleList // true"
   ]
  },
  {
   "cell_type": "markdown",
   "id": "a62f49b4",
   "metadata": {},
   "source": [
    "CSSRuleList 实例里面，每一条规则（CSSRule 实例）可以通过`rules.item(index)`或者`rules[index]`拿到。CSS 规则的条数通过`rules.length`拿到。还是用上面的例子。"
   ]
  },
  {
   "cell_type": "code",
   "execution_count": null,
   "id": "0c900122",
   "metadata": {
    "attributes": {
     "classes": [
      "javascript"
     ],
     "id": ""
    }
   },
   "outputs": [],
   "source": [
    "crl[0] instanceof CSSRule // true\n",
    "crl.length // 2"
   ]
  },
  {
   "cell_type": "markdown",
   "id": "97114160",
   "metadata": {},
   "source": [
    "注意，添加规则和删除规则不能在 CSSRuleList 实例操作，而要在它的父元素 StyleSheet 实例上，通过`StyleSheet.insertRule()`和`StyleSheet.deleteRule()`操作。\n",
    "\n",
    "## CSSRule 接口\n",
    "\n",
    "### 概述\n",
    "\n",
    "一条 CSS 规则包括两个部分：CSS 选择器和样式声明。下面就是一条典型的 CSS 规则。"
   ]
  },
  {
   "cell_type": "code",
   "execution_count": null,
   "id": "e5eb87f4",
   "metadata": {
    "attributes": {
     "classes": [
      "css"
     ],
     "id": ""
    }
   },
   "outputs": [],
   "source": [
    ".myClass {\n",
    "  color: red;\n",
    "  background-color: yellow;\n",
    "}"
   ]
  },
  {
   "cell_type": "markdown",
   "id": "4a607447",
   "metadata": {},
   "source": [
    "JavaScript 通过 CSSRule 接口操作 CSS 规则。一般通过 CSSRuleList 接口（`StyleSheet.cssRules`）获取 CSSRule 实例。"
   ]
  },
  {
   "cell_type": "code",
   "execution_count": null,
   "id": "1a769b0c",
   "metadata": {
    "attributes": {
     "classes": [
      "javascript"
     ],
     "id": ""
    }
   },
   "outputs": [],
   "source": [
    "// HTML 代码如下\n",
    "// <style id=\"myStyle\">\n",
    "//   .myClass {\n",
    "//     color: red;\n",
    "//     background-color: yellow;\n",
    "//   }\n",
    "// </style>\n",
    "var myStyleSheet = document.getElementById('myStyle').sheet;\n",
    "var ruleList = myStyleSheet.cssRules;\n",
    "var rule = ruleList[0];\n",
    "rule instanceof CSSRule // true"
   ]
  },
  {
   "cell_type": "markdown",
   "id": "929858fc",
   "metadata": {},
   "source": [
    "### CSSRule 实例的属性\n",
    "\n",
    "**（1）CSSRule.cssText**\n",
    "\n",
    "`CSSRule.cssText`属性返回当前规则的文本，还是使用上面的例子。"
   ]
  },
  {
   "cell_type": "code",
   "execution_count": null,
   "id": "da58de58",
   "metadata": {
    "attributes": {
     "classes": [
      "javascript"
     ],
     "id": ""
    }
   },
   "outputs": [],
   "source": [
    "rule.cssText\n",
    "// \".myClass { color: red; background-color: yellow; }\""
   ]
  },
  {
   "cell_type": "markdown",
   "id": "4523708b",
   "metadata": {},
   "source": [
    "如果规则是加载（`@import`）其他样式表，`cssText`属性返回`@import 'url'`。\n",
    "\n",
    "**（2）CSSRule.parentStyleSheet**\n",
    "\n",
    "`CSSRule.parentStyleSheet`属性返回当前规则所在的样式表对象（StyleSheet 实例），还是使用上面的例子。"
   ]
  },
  {
   "cell_type": "code",
   "execution_count": null,
   "id": "755a8f3e",
   "metadata": {
    "attributes": {
     "classes": [
      "javascript"
     ],
     "id": ""
    }
   },
   "outputs": [],
   "source": [
    "rule.parentStyleSheet === myStyleSheet // true"
   ]
  },
  {
   "cell_type": "markdown",
   "id": "fb464deb",
   "metadata": {},
   "source": [
    "**（3）CSSRule.parentRule**\n",
    "\n",
    "`CSSRule.parentRule`属性返回包含当前规则的父规则，如果不存在父规则（即当前规则是顶层规则），则返回`null`。\n",
    "\n",
    "父规则最常见的情况是，当前规则包含在`@media`规则代码块之中。"
   ]
  },
  {
   "cell_type": "code",
   "execution_count": null,
   "id": "cbf0ab66",
   "metadata": {
    "attributes": {
     "classes": [
      "javascript"
     ],
     "id": ""
    }
   },
   "outputs": [],
   "source": [
    "// HTML 代码如下\n",
    "// <style id=\"myStyle\">\n",
    "//   @supports (display: flex) {\n",
    "//     @media screen and (min-width: 900px) {\n",
    "//       article {\n",
    "//         display: flex;\n",
    "//       }\n",
    "//     }\n",
    "//  }\n",
    "// </style>\n",
    "var myStyleSheet = document.getElementById('myStyle').sheet;\n",
    "var ruleList = myStyleSheet.cssRules;\n",
    "\n",
    "var rule0 = ruleList[0];\n",
    "rule0.cssText\n",
    "// \"@supports (display: flex) {\n",
    "//    @media screen and (min-width: 900px) {\n",
    "//      article { display: flex; }\n",
    "//    }\n",
    "// }\"\n",
    "\n",
    "// 由于这条规则内嵌其他规则，\n",
    "// 所以它有 cssRules 属性，且该属性是 CSSRuleList 实例\n",
    "rule0.cssRules instanceof CSSRuleList // true\n",
    "\n",
    "var rule1 = rule0.cssRules[0];\n",
    "rule1.cssText\n",
    "// \"@media screen and (min-width: 900px) {\n",
    "//   article { display: flex; }\n",
    "// }\"\n",
    "\n",
    "var rule2 = rule1.cssRules[0];\n",
    "rule2.cssText\n",
    "// \"article { display: flex; }\"\n",
    "\n",
    "rule1.parentRule === rule0 // true\n",
    "rule2.parentRule === rule1 // true"
   ]
  },
  {
   "cell_type": "markdown",
   "id": "5af0c7a9",
   "metadata": {},
   "source": [
    "**（4）CSSRule.type**\n",
    "\n",
    "`CSSRule.type`属性返回一个整数值，表示当前规则的类型。\n",
    "\n",
    "最常见的类型有以下几种。\n",
    "\n",
    "- 1：普通样式规则（CSSStyleRule 实例）\n",
    "- 3：`@import`规则\n",
    "- 4：`@media`规则（CSSMediaRule 实例）\n",
    "- 5：`@font-face`规则\n",
    "\n",
    "### CSSStyleRule 接口\n",
    "\n",
    "如果一条 CSS 规则是普通的样式规则（不含特殊的 CSS 命令），那么除了 CSSRule 接口，它还部署了 CSSStyleRule 接口。\n",
    "\n",
    "CSSStyleRule 接口有以下两个属性。\n",
    "\n",
    "**（1）CSSStyleRule.selectorText**\n",
    "\n",
    "`CSSStyleRule.selectorText`属性返回当前规则的选择器。"
   ]
  },
  {
   "cell_type": "code",
   "execution_count": null,
   "id": "761d1424",
   "metadata": {
    "attributes": {
     "classes": [
      "javascript"
     ],
     "id": ""
    }
   },
   "outputs": [],
   "source": [
    "var stylesheet = document.styleSheets[0];\n",
    "stylesheet.cssRules[0].selectorText // \".myClass\""
   ]
  },
  {
   "cell_type": "markdown",
   "id": "f8ed8cb9",
   "metadata": {},
   "source": [
    "注意，这个属性是可写的。\n",
    "\n",
    "**（2）CSSStyleRule.style**\n",
    "\n",
    "`CSSStyleRule.style`属性返回一个对象（CSSStyleDeclaration 实例），代表当前规则的样式声明，也就是选择器后面的大括号里面的部分。"
   ]
  },
  {
   "cell_type": "code",
   "execution_count": null,
   "id": "d7174e75",
   "metadata": {
    "attributes": {
     "classes": [
      "javascript"
     ],
     "id": ""
    }
   },
   "outputs": [],
   "source": [
    "// HTML 代码为\n",
    "// <style id=\"myStyle\">\n",
    "//   p { color: red; }\n",
    "// </style>\n",
    "var styleSheet = document.getElementById('myStyle').sheet;\n",
    "styleSheet.cssRules[0].style instanceof CSSStyleDeclaration\n",
    "// true"
   ]
  },
  {
   "cell_type": "markdown",
   "id": "e5edfa29",
   "metadata": {},
   "source": [
    "CSSStyleDeclaration 实例的`cssText`属性，可以返回所有样式声明，格式为字符串。"
   ]
  },
  {
   "cell_type": "code",
   "execution_count": null,
   "id": "ed036376",
   "metadata": {
    "attributes": {
     "classes": [
      "javascript"
     ],
     "id": ""
    }
   },
   "outputs": [],
   "source": [
    "styleSheet.cssRules[0].style.cssText\n",
    "// \"color: red;\"\n",
    "styleSheet.cssRules[0].selectorText\n",
    "// \"p\""
   ]
  },
  {
   "cell_type": "markdown",
   "id": "77f9d8e0",
   "metadata": {},
   "source": [
    "### CSSMediaRule 接口\n",
    "\n",
    "如果一条 CSS 规则是`@media`代码块，那么它除了 CSSRule 接口，还部署了 CSSMediaRule 接口。\n",
    "\n",
    "该接口主要提供`media`属性和`conditionText`属性。前者返回代表`@media`规则的一个对象（MediaList 实例），后者返回`@media`规则的生效条件。"
   ]
  },
  {
   "cell_type": "code",
   "execution_count": null,
   "id": "8f05e97b",
   "metadata": {
    "attributes": {
     "classes": [
      "javascript"
     ],
     "id": ""
    }
   },
   "outputs": [],
   "source": [
    "// HTML 代码如下\n",
    "// <style id=\"myStyle\">\n",
    "//   @media screen and (min-width: 900px) {\n",
    "//     article { display: flex; }\n",
    "//   }\n",
    "// </style>\n",
    "var styleSheet = document.getElementById('myStyle').sheet;\n",
    "styleSheet.cssRules[0] instanceof CSSMediaRule\n",
    "// true\n",
    "\n",
    "styleSheet.cssRules[0].media\n",
    "//  {\n",
    "//    0: \"screen and (min-width: 900px)\",\n",
    "//    appendMedium: function,\n",
    "//    deleteMedium: function,\n",
    "//    item: function,\n",
    "//    length: 1,\n",
    "//    mediaText: \"screen and (min-width: 900px)\"\n",
    "// }\n",
    "\n",
    "styleSheet.cssRules[0].conditionText\n",
    "// \"screen and (min-width: 900px)\""
   ]
  },
  {
   "cell_type": "markdown",
   "id": "0084c14e",
   "metadata": {},
   "source": [
    "## window.matchMedia()\n",
    "\n",
    "### 基本用法\n",
    "\n",
    "`window.matchMedia()`方法用来将 CSS 的[`Media Query`](https://developer.mozilla.org/en-US/docs/DOM/Using_media_queries_from_code)条件语句，转换成一个 MediaQueryList 实例。"
   ]
  },
  {
   "cell_type": "code",
   "execution_count": null,
   "id": "df0b9c91",
   "metadata": {
    "attributes": {
     "classes": [
      "javascript"
     ],
     "id": ""
    }
   },
   "outputs": [],
   "source": [
    "var mdl = window.matchMedia('(min-width: 400px)');\n",
    "mdl instanceof MediaQueryList // true"
   ]
  },
  {
   "cell_type": "markdown",
   "id": "99fb880f",
   "metadata": {},
   "source": [
    "上面代码中，变量`mdl`就是 mediaQueryList 的实例。\n",
    "\n",
    "注意，如果参数不是有效的`MediaQuery`条件语句，`window.matchMedia`不会报错，依然返回一个 MediaQueryList 实例。"
   ]
  },
  {
   "cell_type": "code",
   "execution_count": null,
   "id": "cf940eb0",
   "metadata": {
    "attributes": {
     "classes": [
      "javascript"
     ],
     "id": ""
    }
   },
   "outputs": [],
   "source": [
    "window.matchMedia('bad string') instanceof MediaQueryList // true"
   ]
  },
  {
   "cell_type": "markdown",
   "id": "67065608",
   "metadata": {},
   "source": [
    "### MediaQueryList 接口的实例属性\n",
    "\n",
    "MediaQueryList 实例有三个属性。\n",
    "\n",
    "**（1）MediaQueryList.media**\n",
    "\n",
    "`MediaQueryList.media`属性返回一个字符串，表示对应的 MediaQuery 条件语句。"
   ]
  },
  {
   "cell_type": "code",
   "execution_count": null,
   "id": "1514bb29",
   "metadata": {
    "attributes": {
     "classes": [
      "javascript"
     ],
     "id": ""
    }
   },
   "outputs": [],
   "source": [
    "var mql = window.matchMedia('(min-width: 400px)');\n",
    "mql.media // \"(min-width: 400px)\""
   ]
  },
  {
   "cell_type": "markdown",
   "id": "6040fca0",
   "metadata": {},
   "source": [
    "**（2）MediaQueryList.matches**\n",
    "\n",
    "`MediaQueryList.matches`属性返回一个布尔值，表示当前页面是否符合指定的 MediaQuery 条件语句。"
   ]
  },
  {
   "cell_type": "code",
   "execution_count": null,
   "id": "09a36f2c",
   "metadata": {
    "attributes": {
     "classes": [
      "javascript"
     ],
     "id": ""
    }
   },
   "outputs": [],
   "source": [
    "if (window.matchMedia('(min-width: 400px)').matches) {\n",
    "  /* 当前视口不小于 400 像素 */\n",
    "} else {\n",
    "  /* 当前视口小于 400 像素 */\n",
    "}"
   ]
  },
  {
   "cell_type": "markdown",
   "id": "578d5e5d",
   "metadata": {},
   "source": [
    "下面的例子根据`mediaQuery`是否匹配当前环境，加载相应的 CSS 样式表。"
   ]
  },
  {
   "cell_type": "code",
   "execution_count": null,
   "id": "758f9e35",
   "metadata": {
    "attributes": {
     "classes": [
      "javascript"
     ],
     "id": ""
    }
   },
   "outputs": [],
   "source": [
    "var result = window.matchMedia(\"(max-width: 700px)\");\n",
    "\n",
    "if (result.matches){\n",
    "  var linkElm = document.createElement('link');\n",
    "  linkElm.setAttribute('rel', 'stylesheet');\n",
    "  linkElm.setAttribute('type', 'text/css');\n",
    "  linkElm.setAttribute('href', 'small.css');\n",
    "\n",
    "  document.head.appendChild(linkElm);\n",
    "}"
   ]
  },
  {
   "cell_type": "markdown",
   "id": "05d8211e",
   "metadata": {},
   "source": [
    "**（3）MediaQueryList.onchange**\n",
    "\n",
    "如果 MediaQuery 条件语句的适配环境发生变化，会触发`change`事件。`MediaQueryList.onchange`属性用来指定`change`事件的监听函数。该函数的参数是`change`事件对象（MediaQueryListEvent 实例），该对象与 MediaQueryList 实例类似，也有`media`和`matches`属性。"
   ]
  },
  {
   "cell_type": "code",
   "execution_count": null,
   "id": "66e6f225",
   "metadata": {
    "attributes": {
     "classes": [
      "javascript"
     ],
     "id": ""
    }
   },
   "outputs": [],
   "source": [
    "var mql = window.matchMedia('(max-width: 600px)');\n",
    "\n",
    "mql.onchange = function(e) {\n",
    "  if (e.matches) {\n",
    "    /* 视口不超过 600 像素 */\n",
    "  } else {\n",
    "    /* 视口超过 600 像素 */\n",
    "  }\n",
    "}"
   ]
  },
  {
   "cell_type": "markdown",
   "id": "36fe26b4",
   "metadata": {},
   "source": [
    "上面代码中，`change`事件发生后，存在两种可能。一种是显示宽度从600像素以上变为以下，另一种是从600像素以下变为以上，所以在监听函数内部要判断一下当前是哪一种情况。\n",
    "\n",
    "### MediaQueryList 接口的实例方法\n",
    "\n",
    "MediaQueryList 实例有两个方法`MediaQueryList.addListener()`和`MediaQueryList.removeListener()`，用来为`change`事件添加或撤销监听函数。"
   ]
  },
  {
   "cell_type": "code",
   "execution_count": null,
   "id": "bb17ee96",
   "metadata": {
    "attributes": {
     "classes": [
      "javascript"
     ],
     "id": ""
    }
   },
   "outputs": [],
   "source": [
    "var mql = window.matchMedia('(max-width: 600px)');\n",
    "\n",
    "// 指定监听函数\n",
    "mql.addListener(mqCallback);\n",
    "\n",
    "// 撤销监听函数\n",
    "mql.removeListener(mqCallback);\n",
    "\n",
    "function mqCallback(e) {\n",
    "  if (e.matches) {\n",
    "    /* 视口不超过 600 像素 */\n",
    "  } else {\n",
    "    /* 视口超过 600 像素 */\n",
    "  }\n",
    "}"
   ]
  },
  {
   "cell_type": "markdown",
   "id": "0c2f6644",
   "metadata": {},
   "source": [
    "注意，`MediaQueryList.removeListener()`方法不能撤销`MediaQueryList.onchange`属性指定的监听函数。"
   ]
  }
 ],
 "metadata": {
  "kernelspec": {
   "display_name": "Python 3",
   "language": "python",
   "name": "python3"
  },
  "language_info": {
   "name": "python",
   "version": "3.10.8 (main, Oct 21 2022, 22:22:30) [Clang 14.0.0 (clang-1400.0.29.202)]"
  },
  "vscode": {
   "interpreter": {
    "hash": "b0fa6594d8f4cbf19f97940f81e996739fb7646882a419484c72d19e05852a7e"
   }
  }
 },
 "nbformat": 4,
 "nbformat_minor": 5
}

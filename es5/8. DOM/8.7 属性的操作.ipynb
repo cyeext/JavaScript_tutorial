{
 "cells": [
  {
   "cell_type": "markdown",
   "id": "74965ae6",
   "metadata": {},
   "source": [
    "# 属性的操作\n",
    "\n",
    "HTML 元素包括标签名和若干个键值对，这个键值对就称为“属性”（attribute）。"
   ]
  },
  {
   "cell_type": "code",
   "execution_count": null,
   "id": "42bd2702",
   "metadata": {
    "attributes": {
     "classes": [
      "html"
     ],
     "id": ""
    }
   },
   "outputs": [],
   "source": [
    "<a id=\"test\" href=\"http://www.example.com\">\n",
    "  链接\n",
    "</a>"
   ]
  },
  {
   "cell_type": "markdown",
   "id": "53fe9291",
   "metadata": {},
   "source": [
    "上面代码中，`a`元素包括两个属性：`id`属性和`href`属性。\n",
    "\n",
    "属性本身是一个对象（`Attr`对象），但是实际上，这个对象极少使用。一般都是通过元素节点对象（`HTMlElement`对象）来操作属性。本章介绍如何操作这些属性。\n",
    "\n",
    "## Element.attributes 属性\n",
    "\n",
    "元素对象有一个`attributes`属性，返回一个类似数组的动态对象，成员是该元素标签的所有属性节点对象，属性的实时变化都会反映在这个节点对象上。其他类型的节点对象，虽然也有`attributes`属性，但返回的都是`null`，因此可以把这个属性视为元素对象独有的。\n",
    "\n",
    "单个属性可以通过序号引用，也可以通过属性名引用。"
   ]
  },
  {
   "cell_type": "code",
   "execution_count": null,
   "id": "a4de56b4",
   "metadata": {
    "attributes": {
     "classes": [
      "javascript"
     ],
     "id": ""
    }
   },
   "outputs": [],
   "source": [
    "// HTML 代码如下\n",
    "// <body bgcolor=\"yellow\" onload=\"\">\n",
    "document.body.attributes[0]\n",
    "document.body.attributes.bgcolor\n",
    "document.body.attributes['ONLOAD']"
   ]
  },
  {
   "cell_type": "markdown",
   "id": "be93d37c",
   "metadata": {},
   "source": [
    "注意，上面代码的三种方法，返回的都是属性节点对象，而不是属性值。\n",
    "\n",
    "属性节点对象有`name`和`value`属性，对应该属性的属性名和属性值，等同于`nodeName`属性和`nodeValue`属性。"
   ]
  },
  {
   "cell_type": "code",
   "execution_count": null,
   "id": "8a8bb519",
   "metadata": {
    "attributes": {
     "classes": [
      "javascript"
     ],
     "id": ""
    }
   },
   "outputs": [],
   "source": [
    "// HTML代码为\n",
    "// <div id=\"mydiv\">\n",
    "var n = document.getElementById('mydiv');\n",
    "\n",
    "n.attributes[0].name // \"id\"\n",
    "n.attributes[0].nodeName // \"id\"\n",
    "\n",
    "n.attributes[0].value // \"mydiv\"\n",
    "n.attributes[0].nodeValue // \"mydiv\""
   ]
  },
  {
   "cell_type": "markdown",
   "id": "27623c13",
   "metadata": {},
   "source": [
    "下面代码可以遍历一个元素节点的所有属性。"
   ]
  },
  {
   "cell_type": "code",
   "execution_count": null,
   "id": "6e038818",
   "metadata": {
    "attributes": {
     "classes": [
      "javascript"
     ],
     "id": ""
    }
   },
   "outputs": [],
   "source": [
    "var para = document.getElementsByTagName('p')[0];\n",
    "var result = document.getElementById('result');\n",
    "\n",
    "if (para.hasAttributes()) {\n",
    "  var attrs = para.attributes;\n",
    "  var output = '';\n",
    "  for(var i = attrs.length - 1; i >= 0; i--) {\n",
    "    output += attrs[i].name + '->' + attrs[i].value;\n",
    "  }\n",
    "  result.textContent = output;\n",
    "} else {\n",
    "  result.textContent = 'No attributes to show';\n",
    "}"
   ]
  },
  {
   "cell_type": "markdown",
   "id": "d9d09173",
   "metadata": {},
   "source": [
    "## 元素的标准属性\n",
    "\n",
    "HTML 元素的标准属性（即在标准中定义的属性），会自动成为元素节点对象的属性。"
   ]
  },
  {
   "cell_type": "code",
   "execution_count": null,
   "id": "01c72667",
   "metadata": {
    "attributes": {
     "classes": [
      "javascript"
     ],
     "id": ""
    }
   },
   "outputs": [],
   "source": [
    "var a = document.getElementById('test');\n",
    "a.id // \"test\"\n",
    "a.href // \"http://www.example.com/\""
   ]
  },
  {
   "cell_type": "markdown",
   "id": "17f5b94e",
   "metadata": {},
   "source": [
    "上面代码中，`a`元素标签的属性`id`和`href`，自动成为节点对象的属性。\n",
    "\n",
    "这些属性都是可写的。"
   ]
  },
  {
   "cell_type": "code",
   "execution_count": null,
   "id": "877fff3c",
   "metadata": {
    "attributes": {
     "classes": [
      "javascript"
     ],
     "id": ""
    }
   },
   "outputs": [],
   "source": [
    "var img = document.getElementById('myImage');\n",
    "img.src = 'http://www.example.com/image.jpg';"
   ]
  },
  {
   "cell_type": "markdown",
   "id": "42b33aad",
   "metadata": {},
   "source": [
    "上面的写法，会立刻替换掉`img`对象的`src`属性，即会显示另外一张图片。\n",
    "\n",
    "这种修改属性的方法，常常用于添加表单的属性。"
   ]
  },
  {
   "cell_type": "code",
   "execution_count": null,
   "id": "eea9cf03",
   "metadata": {
    "attributes": {
     "classes": [
      "javascript"
     ],
     "id": ""
    }
   },
   "outputs": [],
   "source": [
    "var f = document.forms[0];\n",
    "f.action = 'submit.php';\n",
    "f.method = 'POST';"
   ]
  },
  {
   "cell_type": "markdown",
   "id": "3dface97",
   "metadata": {},
   "source": [
    "上面代码为表单添加提交网址和提交方法。\n",
    "\n",
    "注意，这种用法虽然可以读写属性，但是无法删除属性，`delete`运算符在这里不会生效。\n",
    "\n",
    "HTML 元素的属性名是大小写不敏感的，但是 JavaScript 对象的属性名是大小写敏感的。转换规则是，转为 JavaScript 属性名时，一律采用小写。如果属性名包括多个单词，则采用骆驼拼写法，即从第二个单词开始，每个单词的首字母采用大写，比如`onClick`。\n",
    "\n",
    "有些 HTML 属性名是 JavaScript 的保留字，转为 JavaScript 属性时，必须改名。主要是以下两个。\n",
    "\n",
    "- `for`属性改为`htmlFor`\n",
    "- `class`属性改为`className`\n",
    "\n",
    "另外，HTML 属性值一般都是字符串，但是 JavaScript 属性会自动转换类型。比如，将字符串`true`转为布尔值，将`onClick`的值转为一个函数，将`style`属性的值转为一个`CSSStyleDeclaration`对象。因此，可以对这些属性赋予各种类型的值。\n",
    "\n",
    "## 属性操作的标准方法\n",
    "\n",
    "### 概述\n",
    "\n",
    "元素节点提供六个方法，用来操作属性。\n",
    "\n",
    "- `getAttribute()`\n",
    "- `getAttributeNames()`\n",
    "- `setAttribute()`\n",
    "- `hasAttribute()`\n",
    "- `hasAttributes()`\n",
    "- `removeAttribute()`\n",
    "\n",
    "这有几点注意。\n",
    "\n",
    "（1）适用性\n",
    "\n",
    "这六个方法对所有属性（包括用户自定义的属性）都适用。\n",
    "\n",
    "（2）返回值\n",
    "\n",
    "`getAttribute()`只返回字符串，不会返回其他类型的值。\n",
    "\n",
    "（3）属性名\n",
    "\n",
    "这些方法只接受属性的标准名称，不用改写保留字，比如`for`和`class`都可以直接使用。另外，这些方法对于属性名是大小写不敏感的。"
   ]
  },
  {
   "cell_type": "code",
   "execution_count": null,
   "id": "a3b1a054",
   "metadata": {
    "attributes": {
     "classes": [
      "javascript"
     ],
     "id": ""
    }
   },
   "outputs": [],
   "source": [
    "var image = document.images[0];\n",
    "image.setAttribute('class', 'myImage');"
   ]
  },
  {
   "cell_type": "markdown",
   "id": "18726009",
   "metadata": {},
   "source": [
    "上面代码中，`setAttribute`方法直接使用`class`作为属性名，不用写成`className`。\n",
    "\n",
    "### Element.getAttribute()\n",
    "\n",
    "`Element.getAttribute`方法返回当前元素节点的指定属性。如果指定属性不存在，则返回`null`。"
   ]
  },
  {
   "cell_type": "code",
   "execution_count": null,
   "id": "b486ff92",
   "metadata": {
    "attributes": {
     "classes": [
      "javascript"
     ],
     "id": ""
    }
   },
   "outputs": [],
   "source": [
    "// HTML 代码为\n",
    "// <div id=\"div1\" align=\"left\">\n",
    "var div = document.getElementById('div1');\n",
    "div.getAttribute('align') // \"left\""
   ]
  },
  {
   "cell_type": "markdown",
   "id": "d6fb7cf4",
   "metadata": {},
   "source": [
    "### Element.getAttributeNames()\n",
    "\n",
    "`Element.getAttributeNames()`返回一个数组，成员是当前元素的所有属性的名字。如果当前元素没有任何属性，则返回一个空数组。使用`Element.attributes`属性，也可以拿到同样的结果，唯一的区别是它返回的是类似数组的对象。"
   ]
  },
  {
   "cell_type": "code",
   "execution_count": null,
   "id": "e48d7c74",
   "metadata": {
    "attributes": {
     "classes": [
      "javascript"
     ],
     "id": ""
    }
   },
   "outputs": [],
   "source": [
    "var mydiv = document.getElementById('mydiv');\n",
    "\n",
    "mydiv.getAttributeNames().forEach(function (key) {\n",
    "  var value = mydiv.getAttribute(key);\n",
    "  console.log(key, value);\n",
    "})"
   ]
  },
  {
   "cell_type": "markdown",
   "id": "6716a1c3",
   "metadata": {},
   "source": [
    "上面代码用于遍历某个节点的所有属性。\n",
    "\n",
    "### Element.setAttribute()\n",
    "\n",
    "`Element.setAttribute`方法用于为当前元素节点新增属性。如果同名属性已存在，则相当于编辑已存在的属性。该方法没有返回值。"
   ]
  },
  {
   "cell_type": "code",
   "execution_count": null,
   "id": "5b00440d",
   "metadata": {
    "attributes": {
     "classes": [
      "javascript"
     ],
     "id": ""
    }
   },
   "outputs": [],
   "source": [
    "// HTML 代码为\n",
    "// <button>Hello World</button>\n",
    "var b = document.querySelector('button');\n",
    "b.setAttribute('name', 'myButton');\n",
    "b.setAttribute('disabled', true);"
   ]
  },
  {
   "cell_type": "markdown",
   "id": "aaf976f3",
   "metadata": {},
   "source": [
    "上面代码中，`button`元素的`name`属性被设成`myButton`，`disabled`属性被设成`true`。\n",
    "\n",
    "这里有两个地方需要注意，首先，属性值总是字符串，其他类型的值会自动转成字符串，比如布尔值`true`就会变成字符串`true`；其次，上例的`disable`属性是一个布尔属性，对于`<button>`元素来说，这个属性不需要属性值，只要设置了就总是会生效，因此`setAttribute`方法里面可以将`disabled`属性设成任意值。\n",
    "\n",
    "### Element.hasAttribute()\n",
    "\n",
    "`Element.hasAttribute`方法返回一个布尔值，表示当前元素节点是否包含指定属性。"
   ]
  },
  {
   "cell_type": "code",
   "execution_count": null,
   "id": "198e66af",
   "metadata": {
    "attributes": {
     "classes": [
      "javascript"
     ],
     "id": ""
    }
   },
   "outputs": [],
   "source": [
    "var d = document.getElementById('div1');\n",
    "\n",
    "if (d.hasAttribute('align')) {\n",
    "  d.setAttribute('align', 'center');\n",
    "}"
   ]
  },
  {
   "cell_type": "markdown",
   "id": "78f7e9a6",
   "metadata": {},
   "source": [
    "上面代码检查`div`节点是否含有`align`属性。如果有，则设置为居中对齐。\n",
    "\n",
    "### Element.hasAttributes()\n",
    "\n",
    "`Element.hasAttributes`方法返回一个布尔值，表示当前元素是否有属性，如果没有任何属性，就返回`false`，否则返回`true`。"
   ]
  },
  {
   "cell_type": "code",
   "execution_count": null,
   "id": "67e9ad2a",
   "metadata": {
    "attributes": {
     "classes": [
      "javascript"
     ],
     "id": ""
    }
   },
   "outputs": [],
   "source": [
    "var foo = document.getElementById('foo');\n",
    "foo.hasAttributes() // true"
   ]
  },
  {
   "cell_type": "markdown",
   "id": "605a2d88",
   "metadata": {},
   "source": [
    "### Element.removeAttribute()\n",
    "\n",
    "`Element.removeAttribute`方法移除指定属性。该方法没有返回值。"
   ]
  },
  {
   "cell_type": "code",
   "execution_count": null,
   "id": "ef9f8f04",
   "metadata": {
    "attributes": {
     "classes": [
      "javascript"
     ],
     "id": ""
    }
   },
   "outputs": [],
   "source": [
    "// HTML 代码为\n",
    "// <div id=\"div1\" align=\"left\" width=\"200px\">\n",
    "document.getElementById('div1').removeAttribute('align');\n",
    "// 现在的HTML代码为\n",
    "// <div id=\"div1\" width=\"200px\">"
   ]
  },
  {
   "cell_type": "markdown",
   "id": "62a0220d",
   "metadata": {},
   "source": [
    "## dataset 属性\n",
    "\n",
    "有时，需要在HTML元素上附加数据，供 JavaScript 脚本使用。一种解决方法是自定义属性。"
   ]
  },
  {
   "cell_type": "code",
   "execution_count": null,
   "id": "f71df0e9",
   "metadata": {
    "attributes": {
     "classes": [
      "html"
     ],
     "id": ""
    }
   },
   "outputs": [],
   "source": [
    "<div id=\"mydiv\" foo=\"bar\">"
   ]
  },
  {
   "cell_type": "markdown",
   "id": "0fe8662d",
   "metadata": {},
   "source": [
    "上面代码为`div`元素自定义了`foo`属性，然后可以用`getAttribute()`和`setAttribute()`读写这个属性。"
   ]
  },
  {
   "cell_type": "code",
   "execution_count": null,
   "id": "7d7800e0",
   "metadata": {
    "attributes": {
     "classes": [
      "javascript"
     ],
     "id": ""
    }
   },
   "outputs": [],
   "source": [
    "var n = document.getElementById('mydiv');\n",
    "n.getAttribute('foo') // bar\n",
    "n.setAttribute('foo', 'baz')"
   ]
  },
  {
   "cell_type": "markdown",
   "id": "dd577b14",
   "metadata": {},
   "source": [
    "这种方法虽然可以达到目的，但是会使得 HTML 元素的属性不符合标准，导致网页代码通不过校验。\n",
    "\n",
    "更好的解决方法是，使用标准提供的`data-*`属性。"
   ]
  },
  {
   "cell_type": "code",
   "execution_count": null,
   "id": "1b5518a9",
   "metadata": {
    "attributes": {
     "classes": [
      "html"
     ],
     "id": ""
    }
   },
   "outputs": [],
   "source": [
    "<div id=\"mydiv\" data-foo=\"bar\">"
   ]
  },
  {
   "cell_type": "markdown",
   "id": "29f7fa87",
   "metadata": {},
   "source": [
    "然后，使用元素节点对象的`dataset`属性，它指向一个对象，可以用来操作 HTML 元素标签的`data-*`属性。"
   ]
  },
  {
   "cell_type": "code",
   "execution_count": null,
   "id": "1b4a1908",
   "metadata": {
    "attributes": {
     "classes": [
      "javascript"
     ],
     "id": ""
    }
   },
   "outputs": [],
   "source": [
    "var n = document.getElementById('mydiv');\n",
    "n.dataset.foo // bar\n",
    "n.dataset.foo = 'baz'"
   ]
  },
  {
   "cell_type": "markdown",
   "id": "21fb22f2",
   "metadata": {},
   "source": [
    "上面代码中，通过`dataset.foo`读写`data-foo`属性。\n",
    "\n",
    "删除一个`data-*`属性，可以直接使用`delete`命令。"
   ]
  },
  {
   "cell_type": "code",
   "execution_count": null,
   "id": "1e23a80f",
   "metadata": {
    "attributes": {
     "classes": [
      "javascript"
     ],
     "id": ""
    }
   },
   "outputs": [],
   "source": [
    "delete document.getElementById('myDiv').dataset.foo;"
   ]
  },
  {
   "cell_type": "markdown",
   "id": "f034bcb3",
   "metadata": {},
   "source": [
    "除了`dataset`属性，也可以用`getAttribute('data-foo')`、`removeAttribute('data-foo')`、`setAttribute('data-foo')`、`hasAttribute('data-foo')`等方法操作`data-*`属性。\n",
    "\n",
    "注意，`data-`后面的属性名有限制，只能包含字母、数字、连词线（`-`）、点（`.`）、冒号（`:`）和下划线（`_`)。而且，属性名不应该使用`A`到`Z`的大写字母，比如不能有`data-helloWorld`这样的属性名，而要写成`data-hello-world`。\n",
    "\n",
    "转成`dataset`的键名时，连词线后面如果跟着一个小写字母，那么连词线会被移除，该小写字母转为大写字母，其他字符不变。反过来，`dataset`的键名转成属性名时，所有大写字母都会被转成连词线+该字母的小写形式，其他字符不变。比如，`dataset.helloWorld`会转成`data-hello-world`。"
   ]
  }
 ],
 "metadata": {
  "kernelspec": {
   "display_name": "Python 3",
   "language": "python",
   "name": "python3"
  },
  "language_info": {
   "name": "python",
   "version": "3.10.8 (main, Oct 21 2022, 22:22:30) [Clang 14.0.0 (clang-1400.0.29.202)]"
  },
  "vscode": {
   "interpreter": {
    "hash": "b0fa6594d8f4cbf19f97940f81e996739fb7646882a419484c72d19e05852a7e"
   }
  }
 },
 "nbformat": 4,
 "nbformat_minor": 5
}

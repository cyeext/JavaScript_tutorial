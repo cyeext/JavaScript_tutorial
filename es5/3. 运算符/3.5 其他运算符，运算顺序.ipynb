{
 "cells": [
  {
   "cell_type": "markdown",
   "id": "430768c2",
   "metadata": {},
   "source": [
    "# 其他运算符，运算顺序\n",
    "\n",
    "## void 运算符\n",
    "\n",
    "`void`运算符的作用是执行一个表达式，然后不返回任何值，或者说返回`undefined`。"
   ]
  },
  {
   "cell_type": "code",
   "execution_count": null,
   "id": "c538030c",
   "metadata": {
    "attributes": {
     "classes": [
      "javascript"
     ],
     "id": ""
    }
   },
   "outputs": [],
   "source": [
    "void 0 // undefined\n",
    "void(0) // undefined"
   ]
  },
  {
   "cell_type": "markdown",
   "id": "0c4e64f1",
   "metadata": {},
   "source": [
    "上面是`void`运算符的两种写法，都正确。建议采用后一种形式，即总是使用圆括号。因为`void`运算符的优先性很高，如果不使用括号，容易造成错误的结果。比如，`void 4 + 7`实际上等同于`(void 4) + 7`。\n",
    "\n",
    "下面是`void`运算符的一个例子。"
   ]
  },
  {
   "cell_type": "code",
   "execution_count": null,
   "id": "5339c784",
   "metadata": {
    "attributes": {
     "classes": [
      "javascript"
     ],
     "id": ""
    }
   },
   "outputs": [],
   "source": [
    "var x = 3;\n",
    "void (x = 5) //undefined\n",
    "x // 5"
   ]
  },
  {
   "cell_type": "markdown",
   "id": "2541be94",
   "metadata": {},
   "source": [
    "这个运算符的主要用途是浏览器的书签工具（Bookmarklet），以及在超级链接中插入代码防止网页跳转。\n",
    "\n",
    "请看下面的代码。"
   ]
  },
  {
   "cell_type": "code",
   "execution_count": null,
   "id": "565b8dc2",
   "metadata": {
    "attributes": {
     "classes": [
      "html"
     ],
     "id": ""
    }
   },
   "outputs": [],
   "source": [
    "<script>\n",
    "function f() {\n",
    "  console.log('Hello World');\n",
    "}\n",
    "</script>\n",
    "<a href=\"http://example.com\" onclick=\"f(); return false;\">点击</a>"
   ]
  },
  {
   "cell_type": "markdown",
   "id": "a7823e02",
   "metadata": {},
   "source": [
    "上面代码中，点击链接后，会先执行`onclick`的代码，由于`onclick`返回`false`，所以浏览器不会跳转到 example.com。\n",
    "\n",
    "`void`运算符可以取代上面的写法。"
   ]
  },
  {
   "cell_type": "code",
   "execution_count": null,
   "id": "82bd2ef8",
   "metadata": {
    "attributes": {
     "classes": [
      "html"
     ],
     "id": ""
    }
   },
   "outputs": [],
   "source": [
    "<a href=\"javascript: void(f())\">文字</a>"
   ]
  },
  {
   "cell_type": "markdown",
   "id": "e24af474",
   "metadata": {},
   "source": [
    "下面是一个更实际的例子，用户点击链接提交表单，但是不产生页面跳转。"
   ]
  },
  {
   "cell_type": "code",
   "execution_count": null,
   "id": "944509f8",
   "metadata": {
    "attributes": {
     "classes": [
      "html"
     ],
     "id": ""
    }
   },
   "outputs": [],
   "source": [
    "<a href=\"javascript: void(document.form.submit())\">\n",
    "  提交\n",
    "</a>"
   ]
  },
  {
   "cell_type": "markdown",
   "id": "4ce31c5e",
   "metadata": {},
   "source": [
    "## 逗号运算符\n",
    "\n",
    "逗号运算符用于对两个表达式求值，并返回后一个表达式的值。"
   ]
  },
  {
   "cell_type": "code",
   "execution_count": null,
   "id": "87cf4236",
   "metadata": {
    "attributes": {
     "classes": [
      "javascript"
     ],
     "id": ""
    }
   },
   "outputs": [],
   "source": [
    "'a', 'b' // \"b\"\n",
    "\n",
    "var x = 0;\n",
    "var y = (x++, 10);\n",
    "x // 1\n",
    "y // 10"
   ]
  },
  {
   "cell_type": "markdown",
   "id": "25fe2e1f",
   "metadata": {},
   "source": [
    "上面代码中，逗号运算符返回后一个表达式的值。\n",
    "\n",
    "逗号运算符的一个用途是，在返回一个值之前，进行一些辅助操作。"
   ]
  },
  {
   "cell_type": "code",
   "execution_count": null,
   "id": "31b07bb8",
   "metadata": {
    "attributes": {
     "classes": [
      "javascript"
     ],
     "id": ""
    }
   },
   "outputs": [],
   "source": [
    "var value = (console.log('Hi!'), true);\n",
    "// Hi!\n",
    "\n",
    "value // true"
   ]
  },
  {
   "cell_type": "markdown",
   "id": "0713a5bb",
   "metadata": {},
   "source": [
    "上面代码中，先执行逗号之前的操作，然后返回逗号后面的值。\n",
    "\n",
    "## 运算顺序\n",
    "\n",
    "### 优先级\n",
    "\n",
    "JavaScript 各种运算符的优先级别（Operator Precedence）是不一样的。优先级高的运算符先执行，优先级低的运算符后执行。"
   ]
  },
  {
   "cell_type": "code",
   "execution_count": null,
   "id": "a51c7217",
   "metadata": {
    "attributes": {
     "classes": [
      "javascript"
     ],
     "id": ""
    }
   },
   "outputs": [],
   "source": [
    "4 + 5 * 6 // 34"
   ]
  },
  {
   "cell_type": "markdown",
   "id": "035d4073",
   "metadata": {},
   "source": [
    "上面的代码中，乘法运算符（`*`）的优先性高于加法运算符（`+`），所以先执行乘法，再执行加法，相当于下面这样。"
   ]
  },
  {
   "cell_type": "code",
   "execution_count": null,
   "id": "a4d721c6",
   "metadata": {
    "attributes": {
     "classes": [
      "javascript"
     ],
     "id": ""
    }
   },
   "outputs": [],
   "source": [
    "4 + (5 * 6) // 34"
   ]
  },
  {
   "cell_type": "markdown",
   "id": "57a51b6c",
   "metadata": {},
   "source": [
    "如果多个运算符混写在一起，常常会导致令人困惑的代码。"
   ]
  },
  {
   "cell_type": "code",
   "execution_count": null,
   "id": "b4caa7fe",
   "metadata": {
    "attributes": {
     "classes": [
      "javascript"
     ],
     "id": ""
    }
   },
   "outputs": [],
   "source": [
    "var x = 1;\n",
    "var arr = [];\n",
    "\n",
    "var y = arr.length <= 0 || arr[0] === undefined ? x : arr[0];"
   ]
  },
  {
   "cell_type": "markdown",
   "id": "a17d6bd1",
   "metadata": {},
   "source": [
    "上面代码中，变量`y`的值就很难看出来，因为这个表达式涉及5个运算符，到底谁的优先级最高，实在不容易记住。\n",
    "\n",
    "根据语言规格，这五个运算符的优先级从高到低依次为：小于等于（`<=`)、严格相等（`===`）、或（`||`）、三元（`?:`）、等号（`=`）。因此上面的表达式，实际的运算顺序如下。"
   ]
  },
  {
   "cell_type": "code",
   "execution_count": null,
   "id": "12b8099f",
   "metadata": {
    "attributes": {
     "classes": [
      "javascript"
     ],
     "id": ""
    }
   },
   "outputs": [],
   "source": [
    "var y = ((arr.length <= 0) || (arr[0] === undefined)) ? x : arr[0];"
   ]
  },
  {
   "cell_type": "markdown",
   "id": "57e10fc6",
   "metadata": {},
   "source": [
    "记住所有运算符的优先级，是非常难的，也是没有必要的。\n",
    "\n",
    "### 圆括号的作用\n",
    "\n",
    "圆括号（`()`）可以用来提高运算的优先级，因为它的优先级是最高的，即圆括号中的表达式会第一个运算。"
   ]
  },
  {
   "cell_type": "code",
   "execution_count": null,
   "id": "78f6ade2",
   "metadata": {
    "attributes": {
     "classes": [
      "javascript"
     ],
     "id": ""
    }
   },
   "outputs": [],
   "source": [
    "(4 + 5) * 6 // 54"
   ]
  },
  {
   "cell_type": "markdown",
   "id": "53259788",
   "metadata": {},
   "source": [
    "上面代码中，由于使用了圆括号，加法会先于乘法执行。\n",
    "\n",
    "运算符的优先级别十分繁杂，且都是硬性规定，因此建议总是使用圆括号，保证运算顺序清晰可读，这对代码的维护和除错至关重要。\n",
    "\n",
    "顺便说一下，圆括号不是运算符，而是一种语法结构。它一共有两种用法：一种是把表达式放在圆括号之中，提升运算的优先级；另一种是跟在函数的后面，作用是调用函数。\n",
    "\n",
    "注意，因为圆括号不是运算符，所以不具有求值作用，只改变运算的优先级。"
   ]
  },
  {
   "cell_type": "code",
   "execution_count": null,
   "id": "ba7a2c4b",
   "metadata": {
    "attributes": {
     "classes": [
      "javascript"
     ],
     "id": ""
    }
   },
   "outputs": [],
   "source": [
    "var x = 1;\n",
    "(x) = 2;"
   ]
  },
  {
   "cell_type": "markdown",
   "id": "1470af24",
   "metadata": {},
   "source": [
    "上面代码的第二行，如果圆括号具有求值作用，那么就会变成`1 = 2`，这是会报错了。但是，上面的代码可以运行，这验证了圆括号只改变优先级，不会求值。\n",
    "\n",
    "这也意味着，如果整个表达式都放在圆括号之中，那么不会有任何效果。"
   ]
  },
  {
   "cell_type": "code",
   "execution_count": null,
   "id": "36f37e29",
   "metadata": {
    "attributes": {
     "classes": [
      "javascript"
     ],
     "id": ""
    }
   },
   "outputs": [],
   "source": [
    "(expression)\n",
    "// 等同于\n",
    "expression"
   ]
  },
  {
   "cell_type": "markdown",
   "id": "9380f97a",
   "metadata": {},
   "source": [
    "函数放在圆括号中，会返回函数本身。如果圆括号紧跟在函数的后面，就表示调用函数。"
   ]
  },
  {
   "cell_type": "code",
   "execution_count": null,
   "id": "8bda08dc",
   "metadata": {
    "attributes": {
     "classes": [
      "javascript"
     ],
     "id": ""
    }
   },
   "outputs": [],
   "source": [
    "function f() {\n",
    "  return 1;\n",
    "}\n",
    "\n",
    "(f) // function f(){return 1;}\n",
    "f() // 1"
   ]
  },
  {
   "cell_type": "markdown",
   "id": "6f5b7784",
   "metadata": {},
   "source": [
    "上面代码中，函数放在圆括号之中会返回函数本身，圆括号跟在函数后面则是调用函数。\n",
    "\n",
    "圆括号之中，只能放置表达式，如果将语句放在圆括号之中，就会报错。"
   ]
  },
  {
   "cell_type": "code",
   "execution_count": null,
   "id": "7152ada0",
   "metadata": {
    "attributes": {
     "classes": [
      "javascript"
     ],
     "id": ""
    }
   },
   "outputs": [],
   "source": [
    "(var a = 1)\n",
    "// SyntaxError: Unexpected token var"
   ]
  },
  {
   "cell_type": "markdown",
   "id": "5cfc2d68",
   "metadata": {},
   "source": [
    "### 左结合与右结合\n",
    "\n",
    "对于优先级别相同的运算符，同时出现的时候，就会有计算顺序的问题。"
   ]
  },
  {
   "cell_type": "code",
   "execution_count": null,
   "id": "c9e99ed3",
   "metadata": {
    "attributes": {
     "classes": [
      "javascript"
     ],
     "id": ""
    }
   },
   "outputs": [],
   "source": [
    "a OP b OP c"
   ]
  },
  {
   "cell_type": "markdown",
   "id": "cb04e6c1",
   "metadata": {},
   "source": [
    "上面代码中，`OP`表示运算符。它可以有两种解释方式。"
   ]
  },
  {
   "cell_type": "code",
   "execution_count": null,
   "id": "6f4e950e",
   "metadata": {
    "attributes": {
     "classes": [
      "javascript"
     ],
     "id": ""
    }
   },
   "outputs": [],
   "source": [
    "// 方式一\n",
    "(a OP b) OP c\n",
    "\n",
    "// 方式二\n",
    "a OP (b OP c)"
   ]
  },
  {
   "cell_type": "markdown",
   "id": "8f3a65cd",
   "metadata": {},
   "source": [
    "上面的两种方式，得到的计算结果往往是不一样的。方式一是将左侧两个运算数结合在一起，采用这种解释方式的运算符，称为“左结合”（left-to-right associativity）运算符；方式二是将右侧两个运算数结合在一起，这样的运算符称为“右结合”运算符（right-to-left associativity）。\n",
    "\n",
    "JavaScript 语言的大多数运算符是“左结合”，请看下面加法运算符的例子。"
   ]
  },
  {
   "cell_type": "code",
   "execution_count": null,
   "id": "18f34b91",
   "metadata": {
    "attributes": {
     "classes": [
      "javascript"
     ],
     "id": ""
    }
   },
   "outputs": [],
   "source": [
    "x + y + z\n",
    "\n",
    "// 引擎解释如下\n",
    "(x + y) + z"
   ]
  },
  {
   "cell_type": "markdown",
   "id": "aae6e2dd",
   "metadata": {},
   "source": [
    "上面代码中，`x`与`y`结合在一起，它们的预算结果再与`z`进行运算。\n",
    "\n",
    "少数运算符是“右结合”，其中最主要的是赋值运算符（`=`）和三元条件运算符（`?:`）。"
   ]
  },
  {
   "cell_type": "code",
   "execution_count": null,
   "id": "38363d1e",
   "metadata": {
    "attributes": {
     "classes": [
      "javascript"
     ],
     "id": ""
    }
   },
   "outputs": [],
   "source": [
    "w = x = y = z;\n",
    "q = a ? b : c ? d : e ? f : g;"
   ]
  },
  {
   "cell_type": "markdown",
   "id": "89290bce",
   "metadata": {},
   "source": [
    "上面代码的解释方式如下。"
   ]
  },
  {
   "cell_type": "code",
   "execution_count": null,
   "id": "0461579b",
   "metadata": {
    "attributes": {
     "classes": [
      "javascript"
     ],
     "id": ""
    }
   },
   "outputs": [],
   "source": [
    "w = (x = (y = z));\n",
    "q = a ? b : (c ? d : (e ? f : g));"
   ]
  },
  {
   "cell_type": "markdown",
   "id": "549d2246",
   "metadata": {},
   "source": [
    "上面的两行代码，都是右侧的运算数结合在一起。\n",
    "\n",
    "另外，指数运算符（`**`）也是右结合。"
   ]
  },
  {
   "cell_type": "code",
   "execution_count": null,
   "id": "9c27a746",
   "metadata": {
    "attributes": {
     "classes": [
      "javascript"
     ],
     "id": ""
    }
   },
   "outputs": [],
   "source": [
    "2 ** 3 ** 2\n",
    "// 相当于 2 ** (3 ** 2)\n",
    "// 512"
   ]
  }
 ],
 "metadata": {},
 "nbformat": 4,
 "nbformat_minor": 5
}

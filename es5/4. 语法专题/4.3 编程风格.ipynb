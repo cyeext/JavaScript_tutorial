{
 "cells": [
  {
   "cell_type": "markdown",
   "id": "9b0487d3",
   "metadata": {},
   "source": [
    "# 编程风格\n",
    "\n",
    "## 概述\n",
    "\n",
    "“编程风格”（programming style）指的是编写代码的样式规则。不同的程序员，往往有不同的编程风格。\n",
    "\n",
    "有人说，编译器的规范叫做“语法规则”（grammar），这是程序员必须遵守的；而编译器忽略的部分，就叫“编程风格”（programming style），这是程序员可以自由选择的。这种说法不完全正确，程序员固然可以自由选择编程风格，但是好的编程风格有助于写出质量更高、错误更少、更易于维护的程序。\n",
    "\n",
    "所以，编程风格的选择不应该基于个人爱好、熟悉程度、打字量等因素，而要考虑如何尽量使代码清晰易读、减少出错。你选择的，不是你喜欢的风格，而是一种能够清晰表达你的意图的风格。这一点，对于 JavaScript 这种语法自由度很高的语言尤其重要。\n",
    "\n",
    "必须牢记的一点是，如果你选定了一种“编程风格”，就应该坚持遵守，切忌多种风格混用。如果你加入他人的项目，就应该遵守现有的风格。\n",
    "\n",
    "## 缩进\n",
    "\n",
    "行首的空格和 Tab 键，都可以产生代码缩进效果（indent）。\n",
    "\n",
    "Tab 键可以节省击键次数，但不同的文本编辑器对 Tab 的显示不尽相同，有的显示四个空格，有的显示两个空格，所以有人觉得，空格键可以使得显示效果更统一。\n",
    "\n",
    "无论你选择哪一种方法，都是可以接受的，要做的就是始终坚持这一种选择。不要一会使用 Tab 键，一会使用空格键。\n",
    "\n",
    "## 区块\n",
    "\n",
    "如果循环和判断的代码体只有一行，JavaScript 允许该区块（block）省略大括号。"
   ]
  },
  {
   "cell_type": "code",
   "execution_count": null,
   "id": "14bd054a",
   "metadata": {
    "attributes": {
     "classes": [
      "javascript"
     ],
     "id": ""
    }
   },
   "outputs": [],
   "source": [
    "if (a)\n",
    "  b();\n",
    "  c();"
   ]
  },
  {
   "cell_type": "markdown",
   "id": "ea8dc56a",
   "metadata": {},
   "source": [
    "上面代码的原意可能是下面这样。"
   ]
  },
  {
   "cell_type": "code",
   "execution_count": null,
   "id": "226d0083",
   "metadata": {
    "attributes": {
     "classes": [
      "javascript"
     ],
     "id": ""
    }
   },
   "outputs": [],
   "source": [
    "if (a) {\n",
    "  b();\n",
    "  c();\n",
    "}"
   ]
  },
  {
   "cell_type": "markdown",
   "id": "fd0f4991",
   "metadata": {},
   "source": [
    "但是，实际效果却是下面这样。"
   ]
  },
  {
   "cell_type": "code",
   "execution_count": null,
   "id": "61f4bc5c",
   "metadata": {
    "attributes": {
     "classes": [
      "javascript"
     ],
     "id": ""
    }
   },
   "outputs": [],
   "source": [
    "if (a) {\n",
    "  b();\n",
    "}\n",
    "  c();"
   ]
  },
  {
   "cell_type": "markdown",
   "id": "6972b401",
   "metadata": {},
   "source": [
    "因此，建议总是使用大括号表示区块。\n",
    "\n",
    "另外，区块起首的大括号的位置，有许多不同的写法。最流行的有两种，一种是起首的大括号另起一行。"
   ]
  },
  {
   "cell_type": "code",
   "execution_count": null,
   "id": "8db0024e",
   "metadata": {
    "attributes": {
     "classes": [
      "javascript"
     ],
     "id": ""
    }
   },
   "outputs": [],
   "source": [
    "block\n",
    "{\n",
    "  // ...\n",
    "}"
   ]
  },
  {
   "cell_type": "markdown",
   "id": "e25bc5aa",
   "metadata": {},
   "source": [
    "另一种是起首的大括号跟在关键字的后面。"
   ]
  },
  {
   "cell_type": "code",
   "execution_count": null,
   "id": "1b675be4",
   "metadata": {
    "attributes": {
     "classes": [
      "javascript"
     ],
     "id": ""
    }
   },
   "outputs": [],
   "source": [
    "block {\n",
    "  // ...\n",
    "}"
   ]
  },
  {
   "cell_type": "markdown",
   "id": "1252102a",
   "metadata": {},
   "source": [
    "一般来说，这两种写法都可以接受。但是，JavaScript 要使用后一种，因为 JavaScript 会自动添加句末的分号，导致一些难以察觉的错误。"
   ]
  },
  {
   "cell_type": "code",
   "execution_count": null,
   "id": "eb74a964",
   "metadata": {
    "attributes": {
     "classes": [
      "javascript"
     ],
     "id": ""
    }
   },
   "outputs": [],
   "source": [
    "return\n",
    "{\n",
    "  key: value\n",
    "};\n",
    "\n",
    "// 相当于\n",
    "return;\n",
    "{\n",
    "  key: value\n",
    "};"
   ]
  },
  {
   "cell_type": "markdown",
   "id": "2941ec3d",
   "metadata": {},
   "source": [
    "上面的代码的原意，是要返回一个对象，但实际上返回的是`undefined`，因为 JavaScript 自动在`return`语句后面添加了分号。为了避免这一类错误，需要写成下面这样。"
   ]
  },
  {
   "cell_type": "code",
   "execution_count": null,
   "id": "2f346565",
   "metadata": {
    "attributes": {
     "classes": [
      "javascript"
     ],
     "id": ""
    }
   },
   "outputs": [],
   "source": [
    "return {\n",
    "  key : value\n",
    "};"
   ]
  },
  {
   "cell_type": "markdown",
   "id": "87aeea07",
   "metadata": {},
   "source": [
    "因此，表示区块起首的大括号，不要另起一行。\n",
    "\n",
    "## 圆括号\n",
    "\n",
    "圆括号（parentheses）在 JavaScript 中有两种作用，一种表示函数的调用，另一种表示表达式的组合（grouping）。"
   ]
  },
  {
   "cell_type": "code",
   "execution_count": null,
   "id": "3ae679eb",
   "metadata": {
    "attributes": {
     "classes": [
      "javascript"
     ],
     "id": ""
    }
   },
   "outputs": [],
   "source": [
    "// 圆括号表示函数的调用\n",
    "console.log('abc');\n",
    "\n",
    "// 圆括号表示表达式的组合\n",
    "(1 + 2) * 3"
   ]
  },
  {
   "cell_type": "markdown",
   "id": "06a9e5f6",
   "metadata": {},
   "source": [
    "建议可以用空格，区分这两种不同的括号。\n",
    "\n",
    "> 1. 表示函数调用时，函数名与左括号之间没有空格。\n",
    ">\n",
    "> 2. 表示函数定义时，函数名与左括号之间没有空格。\n",
    ">\n",
    "> 3. 其他情况时，前面位置的语法元素与左括号之间，都有一个空格。\n",
    "\n",
    "按照上面的规则，下面的写法都是不规范的。"
   ]
  },
  {
   "cell_type": "code",
   "execution_count": null,
   "id": "44b2b3a6",
   "metadata": {
    "attributes": {
     "classes": [
      "javascript"
     ],
     "id": ""
    }
   },
   "outputs": [],
   "source": [
    "foo (bar)\n",
    "return(a+b);\n",
    "if(a === 0) {...}\n",
    "function foo (b) {...}\n",
    "function(x) {...}"
   ]
  },
  {
   "cell_type": "markdown",
   "id": "02e4ce72",
   "metadata": {},
   "source": [
    "上面代码的最后一行是一个匿名函数，`function`是语法关键字，不是函数名，所以与左括号之间应该要有一个空格。\n",
    "\n",
    "## 行尾的分号\n",
    "\n",
    "分号表示一条语句的结束。JavaScript 允许省略行尾的分号。事实上，确实有一些开发者行尾从来不写分号。但是，由于下面要讨论的原因，建议还是不要省略这个分号。\n",
    "\n",
    "### 不使用分号的情况\n",
    "\n",
    "首先，以下三种情况，语法规定本来就不需要在结尾添加分号。\n",
    "\n",
    "**（1）for 和 while 循环**"
   ]
  },
  {
   "cell_type": "code",
   "execution_count": null,
   "id": "80daff5b",
   "metadata": {
    "attributes": {
     "classes": [
      "javascript"
     ],
     "id": ""
    }
   },
   "outputs": [],
   "source": [
    "for ( ; ; ) {\n",
    "} // 没有分号\n",
    "\n",
    "while (true) {\n",
    "} // 没有分号"
   ]
  },
  {
   "cell_type": "markdown",
   "id": "55982954",
   "metadata": {},
   "source": [
    "注意，`do...while`循环是有分号的。"
   ]
  },
  {
   "cell_type": "code",
   "execution_count": null,
   "id": "2fe041d7",
   "metadata": {
    "attributes": {
     "classes": [
      "javascript"
     ],
     "id": ""
    }
   },
   "outputs": [],
   "source": [
    "do {\n",
    "  a--;\n",
    "} while(a > 0); // 分号不能省略"
   ]
  },
  {
   "cell_type": "markdown",
   "id": "fa6f5765",
   "metadata": {},
   "source": [
    "**（2）分支语句：if，switch，try**"
   ]
  },
  {
   "cell_type": "code",
   "execution_count": null,
   "id": "b5922285",
   "metadata": {
    "attributes": {
     "classes": [
      "javascript"
     ],
     "id": ""
    }
   },
   "outputs": [],
   "source": [
    "if (true) {\n",
    "} // 没有分号\n",
    "\n",
    "switch () {\n",
    "} // 没有分号\n",
    "\n",
    "try {\n",
    "} catch {\n",
    "} // 没有分号"
   ]
  },
  {
   "cell_type": "markdown",
   "id": "e8e2b81e",
   "metadata": {},
   "source": [
    "**（3）函数的声明语句**"
   ]
  },
  {
   "cell_type": "code",
   "execution_count": null,
   "id": "976561d3",
   "metadata": {
    "attributes": {
     "classes": [
      "javascript"
     ],
     "id": ""
    }
   },
   "outputs": [],
   "source": [
    "function f() {\n",
    "} // 没有分号"
   ]
  },
  {
   "cell_type": "markdown",
   "id": "aa2dd9f6",
   "metadata": {},
   "source": [
    "注意，函数表达式仍然要使用分号。"
   ]
  },
  {
   "cell_type": "code",
   "execution_count": null,
   "id": "582a5f88",
   "metadata": {
    "attributes": {
     "classes": [
      "javascript"
     ],
     "id": ""
    }
   },
   "outputs": [],
   "source": [
    "var f = function f() {\n",
    "};"
   ]
  },
  {
   "cell_type": "markdown",
   "id": "fec3a50e",
   "metadata": {},
   "source": [
    "以上三种情况，如果使用了分号，并不会出错。因为，解释引擎会把这个分号解释为空语句。\n",
    "\n",
    "### 分号的自动添加\n",
    "\n",
    "除了上一节的三种情况，所有语句都应该使用分号。但是，如果没有使用分号，大多数情况下，JavaScript 会自动添加。"
   ]
  },
  {
   "cell_type": "code",
   "execution_count": null,
   "id": "e176b102",
   "metadata": {
    "attributes": {
     "classes": [
      "javascript"
     ],
     "id": ""
    }
   },
   "outputs": [],
   "source": [
    "var a = 1\n",
    "// 等同于\n",
    "var a = 1;"
   ]
  },
  {
   "cell_type": "markdown",
   "id": "843623b1",
   "metadata": {},
   "source": [
    "这种语法特性被称为“分号的自动添加”（Automatic Semicolon Insertion，简称 ASI）。\n",
    "\n",
    "因此，有人提倡省略句尾的分号。麻烦的是，如果下一行的开始可以与本行的结尾连在一起解释，JavaScript 就不会自动添加分号。"
   ]
  },
  {
   "cell_type": "code",
   "execution_count": null,
   "id": "458af93d",
   "metadata": {
    "attributes": {
     "classes": [
      "javascript"
     ],
     "id": ""
    }
   },
   "outputs": [],
   "source": [
    "// 等同于 var a = 3\n",
    "var\n",
    "a\n",
    "=\n",
    "3\n",
    "\n",
    "// 等同于 'abc'.length\n",
    "'abc'\n",
    ".length\n",
    "\n",
    "// 等同于 return a + b;\n",
    "return a +\n",
    "b;\n",
    "\n",
    "// 等同于 obj.foo(arg1, arg2);\n",
    "obj.foo(arg1,\n",
    "arg2);\n",
    "\n",
    "// 等同于 3 * 2 + 10 * (27 / 6)\n",
    "3 * 2\n",
    "+\n",
    "10 * (27 / 6)"
   ]
  },
  {
   "cell_type": "markdown",
   "id": "dfd4cc0e",
   "metadata": {},
   "source": [
    "上面代码都会多行放在一起解释，不会每一行自动添加分号。这些例子还是比较容易看出来的，但是下面这个例子就不那么容易看出来了。"
   ]
  },
  {
   "cell_type": "code",
   "execution_count": null,
   "id": "6a2e32be",
   "metadata": {
    "attributes": {
     "classes": [
      "javascript"
     ],
     "id": ""
    }
   },
   "outputs": [],
   "source": [
    "x = y\n",
    "(function () {\n",
    "  // ...\n",
    "})();\n",
    "\n",
    "// 等同于\n",
    "x = y(function () {...})();"
   ]
  },
  {
   "cell_type": "markdown",
   "id": "80975856",
   "metadata": {},
   "source": [
    "下面是更多不会自动添加分号的例子。"
   ]
  },
  {
   "cell_type": "code",
   "execution_count": null,
   "id": "1936f101",
   "metadata": {
    "attributes": {
     "classes": [
      "javascript"
     ],
     "id": ""
    }
   },
   "outputs": [],
   "source": [
    "// 引擎解释为 c(d+e)\n",
    "var a = b + c\n",
    "(d+e).toString();\n",
    "\n",
    "// 引擎解释为 a = b/hi/g.exec(c).map(d)\n",
    "// 正则表达式的斜杠，会当作除法运算符\n",
    "a = b\n",
    "/hi/g.exec(c).map(d);\n",
    "\n",
    "// 解释为'b'['red', 'green']，\n",
    "// 即把字符串当作一个数组，按索引取值\n",
    "var a = 'b'\n",
    "['red', 'green'].forEach(function (c) {\n",
    "  console.log(c);\n",
    "})\n",
    "\n",
    "// 解释为 function (x) { return x }(a++)\n",
    "// 即调用匿名函数，结果f等于0\n",
    "var a = 0;\n",
    "var f = function (x) { return x }\n",
    "(a++)"
   ]
  },
  {
   "cell_type": "markdown",
   "id": "300c89bc",
   "metadata": {},
   "source": [
    "只有下一行的开始与本行的结尾，无法放在一起解释，JavaScript 引擎才会自动添加分号。"
   ]
  },
  {
   "cell_type": "code",
   "execution_count": null,
   "id": "b4a227b5",
   "metadata": {
    "attributes": {
     "classes": [
      "javascript"
     ],
     "id": ""
    }
   },
   "outputs": [],
   "source": [
    "if (a < 0) a = 0\n",
    "console.log(a)\n",
    "\n",
    "// 等同于下面的代码，\n",
    "// 因为 0console 没有意义\n",
    "if (a < 0) a = 0;\n",
    "console.log(a)"
   ]
  },
  {
   "cell_type": "markdown",
   "id": "ccb4ed99",
   "metadata": {},
   "source": [
    "另外，如果一行的起首是“自增”（`++`）或“自减”（`--`）运算符，则它们的前面会自动添加分号。"
   ]
  },
  {
   "cell_type": "code",
   "execution_count": null,
   "id": "daa5f72e",
   "metadata": {
    "attributes": {
     "classes": [
      "javascript"
     ],
     "id": ""
    }
   },
   "outputs": [],
   "source": [
    "a = b = c = 1\n",
    "\n",
    "a\n",
    "++\n",
    "b\n",
    "--\n",
    "c\n",
    "\n",
    "console.log(a, b, c)\n",
    "// 1 2 0"
   ]
  },
  {
   "cell_type": "markdown",
   "id": "73df5079",
   "metadata": {},
   "source": [
    "上面代码之所以会得到`1 2 0`的结果，原因是自增和自减运算符前，自动加上了分号。上面的代码实际上等同于下面的形式。"
   ]
  },
  {
   "cell_type": "code",
   "execution_count": null,
   "id": "c8c22ed3",
   "metadata": {
    "attributes": {
     "classes": [
      "javascript"
     ],
     "id": ""
    }
   },
   "outputs": [],
   "source": [
    "a = b = c = 1;\n",
    "a;\n",
    "++b;\n",
    "--c;"
   ]
  },
  {
   "cell_type": "markdown",
   "id": "08ac5018",
   "metadata": {},
   "source": [
    "如果`continue`、`break`、`return`和`throw`这四个语句后面，直接跟换行符，则会自动添加分号。这意味着，如果`return`语句返回的是一个对象的字面量，起首的大括号一定要写在同一行，否则得不到预期结果。"
   ]
  },
  {
   "cell_type": "code",
   "execution_count": null,
   "id": "c29d13d8",
   "metadata": {
    "attributes": {
     "classes": [
      "javascript"
     ],
     "id": ""
    }
   },
   "outputs": [],
   "source": [
    "return\n",
    "{ first: 'Jane' };\n",
    "\n",
    "// 解释成\n",
    "return;\n",
    "{ first: 'Jane' };"
   ]
  },
  {
   "cell_type": "markdown",
   "id": "393ffa23",
   "metadata": {},
   "source": [
    "由于解释引擎自动添加分号的行为难以预测，因此编写代码的时候不应该省略行尾的分号。\n",
    "\n",
    "不应该省略结尾的分号，还有一个原因。有些 JavaScript 代码压缩器（uglifier）不会自动添加分号，因此遇到没有分号的结尾，就会让代码保持原状，而不是压缩成一行，使得压缩无法得到最优的结果。\n",
    "\n",
    "另外，不写结尾的分号，可能会导致脚本合并出错。所以，有的代码库在第一行语句开始前，会加上一个分号。"
   ]
  },
  {
   "cell_type": "code",
   "execution_count": null,
   "id": "b920751b",
   "metadata": {
    "attributes": {
     "classes": [
      "javascript"
     ],
     "id": ""
    }
   },
   "outputs": [],
   "source": [
    ";var a = 1;\n",
    "// ..."
   ]
  },
  {
   "cell_type": "markdown",
   "id": "44df4f1f",
   "metadata": {},
   "source": [
    "上面这种写法就可以避免与其他脚本合并时，排在前面的脚本最后一行语句没有分号，导致运行出错的问题。\n",
    "\n",
    "## 全局变量\n",
    "\n",
    "JavaScript 最大的语法缺点，可能就是全局变量对于任何一个代码块，都是可读可写。这对代码的模块化和重复使用，非常不利。\n",
    "\n",
    "因此，建议避免使用全局变量。如果不得不使用，可以考虑用大写字母表示变量名，这样更容易看出这是全局变量，比如`UPPER_CASE`。\n",
    "\n",
    "## 变量声明\n",
    "\n",
    "JavaScript 会自动将变量声明“提升”（hoist）到代码块（block）的头部。"
   ]
  },
  {
   "cell_type": "code",
   "execution_count": null,
   "id": "d10bfc29",
   "metadata": {
    "attributes": {
     "classes": [
      "javascript"
     ],
     "id": ""
    }
   },
   "outputs": [],
   "source": [
    "if (!x) {\n",
    "  var x = {};\n",
    "}\n",
    "\n",
    "// 等同于\n",
    "var x;\n",
    "if (!x) {\n",
    "  x = {};\n",
    "}"
   ]
  },
  {
   "cell_type": "markdown",
   "id": "d8639012",
   "metadata": {},
   "source": [
    "这意味着，变量`x`是`if`代码块之前就存在了。为了避免可能出现的问题，最好把变量声明都放在代码块的头部。"
   ]
  },
  {
   "cell_type": "code",
   "execution_count": null,
   "id": "9ac7343e",
   "metadata": {
    "attributes": {
     "classes": [
      "javascript"
     ],
     "id": ""
    }
   },
   "outputs": [],
   "source": [
    "for (var i = 0; i < 10; i++) {\n",
    "  // ...\n",
    "}\n",
    "\n",
    "// 写成\n",
    "var i;\n",
    "for (i = 0; i < 10; i++) {\n",
    "  // ...\n",
    "}"
   ]
  },
  {
   "cell_type": "markdown",
   "id": "5744a3b5",
   "metadata": {},
   "source": [
    "上面这样的写法，就容易看出存在一个全局的循环变量`i`。\n",
    "\n",
    "另外，所有函数都应该在使用之前定义。函数内部的变量声明，都应该放在函数的头部。\n",
    "\n",
    "## with 语句\n",
    "\n",
    "`with`可以减少代码的书写，但是会造成混淆。"
   ]
  },
  {
   "cell_type": "code",
   "execution_count": null,
   "id": "e6db7b63",
   "metadata": {
    "attributes": {
     "classes": [
      "javascript"
     ],
     "id": ""
    }
   },
   "outputs": [],
   "source": [
    "with (o) {\n",
    "　foo = bar;\n",
    "}"
   ]
  },
  {
   "cell_type": "markdown",
   "id": "1eb28c89",
   "metadata": {},
   "source": [
    "上面的代码，可以有四种运行结果："
   ]
  },
  {
   "cell_type": "code",
   "execution_count": null,
   "id": "1886941f",
   "metadata": {
    "attributes": {
     "classes": [
      "javascript"
     ],
     "id": ""
    }
   },
   "outputs": [],
   "source": [
    "o.foo = bar;\n",
    "o.foo = o.bar;\n",
    "foo = bar;\n",
    "foo = o.bar;"
   ]
  },
  {
   "cell_type": "markdown",
   "id": "969daa61",
   "metadata": {},
   "source": [
    "这四种结果都可能发生，取决于不同的变量是否有定义。因此，不要使用`with`语句。\n",
    "\n",
    "## 相等和严格相等\n",
    "\n",
    "JavaScript 有两个表示相等的运算符：“相等”（`==`）和“严格相等”（`===`）。\n",
    "\n",
    "相等运算符会自动转换变量类型，造成很多意想不到的情况。"
   ]
  },
  {
   "cell_type": "code",
   "execution_count": null,
   "id": "2ca6c7f4",
   "metadata": {
    "attributes": {
     "classes": [
      "javascript"
     ],
     "id": ""
    }
   },
   "outputs": [],
   "source": [
    "0 == ''// true\n",
    "1 == true // true\n",
    "2 == true // false\n",
    "0 == '0' // true\n",
    "false == 'false' // false\n",
    "false == '0' // true\n",
    "' \\t\\r\\n ' == 0 // true"
   ]
  },
  {
   "cell_type": "markdown",
   "id": "66af3886",
   "metadata": {},
   "source": [
    "因此，建议不要使用相等运算符（`==`），只使用严格相等运算符（`===`）。\n",
    "\n",
    "## 语句的合并\n",
    "\n",
    "有些程序员追求简洁，喜欢合并不同目的的语句。比如，原来的语句是"
   ]
  },
  {
   "cell_type": "code",
   "execution_count": null,
   "id": "5e1f146b",
   "metadata": {
    "attributes": {
     "classes": [
      "javascript"
     ],
     "id": ""
    }
   },
   "outputs": [],
   "source": [
    "a = b;\n",
    "if (a) {\n",
    "  // ...\n",
    "}"
   ]
  },
  {
   "cell_type": "markdown",
   "id": "46e8d59b",
   "metadata": {},
   "source": [
    "他喜欢写成下面这样。"
   ]
  },
  {
   "cell_type": "code",
   "execution_count": null,
   "id": "dcf60335",
   "metadata": {
    "attributes": {
     "classes": [
      "javascript"
     ],
     "id": ""
    }
   },
   "outputs": [],
   "source": [
    "if (a = b) {\n",
    "  // ...\n",
    "}"
   ]
  },
  {
   "cell_type": "markdown",
   "id": "e1ba061f",
   "metadata": {},
   "source": [
    "虽然语句少了一行，但是可读性大打折扣，而且会造成误读，让别人误解这行代码的意思是下面这样。"
   ]
  },
  {
   "cell_type": "code",
   "execution_count": null,
   "id": "15dc8e09",
   "metadata": {
    "attributes": {
     "classes": [
      "javascript"
     ],
     "id": ""
    }
   },
   "outputs": [],
   "source": [
    "if （a === b）{\n",
    "  // ...\n",
    "}"
   ]
  },
  {
   "cell_type": "markdown",
   "id": "ef77d1de",
   "metadata": {},
   "source": [
    "建议不要将不同目的的语句，合并成一行。\n",
    "\n",
    "## 自增和自减运算符\n",
    "\n",
    "自增（`++`）和自减（`--`）运算符，放在变量的前面或后面，返回的值不一样，很容易发生错误。事实上，所有的`++`运算符都可以用`+= 1`代替。"
   ]
  },
  {
   "cell_type": "code",
   "execution_count": null,
   "id": "784ba13c",
   "metadata": {
    "attributes": {
     "classes": [
      "javascript"
     ],
     "id": ""
    }
   },
   "outputs": [],
   "source": [
    "++x\n",
    "// 等同于\n",
    "x += 1;"
   ]
  },
  {
   "cell_type": "markdown",
   "id": "ed09f24c",
   "metadata": {},
   "source": [
    "改用`+= 1`，代码变得更清晰了。\n",
    "\n",
    "建议自增（`++`）和自减（`--`）运算符尽量使用`+=`和`-=`代替。\n",
    "\n",
    "## switch...case 结构\n",
    "\n",
    "`switch...case`结构要求，在每一个`case`的最后一行必须是`break`语句，否则会接着运行下一个`case`。这样不仅容易忘记，还会造成代码的冗长。\n",
    "\n",
    "而且，`switch...case`不使用大括号，不利于代码形式的统一。此外，这种结构类似于`goto`语句，容易造成程序流程的混乱，使得代码结构混乱不堪，不符合面向对象编程的原则。"
   ]
  },
  {
   "cell_type": "code",
   "execution_count": null,
   "id": "01f1f763",
   "metadata": {
    "attributes": {
     "classes": [
      "javascript"
     ],
     "id": ""
    }
   },
   "outputs": [],
   "source": [
    "function doAction(action) {\n",
    "  switch (action) {\n",
    "    case 'hack':\n",
    "      return 'hack';\n",
    "    case 'slash':\n",
    "      return 'slash';\n",
    "    case 'run':\n",
    "      return 'run';\n",
    "    default:\n",
    "      throw new Error('Invalid action.');\n",
    "  }\n",
    "}"
   ]
  },
  {
   "cell_type": "markdown",
   "id": "d7731d8a",
   "metadata": {},
   "source": [
    "上面的代码建议改写成对象结构。"
   ]
  },
  {
   "cell_type": "code",
   "execution_count": null,
   "id": "7952dbcf",
   "metadata": {
    "attributes": {
     "classes": [
      "javascript"
     ],
     "id": ""
    }
   },
   "outputs": [],
   "source": [
    "function doAction(action) {\n",
    "  var actions = {\n",
    "    'hack': function () {\n",
    "      return 'hack';\n",
    "    },\n",
    "    'slash': function () {\n",
    "      return 'slash';\n",
    "    },\n",
    "    'run': function () {\n",
    "      return 'run';\n",
    "    }\n",
    "  };\n",
    "\n",
    "  if (typeof actions[action] !== 'function') {\n",
    "    throw new Error('Invalid action.');\n",
    "  }\n",
    "\n",
    "  return actions[action]();\n",
    "}"
   ]
  },
  {
   "cell_type": "markdown",
   "id": "aad93200",
   "metadata": {},
   "source": [
    "因此，建议`switch...case`结构可以用对象结构代替。\n",
    "\n",
    "## 参考链接\n",
    "\n",
    "- Eric Elliott, Programming JavaScript Applications, [Chapter 2. JavaScript Style Guide](https://www.oreilly.com/library/view/programming-javascript-applications/9781491950289/), O'Reilly, 2014\n",
    "- Axel Rauschmayer, [A meta style guide for JavaScript](http://www.2ality.com/2013/07/meta-style-guide.html)\n",
    "- Axel Rauschmayer, [Automatic semicolon insertion in JavaScript](http://www.2ality.com/2011/05/semicolon-insertion.html)\n",
    "- Rod Vagg, [JavaScript and Semicolons](http://dailyjs.com/2012/04/19/semicolons/)"
   ]
  }
 ],
 "metadata": {},
 "nbformat": 4,
 "nbformat_minor": 5
}

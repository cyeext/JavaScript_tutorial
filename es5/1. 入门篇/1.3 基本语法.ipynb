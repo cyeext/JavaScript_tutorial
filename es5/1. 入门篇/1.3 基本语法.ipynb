{
 "cells": [
  {
   "cell_type": "markdown",
   "id": "2ad4dddd",
   "metadata": {},
   "source": [
    "# JavaScript 的基本语法\n",
    "\n",
    "## 语句\n",
    "\n",
    "JavaScript 程序的执行单位为行（line），也就是一行一行地执行。一般情况下，每一行就是一个语句。\n",
    "\n",
    "语句（statement）是为了完成某种任务而进行的操作，比如下面就是一行赋值语句。"
   ]
  },
  {
   "cell_type": "code",
   "execution_count": null,
   "id": "d803bf5d",
   "metadata": {
    "attributes": {
     "classes": [
      "javascript"
     ],
     "id": ""
    }
   },
   "outputs": [],
   "source": [
    "var a = 1 + 3;"
   ]
  },
  {
   "cell_type": "markdown",
   "id": "67eee691",
   "metadata": {},
   "source": [
    "这条语句先用`var`命令，声明了变量`a`，然后将`1 + 3`的运算结果赋值给变量`a`。\n",
    "\n",
    "`1 + 3`叫做表达式（expression），指一个为了得到返回值的计算式。语句和表达式的区别在于，前者主要为了进行某种操作，一般情况下不需要返回值；后者则是为了得到返回值，一定会返回一个值。凡是 JavaScript 语言中预期为值的地方，都可以使用表达式。比如，赋值语句的等号右边，预期是一个值，因此可以放置各种表达式。\n",
    "\n",
    "语句以分号结尾，一个分号就表示一个语句结束。多个语句可以写在一行内。"
   ]
  },
  {
   "cell_type": "code",
   "execution_count": null,
   "id": "d5cff9f8",
   "metadata": {
    "attributes": {
     "classes": [
      "javascript"
     ],
     "id": ""
    }
   },
   "outputs": [],
   "source": [
    "var a = 1 + 3 ; var b = 'abc';"
   ]
  },
  {
   "cell_type": "markdown",
   "id": "b6af9346",
   "metadata": {},
   "source": [
    "分号前面可以没有任何内容，JavaScript 引擎将其视为空语句。"
   ]
  },
  {
   "cell_type": "code",
   "execution_count": null,
   "id": "3a0c88f1",
   "metadata": {
    "attributes": {
     "classes": [
      "javascript"
     ],
     "id": ""
    }
   },
   "outputs": [],
   "source": [
    ";;;"
   ]
  },
  {
   "cell_type": "markdown",
   "id": "e9103134",
   "metadata": {},
   "source": [
    "上面的代码就表示3个空语句。\n",
    "\n",
    "表达式不需要分号结尾。一旦在表达式后面添加分号，则 JavaScript 引擎就将表达式视为语句，这样会产生一些没有任何意义的语句。"
   ]
  },
  {
   "cell_type": "code",
   "execution_count": null,
   "id": "fc61a355",
   "metadata": {
    "attributes": {
     "classes": [
      "javascript"
     ],
     "id": ""
    }
   },
   "outputs": [],
   "source": [
    "1 + 3;\n",
    "'abc';"
   ]
  },
  {
   "cell_type": "markdown",
   "id": "d3df48fe",
   "metadata": {},
   "source": [
    "上面两行语句只是单纯地产生一个值，并没有任何实际的意义。\n",
    "\n",
    "## 变量\n",
    "\n",
    "### 概念\n",
    "\n",
    "变量是对“值”的具名引用。变量就是为“值”起名，然后引用这个名字，就等同于引用这个值。变量的名字就是变量名。"
   ]
  },
  {
   "cell_type": "code",
   "execution_count": null,
   "id": "083948ff",
   "metadata": {
    "attributes": {
     "classes": [
      "javascript"
     ],
     "id": ""
    }
   },
   "outputs": [],
   "source": [
    "var a = 1;"
   ]
  },
  {
   "cell_type": "markdown",
   "id": "d9ef4b19",
   "metadata": {},
   "source": [
    "上面的代码先声明变量`a`，然后在变量`a`与数值1之间建立引用关系，称为将数值1“赋值”给变量`a`。以后，引用变量名`a`就会得到数值1。最前面的`var`，是变量声明命令。它表示通知解释引擎，要创建一个变量`a`。\n",
    "\n",
    "注意，JavaScript 的变量名区分大小写，`A`和`a`是两个不同的变量。\n",
    "\n",
    "变量的声明和赋值，是分开的两个步骤，上面的代码将它们合在了一起，实际的步骤是下面这样。"
   ]
  },
  {
   "cell_type": "code",
   "execution_count": null,
   "id": "a163d66b",
   "metadata": {
    "attributes": {
     "classes": [
      "javascript"
     ],
     "id": ""
    }
   },
   "outputs": [],
   "source": [
    "var a;\n",
    "a = 1;"
   ]
  },
  {
   "cell_type": "markdown",
   "id": "bcf70df4",
   "metadata": {},
   "source": [
    "如果只是声明变量而没有赋值，则该变量的值是`undefined`。`undefined`是一个特殊的值，表示“无定义”。"
   ]
  },
  {
   "cell_type": "code",
   "execution_count": null,
   "id": "84a1f012",
   "metadata": {
    "attributes": {
     "classes": [
      "javascript"
     ],
     "id": ""
    }
   },
   "outputs": [],
   "source": [
    "var a;\n",
    "a // undefined"
   ]
  },
  {
   "cell_type": "markdown",
   "id": "c2ea2dde",
   "metadata": {},
   "source": [
    "如果变量赋值的时候，忘了写`var`命令，这条语句也是有效的。"
   ]
  },
  {
   "cell_type": "code",
   "execution_count": null,
   "id": "9d1f8c6e",
   "metadata": {
    "attributes": {
     "classes": [
      "javascript"
     ],
     "id": ""
    }
   },
   "outputs": [],
   "source": [
    "var a = 1;\n",
    "// 基本等同\n",
    "a = 1;"
   ]
  },
  {
   "cell_type": "markdown",
   "id": "37368adf",
   "metadata": {},
   "source": [
    "但是，不写`var`的做法，不利于表达意图，而且容易不知不觉地创建全局变量，所以建议总是使用`var`命令声明变量。\n",
    "\n",
    "如果一个变量没有声明就直接使用，JavaScript 会报错，告诉你变量未定义。"
   ]
  },
  {
   "cell_type": "code",
   "execution_count": null,
   "id": "dc16f334",
   "metadata": {
    "attributes": {
     "classes": [
      "javascript"
     ],
     "id": ""
    }
   },
   "outputs": [],
   "source": [
    "x\n",
    "// ReferenceError: x is not defined"
   ]
  },
  {
   "cell_type": "markdown",
   "id": "a1d9b32d",
   "metadata": {},
   "source": [
    "上面代码直接使用变量`x`，系统就报错，告诉你变量`x`没有声明。\n",
    "\n",
    "可以在同一条`var`命令中声明多个变量。"
   ]
  },
  {
   "cell_type": "code",
   "execution_count": null,
   "id": "27a52344",
   "metadata": {
    "attributes": {
     "classes": [
      "javascript"
     ],
     "id": ""
    }
   },
   "outputs": [],
   "source": [
    "var a, b;"
   ]
  },
  {
   "cell_type": "markdown",
   "id": "a977fb25",
   "metadata": {},
   "source": [
    "JavaScript 是一种动态类型语言，也就是说，变量的类型没有限制，变量可以随时更改类型。"
   ]
  },
  {
   "cell_type": "code",
   "execution_count": null,
   "id": "a9bdda15",
   "metadata": {
    "attributes": {
     "classes": [
      "javascript"
     ],
     "id": ""
    }
   },
   "outputs": [],
   "source": [
    "var a = 1;\n",
    "a = 'hello';"
   ]
  },
  {
   "cell_type": "markdown",
   "id": "a51324cd",
   "metadata": {},
   "source": [
    "上面代码中，变量`a`起先被赋值为一个数值，后来又被重新赋值为一个字符串。第二次赋值的时候，因为变量`a`已经存在，所以不需要使用`var`命令。\n",
    "\n",
    "如果使用`var`重新声明一个已经存在的变量，是无效的。"
   ]
  },
  {
   "cell_type": "code",
   "execution_count": null,
   "id": "9b9099db",
   "metadata": {
    "attributes": {
     "classes": [
      "javascript"
     ],
     "id": ""
    }
   },
   "outputs": [],
   "source": [
    "var x = 1;\n",
    "var x;\n",
    "x // 1"
   ]
  },
  {
   "cell_type": "markdown",
   "id": "af3955c8",
   "metadata": {},
   "source": [
    "上面代码中，变量`x`声明了两次，第二次声明是无效的。\n",
    "\n",
    "但是，如果第二次声明的时候还进行了赋值，则会覆盖掉前面的值。"
   ]
  },
  {
   "cell_type": "code",
   "execution_count": null,
   "id": "a01a3ddd",
   "metadata": {
    "attributes": {
     "classes": [
      "javascript"
     ],
     "id": ""
    }
   },
   "outputs": [],
   "source": [
    "var x = 1;\n",
    "var x = 2;\n",
    "\n",
    "// 等同于\n",
    "\n",
    "var x = 1;\n",
    "var x;\n",
    "x = 2;"
   ]
  },
  {
   "cell_type": "markdown",
   "id": "f601f7cd",
   "metadata": {},
   "source": [
    "### 变量提升\n",
    "\n",
    "JavaScript 引擎的工作方式是，先解析代码，获取所有被声明的变量，然后再一行一行地运行。这造成的结果，就是所有的变量的声明语句，都会被提升到代码的头部，这就叫做变量提升（hoisting）。"
   ]
  },
  {
   "cell_type": "code",
   "execution_count": null,
   "id": "33fe78a6",
   "metadata": {
    "attributes": {
     "classes": [
      "javascript"
     ],
     "id": ""
    }
   },
   "outputs": [],
   "source": [
    "console.log(a);\n",
    "var a = 1;"
   ]
  },
  {
   "cell_type": "markdown",
   "id": "9fa5e1d0",
   "metadata": {},
   "source": [
    "上面代码首先使用`console.log`方法，在控制台（console）显示变量`a`的值。这时变量`a`还没有声明和赋值，所以这是一种错误的做法，但是实际上不会报错。因为存在变量提升，真正运行的是下面的代码。"
   ]
  },
  {
   "cell_type": "code",
   "execution_count": null,
   "id": "50904886",
   "metadata": {
    "attributes": {
     "classes": [
      "javascript"
     ],
     "id": ""
    }
   },
   "outputs": [],
   "source": [
    "var a;\n",
    "console.log(a);\n",
    "a = 1;"
   ]
  },
  {
   "cell_type": "markdown",
   "id": "49ec6c9b",
   "metadata": {},
   "source": [
    "最后的结果是显示`undefined`，表示变量`a`已声明，但还未赋值。\n",
    "\n",
    "## 标识符\n",
    "\n",
    "标识符（identifier）指的是用来识别各种值的合法名称。最常见的标识符就是变量名，以及后面要提到的函数名。JavaScript 语言的标识符对大小写敏感，所以`a`和`A`是两个不同的标识符。\n",
    "\n",
    "标识符有一套命名规则，不符合规则的就是非法标识符。JavaScript 引擎遇到非法标识符，就会报错。\n",
    "\n",
    "简单说，标识符命名规则如下。\n",
    "\n",
    "- 第一个字符，可以是任意 Unicode 字母（包括英文字母和其他语言的字母），以及美元符号（`$`）和下划线（`_`）。\n",
    "- 第二个字符及后面的字符，除了 Unicode 字母、美元符号和下划线，还可以用数字`0-9`。\n",
    "\n",
    "下面这些都是合法的标识符。"
   ]
  },
  {
   "cell_type": "code",
   "execution_count": null,
   "id": "ab6c3cf3",
   "metadata": {
    "attributes": {
     "classes": [
      "javascript"
     ],
     "id": ""
    }
   },
   "outputs": [],
   "source": [
    "arg0\n",
    "_tmp\n",
    "$elem\n",
    "π"
   ]
  },
  {
   "cell_type": "markdown",
   "id": "b78e01e0",
   "metadata": {},
   "source": [
    "下面这些则是不合法的标识符。"
   ]
  },
  {
   "cell_type": "code",
   "execution_count": null,
   "id": "ab3004af",
   "metadata": {
    "attributes": {
     "classes": [
      "javascript"
     ],
     "id": ""
    }
   },
   "outputs": [],
   "source": [
    "1a  // 第一个字符不能是数字\n",
    "23  // 同上\n",
    "***  // 标识符不能包含星号\n",
    "a+b  // 标识符不能包含加号\n",
    "-d  // 标识符不能包含减号或连词线"
   ]
  },
  {
   "cell_type": "markdown",
   "id": "08846f5f",
   "metadata": {},
   "source": [
    "中文是合法的标识符，可以用作变量名。"
   ]
  },
  {
   "cell_type": "code",
   "execution_count": null,
   "id": "cc514b92",
   "metadata": {
    "attributes": {
     "classes": [
      "javascript"
     ],
     "id": ""
    }
   },
   "outputs": [],
   "source": [
    "var 临时变量 = 1;"
   ]
  },
  {
   "cell_type": "markdown",
   "id": "af227435",
   "metadata": {},
   "source": [
    "> JavaScript 有一些保留字，不能用作标识符：arguments、break、case、catch、class、const、continue、debugger、default、delete、do、else、enum、eval、export、extends、false、finally、for、function、if、implements、import、in、instanceof、interface、let、new、null、package、private、protected、public、return、static、super、switch、this、throw、true、try、typeof、var、void、while、with、yield。\n",
    "\n",
    "## 注释\n",
    "\n",
    "源码中被 JavaScript 引擎忽略的部分就叫做注释，它的作用是对代码进行解释。JavaScript 提供两种注释的写法：一种是单行注释，用`//`起头；另一种是多行注释，放在`/*`和`*/`之间。"
   ]
  },
  {
   "cell_type": "code",
   "execution_count": null,
   "id": "24034ff9",
   "metadata": {
    "attributes": {
     "classes": [
      "javascript"
     ],
     "id": ""
    }
   },
   "outputs": [],
   "source": [
    "// 这是单行注释\n",
    "\n",
    "/*\n",
    " 这是\n",
    " 多行\n",
    " 注释\n",
    "*/"
   ]
  },
  {
   "cell_type": "markdown",
   "id": "37891d71",
   "metadata": {},
   "source": [
    "此外，由于历史上 JavaScript 可以兼容 HTML 代码的注释，所以`<!--`和`-->`也被视为合法的单行注释。"
   ]
  },
  {
   "cell_type": "code",
   "execution_count": null,
   "id": "22f367c4",
   "metadata": {
    "attributes": {
     "classes": [
      "javascript"
     ],
     "id": ""
    }
   },
   "outputs": [],
   "source": [
    "x = 1; <!-- x = 2;\n",
    "--> x = 3;"
   ]
  },
  {
   "cell_type": "markdown",
   "id": "5308f48a",
   "metadata": {},
   "source": [
    "上面代码中，只有`x = 1`会执行，其他的部分都被注释掉了。\n",
    "\n",
    "需要注意的是，`-->`只有在行首，才会被当成单行注释，否则会当作正常的运算。"
   ]
  },
  {
   "cell_type": "code",
   "execution_count": null,
   "id": "7d4bb245",
   "metadata": {
    "attributes": {
     "classes": [
      "javascript"
     ],
     "id": ""
    }
   },
   "outputs": [],
   "source": [
    "function countdown(n) {\n",
    "  while (n --> 0) console.log(n);\n",
    "}\n",
    "countdown(3)\n",
    "// 2\n",
    "// 1\n",
    "// 0"
   ]
  },
  {
   "cell_type": "markdown",
   "id": "992be248",
   "metadata": {},
   "source": [
    "上面代码中，`n --> 0`实际上会当作`n-- > 0`，因此输出2、1、0。\n",
    "\n",
    "## 区块\n",
    "\n",
    "JavaScript 使用大括号，将多个相关的语句组合在一起，称为“区块”（block）。\n",
    "\n",
    "对于`var`命令来说，JavaScript 的区块不构成单独的作用域（scope）。"
   ]
  },
  {
   "cell_type": "code",
   "execution_count": null,
   "id": "dd4f414c",
   "metadata": {
    "attributes": {
     "classes": [
      "javascript"
     ],
     "id": ""
    }
   },
   "outputs": [],
   "source": [
    "{\n",
    "  var a = 1;\n",
    "}\n",
    "\n",
    "a // 1"
   ]
  },
  {
   "cell_type": "markdown",
   "id": "21ff1d19",
   "metadata": {},
   "source": [
    "上面代码在区块内部，使用`var`命令声明并赋值了变量`a`，然后在区块外部，变量`a`依然有效，区块对于`var`命令不构成单独的作用域，与不使用区块的情况没有任何区别。在 JavaScript 语言中，单独使用区块并不常见，区块往往用来构成其他更复杂的语法结构，比如`for`、`if`、`while`、`function`等。\n",
    "\n",
    "## 条件语句\n",
    "\n",
    "JavaScript 提供`if`结构和`switch`结构，完成条件判断，即只有满足预设的条件，才会执行相应的语句。\n",
    "\n",
    "### if 结构\n",
    "\n",
    "`if`结构先判断一个表达式的布尔值，然后根据布尔值的真伪，执行不同的语句。所谓布尔值，指的是 JavaScript 的两个特殊值，`true`表示“真”，`false`表示“伪”。"
   ]
  },
  {
   "cell_type": "code",
   "execution_count": null,
   "id": "e67e4a01",
   "metadata": {
    "attributes": {
     "classes": [
      "javascript"
     ],
     "id": ""
    }
   },
   "outputs": [],
   "source": [
    "if (布尔值)\n",
    "  语句;\n",
    "\n",
    "// 或者\n",
    "if (布尔值) 语句;"
   ]
  },
  {
   "cell_type": "markdown",
   "id": "8d248900",
   "metadata": {},
   "source": [
    "上面是`if`结构的基本形式。需要注意的是，“布尔值”往往由一个条件表达式产生的，必须放在圆括号中，表示对表达式求值。如果表达式的求值结果为`true`，就执行紧跟在后面的语句；如果结果为`false`，则跳过紧跟在后面的语句。"
   ]
  },
  {
   "cell_type": "code",
   "execution_count": null,
   "id": "303c1d7c",
   "metadata": {
    "attributes": {
     "classes": [
      "javascript"
     ],
     "id": ""
    }
   },
   "outputs": [],
   "source": [
    "if (m === 3)\n",
    "  m = m + 1;"
   ]
  },
  {
   "cell_type": "markdown",
   "id": "7e135962",
   "metadata": {},
   "source": [
    "上面代码表示，只有在`m`等于3时，才会将其值加上1。\n",
    "\n",
    "这种写法要求条件表达式后面只能有一个语句。如果想执行多个语句，必须在`if`的条件判断之后，加上大括号，表示代码块（多个语句合并成一个语句）。"
   ]
  },
  {
   "cell_type": "code",
   "execution_count": null,
   "id": "fef9e2f5",
   "metadata": {
    "attributes": {
     "classes": [
      "javascript"
     ],
     "id": ""
    }
   },
   "outputs": [],
   "source": [
    "if (m === 3) {\n",
    "  m += 1;\n",
    "}"
   ]
  },
  {
   "cell_type": "markdown",
   "id": "34df8391",
   "metadata": {},
   "source": [
    "建议总是在`if`语句中使用大括号，因为这样方便插入语句。\n",
    "\n",
    "注意，`if`后面的表达式之中，不要混淆赋值表达式（`=`）、严格相等运算符（`===`）和相等运算符（`==`）。尤其是赋值表达式不具有比较作用。"
   ]
  },
  {
   "cell_type": "code",
   "execution_count": null,
   "id": "2d9aec9b",
   "metadata": {
    "attributes": {
     "classes": [
      "javascript"
     ],
     "id": ""
    }
   },
   "outputs": [],
   "source": [
    "var x = 1;\n",
    "var y = 2;\n",
    "if (x = y) {\n",
    "  console.log(x);\n",
    "}\n",
    "// \"2\""
   ]
  },
  {
   "cell_type": "markdown",
   "id": "60481ddf",
   "metadata": {},
   "source": [
    "上面代码的原意是，当`x`等于`y`的时候，才执行相关语句。但是，不小心将严格相等运算符写成赋值表达式，结果变成了将`y`赋值给变量`x`，再判断变量`x`的值（等于2）的布尔值（结果为`true`）。\n",
    "\n",
    "这种错误可以正常生成一个布尔值，因而不会报错。为了避免这种情况，有些开发者习惯将常量写在运算符的左边，这样的话，一旦不小心将相等运算符写成赋值运算符，就会报错，因为常量不能被赋值。"
   ]
  },
  {
   "cell_type": "code",
   "execution_count": null,
   "id": "cf851cc9",
   "metadata": {
    "attributes": {
     "classes": [
      "javascript"
     ],
     "id": ""
    }
   },
   "outputs": [],
   "source": [
    "if (x = 2) { // 不报错\n",
    "if (2 = x) { // 报错"
   ]
  },
  {
   "cell_type": "markdown",
   "id": "7890c466",
   "metadata": {},
   "source": [
    "至于为什么优先采用“严格相等运算符”（`===`），而不是“相等运算符”（`==`），请参考《运算符》章节。\n",
    "\n",
    "### if...else 结构\n",
    "\n",
    "`if`代码块后面，还可以跟一个`else`代码块，表示不满足条件时，所要执行的代码。"
   ]
  },
  {
   "cell_type": "code",
   "execution_count": null,
   "id": "b21bf902",
   "metadata": {
    "attributes": {
     "classes": [
      "javascript"
     ],
     "id": ""
    }
   },
   "outputs": [],
   "source": [
    "if (m === 3) {\n",
    "  // 满足条件时，执行的语句\n",
    "} else {\n",
    "  // 不满足条件时，执行的语句\n",
    "}"
   ]
  },
  {
   "cell_type": "markdown",
   "id": "6df4a42e",
   "metadata": {},
   "source": [
    "上面代码判断变量`m`是否等于3，如果等于就执行`if`代码块，否则执行`else`代码块。\n",
    "\n",
    "对同一个变量进行多次判断时，多个`if...else`语句可以连写在一起。"
   ]
  },
  {
   "cell_type": "code",
   "execution_count": null,
   "id": "52a3f524",
   "metadata": {
    "attributes": {
     "classes": [
      "javascript"
     ],
     "id": ""
    }
   },
   "outputs": [],
   "source": [
    "if (m === 0) {\n",
    "  // ...\n",
    "} else if (m === 1) {\n",
    "  // ...\n",
    "} else if (m === 2) {\n",
    "  // ...\n",
    "} else {\n",
    "  // ...\n",
    "}"
   ]
  },
  {
   "cell_type": "markdown",
   "id": "c99bf077",
   "metadata": {},
   "source": [
    "`else`代码块总是与离自己最近的那个`if`语句配对。"
   ]
  },
  {
   "cell_type": "code",
   "execution_count": null,
   "id": "34903bcc",
   "metadata": {
    "attributes": {
     "classes": [
      "javascript"
     ],
     "id": ""
    }
   },
   "outputs": [],
   "source": [
    "var m = 1;\n",
    "var n = 2;\n",
    "\n",
    "if (m !== 1)\n",
    "if (n === 2) console.log('hello');\n",
    "else console.log('world');"
   ]
  },
  {
   "cell_type": "markdown",
   "id": "4e3ff8ea",
   "metadata": {},
   "source": [
    "上面代码不会有任何输出，`else`代码块不会得到执行，因为它跟着的是最近的那个`if`语句，相当于下面这样。"
   ]
  },
  {
   "cell_type": "code",
   "execution_count": null,
   "id": "0b1d14c9",
   "metadata": {
    "attributes": {
     "classes": [
      "javascript"
     ],
     "id": ""
    }
   },
   "outputs": [],
   "source": [
    "if (m !== 1) {\n",
    "  if (n === 2) {\n",
    "    console.log('hello');\n",
    "  } else {\n",
    "    console.log('world');\n",
    "  }\n",
    "}"
   ]
  },
  {
   "cell_type": "markdown",
   "id": "d24bca57",
   "metadata": {},
   "source": [
    "如果想让`else`代码块跟随最上面的那个`if`语句，就要改变大括号的位置。"
   ]
  },
  {
   "cell_type": "code",
   "execution_count": null,
   "id": "5c0dd2fa",
   "metadata": {
    "attributes": {
     "classes": [
      "javascript"
     ],
     "id": ""
    }
   },
   "outputs": [],
   "source": [
    "if (m !== 1) {\n",
    "  if (n === 2) {\n",
    "    console.log('hello');\n",
    "  }\n",
    "} else {\n",
    "  console.log('world');\n",
    "}\n",
    "// world"
   ]
  },
  {
   "cell_type": "markdown",
   "id": "7b79b4f4",
   "metadata": {},
   "source": [
    "### switch 结构\n",
    "\n",
    "多个`if...else`连在一起使用的时候，可以转为使用更方便的`switch`结构。"
   ]
  },
  {
   "cell_type": "code",
   "execution_count": null,
   "id": "a592207b",
   "metadata": {
    "attributes": {
     "classes": [
      "javascript"
     ],
     "id": ""
    }
   },
   "outputs": [],
   "source": [
    "switch (fruit) {\n",
    "  case \"banana\":\n",
    "    // ...\n",
    "    break;\n",
    "  case \"apple\":\n",
    "    // ...\n",
    "    break;\n",
    "  default:\n",
    "    // ...\n",
    "}"
   ]
  },
  {
   "cell_type": "markdown",
   "id": "0942a6a7",
   "metadata": {},
   "source": [
    "上面代码根据变量`fruit`的值，选择执行相应的`case`。如果所有`case`都不符合，则执行最后的`default`部分。需要注意的是，每个`case`代码块内部的`break`语句不能少，否则会接下去执行下一个`case`代码块，而不是跳出`switch`结构。"
   ]
  },
  {
   "cell_type": "code",
   "execution_count": null,
   "id": "5ab20cd5",
   "metadata": {
    "attributes": {
     "classes": [
      "javascript"
     ],
     "id": ""
    }
   },
   "outputs": [],
   "source": [
    "var x = 1;\n",
    "\n",
    "switch (x) {\n",
    "  case 1:\n",
    "    console.log('x 等于1');\n",
    "  case 2:\n",
    "    console.log('x 等于2');\n",
    "  default:\n",
    "    console.log('x 等于其他值');\n",
    "}\n",
    "// x等于1\n",
    "// x等于2\n",
    "// x等于其他值"
   ]
  },
  {
   "cell_type": "markdown",
   "id": "55dbf312",
   "metadata": {},
   "source": [
    "上面代码中，`case`代码块之中没有`break`语句，导致不会跳出`switch`结构，而会一直执行下去。正确的写法是像下面这样。"
   ]
  },
  {
   "cell_type": "code",
   "execution_count": null,
   "id": "84f0b26e",
   "metadata": {
    "attributes": {
     "classes": [
      "javascript"
     ],
     "id": ""
    }
   },
   "outputs": [],
   "source": [
    "switch (x) {\n",
    "  case 1:\n",
    "    console.log('x 等于1');\n",
    "    break;\n",
    "  case 2:\n",
    "    console.log('x 等于2');\n",
    "    break;\n",
    "  default:\n",
    "    console.log('x 等于其他值');\n",
    "}"
   ]
  },
  {
   "cell_type": "markdown",
   "id": "2ddbfb8b",
   "metadata": {},
   "source": [
    "`switch`语句部分和`case`语句部分，都可以使用表达式。"
   ]
  },
  {
   "cell_type": "code",
   "execution_count": null,
   "id": "5556ba51",
   "metadata": {
    "attributes": {
     "classes": [
      "javascript"
     ],
     "id": ""
    }
   },
   "outputs": [],
   "source": [
    "switch (1 + 3) {\n",
    "  case 2 + 2:\n",
    "    f();\n",
    "    break;\n",
    "  default:\n",
    "    neverHappens();\n",
    "}"
   ]
  },
  {
   "cell_type": "markdown",
   "id": "760429c2",
   "metadata": {},
   "source": [
    "上面代码的`default`部分，是永远不会执行到的。\n",
    "\n",
    "需要注意的是，`switch`语句后面的表达式，与`case`语句后面的表示式比较运行结果时，采用的是严格相等运算符（`===`），而不是相等运算符（`==`），这意味着比较时不会发生类型转换。"
   ]
  },
  {
   "cell_type": "code",
   "execution_count": null,
   "id": "4b69989e",
   "metadata": {
    "attributes": {
     "classes": [
      "javascript"
     ],
     "id": ""
    }
   },
   "outputs": [],
   "source": [
    "var x = 1;\n",
    "\n",
    "switch (x) {\n",
    "  case true:\n",
    "    console.log('x 发生类型转换');\n",
    "    break;\n",
    "  default:\n",
    "    console.log('x 没有发生类型转换');\n",
    "}\n",
    "// x 没有发生类型转换"
   ]
  },
  {
   "cell_type": "markdown",
   "id": "b84d753d",
   "metadata": {},
   "source": [
    "上面代码中，由于变量`x`没有发生类型转换，所以不会执行`case true`的情况。这表明，`switch`语句内部采用的是“严格相等运算符”，详细解释请参考《运算符》一节。\n",
    "\n",
    "### 三元运算符 ?:\n",
    "\n",
    "JavaScript 还有一个三元运算符（即该运算符需要三个运算子）`?:`，也可以用于逻辑判断。"
   ]
  },
  {
   "cell_type": "code",
   "execution_count": null,
   "id": "39e62b0c",
   "metadata": {
    "attributes": {
     "classes": [
      "javascript"
     ],
     "id": ""
    }
   },
   "outputs": [],
   "source": [
    "(条件) ? 表达式1 : 表达式2"
   ]
  },
  {
   "cell_type": "markdown",
   "id": "e456cd99",
   "metadata": {},
   "source": [
    "上面代码中，如果“条件”为`true`，则返回“表达式1”的值，否则返回“表达式2”的值。"
   ]
  },
  {
   "cell_type": "code",
   "execution_count": null,
   "id": "81bc1aaf",
   "metadata": {
    "attributes": {
     "classes": [
      "javascript"
     ],
     "id": ""
    }
   },
   "outputs": [],
   "source": [
    "var even = (n % 2 === 0) ? true : false;"
   ]
  },
  {
   "cell_type": "markdown",
   "id": "f77c3f54",
   "metadata": {},
   "source": [
    "上面代码中，如果`n`可以被2整除，则`even`等于`true`，否则等于`false`。它等同于下面的形式。"
   ]
  },
  {
   "cell_type": "code",
   "execution_count": null,
   "id": "bbd0da93",
   "metadata": {
    "attributes": {
     "classes": [
      "javascript"
     ],
     "id": ""
    }
   },
   "outputs": [],
   "source": [
    "var even;\n",
    "if (n % 2 === 0) {\n",
    "  even = true;\n",
    "} else {\n",
    "  even = false;\n",
    "}"
   ]
  },
  {
   "cell_type": "markdown",
   "id": "009b1b28",
   "metadata": {},
   "source": [
    "这个三元运算符可以被视为`if...else...`的简写形式，因此可以用于多种场合。"
   ]
  },
  {
   "cell_type": "code",
   "execution_count": null,
   "id": "b24ee3e2",
   "metadata": {
    "attributes": {
     "classes": [
      "javascript"
     ],
     "id": ""
    }
   },
   "outputs": [],
   "source": [
    "var myVar;\n",
    "console.log(\n",
    "  myVar ?\n",
    "  'myVar has a value' :\n",
    "  'myVar does not have a value'\n",
    ")\n",
    "// myVar does not have a value"
   ]
  },
  {
   "cell_type": "markdown",
   "id": "a5c3c640",
   "metadata": {},
   "source": [
    "上面代码利用三元运算符，输出相应的提示。"
   ]
  },
  {
   "cell_type": "code",
   "execution_count": null,
   "id": "79c462a7",
   "metadata": {
    "attributes": {
     "classes": [
      "javascript"
     ],
     "id": ""
    }
   },
   "outputs": [],
   "source": [
    "var msg = '数字' + n + '是' + (n % 2 === 0 ? '偶数' : '奇数');"
   ]
  },
  {
   "cell_type": "markdown",
   "id": "ca717824",
   "metadata": {},
   "source": [
    "上面代码利用三元运算符，在字符串之中插入不同的值。\n",
    "\n",
    "## 循环语句\n",
    "\n",
    "循环语句用于重复执行某个操作，它有多种形式。\n",
    "\n",
    "### while 循环\n",
    "\n",
    "`while`语句包括一个循环条件和一段代码块，只要条件为真，就不断循环执行代码块。"
   ]
  },
  {
   "cell_type": "code",
   "execution_count": null,
   "id": "d0e88971",
   "metadata": {
    "attributes": {
     "classes": [
      "javascript"
     ],
     "id": ""
    }
   },
   "outputs": [],
   "source": [
    "while (条件)\n",
    "  语句;\n",
    "\n",
    "// 或者\n",
    "while (条件) 语句;"
   ]
  },
  {
   "cell_type": "markdown",
   "id": "1e169ce3",
   "metadata": {},
   "source": [
    "`while`语句的循环条件是一个表达式，必须放在圆括号中。代码块部分，如果只有一条语句，可以省略大括号，否则就必须加上大括号。"
   ]
  },
  {
   "cell_type": "code",
   "execution_count": null,
   "id": "0397a4c1",
   "metadata": {
    "attributes": {
     "classes": [
      "javascript"
     ],
     "id": ""
    }
   },
   "outputs": [],
   "source": [
    "while (条件) {\n",
    "  语句;\n",
    "}"
   ]
  },
  {
   "cell_type": "markdown",
   "id": "16b09b87",
   "metadata": {},
   "source": [
    "下面是`while`语句的一个例子。"
   ]
  },
  {
   "cell_type": "code",
   "execution_count": null,
   "id": "178bbe64",
   "metadata": {
    "attributes": {
     "classes": [
      "javascript"
     ],
     "id": ""
    }
   },
   "outputs": [],
   "source": [
    "var i = 0;\n",
    "\n",
    "while (i < 100) {\n",
    "  console.log('i 当前为：' + i);\n",
    "  i = i + 1;\n",
    "}"
   ]
  },
  {
   "cell_type": "markdown",
   "id": "516dc497",
   "metadata": {},
   "source": [
    "上面的代码将循环100次，直到`i`等于100为止。\n",
    "\n",
    "下面的例子是一个无限循环，因为循环条件总是为真。"
   ]
  },
  {
   "cell_type": "code",
   "execution_count": null,
   "id": "56cc271e",
   "metadata": {
    "attributes": {
     "classes": [
      "javascript"
     ],
     "id": ""
    }
   },
   "outputs": [],
   "source": [
    "while (true) {\n",
    "  console.log('Hello, world');\n",
    "}"
   ]
  },
  {
   "cell_type": "markdown",
   "id": "ed33153b",
   "metadata": {},
   "source": [
    "### for 循环\n",
    "\n",
    "`for`语句是循环命令的另一种形式，可以指定循环的起点、终点和终止条件。它的格式如下。"
   ]
  },
  {
   "cell_type": "code",
   "execution_count": null,
   "id": "c7398eac",
   "metadata": {
    "attributes": {
     "classes": [
      "javascript"
     ],
     "id": ""
    }
   },
   "outputs": [],
   "source": [
    "for (初始化表达式; 条件; 递增表达式)\n",
    "  语句\n",
    "\n",
    "// 或者\n",
    "\n",
    "for (初始化表达式; 条件; 递增表达式) {\n",
    "  语句\n",
    "}"
   ]
  },
  {
   "cell_type": "markdown",
   "id": "da183a10",
   "metadata": {},
   "source": [
    "`for`语句后面的括号里面，有三个表达式。\n",
    "\n",
    "- 初始化表达式（initialize）：确定循环变量的初始值，只在循环开始时执行一次。\n",
    "- 条件表达式（test）：每轮循环开始时，都要执行这个条件表达式，只有值为真，才继续进行循环。\n",
    "- 递增表达式（increment）：每轮循环的最后一个操作，通常用来递增循环变量。\n",
    "\n",
    "下面是一个例子。"
   ]
  },
  {
   "cell_type": "code",
   "execution_count": null,
   "id": "b61e65c6",
   "metadata": {
    "attributes": {
     "classes": [
      "javascript"
     ],
     "id": ""
    }
   },
   "outputs": [],
   "source": [
    "var x = 3;\n",
    "for (var i = 0; i < x; i++) {\n",
    "  console.log(i);\n",
    "}\n",
    "// 0\n",
    "// 1\n",
    "// 2"
   ]
  },
  {
   "cell_type": "markdown",
   "id": "560f0b05",
   "metadata": {},
   "source": [
    "上面代码中，初始化表达式是`var i = 0`，即初始化一个变量`i`；测试表达式是`i < x`，即只要`i`小于`x`，就会执行循环；递增表达式是`i++`，即每次循环结束后，`i`增大1。\n",
    "\n",
    "所有`for`循环，都可以改写成`while`循环。上面的例子改为`while`循环，代码如下。"
   ]
  },
  {
   "cell_type": "code",
   "execution_count": null,
   "id": "ab28ba30",
   "metadata": {
    "attributes": {
     "classes": [
      "javascript"
     ],
     "id": ""
    }
   },
   "outputs": [],
   "source": [
    "var x = 3;\n",
    "var i = 0;\n",
    "\n",
    "while (i < x) {\n",
    "  console.log(i);\n",
    "  i++;\n",
    "}"
   ]
  },
  {
   "cell_type": "markdown",
   "id": "7fcc8d75",
   "metadata": {},
   "source": [
    "`for`语句的三个部分（initialize、test、increment），可以省略任何一个，也可以全部省略。"
   ]
  },
  {
   "cell_type": "code",
   "execution_count": null,
   "id": "185ef56f",
   "metadata": {
    "attributes": {
     "classes": [
      "javascript"
     ],
     "id": ""
    }
   },
   "outputs": [],
   "source": [
    "for ( ; ; ){\n",
    "  console.log('Hello World');\n",
    "}"
   ]
  },
  {
   "cell_type": "markdown",
   "id": "3da16f6c",
   "metadata": {},
   "source": [
    "上面代码省略了`for`语句表达式的三个部分，结果就导致了一个无限循环。\n",
    "\n",
    "### do...while 循环\n",
    "\n",
    "`do...while`循环与`while`循环类似，唯一的区别就是先运行一次循环体，然后判断循环条件。"
   ]
  },
  {
   "cell_type": "code",
   "execution_count": null,
   "id": "e5925ac4",
   "metadata": {
    "attributes": {
     "classes": [
      "javascript"
     ],
     "id": ""
    }
   },
   "outputs": [],
   "source": [
    "do\n",
    "  语句\n",
    "while (条件);\n",
    "\n",
    "// 或者\n",
    "do {\n",
    "  语句\n",
    "} while (条件);"
   ]
  },
  {
   "cell_type": "markdown",
   "id": "f81e19a3",
   "metadata": {},
   "source": [
    "不管条件是否为真，`do...while`循环至少运行一次，这是这种结构最大的特点。另外，`while`语句后面的分号注意不要省略。\n",
    "\n",
    "下面是一个例子。"
   ]
  },
  {
   "cell_type": "code",
   "execution_count": null,
   "id": "3b15d829",
   "metadata": {
    "attributes": {
     "classes": [
      "javascript"
     ],
     "id": ""
    }
   },
   "outputs": [],
   "source": [
    "var x = 3;\n",
    "var i = 0;\n",
    "\n",
    "do {\n",
    "  console.log(i);\n",
    "  i++;\n",
    "} while(i < x);"
   ]
  },
  {
   "cell_type": "markdown",
   "id": "dbd9b984",
   "metadata": {},
   "source": [
    "### break 语句和 continue 语句\n",
    "\n",
    "`break`语句和`continue`语句都具有跳转作用，可以让代码不按既有的顺序执行。\n",
    "\n",
    "`break`语句用于跳出代码块或循环。"
   ]
  },
  {
   "cell_type": "code",
   "execution_count": null,
   "id": "93b93786",
   "metadata": {
    "attributes": {
     "classes": [
      "javascript"
     ],
     "id": ""
    }
   },
   "outputs": [],
   "source": [
    "var i = 0;\n",
    "\n",
    "while(i < 100) {\n",
    "  console.log('i 当前为：' + i);\n",
    "  i++;\n",
    "  if (i === 10) break;\n",
    "}"
   ]
  },
  {
   "cell_type": "markdown",
   "id": "6f68ee62",
   "metadata": {},
   "source": [
    "上面代码只会执行10次循环，一旦`i`等于10，就会跳出循环。\n",
    "\n",
    "`for`循环也可以使用`break`语句跳出循环。"
   ]
  },
  {
   "cell_type": "code",
   "execution_count": null,
   "id": "c548b615",
   "metadata": {
    "attributes": {
     "classes": [
      "javascript"
     ],
     "id": ""
    }
   },
   "outputs": [],
   "source": [
    "for (var i = 0; i < 5; i++) {\n",
    "  console.log(i);\n",
    "  if (i === 3)\n",
    "    break;\n",
    "}\n",
    "// 0\n",
    "// 1\n",
    "// 2\n",
    "// 3"
   ]
  },
  {
   "cell_type": "markdown",
   "id": "4e5377c6",
   "metadata": {},
   "source": [
    "上面代码执行到`i`等于3，就会跳出循环。\n",
    "\n",
    "`continue`语句用于立即终止本轮循环，返回循环结构的头部，开始下一轮循环。"
   ]
  },
  {
   "cell_type": "code",
   "execution_count": null,
   "id": "40522c50",
   "metadata": {
    "attributes": {
     "classes": [
      "javascript"
     ],
     "id": ""
    }
   },
   "outputs": [],
   "source": [
    "var i = 0;\n",
    "\n",
    "while (i < 100){\n",
    "  i++;\n",
    "  if (i % 2 === 0) continue;\n",
    "  console.log('i 当前为：' + i);\n",
    "}"
   ]
  },
  {
   "cell_type": "markdown",
   "id": "bcb4b423",
   "metadata": {},
   "source": [
    "上面代码只有在`i`为奇数时，才会输出`i`的值。如果`i`为偶数，则直接进入下一轮循环。\n",
    "\n",
    "如果存在多重循环，不带参数的`break`语句和`continue`语句都只针对最内层循环。\n",
    "\n",
    "### 标签（label）\n",
    "\n",
    "JavaScript 语言允许，语句的前面有标签（label），相当于定位符，用于跳转到程序的任意位置，标签的格式如下。"
   ]
  },
  {
   "cell_type": "code",
   "execution_count": null,
   "id": "bc7e8c36",
   "metadata": {
    "attributes": {
     "classes": [
      "javascript"
     ],
     "id": ""
    }
   },
   "outputs": [],
   "source": [
    "label:\n",
    "  语句"
   ]
  },
  {
   "cell_type": "markdown",
   "id": "3ad5d2ce",
   "metadata": {},
   "source": [
    "标签可以是任意的标识符，但不能是保留字，语句部分可以是任意语句。\n",
    "\n",
    "标签通常与`break`语句和`continue`语句配合使用，跳出特定的循环。"
   ]
  },
  {
   "cell_type": "code",
   "execution_count": null,
   "id": "5c9f3493",
   "metadata": {
    "attributes": {
     "classes": [
      "javascript"
     ],
     "id": ""
    }
   },
   "outputs": [],
   "source": [
    "top:\n",
    "  for (var i = 0; i < 3; i++){\n",
    "    for (var j = 0; j < 3; j++){\n",
    "      if (i === 1 && j === 1) break top;\n",
    "      console.log('i=' + i + ', j=' + j);\n",
    "    }\n",
    "  }\n",
    "// i=0, j=0\n",
    "// i=0, j=1\n",
    "// i=0, j=2\n",
    "// i=1, j=0"
   ]
  },
  {
   "cell_type": "markdown",
   "id": "66e3b093",
   "metadata": {},
   "source": [
    "上面代码为一个双重循环区块，`break`命令后面加上了`top`标签（注意，`top`不用加引号），满足条件时，直接跳出双层循环。如果`break`语句后面不使用标签，则只能跳出内层循环，进入下一次的外层循环。\n",
    "\n",
    "标签也可以用于跳出代码块。"
   ]
  },
  {
   "cell_type": "code",
   "execution_count": null,
   "id": "6f1b8599",
   "metadata": {
    "attributes": {
     "classes": [
      "javascript"
     ],
     "id": ""
    }
   },
   "outputs": [],
   "source": [
    "foo: {\n",
    "  console.log(1);\n",
    "  break foo;\n",
    "  console.log('本行不会输出');\n",
    "}\n",
    "console.log(2);\n",
    "// 1\n",
    "// 2"
   ]
  },
  {
   "cell_type": "markdown",
   "id": "62adecab",
   "metadata": {},
   "source": [
    "上面代码执行到`break foo`，就会跳出区块。\n",
    "\n",
    "`continue`语句也可以与标签配合使用。"
   ]
  },
  {
   "cell_type": "code",
   "execution_count": null,
   "id": "acb9d72b",
   "metadata": {
    "attributes": {
     "classes": [
      "javascript"
     ],
     "id": ""
    }
   },
   "outputs": [],
   "source": [
    "top:\n",
    "  for (var i = 0; i < 3; i++){\n",
    "    for (var j = 0; j < 3; j++){\n",
    "      if (i === 1 && j === 1) continue top;\n",
    "      console.log('i=' + i + ', j=' + j);\n",
    "    }\n",
    "  }\n",
    "// i=0, j=0\n",
    "// i=0, j=1\n",
    "// i=0, j=2\n",
    "// i=1, j=0\n",
    "// i=2, j=0\n",
    "// i=2, j=1\n",
    "// i=2, j=2"
   ]
  },
  {
   "cell_type": "markdown",
   "id": "019ec94a",
   "metadata": {},
   "source": [
    "上面代码中，`continue`命令后面有一个标签名，满足条件时，会跳过当前循环，直接进入下一轮外层循环。如果`continue`语句后面不使用标签，则只能进入下一轮的内层循环。\n",
    "\n",
    "## 参考链接\n",
    "\n",
    "- Axel Rauschmayer, [Basic JavaScript for the impatient programmer](https://2ality.com/2013/06/basic-javascript.html)"
   ]
  }
 ],
 "metadata": {
  "kernelspec": {
   "display_name": "JavaScript (Node.js)",
   "language": "javascript",
   "name": "javascript"
  },
  "language_info": {
   "file_extension": ".js",
   "mimetype": "application/javascript",
   "name": "javascript",
   "version": "19.2.0"
  },
  "vscode": {
   "interpreter": {
    "hash": "b0fa6594d8f4cbf19f97940f81e996739fb7646882a419484c72d19e05852a7e"
   }
  }
 },
 "nbformat": 4,
 "nbformat_minor": 5
}

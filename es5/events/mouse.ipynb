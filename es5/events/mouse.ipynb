{
 "cells": [
  {
   "cell_type": "markdown",
   "id": "28883ab4",
   "metadata": {},
   "source": [
    "# 鼠标事件\n",
    "\n",
    "## 鼠标事件的种类\n",
    "\n",
    "鼠标事件主要有下面这些，所有事件都继承了`MouseEvent`接口（详见后文）。\n",
    "\n",
    "（1）点击事件\n",
    "\n",
    "鼠标点击相关的有四个事件。\n",
    "\n",
    "- `click`：按下鼠标（通常是按下主按钮）时触发。\n",
    "- `dblclick`：在同一个元素上双击鼠标时触发。\n",
    "- `mousedown`：按下鼠标键时触发。\n",
    "- `mouseup`：释放按下的鼠标键时触发。\n",
    "\n",
    "`click`事件可以看成是两个事件组成的：用户在同一个位置先触发`mousedown`，再触发`mouseup`。因此，触发顺序是，`mousedown`首先触发，`mouseup`接着触发，`click`最后触发。\n",
    "\n",
    "双击时，`dblclick`事件则会在`mousedown`、`mouseup`、`click`之后触发。\n",
    "\n",
    "（2）移动事件\n",
    "\n",
    "鼠标移动相关的有五个事件。\n",
    "\n",
    "- `mousemove`：当鼠标在一个节点内部移动时触发。当鼠标持续移动时，该事件会连续触发。为了避免性能问题，建议对该事件的监听函数做一些限定，比如限定一段时间内只能运行一次。\n",
    "- `mouseenter`：鼠标进入一个节点时触发，进入子节点不会触发这个事件（详见后文）。\n",
    "- `mouseover`：鼠标进入一个节点时触发，进入子节点会再一次触发这个事件（详见后文）。\n",
    "- `mouseout`：鼠标离开一个节点时触发，离开父节点也会触发这个事件（详见后文）。\n",
    "- `mouseleave`：鼠标离开一个节点时触发，离开父节点不会触发这个事件（详见后文）。\n",
    "\n",
    "`mouseover`事件和`mouseenter`事件，都是鼠标进入一个节点时触发。两者的区别是，`mouseenter`事件只触发一次，而只要鼠标在节点内部移动，`mouseover`事件会在子节点上触发多次。"
   ]
  },
  {
   "cell_type": "code",
   "execution_count": null,
   "id": "e9e8bce5",
   "metadata": {
    "attributes": {
     "classes": [
      "javascript"
     ],
     "id": ""
    }
   },
   "outputs": [],
   "source": [
    "/* HTML 代码如下\n",
    " <ul>\n",
    "   <li>item 1</li>\n",
    "   <li>item 2</li>\n",
    "   <li>item 3</li>\n",
    " </ul>\n",
    "*/\n",
    "\n",
    "var ul = document.querySelector('ul');\n",
    "\n",
    "// 进入 ul 节点以后，mouseenter 事件只会触发一次\n",
    "// 以后只要鼠标在节点内移动，都不会再触发这个事件\n",
    "// event.target 是 ul 节点\n",
    "ul.addEventListener('mouseenter', function (event) {\n",
    "  event.target.style.color = 'purple';\n",
    "  setTimeout(function () {\n",
    "    event.target.style.color = '';\n",
    "  }, 500);\n",
    "}, false);\n",
    "\n",
    "// 进入 ul 节点以后，只要在子节点上移动，mouseover 事件会触发多次\n",
    "// event.target 是 li 节点\n",
    "ul.addEventListener('mouseover', function (event) {\n",
    "  event.target.style.color = 'orange';\n",
    "  setTimeout(function () {\n",
    "    event.target.style.color = '';\n",
    "  }, 500);\n",
    "}, false);"
   ]
  },
  {
   "cell_type": "markdown",
   "id": "19bf4024",
   "metadata": {},
   "source": [
    "上面代码中，在父节点内部进入子节点，不会触发`mouseenter`事件，但是会触发`mouseover`事件。\n",
    "\n",
    "`mouseout`事件和`mouseleave`事件，都是鼠标离开一个节点时触发。两者的区别是，在父元素内部离开一个子元素时，`mouseleave`事件不会触发，而`mouseout`事件会触发。"
   ]
  },
  {
   "cell_type": "code",
   "execution_count": null,
   "id": "2e24ed8a",
   "metadata": {
    "attributes": {
     "classes": [
      "javascript"
     ],
     "id": ""
    }
   },
   "outputs": [],
   "source": [
    "/* HTML 代码如下\n",
    " <ul>\n",
    "   <li>item 1</li>\n",
    "   <li>item 2</li>\n",
    "   <li>item 3</li>\n",
    " </ul>\n",
    "*/\n",
    "\n",
    "var ul = document.querySelector('ul');\n",
    "\n",
    "// 先进入 ul 节点，然后在节点内部移动，不会触发 mouseleave 事件\n",
    "// 只有离开 ul 节点时，触发一次 mouseleave\n",
    "// event.target 是 ul 节点\n",
    "ul.addEventListener('mouseleave', function (event) {\n",
    "  event.target.style.color = 'purple';\n",
    "  setTimeout(function () {\n",
    "    event.target.style.color = '';\n",
    "  }, 500);\n",
    "}, false);\n",
    "\n",
    "// 先进入 ul 节点，然后在节点内部移动，mouseout 事件会触发多次\n",
    "// event.target 是 li 节点\n",
    "ul.addEventListener('mouseout', function (event) {\n",
    "  event.target.style.color = 'orange';\n",
    "  setTimeout(function () {\n",
    "    event.target.style.color = '';\n",
    "  }, 500);\n",
    "}, false);"
   ]
  },
  {
   "cell_type": "markdown",
   "id": "5ee98239",
   "metadata": {},
   "source": [
    "上面代码中，在父节点内部离开子节点，不会触发`mouseleave`事件，但是会触发`mouseout`事件。\n",
    "\n",
    "（3）其他事件\n",
    "\n",
    "- `contextmenu`：按下鼠标右键时（上下文菜单出现前）触发，或者按下“上下文”菜单键时触发。\n",
    "- `wheel`：滚动鼠标的滚轮时触发，该事件继承的是`WheelEvent`接口。\n",
    "\n",
    "## MouseEvent 接口\n",
    "\n",
    "`MouseEvent`接口代表了鼠标相关的事件，单击（click）、双击（dblclick）、松开鼠标键（mouseup）、按下鼠标键（mousedown）等动作，所产生的事件对象都是`MouseEvent`实例。此外，滚轮事件和拖拉事件也是`MouseEvent`实例。\n",
    "\n",
    "`MouseEvent`接口继承了`Event`接口，所以拥有`Event`的所有属性和方法，并且还提供鼠标独有的属性和方法。\n",
    "\n",
    "浏览器原生提供一个`MouseEvent()`构造函数，用于新建一个`MouseEvent`实例。"
   ]
  },
  {
   "cell_type": "code",
   "execution_count": null,
   "id": "827145dc",
   "metadata": {
    "attributes": {
     "classes": [
      "javascript"
     ],
     "id": ""
    }
   },
   "outputs": [],
   "source": [
    "var event = new MouseEvent(type, options);"
   ]
  },
  {
   "cell_type": "markdown",
   "id": "26fd871b",
   "metadata": {},
   "source": [
    "`MouseEvent()`构造函数接受两个参数。第一个参数是字符串，表示事件名称；第二个参数是一个事件配置对象，该参数可选。除了`Event`接口的实例配置属性，该对象可以配置以下属性，所有属性都是可选的。\n",
    "\n",
    "- `screenX`：数值，鼠标相对于屏幕的水平位置（单位像素），默认值为0，设置该属性不会移动鼠标。\n",
    "- `screenY`：数值，鼠标相对于屏幕的垂直位置（单位像素），其他与`screenX`相同。\n",
    "- `clientX`：数值，鼠标相对于程序窗口的水平位置（单位像素），默认值为0，设置该属性不会移动鼠标。\n",
    "- `clientY`：数值，鼠标相对于程序窗口的垂直位置（单位像素），其他与`clientX`相同。\n",
    "- `ctrlKey`：布尔值，是否同时按下了 Ctrl 键，默认值为`false`。\n",
    "- `shiftKey`：布尔值，是否同时按下了 Shift 键，默认值为`false`。\n",
    "- `altKey`：布尔值，是否同时按下 Alt 键，默认值为`false`。\n",
    "- `metaKey`：布尔值，是否同时按下 Meta 键，默认值为`false`。\n",
    "- `button`：数值，表示按下了哪一个鼠标按键，默认值为`0`，表示按下主键（通常是鼠标的左键）或者当前事件没有定义这个属性；`1`表示按下辅助键（通常是鼠标的中间键），`2`表示按下次要键（通常是鼠标的右键）。\n",
    "- `buttons`：数值，表示按下了鼠标的哪些键，是一个三个比特位的二进制值，默认为`0`（没有按下任何键）。`1`（二进制`001`）表示按下主键（通常是左键），`2`（二进制`010`）表示按下次要键（通常是右键），`4`（二进制`100`）表示按下辅助键（通常是中间键）。因此，如果返回`3`（二进制`011`）就表示同时按下了左键和右键。\n",
    "- `relatedTarget`：节点对象，表示事件的相关节点，默认为`null`。`mouseenter`和`mouseover`事件时，表示鼠标刚刚离开的那个元素节点；`mouseout`和`mouseleave`事件时，表示鼠标正在进入的那个元素节点。\n",
    "\n",
    "下面是一个例子。"
   ]
  },
  {
   "cell_type": "code",
   "execution_count": null,
   "id": "bec61a59",
   "metadata": {
    "attributes": {
     "classes": [
      "javascript"
     ],
     "id": ""
    }
   },
   "outputs": [],
   "source": [
    "function simulateClick() {\n",
    "  var event = new MouseEvent('click', {\n",
    "    'bubbles': true,\n",
    "    'cancelable': true\n",
    "  });\n",
    "  var cb = document.getElementById('checkbox');\n",
    "  cb.dispatchEvent(event);\n",
    "}"
   ]
  },
  {
   "cell_type": "markdown",
   "id": "7ebf4ffd",
   "metadata": {},
   "source": [
    "上面代码生成一个鼠标点击事件，并触发该事件。\n",
    "\n",
    "## MouseEvent 接口的实例属性\n",
    "\n",
    "### MouseEvent.altKey，MouseEvent.ctrlKey，MouseEvent.metaKey，MouseEvent.shiftKey\n",
    "\n",
    "`MouseEvent.altKey`、`MouseEvent.ctrlKey`、`MouseEvent.metaKey`、`MouseEvent.shiftKey`这四个属性都返回一个布尔值，表示事件发生时，是否按下对应的键。它们都是只读属性。\n",
    "\n",
    "- `altKey`属性：Alt 键\n",
    "- `ctrlKey`属性：Ctrl 键\n",
    "- `metaKey`属性：Meta 键（Mac 键盘是一个四瓣的小花，Windows 键盘是 Windows 键）\n",
    "- `shiftKey`属性：Shift 键"
   ]
  },
  {
   "cell_type": "code",
   "execution_count": null,
   "id": "9f8dc1de",
   "metadata": {
    "attributes": {
     "classes": [
      "javascript"
     ],
     "id": ""
    }
   },
   "outputs": [],
   "source": [
    "// HTML 代码如下\n",
    "// <body onclick=\"showKey(event)\">\n",
    "function showKey(e) {\n",
    "  console.log('ALT key pressed: ' + e.altKey);\n",
    "  console.log('CTRL key pressed: ' + e.ctrlKey);\n",
    "  console.log('META key pressed: ' + e.metaKey);\n",
    "  console.log('SHIFT key pressed: ' + e.shiftKey);\n",
    "}"
   ]
  },
  {
   "cell_type": "markdown",
   "id": "dd2a6498",
   "metadata": {},
   "source": [
    "上面代码中，点击网页会输出是否同时按下对应的键。\n",
    "\n",
    "### MouseEvent.button，MouseEvent.buttons\n",
    "\n",
    "`MouseEvent.button`属性返回一个数值，表示事件发生时按下了鼠标的哪个键。该属性只读。\n",
    "\n",
    "- 0：按下主键（通常是左键），或者该事件没有初始化这个属性（比如`mousemove`事件）。\n",
    "- 1：按下辅助键（通常是中键或者滚轮键）。\n",
    "- 2：按下次键（通常是右键）。"
   ]
  },
  {
   "cell_type": "code",
   "execution_count": null,
   "id": "8ebbec03",
   "metadata": {
    "attributes": {
     "classes": [
      "javascript"
     ],
     "id": ""
    }
   },
   "outputs": [],
   "source": [
    "// HTML 代码为\n",
    "// <button onmouseup=\"whichButton(event)\">点击</button>\n",
    "var whichButton = function (e) {\n",
    "  switch (e.button) {\n",
    "    case 0:\n",
    "      console.log('Left button clicked.');\n",
    "      break;\n",
    "    case 1:\n",
    "      console.log('Middle button clicked.');\n",
    "      break;\n",
    "    case 2:\n",
    "      console.log('Right button clicked.');\n",
    "      break;\n",
    "    default:\n",
    "      console.log('Unexpected code: ' + e.button);\n",
    "  }\n",
    "}"
   ]
  },
  {
   "cell_type": "markdown",
   "id": "9dd6d0f7",
   "metadata": {},
   "source": [
    "`MouseEvent.buttons`属性返回一个三个比特位的值，表示同时按下了哪些键。它用来处理同时按下多个鼠标键的情况。该属性只读。\n",
    "\n",
    "- 1：二进制为`001`（十进制的1），表示按下左键。\n",
    "- 2：二进制为`010`（十进制的2），表示按下右键。\n",
    "- 4：二进制为`100`（十进制的4），表示按下中键或滚轮键。\n",
    "\n",
    "同时按下多个键的时候，每个按下的键对应的比特位都会有值。比如，同时按下左键和右键，会返回3（二进制为011）。\n",
    "\n",
    "### MouseEvent.clientX，MouseEvent.clientY\n",
    "\n",
    "`MouseEvent.clientX`属性返回鼠标位置相对于浏览器窗口左上角的水平坐标（单位像素），`MouseEvent.clientY`属性返回垂直坐标。这两个属性都是只读属性。"
   ]
  },
  {
   "cell_type": "code",
   "execution_count": null,
   "id": "63567cbb",
   "metadata": {
    "attributes": {
     "classes": [
      "javascript"
     ],
     "id": ""
    }
   },
   "outputs": [],
   "source": [
    "// HTML 代码为\n",
    "// <body onmousedown=\"showCoords(event)\">\n",
    "function showCoords(evt){\n",
    "  console.log(\n",
    "    'clientX value: ' + evt.clientX + '\\n' +\n",
    "    'clientY value: ' + evt.clientY + '\\n'\n",
    "  );\n",
    "}"
   ]
  },
  {
   "cell_type": "markdown",
   "id": "77cc46e1",
   "metadata": {},
   "source": [
    "这两个属性还分别有一个别名`MouseEvent.x`和`MouseEvent.y`。\n",
    "\n",
    "### MouseEvent.movementX，MouseEvent.movementY\n",
    "\n",
    "`MouseEvent.movementX`属性返回当前位置与上一个`mousemove`事件之间的水平距离（单位像素）。数值上，它等于下面的计算公式。"
   ]
  },
  {
   "cell_type": "code",
   "execution_count": null,
   "id": "ad9142a1",
   "metadata": {
    "attributes": {
     "classes": [
      "javascript"
     ],
     "id": ""
    }
   },
   "outputs": [],
   "source": [
    "currentEvent.movementX = currentEvent.screenX - previousEvent.screenX"
   ]
  },
  {
   "cell_type": "markdown",
   "id": "3590698e",
   "metadata": {},
   "source": [
    "`MouseEvent.movementY`属性返回当前位置与上一个`mousemove`事件之间的垂直距离（单位像素）。数值上，它等于下面的计算公式。"
   ]
  },
  {
   "cell_type": "code",
   "execution_count": null,
   "id": "79d1bb3a",
   "metadata": {
    "attributes": {
     "classes": [
      "javascript"
     ],
     "id": ""
    }
   },
   "outputs": [],
   "source": [
    "currentEvent.movementY = currentEvent.screenY - previousEvent.screenY。"
   ]
  },
  {
   "cell_type": "markdown",
   "id": "e29afc1d",
   "metadata": {},
   "source": [
    "这两个属性都是只读属性。\n",
    "\n",
    "### MouseEvent.screenX，MouseEvent.screenY\n",
    "\n",
    "`MouseEvent.screenX`属性返回鼠标位置相对于屏幕左上角的水平坐标（单位像素），`MouseEvent.screenY`属性返回垂直坐标。这两个属性都是只读属性。"
   ]
  },
  {
   "cell_type": "code",
   "execution_count": null,
   "id": "1f683a7a",
   "metadata": {
    "attributes": {
     "classes": [
      "javascript"
     ],
     "id": ""
    }
   },
   "outputs": [],
   "source": [
    "// HTML 代码如下\n",
    "// <body onmousedown=\"showCoords(event)\">\n",
    "function showCoords(evt) {\n",
    "  console.log(\n",
    "    'screenX value: ' + evt.screenX + '\\n',\n",
    "    'screenY value: ' + evt.screenY + '\\n'\n",
    "  );\n",
    "}"
   ]
  },
  {
   "cell_type": "markdown",
   "id": "de1df1d0",
   "metadata": {},
   "source": [
    "### MouseEvent.offsetX，MouseEvent.offsetY\n",
    "\n",
    "`MouseEvent.offsetX`属性返回鼠标位置与目标节点左侧的`padding`边缘的水平距离（单位像素），`MouseEvent.offsetY`属性返回与目标节点上方的`padding`边缘的垂直距离。这两个属性都是只读属性。"
   ]
  },
  {
   "cell_type": "code",
   "execution_count": null,
   "id": "133ebc69",
   "metadata": {
    "attributes": {
     "classes": [
      "javascript"
     ],
     "id": ""
    }
   },
   "outputs": [],
   "source": [
    "/* HTML 代码如下\n",
    "  <style>\n",
    "    p {\n",
    "      width: 100px;\n",
    "      height: 100px;\n",
    "      padding: 100px;\n",
    "    }\n",
    "  </style>\n",
    "  <p>Hello</p>\n",
    "*/\n",
    "var p = document.querySelector('p');\n",
    "p.addEventListener(\n",
    "  'click',\n",
    "  function (e) {\n",
    "    console.log(e.offsetX);\n",
    "    console.log(e.offsetY);\n",
    "  },\n",
    "  false\n",
    ");"
   ]
  },
  {
   "cell_type": "markdown",
   "id": "af901350",
   "metadata": {},
   "source": [
    "上面代码中，鼠标如果在`p`元素的中心位置点击，会返回`150 150`。因此中心位置距离左侧和上方的`padding`边缘，等于`padding`的宽度（100像素）加上元素内容区域一半的宽度（50像素）。\n",
    "\n",
    "### MouseEvent.pageX，MouseEvent.pageY\n",
    "\n",
    "`MouseEvent.pageX`属性返回鼠标位置与文档左侧边缘的距离（单位像素），`MouseEvent.pageY`属性返回与文档上侧边缘的距离（单位像素）。它们的返回值都包括文档不可见的部分。这两个属性都是只读。"
   ]
  },
  {
   "cell_type": "code",
   "execution_count": null,
   "id": "797e8604",
   "metadata": {
    "attributes": {
     "classes": [
      "javascript"
     ],
     "id": ""
    }
   },
   "outputs": [],
   "source": [
    "/* HTML 代码如下\n",
    "  <style>\n",
    "    body {\n",
    "      height: 2000px;\n",
    "    }\n",
    "  </style>\n",
    "*/\n",
    "document.body.addEventListener(\n",
    "  'click',\n",
    "  function (e) {\n",
    "    console.log(e.pageX);\n",
    "    console.log(e.pageY);\n",
    "  },\n",
    "  false\n",
    ");"
   ]
  },
  {
   "cell_type": "markdown",
   "id": "f1f5de9d",
   "metadata": {},
   "source": [
    "上面代码中，页面高度为2000像素，会产生垂直滚动条。滚动到页面底部，点击鼠标输出的`pageY`值会接近2000。\n",
    "\n",
    "### MouseEvent.relatedTarget\n",
    "\n",
    "`MouseEvent.relatedTarget`属性返回事件的相关节点。对于那些没有相关节点的事件，该属性返回`null`。该属性只读。\n",
    "\n",
    "下表列出不同事件的`target`属性值和`relatedTarget`属性值义。\n",
    "\n",
    "|事件名称 |target 属性 |relatedTarget 属性 |\n",
    "|---------|-----------|------------------|\n",
    "|focusin |接受焦点的节点 |丧失焦点的节点 |\n",
    "|focusout |丧失焦点的节点 |接受焦点的节点 |\n",
    "|mouseenter |将要进入的节点 |将要离开的节点 |\n",
    "|mouseleave |将要离开的节点 |将要进入的节点 |\n",
    "|mouseout |将要离开的节点 |将要进入的节点 |\n",
    "|mouseover |将要进入的节点 |将要离开的节点 |\n",
    "|dragenter |将要进入的节点 |将要离开的节点 |\n",
    "|dragexit |将要离开的节点 |将要进入的节点 |\n",
    "\n",
    "下面是一个例子。"
   ]
  },
  {
   "cell_type": "code",
   "execution_count": null,
   "id": "30a48f7b",
   "metadata": {
    "attributes": {
     "classes": [
      "javascript"
     ],
     "id": ""
    }
   },
   "outputs": [],
   "source": [
    "/*\n",
    "  HTML 代码如下\n",
    "  <div id=\"outer\" style=\"height:50px;width:50px;border:1px solid black;\">\n",
    "    <div id=\"inner\" style=\"height:25px;width:25px;border:1px solid black;\"></div>\n",
    "  </div>\n",
    "*/\n",
    "\n",
    "var inner = document.getElementById('inner');\n",
    "inner.addEventListener('mouseover', function (event) {\n",
    "  console.log('进入' + event.target.id + ' 离开' + event.relatedTarget.id);\n",
    "}, false);\n",
    "inner.addEventListener('mouseenter', function (event) {\n",
    "  console.log('进入' + event.target.id + ' 离开' + event.relatedTarget.id);\n",
    "});\n",
    "inner.addEventListener('mouseout', function (event) {\n",
    "  console.log('离开' + event.target.id + ' 进入' + event.relatedTarget.id);\n",
    "});\n",
    "inner.addEventListener(\"mouseleave\", function (event){\n",
    "  console.log('离开' + event.target.id + ' 进入' + event.relatedTarget.id);\n",
    "});\n",
    "\n",
    "// 鼠标从 outer 进入inner，输出\n",
    "// 进入inner 离开outer\n",
    "// 进入inner 离开outer\n",
    "\n",
    "// 鼠标从 inner进入 outer，输出\n",
    "// 离开inner 进入outer\n",
    "// 离开inner 进入outer"
   ]
  },
  {
   "cell_type": "markdown",
   "id": "67db2d2c",
   "metadata": {},
   "source": [
    "## MouseEvent 接口的实例方法\n",
    "\n",
    "### MouseEvent.getModifierState()\n",
    "\n",
    "`MouseEvent.getModifierState`方法返回一个布尔值，表示有没有按下特定的功能键。它的参数是一个表示[功能键](https://developer.mozilla.org/en-US/docs/Web/API/KeyboardEvent/getModifierState#Modifier_keys_on_Gecko)的字符串。"
   ]
  },
  {
   "cell_type": "code",
   "execution_count": null,
   "id": "973e75d5",
   "metadata": {
    "attributes": {
     "classes": [
      "javascript"
     ],
     "id": ""
    }
   },
   "outputs": [],
   "source": [
    "document.addEventListener('click', function (e) {\n",
    "  console.log(e.getModifierState('CapsLock'));\n",
    "}, false);"
   ]
  },
  {
   "cell_type": "markdown",
   "id": "d908cacc",
   "metadata": {},
   "source": [
    "上面的代码可以了解用户是否按下了大写键。\n",
    "\n",
    "## WheelEvent 接口\n",
    "\n",
    "### 概述\n",
    "\n",
    "WheelEvent 接口继承了 MouseEvent 实例，代表鼠标滚轮事件的实例对象。目前，鼠标滚轮相关的事件只有一个`wheel`事件，用户滚动鼠标的滚轮，就生成这个事件的实例。\n",
    "\n",
    "浏览器原生提供`WheelEvent()`构造函数，用来生成`WheelEvent`实例。"
   ]
  },
  {
   "cell_type": "code",
   "execution_count": null,
   "id": "3308f3a7",
   "metadata": {
    "attributes": {
     "classes": [
      "javascript"
     ],
     "id": ""
    }
   },
   "outputs": [],
   "source": [
    "var wheelEvent = new WheelEvent(type, options);"
   ]
  },
  {
   "cell_type": "markdown",
   "id": "f0ee28d3",
   "metadata": {},
   "source": [
    "`WheelEvent()`构造函数可以接受两个参数，第一个是字符串，表示事件类型，对于滚轮事件来说，这个值目前只能是`wheel`。第二个参数是事件的配置对象。该对象的属性除了`Event`、`UIEvent`的配置属性以外，还可以接受以下几个属性，所有属性都是可选的。\n",
    "\n",
    "- `deltaX`：数值，表示滚轮的水平滚动量，默认值是 0.0。\n",
    "- `deltaY`：数值，表示滚轮的垂直滚动量，默认值是 0.0。\n",
    "- `deltaZ`：数值，表示滚轮的 Z 轴滚动量，默认值是 0.0。\n",
    "- `deltaMode`：数值，表示相关的滚动事件的单位，适用于上面三个属性。`0`表示滚动单位为像素，`1`表示单位为行，`2`表示单位为页，默认为`0`。\n",
    "\n",
    "### 实例属性\n",
    "\n",
    "`WheelEvent`事件实例除了具有`Event`和`MouseEvent`的实例属性和实例方法，还有一些自己的实例属性，但是没有自己的实例方法。\n",
    "\n",
    "下面的属性都是只读属性。\n",
    "\n",
    "- `WheelEvent.deltaX`：数值，表示滚轮的水平滚动量。\n",
    "- `WheelEvent.deltaY`：数值，表示滚轮的垂直滚动量。\n",
    "- `WheelEvent.deltaZ`：数值，表示滚轮的 Z 轴滚动量。\n",
    "- `WheelEvent.deltaMode`：数值，表示上面三个属性的单位，`0`是像素，`1`是行，`2`是页。"
   ]
  }
 ],
 "metadata": {},
 "nbformat": 4,
 "nbformat_minor": 5
}

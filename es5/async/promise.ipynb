{
 "cells": [
  {
   "cell_type": "markdown",
   "id": "9d7c1025",
   "metadata": {},
   "source": [
    "# Promise 对象\n",
    "\n",
    "## 概述\n",
    "\n",
    "Promise 对象是 JavaScript 的异步操作解决方案，为异步操作提供统一接口。它起到代理作用（proxy），充当异步操作与回调函数之间的中介，使得异步操作具备同步操作的接口。Promise 可以让异步操作写起来，就像在写同步操作的流程，而不必一层层地嵌套回调函数。\n",
    "\n",
    "注意，本章只是 Promise 对象的简单介绍。为了避免与后续教程的重复，更完整的介绍请看[《ES6 标准入门》](http://es6.ruanyifeng.com/)的[《Promise 对象》](http://es6.ruanyifeng.com/#docs/promise)一章。\n",
    "\n",
    "首先，Promise 是一个对象，也是一个构造函数。"
   ]
  },
  {
   "cell_type": "code",
   "execution_count": null,
   "id": "62a9f43f",
   "metadata": {
    "attributes": {
     "classes": [
      "javascript"
     ],
     "id": ""
    }
   },
   "outputs": [],
   "source": [
    "function f1(resolve, reject) {\n",
    "  // 异步代码...\n",
    "}\n",
    "\n",
    "var p1 = new Promise(f1);"
   ]
  },
  {
   "cell_type": "markdown",
   "id": "03360434",
   "metadata": {},
   "source": [
    "上面代码中，`Promise`构造函数接受一个回调函数`f1`作为参数，`f1`里面是异步操作的代码。然后，返回的`p1`就是一个 Promise 实例。\n",
    "\n",
    "Promise 的设计思想是，所有异步任务都返回一个 Promise 实例。Promise 实例有一个`then`方法，用来指定下一步的回调函数。"
   ]
  },
  {
   "cell_type": "code",
   "execution_count": null,
   "id": "bcf20f24",
   "metadata": {
    "attributes": {
     "classes": [
      "javascript"
     ],
     "id": ""
    }
   },
   "outputs": [],
   "source": [
    "var p1 = new Promise(f1);\n",
    "p1.then(f2);"
   ]
  },
  {
   "cell_type": "markdown",
   "id": "4eea2484",
   "metadata": {},
   "source": [
    "上面代码中，`f1`的异步操作执行完成，就会执行`f2`。\n",
    "\n",
    "传统的写法可能需要把`f2`作为回调函数传入`f1`，比如写成`f1(f2)`，异步操作完成后，在`f1`内部调用`f2`。Promise 使得`f1`和`f2`变成了链式写法。不仅改善了可读性，而且对于多层嵌套的回调函数尤其方便。"
   ]
  },
  {
   "cell_type": "code",
   "execution_count": null,
   "id": "4c9e5040",
   "metadata": {
    "attributes": {
     "classes": [
      "javascript"
     ],
     "id": ""
    }
   },
   "outputs": [],
   "source": [
    "// 传统写法\n",
    "step1(function (value1) {\n",
    "  step2(value1, function(value2) {\n",
    "    step3(value2, function(value3) {\n",
    "      step4(value3, function(value4) {\n",
    "        // ...\n",
    "      });\n",
    "    });\n",
    "  });\n",
    "});\n",
    "\n",
    "// Promise 的写法\n",
    "(new Promise(step1))\n",
    "  .then(step2)\n",
    "  .then(step3)\n",
    "  .then(step4);"
   ]
  },
  {
   "cell_type": "markdown",
   "id": "d2fa6711",
   "metadata": {},
   "source": [
    "从上面代码可以看到，采用 Promises 以后，程序流程变得非常清楚，十分易读。注意，为了便于理解，上面代码的`Promise`实例的生成格式，做了简化，真正的语法请参照下文。\n",
    "\n",
    "总的来说，传统的回调函数写法使得代码混成一团，变得横向发展而不是向下发展。Promise 就是解决这个问题，使得异步流程可以写成同步流程。\n",
    "\n",
    "Promise 原本只是社区提出的一个构想，一些函数库率先实现了这个功能。ECMAScript 6 将其写入语言标准，目前 JavaScript 原生支持 Promise 对象。\n",
    "\n",
    "## Promise 对象的状态\n",
    "\n",
    "Promise 对象通过自身的状态，来控制异步操作。Promise 实例具有三种状态。\n",
    "\n",
    "- 异步操作未完成（pending）\n",
    "- 异步操作成功（fulfilled）\n",
    "- 异步操作失败（rejected）\n",
    "\n",
    "上面三种状态里面，`fulfilled`和`rejected`合在一起称为`resolved`（已定型）。\n",
    "\n",
    "这三种的状态的变化途径只有两种。\n",
    "\n",
    "- 从“未完成”到“成功”\n",
    "- 从“未完成”到“失败”\n",
    "\n",
    "一旦状态发生变化，就凝固了，不会再有新的状态变化。这也是 Promise 这个名字的由来，它的英语意思是“承诺”，一旦承诺成效，就不得再改变了。这也意味着，Promise 实例的状态变化只可能发生一次。\n",
    "\n",
    "因此，Promise 的最终结果只有两种。\n",
    "\n",
    "- 异步操作成功，Promise 实例传回一个值（value），状态变为`fulfilled`。\n",
    "- 异步操作失败，Promise 实例抛出一个错误（error），状态变为`rejected`。\n",
    "\n",
    "## Promise 构造函数\n",
    "\n",
    "JavaScript 提供原生的`Promise`构造函数，用来生成 Promise 实例。"
   ]
  },
  {
   "cell_type": "code",
   "execution_count": null,
   "id": "a92b1361",
   "metadata": {
    "attributes": {
     "classes": [
      "javascript"
     ],
     "id": ""
    }
   },
   "outputs": [],
   "source": [
    "var promise = new Promise(function (resolve, reject) {\n",
    "  // ...\n",
    "\n",
    "  if (/* 异步操作成功 */){\n",
    "    resolve(value);\n",
    "  } else { /* 异步操作失败 */\n",
    "    reject(new Error());\n",
    "  }\n",
    "});"
   ]
  },
  {
   "cell_type": "markdown",
   "id": "6551d1a2",
   "metadata": {},
   "source": [
    "上面代码中，`Promise`构造函数接受一个函数作为参数，该函数的两个参数分别是`resolve`和`reject`。它们是两个函数，由 JavaScript 引擎提供，不用自己实现。\n",
    "\n",
    "`resolve`函数的作用是，将`Promise`实例的状态从“未完成”变为“成功”（即从`pending`变为`fulfilled`），在异步操作成功时调用，并将异步操作的结果，作为参数传递出去。`reject`函数的作用是，将`Promise`实例的状态从“未完成”变为“失败”（即从`pending`变为`rejected`），在异步操作失败时调用，并将异步操作报出的错误，作为参数传递出去。\n",
    "\n",
    "下面是一个例子。"
   ]
  },
  {
   "cell_type": "code",
   "execution_count": null,
   "id": "9eca6b6e",
   "metadata": {
    "attributes": {
     "classes": [
      "javascript"
     ],
     "id": ""
    }
   },
   "outputs": [],
   "source": [
    "function timeout(ms) {\n",
    "  return new Promise((resolve, reject) => {\n",
    "    setTimeout(resolve, ms, 'done');\n",
    "  });\n",
    "}\n",
    "\n",
    "timeout(100)"
   ]
  },
  {
   "cell_type": "markdown",
   "id": "a2a2e099",
   "metadata": {},
   "source": [
    "上面代码中，`timeout(100)`返回一个 Promise 实例。100毫秒以后，该实例的状态会变为`fulfilled`。\n",
    "\n",
    "## Promise.prototype.then()\n",
    "\n",
    "Promise 实例的`then`方法，用来添加回调函数。\n",
    "\n",
    "`then`方法可以接受两个回调函数，第一个是异步操作成功时（变为`fulfilled`状态）的回调函数，第二个是异步操作失败（变为`rejected`）时的回调函数（该参数可以省略）。一旦状态改变，就调用相应的回调函数。"
   ]
  },
  {
   "cell_type": "code",
   "execution_count": null,
   "id": "1cc92432",
   "metadata": {
    "attributes": {
     "classes": [
      "javascript"
     ],
     "id": ""
    }
   },
   "outputs": [],
   "source": [
    "var p1 = new Promise(function (resolve, reject) {\n",
    "  resolve('成功');\n",
    "});\n",
    "p1.then(console.log, console.error);\n",
    "// \"成功\"\n",
    "\n",
    "var p2 = new Promise(function (resolve, reject) {\n",
    "  reject(new Error('失败'));\n",
    "});\n",
    "p2.then(console.log, console.error);\n",
    "// Error: 失败"
   ]
  },
  {
   "cell_type": "markdown",
   "id": "c02691d4",
   "metadata": {},
   "source": [
    "上面代码中，`p1`和`p2`都是Promise 实例，它们的`then`方法绑定两个回调函数：成功时的回调函数`console.log`，失败时的回调函数`console.error`（可以省略）。`p1`的状态变为成功，`p2`的状态变为失败，对应的回调函数会收到异步操作传回的值，然后在控制台输出。\n",
    "\n",
    "`then`方法可以链式使用。"
   ]
  },
  {
   "cell_type": "code",
   "execution_count": null,
   "id": "8e8d09e3",
   "metadata": {
    "attributes": {
     "classes": [
      "javascript"
     ],
     "id": ""
    }
   },
   "outputs": [],
   "source": [
    "p1\n",
    "  .then(step1)\n",
    "  .then(step2)\n",
    "  .then(step3)\n",
    "  .then(\n",
    "    console.log,\n",
    "    console.error\n",
    "  );"
   ]
  },
  {
   "cell_type": "markdown",
   "id": "71160bc1",
   "metadata": {},
   "source": [
    "上面代码中，`p1`后面有四个`then`，意味依次有四个回调函数。只要前一步的状态变为`fulfilled`，就会依次执行紧跟在后面的回调函数。\n",
    "\n",
    "最后一个`then`方法，回调函数是`console.log`和`console.error`，用法上有一点重要的区别。`console.log`只显示`step3`的返回值，而`console.error`可以显示`p1`、`step1`、`step2`、`step3`之中任意一个发生的错误。举例来说，如果`step1`的状态变为`rejected`，那么`step2`和`step3`都不会执行了（因为它们是`resolved`的回调函数）。Promise 开始寻找，接下来第一个为`rejected`的回调函数，在上面代码中是`console.error`。这就是说，Promise 对象的报错具有传递性。\n",
    "\n",
    "## then() 用法辨析\n",
    "\n",
    "Promise 的用法，简单说就是一句话：使用`then`方法添加回调函数。但是，不同的写法有一些细微的差别，请看下面四种写法，它们的差别在哪里？"
   ]
  },
  {
   "cell_type": "code",
   "execution_count": null,
   "id": "6c04cb1c",
   "metadata": {
    "attributes": {
     "classes": [
      "javascript"
     ],
     "id": ""
    }
   },
   "outputs": [],
   "source": [
    "// 写法一\n",
    "f1().then(function () {\n",
    "  return f2();\n",
    "});\n",
    "\n",
    "// 写法二\n",
    "f1().then(function () {\n",
    "  f2();\n",
    "});\n",
    "\n",
    "// 写法三\n",
    "f1().then(f2());\n",
    "\n",
    "// 写法四\n",
    "f1().then(f2);"
   ]
  },
  {
   "cell_type": "markdown",
   "id": "97095d93",
   "metadata": {},
   "source": [
    "为了便于讲解，下面这四种写法都再用`then`方法接一个回调函数`f3`。写法一的`f3`回调函数的参数，是`f2`函数的运行结果。"
   ]
  },
  {
   "cell_type": "code",
   "execution_count": null,
   "id": "d4f24a17",
   "metadata": {
    "attributes": {
     "classes": [
      "javascript"
     ],
     "id": ""
    }
   },
   "outputs": [],
   "source": [
    "f1().then(function () {\n",
    "  return f2();\n",
    "}).then(f3);"
   ]
  },
  {
   "cell_type": "markdown",
   "id": "1aeb6938",
   "metadata": {},
   "source": [
    "写法二的`f3`回调函数的参数是`undefined`。"
   ]
  },
  {
   "cell_type": "code",
   "execution_count": null,
   "id": "f3bb61e6",
   "metadata": {
    "attributes": {
     "classes": [
      "javascript"
     ],
     "id": ""
    }
   },
   "outputs": [],
   "source": [
    "f1().then(function () {\n",
    "  f2();\n",
    "  return;\n",
    "}).then(f3);"
   ]
  },
  {
   "cell_type": "markdown",
   "id": "d69a4211",
   "metadata": {},
   "source": [
    "写法三的`f3`回调函数的参数，是`f2`函数返回的函数的运行结果。"
   ]
  },
  {
   "cell_type": "code",
   "execution_count": null,
   "id": "58b9194b",
   "metadata": {
    "attributes": {
     "classes": [
      "javascript"
     ],
     "id": ""
    }
   },
   "outputs": [],
   "source": [
    "f1().then(f2())\n",
    "  .then(f3);"
   ]
  },
  {
   "cell_type": "markdown",
   "id": "0078c85c",
   "metadata": {},
   "source": [
    "写法四与写法一只有一个差别，那就是`f2`会接收到`f1()`返回的结果。"
   ]
  },
  {
   "cell_type": "code",
   "execution_count": null,
   "id": "0a5ea729",
   "metadata": {
    "attributes": {
     "classes": [
      "javascript"
     ],
     "id": ""
    }
   },
   "outputs": [],
   "source": [
    "f1().then(f2)\n",
    "  .then(f3);"
   ]
  },
  {
   "cell_type": "markdown",
   "id": "05958dbb",
   "metadata": {},
   "source": [
    "## 实例：图片加载\n",
    "\n",
    "下面是使用 Promise 完成图片的加载。"
   ]
  },
  {
   "cell_type": "code",
   "execution_count": null,
   "id": "354798d9",
   "metadata": {
    "attributes": {
     "classes": [
      "javascript"
     ],
     "id": ""
    }
   },
   "outputs": [],
   "source": [
    "var preloadImage = function (path) {\n",
    "  return new Promise(function (resolve, reject) {\n",
    "    var image = new Image();\n",
    "    image.onload  = resolve;\n",
    "    image.onerror = reject;\n",
    "    image.src = path;\n",
    "  });\n",
    "};"
   ]
  },
  {
   "cell_type": "markdown",
   "id": "6095c1b6",
   "metadata": {},
   "source": [
    "上面代码中，`image`是一个图片对象的实例。它有两个事件监听属性，`onload`属性在图片加载成功后调用，`onerror`属性在加载失败调用。\n",
    "\n",
    "上面的`preloadImage()`函数用法如下。"
   ]
  },
  {
   "cell_type": "code",
   "execution_count": null,
   "id": "dec04ee3",
   "metadata": {
    "attributes": {
     "classes": [
      "javascript"
     ],
     "id": ""
    }
   },
   "outputs": [],
   "source": [
    "preloadImage('https://example.com/my.jpg')\n",
    "  .then(function (e) { document.body.append(e.target) })\n",
    "  .then(function () { console.log('加载成功') })"
   ]
  },
  {
   "cell_type": "markdown",
   "id": "469cf9bf",
   "metadata": {},
   "source": [
    "上面代码中，图片加载成功以后，`onload`属性会返回一个事件对象，因此第一个`then()`方法的回调函数，会接收到这个事件对象。该对象的`target`属性就是图片加载后生成的 DOM 节点。\n",
    "\n",
    "## 小结\n",
    "\n",
    "Promise 的优点在于，让回调函数变成了规范的链式写法，程序流程可以看得很清楚。它有一整套接口，可以实现许多强大的功能，比如同时执行多个异步操作，等到它们的状态都改变以后，再执行一个回调函数；再比如，为多个回调函数中抛出的错误，统一指定处理方法等等。\n",
    "\n",
    "而且，Promise 还有一个传统写法没有的好处：它的状态一旦改变，无论何时查询，都能得到这个状态。这意味着，无论何时为 Promise 实例添加回调函数，该函数都能正确执行。所以，你不用担心是否错过了某个事件或信号。如果是传统写法，通过监听事件来执行回调函数，一旦错过了事件，再添加回调函数是不会执行的。\n",
    "\n",
    "Promise 的缺点是，编写的难度比传统写法高，而且阅读代码也不是一眼可以看懂。你只会看到一堆`then`，必须自己在`then`的回调函数里面理清逻辑。\n",
    "\n",
    "## 微任务\n",
    "\n",
    "Promise 的回调函数属于异步任务，会在同步任务之后执行。"
   ]
  },
  {
   "cell_type": "code",
   "execution_count": null,
   "id": "632bc01a",
   "metadata": {
    "attributes": {
     "classes": [
      "javascript"
     ],
     "id": ""
    }
   },
   "outputs": [],
   "source": [
    "new Promise(function (resolve, reject) {\n",
    "  resolve(1);\n",
    "}).then(console.log);\n",
    "\n",
    "console.log(2);\n",
    "// 2\n",
    "// 1"
   ]
  },
  {
   "cell_type": "markdown",
   "id": "97ea1da4",
   "metadata": {},
   "source": [
    "上面代码会先输出2，再输出1。因为`console.log(2)`是同步任务，而`then`的回调函数属于异步任务，一定晚于同步任务执行。\n",
    "\n",
    "但是，Promise 的回调函数不是正常的异步任务，而是微任务（microtask）。它们的区别在于，正常任务追加到下一轮事件循环，微任务追加到本轮事件循环。这意味着，微任务的执行时间一定早于正常任务。"
   ]
  },
  {
   "cell_type": "code",
   "execution_count": null,
   "id": "2aeafb9c",
   "metadata": {
    "attributes": {
     "classes": [
      "javascript"
     ],
     "id": ""
    }
   },
   "outputs": [],
   "source": [
    "setTimeout(function() {\n",
    "  console.log(1);\n",
    "}, 0);\n",
    "\n",
    "new Promise(function (resolve, reject) {\n",
    "  resolve(2);\n",
    "}).then(console.log);\n",
    "\n",
    "console.log(3);\n",
    "// 3\n",
    "// 2\n",
    "// 1"
   ]
  },
  {
   "cell_type": "markdown",
   "id": "8f4cfab8",
   "metadata": {},
   "source": [
    "上面代码的输出结果是`321`。这说明`then`的回调函数的执行时间，早于`setTimeout(fn, 0)`。因为`then`是本轮事件循环执行，`setTimeout(fn, 0)`在下一轮事件循环开始时执行。\n",
    "\n",
    "## 参考链接\n",
    "\n",
    "- Sebastian Porto, [Asynchronous JS: Callbacks, Listeners, Control Flow Libs and Promises](https://sporto.github.io/blog/2012/12/09/callbacks-listeners-promises/)\n",
    "- Rhys Brett-Bowen, [Promises/A+ - understanding the spec through implementation](http://modernjavascript.blogspot.com/2013/08/promisesa-understanding-by-doing.html)\n",
    "- Matt Podwysocki, Amanda Silver, [Asynchronous Programming in JavaScript with “Promises”](http://blogs.msdn.com/b/ie/archive/2011/09/11/asynchronous-programming-in-javascript-with-promises.aspx)\n",
    "- Marc Harter, [Promise A+ Implementation](https://gist.github.com//wavded/5692344)\n",
    "- Bryan Klimt, [What’s so great about JavaScript Promises?](http://blog.parse.com/2013/01/29/whats-so-great-about-javascript-promises/)\n",
    "- Jake Archibald, [JavaScript Promises There and back again](http://www.html5rocks.com/en/tutorials/es6/promises/)\n",
    "- Mikito Takada, [7. Control flow, Mixu's Node book](http://book.mixu.net/node/ch7.html)"
   ]
  }
 ],
 "metadata": {},
 "nbformat": 4,
 "nbformat_minor": 5
}

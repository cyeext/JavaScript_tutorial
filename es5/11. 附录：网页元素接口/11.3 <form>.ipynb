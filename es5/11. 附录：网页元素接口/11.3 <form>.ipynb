{
 "cells": [
  {
   "cell_type": "markdown",
   "id": "d46eb82c",
   "metadata": {},
   "source": [
    "# <form> 元素\n",
    "\n",
    "`<form>`元素代表了表单，继承了 HTMLFormElement 接口。\n",
    "\n",
    "## HTMLFormElement 的实例属性\n",
    "\n",
    "- `elements`：返回一个类似数组的对象，成员是属于该表单的所有控件元素。该属性只读。\n",
    "- `length`：返回一个整数，表示属于该表单的控件数量。该属性只读。\n",
    "- `name`：字符串，表示该表单的名称。\n",
    "- `method`：字符串，表示提交给服务器时所使用的 HTTP 方法。\n",
    "- `target`：字符串，表示表单提交后，服务器返回的数据的展示位置。\n",
    "- `action`：字符串，表示表单提交数据的 URL。\n",
    "- `enctype`（或`encoding`）：字符串，表示表单提交数据的编码方法，可能的值有`application/x-www-form-urlencoded`、`multipart/form-data`和`text/plain`。\n",
    "- `acceptCharset`：字符串，表示服务器所能接受的字符编码，多个编码格式之间使用逗号或空格分隔。\n",
    "- `autocomplete`：字符串`on`或`off`，表示浏览器是否要对`<input>`控件提供自动补全。\n",
    "- `noValidate`：布尔值，表示是否关闭表单的自动校验。\n",
    "\n",
    "## HTMLFormElement 的实例方法\n",
    "\n",
    "- `submit()`：提交表单，但是不会触发`submit`事件和表单的自动校验。\n",
    "- `reset()`：重置表单控件的值为默认值。\n",
    "- `checkValidity()`：如果控件能够通过自动校验，返回`true`，否则返回`false`，同时触发`invalid`事件。\n",
    "\n",
    "下面是一个创建表单并提交的例子。"
   ]
  },
  {
   "cell_type": "code",
   "execution_count": null,
   "id": "371ac848",
   "metadata": {
    "attributes": {
     "classes": [
      "javascript"
     ],
     "id": ""
    }
   },
   "outputs": [],
   "source": [
    "var f = document.createElement('form');\n",
    "document.body.appendChild(f);\n",
    "f.action = '/cgi-bin/some.cgi';\n",
    "f.method = 'POST';\n",
    "f.submit();"
   ]
  }
 ],
 "metadata": {},
 "nbformat": 4,
 "nbformat_minor": 5
}

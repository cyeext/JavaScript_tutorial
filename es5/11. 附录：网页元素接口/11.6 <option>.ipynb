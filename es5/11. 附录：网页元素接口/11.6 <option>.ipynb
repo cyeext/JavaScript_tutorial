{
 "cells": [
  {
   "cell_type": "markdown",
   "id": "9198e781",
   "metadata": {},
   "source": [
    "# <option> 元素\n",
    "\n",
    "`<option>`元素表示下拉框（`<select>`，`<optgroup>`或`<datalist>`）里面的一个选项。它是 HTMLOptionElement 接口的实例。\n",
    "\n",
    "## 属性\n",
    "\n",
    "除了继承 HTMLElement 接口的属性和方法，HTMLOptionElement 接口具有下面的属性。\n",
    "\n",
    "- `disabled`：布尔值，表示该项是否可选择。\n",
    "- `defaultSelected`：布尔值，表示该项是否默认选中。一旦设为`true`，该项的值就是`<select>`的默认值。\n",
    "- `form`：返回`<option>`所在的表单元素。如果不属于任何表单，则返回`null`。该属性只读。\n",
    "- `index`：整数，表示该选项在整个下拉列表里面的位置。该属性只读。\n",
    "- `label`：字符串，表示对该选项的说明。如果该属性未设置，则返回该选项的文本内容。\n",
    "- `selected`：布尔值，表示该选项是否选中。\n",
    "- `text`：字符串，该选项的文本内容。\n",
    "- `value`：字符串，该选项的值。表单提交时，上传的就是选中项的这个属性。\n",
    "\n",
    "## Option() 构造函数\n",
    "\n",
    "浏览器原生提供`Option()`构造函数，用来生成 HTMLOptionElement 实例。"
   ]
  },
  {
   "cell_type": "code",
   "execution_count": null,
   "id": "bfca5f84",
   "metadata": {
    "attributes": {
     "classes": [
      "javascript"
     ],
     "id": ""
    }
   },
   "outputs": [],
   "source": [
    "new Option(text, value, defaultSelected, selected)"
   ]
  },
  {
   "cell_type": "markdown",
   "id": "523c8da7",
   "metadata": {},
   "source": [
    "它接受四个参数，都是可选的。\n",
    "\n",
    "- text：字符串，表示该选项的文本内容。如果省略，返回空字符串。\n",
    "- value：字符串，表示该选项的值。如果省略，默认返回`text`属性的值。\n",
    "- defaultSelected：布尔值，表示该项是否默认选中，默认为`false`。注意，即使设为`true`，也不代表该项的`selected`属性为`true`。\n",
    "- selected：布尔值，表示该项是否选中，默认为`false`。"
   ]
  },
  {
   "cell_type": "code",
   "execution_count": null,
   "id": "e5371f39",
   "metadata": {
    "attributes": {
     "classes": [
      "javascript"
     ],
     "id": ""
    }
   },
   "outputs": [],
   "source": [
    "var newOption = new Option('hello', 'world', true);\n",
    "\n",
    "newOption.text // \"hello\"\n",
    "newOption.value // \"world\"\n",
    "newOption.defaultSelected // true\n",
    "newOption.selected // false"
   ]
  },
  {
   "cell_type": "markdown",
   "id": "9e3308b4",
   "metadata": {},
   "source": [
    "上面代码中，`newOption`的`defaultSelected`属性为`true`，但是它没有被选中（即`selected`属性为`false`）。"
   ]
  }
 ],
 "metadata": {},
 "nbformat": 4,
 "nbformat_minor": 5
}

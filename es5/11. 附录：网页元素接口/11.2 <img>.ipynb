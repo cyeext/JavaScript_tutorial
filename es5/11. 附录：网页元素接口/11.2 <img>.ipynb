{
 "cells": [
  {
   "cell_type": "markdown",
   "id": "19c15185",
   "metadata": {},
   "source": [
    "# <img> 元素\n",
    "\n",
    "## 概述\n",
    "\n",
    "`<img>`元素用于插入图片，主要继承了 HTMLImageElement 接口。\n",
    "\n",
    "浏览器提供一个原生构造函数`Image`，用于生成`HTMLImageElement`实例。"
   ]
  },
  {
   "cell_type": "code",
   "execution_count": null,
   "id": "e6b72495",
   "metadata": {
    "attributes": {
     "classes": [
      "javascript"
     ],
     "id": ""
    }
   },
   "outputs": [],
   "source": [
    "var img = new Image();\n",
    "img instanceof Image // true\n",
    "img instanceof HTMLImageElement // true"
   ]
  },
  {
   "cell_type": "markdown",
   "id": "8941eaba",
   "metadata": {},
   "source": [
    "`Image`构造函数可以接受两个整数作为参数，分别表示`<img>`元素的宽度和高度。"
   ]
  },
  {
   "cell_type": "code",
   "execution_count": null,
   "id": "b05754cc",
   "metadata": {
    "attributes": {
     "classes": [
      "javascript"
     ],
     "id": ""
    }
   },
   "outputs": [],
   "source": [
    "// 语法\n",
    "Image(width, height)\n",
    "\n",
    "// 用法\n",
    "var myImage = new Image(100, 200);"
   ]
  },
  {
   "cell_type": "markdown",
   "id": "f88cdcaa",
   "metadata": {},
   "source": [
    "`<img>`实例的`src`属性可以定义图像的网址。"
   ]
  },
  {
   "cell_type": "code",
   "execution_count": null,
   "id": "05692ae8",
   "metadata": {
    "attributes": {
     "classes": [
      "javascript"
     ],
     "id": ""
    }
   },
   "outputs": [],
   "source": [
    "var img = new Image();\n",
    "img.src = 'picture.jpg';"
   ]
  },
  {
   "cell_type": "markdown",
   "id": "40457fd0",
   "metadata": {},
   "source": [
    "新生成的`<img>`实例并不属于文档的一部分。如果想让它显示在文档中，必须手动插入文档。"
   ]
  },
  {
   "cell_type": "code",
   "execution_count": null,
   "id": "3341035e",
   "metadata": {
    "attributes": {
     "classes": [
      "javascript"
     ],
     "id": ""
    }
   },
   "outputs": [],
   "source": [
    "var img = new Image();\n",
    "img.src = 'image1.png';\n",
    "document.body.appendChild(img);"
   ]
  },
  {
   "cell_type": "markdown",
   "id": "cd70a84a",
   "metadata": {},
   "source": [
    "除了使用`Image`构造，下面的方法也可以得到`HTMLImageElement`实例。\n",
    "\n",
    "- `document.images`的成员\n",
    "- 节点选取方法（比如`document.getElementById`）得到的`<img>`节点\n",
    "- `document.createElement('img')`生成的`<img>`节点"
   ]
  },
  {
   "cell_type": "code",
   "execution_count": null,
   "id": "f44fc779",
   "metadata": {
    "attributes": {
     "classes": [
      "javascript"
     ],
     "id": ""
    }
   },
   "outputs": [],
   "source": [
    "document.images[0] instanceof HTMLImageElement\n",
    "// true\n",
    "\n",
    "var img = document.getElementById('myImg');\n",
    "img instanceof HTMLImageElement\n",
    "// true\n",
    "\n",
    "var img = document.createElement('img');\n",
    "img instanceof HTMLImageElement\n",
    "// true"
   ]
  },
  {
   "cell_type": "markdown",
   "id": "09329b08",
   "metadata": {},
   "source": [
    "`HTMLImageElement`实例除了具有 Node、Element、HTMLElement 接口以外，还拥有一些独有的属性。这个接口没有定义自己的方法。\n",
    "\n",
    "## 特性相关的属性\n",
    "\n",
    "**（1）HTMLImageElement.src**\n",
    "\n",
    "`HTMLImageElement.src`属性返回图像的完整网址。"
   ]
  },
  {
   "cell_type": "code",
   "execution_count": null,
   "id": "3bcc7f9e",
   "metadata": {
    "attributes": {
     "classes": [
      "javascript"
     ],
     "id": ""
    }
   },
   "outputs": [],
   "source": [
    "// HTML 代码如下\n",
    "// <img width=\"300\" height=\"400\" id=\"myImg\" src=\"http://example.com/pic.jpg\">\n",
    "var img = document.getElementById('img');\n",
    "img.src // http://example.com/pic.jpg"
   ]
  },
  {
   "cell_type": "markdown",
   "id": "f51deb49",
   "metadata": {},
   "source": [
    "**（2）HTMLImageElement.currentSrc**\n",
    "\n",
    "`HTMLImageElement.currentSrc`属性返回当前正在展示的图像的网址。JavaScript 和 CSS 的 mediaQuery 都可能改变正在展示的图像。\n",
    "\n",
    "**（3）HTMLImageElement.alt**\n",
    "\n",
    "`HTMLImageElement.alt`属性可以读写`<img>`的 HTML 属性`alt`，表示对图片的文字说明。\n",
    "\n",
    "**（4）HTMLImageElement.isMap，HTMLImageElement.useMap**\n",
    "\n",
    "`HTMLImageElement.isMap`属性对应`<img>`元素的 HTML 属性`ismap`，返回一个布尔值，表示图像是否为服务器端的图像映射的一部分。\n",
    "\n",
    "`HTMLImageElement.useMap`属性对应`<img>`元素的 HTML 属性`usemap`，表示当前图像对应的`<map>`元素。\n",
    "\n",
    "**（5）HTMLImageElement.srcset，HTMLImageElement.sizes**\n",
    "\n",
    "`HTMLImageElement.srcset`属性和`HTMLImageElement.sizes`属性，分别用于读写`<img>`元素的`srcset`属性和`sizes`属性。它们用于`<img>`元素的响应式加载。`srcset`属性可以单独使用，但是`sizes`属性必须与`srcset`属性同时使用。"
   ]
  },
  {
   "cell_type": "code",
   "execution_count": null,
   "id": "3d610ebf",
   "metadata": {
    "attributes": {
     "classes": [
      "javascript"
     ],
     "id": ""
    }
   },
   "outputs": [],
   "source": [
    "// HTML 代码如下\n",
    "// <img srcset=\"example-320w.jpg 320w,\n",
    "//              example-480w.jpg 480w,\n",
    "//              example-800w.jpg 800w\"\n",
    "//      sizes=\"(max-width: 320px) 280px,\n",
    "//             (max-width: 480px) 440px,\n",
    "//             800px\"\n",
    "//      id=\"myImg\"\n",
    "//      src=\"example-800w.jpg\">\n",
    "var img = document.getElementById('myImg');\n",
    "img.srcset\n",
    "// \"example-320w.jpg 320w,\n",
    "//  example-480w.jpg 480w,\n",
    "//  example-800w.jpg 800w\"\n",
    "\n",
    "img.sizes\n",
    "// \"(max-width: 320px) 280px,\n",
    "//  (max-width: 480px) 440px,\n",
    "//  800px\""
   ]
  },
  {
   "cell_type": "markdown",
   "id": "7792450d",
   "metadata": {},
   "source": [
    "上面代码中，`sizes`属性指定，对于小于`320px`的屏幕，图像的宽度为`280px`；对于小于`480px`的屏幕，图像宽度为`440px`；其他情况下，图像宽度为`800px`。然后，浏览器会根据当前屏幕下的图像宽度，到`srcset`属性加载宽度最接近的图像。\n",
    "\n",
    "## HTMLImageElement.width，HTMLImageElement.height\n",
    "\n",
    "`width`属性表示`<img>`的 HTML 宽度，`height`属性表示高度。这两个属性返回的都是整数。"
   ]
  },
  {
   "cell_type": "code",
   "execution_count": null,
   "id": "448f03fd",
   "metadata": {
    "attributes": {
     "classes": [
      "javascript"
     ],
     "id": ""
    }
   },
   "outputs": [],
   "source": [
    "// HTML 代码如下\n",
    "// <img width=\"300\" height=\"400\" id=\"myImg\" src=\"pic.jpg\">\n",
    "var img = document.getElementById('img');\n",
    "img.width // 300\n",
    "img.height // 400"
   ]
  },
  {
   "cell_type": "markdown",
   "id": "59e5b704",
   "metadata": {},
   "source": [
    "如果图像还没有加载，这两个属性返回的都是`0`。\n",
    "\n",
    "如果 HTML 代码没有设置`width`和`height`属性，则它们返回的是图像的实际宽度和高度，即`HTMLImageElement.naturalWidth`属性和`HTMLImageElement.naturalHeight`属性。\n",
    "\n",
    "## HTMLImageElement.naturalWidth，HTMLImageElement.naturalHeight\n",
    "\n",
    "`HTMLImageElement.naturalWidth`属性表示图像的实际宽度（单位像素），`HTMLImageElement.naturalHeight`属性表示实际高度。这两个属性返回的都是整数。\n",
    "\n",
    "如果图像还没有指定或不可得，这两个属性都等于`0`。"
   ]
  },
  {
   "cell_type": "code",
   "execution_count": null,
   "id": "d909ebe0",
   "metadata": {
    "attributes": {
     "classes": [
      "javascript"
     ],
     "id": ""
    }
   },
   "outputs": [],
   "source": [
    "var img = document.getElementById('img');\n",
    "if (img.naturalHeight > img.naturalWidth) {\n",
    "  img.classList.add('portrait');\n",
    "}"
   ]
  },
  {
   "cell_type": "markdown",
   "id": "804262f4",
   "metadata": {},
   "source": [
    "上面代码中，如果图片的高度大于宽度，则设为`portrait`模式。\n",
    "\n",
    "## HTMLImageElement.complete\n",
    "\n",
    "`HTMLImageElement.complete`属性返回一个布尔值，表示图表是否已经加载完成。如果`<img>`元素没有`src`属性，也会返回`true`。\n",
    "\n",
    "## HTMLImageElement.crossOrigin\n",
    "\n",
    "`HTMLImageElement.crossOrigin`属性用于读写`<img>`元素的`crossorigin`属性，表示跨域设置。\n",
    "\n",
    "这个属性有两个可能的值。\n",
    "\n",
    "- `anonymous`：跨域请求不要求用户身份（credentials），这是默认值。\n",
    "- `use-credentials`：跨域请求要求用户身份。"
   ]
  },
  {
   "cell_type": "code",
   "execution_count": null,
   "id": "aefedf02",
   "metadata": {
    "attributes": {
     "classes": [
      "javascript"
     ],
     "id": ""
    }
   },
   "outputs": [],
   "source": [
    "// HTML 代码如下\n",
    "// <img crossorigin=\"anonymous\" id=\"myImg\" src=\"pic.jpg\">\n",
    "var img = document.getElementById('img');\n",
    "img.crossOrigin // \"anonymous\""
   ]
  },
  {
   "cell_type": "markdown",
   "id": "1bbb2229",
   "metadata": {},
   "source": [
    "## HTMLImageElement.referrerPolicy\n",
    "\n",
    "`HTMLImageElement.referrerPolicy`用来读写`<img>`元素的 HTML 属性`referrerpolicy`，表示请求图像资源时，如何处理 HTTP 请求的`referrer`字段。\n",
    "\n",
    "它有五个可能的值。\n",
    "\n",
    "- `no-referrer`：不带有`referrer`字段。\n",
    "- `no-referrer-when-downgrade`：如果请求的地址不是 HTTPS 协议，就不带有`referrer`字段，这是默认值。\n",
    "- `origin`：`referrer`字段是当前网页的地址，包含协议、域名和端口。\n",
    "- `origin-when-cross-origin`：如果请求的地址与当前网页是同源关系，那么`referrer`字段将带有完整路径，否则将只包含协议、域名和端口。\n",
    "- `unsafe-url`：`referrer`字段包含当前网页的地址，除了协议、域名和端口以外，还包括路径。这个设置是不安全的，因为会泄漏路径信息。\n",
    "\n",
    "## HTMLImageElement.x，HTMLImageElement.y\n",
    "\n",
    "`HTMLImageElement.x`属性返回图像左上角相对于页面左上角的横坐标，`HTMLImageElement.y`属性返回纵坐标。\n",
    "\n",
    "## 事件属性\n",
    "\n",
    "图像加载完成，会触发`onload`属性指定的回调函数。"
   ]
  },
  {
   "cell_type": "code",
   "execution_count": null,
   "id": "434a7db1",
   "metadata": {
    "attributes": {
     "classes": [
      "javascript"
     ],
     "id": ""
    }
   },
   "outputs": [],
   "source": [
    "// HTML 代码为 <img src=\"example.jpg\" onload=\"loadImage()\">\n",
    "function loadImage() {\n",
    "  console.log('Image is loaded');\n",
    "}"
   ]
  },
  {
   "cell_type": "markdown",
   "id": "eb325db8",
   "metadata": {},
   "source": [
    "图像加载过程中发生错误，会触发`onerror`属性指定的回调函数。"
   ]
  },
  {
   "cell_type": "code",
   "execution_count": null,
   "id": "57a61974",
   "metadata": {
    "attributes": {
     "classes": [
      "javascript"
     ],
     "id": ""
    }
   },
   "outputs": [],
   "source": [
    "// HTML 代码为 <img src=\"image.gif\" onerror=\"myFunction()\">\n",
    "function myFunction() {\n",
    "  console.log('There is something wrong');\n",
    "}"
   ]
  }
 ],
 "metadata": {},
 "nbformat": 4,
 "nbformat_minor": 5
}

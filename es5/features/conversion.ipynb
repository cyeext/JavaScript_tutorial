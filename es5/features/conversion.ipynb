{
 "cells": [
  {
   "cell_type": "markdown",
   "id": "801d2a1b",
   "metadata": {},
   "source": [
    "# 数据类型的转换\n",
    "\n",
    "## 概述\n",
    "\n",
    "JavaScript 是一种动态类型语言，变量没有类型限制，可以随时赋予任意值。"
   ]
  },
  {
   "cell_type": "code",
   "execution_count": null,
   "id": "a0e594e5",
   "metadata": {
    "attributes": {
     "classes": [
      "javascript"
     ],
     "id": ""
    }
   },
   "outputs": [],
   "source": [
    "var x = y ? 1 : 'a';"
   ]
  },
  {
   "cell_type": "markdown",
   "id": "12d2c826",
   "metadata": {},
   "source": [
    "上面代码中，变量`x`到底是数值还是字符串，取决于另一个变量`y`的值。`y`为`true`时，`x`是一个数值；`y`为`false`时，`x`是一个字符串。这意味着，`x`的类型没法在编译阶段就知道，必须等到运行时才能知道。\n",
    "\n",
    "虽然变量的数据类型是不确定的，但是各种运算符对数据类型是有要求的。如果运算符发现，运算子的类型与预期不符，就会自动转换类型。比如，减法运算符预期左右两侧的运算子应该是数值，如果不是，就会自动将它们转为数值。"
   ]
  },
  {
   "cell_type": "code",
   "execution_count": null,
   "id": "4485a7cd",
   "metadata": {
    "attributes": {
     "classes": [
      "javascript"
     ],
     "id": ""
    }
   },
   "outputs": [],
   "source": [
    "'4' - '3' // 1"
   ]
  },
  {
   "cell_type": "markdown",
   "id": "b9775f73",
   "metadata": {},
   "source": [
    "上面代码中，虽然是两个字符串相减，但是依然会得到结果数值`1`，原因就在于 JavaScript 将运算子自动转为了数值。\n",
    "\n",
    "本章讲解数据类型自动转换的规则。在此之前，先讲解如何手动强制转换数据类型。\n",
    "\n",
    "## 强制转换\n",
    "\n",
    "强制转换主要指使用`Number()`、`String()`和`Boolean()`三个函数，手动将各种类型的值，分别转换成数字、字符串或者布尔值。\n",
    "\n",
    "### Number()\n",
    "\n",
    "使用`Number`函数，可以将任意类型的值转化成数值。\n",
    "\n",
    "下面分成两种情况讨论，一种是参数是原始类型的值，另一种是参数是对象。\n",
    "\n",
    "**（1）原始类型值**\n",
    "\n",
    "原始类型值的转换规则如下。"
   ]
  },
  {
   "cell_type": "code",
   "execution_count": null,
   "id": "f1fb299f",
   "metadata": {
    "attributes": {
     "classes": [
      "javascript"
     ],
     "id": ""
    }
   },
   "outputs": [],
   "source": [
    "// 数值：转换后还是原来的值\n",
    "Number(324) // 324\n",
    "\n",
    "// 字符串：如果可以被解析为数值，则转换为相应的数值\n",
    "Number('324') // 324\n",
    "\n",
    "// 字符串：如果不可以被解析为数值，返回 NaN\n",
    "Number('324abc') // NaN\n",
    "\n",
    "// 空字符串转为0\n",
    "Number('') // 0\n",
    "\n",
    "// 布尔值：true 转成 1，false 转成 0\n",
    "Number(true) // 1\n",
    "Number(false) // 0\n",
    "\n",
    "// undefined：转成 NaN\n",
    "Number(undefined) // NaN\n",
    "\n",
    "// null：转成0\n",
    "Number(null) // 0"
   ]
  },
  {
   "cell_type": "markdown",
   "id": "90904a73",
   "metadata": {},
   "source": [
    "`Number`函数将字符串转为数值，要比`parseInt`函数严格很多。基本上，只要有一个字符无法转成数值，整个字符串就会被转为`NaN`。"
   ]
  },
  {
   "cell_type": "code",
   "execution_count": null,
   "id": "723f75ac",
   "metadata": {
    "attributes": {
     "classes": [
      "javascript"
     ],
     "id": ""
    }
   },
   "outputs": [],
   "source": [
    "parseInt('42 cats') // 42\n",
    "Number('42 cats') // NaN"
   ]
  },
  {
   "cell_type": "markdown",
   "id": "33a1cb0e",
   "metadata": {},
   "source": [
    "上面代码中，`parseInt`逐个解析字符，而`Number`函数整体转换字符串的类型。\n",
    "\n",
    "另外，`parseInt`和`Number`函数都会自动过滤一个字符串前导和后缀的空格。"
   ]
  },
  {
   "cell_type": "code",
   "execution_count": null,
   "id": "dc6d36d7",
   "metadata": {
    "attributes": {
     "classes": [
      "javascript"
     ],
     "id": ""
    }
   },
   "outputs": [],
   "source": [
    "parseInt('\\t\\v\\r12.34\\n') // 12\n",
    "Number('\\t\\v\\r12.34\\n') // 12.34"
   ]
  },
  {
   "cell_type": "markdown",
   "id": "f39ae95c",
   "metadata": {},
   "source": [
    "**（2）对象**\n",
    "\n",
    "简单的规则是，`Number`方法的参数是对象时，将返回`NaN`，除非是包含单个数值的数组。"
   ]
  },
  {
   "cell_type": "code",
   "execution_count": null,
   "id": "7e20ed70",
   "metadata": {
    "attributes": {
     "classes": [
      "javascript"
     ],
     "id": ""
    }
   },
   "outputs": [],
   "source": [
    "Number({a: 1}) // NaN\n",
    "Number([1, 2, 3]) // NaN\n",
    "Number([5]) // 5"
   ]
  },
  {
   "cell_type": "markdown",
   "id": "4fb38981",
   "metadata": {},
   "source": [
    "之所以会这样，是因为`Number`背后的转换规则比较复杂。\n",
    "\n",
    "第一步，调用对象自身的`valueOf`方法。如果返回原始类型的值，则直接对该值使用`Number`函数，不再进行后续步骤。\n",
    "\n",
    "第二步，如果`valueOf`方法返回的还是对象，则改为调用对象自身的`toString`方法。如果`toString`方法返回原始类型的值，则对该值使用`Number`函数，不再进行后续步骤。\n",
    "\n",
    "第三步，如果`toString`方法返回的是对象，就报错。\n",
    "\n",
    "请看下面的例子。"
   ]
  },
  {
   "cell_type": "code",
   "execution_count": null,
   "id": "a8929d20",
   "metadata": {
    "attributes": {
     "classes": [
      "javascript"
     ],
     "id": ""
    }
   },
   "outputs": [],
   "source": [
    "var obj = {x: 1};\n",
    "Number(obj) // NaN\n",
    "\n",
    "// 等同于\n",
    "if (typeof obj.valueOf() === 'object') {\n",
    "  Number(obj.toString());\n",
    "} else {\n",
    "  Number(obj.valueOf());\n",
    "}"
   ]
  },
  {
   "cell_type": "markdown",
   "id": "36eaaed5",
   "metadata": {},
   "source": [
    "上面代码中，`Number`函数将`obj`对象转为数值。背后发生了一连串的操作，首先调用`obj.valueOf`方法, 结果返回对象本身；于是，继续调用`obj.toString`方法，这时返回字符串`[object Object]`，对这个字符串使用`Number`函数，得到`NaN`。\n",
    "\n",
    "默认情况下，对象的`valueOf`方法返回对象本身，所以一般总是会调用`toString`方法，而`toString`方法返回对象的类型字符串（比如`[object Object]`）。所以，会有下面的结果。"
   ]
  },
  {
   "cell_type": "code",
   "execution_count": null,
   "id": "96ffba85",
   "metadata": {
    "attributes": {
     "classes": [
      "javascript"
     ],
     "id": ""
    }
   },
   "outputs": [],
   "source": [
    "Number({}) // NaN"
   ]
  },
  {
   "cell_type": "markdown",
   "id": "a9181e26",
   "metadata": {},
   "source": [
    "如果`toString`方法返回的不是原始类型的值，结果就会报错。"
   ]
  },
  {
   "cell_type": "code",
   "execution_count": null,
   "id": "bcb8b50b",
   "metadata": {
    "attributes": {
     "classes": [
      "javascript"
     ],
     "id": ""
    }
   },
   "outputs": [],
   "source": [
    "var obj = {\n",
    "  valueOf: function () {\n",
    "    return {};\n",
    "  },\n",
    "  toString: function () {\n",
    "    return {};\n",
    "  }\n",
    "};\n",
    "\n",
    "Number(obj)\n",
    "// TypeError: Cannot convert object to primitive value"
   ]
  },
  {
   "cell_type": "markdown",
   "id": "9b0f7aa9",
   "metadata": {},
   "source": [
    "上面代码的`valueOf`和`toString`方法，返回的都是对象，所以转成数值时会报错。\n",
    "\n",
    "从上例还可以看到，`valueOf`和`toString`方法，都是可以自定义的。"
   ]
  },
  {
   "cell_type": "code",
   "execution_count": null,
   "id": "18350a17",
   "metadata": {
    "attributes": {
     "classes": [
      "javascript"
     ],
     "id": ""
    }
   },
   "outputs": [],
   "source": [
    "Number({\n",
    "  valueOf: function () {\n",
    "    return 2;\n",
    "  }\n",
    "})\n",
    "// 2\n",
    "\n",
    "Number({\n",
    "  toString: function () {\n",
    "    return 3;\n",
    "  }\n",
    "})\n",
    "// 3\n",
    "\n",
    "Number({\n",
    "  valueOf: function () {\n",
    "    return 2;\n",
    "  },\n",
    "  toString: function () {\n",
    "    return 3;\n",
    "  }\n",
    "})\n",
    "// 2"
   ]
  },
  {
   "cell_type": "markdown",
   "id": "dca653ae",
   "metadata": {},
   "source": [
    "上面代码对三个对象使用`Number`函数。第一个对象返回`valueOf`方法的值，第二个对象返回`toString`方法的值，第三个对象表示`valueOf`方法先于`toString`方法执行。\n",
    "\n",
    "### String()\n",
    "\n",
    "`String`函数可以将任意类型的值转化成字符串，转换规则如下。\n",
    "\n",
    "**（1）原始类型值**\n",
    "\n",
    "- **数值**：转为相应的字符串。\n",
    "- **字符串**：转换后还是原来的值。\n",
    "- **布尔值**：`true`转为字符串`\"true\"`，`false`转为字符串`\"false\"`。\n",
    "- **undefined**：转为字符串`\"undefined\"`。\n",
    "- **null**：转为字符串`\"null\"`。"
   ]
  },
  {
   "cell_type": "code",
   "execution_count": null,
   "id": "704fc60b",
   "metadata": {
    "attributes": {
     "classes": [
      "javascript"
     ],
     "id": ""
    }
   },
   "outputs": [],
   "source": [
    "String(123) // \"123\"\n",
    "String('abc') // \"abc\"\n",
    "String(true) // \"true\"\n",
    "String(undefined) // \"undefined\"\n",
    "String(null) // \"null\""
   ]
  },
  {
   "cell_type": "markdown",
   "id": "977583bd",
   "metadata": {},
   "source": [
    "**（2）对象**\n",
    "\n",
    "`String`方法的参数如果是对象，返回一个类型字符串；如果是数组，返回该数组的字符串形式。"
   ]
  },
  {
   "cell_type": "code",
   "execution_count": null,
   "id": "74ef4d71",
   "metadata": {
    "attributes": {
     "classes": [
      "javascript"
     ],
     "id": ""
    }
   },
   "outputs": [],
   "source": [
    "String({a: 1}) // \"[object Object]\"\n",
    "String([1, 2, 3]) // \"1,2,3\""
   ]
  },
  {
   "cell_type": "markdown",
   "id": "1ae82cb9",
   "metadata": {},
   "source": [
    "`String`方法背后的转换规则，与`Number`方法基本相同，只是互换了`valueOf`方法和`toString`方法的执行顺序。\n",
    "\n",
    "1. 先调用对象自身的`toString`方法。如果返回原始类型的值，则对该值使用`String`函数，不再进行以下步骤。\n",
    "\n",
    "2. 如果`toString`方法返回的是对象，再调用原对象的`valueOf`方法。如果`valueOf`方法返回原始类型的值，则对该值使用`String`函数，不再进行以下步骤。\n",
    "\n",
    "3. 如果`valueOf`方法返回的是对象，就报错。\n",
    "\n",
    "下面是一个例子。"
   ]
  },
  {
   "cell_type": "code",
   "execution_count": null,
   "id": "92a7eeb2",
   "metadata": {
    "attributes": {
     "classes": [
      "javascript"
     ],
     "id": ""
    }
   },
   "outputs": [],
   "source": [
    "String({a: 1})\n",
    "// \"[object Object]\"\n",
    "\n",
    "// 等同于\n",
    "String({a: 1}.toString())\n",
    "// \"[object Object]\""
   ]
  },
  {
   "cell_type": "markdown",
   "id": "9cd6f370",
   "metadata": {},
   "source": [
    "上面代码先调用对象的`toString`方法，发现返回的是字符串`[object Object]`，就不再调用`valueOf`方法了。\n",
    "\n",
    "如果`toString`法和`valueOf`方法，返回的都是对象，就会报错。"
   ]
  },
  {
   "cell_type": "code",
   "execution_count": null,
   "id": "497641ca",
   "metadata": {
    "attributes": {
     "classes": [
      "javascript"
     ],
     "id": ""
    }
   },
   "outputs": [],
   "source": [
    "var obj = {\n",
    "  valueOf: function () {\n",
    "    return {};\n",
    "  },\n",
    "  toString: function () {\n",
    "    return {};\n",
    "  }\n",
    "};\n",
    "\n",
    "String(obj)\n",
    "// TypeError: Cannot convert object to primitive value"
   ]
  },
  {
   "cell_type": "markdown",
   "id": "c32231f7",
   "metadata": {},
   "source": [
    "下面是通过自定义`toString`方法，改变返回值的例子。"
   ]
  },
  {
   "cell_type": "code",
   "execution_count": null,
   "id": "da0e330f",
   "metadata": {
    "attributes": {
     "classes": [
      "javascript"
     ],
     "id": ""
    }
   },
   "outputs": [],
   "source": [
    "String({\n",
    "  toString: function () {\n",
    "    return 3;\n",
    "  }\n",
    "})\n",
    "// \"3\"\n",
    "\n",
    "String({\n",
    "  valueOf: function () {\n",
    "    return 2;\n",
    "  }\n",
    "})\n",
    "// \"[object Object]\"\n",
    "\n",
    "String({\n",
    "  valueOf: function () {\n",
    "    return 2;\n",
    "  },\n",
    "  toString: function () {\n",
    "    return 3;\n",
    "  }\n",
    "})\n",
    "// \"3\""
   ]
  },
  {
   "cell_type": "markdown",
   "id": "7a2b2ce7",
   "metadata": {},
   "source": [
    "上面代码对三个对象使用`String`函数。第一个对象返回`toString`方法的值（数值3），第二个对象返回的还是`toString`方法的值（`[object Object]`），第三个对象表示`toString`方法先于`valueOf`方法执行。\n",
    "\n",
    "### Boolean()\n",
    "\n",
    "`Boolean()`函数可以将任意类型的值转为布尔值。\n",
    "\n",
    "它的转换规则相对简单：除了以下五个值的转换结果为`false`，其他的值全部为`true`。\n",
    "\n",
    "- `undefined`\n",
    "- `null`\n",
    "- `0`（包含`-0`和`+0`）\n",
    "- `NaN`\n",
    "- `''`（空字符串）"
   ]
  },
  {
   "cell_type": "code",
   "execution_count": null,
   "id": "fc5d80d3",
   "metadata": {
    "attributes": {
     "classes": [
      "javascript"
     ],
     "id": ""
    }
   },
   "outputs": [],
   "source": [
    "Boolean(undefined) // false\n",
    "Boolean(null) // false\n",
    "Boolean(0) // false\n",
    "Boolean(NaN) // false\n",
    "Boolean('') // false"
   ]
  },
  {
   "cell_type": "markdown",
   "id": "3ef8bd66",
   "metadata": {},
   "source": [
    "当然，`true`和`false`这两个布尔值不会发生变化。"
   ]
  },
  {
   "cell_type": "code",
   "execution_count": null,
   "id": "a4a68ff6",
   "metadata": {
    "attributes": {
     "classes": [
      "javascript"
     ],
     "id": ""
    }
   },
   "outputs": [],
   "source": [
    "Boolean(true) // true\n",
    "Boolean(false) // false"
   ]
  },
  {
   "cell_type": "markdown",
   "id": "d178ca14",
   "metadata": {},
   "source": [
    "注意，所有对象（包括空对象）的转换结果都是`true`，甚至连`false`对应的布尔对象`new Boolean(false)`也是`true`（详见《原始类型值的包装对象》一章）。"
   ]
  },
  {
   "cell_type": "code",
   "execution_count": null,
   "id": "fd945660",
   "metadata": {
    "attributes": {
     "classes": [
      "javascript"
     ],
     "id": ""
    }
   },
   "outputs": [],
   "source": [
    "Boolean({}) // true\n",
    "Boolean([]) // true\n",
    "Boolean(new Boolean(false)) // true"
   ]
  },
  {
   "cell_type": "markdown",
   "id": "793d2078",
   "metadata": {},
   "source": [
    "所有对象的布尔值都是`true`，这是因为 JavaScript 语言设计的时候，出于性能的考虑，如果对象需要计算才能得到布尔值，对于`obj1 && obj2`这样的场景，可能会需要较多的计算。为了保证性能，就统一规定，对象的布尔值为`true`。\n",
    "\n",
    "## 自动转换\n",
    "\n",
    "下面介绍自动转换，它是以强制转换为基础的。\n",
    "\n",
    "遇到以下三种情况时，JavaScript 会自动转换数据类型，即转换是自动完成的，用户不可见。\n",
    "\n",
    "第一种情况，不同类型的数据互相运算。"
   ]
  },
  {
   "cell_type": "code",
   "execution_count": null,
   "id": "53c57643",
   "metadata": {
    "attributes": {
     "classes": [
      "javascript"
     ],
     "id": ""
    }
   },
   "outputs": [],
   "source": [
    "123 + 'abc' // \"123abc\""
   ]
  },
  {
   "cell_type": "markdown",
   "id": "606bff85",
   "metadata": {},
   "source": [
    "第二种情况，对非布尔值类型的数据求布尔值。"
   ]
  },
  {
   "cell_type": "code",
   "execution_count": null,
   "id": "5e7e118e",
   "metadata": {
    "attributes": {
     "classes": [
      "javascript"
     ],
     "id": ""
    }
   },
   "outputs": [],
   "source": [
    "if ('abc') {\n",
    "  console.log('hello')\n",
    "}  // \"hello\""
   ]
  },
  {
   "cell_type": "markdown",
   "id": "86e0783b",
   "metadata": {},
   "source": [
    "第三种情况，对非数值类型的值使用一元运算符（即`+`和`-`）。"
   ]
  },
  {
   "cell_type": "code",
   "execution_count": null,
   "id": "ae3f78f1",
   "metadata": {
    "attributes": {
     "classes": [
      "javascript"
     ],
     "id": ""
    }
   },
   "outputs": [],
   "source": [
    "+ {foo: 'bar'} // NaN\n",
    "- [1, 2, 3] // NaN"
   ]
  },
  {
   "cell_type": "markdown",
   "id": "1d19d25b",
   "metadata": {},
   "source": [
    "自动转换的规则是这样的：预期什么类型的值，就调用该类型的转换函数。比如，某个位置预期为字符串，就调用`String()`函数进行转换。如果该位置既可以是字符串，也可能是数值，那么默认转为数值。\n",
    "\n",
    "由于自动转换具有不确定性，而且不易除错，建议在预期为布尔值、数值、字符串的地方，全部使用`Boolean()`、`Number()`和`String()`函数进行显式转换。\n",
    "\n",
    "### 自动转换为布尔值\n",
    "\n",
    "JavaScript 遇到预期为布尔值的地方（比如`if`语句的条件部分），就会将非布尔值的参数自动转换为布尔值。系统内部会自动调用`Boolean()`函数。\n",
    "\n",
    "因此除了以下五个值，其他都是自动转为`true`。\n",
    "\n",
    "- `undefined`\n",
    "- `null`\n",
    "- `+0`或`-0`\n",
    "- `NaN`\n",
    "- `''`（空字符串）\n",
    "\n",
    "下面这个例子中，条件部分的每个值都相当于`false`，使用否定运算符后，就变成了`true`。"
   ]
  },
  {
   "cell_type": "code",
   "execution_count": null,
   "id": "a36bf276",
   "metadata": {
    "attributes": {
     "classes": [
      "javascript"
     ],
     "id": ""
    }
   },
   "outputs": [],
   "source": [
    "if ( !undefined\n",
    "  && !null\n",
    "  && !0\n",
    "  && !NaN\n",
    "  && !''\n",
    ") {\n",
    "  console.log('true');\n",
    "} // true"
   ]
  },
  {
   "cell_type": "markdown",
   "id": "252d9ecc",
   "metadata": {},
   "source": [
    "下面两种写法，有时也用于将一个表达式转为布尔值。它们内部调用的也是`Boolean()`函数。"
   ]
  },
  {
   "cell_type": "code",
   "execution_count": null,
   "id": "1fbd6a71",
   "metadata": {
    "attributes": {
     "classes": [
      "javascript"
     ],
     "id": ""
    }
   },
   "outputs": [],
   "source": [
    "// 写法一\n",
    "expression ? true : false\n",
    "\n",
    "// 写法二\n",
    "!! expression"
   ]
  },
  {
   "cell_type": "markdown",
   "id": "51481060",
   "metadata": {},
   "source": [
    "### 自动转换为字符串\n",
    "\n",
    "JavaScript 遇到预期为字符串的地方，就会将非字符串的值自动转为字符串。具体规则是，先将复合类型的值转为原始类型的值，再将原始类型的值转为字符串。\n",
    "\n",
    "字符串的自动转换，主要发生在字符串的加法运算时。当一个值为字符串，另一个值为非字符串，则后者转为字符串。"
   ]
  },
  {
   "cell_type": "code",
   "execution_count": null,
   "id": "4d54035c",
   "metadata": {
    "attributes": {
     "classes": [
      "javascript"
     ],
     "id": ""
    }
   },
   "outputs": [],
   "source": [
    "'5' + 1 // '51'\n",
    "'5' + true // \"5true\"\n",
    "'5' + false // \"5false\"\n",
    "'5' + {} // \"5[object Object]\"\n",
    "'5' + [] // \"5\"\n",
    "'5' + function (){} // \"5function (){}\"\n",
    "'5' + undefined // \"5undefined\"\n",
    "'5' + null // \"5null\""
   ]
  },
  {
   "cell_type": "markdown",
   "id": "330dd6d1",
   "metadata": {},
   "source": [
    "这种自动转换很容易出错。"
   ]
  },
  {
   "cell_type": "code",
   "execution_count": null,
   "id": "c44d8caa",
   "metadata": {
    "attributes": {
     "classes": [
      "javascript"
     ],
     "id": ""
    }
   },
   "outputs": [],
   "source": [
    "var obj = {\n",
    "  width: '100'\n",
    "};\n",
    "\n",
    "obj.width + 20 // \"10020\""
   ]
  },
  {
   "cell_type": "markdown",
   "id": "be7a092b",
   "metadata": {},
   "source": [
    "上面代码中，开发者可能期望返回`120`，但是由于自动转换，实际上返回了一个字符`10020`。\n",
    "\n",
    "### 自动转换为数值\n",
    "\n",
    "JavaScript 遇到预期为数值的地方，就会将参数值自动转换为数值。系统内部会自动调用`Number()`函数。\n",
    "\n",
    "除了加法运算符（`+`）有可能把运算子转为字符串，其他运算符都会把运算子自动转成数值。"
   ]
  },
  {
   "cell_type": "code",
   "execution_count": null,
   "id": "f2cf0dce",
   "metadata": {
    "attributes": {
     "classes": [
      "javascript"
     ],
     "id": ""
    }
   },
   "outputs": [],
   "source": [
    "'5' - '2' // 3\n",
    "'5' * '2' // 10\n",
    "true - 1  // 0\n",
    "false - 1 // -1\n",
    "'1' - 1   // 0\n",
    "'5' * []    // 0\n",
    "false / '5' // 0\n",
    "'abc' - 1   // NaN\n",
    "null + 1 // 1\n",
    "undefined + 1 // NaN"
   ]
  },
  {
   "cell_type": "markdown",
   "id": "37448c84",
   "metadata": {},
   "source": [
    "上面代码中，运算符两侧的运算子，都被转成了数值。\n",
    "\n",
    "> 注意：`null`转为数值时为`0`，而`undefined`转为数值时为`NaN`。\n",
    "\n",
    "一元运算符也会把运算子转成数值。"
   ]
  },
  {
   "cell_type": "code",
   "execution_count": null,
   "id": "6b61daab",
   "metadata": {
    "attributes": {
     "classes": [
      "javascript"
     ],
     "id": ""
    }
   },
   "outputs": [],
   "source": [
    "+'abc' // NaN\n",
    "-'abc' // NaN\n",
    "+true // 1\n",
    "-false // 0"
   ]
  },
  {
   "cell_type": "markdown",
   "id": "fdcd0d6b",
   "metadata": {},
   "source": [
    "## 参考链接\n",
    "\n",
    "- Axel Rauschmayer, [What is {} + {} in JavaScript?](http://www.2ality.com/2012/01/object-plus-object.html)\n",
    "- Axel Rauschmayer, [JavaScript quirk 1: implicit conversion of values](http://www.2ality.com/2013/04/quirk-implicit-conversion.html)\n",
    "- Benjie Gillam, [Quantum JavaScript?](http://www.benjiegillam.com/2013/06/quantum-javascript/)"
   ]
  }
 ],
 "metadata": {},
 "nbformat": 4,
 "nbformat_minor": 5
}

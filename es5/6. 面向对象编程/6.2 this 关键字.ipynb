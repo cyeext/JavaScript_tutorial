{
 "cells": [
  {
   "cell_type": "markdown",
   "id": "29b965f1",
   "metadata": {},
   "source": [
    "# this 关键字\n",
    "\n",
    "## 涵义\n",
    "\n",
    "`this`关键字是一个非常重要的语法点。毫不夸张地说，不理解它的含义，大部分开发任务都无法完成。\n",
    "\n",
    "前一章已经提到，`this`可以用在构造函数之中，表示实例对象。除此之外，`this`还可以用在别的场合。但不管是什么场合，`this`都有一个共同点：它总是返回一个对象。\n",
    "\n",
    "简单说，`this`就是属性或方法“当前”所在的对象。"
   ]
  },
  {
   "cell_type": "code",
   "execution_count": null,
   "id": "b79b1a61",
   "metadata": {
    "attributes": {
     "classes": [
      "javascript"
     ],
     "id": ""
    }
   },
   "outputs": [],
   "source": [
    "this.property"
   ]
  },
  {
   "cell_type": "markdown",
   "id": "ac575fff",
   "metadata": {},
   "source": [
    "上面代码中，`this`就代表`property`属性当前所在的对象。\n",
    "\n",
    "下面是一个实际的例子。"
   ]
  },
  {
   "cell_type": "code",
   "execution_count": null,
   "id": "7f7d7004",
   "metadata": {
    "attributes": {
     "classes": [
      "javascript"
     ],
     "id": ""
    }
   },
   "outputs": [],
   "source": [
    "var person = {\n",
    "  name: '张三',\n",
    "  describe: function () {\n",
    "    return '姓名：'+ this.name;\n",
    "  }\n",
    "};\n",
    "\n",
    "person.describe()\n",
    "// \"姓名：张三\""
   ]
  },
  {
   "cell_type": "markdown",
   "id": "b5094108",
   "metadata": {},
   "source": [
    "上面代码中，`this.name`表示`name`属性所在的那个对象。由于`this.name`是在`describe`方法中调用，而`describe`方法所在的当前对象是`person`，因此`this`指向`person`，`this.name`就是`person.name`。\n",
    "\n",
    "由于对象的属性可以赋给另一个对象，所以属性所在的当前对象是可变的，即`this`的指向是可变的。"
   ]
  },
  {
   "cell_type": "code",
   "execution_count": null,
   "id": "00c66095",
   "metadata": {
    "attributes": {
     "classes": [
      "javascript"
     ],
     "id": ""
    }
   },
   "outputs": [],
   "source": [
    "var A = {\n",
    "  name: '张三',\n",
    "  describe: function () {\n",
    "    return '姓名：'+ this.name;\n",
    "  }\n",
    "};\n",
    "\n",
    "var B = {\n",
    "  name: '李四'\n",
    "};\n",
    "\n",
    "B.describe = A.describe;\n",
    "B.describe()\n",
    "// \"姓名：李四\""
   ]
  },
  {
   "cell_type": "markdown",
   "id": "f8c9e37e",
   "metadata": {},
   "source": [
    "上面代码中，`A.describe`属性被赋给`B`，于是`B.describe`就表示`describe`方法所在的当前对象是`B`，所以`this.name`就指向`B.name`。\n",
    "\n",
    "稍稍重构这个例子，`this`的动态指向就能看得更清楚。"
   ]
  },
  {
   "cell_type": "code",
   "execution_count": null,
   "id": "8db0a193",
   "metadata": {
    "attributes": {
     "classes": [
      "javascript"
     ],
     "id": ""
    }
   },
   "outputs": [],
   "source": [
    "function f() {\n",
    "  return '姓名：'+ this.name;\n",
    "}\n",
    "\n",
    "var A = {\n",
    "  name: '张三',\n",
    "  describe: f\n",
    "};\n",
    "\n",
    "var B = {\n",
    "  name: '李四',\n",
    "  describe: f\n",
    "};\n",
    "\n",
    "A.describe() // \"姓名：张三\"\n",
    "B.describe() // \"姓名：李四\""
   ]
  },
  {
   "cell_type": "markdown",
   "id": "302ddb18",
   "metadata": {},
   "source": [
    "上面代码中，函数`f`内部使用了`this`关键字，随着`f`所在的对象不同，`this`的指向也不同。\n",
    "\n",
    "只要函数被赋给另一个变量，`this`的指向就会变。"
   ]
  },
  {
   "cell_type": "code",
   "execution_count": null,
   "id": "cbd4f6f5",
   "metadata": {
    "attributes": {
     "classes": [
      "javascript"
     ],
     "id": ""
    }
   },
   "outputs": [],
   "source": [
    "var A = {\n",
    "  name: '张三',\n",
    "  describe: function () {\n",
    "    return '姓名：'+ this.name;\n",
    "  }\n",
    "};\n",
    "\n",
    "var name = '李四';\n",
    "var f = A.describe;\n",
    "f() // \"姓名：李四\""
   ]
  },
  {
   "cell_type": "markdown",
   "id": "3f851ef3",
   "metadata": {},
   "source": [
    "上面代码中，`A.describe`被赋值给变量`f`，内部的`this`就会指向`f`运行时所在的对象（本例是顶层对象）。\n",
    "\n",
    "再看一个网页编程的例子。"
   ]
  },
  {
   "cell_type": "code",
   "execution_count": null,
   "id": "bf8d863b",
   "metadata": {
    "attributes": {
     "classes": [
      "html"
     ],
     "id": ""
    }
   },
   "outputs": [],
   "source": [
    "<input type=\"text\" name=\"age\" size=3 onChange=\"validate(this, 18, 99);\">\n",
    "\n",
    "<script>\n",
    "function validate(obj, lowval, hival){\n",
    "  if ((obj.value < lowval) || (obj.value > hival))\n",
    "    console.log('Invalid Value!');\n",
    "}\n",
    "</script>"
   ]
  },
  {
   "cell_type": "markdown",
   "id": "a0960826",
   "metadata": {},
   "source": [
    "上面代码是一个文本输入框，每当用户输入一个值，就会调用`onChange`回调函数，验证这个值是否在指定范围。浏览器会向回调函数传入当前对象，因此`this`就代表传入当前对象（即文本框），然后就可以从`this.value`上面读到用户的输入值。\n",
    "\n",
    "总结一下，JavaScript 语言之中，一切皆对象，运行环境也是对象，所以函数都是在某个对象之中运行，`this`就是函数运行时所在的对象（环境）。这本来并不会让用户糊涂，但是 JavaScript 支持运行环境动态切换，也就是说，`this`的指向是动态的，没有办法事先确定到底指向哪个对象，这才是最让初学者感到困惑的地方。\n",
    "\n",
    "## 实质\n",
    "\n",
    "JavaScript 语言之所以有 this 的设计，跟内存里面的数据结构有关系。"
   ]
  },
  {
   "cell_type": "code",
   "execution_count": null,
   "id": "68e9f8a2",
   "metadata": {
    "attributes": {
     "classes": [
      "javascript"
     ],
     "id": ""
    }
   },
   "outputs": [],
   "source": [
    "var obj = { foo:  5 };"
   ]
  },
  {
   "cell_type": "markdown",
   "id": "a0834c1c",
   "metadata": {},
   "source": [
    "上面的代码将一个对象赋值给变量`obj`。JavaScript 引擎会先在内存里面，生成一个对象`{ foo: 5 }`，然后把这个对象的内存地址赋值给变量`obj`。也就是说，变量`obj`是一个地址（reference）。后面如果要读取`obj.foo`，引擎先从`obj`拿到内存地址，然后再从该地址读出原始的对象，返回它的`foo`属性。\n",
    "\n",
    "原始的对象以字典结构保存，每一个属性名都对应一个属性描述对象。举例来说，上面例子的`foo`属性，实际上是以下面的形式保存的。"
   ]
  },
  {
   "cell_type": "code",
   "execution_count": null,
   "id": "9104f0ef",
   "metadata": {
    "attributes": {
     "classes": [
      "javascript"
     ],
     "id": ""
    }
   },
   "outputs": [],
   "source": [
    "{\n",
    "  foo: {\n",
    "    [[value]]: 5\n",
    "    [[writable]]: true\n",
    "    [[enumerable]]: true\n",
    "    [[configurable]]: true\n",
    "  }\n",
    "}"
   ]
  },
  {
   "cell_type": "markdown",
   "id": "9f538717",
   "metadata": {},
   "source": [
    "注意，`foo`属性的值保存在属性描述对象的`value`属性里面。\n",
    "\n",
    "这样的结构是很清晰的，问题在于属性的值可能是一个函数。"
   ]
  },
  {
   "cell_type": "code",
   "execution_count": null,
   "id": "4d09facf",
   "metadata": {
    "attributes": {
     "classes": [
      "javascript"
     ],
     "id": ""
    }
   },
   "outputs": [],
   "source": [
    "var obj = { foo: function () {} };"
   ]
  },
  {
   "cell_type": "markdown",
   "id": "3a56a52c",
   "metadata": {},
   "source": [
    "这时，引擎会将函数单独保存在内存中，然后再将函数的地址赋值给`foo`属性的`value`属性。"
   ]
  },
  {
   "cell_type": "code",
   "execution_count": null,
   "id": "95af100f",
   "metadata": {
    "attributes": {
     "classes": [
      "javascript"
     ],
     "id": ""
    }
   },
   "outputs": [],
   "source": [
    "{\n",
    "  foo: {\n",
    "    [[value]]: 函数的地址\n",
    "    ...\n",
    "  }\n",
    "}"
   ]
  },
  {
   "cell_type": "markdown",
   "id": "6496567a",
   "metadata": {},
   "source": [
    "由于函数是一个单独的值，所以它可以在不同的环境（上下文）执行。"
   ]
  },
  {
   "cell_type": "code",
   "execution_count": null,
   "id": "782cc67f",
   "metadata": {
    "attributes": {
     "classes": [
      "javascript"
     ],
     "id": ""
    }
   },
   "outputs": [],
   "source": [
    "var f = function () {};\n",
    "var obj = { f: f };\n",
    "\n",
    "// 单独执行\n",
    "f()\n",
    "\n",
    "// obj 环境执行\n",
    "obj.f()"
   ]
  },
  {
   "cell_type": "markdown",
   "id": "6113886f",
   "metadata": {},
   "source": [
    "JavaScript 允许在函数体内部，引用当前环境的其他变量。"
   ]
  },
  {
   "cell_type": "code",
   "execution_count": null,
   "id": "60700653",
   "metadata": {
    "attributes": {
     "classes": [
      "javascript"
     ],
     "id": ""
    }
   },
   "outputs": [],
   "source": [
    "var f = function () {\n",
    "  console.log(x);\n",
    "};"
   ]
  },
  {
   "cell_type": "markdown",
   "id": "c343deb2",
   "metadata": {},
   "source": [
    "上面代码中，函数体里面使用了变量`x`。该变量由运行环境提供。\n",
    "\n",
    "现在问题就来了，由于函数可以在不同的运行环境执行，所以需要有一种机制，能够在函数体内部获得当前的运行环境（context）。所以，`this`就出现了，它的设计目的就是在函数体内部，指代函数当前的运行环境。"
   ]
  },
  {
   "cell_type": "code",
   "execution_count": null,
   "id": "a67d8791",
   "metadata": {
    "attributes": {
     "classes": [
      "javascript"
     ],
     "id": ""
    }
   },
   "outputs": [],
   "source": [
    "var f = function () {\n",
    "  console.log(this.x);\n",
    "}"
   ]
  },
  {
   "cell_type": "markdown",
   "id": "70f3ce37",
   "metadata": {},
   "source": [
    "上面代码中，函数体里面的`this.x`就是指当前运行环境的`x`。"
   ]
  },
  {
   "cell_type": "code",
   "execution_count": null,
   "id": "d0087fd4",
   "metadata": {
    "attributes": {
     "classes": [
      "javascript"
     ],
     "id": ""
    }
   },
   "outputs": [],
   "source": [
    "var f = function () {\n",
    "  console.log(this.x);\n",
    "}\n",
    "\n",
    "var x = 1;\n",
    "var obj = {\n",
    "  f: f,\n",
    "  x: 2,\n",
    "};\n",
    "\n",
    "// 单独执行\n",
    "f() // 1\n",
    "\n",
    "// obj 环境执行\n",
    "obj.f() // 2"
   ]
  },
  {
   "cell_type": "markdown",
   "id": "26d55e56",
   "metadata": {},
   "source": [
    "上面代码中，函数`f`在全局环境执行，`this.x`指向全局环境的`x`；在`obj`环境执行，`this.x`指向`obj.x`。\n",
    "\n",
    "## 使用场合\n",
    "\n",
    "`this`主要有以下几个使用场合。\n",
    "\n",
    "**（1）全局环境**\n",
    "\n",
    "全局环境使用`this`，它指的就是顶层对象`window`。"
   ]
  },
  {
   "cell_type": "code",
   "execution_count": null,
   "id": "738d1412",
   "metadata": {
    "attributes": {
     "classes": [
      "javascript"
     ],
     "id": ""
    }
   },
   "outputs": [],
   "source": [
    "this === window // true\n",
    "\n",
    "function f() {\n",
    "  console.log(this === window);\n",
    "}\n",
    "f() // true"
   ]
  },
  {
   "cell_type": "markdown",
   "id": "59fe8efb",
   "metadata": {},
   "source": [
    "上面代码说明，不管是不是在函数内部，只要是在全局环境下运行，`this`就是指顶层对象`window`。\n",
    "\n",
    "**（2）构造函数**\n",
    "\n",
    "构造函数中的`this`，指的是实例对象。"
   ]
  },
  {
   "cell_type": "code",
   "execution_count": null,
   "id": "7bae8361",
   "metadata": {
    "attributes": {
     "classes": [
      "javascript"
     ],
     "id": ""
    }
   },
   "outputs": [],
   "source": [
    "var Obj = function (p) {\n",
    "  this.p = p;\n",
    "};"
   ]
  },
  {
   "cell_type": "markdown",
   "id": "64cc4dc2",
   "metadata": {},
   "source": [
    "上面代码定义了一个构造函数`Obj`。由于`this`指向实例对象，所以在构造函数内部定义`this.p`，就相当于定义实例对象有一个`p`属性。"
   ]
  },
  {
   "cell_type": "code",
   "execution_count": null,
   "id": "a1907df6",
   "metadata": {
    "attributes": {
     "classes": [
      "javascript"
     ],
     "id": ""
    }
   },
   "outputs": [],
   "source": [
    "var o = new Obj('Hello World!');\n",
    "o.p // \"Hello World!\""
   ]
  },
  {
   "cell_type": "markdown",
   "id": "4fae938b",
   "metadata": {},
   "source": [
    "**（3）对象的方法**\n",
    "\n",
    "如果对象的方法里面包含`this`，`this`的指向就是方法运行时所在的对象。该方法赋值给另一个对象，就会改变`this`的指向。\n",
    "\n",
    "但是，这条规则很不容易把握。请看下面的代码。"
   ]
  },
  {
   "cell_type": "code",
   "execution_count": null,
   "id": "aab562e8",
   "metadata": {
    "attributes": {
     "classes": [
      "javascript"
     ],
     "id": ""
    }
   },
   "outputs": [],
   "source": [
    "var obj ={\n",
    "  foo: function () {\n",
    "    console.log(this);\n",
    "  }\n",
    "};\n",
    "\n",
    "obj.foo() // obj"
   ]
  },
  {
   "cell_type": "markdown",
   "id": "2b5b6bd0",
   "metadata": {},
   "source": [
    "上面代码中，`obj.foo`方法执行时，它内部的`this`指向`obj`。\n",
    "\n",
    "但是，下面这几种用法，都会改变`this`的指向。"
   ]
  },
  {
   "cell_type": "code",
   "execution_count": null,
   "id": "8f3024dc",
   "metadata": {
    "attributes": {
     "classes": [
      "javascript"
     ],
     "id": ""
    }
   },
   "outputs": [],
   "source": [
    "// 情况一\n",
    "(obj.foo = obj.foo)() // window\n",
    "// 情况二\n",
    "(false || obj.foo)() // window\n",
    "// 情况三\n",
    "(1, obj.foo)() // window"
   ]
  },
  {
   "cell_type": "markdown",
   "id": "d079655e",
   "metadata": {},
   "source": [
    "上面代码中，`obj.foo`就是一个值。这个值真正调用的时候，运行环境已经不是`obj`了，而是全局环境，所以`this`不再指向`obj`。\n",
    "\n",
    "可以这样理解，JavaScript 引擎内部，`obj`和`obj.foo`储存在两个内存地址，称为地址一和地址二。`obj.foo()`这样调用时，是从地址一调用地址二，因此地址二的运行环境是地址一，`this`指向`obj`。但是，上面三种情况，都是直接取出地址二进行调用，这样的话，运行环境就是全局环境，因此`this`指向全局环境。上面三种情况等同于下面的代码。"
   ]
  },
  {
   "cell_type": "code",
   "execution_count": null,
   "id": "62f13b15",
   "metadata": {
    "attributes": {
     "classes": [
      "javascript"
     ],
     "id": ""
    }
   },
   "outputs": [],
   "source": [
    "// 情况一\n",
    "(obj.foo = function () {\n",
    "  console.log(this);\n",
    "})()\n",
    "// 等同于\n",
    "(function () {\n",
    "  console.log(this);\n",
    "})()\n",
    "\n",
    "// 情况二\n",
    "(false || function () {\n",
    "  console.log(this);\n",
    "})()\n",
    "\n",
    "// 情况三\n",
    "(1, function () {\n",
    "  console.log(this);\n",
    "})()"
   ]
  },
  {
   "cell_type": "markdown",
   "id": "4048b413",
   "metadata": {},
   "source": [
    "如果`this`所在的方法不在对象的第一层，这时`this`只是指向当前一层的对象，而不会继承更上面的层。"
   ]
  },
  {
   "cell_type": "code",
   "execution_count": null,
   "id": "b298a996",
   "metadata": {
    "attributes": {
     "classes": [
      "javascript"
     ],
     "id": ""
    }
   },
   "outputs": [],
   "source": [
    "var a = {\n",
    "  p: 'Hello',\n",
    "  b: {\n",
    "    m: function() {\n",
    "      console.log(this.p);\n",
    "    }\n",
    "  }\n",
    "};\n",
    "\n",
    "a.b.m() // undefined"
   ]
  },
  {
   "cell_type": "markdown",
   "id": "911412e3",
   "metadata": {},
   "source": [
    "上面代码中，`a.b.m`方法在`a`对象的第二层，该方法内部的`this`不是指向`a`，而是指向`a.b`，因为实际执行的是下面的代码。"
   ]
  },
  {
   "cell_type": "code",
   "execution_count": null,
   "id": "b36202f8",
   "metadata": {
    "attributes": {
     "classes": [
      "javascript"
     ],
     "id": ""
    }
   },
   "outputs": [],
   "source": [
    "var b = {\n",
    "  m: function() {\n",
    "   console.log(this.p);\n",
    "  }\n",
    "};\n",
    "\n",
    "var a = {\n",
    "  p: 'Hello',\n",
    "  b: b\n",
    "};\n",
    "\n",
    "(a.b).m() // 等同于 b.m()"
   ]
  },
  {
   "cell_type": "markdown",
   "id": "9b343956",
   "metadata": {},
   "source": [
    "如果要达到预期效果，只有写成下面这样。"
   ]
  },
  {
   "cell_type": "code",
   "execution_count": null,
   "id": "558a5514",
   "metadata": {
    "attributes": {
     "classes": [
      "javascript"
     ],
     "id": ""
    }
   },
   "outputs": [],
   "source": [
    "var a = {\n",
    "  b: {\n",
    "    m: function() {\n",
    "      console.log(this.p);\n",
    "    },\n",
    "    p: 'Hello'\n",
    "  }\n",
    "};"
   ]
  },
  {
   "cell_type": "markdown",
   "id": "dd8f42c2",
   "metadata": {},
   "source": [
    "如果这时将嵌套对象内部的方法赋值给一个变量，`this`依然会指向全局对象。"
   ]
  },
  {
   "cell_type": "code",
   "execution_count": null,
   "id": "2778e98b",
   "metadata": {
    "attributes": {
     "classes": [
      "javascript"
     ],
     "id": ""
    }
   },
   "outputs": [],
   "source": [
    "var a = {\n",
    "  b: {\n",
    "    m: function() {\n",
    "      console.log(this.p);\n",
    "    },\n",
    "    p: 'Hello'\n",
    "  }\n",
    "};\n",
    "\n",
    "var hello = a.b.m;\n",
    "hello() // undefined"
   ]
  },
  {
   "cell_type": "markdown",
   "id": "b2b8e838",
   "metadata": {},
   "source": [
    "上面代码中，`m`是多层对象内部的一个方法。为求简便，将其赋值给`hello`变量，结果调用时，`this`指向了顶层对象。为了避免这个问题，可以只将`m`所在的对象赋值给`hello`，这样调用时，`this`的指向就不会变。"
   ]
  },
  {
   "cell_type": "code",
   "execution_count": null,
   "id": "9e37e215",
   "metadata": {
    "attributes": {
     "classes": [
      "javascript"
     ],
     "id": ""
    }
   },
   "outputs": [],
   "source": [
    "var hello = a.b;\n",
    "hello.m() // Hello"
   ]
  },
  {
   "cell_type": "markdown",
   "id": "077fddab",
   "metadata": {},
   "source": [
    "## 使用注意点\n",
    "\n",
    "### 避免多层 this\n",
    "\n",
    "由于`this`的指向是不确定的，所以切勿在函数中包含多层的`this`。"
   ]
  },
  {
   "cell_type": "code",
   "execution_count": null,
   "id": "b372394b",
   "metadata": {
    "attributes": {
     "classes": [
      "javascript"
     ],
     "id": ""
    }
   },
   "outputs": [],
   "source": [
    "var o = {\n",
    "  f1: function () {\n",
    "    console.log(this);\n",
    "    var f2 = function () {\n",
    "      console.log(this);\n",
    "    }();\n",
    "  }\n",
    "}\n",
    "\n",
    "o.f1()\n",
    "// Object\n",
    "// Window"
   ]
  },
  {
   "cell_type": "markdown",
   "id": "b1ca7eb5",
   "metadata": {},
   "source": [
    "上面代码包含两层`this`，结果运行后，第一层指向对象`o`，第二层指向全局对象，因为实际执行的是下面的代码。"
   ]
  },
  {
   "cell_type": "code",
   "execution_count": null,
   "id": "153dd5ed",
   "metadata": {
    "attributes": {
     "classes": [
      "javascript"
     ],
     "id": ""
    }
   },
   "outputs": [],
   "source": [
    "var temp = function () {\n",
    "  console.log(this);\n",
    "};\n",
    "\n",
    "var o = {\n",
    "  f1: function () {\n",
    "    console.log(this);\n",
    "    var f2 = temp();\n",
    "  }\n",
    "}"
   ]
  },
  {
   "cell_type": "markdown",
   "id": "464aa20f",
   "metadata": {},
   "source": [
    "一个解决方法是在第二层改用一个指向外层`this`的变量。"
   ]
  },
  {
   "cell_type": "code",
   "execution_count": null,
   "id": "4d8f7e27",
   "metadata": {
    "attributes": {
     "classes": [
      "javascript"
     ],
     "id": ""
    }
   },
   "outputs": [],
   "source": [
    "var o = {\n",
    "  f1: function() {\n",
    "    console.log(this);\n",
    "    var that = this;\n",
    "    var f2 = function() {\n",
    "      console.log(that);\n",
    "    }();\n",
    "  }\n",
    "}\n",
    "\n",
    "o.f1()\n",
    "// Object\n",
    "// Object"
   ]
  },
  {
   "cell_type": "markdown",
   "id": "6aae5856",
   "metadata": {},
   "source": [
    "上面代码定义了变量`that`，固定指向外层的`this`，然后在内层使用`that`，就不会发生`this`指向的改变。\n",
    "\n",
    "事实上，使用一个变量固定`this`的值，然后内层函数调用这个变量，是非常常见的做法，请务必掌握。\n",
    "\n",
    "JavaScript 提供了严格模式，也可以硬性避免这种问题。严格模式下，如果函数内部的`this`指向顶层对象，就会报错。"
   ]
  },
  {
   "cell_type": "code",
   "execution_count": null,
   "id": "747912b9",
   "metadata": {
    "attributes": {
     "classes": [
      "javascript"
     ],
     "id": ""
    }
   },
   "outputs": [],
   "source": [
    "var counter = {\n",
    "  count: 0\n",
    "};\n",
    "counter.inc = function () {\n",
    "  'use strict';\n",
    "  this.count++\n",
    "};\n",
    "var f = counter.inc;\n",
    "f()\n",
    "// TypeError: Cannot read property 'count' of undefined"
   ]
  },
  {
   "cell_type": "markdown",
   "id": "3fd99853",
   "metadata": {},
   "source": [
    "上面代码中，`inc`方法通过`'use strict'`声明采用严格模式，这时内部的`this`一旦指向顶层对象，就会报错。\n",
    "\n",
    "### 避免数组处理方法中的 this\n",
    "\n",
    "数组的`map`和`foreach`方法，允许提供一个函数作为参数。这个函数内部不应该使用`this`。"
   ]
  },
  {
   "cell_type": "code",
   "execution_count": null,
   "id": "17117d57",
   "metadata": {
    "attributes": {
     "classes": [
      "javascript"
     ],
     "id": ""
    }
   },
   "outputs": [],
   "source": [
    "var o = {\n",
    "  v: 'hello',\n",
    "  p: [ 'a1', 'a2' ],\n",
    "  f: function f() {\n",
    "    this.p.forEach(function (item) {\n",
    "      console.log(this.v + ' ' + item);\n",
    "    });\n",
    "  }\n",
    "}\n",
    "\n",
    "o.f()\n",
    "// undefined a1\n",
    "// undefined a2"
   ]
  },
  {
   "cell_type": "markdown",
   "id": "ebb62d05",
   "metadata": {},
   "source": [
    "上面代码中，`foreach`方法的回调函数中的`this`，其实是指向`window`对象，因此取不到`o.v`的值。原因跟上一段的多层`this`是一样的，就是内层的`this`不指向外部，而指向顶层对象。\n",
    "\n",
    "解决这个问题的一种方法，就是前面提到的，使用中间变量固定`this`。"
   ]
  },
  {
   "cell_type": "code",
   "execution_count": null,
   "id": "43dab277",
   "metadata": {
    "attributes": {
     "classes": [
      "javascript"
     ],
     "id": ""
    }
   },
   "outputs": [],
   "source": [
    "var o = {\n",
    "  v: 'hello',\n",
    "  p: [ 'a1', 'a2' ],\n",
    "  f: function f() {\n",
    "    var that = this;\n",
    "    this.p.forEach(function (item) {\n",
    "      console.log(that.v+' '+item);\n",
    "    });\n",
    "  }\n",
    "}\n",
    "\n",
    "o.f()\n",
    "// hello a1\n",
    "// hello a2"
   ]
  },
  {
   "cell_type": "markdown",
   "id": "6b1a6332",
   "metadata": {},
   "source": [
    "另一种方法是将`this`当作`foreach`方法的第二个参数，固定它的运行环境。"
   ]
  },
  {
   "cell_type": "code",
   "execution_count": null,
   "id": "83952e4c",
   "metadata": {
    "attributes": {
     "classes": [
      "javascript"
     ],
     "id": ""
    }
   },
   "outputs": [],
   "source": [
    "var o = {\n",
    "  v: 'hello',\n",
    "  p: [ 'a1', 'a2' ],\n",
    "  f: function f() {\n",
    "    this.p.forEach(function (item) {\n",
    "      console.log(this.v + ' ' + item);\n",
    "    }, this);\n",
    "  }\n",
    "}\n",
    "\n",
    "o.f()\n",
    "// hello a1\n",
    "// hello a2"
   ]
  },
  {
   "cell_type": "markdown",
   "id": "475f84bf",
   "metadata": {},
   "source": [
    "### 避免回调函数中的 this\n",
    "\n",
    "回调函数中的`this`往往会改变指向，最好避免使用。"
   ]
  },
  {
   "cell_type": "code",
   "execution_count": null,
   "id": "5e6983b6",
   "metadata": {
    "attributes": {
     "classes": [
      "javascript"
     ],
     "id": ""
    }
   },
   "outputs": [],
   "source": [
    "var o = new Object();\n",
    "o.f = function () {\n",
    "  console.log(this === o);\n",
    "}\n",
    "\n",
    "// jQuery 的写法\n",
    "$('#button').on('click', o.f);"
   ]
  },
  {
   "cell_type": "markdown",
   "id": "0e251869",
   "metadata": {},
   "source": [
    "上面代码中，点击按钮以后，控制台会显示`false`。原因是此时`this`不再指向`o`对象，而是指向按钮的 DOM 对象，因为`f`方法是在按钮对象的环境中被调用的。这种细微的差别，很容易在编程中忽视，导致难以察觉的错误。\n",
    "\n",
    "为了解决这个问题，可以采用下面的一些方法对`this`进行绑定，也就是使得`this`固定指向某个对象，减少不确定性。\n",
    "\n",
    "## 绑定 this 的方法\n",
    "\n",
    "`this`的动态切换，固然为 JavaScript 创造了巨大的灵活性，但也使得编程变得困难和模糊。有时，需要把`this`固定下来，避免出现意想不到的情况。JavaScript 提供了`call`、`apply`、`bind`这三个方法，来切换/固定`this`的指向。\n",
    "\n",
    "### Function.prototype.call()\n",
    "\n",
    "函数实例的`call`方法，可以指定函数内部`this`的指向（即函数执行时所在的作用域），然后在所指定的作用域中，调用该函数。"
   ]
  },
  {
   "cell_type": "code",
   "execution_count": null,
   "id": "59b4d2e0",
   "metadata": {
    "attributes": {
     "classes": [
      "javascript"
     ],
     "id": ""
    }
   },
   "outputs": [],
   "source": [
    "var obj = {};\n",
    "\n",
    "var f = function () {\n",
    "  return this;\n",
    "};\n",
    "\n",
    "f() === window // true\n",
    "f.call(obj) === obj // true"
   ]
  },
  {
   "cell_type": "markdown",
   "id": "cedc96ca",
   "metadata": {},
   "source": [
    "上面代码中，全局环境运行函数`f`时，`this`指向全局环境（浏览器为`window`对象）；`call`方法可以改变`this`的指向，指定`this`指向对象`obj`，然后在对象`obj`的作用域中运行函数`f`。\n",
    "\n",
    "`call`方法的参数，应该是一个对象。如果参数为空、`null`和`undefined`，则默认传入全局对象。"
   ]
  },
  {
   "cell_type": "code",
   "execution_count": null,
   "id": "04066383",
   "metadata": {
    "attributes": {
     "classes": [
      "javascript"
     ],
     "id": ""
    }
   },
   "outputs": [],
   "source": [
    "var n = 123;\n",
    "var obj = { n: 456 };\n",
    "\n",
    "function a() {\n",
    "  console.log(this.n);\n",
    "}\n",
    "\n",
    "a.call() // 123\n",
    "a.call(null) // 123\n",
    "a.call(undefined) // 123\n",
    "a.call(window) // 123\n",
    "a.call(obj) // 456"
   ]
  },
  {
   "cell_type": "markdown",
   "id": "5a99f154",
   "metadata": {},
   "source": [
    "上面代码中，`a`函数中的`this`关键字，如果指向全局对象，返回结果为`123`。如果使用`call`方法将`this`关键字指向`obj`对象，返回结果为`456`。可以看到，如果`call`方法没有参数，或者参数为`null`或`undefined`，则等同于指向全局对象。\n",
    "\n",
    "如果`call`方法的参数是一个原始值，那么这个原始值会自动转成对应的包装对象，然后传入`call`方法。"
   ]
  },
  {
   "cell_type": "code",
   "execution_count": null,
   "id": "c4757be6",
   "metadata": {
    "attributes": {
     "classes": [
      "javascript"
     ],
     "id": ""
    }
   },
   "outputs": [],
   "source": [
    "var f = function () {\n",
    "  return this;\n",
    "};\n",
    "\n",
    "f.call(5)\n",
    "// Number {[[PrimitiveValue]]: 5}"
   ]
  },
  {
   "cell_type": "markdown",
   "id": "aea44e0f",
   "metadata": {},
   "source": [
    "上面代码中，`call`的参数为`5`，不是对象，会被自动转成包装对象（`Number`的实例），绑定`f`内部的`this`。\n",
    "\n",
    "`call`方法还可以接受多个参数。"
   ]
  },
  {
   "cell_type": "code",
   "execution_count": null,
   "id": "0d499f24",
   "metadata": {
    "attributes": {
     "classes": [
      "javascript"
     ],
     "id": ""
    }
   },
   "outputs": [],
   "source": [
    "func.call(thisValue, arg1, arg2, ...)"
   ]
  },
  {
   "cell_type": "markdown",
   "id": "60adea8b",
   "metadata": {},
   "source": [
    "`call`的第一个参数就是`this`所要指向的那个对象，后面的参数则是函数调用时所需的参数。"
   ]
  },
  {
   "cell_type": "code",
   "execution_count": null,
   "id": "f965d180",
   "metadata": {
    "attributes": {
     "classes": [
      "javascript"
     ],
     "id": ""
    }
   },
   "outputs": [],
   "source": [
    "function add(a, b) {\n",
    "  return a + b;\n",
    "}\n",
    "\n",
    "add.call(this, 1, 2) // 3"
   ]
  },
  {
   "cell_type": "markdown",
   "id": "d992b39c",
   "metadata": {},
   "source": [
    "上面代码中，`call`方法指定函数`add`内部的`this`绑定当前环境（对象），并且参数为`1`和`2`，因此函数`add`运行后得到`3`。\n",
    "\n",
    "`call`方法的一个应用是调用对象的原生方法。"
   ]
  },
  {
   "cell_type": "code",
   "execution_count": null,
   "id": "b3911a60",
   "metadata": {
    "attributes": {
     "classes": [
      "javascript"
     ],
     "id": ""
    }
   },
   "outputs": [],
   "source": [
    "var obj = {};\n",
    "obj.hasOwnProperty('toString') // false\n",
    "\n",
    "// 覆盖掉继承的 hasOwnProperty 方法\n",
    "obj.hasOwnProperty = function () {\n",
    "  return true;\n",
    "};\n",
    "obj.hasOwnProperty('toString') // true\n",
    "\n",
    "Object.prototype.hasOwnProperty.call(obj, 'toString') // false"
   ]
  },
  {
   "cell_type": "markdown",
   "id": "cb850c99",
   "metadata": {},
   "source": [
    "上面代码中，`hasOwnProperty`是`obj`对象继承的方法，如果这个方法一旦被覆盖，就不会得到正确结果。`call`方法可以解决这个问题，它将`hasOwnProperty`方法的原始定义放到`obj`对象上执行，这样无论`obj`上有没有同名方法，都不会影响结果。\n",
    "\n",
    "### Function.prototype.apply()\n",
    "\n",
    "`apply`方法的作用与`call`方法类似，也是改变`this`指向，然后再调用该函数。唯一的区别就是，它接收一个数组作为函数执行时的参数，使用格式如下。"
   ]
  },
  {
   "cell_type": "code",
   "execution_count": null,
   "id": "c968acb4",
   "metadata": {
    "attributes": {
     "classes": [
      "javascript"
     ],
     "id": ""
    }
   },
   "outputs": [],
   "source": [
    "func.apply(thisValue, [arg1, arg2, ...])"
   ]
  },
  {
   "cell_type": "markdown",
   "id": "8ea28652",
   "metadata": {},
   "source": [
    "`apply`方法的第一个参数也是`this`所要指向的那个对象，如果设为`null`或`undefined`，则等同于指定全局对象。第二个参数则是一个数组，该数组的所有成员依次作为参数，传入原函数。原函数的参数，在`call`方法中必须一个个添加，但是在`apply`方法中，必须以数组形式添加。"
   ]
  },
  {
   "cell_type": "code",
   "execution_count": null,
   "id": "eb868b52",
   "metadata": {
    "attributes": {
     "classes": [
      "javascript"
     ],
     "id": ""
    }
   },
   "outputs": [],
   "source": [
    "function f(x, y){\n",
    "  console.log(x + y);\n",
    "}\n",
    "\n",
    "f.call(null, 1, 1) // 2\n",
    "f.apply(null, [1, 1]) // 2"
   ]
  },
  {
   "cell_type": "markdown",
   "id": "f0beab0f",
   "metadata": {},
   "source": [
    "上面代码中，`f`函数本来接受两个参数，使用`apply`方法以后，就变成可以接受一个数组作为参数。\n",
    "\n",
    "利用这一点，可以做一些有趣的应用。\n",
    "\n",
    "**（1）找出数组最大元素**\n",
    "\n",
    "JavaScript 不提供找出数组最大元素的函数。结合使用`apply`方法和`Math.max`方法，就可以返回数组的最大元素。"
   ]
  },
  {
   "cell_type": "code",
   "execution_count": null,
   "id": "59dccecc",
   "metadata": {
    "attributes": {
     "classes": [
      "javascript"
     ],
     "id": ""
    }
   },
   "outputs": [],
   "source": [
    "var a = [10, 2, 4, 15, 9];\n",
    "Math.max.apply(null, a) // 15"
   ]
  },
  {
   "cell_type": "markdown",
   "id": "75d0b075",
   "metadata": {},
   "source": [
    "**（2）将数组的空元素变为`undefined`**\n",
    "\n",
    "通过`apply`方法，利用`Array`构造函数将数组的空元素变成`undefined`。"
   ]
  },
  {
   "cell_type": "code",
   "execution_count": null,
   "id": "8a322563",
   "metadata": {
    "attributes": {
     "classes": [
      "javascript"
     ],
     "id": ""
    }
   },
   "outputs": [],
   "source": [
    "Array.apply(null, ['a', ,'b'])\n",
    "// [ 'a', undefined, 'b' ]"
   ]
  },
  {
   "cell_type": "markdown",
   "id": "699d4d0c",
   "metadata": {},
   "source": [
    "空元素与`undefined`的差别在于，数组的`forEach`方法会跳过空元素，但是不会跳过`undefined`。因此，遍历内部元素的时候，会得到不同的结果。"
   ]
  },
  {
   "cell_type": "code",
   "execution_count": null,
   "id": "f3e5a5c0",
   "metadata": {
    "attributes": {
     "classes": [
      "javascript"
     ],
     "id": ""
    }
   },
   "outputs": [],
   "source": [
    "var a = ['a', , 'b'];\n",
    "\n",
    "function print(i) {\n",
    "  console.log(i);\n",
    "}\n",
    "\n",
    "a.forEach(print)\n",
    "// a\n",
    "// b\n",
    "\n",
    "Array.apply(null, a).forEach(print)\n",
    "// a\n",
    "// undefined\n",
    "// b"
   ]
  },
  {
   "cell_type": "markdown",
   "id": "7244f8e3",
   "metadata": {},
   "source": [
    "**（3）转换类似数组的对象**\n",
    "\n",
    "另外，利用数组对象的`slice`方法，可以将一个类似数组的对象（比如`arguments`对象）转为真正的数组。"
   ]
  },
  {
   "cell_type": "code",
   "execution_count": null,
   "id": "054855d7",
   "metadata": {
    "attributes": {
     "classes": [
      "javascript"
     ],
     "id": ""
    }
   },
   "outputs": [],
   "source": [
    "Array.prototype.slice.apply({0: 1, length: 1}) // [1]\n",
    "Array.prototype.slice.apply({0: 1}) // []\n",
    "Array.prototype.slice.apply({0: 1, length: 2}) // [1, undefined]\n",
    "Array.prototype.slice.apply({length: 1}) // [undefined]"
   ]
  },
  {
   "cell_type": "markdown",
   "id": "3bac71e5",
   "metadata": {},
   "source": [
    "上面代码的`apply`方法的参数都是对象，但是返回结果都是数组，这就起到了将对象转成数组的目的。从上面代码可以看到，这个方法起作用的前提是，被处理的对象必须有`length`属性，以及相对应的数字键。\n",
    "\n",
    "**（4）绑定回调函数的对象**\n",
    "\n",
    "前面的按钮点击事件的例子，可以改写如下。"
   ]
  },
  {
   "cell_type": "code",
   "execution_count": null,
   "id": "d9e55250",
   "metadata": {
    "attributes": {
     "classes": [
      "javascript"
     ],
     "id": ""
    }
   },
   "outputs": [],
   "source": [
    "var o = new Object();\n",
    "\n",
    "o.f = function () {\n",
    "  console.log(this === o);\n",
    "}\n",
    "\n",
    "var f = function (){\n",
    "  o.f.apply(o);\n",
    "  // 或者 o.f.call(o);\n",
    "};\n",
    "\n",
    "// jQuery 的写法\n",
    "$('#button').on('click', f);"
   ]
  },
  {
   "cell_type": "markdown",
   "id": "155b2fe0",
   "metadata": {},
   "source": [
    "上面代码中，点击按钮以后，控制台将会显示`true`。由于`apply()`方法（或者`call()`方法）不仅绑定函数执行时所在的对象，还会立即执行函数，因此不得不把绑定语句写在一个函数体内。更简洁的写法是采用下面介绍的`bind()`方法。\n",
    "\n",
    "### Function.prototype.bind()\n",
    "\n",
    "`bind()`方法用于将函数体内的`this`绑定到某个对象，然后返回一个新函数。"
   ]
  },
  {
   "cell_type": "code",
   "execution_count": null,
   "id": "2984bdf7",
   "metadata": {
    "attributes": {
     "classes": [
      "javascript"
     ],
     "id": ""
    }
   },
   "outputs": [],
   "source": [
    "var d = new Date();\n",
    "d.getTime() // 1481869925657\n",
    "\n",
    "var print = d.getTime;\n",
    "print() // Uncaught TypeError: this is not a Date object."
   ]
  },
  {
   "cell_type": "markdown",
   "id": "97dd1855",
   "metadata": {},
   "source": [
    "上面代码中，我们将`d.getTime()`方法赋给变量`print`，然后调用`print()`就报错了。这是因为`getTime()`方法内部的`this`，绑定`Date`对象的实例，赋给变量`print`以后，内部的`this`已经不指向`Date`对象的实例了。\n",
    "\n",
    "`bind()`方法可以解决这个问题。"
   ]
  },
  {
   "cell_type": "code",
   "execution_count": null,
   "id": "8ff7b83d",
   "metadata": {
    "attributes": {
     "classes": [
      "javascript"
     ],
     "id": ""
    }
   },
   "outputs": [],
   "source": [
    "var print = d.getTime.bind(d);\n",
    "print() // 1481869925657"
   ]
  },
  {
   "cell_type": "markdown",
   "id": "9b73ba19",
   "metadata": {},
   "source": [
    "上面代码中，`bind()`方法将`getTime()`方法内部的`this`绑定到`d`对象，这时就可以安全地将这个方法赋值给其他变量了。\n",
    "\n",
    "`bind`方法的参数就是所要绑定`this`的对象，下面是一个更清晰的例子。"
   ]
  },
  {
   "cell_type": "code",
   "execution_count": null,
   "id": "1efd3aa6",
   "metadata": {
    "attributes": {
     "classes": [
      "javascript"
     ],
     "id": ""
    }
   },
   "outputs": [],
   "source": [
    "var counter = {\n",
    "  count: 0,\n",
    "  inc: function () {\n",
    "    this.count++;\n",
    "  }\n",
    "};\n",
    "\n",
    "var func = counter.inc.bind(counter);\n",
    "func();\n",
    "counter.count // 1"
   ]
  },
  {
   "cell_type": "markdown",
   "id": "c908dd43",
   "metadata": {},
   "source": [
    "上面代码中，`counter.inc()`方法被赋值给变量`func`。这时必须用`bind()`方法将`inc()`内部的`this`，绑定到`counter`，否则就会出错。\n",
    "\n",
    "`this`绑定到其他对象也是可以的。"
   ]
  },
  {
   "cell_type": "code",
   "execution_count": null,
   "id": "bf4bbb49",
   "metadata": {
    "attributes": {
     "classes": [
      "javascript"
     ],
     "id": ""
    }
   },
   "outputs": [],
   "source": [
    "var counter = {\n",
    "  count: 0,\n",
    "  inc: function () {\n",
    "    this.count++;\n",
    "  }\n",
    "};\n",
    "\n",
    "var obj = {\n",
    "  count: 100\n",
    "};\n",
    "var func = counter.inc.bind(obj);\n",
    "func();\n",
    "obj.count // 101"
   ]
  },
  {
   "cell_type": "markdown",
   "id": "927998c6",
   "metadata": {},
   "source": [
    "上面代码中，`bind()`方法将`inc()`方法内部的`this`，绑定到`obj`对象。结果调用`func`函数以后，递增的就是`obj`内部的`count`属性。\n",
    "\n",
    "`bind()`还可以接受更多的参数，将这些参数绑定原函数的参数。"
   ]
  },
  {
   "cell_type": "code",
   "execution_count": null,
   "id": "edd86c08",
   "metadata": {
    "attributes": {
     "classes": [
      "javascript"
     ],
     "id": ""
    }
   },
   "outputs": [],
   "source": [
    "var add = function (x, y) {\n",
    "  return x * this.m + y * this.n;\n",
    "}\n",
    "\n",
    "var obj = {\n",
    "  m: 2,\n",
    "  n: 2\n",
    "};\n",
    "\n",
    "var newAdd = add.bind(obj, 5);\n",
    "newAdd(5) // 20"
   ]
  },
  {
   "cell_type": "markdown",
   "id": "cc7b7427",
   "metadata": {},
   "source": [
    "上面代码中，`bind()`方法除了绑定`this`对象，还将`add()`函数的第一个参数`x`绑定成`5`，然后返回一个新函数`newAdd()`，这个函数只要再接受一个参数`y`就能运行了。\n",
    "\n",
    "如果`bind()`方法的第一个参数是`null`或`undefined`，等于将`this`绑定到全局对象，函数运行时`this`指向顶层对象（浏览器为`window`）。"
   ]
  },
  {
   "cell_type": "code",
   "execution_count": null,
   "id": "00f1044a",
   "metadata": {
    "attributes": {
     "classes": [
      "javascript"
     ],
     "id": ""
    }
   },
   "outputs": [],
   "source": [
    "function add(x, y) {\n",
    "  return x + y;\n",
    "}\n",
    "\n",
    "var plus5 = add.bind(null, 5);\n",
    "plus5(10) // 15"
   ]
  },
  {
   "cell_type": "markdown",
   "id": "ec920fc4",
   "metadata": {},
   "source": [
    "上面代码中，函数`add()`内部并没有`this`，使用`bind()`方法的主要目的是绑定参数`x`，以后每次运行新函数`plus5()`，就只需要提供另一个参数`y`就够了。而且因为`add()`内部没有`this`，所以`bind()`的第一个参数是`null`，不过这里如果是其他对象，也没有影响。\n",
    "\n",
    "`bind()`方法有一些使用注意点。\n",
    "\n",
    "**（1）每一次返回一个新函数**\n",
    "\n",
    "`bind()`方法每运行一次，就返回一个新函数，这会产生一些问题。比如，监听事件的时候，不能写成下面这样。"
   ]
  },
  {
   "cell_type": "code",
   "execution_count": null,
   "id": "cc07224c",
   "metadata": {
    "attributes": {
     "classes": [
      "javascript"
     ],
     "id": ""
    }
   },
   "outputs": [],
   "source": [
    "element.addEventListener('click', o.m.bind(o));"
   ]
  },
  {
   "cell_type": "markdown",
   "id": "80ce9df7",
   "metadata": {},
   "source": [
    "上面代码中，`click`事件绑定`bind()`方法生成的一个匿名函数。这样会导致无法取消绑定，所以下面的代码是无效的。"
   ]
  },
  {
   "cell_type": "code",
   "execution_count": null,
   "id": "2f636e75",
   "metadata": {
    "attributes": {
     "classes": [
      "javascript"
     ],
     "id": ""
    }
   },
   "outputs": [],
   "source": [
    "element.removeEventListener('click', o.m.bind(o));"
   ]
  },
  {
   "cell_type": "markdown",
   "id": "33fb8c4e",
   "metadata": {},
   "source": [
    "正确的方法是写成下面这样："
   ]
  },
  {
   "cell_type": "code",
   "execution_count": null,
   "id": "8a8bb599",
   "metadata": {
    "attributes": {
     "classes": [
      "javascript"
     ],
     "id": ""
    }
   },
   "outputs": [],
   "source": [
    "var listener = o.m.bind(o);\n",
    "element.addEventListener('click', listener);\n",
    "//  ...\n",
    "element.removeEventListener('click', listener);"
   ]
  },
  {
   "cell_type": "markdown",
   "id": "a3b9b668",
   "metadata": {},
   "source": [
    "**（2）结合回调函数使用**\n",
    "\n",
    "回调函数是 JavaScript 最常用的模式之一，但是一个常见的错误是，将包含`this`的方法直接当作回调函数。解决方法就是使用`bind()`方法，将`counter.inc()`绑定`counter`。"
   ]
  },
  {
   "cell_type": "code",
   "execution_count": null,
   "id": "be05f30a",
   "metadata": {
    "attributes": {
     "classes": [
      "javascript"
     ],
     "id": ""
    }
   },
   "outputs": [],
   "source": [
    "var counter = {\n",
    "  count: 0,\n",
    "  inc: function () {\n",
    "    'use strict';\n",
    "    this.count++;\n",
    "  }\n",
    "};\n",
    "\n",
    "function callIt(callback) {\n",
    "  callback();\n",
    "}\n",
    "\n",
    "callIt(counter.inc.bind(counter));\n",
    "counter.count // 1"
   ]
  },
  {
   "cell_type": "markdown",
   "id": "4498eb1d",
   "metadata": {},
   "source": [
    "上面代码中，`callIt()`方法会调用回调函数。这时如果直接把`counter.inc`传入，调用时`counter.inc()`内部的`this`就会指向全局对象。使用`bind()`方法将`counter.inc`绑定`counter`以后，就不会有这个问题，`this`总是指向`counter`。\n",
    "\n",
    "还有一种情况比较隐蔽，就是某些数组方法可以接受一个函数当作参数。这些函数内部的`this`指向，很可能也会出错。"
   ]
  },
  {
   "cell_type": "code",
   "execution_count": null,
   "id": "07fb0ad4",
   "metadata": {
    "attributes": {
     "classes": [
      "javascript"
     ],
     "id": ""
    }
   },
   "outputs": [],
   "source": [
    "var obj = {\n",
    "  name: '张三',\n",
    "  times: [1, 2, 3],\n",
    "  print: function () {\n",
    "    this.times.forEach(function (n) {\n",
    "      console.log(this.name);\n",
    "    });\n",
    "  }\n",
    "};\n",
    "\n",
    "obj.print()\n",
    "// 没有任何输出"
   ]
  },
  {
   "cell_type": "markdown",
   "id": "fb119817",
   "metadata": {},
   "source": [
    "上面代码中，`obj.print`内部`this.times`的`this`是指向`obj`的，这个没有问题。但是，`forEach()`方法的回调函数内部的`this.name`却是指向全局对象，导致没有办法取到值。稍微改动一下，就可以看得更清楚。"
   ]
  },
  {
   "cell_type": "code",
   "execution_count": null,
   "id": "e8beb762",
   "metadata": {
    "attributes": {
     "classes": [
      "javascript"
     ],
     "id": ""
    }
   },
   "outputs": [],
   "source": [
    "obj.print = function () {\n",
    "  this.times.forEach(function (n) {\n",
    "    console.log(this === window);\n",
    "  });\n",
    "};\n",
    "\n",
    "obj.print()\n",
    "// true\n",
    "// true\n",
    "// true"
   ]
  },
  {
   "cell_type": "markdown",
   "id": "7dc84e0c",
   "metadata": {},
   "source": [
    "解决这个问题，也是通过`bind()`方法绑定`this`。"
   ]
  },
  {
   "cell_type": "code",
   "execution_count": null,
   "id": "2427c6ad",
   "metadata": {
    "attributes": {
     "classes": [
      "javascript"
     ],
     "id": ""
    }
   },
   "outputs": [],
   "source": [
    "obj.print = function () {\n",
    "  this.times.forEach(function (n) {\n",
    "    console.log(this.name);\n",
    "  }.bind(this));\n",
    "};\n",
    "\n",
    "obj.print()\n",
    "// 张三\n",
    "// 张三\n",
    "// 张三"
   ]
  },
  {
   "cell_type": "markdown",
   "id": "38dcd036",
   "metadata": {},
   "source": [
    "**（3）结合`call()`方法使用**\n",
    "\n",
    "利用`bind()`方法，可以改写一些 JavaScript 原生方法的使用形式，以数组的`slice()`方法为例。"
   ]
  },
  {
   "cell_type": "code",
   "execution_count": null,
   "id": "3becefe3",
   "metadata": {
    "attributes": {
     "classes": [
      "javascript"
     ],
     "id": ""
    }
   },
   "outputs": [],
   "source": [
    "[1, 2, 3].slice(0, 1) // [1]\n",
    "// 等同于\n",
    "Array.prototype.slice.call([1, 2, 3], 0, 1) // [1]"
   ]
  },
  {
   "cell_type": "markdown",
   "id": "d4b9985c",
   "metadata": {},
   "source": [
    "上面的代码中，数组的`slice`方法从`[1, 2, 3]`里面，按照指定的开始位置和结束位置，切分出另一个数组。这样做的本质是在`[1, 2, 3]`上面调用`Array.prototype.slice()`方法，因此可以用`call`方法表达这个过程，得到同样的结果。\n",
    "\n",
    "`call()`方法实质上是调用`Function.prototype.call()`方法，因此上面的表达式可以用`bind()`方法改写。"
   ]
  },
  {
   "cell_type": "code",
   "execution_count": null,
   "id": "64ff847e",
   "metadata": {
    "attributes": {
     "classes": [
      "javascript"
     ],
     "id": ""
    }
   },
   "outputs": [],
   "source": [
    "var slice = Function.prototype.call.bind(Array.prototype.slice);\n",
    "slice([1, 2, 3], 0, 1) // [1]"
   ]
  },
  {
   "cell_type": "markdown",
   "id": "05c94422",
   "metadata": {},
   "source": [
    "上面代码的含义就是，将`Array.prototype.slice`变成`Function.prototype.call`方法所在的对象，调用时就变成了`Array.prototype.slice.call`。类似的写法还可以用于其他数组方法。"
   ]
  },
  {
   "cell_type": "code",
   "execution_count": null,
   "id": "7c3535f0",
   "metadata": {
    "attributes": {
     "classes": [
      "javascript"
     ],
     "id": ""
    }
   },
   "outputs": [],
   "source": [
    "var push = Function.prototype.call.bind(Array.prototype.push);\n",
    "var pop = Function.prototype.call.bind(Array.prototype.pop);\n",
    "\n",
    "var a = [1 ,2 ,3];\n",
    "push(a, 4)\n",
    "a // [1, 2, 3, 4]\n",
    "\n",
    "pop(a)\n",
    "a // [1, 2, 3]"
   ]
  },
  {
   "cell_type": "markdown",
   "id": "c7d11e95",
   "metadata": {},
   "source": [
    "如果再进一步，将`Function.prototype.call`方法绑定到`Function.prototype.bind`对象，就意味着`bind`的调用形式也可以被改写。"
   ]
  },
  {
   "cell_type": "code",
   "execution_count": null,
   "id": "bc7a1180",
   "metadata": {
    "attributes": {
     "classes": [
      "javascript"
     ],
     "id": ""
    }
   },
   "outputs": [],
   "source": [
    "function f() {\n",
    "  console.log(this.v);\n",
    "}\n",
    "\n",
    "var o = { v: 123 };\n",
    "var bind = Function.prototype.call.bind(Function.prototype.bind);\n",
    "bind(f, o)() // 123"
   ]
  },
  {
   "cell_type": "markdown",
   "id": "7aeac9ea",
   "metadata": {},
   "source": [
    "上面代码的含义就是，将`Function.prototype.bind`方法绑定在`Function.prototype.call`上面，所以`bind`方法就可以直接使用，不需要在函数实例上使用。\n",
    "\n",
    "## 参考链接\n",
    "\n",
    "- Jonathan Creamer, [Avoiding the \"this\" problem in JavaScript](http://tech.pro/tutorial/1192/avoiding-the-this-problem-in-javascript)\n",
    "- Erik Kronberg, [Bind, Call and Apply in JavaScript](https://variadic.me/posts/2013-10-22-bind-call-and-apply-in-javascript.html)\n",
    "- Axel Rauschmayer, [JavaScript’s this: how it works, where it can trip you up](http://www.2ality.com/2014/05/this.html)"
   ]
  }
 ],
 "metadata": {},
 "nbformat": 4,
 "nbformat_minor": 5
}

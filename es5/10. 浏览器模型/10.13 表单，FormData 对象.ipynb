{
 "cells": [
  {
   "cell_type": "markdown",
   "id": "312474a7",
   "metadata": {},
   "source": [
    "# 表单，FormData 对象\n",
    "\n",
    "## 表单概述\n",
    "\n",
    "表单（`<form>`）用来收集用户提交的数据，发送到服务器。比如，用户提交用户名和密码，让服务器验证，就要通过表单。表单提供多种控件，让开发者使用，具体的控件种类和用法请参考 HTML 语言的教程。本章主要介绍 JavaScript 与表单的交互。"
   ]
  },
  {
   "cell_type": "code",
   "execution_count": null,
   "id": "8b2d7b7c",
   "metadata": {
    "attributes": {
     "classes": [
      "html"
     ],
     "id": ""
    }
   },
   "outputs": [],
   "source": [
    "<form action=\"/handling-page\" method=\"post\">\n",
    "  <div>\n",
    "    <label for=\"name\">用户名：</label>\n",
    "    <input type=\"text\" id=\"name\" name=\"user_name\" />\n",
    "  </div>\n",
    "  <div>\n",
    "    <label for=\"passwd\">密码：</label>\n",
    "    <input type=\"password\" id=\"passwd\" name=\"user_passwd\" />\n",
    "  </div>\n",
    "  <div>\n",
    "    <input type=\"submit\" id=\"submit\" name=\"submit_button\" value=\"提交\" />\n",
    "  </div>\n",
    "</form>"
   ]
  },
  {
   "cell_type": "markdown",
   "id": "ceced585",
   "metadata": {},
   "source": [
    "上面代码就是一个简单的表单，包含三个控件：用户名输入框、密码输入框和提交按钮。\n",
    "\n",
    "用户点击“提交”按钮，每一个控件都会生成一个键值对，键名是控件的`name`属性，键值是控件的`value`属性，键名和键值之间由等号连接。比如，用户名输入框的`name`属性是`user_name`，`value`属性是用户输入的值，假定是“张三”，提交到服务器的时候，就会生成一个键值对`user_name=张三`。\n",
    "\n",
    "所有的键值对都会提交到服务器。但是，提交的数据格式跟`<form>`元素的`method`属性有关。该属性指定了提交数据的 HTTP 方法。如果是 GET 方法，所有键值对会以 URL 的查询字符串形式，提交到服务器，比如`/handling-page?user_name=张三&user_passwd=123&submit_button=提交`。下面就是 GET 请求的 HTTP 头信息。"
   ]
  },
  {
   "cell_type": "code",
   "execution_count": null,
   "id": "37d912cc",
   "metadata": {
    "attributes": {
     "classes": [
      "http"
     ],
     "id": ""
    }
   },
   "outputs": [],
   "source": [
    "GET /handling-page?user_name=张三&user_passwd=123&submit_button=提交\n",
    "Host: example.com"
   ]
  },
  {
   "cell_type": "markdown",
   "id": "1a623ec6",
   "metadata": {},
   "source": [
    "如果是 POST 方法，所有键值对会连接成一行，作为 HTTP 请求的数据体发送到服务器，比如`user_name=张三&user_passwd=123&submit_button=提交`。下面就是 POST 请求的头信息。"
   ]
  },
  {
   "cell_type": "code",
   "execution_count": null,
   "id": "995f54b3",
   "metadata": {
    "attributes": {
     "classes": [
      "http"
     ],
     "id": ""
    }
   },
   "outputs": [],
   "source": [
    "POST /handling-page HTTP/1.1\n",
    "Host: example.com\n",
    "Content-Type: application/x-www-form-urlencoded\n",
    "Content-Length: 74\n",
    "\n",
    "user_name=张三&user_passwd=123&submit_button=提交"
   ]
  },
  {
   "cell_type": "markdown",
   "id": "e6b3be97",
   "metadata": {},
   "source": [
    "注意，实际提交的时候，只要键值不是 URL 的合法字符（比如汉字“张三”和“提交”），浏览器会自动对其进行编码。\n",
    "\n",
    "点击`submit`控件，就可以提交表单。"
   ]
  },
  {
   "cell_type": "code",
   "execution_count": null,
   "id": "9239b6b1",
   "metadata": {
    "attributes": {
     "classes": [
      "html"
     ],
     "id": ""
    }
   },
   "outputs": [],
   "source": [
    "<form>\n",
    "  <input type=\"submit\" value=\"提交\">\n",
    "</form>"
   ]
  },
  {
   "cell_type": "markdown",
   "id": "482f4a3a",
   "metadata": {},
   "source": [
    "上面表单就包含一个`submit`控件，点击这个控件，浏览器就会把表单数据向服务器提交。\n",
    "\n",
    "注意，表单里面的`<button>`元素如果没有用`type`属性指定类型，那么默认就是`submit`控件。"
   ]
  },
  {
   "cell_type": "code",
   "execution_count": null,
   "id": "4af745be",
   "metadata": {
    "attributes": {
     "classes": [
      "html"
     ],
     "id": ""
    }
   },
   "outputs": [],
   "source": [
    "<form>\n",
    "  <button>提交</button>\n",
    "</form>"
   ]
  },
  {
   "cell_type": "markdown",
   "id": "cc71e0c1",
   "metadata": {},
   "source": [
    "上面表单的`<button>`元素，点击以后也会提交表单。\n",
    "\n",
    "除了点击`submit`控件提交表单，还可以用表单元素的`submit()`方法，通过脚本提交表单。"
   ]
  },
  {
   "cell_type": "code",
   "execution_count": null,
   "id": "ba120002",
   "metadata": {
    "attributes": {
     "classes": [
      "javascript"
     ],
     "id": ""
    }
   },
   "outputs": [],
   "source": [
    "formElement.submit();"
   ]
  },
  {
   "cell_type": "markdown",
   "id": "89c59e96",
   "metadata": {},
   "source": [
    "表单元素的`reset()`方法可以重置所有控件的值（重置为默认值）。"
   ]
  },
  {
   "cell_type": "code",
   "execution_count": null,
   "id": "fb2aa102",
   "metadata": {
    "attributes": {
     "classes": [
      "javascript"
     ],
     "id": ""
    }
   },
   "outputs": [],
   "source": [
    "formElement.reset()"
   ]
  },
  {
   "cell_type": "markdown",
   "id": "bbfea9ed",
   "metadata": {},
   "source": [
    "## FormData 对象\n",
    "\n",
    "### 概述\n",
    "\n",
    "表单数据以键值对的形式向服务器发送，这个过程是浏览器自动完成的。但是有时候，我们希望通过脚本完成这个过程，构造或编辑表单的键值对，然后通过脚本发送给服务器。浏览器原生提供了 FormData 对象来完成这项工作。\n",
    "\n",
    "`FormData()`首先是一个构造函数，用来生成表单的实例。"
   ]
  },
  {
   "cell_type": "code",
   "execution_count": null,
   "id": "cdb4a9ee",
   "metadata": {
    "attributes": {
     "classes": [
      "javascript"
     ],
     "id": ""
    }
   },
   "outputs": [],
   "source": [
    "var formdata = new FormData(form);"
   ]
  },
  {
   "cell_type": "markdown",
   "id": "44b6f2f2",
   "metadata": {},
   "source": [
    "`FormData()`构造函数的参数是一个 DOM 的表单元素，构造函数会自动处理表单的键值对。这个参数是可选的，如果省略该参数，就表示一个空的表单。\n",
    "\n",
    "下面是一个表单。"
   ]
  },
  {
   "cell_type": "code",
   "execution_count": null,
   "id": "2ef69d45",
   "metadata": {
    "attributes": {
     "classes": [
      "html"
     ],
     "id": ""
    }
   },
   "outputs": [],
   "source": [
    "<form id=\"myForm\" name=\"myForm\">\n",
    "  <div>\n",
    "    <label for=\"username\">用户名：</label>\n",
    "    <input type=\"text\" id=\"username\" name=\"username\">\n",
    "  </div>\n",
    "  <div>\n",
    "    <label for=\"useracc\">账号：</label>\n",
    "    <input type=\"text\" id=\"useracc\" name=\"useracc\">\n",
    "  </div>\n",
    "  <div>\n",
    "    <label for=\"userfile\">上传文件：</label>\n",
    "    <input type=\"file\" id=\"userfile\" name=\"userfile\">\n",
    "  </div>\n",
    "<input type=\"submit\" value=\"Submit!\">\n",
    "</form>"
   ]
  },
  {
   "cell_type": "markdown",
   "id": "d9ccf029",
   "metadata": {},
   "source": [
    "我们用`FormData()`处理上面这个表单。"
   ]
  },
  {
   "cell_type": "code",
   "execution_count": null,
   "id": "7e1de505",
   "metadata": {
    "attributes": {
     "classes": [
      "javascript"
     ],
     "id": ""
    }
   },
   "outputs": [],
   "source": [
    "var myForm = document.getElementById('myForm');\n",
    "var formData = new FormData(myForm);\n",
    "\n",
    "// 获取某个控件的值\n",
    "formData.get('username') // \"\"\n",
    "\n",
    "// 设置某个控件的值\n",
    "formData.set('username', '张三');\n",
    "\n",
    "formData.get('username') // \"张三\""
   ]
  },
  {
   "cell_type": "markdown",
   "id": "0fffdae0",
   "metadata": {},
   "source": [
    "### 实例方法\n",
    "\n",
    "FormData 提供以下实例方法。\n",
    "\n",
    "- `FormData.get(key)`：获取指定键名对应的键值，参数为键名。如果有多个同名的键值对，则返回第一个键值对的键值。\n",
    "- `FormData.getAll(key)`：返回一个数组，表示指定键名对应的所有键值。如果有多个同名的键值对，数组会包含所有的键值。\n",
    "- `FormData.set(key, value)`：设置指定键名的键值，参数为键名。如果键名不存在，会添加这个键值对，否则会更新指定键名的键值。如果第二个参数是文件，还可以使用第三个参数，表示文件名。\n",
    "- `FormData.delete(key)`：删除一个键值对，参数为键名。\n",
    "- `FormData.append(key, value)`：添加一个键值对。如果键名重复，则会生成两个相同键名的键值对。如果第二个参数是文件，还可以使用第三个参数，表示文件名。\n",
    "- `FormData.has(key)`：返回一个布尔值，表示是否具有该键名的键值对。\n",
    "- `FormData.keys()`：返回一个遍历器对象，用于`for...of`循环遍历所有的键名。\n",
    "- `FormData.values()`：返回一个遍历器对象，用于`for...of`循环遍历所有的键值。\n",
    "- `FormData.entries()`：返回一个遍历器对象，用于`for...of`循环遍历所有的键值对。如果直接用`for...of`循环遍历 FormData 实例，默认就会调用这个方法。\n",
    "\n",
    "下面是`get()`、`getAll()`、`set()`、`append()`方法的例子。"
   ]
  },
  {
   "cell_type": "code",
   "execution_count": null,
   "id": "977b4ef7",
   "metadata": {
    "attributes": {
     "classes": [
      "javascript"
     ],
     "id": ""
    }
   },
   "outputs": [],
   "source": [
    "var formData = new FormData();\n",
    "\n",
    "formData.set('username', '张三');\n",
    "formData.append('username', '李四');\n",
    "formData.get('username') // \"张三\"\n",
    "formData.getAll('username') // [\"张三\", \"李四\"]\n",
    "\n",
    "formData.append('userpic[]', myFileInput.files[0], 'user1.jpg');\n",
    "formData.append('userpic[]', myFileInput.files[1], 'user2.jpg');"
   ]
  },
  {
   "cell_type": "markdown",
   "id": "2a763056",
   "metadata": {},
   "source": [
    "下面是遍历器的例子。"
   ]
  },
  {
   "cell_type": "code",
   "execution_count": null,
   "id": "7371a83c",
   "metadata": {
    "attributes": {
     "classes": [
      "javascript"
     ],
     "id": ""
    }
   },
   "outputs": [],
   "source": [
    "var formData = new FormData();\n",
    "formData.append('key1', 'value1');\n",
    "formData.append('key2', 'value2');\n",
    "\n",
    "for (var key of formData.keys()) {\n",
    "  console.log(key);\n",
    "}\n",
    "// \"key1\"\n",
    "// \"key2\"\n",
    "\n",
    "for (var value of formData.values()) {\n",
    "  console.log(value);\n",
    "}\n",
    "// \"value1\"\n",
    "// \"value2\"\n",
    "\n",
    "for (var pair of formData.entries()) {\n",
    "  console.log(pair[0] + ': ' + pair[1]);\n",
    "}\n",
    "// key1: value1\n",
    "// key2: value2\n",
    "\n",
    "// 等同于遍历 formData.entries()\n",
    "for (var pair of formData) {\n",
    "  console.log(pair[0] + ': ' + pair[1]);\n",
    "}\n",
    "// key1: value1\n",
    "// key2: value2"
   ]
  },
  {
   "cell_type": "markdown",
   "id": "ce99ac75",
   "metadata": {},
   "source": [
    "## 表单的内置验证\n",
    "\n",
    "### 自动校验\n",
    "\n",
    "表单提交的时候，浏览器允许开发者指定一些条件，它会自动验证各个表单控件的值是否符合条件。"
   ]
  },
  {
   "cell_type": "code",
   "execution_count": null,
   "id": "6b29e916",
   "metadata": {
    "attributes": {
     "classes": [
      "html"
     ],
     "id": ""
    }
   },
   "outputs": [],
   "source": [
    "<!-- 必填 -->\n",
    "<input required>\n",
    "\n",
    "<!-- 必须符合正则表达式 -->\n",
    "<input pattern=\"banana|cherry\">\n",
    "\n",
    "<!-- 字符串长度必须为6个字符 -->\n",
    "<input minlength=\"6\" maxlength=\"6\">\n",
    "\n",
    "<!-- 数值必须在1到10之间 -->\n",
    "<input type=\"number\" min=\"1\" max=\"10\">\n",
    "\n",
    "<!-- 必须填入 Email 地址 -->\n",
    "<input type=\"email\">\n",
    "\n",
    "<!-- 必须填入 URL -->\n",
    "<input type=\"URL\">"
   ]
  },
  {
   "cell_type": "markdown",
   "id": "c22d9baf",
   "metadata": {},
   "source": [
    "如果一个控件通过验证，它就会匹配`:valid`的 CSS 伪类，浏览器会继续进行表单提交的流程。如果没有通过验证，该控件就会匹配`:invalid`的 CSS 伪类，浏览器会终止表单提交，并显示一个错误信息。"
   ]
  },
  {
   "cell_type": "code",
   "execution_count": null,
   "id": "1894cc4e",
   "metadata": {
    "attributes": {
     "classes": [
      "css"
     ],
     "id": ""
    }
   },
   "outputs": [],
   "source": [
    "input:invalid {\n",
    "  border-color: red;\n",
    "}\n",
    "input,\n",
    "input:valid {\n",
    "  border-color: #ccc;\n",
    "}"
   ]
  },
  {
   "cell_type": "markdown",
   "id": "172a7d1f",
   "metadata": {},
   "source": [
    "### checkValidity()\n",
    "\n",
    "除了提交表单的时候，浏览器自动校验表单，还可以手动触发表单的校验。表单元素和表单控件都有`checkValidity()`方法，用于手动触发校验。"
   ]
  },
  {
   "cell_type": "code",
   "execution_count": null,
   "id": "7afe3544",
   "metadata": {
    "attributes": {
     "classes": [
      "javascript"
     ],
     "id": ""
    }
   },
   "outputs": [],
   "source": [
    "// 触发整个表单的校验\n",
    "form.checkValidity()\n",
    "\n",
    "// 触发单个表单控件的校验\n",
    "formControl.checkValidity()"
   ]
  },
  {
   "cell_type": "markdown",
   "id": "1b6a7829",
   "metadata": {},
   "source": [
    "`checkValidity()`方法返回一个布尔值，`true`表示通过校验，`false`表示没有通过校验。因此，提交表单可以封装为下面的函数。"
   ]
  },
  {
   "cell_type": "code",
   "execution_count": null,
   "id": "ea446eed",
   "metadata": {
    "attributes": {
     "classes": [
      "javascript"
     ],
     "id": ""
    }
   },
   "outputs": [],
   "source": [
    "function submitForm(action) {\n",
    "  var form = document.getElementById('form');\n",
    "  form.action = action;\n",
    "  if (form.checkValidity()) {\n",
    "    form.submit();\n",
    "  }\n",
    "}"
   ]
  },
  {
   "cell_type": "markdown",
   "id": "f81bfbff",
   "metadata": {},
   "source": [
    "### willValidate 属性\n",
    "\n",
    "控件元素的`willValidate`属性是一个布尔值，表示该控件是否会在提交时进行校验。"
   ]
  },
  {
   "cell_type": "code",
   "execution_count": null,
   "id": "4797ceae",
   "metadata": {
    "attributes": {
     "classes": [
      "javascript"
     ],
     "id": ""
    }
   },
   "outputs": [],
   "source": [
    "// HTML 代码如下\n",
    "// <form novalidate>\n",
    "//   <input id=\"name\" name=\"name\" required />\n",
    "// </form>\n",
    "\n",
    "var input = document.querySelector('#name');\n",
    "input.willValidate // true"
   ]
  },
  {
   "cell_type": "markdown",
   "id": "af7ff803",
   "metadata": {},
   "source": [
    "### validationMessage 属性\n",
    "\n",
    "控件元素的`validationMessage`属性返回一个字符串，表示控件不满足校验条件时，浏览器显示的提示文本。以下两种情况，该属性返回空字符串。\n",
    "\n",
    "- 该控件不会在提交时自动校验\n",
    "- 该控件满足校验条件"
   ]
  },
  {
   "cell_type": "code",
   "execution_count": null,
   "id": "f33aa651",
   "metadata": {
    "attributes": {
     "classes": [
      "javascript"
     ],
     "id": ""
    }
   },
   "outputs": [],
   "source": [
    "// HTML 代码如下\n",
    "// <form><input type=\"text\" required></form>\n",
    "document.querySelector('form input').validationMessage\n",
    "// \"请填写此字段。\""
   ]
  },
  {
   "cell_type": "markdown",
   "id": "e18c9249",
   "metadata": {},
   "source": [
    "下面是另一个例子。"
   ]
  },
  {
   "cell_type": "code",
   "execution_count": null,
   "id": "504d4905",
   "metadata": {
    "attributes": {
     "classes": [
      "javascript"
     ],
     "id": ""
    }
   },
   "outputs": [],
   "source": [
    "var myInput = document.getElementById('myinput');\n",
    "if (!myInput.checkValidity()) {\n",
    "  document.getElementById('prompt').innerHTML = myInput.validationMessage;\n",
    "}"
   ]
  },
  {
   "cell_type": "markdown",
   "id": "fd4db381",
   "metadata": {},
   "source": [
    "### setCustomValidity()\n",
    "\n",
    "控件元素的`setCustomValidity()`方法用来定制校验失败时的报错信息。它接受一个字符串作为参数，该字符串就是定制的报错信息。如果参数为空字符串，则上次设置的报错信息被清除。\n",
    "\n",
    "这个方法可以替换浏览器内置的表单验证报错信息，参数就是要显示的报错信息。"
   ]
  },
  {
   "cell_type": "code",
   "execution_count": null,
   "id": "8711ebb0",
   "metadata": {
    "attributes": {
     "classes": [
      "html"
     ],
     "id": ""
    }
   },
   "outputs": [],
   "source": [
    "<form action=\"somefile.php\">\n",
    "  <input\n",
    "    type=\"text\"\n",
    "    name=\"username\"\n",
    "    placeholder=\"Username\"\n",
    "    pattern=\"[a-z]{1,15}\"\n",
    "    id=\"username\"\n",
    "  >\n",
    "  <input type=\"submit\">\n",
    "</form>"
   ]
  },
  {
   "cell_type": "markdown",
   "id": "4b9bb485",
   "metadata": {},
   "source": [
    "上面的表单输入框，要求只能输入小写字母，且不得超过15个字符。如果输入不符合要求（比如输入“ABC”），提交表单的时候，Chrome 浏览器会弹出报错信息“Please match the requested format.”，禁止表单提交。下面使用`setCustomValidity()`方法替换掉报错信息。"
   ]
  },
  {
   "cell_type": "code",
   "execution_count": null,
   "id": "b488b747",
   "metadata": {
    "attributes": {
     "classes": [
      "javascript"
     ],
     "id": ""
    }
   },
   "outputs": [],
   "source": [
    "var input = document.getElementById('username');\n",
    "input.oninvalid = function (event) {\n",
    "  event.target.setCustomValidity(\n",
    "    '用户名必须是小写字母，不能为空，最长不超过15个字符'\n",
    "  );\n",
    "}"
   ]
  },
  {
   "cell_type": "markdown",
   "id": "7e2b5151",
   "metadata": {},
   "source": [
    "上面代码中，`setCustomValidity()`方法是在`invalid`事件的监听函数里面调用。该方法也可以直接调用，这时如果参数不为空字符串，浏览器就会认为该控件没有通过校验，就会立刻显示该方法设置的报错信息。"
   ]
  },
  {
   "cell_type": "code",
   "execution_count": null,
   "id": "b1fc5599",
   "metadata": {
    "attributes": {
     "classes": [
      "javascript"
     ],
     "id": ""
    }
   },
   "outputs": [],
   "source": [
    "/* HTML 代码如下\n",
    "<form>\n",
    "  <p><input type=\"file\" id=\"fs\"></p>\n",
    "  <p><input type=\"submit\"></p>\n",
    "</form>\n",
    "*/\n",
    "\n",
    "document.getElementById('fs').onchange = checkFileSize;\n",
    "\n",
    "function checkFileSize() {\n",
    "  var fs = document.getElementById('fs');\n",
    "  var files = fs.files;\n",
    "  if (files.length > 0) {\n",
    "     if (files[0].size > 75 * 1024) {\n",
    "       fs.setCustomValidity('文件不能大于 75KB');\n",
    "       return;\n",
    "     }\n",
    "  }\n",
    "  fs.setCustomValidity('');\n",
    "}"
   ]
  },
  {
   "cell_type": "markdown",
   "id": "e86d39ef",
   "metadata": {},
   "source": [
    "上面代码一旦发现文件大于 75KB，就会设置校验失败，同时给出自定义的报错信息。然后，点击提交按钮时，就会显示报错信息。这种校验失败是不会自动消除的，所以如果所有文件都符合条件，要将报错信息设为空字符串，手动消除校验失败的状态。\n",
    "\n",
    "### validity 属性\n",
    "\n",
    "控件元素的属性`validity`属性返回一个`ValidityState`对象，包含当前校验状态的信息。\n",
    "\n",
    "该对象有以下属性，全部为只读属性。\n",
    "\n",
    "- `ValidityState.badInput`：布尔值，表示浏览器是否不能将用户的输入转换成正确的类型，比如用户在数值框里面输入字符串。\n",
    "- `ValidityState.customError`：布尔值，表示是否已经调用`setCustomValidity()`方法，将校验信息设置为一个非空字符串。\n",
    "- `ValidityState.patternMismatch`：布尔值，表示用户输入的值是否不满足模式的要求。\n",
    "- `ValidityState.rangeOverflow`：布尔值，表示用户输入的值是否大于最大范围。\n",
    "- `ValidityState.rangeUnderflow`：布尔值，表示用户输入的值是否小于最小范围。\n",
    "- `ValidityState.stepMismatch`：布尔值，表示用户输入的值不符合步长的设置（即不能被步长值整除）。\n",
    "- `ValidityState.tooLong`：布尔值，表示用户输入的字数超出了最长字数。\n",
    "- `ValidityState.tooShort`：布尔值，表示用户输入的字符少于最短字数。\n",
    "- `ValidityState.typeMismatch`：布尔值，表示用户填入的值不符合类型要求（主要是类型为 Email 或 URL 的情况）。\n",
    "- `ValidityState.valid`：布尔值，表示用户是否满足所有校验条件。\n",
    "- `ValidityState.valueMissing`：布尔值，表示用户没有填入必填的值。\n",
    "\n",
    "下面是一个例子。"
   ]
  },
  {
   "cell_type": "code",
   "execution_count": null,
   "id": "380600f2",
   "metadata": {
    "attributes": {
     "classes": [
      "javascript"
     ],
     "id": ""
    }
   },
   "outputs": [],
   "source": [
    "var input = document.getElementById('myinput');\n",
    "if (input.validity.valid) {\n",
    "  console.log('通过校验');\n",
    "} else {\n",
    "  console.log('校验失败');\n",
    "}"
   ]
  },
  {
   "cell_type": "markdown",
   "id": "56e03626",
   "metadata": {},
   "source": [
    "下面是另外一个例子。"
   ]
  },
  {
   "cell_type": "code",
   "execution_count": null,
   "id": "c94985a4",
   "metadata": {
    "attributes": {
     "classes": [
      "javascript"
     ],
     "id": ""
    }
   },
   "outputs": [],
   "source": [
    "var txt = '';\n",
    "if (document.getElementById('myInput').validity.rangeOverflow) {\n",
    "  txt = '数值超过上限';\n",
    "}\n",
    "document.getElementById('prompt').innerHTML = txt;"
   ]
  },
  {
   "cell_type": "markdown",
   "id": "e3f18834",
   "metadata": {},
   "source": [
    "如果想禁止浏览器弹出表单验证的报错信息，可以监听`invalid`事件。"
   ]
  },
  {
   "cell_type": "code",
   "execution_count": null,
   "id": "b1883b7f",
   "metadata": {
    "attributes": {
     "classes": [
      "javascript"
     ],
     "id": ""
    }
   },
   "outputs": [],
   "source": [
    "var input = document.getElementById('username');\n",
    "var form  = document.getElementById('form');\n",
    "\n",
    "var elem = document.createElement('div');\n",
    "elem.id  = 'notify';\n",
    "elem.style.display = 'none';\n",
    "form.appendChild(elem);\n",
    "\n",
    "input.addEventListener('invalid', function (event) {\n",
    "  event.preventDefault();\n",
    "  if (!event.target.validity.valid) {\n",
    "    elem.textContent   = '用户名必须是小写字母';\n",
    "    elem.className     = 'error';\n",
    "    elem.style.display = 'block';\n",
    "    input.className    = 'invalid animated shake';\n",
    "  }\n",
    "});\n",
    "\n",
    "input.addEventListener('input', function(event){\n",
    "  if ( 'block' === elem.style.display ) {\n",
    "    input.className = '';\n",
    "    elem.style.display = 'none';\n",
    "  }\n",
    "});"
   ]
  },
  {
   "cell_type": "markdown",
   "id": "9977aed8",
   "metadata": {},
   "source": [
    "上面代码中，一旦发生`invalid`事件（表单验证失败），`event.preventDefault()`用来禁止浏览器弹出默认的验证失败提示，然后设置定制的报错提示框。\n",
    "\n",
    "### 表单的 novalidate 属性\n",
    "\n",
    "表单元素的 HTML 属性`novalidate`，可以关闭浏览器的自动校验。"
   ]
  },
  {
   "cell_type": "code",
   "execution_count": null,
   "id": "7ef5fd21",
   "metadata": {
    "attributes": {
     "classes": [
      "html"
     ],
     "id": ""
    }
   },
   "outputs": [],
   "source": [
    "<form novalidate>\n",
    "</form>"
   ]
  },
  {
   "cell_type": "markdown",
   "id": "6eb8b69c",
   "metadata": {},
   "source": [
    "这个属性也可以在脚本里设置。"
   ]
  },
  {
   "cell_type": "code",
   "execution_count": null,
   "id": "6cfe3091",
   "metadata": {
    "attributes": {
     "classes": [
      "javascript"
     ],
     "id": ""
    }
   },
   "outputs": [],
   "source": [
    "form.noValidate = true;"
   ]
  },
  {
   "cell_type": "markdown",
   "id": "09c3c184",
   "metadata": {},
   "source": [
    "如果表单元素没有设置`novalidate`属性，那么提交按钮（`<button>`或`<input>`元素）的`formnovalidate`属性也有同样的作用。"
   ]
  },
  {
   "cell_type": "code",
   "execution_count": null,
   "id": "82a98444",
   "metadata": {
    "attributes": {
     "classes": [
      "html"
     ],
     "id": ""
    }
   },
   "outputs": [],
   "source": [
    "<form>\n",
    "  <input type=\"submit\" value=\"submit\" formnovalidate>\n",
    "</form>"
   ]
  },
  {
   "cell_type": "markdown",
   "id": "e372c40e",
   "metadata": {},
   "source": [
    "## enctype 属性\n",
    "\n",
    "表单能够用四种编码，向服务器发送数据。编码格式由表单的`enctype`属性决定。\n",
    "\n",
    "假定表单有两个字段，分别是`foo`和`baz`，其中`foo`字段的值等于`bar`，`baz`字段的值是一个分为两行的字符串。"
   ]
  },
  {
   "cell_type": "code",
   "execution_count": null,
   "id": "d702f41c",
   "metadata": {},
   "outputs": [],
   "source": [
    "The first line.\n",
    "The second line."
   ]
  },
  {
   "cell_type": "markdown",
   "id": "f09f8d75",
   "metadata": {},
   "source": [
    "下面四种格式，都可以将这个表单发送到服务器。\n",
    "\n",
    "**（1）GET 方法**\n",
    "\n",
    "如果表单使用`GET`方法发送数据，`enctype`属性无效。"
   ]
  },
  {
   "cell_type": "code",
   "execution_count": null,
   "id": "5287e068",
   "metadata": {
    "attributes": {
     "classes": [
      "html"
     ],
     "id": ""
    }
   },
   "outputs": [],
   "source": [
    "<form\n",
    "  action=\"register.php\"\n",
    "  method=\"get\"\n",
    "  onsubmit=\"AJAXSubmit(this); return false;\"\n",
    ">\n",
    "</form>"
   ]
  },
  {
   "cell_type": "markdown",
   "id": "9cf1e941",
   "metadata": {},
   "source": [
    "数据将以 URL 的查询字符串发出。"
   ]
  },
  {
   "cell_type": "code",
   "execution_count": null,
   "id": "22e2c048",
   "metadata": {
    "attributes": {
     "classes": [
      "http"
     ],
     "id": ""
    }
   },
   "outputs": [],
   "source": [
    "?foo=bar&baz=The%20first%20line.%0AThe%20second%20line."
   ]
  },
  {
   "cell_type": "markdown",
   "id": "64064daa",
   "metadata": {},
   "source": [
    "**（2）application/x-www-form-urlencoded**\n",
    "\n",
    "如果表单用`POST`方法发送数据，并省略`enctype`属性，那么数据以`application/x-www-form-urlencoded`格式发送（因为这是默认值）。"
   ]
  },
  {
   "cell_type": "code",
   "execution_count": null,
   "id": "3de55e3e",
   "metadata": {
    "attributes": {
     "classes": [
      "html"
     ],
     "id": ""
    }
   },
   "outputs": [],
   "source": [
    "<form\n",
    "  action=\"register.php\"\n",
    "  method=\"post\"\n",
    "  onsubmit=\"AJAXSubmit(this); return false;\"\n",
    ">\n",
    "</form>"
   ]
  },
  {
   "cell_type": "markdown",
   "id": "c033d3b5",
   "metadata": {},
   "source": [
    "发送的 HTTP 请求如下。"
   ]
  },
  {
   "cell_type": "code",
   "execution_count": null,
   "id": "fbdfb15d",
   "metadata": {
    "attributes": {
     "classes": [
      "http"
     ],
     "id": ""
    }
   },
   "outputs": [],
   "source": [
    "Content-Type: application/x-www-form-urlencoded\n",
    "\n",
    "foo=bar&baz=The+first+line.%0D%0AThe+second+line.%0D%0A"
   ]
  },
  {
   "cell_type": "markdown",
   "id": "92788a90",
   "metadata": {},
   "source": [
    "上面代码中，数据体里面的`%0D%0A`代表换行符（`\\r\\n`）。\n",
    "\n",
    "**（3）text/plain**\n",
    "\n",
    "如果表单使用`POST`方法发送数据，`enctype`属性为`text/plain`，那么数据将以纯文本格式发送。"
   ]
  },
  {
   "cell_type": "code",
   "execution_count": null,
   "id": "0e5e147b",
   "metadata": {
    "attributes": {
     "classes": [
      "html"
     ],
     "id": ""
    }
   },
   "outputs": [],
   "source": [
    "<form\n",
    "  action=\"register.php\"\n",
    "  method=\"post\"\n",
    "  enctype=\"text/plain\"\n",
    "  onsubmit=\"AJAXSubmit(this); return false;\"\n",
    ">\n",
    "</form>"
   ]
  },
  {
   "cell_type": "markdown",
   "id": "90378c00",
   "metadata": {},
   "source": [
    "发送的 HTTP 请求如下。"
   ]
  },
  {
   "cell_type": "code",
   "execution_count": null,
   "id": "ceb248c8",
   "metadata": {
    "attributes": {
     "classes": [
      "http"
     ],
     "id": ""
    }
   },
   "outputs": [],
   "source": [
    "Content-Type: text/plain\n",
    "\n",
    "foo=bar\n",
    "baz=The first line.\n",
    "The second line."
   ]
  },
  {
   "cell_type": "markdown",
   "id": "a7c2109f",
   "metadata": {},
   "source": [
    "**（4）multipart/form-data**\n",
    "\n",
    "如果表单使用`POST`方法，`enctype`属性为`multipart/form-data`，那么数据将以混合的格式发送。"
   ]
  },
  {
   "cell_type": "code",
   "execution_count": null,
   "id": "cf609034",
   "metadata": {
    "attributes": {
     "classes": [
      "html"
     ],
     "id": ""
    }
   },
   "outputs": [],
   "source": [
    "<form\n",
    "  action=\"register.php\"\n",
    "  method=\"post\"\n",
    "  enctype=\"multipart/form-data\"\n",
    "  onsubmit=\"AJAXSubmit(this); return false;\"\n",
    ">\n",
    "</form>"
   ]
  },
  {
   "cell_type": "markdown",
   "id": "acf95c5d",
   "metadata": {},
   "source": [
    "发送的 HTTP 请求如下。"
   ]
  },
  {
   "cell_type": "code",
   "execution_count": null,
   "id": "6c3e07ea",
   "metadata": {
    "attributes": {
     "classes": [
      "http"
     ],
     "id": ""
    }
   },
   "outputs": [],
   "source": [
    "Content-Type: multipart/form-data; boundary=---------------------------314911788813839\n",
    "\n",
    "-----------------------------314911788813839\n",
    "Content-Disposition: form-data; name=\"foo\"\n",
    "\n",
    "bar\n",
    "-----------------------------314911788813839\n",
    "Content-Disposition: form-data; name=\"baz\"\n",
    "\n",
    "The first line.\n",
    "The second line.\n",
    "\n",
    "-----------------------------314911788813839--"
   ]
  },
  {
   "cell_type": "markdown",
   "id": "f50ad18e",
   "metadata": {},
   "source": [
    "这种格式也是文件上传的格式。\n",
    "\n",
    "## 文件上传\n",
    "\n",
    "用户上传文件，也是通过表单。具体来说，就是通过文件输入框选择本地文件，提交表单的时候，浏览器就会把这个文件发送到服务器。"
   ]
  },
  {
   "cell_type": "code",
   "execution_count": null,
   "id": "842c4c4f",
   "metadata": {
    "attributes": {
     "classes": [
      "html"
     ],
     "id": ""
    }
   },
   "outputs": [],
   "source": [
    "<input type=\"file\" id=\"file\" name=\"myFile\">"
   ]
  },
  {
   "cell_type": "markdown",
   "id": "f60e7d85",
   "metadata": {},
   "source": [
    "此外，还需要将表单`<form>`元素的`method`属性设为`POST`，`enctype`属性设为`multipart/form-data`。其中，`enctype`属性决定了 HTTP 头信息的`Content-Type`字段的值，默认情况下这个字段的值是`application/x-www-form-urlencoded`，但是文件上传的时候要改成`multipart/form-data`。"
   ]
  },
  {
   "cell_type": "code",
   "execution_count": null,
   "id": "30045e3e",
   "metadata": {
    "attributes": {
     "classes": [
      "html"
     ],
     "id": ""
    }
   },
   "outputs": [],
   "source": [
    "<form method=\"post\" enctype=\"multipart/form-data\">\n",
    "  <div>\n",
    "    <label for=\"file\">选择一个文件</label>\n",
    "    <input type=\"file\" id=\"file\" name=\"myFile\" multiple>\n",
    "  </div>\n",
    "  <div>\n",
    "    <input type=\"submit\" id=\"submit\" name=\"submit_button\" value=\"上传\" />\n",
    "  </div>\n",
    "</form>"
   ]
  },
  {
   "cell_type": "markdown",
   "id": "1dae5835",
   "metadata": {},
   "source": [
    "上面的 HTML 代码中，file 控件的`multiple`属性，指定可以一次选择多个文件；如果没有这个属性，则一次只能选择一个文件。"
   ]
  },
  {
   "cell_type": "code",
   "execution_count": null,
   "id": "27d9923b",
   "metadata": {
    "attributes": {
     "classes": [
      "javascript"
     ],
     "id": ""
    }
   },
   "outputs": [],
   "source": [
    "var fileSelect = document.getElementById('file');\n",
    "var files = fileSelect.files;"
   ]
  },
  {
   "cell_type": "markdown",
   "id": "77b232f5",
   "metadata": {},
   "source": [
    "然后，新建一个 FormData 实例对象，模拟发送到服务器的表单数据，把选中的文件添加到这个对象上面。"
   ]
  },
  {
   "cell_type": "code",
   "execution_count": null,
   "id": "4a8b0d7a",
   "metadata": {
    "attributes": {
     "classes": [
      "javascript"
     ],
     "id": ""
    }
   },
   "outputs": [],
   "source": [
    "var formData = new FormData();\n",
    "\n",
    "for (var i = 0; i < files.length; i++) {\n",
    "  var file = files[i];\n",
    "\n",
    "  // 只上传图片文件\n",
    "  if (!file.type.match('image.*')) {\n",
    "    continue;\n",
    "  }\n",
    "\n",
    "  formData.append('photos[]', file, file.name);\n",
    "}"
   ]
  },
  {
   "cell_type": "markdown",
   "id": "32afc92a",
   "metadata": {},
   "source": [
    "最后，使用 Ajax 向服务器上传文件。"
   ]
  },
  {
   "cell_type": "code",
   "execution_count": null,
   "id": "3977cbb1",
   "metadata": {
    "attributes": {
     "classes": [
      "javascript"
     ],
     "id": ""
    }
   },
   "outputs": [],
   "source": [
    "var xhr = new XMLHttpRequest();\n",
    "\n",
    "xhr.open('POST', 'handler.php', true);\n",
    "\n",
    "xhr.onload = function () {\n",
    "  if (xhr.status !== 200) {\n",
    "    console.log('An error occurred!');\n",
    "  }\n",
    "};\n",
    "\n",
    "xhr.send(formData);"
   ]
  },
  {
   "cell_type": "markdown",
   "id": "f09c8ecc",
   "metadata": {},
   "source": [
    "除了发送 FormData 实例，也可以直接 AJAX 发送文件。"
   ]
  },
  {
   "cell_type": "code",
   "execution_count": null,
   "id": "54bb14d5",
   "metadata": {
    "attributes": {
     "classes": [
      "javascript"
     ],
     "id": ""
    }
   },
   "outputs": [],
   "source": [
    "var file = document.getElementById('test-input').files[0];\n",
    "var xhr = new XMLHttpRequest();\n",
    "\n",
    "xhr.open('POST', 'myserver/uploads');\n",
    "xhr.setRequestHeader('Content-Type', file.type);\n",
    "xhr.send(file);"
   ]
  },
  {
   "cell_type": "markdown",
   "id": "a0aeab60",
   "metadata": {},
   "source": [
    "## 参考链接\n",
    "\n",
    "- [HTML5 Form Validation With the “pattern” Attribute](https://webdesign.tutsplus.com/tutorials/html5-form-validation-with-the-pattern-attribute--cms-25145), Thoriq Firdaus"
   ]
  }
 ],
 "metadata": {},
 "nbformat": 4,
 "nbformat_minor": 5
}

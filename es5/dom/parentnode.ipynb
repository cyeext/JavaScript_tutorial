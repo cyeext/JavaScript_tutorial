{
 "cells": [
  {
   "cell_type": "markdown",
   "id": "0370fbe8",
   "metadata": {},
   "source": [
    "# ParentNode 接口，ChildNode 接口\n",
    "\n",
    "节点对象除了继承 Node 接口以外，还拥有其他接口。`ParentNode`接口表示当前节点是一个父节点，提供一些处理子节点的方法。`ChildNode`接口表示当前节点是一个子节点，提供一些相关方法。\n",
    "\n",
    "## ParentNode 接口\n",
    "\n",
    "如果当前节点是父节点，就会混入了（mixin）`ParentNode`接口。由于只有元素节点（element）、文档节点（document）和文档片段节点（documentFragment）拥有子节点，因此只有这三类节点会拥有`ParentNode`接口。\n",
    "\n",
    "### ParentNode.children\n",
    "\n",
    "`children`属性返回一个`HTMLCollection`实例，成员是当前节点的所有元素子节点。该属性只读。\n",
    "\n",
    "下面是遍历某个节点的所有元素子节点的示例。"
   ]
  },
  {
   "cell_type": "code",
   "execution_count": null,
   "id": "ecde21f8",
   "metadata": {
    "attributes": {
     "classes": [
      "javascript"
     ],
     "id": ""
    }
   },
   "outputs": [],
   "source": [
    "for (var i = 0; i < el.children.length; i++) {\n",
    "  // ...\n",
    "}"
   ]
  },
  {
   "cell_type": "markdown",
   "id": "90b2b836",
   "metadata": {},
   "source": [
    "注意，`children`属性只包括元素子节点，不包括其他类型的子节点（比如文本子节点）。如果没有元素类型的子节点，返回值`HTMLCollection`实例的`length`属性为`0`。\n",
    "\n",
    "另外，`HTMLCollection`是动态集合，会实时反映 DOM 的任何变化。\n",
    "\n",
    "### ParentNode.firstElementChild\n",
    "\n",
    "`firstElementChild`属性返回当前节点的第一个元素子节点。如果没有任何元素子节点，则返回`null`。"
   ]
  },
  {
   "cell_type": "code",
   "execution_count": null,
   "id": "4f788c6b",
   "metadata": {
    "attributes": {
     "classes": [
      "javascript"
     ],
     "id": ""
    }
   },
   "outputs": [],
   "source": [
    "document.firstElementChild.nodeName\n",
    "// \"HTML\""
   ]
  },
  {
   "cell_type": "markdown",
   "id": "8e3eb3e2",
   "metadata": {},
   "source": [
    "上面代码中，`document`节点的第一个元素子节点是`<HTML>`。\n",
    "\n",
    "### ParentNode.lastElementChild\n",
    "\n",
    "`lastElementChild`属性返回当前节点的最后一个元素子节点，如果不存在任何元素子节点，则返回`null`。"
   ]
  },
  {
   "cell_type": "code",
   "execution_count": null,
   "id": "187b9516",
   "metadata": {
    "attributes": {
     "classes": [
      "javascript"
     ],
     "id": ""
    }
   },
   "outputs": [],
   "source": [
    "document.lastElementChild.nodeName\n",
    "// \"HTML\""
   ]
  },
  {
   "cell_type": "markdown",
   "id": "27d11582",
   "metadata": {},
   "source": [
    "上面代码中，`document`节点的最后一个元素子节点是`<HTML>`（因为`document`只包含这一个元素子节点）。\n",
    "\n",
    "### ParentNode.childElementCount\n",
    "\n",
    "`childElementCount`属性返回一个整数，表示当前节点的所有元素子节点的数目。如果不包含任何元素子节点，则返回`0`。"
   ]
  },
  {
   "cell_type": "code",
   "execution_count": null,
   "id": "b8e5fa2b",
   "metadata": {
    "attributes": {
     "classes": [
      "javascript"
     ],
     "id": ""
    }
   },
   "outputs": [],
   "source": [
    "document.body.childElementCount // 13"
   ]
  },
  {
   "cell_type": "markdown",
   "id": "8fd92515",
   "metadata": {},
   "source": [
    "### ParentNode.append()，ParentNode.prepend()\n",
    "\n",
    "**（1）ParentNode.append()**\n",
    "\n",
    "`append()`方法为当前节点追加一个或多个子节点，位置是最后一个元素子节点的后面。\n",
    "\n",
    "该方法不仅可以添加元素子节点（参数为元素节点），还可以添加文本子节点（参数为字符串）。"
   ]
  },
  {
   "cell_type": "code",
   "execution_count": null,
   "id": "84c2b6cf",
   "metadata": {
    "attributes": {
     "classes": [
      "javascript"
     ],
     "id": ""
    }
   },
   "outputs": [],
   "source": [
    "var parent = document.body;\n",
    "\n",
    "// 添加元素子节点\n",
    "var p = document.createElement('p');\n",
    "parent.append(p);\n",
    "\n",
    "// 添加文本子节点\n",
    "parent.append('Hello');\n",
    "\n",
    "// 添加多个元素子节点\n",
    "var p1 = document.createElement('p');\n",
    "var p2 = document.createElement('p');\n",
    "parent.append(p1, p2);\n",
    "\n",
    "// 添加元素子节点和文本子节点\n",
    "var p = document.createElement('p');\n",
    "parent.append('Hello', p);"
   ]
  },
  {
   "cell_type": "markdown",
   "id": "922ebf66",
   "metadata": {},
   "source": [
    "该方法没有返回值。\n",
    "\n",
    "注意，该方法与`Node.prototype.appendChild()`方法有三点不同。\n",
    "\n",
    "- `append()`允许字符串作为参数，`appendChild()`只允许子节点作为参数。\n",
    "- `append()`没有返回值，而`appendChild()`返回添加的子节点。\n",
    "- `append()`可以添加多个子节点和字符串（即允许多个参数），`appendChild()`只能添加一个节点（即只允许一个参数）。\n",
    "\n",
    "**（2）ParentNode.prepend()**\n",
    "\n",
    "`prepend()`方法为当前节点追加一个或多个子节点，位置是第一个元素子节点的前面。它的用法与`append()`方法完全一致，也是没有返回值。\n",
    "\n",
    "## ChildNode 接口\n",
    "\n",
    "如果一个节点有父节点，那么该节点就拥有了`ChildNode`接口。\n",
    "\n",
    "### ChildNode.remove()\n",
    "\n",
    "`remove()`方法用于从父节点移除当前节点。"
   ]
  },
  {
   "cell_type": "code",
   "execution_count": null,
   "id": "f0ff774e",
   "metadata": {
    "attributes": {
     "classes": [
      "javascript"
     ],
     "id": ""
    }
   },
   "outputs": [],
   "source": [
    "el.remove()"
   ]
  },
  {
   "cell_type": "markdown",
   "id": "115ec696",
   "metadata": {},
   "source": [
    "上面代码在 DOM 里面移除了`el`节点。\n",
    "\n",
    "### ChildNode.before()，ChildNode.after()\n",
    "\n",
    "**（1）ChildNode.before()**\n",
    "\n",
    "`before()`方法用于在当前节点的前面，插入一个或多个同级节点。两者拥有相同的父节点。\n",
    "\n",
    "注意，该方法不仅可以插入元素节点，还可以插入文本节点。"
   ]
  },
  {
   "cell_type": "code",
   "execution_count": null,
   "id": "cb12b0d5",
   "metadata": {
    "attributes": {
     "classes": [
      "javascript"
     ],
     "id": ""
    }
   },
   "outputs": [],
   "source": [
    "var p = document.createElement('p');\n",
    "var p1 = document.createElement('p');\n",
    "\n",
    "// 插入元素节点\n",
    "el.before(p);\n",
    "\n",
    "// 插入文本节点\n",
    "el.before('Hello');\n",
    "\n",
    "// 插入多个元素节点\n",
    "el.before(p, p1);\n",
    "\n",
    "// 插入元素节点和文本节点\n",
    "el.before(p, 'Hello');"
   ]
  },
  {
   "cell_type": "markdown",
   "id": "2f6f0677",
   "metadata": {},
   "source": [
    "**（2）ChildNode.after()**\n",
    "\n",
    "`after()`方法用于在当前节点的后面，插入一个或多个同级节点，两者拥有相同的父节点。用法与`before`方法完全相同。\n",
    "\n",
    "### ChildNode.replaceWith()\n",
    "\n",
    "`replaceWith()`方法使用参数节点，替换当前节点。参数可以是元素节点，也可以是文本节点。"
   ]
  },
  {
   "cell_type": "code",
   "execution_count": null,
   "id": "fba17bde",
   "metadata": {
    "attributes": {
     "classes": [
      "javascript"
     ],
     "id": ""
    }
   },
   "outputs": [],
   "source": [
    "var span = document.createElement('span');\n",
    "el.replaceWith(span);"
   ]
  },
  {
   "cell_type": "markdown",
   "id": "aeab1ae4",
   "metadata": {},
   "source": [
    "上面代码中，`el`节点将被`span`节点替换。"
   ]
  }
 ],
 "metadata": {},
 "nbformat": 4,
 "nbformat_minor": 5
}

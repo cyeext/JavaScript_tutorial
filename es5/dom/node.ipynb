{
 "cells": [
  {
   "cell_type": "markdown",
   "id": "cad75aa5",
   "metadata": {},
   "source": [
    "# Node 接口\n",
    "\n",
    "所有 DOM 节点对象都继承了 Node 接口，拥有一些共同的属性和方法。这是 DOM 操作的基础。\n",
    "\n",
    "## 属性\n",
    "\n",
    "### Node.prototype.nodeType\n",
    "\n",
    "`nodeType`属性返回一个整数值，表示节点的类型。"
   ]
  },
  {
   "cell_type": "code",
   "execution_count": null,
   "id": "f9697fef",
   "metadata": {
    "attributes": {
     "classes": [
      "javascript"
     ],
     "id": ""
    }
   },
   "outputs": [],
   "source": [
    "document.nodeType // 9"
   ]
  },
  {
   "cell_type": "markdown",
   "id": "3e15d652",
   "metadata": {},
   "source": [
    "上面代码中，文档节点的类型值为9。\n",
    "\n",
    "Node 对象定义了几个常量，对应这些类型值。"
   ]
  },
  {
   "cell_type": "code",
   "execution_count": null,
   "id": "ad8ed746",
   "metadata": {
    "attributes": {
     "classes": [
      "javascript"
     ],
     "id": ""
    }
   },
   "outputs": [],
   "source": [
    "document.nodeType === Node.DOCUMENT_NODE // true"
   ]
  },
  {
   "cell_type": "markdown",
   "id": "edd95492",
   "metadata": {},
   "source": [
    "上面代码中，文档节点的`nodeType`属性等于常量`Node.DOCUMENT_NODE`。\n",
    "\n",
    "不同节点的`nodeType`属性值和对应的常量如下。\n",
    "\n",
    "- 文档节点（document）：9，对应常量`Node.DOCUMENT_NODE`\n",
    "- 元素节点（element）：1，对应常量`Node.ELEMENT_NODE`\n",
    "- 属性节点（attr）：2，对应常量`Node.ATTRIBUTE_NODE`\n",
    "- 文本节点（text）：3，对应常量`Node.TEXT_NODE`\n",
    "- 文档片断节点（DocumentFragment）：11，对应常量`Node.DOCUMENT_FRAGMENT_NODE`\n",
    "- 文档类型节点（DocumentType）：10，对应常量`Node.DOCUMENT_TYPE_NODE`\n",
    "- 注释节点（Comment）：8，对应常量`Node.COMMENT_NODE`\n",
    "\n",
    "确定节点类型时，使用`nodeType`属性是常用方法。"
   ]
  },
  {
   "cell_type": "code",
   "execution_count": null,
   "id": "d7315188",
   "metadata": {
    "attributes": {
     "classes": [
      "javascript"
     ],
     "id": ""
    }
   },
   "outputs": [],
   "source": [
    "var node = document.documentElement.firstChild;\n",
    "if (node.nodeType === Node.ELEMENT_NODE) {\n",
    "  console.log('该节点是元素节点');\n",
    "}"
   ]
  },
  {
   "cell_type": "markdown",
   "id": "9c5b6d88",
   "metadata": {},
   "source": [
    "### Node.prototype.nodeName\n",
    "\n",
    "`nodeName`属性返回节点的名称。"
   ]
  },
  {
   "cell_type": "code",
   "execution_count": null,
   "id": "9e49c6f0",
   "metadata": {
    "attributes": {
     "classes": [
      "javascript"
     ],
     "id": ""
    }
   },
   "outputs": [],
   "source": [
    "// HTML 代码如下\n",
    "// <div id=\"d1\">hello world</div>\n",
    "var div = document.getElementById('d1');\n",
    "div.nodeName // \"DIV\""
   ]
  },
  {
   "cell_type": "markdown",
   "id": "eae1166d",
   "metadata": {},
   "source": [
    "上面代码中，元素节点`<div>`的`nodeName`属性就是大写的标签名`DIV`。\n",
    "\n",
    "不同节点的`nodeName`属性值如下。\n",
    "\n",
    "- 文档节点（document）：`#document`\n",
    "- 元素节点（element）：大写的标签名\n",
    "- 属性节点（attr）：属性的名称\n",
    "- 文本节点（text）：`#text`\n",
    "- 文档片断节点（DocumentFragment）：`#document-fragment`\n",
    "- 文档类型节点（DocumentType）：文档的类型\n",
    "- 注释节点（Comment）：`#comment`\n",
    "\n",
    "### Node.prototype.nodeValue\n",
    "\n",
    "`nodeValue`属性返回一个字符串，表示当前节点本身的文本值，该属性可读写。\n",
    "\n",
    "只有文本节点（text）、注释节点（comment）和属性节点（attr）有文本值，因此这三类节点的`nodeValue`可以返回结果，其他类型的节点一律返回`null`。同样的，也只有这三类节点可以设置`nodeValue`属性的值，其他类型的节点设置无效。"
   ]
  },
  {
   "cell_type": "code",
   "execution_count": null,
   "id": "e1af18cf",
   "metadata": {
    "attributes": {
     "classes": [
      "javascript"
     ],
     "id": ""
    }
   },
   "outputs": [],
   "source": [
    "// HTML 代码如下\n",
    "// <div id=\"d1\">hello world</div>\n",
    "var div = document.getElementById('d1');\n",
    "div.nodeValue // null\n",
    "div.firstChild.nodeValue // \"hello world\""
   ]
  },
  {
   "cell_type": "markdown",
   "id": "fb2843b4",
   "metadata": {},
   "source": [
    "上面代码中，`div`是元素节点，`nodeValue`属性返回`null`。`div.firstChild`是文本节点，所以可以返回文本值。\n",
    "\n",
    "### Node.prototype.textContent\n",
    "\n",
    "`textContent`属性返回当前节点和它的所有后代节点的文本内容。"
   ]
  },
  {
   "cell_type": "code",
   "execution_count": null,
   "id": "bf45feb9",
   "metadata": {
    "attributes": {
     "classes": [
      "javascript"
     ],
     "id": ""
    }
   },
   "outputs": [],
   "source": [
    "// HTML 代码为\n",
    "// <div id=\"divA\">This is <span>some</span> text</div>\n",
    "\n",
    "document.getElementById('divA').textContent\n",
    "// This is some text"
   ]
  },
  {
   "cell_type": "markdown",
   "id": "ab37bf90",
   "metadata": {},
   "source": [
    "`textContent`属性自动忽略当前节点内部的 HTML 标签，返回所有文本内容。\n",
    "\n",
    "该属性是可读写的，设置该属性的值，会用一个新的文本节点，替换所有原来的子节点。它还有一个好处，就是自动对 HTML 标签转义。这很适合用于用户提供的内容。"
   ]
  },
  {
   "cell_type": "code",
   "execution_count": null,
   "id": "ffc16ac9",
   "metadata": {
    "attributes": {
     "classes": [
      "javascript"
     ],
     "id": ""
    }
   },
   "outputs": [],
   "source": [
    "document.getElementById('foo').textContent = '<p>GoodBye!</p>';"
   ]
  },
  {
   "cell_type": "markdown",
   "id": "daffaba2",
   "metadata": {},
   "source": [
    "上面代码在插入文本时，会将`<p>`标签解释为文本，而不会当作标签处理。\n",
    "\n",
    "对于文本节点（text）、注释节点（comment）和属性节点（attr），`textContent`属性的值与`nodeValue`属性相同。对于其他类型的节点，该属性会将每个子节点（不包括注释节点）的内容连接在一起返回。如果一个节点没有子节点，则返回空字符串。\n",
    "\n",
    "文档节点（document）和文档类型节点（doctype）的`textContent`属性为`null`。如果要读取整个文档的内容，可以使用`document.documentElement.textContent`。\n",
    "\n",
    "### Node.prototype.baseURI\n",
    "\n",
    "`baseURI`属性返回一个字符串，表示当前网页的绝对路径。浏览器根据这个属性，计算网页上的相对路径的 URL。该属性为只读。"
   ]
  },
  {
   "cell_type": "code",
   "execution_count": null,
   "id": "65455aa6",
   "metadata": {
    "attributes": {
     "classes": [
      "javascript"
     ],
     "id": ""
    }
   },
   "outputs": [],
   "source": [
    "// 当前网页的网址为\n",
    "// http://www.example.com/index.html\n",
    "document.baseURI\n",
    "// \"http://www.example.com/index.html\""
   ]
  },
  {
   "cell_type": "markdown",
   "id": "f50194c9",
   "metadata": {},
   "source": [
    "如果无法读到网页的 URL，`baseURI`属性返回`null`。\n",
    "\n",
    "该属性的值一般由当前网址的 URL（即`window.location`属性）决定，但是可以使用 HTML 的`<base>`标签，改变该属性的值。"
   ]
  },
  {
   "cell_type": "code",
   "execution_count": null,
   "id": "1c47cca5",
   "metadata": {
    "attributes": {
     "classes": [
      "html"
     ],
     "id": ""
    }
   },
   "outputs": [],
   "source": [
    "<base href=\"http://www.example.com/page.html\">"
   ]
  },
  {
   "cell_type": "markdown",
   "id": "85eb91d8",
   "metadata": {},
   "source": [
    "设置了以后，`baseURI`属性就返回`<base>`标签设置的值。\n",
    "\n",
    "### Node.prototype.ownerDocument\n",
    "\n",
    "`Node.ownerDocument`属性返回当前节点所在的顶层文档对象，即`document`对象。"
   ]
  },
  {
   "cell_type": "code",
   "execution_count": null,
   "id": "477bfce7",
   "metadata": {
    "attributes": {
     "classes": [
      "javascript"
     ],
     "id": ""
    }
   },
   "outputs": [],
   "source": [
    "var d = p.ownerDocument;\n",
    "d === document // true"
   ]
  },
  {
   "cell_type": "markdown",
   "id": "969a8f74",
   "metadata": {},
   "source": [
    "`document`对象本身的`ownerDocument`属性，返回`null`。\n",
    "\n",
    "### Node.prototype.nextSibling\n",
    "\n",
    "`Node.nextSibling`属性返回紧跟在当前节点后面的第一个同级节点。如果当前节点后面没有同级节点，则返回`null`。"
   ]
  },
  {
   "cell_type": "code",
   "execution_count": null,
   "id": "371e2cbf",
   "metadata": {
    "attributes": {
     "classes": [
      "javascript"
     ],
     "id": ""
    }
   },
   "outputs": [],
   "source": [
    "// HTML 代码如下\n",
    "// <div id=\"d1\">hello</div><div id=\"d2\">world</div>\n",
    "var d1 = document.getElementById('d1');\n",
    "var d2 = document.getElementById('d2');\n",
    "\n",
    "d1.nextSibling === d2 // true"
   ]
  },
  {
   "cell_type": "markdown",
   "id": "27abf715",
   "metadata": {},
   "source": [
    "上面代码中，`d1.nextSibling`就是紧跟在`d1`后面的同级节点`d2`。\n",
    "\n",
    "注意，该属性还包括文本节点和注释节点（`<!-- comment -->`）。因此如果当前节点后面有空格，该属性会返回一个文本节点，内容为空格。\n",
    "\n",
    "`nextSibling`属性可以用来遍历所有子节点。"
   ]
  },
  {
   "cell_type": "code",
   "execution_count": null,
   "id": "50515afc",
   "metadata": {
    "attributes": {
     "classes": [
      "javascript"
     ],
     "id": ""
    }
   },
   "outputs": [],
   "source": [
    "var el = document.getElementById('div1').firstChild;\n",
    "\n",
    "while (el !== null) {\n",
    "  console.log(el.nodeName);\n",
    "  el = el.nextSibling;\n",
    "}"
   ]
  },
  {
   "cell_type": "markdown",
   "id": "85188bec",
   "metadata": {},
   "source": [
    "上面代码遍历`div1`节点的所有子节点。\n",
    "\n",
    "### Node.prototype.previousSibling\n",
    "\n",
    "`previousSibling`属性返回当前节点前面的、距离最近的一个同级节点。如果当前节点前面没有同级节点，则返回`null`。"
   ]
  },
  {
   "cell_type": "code",
   "execution_count": null,
   "id": "181459c8",
   "metadata": {
    "attributes": {
     "classes": [
      "javascript"
     ],
     "id": ""
    }
   },
   "outputs": [],
   "source": [
    "// HTML 代码如下\n",
    "// <div id=\"d1\">hello</div><div id=\"d2\">world</div>\n",
    "var d1 = document.getElementById('d1');\n",
    "var d2 = document.getElementById('d2');\n",
    "\n",
    "d2.previousSibling === d1 // true"
   ]
  },
  {
   "cell_type": "markdown",
   "id": "764fc42a",
   "metadata": {},
   "source": [
    "上面代码中，`d2.previousSibling`就是`d2`前面的同级节点`d1`。\n",
    "\n",
    "注意，该属性还包括文本节点和注释节点。因此如果当前节点前面有空格，该属性会返回一个文本节点，内容为空格。\n",
    "\n",
    "### Node.prototype.parentNode\n",
    "\n",
    "`parentNode`属性返回当前节点的父节点。对于一个节点来说，它的父节点只可能是三种类型：元素节点（element）、文档节点（document）和文档片段节点（documentfragment）。"
   ]
  },
  {
   "cell_type": "code",
   "execution_count": null,
   "id": "89198269",
   "metadata": {
    "attributes": {
     "classes": [
      "javascript"
     ],
     "id": ""
    }
   },
   "outputs": [],
   "source": [
    "if (node.parentNode) {\n",
    "  node.parentNode.removeChild(node);\n",
    "}"
   ]
  },
  {
   "cell_type": "markdown",
   "id": "81093104",
   "metadata": {},
   "source": [
    "上面代码中，通过`node.parentNode`属性将`node`节点从文档里面移除。\n",
    "\n",
    "文档节点（document）和文档片段节点（documentfragment）的父节点都是`null`。另外，对于那些生成后还没插入 DOM 树的节点，父节点也是`null`。\n",
    "\n",
    "### Node.prototype.parentElement\n",
    "\n",
    "`parentElement`属性返回当前节点的父元素节点。如果当前节点没有父节点，或者父节点类型不是元素节点，则返回`null`。"
   ]
  },
  {
   "cell_type": "code",
   "execution_count": null,
   "id": "996834a6",
   "metadata": {
    "attributes": {
     "classes": [
      "javascript"
     ],
     "id": ""
    }
   },
   "outputs": [],
   "source": [
    "if (node.parentElement) {\n",
    "  node.parentElement.style.color = 'red';\n",
    "}"
   ]
  },
  {
   "cell_type": "markdown",
   "id": "d48dab2c",
   "metadata": {},
   "source": [
    "上面代码中，父元素节点的样式设定了红色。\n",
    "\n",
    "由于父节点只可能是三种类型：元素节点、文档节点（document）和文档片段节点（documentfragment）。`parentElement`属性相当于把后两种父节点都排除了。\n",
    "\n",
    "### Node.prototype.firstChild，Node.prototype.lastChild\n",
    "\n",
    "`firstChild`属性返回当前节点的第一个子节点，如果当前节点没有子节点，则返回`null`。"
   ]
  },
  {
   "cell_type": "code",
   "execution_count": null,
   "id": "df5e9ea0",
   "metadata": {
    "attributes": {
     "classes": [
      "javascript"
     ],
     "id": ""
    }
   },
   "outputs": [],
   "source": [
    "// HTML 代码如下\n",
    "// <p id=\"p1\"><span>First span</span></p>\n",
    "var p1 = document.getElementById('p1');\n",
    "p1.firstChild.nodeName // \"SPAN\""
   ]
  },
  {
   "cell_type": "markdown",
   "id": "a509ba45",
   "metadata": {},
   "source": [
    "上面代码中，`p`元素的第一个子节点是`span`元素。\n",
    "\n",
    "注意，`firstChild`返回的除了元素节点，还可能是文本节点或注释节点。"
   ]
  },
  {
   "cell_type": "code",
   "execution_count": null,
   "id": "a50c49a2",
   "metadata": {
    "attributes": {
     "classes": [
      "javascript"
     ],
     "id": ""
    }
   },
   "outputs": [],
   "source": [
    "// HTML 代码如下\n",
    "// <p id=\"p1\">\n",
    "//   <span>First span</span>\n",
    "//  </p>\n",
    "var p1 = document.getElementById('p1');\n",
    "p1.firstChild.nodeName // \"#text\""
   ]
  },
  {
   "cell_type": "markdown",
   "id": "7615c9fd",
   "metadata": {},
   "source": [
    "上面代码中，`p`元素与`span`元素之间有空白字符，这导致`firstChild`返回的是文本节点。\n",
    "\n",
    "`lastChild`属性返回当前节点的最后一个子节点，如果当前节点没有子节点，则返回`null`。用法与`firstChild`属性相同。\n",
    "\n",
    "### Node.prototype.childNodes\n",
    "\n",
    "`childNodes`属性返回一个类似数组的对象（`NodeList`集合），成员包括当前节点的所有子节点。"
   ]
  },
  {
   "cell_type": "code",
   "execution_count": null,
   "id": "b748f73e",
   "metadata": {
    "attributes": {
     "classes": [
      "javascript"
     ],
     "id": ""
    }
   },
   "outputs": [],
   "source": [
    "var children = document.querySelector('ul').childNodes;"
   ]
  },
  {
   "cell_type": "markdown",
   "id": "6d615d3f",
   "metadata": {},
   "source": [
    "上面代码中，`children`就是`ul`元素的所有子节点。\n",
    "\n",
    "使用该属性，可以遍历某个节点的所有子节点。"
   ]
  },
  {
   "cell_type": "code",
   "execution_count": null,
   "id": "6031c236",
   "metadata": {
    "attributes": {
     "classes": [
      "javascript"
     ],
     "id": ""
    }
   },
   "outputs": [],
   "source": [
    "var div = document.getElementById('div1');\n",
    "var children = div.childNodes;\n",
    "\n",
    "for (var i = 0; i < children.length; i++) {\n",
    "  // ...\n",
    "}"
   ]
  },
  {
   "cell_type": "markdown",
   "id": "783feb95",
   "metadata": {},
   "source": [
    "文档节点（document）就有两个子节点：文档类型节点（docType）和 HTML 根元素节点。"
   ]
  },
  {
   "cell_type": "code",
   "execution_count": null,
   "id": "7e12061b",
   "metadata": {
    "attributes": {
     "classes": [
      "javascript"
     ],
     "id": ""
    }
   },
   "outputs": [],
   "source": [
    "var children = document.childNodes;\n",
    "for (var i = 0; i < children.length; i++) {\n",
    "  console.log(children[i].nodeType);\n",
    "}\n",
    "// 10\n",
    "// 1"
   ]
  },
  {
   "cell_type": "markdown",
   "id": "bd178185",
   "metadata": {},
   "source": [
    "上面代码中，文档节点的第一个子节点的类型是10（即文档类型节点），第二个子节点的类型是1（即元素节点）。\n",
    "\n",
    "注意，除了元素节点，`childNodes`属性的返回值还包括文本节点和注释节点。如果当前节点不包括任何子节点，则返回一个空的`NodeList`集合。由于`NodeList`对象是一个动态集合，一旦子节点发生变化，立刻会反映在返回结果之中。\n",
    "\n",
    "### Node.prototype.isConnected\n",
    "\n",
    "`isConnected`属性返回一个布尔值，表示当前节点是否在文档之中。"
   ]
  },
  {
   "cell_type": "code",
   "execution_count": null,
   "id": "540ff3a9",
   "metadata": {
    "attributes": {
     "classes": [
      "javascript"
     ],
     "id": ""
    }
   },
   "outputs": [],
   "source": [
    "var test = document.createElement('p');\n",
    "test.isConnected // false\n",
    "\n",
    "document.body.appendChild(test);\n",
    "test.isConnected // true"
   ]
  },
  {
   "cell_type": "markdown",
   "id": "ae4b0b6e",
   "metadata": {},
   "source": [
    "上面代码中，`test`节点是脚本生成的节点，没有插入文档之前，`isConnected`属性返回`false`，插入之后返回`true`。\n",
    "\n",
    "## 方法\n",
    "\n",
    "### Node.prototype.appendChild()\n",
    "\n",
    "`appendChild()`方法接受一个节点对象作为参数，将其作为最后一个子节点，插入当前节点。该方法的返回值就是插入文档的子节点。"
   ]
  },
  {
   "cell_type": "code",
   "execution_count": null,
   "id": "978b97c6",
   "metadata": {
    "attributes": {
     "classes": [
      "javascript"
     ],
     "id": ""
    }
   },
   "outputs": [],
   "source": [
    "var p = document.createElement('p');\n",
    "document.body.appendChild(p);"
   ]
  },
  {
   "cell_type": "markdown",
   "id": "f20380a6",
   "metadata": {},
   "source": [
    "上面代码新建一个`<p>`节点，将其插入`document.body`的尾部。\n",
    "\n",
    "如果参数节点是 DOM 已经存在的节点，`appendChild()`方法会将其从原来的位置，移动到新位置。"
   ]
  },
  {
   "cell_type": "code",
   "execution_count": null,
   "id": "c61bf01c",
   "metadata": {
    "attributes": {
     "classes": [
      "javascript"
     ],
     "id": ""
    }
   },
   "outputs": [],
   "source": [
    "var div = document.getElementById('myDiv');\n",
    "document.body.appendChild(div);"
   ]
  },
  {
   "cell_type": "markdown",
   "id": "d5eb7fde",
   "metadata": {},
   "source": [
    "上面代码中，插入的是一个已经存在的节点`myDiv`，结果就是该节点会从原来的位置，移动到`document.body`的尾部。\n",
    "\n",
    "如果`appendChild()`方法的参数是`DocumentFragment`节点，那么插入的是`DocumentFragment`的所有子节点，而不是`DocumentFragment`节点本身。返回值是一个空的`DocumentFragment`节点。\n",
    "\n",
    "### Node.prototype.hasChildNodes()\n",
    "\n",
    "`hasChildNodes`方法返回一个布尔值，表示当前节点是否有子节点。"
   ]
  },
  {
   "cell_type": "code",
   "execution_count": null,
   "id": "63023f34",
   "metadata": {
    "attributes": {
     "classes": [
      "javascript"
     ],
     "id": ""
    }
   },
   "outputs": [],
   "source": [
    "var foo = document.getElementById('foo');\n",
    "\n",
    "if (foo.hasChildNodes()) {\n",
    "  foo.removeChild(foo.childNodes[0]);\n",
    "}"
   ]
  },
  {
   "cell_type": "markdown",
   "id": "ec170303",
   "metadata": {},
   "source": [
    "上面代码表示，如果`foo`节点有子节点，就移除第一个子节点。\n",
    "\n",
    "注意，子节点包括所有类型的节点，并不仅仅是元素节点。哪怕节点只包含一个空格，`hasChildNodes`方法也会返回`true`。\n",
    "\n",
    "判断一个节点有没有子节点，有许多种方法，下面是其中的三种。\n",
    "\n",
    "- `node.hasChildNodes()`\n",
    "- `node.firstChild !== null`\n",
    "- `node.childNodes && node.childNodes.length > 0`\n",
    "\n",
    "`hasChildNodes`方法结合`firstChild`属性和`nextSibling`属性，可以遍历当前节点的所有后代节点。"
   ]
  },
  {
   "cell_type": "code",
   "execution_count": null,
   "id": "c06eb5b9",
   "metadata": {
    "attributes": {
     "classes": [
      "javascript"
     ],
     "id": ""
    }
   },
   "outputs": [],
   "source": [
    "function DOMComb(parent, callback) {\n",
    "  if (parent.hasChildNodes()) {\n",
    "    for (var node = parent.firstChild; node; node = node.nextSibling) {\n",
    "      DOMComb(node, callback);\n",
    "    }\n",
    "  }\n",
    "  callback(parent);\n",
    "}\n",
    "\n",
    "// 用法\n",
    "DOMComb(document.body, console.log)"
   ]
  },
  {
   "cell_type": "markdown",
   "id": "b84e8335",
   "metadata": {},
   "source": [
    "上面代码中，`DOMComb`函数的第一个参数是某个指定的节点，第二个参数是回调函数。这个回调函数会依次作用于指定节点，以及指定节点的所有后代节点。\n",
    "\n",
    "### Node.prototype.cloneNode()\n",
    "\n",
    "`cloneNode`方法用于克隆一个节点。它接受一个布尔值作为参数，表示是否同时克隆子节点。它的返回值是一个克隆出来的新节点。"
   ]
  },
  {
   "cell_type": "code",
   "execution_count": null,
   "id": "4feabdbb",
   "metadata": {
    "attributes": {
     "classes": [
      "javascript"
     ],
     "id": ""
    }
   },
   "outputs": [],
   "source": [
    "var cloneUL = document.querySelector('ul').cloneNode(true);"
   ]
  },
  {
   "cell_type": "markdown",
   "id": "d080ba66",
   "metadata": {},
   "source": [
    "该方法有一些使用注意点。\n",
    "\n",
    "（1）克隆一个节点，会拷贝该节点的所有属性，但是会丧失`addEventListener`方法和`on-`属性（即`node.onclick = fn`），添加在这个节点上的事件回调函数。\n",
    "\n",
    "（2）该方法返回的节点不在文档之中，即没有任何父节点，必须使用诸如`Node.appendChild`这样的方法添加到文档之中。\n",
    "\n",
    "（3）克隆一个节点之后，DOM 有可能出现两个有相同`id`属性（即`id=\"xxx\"`）的网页元素，这时应该修改其中一个元素的`id`属性。如果原节点有`name`属性，可能也需要修改。\n",
    "\n",
    "### Node.prototype.insertBefore()\n",
    "\n",
    "`insertBefore`方法用于将某个节点插入父节点内部的指定位置。"
   ]
  },
  {
   "cell_type": "code",
   "execution_count": null,
   "id": "2722d0cf",
   "metadata": {
    "attributes": {
     "classes": [
      "javascript"
     ],
     "id": ""
    }
   },
   "outputs": [],
   "source": [
    "var insertedNode = parentNode.insertBefore(newNode, referenceNode);"
   ]
  },
  {
   "cell_type": "markdown",
   "id": "d70ded71",
   "metadata": {},
   "source": [
    "`insertBefore`方法接受两个参数，第一个参数是所要插入的节点`newNode`，第二个参数是父节点`parentNode`内部的一个子节点`referenceNode`。`newNode`将插在`referenceNode`这个子节点的前面。返回值是插入的新节点`newNode`。"
   ]
  },
  {
   "cell_type": "code",
   "execution_count": null,
   "id": "a237f7fa",
   "metadata": {
    "attributes": {
     "classes": [
      "javascript"
     ],
     "id": ""
    }
   },
   "outputs": [],
   "source": [
    "var p = document.createElement('p');\n",
    "document.body.insertBefore(p, document.body.firstChild);"
   ]
  },
  {
   "cell_type": "markdown",
   "id": "1a275035",
   "metadata": {},
   "source": [
    "上面代码中，新建一个`<p>`节点，插在`document.body.firstChild`的前面，也就是成为`document.body`的第一个子节点。\n",
    "\n",
    "如果`insertBefore`方法的第二个参数为`null`，则新节点将插在当前节点内部的最后位置，即变成最后一个子节点。"
   ]
  },
  {
   "cell_type": "code",
   "execution_count": null,
   "id": "e505dbc0",
   "metadata": {
    "attributes": {
     "classes": [
      "javascript"
     ],
     "id": ""
    }
   },
   "outputs": [],
   "source": [
    "var p = document.createElement('p');\n",
    "document.body.insertBefore(p, null);"
   ]
  },
  {
   "cell_type": "markdown",
   "id": "bc8a3b36",
   "metadata": {},
   "source": [
    "上面代码中，`p`将成为`document.body`的最后一个子节点。这也说明`insertBefore`的第二个参数不能省略。\n",
    "\n",
    "注意，如果所要插入的节点是当前 DOM 现有的节点，则该节点将从原有的位置移除，插入新的位置。\n",
    "\n",
    "由于不存在`insertAfter`方法，如果新节点要插在父节点的某个子节点后面，可以用`insertBefore`方法结合`nextSibling`属性模拟。"
   ]
  },
  {
   "cell_type": "code",
   "execution_count": null,
   "id": "263d7fa2",
   "metadata": {
    "attributes": {
     "classes": [
      "javascript"
     ],
     "id": ""
    }
   },
   "outputs": [],
   "source": [
    "parent.insertBefore(s1, s2.nextSibling);"
   ]
  },
  {
   "cell_type": "markdown",
   "id": "f9bfb959",
   "metadata": {},
   "source": [
    "上面代码中，`parent`是父节点，`s1`是一个全新的节点，`s2`是可以将`s1`节点，插在`s2`节点的后面。如果`s2`是当前节点的最后一个子节点，则`s2.nextSibling`返回`null`，这时`s1`节点会插在当前节点的最后，变成当前节点的最后一个子节点，等于紧跟在`s2`的后面。\n",
    "\n",
    "如果要插入的节点是`DocumentFragment`类型，那么插入的将是`DocumentFragment`的所有子节点，而不是`DocumentFragment`节点本身。返回值将是一个空的`DocumentFragment`节点。\n",
    "\n",
    "### Node.prototype.removeChild()\n",
    "\n",
    "`removeChild`方法接受一个子节点作为参数，用于从当前节点移除该子节点。返回值是移除的子节点。"
   ]
  },
  {
   "cell_type": "code",
   "execution_count": null,
   "id": "676dd2aa",
   "metadata": {
    "attributes": {
     "classes": [
      "javascript"
     ],
     "id": ""
    }
   },
   "outputs": [],
   "source": [
    "var divA = document.getElementById('A');\n",
    "divA.parentNode.removeChild(divA);"
   ]
  },
  {
   "cell_type": "markdown",
   "id": "1e46ee99",
   "metadata": {},
   "source": [
    "上面代码移除了`divA`节点。注意，这个方法是在`divA`的父节点上调用的，不是在`divA`上调用的。\n",
    "\n",
    "下面是如何移除当前节点的所有子节点。"
   ]
  },
  {
   "cell_type": "code",
   "execution_count": null,
   "id": "7b64da74",
   "metadata": {
    "attributes": {
     "classes": [
      "javascript"
     ],
     "id": ""
    }
   },
   "outputs": [],
   "source": [
    "var element = document.getElementById('top');\n",
    "while (element.firstChild) {\n",
    "  element.removeChild(element.firstChild);\n",
    "}"
   ]
  },
  {
   "cell_type": "markdown",
   "id": "2ed2d9f0",
   "metadata": {},
   "source": [
    "被移除的节点依然存在于内存之中，但不再是 DOM 的一部分。所以，一个节点移除以后，依然可以使用它，比如插入到另一个节点下面。\n",
    "\n",
    "如果参数节点不是当前节点的子节点，`removeChild`方法将报错。\n",
    "\n",
    "### Node.prototype.replaceChild()\n",
    "\n",
    "`replaceChild`方法用于将一个新的节点，替换当前节点的某一个子节点。"
   ]
  },
  {
   "cell_type": "code",
   "execution_count": null,
   "id": "b56b4c4c",
   "metadata": {
    "attributes": {
     "classes": [
      "javascript"
     ],
     "id": ""
    }
   },
   "outputs": [],
   "source": [
    "var replacedNode = parentNode.replaceChild(newChild, oldChild);"
   ]
  },
  {
   "cell_type": "markdown",
   "id": "3cf0f502",
   "metadata": {},
   "source": [
    "上面代码中，`replaceChild`方法接受两个参数，第一个参数`newChild`是用来替换的新节点，第二个参数`oldChild`是将要替换走的子节点。返回值是替换走的那个节点`oldChild`。"
   ]
  },
  {
   "cell_type": "code",
   "execution_count": null,
   "id": "fb78a042",
   "metadata": {
    "attributes": {
     "classes": [
      "javascript"
     ],
     "id": ""
    }
   },
   "outputs": [],
   "source": [
    "var divA = document.getElementById('divA');\n",
    "var newSpan = document.createElement('span');\n",
    "newSpan.textContent = 'Hello World!';\n",
    "divA.parentNode.replaceChild(newSpan, divA);"
   ]
  },
  {
   "cell_type": "markdown",
   "id": "da6da533",
   "metadata": {},
   "source": [
    "上面代码是如何将指定节点`divA`替换走。\n",
    "\n",
    "### Node.prototype.contains()\n",
    "\n",
    "`contains`方法返回一个布尔值，表示参数节点是否满足以下三个条件之一。\n",
    "\n",
    "- 参数节点为当前节点。\n",
    "- 参数节点为当前节点的子节点。\n",
    "- 参数节点为当前节点的后代节点。"
   ]
  },
  {
   "cell_type": "code",
   "execution_count": null,
   "id": "56c4cd81",
   "metadata": {
    "attributes": {
     "classes": [
      "javascript"
     ],
     "id": ""
    }
   },
   "outputs": [],
   "source": [
    "document.body.contains(node)"
   ]
  },
  {
   "cell_type": "markdown",
   "id": "efa9ac85",
   "metadata": {},
   "source": [
    "上面代码检查参数节点`node`，是否包含在当前文档之中。\n",
    "\n",
    "注意，当前节点传入`contains`方法，返回`true`。"
   ]
  },
  {
   "cell_type": "code",
   "execution_count": null,
   "id": "f200649f",
   "metadata": {
    "attributes": {
     "classes": [
      "javascript"
     ],
     "id": ""
    }
   },
   "outputs": [],
   "source": [
    "nodeA.contains(nodeA) // true"
   ]
  },
  {
   "cell_type": "markdown",
   "id": "14905f68",
   "metadata": {},
   "source": [
    "### Node.prototype.compareDocumentPosition()\n",
    "\n",
    "`compareDocumentPosition`方法的用法，与`contains`方法完全一致，返回一个六个比特位的二进制值，表示参数节点与当前节点的关系。\n",
    "\n",
    "二进制值 | 十进制值 | 含义\n",
    "---------|------|-----\n",
    "000000 | 0 | 两个节点相同\n",
    "000001 | 1 | 两个节点不在同一个文档（即有一个节点不在当前文档）\n",
    "000010 | 2 | 参数节点在当前节点的前面\n",
    "000100 | 4 | 参数节点在当前节点的后面\n",
    "001000 | 8 | 参数节点包含当前节点\n",
    "010000 | 16 | 当前节点包含参数节点\n",
    "100000 | 32 | 浏览器内部使用"
   ]
  },
  {
   "cell_type": "code",
   "execution_count": null,
   "id": "355fb5f8",
   "metadata": {
    "attributes": {
     "classes": [
      "javascript"
     ],
     "id": ""
    }
   },
   "outputs": [],
   "source": [
    "// HTML 代码如下\n",
    "// <div id=\"mydiv\">\n",
    "//   <form><input id=\"test\" /></form>\n",
    "// </div>\n",
    "\n",
    "var div = document.getElementById('mydiv');\n",
    "var input = document.getElementById('test');\n",
    "\n",
    "div.compareDocumentPosition(input) // 20\n",
    "input.compareDocumentPosition(div) // 10"
   ]
  },
  {
   "cell_type": "markdown",
   "id": "456ece55",
   "metadata": {},
   "source": [
    "上面代码中，节点`div`包含节点`input`（二进制`010000`），而且节点`input`在节点`div`的后面（二进制`000100`），所以第一个`compareDocumentPosition`方法返回`20`（二进制`010100`，即`010000 + 000100`），第二个`compareDocumentPosition`方法返回`10`（二进制`001010`）。\n",
    "\n",
    "由于`compareDocumentPosition`返回值的含义，定义在每一个比特位上，所以如果要检查某一种特定的含义，就需要使用比特位运算符。"
   ]
  },
  {
   "cell_type": "code",
   "execution_count": null,
   "id": "c64c70e8",
   "metadata": {
    "attributes": {
     "classes": [
      "javascript"
     ],
     "id": ""
    }
   },
   "outputs": [],
   "source": [
    "var head = document.head;\n",
    "var body = document.body;\n",
    "if (head.compareDocumentPosition(body) & 4) {\n",
    "  console.log('文档结构正确');\n",
    "} else {\n",
    "  console.log('<body> 不能在 <head> 前面');\n",
    "}"
   ]
  },
  {
   "cell_type": "markdown",
   "id": "1f5ff401",
   "metadata": {},
   "source": [
    "上面代码中，`compareDocumentPosition`的返回值与`4`（又称掩码）进行与运算（`&`），得到一个布尔值，表示`<head>`是否在`<body>`前面。\n",
    "\n",
    "### Node.prototype.isEqualNode()，Node.prototype.isSameNode()\n",
    "\n",
    "`isEqualNode`方法返回一个布尔值，用于检查两个节点是否相等。所谓相等的节点，指的是两个节点的类型相同、属性相同、子节点相同。"
   ]
  },
  {
   "cell_type": "code",
   "execution_count": null,
   "id": "9087fb7b",
   "metadata": {
    "attributes": {
     "classes": [
      "javascript"
     ],
     "id": ""
    }
   },
   "outputs": [],
   "source": [
    "var p1 = document.createElement('p');\n",
    "var p2 = document.createElement('p');\n",
    "\n",
    "p1.isEqualNode(p2) // true"
   ]
  },
  {
   "cell_type": "markdown",
   "id": "a4478c5f",
   "metadata": {},
   "source": [
    "`isSameNode`方法返回一个布尔值，表示两个节点是否为同一个节点。"
   ]
  },
  {
   "cell_type": "code",
   "execution_count": null,
   "id": "dd7ccdf5",
   "metadata": {
    "attributes": {
     "classes": [
      "javascript"
     ],
     "id": ""
    }
   },
   "outputs": [],
   "source": [
    "var p1 = document.createElement('p');\n",
    "var p2 = document.createElement('p');\n",
    "\n",
    "p1.isSameNode(p2) // false\n",
    "p1.isSameNode(p1) // true"
   ]
  },
  {
   "cell_type": "markdown",
   "id": "d13ea88e",
   "metadata": {},
   "source": [
    "### Node.prototype.normalize()\n",
    "\n",
    "`normalize`方法用于清理当前节点内部的所有文本节点（text）。它会去除空的文本节点，并且将毗邻的文本节点合并成一个，也就是说不存在空的文本节点，以及毗邻的文本节点。"
   ]
  },
  {
   "cell_type": "code",
   "execution_count": null,
   "id": "116c2d88",
   "metadata": {
    "attributes": {
     "classes": [
      "javascript"
     ],
     "id": ""
    }
   },
   "outputs": [],
   "source": [
    "var wrapper = document.createElement('div');\n",
    "\n",
    "wrapper.appendChild(document.createTextNode('Part 1 '));\n",
    "wrapper.appendChild(document.createTextNode('Part 2 '));\n",
    "\n",
    "wrapper.childNodes.length // 2\n",
    "wrapper.normalize();\n",
    "wrapper.childNodes.length // 1"
   ]
  },
  {
   "cell_type": "markdown",
   "id": "d77ee956",
   "metadata": {},
   "source": [
    "上面代码使用`normalize`方法之前，`wrapper`节点有两个毗邻的文本子节点。使用`normalize`方法之后，两个文本子节点被合并成一个。\n",
    "\n",
    "该方法是`Text.splitText`的逆方法，可以查看《Text 节点对象》一章，了解更多内容。\n",
    "\n",
    "### Node.prototype.getRootNode()\n",
    "\n",
    "`getRootNode()`方法返回当前节点所在文档的根节点`document`，与`ownerDocument`属性的作用相同。"
   ]
  },
  {
   "cell_type": "code",
   "execution_count": null,
   "id": "1d74547d",
   "metadata": {
    "attributes": {
     "classes": [
      "javascript"
     ],
     "id": ""
    }
   },
   "outputs": [],
   "source": [
    "document.body.firstChild.getRootNode() === document\n",
    "// true\n",
    "document.body.firstChild.getRootNode() === document.body.firstChild.ownerDocument\n",
    "// true"
   ]
  },
  {
   "cell_type": "markdown",
   "id": "41ff65f3",
   "metadata": {},
   "source": [
    "该方法可用于`document`节点自身，这一点与`document.ownerDocument`不同。"
   ]
  },
  {
   "cell_type": "code",
   "execution_count": null,
   "id": "306bc79d",
   "metadata": {
    "attributes": {
     "classes": [
      "javascript"
     ],
     "id": ""
    }
   },
   "outputs": [],
   "source": [
    "document.getRootNode() // document\n",
    "document.ownerDocument // null"
   ]
  }
 ],
 "metadata": {},
 "nbformat": 4,
 "nbformat_minor": 5
}

{
 "cells": [
  {
   "cell_type": "markdown",
   "id": "5687a9d5",
   "metadata": {},
   "source": [
    "# 字符串\n",
    "\n",
    "## 概述\n",
    "\n",
    "### 定义\n",
    "\n",
    "字符串就是零个或多个排在一起的字符，放在单引号或双引号之中。"
   ]
  },
  {
   "cell_type": "code",
   "execution_count": null,
   "id": "798a510d",
   "metadata": {
    "attributes": {
     "classes": [
      "javascript"
     ],
     "id": ""
    }
   },
   "outputs": [],
   "source": [
    "'abc'\n",
    "\"abc\""
   ]
  },
  {
   "cell_type": "markdown",
   "id": "ac00d9ca",
   "metadata": {},
   "source": [
    "单引号字符串的内部，可以使用双引号。双引号字符串的内部，可以使用单引号。"
   ]
  },
  {
   "cell_type": "code",
   "execution_count": null,
   "id": "1810a610",
   "metadata": {
    "attributes": {
     "classes": [
      "javascript"
     ],
     "id": ""
    }
   },
   "outputs": [],
   "source": [
    "'key = \"value\"'\n",
    "\"It's a long journey\""
   ]
  },
  {
   "cell_type": "markdown",
   "id": "5145a44f",
   "metadata": {},
   "source": [
    "上面两个都是合法的字符串。\n",
    "\n",
    "如果要在单引号字符串的内部，使用单引号，就必须在内部的单引号前面加上反斜杠，用来转义。双引号字符串内部使用双引号，也是如此。"
   ]
  },
  {
   "cell_type": "code",
   "execution_count": null,
   "id": "800daa9f",
   "metadata": {
    "attributes": {
     "classes": [
      "javascript"
     ],
     "id": ""
    }
   },
   "outputs": [],
   "source": [
    "'Did she say \\'Hello\\'?'\n",
    "// \"Did she say 'Hello'?\"\n",
    "\n",
    "\"Did she say \\\"Hello\\\"?\"\n",
    "// \"Did she say \"Hello\"?\""
   ]
  },
  {
   "cell_type": "markdown",
   "id": "99d692fd",
   "metadata": {},
   "source": [
    "由于 HTML 语言的属性值使用双引号，所以很多项目约定 JavaScript 语言的字符串只使用单引号，本教程遵守这个约定。当然，只使用双引号也完全可以。重要的是坚持使用一种风格，不要一会使用单引号表示字符串，一会又使用双引号表示。\n",
    "\n",
    "字符串默认只能写在一行内，分成多行将会报错。"
   ]
  },
  {
   "cell_type": "code",
   "execution_count": null,
   "id": "d55eb73d",
   "metadata": {
    "attributes": {
     "classes": [
      "javascript"
     ],
     "id": ""
    }
   },
   "outputs": [],
   "source": [
    "'a\n",
    "b\n",
    "c'\n",
    "// SyntaxError: Unexpected token ILLEGAL"
   ]
  },
  {
   "cell_type": "markdown",
   "id": "3e85b97d",
   "metadata": {},
   "source": [
    "上面代码将一个字符串分成三行，JavaScript 就会报错。\n",
    "\n",
    "如果长字符串必须分成多行，可以在每一行的尾部使用反斜杠。"
   ]
  },
  {
   "cell_type": "code",
   "execution_count": null,
   "id": "ebf1c40c",
   "metadata": {
    "attributes": {
     "classes": [
      "javascript"
     ],
     "id": ""
    }
   },
   "outputs": [],
   "source": [
    "var longString = 'Long \\\n",
    "long \\\n",
    "long \\\n",
    "string';\n",
    "\n",
    "longString\n",
    "// \"Long long long string\""
   ]
  },
  {
   "cell_type": "markdown",
   "id": "31866474",
   "metadata": {},
   "source": [
    "上面代码表示，加了反斜杠以后，原来写在一行的字符串，可以分成多行书写。但是，输出的时候还是单行，效果与写在同一行完全一样。注意，反斜杠的后面必须是换行符，而不能有其他字符（比如空格），否则会报错。\n",
    "\n",
    "连接运算符（`+`）可以连接多个单行字符串，将长字符串拆成多行书写，输出的时候也是单行。"
   ]
  },
  {
   "cell_type": "code",
   "execution_count": null,
   "id": "e410fd23",
   "metadata": {
    "attributes": {
     "classes": [
      "javascript"
     ],
     "id": ""
    }
   },
   "outputs": [],
   "source": [
    "var longString = 'Long '\n",
    "  + 'long '\n",
    "  + 'long '\n",
    "  + 'string';"
   ]
  },
  {
   "cell_type": "markdown",
   "id": "db08cca1",
   "metadata": {},
   "source": [
    "如果想输出多行字符串，有一种利用多行注释的变通方法。"
   ]
  },
  {
   "cell_type": "code",
   "execution_count": null,
   "id": "f4c60efc",
   "metadata": {
    "attributes": {
     "classes": [
      "javascript"
     ],
     "id": ""
    }
   },
   "outputs": [],
   "source": [
    "(function () { /*\n",
    "line 1\n",
    "line 2\n",
    "line 3\n",
    "*/}).toString().split('\\n').slice(1, -1).join('\\n')\n",
    "// \"line 1\n",
    "// line 2\n",
    "// line 3\""
   ]
  },
  {
   "cell_type": "markdown",
   "id": "20206936",
   "metadata": {},
   "source": [
    "上面的例子中，输出的字符串就是多行。\n",
    "\n",
    "### 转义\n",
    "\n",
    "反斜杠（\\）在字符串内有特殊含义，用来表示一些特殊字符，所以又称为转义符。\n",
    "\n",
    "需要用反斜杠转义的特殊字符，主要有下面这些。\n",
    "\n",
    "- `\\0` ：null（`\\u0000`）\n",
    "- `\\b` ：后退键（`\\u0008`）\n",
    "- `\\f` ：换页符（`\\u000C`）\n",
    "- `\\n` ：换行符（`\\u000A`）\n",
    "- `\\r` ：回车键（`\\u000D`）\n",
    "- `\\t` ：制表符（`\\u0009`）\n",
    "- `\\v` ：垂直制表符（`\\u000B`）\n",
    "- `\\'` ：单引号（`\\u0027`）\n",
    "- `\\\"` ：双引号（`\\u0022`）\n",
    "- `\\\\` ：反斜杠（`\\u005C`）\n",
    "\n",
    "上面这些字符前面加上反斜杠，都表示特殊含义。"
   ]
  },
  {
   "cell_type": "code",
   "execution_count": null,
   "id": "3ebd9895",
   "metadata": {
    "attributes": {
     "classes": [
      "javascript"
     ],
     "id": ""
    }
   },
   "outputs": [],
   "source": [
    "console.log('1\\n2')\n",
    "// 1\n",
    "// 2"
   ]
  },
  {
   "cell_type": "markdown",
   "id": "66f639be",
   "metadata": {},
   "source": [
    "上面代码中，`\\n`表示换行，输出的时候就分成了两行。\n",
    "\n",
    "反斜杠还有三种特殊用法。\n",
    "\n",
    "（1）`\\HHH`\n",
    "\n",
    "反斜杠后面紧跟三个八进制数（`000`到`377`），代表一个字符。`HHH`对应该字符的 Unicode 码点，比如`\\251`表示版权符号。显然，这种方法只能输出256种字符。\n",
    "\n",
    "（2）`\\xHH`\n",
    "\n",
    "`\\x`后面紧跟两个十六进制数（`00`到`FF`），代表一个字符。`HH`对应该字符的 Unicode 码点，比如`\\xA9`表示版权符号。这种方法也只能输出256种字符。\n",
    "\n",
    "（3）`\\uXXXX`\n",
    "\n",
    "`\\u`后面紧跟四个十六进制数（`0000`到`FFFF`），代表一个字符。`XXXX`对应该字符的 Unicode 码点，比如`\\u00A9`表示版权符号。\n",
    "\n",
    "下面是这三种字符特殊写法的例子。"
   ]
  },
  {
   "cell_type": "code",
   "execution_count": null,
   "id": "10d747bb",
   "metadata": {
    "attributes": {
     "classes": [
      "javascript"
     ],
     "id": ""
    }
   },
   "outputs": [],
   "source": [
    "'\\251' // \"©\"\n",
    "'\\xA9' // \"©\"\n",
    "'\\u00A9' // \"©\"\n",
    "\n",
    "'\\172' === 'z' // true\n",
    "'\\x7A' === 'z' // true\n",
    "'\\u007A' === 'z' // true"
   ]
  },
  {
   "cell_type": "markdown",
   "id": "5c7a902b",
   "metadata": {},
   "source": [
    "如果在非特殊字符前面使用反斜杠，则反斜杠会被省略。"
   ]
  },
  {
   "cell_type": "code",
   "execution_count": null,
   "id": "a1d22a12",
   "metadata": {
    "attributes": {
     "classes": [
      "javascript"
     ],
     "id": ""
    }
   },
   "outputs": [],
   "source": [
    "'\\a'\n",
    "// \"a\""
   ]
  },
  {
   "cell_type": "markdown",
   "id": "a2d69084",
   "metadata": {},
   "source": [
    "上面代码中，`a`是一个正常字符，前面加反斜杠没有特殊含义，反斜杠会被自动省略。\n",
    "\n",
    "如果字符串的正常内容之中，需要包含反斜杠，则反斜杠前面需要再加一个反斜杠，用来对自身转义。"
   ]
  },
  {
   "cell_type": "code",
   "execution_count": null,
   "id": "1cc19189",
   "metadata": {
    "attributes": {
     "classes": [
      "javascript"
     ],
     "id": ""
    }
   },
   "outputs": [],
   "source": [
    "\"Prev \\\\ Next\"\n",
    "// \"Prev \\ Next\""
   ]
  },
  {
   "cell_type": "markdown",
   "id": "3703d70f",
   "metadata": {},
   "source": [
    "### 字符串与数组\n",
    "\n",
    "字符串可以被视为字符数组，因此可以使用数组的方括号运算符，用来返回某个位置的字符（位置编号从0开始）。"
   ]
  },
  {
   "cell_type": "code",
   "execution_count": null,
   "id": "58a5fa33",
   "metadata": {
    "attributes": {
     "classes": [
      "javascript"
     ],
     "id": ""
    }
   },
   "outputs": [],
   "source": [
    "var s = 'hello';\n",
    "s[0] // \"h\"\n",
    "s[1] // \"e\"\n",
    "s[4] // \"o\"\n",
    "\n",
    "// 直接对字符串使用方括号运算符\n",
    "'hello'[1] // \"e\""
   ]
  },
  {
   "cell_type": "markdown",
   "id": "a279bfd8",
   "metadata": {},
   "source": [
    "如果方括号中的数字超过字符串的长度，或者方括号中根本不是数字，则返回`undefined`。"
   ]
  },
  {
   "cell_type": "code",
   "execution_count": null,
   "id": "0d1bd19d",
   "metadata": {
    "attributes": {
     "classes": [
      "javascript"
     ],
     "id": ""
    }
   },
   "outputs": [],
   "source": [
    "'abc'[3] // undefined\n",
    "'abc'[-1] // undefined\n",
    "'abc'['x'] // undefined"
   ]
  },
  {
   "cell_type": "markdown",
   "id": "c1ba859e",
   "metadata": {},
   "source": [
    "但是，字符串与数组的相似性仅此而已。实际上，无法改变字符串之中的单个字符。"
   ]
  },
  {
   "cell_type": "code",
   "execution_count": null,
   "id": "736267b1",
   "metadata": {
    "attributes": {
     "classes": [
      "javascript"
     ],
     "id": ""
    }
   },
   "outputs": [],
   "source": [
    "var s = 'hello';\n",
    "\n",
    "delete s[0];\n",
    "s // \"hello\"\n",
    "\n",
    "s[1] = 'a';\n",
    "s // \"hello\"\n",
    "\n",
    "s[5] = '!';\n",
    "s // \"hello\""
   ]
  },
  {
   "cell_type": "markdown",
   "id": "210edc39",
   "metadata": {},
   "source": [
    "上面代码表示，字符串内部的单个字符无法改变和增删，这些操作会默默地失败。\n",
    "\n",
    "### length 属性\n",
    "\n",
    "`length`属性返回字符串的长度，该属性也是无法改变的。"
   ]
  },
  {
   "cell_type": "code",
   "execution_count": null,
   "id": "8adbc8bd",
   "metadata": {
    "attributes": {
     "classes": [
      "javascript"
     ],
     "id": ""
    }
   },
   "outputs": [],
   "source": [
    "var s = 'hello';\n",
    "s.length // 5\n",
    "\n",
    "s.length = 3;\n",
    "s.length // 5\n",
    "\n",
    "s.length = 7;\n",
    "s.length // 5"
   ]
  },
  {
   "cell_type": "markdown",
   "id": "6339a217",
   "metadata": {},
   "source": [
    "上面代码表示字符串的`length`属性无法改变，但是不会报错。\n",
    "\n",
    "## 字符集\n",
    "\n",
    "JavaScript 使用 Unicode 字符集。JavaScript 引擎内部，所有字符都用 Unicode 表示。\n",
    "\n",
    "JavaScript 不仅以 Unicode 储存字符，还允许直接在程序中使用 Unicode 码点表示字符，即将字符写成`\\uxxxx`的形式，其中`xxxx`代表该字符的 Unicode 码点。比如，`\\u00A9`代表版权符号。"
   ]
  },
  {
   "cell_type": "code",
   "execution_count": null,
   "id": "b1797814",
   "metadata": {
    "attributes": {
     "classes": [
      "javascript"
     ],
     "id": ""
    }
   },
   "outputs": [],
   "source": [
    "var s = '\\u00A9';\n",
    "s // \"©\""
   ]
  },
  {
   "cell_type": "markdown",
   "id": "66bb17a3",
   "metadata": {},
   "source": [
    "解析代码的时候，JavaScript 会自动识别一个字符是字面形式表示，还是 Unicode 形式表示。输出给用户的时候，所有字符都会转成字面形式。"
   ]
  },
  {
   "cell_type": "code",
   "execution_count": null,
   "id": "e2f24c46",
   "metadata": {
    "attributes": {
     "classes": [
      "javascript"
     ],
     "id": ""
    }
   },
   "outputs": [],
   "source": [
    "var f\\u006F\\u006F = 'abc';\n",
    "foo // \"abc\""
   ]
  },
  {
   "cell_type": "markdown",
   "id": "11af3b03",
   "metadata": {},
   "source": [
    "上面代码中，第一行的变量名`foo`是 Unicode 形式表示，第二行是字面形式表示。JavaScript 会自动识别。\n",
    "\n",
    "我们还需要知道，每个字符在 JavaScript 内部都是以16位（即2个字节）的 UTF-16 格式储存。也就是说，JavaScript 的单位字符长度固定为16位长度，即2个字节。\n",
    "\n",
    "但是，UTF-16 有两种长度：对于码点在`U+0000`到`U+FFFF`之间的字符，长度为16位（即2个字节）；对于码点在`U+10000`到`U+10FFFF`之间的字符，长度为32位（即4个字节），而且前两个字节在`0xD800`到`0xDBFF`之间，后两个字节在`0xDC00`到`0xDFFF`之间。举例来说，码点`U+1D306`对应的字符为`𝌆，`它写成 UTF-16 就是`0xD834 0xDF06`。\n",
    "\n",
    "JavaScript 对 UTF-16 的支持是不完整的，由于历史原因，只支持两字节的字符，不支持四字节的字符。这是因为 JavaScript 第一版发布的时候，Unicode 的码点只编到`U+FFFF`，因此两字节足够表示了。后来，Unicode 纳入的字符越来越多，出现了四字节的编码。但是，JavaScript 的标准此时已经定型了，统一将字符长度限制在两字节，导致无法识别四字节的字符。上一节的那个四字节字符`𝌆`，浏览器会正确识别这是一个字符，但是 JavaScript 无法识别，会认为这是两个字符。"
   ]
  },
  {
   "cell_type": "code",
   "execution_count": null,
   "id": "1fafbea5",
   "metadata": {
    "attributes": {
     "classes": [
      "javascript"
     ],
     "id": ""
    }
   },
   "outputs": [],
   "source": [
    "'𝌆'.length // 2"
   ]
  },
  {
   "cell_type": "markdown",
   "id": "c100fd74",
   "metadata": {},
   "source": [
    "上面代码中，JavaScript 认为`𝌆`的长度为2，而不是1。\n",
    "\n",
    "总结一下，对于码点在`U+10000`到`U+10FFFF`之间的字符，JavaScript 总是认为它们是两个字符（`length`属性为2）。所以处理的时候，必须把这一点考虑在内，也就是说，JavaScript 返回的字符串长度可能是不正确的。\n",
    "\n",
    "## Base64 转码\n",
    "\n",
    "有时，文本里面包含一些不可打印的符号，比如 ASCII 码0到31的符号都无法打印出来，这时可以使用 Base64 编码，将它们转成可以打印的字符。另一个场景是，有时需要以文本格式传递二进制数据，那么也可以使用 Base64 编码。\n",
    "\n",
    "所谓 Base64 就是一种编码方法，可以将任意值转成 0～9、A～Z、a-z、`+`和`/`这64个字符组成的可打印字符。使用它的主要目的，不是为了加密，而是为了不出现特殊字符，简化程序的处理。\n",
    "\n",
    "JavaScript 原生提供两个 Base64 相关的方法。\n",
    "\n",
    "- `btoa()`：任意值转为 Base64 编码\n",
    "- `atob()`：Base64 编码转为原来的值"
   ]
  },
  {
   "cell_type": "code",
   "execution_count": null,
   "id": "253fda03",
   "metadata": {
    "attributes": {
     "classes": [
      "javascript"
     ],
     "id": ""
    }
   },
   "outputs": [],
   "source": [
    "var string = 'Hello World!';\n",
    "btoa(string) // \"SGVsbG8gV29ybGQh\"\n",
    "atob('SGVsbG8gV29ybGQh') // \"Hello World!\""
   ]
  },
  {
   "cell_type": "markdown",
   "id": "2c92a410",
   "metadata": {},
   "source": [
    "注意，这两个方法不适合非 ASCII 码的字符，会报错。"
   ]
  },
  {
   "cell_type": "code",
   "execution_count": null,
   "id": "37980d44",
   "metadata": {
    "attributes": {
     "classes": [
      "javascript"
     ],
     "id": ""
    }
   },
   "outputs": [],
   "source": [
    "btoa('你好') // 报错"
   ]
  },
  {
   "cell_type": "markdown",
   "id": "b6280f8c",
   "metadata": {},
   "source": [
    "要将非 ASCII 码字符转为 Base64 编码，必须中间插入一个转码环节，再使用这两个方法。"
   ]
  },
  {
   "cell_type": "code",
   "execution_count": null,
   "id": "f848b95a",
   "metadata": {
    "attributes": {
     "classes": [
      "javascript"
     ],
     "id": ""
    }
   },
   "outputs": [],
   "source": [
    "function b64Encode(str) {\n",
    "  return btoa(encodeURIComponent(str));\n",
    "}\n",
    "\n",
    "function b64Decode(str) {\n",
    "  return decodeURIComponent(atob(str));\n",
    "}\n",
    "\n",
    "b64Encode('你好') // \"JUU0JUJEJUEwJUU1JUE1JUJE\"\n",
    "b64Decode('JUU0JUJEJUEwJUU1JUE1JUJE') // \"你好\""
   ]
  },
  {
   "cell_type": "markdown",
   "id": "db06a166",
   "metadata": {},
   "source": [
    "## 参考链接\n",
    "\n",
    "- Mathias Bynens, [JavaScript’s internal character encoding: UCS-2 or UTF-16?](http://mathiasbynens.be/notes/javascript-encoding)\n",
    "- Mathias Bynens, [JavaScript has a Unicode problem](http://mathiasbynens.be/notes/javascript-unicode)\n",
    "- Mozilla Developer Network, [Window.btoa](https://developer.mozilla.org/en-US/docs/Web/API/Window.btoa)"
   ]
  }
 ],
 "metadata": {},
 "nbformat": 4,
 "nbformat_minor": 5
}

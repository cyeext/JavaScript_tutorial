{
 "cells": [
  {
   "cell_type": "markdown",
   "id": "9a7cc0a8",
   "metadata": {},
   "source": [
    "# String 对象\n",
    "\n",
    "## 概述\n",
    "\n",
    "`String`对象是 JavaScript 原生提供的三个包装对象之一，用来生成字符串对象。"
   ]
  },
  {
   "cell_type": "code",
   "execution_count": null,
   "id": "7e5bea53",
   "metadata": {
    "attributes": {
     "classes": [
      "javascript"
     ],
     "id": ""
    }
   },
   "outputs": [],
   "source": [
    "var s1 = 'abc';\n",
    "var s2 = new String('abc');\n",
    "\n",
    "typeof s1 // \"string\"\n",
    "typeof s2 // \"object\"\n",
    "\n",
    "s2.valueOf() // \"abc\""
   ]
  },
  {
   "cell_type": "markdown",
   "id": "e4d5540a",
   "metadata": {},
   "source": [
    "上面代码中，变量`s1`是字符串，`s2`是对象。由于`s2`是字符串对象，`s2.valueOf`方法返回的就是它所对应的原始字符串。\n",
    "\n",
    "字符串对象是一个类似数组的对象（很像数组，但不是数组）。"
   ]
  },
  {
   "cell_type": "code",
   "execution_count": null,
   "id": "d7c2b9d0",
   "metadata": {
    "attributes": {
     "classes": [
      "javascript"
     ],
     "id": ""
    }
   },
   "outputs": [],
   "source": [
    "new String('abc')\n",
    "// String {0: \"a\", 1: \"b\", 2: \"c\", length: 3}\n",
    "\n",
    "(new String('abc'))[1] // \"b\""
   ]
  },
  {
   "cell_type": "markdown",
   "id": "1eb1067a",
   "metadata": {},
   "source": [
    "上面代码中，字符串`abc`对应的字符串对象，有数值键（`0`、`1`、`2`）和`length`属性，所以可以像数组那样取值。\n",
    "\n",
    "除了用作构造函数，`String`对象还可以当作工具方法使用，将任意类型的值转为字符串。"
   ]
  },
  {
   "cell_type": "code",
   "execution_count": null,
   "id": "b2ca4327",
   "metadata": {
    "attributes": {
     "classes": [
      "javascript"
     ],
     "id": ""
    }
   },
   "outputs": [],
   "source": [
    "String(true) // \"true\"\n",
    "String(5) // \"5\""
   ]
  },
  {
   "cell_type": "markdown",
   "id": "92d24748",
   "metadata": {},
   "source": [
    "上面代码将布尔值`true`和数值`5`，分别转换为字符串。\n",
    "\n",
    "## 静态方法\n",
    "\n",
    "### String.fromCharCode()\n",
    "\n",
    "`String`对象提供的静态方法（即定义在对象本身，而不是定义在对象实例的方法），主要是`String.fromCharCode()`。该方法的参数是一个或多个数值，代表 Unicode 码点，返回值是这些码点组成的字符串。"
   ]
  },
  {
   "cell_type": "code",
   "execution_count": null,
   "id": "304a19f5",
   "metadata": {
    "attributes": {
     "classes": [
      "javascript"
     ],
     "id": ""
    }
   },
   "outputs": [],
   "source": [
    "String.fromCharCode() // \"\"\n",
    "String.fromCharCode(97) // \"a\"\n",
    "String.fromCharCode(104, 101, 108, 108, 111)\n",
    "// \"hello\""
   ]
  },
  {
   "cell_type": "markdown",
   "id": "a2973f02",
   "metadata": {},
   "source": [
    "上面代码中，`String.fromCharCode`方法的参数为空，就返回空字符串；否则，返回参数对应的 Unicode 字符串。\n",
    "\n",
    "注意，该方法不支持 Unicode 码点大于`0xFFFF`的字符，即传入的参数不能大于`0xFFFF`（即十进制的 65535）。"
   ]
  },
  {
   "cell_type": "code",
   "execution_count": null,
   "id": "301dc35f",
   "metadata": {
    "attributes": {
     "classes": [
      "javascript"
     ],
     "id": ""
    }
   },
   "outputs": [],
   "source": [
    "String.fromCharCode(0x20BB7)\n",
    "// \"ஷ\"\n",
    "String.fromCharCode(0x20BB7) === String.fromCharCode(0x0BB7)\n",
    "// true"
   ]
  },
  {
   "cell_type": "markdown",
   "id": "2eba3ed2",
   "metadata": {},
   "source": [
    "上面代码中，`String.fromCharCode`参数`0x20BB7`大于`0xFFFF`，导致返回结果出错。`0x20BB7`对应的字符是汉字`𠮷`，但是返回结果却是另一个字符（码点`0x0BB7`）。这是因为`String.fromCharCode`发现参数值大于`0xFFFF`，就会忽略多出的位（即忽略`0x20BB7`里面的`2`）。\n",
    "\n",
    "这种现象的根本原因在于，码点大于`0xFFFF`的字符占用四个字节，而 JavaScript 默认支持两个字节的字符。这种情况下，必须把`0x20BB7`拆成两个字符表示。"
   ]
  },
  {
   "cell_type": "code",
   "execution_count": null,
   "id": "762e085b",
   "metadata": {
    "attributes": {
     "classes": [
      "javascript"
     ],
     "id": ""
    }
   },
   "outputs": [],
   "source": [
    "String.fromCharCode(0xD842, 0xDFB7)\n",
    "// \"𠮷\""
   ]
  },
  {
   "cell_type": "markdown",
   "id": "3aad9d02",
   "metadata": {},
   "source": [
    "上面代码中，`0x20BB7`拆成两个字符`0xD842`和`0xDFB7`（即两个两字节字符，合成一个四字节字符），就能得到正确的结果。码点大于`0xFFFF`的字符的四字节表示法，由 UTF-16 编码方法决定。\n",
    "\n",
    "## 实例属性\n",
    "\n",
    "### String.prototype.length\n",
    "\n",
    "字符串实例的`length`属性返回字符串的长度。"
   ]
  },
  {
   "cell_type": "code",
   "execution_count": null,
   "id": "72b97d45",
   "metadata": {
    "attributes": {
     "classes": [
      "javascript"
     ],
     "id": ""
    }
   },
   "outputs": [],
   "source": [
    "'abc'.length // 3"
   ]
  },
  {
   "cell_type": "markdown",
   "id": "ca281d63",
   "metadata": {},
   "source": [
    "## 实例方法\n",
    "\n",
    "### String.prototype.charAt()\n",
    "\n",
    "`charAt`方法返回指定位置的字符，参数是从`0`开始编号的位置。"
   ]
  },
  {
   "cell_type": "code",
   "execution_count": null,
   "id": "ffeef2c6",
   "metadata": {
    "attributes": {
     "classes": [
      "javascript"
     ],
     "id": ""
    }
   },
   "outputs": [],
   "source": [
    "var s = new String('abc');\n",
    "\n",
    "s.charAt(1) // \"b\"\n",
    "s.charAt(s.length - 1) // \"c\""
   ]
  },
  {
   "cell_type": "markdown",
   "id": "520bb4d8",
   "metadata": {},
   "source": [
    "这个方法完全可以用数组下标替代。"
   ]
  },
  {
   "cell_type": "code",
   "execution_count": null,
   "id": "c245aa72",
   "metadata": {
    "attributes": {
     "classes": [
      "javascript"
     ],
     "id": ""
    }
   },
   "outputs": [],
   "source": [
    "'abc'.charAt(1) // \"b\"\n",
    "'abc'[1] // \"b\""
   ]
  },
  {
   "cell_type": "markdown",
   "id": "b855fc66",
   "metadata": {},
   "source": [
    "如果参数为负数，或大于等于字符串的长度，`charAt`返回空字符串。"
   ]
  },
  {
   "cell_type": "code",
   "execution_count": null,
   "id": "92265c2f",
   "metadata": {
    "attributes": {
     "classes": [
      "javascript"
     ],
     "id": ""
    }
   },
   "outputs": [],
   "source": [
    "'abc'.charAt(-1) // \"\"\n",
    "'abc'.charAt(3) // \"\""
   ]
  },
  {
   "cell_type": "markdown",
   "id": "a84e7ff2",
   "metadata": {},
   "source": [
    "### String.prototype.charCodeAt()\n",
    "\n",
    "`charCodeAt()`方法返回字符串指定位置的 Unicode 码点（十进制表示），相当于`String.fromCharCode()`的逆操作。"
   ]
  },
  {
   "cell_type": "code",
   "execution_count": null,
   "id": "70740c12",
   "metadata": {
    "attributes": {
     "classes": [
      "javascript"
     ],
     "id": ""
    }
   },
   "outputs": [],
   "source": [
    "'abc'.charCodeAt(1) // 98"
   ]
  },
  {
   "cell_type": "markdown",
   "id": "d77e4b9a",
   "metadata": {},
   "source": [
    "上面代码中，`abc`的`1`号位置的字符是`b`，它的 Unicode 码点是`98`。\n",
    "\n",
    "如果没有任何参数，`charCodeAt`返回首字符的 Unicode 码点。"
   ]
  },
  {
   "cell_type": "code",
   "execution_count": null,
   "id": "a1d9c2cd",
   "metadata": {
    "attributes": {
     "classes": [
      "javascript"
     ],
     "id": ""
    }
   },
   "outputs": [],
   "source": [
    "'abc'.charCodeAt() // 97"
   ]
  },
  {
   "cell_type": "markdown",
   "id": "319ac4f5",
   "metadata": {},
   "source": [
    "如果参数为负数，或大于等于字符串的长度，`charCodeAt`返回`NaN`。"
   ]
  },
  {
   "cell_type": "code",
   "execution_count": null,
   "id": "4b2ac08a",
   "metadata": {
    "attributes": {
     "classes": [
      "javascript"
     ],
     "id": ""
    }
   },
   "outputs": [],
   "source": [
    "'abc'.charCodeAt(-1) // NaN\n",
    "'abc'.charCodeAt(4) // NaN"
   ]
  },
  {
   "cell_type": "markdown",
   "id": "db2bc667",
   "metadata": {},
   "source": [
    "注意，`charCodeAt`方法返回的 Unicode 码点不会大于65536（0xFFFF），也就是说，只返回两个字节的字符的码点。如果遇到码点大于 65536 的字符（四个字节的字符），必须连续使用两次`charCodeAt`，不仅读入`charCodeAt(i)`，还要读入`charCodeAt(i+1)`，将两个值放在一起，才能得到准确的字符。\n",
    "\n",
    "### String.prototype.concat()\n",
    "\n",
    "`concat`方法用于连接两个字符串，返回一个新字符串，不改变原字符串。"
   ]
  },
  {
   "cell_type": "code",
   "execution_count": null,
   "id": "8ce2b005",
   "metadata": {
    "attributes": {
     "classes": [
      "javascript"
     ],
     "id": ""
    }
   },
   "outputs": [],
   "source": [
    "var s1 = 'abc';\n",
    "var s2 = 'def';\n",
    "\n",
    "s1.concat(s2) // \"abcdef\"\n",
    "s1 // \"abc\""
   ]
  },
  {
   "cell_type": "markdown",
   "id": "36213615",
   "metadata": {},
   "source": [
    "该方法可以接受多个参数。"
   ]
  },
  {
   "cell_type": "code",
   "execution_count": null,
   "id": "63161085",
   "metadata": {
    "attributes": {
     "classes": [
      "javascript"
     ],
     "id": ""
    }
   },
   "outputs": [],
   "source": [
    "'a'.concat('b', 'c') // \"abc\""
   ]
  },
  {
   "cell_type": "markdown",
   "id": "91ea54cd",
   "metadata": {},
   "source": [
    "如果参数不是字符串，`concat`方法会将其先转为字符串，然后再连接。"
   ]
  },
  {
   "cell_type": "code",
   "execution_count": null,
   "id": "b47ff988",
   "metadata": {
    "attributes": {
     "classes": [
      "javascript"
     ],
     "id": ""
    }
   },
   "outputs": [],
   "source": [
    "var one = 1;\n",
    "var two = 2;\n",
    "var three = '3';\n",
    "\n",
    "''.concat(one, two, three) // \"123\"\n",
    "one + two + three // \"33\""
   ]
  },
  {
   "cell_type": "markdown",
   "id": "a6eadea4",
   "metadata": {},
   "source": [
    "上面代码中，`concat`方法将参数先转成字符串再连接，所以返回的是一个三个字符的字符串。作为对比，加号运算符在两个运算数都是数值时，不会转换类型，所以返回的是一个两个字符的字符串。\n",
    "\n",
    "### String.prototype.slice()\n",
    "\n",
    "`slice()`方法用于从原字符串取出子字符串并返回，不改变原字符串。它的第一个参数是子字符串的开始位置，第二个参数是子字符串的结束位置（不含该位置）。"
   ]
  },
  {
   "cell_type": "code",
   "execution_count": null,
   "id": "b536bbb6",
   "metadata": {
    "attributes": {
     "classes": [
      "javascript"
     ],
     "id": ""
    }
   },
   "outputs": [],
   "source": [
    "'JavaScript'.slice(0, 4) // \"Java\""
   ]
  },
  {
   "cell_type": "markdown",
   "id": "6143e7b4",
   "metadata": {},
   "source": [
    "如果省略第二个参数，则表示子字符串一直到原字符串结束。"
   ]
  },
  {
   "cell_type": "code",
   "execution_count": null,
   "id": "fb193f2d",
   "metadata": {
    "attributes": {
     "classes": [
      "javascript"
     ],
     "id": ""
    }
   },
   "outputs": [],
   "source": [
    "'JavaScript'.slice(4) // \"Script\""
   ]
  },
  {
   "cell_type": "markdown",
   "id": "a51195d7",
   "metadata": {},
   "source": [
    "如果参数是负值，表示从结尾开始倒数计算的位置，即该负值加上字符串长度。"
   ]
  },
  {
   "cell_type": "code",
   "execution_count": null,
   "id": "3125567c",
   "metadata": {
    "attributes": {
     "classes": [
      "javascript"
     ],
     "id": ""
    }
   },
   "outputs": [],
   "source": [
    "'JavaScript'.slice(-6) // \"Script\"\n",
    "'JavaScript'.slice(0, -6) // \"Java\"\n",
    "'JavaScript'.slice(-2, -1) // \"p\""
   ]
  },
  {
   "cell_type": "markdown",
   "id": "6149fd38",
   "metadata": {},
   "source": [
    "如果第一个参数大于第二个参数（正数情况下），`slice()`方法返回一个空字符串。"
   ]
  },
  {
   "cell_type": "code",
   "execution_count": null,
   "id": "59152a65",
   "metadata": {
    "attributes": {
     "classes": [
      "javascript"
     ],
     "id": ""
    }
   },
   "outputs": [],
   "source": [
    "'JavaScript'.slice(2, 1) // \"\""
   ]
  },
  {
   "cell_type": "markdown",
   "id": "ac5f5d02",
   "metadata": {},
   "source": [
    "### String.prototype.substring()\n",
    "\n",
    "`substring`方法用于从原字符串取出子字符串并返回，不改变原字符串，跟`slice`方法很相像。它的第一个参数表示子字符串的开始位置，第二个位置表示结束位置（返回结果不含该位置）。"
   ]
  },
  {
   "cell_type": "code",
   "execution_count": null,
   "id": "421a9c2f",
   "metadata": {
    "attributes": {
     "classes": [
      "javascript"
     ],
     "id": ""
    }
   },
   "outputs": [],
   "source": [
    "'JavaScript'.substring(0, 4) // \"Java\""
   ]
  },
  {
   "cell_type": "markdown",
   "id": "b98a3a3d",
   "metadata": {},
   "source": [
    "如果省略第二个参数，则表示子字符串一直到原字符串的结束。"
   ]
  },
  {
   "cell_type": "code",
   "execution_count": null,
   "id": "88726e28",
   "metadata": {
    "attributes": {
     "classes": [
      "javascript"
     ],
     "id": ""
    }
   },
   "outputs": [],
   "source": [
    "'JavaScript'.substring(4) // \"Script\""
   ]
  },
  {
   "cell_type": "markdown",
   "id": "3497e879",
   "metadata": {},
   "source": [
    "如果第一个参数大于第二个参数，`substring`方法会自动更换两个参数的位置。"
   ]
  },
  {
   "cell_type": "code",
   "execution_count": null,
   "id": "79455267",
   "metadata": {
    "attributes": {
     "classes": [
      "javascript"
     ],
     "id": ""
    }
   },
   "outputs": [],
   "source": [
    "'JavaScript'.substring(10, 4) // \"Script\"\n",
    "// 等同于\n",
    "'JavaScript'.substring(4, 10) // \"Script\""
   ]
  },
  {
   "cell_type": "markdown",
   "id": "193ad7e8",
   "metadata": {},
   "source": [
    "上面代码中，调换`substring`方法的两个参数，都得到同样的结果。\n",
    "\n",
    "如果参数是负数，`substring`方法会自动将负数转为0。"
   ]
  },
  {
   "cell_type": "code",
   "execution_count": null,
   "id": "b554df8a",
   "metadata": {
    "attributes": {
     "classes": [
      "javascript"
     ],
     "id": ""
    }
   },
   "outputs": [],
   "source": [
    "'JavaScript'.substring(-3) // \"JavaScript\"\n",
    "'JavaScript'.substring(4, -3) // \"Java\""
   ]
  },
  {
   "cell_type": "markdown",
   "id": "aef51b2c",
   "metadata": {},
   "source": [
    "上面代码中，第二个例子的参数`-3`会自动变成`0`，等同于`'JavaScript'.substring(4, 0)`。由于第二个参数小于第一个参数，会自动互换位置，所以返回`Java`。\n",
    "\n",
    "由于这些规则违反直觉，因此不建议使用`substring`方法，应该优先使用`slice`。\n",
    "\n",
    "### String.prototype.substr()\n",
    "\n",
    "`substr`方法用于从原字符串取出子字符串并返回，不改变原字符串，跟`slice`和`substring`方法的作用相同。\n",
    "\n",
    "`substr`方法的第一个参数是子字符串的开始位置（从0开始计算），第二个参数是子字符串的长度。"
   ]
  },
  {
   "cell_type": "code",
   "execution_count": null,
   "id": "99250ca7",
   "metadata": {
    "attributes": {
     "classes": [
      "javascript"
     ],
     "id": ""
    }
   },
   "outputs": [],
   "source": [
    "'JavaScript'.substr(4, 6) // \"Script\""
   ]
  },
  {
   "cell_type": "markdown",
   "id": "f20279ac",
   "metadata": {},
   "source": [
    "如果省略第二个参数，则表示子字符串一直到原字符串的结束。"
   ]
  },
  {
   "cell_type": "code",
   "execution_count": null,
   "id": "357d7c82",
   "metadata": {
    "attributes": {
     "classes": [
      "javascript"
     ],
     "id": ""
    }
   },
   "outputs": [],
   "source": [
    "'JavaScript'.substr(4) // \"Script\""
   ]
  },
  {
   "cell_type": "markdown",
   "id": "9272302e",
   "metadata": {},
   "source": [
    "如果第一个参数是负数，表示倒数计算的字符位置。如果第二个参数是负数，将被自动转为0，因此会返回空字符串。"
   ]
  },
  {
   "cell_type": "code",
   "execution_count": null,
   "id": "b60efdf7",
   "metadata": {
    "attributes": {
     "classes": [
      "javascript"
     ],
     "id": ""
    }
   },
   "outputs": [],
   "source": [
    "'JavaScript'.substr(-6) // \"Script\"\n",
    "'JavaScript'.substr(4, -1) // \"\""
   ]
  },
  {
   "cell_type": "markdown",
   "id": "819b79a6",
   "metadata": {},
   "source": [
    "上面代码中，第二个例子的参数`-1`自动转为`0`，表示子字符串长度为`0`，所以返回空字符串。\n",
    "\n",
    "### String.prototype.indexOf()，String.prototype.lastIndexOf()\n",
    "\n",
    "`indexOf`方法用于确定一个字符串在另一个字符串中第一次出现的位置，返回结果是匹配开始的位置。如果返回`-1`，就表示不匹配。"
   ]
  },
  {
   "cell_type": "code",
   "execution_count": null,
   "id": "692e1f53",
   "metadata": {
    "attributes": {
     "classes": [
      "javascript"
     ],
     "id": ""
    }
   },
   "outputs": [],
   "source": [
    "'hello world'.indexOf('o') // 4\n",
    "'JavaScript'.indexOf('script') // -1"
   ]
  },
  {
   "cell_type": "markdown",
   "id": "7a560d6b",
   "metadata": {},
   "source": [
    "`indexOf`方法还可以接受第二个参数，表示从该位置开始向后匹配。"
   ]
  },
  {
   "cell_type": "code",
   "execution_count": null,
   "id": "0797ff4c",
   "metadata": {
    "attributes": {
     "classes": [
      "javascript"
     ],
     "id": ""
    }
   },
   "outputs": [],
   "source": [
    "'hello world'.indexOf('o', 6) // 7"
   ]
  },
  {
   "cell_type": "markdown",
   "id": "a033c6bb",
   "metadata": {},
   "source": [
    "`lastIndexOf`方法的用法跟`indexOf`方法一致，主要的区别是`lastIndexOf`从尾部开始匹配，`indexOf`则是从头部开始匹配。"
   ]
  },
  {
   "cell_type": "code",
   "execution_count": null,
   "id": "a0127bb3",
   "metadata": {
    "attributes": {
     "classes": [
      "javascript"
     ],
     "id": ""
    }
   },
   "outputs": [],
   "source": [
    "'hello world'.lastIndexOf('o') // 7"
   ]
  },
  {
   "cell_type": "markdown",
   "id": "8abcb553",
   "metadata": {},
   "source": [
    "另外，`lastIndexOf`的第二个参数表示从该位置起向前匹配。"
   ]
  },
  {
   "cell_type": "code",
   "execution_count": null,
   "id": "307eaeb9",
   "metadata": {
    "attributes": {
     "classes": [
      "javascript"
     ],
     "id": ""
    }
   },
   "outputs": [],
   "source": [
    "'hello world'.lastIndexOf('o', 6) // 4"
   ]
  },
  {
   "cell_type": "markdown",
   "id": "4b529012",
   "metadata": {},
   "source": [
    "### String.prototype.trim()\n",
    "\n",
    "`trim`方法用于去除字符串两端的空格，返回一个新字符串，不改变原字符串。"
   ]
  },
  {
   "cell_type": "code",
   "execution_count": null,
   "id": "a40a9d09",
   "metadata": {
    "attributes": {
     "classes": [
      "javascript"
     ],
     "id": ""
    }
   },
   "outputs": [],
   "source": [
    "'  hello world  '.trim()\n",
    "// \"hello world\""
   ]
  },
  {
   "cell_type": "markdown",
   "id": "8ab57c84",
   "metadata": {},
   "source": [
    "该方法去除的不仅是空格，还包括制表符（`\\t`、`\\v`）、换行符（`\\n`）和回车符（`\\r`）。"
   ]
  },
  {
   "cell_type": "code",
   "execution_count": null,
   "id": "79ddb492",
   "metadata": {
    "attributes": {
     "classes": [
      "javascript"
     ],
     "id": ""
    }
   },
   "outputs": [],
   "source": [
    "'\\r\\nabc \\t'.trim() // 'abc'"
   ]
  },
  {
   "cell_type": "markdown",
   "id": "e16d30f1",
   "metadata": {},
   "source": [
    "### String.prototype.toLowerCase()，String.prototype.toUpperCase()\n",
    "\n",
    "`toLowerCase`方法用于将一个字符串全部转为小写，`toUpperCase`则是全部转为大写。它们都返回一个新字符串，不改变原字符串。"
   ]
  },
  {
   "cell_type": "code",
   "execution_count": null,
   "id": "5d9d0850",
   "metadata": {
    "attributes": {
     "classes": [
      "javascript"
     ],
     "id": ""
    }
   },
   "outputs": [],
   "source": [
    "'Hello World'.toLowerCase()\n",
    "// \"hello world\"\n",
    "\n",
    "'Hello World'.toUpperCase()\n",
    "// \"HELLO WORLD\""
   ]
  },
  {
   "cell_type": "markdown",
   "id": "c1926adf",
   "metadata": {},
   "source": [
    "### String.prototype.match()\n",
    "\n",
    "`match`方法用于确定原字符串是否匹配某个子字符串，返回一个数组，成员为匹配的第一个字符串。如果没有找到匹配，则返回`null`。"
   ]
  },
  {
   "cell_type": "code",
   "execution_count": null,
   "id": "76bd636d",
   "metadata": {
    "attributes": {
     "classes": [
      "javascript"
     ],
     "id": ""
    }
   },
   "outputs": [],
   "source": [
    "'cat, bat, sat, fat'.match('at') // [\"at\"]\n",
    "'cat, bat, sat, fat'.match('xt') // null"
   ]
  },
  {
   "cell_type": "markdown",
   "id": "3a679cbd",
   "metadata": {},
   "source": [
    "返回的数组还有`index`属性和`input`属性，分别表示匹配字符串开始的位置和原始字符串。"
   ]
  },
  {
   "cell_type": "code",
   "execution_count": null,
   "id": "9a2687c6",
   "metadata": {
    "attributes": {
     "classes": [
      "javascript"
     ],
     "id": ""
    }
   },
   "outputs": [],
   "source": [
    "var matches = 'cat, bat, sat, fat'.match('at');\n",
    "matches.index // 1\n",
    "matches.input // \"cat, bat, sat, fat\""
   ]
  },
  {
   "cell_type": "markdown",
   "id": "125fbd19",
   "metadata": {},
   "source": [
    "`match`方法还可以使用正则表达式作为参数，详见《正则表达式》一章。\n",
    "\n",
    "### String.prototype.search()，String.prototype.replace()\n",
    "\n",
    "`search`方法的用法基本等同于`match`，但是返回值为匹配的第一个位置。如果没有找到匹配，则返回`-1`。"
   ]
  },
  {
   "cell_type": "code",
   "execution_count": null,
   "id": "4dc1e5ef",
   "metadata": {
    "attributes": {
     "classes": [
      "javascript"
     ],
     "id": ""
    }
   },
   "outputs": [],
   "source": [
    "'cat, bat, sat, fat'.search('at') // 1"
   ]
  },
  {
   "cell_type": "markdown",
   "id": "3809d1b8",
   "metadata": {},
   "source": [
    "`search`方法还可以使用正则表达式作为参数，详见《正则表达式》一节。\n",
    "\n",
    "`replace`方法用于替换匹配的子字符串，一般情况下只替换第一个匹配（除非使用带有`g`修饰符的正则表达式）。"
   ]
  },
  {
   "cell_type": "code",
   "execution_count": null,
   "id": "93d9127d",
   "metadata": {
    "attributes": {
     "classes": [
      "javascript"
     ],
     "id": ""
    }
   },
   "outputs": [],
   "source": [
    "'aaa'.replace('a', 'b') // \"baa\""
   ]
  },
  {
   "cell_type": "markdown",
   "id": "f7958333",
   "metadata": {},
   "source": [
    "`replace`方法还可以使用正则表达式作为参数，详见《正则表达式》一节。\n",
    "\n",
    "### String.prototype.split()\n",
    "\n",
    "`split`方法按照给定规则分割字符串，返回一个由分割出来的子字符串组成的数组。"
   ]
  },
  {
   "cell_type": "code",
   "execution_count": null,
   "id": "2f121345",
   "metadata": {
    "attributes": {
     "classes": [
      "javascript"
     ],
     "id": ""
    }
   },
   "outputs": [],
   "source": [
    "'a|b|c'.split('|') // [\"a\", \"b\", \"c\"]"
   ]
  },
  {
   "cell_type": "markdown",
   "id": "1bcf6e7d",
   "metadata": {},
   "source": [
    "如果分割规则为空字符串，则返回数组的成员是原字符串的每一个字符。"
   ]
  },
  {
   "cell_type": "code",
   "execution_count": null,
   "id": "048ac2f8",
   "metadata": {
    "attributes": {
     "classes": [
      "javascript"
     ],
     "id": ""
    }
   },
   "outputs": [],
   "source": [
    "'a|b|c'.split('') // [\"a\", \"|\", \"b\", \"|\", \"c\"]"
   ]
  },
  {
   "cell_type": "markdown",
   "id": "a5a66c7f",
   "metadata": {},
   "source": [
    "如果省略参数，则返回数组的唯一成员就是原字符串。"
   ]
  },
  {
   "cell_type": "code",
   "execution_count": null,
   "id": "a2557f57",
   "metadata": {
    "attributes": {
     "classes": [
      "javascript"
     ],
     "id": ""
    }
   },
   "outputs": [],
   "source": [
    "'a|b|c'.split() // [\"a|b|c\"]"
   ]
  },
  {
   "cell_type": "markdown",
   "id": "cc4c01c7",
   "metadata": {},
   "source": [
    "如果满足分割规则的两个部分紧邻着（即两个分割符中间没有其他字符），则返回数组之中会有一个空字符串。"
   ]
  },
  {
   "cell_type": "code",
   "execution_count": null,
   "id": "61a5a998",
   "metadata": {
    "attributes": {
     "classes": [
      "javascript"
     ],
     "id": ""
    }
   },
   "outputs": [],
   "source": [
    "'a||c'.split('|') // ['a', '', 'c']"
   ]
  },
  {
   "cell_type": "markdown",
   "id": "4563c5b8",
   "metadata": {},
   "source": [
    "如果满足分割规则的部分处于字符串的开头或结尾（即它的前面或后面没有其他字符），则返回数组的第一个或最后一个成员是一个空字符串。"
   ]
  },
  {
   "cell_type": "code",
   "execution_count": null,
   "id": "169efe7c",
   "metadata": {
    "attributes": {
     "classes": [
      "javascript"
     ],
     "id": ""
    }
   },
   "outputs": [],
   "source": [
    "'|b|c'.split('|') // [\"\", \"b\", \"c\"]\n",
    "'a|b|'.split('|') // [\"a\", \"b\", \"\"]"
   ]
  },
  {
   "cell_type": "markdown",
   "id": "24fd2f67",
   "metadata": {},
   "source": [
    "`split`方法还可以接受第二个参数，限定返回数组的最大成员数。"
   ]
  },
  {
   "cell_type": "code",
   "execution_count": null,
   "id": "7f21826d",
   "metadata": {
    "attributes": {
     "classes": [
      "javascript"
     ],
     "id": ""
    }
   },
   "outputs": [],
   "source": [
    "'a|b|c'.split('|', 0) // []\n",
    "'a|b|c'.split('|', 1) // [\"a\"]\n",
    "'a|b|c'.split('|', 2) // [\"a\", \"b\"]\n",
    "'a|b|c'.split('|', 3) // [\"a\", \"b\", \"c\"]\n",
    "'a|b|c'.split('|', 4) // [\"a\", \"b\", \"c\"]"
   ]
  },
  {
   "cell_type": "markdown",
   "id": "e60eb4e4",
   "metadata": {},
   "source": [
    "上面代码中，`split`方法的第二个参数，决定了返回数组的成员数。\n",
    "\n",
    "`split`方法还可以使用正则表达式作为参数，详见《正则表达式》一节。\n",
    "\n",
    "### String.prototype.localeCompare()\n",
    "\n",
    "`localeCompare`方法用于比较两个字符串。它返回一个整数，如果小于0，表示第一个字符串小于第二个字符串；如果等于0，表示两者相等；如果大于0，表示第一个字符串大于第二个字符串。"
   ]
  },
  {
   "cell_type": "code",
   "execution_count": null,
   "id": "729cab5d",
   "metadata": {
    "attributes": {
     "classes": [
      "javascript"
     ],
     "id": ""
    }
   },
   "outputs": [],
   "source": [
    "'apple'.localeCompare('banana') // -1\n",
    "'apple'.localeCompare('apple') // 0"
   ]
  },
  {
   "cell_type": "markdown",
   "id": "a9fdd68d",
   "metadata": {},
   "source": [
    "该方法的最大特点，就是会考虑自然语言的顺序。举例来说，正常情况下，大写的英文字母小于小写字母。"
   ]
  },
  {
   "cell_type": "code",
   "execution_count": null,
   "id": "630a68a2",
   "metadata": {
    "attributes": {
     "classes": [
      "javascript"
     ],
     "id": ""
    }
   },
   "outputs": [],
   "source": [
    "'B' > 'a' // false"
   ]
  },
  {
   "cell_type": "markdown",
   "id": "a8602d71",
   "metadata": {},
   "source": [
    "上面代码中，字母`B`小于字母`a`。因为 JavaScript 采用的是 Unicode 码点比较，`B`的码点是66，而`a`的码点是97。\n",
    "\n",
    "但是，`localeCompare`方法会考虑自然语言的排序情况，将`B`排在`a`的前面。"
   ]
  },
  {
   "cell_type": "code",
   "execution_count": null,
   "id": "5d8c0924",
   "metadata": {
    "attributes": {
     "classes": [
      "javascript"
     ],
     "id": ""
    }
   },
   "outputs": [],
   "source": [
    "'B'.localeCompare('a') // 1"
   ]
  },
  {
   "cell_type": "markdown",
   "id": "0e04108c",
   "metadata": {},
   "source": [
    "上面代码中，`localeCompare`方法返回整数1，表示`B`较大。\n",
    "\n",
    "`localeCompare`还可以有第二个参数，指定所使用的语言（默认是英语），然后根据该语言的规则进行比较。"
   ]
  },
  {
   "cell_type": "code",
   "execution_count": null,
   "id": "e9929a0e",
   "metadata": {
    "attributes": {
     "classes": [
      "javascript"
     ],
     "id": ""
    }
   },
   "outputs": [],
   "source": [
    "'ä'.localeCompare('z', 'de') // -1\n",
    "'ä'.localeCompare('z', 'sv') // 1"
   ]
  },
  {
   "cell_type": "markdown",
   "id": "f6967666",
   "metadata": {},
   "source": [
    "上面代码中，`de`表示德语，`sv`表示瑞典语。德语中，`ä`小于`z`，所以返回`-1`；瑞典语中，`ä`大于`z`，所以返回`1`。\n",
    "\n",
    "## 参考链接\n",
    "\n",
    "- Ariya Hidayat, [JavaScript String: substring, substr, slice](http://ariya.ofilabs.com/2014/02/javascript-string-substring-substr-slice.html)"
   ]
  }
 ],
 "metadata": {
  "kernelspec": {
   "display_name": "Python 3",
   "language": "python",
   "name": "python3"
  },
  "language_info": {
   "name": "python",
   "version": "3.10.8 (main, Oct 21 2022, 22:22:30) [Clang 14.0.0 (clang-1400.0.29.202)]"
  },
  "vscode": {
   "interpreter": {
    "hash": "b0fa6594d8f4cbf19f97940f81e996739fb7646882a419484c72d19e05852a7e"
   }
  }
 },
 "nbformat": 4,
 "nbformat_minor": 5
}

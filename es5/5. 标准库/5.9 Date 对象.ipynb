{
 "cells": [
  {
   "cell_type": "markdown",
   "id": "0d63e180",
   "metadata": {},
   "source": [
    "# Date 对象\n",
    "\n",
    "`Date`对象是 JavaScript 原生的时间库。它以国际标准时间（UTC）1970年1月1日00:00:00作为时间的零点，可以表示的时间范围是前后各1亿天（单位为毫秒）。\n",
    "\n",
    "## 普通函数的用法\n",
    "\n",
    "`Date`对象可以作为普通函数直接调用，返回一个代表当前时间的字符串。"
   ]
  },
  {
   "cell_type": "code",
   "execution_count": null,
   "id": "4a85b9b7",
   "metadata": {
    "attributes": {
     "classes": [
      "javascript"
     ],
     "id": ""
    }
   },
   "outputs": [],
   "source": [
    "Date()\n",
    "// \"Tue Dec 01 2015 09:34:43 GMT+0800 (CST)\""
   ]
  },
  {
   "cell_type": "markdown",
   "id": "c7e71ae6",
   "metadata": {},
   "source": [
    "注意，即使带有参数，`Date`作为普通函数使用时，返回的还是当前时间。"
   ]
  },
  {
   "cell_type": "code",
   "execution_count": null,
   "id": "9b0ddb50",
   "metadata": {
    "attributes": {
     "classes": [
      "javascript"
     ],
     "id": ""
    }
   },
   "outputs": [],
   "source": [
    "Date(2000, 1, 1)\n",
    "// \"Tue Dec 01 2015 09:34:43 GMT+0800 (CST)\""
   ]
  },
  {
   "cell_type": "markdown",
   "id": "1da6fd50",
   "metadata": {},
   "source": [
    "上面代码说明，无论有没有参数，直接调用`Date`总是返回当前时间。\n",
    "\n",
    "## 构造函数的用法\n",
    "\n",
    "`Date`还可以当作构造函数使用。对它使用`new`命令，会返回一个`Date`对象的实例。如果不加参数，实例代表的就是当前时间。"
   ]
  },
  {
   "cell_type": "code",
   "execution_count": null,
   "id": "624f78c1",
   "metadata": {
    "attributes": {
     "classes": [
      "javascript"
     ],
     "id": ""
    }
   },
   "outputs": [],
   "source": [
    "var today = new Date();"
   ]
  },
  {
   "cell_type": "markdown",
   "id": "615902c1",
   "metadata": {},
   "source": [
    "`Date`实例有一个独特的地方。其他对象求值的时候，都是默认调用`.valueOf()`方法，但是`Date`实例求值的时候，默认调用的是`toString()`方法。这导致对`Date`实例求值，返回的是一个字符串，代表该实例对应的时间。"
   ]
  },
  {
   "cell_type": "code",
   "execution_count": null,
   "id": "5d5401b1",
   "metadata": {
    "attributes": {
     "classes": [
      "javascript"
     ],
     "id": ""
    }
   },
   "outputs": [],
   "source": [
    "var today = new Date();\n",
    "\n",
    "today\n",
    "// \"Tue Dec 01 2015 09:34:43 GMT+0800 (CST)\"\n",
    "\n",
    "// 等同于\n",
    "today.toString()\n",
    "// \"Tue Dec 01 2015 09:34:43 GMT+0800 (CST)\""
   ]
  },
  {
   "cell_type": "markdown",
   "id": "d5e64622",
   "metadata": {},
   "source": [
    "上面代码中，`today`是`Date`的实例，直接求值等同于调用`toString`方法。\n",
    "\n",
    "作为构造函数时，`Date`对象可以接受多种格式的参数，返回一个该参数对应的时间实例。"
   ]
  },
  {
   "cell_type": "code",
   "execution_count": null,
   "id": "c5efdfc0",
   "metadata": {
    "attributes": {
     "classes": [
      "javascript"
     ],
     "id": ""
    }
   },
   "outputs": [],
   "source": [
    "// 参数为时间零点开始计算的毫秒数\n",
    "new Date(1378218728000)\n",
    "// Tue Sep 03 2013 22:32:08 GMT+0800 (CST)\n",
    "\n",
    "// 参数为日期字符串\n",
    "new Date('January 6, 2013');\n",
    "// Sun Jan 06 2013 00:00:00 GMT+0800 (CST)\n",
    "\n",
    "// 参数为多个整数，\n",
    "// 代表年、月、日、小时、分钟、秒、毫秒\n",
    "new Date(2013, 0, 1, 0, 0, 0, 0)\n",
    "// Tue Jan 01 2013 00:00:00 GMT+0800 (CST)"
   ]
  },
  {
   "cell_type": "markdown",
   "id": "462075d2",
   "metadata": {},
   "source": [
    "关于`Date`构造函数的参数，有几点说明。\n",
    "\n",
    "第一点，参数可以是负整数，代表1970年元旦之前的时间。"
   ]
  },
  {
   "cell_type": "code",
   "execution_count": null,
   "id": "cb759a2e",
   "metadata": {
    "attributes": {
     "classes": [
      "javascript"
     ],
     "id": ""
    }
   },
   "outputs": [],
   "source": [
    "new Date(-1378218728000)\n",
    "// Fri Apr 30 1926 17:27:52 GMT+0800 (CST)"
   ]
  },
  {
   "cell_type": "markdown",
   "id": "9817a57f",
   "metadata": {},
   "source": [
    "第二点，只要是能被`Date.parse()`方法解析的字符串，都可以当作参数。"
   ]
  },
  {
   "cell_type": "code",
   "execution_count": null,
   "id": "361b1c9e",
   "metadata": {
    "attributes": {
     "classes": [
      "javascript"
     ],
     "id": ""
    }
   },
   "outputs": [],
   "source": [
    "new Date('2013-2-15')\n",
    "new Date('2013/2/15')\n",
    "new Date('02/15/2013')\n",
    "new Date('2013-FEB-15')\n",
    "new Date('FEB, 15, 2013')\n",
    "new Date('FEB 15, 2013')\n",
    "new Date('February, 15, 2013')\n",
    "new Date('February 15, 2013')\n",
    "new Date('15 Feb 2013')\n",
    "new Date('15, February, 2013')\n",
    "// Fri Feb 15 2013 00:00:00 GMT+0800 (CST)"
   ]
  },
  {
   "cell_type": "markdown",
   "id": "46cc3326",
   "metadata": {},
   "source": [
    "上面多种日期字符串的写法，返回的都是同一个时间。\n",
    "\n",
    "第三，参数为年、月、日等多个整数时，年和月是不能省略的，其他参数都可以省略的。也就是说，这时至少需要两个参数，因为如果只使用“年”这一个参数，`Date`会将其解释为毫秒数。"
   ]
  },
  {
   "cell_type": "code",
   "execution_count": null,
   "id": "8511c634",
   "metadata": {
    "attributes": {
     "classes": [
      "javascript"
     ],
     "id": ""
    }
   },
   "outputs": [],
   "source": [
    "new Date(2013)\n",
    "// Thu Jan 01 1970 08:00:02 GMT+0800 (CST)"
   ]
  },
  {
   "cell_type": "markdown",
   "id": "551adc16",
   "metadata": {},
   "source": [
    "上面代码中，2013被解释为毫秒数，而不是年份。"
   ]
  },
  {
   "cell_type": "code",
   "execution_count": null,
   "id": "25ecf887",
   "metadata": {
    "attributes": {
     "classes": [
      "javascript"
     ],
     "id": ""
    }
   },
   "outputs": [],
   "source": [
    "new Date(2013, 0)\n",
    "// Tue Jan 01 2013 00:00:00 GMT+0800 (CST)\n",
    "new Date(2013, 0, 1)\n",
    "// Tue Jan 01 2013 00:00:00 GMT+0800 (CST)\n",
    "new Date(2013, 0, 1, 0)\n",
    "// Tue Jan 01 2013 00:00:00 GMT+0800 (CST)\n",
    "new Date(2013, 0, 1, 0, 0, 0, 0)\n",
    "// Tue Jan 01 2013 00:00:00 GMT+0800 (CST)"
   ]
  },
  {
   "cell_type": "markdown",
   "id": "6bd1d00a",
   "metadata": {},
   "source": [
    "上面代码中，不管有几个参数，返回的都是2013年1月1日零点。\n",
    "\n",
    "最后，各个参数的取值范围如下。\n",
    "\n",
    "- 年：使用四位数年份，比如`2000`。如果写成两位数或个位数，则加上`1900`，即`10`代表1910年。如果是负数，表示公元前。\n",
    "- 月：`0`表示一月，依次类推，`11`表示12月。\n",
    "- 日：`1`到`31`。\n",
    "- 小时：`0`到`23`。\n",
    "- 分钟：`0`到`59`。\n",
    "- 秒：`0`到`59`\n",
    "- 毫秒：`0`到`999`。\n",
    "\n",
    "注意，月份从`0`开始计算，但是，天数从`1`开始计算。另外，除了日期的默认值为`1`，小时、分钟、秒钟和毫秒的默认值都是`0`。\n",
    "\n",
    "这些参数如果超出了正常范围，会被自动折算。比如，如果月设为`15`，就折算为下一年的4月。"
   ]
  },
  {
   "cell_type": "code",
   "execution_count": null,
   "id": "1e16844b",
   "metadata": {
    "attributes": {
     "classes": [
      "javascript"
     ],
     "id": ""
    }
   },
   "outputs": [],
   "source": [
    "new Date(2013, 15)\n",
    "// Tue Apr 01 2014 00:00:00 GMT+0800 (CST)\n",
    "new Date(2013, 0, 0)\n",
    "// Mon Dec 31 2012 00:00:00 GMT+0800 (CST)"
   ]
  },
  {
   "cell_type": "markdown",
   "id": "a6fde0e9",
   "metadata": {},
   "source": [
    "上面代码的第二个例子，日期设为`0`，就代表上个月的最后一天。\n",
    "\n",
    "参数还可以使用负数，表示扣去的时间。"
   ]
  },
  {
   "cell_type": "code",
   "execution_count": null,
   "id": "27a69414",
   "metadata": {
    "attributes": {
     "classes": [
      "javascript"
     ],
     "id": ""
    }
   },
   "outputs": [],
   "source": [
    "new Date(2013, -1)\n",
    "// Sat Dec 01 2012 00:00:00 GMT+0800 (CST)\n",
    "new Date(2013, 0, -1)\n",
    "// Sun Dec 30 2012 00:00:00 GMT+0800 (CST)"
   ]
  },
  {
   "cell_type": "markdown",
   "id": "d130027d",
   "metadata": {},
   "source": [
    "上面代码中，分别对月和日使用了负数，表示从基准日扣去相应的时间。\n",
    "\n",
    "## 日期的运算\n",
    "\n",
    "类型自动转换时，`Date`实例如果转为数值，则等于对应的毫秒数；如果转为字符串，则等于对应的日期字符串。所以，两个日期实例对象进行减法运算时，返回的是它们间隔的毫秒数；进行加法运算时，返回的是两个字符串连接而成的新字符串。"
   ]
  },
  {
   "cell_type": "code",
   "execution_count": null,
   "id": "5a1876b8",
   "metadata": {
    "attributes": {
     "classes": [
      "javascript"
     ],
     "id": ""
    }
   },
   "outputs": [],
   "source": [
    "var d1 = new Date(2000, 2, 1);\n",
    "var d2 = new Date(2000, 3, 1);\n",
    "\n",
    "d2 - d1\n",
    "// 2678400000\n",
    "d2 + d1\n",
    "// \"Sat Apr 01 2000 00:00:00 GMT+0800 (CST)Wed Mar 01 2000 00:00:00 GMT+0800 (CST)\""
   ]
  },
  {
   "cell_type": "markdown",
   "id": "918ba821",
   "metadata": {},
   "source": [
    "## 静态方法\n",
    "\n",
    "### Date.now()\n",
    "\n",
    "`Date.now`方法返回当前时间距离时间零点（1970年1月1日 00:00:00 UTC）的毫秒数，相当于 Unix 时间戳乘以1000。"
   ]
  },
  {
   "cell_type": "code",
   "execution_count": null,
   "id": "c9752237",
   "metadata": {
    "attributes": {
     "classes": [
      "javascript"
     ],
     "id": ""
    }
   },
   "outputs": [],
   "source": [
    "Date.now() // 1364026285194"
   ]
  },
  {
   "cell_type": "markdown",
   "id": "6e09d351",
   "metadata": {},
   "source": [
    "### Date.parse()\n",
    "\n",
    "`Date.parse`方法用来解析日期字符串，返回该时间距离时间零点（1970年1月1日 00:00:00）的毫秒数。\n",
    "\n",
    "日期字符串应该符合 RFC 2822 和 ISO 8061 这两个标准，即`YYYY-MM-DDTHH:mm:ss.sssZ`格式，其中最后的`Z`表示时区。但是，其他格式也可以被解析，请看下面的例子。"
   ]
  },
  {
   "cell_type": "code",
   "execution_count": null,
   "id": "a92e22d0",
   "metadata": {
    "attributes": {
     "classes": [
      "javascript"
     ],
     "id": ""
    }
   },
   "outputs": [],
   "source": [
    "Date.parse('Aug 9, 1995')\n",
    "Date.parse('January 26, 2011 13:51:50')\n",
    "Date.parse('Mon, 25 Dec 1995 13:30:00 GMT')\n",
    "Date.parse('Mon, 25 Dec 1995 13:30:00 +0430')\n",
    "Date.parse('2011-10-10')\n",
    "Date.parse('2011-10-10T14:48:00')"
   ]
  },
  {
   "cell_type": "markdown",
   "id": "0eead412",
   "metadata": {},
   "source": [
    "上面的日期字符串都可以解析。\n",
    "\n",
    "如果解析失败，返回`NaN`。"
   ]
  },
  {
   "cell_type": "code",
   "execution_count": null,
   "id": "901b5a00",
   "metadata": {
    "attributes": {
     "classes": [
      "javascript"
     ],
     "id": ""
    }
   },
   "outputs": [],
   "source": [
    "Date.parse('xxx') // NaN"
   ]
  },
  {
   "cell_type": "markdown",
   "id": "4f4db725",
   "metadata": {},
   "source": [
    "### Date.UTC()\n",
    "\n",
    "`Date.UTC`方法接受年、月、日等变量作为参数，返回该时间距离时间零点（1970年1月1日 00:00:00 UTC）的毫秒数。"
   ]
  },
  {
   "cell_type": "code",
   "execution_count": null,
   "id": "d8541956",
   "metadata": {
    "attributes": {
     "classes": [
      "javascript"
     ],
     "id": ""
    }
   },
   "outputs": [],
   "source": [
    "// 格式\n",
    "Date.UTC(year, month[, date[, hrs[, min[, sec[, ms]]]]])\n",
    "\n",
    "// 用法\n",
    "Date.UTC(2011, 0, 1, 2, 3, 4, 567)\n",
    "// 1293847384567"
   ]
  },
  {
   "cell_type": "markdown",
   "id": "15bbcb66",
   "metadata": {},
   "source": [
    "该方法的参数用法与`Date`构造函数完全一致，比如月从`0`开始计算，日期从`1`开始计算。区别在于`Date.UTC`方法的参数，会被解释为 UTC 时间（世界标准时间），`Date`构造函数的参数会被解释为当前时区的时间。\n",
    "\n",
    "## 实例方法\n",
    "\n",
    "`Date`的实例对象，有几十个自己的方法，除了`valueOf`和`toString`，可以分为以下三类。\n",
    "\n",
    "- `to`类：从`Date`对象返回一个字符串，表示指定的时间。\n",
    "- `get`类：获取`Date`对象的日期和时间。\n",
    "- `set`类：设置`Date`对象的日期和时间。\n",
    "\n",
    "### Date.prototype.valueOf()\n",
    "\n",
    "`valueOf`方法返回实例对象距离时间零点（1970年1月1日00:00:00 UTC）对应的毫秒数，该方法等同于`getTime`方法。"
   ]
  },
  {
   "cell_type": "code",
   "execution_count": null,
   "id": "8dce698b",
   "metadata": {
    "attributes": {
     "classes": [
      "javascript"
     ],
     "id": ""
    }
   },
   "outputs": [],
   "source": [
    "var d = new Date();\n",
    "\n",
    "d.valueOf() // 1362790014817\n",
    "d.getTime() // 1362790014817"
   ]
  },
  {
   "cell_type": "markdown",
   "id": "b2c7acaf",
   "metadata": {},
   "source": [
    "预期为数值的场合，`Date`实例会自动调用该方法，所以可以用下面的方法计算时间的间隔。"
   ]
  },
  {
   "cell_type": "code",
   "execution_count": null,
   "id": "9a991df1",
   "metadata": {
    "attributes": {
     "classes": [
      "javascript"
     ],
     "id": ""
    }
   },
   "outputs": [],
   "source": [
    "var start = new Date();\n",
    "// ...\n",
    "var end = new Date();\n",
    "var elapsed = end - start;"
   ]
  },
  {
   "cell_type": "markdown",
   "id": "f320fc3b",
   "metadata": {},
   "source": [
    "### to 类方法\n",
    "\n",
    "**（1）Date.prototype.toString()**\n",
    "\n",
    "`toString`方法返回一个完整的日期字符串。"
   ]
  },
  {
   "cell_type": "code",
   "execution_count": null,
   "id": "316bedfb",
   "metadata": {
    "attributes": {
     "classes": [
      "javascript"
     ],
     "id": ""
    }
   },
   "outputs": [],
   "source": [
    "var d = new Date(2013, 0, 1);\n",
    "\n",
    "d.toString()\n",
    "// \"Tue Jan 01 2013 00:00:00 GMT+0800 (CST)\"\n",
    "d\n",
    "// \"Tue Jan 01 2013 00:00:00 GMT+0800 (CST)\""
   ]
  },
  {
   "cell_type": "markdown",
   "id": "44420863",
   "metadata": {},
   "source": [
    "因为`toString`是默认的调用方法，所以如果直接读取`Date`实例，就相当于调用这个方法。\n",
    "\n",
    "**（2）Date.prototype.toUTCString()**\n",
    "\n",
    "`toUTCString`方法返回对应的 UTC 时间，也就是比北京时间晚8个小时。"
   ]
  },
  {
   "cell_type": "code",
   "execution_count": null,
   "id": "3ec38e65",
   "metadata": {
    "attributes": {
     "classes": [
      "javascript"
     ],
     "id": ""
    }
   },
   "outputs": [],
   "source": [
    "var d = new Date(2013, 0, 1);\n",
    "\n",
    "d.toUTCString()\n",
    "// \"Mon, 31 Dec 2012 16:00:00 GMT\""
   ]
  },
  {
   "cell_type": "markdown",
   "id": "ed2ca095",
   "metadata": {},
   "source": [
    "**（3）Date.prototype.toISOString()**\n",
    "\n",
    "`toISOString`方法返回对应时间的 ISO8601 写法。"
   ]
  },
  {
   "cell_type": "code",
   "execution_count": null,
   "id": "e167486b",
   "metadata": {
    "attributes": {
     "classes": [
      "javascript"
     ],
     "id": ""
    }
   },
   "outputs": [],
   "source": [
    "var d = new Date(2013, 0, 1);\n",
    "\n",
    "d.toISOString()\n",
    "// \"2012-12-31T16:00:00.000Z\""
   ]
  },
  {
   "cell_type": "markdown",
   "id": "4a5300a5",
   "metadata": {},
   "source": [
    "注意，`toISOString`方法返回的总是 UTC 时区的时间。\n",
    "\n",
    "**（4）Date.prototype.toJSON()**\n",
    "\n",
    "`toJSON`方法返回一个符合 JSON 格式的 ISO 日期字符串，与`toISOString`方法的返回结果完全相同。"
   ]
  },
  {
   "cell_type": "code",
   "execution_count": null,
   "id": "ba6b76b4",
   "metadata": {
    "attributes": {
     "classes": [
      "javascript"
     ],
     "id": ""
    }
   },
   "outputs": [],
   "source": [
    "var d = new Date(2013, 0, 1);\n",
    "\n",
    "d.toJSON()\n",
    "// \"2012-12-31T16:00:00.000Z\""
   ]
  },
  {
   "cell_type": "markdown",
   "id": "f48818ca",
   "metadata": {},
   "source": [
    "**（5）Date.prototype.toDateString()**\n",
    "\n",
    "`toDateString`方法返回日期字符串（不含小时、分和秒）。"
   ]
  },
  {
   "cell_type": "code",
   "execution_count": null,
   "id": "6b968025",
   "metadata": {
    "attributes": {
     "classes": [
      "javascript"
     ],
     "id": ""
    }
   },
   "outputs": [],
   "source": [
    "var d = new Date(2013, 0, 1);\n",
    "d.toDateString() // \"Tue Jan 01 2013\""
   ]
  },
  {
   "cell_type": "markdown",
   "id": "618fdf0d",
   "metadata": {},
   "source": [
    "**（6）Date.prototype.toTimeString()**\n",
    "\n",
    "`toTimeString`方法返回时间字符串（不含年月日）。"
   ]
  },
  {
   "cell_type": "code",
   "execution_count": null,
   "id": "d9eabdf6",
   "metadata": {
    "attributes": {
     "classes": [
      "javascript"
     ],
     "id": ""
    }
   },
   "outputs": [],
   "source": [
    "var d = new Date(2013, 0, 1);\n",
    "d.toTimeString() // \"00:00:00 GMT+0800 (CST)\""
   ]
  },
  {
   "cell_type": "markdown",
   "id": "99b1404d",
   "metadata": {},
   "source": [
    "**（7）本地时间**\n",
    "\n",
    "以下三种方法，可以将 Date 实例转为表示本地时间的字符串。\n",
    "\n",
    "- `Date.prototype.toLocaleString()`：完整的本地时间。\n",
    "- `Date.prototype.toLocaleDateString()`：本地日期（不含小时、分和秒）。\n",
    "- `Date.prototype.toLocaleTimeString()`：本地时间（不含年月日）。\n",
    "\n",
    "下面是用法实例。"
   ]
  },
  {
   "cell_type": "code",
   "execution_count": null,
   "id": "bc0415bd",
   "metadata": {
    "attributes": {
     "classes": [
      "javascript"
     ],
     "id": ""
    }
   },
   "outputs": [],
   "source": [
    "var d = new Date(2013, 0, 1);\n",
    "\n",
    "d.toLocaleString()\n",
    "// 中文版浏览器为\"2013年1月1日 上午12:00:00\"\n",
    "// 英文版浏览器为\"1/1/2013 12:00:00 AM\"\n",
    "\n",
    "d.toLocaleDateString()\n",
    "// 中文版浏览器为\"2013年1月1日\"\n",
    "// 英文版浏览器为\"1/1/2013\"\n",
    "\n",
    "d.toLocaleTimeString()\n",
    "// 中文版浏览器为\"上午12:00:00\"\n",
    "// 英文版浏览器为\"12:00:00 AM\""
   ]
  },
  {
   "cell_type": "markdown",
   "id": "98a8425a",
   "metadata": {},
   "source": [
    "这三个方法都有两个可选的参数。"
   ]
  },
  {
   "cell_type": "code",
   "execution_count": null,
   "id": "6f65d338",
   "metadata": {
    "attributes": {
     "classes": [
      "javascript"
     ],
     "id": ""
    }
   },
   "outputs": [],
   "source": [
    "dateObj.toLocaleString([locales[, options]])\n",
    "dateObj.toLocaleDateString([locales[, options]])\n",
    "dateObj.toLocaleTimeString([locales[, options]])"
   ]
  },
  {
   "cell_type": "markdown",
   "id": "82d2ff99",
   "metadata": {},
   "source": [
    "这两个参数中，`locales`是一个指定所用语言的字符串，`options`是一个配置对象。下面是`locales`的例子，分别采用`en-US`和`zh-CN`语言设定。"
   ]
  },
  {
   "cell_type": "code",
   "execution_count": null,
   "id": "beca4a4e",
   "metadata": {
    "attributes": {
     "classes": [
      "javascript"
     ],
     "id": ""
    }
   },
   "outputs": [],
   "source": [
    "var d = new Date(2013, 0, 1);\n",
    "\n",
    "d.toLocaleString('en-US') // \"1/1/2013, 12:00:00 AM\"\n",
    "d.toLocaleString('zh-CN') // \"2013/1/1 上午12:00:00\"\n",
    "\n",
    "d.toLocaleDateString('en-US') // \"1/1/2013\"\n",
    "d.toLocaleDateString('zh-CN') // \"2013/1/1\"\n",
    "\n",
    "d.toLocaleTimeString('en-US') // \"12:00:00 AM\"\n",
    "d.toLocaleTimeString('zh-CN') // \"上午12:00:00\""
   ]
  },
  {
   "cell_type": "markdown",
   "id": "81f6c366",
   "metadata": {},
   "source": [
    "`options`配置对象有以下属性。\n",
    "\n",
    "- `dateStyle`：可能的值为`full`、`long`、`medium`、`short`。\n",
    "- `timeStyle`：可能的值为`full`、`long`、`medium`、`short`。\n",
    "- `month`：可能的值为`numeric`、`2-digit`、`long`、`short`、`narrow`。\n",
    "- `year`：可能的值为`numeric`、`2-digit`。\n",
    "- `weekday`：可能的值为`long`、`short`、`narrow`。\n",
    "- `day`、`hour`、`minute`、`second`：可能的值为`numeric`、`2-digit`。\n",
    "- `timeZone`：可能的值为 IANA 的时区数据库。\n",
    "- `timeZoneName`：可能的值为`long`、`short`。\n",
    "- `hour12`：24小时周期还是12小时周期，可能的值为`true`、`false`。\n",
    "\n",
    "下面是用法实例。"
   ]
  },
  {
   "cell_type": "code",
   "execution_count": null,
   "id": "89a940d1",
   "metadata": {
    "attributes": {
     "classes": [
      "javascript"
     ],
     "id": ""
    }
   },
   "outputs": [],
   "source": [
    "var d = new Date(2013, 0, 1);\n",
    "\n",
    "d.toLocaleDateString('en-US', {\n",
    "  weekday: 'long',\n",
    "  year: 'numeric',\n",
    "  month: 'long',\n",
    "  day: 'numeric'\n",
    "})\n",
    "// \"Tuesday, January 1, 2013\"\n",
    "\n",
    "d.toLocaleDateString('en-US', {\n",
    "  day: \"2-digit\",\n",
    "  month: \"long\",\n",
    "  year: \"2-digit\"\n",
    "});\n",
    "// \"January 01, 13\"\n",
    "\n",
    "d.toLocaleTimeString('en-US', {\n",
    "  timeZone: 'UTC',\n",
    "  timeZoneName: 'short'\n",
    "})\n",
    "// \"4:00:00 PM UTC\"\n",
    "\n",
    "d.toLocaleTimeString('en-US', {\n",
    "  timeZone: 'Asia/Shanghai',\n",
    "  timeZoneName: 'long'\n",
    "})\n",
    "// \"12:00:00 AM China Standard Time\"\n",
    "\n",
    "d.toLocaleTimeString('en-US', {\n",
    "  hour12: false\n",
    "})\n",
    "// \"00:00:00\"\n",
    "\n",
    "d.toLocaleTimeString('en-US', {\n",
    "  hour12: true\n",
    "})\n",
    "// \"12:00:00 AM\""
   ]
  },
  {
   "cell_type": "markdown",
   "id": "e4594289",
   "metadata": {},
   "source": [
    "### get 类方法\n",
    "\n",
    "`Date`对象提供了一系列`get*`方法，用来获取实例对象某个方面的值。\n",
    "\n",
    "- `getTime()`：返回实例距离1970年1月1日00:00:00的毫秒数，等同于`valueOf`方法。\n",
    "- `getDate()`：返回实例对象对应每个月的几号（从1开始）。\n",
    "- `getDay()`：返回星期几，星期日为0，星期一为1，以此类推。\n",
    "- `getFullYear()`：返回四位的年份。\n",
    "- `getMonth()`：返回月份（0表示1月，11表示12月）。\n",
    "- `getHours()`：返回小时（0-23）。\n",
    "- `getMilliseconds()`：返回毫秒（0-999）。\n",
    "- `getMinutes()`：返回分钟（0-59）。\n",
    "- `getSeconds()`：返回秒（0-59）。\n",
    "- `getTimezoneOffset()`：返回当前时间与 UTC 的时区差异，以分钟表示，返回结果考虑到了夏令时因素。\n",
    "\n",
    "所有这些`get*`方法返回的都是整数，不同方法返回值的范围不一样。\n",
    "\n",
    "- 分钟和秒：0 到 59\n",
    "- 小时：0 到 23\n",
    "- 星期：0（星期天）到 6（星期六）\n",
    "- 日期：1 到 31\n",
    "- 月份：0（一月）到 11（十二月）"
   ]
  },
  {
   "cell_type": "code",
   "execution_count": null,
   "id": "f2900308",
   "metadata": {
    "attributes": {
     "classes": [
      "javascript"
     ],
     "id": ""
    }
   },
   "outputs": [],
   "source": [
    "var d = new Date('January 6, 2013');\n",
    "\n",
    "d.getDate() // 6\n",
    "d.getMonth() // 0\n",
    "d.getFullYear() // 2013\n",
    "d.getTimezoneOffset() // -480"
   ]
  },
  {
   "cell_type": "markdown",
   "id": "9ada4c51",
   "metadata": {},
   "source": [
    "上面代码中，最后一行返回`-480`，即 UTC 时间减去当前时间，单位是分钟。`-480`表示 UTC 比当前时间少480分钟，即当前时区比 UTC 早8个小时。\n",
    "\n",
    "下面是一个例子，计算本年度还剩下多少天。"
   ]
  },
  {
   "cell_type": "code",
   "execution_count": null,
   "id": "87ecebfa",
   "metadata": {
    "attributes": {
     "classes": [
      "javascript"
     ],
     "id": ""
    }
   },
   "outputs": [],
   "source": [
    "function leftDays() {\n",
    "  var today = new Date();\n",
    "  var endYear = new Date(today.getFullYear(), 11, 31, 23, 59, 59, 999);\n",
    "  var msPerDay = 24 * 60 * 60 * 1000;\n",
    "  return Math.round((endYear.getTime() - today.getTime()) / msPerDay);\n",
    "}"
   ]
  },
  {
   "cell_type": "markdown",
   "id": "0e1b7e8d",
   "metadata": {},
   "source": [
    "上面这些`get*`方法返回的都是当前时区的时间，`Date`对象还提供了这些方法对应的 UTC 版本，用来返回 UTC 时间。\n",
    "\n",
    "- `getUTCDate()`\n",
    "- `getUTCFullYear()`\n",
    "- `getUTCMonth()`\n",
    "- `getUTCDay()`\n",
    "- `getUTCHours()`\n",
    "- `getUTCMinutes()`\n",
    "- `getUTCSeconds()`\n",
    "- `getUTCMilliseconds()`"
   ]
  },
  {
   "cell_type": "code",
   "execution_count": null,
   "id": "df94a04d",
   "metadata": {
    "attributes": {
     "classes": [
      "javascript"
     ],
     "id": ""
    }
   },
   "outputs": [],
   "source": [
    "var d = new Date('January 6, 2013');\n",
    "\n",
    "d.getDate() // 6\n",
    "d.getUTCDate() // 5"
   ]
  },
  {
   "cell_type": "markdown",
   "id": "cd4004eb",
   "metadata": {},
   "source": [
    "上面代码中，实例对象`d`表示当前时区（东八时区）的1月6日0点0分0秒，这个时间对于当前时区来说是1月6日，所以`getDate`方法返回6，对于 UTC 时区来说是1月5日，所以`getUTCDate`方法返回5。\n",
    "\n",
    "### set 类方法\n",
    "\n",
    "`Date`对象提供了一系列`set*`方法，用来设置实例对象的各个方面。\n",
    "\n",
    "- `setDate(date)`：设置实例对象对应的每个月的几号（1-31），返回改变后毫秒时间戳。\n",
    "- `setFullYear(year [, month, date])`：设置四位年份。\n",
    "- `setHours(hour [, min, sec, ms])`：设置小时（0-23）。\n",
    "- `setMilliseconds(ms)`：设置毫秒（0-999）。\n",
    "- `setMinutes(min [, sec, ms])`：设置分钟（0-59）。\n",
    "- `setMonth(month [, date])`：设置月份（0-11）。\n",
    "- `setSeconds(sec [, ms])`：设置秒（0-59）。\n",
    "- `setTime(milliseconds)`：设置毫秒时间戳。\n",
    "\n",
    "这些方法基本是跟`get*`方法一一对应的，但是没有`setDay`方法，因为星期几是计算出来的，而不是设置的。另外，需要注意的是，凡是涉及到设置月份，都是从0开始算的，即`0`是1月，`11`是12月。"
   ]
  },
  {
   "cell_type": "code",
   "execution_count": null,
   "id": "070669c9",
   "metadata": {
    "attributes": {
     "classes": [
      "javascript"
     ],
     "id": ""
    }
   },
   "outputs": [],
   "source": [
    "var d = new Date ('January 6, 2013');\n",
    "\n",
    "d // Sun Jan 06 2013 00:00:00 GMT+0800 (CST)\n",
    "d.setDate(9) // 1357660800000\n",
    "d // Wed Jan 09 2013 00:00:00 GMT+0800 (CST)"
   ]
  },
  {
   "cell_type": "markdown",
   "id": "145f069c",
   "metadata": {},
   "source": [
    "`set*`方法的参数都会自动折算。以`setDate()`为例，如果参数超过当月的最大天数，则向下一个月顺延，如果参数是负数，表示从上个月的最后一天开始减去的天数。"
   ]
  },
  {
   "cell_type": "code",
   "execution_count": null,
   "id": "5075fca9",
   "metadata": {
    "attributes": {
     "classes": [
      "javascript"
     ],
     "id": ""
    }
   },
   "outputs": [],
   "source": [
    "var d1 = new Date('January 6, 2013');\n",
    "\n",
    "d1.setDate(32) // 1359648000000\n",
    "d1 // Fri Feb 01 2013 00:00:00 GMT+0800 (CST)\n",
    "\n",
    "var d2 = new Date ('January 6, 2013');\n",
    "\n",
    "d2.setDate(-1) // 1356796800000\n",
    "d2 // Sun Dec 30 2012 00:00:00 GMT+0800 (CST)"
   ]
  },
  {
   "cell_type": "markdown",
   "id": "2a619cc3",
   "metadata": {},
   "source": [
    "上面代码中，`d1.setDate(32)`将日期设为1月份的32号，因为1月份只有31号，所以自动折算为2月1日。`d2.setDate(-1)`表示设为上个月的倒数第二天，即12月30日。\n",
    "\n",
    "`set`类方法和`get`类方法，可以结合使用，得到相对时间。"
   ]
  },
  {
   "cell_type": "code",
   "execution_count": null,
   "id": "e596e031",
   "metadata": {
    "attributes": {
     "classes": [
      "javascript"
     ],
     "id": ""
    }
   },
   "outputs": [],
   "source": [
    "var d = new Date();\n",
    "\n",
    "// 将日期向后推1000天\n",
    "d.setDate(d.getDate() + 1000);\n",
    "// 将时间设为6小时后\n",
    "d.setHours(d.getHours() + 6);\n",
    "// 将年份设为去年\n",
    "d.setFullYear(d.getFullYear() - 1);"
   ]
  },
  {
   "cell_type": "markdown",
   "id": "acbbcbed",
   "metadata": {},
   "source": [
    "`set*`系列方法除了`setTime()`，都有对应的 UTC 版本，即设置 UTC 时区的时间。\n",
    "\n",
    "- `setUTCDate()`\n",
    "- `setUTCFullYear()`\n",
    "- `setUTCHours()`\n",
    "- `setUTCMilliseconds()`\n",
    "- `setUTCMinutes()`\n",
    "- `setUTCMonth()`\n",
    "- `setUTCSeconds()`"
   ]
  },
  {
   "cell_type": "code",
   "execution_count": null,
   "id": "1bf3e2db",
   "metadata": {
    "attributes": {
     "classes": [
      "javascript"
     ],
     "id": ""
    }
   },
   "outputs": [],
   "source": [
    "var d = new Date('January 6, 2013');\n",
    "d.getUTCHours() // 16\n",
    "d.setUTCHours(22) // 1357423200000\n",
    "d // Sun Jan 06 2013 06:00:00 GMT+0800 (CST)"
   ]
  },
  {
   "cell_type": "markdown",
   "id": "982a4f37",
   "metadata": {},
   "source": [
    "上面代码中，本地时区（东八时区）的1月6日0点0分，是 UTC 时区的前一天下午16点。设为 UTC 时区的22点以后，就变为本地时区的上午6点。\n",
    "\n",
    "## 参考链接\n",
    "\n",
    "- Rakhitha Nimesh，[Getting Started with the Date Object](https://www.sitepoint.com/beginners-guide-to-javascript-date-and-time/)\n",
    "- Ilya Kantor, [Date/Time functions](https://javascript.info/date)"
   ]
  }
 ],
 "metadata": {},
 "nbformat": 4,
 "nbformat_minor": 5
}

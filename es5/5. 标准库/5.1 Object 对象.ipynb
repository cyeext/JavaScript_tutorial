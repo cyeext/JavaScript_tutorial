{
 "cells": [
  {
   "cell_type": "markdown",
   "id": "b7627bc7",
   "metadata": {},
   "source": [
    "# Object 对象\n",
    "\n",
    "## 概述\n",
    "\n",
    "JavaScript 原生提供`Object`对象（注意起首的`O`是大写），本章介绍该对象原生的各种方法。\n",
    "\n",
    "JavaScript 的所有其他对象都继承自`Object`对象，即那些对象都是`Object`的实例。\n",
    "\n",
    "`Object`对象的原生方法分成两类：`Object`本身的方法与`Object`的实例方法。\n",
    "\n",
    "**（1）`Object`对象本身的方法**\n",
    "\n",
    "所谓“本身的方法”就是直接定义在`Object`对象的方法。"
   ]
  },
  {
   "cell_type": "code",
   "execution_count": null,
   "id": "a0cc168a",
   "metadata": {
    "attributes": {
     "classes": [
      "javascript"
     ],
     "id": ""
    }
   },
   "outputs": [],
   "source": [
    "Object.print = function (o) { console.log(o) };"
   ]
  },
  {
   "cell_type": "markdown",
   "id": "e2070bf4",
   "metadata": {},
   "source": [
    "上面代码中，`print`方法就是直接定义在`Object`对象上。\n",
    "\n",
    "**（2）`Object`的实例方法**\n",
    "\n",
    "所谓实例方法就是定义在`Object`原型对象`Object.prototype`上的方法。它可以被`Object`实例直接使用。"
   ]
  },
  {
   "cell_type": "code",
   "execution_count": null,
   "id": "302f4cd0",
   "metadata": {
    "attributes": {
     "classes": [
      "javascript"
     ],
     "id": ""
    }
   },
   "outputs": [],
   "source": [
    "Object.prototype.print = function () {\n",
    "  console.log(this);\n",
    "};\n",
    "\n",
    "var obj = new Object();\n",
    "obj.print() // Object"
   ]
  },
  {
   "cell_type": "markdown",
   "id": "600e28c1",
   "metadata": {},
   "source": [
    "上面代码中，`Object.prototype`定义了一个`print`方法，然后生成一个`Object`的实例`obj`。`obj`直接继承了`Object.prototype`的属性和方法，可以直接使用`obj.print`调用`print`方法。也就是说，`obj`对象的`print`方法实质上就是调用`Object.prototype.print`方法。\n",
    "\n",
    "关于原型对象`object.prototype`的详细解释，参见《面向对象编程》章节。这里只要知道，凡是定义在`Object.prototype`对象上面的属性和方法，将被所有实例对象共享就可以了。\n",
    "\n",
    "以下先介绍`Object`作为函数的用法，然后再介绍`Object`对象的原生方法，分成对象自身的方法（又称为“静态方法”）和实例方法两部分。\n",
    "\n",
    "## Object()\n",
    "\n",
    "`Object`本身是一个函数，可以当作工具方法使用，将任意值转为对象。这个方法常用于保证某个值一定是对象。\n",
    "\n",
    "如果参数为空（或者为`undefined`和`null`），`Object()`返回一个空对象。"
   ]
  },
  {
   "cell_type": "code",
   "execution_count": null,
   "id": "84a12bc2",
   "metadata": {
    "attributes": {
     "classes": [
      "javascript"
     ],
     "id": ""
    }
   },
   "outputs": [],
   "source": [
    "var obj = Object();\n",
    "// 等同于\n",
    "var obj = Object(undefined);\n",
    "var obj = Object(null);\n",
    "\n",
    "obj instanceof Object // true"
   ]
  },
  {
   "cell_type": "markdown",
   "id": "b7ac67b8",
   "metadata": {},
   "source": [
    "上面代码的含义，是将`undefined`和`null`转为对象，结果得到了一个空对象`obj`。\n",
    "\n",
    "`instanceof`运算符用来验证，一个对象是否为指定的构造函数的实例。`obj instanceof Object`返回`true`，就表示`obj`对象是`Object`的实例。\n",
    "\n",
    "如果参数是原始类型的值，`Object`方法将其转为对应的包装对象的实例（参见《原始类型的包装对象》一章）。"
   ]
  },
  {
   "cell_type": "code",
   "execution_count": null,
   "id": "57c7ba54",
   "metadata": {
    "attributes": {
     "classes": [
      "javascript"
     ],
     "id": ""
    }
   },
   "outputs": [],
   "source": [
    "var obj = Object(1);\n",
    "obj instanceof Object // true\n",
    "obj instanceof Number // true\n",
    "\n",
    "var obj = Object('foo');\n",
    "obj instanceof Object // true\n",
    "obj instanceof String // true\n",
    "\n",
    "var obj = Object(true);\n",
    "obj instanceof Object // true\n",
    "obj instanceof Boolean // true"
   ]
  },
  {
   "cell_type": "markdown",
   "id": "ae499fe4",
   "metadata": {},
   "source": [
    "上面代码中，`Object`函数的参数是各种原始类型的值，转换成对象就是原始类型值对应的包装对象。\n",
    "\n",
    "如果`Object`方法的参数是一个对象，它总是返回该对象，即不用转换。"
   ]
  },
  {
   "cell_type": "code",
   "execution_count": null,
   "id": "3c719860",
   "metadata": {
    "attributes": {
     "classes": [
      "javascript"
     ],
     "id": ""
    }
   },
   "outputs": [],
   "source": [
    "var arr = [];\n",
    "var obj = Object(arr); // 返回原数组\n",
    "obj === arr // true\n",
    "\n",
    "var value = {};\n",
    "var obj = Object(value) // 返回原对象\n",
    "obj === value // true\n",
    "\n",
    "var fn = function () {};\n",
    "var obj = Object(fn); // 返回原函数\n",
    "obj === fn // true"
   ]
  },
  {
   "cell_type": "markdown",
   "id": "3f5efd58",
   "metadata": {},
   "source": [
    "利用这一点，可以写一个判断变量是否为对象的函数。"
   ]
  },
  {
   "cell_type": "code",
   "execution_count": null,
   "id": "a1448cb6",
   "metadata": {
    "attributes": {
     "classes": [
      "javascript"
     ],
     "id": ""
    }
   },
   "outputs": [],
   "source": [
    "function isObject(value) {\n",
    "  return value === Object(value);\n",
    "}\n",
    "\n",
    "isObject([]) // true\n",
    "isObject(true) // false"
   ]
  },
  {
   "cell_type": "markdown",
   "id": "0172385b",
   "metadata": {},
   "source": [
    "## Object 构造函数\n",
    "\n",
    "`Object`不仅可以当作工具函数使用，还可以当作构造函数使用，即前面可以使用`new`命令。\n",
    "\n",
    "`Object`构造函数的首要用途，是直接通过它来生成新对象。"
   ]
  },
  {
   "cell_type": "code",
   "execution_count": null,
   "id": "7aaa5dbb",
   "metadata": {
    "attributes": {
     "classes": [
      "javascript"
     ],
     "id": ""
    }
   },
   "outputs": [],
   "source": [
    "var obj = new Object();"
   ]
  },
  {
   "cell_type": "markdown",
   "id": "227c7b19",
   "metadata": {},
   "source": [
    "> 注意，通过`var obj = new Object()`的写法生成新对象，与字面量的写法`var obj = {}`是等价的。或者说，后者只是前者的一种简便写法。\n",
    "\n",
    "`Object`构造函数的用法与工具方法很相似，几乎一模一样。使用时，可以接受一个参数，如果该参数是一个对象，则直接返回这个对象；如果是一个原始类型的值，则返回该值对应的包装对象（详见《包装对象》一章）。"
   ]
  },
  {
   "cell_type": "code",
   "execution_count": null,
   "id": "939945ba",
   "metadata": {
    "attributes": {
     "classes": [
      "javascript"
     ],
     "id": ""
    }
   },
   "outputs": [],
   "source": [
    "var o1 = {a: 1};\n",
    "var o2 = new Object(o1);\n",
    "o1 === o2 // true\n",
    "\n",
    "var obj = new Object(123);\n",
    "obj instanceof Number // true"
   ]
  },
  {
   "cell_type": "markdown",
   "id": "4f798fa3",
   "metadata": {},
   "source": [
    "虽然用法相似，但是`Object(value)`与`new Object(value)`两者的语义是不同的，`Object(value)`表示将`value`转成一个对象，`new Object(value)`则表示新生成一个对象，它的值是`value`。\n",
    "\n",
    "## Object 的静态方法\n",
    "\n",
    "所谓“静态方法”，是指部署在`Object`对象自身的方法。\n",
    "\n",
    "### Object.keys()，Object.getOwnPropertyNames()\n",
    "\n",
    "`Object.keys`方法和`Object.getOwnPropertyNames`方法都用来遍历对象的属性。\n",
    "\n",
    "`Object.keys`方法的参数是一个对象，返回一个数组。该数组的成员都是该对象自身的（而不是继承的）所有属性名。"
   ]
  },
  {
   "cell_type": "code",
   "execution_count": null,
   "id": "36312d99",
   "metadata": {
    "attributes": {
     "classes": [
      "javascript"
     ],
     "id": ""
    }
   },
   "outputs": [],
   "source": [
    "var obj = {\n",
    "  p1: 123,\n",
    "  p2: 456\n",
    "};\n",
    "\n",
    "Object.keys(obj) // [\"p1\", \"p2\"]"
   ]
  },
  {
   "cell_type": "markdown",
   "id": "ce9f4c78",
   "metadata": {},
   "source": [
    "`Object.getOwnPropertyNames`方法与`Object.keys`类似，也是接受一个对象作为参数，返回一个数组，包含了该对象自身的所有属性名。"
   ]
  },
  {
   "cell_type": "code",
   "execution_count": null,
   "id": "59e6cd6f",
   "metadata": {
    "attributes": {
     "classes": [
      "javascript"
     ],
     "id": ""
    }
   },
   "outputs": [],
   "source": [
    "var obj = {\n",
    "  p1: 123,\n",
    "  p2: 456\n",
    "};\n",
    "\n",
    "Object.getOwnPropertyNames(obj) // [\"p1\", \"p2\"]"
   ]
  },
  {
   "cell_type": "markdown",
   "id": "aea6bd04",
   "metadata": {},
   "source": [
    "对于一般的对象来说，`Object.keys()`和`Object.getOwnPropertyNames()`返回的结果是一样的。只有涉及不可枚举属性时，才会有不一样的结果。`Object.keys`方法只返回可枚举的属性（详见《对象属性的描述对象》一章），`Object.getOwnPropertyNames`方法还返回不可枚举的属性名。"
   ]
  },
  {
   "cell_type": "code",
   "execution_count": null,
   "id": "4f35ac1f",
   "metadata": {
    "attributes": {
     "classes": [
      "javascript"
     ],
     "id": ""
    }
   },
   "outputs": [],
   "source": [
    "var a = ['Hello', 'World'];\n",
    "\n",
    "Object.keys(a) // [\"0\", \"1\"]\n",
    "Object.getOwnPropertyNames(a) // [\"0\", \"1\", \"length\"]"
   ]
  },
  {
   "cell_type": "markdown",
   "id": "0e9eefbd",
   "metadata": {},
   "source": [
    "上面代码中，数组的`length`属性是不可枚举的属性，所以只出现在`Object.getOwnPropertyNames`方法的返回结果中。\n",
    "\n",
    "由于 JavaScript 没有提供计算对象属性个数的方法，所以可以用这两个方法代替。"
   ]
  },
  {
   "cell_type": "code",
   "execution_count": null,
   "id": "c75248f0",
   "metadata": {
    "attributes": {
     "classes": [
      "javascript"
     ],
     "id": ""
    }
   },
   "outputs": [],
   "source": [
    "var obj = {\n",
    "  p1: 123,\n",
    "  p2: 456\n",
    "};\n",
    "\n",
    "Object.keys(obj).length // 2\n",
    "Object.getOwnPropertyNames(obj).length // 2"
   ]
  },
  {
   "cell_type": "markdown",
   "id": "72156fc9",
   "metadata": {},
   "source": [
    "一般情况下，几乎总是使用`Object.keys`方法，遍历对象的属性。\n",
    "\n",
    "### 其他方法\n",
    "\n",
    "除了上面提到的两个方法，`Object`还有不少其他静态方法，将在后文逐一详细介绍。\n",
    "\n",
    "**（1）对象属性模型的相关方法**\n",
    "\n",
    "- `Object.getOwnPropertyDescriptor()`：获取某个属性的描述对象。\n",
    "- `Object.defineProperty()`：通过描述对象，定义某个属性。\n",
    "- `Object.defineProperties()`：通过描述对象，定义多个属性。\n",
    "\n",
    "**（2）控制对象状态的方法**\n",
    "\n",
    "- `Object.preventExtensions()`：防止对象扩展。\n",
    "- `Object.isExtensible()`：判断对象是否可扩展。\n",
    "- `Object.seal()`：禁止对象配置。\n",
    "- `Object.isSealed()`：判断一个对象是否可配置。\n",
    "- `Object.freeze()`：冻结一个对象。\n",
    "- `Object.isFrozen()`：判断一个对象是否被冻结。\n",
    "\n",
    "**（3）原型链相关方法**\n",
    "\n",
    "- `Object.create()`：该方法可以指定原型对象和属性，返回一个新的对象。\n",
    "- `Object.getPrototypeOf()`：获取对象的`Prototype`对象。\n",
    "\n",
    "## Object 的实例方法\n",
    "\n",
    "除了静态方法，还有不少方法定义在`Object.prototype`对象。它们称为实例方法，所有`Object`的实例对象都继承了这些方法。\n",
    "\n",
    "`Object`实例对象的方法，主要有以下六个。\n",
    "\n",
    "- `Object.prototype.valueOf()`：返回当前对象对应的值。\n",
    "- `Object.prototype.toString()`：返回当前对象对应的字符串形式。\n",
    "- `Object.prototype.toLocaleString()`：返回当前对象对应的本地字符串形式。\n",
    "- `Object.prototype.hasOwnProperty()`：判断某个属性是否为当前对象自身的属性，还是继承自原型对象的属性。\n",
    "- `Object.prototype.isPrototypeOf()`：判断当前对象是否为另一个对象的原型。\n",
    "- `Object.prototype.propertyIsEnumerable()`：判断某个属性是否可枚举。\n",
    "\n",
    "本节介绍前四个方法，另外两个方法将在后文相关章节介绍。\n",
    "\n",
    "### Object.prototype.valueOf()\n",
    "\n",
    "`valueOf`方法的作用是返回一个对象的“值”，默认情况下返回对象本身。"
   ]
  },
  {
   "cell_type": "code",
   "execution_count": null,
   "id": "17cd5018",
   "metadata": {
    "attributes": {
     "classes": [
      "javascript"
     ],
     "id": ""
    }
   },
   "outputs": [],
   "source": [
    "var obj = new Object();\n",
    "obj.valueOf() === obj // true"
   ]
  },
  {
   "cell_type": "markdown",
   "id": "2c22ec90",
   "metadata": {},
   "source": [
    "上面代码比较`obj.valueOf()`与`obj`本身，两者是一样的。\n",
    "\n",
    "`valueOf`方法的主要用途是，JavaScript 自动类型转换时会默认调用这个方法（详见《数据类型转换》一章）。"
   ]
  },
  {
   "cell_type": "code",
   "execution_count": null,
   "id": "45dea48b",
   "metadata": {
    "attributes": {
     "classes": [
      "javascript"
     ],
     "id": ""
    }
   },
   "outputs": [],
   "source": [
    "var obj = new Object();\n",
    "1 + obj // \"1[object Object]\""
   ]
  },
  {
   "cell_type": "markdown",
   "id": "265ad79b",
   "metadata": {},
   "source": [
    "上面代码将对象`obj`与数字`1`相加，这时 JavaScript 就会默认调用`valueOf()`方法，求出`obj`的值再与`1`相加。所以，如果自定义`valueOf`方法，就可以得到想要的结果。"
   ]
  },
  {
   "cell_type": "code",
   "execution_count": null,
   "id": "328e0ffa",
   "metadata": {
    "attributes": {
     "classes": [
      "javascript"
     ],
     "id": ""
    }
   },
   "outputs": [],
   "source": [
    "var obj = new Object();\n",
    "obj.valueOf = function () {\n",
    "  return 2;\n",
    "};\n",
    "\n",
    "1 + obj // 3"
   ]
  },
  {
   "cell_type": "markdown",
   "id": "8180bb44",
   "metadata": {},
   "source": [
    "上面代码自定义了`obj`对象的`valueOf`方法，于是`1 + obj`就得到了`3`。这种方法就相当于用自定义的`obj.valueOf`，覆盖`Object.prototype.valueOf`。\n",
    "\n",
    "### Object.prototype.toString()\n",
    "\n",
    "`toString`方法的作用是返回一个对象的字符串形式，默认情况下返回类型字符串。"
   ]
  },
  {
   "cell_type": "code",
   "execution_count": null,
   "id": "7fa60278",
   "metadata": {
    "attributes": {
     "classes": [
      "javascript"
     ],
     "id": ""
    }
   },
   "outputs": [],
   "source": [
    "var o1 = new Object();\n",
    "o1.toString() // \"[object Object]\"\n",
    "\n",
    "var o2 = {a:1};\n",
    "o2.toString() // \"[object Object]\""
   ]
  },
  {
   "cell_type": "markdown",
   "id": "999c097c",
   "metadata": {},
   "source": [
    "上面代码表示，对于一个对象调用`toString`方法，会返回字符串`[object Object]`，该字符串说明对象的类型。\n",
    "\n",
    "字符串`[object Object]`本身没有太大的用处，但是通过自定义`toString`方法，可以让对象在自动类型转换时，得到想要的字符串形式。"
   ]
  },
  {
   "cell_type": "code",
   "execution_count": null,
   "id": "16a7d9d9",
   "metadata": {
    "attributes": {
     "classes": [
      "javascript"
     ],
     "id": ""
    }
   },
   "outputs": [],
   "source": [
    "var obj = new Object();\n",
    "\n",
    "obj.toString = function () {\n",
    "  return 'hello';\n",
    "};\n",
    "\n",
    "obj + ' ' + 'world' // \"hello world\""
   ]
  },
  {
   "cell_type": "markdown",
   "id": "4f19f969",
   "metadata": {},
   "source": [
    "上面代码表示，当对象用于字符串加法时，会自动调用`toString`方法。由于自定义了`toString`方法，所以返回字符串`hello world`。\n",
    "\n",
    "数组、字符串、函数、Date 对象都分别部署了自定义的`toString`方法，覆盖了`Object.prototype.toString`方法。"
   ]
  },
  {
   "cell_type": "code",
   "execution_count": null,
   "id": "4a549adb",
   "metadata": {
    "attributes": {
     "classes": [
      "javascript"
     ],
     "id": ""
    }
   },
   "outputs": [],
   "source": [
    "[1, 2, 3].toString() // \"1,2,3\"\n",
    "\n",
    "'123'.toString() // \"123\"\n",
    "\n",
    "(function () {\n",
    "  return 123;\n",
    "}).toString()\n",
    "// \"function () {\n",
    "//   return 123;\n",
    "// }\"\n",
    "\n",
    "(new Date()).toString()\n",
    "// \"Tue May 10 2016 09:11:31 GMT+0800 (CST)\""
   ]
  },
  {
   "cell_type": "markdown",
   "id": "1870d1e9",
   "metadata": {},
   "source": [
    "上面代码中，数组、字符串、函数、Date 对象调用`toString`方法，并不会返回`[object Object]`，因为它们都自定义了`toString`方法，覆盖原始方法。\n",
    "\n",
    "### toString() 的应用：判断数据类型\n",
    "\n",
    "`Object.prototype.toString`方法返回对象的类型字符串，因此可以用来判断一个值的类型。"
   ]
  },
  {
   "cell_type": "code",
   "execution_count": null,
   "id": "046334ff",
   "metadata": {
    "attributes": {
     "classes": [
      "javascript"
     ],
     "id": ""
    }
   },
   "outputs": [],
   "source": [
    "var obj = {};\n",
    "obj.toString() // \"[object Object]\""
   ]
  },
  {
   "cell_type": "markdown",
   "id": "6fbd297e",
   "metadata": {},
   "source": [
    "上面代码调用空对象的`toString`方法，结果返回一个字符串`object Object`，其中第二个`Object`表示该值的构造函数。这是一个十分有用的判断数据类型的方法。\n",
    "\n",
    "由于实例对象可能会自定义`toString`方法，覆盖掉`Object.prototype.toString`方法，所以为了得到类型字符串，最好直接使用`Object.prototype.toString`方法。通过函数的`call`方法，可以在任意值上调用这个方法，帮助我们判断这个值的类型。"
   ]
  },
  {
   "cell_type": "code",
   "execution_count": null,
   "id": "26534347",
   "metadata": {
    "attributes": {
     "classes": [
      "javascript"
     ],
     "id": ""
    }
   },
   "outputs": [],
   "source": [
    "Object.prototype.toString.call(value)"
   ]
  },
  {
   "cell_type": "markdown",
   "id": "24e0cd1d",
   "metadata": {},
   "source": [
    "上面代码表示对`value`这个值调用`Object.prototype.toString`方法。\n",
    "\n",
    "不同数据类型的`Object.prototype.toString`方法返回值如下。\n",
    "\n",
    "- 数值：返回`[object Number]`。\n",
    "- 字符串：返回`[object String]`。\n",
    "- 布尔值：返回`[object Boolean]`。\n",
    "- undefined：返回`[object Undefined]`。\n",
    "- null：返回`[object Null]`。\n",
    "- 数组：返回`[object Array]`。\n",
    "- arguments 对象：返回`[object Arguments]`。\n",
    "- 函数：返回`[object Function]`。\n",
    "- Error 对象：返回`[object Error]`。\n",
    "- Date 对象：返回`[object Date]`。\n",
    "- RegExp 对象：返回`[object RegExp]`。\n",
    "- 其他对象：返回`[object Object]`。\n",
    "\n",
    "这就是说，`Object.prototype.toString`可以看出一个值到底是什么类型。"
   ]
  },
  {
   "cell_type": "code",
   "execution_count": null,
   "id": "3e9503c5",
   "metadata": {
    "attributes": {
     "classes": [
      "javascript"
     ],
     "id": ""
    }
   },
   "outputs": [],
   "source": [
    "Object.prototype.toString.call(2) // \"[object Number]\"\n",
    "Object.prototype.toString.call('') // \"[object String]\"\n",
    "Object.prototype.toString.call(true) // \"[object Boolean]\"\n",
    "Object.prototype.toString.call(undefined) // \"[object Undefined]\"\n",
    "Object.prototype.toString.call(null) // \"[object Null]\"\n",
    "Object.prototype.toString.call(Math) // \"[object Math]\"\n",
    "Object.prototype.toString.call({}) // \"[object Object]\"\n",
    "Object.prototype.toString.call([]) // \"[object Array]\""
   ]
  },
  {
   "cell_type": "markdown",
   "id": "9c7b7d52",
   "metadata": {},
   "source": [
    "利用这个特性，可以写出一个比`typeof`运算符更准确的类型判断函数。"
   ]
  },
  {
   "cell_type": "code",
   "execution_count": null,
   "id": "0f5e8ada",
   "metadata": {
    "attributes": {
     "classes": [
      "javascript"
     ],
     "id": ""
    }
   },
   "outputs": [],
   "source": [
    "var type = function (o){\n",
    "  var s = Object.prototype.toString.call(o);\n",
    "  return s.match(/\\[object (.*?)\\]/)[1].toLowerCase();\n",
    "};\n",
    "\n",
    "type({}); // \"object\"\n",
    "type([]); // \"array\"\n",
    "type(5); // \"number\"\n",
    "type(null); // \"null\"\n",
    "type(); // \"undefined\"\n",
    "type(/abcd/); // \"regex\"\n",
    "type(new Date()); // \"date\""
   ]
  },
  {
   "cell_type": "markdown",
   "id": "615caf37",
   "metadata": {},
   "source": [
    "在上面这个`type`函数的基础上，还可以加上专门判断某种类型数据的方法。"
   ]
  },
  {
   "cell_type": "code",
   "execution_count": null,
   "id": "1e8489f7",
   "metadata": {
    "attributes": {
     "classes": [
      "javascript"
     ],
     "id": ""
    }
   },
   "outputs": [],
   "source": [
    "var type = function (o){\n",
    "  var s = Object.prototype.toString.call(o);\n",
    "  return s.match(/\\[object (.*?)\\]/)[1].toLowerCase();\n",
    "};\n",
    "\n",
    "['Null',\n",
    " 'Undefined',\n",
    " 'Object',\n",
    " 'Array',\n",
    " 'String',\n",
    " 'Number',\n",
    " 'Boolean',\n",
    " 'Function',\n",
    " 'RegExp'\n",
    "].forEach(function (t) {\n",
    "  type['is' + t] = function (o) {\n",
    "    return type(o) === t.toLowerCase();\n",
    "  };\n",
    "});\n",
    "\n",
    "type.isObject({}) // true\n",
    "type.isNumber(NaN) // true\n",
    "type.isRegExp(/abc/) // true"
   ]
  },
  {
   "cell_type": "markdown",
   "id": "d9dbec27",
   "metadata": {},
   "source": [
    "### Object.prototype.toLocaleString()\n",
    "\n",
    "`Object.prototype.toLocaleString`方法与`toString`的返回结果相同，也是返回一个值的字符串形式。"
   ]
  },
  {
   "cell_type": "code",
   "execution_count": null,
   "id": "71a03ec4",
   "metadata": {
    "attributes": {
     "classes": [
      "javascript"
     ],
     "id": ""
    }
   },
   "outputs": [],
   "source": [
    "var obj = {};\n",
    "obj.toString(obj) // \"[object Object]\"\n",
    "obj.toLocaleString(obj) // \"[object Object]\""
   ]
  },
  {
   "cell_type": "markdown",
   "id": "f24ff189",
   "metadata": {},
   "source": [
    "这个方法的主要作用是留出一个接口，让各种不同的对象实现自己版本的`toLocaleString`，用来返回针对某些地域的特定的值。"
   ]
  },
  {
   "cell_type": "code",
   "execution_count": null,
   "id": "17ffd141",
   "metadata": {
    "attributes": {
     "classes": [
      "javascript"
     ],
     "id": ""
    }
   },
   "outputs": [],
   "source": [
    "var person = {\n",
    "  toString: function () {\n",
    "    return 'Henry Norman Bethune';\n",
    "  },\n",
    "  toLocaleString: function () {\n",
    "    return '白求恩';\n",
    "  }\n",
    "};\n",
    "\n",
    "person.toString() // Henry Norman Bethune\n",
    "person.toLocaleString() // 白求恩"
   ]
  },
  {
   "cell_type": "markdown",
   "id": "9752b77d",
   "metadata": {},
   "source": [
    "上面代码中，`toString()`方法返回对象的一般字符串形式，`toLocaleString()`方法返回本地的字符串形式。\n",
    "\n",
    "目前，主要有三个对象自定义了`toLocaleString`方法。\n",
    "\n",
    "- Array.prototype.toLocaleString()\n",
    "- Number.prototype.toLocaleString()\n",
    "- Date.prototype.toLocaleString()\n",
    "\n",
    "举例来说，日期的实例对象的`toString`和`toLocaleString`返回值就不一样，而且`toLocaleString`的返回值跟用户设定的所在地域相关。"
   ]
  },
  {
   "cell_type": "code",
   "execution_count": null,
   "id": "8b5033e9",
   "metadata": {
    "attributes": {
     "classes": [
      "javascript"
     ],
     "id": ""
    }
   },
   "outputs": [],
   "source": [
    "var date = new Date();\n",
    "date.toString() // \"Tue Jan 01 2018 12:01:33 GMT+0800 (CST)\"\n",
    "date.toLocaleString() // \"1/01/2018, 12:01:33 PM\""
   ]
  },
  {
   "cell_type": "markdown",
   "id": "730f81c5",
   "metadata": {},
   "source": [
    "### Object.prototype.hasOwnProperty()\n",
    "\n",
    "`Object.prototype.hasOwnProperty`方法接受一个字符串作为参数，返回一个布尔值，表示该实例对象自身是否具有该属性。"
   ]
  },
  {
   "cell_type": "code",
   "execution_count": null,
   "id": "7ec8686c",
   "metadata": {
    "attributes": {
     "classes": [
      "javascript"
     ],
     "id": ""
    }
   },
   "outputs": [],
   "source": [
    "var obj = {\n",
    "  p: 123\n",
    "};\n",
    "\n",
    "obj.hasOwnProperty('p') // true\n",
    "obj.hasOwnProperty('toString') // false"
   ]
  },
  {
   "cell_type": "markdown",
   "id": "71a486ea",
   "metadata": {},
   "source": [
    "上面代码中，对象`obj`自身具有`p`属性，所以返回`true`。`toString`属性是继承的，所以返回`false`。\n",
    "\n",
    "## 参考链接\n",
    "\n",
    "- Axel Rauschmayer, [Protecting objects in JavaScript](http://www.2ality.com/2013/08/protecting-objects.html)\n",
    "- kangax, [Understanding delete](http://perfectionkills.com/understanding-delete/)\n",
    "- Jon Bretman, [Type Checking in JavaScript](http://techblog.badoo.com/blog/2013/11/01/type-checking-in-javascript/)\n",
    "- Cody Lindley, [Thinking About ECMAScript 5 Parts](http://tech.pro/tutorial/1671/thinking-about-ecmascript-5-parts)\n",
    "- Bjorn Tipling, [Advanced objects in JavaScript](http://bjorn.tipling.com/advanced-objects-in-javascript)\n",
    "- Javier Márquez, [JavaScript properties are enumerable, writable and configurable](http://arqex.com/967/javascript-properties-enumerable-writable-configurable)\n",
    "- Sella Rafaeli, [Native JavaScript Data-Binding](http://www.sellarafaeli.com/blog/native_javascript_data_binding): 使用存取函数实现model与view的双向绑定\n",
    "- Lea Verou, [Copying object properties, the robust way](http://lea.verou.me/2015/08/copying-properties-the-robust-way/)"
   ]
  }
 ],
 "metadata": {},
 "nbformat": 4,
 "nbformat_minor": 5
}

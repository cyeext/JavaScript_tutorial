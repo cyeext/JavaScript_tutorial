{
 "cells": [
  {
   "cell_type": "markdown",
   "id": "5b95ac83",
   "metadata": {},
   "source": [
    "# Math 对象\n",
    "\n",
    "`Math`是 JavaScript 的原生对象，提供各种数学功能。该对象不是构造函数，不能生成实例，所有的属性和方法都必须在`Math`对象上调用。\n",
    "\n",
    "## 静态属性\n",
    "\n",
    "`Math`对象的静态属性，提供以下一些数学常数。\n",
    "\n",
    "- `Math.E`：常数`e`。\n",
    "- `Math.LN2`：2 的自然对数。\n",
    "- `Math.LN10`：10 的自然对数。\n",
    "- `Math.LOG2E`：以 2 为底的`e`的对数。\n",
    "- `Math.LOG10E`：以 10 为底的`e`的对数。\n",
    "- `Math.PI`：常数`π`。\n",
    "- `Math.SQRT1_2`：0.5 的平方根。\n",
    "- `Math.SQRT2`：2 的平方根。"
   ]
  },
  {
   "cell_type": "code",
   "execution_count": null,
   "id": "4d81cef8",
   "metadata": {
    "attributes": {
     "classes": [
      "javascript"
     ],
     "id": ""
    }
   },
   "outputs": [],
   "source": [
    "Math.E // 2.718281828459045\n",
    "Math.LN2 // 0.6931471805599453\n",
    "Math.LN10 // 2.302585092994046\n",
    "Math.LOG2E // 1.4426950408889634\n",
    "Math.LOG10E // 0.4342944819032518\n",
    "Math.PI // 3.141592653589793\n",
    "Math.SQRT1_2 // 0.7071067811865476\n",
    "Math.SQRT2 // 1.4142135623730951"
   ]
  },
  {
   "cell_type": "markdown",
   "id": "ef90a615",
   "metadata": {},
   "source": [
    "这些属性都是只读的，不能修改。\n",
    "\n",
    "## 静态方法\n",
    "\n",
    "`Math`对象提供以下一些静态方法。\n",
    "\n",
    "- `Math.abs()`：绝对值\n",
    "- `Math.ceil()`：向上取整\n",
    "- `Math.floor()`：向下取整\n",
    "- `Math.max()`：最大值\n",
    "- `Math.min()`：最小值\n",
    "- `Math.pow()`：幂运算\n",
    "- `Math.sqrt()`：平方根\n",
    "- `Math.log()`：自然对数\n",
    "- `Math.exp()`：`e`的指数\n",
    "- `Math.round()`：四舍五入\n",
    "- `Math.random()`：随机数\n",
    "\n",
    "### Math.abs()\n",
    "\n",
    "`Math.abs`方法返回参数值的绝对值。"
   ]
  },
  {
   "cell_type": "code",
   "execution_count": null,
   "id": "9acd7410",
   "metadata": {
    "attributes": {
     "classes": [
      "javascript"
     ],
     "id": ""
    }
   },
   "outputs": [],
   "source": [
    "Math.abs(1) // 1\n",
    "Math.abs(-1) // 1"
   ]
  },
  {
   "cell_type": "markdown",
   "id": "4cb2898c",
   "metadata": {},
   "source": [
    "### Math.max()，Math.min()\n",
    "\n",
    "`Math.max`方法返回参数之中最大的那个值，`Math.min`返回最小的那个值。如果参数为空, `Math.min`返回`Infinity`, `Math.max`返回`-Infinity`。"
   ]
  },
  {
   "cell_type": "code",
   "execution_count": null,
   "id": "6ac78d48",
   "metadata": {
    "attributes": {
     "classes": [
      "javascript"
     ],
     "id": ""
    }
   },
   "outputs": [],
   "source": [
    "Math.max(2, -1, 5) // 5\n",
    "Math.min(2, -1, 5) // -1\n",
    "Math.min() // Infinity\n",
    "Math.max() // -Infinity"
   ]
  },
  {
   "cell_type": "markdown",
   "id": "6f238368",
   "metadata": {},
   "source": [
    "### Math.floor()，Math.ceil()\n",
    "\n",
    "`Math.floor`方法返回小于或等于参数值的最大整数（地板值）。"
   ]
  },
  {
   "cell_type": "code",
   "execution_count": null,
   "id": "e0a7cc94",
   "metadata": {
    "attributes": {
     "classes": [
      "javascript"
     ],
     "id": ""
    }
   },
   "outputs": [],
   "source": [
    "Math.floor(3.2) // 3\n",
    "Math.floor(-3.2) // -4"
   ]
  },
  {
   "cell_type": "markdown",
   "id": "2a31d3ed",
   "metadata": {},
   "source": [
    "`Math.ceil`方法返回大于或等于参数值的最小整数（天花板值）。"
   ]
  },
  {
   "cell_type": "code",
   "execution_count": null,
   "id": "c3844dd2",
   "metadata": {
    "attributes": {
     "classes": [
      "javascript"
     ],
     "id": ""
    }
   },
   "outputs": [],
   "source": [
    "Math.ceil(3.2) // 4\n",
    "Math.ceil(-3.2) // -3"
   ]
  },
  {
   "cell_type": "markdown",
   "id": "9f7bbe9b",
   "metadata": {},
   "source": [
    "这两个方法可以结合起来，实现一个总是返回数值的整数部分的函数。"
   ]
  },
  {
   "cell_type": "code",
   "execution_count": null,
   "id": "afe11fd2",
   "metadata": {
    "attributes": {
     "classes": [
      "javascript"
     ],
     "id": ""
    }
   },
   "outputs": [],
   "source": [
    "function ToInteger(x) {\n",
    "  x = Number(x);\n",
    "  return x < 0 ? Math.ceil(x) : Math.floor(x);\n",
    "}\n",
    "\n",
    "ToInteger(3.2) // 3\n",
    "ToInteger(3.5) // 3\n",
    "ToInteger(3.8) // 3\n",
    "ToInteger(-3.2) // -3\n",
    "ToInteger(-3.5) // -3\n",
    "ToInteger(-3.8) // -3"
   ]
  },
  {
   "cell_type": "markdown",
   "id": "949196ac",
   "metadata": {},
   "source": [
    "上面代码中，不管正数或负数，`ToInteger`函数总是返回一个数值的整数部分。\n",
    "\n",
    "### Math.round()\n",
    "\n",
    "`Math.round`方法用于四舍五入。"
   ]
  },
  {
   "cell_type": "code",
   "execution_count": null,
   "id": "89f00549",
   "metadata": {
    "attributes": {
     "classes": [
      "javascript"
     ],
     "id": ""
    }
   },
   "outputs": [],
   "source": [
    "Math.round(0.1) // 0\n",
    "Math.round(0.5) // 1\n",
    "Math.round(0.6) // 1\n",
    "\n",
    "// 等同于\n",
    "Math.floor(x + 0.5)"
   ]
  },
  {
   "cell_type": "markdown",
   "id": "e1439f53",
   "metadata": {},
   "source": [
    "注意，它对负数的处理（主要是对`0.5`的处理）。"
   ]
  },
  {
   "cell_type": "code",
   "execution_count": null,
   "id": "4cb52c9d",
   "metadata": {
    "attributes": {
     "classes": [
      "javascript"
     ],
     "id": ""
    }
   },
   "outputs": [],
   "source": [
    "Math.round(-1.1) // -1\n",
    "Math.round(-1.5) // -1\n",
    "Math.round(-1.6) // -2"
   ]
  },
  {
   "cell_type": "markdown",
   "id": "3adc3086",
   "metadata": {},
   "source": [
    "### Math.pow()\n",
    "\n",
    "`Math.pow`方法返回以第一个参数为底数、第二个参数为指数的幂运算值。"
   ]
  },
  {
   "cell_type": "code",
   "execution_count": null,
   "id": "2c1c6dad",
   "metadata": {
    "attributes": {
     "classes": [
      "javascript"
     ],
     "id": ""
    }
   },
   "outputs": [],
   "source": [
    "// 等同于 2 ** 2\n",
    "Math.pow(2, 2) // 4\n",
    "// 等同于 2 ** 3\n",
    "Math.pow(2, 3) // 8"
   ]
  },
  {
   "cell_type": "markdown",
   "id": "62649141",
   "metadata": {},
   "source": [
    "下面是计算圆面积的方法。"
   ]
  },
  {
   "cell_type": "code",
   "execution_count": null,
   "id": "bb3ac51c",
   "metadata": {
    "attributes": {
     "classes": [
      "javascript"
     ],
     "id": ""
    }
   },
   "outputs": [],
   "source": [
    "var radius = 20;\n",
    "var area = Math.PI * Math.pow(radius, 2);"
   ]
  },
  {
   "cell_type": "markdown",
   "id": "27256802",
   "metadata": {},
   "source": [
    "### Math.sqrt()\n",
    "\n",
    "`Math.sqrt`方法返回参数值的平方根。如果参数是一个负值，则返回`NaN`。"
   ]
  },
  {
   "cell_type": "code",
   "execution_count": null,
   "id": "da2142db",
   "metadata": {
    "attributes": {
     "classes": [
      "javascript"
     ],
     "id": ""
    }
   },
   "outputs": [],
   "source": [
    "Math.sqrt(4) // 2\n",
    "Math.sqrt(-4) // NaN"
   ]
  },
  {
   "cell_type": "markdown",
   "id": "16f6387b",
   "metadata": {},
   "source": [
    "### Math.log()\n",
    "\n",
    "`Math.log`方法返回以`e`为底的自然对数值。"
   ]
  },
  {
   "cell_type": "code",
   "execution_count": null,
   "id": "3cfbd2de",
   "metadata": {
    "attributes": {
     "classes": [
      "javascript"
     ],
     "id": ""
    }
   },
   "outputs": [],
   "source": [
    "Math.log(Math.E) // 1\n",
    "Math.log(10) // 2.302585092994046"
   ]
  },
  {
   "cell_type": "markdown",
   "id": "69b05a2b",
   "metadata": {},
   "source": [
    "如果要计算以10为底的对数，可以先用`Math.log`求出自然对数，然后除以`Math.LN10`；求以2为底的对数，可以除以`Math.LN2`。"
   ]
  },
  {
   "cell_type": "code",
   "execution_count": null,
   "id": "9aaec01b",
   "metadata": {
    "attributes": {
     "classes": [
      "javascript"
     ],
     "id": ""
    }
   },
   "outputs": [],
   "source": [
    "Math.log(100)/Math.LN10 // 2\n",
    "Math.log(8)/Math.LN2 // 3"
   ]
  },
  {
   "cell_type": "markdown",
   "id": "cca12589",
   "metadata": {},
   "source": [
    "### Math.exp()\n",
    "\n",
    "`Math.exp`方法返回常数`e`的参数次方。"
   ]
  },
  {
   "cell_type": "code",
   "execution_count": null,
   "id": "bdba410f",
   "metadata": {
    "attributes": {
     "classes": [
      "javascript"
     ],
     "id": ""
    }
   },
   "outputs": [],
   "source": [
    "Math.exp(1) // 2.718281828459045\n",
    "Math.exp(3) // 20.085536923187668"
   ]
  },
  {
   "cell_type": "markdown",
   "id": "b607d5e3",
   "metadata": {},
   "source": [
    "### Math.random()\n",
    "\n",
    "`Math.random()`返回0到1之间的一个伪随机数，可能等于0，但是一定小于1。"
   ]
  },
  {
   "cell_type": "code",
   "execution_count": null,
   "id": "cb81e9e5",
   "metadata": {
    "attributes": {
     "classes": [
      "javascript"
     ],
     "id": ""
    }
   },
   "outputs": [],
   "source": [
    "Math.random() // 0.7151307314634323"
   ]
  },
  {
   "cell_type": "markdown",
   "id": "ed371615",
   "metadata": {},
   "source": [
    "任意范围的随机数生成函数如下。"
   ]
  },
  {
   "cell_type": "code",
   "execution_count": null,
   "id": "3a284144",
   "metadata": {
    "attributes": {
     "classes": [
      "javascript"
     ],
     "id": ""
    }
   },
   "outputs": [],
   "source": [
    "function getRandomArbitrary(min, max) {\n",
    "  return Math.random() * (max - min) + min;\n",
    "}\n",
    "\n",
    "getRandomArbitrary(1.5, 6.5)\n",
    "// 2.4942810038223864"
   ]
  },
  {
   "cell_type": "markdown",
   "id": "2d8176b6",
   "metadata": {},
   "source": [
    "任意范围的随机整数生成函数如下。"
   ]
  },
  {
   "cell_type": "code",
   "execution_count": null,
   "id": "9180bdd1",
   "metadata": {
    "attributes": {
     "classes": [
      "javascript"
     ],
     "id": ""
    }
   },
   "outputs": [],
   "source": [
    "function getRandomInt(min, max) {\n",
    "  return Math.floor(Math.random() * (max - min + 1)) + min;\n",
    "}\n",
    "\n",
    "getRandomInt(1, 6) // 5"
   ]
  },
  {
   "cell_type": "markdown",
   "id": "70e1d4e4",
   "metadata": {},
   "source": [
    "返回随机字符的例子如下。"
   ]
  },
  {
   "cell_type": "code",
   "execution_count": null,
   "id": "e53d8be5",
   "metadata": {
    "attributes": {
     "classes": [
      "javascript"
     ],
     "id": ""
    }
   },
   "outputs": [],
   "source": [
    "function random_str(length) {\n",
    "  var ALPHABET = 'ABCDEFGHIJKLMNOPQRSTUVWXYZ';\n",
    "  ALPHABET += 'abcdefghijklmnopqrstuvwxyz';\n",
    "  ALPHABET += '0123456789-_';\n",
    "  var str = '';\n",
    "  for (var i = 0; i < length; ++i) {\n",
    "    var rand = Math.floor(Math.random() * ALPHABET.length);\n",
    "    str += ALPHABET.substring(rand, rand + 1);\n",
    "  }\n",
    "  return str;\n",
    "}\n",
    "\n",
    "random_str(6) // \"NdQKOr\""
   ]
  },
  {
   "cell_type": "markdown",
   "id": "cddce990",
   "metadata": {},
   "source": [
    "上面代码中，`random_str`函数接受一个整数作为参数，返回变量`ALPHABET`内的随机字符所组成的指定长度的字符串。\n",
    "\n",
    "### 三角函数方法\n",
    "\n",
    "`Math`对象还提供一系列三角函数方法。\n",
    "\n",
    "- `Math.sin()`：返回参数的正弦（参数为弧度值）\n",
    "- `Math.cos()`：返回参数的余弦（参数为弧度值）\n",
    "- `Math.tan()`：返回参数的正切（参数为弧度值）\n",
    "- `Math.asin()`：返回参数的反正弦（返回值为弧度值）\n",
    "- `Math.acos()`：返回参数的反余弦（返回值为弧度值）\n",
    "- `Math.atan()`：返回参数的反正切（返回值为弧度值）"
   ]
  },
  {
   "cell_type": "code",
   "execution_count": null,
   "id": "abfc3422",
   "metadata": {
    "attributes": {
     "classes": [
      "javascript"
     ],
     "id": ""
    }
   },
   "outputs": [],
   "source": [
    "Math.sin(0) // 0\n",
    "Math.cos(0) // 1\n",
    "Math.tan(0) // 0\n",
    "\n",
    "Math.sin(Math.PI / 2) // 1\n",
    "\n",
    "Math.asin(1) // 1.5707963267948966\n",
    "Math.acos(1) // 0\n",
    "Math.atan(1) // 0.7853981633974483"
   ]
  }
 ],
 "metadata": {},
 "nbformat": 4,
 "nbformat_minor": 5
}

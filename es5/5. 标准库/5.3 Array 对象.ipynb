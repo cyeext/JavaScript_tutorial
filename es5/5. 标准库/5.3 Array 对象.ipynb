{
 "cells": [
  {
   "cell_type": "markdown",
   "id": "98f7729b",
   "metadata": {},
   "source": [
    "# Array 对象\n",
    "\n",
    "## 构造函数\n",
    "\n",
    "`Array`是 JavaScript 的原生对象，同时也是一个构造函数，可以用它生成新的数组。"
   ]
  },
  {
   "cell_type": "code",
   "execution_count": null,
   "id": "beba337e",
   "metadata": {
    "attributes": {
     "classes": [
      "javascript"
     ],
     "id": ""
    }
   },
   "outputs": [],
   "source": [
    "var arr = new Array(2);\n",
    "arr.length // 2\n",
    "arr // [ empty x 2 ]"
   ]
  },
  {
   "cell_type": "markdown",
   "id": "82e2735e",
   "metadata": {},
   "source": [
    "上面代码中，`Array()`构造函数的参数`2`，表示生成一个两个成员的数组，每个位置都是空值。\n",
    "\n",
    "如果没有使用`new`关键字，运行结果也是一样的。"
   ]
  },
  {
   "cell_type": "code",
   "execution_count": null,
   "id": "4a4f6b81",
   "metadata": {
    "attributes": {
     "classes": [
      "javascript"
     ],
     "id": ""
    }
   },
   "outputs": [],
   "source": [
    "var arr = Array(2);\n",
    "// 等同于\n",
    "var arr = new Array(2);"
   ]
  },
  {
   "cell_type": "markdown",
   "id": "7c5d99d8",
   "metadata": {},
   "source": [
    "考虑到语义性，以及与其他构造函数用法保持一致，建议总是加上`new`。\n",
    "\n",
    "`Array()`构造函数有一个很大的缺陷，不同的参数个数会导致不一致的行为。"
   ]
  },
  {
   "cell_type": "code",
   "execution_count": null,
   "id": "b38f20c6",
   "metadata": {
    "attributes": {
     "classes": [
      "javascript"
     ],
     "id": ""
    }
   },
   "outputs": [],
   "source": [
    "// 无参数时，返回一个空数组\n",
    "new Array() // []\n",
    "\n",
    "// 单个正整数参数，表示返回的新数组的长度\n",
    "new Array(1) // [ empty ]\n",
    "new Array(2) // [ empty x 2 ]\n",
    "\n",
    "// 非正整数的数值作为参数，会报错\n",
    "new Array(3.2) // RangeError: Invalid array length\n",
    "new Array(-3) // RangeError: Invalid array length\n",
    "\n",
    "// 单个非数值（比如字符串、布尔值、对象等）作为参数，\n",
    "// 则该参数是返回的新数组的成员\n",
    "new Array('abc') // ['abc']\n",
    "new Array([1]) // [Array[1]]\n",
    "\n",
    "// 多参数时，所有参数都是返回的新数组的成员\n",
    "new Array(1, 2) // [1, 2]\n",
    "new Array('a', 'b', 'c') // ['a', 'b', 'c']"
   ]
  },
  {
   "cell_type": "markdown",
   "id": "9c44dd9d",
   "metadata": {},
   "source": [
    "可以看到，`Array()`作为构造函数，行为很不一致。因此，不建议使用它生成新数组，直接使用数组字面量是更好的做法。"
   ]
  },
  {
   "cell_type": "code",
   "execution_count": null,
   "id": "f8c1a945",
   "metadata": {
    "attributes": {
     "classes": [
      "javascript"
     ],
     "id": ""
    }
   },
   "outputs": [],
   "source": [
    "// bad\n",
    "var arr = new Array(1, 2);\n",
    "\n",
    "// good\n",
    "var arr = [1, 2];"
   ]
  },
  {
   "cell_type": "markdown",
   "id": "927533c1",
   "metadata": {},
   "source": [
    "注意，如果参数是一个正整数，返回数组的成员都是空位。虽然读取的时候返回`undefined`，但实际上该位置没有任何值。虽然这时可以读取到`length`属性，但是取不到键名。"
   ]
  },
  {
   "cell_type": "code",
   "execution_count": null,
   "id": "f9031f78",
   "metadata": {
    "attributes": {
     "classes": [
      "javascript"
     ],
     "id": ""
    }
   },
   "outputs": [],
   "source": [
    "var a = new Array(3);\n",
    "var b = [undefined, undefined, undefined];\n",
    "\n",
    "a.length // 3\n",
    "b.length // 3\n",
    "\n",
    "a[0] // undefined\n",
    "b[0] // undefined\n",
    "\n",
    "0 in a // false\n",
    "0 in b // true"
   ]
  },
  {
   "cell_type": "markdown",
   "id": "fc3f7821",
   "metadata": {},
   "source": [
    "上面代码中，`a`是`Array()`生成的一个长度为3的空数组，`b`是一个三个成员都是`undefined`的数组，这两个数组是不一样的。读取键值的时候，`a`和`b`都返回`undefined`，但是`a`的键名（成员的序号）都是空的，`b`的键名是有值的。\n",
    "\n",
    "## 静态方法\n",
    "\n",
    "### Array.isArray()\n",
    "\n",
    "`Array.isArray`方法返回一个布尔值，表示参数是否为数组。它可以弥补`typeof`运算符的不足。"
   ]
  },
  {
   "cell_type": "code",
   "execution_count": null,
   "id": "cf0e901e",
   "metadata": {
    "attributes": {
     "classes": [
      "javascript"
     ],
     "id": ""
    }
   },
   "outputs": [],
   "source": [
    "var arr = [1, 2, 3];\n",
    "\n",
    "typeof arr // \"object\"\n",
    "Array.isArray(arr) // true"
   ]
  },
  {
   "cell_type": "markdown",
   "id": "074e16f8",
   "metadata": {},
   "source": [
    "上面代码中，`typeof`运算符只能显示数组的类型是`Object`，而`Array.isArray`方法可以识别数组。\n",
    "\n",
    "## 实例方法\n",
    "\n",
    "### valueOf()，toString()\n",
    "\n",
    "`valueOf`方法是一个所有对象都拥有的方法，表示对该对象求值。不同对象的`valueOf`方法不尽一致，数组的`valueOf`方法返回数组本身。"
   ]
  },
  {
   "cell_type": "code",
   "execution_count": null,
   "id": "8712d495",
   "metadata": {
    "attributes": {
     "classes": [
      "javascript"
     ],
     "id": ""
    }
   },
   "outputs": [],
   "source": [
    "var arr = [1, 2, 3];\n",
    "arr.valueOf() // [1, 2, 3]"
   ]
  },
  {
   "cell_type": "markdown",
   "id": "12ae5d30",
   "metadata": {},
   "source": [
    "`toString`方法也是对象的通用方法，数组的`toString`方法返回数组的字符串形式。"
   ]
  },
  {
   "cell_type": "code",
   "execution_count": null,
   "id": "b3afc472",
   "metadata": {
    "attributes": {
     "classes": [
      "javascript"
     ],
     "id": ""
    }
   },
   "outputs": [],
   "source": [
    "var arr = [1, 2, 3];\n",
    "arr.toString() // \"1,2,3\"\n",
    "\n",
    "var arr = [1, 2, 3, [4, 5, 6]];\n",
    "arr.toString() // \"1,2,3,4,5,6\""
   ]
  },
  {
   "cell_type": "markdown",
   "id": "4360241c",
   "metadata": {},
   "source": [
    "### push()，pop()\n",
    "\n",
    "`push`方法用于在数组的末端添加一个或多个元素，并返回添加新元素后的数组长度。注意，该方法会改变原数组。"
   ]
  },
  {
   "cell_type": "code",
   "execution_count": null,
   "id": "96662ea5",
   "metadata": {
    "attributes": {
     "classes": [
      "javascript"
     ],
     "id": ""
    }
   },
   "outputs": [],
   "source": [
    "var arr = [];\n",
    "\n",
    "arr.push(1) // 1\n",
    "arr.push('a') // 2\n",
    "arr.push(true, {}) // 4\n",
    "arr // [1, 'a', true, {}]"
   ]
  },
  {
   "cell_type": "markdown",
   "id": "8a77a844",
   "metadata": {},
   "source": [
    "上面代码使用`push`方法，往数组中添加了四个成员。\n",
    "\n",
    "`pop`方法用于删除数组的最后一个元素，并返回该元素。注意，该方法会改变原数组。"
   ]
  },
  {
   "cell_type": "code",
   "execution_count": null,
   "id": "1863c728",
   "metadata": {
    "attributes": {
     "classes": [
      "javascript"
     ],
     "id": ""
    }
   },
   "outputs": [],
   "source": [
    "var arr = ['a', 'b', 'c'];\n",
    "\n",
    "arr.pop() // 'c'\n",
    "arr // ['a', 'b']"
   ]
  },
  {
   "cell_type": "markdown",
   "id": "e5b2e5b2",
   "metadata": {},
   "source": [
    "对空数组使用`pop`方法，不会报错，而是返回`undefined`。"
   ]
  },
  {
   "cell_type": "code",
   "execution_count": null,
   "id": "13d3a41b",
   "metadata": {
    "attributes": {
     "classes": [
      "javascript"
     ],
     "id": ""
    }
   },
   "outputs": [],
   "source": [
    "[].pop() // undefined"
   ]
  },
  {
   "cell_type": "markdown",
   "id": "36d19d9d",
   "metadata": {},
   "source": [
    "`push`和`pop`结合使用，就构成了“后进先出”的栈结构（stack）。"
   ]
  },
  {
   "cell_type": "code",
   "execution_count": null,
   "id": "805c94fc",
   "metadata": {
    "attributes": {
     "classes": [
      "javascript"
     ],
     "id": ""
    }
   },
   "outputs": [],
   "source": [
    "var arr = [];\n",
    "arr.push(1, 2);\n",
    "arr.push(3);\n",
    "arr.pop();\n",
    "arr // [1, 2]"
   ]
  },
  {
   "cell_type": "markdown",
   "id": "201a9114",
   "metadata": {},
   "source": [
    "上面代码中，`3`是最后进入数组的，但是最早离开数组。\n",
    "\n",
    "### shift()，unshift()\n",
    "\n",
    "`shift()`方法用于删除数组的第一个元素，并返回该元素。注意，该方法会改变原数组。"
   ]
  },
  {
   "cell_type": "code",
   "execution_count": null,
   "id": "5eb961b9",
   "metadata": {
    "attributes": {
     "classes": [
      "javascript"
     ],
     "id": ""
    }
   },
   "outputs": [],
   "source": [
    "var a = ['a', 'b', 'c'];\n",
    "\n",
    "a.shift() // 'a'\n",
    "a // ['b', 'c']"
   ]
  },
  {
   "cell_type": "markdown",
   "id": "ef28e2b1",
   "metadata": {},
   "source": [
    "上面代码中，使用`shift()`方法以后，原数组就变了。\n",
    "\n",
    "`shift()`方法可以遍历并清空一个数组。"
   ]
  },
  {
   "cell_type": "code",
   "execution_count": null,
   "id": "b78404a0",
   "metadata": {
    "attributes": {
     "classes": [
      "javascript"
     ],
     "id": ""
    }
   },
   "outputs": [],
   "source": [
    "var list = [1, 2, 3, 4];\n",
    "var item;\n",
    "\n",
    "while (item = list.shift()) {\n",
    "  console.log(item);\n",
    "}\n",
    "\n",
    "list // []"
   ]
  },
  {
   "cell_type": "markdown",
   "id": "1a801466",
   "metadata": {},
   "source": [
    "上面代码通过`list.shift()`方法每次取出一个元素，从而遍历数组。它的前提是数组元素不能是`0`或任何布尔值等于`false`的元素，因此这样的遍历不是很可靠。\n",
    "\n",
    "`push()`和`shift()`结合使用，就构成了“先进先出”的队列结构（queue）。\n",
    "\n",
    "`unshift()`方法用于在数组的第一个位置添加元素，并返回添加新元素后的数组长度。注意，该方法会改变原数组。"
   ]
  },
  {
   "cell_type": "code",
   "execution_count": null,
   "id": "7482bac7",
   "metadata": {
    "attributes": {
     "classes": [
      "javascript"
     ],
     "id": ""
    }
   },
   "outputs": [],
   "source": [
    "var a = ['a', 'b', 'c'];\n",
    "\n",
    "a.unshift('x'); // 4\n",
    "a // ['x', 'a', 'b', 'c']"
   ]
  },
  {
   "cell_type": "markdown",
   "id": "d77f1d77",
   "metadata": {},
   "source": [
    "`unshift()`方法可以接受多个参数，这些参数都会添加到目标数组头部。"
   ]
  },
  {
   "cell_type": "code",
   "execution_count": null,
   "id": "d1033efe",
   "metadata": {
    "attributes": {
     "classes": [
      "javascript"
     ],
     "id": ""
    }
   },
   "outputs": [],
   "source": [
    "var arr = [ 'c', 'd' ];\n",
    "arr.unshift('a', 'b') // 4\n",
    "arr // [ 'a', 'b', 'c', 'd' ]"
   ]
  },
  {
   "cell_type": "markdown",
   "id": "76a690e4",
   "metadata": {},
   "source": [
    "### join()\n",
    "\n",
    "`join()`方法以指定参数作为分隔符，将所有数组成员连接为一个字符串返回。如果不提供参数，默认用逗号分隔。"
   ]
  },
  {
   "cell_type": "code",
   "execution_count": null,
   "id": "733a6acd",
   "metadata": {
    "attributes": {
     "classes": [
      "javascript"
     ],
     "id": ""
    }
   },
   "outputs": [],
   "source": [
    "var a = [1, 2, 3, 4];\n",
    "\n",
    "a.join(' ') // '1 2 3 4'\n",
    "a.join(' | ') // \"1 | 2 | 3 | 4\"\n",
    "a.join() // \"1,2,3,4\""
   ]
  },
  {
   "cell_type": "markdown",
   "id": "113c3bc8",
   "metadata": {},
   "source": [
    "如果数组成员是`undefined`或`null`或空位，会被转成空字符串。"
   ]
  },
  {
   "cell_type": "code",
   "execution_count": null,
   "id": "f1b07245",
   "metadata": {
    "attributes": {
     "classes": [
      "javascript"
     ],
     "id": ""
    }
   },
   "outputs": [],
   "source": [
    "[undefined, null].join('#')\n",
    "// '#'\n",
    "\n",
    "['a',, 'b'].join('-')\n",
    "// 'a--b'"
   ]
  },
  {
   "cell_type": "markdown",
   "id": "829c1719",
   "metadata": {},
   "source": [
    "通过`call`方法，这个方法也可以用于字符串或类似数组的对象。"
   ]
  },
  {
   "cell_type": "code",
   "execution_count": null,
   "id": "786ba029",
   "metadata": {
    "attributes": {
     "classes": [
      "javascript"
     ],
     "id": ""
    }
   },
   "outputs": [],
   "source": [
    "Array.prototype.join.call('hello', '-')\n",
    "// \"h-e-l-l-o\"\n",
    "\n",
    "var obj = { 0: 'a', 1: 'b', length: 2 };\n",
    "Array.prototype.join.call(obj, '-')\n",
    "// 'a-b'"
   ]
  },
  {
   "cell_type": "markdown",
   "id": "824a1ae5",
   "metadata": {},
   "source": [
    "### concat()\n",
    "\n",
    "`concat`方法用于多个数组的合并。它将新数组的成员，添加到原数组成员的后部，然后返回一个新数组，原数组不变。"
   ]
  },
  {
   "cell_type": "code",
   "execution_count": null,
   "id": "99cd4c1d",
   "metadata": {
    "attributes": {
     "classes": [
      "javascript"
     ],
     "id": ""
    }
   },
   "outputs": [],
   "source": [
    "['hello'].concat(['world'])\n",
    "// [\"hello\", \"world\"]\n",
    "\n",
    "['hello'].concat(['world'], ['!'])\n",
    "// [\"hello\", \"world\", \"!\"]\n",
    "\n",
    "[].concat({a: 1}, {b: 2})\n",
    "// [{ a: 1 }, { b: 2 }]\n",
    "\n",
    "[2].concat({a: 1})\n",
    "// [2, {a: 1}]"
   ]
  },
  {
   "cell_type": "markdown",
   "id": "a89af57b",
   "metadata": {},
   "source": [
    "除了数组作为参数，`concat`也接受其他类型的值作为参数，添加到目标数组尾部。"
   ]
  },
  {
   "cell_type": "code",
   "execution_count": null,
   "id": "e6ba603e",
   "metadata": {
    "attributes": {
     "classes": [
      "javascript"
     ],
     "id": ""
    }
   },
   "outputs": [],
   "source": [
    "[1, 2, 3].concat(4, 5, 6)\n",
    "// [1, 2, 3, 4, 5, 6]"
   ]
  },
  {
   "cell_type": "markdown",
   "id": "8c5f9ac9",
   "metadata": {},
   "source": [
    "如果数组成员包括对象，`concat`方法返回当前数组的一个浅拷贝。所谓“浅拷贝”，指的是新数组拷贝的是对象的引用。"
   ]
  },
  {
   "cell_type": "code",
   "execution_count": null,
   "id": "1532bf03",
   "metadata": {
    "attributes": {
     "classes": [
      "javascript"
     ],
     "id": ""
    }
   },
   "outputs": [],
   "source": [
    "var obj = { a: 1 };\n",
    "var oldArray = [obj];\n",
    "\n",
    "var newArray = oldArray.concat();\n",
    "\n",
    "obj.a = 2;\n",
    "newArray[0].a // 2"
   ]
  },
  {
   "cell_type": "markdown",
   "id": "1ed60424",
   "metadata": {},
   "source": [
    "上面代码中，原数组包含一个对象，`concat`方法生成的新数组包含这个对象的引用。所以，改变原对象以后，新数组跟着改变。\n",
    "\n",
    "### reverse()\n",
    "\n",
    "`reverse`方法用于颠倒排列数组元素，返回改变后的数组。注意，该方法将改变原数组。"
   ]
  },
  {
   "cell_type": "code",
   "execution_count": null,
   "id": "ed99df0b",
   "metadata": {
    "attributes": {
     "classes": [
      "javascript"
     ],
     "id": ""
    }
   },
   "outputs": [],
   "source": [
    "var a = ['a', 'b', 'c'];\n",
    "\n",
    "a.reverse() // [\"c\", \"b\", \"a\"]\n",
    "a // [\"c\", \"b\", \"a\"]"
   ]
  },
  {
   "cell_type": "markdown",
   "id": "c30ab013",
   "metadata": {},
   "source": [
    "### slice()\n",
    "\n",
    "`slice()`方法用于提取目标数组的一部分，返回一个新数组，原数组不变。"
   ]
  },
  {
   "cell_type": "code",
   "execution_count": null,
   "id": "c0d58985",
   "metadata": {
    "attributes": {
     "classes": [
      "javascript"
     ],
     "id": ""
    }
   },
   "outputs": [],
   "source": [
    "arr.slice(start, end);"
   ]
  },
  {
   "cell_type": "markdown",
   "id": "e489f101",
   "metadata": {},
   "source": [
    "它的第一个参数为起始位置（从0开始，会包括在返回的新数组之中），第二个参数为终止位置（但该位置的元素本身不包括在内）。如果省略第二个参数，则一直返回到原数组的最后一个成员。"
   ]
  },
  {
   "cell_type": "code",
   "execution_count": null,
   "id": "8d9a1b16",
   "metadata": {
    "attributes": {
     "classes": [
      "javascript"
     ],
     "id": ""
    }
   },
   "outputs": [],
   "source": [
    "var a = ['a', 'b', 'c'];\n",
    "\n",
    "a.slice(0) // [\"a\", \"b\", \"c\"]\n",
    "a.slice(1) // [\"b\", \"c\"]\n",
    "a.slice(1, 2) // [\"b\"]\n",
    "a.slice(2, 6) // [\"c\"]\n",
    "a.slice() // [\"a\", \"b\", \"c\"]"
   ]
  },
  {
   "cell_type": "markdown",
   "id": "4e8a07be",
   "metadata": {},
   "source": [
    "上面代码中，最后一个例子`slice()`没有参数，实际上等于返回一个原数组的拷贝。\n",
    "\n",
    "如果`slice()`方法的参数是负数，则表示倒数计算的位置。"
   ]
  },
  {
   "cell_type": "code",
   "execution_count": null,
   "id": "7de13934",
   "metadata": {
    "attributes": {
     "classes": [
      "javascript"
     ],
     "id": ""
    }
   },
   "outputs": [],
   "source": [
    "var a = ['a', 'b', 'c'];\n",
    "a.slice(-2) // [\"b\", \"c\"]\n",
    "a.slice(-2, -1) // [\"b\"]"
   ]
  },
  {
   "cell_type": "markdown",
   "id": "77b59deb",
   "metadata": {},
   "source": [
    "上面代码中，`-2`表示倒数计算的第二个位置，`-1`表示倒数计算的第一个位置。\n",
    "\n",
    "如果第一个参数大于等于数组长度，或者第二个参数小于第一个参数，则返回空数组。"
   ]
  },
  {
   "cell_type": "code",
   "execution_count": null,
   "id": "a717da45",
   "metadata": {
    "attributes": {
     "classes": [
      "javascript"
     ],
     "id": ""
    }
   },
   "outputs": [],
   "source": [
    "var a = ['a', 'b', 'c'];\n",
    "a.slice(4) // []\n",
    "a.slice(2, 1) // []"
   ]
  },
  {
   "cell_type": "markdown",
   "id": "f7940f81",
   "metadata": {},
   "source": [
    "`slice()`方法的一个重要应用，是将类似数组的对象转为真正的数组。"
   ]
  },
  {
   "cell_type": "code",
   "execution_count": null,
   "id": "3638ea4b",
   "metadata": {
    "attributes": {
     "classes": [
      "javascript"
     ],
     "id": ""
    }
   },
   "outputs": [],
   "source": [
    "Array.prototype.slice.call({ 0: 'a', 1: 'b', length: 2 })\n",
    "// ['a', 'b']\n",
    "\n",
    "Array.prototype.slice.call(document.querySelectorAll(\"div\"));\n",
    "Array.prototype.slice.call(arguments);"
   ]
  },
  {
   "cell_type": "markdown",
   "id": "5ec7e5bd",
   "metadata": {},
   "source": [
    "上面代码的参数都不是数组，但是通过`call`方法，在它们上面调用`slice()`方法，就可以把它们转为真正的数组。\n",
    "\n",
    "### splice()\n",
    "\n",
    "`splice()`方法用于删除原数组的一部分成员，并可以在删除的位置添加新的数组成员，返回值是被删除的元素。注意，该方法会改变原数组。"
   ]
  },
  {
   "cell_type": "code",
   "execution_count": null,
   "id": "523775e3",
   "metadata": {
    "attributes": {
     "classes": [
      "javascript"
     ],
     "id": ""
    }
   },
   "outputs": [],
   "source": [
    "arr.splice(start, count, addElement1, addElement2, ...);"
   ]
  },
  {
   "cell_type": "markdown",
   "id": "6f60edfd",
   "metadata": {},
   "source": [
    "`splice`的第一个参数是删除的起始位置（从0开始），第二个参数是被删除的元素个数。如果后面还有更多的参数，则表示这些就是要被插入数组的新元素。"
   ]
  },
  {
   "cell_type": "code",
   "execution_count": null,
   "id": "f32dcaf0",
   "metadata": {
    "attributes": {
     "classes": [
      "javascript"
     ],
     "id": ""
    }
   },
   "outputs": [],
   "source": [
    "var a = ['a', 'b', 'c', 'd', 'e', 'f'];\n",
    "a.splice(4, 2) // [\"e\", \"f\"]\n",
    "a // [\"a\", \"b\", \"c\", \"d\"]"
   ]
  },
  {
   "cell_type": "markdown",
   "id": "e5fb991b",
   "metadata": {},
   "source": [
    "上面代码从原数组4号位置，删除了两个数组成员。"
   ]
  },
  {
   "cell_type": "code",
   "execution_count": null,
   "id": "7b910f19",
   "metadata": {
    "attributes": {
     "classes": [
      "javascript"
     ],
     "id": ""
    }
   },
   "outputs": [],
   "source": [
    "var a = ['a', 'b', 'c', 'd', 'e', 'f'];\n",
    "a.splice(4, 2, 1, 2) // [\"e\", \"f\"]\n",
    "a // [\"a\", \"b\", \"c\", \"d\", 1, 2]"
   ]
  },
  {
   "cell_type": "markdown",
   "id": "9e314a5e",
   "metadata": {},
   "source": [
    "上面代码除了删除成员，还插入了两个新成员。\n",
    "\n",
    "起始位置如果是负数，就表示从倒数位置开始删除。"
   ]
  },
  {
   "cell_type": "code",
   "execution_count": null,
   "id": "42dc261f",
   "metadata": {
    "attributes": {
     "classes": [
      "javascript"
     ],
     "id": ""
    }
   },
   "outputs": [],
   "source": [
    "var a = ['a', 'b', 'c', 'd', 'e', 'f'];\n",
    "a.splice(-4, 2) // [\"c\", \"d\"]"
   ]
  },
  {
   "cell_type": "markdown",
   "id": "d36fcea5",
   "metadata": {},
   "source": [
    "上面代码表示，从倒数第四个位置`c`开始删除两个成员。\n",
    "\n",
    "如果只是单纯地插入元素，`splice`方法的第二个参数可以设为`0`。"
   ]
  },
  {
   "cell_type": "code",
   "execution_count": null,
   "id": "d8f1b888",
   "metadata": {
    "attributes": {
     "classes": [
      "javascript"
     ],
     "id": ""
    }
   },
   "outputs": [],
   "source": [
    "var a = [1, 1, 1];\n",
    "\n",
    "a.splice(1, 0, 2) // []\n",
    "a // [1, 2, 1, 1]"
   ]
  },
  {
   "cell_type": "markdown",
   "id": "30252f74",
   "metadata": {},
   "source": [
    "如果只提供第一个参数，等同于将原数组在指定位置拆分成两个数组。"
   ]
  },
  {
   "cell_type": "code",
   "execution_count": null,
   "id": "225fd779",
   "metadata": {
    "attributes": {
     "classes": [
      "javascript"
     ],
     "id": ""
    }
   },
   "outputs": [],
   "source": [
    "var a = [1, 2, 3, 4];\n",
    "a.splice(2) // [3, 4]\n",
    "a // [1, 2]"
   ]
  },
  {
   "cell_type": "markdown",
   "id": "435eb785",
   "metadata": {},
   "source": [
    "### sort()\n",
    "\n",
    "`sort`方法对数组成员进行排序，默认是按照字典顺序排序。排序后，原数组将被改变。"
   ]
  },
  {
   "cell_type": "code",
   "execution_count": null,
   "id": "404dc339",
   "metadata": {
    "attributes": {
     "classes": [
      "javascript"
     ],
     "id": ""
    }
   },
   "outputs": [],
   "source": [
    "['d', 'c', 'b', 'a'].sort()\n",
    "// ['a', 'b', 'c', 'd']\n",
    "\n",
    "[4, 3, 2, 1].sort()\n",
    "// [1, 2, 3, 4]\n",
    "\n",
    "[11, 101].sort()\n",
    "// [101, 11]\n",
    "\n",
    "[10111, 1101, 111].sort()\n",
    "// [10111, 1101, 111]"
   ]
  },
  {
   "cell_type": "markdown",
   "id": "028d2db4",
   "metadata": {},
   "source": [
    "上面代码的最后两个例子，需要特殊注意。`sort()`方法不是按照大小排序，而是按照字典顺序。也就是说，数值会被先转成字符串，再按照字典顺序进行比较，所以`101`排在`11`的前面。\n",
    "\n",
    "如果想让`sort`方法按照自定义方式排序，可以传入一个函数作为参数。"
   ]
  },
  {
   "cell_type": "code",
   "execution_count": null,
   "id": "30f4cc1a",
   "metadata": {
    "attributes": {
     "classes": [
      "javascript"
     ],
     "id": ""
    }
   },
   "outputs": [],
   "source": [
    "[10111, 1101, 111].sort(function (a, b) {\n",
    "  return a - b;\n",
    "})\n",
    "// [111, 1101, 10111]"
   ]
  },
  {
   "cell_type": "markdown",
   "id": "bc738d40",
   "metadata": {},
   "source": [
    "上面代码中，`sort`的参数函数本身接受两个参数，表示进行比较的两个数组成员。如果该函数的返回值大于`0`，表示第一个成员排在第二个成员后面；其他情况下，都是第一个元素排在第二个元素前面。"
   ]
  },
  {
   "cell_type": "code",
   "execution_count": null,
   "id": "280e628a",
   "metadata": {
    "attributes": {
     "classes": [
      "javascript"
     ],
     "id": ""
    }
   },
   "outputs": [],
   "source": [
    "[\n",
    "  { name: \"张三\", age: 30 },\n",
    "  { name: \"李四\", age: 24 },\n",
    "  { name: \"王五\", age: 28  }\n",
    "].sort(function (o1, o2) {\n",
    "  return o1.age - o2.age;\n",
    "})\n",
    "// [\n",
    "//   { name: \"李四\", age: 24 },\n",
    "//   { name: \"王五\", age: 28  },\n",
    "//   { name: \"张三\", age: 30 }\n",
    "// ]"
   ]
  },
  {
   "cell_type": "markdown",
   "id": "506497a7",
   "metadata": {},
   "source": [
    "注意，自定义的排序函数应该返回数值，否则不同的浏览器可能有不同的实现，不能保证结果都一致。"
   ]
  },
  {
   "cell_type": "code",
   "execution_count": null,
   "id": "d0af85f9",
   "metadata": {
    "attributes": {
     "classes": [
      "javascript"
     ],
     "id": ""
    }
   },
   "outputs": [],
   "source": [
    "// bad\n",
    "[1, 4, 2, 6, 0, 6, 2, 6].sort((a, b) => a > b)\n",
    "\n",
    "// good\n",
    "[1, 4, 2, 6, 0, 6, 2, 6].sort((a, b) => a - b)"
   ]
  },
  {
   "cell_type": "markdown",
   "id": "092705a6",
   "metadata": {},
   "source": [
    "上面代码中，前一种排序算法返回的是布尔值，这是不推荐使用的。后一种是数值，才是更好的写法。\n",
    "\n",
    "### map()\n",
    "\n",
    "`map()`方法将数组的所有成员依次传入参数函数，然后把每一次的执行结果组成一个新数组返回。"
   ]
  },
  {
   "cell_type": "code",
   "execution_count": null,
   "id": "6e96090d",
   "metadata": {
    "attributes": {
     "classes": [
      "javascript"
     ],
     "id": ""
    }
   },
   "outputs": [],
   "source": [
    "var numbers = [1, 2, 3];\n",
    "\n",
    "numbers.map(function (n) {\n",
    "  return n + 1;\n",
    "});\n",
    "// [2, 3, 4]\n",
    "\n",
    "numbers\n",
    "// [1, 2, 3]"
   ]
  },
  {
   "cell_type": "markdown",
   "id": "f945d90c",
   "metadata": {},
   "source": [
    "上面代码中，`numbers`数组的所有成员依次执行参数函数，运行结果组成一个新数组返回，原数组没有变化。\n",
    "\n",
    "`map()`方法接受一个函数作为参数。该函数调用时，`map()`方法向它传入三个参数：当前成员、当前位置和数组本身。"
   ]
  },
  {
   "cell_type": "code",
   "execution_count": null,
   "id": "de60625d",
   "metadata": {
    "attributes": {
     "classes": [
      "javascript"
     ],
     "id": ""
    }
   },
   "outputs": [],
   "source": [
    "[1, 2, 3].map(function(elem, index, arr) {\n",
    "  return elem * index;\n",
    "});\n",
    "// [0, 2, 6]"
   ]
  },
  {
   "cell_type": "markdown",
   "id": "0774f67c",
   "metadata": {},
   "source": [
    "上面代码中，`map()`方法的回调函数有三个参数，`elem`为当前成员的值，`index`为当前成员的位置，`arr`为原数组（`[1, 2, 3]`）。\n",
    "\n",
    "`map()`方法还可以接受第二个参数，用来绑定回调函数内部的`this`变量（详见《this 变量》一章）。"
   ]
  },
  {
   "cell_type": "code",
   "execution_count": null,
   "id": "c93f5ce2",
   "metadata": {
    "attributes": {
     "classes": [
      "javascript"
     ],
     "id": ""
    }
   },
   "outputs": [],
   "source": [
    "var arr = ['a', 'b', 'c'];\n",
    "\n",
    "[1, 2].map(function (e) {\n",
    "  return this[e];\n",
    "}, arr)\n",
    "// ['b', 'c']"
   ]
  },
  {
   "cell_type": "markdown",
   "id": "0dba4981",
   "metadata": {},
   "source": [
    "上面代码通过`map()`方法的第二个参数，将回调函数内部的`this`对象，指向`arr`数组。\n",
    "\n",
    "如果数组有空位，`map()`方法的回调函数在这个位置不会执行，会跳过数组的空位。"
   ]
  },
  {
   "cell_type": "code",
   "execution_count": null,
   "id": "29092b2d",
   "metadata": {
    "attributes": {
     "classes": [
      "javascript"
     ],
     "id": ""
    }
   },
   "outputs": [],
   "source": [
    "var f = function (n) { return 'a' };\n",
    "\n",
    "[1, undefined, 2].map(f) // [\"a\", \"a\", \"a\"]\n",
    "[1, null, 2].map(f) // [\"a\", \"a\", \"a\"]\n",
    "[1, , 2].map(f) // [\"a\", , \"a\"]"
   ]
  },
  {
   "cell_type": "markdown",
   "id": "04ba8708",
   "metadata": {},
   "source": [
    "上面代码中，`map()`方法不会跳过`undefined`和`null`，但是会跳过空位。\n",
    "\n",
    "### forEach()\n",
    "\n",
    "`forEach()`方法与`map()`方法很相似，也是对数组的所有成员依次执行参数函数。但是，`forEach()`方法不返回值，只用来操作数据。这就是说，如果数组遍历的目的是为了得到返回值，那么使用`map()`方法，否则使用`forEach()`方法。\n",
    "\n",
    "`forEach()`的用法与`map()`方法一致，参数是一个函数，该函数同样接受三个参数：当前值、当前位置、整个数组。"
   ]
  },
  {
   "cell_type": "code",
   "execution_count": null,
   "id": "a578209e",
   "metadata": {
    "attributes": {
     "classes": [
      "javascript"
     ],
     "id": ""
    }
   },
   "outputs": [],
   "source": [
    "function log(element, index, array) {\n",
    "  console.log('[' + index + '] = ' + element);\n",
    "}\n",
    "\n",
    "[2, 5, 9].forEach(log);\n",
    "// [0] = 2\n",
    "// [1] = 5\n",
    "// [2] = 9"
   ]
  },
  {
   "cell_type": "markdown",
   "id": "18aa879e",
   "metadata": {},
   "source": [
    "上面代码中，`forEach()`遍历数组不是为了得到返回值，而是为了在屏幕输出内容，所以不必使用`map()`方法。\n",
    "\n",
    "`forEach()`方法也可以接受第二个参数，绑定参数函数的`this`变量。"
   ]
  },
  {
   "cell_type": "code",
   "execution_count": null,
   "id": "9480d7ec",
   "metadata": {
    "attributes": {
     "classes": [
      "javascript"
     ],
     "id": ""
    }
   },
   "outputs": [],
   "source": [
    "var out = [];\n",
    "\n",
    "[1, 2, 3].forEach(function(elem) {\n",
    "  this.push(elem * elem);\n",
    "}, out);\n",
    "\n",
    "out // [1, 4, 9]"
   ]
  },
  {
   "cell_type": "markdown",
   "id": "45304a6a",
   "metadata": {},
   "source": [
    "上面代码中，空数组`out`是`forEach()`方法的第二个参数，结果，回调函数内部的`this`关键字就指向`out`。\n",
    "\n",
    "注意，`forEach()`方法无法中断执行，总是会将所有成员遍历完。如果希望符合某种条件时，就中断遍历，要使用`for`循环。"
   ]
  },
  {
   "cell_type": "code",
   "execution_count": null,
   "id": "8de92381",
   "metadata": {
    "attributes": {
     "classes": [
      "javascript"
     ],
     "id": ""
    }
   },
   "outputs": [],
   "source": [
    "var arr = [1, 2, 3];\n",
    "\n",
    "for (var i = 0; i < arr.length; i++) {\n",
    "  if (arr[i] === 2) break;\n",
    "  console.log(arr[i]);\n",
    "}\n",
    "// 1"
   ]
  },
  {
   "cell_type": "markdown",
   "id": "42c91bbf",
   "metadata": {},
   "source": [
    "上面代码中，执行到数组的第二个成员时，就会中断执行。`forEach()`方法做不到这一点。\n",
    "\n",
    "`forEach()`方法也会跳过数组的空位。"
   ]
  },
  {
   "cell_type": "code",
   "execution_count": null,
   "id": "1589641f",
   "metadata": {
    "attributes": {
     "classes": [
      "javascript"
     ],
     "id": ""
    }
   },
   "outputs": [],
   "source": [
    "var log = function (n) {\n",
    "  console.log(n + 1);\n",
    "};\n",
    "\n",
    "[1, undefined, 2].forEach(log)\n",
    "// 2\n",
    "// NaN\n",
    "// 3\n",
    "\n",
    "[1, null, 2].forEach(log)\n",
    "// 2\n",
    "// 1\n",
    "// 3\n",
    "\n",
    "[1, , 2].forEach(log)\n",
    "// 2\n",
    "// 3"
   ]
  },
  {
   "cell_type": "markdown",
   "id": "add8a618",
   "metadata": {},
   "source": [
    "上面代码中，`forEach()`方法不会跳过`undefined`和`null`，但会跳过空位。\n",
    "\n",
    "### filter()\n",
    "\n",
    "`filter()`方法用于过滤数组成员，满足条件的成员组成一个新数组返回。\n",
    "\n",
    "它的参数是一个函数，所有数组成员依次执行该函数，返回结果为`true`的成员组成一个新数组返回。该方法不会改变原数组。"
   ]
  },
  {
   "cell_type": "code",
   "execution_count": null,
   "id": "ec92c2c1",
   "metadata": {
    "attributes": {
     "classes": [
      "javascript"
     ],
     "id": ""
    }
   },
   "outputs": [],
   "source": [
    "[1, 2, 3, 4, 5].filter(function (elem) {\n",
    "  return (elem > 3);\n",
    "})\n",
    "// [4, 5]"
   ]
  },
  {
   "cell_type": "markdown",
   "id": "6181b9e2",
   "metadata": {},
   "source": [
    "上面代码将大于`3`的数组成员，作为一个新数组返回。"
   ]
  },
  {
   "cell_type": "code",
   "execution_count": null,
   "id": "e8e0fbf3",
   "metadata": {
    "attributes": {
     "classes": [
      "javascript"
     ],
     "id": ""
    }
   },
   "outputs": [],
   "source": [
    "var arr = [0, 1, 'a', false];\n",
    "\n",
    "arr.filter(Boolean)\n",
    "// [1, \"a\"]"
   ]
  },
  {
   "cell_type": "markdown",
   "id": "12017463",
   "metadata": {},
   "source": [
    "上面代码中，`filter()`方法返回数组`arr`里面所有布尔值为`true`的成员。\n",
    "\n",
    "`filter()`方法的参数函数可以接受三个参数：当前成员，当前位置和整个数组。"
   ]
  },
  {
   "cell_type": "code",
   "execution_count": null,
   "id": "859d89da",
   "metadata": {
    "attributes": {
     "classes": [
      "javascript"
     ],
     "id": ""
    }
   },
   "outputs": [],
   "source": [
    "[1, 2, 3, 4, 5].filter(function (elem, index, arr) {\n",
    "  return index % 2 === 0;\n",
    "});\n",
    "// [1, 3, 5]"
   ]
  },
  {
   "cell_type": "markdown",
   "id": "f87f22ee",
   "metadata": {},
   "source": [
    "上面代码返回偶数位置的成员组成的新数组。\n",
    "\n",
    "`filter()`方法还可以接受第二个参数，用来绑定参数函数内部的`this`变量。"
   ]
  },
  {
   "cell_type": "code",
   "execution_count": null,
   "id": "24196187",
   "metadata": {
    "attributes": {
     "classes": [
      "javascript"
     ],
     "id": ""
    }
   },
   "outputs": [],
   "source": [
    "var obj = { MAX: 3 };\n",
    "var myFilter = function (item) {\n",
    "  if (item > this.MAX) return true;\n",
    "};\n",
    "\n",
    "var arr = [2, 8, 3, 4, 1, 3, 2, 9];\n",
    "arr.filter(myFilter, obj) // [8, 4, 9]"
   ]
  },
  {
   "cell_type": "markdown",
   "id": "a22660cd",
   "metadata": {},
   "source": [
    "上面代码中，过滤器`myFilter()`内部有`this`变量，它可以被`filter()`方法的第二个参数`obj`绑定，返回大于`3`的成员。\n",
    "\n",
    "### some()，every()\n",
    "\n",
    "这两个方法类似“断言”（assert），返回一个布尔值，表示判断数组成员是否符合某种条件。\n",
    "\n",
    "它们接受一个函数作为参数，所有数组成员依次执行该函数。该函数接受三个参数：当前成员、当前位置和整个数组，然后返回一个布尔值。\n",
    "\n",
    "`some`方法是只要一个成员的返回值是`true`，则整个`some`方法的返回值就是`true`，否则返回`false`。"
   ]
  },
  {
   "cell_type": "code",
   "execution_count": null,
   "id": "05e11711",
   "metadata": {
    "attributes": {
     "classes": [
      "javascript"
     ],
     "id": ""
    }
   },
   "outputs": [],
   "source": [
    "var arr = [1, 2, 3, 4, 5];\n",
    "arr.some(function (elem, index, arr) {\n",
    "  return elem >= 3;\n",
    "});\n",
    "// true"
   ]
  },
  {
   "cell_type": "markdown",
   "id": "351c7564",
   "metadata": {},
   "source": [
    "上面代码中，如果数组`arr`有一个成员大于等于3，`some`方法就返回`true`。\n",
    "\n",
    "`every`方法是所有成员的返回值都是`true`，整个`every`方法才返回`true`，否则返回`false`。"
   ]
  },
  {
   "cell_type": "code",
   "execution_count": null,
   "id": "76e58a79",
   "metadata": {
    "attributes": {
     "classes": [
      "javascript"
     ],
     "id": ""
    }
   },
   "outputs": [],
   "source": [
    "var arr = [1, 2, 3, 4, 5];\n",
    "arr.every(function (elem, index, arr) {\n",
    "  return elem >= 3;\n",
    "});\n",
    "// false"
   ]
  },
  {
   "cell_type": "markdown",
   "id": "2a780a4c",
   "metadata": {},
   "source": [
    "上面代码中，数组`arr`并非所有成员大于等于`3`，所以返回`false`。\n",
    "\n",
    "注意，对于空数组，`some`方法返回`false`，`every`方法返回`true`，回调函数都不会执行。"
   ]
  },
  {
   "cell_type": "code",
   "execution_count": null,
   "id": "e3835434",
   "metadata": {
    "attributes": {
     "classes": [
      "javascript"
     ],
     "id": ""
    }
   },
   "outputs": [],
   "source": [
    "function isEven(x) { return x % 2 === 0 }\n",
    "\n",
    "[].some(isEven) // false\n",
    "[].every(isEven) // true"
   ]
  },
  {
   "cell_type": "markdown",
   "id": "0e846baf",
   "metadata": {},
   "source": [
    "`some`和`every`方法还可以接受第二个参数，用来绑定参数函数内部的`this`变量。\n",
    "\n",
    "### reduce()，reduceRight()\n",
    "\n",
    "`reduce()`方法和`reduceRight()`方法依次处理数组的每个成员，最终累计为一个值。它们的差别是，`reduce()`是从左到右处理（从第一个成员到最后一个成员），`reduceRight()`则是从右到左（从最后一个成员到第一个成员），其他完全一样。"
   ]
  },
  {
   "cell_type": "code",
   "execution_count": null,
   "id": "e839c2f4",
   "metadata": {
    "attributes": {
     "classes": [
      "javascript"
     ],
     "id": ""
    }
   },
   "outputs": [],
   "source": [
    "[1, 2, 3, 4, 5].reduce(function (a, b) {\n",
    "  console.log(a, b);\n",
    "  return a + b;\n",
    "})\n",
    "// 1 2\n",
    "// 3 3\n",
    "// 6 4\n",
    "// 10 5\n",
    "//最后结果：15"
   ]
  },
  {
   "cell_type": "markdown",
   "id": "e052a229",
   "metadata": {},
   "source": [
    "上面代码中，`reduce()`方法用来求出数组所有成员的和。`reduce()`的参数是一个函数，数组每个成员都会依次执行这个函数。如果数组有 n 个成员，这个参数函数就会执行 n - 1 次。\n",
    "\n",
    "- 第一次执行：`a`是数组的第一个成员`1`，`b`是数组的第二个成员`2`。\n",
    "- 第二次执行：`a`为上一轮的返回值`3`，`b`为第三个成员`3`。\n",
    "- 第三次执行：`a`为上一轮的返回值`6`，`b`为第四个成员`4`。\n",
    "- 第四次执行：`a`为上一轮返回值`10`，`b`为第五个成员`5`。至此所有成员遍历完成，整个方法的返回值就是最后一轮的返回值`15`。\n",
    "\n",
    "`reduce()`方法和`reduceRight()`方法的第一个参数都是一个函数。该函数接受以下四个参数。\n",
    "\n",
    "1. 累积变量。第一次执行时，默认为数组的第一个成员；以后每次执行时，都是上一轮的返回值。\n",
    "2. 当前变量。第一次执行时，默认为数组的第二个成员；以后每次执行时，都是下一个成员。\n",
    "3. 当前位置。一个整数，表示第二个参数（当前变量）的位置，默认为`1`。\n",
    "4. 原数组。\n",
    "\n",
    "这四个参数之中，只有前两个是必须的，后两个则是可选的。"
   ]
  },
  {
   "cell_type": "code",
   "execution_count": null,
   "id": "b562ef29",
   "metadata": {
    "attributes": {
     "classes": [
      "javascript"
     ],
     "id": ""
    }
   },
   "outputs": [],
   "source": [
    "[1, 2, 3, 4, 5].reduce(function (\n",
    "  a,   // 累积变量，必须\n",
    "  b,   // 当前变量，必须\n",
    "  i,   // 当前位置，可选\n",
    "  arr  // 原数组，可选\n",
    ") {\n",
    "  // ... ..."
   ]
  },
  {
   "cell_type": "markdown",
   "id": "53048c0b",
   "metadata": {},
   "source": [
    "如果要对累积变量指定初值，可以把它放在`reduce()`方法和`reduceRight()`方法的第二个参数。"
   ]
  },
  {
   "cell_type": "code",
   "execution_count": null,
   "id": "61a9b4ef",
   "metadata": {
    "attributes": {
     "classes": [
      "javascript"
     ],
     "id": ""
    }
   },
   "outputs": [],
   "source": [
    "[1, 2, 3, 4, 5].reduce(function (a, b) {\n",
    "  return a + b;\n",
    "}, 10);\n",
    "// 25"
   ]
  },
  {
   "cell_type": "markdown",
   "id": "89a9a2ab",
   "metadata": {},
   "source": [
    "上面代码指定参数`a`的初值为10，所以数组从10开始累加，最终结果为25。注意，这时`b`是从数组的第一个成员开始遍历，参数函数会执行5次。\n",
    "\n",
    "建议总是加上第二个参数，这样比较符合直觉，每个数组成员都会依次执行`reduce()`方法的参数函数。另外，第二个参数可以防止空数组报错。"
   ]
  },
  {
   "cell_type": "code",
   "execution_count": null,
   "id": "6610a103",
   "metadata": {
    "attributes": {
     "classes": [
      "javascript"
     ],
     "id": ""
    }
   },
   "outputs": [],
   "source": [
    "function add(prev, cur) {\n",
    "  return prev + cur;\n",
    "}\n",
    "\n",
    "[].reduce(add)\n",
    "// TypeError: Reduce of empty array with no initial value\n",
    "[].reduce(add, 1)\n",
    "// 1"
   ]
  },
  {
   "cell_type": "markdown",
   "id": "05275d3f",
   "metadata": {},
   "source": [
    "上面代码中，由于空数组取不到累积变量的初始值，`reduce()`方法会报错。这时，加上第二个参数，就能保证总是会返回一个值。\n",
    "\n",
    "下面是一个`reduceRight()`方法的例子。"
   ]
  },
  {
   "cell_type": "code",
   "execution_count": null,
   "id": "1cacf37e",
   "metadata": {
    "attributes": {
     "classes": [
      "javascript"
     ],
     "id": ""
    }
   },
   "outputs": [],
   "source": [
    "function subtract(prev, cur) {\n",
    "  return prev - cur;\n",
    "}\n",
    "\n",
    "[3, 2, 1].reduce(subtract) // 0\n",
    "[3, 2, 1].reduceRight(subtract) // -4"
   ]
  },
  {
   "cell_type": "markdown",
   "id": "e8609bc1",
   "metadata": {},
   "source": [
    "上面代码中，`reduce()`方法相当于`3`减去`2`再减去`1`，`reduceRight`方法相当于`1`减去`2`再减去`3`。\n",
    "\n",
    "由于这两个方法会遍历数组，所以实际上可以用来做一些遍历相关的操作。比如，找出字符长度最长的数组成员。"
   ]
  },
  {
   "cell_type": "code",
   "execution_count": null,
   "id": "03b1bef9",
   "metadata": {
    "attributes": {
     "classes": [
      "javascript"
     ],
     "id": ""
    }
   },
   "outputs": [],
   "source": [
    "function findLongest(entries) {\n",
    "  return entries.reduce(function (longest, entry) {\n",
    "    return entry.length > longest.length ? entry : longest;\n",
    "  }, '');\n",
    "}\n",
    "\n",
    "findLongest(['aaa', 'bb', 'c']) // \"aaa\""
   ]
  },
  {
   "cell_type": "markdown",
   "id": "36b16416",
   "metadata": {},
   "source": [
    "上面代码中，`reduce()`的参数函数会将字符长度较长的那个数组成员，作为累积值。这导致遍历所有成员之后，累积值就是字符长度最长的那个成员。\n",
    "\n",
    "### indexOf()，lastIndexOf()\n",
    "\n",
    "`indexOf`方法返回给定元素在数组中第一次出现的位置，如果没有出现则返回`-1`。"
   ]
  },
  {
   "cell_type": "code",
   "execution_count": null,
   "id": "a3ec9070",
   "metadata": {
    "attributes": {
     "classes": [
      "javascript"
     ],
     "id": ""
    }
   },
   "outputs": [],
   "source": [
    "var a = ['a', 'b', 'c'];\n",
    "\n",
    "a.indexOf('b') // 1\n",
    "a.indexOf('y') // -1"
   ]
  },
  {
   "cell_type": "markdown",
   "id": "cfc19180",
   "metadata": {},
   "source": [
    "`indexOf`方法还可以接受第二个参数，表示搜索的开始位置。"
   ]
  },
  {
   "cell_type": "code",
   "execution_count": null,
   "id": "dcff4709",
   "metadata": {
    "attributes": {
     "classes": [
      "javascript"
     ],
     "id": ""
    }
   },
   "outputs": [],
   "source": [
    "['a', 'b', 'c'].indexOf('a', 1) // -1"
   ]
  },
  {
   "cell_type": "markdown",
   "id": "f57e675a",
   "metadata": {},
   "source": [
    "上面代码从1号位置开始搜索字符`a`，结果为`-1`，表示没有搜索到。\n",
    "\n",
    "`lastIndexOf`方法返回给定元素在数组中最后一次出现的位置，如果没有出现则返回`-1`。"
   ]
  },
  {
   "cell_type": "code",
   "execution_count": null,
   "id": "bb918e63",
   "metadata": {
    "attributes": {
     "classes": [
      "javascript"
     ],
     "id": ""
    }
   },
   "outputs": [],
   "source": [
    "var a = [2, 5, 9, 2];\n",
    "a.lastIndexOf(2) // 3\n",
    "a.lastIndexOf(7) // -1"
   ]
  },
  {
   "cell_type": "markdown",
   "id": "a85c17f7",
   "metadata": {},
   "source": [
    "注意，这两个方法不能用来搜索`NaN`的位置，即它们无法确定数组成员是否包含`NaN`。"
   ]
  },
  {
   "cell_type": "code",
   "execution_count": null,
   "id": "f3c6f9d9",
   "metadata": {
    "attributes": {
     "classes": [
      "javascript"
     ],
     "id": ""
    }
   },
   "outputs": [],
   "source": [
    "[NaN].indexOf(NaN) // -1\n",
    "[NaN].lastIndexOf(NaN) // -1"
   ]
  },
  {
   "cell_type": "markdown",
   "id": "8835392b",
   "metadata": {},
   "source": [
    "这是因为这两个方法内部，使用严格相等运算符（`===`）进行比较，而`NaN`是唯一一个不等于自身的值。\n",
    "\n",
    "### 链式使用\n",
    "\n",
    "上面这些数组方法之中，有不少返回的还是数组，所以可以链式使用。"
   ]
  },
  {
   "cell_type": "code",
   "execution_count": null,
   "id": "d63eaf1e",
   "metadata": {
    "attributes": {
     "classes": [
      "javascript"
     ],
     "id": ""
    }
   },
   "outputs": [],
   "source": [
    "var users = [\n",
    "  {name: 'tom', email: 'tom@example.com'},\n",
    "  {name: 'peter', email: 'peter@example.com'}\n",
    "];\n",
    "\n",
    "users\n",
    ".map(function (user) {\n",
    "  return user.email;\n",
    "})\n",
    ".filter(function (email) {\n",
    "  return /^t/.test(email);\n",
    "})\n",
    ".forEach(function (email) {\n",
    "  console.log(email);\n",
    "});\n",
    "// \"tom@example.com\""
   ]
  },
  {
   "cell_type": "markdown",
   "id": "f2b5da8f",
   "metadata": {},
   "source": [
    "上面代码中，先产生一个所有 Email 地址组成的数组，然后再过滤出以`t`开头的 Email 地址，最后将它打印出来。\n",
    "\n",
    "## 参考链接\n",
    "\n",
    "- Nicolas Bevacqua, [Fun with JavaScript Native Array Functions](http://flippinawesome.org/2013/11/25/fun-with-javascript-native-array-functions/)"
   ]
  }
 ],
 "metadata": {},
 "nbformat": 4,
 "nbformat_minor": 5
}

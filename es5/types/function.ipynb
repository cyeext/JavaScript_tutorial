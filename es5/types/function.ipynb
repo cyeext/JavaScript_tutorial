{
 "cells": [
  {
   "cell_type": "markdown",
   "id": "91aabf0b",
   "metadata": {},
   "source": [
    "# 函数\n",
    "\n",
    "函数是一段可以反复调用的代码块。函数还能接受输入的参数，不同的参数有唯一对应的返回值。\n",
    "\n",
    "## 概述\n",
    "\n",
    "### 函数的声明\n",
    "\n",
    "JavaScript 有三种声明函数的方法。\n",
    "\n",
    "**（1）function 命令**\n",
    "\n",
    "`function`命令声明的代码区块，就是一个函数。`function`命令后面是函数名，函数名后面是一对圆括号，里面是传入函数的参数。函数体放在大括号里面。"
   ]
  },
  {
   "cell_type": "code",
   "execution_count": null,
   "id": "9eee0ea7",
   "metadata": {
    "attributes": {
     "classes": [
      "javascript"
     ],
     "id": ""
    }
   },
   "outputs": [],
   "source": [
    "function print(s) {\n",
    "  console.log(s);\n",
    "}"
   ]
  },
  {
   "cell_type": "markdown",
   "id": "2e6c576c",
   "metadata": {},
   "source": [
    "上面的代码命名了一个`print`函数，以后使用`print()`这种形式，就可以调用相应的代码。这叫做函数的声明（Function Declaration）。\n",
    "\n",
    "**（2）函数表达式**\n",
    "\n",
    "除了用`function`命令声明函数，还可以采用变量赋值的写法。"
   ]
  },
  {
   "cell_type": "code",
   "execution_count": null,
   "id": "0b6d95b7",
   "metadata": {
    "attributes": {
     "classes": [
      "javascript"
     ],
     "id": ""
    }
   },
   "outputs": [],
   "source": [
    "var print = function(s) {\n",
    "  console.log(s);\n",
    "};"
   ]
  },
  {
   "cell_type": "markdown",
   "id": "844e76f9",
   "metadata": {},
   "source": [
    "这种写法将一个匿名函数赋值给变量。这时，这个匿名函数又称函数表达式（Function Expression），因为赋值语句的等号右侧只能放表达式。\n",
    "\n",
    "采用函数表达式声明函数时，`function`命令后面不带有函数名。如果加上函数名，该函数名只在函数体内部有效，在函数体外部无效。"
   ]
  },
  {
   "cell_type": "code",
   "execution_count": null,
   "id": "49518f28",
   "metadata": {
    "attributes": {
     "classes": [
      "javascript"
     ],
     "id": ""
    }
   },
   "outputs": [],
   "source": [
    "var print = function x(){\n",
    "  console.log(typeof x);\n",
    "};\n",
    "\n",
    "x\n",
    "// ReferenceError: x is not defined\n",
    "\n",
    "print()\n",
    "// function"
   ]
  },
  {
   "cell_type": "markdown",
   "id": "da680e52",
   "metadata": {},
   "source": [
    "上面代码在函数表达式中，加入了函数名`x`。这个`x`只在函数体内部可用，指代函数表达式本身，其他地方都不可用。这种写法的用处有两个，一是可以在函数体内部调用自身，二是方便除错（除错工具显示函数调用栈时，将显示函数名，而不再显示这里是一个匿名函数）。因此，下面的形式声明函数也非常常见。"
   ]
  },
  {
   "cell_type": "code",
   "execution_count": null,
   "id": "aba1faa6",
   "metadata": {
    "attributes": {
     "classes": [
      "javascript"
     ],
     "id": ""
    }
   },
   "outputs": [],
   "source": [
    "var f = function f() {};"
   ]
  },
  {
   "cell_type": "markdown",
   "id": "4b8a8a62",
   "metadata": {},
   "source": [
    "需要注意的是，函数的表达式需要在语句的结尾加上分号，表示语句结束。而函数的声明在结尾的大括号后面不用加分号。总的来说，这两种声明函数的方式，差别很细微，可以近似认为是等价的。\n",
    "\n",
    "**（3）Function 构造函数**\n",
    "\n",
    "第三种声明函数的方式是`Function`构造函数。"
   ]
  },
  {
   "cell_type": "code",
   "execution_count": null,
   "id": "77c4ee7b",
   "metadata": {
    "attributes": {
     "classes": [
      "javascript"
     ],
     "id": ""
    }
   },
   "outputs": [],
   "source": [
    "var add = new Function(\n",
    "  'x',\n",
    "  'y',\n",
    "  'return x + y'\n",
    ");\n",
    "\n",
    "// 等同于\n",
    "function add(x, y) {\n",
    "  return x + y;\n",
    "}"
   ]
  },
  {
   "cell_type": "markdown",
   "id": "539956aa",
   "metadata": {},
   "source": [
    "上面代码中，`Function`构造函数接受三个参数，除了最后一个参数是`add`函数的“函数体”，其他参数都是`add`函数的参数。\n",
    "\n",
    "你可以传递任意数量的参数给`Function`构造函数，只有最后一个参数会被当做函数体，如果只有一个参数，该参数就是函数体。"
   ]
  },
  {
   "cell_type": "code",
   "execution_count": null,
   "id": "98983caf",
   "metadata": {
    "attributes": {
     "classes": [
      "javascript"
     ],
     "id": ""
    }
   },
   "outputs": [],
   "source": [
    "var foo = new Function(\n",
    "  'return \"hello world\";'\n",
    ");\n",
    "\n",
    "// 等同于\n",
    "function foo() {\n",
    "  return 'hello world';\n",
    "}"
   ]
  },
  {
   "cell_type": "markdown",
   "id": "8257dea3",
   "metadata": {},
   "source": [
    "`Function`构造函数可以不使用`new`命令，返回结果完全一样。\n",
    "\n",
    "总的来说，这种声明函数的方式非常不直观，几乎无人使用。\n",
    "\n",
    "### 函数的重复声明\n",
    "\n",
    "如果同一个函数被多次声明，后面的声明就会覆盖前面的声明。"
   ]
  },
  {
   "cell_type": "code",
   "execution_count": null,
   "id": "85d180ce",
   "metadata": {
    "attributes": {
     "classes": [
      "javascript"
     ],
     "id": ""
    }
   },
   "outputs": [],
   "source": [
    "function f() {\n",
    "  console.log(1);\n",
    "}\n",
    "f() // 2\n",
    "\n",
    "function f() {\n",
    "  console.log(2);\n",
    "}\n",
    "f() // 2"
   ]
  },
  {
   "cell_type": "markdown",
   "id": "bf30a2ec",
   "metadata": {},
   "source": [
    "上面代码中，后一次的函数声明覆盖了前面一次。而且，由于函数名的提升（参见下文），前一次声明在任何时候都是无效的，这一点要特别注意。\n",
    "\n",
    "### 圆括号运算符，return 语句和递归\n",
    "\n",
    "调用函数时，要使用圆括号运算符。圆括号之中，可以加入函数的参数。"
   ]
  },
  {
   "cell_type": "code",
   "execution_count": null,
   "id": "11080311",
   "metadata": {
    "attributes": {
     "classes": [
      "javascript"
     ],
     "id": ""
    }
   },
   "outputs": [],
   "source": [
    "function add(x, y) {\n",
    "  return x + y;\n",
    "}\n",
    "\n",
    "add(1, 1) // 2"
   ]
  },
  {
   "cell_type": "markdown",
   "id": "5e5a555e",
   "metadata": {},
   "source": [
    "上面代码中，函数名后面紧跟一对圆括号，就会调用这个函数。\n",
    "\n",
    "函数体内部的`return`语句，表示返回。JavaScript 引擎遇到`return`语句，就直接返回`return`后面的那个表达式的值，后面即使还有语句，也不会得到执行。也就是说，`return`语句所带的那个表达式，就是函数的返回值。`return`语句不是必需的，如果没有的话，该函数就不返回任何值，或者说返回`undefined`。\n",
    "\n",
    "函数可以调用自身，这就是递归（recursion）。下面就是通过递归，计算斐波那契数列的代码。"
   ]
  },
  {
   "cell_type": "code",
   "execution_count": null,
   "id": "ac6d2f58",
   "metadata": {
    "attributes": {
     "classes": [
      "javascript"
     ],
     "id": ""
    }
   },
   "outputs": [],
   "source": [
    "function fib(num) {\n",
    "  if (num === 0) return 0;\n",
    "  if (num === 1) return 1;\n",
    "  return fib(num - 2) + fib(num - 1);\n",
    "}\n",
    "\n",
    "fib(6) // 8"
   ]
  },
  {
   "cell_type": "markdown",
   "id": "e7d734a2",
   "metadata": {},
   "source": [
    "上面代码中，`fib`函数内部又调用了`fib`，计算得到斐波那契数列的第6个元素是8。\n",
    "\n",
    "### 第一等公民\n",
    "\n",
    "JavaScript 语言将函数看作一种值，与其它值（数值、字符串、布尔值等等）地位相同。凡是可以使用值的地方，就能使用函数。比如，可以把函数赋值给变量和对象的属性，也可以当作参数传入其他函数，或者作为函数的结果返回。函数只是一个可以执行的值，此外并无特殊之处。\n",
    "\n",
    "由于函数与其他数据类型地位平等，所以在 JavaScript 语言中又称函数为第一等公民。"
   ]
  },
  {
   "cell_type": "code",
   "execution_count": null,
   "id": "227b90eb",
   "metadata": {
    "attributes": {
     "classes": [
      "javascript"
     ],
     "id": ""
    }
   },
   "outputs": [],
   "source": [
    "function add(x, y) {\n",
    "  return x + y;\n",
    "}\n",
    "\n",
    "// 将函数赋值给一个变量\n",
    "var operator = add;\n",
    "\n",
    "// 将函数作为参数和返回值\n",
    "function a(op){\n",
    "  return op;\n",
    "}\n",
    "a(add)(1, 1)\n",
    "// 2"
   ]
  },
  {
   "cell_type": "markdown",
   "id": "ad82d699",
   "metadata": {},
   "source": [
    "### 函数名的提升\n",
    "\n",
    "JavaScript 引擎将函数名视同变量名，所以采用`function`命令声明函数时，整个函数会像变量声明一样，被提升到代码头部。所以，下面的代码不会报错。"
   ]
  },
  {
   "cell_type": "code",
   "execution_count": null,
   "id": "df915861",
   "metadata": {
    "attributes": {
     "classes": [
      "javascript"
     ],
     "id": ""
    }
   },
   "outputs": [],
   "source": [
    "f();\n",
    "\n",
    "function f() {}"
   ]
  },
  {
   "cell_type": "markdown",
   "id": "b73f254c",
   "metadata": {},
   "source": [
    "表面上，上面代码好像在声明之前就调用了函数`f`。但是实际上，由于“变量提升”，函数`f`被提升到了代码头部，也就是在调用之前已经声明了。但是，如果采用赋值语句定义函数，JavaScript 就会报错。"
   ]
  },
  {
   "cell_type": "code",
   "execution_count": null,
   "id": "2a564765",
   "metadata": {
    "attributes": {
     "classes": [
      "javascript"
     ],
     "id": ""
    }
   },
   "outputs": [],
   "source": [
    "f();\n",
    "var f = function (){};\n",
    "// TypeError: undefined is not a function"
   ]
  },
  {
   "cell_type": "markdown",
   "id": "a14dd859",
   "metadata": {},
   "source": [
    "上面的代码等同于下面的形式。"
   ]
  },
  {
   "cell_type": "code",
   "execution_count": null,
   "id": "7d151073",
   "metadata": {
    "attributes": {
     "classes": [
      "javascript"
     ],
     "id": ""
    }
   },
   "outputs": [],
   "source": [
    "var f;\n",
    "f();\n",
    "f = function () {};"
   ]
  },
  {
   "cell_type": "markdown",
   "id": "8127d64e",
   "metadata": {},
   "source": [
    "上面代码第二行，调用`f`的时候，`f`只是被声明了，还没有被赋值，等于`undefined`，所以会报错。\n",
    "\n",
    "注意，如果像下面例子那样，采用`function`命令和`var`赋值语句声明同一个函数，由于存在函数提升，最后会采用`var`赋值语句的定义。"
   ]
  },
  {
   "cell_type": "code",
   "execution_count": null,
   "id": "6ff20ab9",
   "metadata": {
    "attributes": {
     "classes": [
      "javascript"
     ],
     "id": ""
    }
   },
   "outputs": [],
   "source": [
    "var f = function () {\n",
    "  console.log('1');\n",
    "}\n",
    "\n",
    "function f() {\n",
    "  console.log('2');\n",
    "}\n",
    "\n",
    "f() // 1"
   ]
  },
  {
   "cell_type": "markdown",
   "id": "5c969dd0",
   "metadata": {},
   "source": [
    "上面例子中，表面上后面声明的函数`f`，应该覆盖前面的`var`赋值语句，但是由于存在函数提升，实际上正好反过来。\n",
    "\n",
    "## 函数的属性和方法\n",
    "\n",
    "### name 属性\n",
    "\n",
    "函数的`name`属性返回函数的名字。"
   ]
  },
  {
   "cell_type": "code",
   "execution_count": null,
   "id": "c7cc6eee",
   "metadata": {
    "attributes": {
     "classes": [
      "javascript"
     ],
     "id": ""
    }
   },
   "outputs": [],
   "source": [
    "function f1() {}\n",
    "f1.name // \"f1\""
   ]
  },
  {
   "cell_type": "markdown",
   "id": "983519ca",
   "metadata": {},
   "source": [
    "如果是通过变量赋值定义的函数，那么`name`属性返回变量名。"
   ]
  },
  {
   "cell_type": "code",
   "execution_count": null,
   "id": "6f3be77a",
   "metadata": {
    "attributes": {
     "classes": [
      "javascript"
     ],
     "id": ""
    }
   },
   "outputs": [],
   "source": [
    "var f2 = function () {};\n",
    "f2.name // \"f2\""
   ]
  },
  {
   "cell_type": "markdown",
   "id": "7e1bc898",
   "metadata": {},
   "source": [
    "但是，上面这种情况，只有在变量的值是一个匿名函数时才是如此。如果变量的值是一个具名函数，那么`name`属性返回`function`关键字之后的那个函数名。"
   ]
  },
  {
   "cell_type": "code",
   "execution_count": null,
   "id": "b00bf604",
   "metadata": {
    "attributes": {
     "classes": [
      "javascript"
     ],
     "id": ""
    }
   },
   "outputs": [],
   "source": [
    "var f3 = function myName() {};\n",
    "f3.name // 'myName'"
   ]
  },
  {
   "cell_type": "markdown",
   "id": "2cb24fbd",
   "metadata": {},
   "source": [
    "上面代码中，`f3.name`返回函数表达式的名字。注意，真正的函数名还是`f3`，而`myName`这个名字只在函数体内部可用。\n",
    "\n",
    "`name`属性的一个用处，就是获取参数函数的名字。"
   ]
  },
  {
   "cell_type": "code",
   "execution_count": null,
   "id": "7f327912",
   "metadata": {
    "attributes": {
     "classes": [
      "javascript"
     ],
     "id": ""
    }
   },
   "outputs": [],
   "source": [
    "var myFunc = function () {};\n",
    "\n",
    "function test(f) {\n",
    "  console.log(f.name);\n",
    "}\n",
    "\n",
    "test(myFunc) // myFunc"
   ]
  },
  {
   "cell_type": "markdown",
   "id": "90babded",
   "metadata": {},
   "source": [
    "上面代码中，函数`test`内部通过`name`属性，就可以知道传入的参数是什么函数。\n",
    "\n",
    "### length 属性\n",
    "\n",
    "函数的`length`属性返回函数预期传入的参数个数，即函数定义之中的参数个数。"
   ]
  },
  {
   "cell_type": "code",
   "execution_count": null,
   "id": "bd680287",
   "metadata": {
    "attributes": {
     "classes": [
      "javascript"
     ],
     "id": ""
    }
   },
   "outputs": [],
   "source": [
    "function f(a, b) {}\n",
    "f.length // 2"
   ]
  },
  {
   "cell_type": "markdown",
   "id": "92b1fcdc",
   "metadata": {},
   "source": [
    "上面代码定义了空函数`f`，它的`length`属性就是定义时的参数个数。不管调用时输入了多少个参数，`length`属性始终等于2。\n",
    "\n",
    "`length`属性提供了一种机制，判断定义时和调用时参数的差异，以便实现面向对象编程的“方法重载”（overload）。\n",
    "\n",
    "### toString()\n",
    "\n",
    "函数的`toString()`方法返回一个字符串，内容是函数的源码。"
   ]
  },
  {
   "cell_type": "code",
   "execution_count": null,
   "id": "4dc2fc5d",
   "metadata": {
    "attributes": {
     "classes": [
      "javascript"
     ],
     "id": ""
    }
   },
   "outputs": [],
   "source": [
    "function f() {\n",
    "  a();\n",
    "  b();\n",
    "  c();\n",
    "}\n",
    "\n",
    "f.toString()\n",
    "// function f() {\n",
    "//  a();\n",
    "//  b();\n",
    "//  c();\n",
    "// }"
   ]
  },
  {
   "cell_type": "markdown",
   "id": "73ba749f",
   "metadata": {},
   "source": [
    "上面示例中，函数`f`的`toString()`方法返回了`f`的源码，包含换行符在内。\n",
    "\n",
    "对于那些原生的函数，`toString()`方法返回`function (){[native code]}`。"
   ]
  },
  {
   "cell_type": "code",
   "execution_count": null,
   "id": "84a91dab",
   "metadata": {
    "attributes": {
     "classes": [
      "javascript"
     ],
     "id": ""
    }
   },
   "outputs": [],
   "source": [
    "Math.sqrt.toString()\n",
    "// \"function sqrt() { [native code] }\""
   ]
  },
  {
   "cell_type": "markdown",
   "id": "5230c31e",
   "metadata": {},
   "source": [
    "上面代码中，`Math.sqrt()`是 JavaScript 引擎提供的原生函数，`toString()`方法就返回原生代码的提示。\n",
    "\n",
    "函数内部的注释也可以返回。"
   ]
  },
  {
   "cell_type": "code",
   "execution_count": null,
   "id": "01d5fc80",
   "metadata": {
    "attributes": {
     "classes": [
      "javascript"
     ],
     "id": ""
    }
   },
   "outputs": [],
   "source": [
    "function f() {/*\n",
    "  这是一个\n",
    "  多行注释\n",
    "*/}\n",
    "\n",
    "f.toString()\n",
    "// \"function f(){/*\n",
    "//   这是一个\n",
    "//   多行注释\n",
    "// */}\""
   ]
  },
  {
   "cell_type": "markdown",
   "id": "fb68b20a",
   "metadata": {},
   "source": [
    "利用这一点，可以变相实现多行字符串。"
   ]
  },
  {
   "cell_type": "code",
   "execution_count": null,
   "id": "6fd9232c",
   "metadata": {
    "attributes": {
     "classes": [
      "javascript"
     ],
     "id": ""
    }
   },
   "outputs": [],
   "source": [
    "var multiline = function (fn) {\n",
    "  var arr = fn.toString().split('\\n');\n",
    "  return arr.slice(1, arr.length - 1).join('\\n');\n",
    "};\n",
    "\n",
    "function f() {/*\n",
    "  这是一个\n",
    "  多行注释\n",
    "*/}\n",
    "\n",
    "multiline(f);\n",
    "// \" 这是一个\n",
    "//   多行注释\""
   ]
  },
  {
   "cell_type": "markdown",
   "id": "f9f3b8dd",
   "metadata": {},
   "source": [
    "上面示例中，函数`f`内部有一个多行注释，`toString()`方法拿到`f`的源码后，去掉首尾两行，就得到了一个多行字符串。\n",
    "\n",
    "## 函数作用域\n",
    "\n",
    "### 定义\n",
    "\n",
    "作用域（scope）指的是变量存在的范围。在 ES5 的规范中，JavaScript 只有两种作用域：一种是全局作用域，变量在整个程序中一直存在，所有地方都可以读取；另一种是函数作用域，变量只在函数内部存在。ES6 又新增了块级作用域，本教程不涉及。\n",
    "\n",
    "对于顶层函数来说，函数外部声明的变量就是全局变量（global variable），它可以在函数内部读取。"
   ]
  },
  {
   "cell_type": "code",
   "execution_count": null,
   "id": "8f6fbb88",
   "metadata": {
    "attributes": {
     "classes": [
      "javascript"
     ],
     "id": ""
    }
   },
   "outputs": [],
   "source": [
    "var v = 1;\n",
    "\n",
    "function f() {\n",
    "  console.log(v);\n",
    "}\n",
    "\n",
    "f()\n",
    "// 1"
   ]
  },
  {
   "cell_type": "markdown",
   "id": "08c28ffc",
   "metadata": {},
   "source": [
    "上面的代码表明，函数`f`内部可以读取全局变量`v`。\n",
    "\n",
    "在函数内部定义的变量，外部无法读取，称为“局部变量”（local variable）。"
   ]
  },
  {
   "cell_type": "code",
   "execution_count": null,
   "id": "899b9a5b",
   "metadata": {
    "attributes": {
     "classes": [
      "javascript"
     ],
     "id": ""
    }
   },
   "outputs": [],
   "source": [
    "function f(){\n",
    "  var v = 1;\n",
    "}\n",
    "\n",
    "v // ReferenceError: v is not defined"
   ]
  },
  {
   "cell_type": "markdown",
   "id": "40477f70",
   "metadata": {},
   "source": [
    "上面代码中，变量`v`在函数内部定义，所以是一个局部变量，函数之外就无法读取。\n",
    "\n",
    "函数内部定义的变量，会在该作用域内覆盖同名全局变量。"
   ]
  },
  {
   "cell_type": "code",
   "execution_count": null,
   "id": "568c1ad6",
   "metadata": {
    "attributes": {
     "classes": [
      "javascript"
     ],
     "id": ""
    }
   },
   "outputs": [],
   "source": [
    "var v = 1;\n",
    "\n",
    "function f(){\n",
    "  var v = 2;\n",
    "  console.log(v);\n",
    "}\n",
    "\n",
    "f() // 2\n",
    "v // 1"
   ]
  },
  {
   "cell_type": "markdown",
   "id": "718b1dfb",
   "metadata": {},
   "source": [
    "上面代码中，变量`v`同时在函数的外部和内部有定义。结果，在函数内部定义，局部变量`v`覆盖了全局变量`v`。\n",
    "\n",
    "注意，对于`var`命令来说，局部变量只能在函数内部声明，在其他区块中声明，一律都是全局变量。"
   ]
  },
  {
   "cell_type": "code",
   "execution_count": null,
   "id": "70547fa1",
   "metadata": {
    "attributes": {
     "classes": [
      "javascript"
     ],
     "id": ""
    }
   },
   "outputs": [],
   "source": [
    "if (true) {\n",
    "  var x = 5;\n",
    "}\n",
    "console.log(x);  // 5"
   ]
  },
  {
   "cell_type": "markdown",
   "id": "ca01dea6",
   "metadata": {},
   "source": [
    "上面代码中，变量`x`在条件判断区块之中声明，结果就是一个全局变量，可以在区块之外读取。\n",
    "\n",
    "### 函数内部的变量提升\n",
    "\n",
    "与全局作用域一样，函数作用域内部也会产生“变量提升”现象。`var`命令声明的变量，不管在什么位置，变量声明都会被提升到函数体的头部。"
   ]
  },
  {
   "cell_type": "code",
   "execution_count": null,
   "id": "f9bac480",
   "metadata": {
    "attributes": {
     "classes": [
      "javascript"
     ],
     "id": ""
    }
   },
   "outputs": [],
   "source": [
    "function foo(x) {\n",
    "  if (x > 100) {\n",
    "    var tmp = x - 100;\n",
    "  }\n",
    "}\n",
    "\n",
    "// 等同于\n",
    "function foo(x) {\n",
    "  var tmp;\n",
    "  if (x > 100) {\n",
    "    tmp = x - 100;\n",
    "  };\n",
    "}"
   ]
  },
  {
   "cell_type": "markdown",
   "id": "d13ccc44",
   "metadata": {},
   "source": [
    "### 函数本身的作用域\n",
    "\n",
    "函数本身也是一个值，也有自己的作用域。它的作用域与变量一样，就是其声明时所在的作用域，与其运行时所在的作用域无关。"
   ]
  },
  {
   "cell_type": "code",
   "execution_count": null,
   "id": "23678683",
   "metadata": {
    "attributes": {
     "classes": [
      "javascript"
     ],
     "id": ""
    }
   },
   "outputs": [],
   "source": [
    "var a = 1;\n",
    "var x = function () {\n",
    "  console.log(a);\n",
    "};\n",
    "\n",
    "function f() {\n",
    "  var a = 2;\n",
    "  x();\n",
    "}\n",
    "\n",
    "f() // 1"
   ]
  },
  {
   "cell_type": "markdown",
   "id": "902d518f",
   "metadata": {},
   "source": [
    "上面代码中，函数`x`是在函数`f`的外部声明的，所以它的作用域绑定外层，内部变量`a`不会到函数`f`体内取值，所以输出`1`，而不是`2`。\n",
    "\n",
    "总之，函数执行时所在的作用域，是定义时的作用域，而不是调用时所在的作用域。\n",
    "\n",
    "很容易犯错的一点是，如果函数`A`调用函数`B`，却没考虑到函数`B`不会引用函数`A`的内部变量。"
   ]
  },
  {
   "cell_type": "code",
   "execution_count": null,
   "id": "6745b60d",
   "metadata": {
    "attributes": {
     "classes": [
      "javascript"
     ],
     "id": ""
    }
   },
   "outputs": [],
   "source": [
    "var x = function () {\n",
    "  console.log(a);\n",
    "};\n",
    "\n",
    "function y(f) {\n",
    "  var a = 2;\n",
    "  f();\n",
    "}\n",
    "\n",
    "y(x)\n",
    "// ReferenceError: a is not defined"
   ]
  },
  {
   "cell_type": "markdown",
   "id": "8030f5b2",
   "metadata": {},
   "source": [
    "上面代码将函数`x`作为参数，传入函数`y`。但是，函数`x`是在函数`y`体外声明的，作用域绑定外层，因此找不到函数`y`的内部变量`a`，导致报错。\n",
    "\n",
    "同样的，函数体内部声明的函数，作用域绑定函数体内部。"
   ]
  },
  {
   "cell_type": "code",
   "execution_count": null,
   "id": "5d9cad38",
   "metadata": {
    "attributes": {
     "classes": [
      "javascript"
     ],
     "id": ""
    }
   },
   "outputs": [],
   "source": [
    "function foo() {\n",
    "  var x = 1;\n",
    "  function bar() {\n",
    "    console.log(x);\n",
    "  }\n",
    "  return bar;\n",
    "}\n",
    "\n",
    "var x = 2;\n",
    "var f = foo();\n",
    "f() // 1"
   ]
  },
  {
   "cell_type": "markdown",
   "id": "cf6beb3b",
   "metadata": {},
   "source": [
    "上面代码中，函数`foo`内部声明了一个函数`bar`，`bar`的作用域绑定`foo`。当我们在`foo`外部取出`bar`执行时，变量`x`指向的是`foo`内部的`x`，而不是`foo`外部的`x`。正是这种机制，构成了下文要讲解的“闭包”现象。\n",
    "\n",
    "## 参数\n",
    "\n",
    "### 概述\n",
    "\n",
    "函数运行的时候，有时需要提供外部数据，不同的外部数据会得到不同的结果，这种外部数据就叫参数。"
   ]
  },
  {
   "cell_type": "code",
   "execution_count": null,
   "id": "2e57bcbe",
   "metadata": {
    "attributes": {
     "classes": [
      "javascript"
     ],
     "id": ""
    }
   },
   "outputs": [],
   "source": [
    "function square(x) {\n",
    "  return x * x;\n",
    "}\n",
    "\n",
    "square(2) // 4\n",
    "square(3) // 9"
   ]
  },
  {
   "cell_type": "markdown",
   "id": "6ec638cc",
   "metadata": {},
   "source": [
    "上式的`x`就是`square`函数的参数。每次运行的时候，需要提供这个值，否则得不到结果。\n",
    "\n",
    "### 参数的省略\n",
    "\n",
    "函数参数不是必需的，JavaScript 允许省略参数。"
   ]
  },
  {
   "cell_type": "code",
   "execution_count": null,
   "id": "f5080496",
   "metadata": {
    "attributes": {
     "classes": [
      "javascript"
     ],
     "id": ""
    }
   },
   "outputs": [],
   "source": [
    "function f(a, b) {\n",
    "  return a;\n",
    "}\n",
    "\n",
    "f(1, 2, 3) // 1\n",
    "f(1) // 1\n",
    "f() // undefined\n",
    "\n",
    "f.length // 2"
   ]
  },
  {
   "cell_type": "markdown",
   "id": "876d891e",
   "metadata": {},
   "source": [
    "上面代码的函数`f`定义了两个参数，但是运行时无论提供多少个参数（或者不提供参数），JavaScript 都不会报错。省略的参数的值就变为`undefined`。需要注意的是，函数的`length`属性与实际传入的参数个数无关，只反映函数预期传入的参数个数。\n",
    "\n",
    "但是，没有办法只省略靠前的参数，而保留靠后的参数。如果一定要省略靠前的参数，只有显式传入`undefined`。"
   ]
  },
  {
   "cell_type": "code",
   "execution_count": null,
   "id": "68bca860",
   "metadata": {
    "attributes": {
     "classes": [
      "javascript"
     ],
     "id": ""
    }
   },
   "outputs": [],
   "source": [
    "function f(a, b) {\n",
    "  return a;\n",
    "}\n",
    "\n",
    "f( , 1) // SyntaxError: Unexpected token ,(…)\n",
    "f(undefined, 1) // undefined"
   ]
  },
  {
   "cell_type": "markdown",
   "id": "81713618",
   "metadata": {},
   "source": [
    "上面代码中，如果省略第一个参数，就会报错。\n",
    "\n",
    "### 传递方式\n",
    "\n",
    "函数参数如果是原始类型的值（数值、字符串、布尔值），传递方式是传值传递（passes by value）。这意味着，在函数体内修改参数值，不会影响到函数外部。"
   ]
  },
  {
   "cell_type": "code",
   "execution_count": null,
   "id": "fae378d5",
   "metadata": {
    "attributes": {
     "classes": [
      "javascript"
     ],
     "id": ""
    }
   },
   "outputs": [],
   "source": [
    "var p = 2;\n",
    "\n",
    "function f(p) {\n",
    "  p = 3;\n",
    "}\n",
    "f(p);\n",
    "\n",
    "p // 2"
   ]
  },
  {
   "cell_type": "markdown",
   "id": "2703ecb5",
   "metadata": {},
   "source": [
    "上面代码中，变量`p`是一个原始类型的值，传入函数`f`的方式是传值传递。因此，在函数内部，`p`的值是原始值的拷贝，无论怎么修改，都不会影响到原始值。\n",
    "\n",
    "但是，如果函数参数是复合类型的值（数组、对象、其他函数），传递方式是传址传递（pass by reference）。也就是说，传入函数的原始值的地址，因此在函数内部修改参数，将会影响到原始值。"
   ]
  },
  {
   "cell_type": "code",
   "execution_count": null,
   "id": "78d9f173",
   "metadata": {
    "attributes": {
     "classes": [
      "javascript"
     ],
     "id": ""
    }
   },
   "outputs": [],
   "source": [
    "var obj = { p: 1 };\n",
    "\n",
    "function f(o) {\n",
    "  o.p = 2;\n",
    "}\n",
    "f(obj);\n",
    "\n",
    "obj.p // 2"
   ]
  },
  {
   "cell_type": "markdown",
   "id": "67d5cc36",
   "metadata": {},
   "source": [
    "上面代码中，传入函数`f`的是参数对象`obj`的地址。因此，在函数内部修改`obj`的属性`p`，会影响到原始值。\n",
    "\n",
    "注意，如果函数内部修改的，不是参数对象的某个属性，而是替换掉整个参数，这时不会影响到原始值。"
   ]
  },
  {
   "cell_type": "code",
   "execution_count": null,
   "id": "167cc97c",
   "metadata": {
    "attributes": {
     "classes": [
      "javascript"
     ],
     "id": ""
    }
   },
   "outputs": [],
   "source": [
    "var obj = [1, 2, 3];\n",
    "\n",
    "function f(o) {\n",
    "  o = [2, 3, 4];\n",
    "}\n",
    "f(obj);\n",
    "\n",
    "obj // [1, 2, 3]"
   ]
  },
  {
   "cell_type": "markdown",
   "id": "ab1b40b5",
   "metadata": {},
   "source": [
    "上面代码中，在函数`f()`内部，参数对象`obj`被整个替换成另一个值。这时不会影响到原始值。这是因为，形式参数（`o`）的值实际是参数`obj`的地址，重新对`o`赋值导致`o`指向另一个地址，保存在原地址上的值当然不受影响。\n",
    "\n",
    "### 同名参数\n",
    "\n",
    "如果有同名的参数，则取最后出现的那个值。"
   ]
  },
  {
   "cell_type": "code",
   "execution_count": null,
   "id": "8465b06e",
   "metadata": {
    "attributes": {
     "classes": [
      "javascript"
     ],
     "id": ""
    }
   },
   "outputs": [],
   "source": [
    "function f(a, a) {\n",
    "  console.log(a);\n",
    "}\n",
    "\n",
    "f(1, 2) // 2"
   ]
  },
  {
   "cell_type": "markdown",
   "id": "4bca8e45",
   "metadata": {},
   "source": [
    "上面代码中，函数`f()`有两个参数，且参数名都是`a`。取值的时候，以后面的`a`为准，即使后面的`a`没有值或被省略，也是以其为准。"
   ]
  },
  {
   "cell_type": "code",
   "execution_count": null,
   "id": "2cb1b138",
   "metadata": {
    "attributes": {
     "classes": [
      "javascript"
     ],
     "id": ""
    }
   },
   "outputs": [],
   "source": [
    "function f(a, a) {\n",
    "  console.log(a);\n",
    "}\n",
    "\n",
    "f(1) // undefined"
   ]
  },
  {
   "cell_type": "markdown",
   "id": "a2188c9a",
   "metadata": {},
   "source": [
    "调用函数`f()`的时候，没有提供第二个参数，`a`的取值就变成了`undefined`。这时，如果要获得第一个`a`的值，可以使用`arguments`对象。"
   ]
  },
  {
   "cell_type": "code",
   "execution_count": null,
   "id": "98ba0644",
   "metadata": {
    "attributes": {
     "classes": [
      "javascript"
     ],
     "id": ""
    }
   },
   "outputs": [],
   "source": [
    "function f(a, a) {\n",
    "  console.log(arguments[0]);\n",
    "}\n",
    "\n",
    "f(1) // 1"
   ]
  },
  {
   "cell_type": "markdown",
   "id": "c130b031",
   "metadata": {},
   "source": [
    "### arguments 对象\n",
    "\n",
    "**（1）定义**\n",
    "\n",
    "由于 JavaScript 允许函数有不定数目的参数，所以需要一种机制，可以在函数体内部读取所有参数。这就是`arguments`对象的由来。\n",
    "\n",
    "`arguments`对象包含了函数运行时的所有参数，`arguments[0]`就是第一个参数，`arguments[1]`就是第二个参数，以此类推。这个对象只有在函数体内部，才可以使用。"
   ]
  },
  {
   "cell_type": "code",
   "execution_count": null,
   "id": "6aeb9bc8",
   "metadata": {
    "attributes": {
     "classes": [
      "javascript"
     ],
     "id": ""
    }
   },
   "outputs": [],
   "source": [
    "var f = function (one) {\n",
    "  console.log(arguments[0]);\n",
    "  console.log(arguments[1]);\n",
    "  console.log(arguments[2]);\n",
    "}\n",
    "\n",
    "f(1, 2, 3)\n",
    "// 1\n",
    "// 2\n",
    "// 3"
   ]
  },
  {
   "cell_type": "markdown",
   "id": "407fdffa",
   "metadata": {},
   "source": [
    "正常模式下，`arguments`对象可以在运行时修改。"
   ]
  },
  {
   "cell_type": "code",
   "execution_count": null,
   "id": "d3ebaa28",
   "metadata": {
    "attributes": {
     "classes": [
      "javascript"
     ],
     "id": ""
    }
   },
   "outputs": [],
   "source": [
    "var f = function(a, b) {\n",
    "  arguments[0] = 3;\n",
    "  arguments[1] = 2;\n",
    "  return a + b;\n",
    "}\n",
    "\n",
    "f(1, 1) // 5"
   ]
  },
  {
   "cell_type": "markdown",
   "id": "0564d2e1",
   "metadata": {},
   "source": [
    "上面代码中，函数`f()`调用时传入的参数，在函数内部被修改成`3`和`2`。\n",
    "\n",
    "严格模式下，`arguments`对象与函数参数不具有联动关系。也就是说，修改`arguments`对象不会影响到实际的函数参数。"
   ]
  },
  {
   "cell_type": "code",
   "execution_count": null,
   "id": "5b921c48",
   "metadata": {
    "attributes": {
     "classes": [
      "javascript"
     ],
     "id": ""
    }
   },
   "outputs": [],
   "source": [
    "var f = function(a, b) {\n",
    "  'use strict'; // 开启严格模式\n",
    "  arguments[0] = 3;\n",
    "  arguments[1] = 2;\n",
    "  return a + b;\n",
    "}\n",
    "\n",
    "f(1, 1) // 2"
   ]
  },
  {
   "cell_type": "markdown",
   "id": "f03b8600",
   "metadata": {},
   "source": [
    "上面代码中，函数体内是严格模式，这时修改`arguments`对象，不会影响到真实参数`a`和`b`。\n",
    "\n",
    "通过`arguments`对象的`length`属性，可以判断函数调用时到底带几个参数。"
   ]
  },
  {
   "cell_type": "code",
   "execution_count": null,
   "id": "87b07f79",
   "metadata": {
    "attributes": {
     "classes": [
      "javascript"
     ],
     "id": ""
    }
   },
   "outputs": [],
   "source": [
    "function f() {\n",
    "  return arguments.length;\n",
    "}\n",
    "\n",
    "f(1, 2, 3) // 3\n",
    "f(1) // 1\n",
    "f() // 0"
   ]
  },
  {
   "cell_type": "markdown",
   "id": "1489b249",
   "metadata": {},
   "source": [
    "**（2）与数组的关系**\n",
    "\n",
    "需要注意的是，虽然`arguments`很像数组，但它是一个对象。数组专有的方法（比如`slice`和`forEach`），不能在`arguments`对象上直接使用。\n",
    "\n",
    "如果要让`arguments`对象使用数组方法，真正的解决方法是将`arguments`转为真正的数组。下面是两种常用的转换方法：`slice`方法和逐一填入新数组。"
   ]
  },
  {
   "cell_type": "code",
   "execution_count": null,
   "id": "8ed9f629",
   "metadata": {
    "attributes": {
     "classes": [
      "javascript"
     ],
     "id": ""
    }
   },
   "outputs": [],
   "source": [
    "var args = Array.prototype.slice.call(arguments);\n",
    "\n",
    "// 或者\n",
    "var args = [];\n",
    "for (var i = 0; i < arguments.length; i++) {\n",
    "  args.push(arguments[i]);\n",
    "}"
   ]
  },
  {
   "cell_type": "markdown",
   "id": "b4ae2cc6",
   "metadata": {},
   "source": [
    "**（3）callee 属性**\n",
    "\n",
    "`arguments`对象带有一个`callee`属性，返回它所对应的原函数。"
   ]
  },
  {
   "cell_type": "code",
   "execution_count": null,
   "id": "a1aa6619",
   "metadata": {
    "attributes": {
     "classes": [
      "javascript"
     ],
     "id": ""
    }
   },
   "outputs": [],
   "source": [
    "var f = function () {\n",
    "  console.log(arguments.callee === f);\n",
    "}\n",
    "\n",
    "f() // true"
   ]
  },
  {
   "cell_type": "markdown",
   "id": "771636c9",
   "metadata": {},
   "source": [
    "可以通过`arguments.callee`，达到调用函数自身的目的。这个属性在严格模式里面是禁用的，因此不建议使用。\n",
    "\n",
    "## 函数的其他知识点\n",
    "\n",
    "### 闭包\n",
    "\n",
    "闭包（closure）是 JavaScript 语言的一个难点，也是它的特色，很多高级应用都要依靠闭包实现。\n",
    "\n",
    "理解闭包，首先必须理解变量作用域。前面提到，JavaScript 有两种作用域：全局作用域和函数作用域。函数内部可以直接读取全局变量。"
   ]
  },
  {
   "cell_type": "code",
   "execution_count": null,
   "id": "198f91dc",
   "metadata": {
    "attributes": {
     "classes": [
      "javascript"
     ],
     "id": ""
    }
   },
   "outputs": [],
   "source": [
    "var n = 999;\n",
    "\n",
    "function f1() {\n",
    "  console.log(n);\n",
    "}\n",
    "f1() // 999"
   ]
  },
  {
   "cell_type": "markdown",
   "id": "d8a38cfd",
   "metadata": {},
   "source": [
    "上面代码中，函数`f1`可以读取全局变量`n`。\n",
    "\n",
    "但是，正常情况下，函数外部无法读取函数内部声明的变量。"
   ]
  },
  {
   "cell_type": "code",
   "execution_count": null,
   "id": "d6f60110",
   "metadata": {
    "attributes": {
     "classes": [
      "javascript"
     ],
     "id": ""
    }
   },
   "outputs": [],
   "source": [
    "function f1() {\n",
    "  var n = 999;\n",
    "}\n",
    "\n",
    "console.log(n)\n",
    "// Uncaught ReferenceError: n is not defined("
   ]
  },
  {
   "cell_type": "markdown",
   "id": "d2748ad2",
   "metadata": {},
   "source": [
    "上面代码中，函数`f1`内部声明的变量`n`，函数外是无法读取的。\n",
    "\n",
    "如果出于种种原因，需要得到函数内的局部变量。正常情况下，这是办不到的，只有通过变通方法才能实现。那就是在函数的内部，再定义一个函数。"
   ]
  },
  {
   "cell_type": "code",
   "execution_count": null,
   "id": "9f029a60",
   "metadata": {
    "attributes": {
     "classes": [
      "javascript"
     ],
     "id": ""
    }
   },
   "outputs": [],
   "source": [
    "function f1() {\n",
    "  var n = 999;\n",
    "  function f2() {\n",
    "　　console.log(n); // 999\n",
    "  }\n",
    "}"
   ]
  },
  {
   "cell_type": "markdown",
   "id": "22ab9098",
   "metadata": {},
   "source": [
    "上面代码中，函数`f2`就在函数`f1`内部，这时`f1`内部的所有局部变量，对`f2`都是可见的。但是反过来就不行，`f2`内部的局部变量，对`f1`就是不可见的。这就是 JavaScript 语言特有的\"链式作用域\"结构（chain scope），子对象会一级一级地向上寻找所有父对象的变量。所以，父对象的所有变量，对子对象都是可见的，反之则不成立。\n",
    "\n",
    "既然`f2`可以读取`f1`的局部变量，那么只要把`f2`作为返回值，我们不就可以在`f1`外部读取它的内部变量了吗！"
   ]
  },
  {
   "cell_type": "code",
   "execution_count": null,
   "id": "f821208f",
   "metadata": {
    "attributes": {
     "classes": [
      "javascript"
     ],
     "id": ""
    }
   },
   "outputs": [],
   "source": [
    "function f1() {\n",
    "  var n = 999;\n",
    "  function f2() {\n",
    "    console.log(n);\n",
    "  }\n",
    "  return f2;\n",
    "}\n",
    "\n",
    "var result = f1();\n",
    "result(); // 999"
   ]
  },
  {
   "cell_type": "markdown",
   "id": "99b0d564",
   "metadata": {},
   "source": [
    "上面代码中，函数`f1`的返回值就是函数`f2`，由于`f2`可以读取`f1`的内部变量，所以就可以在外部获得`f1`的内部变量了。\n",
    "\n",
    "闭包就是函数`f2`，即能够读取其他函数内部变量的函数。由于在 JavaScript 语言中，只有函数内部的子函数才能读取内部变量，因此可以把闭包简单理解成“定义在一个函数内部的函数”。闭包最大的特点，就是它可以“记住”诞生的环境，比如`f2`记住了它诞生的环境`f1`，所以从`f2`可以得到`f1`的内部变量。在本质上，闭包就是将函数内部和函数外部连接起来的一座桥梁。\n",
    "\n",
    "闭包的最大用处有两个，一个是可以读取外层函数内部的变量，另一个就是让这些变量始终保持在内存中，即闭包可以使得它诞生环境一直存在。请看下面的例子，闭包使得内部变量记住上一次调用时的运算结果。"
   ]
  },
  {
   "cell_type": "code",
   "execution_count": null,
   "id": "a99edf5f",
   "metadata": {
    "attributes": {
     "classes": [
      "javascript"
     ],
     "id": ""
    }
   },
   "outputs": [],
   "source": [
    "function createIncrementor(start) {\n",
    "  return function () {\n",
    "    return start++;\n",
    "  };\n",
    "}\n",
    "\n",
    "var inc = createIncrementor(5);\n",
    "\n",
    "inc() // 5\n",
    "inc() // 6\n",
    "inc() // 7"
   ]
  },
  {
   "cell_type": "markdown",
   "id": "ba93f9a8",
   "metadata": {},
   "source": [
    "上面代码中，`start`是函数`createIncrementor`的内部变量。通过闭包，`start`的状态被保留了，每一次调用都是在上一次调用的基础上进行计算。从中可以看到，闭包`inc`使得函数`createIncrementor`的内部环境，一直存在。所以，闭包可以看作是函数内部作用域的一个接口。\n",
    "\n",
    "为什么闭包能够返回外层函数的内部变量？原因是闭包（上例的`inc`）用到了外层变量（`start`），导致外层函数（`createIncrementor`）不能从内存释放。只要闭包没有被垃圾回收机制清除，外层函数提供的运行环境也不会被清除，它的内部变量就始终保存着当前值，供闭包读取。\n",
    "\n",
    "闭包的另一个用处，是封装对象的私有属性和私有方法。"
   ]
  },
  {
   "cell_type": "code",
   "execution_count": null,
   "id": "b9405269",
   "metadata": {
    "attributes": {
     "classes": [
      "javascript"
     ],
     "id": ""
    }
   },
   "outputs": [],
   "source": [
    "function Person(name) {\n",
    "  var _age;\n",
    "  function setAge(n) {\n",
    "    _age = n;\n",
    "  }\n",
    "  function getAge() {\n",
    "    return _age;\n",
    "  }\n",
    "\n",
    "  return {\n",
    "    name: name,\n",
    "    getAge: getAge,\n",
    "    setAge: setAge\n",
    "  };\n",
    "}\n",
    "\n",
    "var p1 = Person('张三');\n",
    "p1.setAge(25);\n",
    "p1.getAge() // 25"
   ]
  },
  {
   "cell_type": "markdown",
   "id": "afb469b7",
   "metadata": {},
   "source": [
    "上面代码中，函数`Person`的内部变量`_age`，通过闭包`getAge`和`setAge`，变成了返回对象`p1`的私有变量。\n",
    "\n",
    "注意，外层函数每次运行，都会生成一个新的闭包，而这个闭包又会保留外层函数的内部变量，所以内存消耗很大。因此不能滥用闭包，否则会造成网页的性能问题。\n",
    "\n",
    "### 立即调用的函数表达式（IIFE）\n",
    "\n",
    "根据 JavaScript 的语法，圆括号`()`跟在函数名之后，表示调用该函数。比如，`print()`就表示调用`print`函数。\n",
    "\n",
    "有时，我们需要在定义函数之后，立即调用该函数。这时，你不能在函数的定义之后加上圆括号，这会产生语法错误。"
   ]
  },
  {
   "cell_type": "code",
   "execution_count": null,
   "id": "5e06c99a",
   "metadata": {
    "attributes": {
     "classes": [
      "javascript"
     ],
     "id": ""
    }
   },
   "outputs": [],
   "source": [
    "function(){ /* code */ }();\n",
    "// SyntaxError: Unexpected token ("
   ]
  },
  {
   "cell_type": "markdown",
   "id": "1f235433",
   "metadata": {},
   "source": [
    "产生这个错误的原因是，`function`这个关键字既可以当作语句，也可以当作表达式。"
   ]
  },
  {
   "cell_type": "code",
   "execution_count": null,
   "id": "4475e171",
   "metadata": {
    "attributes": {
     "classes": [
      "javascript"
     ],
     "id": ""
    }
   },
   "outputs": [],
   "source": [
    "// 语句\n",
    "function f() {}\n",
    "\n",
    "// 表达式\n",
    "var f = function f() {}"
   ]
  },
  {
   "cell_type": "markdown",
   "id": "739dc192",
   "metadata": {},
   "source": [
    "当作表达式时，函数可以定义后直接加圆括号调用。"
   ]
  },
  {
   "cell_type": "code",
   "execution_count": null,
   "id": "beb7f023",
   "metadata": {
    "attributes": {
     "classes": [
      "javascript"
     ],
     "id": ""
    }
   },
   "outputs": [],
   "source": [
    "var f = function f(){ return 1}();\n",
    "f // 1"
   ]
  },
  {
   "cell_type": "markdown",
   "id": "8889139c",
   "metadata": {},
   "source": [
    "上面的代码中，函数定义后直接加圆括号调用，没有报错。原因就是`function`作为表达式，引擎就把函数定义当作一个值。这种情况下，就不会报错。\n",
    "\n",
    "为了避免解析的歧义，JavaScript 规定，如果`function`关键字出现在行首，一律解释成语句。因此，引擎看到行首是`function`关键字之后，认为这一段都是函数的定义，不应该以圆括号结尾，所以就报错了。\n",
    "\n",
    "函数定义后立即调用的解决方法，就是不要让`function`出现在行首，让引擎将其理解成一个表达式。最简单的处理，就是将其放在一个圆括号里面。"
   ]
  },
  {
   "cell_type": "code",
   "execution_count": null,
   "id": "7f5c1a55",
   "metadata": {
    "attributes": {
     "classes": [
      "javascript"
     ],
     "id": ""
    }
   },
   "outputs": [],
   "source": [
    "(function(){ /* code */ }());\n",
    "// 或者\n",
    "(function(){ /* code */ })();"
   ]
  },
  {
   "cell_type": "markdown",
   "id": "809e20e5",
   "metadata": {},
   "source": [
    "上面两种写法都是以圆括号开头，引擎就会认为后面跟的是一个表达式，而不是函数定义语句，所以就避免了错误。这就叫做“立即调用的函数表达式”（Immediately-Invoked Function Expression），简称 IIFE。\n",
    "\n",
    "注意，上面两种写法最后的分号都是必须的。如果省略分号，遇到连着两个 IIFE，可能就会报错。"
   ]
  },
  {
   "cell_type": "code",
   "execution_count": null,
   "id": "ec41f95a",
   "metadata": {
    "attributes": {
     "classes": [
      "javascript"
     ],
     "id": ""
    }
   },
   "outputs": [],
   "source": [
    "// 报错\n",
    "(function(){ /* code */ }())\n",
    "(function(){ /* code */ }())"
   ]
  },
  {
   "cell_type": "markdown",
   "id": "2890eb89",
   "metadata": {},
   "source": [
    "上面代码的两行之间没有分号，JavaScript 会将它们连在一起解释，将第二行解释为第一行的参数。\n",
    "\n",
    "推而广之，任何让解释器以表达式来处理函数定义的方法，都能产生同样的效果，比如下面三种写法。"
   ]
  },
  {
   "cell_type": "code",
   "execution_count": null,
   "id": "a4008a0a",
   "metadata": {
    "attributes": {
     "classes": [
      "javascript"
     ],
     "id": ""
    }
   },
   "outputs": [],
   "source": [
    "var i = function(){ return 10; }();\n",
    "true && function(){ /* code */ }();\n",
    "0, function(){ /* code */ }();"
   ]
  },
  {
   "cell_type": "markdown",
   "id": "36ebe7da",
   "metadata": {},
   "source": [
    "甚至像下面这样写，也是可以的。"
   ]
  },
  {
   "cell_type": "code",
   "execution_count": null,
   "id": "e099f769",
   "metadata": {
    "attributes": {
     "classes": [
      "javascript"
     ],
     "id": ""
    }
   },
   "outputs": [],
   "source": [
    "!function () { /* code */ }();\n",
    "~function () { /* code */ }();\n",
    "-function () { /* code */ }();\n",
    "+function () { /* code */ }();"
   ]
  },
  {
   "cell_type": "markdown",
   "id": "9905d673",
   "metadata": {},
   "source": [
    "通常情况下，只对匿名函数使用这种“立即执行的函数表达式”。它的目的有两个：一是不必为函数命名，避免了污染全局变量；二是 IIFE 内部形成了一个单独的作用域，可以封装一些外部无法读取的私有变量。"
   ]
  },
  {
   "cell_type": "code",
   "execution_count": null,
   "id": "99358ef5",
   "metadata": {
    "attributes": {
     "classes": [
      "javascript"
     ],
     "id": ""
    }
   },
   "outputs": [],
   "source": [
    "// 写法一\n",
    "var tmp = newData;\n",
    "processData(tmp);\n",
    "storeData(tmp);\n",
    "\n",
    "// 写法二\n",
    "(function () {\n",
    "  var tmp = newData;\n",
    "  processData(tmp);\n",
    "  storeData(tmp);\n",
    "}());"
   ]
  },
  {
   "cell_type": "markdown",
   "id": "0b70bf4a",
   "metadata": {},
   "source": [
    "上面代码中，写法二比写法一更好，因为完全避免了污染全局变量。\n",
    "\n",
    "## eval 命令\n",
    "\n",
    "### 基本用法\n",
    "\n",
    "`eval`命令接受一个字符串作为参数，并将这个字符串当作语句执行。"
   ]
  },
  {
   "cell_type": "code",
   "execution_count": null,
   "id": "495a3ee8",
   "metadata": {
    "attributes": {
     "classes": [
      "javascript"
     ],
     "id": ""
    }
   },
   "outputs": [],
   "source": [
    "eval('var a = 1;');\n",
    "a // 1"
   ]
  },
  {
   "cell_type": "markdown",
   "id": "baada911",
   "metadata": {},
   "source": [
    "上面代码将字符串当作语句运行，生成了变量`a`。\n",
    "\n",
    "如果参数字符串无法当作语句运行，那么就会报错。"
   ]
  },
  {
   "cell_type": "code",
   "execution_count": null,
   "id": "162b02f7",
   "metadata": {
    "attributes": {
     "classes": [
      "javascript"
     ],
     "id": ""
    }
   },
   "outputs": [],
   "source": [
    "eval('3x') // Uncaught SyntaxError: Invalid or unexpected token"
   ]
  },
  {
   "cell_type": "markdown",
   "id": "262a23cf",
   "metadata": {},
   "source": [
    "放在`eval`中的字符串，应该有独自存在的意义，不能用来与`eval`以外的命令配合使用。举例来说，下面的代码将会报错。"
   ]
  },
  {
   "cell_type": "code",
   "execution_count": null,
   "id": "50588ec0",
   "metadata": {
    "attributes": {
     "classes": [
      "javascript"
     ],
     "id": ""
    }
   },
   "outputs": [],
   "source": [
    "eval('return;'); // Uncaught SyntaxError: Illegal return statement"
   ]
  },
  {
   "cell_type": "markdown",
   "id": "65e0648f",
   "metadata": {},
   "source": [
    "上面代码会报错，因为`return`不能单独使用，必须在函数中使用。\n",
    "\n",
    "如果`eval`的参数不是字符串，那么会原样返回。"
   ]
  },
  {
   "cell_type": "code",
   "execution_count": null,
   "id": "d8a72c78",
   "metadata": {
    "attributes": {
     "classes": [
      "javascript"
     ],
     "id": ""
    }
   },
   "outputs": [],
   "source": [
    "eval(123) // 123"
   ]
  },
  {
   "cell_type": "markdown",
   "id": "593e1601",
   "metadata": {},
   "source": [
    "`eval`没有自己的作用域，都在当前作用域内执行，因此可能会修改当前作用域的变量的值，造成安全问题。"
   ]
  },
  {
   "cell_type": "code",
   "execution_count": null,
   "id": "732fd998",
   "metadata": {
    "attributes": {
     "classes": [
      "javascript"
     ],
     "id": ""
    }
   },
   "outputs": [],
   "source": [
    "var a = 1;\n",
    "eval('a = 2');\n",
    "\n",
    "a // 2"
   ]
  },
  {
   "cell_type": "markdown",
   "id": "cf95a0c2",
   "metadata": {},
   "source": [
    "上面代码中，`eval`命令修改了外部变量`a`的值。由于这个原因，`eval`有安全风险。\n",
    "\n",
    "为了防止这种风险，JavaScript 规定，如果使用严格模式，`eval`内部声明的变量，不会影响到外部作用域。"
   ]
  },
  {
   "cell_type": "code",
   "execution_count": null,
   "id": "0a53da64",
   "metadata": {
    "attributes": {
     "classes": [
      "javascript"
     ],
     "id": ""
    }
   },
   "outputs": [],
   "source": [
    "(function f() {\n",
    "  'use strict';\n",
    "  eval('var foo = 123');\n",
    "  console.log(foo);  // ReferenceError: foo is not defined\n",
    "})()"
   ]
  },
  {
   "cell_type": "markdown",
   "id": "9f376731",
   "metadata": {},
   "source": [
    "上面代码中，函数`f`内部是严格模式，这时`eval`内部声明的`foo`变量，就不会影响到外部。\n",
    "\n",
    "不过，即使在严格模式下，`eval`依然可以读写当前作用域的变量。"
   ]
  },
  {
   "cell_type": "code",
   "execution_count": null,
   "id": "d499478e",
   "metadata": {
    "attributes": {
     "classes": [
      "javascript"
     ],
     "id": ""
    }
   },
   "outputs": [],
   "source": [
    "(function f() {\n",
    "  'use strict';\n",
    "  var foo = 1;\n",
    "  eval('foo = 2');\n",
    "  console.log(foo);  // 2\n",
    "})()"
   ]
  },
  {
   "cell_type": "markdown",
   "id": "2cc4ba23",
   "metadata": {},
   "source": [
    "上面代码中，严格模式下，`eval`内部还是改写了外部变量，可见安全风险依然存在。\n",
    "\n",
    "总之，`eval`的本质是在当前作用域之中，注入代码。由于安全风险和不利于 JavaScript 引擎优化执行速度，一般不推荐使用。通常情况下，`eval`最常见的场合是解析 JSON 数据的字符串，不过正确的做法应该是使用原生的`JSON.parse`方法。\n",
    "\n",
    "### eval 的别名调用\n",
    "\n",
    "前面说过`eval`不利于引擎优化执行速度。更麻烦的是，还有下面这种情况，引擎在静态代码分析的阶段，根本无法分辨执行的是`eval`。"
   ]
  },
  {
   "cell_type": "code",
   "execution_count": null,
   "id": "0c1666be",
   "metadata": {
    "attributes": {
     "classes": [
      "javascript"
     ],
     "id": ""
    }
   },
   "outputs": [],
   "source": [
    "var m = eval;\n",
    "m('var x = 1');\n",
    "x // 1"
   ]
  },
  {
   "cell_type": "markdown",
   "id": "825193cb",
   "metadata": {},
   "source": [
    "上面代码中，变量`m`是`eval`的别名。静态代码分析阶段，引擎分辨不出`m('var x = 1')`执行的是`eval`命令。\n",
    "\n",
    "为了保证`eval`的别名不影响代码优化，JavaScript 的标准规定，凡是使用别名执行`eval`，`eval`内部一律是全局作用域。"
   ]
  },
  {
   "cell_type": "code",
   "execution_count": null,
   "id": "7da9c950",
   "metadata": {
    "attributes": {
     "classes": [
      "javascript"
     ],
     "id": ""
    }
   },
   "outputs": [],
   "source": [
    "var a = 1;\n",
    "\n",
    "function f() {\n",
    "  var a = 2;\n",
    "  var e = eval;\n",
    "  e('console.log(a)');\n",
    "}\n",
    "\n",
    "f() // 1"
   ]
  },
  {
   "cell_type": "markdown",
   "id": "b2e71e0a",
   "metadata": {},
   "source": [
    "上面代码中，`eval`是别名调用，所以即使它是在函数中，它的作用域还是全局作用域，因此输出的`a`为全局变量。这样的话，引擎就能确认`e()`不会对当前的函数作用域产生影响，优化的时候就可以把这一行排除掉。\n",
    "\n",
    "`eval`的别名调用的形式五花八门，只要不是直接调用，都属于别名调用，因为引擎只能分辨`eval()`这一种形式是直接调用。"
   ]
  },
  {
   "cell_type": "code",
   "execution_count": null,
   "id": "34b3c1c5",
   "metadata": {
    "attributes": {
     "classes": [
      "javascript"
     ],
     "id": ""
    }
   },
   "outputs": [],
   "source": [
    "eval.call(null, '...')\n",
    "window.eval('...')\n",
    "(1, eval)('...')\n",
    "(eval, eval)('...')"
   ]
  },
  {
   "cell_type": "markdown",
   "id": "e9f99495",
   "metadata": {},
   "source": [
    "上面这些形式都是`eval`的别名调用，作用域都是全局作用域。\n",
    "\n",
    "## 参考链接\n",
    "\n",
    "- Ben Alman, [Immediately-Invoked Function Expression (IIFE)](http://benalman.com/news/2010/11/immediately-invoked-function-expression/)\n",
    "- Mark Daggett, [Functions Explained](https://web.archive.org/web/20160911170816/http://markdaggett.com/blog/2013/02/15/functions-explained/)\n",
    "- Juriy Zaytsev, [Named function expressions demystified](http://kangax.github.io/nfe/)\n",
    "- Marco Rogers polotek, [What is the arguments object?](http://docs.nodejitsu.com/articles/javascript-conventions/what-is-the-arguments-object)\n",
    "- Juriy Zaytsev, [Global eval. What are the options?](http://perfectionkills.com/global-eval-what-are-the-options/)\n",
    "- Axel Rauschmayer, [Evaluating JavaScript code via eval() and new Function()](http://www.2ality.com/2014/01/eval.html)"
   ]
  }
 ],
 "metadata": {},
 "nbformat": 4,
 "nbformat_minor": 5
}

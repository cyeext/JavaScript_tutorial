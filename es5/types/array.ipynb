{
 "cells": [
  {
   "cell_type": "markdown",
   "id": "7df52e05",
   "metadata": {},
   "source": [
    "# 数组\n",
    "\n",
    "## 定义\n",
    "\n",
    "数组（array）是按次序排列的一组值。每个值的位置都有编号（从0开始），整个数组用方括号表示。"
   ]
  },
  {
   "cell_type": "code",
   "execution_count": null,
   "id": "aac0cde5",
   "metadata": {
    "attributes": {
     "classes": [
      "javascript"
     ],
     "id": ""
    }
   },
   "outputs": [],
   "source": [
    "var arr = ['a', 'b', 'c'];"
   ]
  },
  {
   "cell_type": "markdown",
   "id": "067a1f19",
   "metadata": {},
   "source": [
    "上面代码中的`a`、`b`、`c`就构成一个数组，两端的方括号是数组的标志。`a`是0号位置，`b`是1号位置，`c`是2号位置。\n",
    "\n",
    "除了在定义时赋值，数组也可以先定义后赋值。"
   ]
  },
  {
   "cell_type": "code",
   "execution_count": null,
   "id": "9993c9ba",
   "metadata": {
    "attributes": {
     "classes": [
      "javascript"
     ],
     "id": ""
    }
   },
   "outputs": [],
   "source": [
    "var arr = [];\n",
    "\n",
    "arr[0] = 'a';\n",
    "arr[1] = 'b';\n",
    "arr[2] = 'c';"
   ]
  },
  {
   "cell_type": "markdown",
   "id": "4ccf4ecd",
   "metadata": {},
   "source": [
    "任何类型的数据，都可以放入数组。"
   ]
  },
  {
   "cell_type": "code",
   "execution_count": null,
   "id": "ac2951bf",
   "metadata": {
    "attributes": {
     "classes": [
      "javascript"
     ],
     "id": ""
    }
   },
   "outputs": [],
   "source": [
    "var arr = [\n",
    "  {a: 1},\n",
    "  [1, 2, 3],\n",
    "  function() {return true;}\n",
    "];\n",
    "\n",
    "arr[0] // Object {a: 1}\n",
    "arr[1] // [1, 2, 3]\n",
    "arr[2] // function (){return true;}"
   ]
  },
  {
   "cell_type": "markdown",
   "id": "25d1df81",
   "metadata": {},
   "source": [
    "上面数组`arr`的3个成员依次是对象、数组、函数。\n",
    "\n",
    "如果数组的元素还是数组，就形成了多维数组。"
   ]
  },
  {
   "cell_type": "code",
   "execution_count": null,
   "id": "bf6b2f02",
   "metadata": {
    "attributes": {
     "classes": [
      "javascript"
     ],
     "id": ""
    }
   },
   "outputs": [],
   "source": [
    "var a = [[1, 2], [3, 4]];\n",
    "a[0][1] // 2\n",
    "a[1][1] // 4"
   ]
  },
  {
   "cell_type": "markdown",
   "id": "f1d4698d",
   "metadata": {},
   "source": [
    "## 数组的本质\n",
    "\n",
    "本质上，数组属于一种特殊的对象。`typeof`运算符会返回数组的类型是`object`。"
   ]
  },
  {
   "cell_type": "code",
   "execution_count": null,
   "id": "1a93ffdd",
   "metadata": {
    "attributes": {
     "classes": [
      "javascript"
     ],
     "id": ""
    }
   },
   "outputs": [],
   "source": [
    "typeof [1, 2, 3] // \"object\""
   ]
  },
  {
   "cell_type": "markdown",
   "id": "3b619831",
   "metadata": {},
   "source": [
    "上面代码表明，`typeof`运算符认为数组的类型就是对象。\n",
    "\n",
    "数组的特殊性体现在，它的键名是按次序排列的一组整数（0，1，2...）。"
   ]
  },
  {
   "cell_type": "code",
   "execution_count": null,
   "id": "c3bd2df7",
   "metadata": {
    "attributes": {
     "classes": [
      "javascript"
     ],
     "id": ""
    }
   },
   "outputs": [],
   "source": [
    "var arr = ['a', 'b', 'c'];\n",
    "\n",
    "Object.keys(arr)\n",
    "// [\"0\", \"1\", \"2\"]"
   ]
  },
  {
   "cell_type": "markdown",
   "id": "07729c52",
   "metadata": {},
   "source": [
    "上面代码中，`Object.keys`方法返回数组的所有键名。可以看到数组的键名就是整数0、1、2。\n",
    "\n",
    "由于数组成员的键名是固定的（默认总是0、1、2...），因此数组不用为每个元素指定键名，而对象的每个成员都必须指定键名。JavaScript 语言规定，对象的键名一律为字符串，所以，数组的键名其实也是字符串。之所以可以用数值读取，是因为非字符串的键名会被转为字符串。"
   ]
  },
  {
   "cell_type": "code",
   "execution_count": null,
   "id": "a369bccd",
   "metadata": {
    "attributes": {
     "classes": [
      "javascript"
     ],
     "id": ""
    }
   },
   "outputs": [],
   "source": [
    "var arr = ['a', 'b', 'c'];\n",
    "\n",
    "arr['0'] // 'a'\n",
    "arr[0] // 'a'"
   ]
  },
  {
   "cell_type": "markdown",
   "id": "7ca40774",
   "metadata": {},
   "source": [
    "上面代码分别用数值和字符串作为键名，结果都能读取数组。原因是数值键名被自动转为了字符串。\n",
    "\n",
    "注意，这点在赋值时也成立。一个值总是先转成字符串，再作为键名进行赋值。"
   ]
  },
  {
   "cell_type": "code",
   "execution_count": null,
   "id": "38e1bb2b",
   "metadata": {
    "attributes": {
     "classes": [
      "javascript"
     ],
     "id": ""
    }
   },
   "outputs": [],
   "source": [
    "var a = [];\n",
    "\n",
    "a[1.00] = 6;\n",
    "a[1] // 6"
   ]
  },
  {
   "cell_type": "markdown",
   "id": "bcedc552",
   "metadata": {},
   "source": [
    "上面代码中，由于`1.00`转成字符串是`1`，所以通过数字键`1`可以读取值。\n",
    "\n",
    "上一章说过，对象有两种读取成员的方法：点结构（`object.key`）和方括号结构（`object[key]`）。但是，对于数值的键名，不能使用点结构。"
   ]
  },
  {
   "cell_type": "code",
   "execution_count": null,
   "id": "9d4084d1",
   "metadata": {
    "attributes": {
     "classes": [
      "javascript"
     ],
     "id": ""
    }
   },
   "outputs": [],
   "source": [
    "var arr = [1, 2, 3];\n",
    "arr.0 // SyntaxError"
   ]
  },
  {
   "cell_type": "markdown",
   "id": "85ecf5bd",
   "metadata": {},
   "source": [
    "上面代码中，`arr.0`的写法不合法，因为单独的数值不能作为标识符（identifier）。所以，数组成员只能用方括号`arr[0]`表示（方括号是运算符，可以接受数值）。\n",
    "\n",
    "## length 属性\n",
    "\n",
    "数组的`length`属性，返回数组的成员数量。"
   ]
  },
  {
   "cell_type": "code",
   "execution_count": null,
   "id": "a24e40a8",
   "metadata": {
    "attributes": {
     "classes": [
      "javascript"
     ],
     "id": ""
    }
   },
   "outputs": [],
   "source": [
    "['a', 'b', 'c'].length // 3"
   ]
  },
  {
   "cell_type": "markdown",
   "id": "d86fb2b9",
   "metadata": {},
   "source": [
    "JavaScript 使用一个32位整数，保存数组的元素个数。这意味着，数组成员最多只有 4294967295 个（2<sup>32</sup> - 1）个，也就是说`length`属性的最大值就是 4294967295。\n",
    "\n",
    "只要是数组，就一定有`length`属性。该属性是一个动态的值，等于键名中的最大整数加上`1`。"
   ]
  },
  {
   "cell_type": "code",
   "execution_count": null,
   "id": "a39c5853",
   "metadata": {
    "attributes": {
     "classes": [
      "javascript"
     ],
     "id": ""
    }
   },
   "outputs": [],
   "source": [
    "var arr = ['a', 'b'];\n",
    "arr.length // 2\n",
    "\n",
    "arr[2] = 'c';\n",
    "arr.length // 3\n",
    "\n",
    "arr[9] = 'd';\n",
    "arr.length // 10\n",
    "\n",
    "arr[1000] = 'e';\n",
    "arr.length // 1001"
   ]
  },
  {
   "cell_type": "markdown",
   "id": "c1e461eb",
   "metadata": {},
   "source": [
    "上面代码表示，数组的数字键不需要连续，`length`属性的值总是比最大的那个整数键大`1`。另外，这也表明数组是一种动态的数据结构，可以随时增减数组的成员。\n",
    "\n",
    "`length`属性是可写的。如果人为设置一个小于当前成员个数的值，该数组的成员数量会自动减少到`length`设置的值。"
   ]
  },
  {
   "cell_type": "code",
   "execution_count": null,
   "id": "a3ecad89",
   "metadata": {
    "attributes": {
     "classes": [
      "javascript"
     ],
     "id": ""
    }
   },
   "outputs": [],
   "source": [
    "var arr = [ 'a', 'b', 'c' ];\n",
    "arr.length // 3\n",
    "\n",
    "arr.length = 2;\n",
    "arr // [\"a\", \"b\"]"
   ]
  },
  {
   "cell_type": "markdown",
   "id": "80708be8",
   "metadata": {},
   "source": [
    "上面代码表示，当数组的`length`属性设为2（即最大的整数键只能是1）那么整数键2（值为`c`）就已经不在数组中了，被自动删除了。\n",
    "\n",
    "清空数组的一个有效方法，就是将`length`属性设为0。"
   ]
  },
  {
   "cell_type": "code",
   "execution_count": null,
   "id": "f0335bc9",
   "metadata": {
    "attributes": {
     "classes": [
      "javascript"
     ],
     "id": ""
    }
   },
   "outputs": [],
   "source": [
    "var arr = [ 'a', 'b', 'c' ];\n",
    "\n",
    "arr.length = 0;\n",
    "arr // []"
   ]
  },
  {
   "cell_type": "markdown",
   "id": "64daf874",
   "metadata": {},
   "source": [
    "如果人为设置`length`大于当前元素个数，则数组的成员数量会增加到这个值，新增的位置都是空位。"
   ]
  },
  {
   "cell_type": "code",
   "execution_count": null,
   "id": "9ce7db89",
   "metadata": {
    "attributes": {
     "classes": [
      "javascript"
     ],
     "id": ""
    }
   },
   "outputs": [],
   "source": [
    "var a = ['a'];\n",
    "\n",
    "a.length = 3;\n",
    "a[1] // undefined"
   ]
  },
  {
   "cell_type": "markdown",
   "id": "58339e63",
   "metadata": {},
   "source": [
    "上面代码表示，当`length`属性设为大于数组个数时，读取新增的位置都会返回`undefined`。\n",
    "\n",
    "如果人为设置`length`为不合法的值，JavaScript 会报错。"
   ]
  },
  {
   "cell_type": "code",
   "execution_count": null,
   "id": "634d3af6",
   "metadata": {
    "attributes": {
     "classes": [
      "javascript"
     ],
     "id": ""
    }
   },
   "outputs": [],
   "source": [
    "// 设置负值\n",
    "[].length = -1\n",
    "// RangeError: Invalid array length\n",
    "\n",
    "// 数组元素个数大于等于2的32次方\n",
    "[].length = Math.pow(2, 32)\n",
    "// RangeError: Invalid array length\n",
    "\n",
    "// 设置字符串\n",
    "[].length = 'abc'\n",
    "// RangeError: Invalid array length"
   ]
  },
  {
   "cell_type": "markdown",
   "id": "c7134c97",
   "metadata": {},
   "source": [
    "值得注意的是，由于数组本质上是一种对象，所以可以为数组添加属性，但是这不影响`length`属性的值。"
   ]
  },
  {
   "cell_type": "code",
   "execution_count": null,
   "id": "2470a2c4",
   "metadata": {
    "attributes": {
     "classes": [
      "javascript"
     ],
     "id": ""
    }
   },
   "outputs": [],
   "source": [
    "var a = [];\n",
    "\n",
    "a['p'] = 'abc';\n",
    "a.length // 0\n",
    "\n",
    "a[2.1] = 'abc';\n",
    "a.length // 0"
   ]
  },
  {
   "cell_type": "markdown",
   "id": "4cc19d75",
   "metadata": {},
   "source": [
    "上面代码将数组的键分别设为字符串和小数，结果都不影响`length`属性。因为，`length`属性的值就是等于最大的数字键加1，而这个数组没有整数键，所以`length`属性保持为`0`。\n",
    "\n",
    "如果数组的键名是添加超出范围的数值，该键名会自动转为字符串。"
   ]
  },
  {
   "cell_type": "code",
   "execution_count": null,
   "id": "775e213d",
   "metadata": {
    "attributes": {
     "classes": [
      "javascript"
     ],
     "id": ""
    }
   },
   "outputs": [],
   "source": [
    "var arr = [];\n",
    "arr[-1] = 'a';\n",
    "arr[Math.pow(2, 32)] = 'b';\n",
    "\n",
    "arr.length // 0\n",
    "arr[-1] // \"a\"\n",
    "arr[4294967296] // \"b\""
   ]
  },
  {
   "cell_type": "markdown",
   "id": "1f307e8a",
   "metadata": {},
   "source": [
    "上面代码中，我们为数组`arr`添加了两个不合法的数字键，结果`length`属性没有发生变化。这些数字键都变成了字符串键名。最后两行之所以会取到值，是因为取键值时，数字键名会默认转为字符串。\n",
    "\n",
    "## in 运算符\n",
    "\n",
    "检查某个键名是否存在的运算符`in`，适用于对象，也适用于数组。"
   ]
  },
  {
   "cell_type": "code",
   "execution_count": null,
   "id": "1a9d1178",
   "metadata": {
    "attributes": {
     "classes": [
      "javascript"
     ],
     "id": ""
    }
   },
   "outputs": [],
   "source": [
    "var arr = [ 'a', 'b', 'c' ];\n",
    "2 in arr  // true\n",
    "'2' in arr // true\n",
    "4 in arr // false"
   ]
  },
  {
   "cell_type": "markdown",
   "id": "a8a09064",
   "metadata": {},
   "source": [
    "上面代码表明，数组存在键名为`2`的键。由于键名都是字符串，所以数值`2`会自动转成字符串。\n",
    "\n",
    "注意，如果数组的某个位置是空位，`in`运算符返回`false`。"
   ]
  },
  {
   "cell_type": "code",
   "execution_count": null,
   "id": "2422d5d8",
   "metadata": {
    "attributes": {
     "classes": [
      "javascript"
     ],
     "id": ""
    }
   },
   "outputs": [],
   "source": [
    "var arr = [];\n",
    "arr[100] = 'a';\n",
    "\n",
    "100 in arr // true\n",
    "1 in arr // false"
   ]
  },
  {
   "cell_type": "markdown",
   "id": "173955c6",
   "metadata": {},
   "source": [
    "上面代码中，数组`arr`只有一个成员`arr[100]`，其他位置的键名都会返回`false`。\n",
    "\n",
    "## for...in 循环和数组的遍历\n",
    "\n",
    "`for...in`循环不仅可以遍历对象，也可以遍历数组，毕竟数组只是一种特殊对象。"
   ]
  },
  {
   "cell_type": "code",
   "execution_count": null,
   "id": "11dd5ebf",
   "metadata": {
    "attributes": {
     "classes": [
      "javascript"
     ],
     "id": ""
    }
   },
   "outputs": [],
   "source": [
    "var a = [1, 2, 3];\n",
    "\n",
    "for (var i in a) {\n",
    "  console.log(a[i]);\n",
    "}\n",
    "// 1\n",
    "// 2\n",
    "// 3"
   ]
  },
  {
   "cell_type": "markdown",
   "id": "fe0a2616",
   "metadata": {},
   "source": [
    "但是，`for...in`不仅会遍历数组所有的数字键，还会遍历非数字键。"
   ]
  },
  {
   "cell_type": "code",
   "execution_count": null,
   "id": "77b9b550",
   "metadata": {
    "attributes": {
     "classes": [
      "javascript"
     ],
     "id": ""
    }
   },
   "outputs": [],
   "source": [
    "var a = [1, 2, 3];\n",
    "a.foo = true;\n",
    "\n",
    "for (var key in a) {\n",
    "  console.log(key);\n",
    "}\n",
    "// 0\n",
    "// 1\n",
    "// 2\n",
    "// foo"
   ]
  },
  {
   "cell_type": "markdown",
   "id": "915e6d36",
   "metadata": {},
   "source": [
    "上面代码在遍历数组时，也遍历到了非整数键`foo`。所以，不推荐使用`for...in`遍历数组。\n",
    "\n",
    "数组的遍历可以考虑使用`for`循环或`while`循环。"
   ]
  },
  {
   "cell_type": "code",
   "execution_count": null,
   "id": "e75e130d",
   "metadata": {
    "attributes": {
     "classes": [
      "javascript"
     ],
     "id": ""
    }
   },
   "outputs": [],
   "source": [
    "var a = [1, 2, 3];\n",
    "\n",
    "// for循环\n",
    "for(var i = 0; i < a.length; i++) {\n",
    "  console.log(a[i]);\n",
    "}\n",
    "\n",
    "// while循环\n",
    "var i = 0;\n",
    "while (i < a.length) {\n",
    "  console.log(a[i]);\n",
    "  i++;\n",
    "}\n",
    "\n",
    "var l = a.length;\n",
    "while (l--) {\n",
    "  console.log(a[l]);\n",
    "}"
   ]
  },
  {
   "cell_type": "markdown",
   "id": "23b55195",
   "metadata": {},
   "source": [
    "上面代码是三种遍历数组的写法。最后一种写法是逆向遍历，即从最后一个元素向第一个元素遍历。\n",
    "\n",
    "数组的`forEach`方法，也可以用来遍历数组，详见《标准库》的 Array 对象一章。"
   ]
  },
  {
   "cell_type": "code",
   "execution_count": null,
   "id": "42bac9f9",
   "metadata": {
    "attributes": {
     "classes": [
      "javascript"
     ],
     "id": ""
    }
   },
   "outputs": [],
   "source": [
    "var colors = ['red', 'green', 'blue'];\n",
    "colors.forEach(function (color) {\n",
    "  console.log(color);\n",
    "});\n",
    "// red\n",
    "// green\n",
    "// blue"
   ]
  },
  {
   "cell_type": "markdown",
   "id": "e0eef13b",
   "metadata": {},
   "source": [
    "## 数组的空位\n",
    "\n",
    "当数组的某个位置是空元素，即两个逗号之间没有任何值，我们称该数组存在空位（hole）。"
   ]
  },
  {
   "cell_type": "code",
   "execution_count": null,
   "id": "42706c6b",
   "metadata": {
    "attributes": {
     "classes": [
      "javascript"
     ],
     "id": ""
    }
   },
   "outputs": [],
   "source": [
    "var a = [1, , 1];\n",
    "a.length // 3"
   ]
  },
  {
   "cell_type": "markdown",
   "id": "febc0455",
   "metadata": {},
   "source": [
    "上面代码表明，数组的空位不影响`length`属性。虽然这个位置没有值，引擎依然认为这个位置是有效的。\n",
    "\n",
    "需要注意的是，如果最后一个元素后面有逗号，并不会产生空位。也就是说，有没有这个逗号，结果都是一样的。"
   ]
  },
  {
   "cell_type": "code",
   "execution_count": null,
   "id": "5f101a6e",
   "metadata": {
    "attributes": {
     "classes": [
      "javascript"
     ],
     "id": ""
    }
   },
   "outputs": [],
   "source": [
    "var a = [1, 2, 3,];\n",
    "\n",
    "a.length // 3\n",
    "a // [1, 2, 3]"
   ]
  },
  {
   "cell_type": "markdown",
   "id": "5ff31f4d",
   "metadata": {},
   "source": [
    "上面代码中，数组最后一个成员后面有一个逗号，这不影响`length`属性的值，与没有这个逗号时效果一样。\n",
    "\n",
    "数组的空位是可以读取的，返回`undefined`。"
   ]
  },
  {
   "cell_type": "code",
   "execution_count": null,
   "id": "15d4d6be",
   "metadata": {
    "attributes": {
     "classes": [
      "javascript"
     ],
     "id": ""
    }
   },
   "outputs": [],
   "source": [
    "var a = [, , ,];\n",
    "a[1] // undefined"
   ]
  },
  {
   "cell_type": "markdown",
   "id": "1e257e4d",
   "metadata": {},
   "source": [
    "使用`delete`命令删除一个数组成员，会形成空位，并且不会影响`length`属性。"
   ]
  },
  {
   "cell_type": "code",
   "execution_count": null,
   "id": "b92c21e3",
   "metadata": {
    "attributes": {
     "classes": [
      "javascript"
     ],
     "id": ""
    }
   },
   "outputs": [],
   "source": [
    "var a = [1, 2, 3];\n",
    "delete a[1];\n",
    "\n",
    "a[1] // undefined\n",
    "a.length // 3"
   ]
  },
  {
   "cell_type": "markdown",
   "id": "d7e643e5",
   "metadata": {},
   "source": [
    "上面代码用`delete`命令删除了数组的第二个元素，这个位置就形成了空位，但是对`length`属性没有影响。也就是说，`length`属性不过滤空位。所以，使用`length`属性进行数组遍历，一定要非常小心。\n",
    "\n",
    "数组的某个位置是空位，与某个位置是`undefined`，是不一样的。如果是空位，使用数组的`forEach`方法、`for...in`结构、以及`Object.keys`方法进行遍历，空位都会被跳过。"
   ]
  },
  {
   "cell_type": "code",
   "execution_count": null,
   "id": "ec725f73",
   "metadata": {
    "attributes": {
     "classes": [
      "javascript"
     ],
     "id": ""
    }
   },
   "outputs": [],
   "source": [
    "var a = [, , ,];\n",
    "\n",
    "a.forEach(function (x, i) {\n",
    "  console.log(i + '. ' + x);\n",
    "})\n",
    "// 不产生任何输出\n",
    "\n",
    "for (var i in a) {\n",
    "  console.log(i);\n",
    "}\n",
    "// 不产生任何输出\n",
    "\n",
    "Object.keys(a)\n",
    "// []"
   ]
  },
  {
   "cell_type": "markdown",
   "id": "cb2b9881",
   "metadata": {},
   "source": [
    "如果某个位置是`undefined`，遍历的时候就不会被跳过。"
   ]
  },
  {
   "cell_type": "code",
   "execution_count": null,
   "id": "3e2f6cac",
   "metadata": {
    "attributes": {
     "classes": [
      "javascript"
     ],
     "id": ""
    }
   },
   "outputs": [],
   "source": [
    "var a = [undefined, undefined, undefined];\n",
    "\n",
    "a.forEach(function (x, i) {\n",
    "  console.log(i + '. ' + x);\n",
    "});\n",
    "// 0. undefined\n",
    "// 1. undefined\n",
    "// 2. undefined\n",
    "\n",
    "for (var i in a) {\n",
    "  console.log(i);\n",
    "}\n",
    "// 0\n",
    "// 1\n",
    "// 2\n",
    "\n",
    "Object.keys(a)\n",
    "// ['0', '1', '2']"
   ]
  },
  {
   "cell_type": "markdown",
   "id": "17e0e969",
   "metadata": {},
   "source": [
    "这就是说，空位就是数组没有这个元素，所以不会被遍历到，而`undefined`则表示数组有这个元素，值是`undefined`，所以遍历不会跳过。\n",
    "\n",
    "## 类似数组的对象\n",
    "\n",
    "如果一个对象的所有键名都是正整数或零，并且有`length`属性，那么这个对象就很像数组，语法上称为“类似数组的对象”（array-like object）。"
   ]
  },
  {
   "cell_type": "code",
   "execution_count": null,
   "id": "1c0a6219",
   "metadata": {
    "attributes": {
     "classes": [
      "javascript"
     ],
     "id": ""
    }
   },
   "outputs": [],
   "source": [
    "var obj = {\n",
    "  0: 'a',\n",
    "  1: 'b',\n",
    "  2: 'c',\n",
    "  length: 3\n",
    "};\n",
    "\n",
    "obj[0] // 'a'\n",
    "obj[1] // 'b'\n",
    "obj.length // 3\n",
    "obj.push('d') // TypeError: obj.push is not a function"
   ]
  },
  {
   "cell_type": "markdown",
   "id": "e51ea80b",
   "metadata": {},
   "source": [
    "上面代码中，对象`obj`就是一个类似数组的对象。但是，“类似数组的对象”并不是数组，因为它们不具备数组特有的方法。对象`obj`没有数组的`push`方法，使用该方法就会报错。\n",
    "\n",
    "“类似数组的对象”的根本特征，就是具有`length`属性。只要有`length`属性，就可以认为这个对象类似于数组。但是有一个问题，这种`length`属性不是动态值，不会随着成员的变化而变化。"
   ]
  },
  {
   "cell_type": "code",
   "execution_count": null,
   "id": "8200f9ee",
   "metadata": {
    "attributes": {
     "classes": [
      "javascript"
     ],
     "id": ""
    }
   },
   "outputs": [],
   "source": [
    "var obj = {\n",
    "  length: 0\n",
    "};\n",
    "obj[3] = 'd';\n",
    "obj.length // 0"
   ]
  },
  {
   "cell_type": "markdown",
   "id": "0a625477",
   "metadata": {},
   "source": [
    "上面代码为对象`obj`添加了一个数字键，但是`length`属性没变。这就说明了`obj`不是数组。\n",
    "\n",
    "典型的“类似数组的对象”是函数的`arguments`对象，以及大多数 DOM 元素集，还有字符串。"
   ]
  },
  {
   "cell_type": "code",
   "execution_count": null,
   "id": "48b7ffd6",
   "metadata": {
    "attributes": {
     "classes": [
      "javascript"
     ],
     "id": ""
    }
   },
   "outputs": [],
   "source": [
    "// arguments对象\n",
    "function args() { return arguments }\n",
    "var arrayLike = args('a', 'b');\n",
    "\n",
    "arrayLike[0] // 'a'\n",
    "arrayLike.length // 2\n",
    "arrayLike instanceof Array // false\n",
    "\n",
    "// DOM元素集\n",
    "var elts = document.getElementsByTagName('h3');\n",
    "elts.length // 3\n",
    "elts instanceof Array // false\n",
    "\n",
    "// 字符串\n",
    "'abc'[1] // 'b'\n",
    "'abc'.length // 3\n",
    "'abc' instanceof Array // false"
   ]
  },
  {
   "cell_type": "markdown",
   "id": "86b3c16f",
   "metadata": {},
   "source": [
    "上面代码包含三个例子，它们都不是数组（`instanceof`运算符返回`false`），但是看上去都非常像数组。\n",
    "\n",
    "数组的`slice`方法可以将“类似数组的对象”变成真正的数组。"
   ]
  },
  {
   "cell_type": "code",
   "execution_count": null,
   "id": "b3591c2e",
   "metadata": {
    "attributes": {
     "classes": [
      "javascript"
     ],
     "id": ""
    }
   },
   "outputs": [],
   "source": [
    "var arr = Array.prototype.slice.call(arrayLike);"
   ]
  },
  {
   "cell_type": "markdown",
   "id": "d41a8389",
   "metadata": {},
   "source": [
    "除了转为真正的数组，“类似数组的对象”还有一个办法可以使用数组的方法，就是通过`call()`把数组的方法放到对象上面。"
   ]
  },
  {
   "cell_type": "code",
   "execution_count": null,
   "id": "3d240b31",
   "metadata": {
    "attributes": {
     "classes": [
      "javascript"
     ],
     "id": ""
    }
   },
   "outputs": [],
   "source": [
    "function print(value, index) {\n",
    "  console.log(index + ' : ' + value);\n",
    "}\n",
    "\n",
    "Array.prototype.forEach.call(arrayLike, print);"
   ]
  },
  {
   "cell_type": "markdown",
   "id": "8dad26a8",
   "metadata": {},
   "source": [
    "上面代码中，`arrayLike`代表一个类似数组的对象，本来是不可以使用数组的`forEach()`方法的，但是通过`call()`，可以把`forEach()`嫁接到`arrayLike`上面调用。\n",
    "\n",
    "下面的例子就是通过这种方法，在`arguments`对象上面调用`forEach`方法。"
   ]
  },
  {
   "cell_type": "code",
   "execution_count": null,
   "id": "02fc89a4",
   "metadata": {
    "attributes": {
     "classes": [
      "javascript"
     ],
     "id": ""
    }
   },
   "outputs": [],
   "source": [
    "// forEach 方法\n",
    "function logArgs() {\n",
    "  Array.prototype.forEach.call(arguments, function (elem, i) {\n",
    "    console.log(i + '. ' + elem);\n",
    "  });\n",
    "}\n",
    "\n",
    "// 等同于 for 循环\n",
    "function logArgs() {\n",
    "  for (var i = 0; i < arguments.length; i++) {\n",
    "    console.log(i + '. ' + arguments[i]);\n",
    "  }\n",
    "}"
   ]
  },
  {
   "cell_type": "markdown",
   "id": "1895e263",
   "metadata": {},
   "source": [
    "字符串也是类似数组的对象，所以也可以用`Array.prototype.forEach.call`遍历。"
   ]
  },
  {
   "cell_type": "code",
   "execution_count": null,
   "id": "4f229d88",
   "metadata": {
    "attributes": {
     "classes": [
      "javascript"
     ],
     "id": ""
    }
   },
   "outputs": [],
   "source": [
    "Array.prototype.forEach.call('abc', function (chr) {\n",
    "  console.log(chr);\n",
    "});\n",
    "// a\n",
    "// b\n",
    "// c"
   ]
  },
  {
   "cell_type": "markdown",
   "id": "63cb2e87",
   "metadata": {},
   "source": [
    "注意，这种方法比直接使用数组原生的`forEach`要慢，所以最好还是先将“类似数组的对象”转为真正的数组，然后再直接调用数组的`forEach`方法。"
   ]
  },
  {
   "cell_type": "code",
   "execution_count": null,
   "id": "4bd793e1",
   "metadata": {
    "attributes": {
     "classes": [
      "javascript"
     ],
     "id": ""
    }
   },
   "outputs": [],
   "source": [
    "var arr = Array.prototype.slice.call('abc');\n",
    "arr.forEach(function (chr) {\n",
    "  console.log(chr);\n",
    "});\n",
    "// a\n",
    "// b\n",
    "// c"
   ]
  },
  {
   "cell_type": "markdown",
   "id": "20f72e1f",
   "metadata": {},
   "source": [
    "## 参考链接\n",
    "\n",
    "- Axel Rauschmayer, [Arrays in JavaScript](http://www.2ality.com/2012/12/arrays.html)\n",
    "- Axel Rauschmayer, [JavaScript: sparse arrays vs. dense arrays](http://www.2ality.com/2012/06/dense-arrays.html)\n",
    "- Felix Bohm, [What They Didn’t Tell You About ES5′s Array Extras](http://net.tutsplus.com/tutorials/javascript-ajax/what-they-didnt-tell-you-about-es5s-array-extras/)\n",
    "- Juriy Zaytsev, [How ECMAScript 5 still does not allow to subclass an array](http://perfectionkills.com/how-ecmascript-5-still-does-not-allow-to-subclass-an-array/)"
   ]
  }
 ],
 "metadata": {},
 "nbformat": 4,
 "nbformat_minor": 5
}
